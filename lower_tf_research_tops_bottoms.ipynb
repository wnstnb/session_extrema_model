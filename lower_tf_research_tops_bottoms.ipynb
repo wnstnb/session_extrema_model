{
 "cells": [
  {
   "cell_type": "code",
   "execution_count": 2,
   "metadata": {},
   "outputs": [],
   "source": [
    "from dbConn import engine\n",
    "import pandas as pd\n",
    "import numpy as np"
   ]
  },
  {
   "cell_type": "code",
   "execution_count": 3,
   "metadata": {},
   "outputs": [],
   "source": [
    "data = pd.read_sql_query('''\n",
    "     SELECT \n",
    "        spx.Datetime,\n",
    "        spx.Open AS Open_SPX,\n",
    "        spx.High AS High_SPX,\n",
    "        spx.Low AS Low_SPX,\n",
    "        spx.Close AS Close_SPX,\n",
    "        ndx.Open AS Open_NDX,\n",
    "        ndx.High AS High_NDX,\n",
    "        ndx.Low AS Low_NDX,\n",
    "        ndx.Close AS Close_NDX,\n",
    "        rut.Open AS Open_RUT,\n",
    "        rut.High AS High_RUT,\n",
    "        rut.Low AS Low_RUT,\n",
    "        rut.Close AS Close_RUT\n",
    "       FROM (\n",
    "        SELECT * FROM SPX_full_5min\n",
    "        ) spx\n",
    "        JOIN (\n",
    "        SELECT * FROM NDX_full_5min\n",
    "        ) ndx ON spx.Datetime = ndx.Datetime\n",
    "        JOIN (\n",
    "        SELECT * FROM RUT_full_5min\n",
    "        ) rut ON spx.Datetime = rut.Datetime\n",
    "        WHERE spx.Datetime >= '2020-01-01'\n",
    "''', con = engine.connect())"
   ]
  },
  {
   "cell_type": "code",
   "execution_count": 4,
   "metadata": {},
   "outputs": [],
   "source": [
    "data['Date'] = data['Datetime'].dt.date\n",
    "data['Time'] = data['Datetime'].dt.time"
   ]
  },
  {
   "cell_type": "code",
   "execution_count": 5,
   "metadata": {},
   "outputs": [
    {
     "data": {
      "text/html": [
       "<div>\n",
       "<style scoped>\n",
       "    .dataframe tbody tr th:only-of-type {\n",
       "        vertical-align: middle;\n",
       "    }\n",
       "\n",
       "    .dataframe tbody tr th {\n",
       "        vertical-align: top;\n",
       "    }\n",
       "\n",
       "    .dataframe thead th {\n",
       "        text-align: right;\n",
       "    }\n",
       "</style>\n",
       "<table border=\"1\" class=\"dataframe\">\n",
       "  <thead>\n",
       "    <tr style=\"text-align: right;\">\n",
       "      <th></th>\n",
       "      <th>Datetime</th>\n",
       "      <th>Open_SPX</th>\n",
       "      <th>High_SPX</th>\n",
       "      <th>Low_SPX</th>\n",
       "      <th>Close_SPX</th>\n",
       "      <th>Open_NDX</th>\n",
       "      <th>High_NDX</th>\n",
       "      <th>Low_NDX</th>\n",
       "      <th>Close_NDX</th>\n",
       "      <th>Open_RUT</th>\n",
       "      <th>High_RUT</th>\n",
       "      <th>Low_RUT</th>\n",
       "      <th>Close_RUT</th>\n",
       "      <th>Date</th>\n",
       "      <th>Time</th>\n",
       "    </tr>\n",
       "  </thead>\n",
       "  <tbody>\n",
       "    <tr>\n",
       "      <th>0</th>\n",
       "      <td>2020-01-02 09:30:00</td>\n",
       "      <td>3244.67</td>\n",
       "      <td>3248.08</td>\n",
       "      <td>3244.16</td>\n",
       "      <td>3246.92</td>\n",
       "      <td>8802.22</td>\n",
       "      <td>8817.35</td>\n",
       "      <td>8796.83</td>\n",
       "      <td>8814.99</td>\n",
       "      <td>1675.90</td>\n",
       "      <td>1678.14</td>\n",
       "      <td>1673.69</td>\n",
       "      <td>1674.68</td>\n",
       "      <td>2020-01-02</td>\n",
       "      <td>09:30:00</td>\n",
       "    </tr>\n",
       "    <tr>\n",
       "      <th>1</th>\n",
       "      <td>2020-01-02 09:35:00</td>\n",
       "      <td>3246.89</td>\n",
       "      <td>3249.63</td>\n",
       "      <td>3246.89</td>\n",
       "      <td>3248.39</td>\n",
       "      <td>8815.19</td>\n",
       "      <td>8829.71</td>\n",
       "      <td>8815.19</td>\n",
       "      <td>8826.76</td>\n",
       "      <td>1674.57</td>\n",
       "      <td>1675.63</td>\n",
       "      <td>1674.45</td>\n",
       "      <td>1674.75</td>\n",
       "      <td>2020-01-02</td>\n",
       "      <td>09:35:00</td>\n",
       "    </tr>\n",
       "    <tr>\n",
       "      <th>2</th>\n",
       "      <td>2020-01-02 09:40:00</td>\n",
       "      <td>3248.39</td>\n",
       "      <td>3249.88</td>\n",
       "      <td>3247.81</td>\n",
       "      <td>3248.69</td>\n",
       "      <td>8826.72</td>\n",
       "      <td>8831.23</td>\n",
       "      <td>8822.25</td>\n",
       "      <td>8824.69</td>\n",
       "      <td>1674.77</td>\n",
       "      <td>1674.79</td>\n",
       "      <td>1671.56</td>\n",
       "      <td>1671.56</td>\n",
       "      <td>2020-01-02</td>\n",
       "      <td>09:40:00</td>\n",
       "    </tr>\n",
       "    <tr>\n",
       "      <th>3</th>\n",
       "      <td>2020-01-02 09:45:00</td>\n",
       "      <td>3248.67</td>\n",
       "      <td>3250.04</td>\n",
       "      <td>3247.22</td>\n",
       "      <td>3247.39</td>\n",
       "      <td>8824.52</td>\n",
       "      <td>8825.96</td>\n",
       "      <td>8817.10</td>\n",
       "      <td>8817.74</td>\n",
       "      <td>1671.53</td>\n",
       "      <td>1671.54</td>\n",
       "      <td>1668.07</td>\n",
       "      <td>1668.07</td>\n",
       "      <td>2020-01-02</td>\n",
       "      <td>09:45:00</td>\n",
       "    </tr>\n",
       "    <tr>\n",
       "      <th>4</th>\n",
       "      <td>2020-01-02 09:50:00</td>\n",
       "      <td>3247.38</td>\n",
       "      <td>3248.14</td>\n",
       "      <td>3245.61</td>\n",
       "      <td>3246.18</td>\n",
       "      <td>8817.85</td>\n",
       "      <td>8819.86</td>\n",
       "      <td>8814.75</td>\n",
       "      <td>8817.78</td>\n",
       "      <td>1668.00</td>\n",
       "      <td>1668.00</td>\n",
       "      <td>1666.29</td>\n",
       "      <td>1666.39</td>\n",
       "      <td>2020-01-02</td>\n",
       "      <td>09:50:00</td>\n",
       "    </tr>\n",
       "  </tbody>\n",
       "</table>\n",
       "</div>"
      ],
      "text/plain": [
       "             Datetime  Open_SPX  High_SPX  Low_SPX  Close_SPX  Open_NDX  \\\n",
       "0 2020-01-02 09:30:00   3244.67   3248.08  3244.16    3246.92   8802.22   \n",
       "1 2020-01-02 09:35:00   3246.89   3249.63  3246.89    3248.39   8815.19   \n",
       "2 2020-01-02 09:40:00   3248.39   3249.88  3247.81    3248.69   8826.72   \n",
       "3 2020-01-02 09:45:00   3248.67   3250.04  3247.22    3247.39   8824.52   \n",
       "4 2020-01-02 09:50:00   3247.38   3248.14  3245.61    3246.18   8817.85   \n",
       "\n",
       "   High_NDX  Low_NDX  Close_NDX  Open_RUT  High_RUT  Low_RUT  Close_RUT  \\\n",
       "0   8817.35  8796.83    8814.99   1675.90   1678.14  1673.69    1674.68   \n",
       "1   8829.71  8815.19    8826.76   1674.57   1675.63  1674.45    1674.75   \n",
       "2   8831.23  8822.25    8824.69   1674.77   1674.79  1671.56    1671.56   \n",
       "3   8825.96  8817.10    8817.74   1671.53   1671.54  1668.07    1668.07   \n",
       "4   8819.86  8814.75    8817.78   1668.00   1668.00  1666.29    1666.39   \n",
       "\n",
       "         Date      Time  \n",
       "0  2020-01-02  09:30:00  \n",
       "1  2020-01-02  09:35:00  \n",
       "2  2020-01-02  09:40:00  \n",
       "3  2020-01-02  09:45:00  \n",
       "4  2020-01-02  09:50:00  "
      ]
     },
     "execution_count": 5,
     "metadata": {},
     "output_type": "execute_result"
    }
   ],
   "source": [
    "data.head()"
   ]
  },
  {
   "cell_type": "code",
   "execution_count": 6,
   "metadata": {},
   "outputs": [],
   "source": [
    "import datetime"
   ]
  },
  {
   "cell_type": "code",
   "execution_count": 84,
   "metadata": {},
   "outputs": [],
   "source": [
    "spx_data = data.loc[:,[\n",
    "    'Datetime',\n",
    "    'Open_SPX',\n",
    "    'High_SPX',\n",
    "    'Low_SPX',\n",
    "    'Close_SPX'\n",
    "]]\n",
    "spx_data.columns = ['Datetime','open','high','low','close']\n",
    "spx_data['time'] = spx_data['Datetime'].dt.time\n",
    "spx_data = spx_data.loc[(spx_data['time'] < datetime.time(16,0)) & (spx_data['time'] >= datetime.time(9,30))]"
   ]
  },
  {
   "cell_type": "code",
   "execution_count": 85,
   "metadata": {},
   "outputs": [],
   "source": [
    "spx_data = spx_data.set_index('Datetime')"
   ]
  },
  {
   "cell_type": "code",
   "execution_count": 86,
   "metadata": {},
   "outputs": [],
   "source": [
    "# Get the last bar of each date\n",
    "spx_data['eod_close'] = spx_data.groupby(spx_data.index.date)['close'].tail(1)\n",
    "spx_data['prev_close'] = spx_data['eod_close'].shift(1)\n",
    "spx_data['prev_close'] = spx_data['prev_close'].ffill()\n",
    "spx_data['eod_close'] = spx_data['eod_close'].bfill()\n",
    "spx_data['green_day'] = spx_data['eod_close'] > spx_data['prev_close']\n",
    "\n",
    "spx_data['eod_close_pts'] = spx_data['eod_close'] - spx_data['prev_close']\n",
    "spx_data['eod_close_pct'] = spx_data['eod_close_pts'] / spx_data['prev_close']"
   ]
  },
  {
   "cell_type": "code",
   "execution_count": 87,
   "metadata": {},
   "outputs": [
    {
     "data": {
      "text/html": [
       "<div>\n",
       "<style scoped>\n",
       "    .dataframe tbody tr th:only-of-type {\n",
       "        vertical-align: middle;\n",
       "    }\n",
       "\n",
       "    .dataframe tbody tr th {\n",
       "        vertical-align: top;\n",
       "    }\n",
       "\n",
       "    .dataframe thead th {\n",
       "        text-align: right;\n",
       "    }\n",
       "</style>\n",
       "<table border=\"1\" class=\"dataframe\">\n",
       "  <thead>\n",
       "    <tr style=\"text-align: right;\">\n",
       "      <th></th>\n",
       "      <th>open</th>\n",
       "      <th>high</th>\n",
       "      <th>low</th>\n",
       "      <th>close</th>\n",
       "      <th>time</th>\n",
       "      <th>eod_close</th>\n",
       "      <th>prev_close</th>\n",
       "      <th>green_day</th>\n",
       "      <th>eod_close_pts</th>\n",
       "      <th>eod_close_pct</th>\n",
       "    </tr>\n",
       "    <tr>\n",
       "      <th>Datetime</th>\n",
       "      <th></th>\n",
       "      <th></th>\n",
       "      <th></th>\n",
       "      <th></th>\n",
       "      <th></th>\n",
       "      <th></th>\n",
       "      <th></th>\n",
       "      <th></th>\n",
       "      <th></th>\n",
       "      <th></th>\n",
       "    </tr>\n",
       "  </thead>\n",
       "  <tbody>\n",
       "    <tr>\n",
       "      <th>2023-12-29 15:35:00</th>\n",
       "      <td>4773.29</td>\n",
       "      <td>4774.59</td>\n",
       "      <td>4773.25</td>\n",
       "      <td>4774.08</td>\n",
       "      <td>15:35:00</td>\n",
       "      <td>4772.17</td>\n",
       "      <td>4784.12</td>\n",
       "      <td>False</td>\n",
       "      <td>-11.95</td>\n",
       "      <td>-0.002498</td>\n",
       "    </tr>\n",
       "    <tr>\n",
       "      <th>2023-12-29 15:40:00</th>\n",
       "      <td>4774.07</td>\n",
       "      <td>4775.66</td>\n",
       "      <td>4771.86</td>\n",
       "      <td>4771.86</td>\n",
       "      <td>15:40:00</td>\n",
       "      <td>4772.17</td>\n",
       "      <td>4784.12</td>\n",
       "      <td>False</td>\n",
       "      <td>-11.95</td>\n",
       "      <td>-0.002498</td>\n",
       "    </tr>\n",
       "    <tr>\n",
       "      <th>2023-12-29 15:45:00</th>\n",
       "      <td>4771.78</td>\n",
       "      <td>4772.96</td>\n",
       "      <td>4770.34</td>\n",
       "      <td>4770.34</td>\n",
       "      <td>15:45:00</td>\n",
       "      <td>4772.17</td>\n",
       "      <td>4784.12</td>\n",
       "      <td>False</td>\n",
       "      <td>-11.95</td>\n",
       "      <td>-0.002498</td>\n",
       "    </tr>\n",
       "    <tr>\n",
       "      <th>2023-12-29 15:50:00</th>\n",
       "      <td>4770.31</td>\n",
       "      <td>4774.07</td>\n",
       "      <td>4765.37</td>\n",
       "      <td>4765.45</td>\n",
       "      <td>15:50:00</td>\n",
       "      <td>4772.17</td>\n",
       "      <td>4784.12</td>\n",
       "      <td>False</td>\n",
       "      <td>-11.95</td>\n",
       "      <td>-0.002498</td>\n",
       "    </tr>\n",
       "    <tr>\n",
       "      <th>2023-12-29 15:55:00</th>\n",
       "      <td>4765.57</td>\n",
       "      <td>4774.03</td>\n",
       "      <td>4763.58</td>\n",
       "      <td>4772.17</td>\n",
       "      <td>15:55:00</td>\n",
       "      <td>4772.17</td>\n",
       "      <td>4784.12</td>\n",
       "      <td>False</td>\n",
       "      <td>-11.95</td>\n",
       "      <td>-0.002498</td>\n",
       "    </tr>\n",
       "  </tbody>\n",
       "</table>\n",
       "</div>"
      ],
      "text/plain": [
       "                        open     high      low    close      time  eod_close  \\\n",
       "Datetime                                                                       \n",
       "2023-12-29 15:35:00  4773.29  4774.59  4773.25  4774.08  15:35:00    4772.17   \n",
       "2023-12-29 15:40:00  4774.07  4775.66  4771.86  4771.86  15:40:00    4772.17   \n",
       "2023-12-29 15:45:00  4771.78  4772.96  4770.34  4770.34  15:45:00    4772.17   \n",
       "2023-12-29 15:50:00  4770.31  4774.07  4765.37  4765.45  15:50:00    4772.17   \n",
       "2023-12-29 15:55:00  4765.57  4774.03  4763.58  4772.17  15:55:00    4772.17   \n",
       "\n",
       "                     prev_close  green_day  eod_close_pts  eod_close_pct  \n",
       "Datetime                                                                  \n",
       "2023-12-29 15:35:00     4784.12      False         -11.95      -0.002498  \n",
       "2023-12-29 15:40:00     4784.12      False         -11.95      -0.002498  \n",
       "2023-12-29 15:45:00     4784.12      False         -11.95      -0.002498  \n",
       "2023-12-29 15:50:00     4784.12      False         -11.95      -0.002498  \n",
       "2023-12-29 15:55:00     4784.12      False         -11.95      -0.002498  "
      ]
     },
     "execution_count": 87,
     "metadata": {},
     "output_type": "execute_result"
    }
   ],
   "source": [
    "spx_data.tail()"
   ]
  },
  {
   "cell_type": "code",
   "execution_count": 88,
   "metadata": {},
   "outputs": [],
   "source": [
    "def create_shifted_cols(dataframe, col_name, shift_per):\n",
    "    for i in range(1, shift_per+1):\n",
    "        dataframe[f'{col_name}_shifted_{i}'] = dataframe[col_name].shift(i)"
   ]
  },
  {
   "cell_type": "code",
   "execution_count": 89,
   "metadata": {},
   "outputs": [],
   "source": [
    "import numpy as np\n",
    "import pandas as pd\n",
    "import datetime\n",
    "from pandas.tseries.offsets import BDay\n",
    "\n",
    "spx_data['label'] = np.nan\n",
    "\n",
    "# Per date, run it.\n",
    "for day in sorted(set(spx_data.index.date)):\n",
    "    day_str = datetime.datetime.strftime(day, '%Y-%m-%d')\n",
    "    day_open = spx_data.loc[day_str, 'open'].iloc[0]\n",
    "    spx_data.loc[day_str, 'lod'] = spx_data.loc[day_str, 'low'].min()\n",
    "    spx_data.loc[day_str, 'label_lod'] = (spx_data.loc[day_str, 'low'] == spx_data.loc[day_str, 'lod']).astype(int)\n",
    "    \n",
    "    spx_data.loc[day_str, 'hod'] = spx_data.loc[day_str, 'high'].max()\n",
    "    spx_data.loc[day_str, 'label'] = (spx_data.loc[day_str, 'high'] == spx_data.loc[day_str, 'hod']).astype(int)\n",
    "    spx_data.loc[day_str, 'day_open'] = day_open\n",
    "    spx_data.loc[day_str, 'day_open_pts'] = spx_data.loc[day_str, 'close'] - spx_data.loc[day_str, 'day_open']\n",
    "    spx_data.loc[day_str, 'day_open_pct'] = spx_data.loc[day_str, 'day_open_pts'] / spx_data.loc[day_str, 'day_open']\n",
    "    spx_data.loc[day_str, 'prev_close_pts'] = spx_data.loc[day_str, 'close'] - spx_data.loc[day_str, 'prev_close']\n",
    "    spx_data.loc[day_str, 'prev_close_pct'] = spx_data.loc[day_str, 'prev_close_pts'] / spx_data.loc[day_str, 'prev_close']\n",
    "\n",
    "    # Shifted\n",
    "    spx_data.loc[day_str, 'prev_close_pct_n1'] = spx_data.loc[day_str, 'prev_close_pct'].shift(1)\n",
    "    spx_data.loc[day_str, 'prev_close_pct_n2'] = spx_data.loc[day_str, 'prev_close_pct'].shift(2)\n",
    "    spx_data.loc[day_str, 'prev_close_pct_n3'] = spx_data.loc[day_str, 'prev_close_pct'].shift(3)\n",
    "\n",
    "    spx_data.loc[day_str, 'day_open_pct_n1'] = spx_data.loc[day_str, 'day_open_pct'].shift(1)\n",
    "    spx_data.loc[day_str, 'day_open_pct_n2'] = spx_data.loc[day_str, 'day_open_pct'].shift(2)\n",
    "    spx_data.loc[day_str, 'day_open_pct_n3'] = spx_data.loc[day_str, 'day_open_pct'].shift(3)\n",
    "\n",
    "\n",
    "\n",
    "    # Label the data: 1 if the current high is the HOD, 0 otherwise\n",
    "\n",
    "    # # Find the index of HOD\n",
    "    # hod_index = spx_data.loc[day_str][spx_data.loc[day_str, 'label'] == 1].index\n",
    "\n",
    "    # # If HOD is found within the first 5 bars, label the first 5 bars as 1\n",
    "    # if not hod_index.empty:\n",
    "    #     hod_index = hod_index[0]  # In case there are multiple, take the first\n",
    "    #     if hod_index <= spx_data.loc[day_str].index[4]:  # Check if HOD is within the first 5 bars\n",
    "    #         spx_data.loc[spx_data.loc[day_str].index[:5], 'label'] = 1\n",
    "    #     else:\n",
    "    #         start_time = spx_data.loc[day_str].index[0]\n",
    "    #         end_time = hod_index\n",
    "    #         # Calculate the start index using Timedelta\n",
    "    #         start_index = end_time - pd.Timedelta(minutes=5 * 4)\n",
    "    #         start_index = max(start_index, start_time)\n",
    "    #         spx_data.loc[start_index:end_time, 'label'] = 1\n",
    "\n",
    "# spx_data.head()\n"
   ]
  },
  {
   "cell_type": "code",
   "execution_count": 90,
   "metadata": {},
   "outputs": [
    {
     "data": {
      "text/html": [
       "<div>\n",
       "<style scoped>\n",
       "    .dataframe tbody tr th:only-of-type {\n",
       "        vertical-align: middle;\n",
       "    }\n",
       "\n",
       "    .dataframe tbody tr th {\n",
       "        vertical-align: top;\n",
       "    }\n",
       "\n",
       "    .dataframe thead th {\n",
       "        text-align: right;\n",
       "    }\n",
       "</style>\n",
       "<table border=\"1\" class=\"dataframe\">\n",
       "  <thead>\n",
       "    <tr style=\"text-align: right;\">\n",
       "      <th></th>\n",
       "      <th>prev_close_pct_n1</th>\n",
       "      <th>prev_close_pct_n2</th>\n",
       "      <th>prev_close_pct_n3</th>\n",
       "    </tr>\n",
       "    <tr>\n",
       "      <th>Datetime</th>\n",
       "      <th></th>\n",
       "      <th></th>\n",
       "      <th></th>\n",
       "    </tr>\n",
       "  </thead>\n",
       "  <tbody>\n",
       "    <tr>\n",
       "      <th>2020-01-06 09:45:00</th>\n",
       "      <td>-0.003524</td>\n",
       "      <td>-0.004046</td>\n",
       "      <td>-0.004306</td>\n",
       "    </tr>\n",
       "    <tr>\n",
       "      <th>2020-01-06 09:50:00</th>\n",
       "      <td>-0.002971</td>\n",
       "      <td>-0.003524</td>\n",
       "      <td>-0.004046</td>\n",
       "    </tr>\n",
       "    <tr>\n",
       "      <th>2020-01-06 09:55:00</th>\n",
       "      <td>-0.003258</td>\n",
       "      <td>-0.002971</td>\n",
       "      <td>-0.003524</td>\n",
       "    </tr>\n",
       "    <tr>\n",
       "      <th>2020-01-06 10:00:00</th>\n",
       "      <td>-0.002856</td>\n",
       "      <td>-0.003258</td>\n",
       "      <td>-0.002971</td>\n",
       "    </tr>\n",
       "    <tr>\n",
       "      <th>2020-01-06 10:05:00</th>\n",
       "      <td>-0.002770</td>\n",
       "      <td>-0.002856</td>\n",
       "      <td>-0.003258</td>\n",
       "    </tr>\n",
       "    <tr>\n",
       "      <th>...</th>\n",
       "      <td>...</td>\n",
       "      <td>...</td>\n",
       "      <td>...</td>\n",
       "    </tr>\n",
       "    <tr>\n",
       "      <th>2023-12-29 15:35:00</th>\n",
       "      <td>-0.002247</td>\n",
       "      <td>-0.001733</td>\n",
       "      <td>-0.002402</td>\n",
       "    </tr>\n",
       "    <tr>\n",
       "      <th>2023-12-29 15:40:00</th>\n",
       "      <td>-0.002099</td>\n",
       "      <td>-0.002247</td>\n",
       "      <td>-0.001733</td>\n",
       "    </tr>\n",
       "    <tr>\n",
       "      <th>2023-12-29 15:45:00</th>\n",
       "      <td>-0.002563</td>\n",
       "      <td>-0.002099</td>\n",
       "      <td>-0.002247</td>\n",
       "    </tr>\n",
       "    <tr>\n",
       "      <th>2023-12-29 15:50:00</th>\n",
       "      <td>-0.002880</td>\n",
       "      <td>-0.002563</td>\n",
       "      <td>-0.002099</td>\n",
       "    </tr>\n",
       "    <tr>\n",
       "      <th>2023-12-29 15:55:00</th>\n",
       "      <td>-0.003902</td>\n",
       "      <td>-0.002880</td>\n",
       "      <td>-0.002563</td>\n",
       "    </tr>\n",
       "  </tbody>\n",
       "</table>\n",
       "<p>75103 rows × 3 columns</p>\n",
       "</div>"
      ],
      "text/plain": [
       "                     prev_close_pct_n1  prev_close_pct_n2  prev_close_pct_n3\n",
       "Datetime                                                                    \n",
       "2020-01-06 09:45:00          -0.003524          -0.004046          -0.004306\n",
       "2020-01-06 09:50:00          -0.002971          -0.003524          -0.004046\n",
       "2020-01-06 09:55:00          -0.003258          -0.002971          -0.003524\n",
       "2020-01-06 10:00:00          -0.002856          -0.003258          -0.002971\n",
       "2020-01-06 10:05:00          -0.002770          -0.002856          -0.003258\n",
       "...                                ...                ...                ...\n",
       "2023-12-29 15:35:00          -0.002247          -0.001733          -0.002402\n",
       "2023-12-29 15:40:00          -0.002099          -0.002247          -0.001733\n",
       "2023-12-29 15:45:00          -0.002563          -0.002099          -0.002247\n",
       "2023-12-29 15:50:00          -0.002880          -0.002563          -0.002099\n",
       "2023-12-29 15:55:00          -0.003902          -0.002880          -0.002563\n",
       "\n",
       "[75103 rows x 3 columns]"
      ]
     },
     "execution_count": 90,
     "metadata": {},
     "output_type": "execute_result"
    }
   ],
   "source": [
    "spx_data.loc['2020-01-04':, ['prev_close_pct_n1','prev_close_pct_n2','prev_close_pct_n3']].dropna()"
   ]
  },
  {
   "cell_type": "code",
   "execution_count": 91,
   "metadata": {},
   "outputs": [],
   "source": [
    "spx_data['gap_open'] = spx_data['day_open'] - spx_data['prev_close']\n",
    "spx_data['gap_open_pct'] = spx_data['gap_open'] / spx_data['prev_close']"
   ]
  },
  {
   "cell_type": "markdown",
   "metadata": {},
   "source": [
    "# Dissecting Tops\n",
    "Purpose\n",
    "- Determine what a top looks like.\n",
    "\n",
    "Questions\n",
    "- When do they happen?\n",
    "- Before they happen, what does action look like?\n",
    "- When they happen, what does the action look like after?"
   ]
  },
  {
   "cell_type": "code",
   "execution_count": 92,
   "metadata": {},
   "outputs": [],
   "source": [
    "hod_in = []\n",
    "for num, row in spx_data.iterrows():\n",
    "    if row['hod'] == row['high']:\n",
    "        hod_in.append(1)\n",
    "    else:\n",
    "        hod_in.append(np.nan)\n",
    "spx_data['hod_in'] = hod_in"
   ]
  },
  {
   "cell_type": "code",
   "execution_count": 93,
   "metadata": {},
   "outputs": [],
   "source": [
    "lod_in = []\n",
    "for num, row in spx_data.iterrows():\n",
    "    if row['lod'] == row['low']:\n",
    "        lod_in.append(1)\n",
    "    else:\n",
    "        lod_in.append(np.nan)\n",
    "spx_data['lod_in'] = lod_in"
   ]
  },
  {
   "cell_type": "code",
   "execution_count": 94,
   "metadata": {},
   "outputs": [],
   "source": [
    "# Per day, ffill for the 1s, and then fillna 0\n",
    "for day in sorted(set(spx_data.index.date)):\n",
    "    day_str = datetime.datetime.strftime(day, '%Y-%m-%d')\n",
    "    spx_data.loc[day_str, 'lod_in'] = spx_data.loc[day_str, 'lod_in'].ffill()\n",
    "    spx_data.loc[day_str, 'lod_in'] = spx_data.loc[day_str, 'lod_in'].fillna(0)\n",
    "    spx_data.loc[day_str, 'hod_in'] = spx_data.loc[day_str, 'hod_in'].ffill()\n",
    "    spx_data.loc[day_str, 'hod_in'] = spx_data.loc[day_str, 'hod_in'].fillna(0)"
   ]
  },
  {
   "cell_type": "code",
   "execution_count": 95,
   "metadata": {},
   "outputs": [],
   "source": [
    "def get_top_probability(time, prev_close_pct):\n",
    "    '''\n",
    "    Function that returns the historical probability that the top is in, given a time of day and magnitude.\n",
    "    '''\n",
    "    # Filter the data for the given time and magnitude\n",
    "    relevant_data = spx_data[(spx_data['time'] == time) & (spx_data['prev_close_pct'] >= prev_close_pct)]\n",
    "    \n",
    "    # Calculate the probability\n",
    "    top_probability = relevant_data['hod_in'].mean()\n",
    "    # bot_probability = relevant_data['lod_in'].mean()\n",
    "    \n",
    "    return top_probability\n",
    "\n",
    "def get_low_probability(time, prev_close_pct):\n",
    "    '''\n",
    "    Function that returns the historical probability that the low is in, given a time of day and magnitude.\n",
    "    '''\n",
    "    # Filter the data for the given time and magnitude\n",
    "    relevant_data = spx_data[(spx_data['time'] == time) & (spx_data['prev_close_pct'] <= prev_close_pct)]\n",
    "    \n",
    "    # Calculate the probability\n",
    "    probability = relevant_data['lod_in'].mean()\n",
    "    \n",
    "    return probability"
   ]
  },
  {
   "cell_type": "code",
   "execution_count": 96,
   "metadata": {},
   "outputs": [
    {
     "data": {
      "text/plain": [
       "0.6108374384236454"
      ]
     },
     "execution_count": 96,
     "metadata": {},
     "output_type": "execute_result"
    }
   ],
   "source": [
    "time = datetime.time(15,0)\n",
    "prev_close_pct = -0.007\n",
    "# spx_data.loc[(spx_data['time'] == time) & (spx_data['prev_close_pct'] >= prev_close_pct)]\n",
    "get_top_probability(time, prev_close_pct)"
   ]
  },
  {
   "cell_type": "code",
   "execution_count": 97,
   "metadata": {},
   "outputs": [
    {
     "data": {
      "text/plain": [
       "0.48128342245989303"
      ]
     },
     "execution_count": 97,
     "metadata": {},
     "output_type": "execute_result"
    }
   ],
   "source": [
    "get_low_probability(time, prev_close_pct)"
   ]
  },
  {
   "cell_type": "code",
   "execution_count": 98,
   "metadata": {},
   "outputs": [
    {
     "data": {
      "text/html": [
       "<div>\n",
       "<style scoped>\n",
       "    .dataframe tbody tr th:only-of-type {\n",
       "        vertical-align: middle;\n",
       "    }\n",
       "\n",
       "    .dataframe tbody tr th {\n",
       "        vertical-align: top;\n",
       "    }\n",
       "\n",
       "    .dataframe thead th {\n",
       "        text-align: right;\n",
       "    }\n",
       "</style>\n",
       "<table border=\"1\" class=\"dataframe\">\n",
       "  <thead>\n",
       "    <tr style=\"text-align: right;\">\n",
       "      <th></th>\n",
       "      <th>time</th>\n",
       "      <th>hod_in</th>\n",
       "      <th>lod_in</th>\n",
       "      <th>gap_open_pct</th>\n",
       "      <th>open</th>\n",
       "    </tr>\n",
       "    <tr>\n",
       "      <th>Datetime</th>\n",
       "      <th></th>\n",
       "      <th></th>\n",
       "      <th></th>\n",
       "      <th></th>\n",
       "      <th></th>\n",
       "    </tr>\n",
       "  </thead>\n",
       "  <tbody>\n",
       "    <tr>\n",
       "      <th>2020-01-02 09:30:00</th>\n",
       "      <td>09:30:00</td>\n",
       "      <td>0.0</td>\n",
       "      <td>0.0</td>\n",
       "      <td>NaN</td>\n",
       "      <td>3244.67</td>\n",
       "    </tr>\n",
       "    <tr>\n",
       "      <th>2020-01-02 09:35:00</th>\n",
       "      <td>09:35:00</td>\n",
       "      <td>0.0</td>\n",
       "      <td>0.0</td>\n",
       "      <td>NaN</td>\n",
       "      <td>3246.89</td>\n",
       "    </tr>\n",
       "    <tr>\n",
       "      <th>2020-01-02 09:40:00</th>\n",
       "      <td>09:40:00</td>\n",
       "      <td>0.0</td>\n",
       "      <td>0.0</td>\n",
       "      <td>NaN</td>\n",
       "      <td>3248.39</td>\n",
       "    </tr>\n",
       "    <tr>\n",
       "      <th>2020-01-02 09:45:00</th>\n",
       "      <td>09:45:00</td>\n",
       "      <td>0.0</td>\n",
       "      <td>0.0</td>\n",
       "      <td>NaN</td>\n",
       "      <td>3248.67</td>\n",
       "    </tr>\n",
       "    <tr>\n",
       "      <th>2020-01-02 09:50:00</th>\n",
       "      <td>09:50:00</td>\n",
       "      <td>0.0</td>\n",
       "      <td>0.0</td>\n",
       "      <td>NaN</td>\n",
       "      <td>3247.38</td>\n",
       "    </tr>\n",
       "    <tr>\n",
       "      <th>...</th>\n",
       "      <td>...</td>\n",
       "      <td>...</td>\n",
       "      <td>...</td>\n",
       "      <td>...</td>\n",
       "      <td>...</td>\n",
       "    </tr>\n",
       "    <tr>\n",
       "      <th>2023-12-29 15:35:00</th>\n",
       "      <td>15:35:00</td>\n",
       "      <td>1.0</td>\n",
       "      <td>1.0</td>\n",
       "      <td>-0.000259</td>\n",
       "      <td>4773.29</td>\n",
       "    </tr>\n",
       "    <tr>\n",
       "      <th>2023-12-29 15:40:00</th>\n",
       "      <td>15:40:00</td>\n",
       "      <td>1.0</td>\n",
       "      <td>1.0</td>\n",
       "      <td>-0.000259</td>\n",
       "      <td>4774.07</td>\n",
       "    </tr>\n",
       "    <tr>\n",
       "      <th>2023-12-29 15:45:00</th>\n",
       "      <td>15:45:00</td>\n",
       "      <td>1.0</td>\n",
       "      <td>1.0</td>\n",
       "      <td>-0.000259</td>\n",
       "      <td>4771.78</td>\n",
       "    </tr>\n",
       "    <tr>\n",
       "      <th>2023-12-29 15:50:00</th>\n",
       "      <td>15:50:00</td>\n",
       "      <td>1.0</td>\n",
       "      <td>1.0</td>\n",
       "      <td>-0.000259</td>\n",
       "      <td>4770.31</td>\n",
       "    </tr>\n",
       "    <tr>\n",
       "      <th>2023-12-29 15:55:00</th>\n",
       "      <td>15:55:00</td>\n",
       "      <td>1.0</td>\n",
       "      <td>1.0</td>\n",
       "      <td>-0.000259</td>\n",
       "      <td>4765.57</td>\n",
       "    </tr>\n",
       "  </tbody>\n",
       "</table>\n",
       "<p>78271 rows × 5 columns</p>\n",
       "</div>"
      ],
      "text/plain": [
       "                         time  hod_in  lod_in  gap_open_pct     open\n",
       "Datetime                                                            \n",
       "2020-01-02 09:30:00  09:30:00     0.0     0.0           NaN  3244.67\n",
       "2020-01-02 09:35:00  09:35:00     0.0     0.0           NaN  3246.89\n",
       "2020-01-02 09:40:00  09:40:00     0.0     0.0           NaN  3248.39\n",
       "2020-01-02 09:45:00  09:45:00     0.0     0.0           NaN  3248.67\n",
       "2020-01-02 09:50:00  09:50:00     0.0     0.0           NaN  3247.38\n",
       "...                       ...     ...     ...           ...      ...\n",
       "2023-12-29 15:35:00  15:35:00     1.0     1.0     -0.000259  4773.29\n",
       "2023-12-29 15:40:00  15:40:00     1.0     1.0     -0.000259  4774.07\n",
       "2023-12-29 15:45:00  15:45:00     1.0     1.0     -0.000259  4771.78\n",
       "2023-12-29 15:50:00  15:50:00     1.0     1.0     -0.000259  4770.31\n",
       "2023-12-29 15:55:00  15:55:00     1.0     1.0     -0.000259  4765.57\n",
       "\n",
       "[78271 rows x 5 columns]"
      ]
     },
     "execution_count": 98,
     "metadata": {},
     "output_type": "execute_result"
    }
   ],
   "source": [
    "spx_data[['time','hod_in','lod_in','gap_open_pct','open']]"
   ]
  },
  {
   "cell_type": "code",
   "execution_count": 99,
   "metadata": {},
   "outputs": [],
   "source": [
    "def get_low_probability(time, prev_close_pct):\n",
    "    '''\n",
    "    Function that returns the historical probability that the low is in, given a time of day and magnitude.\n",
    "    '''\n",
    "    # Filter the data for the given time and magnitude\n",
    "    relevant_data = spx_data[(spx_data['time'] == time) & (spx_data['prev_close_pct'] <= prev_close_pct)]\n",
    "    \n",
    "    # Calculate the probability\n",
    "    probability = relevant_data['lod_in'].mean()\n",
    "    \n",
    "    return probability"
   ]
  },
  {
   "cell_type": "code",
   "execution_count": 100,
   "metadata": {},
   "outputs": [],
   "source": [
    "from sklearn.pipeline import Pipeline, make_pipeline\n",
    "from sklearn.compose import ColumnTransformer\n",
    "from sklearn.linear_model import LogisticRegression\n",
    "from sklearn.preprocessing import FunctionTransformer, StandardScaler, RobustScaler\n",
    "import datetime\n",
    "\n",
    "# Function to convert time string to seconds past midnight\n",
    "def convert_time_to_seconds(time_series):\n",
    "    return time_series.apply(lambda x: x.hour * 3600 + x.minute * 60 + x.second)\n",
    "\n",
    "def apply_convert_time_to_seconds(x):\n",
    "    return x.apply(convert_time_to_seconds)\n",
    "\n",
    "time_to_seconds = FunctionTransformer(apply_convert_time_to_seconds, validate=False)\n",
    "\n",
    "# Create a column transformer\n",
    "preprocessor = ColumnTransformer(\n",
    "    transformers=[\n",
    "        ('time', make_pipeline(time_to_seconds, StandardScaler()), ['time']),\n",
    "        ('prev_close_pct', StandardScaler(), ['prev_close_pct']),\n",
    "        ('prev_close_pct_n1', StandardScaler(), ['prev_close_pct_n1']),\n",
    "        ('prev_close_pct_n2', StandardScaler(), ['prev_close_pct_n2']),\n",
    "        ('prev_close_pct_n3', StandardScaler(), ['prev_close_pct_n3']),\n",
    "        ('day_open_pct', StandardScaler(), ['day_open_pct']),\n",
    "        ('day_open_pct_n1', StandardScaler(), ['day_open_pct_n1']),\n",
    "        ('day_open_pct_n2', StandardScaler(), ['day_open_pct_n2']),\n",
    "        ('day_open_pct_n3', StandardScaler(), ['day_open_pct_n3']),\n",
    "        ('gap_open_pct', StandardScaler(), ['gap_open_pct'])\n",
    "    ])\n",
    "\n",
    "# Create the pipeline\n",
    "pipeline = Pipeline(steps=[\n",
    "    ('preprocessor', preprocessor),\n",
    "    ('classifier', LogisticRegression())\n",
    "    # ('classifier', lgb.LGBMClassifier())\n",
    "    # ('classifier', xgb.XGBClassifier())\n",
    "])\n",
    "\n",
    "df_use = spx_data.dropna(subset=[\n",
    "    'prev_close_pct',\n",
    "    'gap_open_pct',\n",
    "    'day_open_pct_n3',\n",
    "    'prev_close_pct_n3'\n",
    "    ])\n",
    "\n",
    "# Train the model\n",
    "X = df_use[[\n",
    "    'time',\n",
    "    'prev_close_pct',\n",
    "    'prev_close_pct_n1',\n",
    "    'prev_close_pct_n2',\n",
    "    'prev_close_pct_n3',\n",
    "    'day_open_pct',\n",
    "    'day_open_pct_n1',\n",
    "    'day_open_pct_n2',\n",
    "    'day_open_pct_n3',\n",
    "    'gap_open_pct'\n",
    "]]\n",
    "y_flags = df_use[['lod_in','hod_in']]\n",
    "# pipeline.fit(X, y)"
   ]
  },
  {
   "cell_type": "code",
   "execution_count": 101,
   "metadata": {},
   "outputs": [],
   "source": [
    "from sklearn.base import clone\n",
    "\n",
    "pipeline_lod = clone(pipeline)"
   ]
  },
  {
   "cell_type": "code",
   "execution_count": 102,
   "metadata": {},
   "outputs": [],
   "source": [
    "# 80/20 split, where date at 80th pct is the cutoff date\n",
    "date_idx = int(np.floor(len(X.index.date) * .85))\n",
    "cutoff_date = X.index.date[date_idx]\n",
    "\n",
    "X_train = X.loc[:cutoff_date]\n",
    "y_train = y_flags.loc[:cutoff_date]\n",
    "X_test = X.loc[cutoff_date:]\n",
    "y_test = y_flags.loc[cutoff_date:]"
   ]
  },
  {
   "cell_type": "code",
   "execution_count": 103,
   "metadata": {},
   "outputs": [
    {
     "data": {
      "text/plain": [
       "63843"
      ]
     },
     "execution_count": 103,
     "metadata": {},
     "output_type": "execute_result"
    }
   ],
   "source": [
    "len(y_train)"
   ]
  },
  {
   "cell_type": "code",
   "execution_count": 104,
   "metadata": {},
   "outputs": [
    {
     "data": {
      "text/plain": [
       "11335"
      ]
     },
     "execution_count": 104,
     "metadata": {},
     "output_type": "execute_result"
    }
   ],
   "source": [
    "len(y_test)"
   ]
  },
  {
   "cell_type": "code",
   "execution_count": 105,
   "metadata": {},
   "outputs": [
    {
     "data": {
      "text/plain": [
       "lod_in    0.611500\n",
       "hod_in    0.515985\n",
       "dtype: float64"
      ]
     },
     "execution_count": 105,
     "metadata": {},
     "output_type": "execute_result"
    }
   ],
   "source": [
    "y_train.mean()"
   ]
  },
  {
   "cell_type": "code",
   "execution_count": 106,
   "metadata": {},
   "outputs": [
    {
     "data": {
      "text/plain": [
       "lod_in    0.609616\n",
       "hod_in    0.531539\n",
       "dtype: float64"
      ]
     },
     "execution_count": 106,
     "metadata": {},
     "output_type": "execute_result"
    }
   ],
   "source": [
    "y_test.mean()"
   ]
  },
  {
   "cell_type": "code",
   "execution_count": 107,
   "metadata": {},
   "outputs": [
    {
     "data": {
      "text/plain": [
       "time                 0\n",
       "prev_close_pct       0\n",
       "prev_close_pct_n1    0\n",
       "prev_close_pct_n2    0\n",
       "prev_close_pct_n3    0\n",
       "day_open_pct         0\n",
       "day_open_pct_n1      0\n",
       "day_open_pct_n2      0\n",
       "day_open_pct_n3      0\n",
       "gap_open_pct         0\n",
       "dtype: int64"
      ]
     },
     "execution_count": 107,
     "metadata": {},
     "output_type": "execute_result"
    }
   ],
   "source": [
    "X.isnull().sum()"
   ]
  },
  {
   "cell_type": "code",
   "execution_count": 108,
   "metadata": {},
   "outputs": [
    {
     "data": {
      "text/plain": [
       "['models/lod_model.joblib']"
      ]
     },
     "execution_count": 108,
     "metadata": {},
     "output_type": "execute_result"
    }
   ],
   "source": [
    "import joblib\n",
    "hod_model = pipeline.fit(X_train, y_train['hod_in'])\n",
    "lod_model = pipeline_lod.fit(X_train, y_train['lod_in'])\n",
    "\n",
    "# Save models\n",
    "joblib.dump(hod_model, 'models/hod_model.joblib')\n",
    "joblib.dump(lod_model, 'models/lod_model.joblib')"
   ]
  },
  {
   "cell_type": "code",
   "execution_count": 109,
   "metadata": {},
   "outputs": [
    {
     "name": "stdout",
     "output_type": "stream",
     "text": [
      "ROC AUC Score: 0.8260320853943472\n",
      "Precision Score: 0.7686095505617978\n",
      "Recall Score: 0.7266390041493775\n"
     ]
    }
   ],
   "source": [
    "from sklearn.metrics import roc_auc_score, precision_score, recall_score\n",
    "\n",
    "# Metrics for HOD model\n",
    "y_pred_hod = hod_model.predict_proba(X_test)[:,-1]\n",
    "\n",
    "roc_auc_hod = roc_auc_score(y_test['hod_in'], y_pred_hod)\n",
    "precision_hod = precision_score(y_test['hod_in'], y_pred_hod > 0.5)\n",
    "recall_hod = recall_score(y_test['hod_in'], y_pred_hod > 0.5)\n",
    "\n",
    "print(f\"ROC AUC Score: {roc_auc_hod}\")\n",
    "print(f\"Precision Score: {precision_hod}\")\n",
    "print(f\"Recall Score: {recall_hod}\")"
   ]
  },
  {
   "cell_type": "code",
   "execution_count": 110,
   "metadata": {},
   "outputs": [
    {
     "name": "stdout",
     "output_type": "stream",
     "text": [
      "ROC AUC Score: 0.8295829347461715\n",
      "Precision Score: 0.7526229300973328\n",
      "Recall Score: 0.8616497829232995\n"
     ]
    }
   ],
   "source": [
    "from sklearn.metrics import roc_auc_score, precision_score, recall_score\n",
    "\n",
    "# Metrics for LOD model\n",
    "y_pred_lod = lod_model.predict_proba(X_test)[:,-1]\n",
    "\n",
    "roc_auc_lod = roc_auc_score(y_test['lod_in'], y_pred_lod)\n",
    "precision_lod = precision_score(y_test['lod_in'], y_pred_lod > 0.5)\n",
    "recall_lod = recall_score(y_test['lod_in'], y_pred_lod > 0.5)\n",
    "\n",
    "print(f\"ROC AUC Score: {roc_auc_lod}\")\n",
    "print(f\"Precision Score: {precision_lod}\")\n",
    "print(f\"Recall Score: {recall_lod}\")"
   ]
  },
  {
   "cell_type": "code",
   "execution_count": 111,
   "metadata": {},
   "outputs": [],
   "source": [
    "# feature_names = pipeline.feature_names_in_\n",
    "# coefficients = pipeline.named_steps['classifier'].feature_importances_\n",
    "# # coefficients = pipeline.named_steps['classifier'].coef_[0]\n",
    "# for feature, coef in zip(feature_names, coefficients):\n",
    "#     print(f\"{feature}: {coef}\")"
   ]
  },
  {
   "cell_type": "code",
   "execution_count": 112,
   "metadata": {},
   "outputs": [
    {
     "data": {
      "application/vnd.plotly.v1+json": {
       "config": {
        "plotlyServerURL": "https://plot.ly"
       },
       "data": [
        {
         "hovertemplate": "variable=roc_auc<br>index=%{x}<br>value=%{y}<extra></extra>",
         "legendgroup": "roc_auc",
         "line": {
          "color": "#636efa",
          "dash": "solid"
         },
         "marker": {
          "symbol": "circle"
         },
         "mode": "lines",
         "name": "roc_auc",
         "orientation": "v",
         "showlegend": true,
         "type": "scatter",
         "x": [
          "09:45:00",
          "09:50:00",
          "09:55:00",
          "10:00:00",
          "10:05:00",
          "10:10:00",
          "10:15:00",
          "10:20:00",
          "10:25:00",
          "10:30:00",
          "10:35:00",
          "10:40:00",
          "10:45:00",
          "10:50:00",
          "10:55:00",
          "11:00:00",
          "11:05:00",
          "11:10:00",
          "11:15:00",
          "11:20:00",
          "11:25:00",
          "11:30:00",
          "11:35:00",
          "11:40:00",
          "11:45:00",
          "11:50:00",
          "11:55:00",
          "12:00:00",
          "12:05:00",
          "12:10:00",
          "12:15:00",
          "12:20:00",
          "12:25:00",
          "12:30:00",
          "12:35:00",
          "12:40:00",
          "12:45:00",
          "12:50:00",
          "12:55:00",
          "13:00:00",
          "13:05:00",
          "13:10:00",
          "13:15:00",
          "13:20:00",
          "13:25:00",
          "13:30:00",
          "13:35:00",
          "13:40:00",
          "13:45:00",
          "13:50:00",
          "13:55:00",
          "14:00:00",
          "14:05:00",
          "14:10:00",
          "14:15:00",
          "14:20:00",
          "14:25:00",
          "14:30:00",
          "14:35:00",
          "14:40:00",
          "14:45:00",
          "14:50:00",
          "14:55:00",
          "15:00:00",
          "15:05:00",
          "15:10:00",
          "15:15:00",
          "15:20:00",
          "15:25:00",
          "15:30:00",
          "15:35:00",
          "15:40:00",
          "15:45:00",
          "15:50:00",
          "15:55:00"
         ],
         "xaxis": "x",
         "y": [
          0.7333333333333333,
          0.7289381854436691,
          0.7415818749152082,
          0.7508225616921268,
          0.7570341128199505,
          0.7713762062688577,
          0.7763407367280607,
          0.7783945243825423,
          0.7745037096718255,
          0.7737261211138386,
          0.7744896532438478,
          0.7768386418893684,
          0.7783350111719498,
          0.7770594080577602,
          0.7787266490134355,
          0.779826005915641,
          0.7805962954357077,
          0.7817517463729178,
          0.7833019169468964,
          0.7851974916428188,
          0.7870050516923014,
          0.7878799912076768,
          0.78964446318926,
          0.7918091743119265,
          0.7933455469860197,
          0.7948894126015161,
          0.7962103159810501,
          0.7975886006576545,
          0.7983502969782621,
          0.7985930201221704,
          0.7988527380382302,
          0.7990606377799901,
          0.7999985718519154,
          0.8001634155868026,
          0.7999201466708499,
          0.7997663684846552,
          0.7996371088605387,
          0.7991291359425222,
          0.7988456060383464,
          0.7986348967219989,
          0.7985700921989822,
          0.798831172942975,
          0.7991702905048403,
          0.7992950029644018,
          0.799578070588169,
          0.800012026104215,
          0.8003749671885616,
          0.800738138034953,
          0.8012018859388268,
          0.8016845966570711,
          0.8023229459333479,
          0.8033212027740071,
          0.8039544339088479,
          0.8045987766937621,
          0.805251837689423,
          0.806019606025015,
          0.8069119464630381,
          0.808070225702834,
          0.8092508868100243,
          0.8103996052531841,
          0.8113555381441258,
          0.8123072155061031,
          0.8129391362878762,
          0.8137987340974429,
          0.8143874890765973,
          0.8149773535001233,
          0.8155576067377441,
          0.8162974900497506,
          0.8170543190964511,
          0.8177758495713312,
          0.8186958740059653,
          0.8198004578824205,
          0.821076965180117,
          0.8230916536442682,
          0.8260320853943472
         ],
         "yaxis": "y"
        },
        {
         "hovertemplate": "variable=precision<br>index=%{x}<br>value=%{y}<extra></extra>",
         "legendgroup": "precision",
         "line": {
          "color": "#EF553B",
          "dash": "solid"
         },
         "marker": {
          "symbol": "circle"
         },
         "mode": "lines",
         "name": "precision",
         "orientation": "v",
         "showlegend": true,
         "type": "scatter",
         "x": [
          "09:45:00",
          "09:50:00",
          "09:55:00",
          "10:00:00",
          "10:05:00",
          "10:10:00",
          "10:15:00",
          "10:20:00",
          "10:25:00",
          "10:30:00",
          "10:35:00",
          "10:40:00",
          "10:45:00",
          "10:50:00",
          "10:55:00",
          "11:00:00",
          "11:05:00",
          "11:10:00",
          "11:15:00",
          "11:20:00",
          "11:25:00",
          "11:30:00",
          "11:35:00",
          "11:40:00",
          "11:45:00",
          "11:50:00",
          "11:55:00",
          "12:00:00",
          "12:05:00",
          "12:10:00",
          "12:15:00",
          "12:20:00",
          "12:25:00",
          "12:30:00",
          "12:35:00",
          "12:40:00",
          "12:45:00",
          "12:50:00",
          "12:55:00",
          "13:00:00",
          "13:05:00",
          "13:10:00",
          "13:15:00",
          "13:20:00",
          "13:25:00",
          "13:30:00",
          "13:35:00",
          "13:40:00",
          "13:45:00",
          "13:50:00",
          "13:55:00",
          "14:00:00",
          "14:05:00",
          "14:10:00",
          "14:15:00",
          "14:20:00",
          "14:25:00",
          "14:30:00",
          "14:35:00",
          "14:40:00",
          "14:45:00",
          "14:50:00",
          "14:55:00",
          "15:00:00",
          "15:05:00",
          "15:10:00",
          "15:15:00",
          "15:20:00",
          "15:25:00",
          "15:30:00",
          "15:35:00",
          "15:40:00",
          "15:45:00",
          "15:50:00",
          "15:55:00"
         ],
         "xaxis": "x",
         "y": [
          0.3333333333333333,
          0.5,
          0.5,
          0.7777777777777778,
          0.8,
          0.8,
          0.7714285714285715,
          0.7708333333333334,
          0.7457627118644068,
          0.7333333333333333,
          0.7272727272727273,
          0.7307692307692307,
          0.7131147540983607,
          0.7172413793103448,
          0.7192982456140351,
          0.7291666666666666,
          0.7419354838709677,
          0.746938775510204,
          0.7446043165467626,
          0.7459807073954984,
          0.7536231884057971,
          0.7645502645502645,
          0.7716346153846154,
          0.7744034707158352,
          0.7762376237623763,
          0.7743682310469314,
          0.7740863787375415,
          0.7726574500768049,
          0.7738264580369844,
          0.7738095238095238,
          0.7743526510480888,
          0.7756041426927502,
          0.7751605995717344,
          0.7752247752247752,
          0.77196261682243,
          0.7705061082024433,
          0.7686017988552739,
          0.7665130568356375,
          0.7644508670520231,
          0.761386811692726,
          0.7589743589743589,
          0.7566425120772947,
          0.7554285714285714,
          0.7539210383991347,
          0.7526936890713186,
          0.7502434274586174,
          0.7495361781076066,
          0.7486749116607774,
          0.7477894736842106,
          0.7471864951768489,
          0.7465437788018433,
          0.7465980139757263,
          0.7450704225352113,
          0.7435897435897436,
          0.7423948220064724,
          0.7423676012461059,
          0.74241969378565,
          0.7434115262090936,
          0.7441990494828068,
          0.7448648648648649,
          0.7454925529135092,
          0.7455142784938085,
          0.7454723445912873,
          0.7460844803037494,
          0.7468936953520479,
          0.7479892761394102,
          0.7490774907749077,
          0.7503165892781765,
          0.7515910490659002,
          0.7528965241709948,
          0.7545702061454687,
          0.756439393939394,
          0.7590027700831025,
          0.7627362736273627,
          0.7686095505617978
         ],
         "yaxis": "y"
        },
        {
         "hovertemplate": "variable=recall<br>index=%{x}<br>value=%{y}<extra></extra>",
         "legendgroup": "recall",
         "line": {
          "color": "#00cc96",
          "dash": "solid"
         },
         "marker": {
          "symbol": "circle"
         },
         "mode": "lines",
         "name": "recall",
         "orientation": "v",
         "showlegend": true,
         "type": "scatter",
         "x": [
          "09:45:00",
          "09:50:00",
          "09:55:00",
          "10:00:00",
          "10:05:00",
          "10:10:00",
          "10:15:00",
          "10:20:00",
          "10:25:00",
          "10:30:00",
          "10:35:00",
          "10:40:00",
          "10:45:00",
          "10:50:00",
          "10:55:00",
          "11:00:00",
          "11:05:00",
          "11:10:00",
          "11:15:00",
          "11:20:00",
          "11:25:00",
          "11:30:00",
          "11:35:00",
          "11:40:00",
          "11:45:00",
          "11:50:00",
          "11:55:00",
          "12:00:00",
          "12:05:00",
          "12:10:00",
          "12:15:00",
          "12:20:00",
          "12:25:00",
          "12:30:00",
          "12:35:00",
          "12:40:00",
          "12:45:00",
          "12:50:00",
          "12:55:00",
          "13:00:00",
          "13:05:00",
          "13:10:00",
          "13:15:00",
          "13:20:00",
          "13:25:00",
          "13:30:00",
          "13:35:00",
          "13:40:00",
          "13:45:00",
          "13:50:00",
          "13:55:00",
          "14:00:00",
          "14:05:00",
          "14:10:00",
          "14:15:00",
          "14:20:00",
          "14:25:00",
          "14:30:00",
          "14:35:00",
          "14:40:00",
          "14:45:00",
          "14:50:00",
          "14:55:00",
          "15:00:00",
          "15:05:00",
          "15:10:00",
          "15:15:00",
          "15:20:00",
          "15:25:00",
          "15:30:00",
          "15:35:00",
          "15:40:00",
          "15:45:00",
          "15:50:00",
          "15:55:00"
         ],
         "xaxis": "x",
         "y": [
          0.03125,
          0.029411764705882353,
          0.01904761904761905,
          0.0472972972972973,
          0.06217616580310881,
          0.08403361344537816,
          0.09507042253521127,
          0.11178247734138973,
          0.11609498680738786,
          0.1282051282051282,
          0.13333333333333333,
          0.1425891181988743,
          0.14846416382252559,
          0.16199376947040497,
          0.17621776504297995,
          0.18543046357615894,
          0.19754601226993865,
          0.20914285714285713,
          0.22115384615384615,
          0.23269809428284854,
          0.24551463644948066,
          0.25757575757575757,
          0.2708860759493671,
          0.2856,
          0.2976461655277145,
          0.309971098265896,
          0.321157822191592,
          0.33113890717577354,
          0.3427851291745432,
          0.3532608695652174,
          0.3638470451911935,
          0.37506956037840844,
          0.3873729266987694,
          0.3991769547325103,
          0.4091134224863794,
          0.42168099331423115,
          0.4329801934592354,
          0.44355555555555554,
          0.45368782161234994,
          0.46357615894039733,
          0.47341063574570175,
          0.4843448009277155,
          0.4943904263275991,
          0.504889532777979,
          0.5150983146067416,
          0.5248637602179836,
          0.5343915343915344,
          0.5443159922928709,
          0.5541341653666146,
          0.5638459205338187,
          0.5736205370315728,
          0.5828308929084123,
          0.5915571708135309,
          0.6002178649237473,
          0.6089726572869657,
          0.6167184265010351,
          0.624337288563494,
          0.6324217787632421,
          0.6402116402116402,
          0.6471002582765908,
          0.6542077505159367,
          0.6609903652251848,
          0.6669586161594044,
          0.6728011983736358,
          0.678653564708342,
          0.6839632277834525,
          0.6888223552894212,
          0.6933879461673493,
          0.697998093422307,
          0.7025163094128611,
          0.7071259340258793,
          0.7119429590017825,
          0.7162774485883583,
          0.7211914893617021,
          0.7266390041493775
         ],
         "yaxis": "y"
        }
       ],
       "layout": {
        "legend": {
         "title": {
          "text": "variable"
         },
         "tracegroupgap": 0
        },
        "template": {
         "data": {
          "bar": [
           {
            "error_x": {
             "color": "#2a3f5f"
            },
            "error_y": {
             "color": "#2a3f5f"
            },
            "marker": {
             "line": {
              "color": "#E5ECF6",
              "width": 0.5
             },
             "pattern": {
              "fillmode": "overlay",
              "size": 10,
              "solidity": 0.2
             }
            },
            "type": "bar"
           }
          ],
          "barpolar": [
           {
            "marker": {
             "line": {
              "color": "#E5ECF6",
              "width": 0.5
             },
             "pattern": {
              "fillmode": "overlay",
              "size": 10,
              "solidity": 0.2
             }
            },
            "type": "barpolar"
           }
          ],
          "carpet": [
           {
            "aaxis": {
             "endlinecolor": "#2a3f5f",
             "gridcolor": "white",
             "linecolor": "white",
             "minorgridcolor": "white",
             "startlinecolor": "#2a3f5f"
            },
            "baxis": {
             "endlinecolor": "#2a3f5f",
             "gridcolor": "white",
             "linecolor": "white",
             "minorgridcolor": "white",
             "startlinecolor": "#2a3f5f"
            },
            "type": "carpet"
           }
          ],
          "choropleth": [
           {
            "colorbar": {
             "outlinewidth": 0,
             "ticks": ""
            },
            "type": "choropleth"
           }
          ],
          "contour": [
           {
            "colorbar": {
             "outlinewidth": 0,
             "ticks": ""
            },
            "colorscale": [
             [
              0,
              "#0d0887"
             ],
             [
              0.1111111111111111,
              "#46039f"
             ],
             [
              0.2222222222222222,
              "#7201a8"
             ],
             [
              0.3333333333333333,
              "#9c179e"
             ],
             [
              0.4444444444444444,
              "#bd3786"
             ],
             [
              0.5555555555555556,
              "#d8576b"
             ],
             [
              0.6666666666666666,
              "#ed7953"
             ],
             [
              0.7777777777777778,
              "#fb9f3a"
             ],
             [
              0.8888888888888888,
              "#fdca26"
             ],
             [
              1,
              "#f0f921"
             ]
            ],
            "type": "contour"
           }
          ],
          "contourcarpet": [
           {
            "colorbar": {
             "outlinewidth": 0,
             "ticks": ""
            },
            "type": "contourcarpet"
           }
          ],
          "heatmap": [
           {
            "colorbar": {
             "outlinewidth": 0,
             "ticks": ""
            },
            "colorscale": [
             [
              0,
              "#0d0887"
             ],
             [
              0.1111111111111111,
              "#46039f"
             ],
             [
              0.2222222222222222,
              "#7201a8"
             ],
             [
              0.3333333333333333,
              "#9c179e"
             ],
             [
              0.4444444444444444,
              "#bd3786"
             ],
             [
              0.5555555555555556,
              "#d8576b"
             ],
             [
              0.6666666666666666,
              "#ed7953"
             ],
             [
              0.7777777777777778,
              "#fb9f3a"
             ],
             [
              0.8888888888888888,
              "#fdca26"
             ],
             [
              1,
              "#f0f921"
             ]
            ],
            "type": "heatmap"
           }
          ],
          "heatmapgl": [
           {
            "colorbar": {
             "outlinewidth": 0,
             "ticks": ""
            },
            "colorscale": [
             [
              0,
              "#0d0887"
             ],
             [
              0.1111111111111111,
              "#46039f"
             ],
             [
              0.2222222222222222,
              "#7201a8"
             ],
             [
              0.3333333333333333,
              "#9c179e"
             ],
             [
              0.4444444444444444,
              "#bd3786"
             ],
             [
              0.5555555555555556,
              "#d8576b"
             ],
             [
              0.6666666666666666,
              "#ed7953"
             ],
             [
              0.7777777777777778,
              "#fb9f3a"
             ],
             [
              0.8888888888888888,
              "#fdca26"
             ],
             [
              1,
              "#f0f921"
             ]
            ],
            "type": "heatmapgl"
           }
          ],
          "histogram": [
           {
            "marker": {
             "pattern": {
              "fillmode": "overlay",
              "size": 10,
              "solidity": 0.2
             }
            },
            "type": "histogram"
           }
          ],
          "histogram2d": [
           {
            "colorbar": {
             "outlinewidth": 0,
             "ticks": ""
            },
            "colorscale": [
             [
              0,
              "#0d0887"
             ],
             [
              0.1111111111111111,
              "#46039f"
             ],
             [
              0.2222222222222222,
              "#7201a8"
             ],
             [
              0.3333333333333333,
              "#9c179e"
             ],
             [
              0.4444444444444444,
              "#bd3786"
             ],
             [
              0.5555555555555556,
              "#d8576b"
             ],
             [
              0.6666666666666666,
              "#ed7953"
             ],
             [
              0.7777777777777778,
              "#fb9f3a"
             ],
             [
              0.8888888888888888,
              "#fdca26"
             ],
             [
              1,
              "#f0f921"
             ]
            ],
            "type": "histogram2d"
           }
          ],
          "histogram2dcontour": [
           {
            "colorbar": {
             "outlinewidth": 0,
             "ticks": ""
            },
            "colorscale": [
             [
              0,
              "#0d0887"
             ],
             [
              0.1111111111111111,
              "#46039f"
             ],
             [
              0.2222222222222222,
              "#7201a8"
             ],
             [
              0.3333333333333333,
              "#9c179e"
             ],
             [
              0.4444444444444444,
              "#bd3786"
             ],
             [
              0.5555555555555556,
              "#d8576b"
             ],
             [
              0.6666666666666666,
              "#ed7953"
             ],
             [
              0.7777777777777778,
              "#fb9f3a"
             ],
             [
              0.8888888888888888,
              "#fdca26"
             ],
             [
              1,
              "#f0f921"
             ]
            ],
            "type": "histogram2dcontour"
           }
          ],
          "mesh3d": [
           {
            "colorbar": {
             "outlinewidth": 0,
             "ticks": ""
            },
            "type": "mesh3d"
           }
          ],
          "parcoords": [
           {
            "line": {
             "colorbar": {
              "outlinewidth": 0,
              "ticks": ""
             }
            },
            "type": "parcoords"
           }
          ],
          "pie": [
           {
            "automargin": true,
            "type": "pie"
           }
          ],
          "scatter": [
           {
            "fillpattern": {
             "fillmode": "overlay",
             "size": 10,
             "solidity": 0.2
            },
            "type": "scatter"
           }
          ],
          "scatter3d": [
           {
            "line": {
             "colorbar": {
              "outlinewidth": 0,
              "ticks": ""
             }
            },
            "marker": {
             "colorbar": {
              "outlinewidth": 0,
              "ticks": ""
             }
            },
            "type": "scatter3d"
           }
          ],
          "scattercarpet": [
           {
            "marker": {
             "colorbar": {
              "outlinewidth": 0,
              "ticks": ""
             }
            },
            "type": "scattercarpet"
           }
          ],
          "scattergeo": [
           {
            "marker": {
             "colorbar": {
              "outlinewidth": 0,
              "ticks": ""
             }
            },
            "type": "scattergeo"
           }
          ],
          "scattergl": [
           {
            "marker": {
             "colorbar": {
              "outlinewidth": 0,
              "ticks": ""
             }
            },
            "type": "scattergl"
           }
          ],
          "scattermapbox": [
           {
            "marker": {
             "colorbar": {
              "outlinewidth": 0,
              "ticks": ""
             }
            },
            "type": "scattermapbox"
           }
          ],
          "scatterpolar": [
           {
            "marker": {
             "colorbar": {
              "outlinewidth": 0,
              "ticks": ""
             }
            },
            "type": "scatterpolar"
           }
          ],
          "scatterpolargl": [
           {
            "marker": {
             "colorbar": {
              "outlinewidth": 0,
              "ticks": ""
             }
            },
            "type": "scatterpolargl"
           }
          ],
          "scatterternary": [
           {
            "marker": {
             "colorbar": {
              "outlinewidth": 0,
              "ticks": ""
             }
            },
            "type": "scatterternary"
           }
          ],
          "surface": [
           {
            "colorbar": {
             "outlinewidth": 0,
             "ticks": ""
            },
            "colorscale": [
             [
              0,
              "#0d0887"
             ],
             [
              0.1111111111111111,
              "#46039f"
             ],
             [
              0.2222222222222222,
              "#7201a8"
             ],
             [
              0.3333333333333333,
              "#9c179e"
             ],
             [
              0.4444444444444444,
              "#bd3786"
             ],
             [
              0.5555555555555556,
              "#d8576b"
             ],
             [
              0.6666666666666666,
              "#ed7953"
             ],
             [
              0.7777777777777778,
              "#fb9f3a"
             ],
             [
              0.8888888888888888,
              "#fdca26"
             ],
             [
              1,
              "#f0f921"
             ]
            ],
            "type": "surface"
           }
          ],
          "table": [
           {
            "cells": {
             "fill": {
              "color": "#EBF0F8"
             },
             "line": {
              "color": "white"
             }
            },
            "header": {
             "fill": {
              "color": "#C8D4E3"
             },
             "line": {
              "color": "white"
             }
            },
            "type": "table"
           }
          ]
         },
         "layout": {
          "annotationdefaults": {
           "arrowcolor": "#2a3f5f",
           "arrowhead": 0,
           "arrowwidth": 1
          },
          "autotypenumbers": "strict",
          "coloraxis": {
           "colorbar": {
            "outlinewidth": 0,
            "ticks": ""
           }
          },
          "colorscale": {
           "diverging": [
            [
             0,
             "#8e0152"
            ],
            [
             0.1,
             "#c51b7d"
            ],
            [
             0.2,
             "#de77ae"
            ],
            [
             0.3,
             "#f1b6da"
            ],
            [
             0.4,
             "#fde0ef"
            ],
            [
             0.5,
             "#f7f7f7"
            ],
            [
             0.6,
             "#e6f5d0"
            ],
            [
             0.7,
             "#b8e186"
            ],
            [
             0.8,
             "#7fbc41"
            ],
            [
             0.9,
             "#4d9221"
            ],
            [
             1,
             "#276419"
            ]
           ],
           "sequential": [
            [
             0,
             "#0d0887"
            ],
            [
             0.1111111111111111,
             "#46039f"
            ],
            [
             0.2222222222222222,
             "#7201a8"
            ],
            [
             0.3333333333333333,
             "#9c179e"
            ],
            [
             0.4444444444444444,
             "#bd3786"
            ],
            [
             0.5555555555555556,
             "#d8576b"
            ],
            [
             0.6666666666666666,
             "#ed7953"
            ],
            [
             0.7777777777777778,
             "#fb9f3a"
            ],
            [
             0.8888888888888888,
             "#fdca26"
            ],
            [
             1,
             "#f0f921"
            ]
           ],
           "sequentialminus": [
            [
             0,
             "#0d0887"
            ],
            [
             0.1111111111111111,
             "#46039f"
            ],
            [
             0.2222222222222222,
             "#7201a8"
            ],
            [
             0.3333333333333333,
             "#9c179e"
            ],
            [
             0.4444444444444444,
             "#bd3786"
            ],
            [
             0.5555555555555556,
             "#d8576b"
            ],
            [
             0.6666666666666666,
             "#ed7953"
            ],
            [
             0.7777777777777778,
             "#fb9f3a"
            ],
            [
             0.8888888888888888,
             "#fdca26"
            ],
            [
             1,
             "#f0f921"
            ]
           ]
          },
          "colorway": [
           "#636efa",
           "#EF553B",
           "#00cc96",
           "#ab63fa",
           "#FFA15A",
           "#19d3f3",
           "#FF6692",
           "#B6E880",
           "#FF97FF",
           "#FECB52"
          ],
          "font": {
           "color": "#2a3f5f"
          },
          "geo": {
           "bgcolor": "white",
           "lakecolor": "white",
           "landcolor": "#E5ECF6",
           "showlakes": true,
           "showland": true,
           "subunitcolor": "white"
          },
          "hoverlabel": {
           "align": "left"
          },
          "hovermode": "closest",
          "mapbox": {
           "style": "light"
          },
          "paper_bgcolor": "white",
          "plot_bgcolor": "#E5ECF6",
          "polar": {
           "angularaxis": {
            "gridcolor": "white",
            "linecolor": "white",
            "ticks": ""
           },
           "bgcolor": "#E5ECF6",
           "radialaxis": {
            "gridcolor": "white",
            "linecolor": "white",
            "ticks": ""
           }
          },
          "scene": {
           "xaxis": {
            "backgroundcolor": "#E5ECF6",
            "gridcolor": "white",
            "gridwidth": 2,
            "linecolor": "white",
            "showbackground": true,
            "ticks": "",
            "zerolinecolor": "white"
           },
           "yaxis": {
            "backgroundcolor": "#E5ECF6",
            "gridcolor": "white",
            "gridwidth": 2,
            "linecolor": "white",
            "showbackground": true,
            "ticks": "",
            "zerolinecolor": "white"
           },
           "zaxis": {
            "backgroundcolor": "#E5ECF6",
            "gridcolor": "white",
            "gridwidth": 2,
            "linecolor": "white",
            "showbackground": true,
            "ticks": "",
            "zerolinecolor": "white"
           }
          },
          "shapedefaults": {
           "line": {
            "color": "#2a3f5f"
           }
          },
          "ternary": {
           "aaxis": {
            "gridcolor": "white",
            "linecolor": "white",
            "ticks": ""
           },
           "baxis": {
            "gridcolor": "white",
            "linecolor": "white",
            "ticks": ""
           },
           "bgcolor": "#E5ECF6",
           "caxis": {
            "gridcolor": "white",
            "linecolor": "white",
            "ticks": ""
           }
          },
          "title": {
           "x": 0.05
          },
          "xaxis": {
           "automargin": true,
           "gridcolor": "white",
           "linecolor": "white",
           "ticks": "",
           "title": {
            "standoff": 15
           },
           "zerolinecolor": "white",
           "zerolinewidth": 2
          },
          "yaxis": {
           "automargin": true,
           "gridcolor": "white",
           "linecolor": "white",
           "ticks": "",
           "title": {
            "standoff": 15
           },
           "zerolinecolor": "white",
           "zerolinewidth": 2
          }
         }
        },
        "title": {
         "text": "Validation Metrics Over Time (HOD Model)"
        },
        "xaxis": {
         "anchor": "y",
         "domain": [
          0,
          1
         ],
         "title": {
          "text": "index"
         }
        },
        "yaxis": {
         "anchor": "x",
         "domain": [
          0,
          1
         ],
         "title": {
          "text": "value"
         }
        }
       }
      }
     },
     "metadata": {},
     "output_type": "display_data"
    }
   ],
   "source": [
    "import datetime\n",
    "import plotly.express as px\n",
    "\n",
    "\n",
    "time_range = [datetime.time(hour, minute) for hour in range(9, 16) for minute in range(0, 60, 5)]\n",
    "time_range = [x for x in time_range if x >= datetime.time(9,45)]\n",
    "df_val = pd.DataFrame()\n",
    "for t in time_range:\n",
    "    X_val = X_test.loc[X_test['time'] <= t].copy()\n",
    "    y_val = y_test.loc[X_val.index, 'hod_in'].copy()\n",
    "\n",
    "    y_pred_val = pipeline.predict_proba(X_val)[:,-1]\n",
    "\n",
    "    df_val.loc[t, [\n",
    "        'roc_auc',\n",
    "        'precision',\n",
    "        'recall'\n",
    "    ]] =  roc_auc_score(y_val, y_pred_val), precision_score(y_val, y_pred_val > 0.5), recall_score(y_val, y_pred_val > 0.5)\n",
    "\n",
    "\n",
    "fig = px.line(df_val, title='Validation Metrics Over Time (HOD Model)')\n",
    "fig.show()"
   ]
  },
  {
   "cell_type": "code",
   "execution_count": 113,
   "metadata": {},
   "outputs": [
    {
     "data": {
      "application/vnd.plotly.v1+json": {
       "config": {
        "plotlyServerURL": "https://plot.ly"
       },
       "data": [
        {
         "hovertemplate": "variable=roc_auc<br>index=%{x}<br>value=%{y}<extra></extra>",
         "legendgroup": "roc_auc",
         "line": {
          "color": "#636efa",
          "dash": "solid"
         },
         "marker": {
          "symbol": "circle"
         },
         "mode": "lines",
         "name": "roc_auc",
         "orientation": "v",
         "showlegend": true,
         "type": "scatter",
         "x": [
          "09:45:00",
          "09:50:00",
          "09:55:00",
          "10:00:00",
          "10:05:00",
          "10:10:00",
          "10:15:00",
          "10:20:00",
          "10:25:00",
          "10:30:00",
          "10:35:00",
          "10:40:00",
          "10:45:00",
          "10:50:00",
          "10:55:00",
          "11:00:00",
          "11:05:00",
          "11:10:00",
          "11:15:00",
          "11:20:00",
          "11:25:00",
          "11:30:00",
          "11:35:00",
          "11:40:00",
          "11:45:00",
          "11:50:00",
          "11:55:00",
          "12:00:00",
          "12:05:00",
          "12:10:00",
          "12:15:00",
          "12:20:00",
          "12:25:00",
          "12:30:00",
          "12:35:00",
          "12:40:00",
          "12:45:00",
          "12:50:00",
          "12:55:00",
          "13:00:00",
          "13:05:00",
          "13:10:00",
          "13:15:00",
          "13:20:00",
          "13:25:00",
          "13:30:00",
          "13:35:00",
          "13:40:00",
          "13:45:00",
          "13:50:00",
          "13:55:00",
          "14:00:00",
          "14:05:00",
          "14:10:00",
          "14:15:00",
          "14:20:00",
          "14:25:00",
          "14:30:00",
          "14:35:00",
          "14:40:00",
          "14:45:00",
          "14:50:00",
          "14:55:00",
          "15:00:00",
          "15:05:00",
          "15:10:00",
          "15:15:00",
          "15:20:00",
          "15:25:00",
          "15:30:00",
          "15:35:00",
          "15:40:00",
          "15:45:00",
          "15:50:00",
          "15:55:00"
         ],
         "xaxis": "x",
         "y": [
          0.7097402597402598,
          0.7212246411356533,
          0.7072741001761893,
          0.727532928064843,
          0.7430663820465466,
          0.7590693074746586,
          0.7627322203779366,
          0.7668737060041408,
          0.7683395127118644,
          0.7703820834850138,
          0.7771718781800019,
          0.7845822119191053,
          0.7891267051911525,
          0.7888193097954338,
          0.7898887084121335,
          0.7913764085922795,
          0.7923473178929414,
          0.792404923767555,
          0.7917403786294277,
          0.7920016077170418,
          0.7923097157472159,
          0.7915887702719049,
          0.7912142839171747,
          0.7919739606305142,
          0.7925723907951038,
          0.792430844228919,
          0.7918422998795107,
          0.7920024639507209,
          0.7922423983203236,
          0.7926658816062523,
          0.7926331923857384,
          0.7920823650817592,
          0.7919954731828502,
          0.7917265335860008,
          0.7913947962478866,
          0.7906021567439957,
          0.7898512035349579,
          0.7894159308072863,
          0.789471805885516,
          0.7896677031983416,
          0.7901326110125066,
          0.7901397649701892,
          0.7906211077335795,
          0.7909360053434475,
          0.7914886211964194,
          0.7918649222226785,
          0.7927508826399221,
          0.7938794030007352,
          0.7946673753339343,
          0.7950244639003241,
          0.7952935953902129,
          0.7964905271856283,
          0.7977509013496878,
          0.7993416903922356,
          0.8004654239159494,
          0.8016480717848588,
          0.8026868323708272,
          0.8037820856031748,
          0.8049107041573351,
          0.8060910559705131,
          0.8072918152851096,
          0.8085335155304532,
          0.8097047162601678,
          0.8109182101180306,
          0.812278532482916,
          0.8135636402450039,
          0.8148220599715296,
          0.8163226407092241,
          0.818004105843732,
          0.8195755145682972,
          0.8211901527403414,
          0.8228303276869051,
          0.8246045924416912,
          0.8267927991174406,
          0.8295829347461715
         ],
         "yaxis": "y"
        },
        {
         "hovertemplate": "variable=precision<br>index=%{x}<br>value=%{y}<extra></extra>",
         "legendgroup": "precision",
         "line": {
          "color": "#EF553B",
          "dash": "solid"
         },
         "marker": {
          "symbol": "circle"
         },
         "mode": "lines",
         "name": "precision",
         "orientation": "v",
         "showlegend": true,
         "type": "scatter",
         "x": [
          "09:45:00",
          "09:50:00",
          "09:55:00",
          "10:00:00",
          "10:05:00",
          "10:10:00",
          "10:15:00",
          "10:20:00",
          "10:25:00",
          "10:30:00",
          "10:35:00",
          "10:40:00",
          "10:45:00",
          "10:50:00",
          "10:55:00",
          "11:00:00",
          "11:05:00",
          "11:10:00",
          "11:15:00",
          "11:20:00",
          "11:25:00",
          "11:30:00",
          "11:35:00",
          "11:40:00",
          "11:45:00",
          "11:50:00",
          "11:55:00",
          "12:00:00",
          "12:05:00",
          "12:10:00",
          "12:15:00",
          "12:20:00",
          "12:25:00",
          "12:30:00",
          "12:35:00",
          "12:40:00",
          "12:45:00",
          "12:50:00",
          "12:55:00",
          "13:00:00",
          "13:05:00",
          "13:10:00",
          "13:15:00",
          "13:20:00",
          "13:25:00",
          "13:30:00",
          "13:35:00",
          "13:40:00",
          "13:45:00",
          "13:50:00",
          "13:55:00",
          "14:00:00",
          "14:05:00",
          "14:10:00",
          "14:15:00",
          "14:20:00",
          "14:25:00",
          "14:30:00",
          "14:35:00",
          "14:40:00",
          "14:45:00",
          "14:50:00",
          "14:55:00",
          "15:00:00",
          "15:05:00",
          "15:10:00",
          "15:15:00",
          "15:20:00",
          "15:25:00",
          "15:30:00",
          "15:35:00",
          "15:40:00",
          "15:45:00",
          "15:50:00",
          "15:55:00"
         ],
         "xaxis": "x",
         "y": [
          0.5714285714285714,
          0.5625,
          0.6153846153846154,
          0.6829268292682927,
          0.6964285714285714,
          0.7012987012987013,
          0.7058823529411765,
          0.7153846153846154,
          0.7142857142857143,
          0.7103825136612022,
          0.7259615384615384,
          0.7368421052631579,
          0.7457044673539519,
          0.7433628318584071,
          0.7404580152671756,
          0.7412280701754386,
          0.7456647398843931,
          0.7482993197278912,
          0.7420333839150227,
          0.7400820793433652,
          0.7367773677736777,
          0.732519422863485,
          0.7296482412060301,
          0.7276908923643054,
          0.7247474747474747,
          0.721056721056721,
          0.7185025197984162,
          0.7124749833222148,
          0.707997520148791,
          0.7064965197215777,
          0.704570184983678,
          0.7017902813299233,
          0.7007722007722008,
          0.6990424076607387,
          0.6967602591792657,
          0.6950819672131148,
          0.6929072486360094,
          0.6917935388043075,
          0.6917080085046067,
          0.6917344173441734,
          0.6915342199156665,
          0.6908017402113114,
          0.6911150864639237,
          0.6913155631986242,
          0.6913103448275862,
          0.6922053737696195,
          0.6934737923946557,
          0.695382323733863,
          0.6969987995198079,
          0.6984200743494424,
          0.6995949594959496,
          0.7012873663539166,
          0.7032408388053378,
          0.7054949578102491,
          0.7074,
          0.7091757387247278,
          0.7110143830431491,
          0.7130226561060969,
          0.7151830581478823,
          0.7171593493090782,
          0.7189899334584542,
          0.720945720945721,
          0.7226918075422627,
          0.7246307765602668,
          0.7264824588637069,
          0.7280315677644559,
          0.7297417631344613,
          0.731629392971246,
          0.7339684345229631,
          0.7363142498955286,
          0.738803932277444,
          0.7415640064274237,
          0.744451739986868,
          0.747906737086178,
          0.7526229300973328
         ],
         "yaxis": "y"
        },
        {
         "hovertemplate": "variable=recall<br>index=%{x}<br>value=%{y}<extra></extra>",
         "legendgroup": "recall",
         "line": {
          "color": "#00cc96",
          "dash": "solid"
         },
         "marker": {
          "symbol": "circle"
         },
         "mode": "lines",
         "name": "recall",
         "orientation": "v",
         "showlegend": true,
         "type": "scatter",
         "x": [
          "09:45:00",
          "09:50:00",
          "09:55:00",
          "10:00:00",
          "10:05:00",
          "10:10:00",
          "10:15:00",
          "10:20:00",
          "10:25:00",
          "10:30:00",
          "10:35:00",
          "10:40:00",
          "10:45:00",
          "10:50:00",
          "10:55:00",
          "11:00:00",
          "11:05:00",
          "11:10:00",
          "11:15:00",
          "11:20:00",
          "11:25:00",
          "11:30:00",
          "11:35:00",
          "11:40:00",
          "11:45:00",
          "11:50:00",
          "11:55:00",
          "12:00:00",
          "12:05:00",
          "12:10:00",
          "12:15:00",
          "12:20:00",
          "12:25:00",
          "12:30:00",
          "12:35:00",
          "12:40:00",
          "12:45:00",
          "12:50:00",
          "12:55:00",
          "13:00:00",
          "13:05:00",
          "13:10:00",
          "13:15:00",
          "13:20:00",
          "13:25:00",
          "13:30:00",
          "13:35:00",
          "13:40:00",
          "13:45:00",
          "13:50:00",
          "13:55:00",
          "14:00:00",
          "14:05:00",
          "14:10:00",
          "14:15:00",
          "14:20:00",
          "14:25:00",
          "14:30:00",
          "14:35:00",
          "14:40:00",
          "14:45:00",
          "14:50:00",
          "14:55:00",
          "15:00:00",
          "15:05:00",
          "15:10:00",
          "15:15:00",
          "15:20:00",
          "15:25:00",
          "15:30:00",
          "15:35:00",
          "15:40:00",
          "15:45:00",
          "15:50:00",
          "15:55:00"
         ],
         "xaxis": "x",
         "y": [
          0.09523809523809523,
          0.10344827586206896,
          0.11678832116788321,
          0.14893617021276595,
          0.16182572614107885,
          0.18305084745762712,
          0.20454545454545456,
          0.22627737226277372,
          0.2330508474576271,
          0.24253731343283583,
          0.2512479201331115,
          0.272863568215892,
          0.2956403269754768,
          0.31343283582089554,
          0.3329519450800915,
          0.3576719576719577,
          0.37978410206084395,
          0.40219378427787933,
          0.41830624465355004,
          0.43488745980707394,
          0.4537878787878788,
          0.47244094488188976,
          0.4922033898305085,
          0.5093367675466839,
          0.5278969957081545,
          0.5423728813559322,
          0.5569196428571429,
          0.5696,
          0.5829504849412965,
          0.5958904109589042,
          0.6082667919210897,
          0.61941309255079,
          0.6310299869621904,
          0.6416910841356216,
          0.6511909568025838,
          0.6609508963367108,
          0.6691757621377493,
          0.6777009821753365,
          0.6868402533427164,
          0.6955040871934605,
          0.7036303630363037,
          0.7115877080665813,
          0.7200994097545822,
          0.727821363910682,
          0.7351129363449692,
          0.7415218010829296,
          0.7476454293628809,
          0.7543765149474818,
          0.7605449305737491,
          0.7662503186336987,
          0.7714640198511167,
          0.77670372160464,
          0.7815442561205274,
          0.7865993575034419,
          0.7912751677852349,
          0.7959851625572769,
          0.8000425894378195,
          0.8044472152950956,
          0.8086444805194806,
          0.8128469468675654,
          0.8166666666666667,
          0.8206974981046247,
          0.8245548961424333,
          0.8282809947358867,
          0.8317042829216279,
          0.8349869451697128,
          0.8383631713554988,
          0.8416304710992315,
          0.8448445171849427,
          0.847794707297514,
          0.8507861635220125,
          0.8534442903374942,
          0.8560857746904259,
          0.8588757396449704,
          0.8616497829232995
         ],
         "yaxis": "y"
        }
       ],
       "layout": {
        "legend": {
         "title": {
          "text": "variable"
         },
         "tracegroupgap": 0
        },
        "template": {
         "data": {
          "bar": [
           {
            "error_x": {
             "color": "#2a3f5f"
            },
            "error_y": {
             "color": "#2a3f5f"
            },
            "marker": {
             "line": {
              "color": "#E5ECF6",
              "width": 0.5
             },
             "pattern": {
              "fillmode": "overlay",
              "size": 10,
              "solidity": 0.2
             }
            },
            "type": "bar"
           }
          ],
          "barpolar": [
           {
            "marker": {
             "line": {
              "color": "#E5ECF6",
              "width": 0.5
             },
             "pattern": {
              "fillmode": "overlay",
              "size": 10,
              "solidity": 0.2
             }
            },
            "type": "barpolar"
           }
          ],
          "carpet": [
           {
            "aaxis": {
             "endlinecolor": "#2a3f5f",
             "gridcolor": "white",
             "linecolor": "white",
             "minorgridcolor": "white",
             "startlinecolor": "#2a3f5f"
            },
            "baxis": {
             "endlinecolor": "#2a3f5f",
             "gridcolor": "white",
             "linecolor": "white",
             "minorgridcolor": "white",
             "startlinecolor": "#2a3f5f"
            },
            "type": "carpet"
           }
          ],
          "choropleth": [
           {
            "colorbar": {
             "outlinewidth": 0,
             "ticks": ""
            },
            "type": "choropleth"
           }
          ],
          "contour": [
           {
            "colorbar": {
             "outlinewidth": 0,
             "ticks": ""
            },
            "colorscale": [
             [
              0,
              "#0d0887"
             ],
             [
              0.1111111111111111,
              "#46039f"
             ],
             [
              0.2222222222222222,
              "#7201a8"
             ],
             [
              0.3333333333333333,
              "#9c179e"
             ],
             [
              0.4444444444444444,
              "#bd3786"
             ],
             [
              0.5555555555555556,
              "#d8576b"
             ],
             [
              0.6666666666666666,
              "#ed7953"
             ],
             [
              0.7777777777777778,
              "#fb9f3a"
             ],
             [
              0.8888888888888888,
              "#fdca26"
             ],
             [
              1,
              "#f0f921"
             ]
            ],
            "type": "contour"
           }
          ],
          "contourcarpet": [
           {
            "colorbar": {
             "outlinewidth": 0,
             "ticks": ""
            },
            "type": "contourcarpet"
           }
          ],
          "heatmap": [
           {
            "colorbar": {
             "outlinewidth": 0,
             "ticks": ""
            },
            "colorscale": [
             [
              0,
              "#0d0887"
             ],
             [
              0.1111111111111111,
              "#46039f"
             ],
             [
              0.2222222222222222,
              "#7201a8"
             ],
             [
              0.3333333333333333,
              "#9c179e"
             ],
             [
              0.4444444444444444,
              "#bd3786"
             ],
             [
              0.5555555555555556,
              "#d8576b"
             ],
             [
              0.6666666666666666,
              "#ed7953"
             ],
             [
              0.7777777777777778,
              "#fb9f3a"
             ],
             [
              0.8888888888888888,
              "#fdca26"
             ],
             [
              1,
              "#f0f921"
             ]
            ],
            "type": "heatmap"
           }
          ],
          "heatmapgl": [
           {
            "colorbar": {
             "outlinewidth": 0,
             "ticks": ""
            },
            "colorscale": [
             [
              0,
              "#0d0887"
             ],
             [
              0.1111111111111111,
              "#46039f"
             ],
             [
              0.2222222222222222,
              "#7201a8"
             ],
             [
              0.3333333333333333,
              "#9c179e"
             ],
             [
              0.4444444444444444,
              "#bd3786"
             ],
             [
              0.5555555555555556,
              "#d8576b"
             ],
             [
              0.6666666666666666,
              "#ed7953"
             ],
             [
              0.7777777777777778,
              "#fb9f3a"
             ],
             [
              0.8888888888888888,
              "#fdca26"
             ],
             [
              1,
              "#f0f921"
             ]
            ],
            "type": "heatmapgl"
           }
          ],
          "histogram": [
           {
            "marker": {
             "pattern": {
              "fillmode": "overlay",
              "size": 10,
              "solidity": 0.2
             }
            },
            "type": "histogram"
           }
          ],
          "histogram2d": [
           {
            "colorbar": {
             "outlinewidth": 0,
             "ticks": ""
            },
            "colorscale": [
             [
              0,
              "#0d0887"
             ],
             [
              0.1111111111111111,
              "#46039f"
             ],
             [
              0.2222222222222222,
              "#7201a8"
             ],
             [
              0.3333333333333333,
              "#9c179e"
             ],
             [
              0.4444444444444444,
              "#bd3786"
             ],
             [
              0.5555555555555556,
              "#d8576b"
             ],
             [
              0.6666666666666666,
              "#ed7953"
             ],
             [
              0.7777777777777778,
              "#fb9f3a"
             ],
             [
              0.8888888888888888,
              "#fdca26"
             ],
             [
              1,
              "#f0f921"
             ]
            ],
            "type": "histogram2d"
           }
          ],
          "histogram2dcontour": [
           {
            "colorbar": {
             "outlinewidth": 0,
             "ticks": ""
            },
            "colorscale": [
             [
              0,
              "#0d0887"
             ],
             [
              0.1111111111111111,
              "#46039f"
             ],
             [
              0.2222222222222222,
              "#7201a8"
             ],
             [
              0.3333333333333333,
              "#9c179e"
             ],
             [
              0.4444444444444444,
              "#bd3786"
             ],
             [
              0.5555555555555556,
              "#d8576b"
             ],
             [
              0.6666666666666666,
              "#ed7953"
             ],
             [
              0.7777777777777778,
              "#fb9f3a"
             ],
             [
              0.8888888888888888,
              "#fdca26"
             ],
             [
              1,
              "#f0f921"
             ]
            ],
            "type": "histogram2dcontour"
           }
          ],
          "mesh3d": [
           {
            "colorbar": {
             "outlinewidth": 0,
             "ticks": ""
            },
            "type": "mesh3d"
           }
          ],
          "parcoords": [
           {
            "line": {
             "colorbar": {
              "outlinewidth": 0,
              "ticks": ""
             }
            },
            "type": "parcoords"
           }
          ],
          "pie": [
           {
            "automargin": true,
            "type": "pie"
           }
          ],
          "scatter": [
           {
            "fillpattern": {
             "fillmode": "overlay",
             "size": 10,
             "solidity": 0.2
            },
            "type": "scatter"
           }
          ],
          "scatter3d": [
           {
            "line": {
             "colorbar": {
              "outlinewidth": 0,
              "ticks": ""
             }
            },
            "marker": {
             "colorbar": {
              "outlinewidth": 0,
              "ticks": ""
             }
            },
            "type": "scatter3d"
           }
          ],
          "scattercarpet": [
           {
            "marker": {
             "colorbar": {
              "outlinewidth": 0,
              "ticks": ""
             }
            },
            "type": "scattercarpet"
           }
          ],
          "scattergeo": [
           {
            "marker": {
             "colorbar": {
              "outlinewidth": 0,
              "ticks": ""
             }
            },
            "type": "scattergeo"
           }
          ],
          "scattergl": [
           {
            "marker": {
             "colorbar": {
              "outlinewidth": 0,
              "ticks": ""
             }
            },
            "type": "scattergl"
           }
          ],
          "scattermapbox": [
           {
            "marker": {
             "colorbar": {
              "outlinewidth": 0,
              "ticks": ""
             }
            },
            "type": "scattermapbox"
           }
          ],
          "scatterpolar": [
           {
            "marker": {
             "colorbar": {
              "outlinewidth": 0,
              "ticks": ""
             }
            },
            "type": "scatterpolar"
           }
          ],
          "scatterpolargl": [
           {
            "marker": {
             "colorbar": {
              "outlinewidth": 0,
              "ticks": ""
             }
            },
            "type": "scatterpolargl"
           }
          ],
          "scatterternary": [
           {
            "marker": {
             "colorbar": {
              "outlinewidth": 0,
              "ticks": ""
             }
            },
            "type": "scatterternary"
           }
          ],
          "surface": [
           {
            "colorbar": {
             "outlinewidth": 0,
             "ticks": ""
            },
            "colorscale": [
             [
              0,
              "#0d0887"
             ],
             [
              0.1111111111111111,
              "#46039f"
             ],
             [
              0.2222222222222222,
              "#7201a8"
             ],
             [
              0.3333333333333333,
              "#9c179e"
             ],
             [
              0.4444444444444444,
              "#bd3786"
             ],
             [
              0.5555555555555556,
              "#d8576b"
             ],
             [
              0.6666666666666666,
              "#ed7953"
             ],
             [
              0.7777777777777778,
              "#fb9f3a"
             ],
             [
              0.8888888888888888,
              "#fdca26"
             ],
             [
              1,
              "#f0f921"
             ]
            ],
            "type": "surface"
           }
          ],
          "table": [
           {
            "cells": {
             "fill": {
              "color": "#EBF0F8"
             },
             "line": {
              "color": "white"
             }
            },
            "header": {
             "fill": {
              "color": "#C8D4E3"
             },
             "line": {
              "color": "white"
             }
            },
            "type": "table"
           }
          ]
         },
         "layout": {
          "annotationdefaults": {
           "arrowcolor": "#2a3f5f",
           "arrowhead": 0,
           "arrowwidth": 1
          },
          "autotypenumbers": "strict",
          "coloraxis": {
           "colorbar": {
            "outlinewidth": 0,
            "ticks": ""
           }
          },
          "colorscale": {
           "diverging": [
            [
             0,
             "#8e0152"
            ],
            [
             0.1,
             "#c51b7d"
            ],
            [
             0.2,
             "#de77ae"
            ],
            [
             0.3,
             "#f1b6da"
            ],
            [
             0.4,
             "#fde0ef"
            ],
            [
             0.5,
             "#f7f7f7"
            ],
            [
             0.6,
             "#e6f5d0"
            ],
            [
             0.7,
             "#b8e186"
            ],
            [
             0.8,
             "#7fbc41"
            ],
            [
             0.9,
             "#4d9221"
            ],
            [
             1,
             "#276419"
            ]
           ],
           "sequential": [
            [
             0,
             "#0d0887"
            ],
            [
             0.1111111111111111,
             "#46039f"
            ],
            [
             0.2222222222222222,
             "#7201a8"
            ],
            [
             0.3333333333333333,
             "#9c179e"
            ],
            [
             0.4444444444444444,
             "#bd3786"
            ],
            [
             0.5555555555555556,
             "#d8576b"
            ],
            [
             0.6666666666666666,
             "#ed7953"
            ],
            [
             0.7777777777777778,
             "#fb9f3a"
            ],
            [
             0.8888888888888888,
             "#fdca26"
            ],
            [
             1,
             "#f0f921"
            ]
           ],
           "sequentialminus": [
            [
             0,
             "#0d0887"
            ],
            [
             0.1111111111111111,
             "#46039f"
            ],
            [
             0.2222222222222222,
             "#7201a8"
            ],
            [
             0.3333333333333333,
             "#9c179e"
            ],
            [
             0.4444444444444444,
             "#bd3786"
            ],
            [
             0.5555555555555556,
             "#d8576b"
            ],
            [
             0.6666666666666666,
             "#ed7953"
            ],
            [
             0.7777777777777778,
             "#fb9f3a"
            ],
            [
             0.8888888888888888,
             "#fdca26"
            ],
            [
             1,
             "#f0f921"
            ]
           ]
          },
          "colorway": [
           "#636efa",
           "#EF553B",
           "#00cc96",
           "#ab63fa",
           "#FFA15A",
           "#19d3f3",
           "#FF6692",
           "#B6E880",
           "#FF97FF",
           "#FECB52"
          ],
          "font": {
           "color": "#2a3f5f"
          },
          "geo": {
           "bgcolor": "white",
           "lakecolor": "white",
           "landcolor": "#E5ECF6",
           "showlakes": true,
           "showland": true,
           "subunitcolor": "white"
          },
          "hoverlabel": {
           "align": "left"
          },
          "hovermode": "closest",
          "mapbox": {
           "style": "light"
          },
          "paper_bgcolor": "white",
          "plot_bgcolor": "#E5ECF6",
          "polar": {
           "angularaxis": {
            "gridcolor": "white",
            "linecolor": "white",
            "ticks": ""
           },
           "bgcolor": "#E5ECF6",
           "radialaxis": {
            "gridcolor": "white",
            "linecolor": "white",
            "ticks": ""
           }
          },
          "scene": {
           "xaxis": {
            "backgroundcolor": "#E5ECF6",
            "gridcolor": "white",
            "gridwidth": 2,
            "linecolor": "white",
            "showbackground": true,
            "ticks": "",
            "zerolinecolor": "white"
           },
           "yaxis": {
            "backgroundcolor": "#E5ECF6",
            "gridcolor": "white",
            "gridwidth": 2,
            "linecolor": "white",
            "showbackground": true,
            "ticks": "",
            "zerolinecolor": "white"
           },
           "zaxis": {
            "backgroundcolor": "#E5ECF6",
            "gridcolor": "white",
            "gridwidth": 2,
            "linecolor": "white",
            "showbackground": true,
            "ticks": "",
            "zerolinecolor": "white"
           }
          },
          "shapedefaults": {
           "line": {
            "color": "#2a3f5f"
           }
          },
          "ternary": {
           "aaxis": {
            "gridcolor": "white",
            "linecolor": "white",
            "ticks": ""
           },
           "baxis": {
            "gridcolor": "white",
            "linecolor": "white",
            "ticks": ""
           },
           "bgcolor": "#E5ECF6",
           "caxis": {
            "gridcolor": "white",
            "linecolor": "white",
            "ticks": ""
           }
          },
          "title": {
           "x": 0.05
          },
          "xaxis": {
           "automargin": true,
           "gridcolor": "white",
           "linecolor": "white",
           "ticks": "",
           "title": {
            "standoff": 15
           },
           "zerolinecolor": "white",
           "zerolinewidth": 2
          },
          "yaxis": {
           "automargin": true,
           "gridcolor": "white",
           "linecolor": "white",
           "ticks": "",
           "title": {
            "standoff": 15
           },
           "zerolinecolor": "white",
           "zerolinewidth": 2
          }
         }
        },
        "title": {
         "text": "Validation Metrics Over Time (LOD Model)"
        },
        "xaxis": {
         "anchor": "y",
         "domain": [
          0,
          1
         ],
         "title": {
          "text": "index"
         }
        },
        "yaxis": {
         "anchor": "x",
         "domain": [
          0,
          1
         ],
         "title": {
          "text": "value"
         }
        }
       }
      }
     },
     "metadata": {},
     "output_type": "display_data"
    }
   ],
   "source": [
    "import datetime\n",
    "import plotly.express as px\n",
    "\n",
    "\n",
    "time_range = [datetime.time(hour, minute) for hour in range(9, 16) for minute in range(0, 60, 5)]\n",
    "time_range = [x for x in time_range if x >= datetime.time(9,45)]\n",
    "df_val = pd.DataFrame()\n",
    "for t in time_range:\n",
    "    X_val = X_test.loc[X_test['time'] <= t].copy()\n",
    "    y_val = y_test.loc[X_val.index, 'lod_in'].copy()\n",
    "\n",
    "    y_pred_val = pipeline_lod.predict_proba(X_val)[:,-1]\n",
    "\n",
    "    df_val.loc[t, [\n",
    "        'roc_auc',\n",
    "        'precision',\n",
    "        'recall'\n",
    "    ]] =  roc_auc_score(y_val, y_pred_val), precision_score(y_val, y_pred_val > 0.5), recall_score(y_val, y_pred_val > 0.5)\n",
    "\n",
    "\n",
    "fig = px.line(df_val, title='Validation Metrics Over Time (LOD Model)')\n",
    "fig.show()"
   ]
  },
  {
   "cell_type": "code",
   "execution_count": 114,
   "metadata": {},
   "outputs": [],
   "source": [
    "df_results = X_test.copy()\n",
    "df_results['pred_hod'] = y_pred_hod\n",
    "df_results['pred_lod'] = y_pred_lod"
   ]
  },
  {
   "cell_type": "code",
   "execution_count": 115,
   "metadata": {},
   "outputs": [
    {
     "data": {
      "text/plain": [
       "Timestamp('2023-05-24 09:45:00')"
      ]
     },
     "execution_count": 115,
     "metadata": {},
     "output_type": "execute_result"
    }
   ],
   "source": [
    "X_test.index[0]"
   ]
  },
  {
   "cell_type": "code",
   "execution_count": 116,
   "metadata": {},
   "outputs": [
    {
     "data": {
      "application/vnd.plotly.v1+json": {
       "config": {
        "plotlyServerURL": "https://plot.ly"
       },
       "data": [
        {
         "close": [
          4785.9,
          4785.83,
          4785.93,
          4786.7,
          4785.83,
          4784.14,
          4784.49,
          4783.24,
          4785,
          4781.6,
          4780.6,
          4777.06,
          4771.86,
          4770.94,
          4772.5,
          4774.16,
          4770.45,
          4765.53,
          4763.81,
          4760.75,
          4757.91,
          4757.9,
          4759.2,
          4759.1,
          4762.32,
          4761.18,
          4760.55,
          4760.21,
          4757.71,
          4755.51,
          4756.5,
          4754.28,
          4754,
          4756.43,
          4757.91,
          4758.8,
          4758.49,
          4760.17,
          4763.39,
          4765.64,
          4766.96,
          4767.28,
          4764.17,
          4763.75,
          4763.37,
          4764.9,
          4768.03,
          4768.95,
          4771.08,
          4767.89,
          4768.57,
          4768.92,
          4768.74,
          4768.56,
          4770.02,
          4772,
          4768.71,
          4770.56,
          4771.14,
          4771.18,
          4772.82,
          4773.67,
          4774.05,
          4770.75,
          4775.37,
          4775.32,
          4773.25,
          4772.63,
          4775.83,
          4773.37,
          4774.08,
          4771.86,
          4770.34,
          4765.45,
          4772.17
         ],
         "high": [
          4787.14,
          4786.81,
          4786.6,
          4786.91,
          4788.43,
          4786.51,
          4784.63,
          4784.93,
          4785.13,
          4785.46,
          4782.14,
          4780.66,
          4777.96,
          4774.74,
          4774.05,
          4774.6,
          4774.52,
          4770.86,
          4765.56,
          4764.12,
          4761.6,
          4760.53,
          4759.2,
          4760.47,
          4762.4,
          4762.58,
          4762.24,
          4763.34,
          4760.23,
          4758.45,
          4757.14,
          4758.01,
          4754.74,
          4756.93,
          4758.14,
          4759.04,
          4760.55,
          4760.89,
          4763.81,
          4766.15,
          4768.11,
          4769.13,
          4767.5,
          4764.91,
          4764.42,
          4766.12,
          4768.06,
          4769.84,
          4771.15,
          4771.23,
          4769.52,
          4770.48,
          4769.94,
          4769.52,
          4770.05,
          4772.29,
          4772.55,
          4770.84,
          4771.79,
          4772.07,
          4772.92,
          4774.1,
          4774.95,
          4774.12,
          4775.45,
          4776.9,
          4775.85,
          4773.38,
          4776.51,
          4775.9,
          4774.59,
          4775.66,
          4772.96,
          4774.07,
          4774.03
         ],
         "low": [
          4785.23,
          4784.87,
          4785.13,
          4785.72,
          4785.58,
          4784.09,
          4783.39,
          4782.89,
          4783.13,
          4780.46,
          4780.16,
          4776.36,
          4769.39,
          4770.72,
          4770.27,
          4772.22,
          4769.2,
          4765.53,
          4760.09,
          4760,
          4757.67,
          4757.13,
          4756.07,
          4758.18,
          4758.98,
          4758.45,
          4760.19,
          4760.11,
          4756.69,
          4754.84,
          4754.52,
          4751.99,
          4753.21,
          4753.67,
          4755.67,
          4757.56,
          4758.37,
          4758.03,
          4760.17,
          4761.89,
          4765.63,
          4766.63,
          4763.92,
          4762.34,
          4762.86,
          4763.37,
          4764.86,
          4767.15,
          4768,
          4767.7,
          4767.27,
          4768.03,
          4768.66,
          4767.67,
          4768.05,
          4769.57,
          4768.47,
          4768.71,
          4770.09,
          4770.55,
          4771.3,
          4772.75,
          4773.18,
          4770.52,
          4769.88,
          4773.43,
          4773.2,
          4770.11,
          4772.73,
          4773.11,
          4773.25,
          4771.86,
          4770.34,
          4765.37,
          4763.58
         ],
         "open": [
          4786.92,
          4785.82,
          4785.76,
          4786.11,
          4786.73,
          4785.7,
          4784.19,
          4784.45,
          4783.21,
          4785.05,
          4781.56,
          4780.5,
          4777.07,
          4772.02,
          4770.89,
          4772.42,
          4774.17,
          4770.51,
          4765.56,
          4763.94,
          4760.8,
          4757.82,
          4757.89,
          4759.17,
          4759.1,
          4762.35,
          4761.16,
          4760.53,
          4760.23,
          4757.72,
          4755.39,
          4756.52,
          4754.21,
          4754.01,
          4756.46,
          4757.9,
          4758.77,
          4758.43,
          4760.17,
          4763.37,
          4765.65,
          4766.96,
          4767.24,
          4764.19,
          4763.69,
          4763.39,
          4764.86,
          4768.02,
          4768.96,
          4771.12,
          4767.77,
          4768.68,
          4768.87,
          4768.72,
          4768.55,
          4770.09,
          4771.89,
          4768.71,
          4770.59,
          4771.16,
          4771.34,
          4772.85,
          4773.63,
          4773.96,
          4770.74,
          4775.35,
          4775.32,
          4773.3,
          4772.73,
          4775.85,
          4773.29,
          4774.07,
          4771.78,
          4770.31,
          4765.57
         ],
         "type": "candlestick",
         "x": [
          "2023-12-29T09:45:00",
          "2023-12-29T09:50:00",
          "2023-12-29T09:55:00",
          "2023-12-29T10:00:00",
          "2023-12-29T10:05:00",
          "2023-12-29T10:10:00",
          "2023-12-29T10:15:00",
          "2023-12-29T10:20:00",
          "2023-12-29T10:25:00",
          "2023-12-29T10:30:00",
          "2023-12-29T10:35:00",
          "2023-12-29T10:40:00",
          "2023-12-29T10:45:00",
          "2023-12-29T10:50:00",
          "2023-12-29T10:55:00",
          "2023-12-29T11:00:00",
          "2023-12-29T11:05:00",
          "2023-12-29T11:10:00",
          "2023-12-29T11:15:00",
          "2023-12-29T11:20:00",
          "2023-12-29T11:25:00",
          "2023-12-29T11:30:00",
          "2023-12-29T11:35:00",
          "2023-12-29T11:40:00",
          "2023-12-29T11:45:00",
          "2023-12-29T11:50:00",
          "2023-12-29T11:55:00",
          "2023-12-29T12:00:00",
          "2023-12-29T12:05:00",
          "2023-12-29T12:10:00",
          "2023-12-29T12:15:00",
          "2023-12-29T12:20:00",
          "2023-12-29T12:25:00",
          "2023-12-29T12:30:00",
          "2023-12-29T12:35:00",
          "2023-12-29T12:40:00",
          "2023-12-29T12:45:00",
          "2023-12-29T12:50:00",
          "2023-12-29T12:55:00",
          "2023-12-29T13:00:00",
          "2023-12-29T13:05:00",
          "2023-12-29T13:10:00",
          "2023-12-29T13:15:00",
          "2023-12-29T13:20:00",
          "2023-12-29T13:25:00",
          "2023-12-29T13:30:00",
          "2023-12-29T13:35:00",
          "2023-12-29T13:40:00",
          "2023-12-29T13:45:00",
          "2023-12-29T13:50:00",
          "2023-12-29T13:55:00",
          "2023-12-29T14:00:00",
          "2023-12-29T14:05:00",
          "2023-12-29T14:10:00",
          "2023-12-29T14:15:00",
          "2023-12-29T14:20:00",
          "2023-12-29T14:25:00",
          "2023-12-29T14:30:00",
          "2023-12-29T14:35:00",
          "2023-12-29T14:40:00",
          "2023-12-29T14:45:00",
          "2023-12-29T14:50:00",
          "2023-12-29T14:55:00",
          "2023-12-29T15:00:00",
          "2023-12-29T15:05:00",
          "2023-12-29T15:10:00",
          "2023-12-29T15:15:00",
          "2023-12-29T15:20:00",
          "2023-12-29T15:25:00",
          "2023-12-29T15:30:00",
          "2023-12-29T15:35:00",
          "2023-12-29T15:40:00",
          "2023-12-29T15:45:00",
          "2023-12-29T15:50:00",
          "2023-12-29T15:55:00"
         ]
        },
        {
         "line": {
          "color": "#ff5f5f"
         },
         "mode": "lines",
         "name": "pred_hod",
         "type": "scatter",
         "x": [
          "2023-12-29T09:45:00",
          "2023-12-29T09:50:00",
          "2023-12-29T09:55:00",
          "2023-12-29T10:00:00",
          "2023-12-29T10:05:00",
          "2023-12-29T10:10:00",
          "2023-12-29T10:15:00",
          "2023-12-29T10:20:00",
          "2023-12-29T10:25:00",
          "2023-12-29T10:30:00",
          "2023-12-29T10:35:00",
          "2023-12-29T10:40:00",
          "2023-12-29T10:45:00",
          "2023-12-29T10:50:00",
          "2023-12-29T10:55:00",
          "2023-12-29T11:00:00",
          "2023-12-29T11:05:00",
          "2023-12-29T11:10:00",
          "2023-12-29T11:15:00",
          "2023-12-29T11:20:00",
          "2023-12-29T11:25:00",
          "2023-12-29T11:30:00",
          "2023-12-29T11:35:00",
          "2023-12-29T11:40:00",
          "2023-12-29T11:45:00",
          "2023-12-29T11:50:00",
          "2023-12-29T11:55:00",
          "2023-12-29T12:00:00",
          "2023-12-29T12:05:00",
          "2023-12-29T12:10:00",
          "2023-12-29T12:15:00",
          "2023-12-29T12:20:00",
          "2023-12-29T12:25:00",
          "2023-12-29T12:30:00",
          "2023-12-29T12:35:00",
          "2023-12-29T12:40:00",
          "2023-12-29T12:45:00",
          "2023-12-29T12:50:00",
          "2023-12-29T12:55:00",
          "2023-12-29T13:00:00",
          "2023-12-29T13:05:00",
          "2023-12-29T13:10:00",
          "2023-12-29T13:15:00",
          "2023-12-29T13:20:00",
          "2023-12-29T13:25:00",
          "2023-12-29T13:30:00",
          "2023-12-29T13:35:00",
          "2023-12-29T13:40:00",
          "2023-12-29T13:45:00",
          "2023-12-29T13:50:00",
          "2023-12-29T13:55:00",
          "2023-12-29T14:00:00",
          "2023-12-29T14:05:00",
          "2023-12-29T14:10:00",
          "2023-12-29T14:15:00",
          "2023-12-29T14:20:00",
          "2023-12-29T14:25:00",
          "2023-12-29T14:30:00",
          "2023-12-29T14:35:00",
          "2023-12-29T14:40:00",
          "2023-12-29T14:45:00",
          "2023-12-29T14:50:00",
          "2023-12-29T14:55:00",
          "2023-12-29T15:00:00",
          "2023-12-29T15:05:00",
          "2023-12-29T15:10:00",
          "2023-12-29T15:15:00",
          "2023-12-29T15:20:00",
          "2023-12-29T15:25:00",
          "2023-12-29T15:30:00",
          "2023-12-29T15:35:00",
          "2023-12-29T15:40:00",
          "2023-12-29T15:45:00",
          "2023-12-29T15:50:00",
          "2023-12-29T15:55:00"
         ],
         "y": [
          0.20866162966850518,
          0.2175670771839032,
          0.22336318574278774,
          0.2152441768449867,
          0.2344592874952645,
          0.2652852812154157,
          0.2683227358476555,
          0.289846964792625,
          0.25934502619943756,
          0.3251970841384362,
          0.337161755130842,
          0.4162161350666349,
          0.4911037050290406,
          0.49646491942656196,
          0.44541039798002136,
          0.39119190724999003,
          0.46827832203026226,
          0.5747843490457601,
          0.6132106706350701,
          0.6447502548029498,
          0.6633768513067548,
          0.6532654626944517,
          0.6171800582362893,
          0.611972242065085,
          0.5627400423443633,
          0.6091184518519684,
          0.6288628994216531,
          0.6622586980862893,
          0.7036994440873642,
          0.7367791912125469,
          0.7220941375613309,
          0.7491168520978051,
          0.7454816685733507,
          0.7204515879965597,
          0.6966680251889408,
          0.6933730625140528,
          0.7230698901910056,
          0.7134946737738771,
          0.6782257603922723,
          0.654591382827428,
          0.658349288481519,
          0.6857950734030314,
          0.7552052911809732,
          0.7697736531413784,
          0.7807134191962858,
          0.7501638197943582,
          0.7111478822150165,
          0.7094128163479091,
          0.696536260336631,
          0.7726116408105597,
          0.7709498174743514,
          0.7827641784948114,
          0.7772282347482696,
          0.7892912238699306,
          0.7783234593739609,
          0.7598180717476022,
          0.8112989080281074,
          0.7980028539641464,
          0.8070080933908982,
          0.7997500350422992,
          0.7946371779439441,
          0.7955417121956248,
          0.7994147320160936,
          0.8487653934404051,
          0.8033096164780713,
          0.8163852652889518,
          0.8333422208540616,
          0.8589600936910083,
          0.8303549131150418,
          0.856055640372022,
          0.8504133422645535,
          0.8843609576287301,
          0.8910247484855387,
          0.9249097613636841,
          0.872809527176403
         ],
         "yaxis": "y2"
        },
        {
         "line": {
          "color": "#3399cc"
         },
         "mode": "lines",
         "name": "pred_lod",
         "type": "scatter",
         "x": [
          "2023-12-29T09:45:00",
          "2023-12-29T09:50:00",
          "2023-12-29T09:55:00",
          "2023-12-29T10:00:00",
          "2023-12-29T10:05:00",
          "2023-12-29T10:10:00",
          "2023-12-29T10:15:00",
          "2023-12-29T10:20:00",
          "2023-12-29T10:25:00",
          "2023-12-29T10:30:00",
          "2023-12-29T10:35:00",
          "2023-12-29T10:40:00",
          "2023-12-29T10:45:00",
          "2023-12-29T10:50:00",
          "2023-12-29T10:55:00",
          "2023-12-29T11:00:00",
          "2023-12-29T11:05:00",
          "2023-12-29T11:10:00",
          "2023-12-29T11:15:00",
          "2023-12-29T11:20:00",
          "2023-12-29T11:25:00",
          "2023-12-29T11:30:00",
          "2023-12-29T11:35:00",
          "2023-12-29T11:40:00",
          "2023-12-29T11:45:00",
          "2023-12-29T11:50:00",
          "2023-12-29T11:55:00",
          "2023-12-29T12:00:00",
          "2023-12-29T12:05:00",
          "2023-12-29T12:10:00",
          "2023-12-29T12:15:00",
          "2023-12-29T12:20:00",
          "2023-12-29T12:25:00",
          "2023-12-29T12:30:00",
          "2023-12-29T12:35:00",
          "2023-12-29T12:40:00",
          "2023-12-29T12:45:00",
          "2023-12-29T12:50:00",
          "2023-12-29T12:55:00",
          "2023-12-29T13:00:00",
          "2023-12-29T13:05:00",
          "2023-12-29T13:10:00",
          "2023-12-29T13:15:00",
          "2023-12-29T13:20:00",
          "2023-12-29T13:25:00",
          "2023-12-29T13:30:00",
          "2023-12-29T13:35:00",
          "2023-12-29T13:40:00",
          "2023-12-29T13:45:00",
          "2023-12-29T13:50:00",
          "2023-12-29T13:55:00",
          "2023-12-29T14:00:00",
          "2023-12-29T14:05:00",
          "2023-12-29T14:10:00",
          "2023-12-29T14:15:00",
          "2023-12-29T14:20:00",
          "2023-12-29T14:25:00",
          "2023-12-29T14:30:00",
          "2023-12-29T14:35:00",
          "2023-12-29T14:40:00",
          "2023-12-29T14:45:00",
          "2023-12-29T14:50:00",
          "2023-12-29T14:55:00",
          "2023-12-29T15:00:00",
          "2023-12-29T15:05:00",
          "2023-12-29T15:10:00",
          "2023-12-29T15:15:00",
          "2023-12-29T15:20:00",
          "2023-12-29T15:25:00",
          "2023-12-29T15:30:00",
          "2023-12-29T15:35:00",
          "2023-12-29T15:40:00",
          "2023-12-29T15:45:00",
          "2023-12-29T15:50:00",
          "2023-12-29T15:55:00"
         ],
         "y": [
          0.3089564927721644,
          0.31377557598918215,
          0.32396226784913146,
          0.35360048993562976,
          0.34640412164866735,
          0.3264132879564508,
          0.34022696066813174,
          0.3355181677598407,
          0.3912197716974121,
          0.3353235934430511,
          0.3409439065197623,
          0.2845942880176402,
          0.2434953020449952,
          0.2563050025866649,
          0.3205846325189668,
          0.3964311213808036,
          0.3409257549899524,
          0.2639509360615403,
          0.24826748813446736,
          0.242505459178572,
          0.2461806409480573,
          0.2727834468504664,
          0.32665997472799513,
          0.3523674211566222,
          0.41932418089907847,
          0.3908452803734916,
          0.3879160794638185,
          0.3692091703916064,
          0.34435821181177073,
          0.3255864167387468,
          0.3620088812627592,
          0.3516314194453346,
          0.37607050327480357,
          0.42654740543671293,
          0.4779355193238057,
          0.5008920725070749,
          0.48108732495804013,
          0.510939510256258,
          0.5720724045330733,
          0.616979172516243,
          0.6285924887497859,
          0.613369694999335,
          0.5444029459360591,
          0.5421141348391849,
          0.5474882278800028,
          0.6123211022043582,
          0.677312897522888,
          0.696184766383357,
          0.7228028250704357,
          0.6515768628920995,
          0.6694056625119159,
          0.6714293718757937,
          0.6983233019246818,
          0.69917529641051,
          0.7286385218719668,
          0.7640476956874567,
          0.7194988382685465,
          0.7494621525783317,
          0.7535627662329264,
          0.7780141395811001,
          0.7952602465285719,
          0.8067807305596469,
          0.81475630954414,
          0.7694558429687813,
          0.8322550339626331,
          0.83243584328857,
          0.8273951012603057,
          0.8064270955140879,
          0.8498027912307844,
          0.8357277732773943,
          0.8515498198291255,
          0.8202762628639764,
          0.8232099868027085,
          0.7692389731357481,
          0.8685306987062377
         ],
         "yaxis": "y2"
        }
       ],
       "layout": {
        "legend": {
         "orientation": "h",
         "x": 1,
         "xanchor": "right",
         "y": 1.02,
         "yanchor": "bottom"
        },
        "shapes": [
         {
          "line": {
           "color": "Red",
           "dash": "dash",
           "width": 1.5
          },
          "type": "line",
          "x0": "2023-12-29T09:45:00",
          "x1": "2023-12-29T15:55:00",
          "y0": 0.5,
          "y1": 0.5,
          "yref": "y2"
         }
        ],
        "template": {
         "data": {
          "bar": [
           {
            "error_x": {
             "color": "#f2f5fa"
            },
            "error_y": {
             "color": "#f2f5fa"
            },
            "marker": {
             "line": {
              "color": "rgb(17,17,17)",
              "width": 0.5
             },
             "pattern": {
              "fillmode": "overlay",
              "size": 10,
              "solidity": 0.2
             }
            },
            "type": "bar"
           }
          ],
          "barpolar": [
           {
            "marker": {
             "line": {
              "color": "rgb(17,17,17)",
              "width": 0.5
             },
             "pattern": {
              "fillmode": "overlay",
              "size": 10,
              "solidity": 0.2
             }
            },
            "type": "barpolar"
           }
          ],
          "carpet": [
           {
            "aaxis": {
             "endlinecolor": "#A2B1C6",
             "gridcolor": "#506784",
             "linecolor": "#506784",
             "minorgridcolor": "#506784",
             "startlinecolor": "#A2B1C6"
            },
            "baxis": {
             "endlinecolor": "#A2B1C6",
             "gridcolor": "#506784",
             "linecolor": "#506784",
             "minorgridcolor": "#506784",
             "startlinecolor": "#A2B1C6"
            },
            "type": "carpet"
           }
          ],
          "choropleth": [
           {
            "colorbar": {
             "outlinewidth": 0,
             "ticks": ""
            },
            "type": "choropleth"
           }
          ],
          "contour": [
           {
            "colorbar": {
             "outlinewidth": 0,
             "ticks": ""
            },
            "colorscale": [
             [
              0,
              "#0d0887"
             ],
             [
              0.1111111111111111,
              "#46039f"
             ],
             [
              0.2222222222222222,
              "#7201a8"
             ],
             [
              0.3333333333333333,
              "#9c179e"
             ],
             [
              0.4444444444444444,
              "#bd3786"
             ],
             [
              0.5555555555555556,
              "#d8576b"
             ],
             [
              0.6666666666666666,
              "#ed7953"
             ],
             [
              0.7777777777777778,
              "#fb9f3a"
             ],
             [
              0.8888888888888888,
              "#fdca26"
             ],
             [
              1,
              "#f0f921"
             ]
            ],
            "type": "contour"
           }
          ],
          "contourcarpet": [
           {
            "colorbar": {
             "outlinewidth": 0,
             "ticks": ""
            },
            "type": "contourcarpet"
           }
          ],
          "heatmap": [
           {
            "colorbar": {
             "outlinewidth": 0,
             "ticks": ""
            },
            "colorscale": [
             [
              0,
              "#0d0887"
             ],
             [
              0.1111111111111111,
              "#46039f"
             ],
             [
              0.2222222222222222,
              "#7201a8"
             ],
             [
              0.3333333333333333,
              "#9c179e"
             ],
             [
              0.4444444444444444,
              "#bd3786"
             ],
             [
              0.5555555555555556,
              "#d8576b"
             ],
             [
              0.6666666666666666,
              "#ed7953"
             ],
             [
              0.7777777777777778,
              "#fb9f3a"
             ],
             [
              0.8888888888888888,
              "#fdca26"
             ],
             [
              1,
              "#f0f921"
             ]
            ],
            "type": "heatmap"
           }
          ],
          "heatmapgl": [
           {
            "colorbar": {
             "outlinewidth": 0,
             "ticks": ""
            },
            "colorscale": [
             [
              0,
              "#0d0887"
             ],
             [
              0.1111111111111111,
              "#46039f"
             ],
             [
              0.2222222222222222,
              "#7201a8"
             ],
             [
              0.3333333333333333,
              "#9c179e"
             ],
             [
              0.4444444444444444,
              "#bd3786"
             ],
             [
              0.5555555555555556,
              "#d8576b"
             ],
             [
              0.6666666666666666,
              "#ed7953"
             ],
             [
              0.7777777777777778,
              "#fb9f3a"
             ],
             [
              0.8888888888888888,
              "#fdca26"
             ],
             [
              1,
              "#f0f921"
             ]
            ],
            "type": "heatmapgl"
           }
          ],
          "histogram": [
           {
            "marker": {
             "pattern": {
              "fillmode": "overlay",
              "size": 10,
              "solidity": 0.2
             }
            },
            "type": "histogram"
           }
          ],
          "histogram2d": [
           {
            "colorbar": {
             "outlinewidth": 0,
             "ticks": ""
            },
            "colorscale": [
             [
              0,
              "#0d0887"
             ],
             [
              0.1111111111111111,
              "#46039f"
             ],
             [
              0.2222222222222222,
              "#7201a8"
             ],
             [
              0.3333333333333333,
              "#9c179e"
             ],
             [
              0.4444444444444444,
              "#bd3786"
             ],
             [
              0.5555555555555556,
              "#d8576b"
             ],
             [
              0.6666666666666666,
              "#ed7953"
             ],
             [
              0.7777777777777778,
              "#fb9f3a"
             ],
             [
              0.8888888888888888,
              "#fdca26"
             ],
             [
              1,
              "#f0f921"
             ]
            ],
            "type": "histogram2d"
           }
          ],
          "histogram2dcontour": [
           {
            "colorbar": {
             "outlinewidth": 0,
             "ticks": ""
            },
            "colorscale": [
             [
              0,
              "#0d0887"
             ],
             [
              0.1111111111111111,
              "#46039f"
             ],
             [
              0.2222222222222222,
              "#7201a8"
             ],
             [
              0.3333333333333333,
              "#9c179e"
             ],
             [
              0.4444444444444444,
              "#bd3786"
             ],
             [
              0.5555555555555556,
              "#d8576b"
             ],
             [
              0.6666666666666666,
              "#ed7953"
             ],
             [
              0.7777777777777778,
              "#fb9f3a"
             ],
             [
              0.8888888888888888,
              "#fdca26"
             ],
             [
              1,
              "#f0f921"
             ]
            ],
            "type": "histogram2dcontour"
           }
          ],
          "mesh3d": [
           {
            "colorbar": {
             "outlinewidth": 0,
             "ticks": ""
            },
            "type": "mesh3d"
           }
          ],
          "parcoords": [
           {
            "line": {
             "colorbar": {
              "outlinewidth": 0,
              "ticks": ""
             }
            },
            "type": "parcoords"
           }
          ],
          "pie": [
           {
            "automargin": true,
            "type": "pie"
           }
          ],
          "scatter": [
           {
            "marker": {
             "line": {
              "color": "#283442"
             }
            },
            "type": "scatter"
           }
          ],
          "scatter3d": [
           {
            "line": {
             "colorbar": {
              "outlinewidth": 0,
              "ticks": ""
             }
            },
            "marker": {
             "colorbar": {
              "outlinewidth": 0,
              "ticks": ""
             }
            },
            "type": "scatter3d"
           }
          ],
          "scattercarpet": [
           {
            "marker": {
             "colorbar": {
              "outlinewidth": 0,
              "ticks": ""
             }
            },
            "type": "scattercarpet"
           }
          ],
          "scattergeo": [
           {
            "marker": {
             "colorbar": {
              "outlinewidth": 0,
              "ticks": ""
             }
            },
            "type": "scattergeo"
           }
          ],
          "scattergl": [
           {
            "marker": {
             "line": {
              "color": "#283442"
             }
            },
            "type": "scattergl"
           }
          ],
          "scattermapbox": [
           {
            "marker": {
             "colorbar": {
              "outlinewidth": 0,
              "ticks": ""
             }
            },
            "type": "scattermapbox"
           }
          ],
          "scatterpolar": [
           {
            "marker": {
             "colorbar": {
              "outlinewidth": 0,
              "ticks": ""
             }
            },
            "type": "scatterpolar"
           }
          ],
          "scatterpolargl": [
           {
            "marker": {
             "colorbar": {
              "outlinewidth": 0,
              "ticks": ""
             }
            },
            "type": "scatterpolargl"
           }
          ],
          "scatterternary": [
           {
            "marker": {
             "colorbar": {
              "outlinewidth": 0,
              "ticks": ""
             }
            },
            "type": "scatterternary"
           }
          ],
          "surface": [
           {
            "colorbar": {
             "outlinewidth": 0,
             "ticks": ""
            },
            "colorscale": [
             [
              0,
              "#0d0887"
             ],
             [
              0.1111111111111111,
              "#46039f"
             ],
             [
              0.2222222222222222,
              "#7201a8"
             ],
             [
              0.3333333333333333,
              "#9c179e"
             ],
             [
              0.4444444444444444,
              "#bd3786"
             ],
             [
              0.5555555555555556,
              "#d8576b"
             ],
             [
              0.6666666666666666,
              "#ed7953"
             ],
             [
              0.7777777777777778,
              "#fb9f3a"
             ],
             [
              0.8888888888888888,
              "#fdca26"
             ],
             [
              1,
              "#f0f921"
             ]
            ],
            "type": "surface"
           }
          ],
          "table": [
           {
            "cells": {
             "fill": {
              "color": "#506784"
             },
             "line": {
              "color": "rgb(17,17,17)"
             }
            },
            "header": {
             "fill": {
              "color": "#2a3f5f"
             },
             "line": {
              "color": "rgb(17,17,17)"
             }
            },
            "type": "table"
           }
          ]
         },
         "layout": {
          "annotationdefaults": {
           "arrowcolor": "#f2f5fa",
           "arrowhead": 0,
           "arrowwidth": 1
          },
          "autotypenumbers": "strict",
          "coloraxis": {
           "colorbar": {
            "outlinewidth": 0,
            "ticks": ""
           }
          },
          "colorscale": {
           "diverging": [
            [
             0,
             "#8e0152"
            ],
            [
             0.1,
             "#c51b7d"
            ],
            [
             0.2,
             "#de77ae"
            ],
            [
             0.3,
             "#f1b6da"
            ],
            [
             0.4,
             "#fde0ef"
            ],
            [
             0.5,
             "#f7f7f7"
            ],
            [
             0.6,
             "#e6f5d0"
            ],
            [
             0.7,
             "#b8e186"
            ],
            [
             0.8,
             "#7fbc41"
            ],
            [
             0.9,
             "#4d9221"
            ],
            [
             1,
             "#276419"
            ]
           ],
           "sequential": [
            [
             0,
             "#0d0887"
            ],
            [
             0.1111111111111111,
             "#46039f"
            ],
            [
             0.2222222222222222,
             "#7201a8"
            ],
            [
             0.3333333333333333,
             "#9c179e"
            ],
            [
             0.4444444444444444,
             "#bd3786"
            ],
            [
             0.5555555555555556,
             "#d8576b"
            ],
            [
             0.6666666666666666,
             "#ed7953"
            ],
            [
             0.7777777777777778,
             "#fb9f3a"
            ],
            [
             0.8888888888888888,
             "#fdca26"
            ],
            [
             1,
             "#f0f921"
            ]
           ],
           "sequentialminus": [
            [
             0,
             "#0d0887"
            ],
            [
             0.1111111111111111,
             "#46039f"
            ],
            [
             0.2222222222222222,
             "#7201a8"
            ],
            [
             0.3333333333333333,
             "#9c179e"
            ],
            [
             0.4444444444444444,
             "#bd3786"
            ],
            [
             0.5555555555555556,
             "#d8576b"
            ],
            [
             0.6666666666666666,
             "#ed7953"
            ],
            [
             0.7777777777777778,
             "#fb9f3a"
            ],
            [
             0.8888888888888888,
             "#fdca26"
            ],
            [
             1,
             "#f0f921"
            ]
           ]
          },
          "colorway": [
           "#636efa",
           "#EF553B",
           "#00cc96",
           "#ab63fa",
           "#FFA15A",
           "#19d3f3",
           "#FF6692",
           "#B6E880",
           "#FF97FF",
           "#FECB52"
          ],
          "font": {
           "color": "#f2f5fa"
          },
          "geo": {
           "bgcolor": "rgb(17,17,17)",
           "lakecolor": "rgb(17,17,17)",
           "landcolor": "rgb(17,17,17)",
           "showlakes": true,
           "showland": true,
           "subunitcolor": "#506784"
          },
          "hoverlabel": {
           "align": "left"
          },
          "hovermode": "closest",
          "mapbox": {
           "style": "dark"
          },
          "paper_bgcolor": "rgb(17,17,17)",
          "plot_bgcolor": "rgb(17,17,17)",
          "polar": {
           "angularaxis": {
            "gridcolor": "#506784",
            "linecolor": "#506784",
            "ticks": ""
           },
           "bgcolor": "rgb(17,17,17)",
           "radialaxis": {
            "gridcolor": "#506784",
            "linecolor": "#506784",
            "ticks": ""
           }
          },
          "scene": {
           "xaxis": {
            "backgroundcolor": "rgb(17,17,17)",
            "gridcolor": "#506784",
            "gridwidth": 2,
            "linecolor": "#506784",
            "showbackground": true,
            "ticks": "",
            "zerolinecolor": "#C8D4E3"
           },
           "yaxis": {
            "backgroundcolor": "rgb(17,17,17)",
            "gridcolor": "#506784",
            "gridwidth": 2,
            "linecolor": "#506784",
            "showbackground": true,
            "ticks": "",
            "zerolinecolor": "#C8D4E3"
           },
           "zaxis": {
            "backgroundcolor": "rgb(17,17,17)",
            "gridcolor": "#506784",
            "gridwidth": 2,
            "linecolor": "#506784",
            "showbackground": true,
            "ticks": "",
            "zerolinecolor": "#C8D4E3"
           }
          },
          "shapedefaults": {
           "line": {
            "color": "#f2f5fa"
           }
          },
          "sliderdefaults": {
           "bgcolor": "#C8D4E3",
           "bordercolor": "rgb(17,17,17)",
           "borderwidth": 1,
           "tickwidth": 0
          },
          "ternary": {
           "aaxis": {
            "gridcolor": "#506784",
            "linecolor": "#506784",
            "ticks": ""
           },
           "baxis": {
            "gridcolor": "#506784",
            "linecolor": "#506784",
            "ticks": ""
           },
           "bgcolor": "rgb(17,17,17)",
           "caxis": {
            "gridcolor": "#506784",
            "linecolor": "#506784",
            "ticks": ""
           }
          },
          "title": {
           "x": 0.05
          },
          "updatemenudefaults": {
           "bgcolor": "#506784",
           "borderwidth": 0
          },
          "xaxis": {
           "automargin": true,
           "gridcolor": "#283442",
           "linecolor": "#506784",
           "ticks": "",
           "title": {
            "standoff": 15
           },
           "zerolinecolor": "#283442",
           "zerolinewidth": 2
          },
          "yaxis": {
           "automargin": true,
           "gridcolor": "#283442",
           "linecolor": "#506784",
           "ticks": "",
           "title": {
            "standoff": 15
           },
           "zerolinecolor": "#283442",
           "zerolinewidth": 2
          }
         }
        },
        "title": {
         "text": "OHLC vs Prediction Over Time"
        },
        "xaxis": {
         "rangeslider": {
          "visible": false
         }
        },
        "yaxis": {
         "tickformat": ".0f"
        },
        "yaxis2": {
         "overlaying": "y",
         "side": "right",
         "tickformat": ".0%"
        }
       }
      }
     },
     "metadata": {},
     "output_type": "display_data"
    }
   ],
   "source": [
    "import plotly.graph_objects as go\n",
    "\n",
    "# Pick a day in the test set\n",
    "test_day = '2023-12-29'\n",
    "test_df = df_results.loc[test_day:test_day]\n",
    "X_prices = spx_data.loc[test_day:test_day, ['open','high','low','close']]\n",
    "\n",
    "df_viz = test_df.merge(X_prices, left_index=True, right_index=True)\n",
    "\n",
    "fig = go.Figure(data=[go.Candlestick(x=df_viz.index,\n",
    "                open=df_viz['open'],\n",
    "                high=df_viz['high'],\n",
    "                low=df_viz['low'],\n",
    "                close=df_viz['close'])])\n",
    "\n",
    "fig.add_trace(go.Scatter(x=df_viz.index, y=df_viz['pred_hod'], mode='lines', name='pred_hod', yaxis='y2', line=dict(color='#ff5f5f')))\n",
    "fig.add_trace(go.Scatter(x=df_viz.index, y=df_viz['pred_lod'], mode='lines', name='pred_lod', yaxis='y2', line=dict(color='#3399cc')))\n",
    "\n",
    "fig.add_shape(\n",
    "    type=\"line\",\n",
    "    x0=df_viz.index.min(),\n",
    "    x1=df_viz.index.max(),\n",
    "    y0=0.5,\n",
    "    y1=0.5,\n",
    "    yref='y2',\n",
    "    line=dict(\n",
    "        color=\"Red\",\n",
    "        width=1.5,\n",
    "        dash=\"dash\",\n",
    "    )\n",
    ")\n",
    "\n",
    "fig.update_layout(\n",
    "    template='plotly_dark',\n",
    "    yaxis=dict(\n",
    "        tickformat='.0f'\n",
    "    ),\n",
    "    yaxis2=dict(\n",
    "        overlaying='y',\n",
    "        side='right',\n",
    "        tickformat=\".0%\"\n",
    "    ),\n",
    "    legend=dict(\n",
    "        orientation=\"h\",\n",
    "        yanchor=\"bottom\",\n",
    "        y=1.02,\n",
    "        xanchor=\"right\",\n",
    "        x=1\n",
    "    ),\n",
    "    title='OHLC vs Prediction Over Time',\n",
    "    xaxis_rangeslider_visible=False\n",
    ")\n",
    "\n",
    "fig.show()"
   ]
  },
  {
   "cell_type": "markdown",
   "metadata": {},
   "source": [
    "# Inference Pipeline"
   ]
  },
  {
   "cell_type": "code",
   "execution_count": 117,
   "metadata": {},
   "outputs": [],
   "source": [
    "# Get data\n",
    "import yfinance as yf\n",
    "import numpy as np\n",
    "import pandas as pd\n",
    "import datetime\n",
    "\n",
    "def create_features(ticker_str):\n",
    "    '''\n",
    "    Function to create dataframe of features for top/bottom model.\n",
    "    '''\n",
    "    ticker = yf.Ticker(ticker_str)\n",
    "    df = ticker.history(period='5d',interval='5m')\n",
    "    df = df.loc[\n",
    "        (df.index.time >= datetime.time(9,45)) &\\\n",
    "        (df.index.time < datetime.time(16,0)),\n",
    "    ['Open','High','Low','Close']]\n",
    "    df.columns = ['open','high','low','close']\n",
    "\n",
    "    df['time'] = df.index.time\n",
    "    df['eod_close'] = df.groupby(df.index.date)['close'].tail(1)\n",
    "    df['prev_close'] = df['eod_close'].shift(1)\n",
    "    df['prev_close'] = df['prev_close'].ffill()\n",
    "    df['eod_close'] = df['eod_close'].bfill()\n",
    "    df['green_day'] = df['eod_close'] > df['prev_close']\n",
    "\n",
    "    df['eod_close_pts'] = df['eod_close'] - df['prev_close']\n",
    "    df['eod_close_pct'] = df['eod_close_pts'] / df['prev_close']\n",
    "\n",
    "    for day in sorted(set(df.index.date)):\n",
    "        day_str = datetime.datetime.strftime(day, '%Y-%m-%d')\n",
    "        day_open = df.loc[day_str, 'open'].iloc[0]\n",
    "        df.loc[day_str, 'lod'] = df.loc[day_str, 'low'].min()\n",
    "        df.loc[day_str, 'label_lod'] = (df.loc[day_str, 'low'] == df.loc[day_str, 'lod']).astype(int)\n",
    "        \n",
    "        df.loc[day_str, 'hod'] = df.loc[day_str, 'high'].max()\n",
    "        df.loc[day_str, 'label'] = (df.loc[day_str, 'high'] == df.loc[day_str, 'hod']).astype(int)\n",
    "        df.loc[day_str, 'day_open'] = day_open\n",
    "        df.loc[day_str, 'day_open_pts'] = df.loc[day_str, 'close'] - df.loc[day_str, 'day_open']\n",
    "        df.loc[day_str, 'day_open_pct'] = df.loc[day_str, 'day_open_pts'] / df.loc[day_str, 'day_open']\n",
    "        df.loc[day_str, 'prev_close_pts'] = df.loc[day_str, 'close'] - df.loc[day_str, 'prev_close']\n",
    "        df.loc[day_str, 'prev_close_pct'] = df.loc[day_str, 'prev_close_pts'] / df.loc[day_str, 'prev_close']\n",
    "\n",
    "        # Shifted\n",
    "        df.loc[day_str, 'prev_close_pct_n1'] = df.loc[day_str, 'prev_close_pct'].shift(1)\n",
    "        df.loc[day_str, 'prev_close_pct_n2'] = df.loc[day_str, 'prev_close_pct'].shift(2)\n",
    "        df.loc[day_str, 'prev_close_pct_n3'] = df.loc[day_str, 'prev_close_pct'].shift(3)\n",
    "\n",
    "        df.loc[day_str, 'day_open_pct_n1'] = df.loc[day_str, 'day_open_pct'].shift(1)\n",
    "        df.loc[day_str, 'day_open_pct_n2'] = df.loc[day_str, 'day_open_pct'].shift(2)\n",
    "        df.loc[day_str, 'day_open_pct_n3'] = df.loc[day_str, 'day_open_pct'].shift(3)\n",
    "\n",
    "    df['gap_open'] = df['day_open'] - df['prev_close']\n",
    "    df['gap_open_pct'] = df['gap_open'] / df['prev_close']\n",
    "    return df.dropna(subset=[\n",
    "        'prev_close_pct',\n",
    "        'gap_open_pct',\n",
    "        'day_open_pct_n3',\n",
    "        'prev_close_pct_n3'\n",
    "    ])"
   ]
  },
  {
   "cell_type": "code",
   "execution_count": 118,
   "metadata": {},
   "outputs": [],
   "source": [
    "import joblib\n",
    "\n",
    "df_feats = create_features('^RUT')\n",
    "\n",
    "hod_model1 = joblib.load('models/hod_model.joblib')\n",
    "lod_model1 = joblib.load('models/lod_model.joblib')\n",
    "\n",
    "def create_preds_df(df_feats):\n",
    "    predicted_proba_hod = hod_model1.predict_proba(df_feats)[:,-1]\n",
    "    predicted_proba_lod = lod_model1.predict_proba(df_feats)[:,-1]\n",
    "    df_viz = df_feats.copy()\n",
    "    df_viz['pred_hod'] = predicted_proba_hod\n",
    "    df_viz['pred_lod'] = predicted_proba_lod\n",
    "    return df_viz\n",
    "\n",
    "df_viz = create_preds_df(df_feats)"
   ]
  },
  {
   "cell_type": "code",
   "execution_count": 119,
   "metadata": {},
   "outputs": [],
   "source": [
    "# Create df for visual\n",
    "def create_viz(df_viz, date_str):\n",
    "\n",
    "    df_use = df_viz.loc[date_str:date_str]\n",
    "    \n",
    "    fig = go.Figure(data=[go.Candlestick(x=df_use.index,\n",
    "                open=df_use['open'],\n",
    "                high=df_use['high'],\n",
    "                low=df_use['low'],\n",
    "                close=df_use['close'])])\n",
    "\n",
    "    fig.add_trace(go.Scatter(x=df_use.index, y=df_use['pred_hod'], mode='lines', name='pred_hod', yaxis='y2', line=dict(color='#ff5f5f')))\n",
    "    fig.add_trace(go.Scatter(x=df_use.index, y=df_use['pred_lod'], mode='lines', name='pred_lod', yaxis='y2', line=dict(color='#3399cc')))\n",
    "\n",
    "    fig.add_shape(\n",
    "        type=\"line\",\n",
    "        x0=df_use.index.min(),\n",
    "        x1=df_use.index.max(),\n",
    "        y0=0.5,\n",
    "        y1=0.5,\n",
    "        yref='y2',\n",
    "        line=dict(\n",
    "            color=\"Red\",\n",
    "            width=1.5,\n",
    "            dash=\"dash\",\n",
    "        )\n",
    "    )\n",
    "\n",
    "    max_high = df_use['high'].max()\n",
    "    max_high_time = df_use['high'].idxmax()\n",
    "\n",
    "    min_low = df_use['low'].min()\n",
    "    min_low_time = df_use['low'].idxmin()\n",
    "\n",
    "    fig.add_annotation(\n",
    "        x=max_high_time,\n",
    "        y=max_high,\n",
    "        text=f\"{str(int(max_high))}\",\n",
    "        showarrow=True,\n",
    "        font=dict(\n",
    "            family=\"Courier New, monospace\",\n",
    "            size=12,\n",
    "            color=\"#ffffff\"\n",
    "        ),\n",
    "        align=\"center\",\n",
    "        arrowhead=2,\n",
    "        arrowsize=1,\n",
    "        arrowwidth=2,\n",
    "        arrowcolor=\"#636363\",\n",
    "        ax=20,\n",
    "        ay=-30,\n",
    "        bordercolor=\"#c7c7c7\",\n",
    "        borderwidth=1,\n",
    "        borderpad=1,\n",
    "        bgcolor=\"#ff5f5f\",\n",
    "        opacity=0.8\n",
    "    )\n",
    "\n",
    "    fig.add_annotation(\n",
    "        x=min_low_time,\n",
    "        y=min_low,\n",
    "        text=f\"{str(int(min_low))}\",\n",
    "        showarrow=True,\n",
    "        font=dict(\n",
    "            family=\"Courier New, monospace\",\n",
    "            size=12,\n",
    "            color=\"#ffffff\"\n",
    "        ),\n",
    "        align=\"center\",\n",
    "        arrowhead=2,\n",
    "        arrowsize=1,\n",
    "        arrowwidth=2,\n",
    "        arrowcolor=\"#636363\",\n",
    "        ax=20,\n",
    "        ay=30,  # Adjust the y offset for the annotation\n",
    "        bordercolor=\"#c7c7c7\",\n",
    "        borderwidth=1,\n",
    "        borderpad=1,\n",
    "        bgcolor=\"#3399cc\",\n",
    "        opacity=0.8\n",
    "    )\n",
    "\n",
    "    fig.update_layout(\n",
    "        template='plotly_dark',\n",
    "        yaxis=dict(\n",
    "            tickformat='.0f'\n",
    "        ),\n",
    "        yaxis2=dict(\n",
    "            overlaying='y',\n",
    "            side='right',\n",
    "            tickformat=\".0%\"\n",
    "        ),\n",
    "        legend=dict(\n",
    "            orientation=\"h\",\n",
    "            yanchor=\"bottom\",\n",
    "            y=1.02,\n",
    "            xanchor=\"right\",\n",
    "            x=1\n",
    "        ),\n",
    "        title='OHLC vs Prediction Over Time',\n",
    "        xaxis_rangeslider_visible=False\n",
    "    )\n",
    "\n",
    "    fig.show()\n",
    "    "
   ]
  },
  {
   "cell_type": "code",
   "execution_count": 120,
   "metadata": {},
   "outputs": [
    {
     "data": {
      "application/vnd.plotly.v1+json": {
       "config": {
        "plotlyServerURL": "https://plot.ly"
       },
       "data": [
        {
         "close": [
          2052.018798828125,
          2049.30712890625,
          2047.06201171875,
          2048.13623046875,
          2045.74609375,
          2045.7310791015625,
          2043.2630615234375,
          2043.8768310546875,
          2040.6593017578125,
          2037.5980224609375,
          2036.3665771484375,
          2036.5634765625,
          2037.2628173828125,
          2035.3878173828125,
          2033.922607421875,
          2032.48974609375,
          2032.4964599609375,
          2031.3948974609375,
          2031.7794189453125,
          2031.1038818359375,
          2031.04638671875,
          2031.6092529296875,
          2031.5826416015625,
          2032.762939453125,
          2033.06201171875,
          2030.801025390625,
          2030.83740234375,
          2031.4425048828125,
          2030.8985595703125,
          2030.5887451171875,
          2031.2510986328125,
          2032.3487548828125,
          2032.078369140625,
          2032.730712890625,
          2032.842529296875,
          2035.1075439453125,
          2035.00048828125,
          2036.066162109375,
          2036.66455078125,
          2034.8414306640625,
          2034.1605224609375,
          2034.3887939453125,
          2034.9090576171875,
          2035.9171142578125,
          2036.634765625,
          2037.1796875,
          2035.5430908203125,
          2035.432373046875,
          2035.2481689453125,
          2035.275146484375,
          2034.8184814453125,
          2035.780029296875,
          2036.4140625,
          2035.7916259765625,
          2035.652099609375,
          2036.116943359375,
          2035.493896484375,
          2036.0753173828125,
          2036.412841796875,
          2036.826904296875,
          2036.110107421875,
          2035.6851806640625,
          2037.0574951171875,
          2036.5947265625,
          2035.5076904296875,
          2037.300048828125,
          2036.50634765625,
          2035.7706298828125,
          2035.2398681640625,
          2033.861083984375,
          2028.388671875,
          2027.750732421875
         ],
         "high": [
          2053.34765625,
          2052.166748046875,
          2049.35888671875,
          2048.13623046875,
          2048.152099609375,
          2046.3258056640625,
          2045.770751953125,
          2043.9114990234375,
          2043.8726806640625,
          2040.592529296875,
          2038.1634521484375,
          2036.7008056640625,
          2037.2628173828125,
          2037.4166259765625,
          2035.59521484375,
          2033.86474609375,
          2033.3671875,
          2032.514892578125,
          2031.8172607421875,
          2031.8126220703125,
          2031.3431396484375,
          2031.6092529296875,
          2031.834228515625,
          2032.9796142578125,
          2033.427734375,
          2033.041259765625,
          2031.6236572265625,
          2031.5079345703125,
          2031.69287109375,
          2030.8997802734375,
          2031.302978515625,
          2032.3487548828125,
          2032.366943359375,
          2033.031982421875,
          2033.105712890625,
          2035.1182861328125,
          2035.112548828125,
          2036.1754150390625,
          2036.7198486328125,
          2036.671630859375,
          2034.8363037109375,
          2034.5079345703125,
          2035.15380859375,
          2035.9228515625,
          2036.6463623046875,
          2037.1817626953125,
          2037.171630859375,
          2035.50390625,
          2035.6771240234375,
          2035.3385009765625,
          2035.2735595703125,
          2035.780029296875,
          2036.419189453125,
          2036.5791015625,
          2035.9620361328125,
          2036.1331787109375,
          2036.113525390625,
          2036.0753173828125,
          2036.4573974609375,
          2036.826904296875,
          2036.9376220703125,
          2036.0869140625,
          2037.0574951171875,
          2037.1619873046875,
          2036.58837890625,
          2037.300048828125,
          2037.3778076171875,
          2036.42236328125,
          2036.369140625,
          2035.12744140625,
          2033.8260498046875,
          2028.7567138671875
         ],
         "low": [
          2052.013916015625,
          2049.30712890625,
          2047.06201171875,
          2046.7489013671875,
          2045.74609375,
          2045.673583984375,
          2043.2630615234375,
          2042.948486328125,
          2040.5870361328125,
          2036.340576171875,
          2036.3665771484375,
          2035.943603515625,
          2036.151123046875,
          2035.22998046875,
          2033.922607421875,
          2031.181640625,
          2032.4591064453125,
          2031.3759765625,
          2031.432373046875,
          2030.6007080078125,
          2031.0325927734375,
          2031.0010986328125,
          2031.3392333984375,
          2031.6708984375,
          2032.7530517578125,
          2030.801025390625,
          2030.7296142578125,
          2030.775390625,
          2030.8472900390625,
          2030.4908447265625,
          2030.4287109375,
          2031.103271484375,
          2032.0635986328125,
          2032.0557861328125,
          2032.644775390625,
          2032.8436279296875,
          2034.5008544921875,
          2034.9910888671875,
          2036.0396728515625,
          2034.8414306640625,
          2033.9898681640625,
          2034.084716796875,
          2034.3687744140625,
          2034.915771484375,
          2035.81298828125,
          2036.4041748046875,
          2035.5430908203125,
          2035.260986328125,
          2035.2376708984375,
          2035.1513671875,
          2034.7423095703125,
          2034.7757568359375,
          2035.81396484375,
          2035.7916259765625,
          2035.652099609375,
          2035.425048828125,
          2035.493896484375,
          2035.3311767578125,
          2036.1331787109375,
          2036.1588134765625,
          2036.110107421875,
          2035.2056884765625,
          2035.731201171875,
          2036.5947265625,
          2035.3328857421875,
          2035.5284423828125,
          2036.50634765625,
          2035.759521484375,
          2035.2398681640625,
          2033.837890625,
          2028.388671875,
          2027.646728515625
         ],
         "open": [
          2053.328857421875,
          2052.03955078125,
          2049.29638671875,
          2047.0067138671875,
          2048.152099609375,
          2045.72705078125,
          2045.70458984375,
          2043.2027587890625,
          2043.8607177734375,
          2040.592529296875,
          2037.673583984375,
          2036.322265625,
          2036.5316162109375,
          2037.301513671875,
          2035.4739990234375,
          2033.86474609375,
          2032.542236328125,
          2032.514892578125,
          2031.432373046875,
          2031.7742919921875,
          2031.126708984375,
          2031.0572509765625,
          2031.644775390625,
          2031.6708984375,
          2032.7548828125,
          2033.041259765625,
          2030.7838134765625,
          2030.8343505859375,
          2031.4320068359375,
          2030.8997802734375,
          2030.5826416015625,
          2031.244873046875,
          2032.344970703125,
          2032.0557861328125,
          2032.7113037109375,
          2032.8436279296875,
          2035.085205078125,
          2034.9910888671875,
          2036.0396728515625,
          2036.6610107421875,
          2034.8363037109375,
          2034.1519775390625,
          2034.375732421875,
          2034.915771484375,
          2035.927001953125,
          2036.6475830078125,
          2037.171630859375,
          2035.4964599609375,
          2035.43212890625,
          2035.246337890625,
          2035.2735595703125,
          2034.799072265625,
          2035.81396484375,
          2036.4063720703125,
          2035.779052734375,
          2035.660400390625,
          2036.113525390625,
          2035.470947265625,
          2036.1331787109375,
          2036.404541015625,
          2036.8465576171875,
          2036.0869140625,
          2035.731201171875,
          2037.0703125,
          2036.58837890625,
          2035.5284423828125,
          2037.3299560546875,
          2036.42236328125,
          2035.788330078125,
          2035.12744140625,
          2033.8260498046875,
          2028.1978759765625
         ],
         "type": "candlestick",
         "x": [
          "2023-12-29T10:00:00-05:00",
          "2023-12-29T10:05:00-05:00",
          "2023-12-29T10:10:00-05:00",
          "2023-12-29T10:15:00-05:00",
          "2023-12-29T10:20:00-05:00",
          "2023-12-29T10:25:00-05:00",
          "2023-12-29T10:30:00-05:00",
          "2023-12-29T10:35:00-05:00",
          "2023-12-29T10:40:00-05:00",
          "2023-12-29T10:45:00-05:00",
          "2023-12-29T10:50:00-05:00",
          "2023-12-29T10:55:00-05:00",
          "2023-12-29T11:00:00-05:00",
          "2023-12-29T11:05:00-05:00",
          "2023-12-29T11:10:00-05:00",
          "2023-12-29T11:15:00-05:00",
          "2023-12-29T11:20:00-05:00",
          "2023-12-29T11:25:00-05:00",
          "2023-12-29T11:30:00-05:00",
          "2023-12-29T11:35:00-05:00",
          "2023-12-29T11:40:00-05:00",
          "2023-12-29T11:45:00-05:00",
          "2023-12-29T11:50:00-05:00",
          "2023-12-29T11:55:00-05:00",
          "2023-12-29T12:00:00-05:00",
          "2023-12-29T12:05:00-05:00",
          "2023-12-29T12:10:00-05:00",
          "2023-12-29T12:15:00-05:00",
          "2023-12-29T12:20:00-05:00",
          "2023-12-29T12:25:00-05:00",
          "2023-12-29T12:30:00-05:00",
          "2023-12-29T12:35:00-05:00",
          "2023-12-29T12:40:00-05:00",
          "2023-12-29T12:45:00-05:00",
          "2023-12-29T12:50:00-05:00",
          "2023-12-29T12:55:00-05:00",
          "2023-12-29T13:00:00-05:00",
          "2023-12-29T13:05:00-05:00",
          "2023-12-29T13:10:00-05:00",
          "2023-12-29T13:15:00-05:00",
          "2023-12-29T13:20:00-05:00",
          "2023-12-29T13:25:00-05:00",
          "2023-12-29T13:30:00-05:00",
          "2023-12-29T13:35:00-05:00",
          "2023-12-29T13:40:00-05:00",
          "2023-12-29T13:45:00-05:00",
          "2023-12-29T13:50:00-05:00",
          "2023-12-29T13:55:00-05:00",
          "2023-12-29T14:00:00-05:00",
          "2023-12-29T14:05:00-05:00",
          "2023-12-29T14:10:00-05:00",
          "2023-12-29T14:15:00-05:00",
          "2023-12-29T14:20:00-05:00",
          "2023-12-29T14:25:00-05:00",
          "2023-12-29T14:30:00-05:00",
          "2023-12-29T14:35:00-05:00",
          "2023-12-29T14:40:00-05:00",
          "2023-12-29T14:45:00-05:00",
          "2023-12-29T14:50:00-05:00",
          "2023-12-29T14:55:00-05:00",
          "2023-12-29T15:00:00-05:00",
          "2023-12-29T15:05:00-05:00",
          "2023-12-29T15:10:00-05:00",
          "2023-12-29T15:15:00-05:00",
          "2023-12-29T15:20:00-05:00",
          "2023-12-29T15:25:00-05:00",
          "2023-12-29T15:30:00-05:00",
          "2023-12-29T15:35:00-05:00",
          "2023-12-29T15:40:00-05:00",
          "2023-12-29T15:45:00-05:00",
          "2023-12-29T15:50:00-05:00",
          "2023-12-29T15:55:00-05:00"
         ]
        },
        {
         "line": {
          "color": "#ff5f5f"
         },
         "mode": "lines",
         "name": "pred_hod",
         "type": "scatter",
         "x": [
          "2023-12-29T10:00:00-05:00",
          "2023-12-29T10:05:00-05:00",
          "2023-12-29T10:10:00-05:00",
          "2023-12-29T10:15:00-05:00",
          "2023-12-29T10:20:00-05:00",
          "2023-12-29T10:25:00-05:00",
          "2023-12-29T10:30:00-05:00",
          "2023-12-29T10:35:00-05:00",
          "2023-12-29T10:40:00-05:00",
          "2023-12-29T10:45:00-05:00",
          "2023-12-29T10:50:00-05:00",
          "2023-12-29T10:55:00-05:00",
          "2023-12-29T11:00:00-05:00",
          "2023-12-29T11:05:00-05:00",
          "2023-12-29T11:10:00-05:00",
          "2023-12-29T11:15:00-05:00",
          "2023-12-29T11:20:00-05:00",
          "2023-12-29T11:25:00-05:00",
          "2023-12-29T11:30:00-05:00",
          "2023-12-29T11:35:00-05:00",
          "2023-12-29T11:40:00-05:00",
          "2023-12-29T11:45:00-05:00",
          "2023-12-29T11:50:00-05:00",
          "2023-12-29T11:55:00-05:00",
          "2023-12-29T12:00:00-05:00",
          "2023-12-29T12:05:00-05:00",
          "2023-12-29T12:10:00-05:00",
          "2023-12-29T12:15:00-05:00",
          "2023-12-29T12:20:00-05:00",
          "2023-12-29T12:25:00-05:00",
          "2023-12-29T12:30:00-05:00",
          "2023-12-29T12:35:00-05:00",
          "2023-12-29T12:40:00-05:00",
          "2023-12-29T12:45:00-05:00",
          "2023-12-29T12:50:00-05:00",
          "2023-12-29T12:55:00-05:00",
          "2023-12-29T13:00:00-05:00",
          "2023-12-29T13:05:00-05:00",
          "2023-12-29T13:10:00-05:00",
          "2023-12-29T13:15:00-05:00",
          "2023-12-29T13:20:00-05:00",
          "2023-12-29T13:25:00-05:00",
          "2023-12-29T13:30:00-05:00",
          "2023-12-29T13:35:00-05:00",
          "2023-12-29T13:40:00-05:00",
          "2023-12-29T13:45:00-05:00",
          "2023-12-29T13:50:00-05:00",
          "2023-12-29T13:55:00-05:00",
          "2023-12-29T14:00:00-05:00",
          "2023-12-29T14:05:00-05:00",
          "2023-12-29T14:10:00-05:00",
          "2023-12-29T14:15:00-05:00",
          "2023-12-29T14:20:00-05:00",
          "2023-12-29T14:25:00-05:00",
          "2023-12-29T14:30:00-05:00",
          "2023-12-29T14:35:00-05:00",
          "2023-12-29T14:40:00-05:00",
          "2023-12-29T14:45:00-05:00",
          "2023-12-29T14:50:00-05:00",
          "2023-12-29T14:55:00-05:00",
          "2023-12-29T15:00:00-05:00",
          "2023-12-29T15:05:00-05:00",
          "2023-12-29T15:10:00-05:00",
          "2023-12-29T15:15:00-05:00",
          "2023-12-29T15:20:00-05:00",
          "2023-12-29T15:25:00-05:00",
          "2023-12-29T15:30:00-05:00",
          "2023-12-29T15:35:00-05:00",
          "2023-12-29T15:40:00-05:00",
          "2023-12-29T15:45:00-05:00",
          "2023-12-29T15:50:00-05:00",
          "2023-12-29T15:55:00-05:00"
         ],
         "y": [
          0.3785594409904177,
          0.45507570987329166,
          0.5421150350839933,
          0.46578253368410255,
          0.538055238034466,
          0.5008815854609021,
          0.6297667794014858,
          0.5625734450398222,
          0.7012411255649892,
          0.7698561680923535,
          0.8045508646720472,
          0.7610274606631793,
          0.7041632224423,
          0.7637208951751855,
          0.8098970717567119,
          0.8509652190963489,
          0.8341078662374246,
          0.8509168259789947,
          0.8313095738138055,
          0.852399481632736,
          0.8479432290634182,
          0.8424571980756879,
          0.8438614232578614,
          0.820093748554769,
          0.8270267650665521,
          0.8825651548389439,
          0.8890187010055071,
          0.8824506688104912,
          0.8824135931856266,
          0.8913240986208267,
          0.886441114700858,
          0.8670879630382947,
          0.8776140464003874,
          0.8742719145319506,
          0.88515242018043,
          0.8415229612937578,
          0.8604733558196785,
          0.8444109100591771,
          0.8575283800985081,
          0.8975159254808204,
          0.9140958700054828,
          0.9148320098243866,
          0.9003207330364373,
          0.8838309485967928,
          0.8788228129099823,
          0.8787499063296644,
          0.9162254529171446,
          0.9217773409977723,
          0.928188249838753,
          0.922790448484607,
          0.9303647905998325,
          0.9197709245569617,
          0.9156457266745976,
          0.9258199941506777,
          0.933528943767709,
          0.932933573183673,
          0.9398898900305057,
          0.9350175548320194,
          0.9360567027463162,
          0.932122515968806,
          0.9445296014514408,
          0.9506737174217605,
          0.9408857834969019,
          0.9461876447395506,
          0.9556595085778463,
          0.9456040073841498,
          0.9541019832852132,
          0.9580477007342341,
          0.9663347371689252,
          0.9726351232585165,
          0.9889700240012728,
          0.9888569423579162
         ],
         "yaxis": "y2"
        },
        {
         "line": {
          "color": "#3399cc"
         },
         "mode": "lines",
         "name": "pred_lod",
         "type": "scatter",
         "x": [
          "2023-12-29T10:00:00-05:00",
          "2023-12-29T10:05:00-05:00",
          "2023-12-29T10:10:00-05:00",
          "2023-12-29T10:15:00-05:00",
          "2023-12-29T10:20:00-05:00",
          "2023-12-29T10:25:00-05:00",
          "2023-12-29T10:30:00-05:00",
          "2023-12-29T10:35:00-05:00",
          "2023-12-29T10:40:00-05:00",
          "2023-12-29T10:45:00-05:00",
          "2023-12-29T10:50:00-05:00",
          "2023-12-29T10:55:00-05:00",
          "2023-12-29T11:00:00-05:00",
          "2023-12-29T11:05:00-05:00",
          "2023-12-29T11:10:00-05:00",
          "2023-12-29T11:15:00-05:00",
          "2023-12-29T11:20:00-05:00",
          "2023-12-29T11:25:00-05:00",
          "2023-12-29T11:30:00-05:00",
          "2023-12-29T11:35:00-05:00",
          "2023-12-29T11:40:00-05:00",
          "2023-12-29T11:45:00-05:00",
          "2023-12-29T11:50:00-05:00",
          "2023-12-29T11:55:00-05:00",
          "2023-12-29T12:00:00-05:00",
          "2023-12-29T12:05:00-05:00",
          "2023-12-29T12:10:00-05:00",
          "2023-12-29T12:15:00-05:00",
          "2023-12-29T12:20:00-05:00",
          "2023-12-29T12:25:00-05:00",
          "2023-12-29T12:30:00-05:00",
          "2023-12-29T12:35:00-05:00",
          "2023-12-29T12:40:00-05:00",
          "2023-12-29T12:45:00-05:00",
          "2023-12-29T12:50:00-05:00",
          "2023-12-29T12:55:00-05:00",
          "2023-12-29T13:00:00-05:00",
          "2023-12-29T13:05:00-05:00",
          "2023-12-29T13:10:00-05:00",
          "2023-12-29T13:15:00-05:00",
          "2023-12-29T13:20:00-05:00",
          "2023-12-29T13:25:00-05:00",
          "2023-12-29T13:30:00-05:00",
          "2023-12-29T13:35:00-05:00",
          "2023-12-29T13:40:00-05:00",
          "2023-12-29T13:45:00-05:00",
          "2023-12-29T13:50:00-05:00",
          "2023-12-29T13:55:00-05:00",
          "2023-12-29T14:00:00-05:00",
          "2023-12-29T14:05:00-05:00",
          "2023-12-29T14:10:00-05:00",
          "2023-12-29T14:15:00-05:00",
          "2023-12-29T14:20:00-05:00",
          "2023-12-29T14:25:00-05:00",
          "2023-12-29T14:30:00-05:00",
          "2023-12-29T14:35:00-05:00",
          "2023-12-29T14:40:00-05:00",
          "2023-12-29T14:45:00-05:00",
          "2023-12-29T14:50:00-05:00",
          "2023-12-29T14:55:00-05:00",
          "2023-12-29T15:00:00-05:00",
          "2023-12-29T15:05:00-05:00",
          "2023-12-29T15:10:00-05:00",
          "2023-12-29T15:15:00-05:00",
          "2023-12-29T15:20:00-05:00",
          "2023-12-29T15:25:00-05:00",
          "2023-12-29T15:30:00-05:00",
          "2023-12-29T15:35:00-05:00",
          "2023-12-29T15:40:00-05:00",
          "2023-12-29T15:45:00-05:00",
          "2023-12-29T15:50:00-05:00",
          "2023-12-29T15:55:00-05:00"
         ],
         "y": [
          0.1979784804221707,
          0.16620909728936836,
          0.1324582333580936,
          0.18783349890839715,
          0.16266070567892393,
          0.19888750395128463,
          0.13628065523773455,
          0.18820281347796558,
          0.12150349946393756,
          0.09626948450829032,
          0.08613502025996508,
          0.12184726555492768,
          0.1731767911929867,
          0.14405775812101304,
          0.12032248892174506,
          0.09931978277680502,
          0.12226649373582271,
          0.11942182629639463,
          0.1472868806210946,
          0.13812210260636282,
          0.153499275179927,
          0.17004010957010082,
          0.18111346601987477,
          0.22119068302391995,
          0.22589343875208828,
          0.16575516290361136,
          0.16575513226058916,
          0.18825044005374672,
          0.20446439092148563,
          0.2021574708545395,
          0.22334888210267448,
          0.27350515362001887,
          0.2704344058837152,
          0.2903084459095198,
          0.2834984418921021,
          0.38456064866752265,
          0.3665309776164506,
          0.4132015505138126,
          0.4021221194481112,
          0.33158334764243313,
          0.302823029594483,
          0.31853387397149996,
          0.38149112462042667,
          0.44436904549293954,
          0.47523664611838007,
          0.492909145146336,
          0.4063803644932652,
          0.4046578201186456,
          0.40206585228969116,
          0.44495109863017196,
          0.4372950485452402,
          0.49604469236714877,
          0.5305589813025091,
          0.5151751024949832,
          0.5018940117096314,
          0.5234858292742824,
          0.5156340156967942,
          0.5560379161282233,
          0.5711807577315561,
          0.6069979184611448,
          0.5718376381621723,
          0.5590930840678433,
          0.6249644557380479,
          0.6224642268863935,
          0.5914722003741621,
          0.658326491052126,
          0.6378842893950086,
          0.6344446702099327,
          0.5951241711305156,
          0.5645263727352153,
          0.3566373296845146,
          0.3794208699849288
         ],
         "yaxis": "y2"
        }
       ],
       "layout": {
        "annotations": [
         {
          "align": "center",
          "arrowcolor": "#636363",
          "arrowhead": 2,
          "arrowsize": 1,
          "arrowwidth": 2,
          "ax": 20,
          "ay": -30,
          "bgcolor": "#ff5f5f",
          "bordercolor": "#c7c7c7",
          "borderpad": 1,
          "borderwidth": 1,
          "font": {
           "color": "#ffffff",
           "family": "Courier New, monospace",
           "size": 12
          },
          "opacity": 0.8,
          "showarrow": true,
          "text": "2053",
          "x": "2023-12-29T10:00:00-05:00",
          "y": 2053.34765625
         },
         {
          "align": "center",
          "arrowcolor": "#636363",
          "arrowhead": 2,
          "arrowsize": 1,
          "arrowwidth": 2,
          "ax": 20,
          "ay": 30,
          "bgcolor": "#3399cc",
          "bordercolor": "#c7c7c7",
          "borderpad": 1,
          "borderwidth": 1,
          "font": {
           "color": "#ffffff",
           "family": "Courier New, monospace",
           "size": 12
          },
          "opacity": 0.8,
          "showarrow": true,
          "text": "2027",
          "x": "2023-12-29T15:55:00-05:00",
          "y": 2027.646728515625
         }
        ],
        "legend": {
         "orientation": "h",
         "x": 1,
         "xanchor": "right",
         "y": 1.02,
         "yanchor": "bottom"
        },
        "shapes": [
         {
          "line": {
           "color": "Red",
           "dash": "dash",
           "width": 1.5
          },
          "type": "line",
          "x0": "2023-12-29T10:00:00-05:00",
          "x1": "2023-12-29T15:55:00-05:00",
          "y0": 0.5,
          "y1": 0.5,
          "yref": "y2"
         }
        ],
        "template": {
         "data": {
          "bar": [
           {
            "error_x": {
             "color": "#f2f5fa"
            },
            "error_y": {
             "color": "#f2f5fa"
            },
            "marker": {
             "line": {
              "color": "rgb(17,17,17)",
              "width": 0.5
             },
             "pattern": {
              "fillmode": "overlay",
              "size": 10,
              "solidity": 0.2
             }
            },
            "type": "bar"
           }
          ],
          "barpolar": [
           {
            "marker": {
             "line": {
              "color": "rgb(17,17,17)",
              "width": 0.5
             },
             "pattern": {
              "fillmode": "overlay",
              "size": 10,
              "solidity": 0.2
             }
            },
            "type": "barpolar"
           }
          ],
          "carpet": [
           {
            "aaxis": {
             "endlinecolor": "#A2B1C6",
             "gridcolor": "#506784",
             "linecolor": "#506784",
             "minorgridcolor": "#506784",
             "startlinecolor": "#A2B1C6"
            },
            "baxis": {
             "endlinecolor": "#A2B1C6",
             "gridcolor": "#506784",
             "linecolor": "#506784",
             "minorgridcolor": "#506784",
             "startlinecolor": "#A2B1C6"
            },
            "type": "carpet"
           }
          ],
          "choropleth": [
           {
            "colorbar": {
             "outlinewidth": 0,
             "ticks": ""
            },
            "type": "choropleth"
           }
          ],
          "contour": [
           {
            "colorbar": {
             "outlinewidth": 0,
             "ticks": ""
            },
            "colorscale": [
             [
              0,
              "#0d0887"
             ],
             [
              0.1111111111111111,
              "#46039f"
             ],
             [
              0.2222222222222222,
              "#7201a8"
             ],
             [
              0.3333333333333333,
              "#9c179e"
             ],
             [
              0.4444444444444444,
              "#bd3786"
             ],
             [
              0.5555555555555556,
              "#d8576b"
             ],
             [
              0.6666666666666666,
              "#ed7953"
             ],
             [
              0.7777777777777778,
              "#fb9f3a"
             ],
             [
              0.8888888888888888,
              "#fdca26"
             ],
             [
              1,
              "#f0f921"
             ]
            ],
            "type": "contour"
           }
          ],
          "contourcarpet": [
           {
            "colorbar": {
             "outlinewidth": 0,
             "ticks": ""
            },
            "type": "contourcarpet"
           }
          ],
          "heatmap": [
           {
            "colorbar": {
             "outlinewidth": 0,
             "ticks": ""
            },
            "colorscale": [
             [
              0,
              "#0d0887"
             ],
             [
              0.1111111111111111,
              "#46039f"
             ],
             [
              0.2222222222222222,
              "#7201a8"
             ],
             [
              0.3333333333333333,
              "#9c179e"
             ],
             [
              0.4444444444444444,
              "#bd3786"
             ],
             [
              0.5555555555555556,
              "#d8576b"
             ],
             [
              0.6666666666666666,
              "#ed7953"
             ],
             [
              0.7777777777777778,
              "#fb9f3a"
             ],
             [
              0.8888888888888888,
              "#fdca26"
             ],
             [
              1,
              "#f0f921"
             ]
            ],
            "type": "heatmap"
           }
          ],
          "heatmapgl": [
           {
            "colorbar": {
             "outlinewidth": 0,
             "ticks": ""
            },
            "colorscale": [
             [
              0,
              "#0d0887"
             ],
             [
              0.1111111111111111,
              "#46039f"
             ],
             [
              0.2222222222222222,
              "#7201a8"
             ],
             [
              0.3333333333333333,
              "#9c179e"
             ],
             [
              0.4444444444444444,
              "#bd3786"
             ],
             [
              0.5555555555555556,
              "#d8576b"
             ],
             [
              0.6666666666666666,
              "#ed7953"
             ],
             [
              0.7777777777777778,
              "#fb9f3a"
             ],
             [
              0.8888888888888888,
              "#fdca26"
             ],
             [
              1,
              "#f0f921"
             ]
            ],
            "type": "heatmapgl"
           }
          ],
          "histogram": [
           {
            "marker": {
             "pattern": {
              "fillmode": "overlay",
              "size": 10,
              "solidity": 0.2
             }
            },
            "type": "histogram"
           }
          ],
          "histogram2d": [
           {
            "colorbar": {
             "outlinewidth": 0,
             "ticks": ""
            },
            "colorscale": [
             [
              0,
              "#0d0887"
             ],
             [
              0.1111111111111111,
              "#46039f"
             ],
             [
              0.2222222222222222,
              "#7201a8"
             ],
             [
              0.3333333333333333,
              "#9c179e"
             ],
             [
              0.4444444444444444,
              "#bd3786"
             ],
             [
              0.5555555555555556,
              "#d8576b"
             ],
             [
              0.6666666666666666,
              "#ed7953"
             ],
             [
              0.7777777777777778,
              "#fb9f3a"
             ],
             [
              0.8888888888888888,
              "#fdca26"
             ],
             [
              1,
              "#f0f921"
             ]
            ],
            "type": "histogram2d"
           }
          ],
          "histogram2dcontour": [
           {
            "colorbar": {
             "outlinewidth": 0,
             "ticks": ""
            },
            "colorscale": [
             [
              0,
              "#0d0887"
             ],
             [
              0.1111111111111111,
              "#46039f"
             ],
             [
              0.2222222222222222,
              "#7201a8"
             ],
             [
              0.3333333333333333,
              "#9c179e"
             ],
             [
              0.4444444444444444,
              "#bd3786"
             ],
             [
              0.5555555555555556,
              "#d8576b"
             ],
             [
              0.6666666666666666,
              "#ed7953"
             ],
             [
              0.7777777777777778,
              "#fb9f3a"
             ],
             [
              0.8888888888888888,
              "#fdca26"
             ],
             [
              1,
              "#f0f921"
             ]
            ],
            "type": "histogram2dcontour"
           }
          ],
          "mesh3d": [
           {
            "colorbar": {
             "outlinewidth": 0,
             "ticks": ""
            },
            "type": "mesh3d"
           }
          ],
          "parcoords": [
           {
            "line": {
             "colorbar": {
              "outlinewidth": 0,
              "ticks": ""
             }
            },
            "type": "parcoords"
           }
          ],
          "pie": [
           {
            "automargin": true,
            "type": "pie"
           }
          ],
          "scatter": [
           {
            "marker": {
             "line": {
              "color": "#283442"
             }
            },
            "type": "scatter"
           }
          ],
          "scatter3d": [
           {
            "line": {
             "colorbar": {
              "outlinewidth": 0,
              "ticks": ""
             }
            },
            "marker": {
             "colorbar": {
              "outlinewidth": 0,
              "ticks": ""
             }
            },
            "type": "scatter3d"
           }
          ],
          "scattercarpet": [
           {
            "marker": {
             "colorbar": {
              "outlinewidth": 0,
              "ticks": ""
             }
            },
            "type": "scattercarpet"
           }
          ],
          "scattergeo": [
           {
            "marker": {
             "colorbar": {
              "outlinewidth": 0,
              "ticks": ""
             }
            },
            "type": "scattergeo"
           }
          ],
          "scattergl": [
           {
            "marker": {
             "line": {
              "color": "#283442"
             }
            },
            "type": "scattergl"
           }
          ],
          "scattermapbox": [
           {
            "marker": {
             "colorbar": {
              "outlinewidth": 0,
              "ticks": ""
             }
            },
            "type": "scattermapbox"
           }
          ],
          "scatterpolar": [
           {
            "marker": {
             "colorbar": {
              "outlinewidth": 0,
              "ticks": ""
             }
            },
            "type": "scatterpolar"
           }
          ],
          "scatterpolargl": [
           {
            "marker": {
             "colorbar": {
              "outlinewidth": 0,
              "ticks": ""
             }
            },
            "type": "scatterpolargl"
           }
          ],
          "scatterternary": [
           {
            "marker": {
             "colorbar": {
              "outlinewidth": 0,
              "ticks": ""
             }
            },
            "type": "scatterternary"
           }
          ],
          "surface": [
           {
            "colorbar": {
             "outlinewidth": 0,
             "ticks": ""
            },
            "colorscale": [
             [
              0,
              "#0d0887"
             ],
             [
              0.1111111111111111,
              "#46039f"
             ],
             [
              0.2222222222222222,
              "#7201a8"
             ],
             [
              0.3333333333333333,
              "#9c179e"
             ],
             [
              0.4444444444444444,
              "#bd3786"
             ],
             [
              0.5555555555555556,
              "#d8576b"
             ],
             [
              0.6666666666666666,
              "#ed7953"
             ],
             [
              0.7777777777777778,
              "#fb9f3a"
             ],
             [
              0.8888888888888888,
              "#fdca26"
             ],
             [
              1,
              "#f0f921"
             ]
            ],
            "type": "surface"
           }
          ],
          "table": [
           {
            "cells": {
             "fill": {
              "color": "#506784"
             },
             "line": {
              "color": "rgb(17,17,17)"
             }
            },
            "header": {
             "fill": {
              "color": "#2a3f5f"
             },
             "line": {
              "color": "rgb(17,17,17)"
             }
            },
            "type": "table"
           }
          ]
         },
         "layout": {
          "annotationdefaults": {
           "arrowcolor": "#f2f5fa",
           "arrowhead": 0,
           "arrowwidth": 1
          },
          "autotypenumbers": "strict",
          "coloraxis": {
           "colorbar": {
            "outlinewidth": 0,
            "ticks": ""
           }
          },
          "colorscale": {
           "diverging": [
            [
             0,
             "#8e0152"
            ],
            [
             0.1,
             "#c51b7d"
            ],
            [
             0.2,
             "#de77ae"
            ],
            [
             0.3,
             "#f1b6da"
            ],
            [
             0.4,
             "#fde0ef"
            ],
            [
             0.5,
             "#f7f7f7"
            ],
            [
             0.6,
             "#e6f5d0"
            ],
            [
             0.7,
             "#b8e186"
            ],
            [
             0.8,
             "#7fbc41"
            ],
            [
             0.9,
             "#4d9221"
            ],
            [
             1,
             "#276419"
            ]
           ],
           "sequential": [
            [
             0,
             "#0d0887"
            ],
            [
             0.1111111111111111,
             "#46039f"
            ],
            [
             0.2222222222222222,
             "#7201a8"
            ],
            [
             0.3333333333333333,
             "#9c179e"
            ],
            [
             0.4444444444444444,
             "#bd3786"
            ],
            [
             0.5555555555555556,
             "#d8576b"
            ],
            [
             0.6666666666666666,
             "#ed7953"
            ],
            [
             0.7777777777777778,
             "#fb9f3a"
            ],
            [
             0.8888888888888888,
             "#fdca26"
            ],
            [
             1,
             "#f0f921"
            ]
           ],
           "sequentialminus": [
            [
             0,
             "#0d0887"
            ],
            [
             0.1111111111111111,
             "#46039f"
            ],
            [
             0.2222222222222222,
             "#7201a8"
            ],
            [
             0.3333333333333333,
             "#9c179e"
            ],
            [
             0.4444444444444444,
             "#bd3786"
            ],
            [
             0.5555555555555556,
             "#d8576b"
            ],
            [
             0.6666666666666666,
             "#ed7953"
            ],
            [
             0.7777777777777778,
             "#fb9f3a"
            ],
            [
             0.8888888888888888,
             "#fdca26"
            ],
            [
             1,
             "#f0f921"
            ]
           ]
          },
          "colorway": [
           "#636efa",
           "#EF553B",
           "#00cc96",
           "#ab63fa",
           "#FFA15A",
           "#19d3f3",
           "#FF6692",
           "#B6E880",
           "#FF97FF",
           "#FECB52"
          ],
          "font": {
           "color": "#f2f5fa"
          },
          "geo": {
           "bgcolor": "rgb(17,17,17)",
           "lakecolor": "rgb(17,17,17)",
           "landcolor": "rgb(17,17,17)",
           "showlakes": true,
           "showland": true,
           "subunitcolor": "#506784"
          },
          "hoverlabel": {
           "align": "left"
          },
          "hovermode": "closest",
          "mapbox": {
           "style": "dark"
          },
          "paper_bgcolor": "rgb(17,17,17)",
          "plot_bgcolor": "rgb(17,17,17)",
          "polar": {
           "angularaxis": {
            "gridcolor": "#506784",
            "linecolor": "#506784",
            "ticks": ""
           },
           "bgcolor": "rgb(17,17,17)",
           "radialaxis": {
            "gridcolor": "#506784",
            "linecolor": "#506784",
            "ticks": ""
           }
          },
          "scene": {
           "xaxis": {
            "backgroundcolor": "rgb(17,17,17)",
            "gridcolor": "#506784",
            "gridwidth": 2,
            "linecolor": "#506784",
            "showbackground": true,
            "ticks": "",
            "zerolinecolor": "#C8D4E3"
           },
           "yaxis": {
            "backgroundcolor": "rgb(17,17,17)",
            "gridcolor": "#506784",
            "gridwidth": 2,
            "linecolor": "#506784",
            "showbackground": true,
            "ticks": "",
            "zerolinecolor": "#C8D4E3"
           },
           "zaxis": {
            "backgroundcolor": "rgb(17,17,17)",
            "gridcolor": "#506784",
            "gridwidth": 2,
            "linecolor": "#506784",
            "showbackground": true,
            "ticks": "",
            "zerolinecolor": "#C8D4E3"
           }
          },
          "shapedefaults": {
           "line": {
            "color": "#f2f5fa"
           }
          },
          "sliderdefaults": {
           "bgcolor": "#C8D4E3",
           "bordercolor": "rgb(17,17,17)",
           "borderwidth": 1,
           "tickwidth": 0
          },
          "ternary": {
           "aaxis": {
            "gridcolor": "#506784",
            "linecolor": "#506784",
            "ticks": ""
           },
           "baxis": {
            "gridcolor": "#506784",
            "linecolor": "#506784",
            "ticks": ""
           },
           "bgcolor": "rgb(17,17,17)",
           "caxis": {
            "gridcolor": "#506784",
            "linecolor": "#506784",
            "ticks": ""
           }
          },
          "title": {
           "x": 0.05
          },
          "updatemenudefaults": {
           "bgcolor": "#506784",
           "borderwidth": 0
          },
          "xaxis": {
           "automargin": true,
           "gridcolor": "#283442",
           "linecolor": "#506784",
           "ticks": "",
           "title": {
            "standoff": 15
           },
           "zerolinecolor": "#283442",
           "zerolinewidth": 2
          },
          "yaxis": {
           "automargin": true,
           "gridcolor": "#283442",
           "linecolor": "#506784",
           "ticks": "",
           "title": {
            "standoff": 15
           },
           "zerolinecolor": "#283442",
           "zerolinewidth": 2
          }
         }
        },
        "title": {
         "text": "OHLC vs Prediction Over Time"
        },
        "xaxis": {
         "rangeslider": {
          "visible": false
         }
        },
        "yaxis": {
         "tickformat": ".0f"
        },
        "yaxis2": {
         "overlaying": "y",
         "side": "right",
         "tickformat": ".0%"
        }
       }
      }
     },
     "metadata": {},
     "output_type": "display_data"
    }
   ],
   "source": [
    "create_viz(df_viz, '2023-12-29')"
   ]
  },
  {
   "cell_type": "code",
   "execution_count": null,
   "metadata": {},
   "outputs": [],
   "source": []
  },
  {
   "cell_type": "code",
   "execution_count": 121,
   "metadata": {},
   "outputs": [
    {
     "ename": "NameError",
     "evalue": "name 'XXX' is not defined",
     "output_type": "error",
     "traceback": [
      "\u001b[1;31m---------------------------------------------------------------------------\u001b[0m",
      "\u001b[1;31mNameError\u001b[0m                                 Traceback (most recent call last)",
      "\u001b[1;32md:\\Projects\\session_extrema_model\\lower_tf_research_tops_bottoms.ipynb Cell 46\u001b[0m line \u001b[0;36m1\n\u001b[1;32m----> <a href='vscode-notebook-cell:/d%3A/Projects/session_extrema_model/lower_tf_research_tops_bottoms.ipynb#X63sZmlsZQ%3D%3D?line=0'>1</a>\u001b[0m XXX\n",
      "\u001b[1;31mNameError\u001b[0m: name 'XXX' is not defined"
     ]
    }
   ],
   "source": [
    "XXX"
   ]
  },
  {
   "cell_type": "code",
   "execution_count": null,
   "metadata": {},
   "outputs": [],
   "source": []
  },
  {
   "cell_type": "code",
   "execution_count": null,
   "metadata": {},
   "outputs": [],
   "source": []
  },
  {
   "cell_type": "code",
   "execution_count": null,
   "metadata": {},
   "outputs": [],
   "source": []
  },
  {
   "cell_type": "code",
   "execution_count": null,
   "metadata": {},
   "outputs": [],
   "source": [
    "time_value = datetime.time(13,0)\n",
    "prev_close_pct = 0.005\n",
    "day_open_pct = 0.00\n",
    "gap_open_pct = -0.005\n",
    "\n",
    "input_data = pd.DataFrame({\n",
    "    'time': [time_value], \n",
    "    'prev_close_pct': [prev_close_pct],\n",
    "    'day_open_pct': [day_open_pct],\n",
    "    'gap_open_pct': [gap_open_pct],\n",
    "    })\n",
    "predicted_proba = pipeline.predict_proba(input_data)[:,-1]\n",
    "\n",
    "print(f\"Predicted Probability: {predicted_proba[0]}\")"
   ]
  },
  {
   "cell_type": "code",
   "execution_count": null,
   "metadata": {},
   "outputs": [],
   "source": [
    "get_top_probability(time_value, prev_close_pct)"
   ]
  },
  {
   "cell_type": "code",
   "execution_count": null,
   "metadata": {},
   "outputs": [],
   "source": [
    "XXX"
   ]
  },
  {
   "cell_type": "code",
   "execution_count": null,
   "metadata": {},
   "outputs": [],
   "source": [
    "daily_data = spx_data.groupby(spx_data.index.date)['eod_close_pct'].max()"
   ]
  },
  {
   "cell_type": "code",
   "execution_count": null,
   "metadata": {},
   "outputs": [],
   "source": [
    "daily_data.describe()"
   ]
  },
  {
   "cell_type": "code",
   "execution_count": null,
   "metadata": {},
   "outputs": [],
   "source": [
    "daily_data.clip(-0.05,0.05).hist()"
   ]
  },
  {
   "cell_type": "code",
   "execution_count": null,
   "metadata": {},
   "outputs": [],
   "source": []
  },
  {
   "cell_type": "code",
   "execution_count": null,
   "metadata": {},
   "outputs": [],
   "source": [
    "spx_data.loc[(spx_data['time'] < datetime.time(10,5)) & (spx_data['label'] == 1), 'prev_close_pct'].describe()"
   ]
  },
  {
   "cell_type": "code",
   "execution_count": null,
   "metadata": {},
   "outputs": [],
   "source": [
    "len(set(spx_data.index.date))"
   ]
  },
  {
   "cell_type": "code",
   "execution_count": null,
   "metadata": {},
   "outputs": [],
   "source": [
    "import plotly.graph_objects as go\n",
    "\n",
    "# df_use = spx_data.query('(eod_close_pct > -0.007) & (eod_close_pct < 0.007)')\n",
    "df_use = spx_data.query('(eod_close_pct < 0.01) & (eod_close_pct > -0.01)')\n",
    "# df_use = spx_data.copy()\n",
    "total_days = len(set(spx_data.index.date))\n",
    "set_days = len(set(df_use.index.date))\n",
    "# Convert times to string\n",
    "times = df_use['time'].unique()\n",
    "times = [t.strftime('%H:%M:%S') for t in times]\n",
    "freqs = df_use.groupby('time')['label'].mean().cumsum()\n",
    "\n",
    "# Calculate means\n",
    "means = df_use.groupby('time')['prev_close_pct'].mean()\n",
    "\n",
    "# Create a Plotly figure\n",
    "fig = go.Figure()\n",
    "\n",
    "# Add a line trace\n",
    "fig.add_trace(go.Scatter(x=times, y=means, mode='lines', name='Mean'))\n",
    "\n",
    "fig.add_trace(go.Scatter(x=times, y=freqs, mode='lines', name='Frequency', yaxis='y2'))\n",
    "fig.update_layout(\n",
    "    yaxis2=dict(\n",
    "        title='Frequency',\n",
    "        titlefont=dict(\n",
    "            color='rgb(148, 103, 189)'\n",
    "        ),\n",
    "        tickfont=dict(\n",
    "            color='rgb(148, 103, 189)'\n",
    "        ),\n",
    "        overlaying='y',\n",
    "        side='right'\n",
    "    )\n",
    ")\n",
    "fig.update_yaxes(\n",
    "    tickformat=\".3%\",\n",
    ")\n",
    "\n",
    "# Set layout properties\n",
    "fig.update_layout(\n",
    "    title=f'Mean vs Time ({str(set_days)} -- {set_days / total_days:.1%})',\n",
    "    xaxis_title='Time',\n",
    "    yaxis_title='Mean',\n",
    "    autosize=False,\n",
    "    width=1000,\n",
    "    height=500,\n",
    ")\n",
    "\n",
    "# Show the figure\n",
    "fig.show()"
   ]
  },
  {
   "cell_type": "code",
   "execution_count": null,
   "metadata": {},
   "outputs": [],
   "source": []
  },
  {
   "cell_type": "code",
   "execution_count": null,
   "metadata": {},
   "outputs": [],
   "source": [
    "import numpy as np\n",
    "import pandas as pd\n",
    "import datetime\n",
    "\n",
    "spx_data['label_lod'] = np.nan\n",
    "\n",
    "# Per date, run it.\n",
    "for day in sorted(set(spx_data.index.date)):\n",
    "    day_str = datetime.datetime.strftime(day, '%Y-%m-%d')\n",
    "    spx_data.loc[day_str, 'lod'] = spx_data.loc[day_str, 'low'].min()\n",
    "\n",
    "    # Label the data: 1 if the current low is the LOD, 0 otherwise\n",
    "    spx_data.loc[day_str, 'label_lod'] = (spx_data.loc[day_str, 'low'] == spx_data.loc[day_str, 'lod']).astype(int)\n",
    "\n",
    "    # Find the index of LOD\n",
    "    lod_index = spx_data.loc[day_str][spx_data.loc[day_str, 'label_lod'] == 1].index\n",
    "\n",
    "    # If LOD is found within the first 5 bars, label the first 5 bars as 1\n",
    "    if not lod_index.empty:\n",
    "        lod_index = lod_index[0]  # In case there are multiple, take the first\n",
    "        if lod_index <= spx_data.loc[day_str].index[4]:  # Check if LOD is within the first 5 bars\n",
    "            spx_data.loc[spx_data.loc[day_str].index[:5], 'label_lod'] = 1\n",
    "        else:\n",
    "            start_time = spx_data.loc[day_str].index[0]\n",
    "            end_time = lod_index\n",
    "            # Calculate the start index using Timedelta\n",
    "            start_index = end_time - pd.Timedelta(minutes=5 * 4)\n",
    "            start_index = max(start_index, start_time)\n",
    "            spx_data.loc[start_index:end_time, 'label_lod'] = 1\n",
    "\n",
    "spx_data.head()"
   ]
  },
  {
   "cell_type": "code",
   "execution_count": null,
   "metadata": {},
   "outputs": [],
   "source": [
    "spx_data['time'] = spx_data.index.time"
   ]
  },
  {
   "cell_type": "code",
   "execution_count": null,
   "metadata": {},
   "outputs": [],
   "source": [
    "spx_data['label'].sum()"
   ]
  },
  {
   "cell_type": "code",
   "execution_count": null,
   "metadata": {},
   "outputs": [],
   "source": [
    "pd.spx_data.groupby('time')['label'].mean()"
   ]
  },
  {
   "cell_type": "code",
   "execution_count": null,
   "metadata": {},
   "outputs": [],
   "source": [
    "import matplotlib.pyplot as plt\n",
    "d = '2023-12-20'\n",
    "spx_data.loc[d,'label'].plot();\n",
    "spx_data.loc[d,'label_lod'].plot();\n",
    "plt.legend();\n",
    "print(spx_data.loc[d,'label_lod'].sum())"
   ]
  },
  {
   "cell_type": "code",
   "execution_count": null,
   "metadata": {},
   "outputs": [],
   "source": [
    "spx_data['label'].value_counts()"
   ]
  },
  {
   "cell_type": "code",
   "execution_count": null,
   "metadata": {},
   "outputs": [],
   "source": [
    "len(set(spx_data.index.date))"
   ]
  },
  {
   "cell_type": "code",
   "execution_count": null,
   "metadata": {},
   "outputs": [],
   "source": []
  },
  {
   "cell_type": "code",
   "execution_count": null,
   "metadata": {},
   "outputs": [],
   "source": [
    "spx_data.loc[day]"
   ]
  },
  {
   "cell_type": "code",
   "execution_count": null,
   "metadata": {},
   "outputs": [],
   "source": [
    "import pandas as pd\n",
    "\n",
    "# Load data\n",
    "# data = pd.read_csv('your_data_file.csv', parse_dates=True)\n",
    "\n",
    "# Calculate P as the average of open, high, low, and close\n",
    "spx_data['P'] = spx_data[['open', 'high', 'low', 'close']].mean(axis=1)\n",
    "\n",
    "# Initialize columns for ON, O1, O2, O3\n",
    "spx_data['ON'] = spx_data['P'].rolling(window=6).max()\n",
    "spx_data['O1'] = spx_data['P'].rolling(window=6).apply(lambda x: x.nsmallest(2).iloc[0] if x.idxmax() != x.index[-1] else x.nsmallest(2).iloc[1])\n",
    "spx_data['O2'] = spx_data['P'].rolling(window=6).apply(lambda x: x.nsmallest(3).iloc[1] if x.idxmax() == x.index[-2] else (x.nsmallest(3).iloc[0] if x.idxmax() != x.index[-1] else x.nsmallest(3).iloc[2]))\n",
    "spx_data['O3'] = spx_data['P'].rolling(window=6).apply(lambda x: x.nsmallest(3).iloc[2])\n",
    "\n",
    "# Set iMA (fast_ma)\n",
    "spx_data['fast_ma'] = spx_data['O3']\n"
   ]
  },
  {
   "cell_type": "code",
   "execution_count": null,
   "metadata": {},
   "outputs": [],
   "source": [
    "\n",
    "# Display the result\n",
    "spx_data[['Datetime','P', 'ON', 'O1', 'O2', 'O3', 'fast_ma']].tail()\n"
   ]
  },
  {
   "cell_type": "code",
   "execution_count": null,
   "metadata": {},
   "outputs": [],
   "source": [
    "# Initializing the required columns\n",
    "spx_data['a'] = 0\n",
    "spx_data['b'] = 0\n",
    "spx_data['z'] = 0\n",
    "spx_data['c'] = 0\n",
    "spx_data['l'] = 0\n",
    "spx_data['s'] = 0\n",
    "\n",
    "# Helper functions to calculate lowest_low, highest_high, avg_low, avg_high\n",
    "spx_data['lowest_low'] = spx_data['low'].rolling(window=5).min()\n",
    "spx_data['highest_high'] = spx_data['high'].rolling(window=5).max()\n",
    "spx_data['avg_low'] = spx_data['low'].rolling(window=5).mean()\n",
    "spx_data['avg_high'] = spx_data['high'].rolling(window=5).mean()\n",
    "\n",
    "for i, row in spx_data.iterrows():\n",
    "    if i == 0:\n",
    "        continue  # Skip the first row\n",
    "\n",
    "    a_prev = spx_data.at[i - 1, 'a']\n",
    "    low_prev = spx_data.at[i - 1, 'low']\n",
    "    high_prev = spx_data.at[i - 1, 'high']\n",
    "\n",
    "    if a_prev == 1:\n",
    "        spx_data.at[i, 'b'] = max(spx_data.at[i, 'lowest_low'], spx_data.at[i - 1, 'b'])\n",
    "        spx_data.at[i, 'z'] = 1 if spx_data.at[i, 'avg_high'] < spx_data.at[i - 1, 'b'] and spx_data.at[i, 'close'] < low_prev else spx_data.at[i - 1, 'z']\n",
    "        spx_data.at[i, 'a'] = 0 if spx_data.at[i, 'avg_high'] < spx_data.at[i - 1, 'b'] and spx_data.at[i, 'close'] < low_prev else a_prev\n",
    "        spx_data.at[i, 'c'] = spx_data.at[i, 'highest_high'] if spx_data.at[i, 'avg_high'] < spx_data.at[i - 1, 'b'] and spx_data.at[i, 'close'] < low_prev else spx_data.at[i - 1, 'c']\n",
    "    elif a_prev == 0:\n",
    "        spx_data.at[i, 'c'] = min(spx_data.at[i, 'highest_high'], spx_data.at[i - 1, 'c'])\n",
    "        spx_data.at[i, 'z'] = 0 if spx_data.at[i, 'avg_low'] > spx_data.at[i - 1, 'c'] and spx_data.at[i, 'close'] > high_prev else spx_data.at[i - 1, 'z']\n",
    "        spx_data.at[i, 'a'] = 1 if spx_data.at[i, 'avg_low'] > spx_data.at[i - 1, 'c'] and spx_data.at[i, 'close'] > high_prev else a_prev\n",
    "        spx_data.at[i, 'b'] = spx_data.at[i, 'lowest_low'] if spx_data.at[i, 'avg_low'] > spx_data.at[i - 1, 'c'] and spx_data.at[i, 'close'] > high_prev else spx_data.at[i - 1, 'b']\n",
    "    else:\n",
    "        # Maintain the previous values\n",
    "        spx_data.at[i, 'b'] = spx_data.at[i - 1, 'b']\n",
    "        spx_data.at[i, 'z'] = spx_data.at[i - 1, 'z']\n",
    "        spx_data.at[i, 'a'] = a_prev\n",
    "        spx_data.at[i, 'c'] = spx_data.at[i - 1, 'c']\n",
    "\n",
    "    # Adjusting 'l' and 's'\n",
    "    if spx_data.at[i, 'z'] == 0:\n",
    "        spx_data.at[i, 'l'] = spx_data.at[i - 1, 's'] if spx_data.at[i - 1, 'z'] != 0 else max(spx_data.at[i - 1, 'b'], spx_data.at[i - 1, 'l'])\n",
    "        spx_data.at[i, 's'] = 0\n",
    "    elif spx_data.at[i - 1, 'z'] != 1:\n",
    "        spx_data.at[i, 's'] = spx_data.at[i - 1, 'l']\n",
    "        spx_data.at[i, 'l'] = 0\n",
    "    elif spx_data.at[i, 'z'] == 1:\n",
    "        spx_data.at[i, 's'] = min(spx_data.at[i, 'c'], spx_data.at[i - 1, 's'])\n",
    "        spx_data.at[i, 'l'] = spx_data.at[i - 1, 'l']\n",
    "    else:\n",
    "        spx_data.at[i, 'l'] = spx_data.at[i - 1, 'l']\n",
    "        spx_data.at[i, 's'] = spx_data.at[i - 1, 's']\n",
    "\n",
    "    # Setting 'trail'\n",
    "    spx_data.at[i, 'trail'] = spx_data.at[i, 'l'] if spx_data.at[i, 'l'] > 0 else spx_data.at[i, 's']\n",
    "\n",
    "# # Display the result\n",
    "# print(spx_data[['a', 'b', 'z', 'c', 'l', 's', 'trail']])\n"
   ]
  },
  {
   "cell_type": "code",
   "execution_count": null,
   "metadata": {},
   "outputs": [],
   "source": [
    "spx_data[['close', 'fast_ma']].tail().plot()"
   ]
  },
  {
   "cell_type": "markdown",
   "metadata": {},
   "source": [
    "# Backtesting"
   ]
  },
  {
   "cell_type": "code",
   "execution_count": null,
   "metadata": {},
   "outputs": [],
   "source": [
    "import bt\n",
    "import pandas as pd\n",
    "\n",
    "# Load your data\n",
    "# data = pd.read_csv('your_data_file.csv', index_col='Date', parse_dates=True)\n",
    "\n",
    "# Custom Algo for selecting where to trade\n",
    "class SelectWhere(bt.Algo):\n",
    "    def __init__(self, signal):\n",
    "        self.signal = signal\n",
    "\n",
    "    def __call__(self, target):\n",
    "        if target.now in self.signal.index:\n",
    "            signal_value = self.signal.loc[target.now]\n",
    "            target.temp['weights'] = signal_value.astype(float)\n",
    "        return True\n",
    "\n",
    "# Create the signal for the strategy\n",
    "signal = (data['close'] > data['fast_ma']) & (data['close'].shift() < data['slow_ma'])\n",
    "\n",
    "# Create the strategy\n",
    "strategy = bt.Strategy('AboveFastMA',\n",
    "                       [SelectWhere(signal),\n",
    "                        bt.algos.WeighTarget('weights'),\n",
    "                        bt.algos.Rebalance()])\n",
    "\n",
    "# Create a backtest and run it\n",
    "test = bt.Backtest(strategy, data)\n",
    "\n",
    "# Set up the backtest with transaction costs and slippage\n",
    "commissions = bt.fees.FixedPerTrade(1) # $1 per trade\n",
    "slippage = bt.slippage.FixedSlippage(0.05) # Fixed slippage per share, adjust as needed\n",
    "\n",
    "# Set the commissions and slippage to the backtest\n",
    "test.set_fees(commissions=commissions, slippage=slippage)\n",
    "\n",
    "# Run the backtest\n",
    "res = bt.run(test)\n",
    "\n",
    "# Plot the results\n",
    "res.plot()\n"
   ]
  },
  {
   "cell_type": "markdown",
   "metadata": {},
   "source": []
  }
 ],
 "metadata": {
  "kernelspec": {
   "display_name": ".venv",
   "language": "python",
   "name": "python3"
  },
  "language_info": {
   "codemirror_mode": {
    "name": "ipython",
    "version": 3
   },
   "file_extension": ".py",
   "mimetype": "text/x-python",
   "name": "python",
   "nbconvert_exporter": "python",
   "pygments_lexer": "ipython3",
   "version": "3.10.11"
  }
 },
 "nbformat": 4,
 "nbformat_minor": 2
}
