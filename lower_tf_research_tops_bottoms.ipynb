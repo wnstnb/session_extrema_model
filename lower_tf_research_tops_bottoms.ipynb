{
 "cells": [
  {
   "cell_type": "code",
   "execution_count": 1,
   "metadata": {},
   "outputs": [],
   "source": [
    "from dbConn import engine\n",
    "import pandas as pd\n",
    "import numpy as np\n",
    "from tqdm import tqdm"
   ]
  },
  {
   "cell_type": "code",
   "execution_count": 2,
   "metadata": {},
   "outputs": [],
   "source": [
    "base_query = '''\n",
    "SELECT \n",
    "    spx.Datetime,\n",
    "    spx.Open AS Open_SPX,\n",
    "    spx.High AS High_SPX,\n",
    "    spx.Low AS Low_SPX,\n",
    "    spx.Close AS Close_SPX,\n",
    "    ndx.Open AS Open_NDX,\n",
    "    ndx.High AS High_NDX,\n",
    "    ndx.Low AS Low_NDX,\n",
    "    ndx.Close AS Close_NDX,\n",
    "    rut.Open AS Open_RUT,\n",
    "    rut.High AS High_RUT,\n",
    "    rut.Low AS Low_RUT,\n",
    "    rut.Close AS Close_RUT\n",
    "    FROM (\n",
    "    SELECT * FROM SPX_full_5min\n",
    "    ) spx\n",
    "    JOIN (\n",
    "    SELECT * FROM NDX_full_5min\n",
    "    ) ndx ON spx.Datetime = ndx.Datetime\n",
    "    JOIN (\n",
    "    SELECT * FROM RUT_full_5min\n",
    "    ) rut ON spx.Datetime = rut.Datetime\n",
    "-- WHERE spx.Datetime >= '2018-01-01'\n",
    "'''\n",
    "\n",
    "# Initialize variables for pagination\n",
    "offset = 0\n",
    "limit = 50000\n",
    "data_frames = []\n",
    "\n",
    "while True:\n",
    "    # Construct the query with LIMIT and OFFSET\n",
    "    query = f\"{base_query} LIMIT {limit} OFFSET {offset}\"\n",
    "    \n",
    "    # Fetch the chunk of data\n",
    "    df_chunk = pd.read_sql_query(query, con = engine.connect())\n",
    "    \n",
    "    # Break the loop if no more data is returned\n",
    "    if df_chunk.empty:\n",
    "        break\n",
    "\n",
    "    # Append the chunk to the list of dataframes\n",
    "    data_frames.append(df_chunk)\n",
    "\n",
    "    # Update the offset for the next query\n",
    "    offset += limit\n",
    "\n",
    "# Concatenate all dataframes\n",
    "data = pd.concat(data_frames, ignore_index=True)"
   ]
  },
  {
   "cell_type": "code",
   "execution_count": 3,
   "metadata": {},
   "outputs": [
    {
     "data": {
      "text/plain": [
       "330450"
      ]
     },
     "execution_count": 3,
     "metadata": {},
     "output_type": "execute_result"
    }
   ],
   "source": [
    "len(data)"
   ]
  },
  {
   "cell_type": "code",
   "execution_count": 4,
   "metadata": {},
   "outputs": [
    {
     "data": {
      "text/html": [
       "<div>\n",
       "<style scoped>\n",
       "    .dataframe tbody tr th:only-of-type {\n",
       "        vertical-align: middle;\n",
       "    }\n",
       "\n",
       "    .dataframe tbody tr th {\n",
       "        vertical-align: top;\n",
       "    }\n",
       "\n",
       "    .dataframe thead th {\n",
       "        text-align: right;\n",
       "    }\n",
       "</style>\n",
       "<table border=\"1\" class=\"dataframe\">\n",
       "  <thead>\n",
       "    <tr style=\"text-align: right;\">\n",
       "      <th></th>\n",
       "      <th>Datetime</th>\n",
       "      <th>Open_SPX</th>\n",
       "      <th>High_SPX</th>\n",
       "      <th>Low_SPX</th>\n",
       "      <th>Close_SPX</th>\n",
       "      <th>Open_NDX</th>\n",
       "      <th>High_NDX</th>\n",
       "      <th>Low_NDX</th>\n",
       "      <th>Close_NDX</th>\n",
       "      <th>Open_RUT</th>\n",
       "      <th>High_RUT</th>\n",
       "      <th>Low_RUT</th>\n",
       "      <th>Close_RUT</th>\n",
       "    </tr>\n",
       "  </thead>\n",
       "  <tbody>\n",
       "    <tr>\n",
       "      <th>0</th>\n",
       "      <td>2007-04-27 12:20:00</td>\n",
       "      <td>1492.19</td>\n",
       "      <td>1492.40</td>\n",
       "      <td>1492.19</td>\n",
       "      <td>1492.38</td>\n",
       "      <td>1887.90</td>\n",
       "      <td>1887.91</td>\n",
       "      <td>1886.97</td>\n",
       "      <td>1887.65</td>\n",
       "      <td>829.54</td>\n",
       "      <td>829.55</td>\n",
       "      <td>829.35</td>\n",
       "      <td>829.41</td>\n",
       "    </tr>\n",
       "    <tr>\n",
       "      <th>1</th>\n",
       "      <td>2007-04-27 12:25:00</td>\n",
       "      <td>1492.39</td>\n",
       "      <td>1492.91</td>\n",
       "      <td>1492.39</td>\n",
       "      <td>1492.87</td>\n",
       "      <td>1887.72</td>\n",
       "      <td>1888.32</td>\n",
       "      <td>1887.72</td>\n",
       "      <td>1888.27</td>\n",
       "      <td>829.42</td>\n",
       "      <td>829.68</td>\n",
       "      <td>829.42</td>\n",
       "      <td>829.68</td>\n",
       "    </tr>\n",
       "    <tr>\n",
       "      <th>2</th>\n",
       "      <td>2007-04-27 12:30:00</td>\n",
       "      <td>1492.54</td>\n",
       "      <td>1492.80</td>\n",
       "      <td>1492.53</td>\n",
       "      <td>1492.58</td>\n",
       "      <td>1887.77</td>\n",
       "      <td>1888.68</td>\n",
       "      <td>1887.65</td>\n",
       "      <td>1888.13</td>\n",
       "      <td>829.65</td>\n",
       "      <td>829.84</td>\n",
       "      <td>829.65</td>\n",
       "      <td>829.73</td>\n",
       "    </tr>\n",
       "    <tr>\n",
       "      <th>3</th>\n",
       "      <td>2007-04-27 12:35:00</td>\n",
       "      <td>1492.70</td>\n",
       "      <td>1492.88</td>\n",
       "      <td>1492.30</td>\n",
       "      <td>1492.88</td>\n",
       "      <td>1888.09</td>\n",
       "      <td>1888.24</td>\n",
       "      <td>1887.27</td>\n",
       "      <td>1888.24</td>\n",
       "      <td>829.65</td>\n",
       "      <td>829.65</td>\n",
       "      <td>829.25</td>\n",
       "      <td>829.38</td>\n",
       "    </tr>\n",
       "    <tr>\n",
       "      <th>4</th>\n",
       "      <td>2007-04-27 12:40:00</td>\n",
       "      <td>1492.88</td>\n",
       "      <td>1494.46</td>\n",
       "      <td>1492.88</td>\n",
       "      <td>1493.94</td>\n",
       "      <td>1888.26</td>\n",
       "      <td>1890.01</td>\n",
       "      <td>1888.26</td>\n",
       "      <td>1889.31</td>\n",
       "      <td>829.39</td>\n",
       "      <td>830.08</td>\n",
       "      <td>829.39</td>\n",
       "      <td>830.03</td>\n",
       "    </tr>\n",
       "  </tbody>\n",
       "</table>\n",
       "</div>"
      ],
      "text/plain": [
       "             Datetime  Open_SPX  High_SPX  Low_SPX  Close_SPX  Open_NDX  \\\n",
       "0 2007-04-27 12:20:00   1492.19   1492.40  1492.19    1492.38   1887.90   \n",
       "1 2007-04-27 12:25:00   1492.39   1492.91  1492.39    1492.87   1887.72   \n",
       "2 2007-04-27 12:30:00   1492.54   1492.80  1492.53    1492.58   1887.77   \n",
       "3 2007-04-27 12:35:00   1492.70   1492.88  1492.30    1492.88   1888.09   \n",
       "4 2007-04-27 12:40:00   1492.88   1494.46  1492.88    1493.94   1888.26   \n",
       "\n",
       "   High_NDX  Low_NDX  Close_NDX  Open_RUT  High_RUT  Low_RUT  Close_RUT  \n",
       "0   1887.91  1886.97    1887.65    829.54    829.55   829.35     829.41  \n",
       "1   1888.32  1887.72    1888.27    829.42    829.68   829.42     829.68  \n",
       "2   1888.68  1887.65    1888.13    829.65    829.84   829.65     829.73  \n",
       "3   1888.24  1887.27    1888.24    829.65    829.65   829.25     829.38  \n",
       "4   1890.01  1888.26    1889.31    829.39    830.08   829.39     830.03  "
      ]
     },
     "execution_count": 4,
     "metadata": {},
     "output_type": "execute_result"
    }
   ],
   "source": [
    "data.head()"
   ]
  },
  {
   "cell_type": "code",
   "execution_count": 5,
   "metadata": {},
   "outputs": [],
   "source": [
    "data['Date'] = data['Datetime'].dt.date\n",
    "data['Time'] = data['Datetime'].dt.time"
   ]
  },
  {
   "cell_type": "code",
   "execution_count": 6,
   "metadata": {},
   "outputs": [],
   "source": [
    "import datetime"
   ]
  },
  {
   "cell_type": "markdown",
   "metadata": {},
   "source": [
    "# Start Run Models"
   ]
  },
  {
   "cell_type": "code",
   "execution_count": 100,
   "metadata": {},
   "outputs": [],
   "source": [
    "ticker_dict = {\n",
    "    \"^GSPC\":{\n",
    "        \"hod_model\":\"models/hod_model_spx.joblib\",\n",
    "        \"lod_model\":\"models/lod_model_spx.joblib\",\n",
    "        \"gd_model\":\"models/gd_model_spx.joblib\",\n",
    "        \"suffix\":\"SPX\"\n",
    "    },\n",
    "    \"^NDX\":{\n",
    "        \"hod_model\":\"models/hod_model_ndx.joblib\",\n",
    "        \"lod_model\":\"models/lod_model_ndx.joblib\",\n",
    "        \"gd_model\":\"models/gd_model_ndx.joblib\",\n",
    "        \"suffix\":\"NDX\"\n",
    "    },\n",
    "    \"^RUT\":{\n",
    "        \"hod_model\":\"models/hod_model_rut.joblib\",\n",
    "        \"lod_model\":\"models/lod_model_rut.joblib\",\n",
    "        \"gd_model\":\"models/gd_model_rut.joblib\",\n",
    "        \"suffix\":\"RUT\"\n",
    "    }\n",
    "}\n",
    "\n",
    "tck = '^RUT'\n",
    "\n",
    "spx_data = data.loc[:,[\n",
    "    'Datetime',\n",
    "    f'Open_{ticker_dict[tck][\"suffix\"]}',\n",
    "    f'High_{ticker_dict[tck][\"suffix\"]}',\n",
    "    f'Low_{ticker_dict[tck][\"suffix\"]}',\n",
    "    f'Close_{ticker_dict[tck][\"suffix\"]}'\n",
    "]]\n",
    "spx_data.columns = ['Datetime','open','high','low','close']\n",
    "spx_data['time'] = spx_data['Datetime'].dt.time\n",
    "spx_data = spx_data.loc[(spx_data['time'] < datetime.time(16,0)) & (spx_data['time'] >= datetime.time(9,30))]"
   ]
  },
  {
   "cell_type": "code",
   "execution_count": 101,
   "metadata": {},
   "outputs": [],
   "source": [
    "spx_data = spx_data.set_index('Datetime')"
   ]
  },
  {
   "cell_type": "code",
   "execution_count": 102,
   "metadata": {},
   "outputs": [],
   "source": [
    "# Get the last bar of each date\n",
    "spx_data['eod_close'] = spx_data.groupby(spx_data.index.date)['close'].tail(1)\n",
    "spx_data['prev_close'] = spx_data['eod_close'].shift(1)\n",
    "spx_data['prev_close'] = spx_data['prev_close'].ffill()\n",
    "spx_data['eod_close'] = spx_data['eod_close'].bfill()\n",
    "spx_data['green_day'] = spx_data['eod_close'] > spx_data['prev_close']\n",
    "\n",
    "spx_data['eod_close_pts'] = spx_data['eod_close'] - spx_data['prev_close']\n",
    "spx_data['eod_close_pct'] = spx_data['eod_close_pts'] / spx_data['prev_close']"
   ]
  },
  {
   "cell_type": "code",
   "execution_count": 103,
   "metadata": {},
   "outputs": [
    {
     "data": {
      "text/html": [
       "<div>\n",
       "<style scoped>\n",
       "    .dataframe tbody tr th:only-of-type {\n",
       "        vertical-align: middle;\n",
       "    }\n",
       "\n",
       "    .dataframe tbody tr th {\n",
       "        vertical-align: top;\n",
       "    }\n",
       "\n",
       "    .dataframe thead th {\n",
       "        text-align: right;\n",
       "    }\n",
       "</style>\n",
       "<table border=\"1\" class=\"dataframe\">\n",
       "  <thead>\n",
       "    <tr style=\"text-align: right;\">\n",
       "      <th></th>\n",
       "      <th>open</th>\n",
       "      <th>high</th>\n",
       "      <th>low</th>\n",
       "      <th>close</th>\n",
       "      <th>time</th>\n",
       "      <th>eod_close</th>\n",
       "      <th>prev_close</th>\n",
       "      <th>green_day</th>\n",
       "      <th>eod_close_pts</th>\n",
       "      <th>eod_close_pct</th>\n",
       "    </tr>\n",
       "    <tr>\n",
       "      <th>Datetime</th>\n",
       "      <th></th>\n",
       "      <th></th>\n",
       "      <th></th>\n",
       "      <th></th>\n",
       "      <th></th>\n",
       "      <th></th>\n",
       "      <th></th>\n",
       "      <th></th>\n",
       "      <th></th>\n",
       "      <th></th>\n",
       "    </tr>\n",
       "  </thead>\n",
       "  <tbody>\n",
       "    <tr>\n",
       "      <th>2007-04-27 12:20:00</th>\n",
       "      <td>829.54</td>\n",
       "      <td>829.55</td>\n",
       "      <td>829.35</td>\n",
       "      <td>829.41</td>\n",
       "      <td>12:20:00</td>\n",
       "      <td>829.8</td>\n",
       "      <td>NaN</td>\n",
       "      <td>False</td>\n",
       "      <td>NaN</td>\n",
       "      <td>NaN</td>\n",
       "    </tr>\n",
       "    <tr>\n",
       "      <th>2007-04-27 12:25:00</th>\n",
       "      <td>829.42</td>\n",
       "      <td>829.68</td>\n",
       "      <td>829.42</td>\n",
       "      <td>829.68</td>\n",
       "      <td>12:25:00</td>\n",
       "      <td>829.8</td>\n",
       "      <td>NaN</td>\n",
       "      <td>False</td>\n",
       "      <td>NaN</td>\n",
       "      <td>NaN</td>\n",
       "    </tr>\n",
       "    <tr>\n",
       "      <th>2007-04-27 12:30:00</th>\n",
       "      <td>829.65</td>\n",
       "      <td>829.84</td>\n",
       "      <td>829.65</td>\n",
       "      <td>829.73</td>\n",
       "      <td>12:30:00</td>\n",
       "      <td>829.8</td>\n",
       "      <td>NaN</td>\n",
       "      <td>False</td>\n",
       "      <td>NaN</td>\n",
       "      <td>NaN</td>\n",
       "    </tr>\n",
       "    <tr>\n",
       "      <th>2007-04-27 12:35:00</th>\n",
       "      <td>829.65</td>\n",
       "      <td>829.65</td>\n",
       "      <td>829.25</td>\n",
       "      <td>829.38</td>\n",
       "      <td>12:35:00</td>\n",
       "      <td>829.8</td>\n",
       "      <td>NaN</td>\n",
       "      <td>False</td>\n",
       "      <td>NaN</td>\n",
       "      <td>NaN</td>\n",
       "    </tr>\n",
       "    <tr>\n",
       "      <th>2007-04-27 12:40:00</th>\n",
       "      <td>829.39</td>\n",
       "      <td>830.08</td>\n",
       "      <td>829.39</td>\n",
       "      <td>830.03</td>\n",
       "      <td>12:40:00</td>\n",
       "      <td>829.8</td>\n",
       "      <td>NaN</td>\n",
       "      <td>False</td>\n",
       "      <td>NaN</td>\n",
       "      <td>NaN</td>\n",
       "    </tr>\n",
       "  </tbody>\n",
       "</table>\n",
       "</div>"
      ],
      "text/plain": [
       "                       open    high     low   close      time  eod_close  \\\n",
       "Datetime                                                                   \n",
       "2007-04-27 12:20:00  829.54  829.55  829.35  829.41  12:20:00      829.8   \n",
       "2007-04-27 12:25:00  829.42  829.68  829.42  829.68  12:25:00      829.8   \n",
       "2007-04-27 12:30:00  829.65  829.84  829.65  829.73  12:30:00      829.8   \n",
       "2007-04-27 12:35:00  829.65  829.65  829.25  829.38  12:35:00      829.8   \n",
       "2007-04-27 12:40:00  829.39  830.08  829.39  830.03  12:40:00      829.8   \n",
       "\n",
       "                     prev_close  green_day  eod_close_pts  eod_close_pct  \n",
       "Datetime                                                                  \n",
       "2007-04-27 12:20:00         NaN      False            NaN            NaN  \n",
       "2007-04-27 12:25:00         NaN      False            NaN            NaN  \n",
       "2007-04-27 12:30:00         NaN      False            NaN            NaN  \n",
       "2007-04-27 12:35:00         NaN      False            NaN            NaN  \n",
       "2007-04-27 12:40:00         NaN      False            NaN            NaN  "
      ]
     },
     "execution_count": 103,
     "metadata": {},
     "output_type": "execute_result"
    }
   ],
   "source": [
    "spx_data.head()"
   ]
  },
  {
   "cell_type": "code",
   "execution_count": 104,
   "metadata": {},
   "outputs": [
    {
     "data": {
      "text/html": [
       "<div>\n",
       "<style scoped>\n",
       "    .dataframe tbody tr th:only-of-type {\n",
       "        vertical-align: middle;\n",
       "    }\n",
       "\n",
       "    .dataframe tbody tr th {\n",
       "        vertical-align: top;\n",
       "    }\n",
       "\n",
       "    .dataframe thead th {\n",
       "        text-align: right;\n",
       "    }\n",
       "</style>\n",
       "<table border=\"1\" class=\"dataframe\">\n",
       "  <thead>\n",
       "    <tr style=\"text-align: right;\">\n",
       "      <th></th>\n",
       "      <th>open</th>\n",
       "      <th>high</th>\n",
       "      <th>low</th>\n",
       "      <th>close</th>\n",
       "      <th>time</th>\n",
       "      <th>eod_close</th>\n",
       "      <th>prev_close</th>\n",
       "      <th>green_day</th>\n",
       "      <th>eod_close_pts</th>\n",
       "      <th>eod_close_pct</th>\n",
       "    </tr>\n",
       "    <tr>\n",
       "      <th>Datetime</th>\n",
       "      <th></th>\n",
       "      <th></th>\n",
       "      <th></th>\n",
       "      <th></th>\n",
       "      <th></th>\n",
       "      <th></th>\n",
       "      <th></th>\n",
       "      <th></th>\n",
       "      <th></th>\n",
       "      <th></th>\n",
       "    </tr>\n",
       "  </thead>\n",
       "  <tbody>\n",
       "    <tr>\n",
       "      <th>2023-12-29 15:35:00</th>\n",
       "      <td>2036.42</td>\n",
       "      <td>2036.42</td>\n",
       "      <td>2035.76</td>\n",
       "      <td>2035.77</td>\n",
       "      <td>15:35:00</td>\n",
       "      <td>2027.75</td>\n",
       "      <td>2058.18</td>\n",
       "      <td>False</td>\n",
       "      <td>-30.43</td>\n",
       "      <td>-0.014785</td>\n",
       "    </tr>\n",
       "    <tr>\n",
       "      <th>2023-12-29 15:40:00</th>\n",
       "      <td>2035.79</td>\n",
       "      <td>2036.37</td>\n",
       "      <td>2035.24</td>\n",
       "      <td>2035.24</td>\n",
       "      <td>15:40:00</td>\n",
       "      <td>2027.75</td>\n",
       "      <td>2058.18</td>\n",
       "      <td>False</td>\n",
       "      <td>-30.43</td>\n",
       "      <td>-0.014785</td>\n",
       "    </tr>\n",
       "    <tr>\n",
       "      <th>2023-12-29 15:45:00</th>\n",
       "      <td>2035.13</td>\n",
       "      <td>2035.13</td>\n",
       "      <td>2033.84</td>\n",
       "      <td>2033.86</td>\n",
       "      <td>15:45:00</td>\n",
       "      <td>2027.75</td>\n",
       "      <td>2058.18</td>\n",
       "      <td>False</td>\n",
       "      <td>-30.43</td>\n",
       "      <td>-0.014785</td>\n",
       "    </tr>\n",
       "    <tr>\n",
       "      <th>2023-12-29 15:50:00</th>\n",
       "      <td>2033.83</td>\n",
       "      <td>2033.83</td>\n",
       "      <td>2028.39</td>\n",
       "      <td>2028.39</td>\n",
       "      <td>15:50:00</td>\n",
       "      <td>2027.75</td>\n",
       "      <td>2058.18</td>\n",
       "      <td>False</td>\n",
       "      <td>-30.43</td>\n",
       "      <td>-0.014785</td>\n",
       "    </tr>\n",
       "    <tr>\n",
       "      <th>2023-12-29 15:55:00</th>\n",
       "      <td>2028.20</td>\n",
       "      <td>2028.76</td>\n",
       "      <td>2027.65</td>\n",
       "      <td>2027.75</td>\n",
       "      <td>15:55:00</td>\n",
       "      <td>2027.75</td>\n",
       "      <td>2058.18</td>\n",
       "      <td>False</td>\n",
       "      <td>-30.43</td>\n",
       "      <td>-0.014785</td>\n",
       "    </tr>\n",
       "  </tbody>\n",
       "</table>\n",
       "</div>"
      ],
      "text/plain": [
       "                        open     high      low    close      time  eod_close  \\\n",
       "Datetime                                                                       \n",
       "2023-12-29 15:35:00  2036.42  2036.42  2035.76  2035.77  15:35:00    2027.75   \n",
       "2023-12-29 15:40:00  2035.79  2036.37  2035.24  2035.24  15:40:00    2027.75   \n",
       "2023-12-29 15:45:00  2035.13  2035.13  2033.84  2033.86  15:45:00    2027.75   \n",
       "2023-12-29 15:50:00  2033.83  2033.83  2028.39  2028.39  15:50:00    2027.75   \n",
       "2023-12-29 15:55:00  2028.20  2028.76  2027.65  2027.75  15:55:00    2027.75   \n",
       "\n",
       "                     prev_close  green_day  eod_close_pts  eod_close_pct  \n",
       "Datetime                                                                  \n",
       "2023-12-29 15:35:00     2058.18      False         -30.43      -0.014785  \n",
       "2023-12-29 15:40:00     2058.18      False         -30.43      -0.014785  \n",
       "2023-12-29 15:45:00     2058.18      False         -30.43      -0.014785  \n",
       "2023-12-29 15:50:00     2058.18      False         -30.43      -0.014785  \n",
       "2023-12-29 15:55:00     2058.18      False         -30.43      -0.014785  "
      ]
     },
     "execution_count": 104,
     "metadata": {},
     "output_type": "execute_result"
    }
   ],
   "source": [
    "spx_data.tail()"
   ]
  },
  {
   "cell_type": "code",
   "execution_count": 105,
   "metadata": {},
   "outputs": [
    {
     "name": "stderr",
     "output_type": "stream",
     "text": [
      "  0%|          | 0/4198 [00:00<?, ?it/s]"
     ]
    },
    {
     "name": "stderr",
     "output_type": "stream",
     "text": [
      "100%|██████████| 4198/4198 [01:38<00:00, 42.44it/s]\n"
     ]
    }
   ],
   "source": [
    "import numpy as np\n",
    "import pandas as pd\n",
    "import datetime\n",
    "from pandas.tseries.offsets import BDay\n",
    "from tqdm import tqdm\n",
    "\n",
    "spx_data['label'] = np.nan\n",
    "\n",
    "# Per date, run it.\n",
    "for day in tqdm(sorted(set(spx_data.index.date))):\n",
    "    day_str = datetime.datetime.strftime(day, '%Y-%m-%d')\n",
    "    day_open = spx_data.loc[day_str, 'open'].iloc[0]\n",
    "    spx_data.loc[day_str, 'lod'] = spx_data.loc[day_str, 'low'].min()\n",
    "    spx_data.loc[day_str, 'label_lod'] = (spx_data.loc[day_str, 'low'] == spx_data.loc[day_str, 'lod']).astype(int)\n",
    "    \n",
    "    spx_data.loc[day_str, 'hod'] = spx_data.loc[day_str, 'high'].max()\n",
    "    spx_data.loc[day_str, 'label'] = (spx_data.loc[day_str, 'high'] == spx_data.loc[day_str, 'hod']).astype(int)\n",
    "    spx_data.loc[day_str, 'day_open'] = day_open\n",
    "    spx_data.loc[day_str, 'day_open_pts'] = spx_data.loc[day_str, 'close'] - spx_data.loc[day_str, 'day_open']\n",
    "    spx_data.loc[day_str, 'day_open_pct'] = spx_data.loc[day_str, 'day_open_pts'] / spx_data.loc[day_str, 'day_open']\n",
    "    spx_data.loc[day_str, 'prev_close_pts'] = spx_data.loc[day_str, 'close'] - spx_data.loc[day_str, 'prev_close']\n",
    "    spx_data.loc[day_str, 'prev_close_pct'] = spx_data.loc[day_str, 'prev_close_pts'] / spx_data.loc[day_str, 'prev_close']\n",
    "\n",
    "    # Lowest low\n",
    "    spx_data.loc[day_str, 'lowest_low'] = spx_data.loc[day_str, 'low'].expanding().min()\n",
    "    spx_data.loc[day_str, 'lowest_low'] = spx_data.loc[day_str, 'lowest_low'].shift(1)\n",
    "    spx_data.loc[day_str, 'lowest_low'] = spx_data.loc[day_str, 'lowest_low'].ffill()\n",
    "    spx_data.loc[day_str, 'lowest_low_mag'] = (spx_data.loc[day_str, 'close'] / spx_data.loc[day_str, 'lowest_low']) - 1\n",
    "\n",
    "    # Highest high\n",
    "    spx_data.loc[day_str, 'highest_high'] = spx_data.loc[day_str, 'high'].expanding().max()\n",
    "    spx_data.loc[day_str, 'highest_high'] = spx_data.loc[day_str, 'highest_high'].shift(1)\n",
    "    spx_data.loc[day_str, 'highest_high'] = spx_data.loc[day_str, 'highest_high'].ffill()\n",
    "    spx_data.loc[day_str, 'highest_high_mag'] = (spx_data.loc[day_str, 'close'] / spx_data.loc[day_str, 'highest_high']) - 1\n",
    "\n",
    "    # Shifted\n",
    "    spx_data.loc[day_str, 'prev_close_pct_n1'] = spx_data.loc[day_str, 'prev_close_pct'].shift(1)\n",
    "    spx_data.loc[day_str, 'prev_close_pct_n2'] = spx_data.loc[day_str, 'prev_close_pct'].shift(2)\n",
    "    spx_data.loc[day_str, 'prev_close_pct_n3'] = spx_data.loc[day_str, 'prev_close_pct'].shift(3)\n",
    "\n",
    "    spx_data.loc[day_str, 'day_open_pct_n1'] = spx_data.loc[day_str, 'day_open_pct'].shift(1)\n",
    "    spx_data.loc[day_str, 'day_open_pct_n2'] = spx_data.loc[day_str, 'day_open_pct'].shift(2)\n",
    "    spx_data.loc[day_str, 'day_open_pct_n3'] = spx_data.loc[day_str, 'day_open_pct'].shift(3)\n",
    "\n",
    "\n",
    "\n",
    "    # Label the data: 1 if the current high is the HOD, 0 otherwise\n",
    "\n",
    "    # # Find the index of HOD\n",
    "    # hod_index = spx_data.loc[day_str][spx_data.loc[day_str, 'label'] == 1].index\n",
    "\n",
    "    # # If HOD is found within the first 5 bars, label the first 5 bars as 1\n",
    "    # if not hod_index.empty:\n",
    "    #     hod_index = hod_index[0]  # In case there are multiple, take the first\n",
    "    #     if hod_index <= spx_data.loc[day_str].index[4]:  # Check if HOD is within the first 5 bars\n",
    "    #         spx_data.loc[spx_data.loc[day_str].index[:5], 'label'] = 1\n",
    "    #     else:\n",
    "    #         start_time = spx_data.loc[day_str].index[0]\n",
    "    #         end_time = hod_index\n",
    "    #         # Calculate the start index using Timedelta\n",
    "    #         start_index = end_time - pd.Timedelta(minutes=5 * 4)\n",
    "    #         start_index = max(start_index, start_time)\n",
    "    #         spx_data.loc[start_index:end_time, 'label'] = 1\n",
    "\n",
    "# spx_data.head()\n"
   ]
  },
  {
   "cell_type": "code",
   "execution_count": 106,
   "metadata": {},
   "outputs": [
    {
     "data": {
      "text/plain": [
       "open                     0\n",
       "high                     0\n",
       "low                      0\n",
       "close                    0\n",
       "time                     0\n",
       "eod_close                0\n",
       "prev_close              44\n",
       "green_day                0\n",
       "eod_close_pts           44\n",
       "eod_close_pct           44\n",
       "label                    0\n",
       "lod                      0\n",
       "label_lod                0\n",
       "hod                      0\n",
       "day_open                 0\n",
       "day_open_pts             0\n",
       "day_open_pct             0\n",
       "prev_close_pts          44\n",
       "prev_close_pct          44\n",
       "lowest_low            4198\n",
       "lowest_low_mag        4198\n",
       "highest_high          4198\n",
       "highest_high_mag      4198\n",
       "prev_close_pct_n1     4241\n",
       "prev_close_pct_n2     8438\n",
       "prev_close_pct_n3    12635\n",
       "day_open_pct_n1       4198\n",
       "day_open_pct_n2       8396\n",
       "day_open_pct_n3      12594\n",
       "dtype: int64"
      ]
     },
     "execution_count": 106,
     "metadata": {},
     "output_type": "execute_result"
    }
   ],
   "source": [
    "spx_data.isnull().sum()"
   ]
  },
  {
   "cell_type": "code",
   "execution_count": 107,
   "metadata": {},
   "outputs": [
    {
     "data": {
      "text/html": [
       "<div>\n",
       "<style scoped>\n",
       "    .dataframe tbody tr th:only-of-type {\n",
       "        vertical-align: middle;\n",
       "    }\n",
       "\n",
       "    .dataframe tbody tr th {\n",
       "        vertical-align: top;\n",
       "    }\n",
       "\n",
       "    .dataframe thead th {\n",
       "        text-align: right;\n",
       "    }\n",
       "</style>\n",
       "<table border=\"1\" class=\"dataframe\">\n",
       "  <thead>\n",
       "    <tr style=\"text-align: right;\">\n",
       "      <th></th>\n",
       "      <th>prev_close_pct_n1</th>\n",
       "      <th>prev_close_pct_n2</th>\n",
       "      <th>prev_close_pct_n3</th>\n",
       "    </tr>\n",
       "    <tr>\n",
       "      <th>Datetime</th>\n",
       "      <th></th>\n",
       "      <th></th>\n",
       "      <th></th>\n",
       "    </tr>\n",
       "  </thead>\n",
       "  <tbody>\n",
       "    <tr>\n",
       "      <th>2020-01-06 09:45:00</th>\n",
       "      <td>-0.008818</td>\n",
       "      <td>-0.008457</td>\n",
       "      <td>-0.007747</td>\n",
       "    </tr>\n",
       "    <tr>\n",
       "      <th>2020-01-06 09:50:00</th>\n",
       "      <td>-0.008108</td>\n",
       "      <td>-0.008818</td>\n",
       "      <td>-0.008457</td>\n",
       "    </tr>\n",
       "    <tr>\n",
       "      <th>2020-01-06 09:55:00</th>\n",
       "      <td>-0.008325</td>\n",
       "      <td>-0.008108</td>\n",
       "      <td>-0.008818</td>\n",
       "    </tr>\n",
       "    <tr>\n",
       "      <th>2020-01-06 10:00:00</th>\n",
       "      <td>-0.008698</td>\n",
       "      <td>-0.008325</td>\n",
       "      <td>-0.008108</td>\n",
       "    </tr>\n",
       "    <tr>\n",
       "      <th>2020-01-06 10:05:00</th>\n",
       "      <td>-0.009131</td>\n",
       "      <td>-0.008698</td>\n",
       "      <td>-0.008325</td>\n",
       "    </tr>\n",
       "    <tr>\n",
       "      <th>...</th>\n",
       "      <td>...</td>\n",
       "      <td>...</td>\n",
       "      <td>...</td>\n",
       "    </tr>\n",
       "    <tr>\n",
       "      <th>2023-12-29 15:35:00</th>\n",
       "      <td>-0.010529</td>\n",
       "      <td>-0.010145</td>\n",
       "      <td>-0.011015</td>\n",
       "    </tr>\n",
       "    <tr>\n",
       "      <th>2023-12-29 15:40:00</th>\n",
       "      <td>-0.010888</td>\n",
       "      <td>-0.010529</td>\n",
       "      <td>-0.010145</td>\n",
       "    </tr>\n",
       "    <tr>\n",
       "      <th>2023-12-29 15:45:00</th>\n",
       "      <td>-0.011146</td>\n",
       "      <td>-0.010888</td>\n",
       "      <td>-0.010529</td>\n",
       "    </tr>\n",
       "    <tr>\n",
       "      <th>2023-12-29 15:50:00</th>\n",
       "      <td>-0.011816</td>\n",
       "      <td>-0.011146</td>\n",
       "      <td>-0.010888</td>\n",
       "    </tr>\n",
       "    <tr>\n",
       "      <th>2023-12-29 15:55:00</th>\n",
       "      <td>-0.014474</td>\n",
       "      <td>-0.011816</td>\n",
       "      <td>-0.011146</td>\n",
       "    </tr>\n",
       "  </tbody>\n",
       "</table>\n",
       "<p>75103 rows × 3 columns</p>\n",
       "</div>"
      ],
      "text/plain": [
       "                     prev_close_pct_n1  prev_close_pct_n2  prev_close_pct_n3\n",
       "Datetime                                                                    \n",
       "2020-01-06 09:45:00          -0.008818          -0.008457          -0.007747\n",
       "2020-01-06 09:50:00          -0.008108          -0.008818          -0.008457\n",
       "2020-01-06 09:55:00          -0.008325          -0.008108          -0.008818\n",
       "2020-01-06 10:00:00          -0.008698          -0.008325          -0.008108\n",
       "2020-01-06 10:05:00          -0.009131          -0.008698          -0.008325\n",
       "...                                ...                ...                ...\n",
       "2023-12-29 15:35:00          -0.010529          -0.010145          -0.011015\n",
       "2023-12-29 15:40:00          -0.010888          -0.010529          -0.010145\n",
       "2023-12-29 15:45:00          -0.011146          -0.010888          -0.010529\n",
       "2023-12-29 15:50:00          -0.011816          -0.011146          -0.010888\n",
       "2023-12-29 15:55:00          -0.014474          -0.011816          -0.011146\n",
       "\n",
       "[75103 rows x 3 columns]"
      ]
     },
     "execution_count": 107,
     "metadata": {},
     "output_type": "execute_result"
    }
   ],
   "source": [
    "spx_data.loc['2020-01-04':, ['prev_close_pct_n1','prev_close_pct_n2','prev_close_pct_n3']].dropna()"
   ]
  },
  {
   "cell_type": "code",
   "execution_count": 108,
   "metadata": {},
   "outputs": [],
   "source": [
    "spx_data['gap_open'] = spx_data['day_open'] - spx_data['prev_close']\n",
    "spx_data['gap_open_pct'] = spx_data['gap_open'] / spx_data['prev_close']"
   ]
  },
  {
   "cell_type": "markdown",
   "metadata": {},
   "source": [
    "# Dissecting Tops\n",
    "Purpose\n",
    "- Determine what a top looks like.\n",
    "\n",
    "Questions\n",
    "- When do they happen?\n",
    "- Before they happen, what does action look like?\n",
    "- When they happen, what does the action look like after?"
   ]
  },
  {
   "cell_type": "code",
   "execution_count": 109,
   "metadata": {},
   "outputs": [
    {
     "name": "stderr",
     "output_type": "stream",
     "text": [
      "326231it [00:09, 34736.30it/s]\n"
     ]
    }
   ],
   "source": [
    "hod_in = []\n",
    "for num, row in tqdm(spx_data.iterrows()):\n",
    "    if row['hod'] == row['high']:\n",
    "        hod_in.append(1)\n",
    "    else:\n",
    "        hod_in.append(np.nan)\n",
    "spx_data['hod_in'] = hod_in"
   ]
  },
  {
   "cell_type": "code",
   "execution_count": 110,
   "metadata": {},
   "outputs": [
    {
     "name": "stderr",
     "output_type": "stream",
     "text": [
      "326231it [00:09, 34962.34it/s]\n"
     ]
    }
   ],
   "source": [
    "lod_in = []\n",
    "for num, row in tqdm(spx_data.iterrows()):\n",
    "    if row['lod'] == row['low']:\n",
    "        lod_in.append(1)\n",
    "    else:\n",
    "        lod_in.append(np.nan)\n",
    "spx_data['lod_in'] = lod_in"
   ]
  },
  {
   "cell_type": "code",
   "execution_count": 111,
   "metadata": {},
   "outputs": [
    {
     "name": "stderr",
     "output_type": "stream",
     "text": [
      "100%|██████████| 4198/4198 [00:14<00:00, 289.29it/s]\n"
     ]
    }
   ],
   "source": [
    "# Per day, ffill for the 1s, and then fillna 0\n",
    "for day in tqdm(sorted(set(spx_data.index.date))):\n",
    "    day_str = datetime.datetime.strftime(day, '%Y-%m-%d')\n",
    "    spx_data.loc[day_str, 'lod_in'] = spx_data.loc[day_str, 'lod_in'].ffill()\n",
    "    spx_data.loc[day_str, 'lod_in'] = spx_data.loc[day_str, 'lod_in'].fillna(0)\n",
    "    spx_data.loc[day_str, 'hod_in'] = spx_data.loc[day_str, 'hod_in'].ffill()\n",
    "    spx_data.loc[day_str, 'hod_in'] = spx_data.loc[day_str, 'hod_in'].fillna(0)"
   ]
  },
  {
   "cell_type": "code",
   "execution_count": 112,
   "metadata": {},
   "outputs": [],
   "source": [
    "def get_top_probability(time, prev_close_pct):\n",
    "    '''\n",
    "    Function that returns the historical probability that the top is in, given a time of day and magnitude.\n",
    "    '''\n",
    "    # Filter the data for the given time and magnitude\n",
    "    relevant_data = spx_data[(spx_data['time'] == time) & (spx_data['prev_close_pct'] >= prev_close_pct)]\n",
    "    \n",
    "    # Calculate the probability\n",
    "    top_probability = relevant_data['hod_in'].mean()\n",
    "    # bot_probability = relevant_data['lod_in'].mean()\n",
    "    \n",
    "    return top_probability\n",
    "\n",
    "def get_low_probability(time, prev_close_pct):\n",
    "    '''\n",
    "    Function that returns the historical probability that the low is in, given a time of day and magnitude.\n",
    "    '''\n",
    "    # Filter the data for the given time and magnitude\n",
    "    relevant_data = spx_data[(spx_data['time'] == time) & (spx_data['prev_close_pct'] <= prev_close_pct)]\n",
    "    \n",
    "    # Calculate the probability\n",
    "    probability = relevant_data['lod_in'].mean()\n",
    "    \n",
    "    return probability"
   ]
  },
  {
   "cell_type": "code",
   "execution_count": 113,
   "metadata": {},
   "outputs": [
    {
     "data": {
      "text/plain": [
       "0.6553582752060875"
      ]
     },
     "execution_count": 113,
     "metadata": {},
     "output_type": "execute_result"
    }
   ],
   "source": [
    "time = datetime.time(15,0)\n",
    "prev_close_pct = -0.007\n",
    "# spx_data.loc[(spx_data['time'] == time) & (spx_data['prev_close_pct'] >= prev_close_pct)]\n",
    "get_top_probability(time, prev_close_pct)"
   ]
  },
  {
   "cell_type": "code",
   "execution_count": 114,
   "metadata": {},
   "outputs": [
    {
     "data": {
      "text/plain": [
       "0.5372393247269116"
      ]
     },
     "execution_count": 114,
     "metadata": {},
     "output_type": "execute_result"
    }
   ],
   "source": [
    "get_low_probability(time, prev_close_pct)"
   ]
  },
  {
   "cell_type": "code",
   "execution_count": 115,
   "metadata": {},
   "outputs": [
    {
     "data": {
      "text/html": [
       "<div>\n",
       "<style scoped>\n",
       "    .dataframe tbody tr th:only-of-type {\n",
       "        vertical-align: middle;\n",
       "    }\n",
       "\n",
       "    .dataframe tbody tr th {\n",
       "        vertical-align: top;\n",
       "    }\n",
       "\n",
       "    .dataframe thead th {\n",
       "        text-align: right;\n",
       "    }\n",
       "</style>\n",
       "<table border=\"1\" class=\"dataframe\">\n",
       "  <thead>\n",
       "    <tr style=\"text-align: right;\">\n",
       "      <th></th>\n",
       "      <th>time</th>\n",
       "      <th>hod_in</th>\n",
       "      <th>lod_in</th>\n",
       "      <th>gap_open_pct</th>\n",
       "      <th>open</th>\n",
       "    </tr>\n",
       "    <tr>\n",
       "      <th>Datetime</th>\n",
       "      <th></th>\n",
       "      <th></th>\n",
       "      <th></th>\n",
       "      <th></th>\n",
       "      <th></th>\n",
       "    </tr>\n",
       "  </thead>\n",
       "  <tbody>\n",
       "    <tr>\n",
       "      <th>2007-04-27 12:20:00</th>\n",
       "      <td>12:20:00</td>\n",
       "      <td>0.0</td>\n",
       "      <td>0.0</td>\n",
       "      <td>NaN</td>\n",
       "      <td>829.54</td>\n",
       "    </tr>\n",
       "    <tr>\n",
       "      <th>2007-04-27 12:25:00</th>\n",
       "      <td>12:25:00</td>\n",
       "      <td>0.0</td>\n",
       "      <td>0.0</td>\n",
       "      <td>NaN</td>\n",
       "      <td>829.42</td>\n",
       "    </tr>\n",
       "    <tr>\n",
       "      <th>2007-04-27 12:30:00</th>\n",
       "      <td>12:30:00</td>\n",
       "      <td>0.0</td>\n",
       "      <td>0.0</td>\n",
       "      <td>NaN</td>\n",
       "      <td>829.65</td>\n",
       "    </tr>\n",
       "    <tr>\n",
       "      <th>2007-04-27 12:35:00</th>\n",
       "      <td>12:35:00</td>\n",
       "      <td>0.0</td>\n",
       "      <td>0.0</td>\n",
       "      <td>NaN</td>\n",
       "      <td>829.65</td>\n",
       "    </tr>\n",
       "    <tr>\n",
       "      <th>2007-04-27 12:40:00</th>\n",
       "      <td>12:40:00</td>\n",
       "      <td>0.0</td>\n",
       "      <td>0.0</td>\n",
       "      <td>NaN</td>\n",
       "      <td>829.39</td>\n",
       "    </tr>\n",
       "    <tr>\n",
       "      <th>...</th>\n",
       "      <td>...</td>\n",
       "      <td>...</td>\n",
       "      <td>...</td>\n",
       "      <td>...</td>\n",
       "      <td>...</td>\n",
       "    </tr>\n",
       "    <tr>\n",
       "      <th>2023-12-29 15:35:00</th>\n",
       "      <td>15:35:00</td>\n",
       "      <td>1.0</td>\n",
       "      <td>0.0</td>\n",
       "      <td>-0.001919</td>\n",
       "      <td>2036.42</td>\n",
       "    </tr>\n",
       "    <tr>\n",
       "      <th>2023-12-29 15:40:00</th>\n",
       "      <td>15:40:00</td>\n",
       "      <td>1.0</td>\n",
       "      <td>0.0</td>\n",
       "      <td>-0.001919</td>\n",
       "      <td>2035.79</td>\n",
       "    </tr>\n",
       "    <tr>\n",
       "      <th>2023-12-29 15:45:00</th>\n",
       "      <td>15:45:00</td>\n",
       "      <td>1.0</td>\n",
       "      <td>0.0</td>\n",
       "      <td>-0.001919</td>\n",
       "      <td>2035.13</td>\n",
       "    </tr>\n",
       "    <tr>\n",
       "      <th>2023-12-29 15:50:00</th>\n",
       "      <td>15:50:00</td>\n",
       "      <td>1.0</td>\n",
       "      <td>0.0</td>\n",
       "      <td>-0.001919</td>\n",
       "      <td>2033.83</td>\n",
       "    </tr>\n",
       "    <tr>\n",
       "      <th>2023-12-29 15:55:00</th>\n",
       "      <td>15:55:00</td>\n",
       "      <td>1.0</td>\n",
       "      <td>1.0</td>\n",
       "      <td>-0.001919</td>\n",
       "      <td>2028.20</td>\n",
       "    </tr>\n",
       "  </tbody>\n",
       "</table>\n",
       "<p>326231 rows × 5 columns</p>\n",
       "</div>"
      ],
      "text/plain": [
       "                         time  hod_in  lod_in  gap_open_pct     open\n",
       "Datetime                                                            \n",
       "2007-04-27 12:20:00  12:20:00     0.0     0.0           NaN   829.54\n",
       "2007-04-27 12:25:00  12:25:00     0.0     0.0           NaN   829.42\n",
       "2007-04-27 12:30:00  12:30:00     0.0     0.0           NaN   829.65\n",
       "2007-04-27 12:35:00  12:35:00     0.0     0.0           NaN   829.65\n",
       "2007-04-27 12:40:00  12:40:00     0.0     0.0           NaN   829.39\n",
       "...                       ...     ...     ...           ...      ...\n",
       "2023-12-29 15:35:00  15:35:00     1.0     0.0     -0.001919  2036.42\n",
       "2023-12-29 15:40:00  15:40:00     1.0     0.0     -0.001919  2035.79\n",
       "2023-12-29 15:45:00  15:45:00     1.0     0.0     -0.001919  2035.13\n",
       "2023-12-29 15:50:00  15:50:00     1.0     0.0     -0.001919  2033.83\n",
       "2023-12-29 15:55:00  15:55:00     1.0     1.0     -0.001919  2028.20\n",
       "\n",
       "[326231 rows x 5 columns]"
      ]
     },
     "execution_count": 115,
     "metadata": {},
     "output_type": "execute_result"
    }
   ],
   "source": [
    "spx_data[['time','hod_in','lod_in','gap_open_pct','open']]"
   ]
  },
  {
   "cell_type": "code",
   "execution_count": 116,
   "metadata": {},
   "outputs": [],
   "source": [
    "def get_low_probability(time, prev_close_pct):\n",
    "    '''\n",
    "    Function that returns the historical probability that the low is in, given a time of day and magnitude.\n",
    "    '''\n",
    "    # Filter the data for the given time and magnitude\n",
    "    relevant_data = spx_data[(spx_data['time'] == time) & (spx_data['prev_close_pct'] <= prev_close_pct)]\n",
    "    \n",
    "    # Calculate the probability\n",
    "    probability = relevant_data['lod_in'].mean()\n",
    "    \n",
    "    return probability"
   ]
  },
  {
   "cell_type": "code",
   "execution_count": 117,
   "metadata": {},
   "outputs": [
    {
     "data": {
      "text/plain": [
       "Index(['open', 'high', 'low', 'close', 'time', 'eod_close', 'prev_close',\n",
       "       'green_day', 'eod_close_pts', 'eod_close_pct', 'label', 'lod',\n",
       "       'label_lod', 'hod', 'day_open', 'day_open_pts', 'day_open_pct',\n",
       "       'prev_close_pts', 'prev_close_pct', 'lowest_low', 'lowest_low_mag',\n",
       "       'highest_high', 'highest_high_mag', 'prev_close_pct_n1',\n",
       "       'prev_close_pct_n2', 'prev_close_pct_n3', 'day_open_pct_n1',\n",
       "       'day_open_pct_n2', 'day_open_pct_n3', 'gap_open', 'gap_open_pct',\n",
       "       'hod_in', 'lod_in'],\n",
       "      dtype='object')"
      ]
     },
     "execution_count": 117,
     "metadata": {},
     "output_type": "execute_result"
    }
   ],
   "source": [
    "spx_data.columns"
   ]
  },
  {
   "cell_type": "code",
   "execution_count": 118,
   "metadata": {},
   "outputs": [],
   "source": [
    "from sklearn.pipeline import Pipeline, make_pipeline\n",
    "from sklearn.compose import ColumnTransformer\n",
    "from sklearn.linear_model import LogisticRegression\n",
    "from sklearn.calibration import CalibratedClassifierCV\n",
    "import lightgbm as lgb\n",
    "from sklearn.preprocessing import FunctionTransformer, StandardScaler, RobustScaler\n",
    "import datetime\n",
    "\n",
    "# Function to convert time string to seconds past midnight\n",
    "def convert_time_to_seconds(time_series):\n",
    "    return time_series.apply(lambda x: x.hour * 3600 + x.minute * 60 + x.second)\n",
    "\n",
    "def apply_convert_time_to_seconds(x):\n",
    "    return x.apply(convert_time_to_seconds)\n",
    "\n",
    "time_to_seconds = FunctionTransformer(apply_convert_time_to_seconds, validate=False)\n",
    "\n",
    "# Create a column transformer\n",
    "preprocessor = ColumnTransformer(\n",
    "    transformers=[\n",
    "        ('time', make_pipeline(time_to_seconds, RobustScaler()), ['time']),\n",
    "        ('prev_close_pct', RobustScaler(), ['prev_close_pct']),\n",
    "        ('prev_close_pct_n1', RobustScaler(), ['prev_close_pct_n1']),\n",
    "        ('prev_close_pct_n2', RobustScaler(), ['prev_close_pct_n2']),\n",
    "        ('prev_close_pct_n3', RobustScaler(), ['prev_close_pct_n3']),\n",
    "        ('day_open_pct', RobustScaler(), ['day_open_pct']),\n",
    "        ('day_open_pct_n1', RobustScaler(), ['day_open_pct_n1']),\n",
    "        ('day_open_pct_n2', RobustScaler(), ['day_open_pct_n2']),\n",
    "        ('day_open_pct_n3', RobustScaler(), ['day_open_pct_n3']),\n",
    "        ('gap_open_pct', RobustScaler(), ['gap_open_pct']),\n",
    "        ('highest_high_mag', RobustScaler(), ['highest_high_mag']),\n",
    "        ('lowest_low_mag', RobustScaler(), ['lowest_low_mag'])\n",
    "    ])\n",
    "\n",
    "# Create the pipeline\n",
    "pipeline = Pipeline(steps=[\n",
    "    ('preprocessor', preprocessor),\n",
    "    # ('classifier', LogisticRegression())\n",
    "    ('classifier', lgb.LGBMClassifier())\n",
    "    # ('classifier', xgb.XGBClassifier())\n",
    "])\n",
    "\n",
    "df_use = spx_data.dropna(subset=[\n",
    "    'prev_close_pct',\n",
    "    'gap_open_pct',\n",
    "    'day_open_pct_n3',\n",
    "    'prev_close_pct_n3'\n",
    "    ])\n",
    "\n",
    "# Train the model\n",
    "X = df_use[[\n",
    "    'time',\n",
    "    'prev_close_pct',\n",
    "    'prev_close_pct_n1',\n",
    "    'prev_close_pct_n2',\n",
    "    'prev_close_pct_n3',\n",
    "    'day_open_pct',\n",
    "    'day_open_pct_n1',\n",
    "    'day_open_pct_n2',\n",
    "    'day_open_pct_n3',\n",
    "    'gap_open_pct',\n",
    "    'highest_high_mag',\n",
    "    'lowest_low_mag'\n",
    "]]\n",
    "y_flags = df_use[['lod_in','hod_in','green_day']]\n",
    "# pipeline.fit(X, y)"
   ]
  },
  {
   "cell_type": "code",
   "execution_count": 119,
   "metadata": {},
   "outputs": [
    {
     "data": {
      "text/plain": [
       "time                 0\n",
       "prev_close_pct       0\n",
       "prev_close_pct_n1    0\n",
       "prev_close_pct_n2    0\n",
       "prev_close_pct_n3    0\n",
       "day_open_pct         0\n",
       "day_open_pct_n1      0\n",
       "day_open_pct_n2      0\n",
       "day_open_pct_n3      0\n",
       "gap_open_pct         0\n",
       "highest_high_mag     0\n",
       "lowest_low_mag       0\n",
       "dtype: int64"
      ]
     },
     "execution_count": 119,
     "metadata": {},
     "output_type": "execute_result"
    }
   ],
   "source": [
    "X.isnull().sum()"
   ]
  },
  {
   "cell_type": "code",
   "execution_count": 120,
   "metadata": {},
   "outputs": [
    {
     "data": {
      "text/plain": [
       "datetime.time(9, 45)"
      ]
     },
     "execution_count": 120,
     "metadata": {},
     "output_type": "execute_result"
    }
   ],
   "source": [
    "X['time'].min()"
   ]
  },
  {
   "cell_type": "code",
   "execution_count": 121,
   "metadata": {},
   "outputs": [],
   "source": [
    "from sklearn.base import clone\n",
    "\n",
    "pipeline_lod = clone(pipeline)\n",
    "pipeline_gd = clone(pipeline)"
   ]
  },
  {
   "cell_type": "code",
   "execution_count": 122,
   "metadata": {},
   "outputs": [],
   "source": [
    "# 80/20 split, where date at 80th pct is the cutoff date\n",
    "date_idx = int(np.floor(len(X.index.date) * .95))\n",
    "cutoff_date = X.index.date[date_idx]\n",
    "\n",
    "X_train = X.loc[:cutoff_date]\n",
    "y_train = y_flags.loc[:cutoff_date]\n",
    "X_test = X.loc[cutoff_date:]\n",
    "y_test = y_flags.loc[cutoff_date:]"
   ]
  },
  {
   "cell_type": "code",
   "execution_count": 123,
   "metadata": {},
   "outputs": [
    {
     "data": {
      "text/plain": [
       "297911"
      ]
     },
     "execution_count": 123,
     "metadata": {},
     "output_type": "execute_result"
    }
   ],
   "source": [
    "len(y_train)"
   ]
  },
  {
   "cell_type": "code",
   "execution_count": 124,
   "metadata": {},
   "outputs": [
    {
     "data": {
      "text/plain": [
       "15685"
      ]
     },
     "execution_count": 124,
     "metadata": {},
     "output_type": "execute_result"
    }
   ],
   "source": [
    "len(y_test)"
   ]
  },
  {
   "cell_type": "code",
   "execution_count": 125,
   "metadata": {},
   "outputs": [
    {
     "data": {
      "text/plain": [
       "lod_in       0.649093\n",
       "hod_in       0.586105\n",
       "green_day    0.530121\n",
       "dtype: float64"
      ]
     },
     "execution_count": 125,
     "metadata": {},
     "output_type": "execute_result"
    }
   ],
   "source": [
    "y_train.mean()"
   ]
  },
  {
   "cell_type": "code",
   "execution_count": 126,
   "metadata": {},
   "outputs": [
    {
     "data": {
      "text/plain": [
       "lod_in       0.639656\n",
       "hod_in       0.646733\n",
       "green_day    0.497992\n",
       "dtype: float64"
      ]
     },
     "execution_count": 126,
     "metadata": {},
     "output_type": "execute_result"
    }
   ],
   "source": [
    "y_test.mean()"
   ]
  },
  {
   "cell_type": "code",
   "execution_count": 127,
   "metadata": {},
   "outputs": [
    {
     "data": {
      "text/plain": [
       "time                  object\n",
       "prev_close_pct       float64\n",
       "prev_close_pct_n1    float64\n",
       "prev_close_pct_n2    float64\n",
       "prev_close_pct_n3    float64\n",
       "day_open_pct         float64\n",
       "day_open_pct_n1      float64\n",
       "day_open_pct_n2      float64\n",
       "day_open_pct_n3      float64\n",
       "gap_open_pct         float64\n",
       "highest_high_mag     float64\n",
       "lowest_low_mag       float64\n",
       "dtype: object"
      ]
     },
     "execution_count": 127,
     "metadata": {},
     "output_type": "execute_result"
    }
   ],
   "source": [
    "X.dtypes"
   ]
  },
  {
   "cell_type": "code",
   "execution_count": 128,
   "metadata": {},
   "outputs": [
    {
     "name": "stdout",
     "output_type": "stream",
     "text": [
      "[LightGBM] [Info] Number of positive: 174607, number of negative: 123304\n",
      "[LightGBM] [Info] Auto-choosing row-wise multi-threading, the overhead of testing was 0.001219 seconds.\n",
      "You can set `force_row_wise=true` to remove the overhead.\n",
      "And if memory is not enough, you can set `force_col_wise=true`.\n",
      "[LightGBM] [Info] Total Bins 2880\n",
      "[LightGBM] [Info] Number of data points in the train set: 297911, number of used features: 12\n",
      "[LightGBM] [Info] [binary:BoostFromScore]: pavg=0.586105 -> initscore=0.347885\n",
      "[LightGBM] [Info] Start training from score 0.347885\n",
      "[LightGBM] [Info] Number of positive: 193372, number of negative: 104539\n",
      "[LightGBM] [Info] Auto-choosing row-wise multi-threading, the overhead of testing was 0.001287 seconds.\n",
      "You can set `force_row_wise=true` to remove the overhead.\n",
      "And if memory is not enough, you can set `force_col_wise=true`.\n",
      "[LightGBM] [Info] Total Bins 2880\n",
      "[LightGBM] [Info] Number of data points in the train set: 297911, number of used features: 12\n",
      "[LightGBM] [Info] [binary:BoostFromScore]: pavg=0.649093 -> initscore=0.615056\n",
      "[LightGBM] [Info] Start training from score 0.615056\n",
      "[LightGBM] [Info] Number of positive: 157929, number of negative: 139982\n",
      "[LightGBM] [Info] Auto-choosing row-wise multi-threading, the overhead of testing was 0.001243 seconds.\n",
      "You can set `force_row_wise=true` to remove the overhead.\n",
      "And if memory is not enough, you can set `force_col_wise=true`.\n",
      "[LightGBM] [Info] Total Bins 2880\n",
      "[LightGBM] [Info] Number of data points in the train set: 297911, number of used features: 12\n",
      "[LightGBM] [Info] [binary:BoostFromScore]: pavg=0.530121 -> initscore=0.120632\n",
      "[LightGBM] [Info] Start training from score 0.120632\n"
     ]
    },
    {
     "data": {
      "text/plain": [
       "['models/gd_model_rut.joblib']"
      ]
     },
     "execution_count": 128,
     "metadata": {},
     "output_type": "execute_result"
    }
   ],
   "source": [
    "import joblib\n",
    "hod_model = pipeline.fit(X_train, y_train['hod_in'])\n",
    "lod_model = pipeline_lod.fit(X_train, y_train['lod_in'])\n",
    "gd_model = pipeline_gd.fit(X_train, y_train['green_day'])\n",
    "\n",
    "# Save models\n",
    "joblib.dump(hod_model, ticker_dict[tck][\"hod_model\"])\n",
    "joblib.dump(lod_model, ticker_dict[tck][\"lod_model\"])\n",
    "joblib.dump(gd_model, ticker_dict[tck][\"gd_model\"])"
   ]
  },
  {
   "cell_type": "code",
   "execution_count": 129,
   "metadata": {},
   "outputs": [
    {
     "data": {
      "image/png": "[encoded data removed]",
      "text/plain": [
       "<Figure size 2000x1000 with 1 Axes>"
      ]
     },
     "metadata": {},
     "output_type": "display_data"
    }
   ],
   "source": [
    "import matplotlib.pyplot as plt\n",
    "\n",
    "booster = hod_model.named_steps['classifier'].booster_\n",
    "importance_gain = booster.feature_importance(importance_type='gain')\n",
    "feature_imp = pd.DataFrame(sorted(zip(importance_gain, X.columns)), columns=['Value','Feature'])\n",
    "feature_imp = feature_imp.sort_values(by=\"Value\", ascending=True)\n",
    "\n",
    "plt.figure(figsize=(20, 10))\n",
    "plt.barh(feature_imp['Feature'], feature_imp['Value'])\n",
    "plt.title('LightGBM Features (avg over folds)')\n",
    "plt.xlabel('Value')\n",
    "plt.ylabel('Feature')\n",
    "plt.tight_layout()\n",
    "plt.show()\n"
   ]
  },
  {
   "cell_type": "code",
   "execution_count": 130,
   "metadata": {},
   "outputs": [
    {
     "name": "stdout",
     "output_type": "stream",
     "text": [
      "ROC AUC Score: 0.9060254141481596\n",
      "Precision Score: 0.8949544201823193\n",
      "Recall Score: 0.832314668769716\n"
     ]
    }
   ],
   "source": [
    "from sklearn.metrics import roc_auc_score, precision_score, recall_score\n",
    "\n",
    "# Metrics for HOD model\n",
    "y_pred_hod = hod_model.predict_proba(X_test)[:,-1]\n",
    "\n",
    "roc_auc_hod = roc_auc_score(y_test['hod_in'], y_pred_hod)\n",
    "precision_hod = precision_score(y_test['hod_in'], y_pred_hod > 0.5)\n",
    "recall_hod = recall_score(y_test['hod_in'], y_pred_hod > 0.5)\n",
    "\n",
    "print(f\"ROC AUC Score: {roc_auc_hod}\")\n",
    "print(f\"Precision Score: {precision_hod}\")\n",
    "print(f\"Recall Score: {recall_hod}\")"
   ]
  },
  {
   "cell_type": "code",
   "execution_count": 131,
   "metadata": {},
   "outputs": [
    {
     "name": "stdout",
     "output_type": "stream",
     "text": [
      "ROC AUC Score: 0.8985426736497089\n",
      "Precision Score: 0.8599920223374551\n",
      "Recall Score: 0.8595634406458686\n"
     ]
    }
   ],
   "source": [
    "from sklearn.metrics import roc_auc_score, precision_score, recall_score\n",
    "\n",
    "# Metrics for LOD model\n",
    "y_pred_lod = lod_model.predict_proba(X_test)[:,-1]\n",
    "\n",
    "roc_auc_lod = roc_auc_score(y_test['lod_in'], y_pred_lod)\n",
    "precision_lod = precision_score(y_test['lod_in'], y_pred_lod > 0.5)\n",
    "recall_lod = recall_score(y_test['lod_in'], y_pred_lod > 0.5)\n",
    "\n",
    "print(f\"ROC AUC Score: {roc_auc_lod}\")\n",
    "print(f\"Precision Score: {precision_lod}\")\n",
    "print(f\"Recall Score: {recall_lod}\")"
   ]
  },
  {
   "cell_type": "code",
   "execution_count": 132,
   "metadata": {},
   "outputs": [
    {
     "name": "stdout",
     "output_type": "stream",
     "text": [
      "ROC AUC Score: 0.9487200907572985\n",
      "Precision Score: 0.8524630240801858\n",
      "Recall Score: 0.8928434259377801\n"
     ]
    }
   ],
   "source": [
    "from sklearn.metrics import roc_auc_score, precision_score, recall_score\n",
    "\n",
    "# Metrics for LOD model\n",
    "y_pred_gd = gd_model.predict_proba(X_test)[:,-1]\n",
    "\n",
    "roc_auc_gd = roc_auc_score(y_test['green_day'], y_pred_gd)\n",
    "precision_gd = precision_score(y_test['green_day'], y_pred_gd > 0.5)\n",
    "recall_gd = recall_score(y_test['green_day'], y_pred_gd > 0.5)\n",
    "\n",
    "print(f\"ROC AUC Score: {roc_auc_gd}\")\n",
    "print(f\"Precision Score: {precision_gd}\")\n",
    "print(f\"Recall Score: {recall_gd}\")"
   ]
  },
  {
   "cell_type": "code",
   "execution_count": 133,
   "metadata": {},
   "outputs": [],
   "source": [
    "# feature_names = pipeline.feature_names_in_\n",
    "# coefficients = pipeline.named_steps['classifier'].feature_importances_\n",
    "# # coefficients = pipeline.named_steps['classifier'].coef_[0]\n",
    "# for feature, coef in zip(feature_names, coefficients):\n",
    "#     print(f\"{feature}: {coef}\")"
   ]
  },
  {
   "cell_type": "code",
   "execution_count": 134,
   "metadata": {},
   "outputs": [
    {
     "data": {
      "application/vnd.plotly.v1+json": {
       "config": {
        "plotlyServerURL": "https://plot.ly"
       },
       "data": [
        {
         "hovertemplate": "variable=roc_auc<br>index=%{x}<br>value=%{y}<extra></extra>",
         "legendgroup": "roc_auc",
         "line": {
          "color": "#636efa",
          "dash": "solid"
         },
         "marker": {
          "symbol": "circle"
         },
         "mode": "lines",
         "name": "roc_auc",
         "orientation": "v",
         "showlegend": true,
         "type": "scatter",
         "x": [
          "09:45:00",
          "09:50:00",
          "09:55:00",
          "10:00:00",
          "10:05:00",
          "10:10:00",
          "10:15:00",
          "10:20:00",
          "10:25:00",
          "10:30:00",
          "10:35:00",
          "10:40:00",
          "10:45:00",
          "10:50:00",
          "10:55:00",
          "11:00:00",
          "11:05:00",
          "11:10:00",
          "11:15:00",
          "11:20:00",
          "11:25:00",
          "11:30:00",
          "11:35:00",
          "11:40:00",
          "11:45:00",
          "11:50:00",
          "11:55:00",
          "12:00:00",
          "12:05:00",
          "12:10:00",
          "12:15:00",
          "12:20:00",
          "12:25:00",
          "12:30:00",
          "12:35:00",
          "12:40:00",
          "12:45:00",
          "12:50:00",
          "12:55:00",
          "13:00:00",
          "13:05:00",
          "13:10:00",
          "13:15:00",
          "13:20:00",
          "13:25:00",
          "13:30:00",
          "13:35:00",
          "13:40:00",
          "13:45:00",
          "13:50:00",
          "13:55:00",
          "14:00:00",
          "14:05:00",
          "14:10:00",
          "14:15:00",
          "14:20:00",
          "14:25:00",
          "14:30:00",
          "14:35:00",
          "14:40:00",
          "14:45:00",
          "14:50:00",
          "14:55:00",
          "15:00:00",
          "15:05:00",
          "15:10:00",
          "15:15:00",
          "15:20:00",
          "15:25:00",
          "15:30:00",
          "15:35:00",
          "15:40:00",
          "15:45:00",
          "15:50:00",
          "15:55:00"
         ],
         "xaxis": "x",
         "y": [
          0.8171641791044776,
          0.8303942409894676,
          0.8358503024622986,
          0.842020202020202,
          0.8515293752765811,
          0.8642535947712418,
          0.8711058318557156,
          0.8734460641399417,
          0.8751027063996988,
          0.8755451037166563,
          0.8769870951754637,
          0.8765146618500654,
          0.8761999240039084,
          0.8757299304161025,
          0.8752225735573883,
          0.8749975058114592,
          0.8751501953011722,
          0.87541483683459,
          0.8760857070029299,
          0.8769850563790429,
          0.8782366795642699,
          0.8790420818192474,
          0.8802002496215879,
          0.88143600180878,
          0.8829719885267949,
          0.8839742381295809,
          0.8847094486169792,
          0.8854991495713147,
          0.8859860443098878,
          0.8868311622367532,
          0.8878173850262048,
          0.888425550561734,
          0.8893922007635962,
          0.8905500185150266,
          0.8915421411348975,
          0.8917476699138149,
          0.8919020501411543,
          0.8919844592346613,
          0.8916876193165444,
          0.8914495064185178,
          0.8910860390068096,
          0.8905594682835821,
          0.8897170829194962,
          0.8892224026133926,
          0.8888947617201872,
          0.8888546637415867,
          0.888639820886295,
          0.8884242300240299,
          0.8881720104896755,
          0.8880606655034515,
          0.8881420041878108,
          0.8886949764020906,
          0.889481795298106,
          0.8900859201411455,
          0.8906888195750614,
          0.8909502514986976,
          0.8913144529416708,
          0.8918402970160898,
          0.8924003850083453,
          0.8928964088880431,
          0.8933864392754253,
          0.8939515885484447,
          0.8944103745435155,
          0.8949028047647604,
          0.8952944475837656,
          0.8959171058523685,
          0.8967694692412695,
          0.897702889411899,
          0.8986214725120004,
          0.8995387910783181,
          0.9004704750638775,
          0.9015948825533173,
          0.9025850013392384,
          0.904058152286527,
          0.9060254141481596
         ],
         "yaxis": "y"
        },
        {
         "hovertemplate": "variable=precision<br>index=%{x}<br>value=%{y}<extra></extra>",
         "legendgroup": "precision",
         "line": {
          "color": "#EF553B",
          "dash": "solid"
         },
         "marker": {
          "symbol": "circle"
         },
         "mode": "lines",
         "name": "precision",
         "orientation": "v",
         "showlegend": true,
         "type": "scatter",
         "x": [
          "09:45:00",
          "09:50:00",
          "09:55:00",
          "10:00:00",
          "10:05:00",
          "10:10:00",
          "10:15:00",
          "10:20:00",
          "10:25:00",
          "10:30:00",
          "10:35:00",
          "10:40:00",
          "10:45:00",
          "10:50:00",
          "10:55:00",
          "11:00:00",
          "11:05:00",
          "11:10:00",
          "11:15:00",
          "11:20:00",
          "11:25:00",
          "11:30:00",
          "11:35:00",
          "11:40:00",
          "11:45:00",
          "11:50:00",
          "11:55:00",
          "12:00:00",
          "12:05:00",
          "12:10:00",
          "12:15:00",
          "12:20:00",
          "12:25:00",
          "12:30:00",
          "12:35:00",
          "12:40:00",
          "12:45:00",
          "12:50:00",
          "12:55:00",
          "13:00:00",
          "13:05:00",
          "13:10:00",
          "13:15:00",
          "13:20:00",
          "13:25:00",
          "13:30:00",
          "13:35:00",
          "13:40:00",
          "13:45:00",
          "13:50:00",
          "13:55:00",
          "14:00:00",
          "14:05:00",
          "14:10:00",
          "14:15:00",
          "14:20:00",
          "14:25:00",
          "14:30:00",
          "14:35:00",
          "14:40:00",
          "14:45:00",
          "14:50:00",
          "14:55:00",
          "15:00:00",
          "15:05:00",
          "15:10:00",
          "15:15:00",
          "15:20:00",
          "15:25:00",
          "15:30:00",
          "15:35:00",
          "15:40:00",
          "15:45:00",
          "15:50:00",
          "15:55:00"
         ],
         "xaxis": "x",
         "y": [
          0.7209302325581395,
          0.7530864197530864,
          0.7923076923076923,
          0.8031914893617021,
          0.8055555555555556,
          0.8204334365325078,
          0.8337531486146096,
          0.844017094017094,
          0.8474264705882353,
          0.8497576736672051,
          0.8526466380543634,
          0.851010101010101,
          0.8497175141242937,
          0.8475609756097561,
          0.8453038674033149,
          0.8451776649746193,
          0.8447737909516381,
          0.8439306358381503,
          0.8422459893048129,
          0.8397515527950311,
          0.8398142774230992,
          0.8401305057096248,
          0.8404907975460123,
          0.8405587668593449,
          0.8428506167199634,
          0.8444540727902946,
          0.8445723684210527,
          0.8452520515826495,
          0.845437616387337,
          0.8462633451957295,
          0.8474114441416893,
          0.847911227154047,
          0.8487316003758221,
          0.849624060150376,
          0.8506079907353793,
          0.8518415178571429,
          0.8527590847913863,
          0.8531323108916038,
          0.8539467068878833,
          0.8541565386485173,
          0.8547209795149517,
          0.8552511415525114,
          0.8560656464848082,
          0.8559431524547804,
          0.8560368277882402,
          0.8564447159437997,
          0.856718192627824,
          0.857445987654321,
          0.8581626902122863,
          0.859209080922739,
          0.8605066000713522,
          0.8619370544253173,
          0.8635900916185952,
          0.8651871480622723,
          0.8666558913851624,
          0.8680138932743922,
          0.8691156042599166,
          0.8702082704497435,
          0.8712344949793266,
          0.8725065047701648,
          0.8741328047571854,
          0.8753984753984754,
          0.8768499660556687,
          0.8785258116019159,
          0.8798070655716335,
          0.8811805289382906,
          0.8824192336589031,
          0.8837323511356661,
          0.8851570964247021,
          0.8864654562603159,
          0.8875043267566632,
          0.8889265536723164,
          0.8905246845251273,
          0.8925861695209192,
          0.8949544201823193
         ],
         "yaxis": "y"
        },
        {
         "hovertemplate": "variable=recall<br>index=%{x}<br>value=%{y}<extra></extra>",
         "legendgroup": "recall",
         "line": {
          "color": "#00cc96",
          "dash": "solid"
         },
         "marker": {
          "symbol": "circle"
         },
         "mode": "lines",
         "name": "recall",
         "orientation": "v",
         "showlegend": true,
         "type": "scatter",
         "x": [
          "09:45:00",
          "09:50:00",
          "09:55:00",
          "10:00:00",
          "10:05:00",
          "10:10:00",
          "10:15:00",
          "10:20:00",
          "10:25:00",
          "10:30:00",
          "10:35:00",
          "10:40:00",
          "10:45:00",
          "10:50:00",
          "10:55:00",
          "11:00:00",
          "11:05:00",
          "11:10:00",
          "11:15:00",
          "11:20:00",
          "11:25:00",
          "11:30:00",
          "11:35:00",
          "11:40:00",
          "11:45:00",
          "11:50:00",
          "11:55:00",
          "12:00:00",
          "12:05:00",
          "12:10:00",
          "12:15:00",
          "12:20:00",
          "12:25:00",
          "12:30:00",
          "12:35:00",
          "12:40:00",
          "12:45:00",
          "12:50:00",
          "12:55:00",
          "13:00:00",
          "13:05:00",
          "13:10:00",
          "13:15:00",
          "13:20:00",
          "13:25:00",
          "13:30:00",
          "13:35:00",
          "13:40:00",
          "13:45:00",
          "13:50:00",
          "13:55:00",
          "14:00:00",
          "14:05:00",
          "14:10:00",
          "14:15:00",
          "14:20:00",
          "14:25:00",
          "14:30:00",
          "14:35:00",
          "14:40:00",
          "14:45:00",
          "14:50:00",
          "14:55:00",
          "15:00:00",
          "15:05:00",
          "15:10:00",
          "15:15:00",
          "15:20:00",
          "15:25:00",
          "15:30:00",
          "15:35:00",
          "15:40:00",
          "15:45:00",
          "15:50:00",
          "15:55:00"
         ],
         "xaxis": "x",
         "y": [
          0.40789473684210525,
          0.3860759493670886,
          0.4256198347107438,
          0.4575757575757576,
          0.48448687350835323,
          0.5196078431372549,
          0.548922056384743,
          0.5642857142857143,
          0.5776942355889725,
          0.5837957824639289,
          0.5930348258706468,
          0.6061151079136691,
          0.6163934426229508,
          0.6270676691729323,
          0.63705759888966,
          0.6428571428571429,
          0.6492805755395683,
          0.6554433221099888,
          0.6645569620253164,
          0.6723023371456986,
          0.6803008932769159,
          0.688195991091314,
          0.6954314720812182,
          0.702778896496174,
          0.7087975412985017,
          0.7152293577981651,
          0.7214611872146118,
          0.7282828282828283,
          0.733678086619263,
          0.7389683032939715,
          0.7444643925792939,
          0.7491349480968859,
          0.7540345019476906,
          0.7592045149153454,
          0.7633151467913744,
          0.7670854271356784,
          0.7704280155642024,
          0.7731448763250883,
          0.7753937457201552,
          0.7776056649701262,
          0.7791371538956857,
          0.7804166666666666,
          0.7807443365695793,
          0.781557215886748,
          0.7823675655000957,
          0.7829486224869695,
          0.7835780315388798,
          0.7847810734463276,
          0.7858248752795458,
          0.7870199563977863,
          0.7891379028300344,
          0.7914737346319655,
          0.793700296273195,
          0.7958561852528946,
          0.7983918999404407,
          0.8002911208151383,
          0.8017941050832977,
          0.8032878239063806,
          0.8044723206981184,
          0.8055518483918324,
          0.8065316786414108,
          0.8078792530058838,
          0.8088677354709419,
          0.8099852796859667,
          0.8108854980175417,
          0.8118893466745144,
          0.8130841121495327,
          0.8142533936651584,
          0.8156405990016639,
          0.8179049276623518,
          0.8206550730822576,
          0.823338566195709,
          0.8258057893656333,
          0.8288043478260869,
          0.832314668769716
         ],
         "yaxis": "y"
        }
       ],
       "layout": {
        "legend": {
         "title": {
          "text": "variable"
         },
         "tracegroupgap": 0
        },
        "template": {
         "data": {
          "bar": [
           {
            "error_x": {
             "color": "#2a3f5f"
            },
            "error_y": {
             "color": "#2a3f5f"
            },
            "marker": {
             "line": {
              "color": "#E5ECF6",
              "width": 0.5
             },
             "pattern": {
              "fillmode": "overlay",
              "size": 10,
              "solidity": 0.2
             }
            },
            "type": "bar"
           }
          ],
          "barpolar": [
           {
            "marker": {
             "line": {
              "color": "#E5ECF6",
              "width": 0.5
             },
             "pattern": {
              "fillmode": "overlay",
              "size": 10,
              "solidity": 0.2
             }
            },
            "type": "barpolar"
           }
          ],
          "carpet": [
           {
            "aaxis": {
             "endlinecolor": "#2a3f5f",
             "gridcolor": "white",
             "linecolor": "white",
             "minorgridcolor": "white",
             "startlinecolor": "#2a3f5f"
            },
            "baxis": {
             "endlinecolor": "#2a3f5f",
             "gridcolor": "white",
             "linecolor": "white",
             "minorgridcolor": "white",
             "startlinecolor": "#2a3f5f"
            },
            "type": "carpet"
           }
          ],
          "choropleth": [
           {
            "colorbar": {
             "outlinewidth": 0,
             "ticks": ""
            },
            "type": "choropleth"
           }
          ],
          "contour": [
           {
            "colorbar": {
             "outlinewidth": 0,
             "ticks": ""
            },
            "colorscale": [
             [
              0,
              "#0d0887"
             ],
             [
              0.1111111111111111,
              "#46039f"
             ],
             [
              0.2222222222222222,
              "#7201a8"
             ],
             [
              0.3333333333333333,
              "#9c179e"
             ],
             [
              0.4444444444444444,
              "#bd3786"
             ],
             [
              0.5555555555555556,
              "#d8576b"
             ],
             [
              0.6666666666666666,
              "#ed7953"
             ],
             [
              0.7777777777777778,
              "#fb9f3a"
             ],
             [
              0.8888888888888888,
              "#fdca26"
             ],
             [
              1,
              "#f0f921"
             ]
            ],
            "type": "contour"
           }
          ],
          "contourcarpet": [
           {
            "colorbar": {
             "outlinewidth": 0,
             "ticks": ""
            },
            "type": "contourcarpet"
           }
          ],
          "heatmap": [
           {
            "colorbar": {
             "outlinewidth": 0,
             "ticks": ""
            },
            "colorscale": [
             [
              0,
              "#0d0887"
             ],
             [
              0.1111111111111111,
              "#46039f"
             ],
             [
              0.2222222222222222,
              "#7201a8"
             ],
             [
              0.3333333333333333,
              "#9c179e"
             ],
             [
              0.4444444444444444,
              "#bd3786"
             ],
             [
              0.5555555555555556,
              "#d8576b"
             ],
             [
              0.6666666666666666,
              "#ed7953"
             ],
             [
              0.7777777777777778,
              "#fb9f3a"
             ],
             [
              0.8888888888888888,
              "#fdca26"
             ],
             [
              1,
              "#f0f921"
             ]
            ],
            "type": "heatmap"
           }
          ],
          "heatmapgl": [
           {
            "colorbar": {
             "outlinewidth": 0,
             "ticks": ""
            },
            "colorscale": [
             [
              0,
              "#0d0887"
             ],
             [
              0.1111111111111111,
              "#46039f"
             ],
             [
              0.2222222222222222,
              "#7201a8"
             ],
             [
              0.3333333333333333,
              "#9c179e"
             ],
             [
              0.4444444444444444,
              "#bd3786"
             ],
             [
              0.5555555555555556,
              "#d8576b"
             ],
             [
              0.6666666666666666,
              "#ed7953"
             ],
             [
              0.7777777777777778,
              "#fb9f3a"
             ],
             [
              0.8888888888888888,
              "#fdca26"
             ],
             [
              1,
              "#f0f921"
             ]
            ],
            "type": "heatmapgl"
           }
          ],
          "histogram": [
           {
            "marker": {
             "pattern": {
              "fillmode": "overlay",
              "size": 10,
              "solidity": 0.2
             }
            },
            "type": "histogram"
           }
          ],
          "histogram2d": [
           {
            "colorbar": {
             "outlinewidth": 0,
             "ticks": ""
            },
            "colorscale": [
             [
              0,
              "#0d0887"
             ],
             [
              0.1111111111111111,
              "#46039f"
             ],
             [
              0.2222222222222222,
              "#7201a8"
             ],
             [
              0.3333333333333333,
              "#9c179e"
             ],
             [
              0.4444444444444444,
              "#bd3786"
             ],
             [
              0.5555555555555556,
              "#d8576b"
             ],
             [
              0.6666666666666666,
              "#ed7953"
             ],
             [
              0.7777777777777778,
              "#fb9f3a"
             ],
             [
              0.8888888888888888,
              "#fdca26"
             ],
             [
              1,
              "#f0f921"
             ]
            ],
            "type": "histogram2d"
           }
          ],
          "histogram2dcontour": [
           {
            "colorbar": {
             "outlinewidth": 0,
             "ticks": ""
            },
            "colorscale": [
             [
              0,
              "#0d0887"
             ],
             [
              0.1111111111111111,
              "#46039f"
             ],
             [
              0.2222222222222222,
              "#7201a8"
             ],
             [
              0.3333333333333333,
              "#9c179e"
             ],
             [
              0.4444444444444444,
              "#bd3786"
             ],
             [
              0.5555555555555556,
              "#d8576b"
             ],
             [
              0.6666666666666666,
              "#ed7953"
             ],
             [
              0.7777777777777778,
              "#fb9f3a"
             ],
             [
              0.8888888888888888,
              "#fdca26"
             ],
             [
              1,
              "#f0f921"
             ]
            ],
            "type": "histogram2dcontour"
           }
          ],
          "mesh3d": [
           {
            "colorbar": {
             "outlinewidth": 0,
             "ticks": ""
            },
            "type": "mesh3d"
           }
          ],
          "parcoords": [
           {
            "line": {
             "colorbar": {
              "outlinewidth": 0,
              "ticks": ""
             }
            },
            "type": "parcoords"
           }
          ],
          "pie": [
           {
            "automargin": true,
            "type": "pie"
           }
          ],
          "scatter": [
           {
            "fillpattern": {
             "fillmode": "overlay",
             "size": 10,
             "solidity": 0.2
            },
            "type": "scatter"
           }
          ],
          "scatter3d": [
           {
            "line": {
             "colorbar": {
              "outlinewidth": 0,
              "ticks": ""
             }
            },
            "marker": {
             "colorbar": {
              "outlinewidth": 0,
              "ticks": ""
             }
            },
            "type": "scatter3d"
           }
          ],
          "scattercarpet": [
           {
            "marker": {
             "colorbar": {
              "outlinewidth": 0,
              "ticks": ""
             }
            },
            "type": "scattercarpet"
           }
          ],
          "scattergeo": [
           {
            "marker": {
             "colorbar": {
              "outlinewidth": 0,
              "ticks": ""
             }
            },
            "type": "scattergeo"
           }
          ],
          "scattergl": [
           {
            "marker": {
             "colorbar": {
              "outlinewidth": 0,
              "ticks": ""
             }
            },
            "type": "scattergl"
           }
          ],
          "scattermapbox": [
           {
            "marker": {
             "colorbar": {
              "outlinewidth": 0,
              "ticks": ""
             }
            },
            "type": "scattermapbox"
           }
          ],
          "scatterpolar": [
           {
            "marker": {
             "colorbar": {
              "outlinewidth": 0,
              "ticks": ""
             }
            },
            "type": "scatterpolar"
           }
          ],
          "scatterpolargl": [
           {
            "marker": {
             "colorbar": {
              "outlinewidth": 0,
              "ticks": ""
             }
            },
            "type": "scatterpolargl"
           }
          ],
          "scatterternary": [
           {
            "marker": {
             "colorbar": {
              "outlinewidth": 0,
              "ticks": ""
             }
            },
            "type": "scatterternary"
           }
          ],
          "surface": [
           {
            "colorbar": {
             "outlinewidth": 0,
             "ticks": ""
            },
            "colorscale": [
             [
              0,
              "#0d0887"
             ],
             [
              0.1111111111111111,
              "#46039f"
             ],
             [
              0.2222222222222222,
              "#7201a8"
             ],
             [
              0.3333333333333333,
              "#9c179e"
             ],
             [
              0.4444444444444444,
              "#bd3786"
             ],
             [
              0.5555555555555556,
              "#d8576b"
             ],
             [
              0.6666666666666666,
              "#ed7953"
             ],
             [
              0.7777777777777778,
              "#fb9f3a"
             ],
             [
              0.8888888888888888,
              "#fdca26"
             ],
             [
              1,
              "#f0f921"
             ]
            ],
            "type": "surface"
           }
          ],
          "table": [
           {
            "cells": {
             "fill": {
              "color": "#EBF0F8"
             },
             "line": {
              "color": "white"
             }
            },
            "header": {
             "fill": {
              "color": "#C8D4E3"
             },
             "line": {
              "color": "white"
             }
            },
            "type": "table"
           }
          ]
         },
         "layout": {
          "annotationdefaults": {
           "arrowcolor": "#2a3f5f",
           "arrowhead": 0,
           "arrowwidth": 1
          },
          "autotypenumbers": "strict",
          "coloraxis": {
           "colorbar": {
            "outlinewidth": 0,
            "ticks": ""
           }
          },
          "colorscale": {
           "diverging": [
            [
             0,
             "#8e0152"
            ],
            [
             0.1,
             "#c51b7d"
            ],
            [
             0.2,
             "#de77ae"
            ],
            [
             0.3,
             "#f1b6da"
            ],
            [
             0.4,
             "#fde0ef"
            ],
            [
             0.5,
             "#f7f7f7"
            ],
            [
             0.6,
             "#e6f5d0"
            ],
            [
             0.7,
             "#b8e186"
            ],
            [
             0.8,
             "#7fbc41"
            ],
            [
             0.9,
             "#4d9221"
            ],
            [
             1,
             "#276419"
            ]
           ],
           "sequential": [
            [
             0,
             "#0d0887"
            ],
            [
             0.1111111111111111,
             "#46039f"
            ],
            [
             0.2222222222222222,
             "#7201a8"
            ],
            [
             0.3333333333333333,
             "#9c179e"
            ],
            [
             0.4444444444444444,
             "#bd3786"
            ],
            [
             0.5555555555555556,
             "#d8576b"
            ],
            [
             0.6666666666666666,
             "#ed7953"
            ],
            [
             0.7777777777777778,
             "#fb9f3a"
            ],
            [
             0.8888888888888888,
             "#fdca26"
            ],
            [
             1,
             "#f0f921"
            ]
           ],
           "sequentialminus": [
            [
             0,
             "#0d0887"
            ],
            [
             0.1111111111111111,
             "#46039f"
            ],
            [
             0.2222222222222222,
             "#7201a8"
            ],
            [
             0.3333333333333333,
             "#9c179e"
            ],
            [
             0.4444444444444444,
             "#bd3786"
            ],
            [
             0.5555555555555556,
             "#d8576b"
            ],
            [
             0.6666666666666666,
             "#ed7953"
            ],
            [
             0.7777777777777778,
             "#fb9f3a"
            ],
            [
             0.8888888888888888,
             "#fdca26"
            ],
            [
             1,
             "#f0f921"
            ]
           ]
          },
          "colorway": [
           "#636efa",
           "#EF553B",
           "#00cc96",
           "#ab63fa",
           "#FFA15A",
           "#19d3f3",
           "#FF6692",
           "#B6E880",
           "#FF97FF",
           "#FECB52"
          ],
          "font": {
           "color": "#2a3f5f"
          },
          "geo": {
           "bgcolor": "white",
           "lakecolor": "white",
           "landcolor": "#E5ECF6",
           "showlakes": true,
           "showland": true,
           "subunitcolor": "white"
          },
          "hoverlabel": {
           "align": "left"
          },
          "hovermode": "closest",
          "mapbox": {
           "style": "light"
          },
          "paper_bgcolor": "white",
          "plot_bgcolor": "#E5ECF6",
          "polar": {
           "angularaxis": {
            "gridcolor": "white",
            "linecolor": "white",
            "ticks": ""
           },
           "bgcolor": "#E5ECF6",
           "radialaxis": {
            "gridcolor": "white",
            "linecolor": "white",
            "ticks": ""
           }
          },
          "scene": {
           "xaxis": {
            "backgroundcolor": "#E5ECF6",
            "gridcolor": "white",
            "gridwidth": 2,
            "linecolor": "white",
            "showbackground": true,
            "ticks": "",
            "zerolinecolor": "white"
           },
           "yaxis": {
            "backgroundcolor": "#E5ECF6",
            "gridcolor": "white",
            "gridwidth": 2,
            "linecolor": "white",
            "showbackground": true,
            "ticks": "",
            "zerolinecolor": "white"
           },
           "zaxis": {
            "backgroundcolor": "#E5ECF6",
            "gridcolor": "white",
            "gridwidth": 2,
            "linecolor": "white",
            "showbackground": true,
            "ticks": "",
            "zerolinecolor": "white"
           }
          },
          "shapedefaults": {
           "line": {
            "color": "#2a3f5f"
           }
          },
          "ternary": {
           "aaxis": {
            "gridcolor": "white",
            "linecolor": "white",
            "ticks": ""
           },
           "baxis": {
            "gridcolor": "white",
            "linecolor": "white",
            "ticks": ""
           },
           "bgcolor": "#E5ECF6",
           "caxis": {
            "gridcolor": "white",
            "linecolor": "white",
            "ticks": ""
           }
          },
          "title": {
           "x": 0.05
          },
          "xaxis": {
           "automargin": true,
           "gridcolor": "white",
           "linecolor": "white",
           "ticks": "",
           "title": {
            "standoff": 15
           },
           "zerolinecolor": "white",
           "zerolinewidth": 2
          },
          "yaxis": {
           "automargin": true,
           "gridcolor": "white",
           "linecolor": "white",
           "ticks": "",
           "title": {
            "standoff": 15
           },
           "zerolinecolor": "white",
           "zerolinewidth": 2
          }
         }
        },
        "title": {
         "text": "Validation Metrics Over Time (HOD Model)"
        },
        "xaxis": {
         "anchor": "y",
         "domain": [
          0,
          1
         ],
         "title": {
          "text": "index"
         }
        },
        "yaxis": {
         "anchor": "x",
         "domain": [
          0,
          1
         ],
         "title": {
          "text": "value"
         }
        }
       }
      }
     },
     "metadata": {},
     "output_type": "display_data"
    }
   ],
   "source": [
    "import datetime\n",
    "import plotly.express as px\n",
    "\n",
    "\n",
    "time_range = [datetime.time(hour, minute) for hour in range(9, 16) for minute in range(0, 60, 5)]\n",
    "time_range = [x for x in time_range if x >= datetime.time(9,45)]\n",
    "df_val = pd.DataFrame()\n",
    "for t in time_range:\n",
    "    X_val = X_test.loc[X_test['time'] <= t].copy()\n",
    "    y_val = y_test.loc[X_val.index, 'hod_in'].copy()\n",
    "\n",
    "    y_pred_val = pipeline.predict_proba(X_val)[:,-1]\n",
    "\n",
    "    df_val.loc[t, [\n",
    "        'roc_auc',\n",
    "        'precision',\n",
    "        'recall'\n",
    "    ]] =  roc_auc_score(y_val, y_pred_val), precision_score(y_val, y_pred_val > 0.5), recall_score(y_val, y_pred_val > 0.5)\n",
    "\n",
    "\n",
    "fig = px.line(df_val, title='Validation Metrics Over Time (HOD Model)')\n",
    "fig.show()"
   ]
  },
  {
   "cell_type": "code",
   "execution_count": 135,
   "metadata": {},
   "outputs": [
    {
     "data": {
      "application/vnd.plotly.v1+json": {
       "config": {
        "plotlyServerURL": "https://plot.ly"
       },
       "data": [
        {
         "hovertemplate": "variable=roc_auc<br>index=%{x}<br>value=%{y}<extra></extra>",
         "legendgroup": "roc_auc",
         "line": {
          "color": "#636efa",
          "dash": "solid"
         },
         "marker": {
          "symbol": "circle"
         },
         "mode": "lines",
         "name": "roc_auc",
         "orientation": "v",
         "showlegend": true,
         "type": "scatter",
         "x": [
          "09:45:00",
          "09:50:00",
          "09:55:00",
          "10:00:00",
          "10:05:00",
          "10:10:00",
          "10:15:00",
          "10:20:00",
          "10:25:00",
          "10:30:00",
          "10:35:00",
          "10:40:00",
          "10:45:00",
          "10:50:00",
          "10:55:00",
          "11:00:00",
          "11:05:00",
          "11:10:00",
          "11:15:00",
          "11:20:00",
          "11:25:00",
          "11:30:00",
          "11:35:00",
          "11:40:00",
          "11:45:00",
          "11:50:00",
          "11:55:00",
          "12:00:00",
          "12:05:00",
          "12:10:00",
          "12:15:00",
          "12:20:00",
          "12:25:00",
          "12:30:00",
          "12:35:00",
          "12:40:00",
          "12:45:00",
          "12:50:00",
          "12:55:00",
          "13:00:00",
          "13:05:00",
          "13:10:00",
          "13:15:00",
          "13:20:00",
          "13:25:00",
          "13:30:00",
          "13:35:00",
          "13:40:00",
          "13:45:00",
          "13:50:00",
          "13:55:00",
          "14:00:00",
          "14:05:00",
          "14:10:00",
          "14:15:00",
          "14:20:00",
          "14:25:00",
          "14:30:00",
          "14:35:00",
          "14:40:00",
          "14:45:00",
          "14:50:00",
          "14:55:00",
          "15:00:00",
          "15:05:00",
          "15:10:00",
          "15:15:00",
          "15:20:00",
          "15:25:00",
          "15:30:00",
          "15:35:00",
          "15:40:00",
          "15:45:00",
          "15:50:00",
          "15:55:00"
         ],
         "xaxis": "x",
         "y": [
          0.8070408163265306,
          0.8287450113119297,
          0.8242487809776726,
          0.8255166931637521,
          0.8302891364442468,
          0.8358882802461622,
          0.8430630627072351,
          0.8439276935851254,
          0.8439618385507988,
          0.8434024929359221,
          0.844545485779252,
          0.8455047042501548,
          0.8453341098411281,
          0.84514724721657,
          0.8445703565626872,
          0.8441782587320783,
          0.844600283552335,
          0.8433970237633426,
          0.8432291104792107,
          0.8429633570398047,
          0.8435967064496965,
          0.8442363201035017,
          0.8454806340723902,
          0.8459789947380084,
          0.8462212929527264,
          0.8464448681347876,
          0.8468552393857272,
          0.847787920473942,
          0.8489687618450625,
          0.8500116294556014,
          0.8511699001975283,
          0.8523085980004387,
          0.853587714490061,
          0.8546491960912954,
          0.8558600280944475,
          0.8572191986570535,
          0.8582473358732994,
          0.8592634984011447,
          0.8603010136814899,
          0.8615324161123388,
          0.8627741433759137,
          0.8638474067117222,
          0.8647936580185475,
          0.865798317107576,
          0.8669433897621245,
          0.8679158863183623,
          0.8689234617721555,
          0.869111603078457,
          0.8695712324366496,
          0.8697036292993069,
          0.8699688612388056,
          0.8705834961998644,
          0.8712500760773942,
          0.8720800135918012,
          0.8728778898550782,
          0.8736227584501148,
          0.8743955022406898,
          0.8749988800819586,
          0.8762003381553174,
          0.8775852450444168,
          0.8789041790466692,
          0.8804420925433794,
          0.8820601250889435,
          0.8835872315037131,
          0.8849425819662352,
          0.8860900394545496,
          0.8871282426525452,
          0.8882781909236029,
          0.889405257573291,
          0.8905481523175353,
          0.8917599413956145,
          0.8931066521914353,
          0.8944922446315544,
          0.8963947730002575,
          0.8985426736497089
         ],
         "yaxis": "y"
        },
        {
         "hovertemplate": "variable=precision<br>index=%{x}<br>value=%{y}<extra></extra>",
         "legendgroup": "precision",
         "line": {
          "color": "#EF553B",
          "dash": "solid"
         },
         "marker": {
          "symbol": "circle"
         },
         "mode": "lines",
         "name": "precision",
         "orientation": "v",
         "showlegend": true,
         "type": "scatter",
         "x": [
          "09:45:00",
          "09:50:00",
          "09:55:00",
          "10:00:00",
          "10:05:00",
          "10:10:00",
          "10:15:00",
          "10:20:00",
          "10:25:00",
          "10:30:00",
          "10:35:00",
          "10:40:00",
          "10:45:00",
          "10:50:00",
          "10:55:00",
          "11:00:00",
          "11:05:00",
          "11:10:00",
          "11:15:00",
          "11:20:00",
          "11:25:00",
          "11:30:00",
          "11:35:00",
          "11:40:00",
          "11:45:00",
          "11:50:00",
          "11:55:00",
          "12:00:00",
          "12:05:00",
          "12:10:00",
          "12:15:00",
          "12:20:00",
          "12:25:00",
          "12:30:00",
          "12:35:00",
          "12:40:00",
          "12:45:00",
          "12:50:00",
          "12:55:00",
          "13:00:00",
          "13:05:00",
          "13:10:00",
          "13:15:00",
          "13:20:00",
          "13:25:00",
          "13:30:00",
          "13:35:00",
          "13:40:00",
          "13:45:00",
          "13:50:00",
          "13:55:00",
          "14:00:00",
          "14:05:00",
          "14:10:00",
          "14:15:00",
          "14:20:00",
          "14:25:00",
          "14:30:00",
          "14:35:00",
          "14:40:00",
          "14:45:00",
          "14:50:00",
          "14:55:00",
          "15:00:00",
          "15:05:00",
          "15:10:00",
          "15:15:00",
          "15:20:00",
          "15:25:00",
          "15:30:00",
          "15:35:00",
          "15:40:00",
          "15:45:00",
          "15:50:00",
          "15:55:00"
         ],
         "xaxis": "x",
         "y": [
          0.6724137931034483,
          0.7024793388429752,
          0.7037037037037037,
          0.7049808429118773,
          0.7083333333333334,
          0.7088305489260143,
          0.7134387351778656,
          0.7191201353637902,
          0.7155297532656023,
          0.7142857142857143,
          0.7212189616252822,
          0.7269035532994924,
          0.7286108555657773,
          0.7306397306397306,
          0.7321981424148607,
          0.7346647646219686,
          0.7359364659166115,
          0.7375231053604436,
          0.7419168591224018,
          0.7445770065075922,
          0.7469450101832994,
          0.7503607503607503,
          0.7532999544833865,
          0.7564766839378239,
          0.7590311986863711,
          0.7615324472243941,
          0.7640491254186825,
          0.7671525062211162,
          0.769571136827774,
          0.7727717923604309,
          0.7754077791718946,
          0.7767399819222658,
          0.7781639154358528,
          0.7789855072463768,
          0.7807961269499731,
          0.7827442827442828,
          0.7848705704950992,
          0.7871925980034088,
          0.7893867924528302,
          0.7915808739418897,
          0.792988684268915,
          0.7945293990954124,
          0.796400920694706,
          0.7981707317073171,
          0.8000395178818416,
          0.8020372861810494,
          0.8042298334269137,
          0.8058694859642727,
          0.8075625776673175,
          0.8087904481744247,
          0.8100455081746165,
          0.8115036976170912,
          0.8133418858242463,
          0.8155628620635667,
          0.817473652054376,
          0.819469290399523,
          0.8209606986899564,
          0.8228603923798692,
          0.8246320466537073,
          0.826729986431479,
          0.8290643662906436,
          0.8315160955347871,
          0.8340955284552846,
          0.8363794604003482,
          0.8385682980277575,
          0.8405866221533326,
          0.8426401869158878,
          0.8446835298157263,
          0.8467407158083698,
          0.8485648300890795,
          0.8504098360655737,
          0.8523220141753941,
          0.8544737388416026,
          0.8570264765784114,
          0.8599920223374551
         ],
         "yaxis": "y"
        },
        {
         "hovertemplate": "variable=recall<br>index=%{x}<br>value=%{y}<extra></extra>",
         "legendgroup": "recall",
         "line": {
          "color": "#00cc96",
          "dash": "solid"
         },
         "marker": {
          "symbol": "circle"
         },
         "mode": "lines",
         "name": "recall",
         "orientation": "v",
         "showlegend": true,
         "type": "scatter",
         "x": [
          "09:45:00",
          "09:50:00",
          "09:55:00",
          "10:00:00",
          "10:05:00",
          "10:10:00",
          "10:15:00",
          "10:20:00",
          "10:25:00",
          "10:30:00",
          "10:35:00",
          "10:40:00",
          "10:45:00",
          "10:50:00",
          "10:55:00",
          "11:00:00",
          "11:05:00",
          "11:10:00",
          "11:15:00",
          "11:20:00",
          "11:25:00",
          "11:30:00",
          "11:35:00",
          "11:40:00",
          "11:45:00",
          "11:50:00",
          "11:55:00",
          "12:00:00",
          "12:05:00",
          "12:10:00",
          "12:15:00",
          "12:20:00",
          "12:25:00",
          "12:30:00",
          "12:35:00",
          "12:40:00",
          "12:45:00",
          "12:50:00",
          "12:55:00",
          "13:00:00",
          "13:05:00",
          "13:10:00",
          "13:15:00",
          "13:20:00",
          "13:25:00",
          "13:30:00",
          "13:35:00",
          "13:40:00",
          "13:45:00",
          "13:50:00",
          "13:55:00",
          "14:00:00",
          "14:05:00",
          "14:10:00",
          "14:15:00",
          "14:20:00",
          "14:25:00",
          "14:30:00",
          "14:35:00",
          "14:40:00",
          "14:45:00",
          "14:50:00",
          "14:55:00",
          "15:00:00",
          "15:05:00",
          "15:10:00",
          "15:15:00",
          "15:20:00",
          "15:25:00",
          "15:30:00",
          "15:35:00",
          "15:40:00",
          "15:45:00",
          "15:50:00",
          "15:55:00"
         ],
         "xaxis": "x",
         "y": [
          0.5571428571428572,
          0.6028368794326241,
          0.6129032258064516,
          0.6216216216216216,
          0.6279683377308707,
          0.6387096774193548,
          0.6551724137931034,
          0.6630265210608425,
          0.6725784447476125,
          0.6823671497584541,
          0.6915584415584416,
          0.700587084148728,
          0.705253784505788,
          0.7079934747145188,
          0.7107438016528925,
          0.7157748436414176,
          0.7188106011635423,
          0.7215189873417721,
          0.7251693002257337,
          0.7276099629040805,
          0.7327672327672328,
          0.7365439093484419,
          0.7408236347358997,
          0.7445813854653633,
          0.7476748887990295,
          0.7506743737957611,
          0.7553348050036792,
          0.7595916930658219,
          0.7628205128205128,
          0.7662674004532211,
          0.7688958009331259,
          0.7713943746259725,
          0.7745748054194292,
          0.7770364192382541,
          0.7791196994095545,
          0.7811203319502075,
          0.783099297893681,
          0.7845183207959233,
          0.7866039952996474,
          0.7881548974943052,
          0.7898342541436464,
          0.7914610598583995,
          0.793081892060846,
          0.7954223212477213,
          0.797832512315271,
          0.8001917545541707,
          0.8022778192681105,
          0.8033799745593313,
          0.8051327433628318,
          0.8058620689655173,
          0.8075953621240127,
          0.8091102736359168,
          0.8104825822946629,
          0.8121297162457125,
          0.8143639683505782,
          0.8166691427722478,
          0.8184588593818024,
          0.8205273603629146,
          0.8229181100180131,
          0.8254979000135483,
          0.8277461242877965,
          0.8304381643764583,
          0.8329316250158569,
          0.83534086675773,
          0.8375486381322957,
          0.8395855662736692,
          0.8414605692953803,
          0.8437178461186693,
          0.8458865725173728,
          0.8480052753049786,
          0.8499514929395279,
          0.8520516074450084,
          0.8540305010893247,
          0.8565903307888041,
          0.8595634406458686
         ],
         "yaxis": "y"
        }
       ],
       "layout": {
        "legend": {
         "title": {
          "text": "variable"
         },
         "tracegroupgap": 0
        },
        "template": {
         "data": {
          "bar": [
           {
            "error_x": {
             "color": "#2a3f5f"
            },
            "error_y": {
             "color": "#2a3f5f"
            },
            "marker": {
             "line": {
              "color": "#E5ECF6",
              "width": 0.5
             },
             "pattern": {
              "fillmode": "overlay",
              "size": 10,
              "solidity": 0.2
             }
            },
            "type": "bar"
           }
          ],
          "barpolar": [
           {
            "marker": {
             "line": {
              "color": "#E5ECF6",
              "width": 0.5
             },
             "pattern": {
              "fillmode": "overlay",
              "size": 10,
              "solidity": 0.2
             }
            },
            "type": "barpolar"
           }
          ],
          "carpet": [
           {
            "aaxis": {
             "endlinecolor": "#2a3f5f",
             "gridcolor": "white",
             "linecolor": "white",
             "minorgridcolor": "white",
             "startlinecolor": "#2a3f5f"
            },
            "baxis": {
             "endlinecolor": "#2a3f5f",
             "gridcolor": "white",
             "linecolor": "white",
             "minorgridcolor": "white",
             "startlinecolor": "#2a3f5f"
            },
            "type": "carpet"
           }
          ],
          "choropleth": [
           {
            "colorbar": {
             "outlinewidth": 0,
             "ticks": ""
            },
            "type": "choropleth"
           }
          ],
          "contour": [
           {
            "colorbar": {
             "outlinewidth": 0,
             "ticks": ""
            },
            "colorscale": [
             [
              0,
              "#0d0887"
             ],
             [
              0.1111111111111111,
              "#46039f"
             ],
             [
              0.2222222222222222,
              "#7201a8"
             ],
             [
              0.3333333333333333,
              "#9c179e"
             ],
             [
              0.4444444444444444,
              "#bd3786"
             ],
             [
              0.5555555555555556,
              "#d8576b"
             ],
             [
              0.6666666666666666,
              "#ed7953"
             ],
             [
              0.7777777777777778,
              "#fb9f3a"
             ],
             [
              0.8888888888888888,
              "#fdca26"
             ],
             [
              1,
              "#f0f921"
             ]
            ],
            "type": "contour"
           }
          ],
          "contourcarpet": [
           {
            "colorbar": {
             "outlinewidth": 0,
             "ticks": ""
            },
            "type": "contourcarpet"
           }
          ],
          "heatmap": [
           {
            "colorbar": {
             "outlinewidth": 0,
             "ticks": ""
            },
            "colorscale": [
             [
              0,
              "#0d0887"
             ],
             [
              0.1111111111111111,
              "#46039f"
             ],
             [
              0.2222222222222222,
              "#7201a8"
             ],
             [
              0.3333333333333333,
              "#9c179e"
             ],
             [
              0.4444444444444444,
              "#bd3786"
             ],
             [
              0.5555555555555556,
              "#d8576b"
             ],
             [
              0.6666666666666666,
              "#ed7953"
             ],
             [
              0.7777777777777778,
              "#fb9f3a"
             ],
             [
              0.8888888888888888,
              "#fdca26"
             ],
             [
              1,
              "#f0f921"
             ]
            ],
            "type": "heatmap"
           }
          ],
          "heatmapgl": [
           {
            "colorbar": {
             "outlinewidth": 0,
             "ticks": ""
            },
            "colorscale": [
             [
              0,
              "#0d0887"
             ],
             [
              0.1111111111111111,
              "#46039f"
             ],
             [
              0.2222222222222222,
              "#7201a8"
             ],
             [
              0.3333333333333333,
              "#9c179e"
             ],
             [
              0.4444444444444444,
              "#bd3786"
             ],
             [
              0.5555555555555556,
              "#d8576b"
             ],
             [
              0.6666666666666666,
              "#ed7953"
             ],
             [
              0.7777777777777778,
              "#fb9f3a"
             ],
             [
              0.8888888888888888,
              "#fdca26"
             ],
             [
              1,
              "#f0f921"
             ]
            ],
            "type": "heatmapgl"
           }
          ],
          "histogram": [
           {
            "marker": {
             "pattern": {
              "fillmode": "overlay",
              "size": 10,
              "solidity": 0.2
             }
            },
            "type": "histogram"
           }
          ],
          "histogram2d": [
           {
            "colorbar": {
             "outlinewidth": 0,
             "ticks": ""
            },
            "colorscale": [
             [
              0,
              "#0d0887"
             ],
             [
              0.1111111111111111,
              "#46039f"
             ],
             [
              0.2222222222222222,
              "#7201a8"
             ],
             [
              0.3333333333333333,
              "#9c179e"
             ],
             [
              0.4444444444444444,
              "#bd3786"
             ],
             [
              0.5555555555555556,
              "#d8576b"
             ],
             [
              0.6666666666666666,
              "#ed7953"
             ],
             [
              0.7777777777777778,
              "#fb9f3a"
             ],
             [
              0.8888888888888888,
              "#fdca26"
             ],
             [
              1,
              "#f0f921"
             ]
            ],
            "type": "histogram2d"
           }
          ],
          "histogram2dcontour": [
           {
            "colorbar": {
             "outlinewidth": 0,
             "ticks": ""
            },
            "colorscale": [
             [
              0,
              "#0d0887"
             ],
             [
              0.1111111111111111,
              "#46039f"
             ],
             [
              0.2222222222222222,
              "#7201a8"
             ],
             [
              0.3333333333333333,
              "#9c179e"
             ],
             [
              0.4444444444444444,
              "#bd3786"
             ],
             [
              0.5555555555555556,
              "#d8576b"
             ],
             [
              0.6666666666666666,
              "#ed7953"
             ],
             [
              0.7777777777777778,
              "#fb9f3a"
             ],
             [
              0.8888888888888888,
              "#fdca26"
             ],
             [
              1,
              "#f0f921"
             ]
            ],
            "type": "histogram2dcontour"
           }
          ],
          "mesh3d": [
           {
            "colorbar": {
             "outlinewidth": 0,
             "ticks": ""
            },
            "type": "mesh3d"
           }
          ],
          "parcoords": [
           {
            "line": {
             "colorbar": {
              "outlinewidth": 0,
              "ticks": ""
             }
            },
            "type": "parcoords"
           }
          ],
          "pie": [
           {
            "automargin": true,
            "type": "pie"
           }
          ],
          "scatter": [
           {
            "fillpattern": {
             "fillmode": "overlay",
             "size": 10,
             "solidity": 0.2
            },
            "type": "scatter"
           }
          ],
          "scatter3d": [
           {
            "line": {
             "colorbar": {
              "outlinewidth": 0,
              "ticks": ""
             }
            },
            "marker": {
             "colorbar": {
              "outlinewidth": 0,
              "ticks": ""
             }
            },
            "type": "scatter3d"
           }
          ],
          "scattercarpet": [
           {
            "marker": {
             "colorbar": {
              "outlinewidth": 0,
              "ticks": ""
             }
            },
            "type": "scattercarpet"
           }
          ],
          "scattergeo": [
           {
            "marker": {
             "colorbar": {
              "outlinewidth": 0,
              "ticks": ""
             }
            },
            "type": "scattergeo"
           }
          ],
          "scattergl": [
           {
            "marker": {
             "colorbar": {
              "outlinewidth": 0,
              "ticks": ""
             }
            },
            "type": "scattergl"
           }
          ],
          "scattermapbox": [
           {
            "marker": {
             "colorbar": {
              "outlinewidth": 0,
              "ticks": ""
             }
            },
            "type": "scattermapbox"
           }
          ],
          "scatterpolar": [
           {
            "marker": {
             "colorbar": {
              "outlinewidth": 0,
              "ticks": ""
             }
            },
            "type": "scatterpolar"
           }
          ],
          "scatterpolargl": [
           {
            "marker": {
             "colorbar": {
              "outlinewidth": 0,
              "ticks": ""
             }
            },
            "type": "scatterpolargl"
           }
          ],
          "scatterternary": [
           {
            "marker": {
             "colorbar": {
              "outlinewidth": 0,
              "ticks": ""
             }
            },
            "type": "scatterternary"
           }
          ],
          "surface": [
           {
            "colorbar": {
             "outlinewidth": 0,
             "ticks": ""
            },
            "colorscale": [
             [
              0,
              "#0d0887"
             ],
             [
              0.1111111111111111,
              "#46039f"
             ],
             [
              0.2222222222222222,
              "#7201a8"
             ],
             [
              0.3333333333333333,
              "#9c179e"
             ],
             [
              0.4444444444444444,
              "#bd3786"
             ],
             [
              0.5555555555555556,
              "#d8576b"
             ],
             [
              0.6666666666666666,
              "#ed7953"
             ],
             [
              0.7777777777777778,
              "#fb9f3a"
             ],
             [
              0.8888888888888888,
              "#fdca26"
             ],
             [
              1,
              "#f0f921"
             ]
            ],
            "type": "surface"
           }
          ],
          "table": [
           {
            "cells": {
             "fill": {
              "color": "#EBF0F8"
             },
             "line": {
              "color": "white"
             }
            },
            "header": {
             "fill": {
              "color": "#C8D4E3"
             },
             "line": {
              "color": "white"
             }
            },
            "type": "table"
           }
          ]
         },
         "layout": {
          "annotationdefaults": {
           "arrowcolor": "#2a3f5f",
           "arrowhead": 0,
           "arrowwidth": 1
          },
          "autotypenumbers": "strict",
          "coloraxis": {
           "colorbar": {
            "outlinewidth": 0,
            "ticks": ""
           }
          },
          "colorscale": {
           "diverging": [
            [
             0,
             "#8e0152"
            ],
            [
             0.1,
             "#c51b7d"
            ],
            [
             0.2,
             "#de77ae"
            ],
            [
             0.3,
             "#f1b6da"
            ],
            [
             0.4,
             "#fde0ef"
            ],
            [
             0.5,
             "#f7f7f7"
            ],
            [
             0.6,
             "#e6f5d0"
            ],
            [
             0.7,
             "#b8e186"
            ],
            [
             0.8,
             "#7fbc41"
            ],
            [
             0.9,
             "#4d9221"
            ],
            [
             1,
             "#276419"
            ]
           ],
           "sequential": [
            [
             0,
             "#0d0887"
            ],
            [
             0.1111111111111111,
             "#46039f"
            ],
            [
             0.2222222222222222,
             "#7201a8"
            ],
            [
             0.3333333333333333,
             "#9c179e"
            ],
            [
             0.4444444444444444,
             "#bd3786"
            ],
            [
             0.5555555555555556,
             "#d8576b"
            ],
            [
             0.6666666666666666,
             "#ed7953"
            ],
            [
             0.7777777777777778,
             "#fb9f3a"
            ],
            [
             0.8888888888888888,
             "#fdca26"
            ],
            [
             1,
             "#f0f921"
            ]
           ],
           "sequentialminus": [
            [
             0,
             "#0d0887"
            ],
            [
             0.1111111111111111,
             "#46039f"
            ],
            [
             0.2222222222222222,
             "#7201a8"
            ],
            [
             0.3333333333333333,
             "#9c179e"
            ],
            [
             0.4444444444444444,
             "#bd3786"
            ],
            [
             0.5555555555555556,
             "#d8576b"
            ],
            [
             0.6666666666666666,
             "#ed7953"
            ],
            [
             0.7777777777777778,
             "#fb9f3a"
            ],
            [
             0.8888888888888888,
             "#fdca26"
            ],
            [
             1,
             "#f0f921"
            ]
           ]
          },
          "colorway": [
           "#636efa",
           "#EF553B",
           "#00cc96",
           "#ab63fa",
           "#FFA15A",
           "#19d3f3",
           "#FF6692",
           "#B6E880",
           "#FF97FF",
           "#FECB52"
          ],
          "font": {
           "color": "#2a3f5f"
          },
          "geo": {
           "bgcolor": "white",
           "lakecolor": "white",
           "landcolor": "#E5ECF6",
           "showlakes": true,
           "showland": true,
           "subunitcolor": "white"
          },
          "hoverlabel": {
           "align": "left"
          },
          "hovermode": "closest",
          "mapbox": {
           "style": "light"
          },
          "paper_bgcolor": "white",
          "plot_bgcolor": "#E5ECF6",
          "polar": {
           "angularaxis": {
            "gridcolor": "white",
            "linecolor": "white",
            "ticks": ""
           },
           "bgcolor": "#E5ECF6",
           "radialaxis": {
            "gridcolor": "white",
            "linecolor": "white",
            "ticks": ""
           }
          },
          "scene": {
           "xaxis": {
            "backgroundcolor": "#E5ECF6",
            "gridcolor": "white",
            "gridwidth": 2,
            "linecolor": "white",
            "showbackground": true,
            "ticks": "",
            "zerolinecolor": "white"
           },
           "yaxis": {
            "backgroundcolor": "#E5ECF6",
            "gridcolor": "white",
            "gridwidth": 2,
            "linecolor": "white",
            "showbackground": true,
            "ticks": "",
            "zerolinecolor": "white"
           },
           "zaxis": {
            "backgroundcolor": "#E5ECF6",
            "gridcolor": "white",
            "gridwidth": 2,
            "linecolor": "white",
            "showbackground": true,
            "ticks": "",
            "zerolinecolor": "white"
           }
          },
          "shapedefaults": {
           "line": {
            "color": "#2a3f5f"
           }
          },
          "ternary": {
           "aaxis": {
            "gridcolor": "white",
            "linecolor": "white",
            "ticks": ""
           },
           "baxis": {
            "gridcolor": "white",
            "linecolor": "white",
            "ticks": ""
           },
           "bgcolor": "#E5ECF6",
           "caxis": {
            "gridcolor": "white",
            "linecolor": "white",
            "ticks": ""
           }
          },
          "title": {
           "x": 0.05
          },
          "xaxis": {
           "automargin": true,
           "gridcolor": "white",
           "linecolor": "white",
           "ticks": "",
           "title": {
            "standoff": 15
           },
           "zerolinecolor": "white",
           "zerolinewidth": 2
          },
          "yaxis": {
           "automargin": true,
           "gridcolor": "white",
           "linecolor": "white",
           "ticks": "",
           "title": {
            "standoff": 15
           },
           "zerolinecolor": "white",
           "zerolinewidth": 2
          }
         }
        },
        "title": {
         "text": "Validation Metrics Over Time (LOD Model)"
        },
        "xaxis": {
         "anchor": "y",
         "domain": [
          0,
          1
         ],
         "title": {
          "text": "index"
         }
        },
        "yaxis": {
         "anchor": "x",
         "domain": [
          0,
          1
         ],
         "title": {
          "text": "value"
         }
        }
       }
      }
     },
     "metadata": {},
     "output_type": "display_data"
    }
   ],
   "source": [
    "import datetime\n",
    "import plotly.express as px\n",
    "\n",
    "time_range = [datetime.time(hour, minute) for hour in range(9, 16) for minute in range(0, 60, 5)]\n",
    "time_range = [x for x in time_range if x >= datetime.time(9,45)]\n",
    "df_val = pd.DataFrame()\n",
    "for t in time_range:\n",
    "    X_val = X_test.loc[X_test['time'] <= t].copy()\n",
    "    y_val = y_test.loc[X_val.index, 'lod_in'].copy()\n",
    "\n",
    "    y_pred_val = pipeline_lod.predict_proba(X_val)[:,-1]\n",
    "\n",
    "    df_val.loc[t, [\n",
    "        'roc_auc',\n",
    "        'precision',\n",
    "        'recall'\n",
    "    ]] =  roc_auc_score(y_val, y_pred_val), precision_score(y_val, y_pred_val > 0.5), recall_score(y_val, y_pred_val > 0.5)\n",
    "\n",
    "\n",
    "fig = px.line(df_val, title='Validation Metrics Over Time (LOD Model)')\n",
    "fig.show()"
   ]
  },
  {
   "cell_type": "code",
   "execution_count": 136,
   "metadata": {},
   "outputs": [
    {
     "data": {
      "application/vnd.plotly.v1+json": {
       "config": {
        "plotlyServerURL": "https://plot.ly"
       },
       "data": [
        {
         "hovertemplate": "variable=roc_auc<br>index=%{x}<br>value=%{y}<extra></extra>",
         "legendgroup": "roc_auc",
         "line": {
          "color": "#636efa",
          "dash": "solid"
         },
         "marker": {
          "symbol": "circle"
         },
         "mode": "lines",
         "name": "roc_auc",
         "orientation": "v",
         "showlegend": true,
         "type": "scatter",
         "x": [
          "09:45:00",
          "09:50:00",
          "09:55:00",
          "10:00:00",
          "10:05:00",
          "10:10:00",
          "10:15:00",
          "10:20:00",
          "10:25:00",
          "10:30:00",
          "10:35:00",
          "10:40:00",
          "10:45:00",
          "10:50:00",
          "10:55:00",
          "11:00:00",
          "11:05:00",
          "11:10:00",
          "11:15:00",
          "11:20:00",
          "11:25:00",
          "11:30:00",
          "11:35:00",
          "11:40:00",
          "11:45:00",
          "11:50:00",
          "11:55:00",
          "12:00:00",
          "12:05:00",
          "12:10:00",
          "12:15:00",
          "12:20:00",
          "12:25:00",
          "12:30:00",
          "12:35:00",
          "12:40:00",
          "12:45:00",
          "12:50:00",
          "12:55:00",
          "13:00:00",
          "13:05:00",
          "13:10:00",
          "13:15:00",
          "13:20:00",
          "13:25:00",
          "13:30:00",
          "13:35:00",
          "13:40:00",
          "13:45:00",
          "13:50:00",
          "13:55:00",
          "14:00:00",
          "14:05:00",
          "14:10:00",
          "14:15:00",
          "14:20:00",
          "14:25:00",
          "14:30:00",
          "14:35:00",
          "14:40:00",
          "14:45:00",
          "14:50:00",
          "14:55:00",
          "15:00:00",
          "15:05:00",
          "15:10:00",
          "15:15:00",
          "15:20:00",
          "15:25:00",
          "15:30:00",
          "15:35:00",
          "15:40:00",
          "15:45:00",
          "15:50:00",
          "15:55:00"
         ],
         "xaxis": "x",
         "y": [
          0.7950113378684808,
          0.8018820861678004,
          0.8091106072058454,
          0.8144416099773243,
          0.8204444444444444,
          0.8286545729402871,
          0.834401406821232,
          0.8395599489795917,
          0.844930992973321,
          0.8496993197278913,
          0.8536766552350968,
          0.8571601788863694,
          0.8603418803418803,
          0.8631255495395438,
          0.8656395061728396,
          0.8683657525510204,
          0.8711947524107683,
          0.8737270793090899,
          0.876004422082776,
          0.8782445578231292,
          0.8805980018613644,
          0.8828142276194224,
          0.8849301081491198,
          0.8871534863945578,
          0.8893355102040816,
          0.8915510069905674,
          0.8935965460715607,
          0.8956072701189319,
          0.8973877335317797,
          0.8991793398841018,
          0.900846151849571,
          0.9023385682397959,
          0.9037069520186403,
          0.9051433906896091,
          0.9064917025313526,
          0.9077467386131406,
          0.9089367249212809,
          0.9100950684983136,
          0.9111722655312399,
          0.9122837018140589,
          0.9133589092984011,
          0.9143665190944104,
          0.915256392804102,
          0.9160504538048929,
          0.9167858123503114,
          0.9174868411565361,
          0.9183068545444338,
          0.919175758938433,
          0.920082520219688,
          0.9209519989814109,
          0.9218136926994059,
          0.9229454500540498,
          0.9240615984386507,
          0.925164828679347,
          0.9262709214508902,
          0.9273391761897789,
          0.928472232820059,
          0.9295802580750767,
          0.9306987950999254,
          0.9317884523288266,
          0.9328582416645899,
          0.9339791903613158,
          0.9350958273784954,
          0.9362894806764205,
          0.937401596039413,
          0.9384713834829556,
          0.9395252867962797,
          0.940585247486393,
          0.9416188226129106,
          0.9427068413055363,
          0.9438932621044339,
          0.9450672571011535,
          0.9462707035394525,
          0.9475204435442365,
          0.9487200907572985
         ],
         "yaxis": "y"
        },
        {
         "hovertemplate": "variable=precision<br>index=%{x}<br>value=%{y}<extra></extra>",
         "legendgroup": "precision",
         "line": {
          "color": "#EF553B",
          "dash": "solid"
         },
         "marker": {
          "symbol": "circle"
         },
         "mode": "lines",
         "name": "precision",
         "orientation": "v",
         "showlegend": true,
         "type": "scatter",
         "x": [
          "09:45:00",
          "09:50:00",
          "09:55:00",
          "10:00:00",
          "10:05:00",
          "10:10:00",
          "10:15:00",
          "10:20:00",
          "10:25:00",
          "10:30:00",
          "10:35:00",
          "10:40:00",
          "10:45:00",
          "10:50:00",
          "10:55:00",
          "11:00:00",
          "11:05:00",
          "11:10:00",
          "11:15:00",
          "11:20:00",
          "11:25:00",
          "11:30:00",
          "11:35:00",
          "11:40:00",
          "11:45:00",
          "11:50:00",
          "11:55:00",
          "12:00:00",
          "12:05:00",
          "12:10:00",
          "12:15:00",
          "12:20:00",
          "12:25:00",
          "12:30:00",
          "12:35:00",
          "12:40:00",
          "12:45:00",
          "12:50:00",
          "12:55:00",
          "13:00:00",
          "13:05:00",
          "13:10:00",
          "13:15:00",
          "13:20:00",
          "13:25:00",
          "13:30:00",
          "13:35:00",
          "13:40:00",
          "13:45:00",
          "13:50:00",
          "13:55:00",
          "14:00:00",
          "14:05:00",
          "14:10:00",
          "14:15:00",
          "14:20:00",
          "14:25:00",
          "14:30:00",
          "14:35:00",
          "14:40:00",
          "14:45:00",
          "14:50:00",
          "14:55:00",
          "15:00:00",
          "15:05:00",
          "15:10:00",
          "15:15:00",
          "15:20:00",
          "15:25:00",
          "15:30:00",
          "15:35:00",
          "15:40:00",
          "15:45:00",
          "15:50:00",
          "15:55:00"
         ],
         "xaxis": "x",
         "y": [
          0.6974789915966386,
          0.7058823529411765,
          0.7154929577464789,
          0.7249466950959488,
          0.7291311754684838,
          0.7344632768361582,
          0.7364620938628159,
          0.7384453781512605,
          0.743879472693032,
          0.7470288624787776,
          0.7494181536074477,
          0.7523264137437365,
          0.7563249001331558,
          0.7598008711885501,
          0.7638807714786674,
          0.7660979636763896,
          0.768990634755463,
          0.772076961026147,
          0.7741330834114339,
          0.7763919821826281,
          0.7784380305602716,
          0.7800729040097205,
          0.7819519752130132,
          0.7836734693877551,
          0.7847741017431519,
          0.785982905982906,
          0.7872410391318645,
          0.7879075656853435,
          0.7887022900763359,
          0.7898465171192444,
          0.7908571428571428,
          0.7920819490586932,
          0.7934461455815203,
          0.7947313510693792,
          0.7962493664470349,
          0.7974870657797487,
          0.798418024928092,
          0.7994864612511672,
          0.8002275312855518,
          0.8020879609062639,
          0.8037768612980247,
          0.8053904923599321,
          0.8066390041493776,
          0.8080438756855576,
          0.8090692124105012,
          0.8102843786521231,
          0.8117602138220695,
          0.8129913889928866,
          0.8142437591776799,
          0.8155619596541787,
          0.8167844522968198,
          0.8180242634315424,
          0.8192176870748299,
          0.8206412825651302,
          0.8219560223170331,
          0.8232258064516129,
          0.8246114811290834,
          0.8260801746997348,
          0.8275015346838551,
          0.8291540785498489,
          0.8306319702602231,
          0.832283579903325,
          0.834054834054834,
          0.8356553881148706,
          0.837232105336882,
          0.8386250690226394,
          0.8400925421883506,
          0.841406145176439,
          0.8427947598253275,
          0.8440558527991648,
          0.8456289429638213,
          0.8472486974202567,
          0.8487774294670847,
          0.8507056202030205,
          0.8524630240801858
         ],
         "yaxis": "y"
        },
        {
         "hovertemplate": "variable=recall<br>index=%{x}<br>value=%{y}<extra></extra>",
         "legendgroup": "recall",
         "line": {
          "color": "#00cc96",
          "dash": "solid"
         },
         "marker": {
          "symbol": "circle"
         },
         "mode": "lines",
         "name": "recall",
         "orientation": "v",
         "showlegend": true,
         "type": "scatter",
         "x": [
          "09:45:00",
          "09:50:00",
          "09:55:00",
          "10:00:00",
          "10:05:00",
          "10:10:00",
          "10:15:00",
          "10:20:00",
          "10:25:00",
          "10:30:00",
          "10:35:00",
          "10:40:00",
          "10:45:00",
          "10:50:00",
          "10:55:00",
          "11:00:00",
          "11:05:00",
          "11:10:00",
          "11:15:00",
          "11:20:00",
          "11:25:00",
          "11:30:00",
          "11:35:00",
          "11:40:00",
          "11:45:00",
          "11:50:00",
          "11:55:00",
          "12:00:00",
          "12:05:00",
          "12:10:00",
          "12:15:00",
          "12:20:00",
          "12:25:00",
          "12:30:00",
          "12:35:00",
          "12:40:00",
          "12:45:00",
          "12:50:00",
          "12:55:00",
          "13:00:00",
          "13:05:00",
          "13:10:00",
          "13:15:00",
          "13:20:00",
          "13:25:00",
          "13:30:00",
          "13:35:00",
          "13:40:00",
          "13:45:00",
          "13:50:00",
          "13:55:00",
          "14:00:00",
          "14:05:00",
          "14:10:00",
          "14:15:00",
          "14:20:00",
          "14:25:00",
          "14:30:00",
          "14:35:00",
          "14:40:00",
          "14:45:00",
          "14:50:00",
          "14:55:00",
          "15:00:00",
          "15:05:00",
          "15:10:00",
          "15:15:00",
          "15:20:00",
          "15:25:00",
          "15:30:00",
          "15:35:00",
          "15:40:00",
          "15:45:00",
          "15:50:00",
          "15:55:00"
         ],
         "xaxis": "x",
         "y": [
          0.7904761904761904,
          0.8,
          0.8063492063492064,
          0.8095238095238095,
          0.8152380952380952,
          0.8253968253968254,
          0.8326530612244898,
          0.8369047619047619,
          0.8359788359788359,
          0.8380952380952381,
          0.8363636363636363,
          0.8341269841269842,
          0.8322344322344323,
          0.8306122448979592,
          0.8298412698412698,
          0.8285714285714286,
          0.8280112044817927,
          0.828042328042328,
          0.8280701754385965,
          0.83,
          0.8317460317460318,
          0.8337662337662337,
          0.8360248447204969,
          0.8380952380952381,
          0.8403809523809523,
          0.8421245421245421,
          0.8444444444444444,
          0.8465986394557823,
          0.8482758620689655,
          0.8495238095238096,
          0.850384024577573,
          0.8514880952380952,
          0.8525252525252526,
          0.853501400560224,
          0.8549659863945578,
          0.8563492063492063,
          0.8574002574002574,
          0.8583959899749374,
          0.8588522588522588,
          0.8597619047619047,
          0.8601626016260162,
          0.8605442176870748,
          0.8611295681063122,
          0.8614118666089217,
          0.8616818470662995,
          0.8623548922056384,
          0.8629997970367363,
          0.8634194831013916,
          0.8642119618157024,
          0.8647822765469825,
          0.8658924892301929,
          0.8673281881661153,
          0.8687105500450857,
          0.8700424929178471,
          0.8709789601808381,
          0.8718824735223779,
          0.8729226120530469,
          0.8739273927392739,
          0.8748985883498296,
          0.8759974465368656,
          0.8770607630711258,
          0.8779357231149567,
          0.8790874524714829,
          0.8802036537885595,
          0.8814334169001622,
          0.8824811156304474,
          0.8834979247173322,
          0.8844851904090268,
          0.885444181843459,
          0.8865131578947368,
          0.8876875253412624,
          0.8886963476406292,
          0.8900723208415516,
          0.8915412558380903,
          0.8928434259377801
         ],
         "yaxis": "y"
        }
       ],
       "layout": {
        "legend": {
         "title": {
          "text": "variable"
         },
         "tracegroupgap": 0
        },
        "template": {
         "data": {
          "bar": [
           {
            "error_x": {
             "color": "#2a3f5f"
            },
            "error_y": {
             "color": "#2a3f5f"
            },
            "marker": {
             "line": {
              "color": "#E5ECF6",
              "width": 0.5
             },
             "pattern": {
              "fillmode": "overlay",
              "size": 10,
              "solidity": 0.2
             }
            },
            "type": "bar"
           }
          ],
          "barpolar": [
           {
            "marker": {
             "line": {
              "color": "#E5ECF6",
              "width": 0.5
             },
             "pattern": {
              "fillmode": "overlay",
              "size": 10,
              "solidity": 0.2
             }
            },
            "type": "barpolar"
           }
          ],
          "carpet": [
           {
            "aaxis": {
             "endlinecolor": "#2a3f5f",
             "gridcolor": "white",
             "linecolor": "white",
             "minorgridcolor": "white",
             "startlinecolor": "#2a3f5f"
            },
            "baxis": {
             "endlinecolor": "#2a3f5f",
             "gridcolor": "white",
             "linecolor": "white",
             "minorgridcolor": "white",
             "startlinecolor": "#2a3f5f"
            },
            "type": "carpet"
           }
          ],
          "choropleth": [
           {
            "colorbar": {
             "outlinewidth": 0,
             "ticks": ""
            },
            "type": "choropleth"
           }
          ],
          "contour": [
           {
            "colorbar": {
             "outlinewidth": 0,
             "ticks": ""
            },
            "colorscale": [
             [
              0,
              "#0d0887"
             ],
             [
              0.1111111111111111,
              "#46039f"
             ],
             [
              0.2222222222222222,
              "#7201a8"
             ],
             [
              0.3333333333333333,
              "#9c179e"
             ],
             [
              0.4444444444444444,
              "#bd3786"
             ],
             [
              0.5555555555555556,
              "#d8576b"
             ],
             [
              0.6666666666666666,
              "#ed7953"
             ],
             [
              0.7777777777777778,
              "#fb9f3a"
             ],
             [
              0.8888888888888888,
              "#fdca26"
             ],
             [
              1,
              "#f0f921"
             ]
            ],
            "type": "contour"
           }
          ],
          "contourcarpet": [
           {
            "colorbar": {
             "outlinewidth": 0,
             "ticks": ""
            },
            "type": "contourcarpet"
           }
          ],
          "heatmap": [
           {
            "colorbar": {
             "outlinewidth": 0,
             "ticks": ""
            },
            "colorscale": [
             [
              0,
              "#0d0887"
             ],
             [
              0.1111111111111111,
              "#46039f"
             ],
             [
              0.2222222222222222,
              "#7201a8"
             ],
             [
              0.3333333333333333,
              "#9c179e"
             ],
             [
              0.4444444444444444,
              "#bd3786"
             ],
             [
              0.5555555555555556,
              "#d8576b"
             ],
             [
              0.6666666666666666,
              "#ed7953"
             ],
             [
              0.7777777777777778,
              "#fb9f3a"
             ],
             [
              0.8888888888888888,
              "#fdca26"
             ],
             [
              1,
              "#f0f921"
             ]
            ],
            "type": "heatmap"
           }
          ],
          "heatmapgl": [
           {
            "colorbar": {
             "outlinewidth": 0,
             "ticks": ""
            },
            "colorscale": [
             [
              0,
              "#0d0887"
             ],
             [
              0.1111111111111111,
              "#46039f"
             ],
             [
              0.2222222222222222,
              "#7201a8"
             ],
             [
              0.3333333333333333,
              "#9c179e"
             ],
             [
              0.4444444444444444,
              "#bd3786"
             ],
             [
              0.5555555555555556,
              "#d8576b"
             ],
             [
              0.6666666666666666,
              "#ed7953"
             ],
             [
              0.7777777777777778,
              "#fb9f3a"
             ],
             [
              0.8888888888888888,
              "#fdca26"
             ],
             [
              1,
              "#f0f921"
             ]
            ],
            "type": "heatmapgl"
           }
          ],
          "histogram": [
           {
            "marker": {
             "pattern": {
              "fillmode": "overlay",
              "size": 10,
              "solidity": 0.2
             }
            },
            "type": "histogram"
           }
          ],
          "histogram2d": [
           {
            "colorbar": {
             "outlinewidth": 0,
             "ticks": ""
            },
            "colorscale": [
             [
              0,
              "#0d0887"
             ],
             [
              0.1111111111111111,
              "#46039f"
             ],
             [
              0.2222222222222222,
              "#7201a8"
             ],
             [
              0.3333333333333333,
              "#9c179e"
             ],
             [
              0.4444444444444444,
              "#bd3786"
             ],
             [
              0.5555555555555556,
              "#d8576b"
             ],
             [
              0.6666666666666666,
              "#ed7953"
             ],
             [
              0.7777777777777778,
              "#fb9f3a"
             ],
             [
              0.8888888888888888,
              "#fdca26"
             ],
             [
              1,
              "#f0f921"
             ]
            ],
            "type": "histogram2d"
           }
          ],
          "histogram2dcontour": [
           {
            "colorbar": {
             "outlinewidth": 0,
             "ticks": ""
            },
            "colorscale": [
             [
              0,
              "#0d0887"
             ],
             [
              0.1111111111111111,
              "#46039f"
             ],
             [
              0.2222222222222222,
              "#7201a8"
             ],
             [
              0.3333333333333333,
              "#9c179e"
             ],
             [
              0.4444444444444444,
              "#bd3786"
             ],
             [
              0.5555555555555556,
              "#d8576b"
             ],
             [
              0.6666666666666666,
              "#ed7953"
             ],
             [
              0.7777777777777778,
              "#fb9f3a"
             ],
             [
              0.8888888888888888,
              "#fdca26"
             ],
             [
              1,
              "#f0f921"
             ]
            ],
            "type": "histogram2dcontour"
           }
          ],
          "mesh3d": [
           {
            "colorbar": {
             "outlinewidth": 0,
             "ticks": ""
            },
            "type": "mesh3d"
           }
          ],
          "parcoords": [
           {
            "line": {
             "colorbar": {
              "outlinewidth": 0,
              "ticks": ""
             }
            },
            "type": "parcoords"
           }
          ],
          "pie": [
           {
            "automargin": true,
            "type": "pie"
           }
          ],
          "scatter": [
           {
            "fillpattern": {
             "fillmode": "overlay",
             "size": 10,
             "solidity": 0.2
            },
            "type": "scatter"
           }
          ],
          "scatter3d": [
           {
            "line": {
             "colorbar": {
              "outlinewidth": 0,
              "ticks": ""
             }
            },
            "marker": {
             "colorbar": {
              "outlinewidth": 0,
              "ticks": ""
             }
            },
            "type": "scatter3d"
           }
          ],
          "scattercarpet": [
           {
            "marker": {
             "colorbar": {
              "outlinewidth": 0,
              "ticks": ""
             }
            },
            "type": "scattercarpet"
           }
          ],
          "scattergeo": [
           {
            "marker": {
             "colorbar": {
              "outlinewidth": 0,
              "ticks": ""
             }
            },
            "type": "scattergeo"
           }
          ],
          "scattergl": [
           {
            "marker": {
             "colorbar": {
              "outlinewidth": 0,
              "ticks": ""
             }
            },
            "type": "scattergl"
           }
          ],
          "scattermapbox": [
           {
            "marker": {
             "colorbar": {
              "outlinewidth": 0,
              "ticks": ""
             }
            },
            "type": "scattermapbox"
           }
          ],
          "scatterpolar": [
           {
            "marker": {
             "colorbar": {
              "outlinewidth": 0,
              "ticks": ""
             }
            },
            "type": "scatterpolar"
           }
          ],
          "scatterpolargl": [
           {
            "marker": {
             "colorbar": {
              "outlinewidth": 0,
              "ticks": ""
             }
            },
            "type": "scatterpolargl"
           }
          ],
          "scatterternary": [
           {
            "marker": {
             "colorbar": {
              "outlinewidth": 0,
              "ticks": ""
             }
            },
            "type": "scatterternary"
           }
          ],
          "surface": [
           {
            "colorbar": {
             "outlinewidth": 0,
             "ticks": ""
            },
            "colorscale": [
             [
              0,
              "#0d0887"
             ],
             [
              0.1111111111111111,
              "#46039f"
             ],
             [
              0.2222222222222222,
              "#7201a8"
             ],
             [
              0.3333333333333333,
              "#9c179e"
             ],
             [
              0.4444444444444444,
              "#bd3786"
             ],
             [
              0.5555555555555556,
              "#d8576b"
             ],
             [
              0.6666666666666666,
              "#ed7953"
             ],
             [
              0.7777777777777778,
              "#fb9f3a"
             ],
             [
              0.8888888888888888,
              "#fdca26"
             ],
             [
              1,
              "#f0f921"
             ]
            ],
            "type": "surface"
           }
          ],
          "table": [
           {
            "cells": {
             "fill": {
              "color": "#EBF0F8"
             },
             "line": {
              "color": "white"
             }
            },
            "header": {
             "fill": {
              "color": "#C8D4E3"
             },
             "line": {
              "color": "white"
             }
            },
            "type": "table"
           }
          ]
         },
         "layout": {
          "annotationdefaults": {
           "arrowcolor": "#2a3f5f",
           "arrowhead": 0,
           "arrowwidth": 1
          },
          "autotypenumbers": "strict",
          "coloraxis": {
           "colorbar": {
            "outlinewidth": 0,
            "ticks": ""
           }
          },
          "colorscale": {
           "diverging": [
            [
             0,
             "#8e0152"
            ],
            [
             0.1,
             "#c51b7d"
            ],
            [
             0.2,
             "#de77ae"
            ],
            [
             0.3,
             "#f1b6da"
            ],
            [
             0.4,
             "#fde0ef"
            ],
            [
             0.5,
             "#f7f7f7"
            ],
            [
             0.6,
             "#e6f5d0"
            ],
            [
             0.7,
             "#b8e186"
            ],
            [
             0.8,
             "#7fbc41"
            ],
            [
             0.9,
             "#4d9221"
            ],
            [
             1,
             "#276419"
            ]
           ],
           "sequential": [
            [
             0,
             "#0d0887"
            ],
            [
             0.1111111111111111,
             "#46039f"
            ],
            [
             0.2222222222222222,
             "#7201a8"
            ],
            [
             0.3333333333333333,
             "#9c179e"
            ],
            [
             0.4444444444444444,
             "#bd3786"
            ],
            [
             0.5555555555555556,
             "#d8576b"
            ],
            [
             0.6666666666666666,
             "#ed7953"
            ],
            [
             0.7777777777777778,
             "#fb9f3a"
            ],
            [
             0.8888888888888888,
             "#fdca26"
            ],
            [
             1,
             "#f0f921"
            ]
           ],
           "sequentialminus": [
            [
             0,
             "#0d0887"
            ],
            [
             0.1111111111111111,
             "#46039f"
            ],
            [
             0.2222222222222222,
             "#7201a8"
            ],
            [
             0.3333333333333333,
             "#9c179e"
            ],
            [
             0.4444444444444444,
             "#bd3786"
            ],
            [
             0.5555555555555556,
             "#d8576b"
            ],
            [
             0.6666666666666666,
             "#ed7953"
            ],
            [
             0.7777777777777778,
             "#fb9f3a"
            ],
            [
             0.8888888888888888,
             "#fdca26"
            ],
            [
             1,
             "#f0f921"
            ]
           ]
          },
          "colorway": [
           "#636efa",
           "#EF553B",
           "#00cc96",
           "#ab63fa",
           "#FFA15A",
           "#19d3f3",
           "#FF6692",
           "#B6E880",
           "#FF97FF",
           "#FECB52"
          ],
          "font": {
           "color": "#2a3f5f"
          },
          "geo": {
           "bgcolor": "white",
           "lakecolor": "white",
           "landcolor": "#E5ECF6",
           "showlakes": true,
           "showland": true,
           "subunitcolor": "white"
          },
          "hoverlabel": {
           "align": "left"
          },
          "hovermode": "closest",
          "mapbox": {
           "style": "light"
          },
          "paper_bgcolor": "white",
          "plot_bgcolor": "#E5ECF6",
          "polar": {
           "angularaxis": {
            "gridcolor": "white",
            "linecolor": "white",
            "ticks": ""
           },
           "bgcolor": "#E5ECF6",
           "radialaxis": {
            "gridcolor": "white",
            "linecolor": "white",
            "ticks": ""
           }
          },
          "scene": {
           "xaxis": {
            "backgroundcolor": "#E5ECF6",
            "gridcolor": "white",
            "gridwidth": 2,
            "linecolor": "white",
            "showbackground": true,
            "ticks": "",
            "zerolinecolor": "white"
           },
           "yaxis": {
            "backgroundcolor": "#E5ECF6",
            "gridcolor": "white",
            "gridwidth": 2,
            "linecolor": "white",
            "showbackground": true,
            "ticks": "",
            "zerolinecolor": "white"
           },
           "zaxis": {
            "backgroundcolor": "#E5ECF6",
            "gridcolor": "white",
            "gridwidth": 2,
            "linecolor": "white",
            "showbackground": true,
            "ticks": "",
            "zerolinecolor": "white"
           }
          },
          "shapedefaults": {
           "line": {
            "color": "#2a3f5f"
           }
          },
          "ternary": {
           "aaxis": {
            "gridcolor": "white",
            "linecolor": "white",
            "ticks": ""
           },
           "baxis": {
            "gridcolor": "white",
            "linecolor": "white",
            "ticks": ""
           },
           "bgcolor": "#E5ECF6",
           "caxis": {
            "gridcolor": "white",
            "linecolor": "white",
            "ticks": ""
           }
          },
          "title": {
           "x": 0.05
          },
          "xaxis": {
           "automargin": true,
           "gridcolor": "white",
           "linecolor": "white",
           "ticks": "",
           "title": {
            "standoff": 15
           },
           "zerolinecolor": "white",
           "zerolinewidth": 2
          },
          "yaxis": {
           "automargin": true,
           "gridcolor": "white",
           "linecolor": "white",
           "ticks": "",
           "title": {
            "standoff": 15
           },
           "zerolinecolor": "white",
           "zerolinewidth": 2
          }
         }
        },
        "title": {
         "text": "Validation Metrics Over Time (LOD Model)"
        },
        "xaxis": {
         "anchor": "y",
         "domain": [
          0,
          1
         ],
         "title": {
          "text": "index"
         }
        },
        "yaxis": {
         "anchor": "x",
         "domain": [
          0,
          1
         ],
         "title": {
          "text": "value"
         }
        }
       }
      }
     },
     "metadata": {},
     "output_type": "display_data"
    }
   ],
   "source": [
    "import datetime\n",
    "import plotly.express as px\n",
    "\n",
    "time_range = [datetime.time(hour, minute) for hour in range(9, 16) for minute in range(0, 60, 5)]\n",
    "time_range = [x for x in time_range if x >= datetime.time(9,45)]\n",
    "df_val = pd.DataFrame()\n",
    "for t in time_range:\n",
    "    X_val = X_test.loc[X_test['time'] <= t].copy()\n",
    "    y_val = y_test.loc[X_val.index, 'green_day'].copy()\n",
    "\n",
    "    y_pred_val = pipeline_gd.predict_proba(X_val)[:,-1]\n",
    "\n",
    "    df_val.loc[t, [\n",
    "        'roc_auc',\n",
    "        'precision',\n",
    "        'recall'\n",
    "    ]] =  roc_auc_score(y_val, y_pred_val), precision_score(y_val, y_pred_val > 0.5), recall_score(y_val, y_pred_val > 0.5)\n",
    "\n",
    "\n",
    "fig = px.line(df_val, title='Validation Metrics Over Time (GD Model)')\n",
    "fig.show()"
   ]
  },
  {
   "cell_type": "code",
   "execution_count": 137,
   "metadata": {},
   "outputs": [],
   "source": [
    "df_results = X_test.copy()\n",
    "df_results['pred_hod'] = y_pred_hod\n",
    "df_results['pred_lod'] = y_pred_lod\n",
    "df_results['pred_gd'] = y_pred_gd"
   ]
  },
  {
   "cell_type": "code",
   "execution_count": 138,
   "metadata": {},
   "outputs": [
    {
     "data": {
      "text/plain": [
       "Timestamp('2023-03-02 09:45:00')"
      ]
     },
     "execution_count": 138,
     "metadata": {},
     "output_type": "execute_result"
    }
   ],
   "source": [
    "X_test.index[0]"
   ]
  },
  {
   "cell_type": "code",
   "execution_count": 139,
   "metadata": {},
   "outputs": [
    {
     "data": {
      "application/vnd.plotly.v1+json": {
       "config": {
        "plotlyServerURL": "https://plot.ly"
       },
       "data": [
        {
         "close": [
          2008.56,
          2009.03,
          2007.25,
          2005.33,
          2002.34,
          2008.29,
          2008.95,
          2010.26,
          2004.8,
          2006.18,
          2005.62,
          2006.47,
          2005.82,
          2003.93,
          2005.88,
          2006.98,
          2004.82,
          2005.88,
          2005.45,
          2006.8,
          2007.52,
          2006.34,
          2006.79,
          2006.59,
          2007.02,
          2005.46,
          2004.8,
          2002.25,
          1999.72,
          1999.34,
          2000.65,
          2000.06,
          1999.49,
          2001.33,
          2000.94,
          2002.16,
          2001.81,
          2001,
          2000.24,
          2002.17,
          2001.23,
          2001.12,
          1997.88,
          2000.9,
          2001.13,
          2002.24,
          2001.97,
          2001.86,
          2002.56,
          2004.01,
          2005.23,
          2005.24,
          2004.73,
          2004.24,
          2005.94,
          2005.09,
          2005.57,
          2006.08,
          2006.27,
          2006.33,
          2005.2,
          2004.57,
          2003.98,
          2006.06,
          2005.05,
          2006.27,
          2007.19,
          2007.73,
          2009.71,
          2011.07,
          2012.35,
          2012.48,
          2014.43,
          2015.46,
          2017.1
         ],
         "high": [
          2008.82,
          2009.33,
          2008.98,
          2007.22,
          2005.27,
          2008.29,
          2009.24,
          2010.83,
          2010.23,
          2006.18,
          2006.58,
          2006.47,
          2007.29,
          2005.81,
          2005.88,
          2007.1,
          2006.86,
          2005.88,
          2006.44,
          2006.82,
          2007.53,
          2007.61,
          2007.43,
          2006.76,
          2007.46,
          2007.07,
          2005.45,
          2004.58,
          2002.03,
          1999.97,
          2000.65,
          2000.92,
          2000.36,
          2001.95,
          2001.01,
          2002.58,
          2002.44,
          2002,
          2000.96,
          2002.24,
          2002.37,
          2001.6,
          2001.12,
          2000.94,
          2001.13,
          2002.57,
          2002.29,
          2002.12,
          2002.6,
          2004.12,
          2005.23,
          2005.51,
          2005.41,
          2005.09,
          2005.94,
          2006.29,
          2005.63,
          2006.08,
          2006.27,
          2006.36,
          2006.44,
          2005.29,
          2004.74,
          2006.1,
          2006.08,
          2006.27,
          2007.19,
          2007.74,
          2009.74,
          2011.38,
          2012.7,
          2012.98,
          2014.43,
          2016.32,
          2017.18
         ],
         "low": [
          2005.99,
          2008.31,
          2007.25,
          2005.33,
          2002.11,
          2002.28,
          2007.71,
          2008.78,
          2004.79,
          2004.77,
          2005.62,
          2004.08,
          2005.82,
          2003.83,
          2003.74,
          2005.88,
          2004.82,
          2004.84,
          2005.24,
          2005.45,
          2006.58,
          2006.34,
          2006.34,
          2006.29,
          2006.6,
          2005.46,
          2004.62,
          2002.25,
          1999.71,
          1999.34,
          1999.34,
          1999.96,
          1999.46,
          1999.45,
          2000.12,
          2000.95,
          2001.8,
          2001,
          2000.07,
          2000.35,
          2000.96,
          2001.1,
          1997.88,
          1997.45,
          2000.38,
          2001.15,
          2001.95,
          2001.45,
          2001.79,
          2002.46,
          2004.01,
          2005.21,
          2004.73,
          2004.23,
          2004.25,
          2005.08,
          2004.82,
          2005.05,
          2005.76,
          2006.23,
          2005.2,
          2004.57,
          2003.4,
          2004.18,
          2004.96,
          2005.09,
          2006.02,
          2006.86,
          2007.67,
          2009.72,
          2010.8,
          2012.22,
          2012.19,
          2014.51,
          2015.24
         ],
         "open": [
          2006.4,
          2008.6,
          2008.98,
          2007.22,
          2005.27,
          2002.32,
          2008.31,
          2008.96,
          2010.23,
          2004.77,
          2006.19,
          2005.52,
          2006.44,
          2005.81,
          2003.92,
          2005.88,
          2006.86,
          2004.84,
          2005.93,
          2005.45,
          2006.79,
          2007.56,
          2006.34,
          2006.76,
          2006.6,
          2007.02,
          2005.45,
          2004.58,
          2002.03,
          1999.71,
          1999.34,
          2000.66,
          2000.36,
          1999.51,
          2001.01,
          2000.95,
          2002.17,
          2001.78,
          2000.96,
          2000.35,
          2002.18,
          2001.23,
          2001.12,
          1997.86,
          2000.88,
          2001.15,
          2002.23,
          2001.94,
          2001.83,
          2002.55,
          2004.01,
          2005.32,
          2005.24,
          2004.71,
          2004.25,
          2006.08,
          2005.08,
          2005.58,
          2006.11,
          2006.29,
          2006.34,
          2005.17,
          2004.59,
          2004.18,
          2005.99,
          2005.09,
          2006.28,
          2007.17,
          2007.74,
          2010.07,
          2011.05,
          2012.34,
          2012.47,
          2014.51,
          2015.42
         ],
         "type": "candlestick",
         "x": [
          "2023-12-21T09:45:00",
          "2023-12-21T09:50:00",
          "2023-12-21T09:55:00",
          "2023-12-21T10:00:00",
          "2023-12-21T10:05:00",
          "2023-12-21T10:10:00",
          "2023-12-21T10:15:00",
          "2023-12-21T10:20:00",
          "2023-12-21T10:25:00",
          "2023-12-21T10:30:00",
          "2023-12-21T10:35:00",
          "2023-12-21T10:40:00",
          "2023-12-21T10:45:00",
          "2023-12-21T10:50:00",
          "2023-12-21T10:55:00",
          "2023-12-21T11:00:00",
          "2023-12-21T11:05:00",
          "2023-12-21T11:10:00",
          "2023-12-21T11:15:00",
          "2023-12-21T11:20:00",
          "2023-12-21T11:25:00",
          "2023-12-21T11:30:00",
          "2023-12-21T11:35:00",
          "2023-12-21T11:40:00",
          "2023-12-21T11:45:00",
          "2023-12-21T11:50:00",
          "2023-12-21T11:55:00",
          "2023-12-21T12:00:00",
          "2023-12-21T12:05:00",
          "2023-12-21T12:10:00",
          "2023-12-21T12:15:00",
          "2023-12-21T12:20:00",
          "2023-12-21T12:25:00",
          "2023-12-21T12:30:00",
          "2023-12-21T12:35:00",
          "2023-12-21T12:40:00",
          "2023-12-21T12:45:00",
          "2023-12-21T12:50:00",
          "2023-12-21T12:55:00",
          "2023-12-21T13:00:00",
          "2023-12-21T13:05:00",
          "2023-12-21T13:10:00",
          "2023-12-21T13:15:00",
          "2023-12-21T13:20:00",
          "2023-12-21T13:25:00",
          "2023-12-21T13:30:00",
          "2023-12-21T13:35:00",
          "2023-12-21T13:40:00",
          "2023-12-21T13:45:00",
          "2023-12-21T13:50:00",
          "2023-12-21T13:55:00",
          "2023-12-21T14:00:00",
          "2023-12-21T14:05:00",
          "2023-12-21T14:10:00",
          "2023-12-21T14:15:00",
          "2023-12-21T14:20:00",
          "2023-12-21T14:25:00",
          "2023-12-21T14:30:00",
          "2023-12-21T14:35:00",
          "2023-12-21T14:40:00",
          "2023-12-21T14:45:00",
          "2023-12-21T14:50:00",
          "2023-12-21T14:55:00",
          "2023-12-21T15:00:00",
          "2023-12-21T15:05:00",
          "2023-12-21T15:10:00",
          "2023-12-21T15:15:00",
          "2023-12-21T15:20:00",
          "2023-12-21T15:25:00",
          "2023-12-21T15:30:00",
          "2023-12-21T15:35:00",
          "2023-12-21T15:40:00",
          "2023-12-21T15:45:00",
          "2023-12-21T15:50:00",
          "2023-12-21T15:55:00"
         ]
        },
        {
         "line": {
          "color": "#ff5f5f"
         },
         "mode": "lines",
         "name": "pred_hod",
         "type": "scatter",
         "x": [
          "2023-12-21T09:45:00",
          "2023-12-21T09:50:00",
          "2023-12-21T09:55:00",
          "2023-12-21T10:00:00",
          "2023-12-21T10:05:00",
          "2023-12-21T10:10:00",
          "2023-12-21T10:15:00",
          "2023-12-21T10:20:00",
          "2023-12-21T10:25:00",
          "2023-12-21T10:30:00",
          "2023-12-21T10:35:00",
          "2023-12-21T10:40:00",
          "2023-12-21T10:45:00",
          "2023-12-21T10:50:00",
          "2023-12-21T10:55:00",
          "2023-12-21T11:00:00",
          "2023-12-21T11:05:00",
          "2023-12-21T11:10:00",
          "2023-12-21T11:15:00",
          "2023-12-21T11:20:00",
          "2023-12-21T11:25:00",
          "2023-12-21T11:30:00",
          "2023-12-21T11:35:00",
          "2023-12-21T11:40:00",
          "2023-12-21T11:45:00",
          "2023-12-21T11:50:00",
          "2023-12-21T11:55:00",
          "2023-12-21T12:00:00",
          "2023-12-21T12:05:00",
          "2023-12-21T12:10:00",
          "2023-12-21T12:15:00",
          "2023-12-21T12:20:00",
          "2023-12-21T12:25:00",
          "2023-12-21T12:30:00",
          "2023-12-21T12:35:00",
          "2023-12-21T12:40:00",
          "2023-12-21T12:45:00",
          "2023-12-21T12:50:00",
          "2023-12-21T12:55:00",
          "2023-12-21T13:00:00",
          "2023-12-21T13:05:00",
          "2023-12-21T13:10:00",
          "2023-12-21T13:15:00",
          "2023-12-21T13:20:00",
          "2023-12-21T13:25:00",
          "2023-12-21T13:30:00",
          "2023-12-21T13:35:00",
          "2023-12-21T13:40:00",
          "2023-12-21T13:45:00",
          "2023-12-21T13:50:00",
          "2023-12-21T13:55:00",
          "2023-12-21T14:00:00",
          "2023-12-21T14:05:00",
          "2023-12-21T14:10:00",
          "2023-12-21T14:15:00",
          "2023-12-21T14:20:00",
          "2023-12-21T14:25:00",
          "2023-12-21T14:30:00",
          "2023-12-21T14:35:00",
          "2023-12-21T14:40:00",
          "2023-12-21T14:45:00",
          "2023-12-21T14:50:00",
          "2023-12-21T14:55:00",
          "2023-12-21T15:00:00",
          "2023-12-21T15:05:00",
          "2023-12-21T15:10:00",
          "2023-12-21T15:15:00",
          "2023-12-21T15:20:00",
          "2023-12-21T15:25:00",
          "2023-12-21T15:30:00",
          "2023-12-21T15:35:00",
          "2023-12-21T15:40:00",
          "2023-12-21T15:45:00",
          "2023-12-21T15:50:00",
          "2023-12-21T15:55:00"
         ],
         "y": [
          0.1739989224770692,
          0.15838432655556844,
          0.23734725195036435,
          0.3589170923834927,
          0.4457347225025669,
          0.17454987240375847,
          0.162490091879435,
          0.08351979926169882,
          0.39600035413363066,
          0.32841793174470446,
          0.3332126208488145,
          0.35805177594464577,
          0.3572965662756975,
          0.497218564130153,
          0.3516692937952187,
          0.30758482316280594,
          0.4038398906351234,
          0.34737220488462917,
          0.37977709915823277,
          0.3101681387559153,
          0.2733633689164219,
          0.3370077365416402,
          0.348631325852585,
          0.3388293868088433,
          0.32330558060902537,
          0.4417408761736236,
          0.5694190753261479,
          0.6972650347448153,
          0.7150870813200529,
          0.7491076877560167,
          0.7771316611810108,
          0.7719428104022039,
          0.7786172127201626,
          0.7608002629713099,
          0.7936884933292384,
          0.7263134681051234,
          0.7566501711725768,
          0.8039739827645287,
          0.8235480734833391,
          0.7421448587270463,
          0.8180644846354149,
          0.8361345230912626,
          0.8779095785784686,
          0.8447307030554894,
          0.8105931008077734,
          0.7057094168427366,
          0.7549163771348175,
          0.7821075227800691,
          0.6092984131495282,
          0.504086870753646,
          0.3778950761038824,
          0.37625799450615593,
          0.4249398010398378,
          0.4680742556207551,
          0.3205912856639118,
          0.3838812567730248,
          0.3639474623235084,
          0.3363725901999125,
          0.2610271209350363,
          0.2844955733057307,
          0.4371273928687853,
          0.5873425655490859,
          0.7036355984926145,
          0.3873188883220088,
          0.564729271756132,
          0.3456541239602408,
          0.3123534317069657,
          0.31052548101155014,
          0.16911227321082223,
          0.05861943897904932,
          0.06073164865297502,
          0.15254786596365852,
          0.07112643471671234,
          0.10898444839235602,
          0.9968366264525498
         ],
         "yaxis": "y2"
        },
        {
         "line": {
          "color": "#3399cc"
         },
         "mode": "lines",
         "name": "pred_lod",
         "type": "scatter",
         "x": [
          "2023-12-21T09:45:00",
          "2023-12-21T09:50:00",
          "2023-12-21T09:55:00",
          "2023-12-21T10:00:00",
          "2023-12-21T10:05:00",
          "2023-12-21T10:10:00",
          "2023-12-21T10:15:00",
          "2023-12-21T10:20:00",
          "2023-12-21T10:25:00",
          "2023-12-21T10:30:00",
          "2023-12-21T10:35:00",
          "2023-12-21T10:40:00",
          "2023-12-21T10:45:00",
          "2023-12-21T10:50:00",
          "2023-12-21T10:55:00",
          "2023-12-21T11:00:00",
          "2023-12-21T11:05:00",
          "2023-12-21T11:10:00",
          "2023-12-21T11:15:00",
          "2023-12-21T11:20:00",
          "2023-12-21T11:25:00",
          "2023-12-21T11:30:00",
          "2023-12-21T11:35:00",
          "2023-12-21T11:40:00",
          "2023-12-21T11:45:00",
          "2023-12-21T11:50:00",
          "2023-12-21T11:55:00",
          "2023-12-21T12:00:00",
          "2023-12-21T12:05:00",
          "2023-12-21T12:10:00",
          "2023-12-21T12:15:00",
          "2023-12-21T12:20:00",
          "2023-12-21T12:25:00",
          "2023-12-21T12:30:00",
          "2023-12-21T12:35:00",
          "2023-12-21T12:40:00",
          "2023-12-21T12:45:00",
          "2023-12-21T12:50:00",
          "2023-12-21T12:55:00",
          "2023-12-21T13:00:00",
          "2023-12-21T13:05:00",
          "2023-12-21T13:10:00",
          "2023-12-21T13:15:00",
          "2023-12-21T13:20:00",
          "2023-12-21T13:25:00",
          "2023-12-21T13:30:00",
          "2023-12-21T13:35:00",
          "2023-12-21T13:40:00",
          "2023-12-21T13:45:00",
          "2023-12-21T13:50:00",
          "2023-12-21T13:55:00",
          "2023-12-21T14:00:00",
          "2023-12-21T14:05:00",
          "2023-12-21T14:10:00",
          "2023-12-21T14:15:00",
          "2023-12-21T14:20:00",
          "2023-12-21T14:25:00",
          "2023-12-21T14:30:00",
          "2023-12-21T14:35:00",
          "2023-12-21T14:40:00",
          "2023-12-21T14:45:00",
          "2023-12-21T14:50:00",
          "2023-12-21T14:55:00",
          "2023-12-21T15:00:00",
          "2023-12-21T15:05:00",
          "2023-12-21T15:10:00",
          "2023-12-21T15:15:00",
          "2023-12-21T15:20:00",
          "2023-12-21T15:25:00",
          "2023-12-21T15:30:00",
          "2023-12-21T15:35:00",
          "2023-12-21T15:40:00",
          "2023-12-21T15:45:00",
          "2023-12-21T15:50:00",
          "2023-12-21T15:55:00"
         ],
         "y": [
          0.13899753710819984,
          0.1460237315778158,
          0.09838028159173762,
          0.0451457313254785,
          0.03760409238275231,
          0.20254619517709016,
          0.21026912218145818,
          0.35214355048510454,
          0.10259884422160652,
          0.1470764019986622,
          0.12058895385611682,
          0.16113807414646858,
          0.12926374980653674,
          0.11067135994207979,
          0.14134755441838281,
          0.17894770907599222,
          0.13003737564558915,
          0.12568649977444715,
          0.13662170669109103,
          0.18590234524833957,
          0.2101863673393066,
          0.1603570377044101,
          0.18096736580400324,
          0.1889099784683718,
          0.21075953185098786,
          0.1648460244013454,
          0.18532365785205132,
          0.07178327583177689,
          0.04138555414683167,
          0.060390822465647157,
          0.16149560035036142,
          0.12210759482772666,
          0.08417247704746336,
          0.1653403356921784,
          0.14307695663454814,
          0.20783130760368526,
          0.20870046234001924,
          0.13997316660861783,
          0.1328034932191469,
          0.2800737430165539,
          0.1929271520362679,
          0.20321342990703367,
          0.04706446537201914,
          0.32530234099821553,
          0.4068838043008788,
          0.5720270159543835,
          0.5133864342706979,
          0.5475147756421037,
          0.6411288356132563,
          0.7846746040932239,
          0.8675765229342929,
          0.8867601946692318,
          0.8557160535745989,
          0.8718356125292787,
          0.92807826168228,
          0.8962248128244527,
          0.9321247428687336,
          0.9447278986069915,
          0.9595675046150077,
          0.9613518599285759,
          0.9418101553186876,
          0.9296523879835236,
          0.9184874878702083,
          0.9691023124913107,
          0.9630176310877958,
          0.9796357061160678,
          0.9887806466250414,
          0.9950274627880995,
          0.9971184962519106,
          0.9980025645390793,
          0.9982620252228953,
          0.9984015555944965,
          0.9986201229969046,
          0.9988927639115499,
          0.9996871644293335
         ],
         "yaxis": "y2"
        },
        {
         "line": {
          "color": "#98ff98"
         },
         "mode": "lines",
         "name": "pred_lod",
         "type": "scatter",
         "x": [
          "2023-12-21T09:45:00",
          "2023-12-21T09:50:00",
          "2023-12-21T09:55:00",
          "2023-12-21T10:00:00",
          "2023-12-21T10:05:00",
          "2023-12-21T10:10:00",
          "2023-12-21T10:15:00",
          "2023-12-21T10:20:00",
          "2023-12-21T10:25:00",
          "2023-12-21T10:30:00",
          "2023-12-21T10:35:00",
          "2023-12-21T10:40:00",
          "2023-12-21T10:45:00",
          "2023-12-21T10:50:00",
          "2023-12-21T10:55:00",
          "2023-12-21T11:00:00",
          "2023-12-21T11:05:00",
          "2023-12-21T11:10:00",
          "2023-12-21T11:15:00",
          "2023-12-21T11:20:00",
          "2023-12-21T11:25:00",
          "2023-12-21T11:30:00",
          "2023-12-21T11:35:00",
          "2023-12-21T11:40:00",
          "2023-12-21T11:45:00",
          "2023-12-21T11:50:00",
          "2023-12-21T11:55:00",
          "2023-12-21T12:00:00",
          "2023-12-21T12:05:00",
          "2023-12-21T12:10:00",
          "2023-12-21T12:15:00",
          "2023-12-21T12:20:00",
          "2023-12-21T12:25:00",
          "2023-12-21T12:30:00",
          "2023-12-21T12:35:00",
          "2023-12-21T12:40:00",
          "2023-12-21T12:45:00",
          "2023-12-21T12:50:00",
          "2023-12-21T12:55:00",
          "2023-12-21T13:00:00",
          "2023-12-21T13:05:00",
          "2023-12-21T13:10:00",
          "2023-12-21T13:15:00",
          "2023-12-21T13:20:00",
          "2023-12-21T13:25:00",
          "2023-12-21T13:30:00",
          "2023-12-21T13:35:00",
          "2023-12-21T13:40:00",
          "2023-12-21T13:45:00",
          "2023-12-21T13:50:00",
          "2023-12-21T13:55:00",
          "2023-12-21T14:00:00",
          "2023-12-21T14:05:00",
          "2023-12-21T14:10:00",
          "2023-12-21T14:15:00",
          "2023-12-21T14:20:00",
          "2023-12-21T14:25:00",
          "2023-12-21T14:30:00",
          "2023-12-21T14:35:00",
          "2023-12-21T14:40:00",
          "2023-12-21T14:45:00",
          "2023-12-21T14:50:00",
          "2023-12-21T14:55:00",
          "2023-12-21T15:00:00",
          "2023-12-21T15:05:00",
          "2023-12-21T15:10:00",
          "2023-12-21T15:15:00",
          "2023-12-21T15:20:00",
          "2023-12-21T15:25:00",
          "2023-12-21T15:30:00",
          "2023-12-21T15:35:00",
          "2023-12-21T15:40:00",
          "2023-12-21T15:45:00",
          "2023-12-21T15:50:00",
          "2023-12-21T15:55:00"
         ],
         "y": [
          0.9201947442724007,
          0.920642887194362,
          0.8647920778306148,
          0.7547146833614925,
          0.6472760145693109,
          0.9323841691191782,
          0.9191435385228001,
          0.9281651245779717,
          0.78505768619652,
          0.7486505716272742,
          0.7627550353114988,
          0.7651402932634864,
          0.72587316215682,
          0.7530332383894487,
          0.6871698107409223,
          0.7495293370156044,
          0.7303938949505633,
          0.7117075344467189,
          0.7117075344467189,
          0.7468262692106782,
          0.8274627325630621,
          0.7212512019983431,
          0.7651339084707534,
          0.7842689268166027,
          0.7677023094692497,
          0.7316421689207656,
          0.7494912194415005,
          0.6234387418408294,
          0.6678322292425753,
          0.6471903843504277,
          0.8167653789782152,
          0.7540731150010875,
          0.7011287049004655,
          0.783588414809987,
          0.7886883159228034,
          0.7073661344244445,
          0.8202873707742018,
          0.8161701003184505,
          0.7891127615257342,
          0.7609380149366395,
          0.8431371650673076,
          0.8420395039196793,
          0.7319578342694589,
          0.8635517231296548,
          0.8635517231296548,
          0.821488323159688,
          0.897022242280892,
          0.8972897431967298,
          0.8777129183627962,
          0.9336386096011174,
          0.9348954135509636,
          0.9489387317959541,
          0.9573542127521784,
          0.9603690902794211,
          0.9664728115259755,
          0.9673329854688573,
          0.9718519958896795,
          0.9745051880780203,
          0.9745051880780203,
          0.9745051880780203,
          0.9718933148881147,
          0.9718933148881147,
          0.9692627229699525,
          0.9745051880780203,
          0.9718933148881147,
          0.9758989791794751,
          0.987524547716697,
          0.9931159467281461,
          0.9943220211216905,
          0.9969941955336694,
          0.9972076268716925,
          0.9973869519256823,
          0.9967793641177938,
          0.997361942994563,
          0.9970547583988963
         ],
         "yaxis": "y2"
        }
       ],
       "layout": {
        "legend": {
         "orientation": "h",
         "x": 1,
         "xanchor": "right",
         "y": 1.02,
         "yanchor": "bottom"
        },
        "shapes": [
         {
          "line": {
           "color": "Red",
           "dash": "dash",
           "width": 1.5
          },
          "type": "line",
          "x0": "2023-12-21T09:45:00",
          "x1": "2023-12-21T15:55:00",
          "y0": 0.5,
          "y1": 0.5,
          "yref": "y2"
         }
        ],
        "template": {
         "data": {
          "bar": [
           {
            "error_x": {
             "color": "#f2f5fa"
            },
            "error_y": {
             "color": "#f2f5fa"
            },
            "marker": {
             "line": {
              "color": "rgb(17,17,17)",
              "width": 0.5
             },
             "pattern": {
              "fillmode": "overlay",
              "size": 10,
              "solidity": 0.2
             }
            },
            "type": "bar"
           }
          ],
          "barpolar": [
           {
            "marker": {
             "line": {
              "color": "rgb(17,17,17)",
              "width": 0.5
             },
             "pattern": {
              "fillmode": "overlay",
              "size": 10,
              "solidity": 0.2
             }
            },
            "type": "barpolar"
           }
          ],
          "carpet": [
           {
            "aaxis": {
             "endlinecolor": "#A2B1C6",
             "gridcolor": "#506784",
             "linecolor": "#506784",
             "minorgridcolor": "#506784",
             "startlinecolor": "#A2B1C6"
            },
            "baxis": {
             "endlinecolor": "#A2B1C6",
             "gridcolor": "#506784",
             "linecolor": "#506784",
             "minorgridcolor": "#506784",
             "startlinecolor": "#A2B1C6"
            },
            "type": "carpet"
           }
          ],
          "choropleth": [
           {
            "colorbar": {
             "outlinewidth": 0,
             "ticks": ""
            },
            "type": "choropleth"
           }
          ],
          "contour": [
           {
            "colorbar": {
             "outlinewidth": 0,
             "ticks": ""
            },
            "colorscale": [
             [
              0,
              "#0d0887"
             ],
             [
              0.1111111111111111,
              "#46039f"
             ],
             [
              0.2222222222222222,
              "#7201a8"
             ],
             [
              0.3333333333333333,
              "#9c179e"
             ],
             [
              0.4444444444444444,
              "#bd3786"
             ],
             [
              0.5555555555555556,
              "#d8576b"
             ],
             [
              0.6666666666666666,
              "#ed7953"
             ],
             [
              0.7777777777777778,
              "#fb9f3a"
             ],
             [
              0.8888888888888888,
              "#fdca26"
             ],
             [
              1,
              "#f0f921"
             ]
            ],
            "type": "contour"
           }
          ],
          "contourcarpet": [
           {
            "colorbar": {
             "outlinewidth": 0,
             "ticks": ""
            },
            "type": "contourcarpet"
           }
          ],
          "heatmap": [
           {
            "colorbar": {
             "outlinewidth": 0,
             "ticks": ""
            },
            "colorscale": [
             [
              0,
              "#0d0887"
             ],
             [
              0.1111111111111111,
              "#46039f"
             ],
             [
              0.2222222222222222,
              "#7201a8"
             ],
             [
              0.3333333333333333,
              "#9c179e"
             ],
             [
              0.4444444444444444,
              "#bd3786"
             ],
             [
              0.5555555555555556,
              "#d8576b"
             ],
             [
              0.6666666666666666,
              "#ed7953"
             ],
             [
              0.7777777777777778,
              "#fb9f3a"
             ],
             [
              0.8888888888888888,
              "#fdca26"
             ],
             [
              1,
              "#f0f921"
             ]
            ],
            "type": "heatmap"
           }
          ],
          "heatmapgl": [
           {
            "colorbar": {
             "outlinewidth": 0,
             "ticks": ""
            },
            "colorscale": [
             [
              0,
              "#0d0887"
             ],
             [
              0.1111111111111111,
              "#46039f"
             ],
             [
              0.2222222222222222,
              "#7201a8"
             ],
             [
              0.3333333333333333,
              "#9c179e"
             ],
             [
              0.4444444444444444,
              "#bd3786"
             ],
             [
              0.5555555555555556,
              "#d8576b"
             ],
             [
              0.6666666666666666,
              "#ed7953"
             ],
             [
              0.7777777777777778,
              "#fb9f3a"
             ],
             [
              0.8888888888888888,
              "#fdca26"
             ],
             [
              1,
              "#f0f921"
             ]
            ],
            "type": "heatmapgl"
           }
          ],
          "histogram": [
           {
            "marker": {
             "pattern": {
              "fillmode": "overlay",
              "size": 10,
              "solidity": 0.2
             }
            },
            "type": "histogram"
           }
          ],
          "histogram2d": [
           {
            "colorbar": {
             "outlinewidth": 0,
             "ticks": ""
            },
            "colorscale": [
             [
              0,
              "#0d0887"
             ],
             [
              0.1111111111111111,
              "#46039f"
             ],
             [
              0.2222222222222222,
              "#7201a8"
             ],
             [
              0.3333333333333333,
              "#9c179e"
             ],
             [
              0.4444444444444444,
              "#bd3786"
             ],
             [
              0.5555555555555556,
              "#d8576b"
             ],
             [
              0.6666666666666666,
              "#ed7953"
             ],
             [
              0.7777777777777778,
              "#fb9f3a"
             ],
             [
              0.8888888888888888,
              "#fdca26"
             ],
             [
              1,
              "#f0f921"
             ]
            ],
            "type": "histogram2d"
           }
          ],
          "histogram2dcontour": [
           {
            "colorbar": {
             "outlinewidth": 0,
             "ticks": ""
            },
            "colorscale": [
             [
              0,
              "#0d0887"
             ],
             [
              0.1111111111111111,
              "#46039f"
             ],
             [
              0.2222222222222222,
              "#7201a8"
             ],
             [
              0.3333333333333333,
              "#9c179e"
             ],
             [
              0.4444444444444444,
              "#bd3786"
             ],
             [
              0.5555555555555556,
              "#d8576b"
             ],
             [
              0.6666666666666666,
              "#ed7953"
             ],
             [
              0.7777777777777778,
              "#fb9f3a"
             ],
             [
              0.8888888888888888,
              "#fdca26"
             ],
             [
              1,
              "#f0f921"
             ]
            ],
            "type": "histogram2dcontour"
           }
          ],
          "mesh3d": [
           {
            "colorbar": {
             "outlinewidth": 0,
             "ticks": ""
            },
            "type": "mesh3d"
           }
          ],
          "parcoords": [
           {
            "line": {
             "colorbar": {
              "outlinewidth": 0,
              "ticks": ""
             }
            },
            "type": "parcoords"
           }
          ],
          "pie": [
           {
            "automargin": true,
            "type": "pie"
           }
          ],
          "scatter": [
           {
            "marker": {
             "line": {
              "color": "#283442"
             }
            },
            "type": "scatter"
           }
          ],
          "scatter3d": [
           {
            "line": {
             "colorbar": {
              "outlinewidth": 0,
              "ticks": ""
             }
            },
            "marker": {
             "colorbar": {
              "outlinewidth": 0,
              "ticks": ""
             }
            },
            "type": "scatter3d"
           }
          ],
          "scattercarpet": [
           {
            "marker": {
             "colorbar": {
              "outlinewidth": 0,
              "ticks": ""
             }
            },
            "type": "scattercarpet"
           }
          ],
          "scattergeo": [
           {
            "marker": {
             "colorbar": {
              "outlinewidth": 0,
              "ticks": ""
             }
            },
            "type": "scattergeo"
           }
          ],
          "scattergl": [
           {
            "marker": {
             "line": {
              "color": "#283442"
             }
            },
            "type": "scattergl"
           }
          ],
          "scattermapbox": [
           {
            "marker": {
             "colorbar": {
              "outlinewidth": 0,
              "ticks": ""
             }
            },
            "type": "scattermapbox"
           }
          ],
          "scatterpolar": [
           {
            "marker": {
             "colorbar": {
              "outlinewidth": 0,
              "ticks": ""
             }
            },
            "type": "scatterpolar"
           }
          ],
          "scatterpolargl": [
           {
            "marker": {
             "colorbar": {
              "outlinewidth": 0,
              "ticks": ""
             }
            },
            "type": "scatterpolargl"
           }
          ],
          "scatterternary": [
           {
            "marker": {
             "colorbar": {
              "outlinewidth": 0,
              "ticks": ""
             }
            },
            "type": "scatterternary"
           }
          ],
          "surface": [
           {
            "colorbar": {
             "outlinewidth": 0,
             "ticks": ""
            },
            "colorscale": [
             [
              0,
              "#0d0887"
             ],
             [
              0.1111111111111111,
              "#46039f"
             ],
             [
              0.2222222222222222,
              "#7201a8"
             ],
             [
              0.3333333333333333,
              "#9c179e"
             ],
             [
              0.4444444444444444,
              "#bd3786"
             ],
             [
              0.5555555555555556,
              "#d8576b"
             ],
             [
              0.6666666666666666,
              "#ed7953"
             ],
             [
              0.7777777777777778,
              "#fb9f3a"
             ],
             [
              0.8888888888888888,
              "#fdca26"
             ],
             [
              1,
              "#f0f921"
             ]
            ],
            "type": "surface"
           }
          ],
          "table": [
           {
            "cells": {
             "fill": {
              "color": "#506784"
             },
             "line": {
              "color": "rgb(17,17,17)"
             }
            },
            "header": {
             "fill": {
              "color": "#2a3f5f"
             },
             "line": {
              "color": "rgb(17,17,17)"
             }
            },
            "type": "table"
           }
          ]
         },
         "layout": {
          "annotationdefaults": {
           "arrowcolor": "#f2f5fa",
           "arrowhead": 0,
           "arrowwidth": 1
          },
          "autotypenumbers": "strict",
          "coloraxis": {
           "colorbar": {
            "outlinewidth": 0,
            "ticks": ""
           }
          },
          "colorscale": {
           "diverging": [
            [
             0,
             "#8e0152"
            ],
            [
             0.1,
             "#c51b7d"
            ],
            [
             0.2,
             "#de77ae"
            ],
            [
             0.3,
             "#f1b6da"
            ],
            [
             0.4,
             "#fde0ef"
            ],
            [
             0.5,
             "#f7f7f7"
            ],
            [
             0.6,
             "#e6f5d0"
            ],
            [
             0.7,
             "#b8e186"
            ],
            [
             0.8,
             "#7fbc41"
            ],
            [
             0.9,
             "#4d9221"
            ],
            [
             1,
             "#276419"
            ]
           ],
           "sequential": [
            [
             0,
             "#0d0887"
            ],
            [
             0.1111111111111111,
             "#46039f"
            ],
            [
             0.2222222222222222,
             "#7201a8"
            ],
            [
             0.3333333333333333,
             "#9c179e"
            ],
            [
             0.4444444444444444,
             "#bd3786"
            ],
            [
             0.5555555555555556,
             "#d8576b"
            ],
            [
             0.6666666666666666,
             "#ed7953"
            ],
            [
             0.7777777777777778,
             "#fb9f3a"
            ],
            [
             0.8888888888888888,
             "#fdca26"
            ],
            [
             1,
             "#f0f921"
            ]
           ],
           "sequentialminus": [
            [
             0,
             "#0d0887"
            ],
            [
             0.1111111111111111,
             "#46039f"
            ],
            [
             0.2222222222222222,
             "#7201a8"
            ],
            [
             0.3333333333333333,
             "#9c179e"
            ],
            [
             0.4444444444444444,
             "#bd3786"
            ],
            [
             0.5555555555555556,
             "#d8576b"
            ],
            [
             0.6666666666666666,
             "#ed7953"
            ],
            [
             0.7777777777777778,
             "#fb9f3a"
            ],
            [
             0.8888888888888888,
             "#fdca26"
            ],
            [
             1,
             "#f0f921"
            ]
           ]
          },
          "colorway": [
           "#636efa",
           "#EF553B",
           "#00cc96",
           "#ab63fa",
           "#FFA15A",
           "#19d3f3",
           "#FF6692",
           "#B6E880",
           "#FF97FF",
           "#FECB52"
          ],
          "font": {
           "color": "#f2f5fa"
          },
          "geo": {
           "bgcolor": "rgb(17,17,17)",
           "lakecolor": "rgb(17,17,17)",
           "landcolor": "rgb(17,17,17)",
           "showlakes": true,
           "showland": true,
           "subunitcolor": "#506784"
          },
          "hoverlabel": {
           "align": "left"
          },
          "hovermode": "closest",
          "mapbox": {
           "style": "dark"
          },
          "paper_bgcolor": "rgb(17,17,17)",
          "plot_bgcolor": "rgb(17,17,17)",
          "polar": {
           "angularaxis": {
            "gridcolor": "#506784",
            "linecolor": "#506784",
            "ticks": ""
           },
           "bgcolor": "rgb(17,17,17)",
           "radialaxis": {
            "gridcolor": "#506784",
            "linecolor": "#506784",
            "ticks": ""
           }
          },
          "scene": {
           "xaxis": {
            "backgroundcolor": "rgb(17,17,17)",
            "gridcolor": "#506784",
            "gridwidth": 2,
            "linecolor": "#506784",
            "showbackground": true,
            "ticks": "",
            "zerolinecolor": "#C8D4E3"
           },
           "yaxis": {
            "backgroundcolor": "rgb(17,17,17)",
            "gridcolor": "#506784",
            "gridwidth": 2,
            "linecolor": "#506784",
            "showbackground": true,
            "ticks": "",
            "zerolinecolor": "#C8D4E3"
           },
           "zaxis": {
            "backgroundcolor": "rgb(17,17,17)",
            "gridcolor": "#506784",
            "gridwidth": 2,
            "linecolor": "#506784",
            "showbackground": true,
            "ticks": "",
            "zerolinecolor": "#C8D4E3"
           }
          },
          "shapedefaults": {
           "line": {
            "color": "#f2f5fa"
           }
          },
          "sliderdefaults": {
           "bgcolor": "#C8D4E3",
           "bordercolor": "rgb(17,17,17)",
           "borderwidth": 1,
           "tickwidth": 0
          },
          "ternary": {
           "aaxis": {
            "gridcolor": "#506784",
            "linecolor": "#506784",
            "ticks": ""
           },
           "baxis": {
            "gridcolor": "#506784",
            "linecolor": "#506784",
            "ticks": ""
           },
           "bgcolor": "rgb(17,17,17)",
           "caxis": {
            "gridcolor": "#506784",
            "linecolor": "#506784",
            "ticks": ""
           }
          },
          "title": {
           "x": 0.05
          },
          "updatemenudefaults": {
           "bgcolor": "#506784",
           "borderwidth": 0
          },
          "xaxis": {
           "automargin": true,
           "gridcolor": "#283442",
           "linecolor": "#506784",
           "ticks": "",
           "title": {
            "standoff": 15
           },
           "zerolinecolor": "#283442",
           "zerolinewidth": 2
          },
          "yaxis": {
           "automargin": true,
           "gridcolor": "#283442",
           "linecolor": "#506784",
           "ticks": "",
           "title": {
            "standoff": 15
           },
           "zerolinecolor": "#283442",
           "zerolinewidth": 2
          }
         }
        },
        "title": {
         "text": "OHLC vs Prediction Over Time"
        },
        "xaxis": {
         "rangeslider": {
          "visible": false
         }
        },
        "yaxis": {
         "tickformat": ".0f"
        },
        "yaxis2": {
         "overlaying": "y",
         "side": "right",
         "tickformat": ".0%"
        }
       }
      }
     },
     "metadata": {},
     "output_type": "display_data"
    }
   ],
   "source": [
    "import plotly.graph_objects as go\n",
    "\n",
    "# Pick a day in the test set\n",
    "test_day = '2023-12-21'\n",
    "test_df = df_results.loc[test_day:test_day]\n",
    "X_prices = spx_data.loc[test_day:test_day, ['open','high','low','close']]\n",
    "\n",
    "df_viz = test_df.merge(X_prices, left_index=True, right_index=True)\n",
    "\n",
    "fig = go.Figure(data=[go.Candlestick(x=df_viz.index,\n",
    "                open=df_viz['open'],\n",
    "                high=df_viz['high'],\n",
    "                low=df_viz['low'],\n",
    "                close=df_viz['close'])])\n",
    "\n",
    "fig.add_trace(go.Scatter(x=df_viz.index, y=df_viz['pred_hod'], mode='lines', name='pred_hod', yaxis='y2', line=dict(color='#ff5f5f')))\n",
    "fig.add_trace(go.Scatter(x=df_viz.index, y=df_viz['pred_lod'], mode='lines', name='pred_lod', yaxis='y2', line=dict(color='#3399cc')))\n",
    "fig.add_trace(go.Scatter(x=df_viz.index, y=df_viz['pred_gd'], mode='lines', name='pred_lod', yaxis='y2', line=dict(color='#98ff98')))\n",
    "\n",
    "fig.add_shape(\n",
    "    type=\"line\",\n",
    "    x0=df_viz.index.min(),\n",
    "    x1=df_viz.index.max(),\n",
    "    y0=0.5,\n",
    "    y1=0.5,\n",
    "    yref='y2',\n",
    "    line=dict(\n",
    "        color=\"Red\",\n",
    "        width=1.5,\n",
    "        dash=\"dash\",\n",
    "    )\n",
    ")\n",
    "\n",
    "fig.update_layout(\n",
    "    template='plotly_dark',\n",
    "    yaxis=dict(\n",
    "        tickformat='.0f'\n",
    "    ),\n",
    "    yaxis2=dict(\n",
    "        overlaying='y',\n",
    "        side='right',\n",
    "        tickformat=\".0%\"\n",
    "    ),\n",
    "    legend=dict(\n",
    "        orientation=\"h\",\n",
    "        yanchor=\"bottom\",\n",
    "        y=1.02,\n",
    "        xanchor=\"right\",\n",
    "        x=1\n",
    "    ),\n",
    "    title='OHLC vs Prediction Over Time',\n",
    "    xaxis_rangeslider_visible=False\n",
    ")\n",
    "\n",
    "fig.show()"
   ]
  },
  {
   "cell_type": "markdown",
   "metadata": {},
   "source": [
    "# Inference Pipeline"
   ]
  },
  {
   "cell_type": "code",
   "execution_count": 140,
   "metadata": {},
   "outputs": [],
   "source": [
    "# Get data\n",
    "import yfinance as yf\n",
    "import numpy as np\n",
    "import pandas as pd\n",
    "import datetime\n",
    "\n",
    "def create_features(ticker_str):\n",
    "    '''\n",
    "    Function to create dataframe of features for top/bottom model.\n",
    "    '''\n",
    "    ticker = yf.Ticker(ticker_str)\n",
    "    df = ticker.history(period='5d',interval='5m')\n",
    "    df = df.loc[\n",
    "        (df.index.time >= datetime.time(9,45)) &\\\n",
    "        (df.index.time < datetime.time(16,0)),\n",
    "    ['Open','High','Low','Close']]\n",
    "    df.columns = ['open','high','low','close']\n",
    "\n",
    "    df['time'] = df.index.time\n",
    "    df['eod_close'] = df.groupby(df.index.date)['close'].tail(1)\n",
    "    df['prev_close'] = df['eod_close'].shift(1)\n",
    "    df['prev_close'] = df['prev_close'].ffill()\n",
    "    df['eod_close'] = df['eod_close'].bfill()\n",
    "    df['green_day'] = df['eod_close'] > df['prev_close']\n",
    "\n",
    "    df['eod_close_pts'] = df['eod_close'] - df['prev_close']\n",
    "    df['eod_close_pct'] = df['eod_close_pts'] / df['prev_close']\n",
    "\n",
    "    for day in sorted(set(df.index.date)):\n",
    "        day_str = datetime.datetime.strftime(day, '%Y-%m-%d')\n",
    "        day_open = df.loc[day_str, 'open'].iloc[0]\n",
    "        df.loc[day_str, 'lod'] = df.loc[day_str, 'low'].min()\n",
    "        df.loc[day_str, 'label_lod'] = (df.loc[day_str, 'low'] == df.loc[day_str, 'lod']).astype(int)\n",
    "        \n",
    "        df.loc[day_str, 'hod'] = df.loc[day_str, 'high'].max()\n",
    "        df.loc[day_str, 'label'] = (df.loc[day_str, 'high'] == df.loc[day_str, 'hod']).astype(int)\n",
    "        df.loc[day_str, 'day_open'] = day_open\n",
    "        df.loc[day_str, 'day_open_pts'] = df.loc[day_str, 'close'] - df.loc[day_str, 'day_open']\n",
    "        df.loc[day_str, 'day_open_pct'] = df.loc[day_str, 'day_open_pts'] / df.loc[day_str, 'day_open']\n",
    "        df.loc[day_str, 'prev_close_pts'] = df.loc[day_str, 'close'] - df.loc[day_str, 'prev_close']\n",
    "        df.loc[day_str, 'prev_close_pct'] = df.loc[day_str, 'prev_close_pts'] / df.loc[day_str, 'prev_close']\n",
    "\n",
    "        # Lowest low\n",
    "        df.loc[day_str, 'lowest_low'] = df.loc[day_str, 'low'].expanding().min()\n",
    "        df.loc[day_str, 'lowest_low'] = df.loc[day_str, 'lowest_low'].shift(1)\n",
    "        df.loc[day_str, 'lowest_low'] = df.loc[day_str, 'lowest_low'].ffill()\n",
    "        df.loc[day_str, 'lowest_low_mag'] = (df.loc[day_str, 'close'] / df.loc[day_str, 'lowest_low']) - 1\n",
    "\n",
    "        # Highest high\n",
    "        df.loc[day_str, 'highest_high'] = df.loc[day_str, 'high'].expanding().max()\n",
    "        df.loc[day_str, 'highest_high'] = df.loc[day_str, 'highest_high'].shift(1)\n",
    "        df.loc[day_str, 'highest_high'] = df.loc[day_str, 'highest_high'].ffill()\n",
    "        df.loc[day_str, 'highest_high_mag'] = (df.loc[day_str, 'close'] / df.loc[day_str, 'highest_high']) - 1\n",
    "\n",
    "        # Shifted\n",
    "        df.loc[day_str, 'prev_close_pct_n1'] = df.loc[day_str, 'prev_close_pct'].shift(1)\n",
    "        df.loc[day_str, 'prev_close_pct_n2'] = df.loc[day_str, 'prev_close_pct'].shift(2)\n",
    "        df.loc[day_str, 'prev_close_pct_n3'] = df.loc[day_str, 'prev_close_pct'].shift(3)\n",
    "\n",
    "        df.loc[day_str, 'day_open_pct_n1'] = df.loc[day_str, 'day_open_pct'].shift(1)\n",
    "        df.loc[day_str, 'day_open_pct_n2'] = df.loc[day_str, 'day_open_pct'].shift(2)\n",
    "        df.loc[day_str, 'day_open_pct_n3'] = df.loc[day_str, 'day_open_pct'].shift(3)\n",
    "\n",
    "    df['gap_open'] = df['day_open'] - df['prev_close']\n",
    "    df['gap_open_pct'] = df['gap_open'] / df['prev_close']\n",
    "    return df.dropna(subset=[\n",
    "        'prev_close_pct',\n",
    "        'gap_open_pct',\n",
    "        'day_open_pct_n3',\n",
    "        'prev_close_pct_n3'\n",
    "    ])"
   ]
  },
  {
   "cell_type": "code",
   "execution_count": 141,
   "metadata": {},
   "outputs": [],
   "source": [
    "import joblib\n",
    "\n",
    "df_feats = create_features(tck)"
   ]
  },
  {
   "cell_type": "code",
   "execution_count": 142,
   "metadata": {},
   "outputs": [],
   "source": [
    "\n",
    "hod_model1 = joblib.load(ticker_dict[tck]['hod_model'])\n",
    "lod_model1 = joblib.load(ticker_dict[tck]['lod_model'])\n",
    "gd_model1 = joblib.load(ticker_dict[tck]['gd_model'])\n",
    "\n",
    "def create_preds_df(df_feats):\n",
    "    predicted_proba_hod = hod_model1.predict_proba(df_feats)[:,-1]\n",
    "    predicted_proba_lod = lod_model1.predict_proba(df_feats)[:,-1]\n",
    "    predicted_proba_gd = gd_model1.predict_proba(df_feats)[:,-1]\n",
    "    df_viz = df_feats.copy()\n",
    "    df_viz['pred_hod'] = predicted_proba_hod\n",
    "    df_viz['pred_lod'] = predicted_proba_lod\n",
    "    df_viz['pred_gd'] = predicted_proba_gd\n",
    "    return df_viz\n",
    "\n",
    "df_viz = create_preds_df(df_feats)"
   ]
  },
  {
   "cell_type": "code",
   "execution_count": 143,
   "metadata": {},
   "outputs": [],
   "source": [
    "# Create df for visual\n",
    "def create_viz(df_viz, date_str):\n",
    "\n",
    "    df_use = df_viz.loc[date_str:date_str]\n",
    "    \n",
    "    fig = go.Figure(data=[go.Candlestick(x=df_use.index,\n",
    "                open=df_use['open'],\n",
    "                high=df_use['high'],\n",
    "                low=df_use['low'],\n",
    "                close=df_use['close'])])\n",
    "\n",
    "    fig.add_trace(go.Scatter(x=df_use.index, y=df_use['pred_hod'], mode='lines', name='pred_hod', yaxis='y2', line=dict(color='#ff5f5f')))\n",
    "    fig.add_trace(go.Scatter(x=df_use.index, y=df_use['pred_lod'], mode='lines', name='pred_lod', yaxis='y2', line=dict(color='#3399cc')))\n",
    "    fig.add_trace(go.Scatter(x=df_use.index, y=df_use['pred_gd'], mode='lines', name='pred_gd', yaxis='y2', line=dict(color='#9400d3')))\n",
    "\n",
    "\n",
    "    fig.add_shape(\n",
    "        type=\"line\",\n",
    "        x0=df_use.index.min(),\n",
    "        x1=df_use.index.max(),\n",
    "        y0=0.5,\n",
    "        y1=0.5,\n",
    "        yref='y2',\n",
    "        line=dict(\n",
    "            color=\"Red\",\n",
    "            width=1.5,\n",
    "            dash=\"dash\",\n",
    "        )\n",
    "    )\n",
    "\n",
    "    max_high = df_use['high'].max()\n",
    "    max_high_time = df_use['high'].idxmax()\n",
    "\n",
    "    min_low = df_use['low'].min()\n",
    "    min_low_time = df_use['low'].idxmin()\n",
    "\n",
    "    fig.add_annotation(\n",
    "        x=max_high_time,\n",
    "        y=max_high,\n",
    "        text=f\"{str(int(max_high))}\",\n",
    "        showarrow=True,\n",
    "        font=dict(\n",
    "            family=\"Courier New, monospace\",\n",
    "            size=12,\n",
    "            color=\"#ffffff\"\n",
    "        ),\n",
    "        align=\"center\",\n",
    "        arrowhead=2,\n",
    "        arrowsize=1,\n",
    "        arrowwidth=2,\n",
    "        arrowcolor=\"#636363\",\n",
    "        ax=20,\n",
    "        ay=-30,\n",
    "        bordercolor=\"#c7c7c7\",\n",
    "        borderwidth=1,\n",
    "        borderpad=1,\n",
    "        bgcolor=\"#ff5f5f\",\n",
    "        opacity=0.8\n",
    "    )\n",
    "\n",
    "    fig.add_annotation(\n",
    "        x=min_low_time,\n",
    "        y=min_low,\n",
    "        text=f\"{str(int(min_low))}\",\n",
    "        showarrow=True,\n",
    "        font=dict(\n",
    "            family=\"Courier New, monospace\",\n",
    "            size=12,\n",
    "            color=\"#ffffff\"\n",
    "        ),\n",
    "        align=\"center\",\n",
    "        arrowhead=2,\n",
    "        arrowsize=1,\n",
    "        arrowwidth=2,\n",
    "        arrowcolor=\"#636363\",\n",
    "        ax=20,\n",
    "        ay=30,  # Adjust the y offset for the annotation\n",
    "        bordercolor=\"#c7c7c7\",\n",
    "        borderwidth=1,\n",
    "        borderpad=1,\n",
    "        bgcolor=\"#3399cc\",\n",
    "        opacity=0.8\n",
    "    )\n",
    "\n",
    "    fig.update_layout(\n",
    "        template='plotly_dark',\n",
    "        yaxis=dict(\n",
    "            tickformat='.0f'\n",
    "        ),\n",
    "        yaxis2=dict(\n",
    "            overlaying='y',\n",
    "            side='right',\n",
    "            tickformat=\".0%\"\n",
    "        ),\n",
    "        legend=dict(\n",
    "            orientation=\"h\",\n",
    "            yanchor=\"bottom\",\n",
    "            y=1.02,\n",
    "            xanchor=\"right\",\n",
    "            x=1\n",
    "        ),\n",
    "        title='OHLC vs Prediction Over Time',\n",
    "        xaxis_rangeslider_visible=False\n",
    "    )\n",
    "\n",
    "    fig.show()\n",
    "    "
   ]
  },
  {
   "cell_type": "code",
   "execution_count": 144,
   "metadata": {},
   "outputs": [
    {
     "data": {
      "application/vnd.plotly.v1+json": {
       "config": {
        "plotlyServerURL": "https://plot.ly"
       },
       "data": [
        {
         "close": [
          2029.310791015625,
          2028.8345947265625,
          2025.771728515625,
          2027.0130615234375,
          2027.511474609375,
          2024.2796630859375,
          2020.3096923828125,
          2017.5687255859375,
          2020.716552734375,
          2019.6007080078125,
          2020.16748046875,
          2016.3441162109375,
          2018.78857421875,
          2019.098876953125,
          2019.8243408203125,
          2021.802001953125,
          2022.191650390625,
          2022.4703369140625,
          2021.5191650390625,
          2023.037109375,
          2023.8907470703125,
          2026.6357421875,
          2027.02734375,
          2027.48779296875,
          2029.0439453125,
          2028.9483642578125,
          2031.6981201171875,
          2030.0791015625,
          2030.733642578125,
          2029.68115234375,
          2030.2647705078125,
          2031.8951416015625,
          2032.045166015625,
          2029.0902099609375,
          2028.399658203125,
          2026.5848388671875,
          2025.345947265625,
          2021.85595703125,
          2023.530517578125,
          2023.4931640625,
          2023.32177734375,
          2022.6468505859375,
          2022.238037109375,
          2021.58251953125,
          2021.00244140625,
          2020.510986328125,
          2018.621826171875,
          2016.6036376953125,
          2015.3013916015625,
          2014.027099609375,
          2015.0535888671875,
          2013.3607177734375,
          2012.207275390625,
          2013.505126953125,
          2012.1405029296875,
          2010.8515625,
          2010.5455322265625,
          2010.767333984375,
          2008.9429931640625,
          2008.0128173828125,
          2005.358642578125,
          2006.507568359375,
          2004.571044921875,
          2006.95556640625,
          2006.1748046875,
          2006.23095703125,
          2005.9256591796875,
          2003.695068359375,
          2005.121337890625,
          2005.0048828125,
          2010.345947265625,
          2012.150390625
         ],
         "high": [
          2030.4227294921875,
          2029.6708984375,
          2029.505126953125,
          2027.153076171875,
          2028.3717041015625,
          2027.465087890625,
          2024.3243408203125,
          2020.267578125,
          2020.8526611328125,
          2020.8321533203125,
          2021.451904296875,
          2020.159912109375,
          2018.78857421875,
          2019.098876953125,
          2020.5450439453125,
          2022.1124267578125,
          2022.191650390625,
          2022.528564453125,
          2022.466552734375,
          2023.039794921875,
          2023.8907470703125,
          2026.6357421875,
          2027.06201171875,
          2027.48779296875,
          2029.070556640625,
          2029.082763671875,
          2031.726318359375,
          2031.6927490234375,
          2031.73486328125,
          2030.69384765625,
          2030.4739990234375,
          2031.8951416015625,
          2032.4888916015625,
          2032.0584716796875,
          2029.262939453125,
          2028.412841796875,
          2026.4892578125,
          2025.3829345703125,
          2023.5556640625,
          2023.7978515625,
          2023.49462890625,
          2023.5191650390625,
          2022.6058349609375,
          2022.6053466796875,
          2021.5706787109375,
          2021.514892578125,
          2020.474365234375,
          2018.5958251953125,
          2016.5611572265625,
          2015.2576904296875,
          2015.6842041015625,
          2015.0518798828125,
          2013.3328857421875,
          2013.505126953125,
          2013.64404296875,
          2012.1319580078125,
          2010.8294677734375,
          2011.5758056640625,
          2010.710693359375,
          2008.92333984375,
          2007.9171142578125,
          2006.62255859375,
          2006.966796875,
          2006.95556640625,
          2007.0675048828125,
          2006.248046875,
          2006.847412109375,
          2005.825439453125,
          2005.121337890625,
          2005.34765625,
          2010.385498046875,
          2012.625
         ],
         "low": [
          2024.6875,
          2028.27294921875,
          2025.771728515625,
          2025.3369140625,
          2026.232421875,
          2023.4908447265625,
          2020.3096923828125,
          2017.41748046875,
          2017.5272216796875,
          2019.4371337890625,
          2019.4742431640625,
          2016.3441162109375,
          2016.39306640625,
          2017.7593994140625,
          2019.136962890625,
          2019.9527587890625,
          2020.672119140625,
          2022.179443359375,
          2021.5191650390625,
          2021.3836669921875,
          2023.0859375,
          2023.965087890625,
          2026.67138671875,
          2026.9661865234375,
          2027.5484619140625,
          2028.84130859375,
          2028.9483642578125,
          2029.776611328125,
          2030.075927734375,
          2029.68115234375,
          2029.6390380859375,
          2030.2855224609375,
          2031.912109375,
          2029.08544921875,
          2028.33447265625,
          2026.507080078125,
          2025.309326171875,
          2021.85595703125,
          2021.65576171875,
          2023.1114501953125,
          2023.0096435546875,
          2022.6468505859375,
          2021.8209228515625,
          2021.58251953125,
          2020.996826171875,
          2020.510986328125,
          2018.621826171875,
          2016.6036376953125,
          2015.3013916015625,
          2013.8236083984375,
          2014.037109375,
          2013.3521728515625,
          2012.19970703125,
          2012.1397705078125,
          2012.1405029296875,
          2010.8515625,
          2010.406005859375,
          2010.5203857421875,
          2008.9344482421875,
          2008.0128173828125,
          2005.358642578125,
          2005.082275390625,
          2004.571044921875,
          2004.0625,
          2005.3565673828125,
          2005.1629638671875,
          2005.9256591796875,
          2003.689453125,
          2003.405517578125,
          2004.2294921875,
          2005.0284423828125,
          2010.2708740234375
         ],
         "open": [
          2024.6875,
          2029.265625,
          2028.92431640625,
          2025.765869140625,
          2026.900634765625,
          2027.453125,
          2024.2742919921875,
          2020.267578125,
          2017.5662841796875,
          2020.740478515625,
          2019.58251953125,
          2020.159912109375,
          2016.43896484375,
          2017.917724609375,
          2019.136962890625,
          2019.9527587890625,
          2021.7769775390625,
          2022.191650390625,
          2022.466552734375,
          2021.50732421875,
          2023.0859375,
          2023.9842529296875,
          2026.678466796875,
          2027.021484375,
          2027.5484619140625,
          2029.0667724609375,
          2028.9483642578125,
          2031.6927490234375,
          2030.07861328125,
          2030.69384765625,
          2029.6796875,
          2030.2855224609375,
          2031.912109375,
          2032.0584716796875,
          2029.09228515625,
          2028.3955078125,
          2026.4892578125,
          2025.323974609375,
          2021.82763671875,
          2023.53271484375,
          2023.473388671875,
          2023.3385009765625,
          2022.6058349609375,
          2022.26123046875,
          2021.5706787109375,
          2020.961669921875,
          2020.474365234375,
          2018.5958251953125,
          2016.5611572265625,
          2015.2576904296875,
          2014.0780029296875,
          2015.0518798828125,
          2013.3328857421875,
          2012.220458984375,
          2013.5301513671875,
          2012.1319580078125,
          2010.8294677734375,
          2010.537841796875,
          2010.710693359375,
          2008.92333984375,
          2007.9171142578125,
          2005.3465576171875,
          2006.5093994140625,
          2004.5478515625,
          2006.950927734375,
          2006.1787109375,
          2006.241943359375,
          2005.825439453125,
          2003.6561279296875,
          2005.10009765625,
          2005.0284423828125,
          2010.32470703125
         ],
         "type": "candlestick",
         "x": [
          "2024-01-02T10:00:00-05:00",
          "2024-01-02T10:05:00-05:00",
          "2024-01-02T10:10:00-05:00",
          "2024-01-02T10:15:00-05:00",
          "2024-01-02T10:20:00-05:00",
          "2024-01-02T10:25:00-05:00",
          "2024-01-02T10:30:00-05:00",
          "2024-01-02T10:35:00-05:00",
          "2024-01-02T10:40:00-05:00",
          "2024-01-02T10:45:00-05:00",
          "2024-01-02T10:50:00-05:00",
          "2024-01-02T10:55:00-05:00",
          "2024-01-02T11:00:00-05:00",
          "2024-01-02T11:05:00-05:00",
          "2024-01-02T11:10:00-05:00",
          "2024-01-02T11:15:00-05:00",
          "2024-01-02T11:20:00-05:00",
          "2024-01-02T11:25:00-05:00",
          "2024-01-02T11:30:00-05:00",
          "2024-01-02T11:35:00-05:00",
          "2024-01-02T11:40:00-05:00",
          "2024-01-02T11:45:00-05:00",
          "2024-01-02T11:50:00-05:00",
          "2024-01-02T11:55:00-05:00",
          "2024-01-02T12:00:00-05:00",
          "2024-01-02T12:05:00-05:00",
          "2024-01-02T12:10:00-05:00",
          "2024-01-02T12:15:00-05:00",
          "2024-01-02T12:20:00-05:00",
          "2024-01-02T12:25:00-05:00",
          "2024-01-02T12:30:00-05:00",
          "2024-01-02T12:35:00-05:00",
          "2024-01-02T12:40:00-05:00",
          "2024-01-02T12:45:00-05:00",
          "2024-01-02T12:50:00-05:00",
          "2024-01-02T12:55:00-05:00",
          "2024-01-02T13:00:00-05:00",
          "2024-01-02T13:05:00-05:00",
          "2024-01-02T13:10:00-05:00",
          "2024-01-02T13:15:00-05:00",
          "2024-01-02T13:20:00-05:00",
          "2024-01-02T13:25:00-05:00",
          "2024-01-02T13:30:00-05:00",
          "2024-01-02T13:35:00-05:00",
          "2024-01-02T13:40:00-05:00",
          "2024-01-02T13:45:00-05:00",
          "2024-01-02T13:50:00-05:00",
          "2024-01-02T13:55:00-05:00",
          "2024-01-02T14:00:00-05:00",
          "2024-01-02T14:05:00-05:00",
          "2024-01-02T14:10:00-05:00",
          "2024-01-02T14:15:00-05:00",
          "2024-01-02T14:20:00-05:00",
          "2024-01-02T14:25:00-05:00",
          "2024-01-02T14:30:00-05:00",
          "2024-01-02T14:35:00-05:00",
          "2024-01-02T14:40:00-05:00",
          "2024-01-02T14:45:00-05:00",
          "2024-01-02T14:50:00-05:00",
          "2024-01-02T14:55:00-05:00",
          "2024-01-02T15:00:00-05:00",
          "2024-01-02T15:05:00-05:00",
          "2024-01-02T15:10:00-05:00",
          "2024-01-02T15:15:00-05:00",
          "2024-01-02T15:20:00-05:00",
          "2024-01-02T15:25:00-05:00",
          "2024-01-02T15:30:00-05:00",
          "2024-01-02T15:35:00-05:00",
          "2024-01-02T15:40:00-05:00",
          "2024-01-02T15:45:00-05:00",
          "2024-01-02T15:50:00-05:00",
          "2024-01-02T15:55:00-05:00"
         ]
        },
        {
         "line": {
          "color": "#ff5f5f"
         },
         "mode": "lines",
         "name": "pred_hod",
         "type": "scatter",
         "x": [
          "2024-01-02T10:00:00-05:00",
          "2024-01-02T10:05:00-05:00",
          "2024-01-02T10:10:00-05:00",
          "2024-01-02T10:15:00-05:00",
          "2024-01-02T10:20:00-05:00",
          "2024-01-02T10:25:00-05:00",
          "2024-01-02T10:30:00-05:00",
          "2024-01-02T10:35:00-05:00",
          "2024-01-02T10:40:00-05:00",
          "2024-01-02T10:45:00-05:00",
          "2024-01-02T10:50:00-05:00",
          "2024-01-02T10:55:00-05:00",
          "2024-01-02T11:00:00-05:00",
          "2024-01-02T11:05:00-05:00",
          "2024-01-02T11:10:00-05:00",
          "2024-01-02T11:15:00-05:00",
          "2024-01-02T11:20:00-05:00",
          "2024-01-02T11:25:00-05:00",
          "2024-01-02T11:30:00-05:00",
          "2024-01-02T11:35:00-05:00",
          "2024-01-02T11:40:00-05:00",
          "2024-01-02T11:45:00-05:00",
          "2024-01-02T11:50:00-05:00",
          "2024-01-02T11:55:00-05:00",
          "2024-01-02T12:00:00-05:00",
          "2024-01-02T12:05:00-05:00",
          "2024-01-02T12:10:00-05:00",
          "2024-01-02T12:15:00-05:00",
          "2024-01-02T12:20:00-05:00",
          "2024-01-02T12:25:00-05:00",
          "2024-01-02T12:30:00-05:00",
          "2024-01-02T12:35:00-05:00",
          "2024-01-02T12:40:00-05:00",
          "2024-01-02T12:45:00-05:00",
          "2024-01-02T12:50:00-05:00",
          "2024-01-02T12:55:00-05:00",
          "2024-01-02T13:00:00-05:00",
          "2024-01-02T13:05:00-05:00",
          "2024-01-02T13:10:00-05:00",
          "2024-01-02T13:15:00-05:00",
          "2024-01-02T13:20:00-05:00",
          "2024-01-02T13:25:00-05:00",
          "2024-01-02T13:30:00-05:00",
          "2024-01-02T13:35:00-05:00",
          "2024-01-02T13:40:00-05:00",
          "2024-01-02T13:45:00-05:00",
          "2024-01-02T13:50:00-05:00",
          "2024-01-02T13:55:00-05:00",
          "2024-01-02T14:00:00-05:00",
          "2024-01-02T14:05:00-05:00",
          "2024-01-02T14:10:00-05:00",
          "2024-01-02T14:15:00-05:00",
          "2024-01-02T14:20:00-05:00",
          "2024-01-02T14:25:00-05:00",
          "2024-01-02T14:30:00-05:00",
          "2024-01-02T14:35:00-05:00",
          "2024-01-02T14:40:00-05:00",
          "2024-01-02T14:45:00-05:00",
          "2024-01-02T14:50:00-05:00",
          "2024-01-02T14:55:00-05:00",
          "2024-01-02T15:00:00-05:00",
          "2024-01-02T15:05:00-05:00",
          "2024-01-02T15:10:00-05:00",
          "2024-01-02T15:15:00-05:00",
          "2024-01-02T15:20:00-05:00",
          "2024-01-02T15:25:00-05:00",
          "2024-01-02T15:30:00-05:00",
          "2024-01-02T15:35:00-05:00",
          "2024-01-02T15:40:00-05:00",
          "2024-01-02T15:45:00-05:00",
          "2024-01-02T15:50:00-05:00",
          "2024-01-02T15:55:00-05:00"
         ],
         "y": [
          0.035616186425268224,
          0.15127626553724904,
          0.291171307942694,
          0.225989151664048,
          0.20352940906398556,
          0.3506983112390811,
          0.49910428324103284,
          0.628070293980125,
          0.5230624829594637,
          0.5545341215895574,
          0.5566767999998458,
          0.7417707811547191,
          0.6370414992995828,
          0.6060920905931457,
          0.6248532283844761,
          0.5705901227555726,
          0.4838362073067574,
          0.4775271394697799,
          0.6202734092969346,
          0.49794431696112224,
          0.5201091162694494,
          0.31791575216312096,
          0.31203318542874114,
          0.27525869430059685,
          0.21938100333331662,
          0.22778551837262997,
          0.03861688760518801,
          0.1889174395347539,
          0.16390744332110926,
          0.19731686057461323,
          0.176965533083212,
          0.048789321836173016,
          0.05900361012867928,
          0.30023927820639856,
          0.38266677916726105,
          0.4999189602512642,
          0.5941816348244743,
          0.786565176615867,
          0.7557314723431968,
          0.7557314723431968,
          0.7971126447539842,
          0.7871460573880524,
          0.8136890790021916,
          0.8616242660859396,
          0.875322102313953,
          0.8941476314722041,
          0.9125860807086442,
          0.9472438539142013,
          0.9541700772848154,
          0.956633312183166,
          0.9649798245017077,
          0.9655802709645467,
          0.9683633743638798,
          0.966922652534667,
          0.9719620748478691,
          0.9777244612236571,
          0.9811853896821011,
          0.9814436192598927,
          0.986474466839491,
          0.9885422335300151,
          0.9909368453875665,
          0.9909805425676751,
          0.9927032246448599,
          0.9914166508623816,
          0.9927604986540247,
          0.9927332777471863,
          0.9946587738850209,
          0.9955602679315609,
          0.9959925638688841,
          0.9961350815165959,
          0.9963955570379425,
          0.9990412141153493
         ],
         "yaxis": "y2"
        },
        {
         "line": {
          "color": "#3399cc"
         },
         "mode": "lines",
         "name": "pred_lod",
         "type": "scatter",
         "x": [
          "2024-01-02T10:00:00-05:00",
          "2024-01-02T10:05:00-05:00",
          "2024-01-02T10:10:00-05:00",
          "2024-01-02T10:15:00-05:00",
          "2024-01-02T10:20:00-05:00",
          "2024-01-02T10:25:00-05:00",
          "2024-01-02T10:30:00-05:00",
          "2024-01-02T10:35:00-05:00",
          "2024-01-02T10:40:00-05:00",
          "2024-01-02T10:45:00-05:00",
          "2024-01-02T10:50:00-05:00",
          "2024-01-02T10:55:00-05:00",
          "2024-01-02T11:00:00-05:00",
          "2024-01-02T11:05:00-05:00",
          "2024-01-02T11:10:00-05:00",
          "2024-01-02T11:15:00-05:00",
          "2024-01-02T11:20:00-05:00",
          "2024-01-02T11:25:00-05:00",
          "2024-01-02T11:30:00-05:00",
          "2024-01-02T11:35:00-05:00",
          "2024-01-02T11:40:00-05:00",
          "2024-01-02T11:45:00-05:00",
          "2024-01-02T11:50:00-05:00",
          "2024-01-02T11:55:00-05:00",
          "2024-01-02T12:00:00-05:00",
          "2024-01-02T12:05:00-05:00",
          "2024-01-02T12:10:00-05:00",
          "2024-01-02T12:15:00-05:00",
          "2024-01-02T12:20:00-05:00",
          "2024-01-02T12:25:00-05:00",
          "2024-01-02T12:30:00-05:00",
          "2024-01-02T12:35:00-05:00",
          "2024-01-02T12:40:00-05:00",
          "2024-01-02T12:45:00-05:00",
          "2024-01-02T12:50:00-05:00",
          "2024-01-02T12:55:00-05:00",
          "2024-01-02T13:00:00-05:00",
          "2024-01-02T13:05:00-05:00",
          "2024-01-02T13:10:00-05:00",
          "2024-01-02T13:15:00-05:00",
          "2024-01-02T13:20:00-05:00",
          "2024-01-02T13:25:00-05:00",
          "2024-01-02T13:30:00-05:00",
          "2024-01-02T13:35:00-05:00",
          "2024-01-02T13:40:00-05:00",
          "2024-01-02T13:45:00-05:00",
          "2024-01-02T13:50:00-05:00",
          "2024-01-02T13:55:00-05:00",
          "2024-01-02T14:00:00-05:00",
          "2024-01-02T14:05:00-05:00",
          "2024-01-02T14:10:00-05:00",
          "2024-01-02T14:15:00-05:00",
          "2024-01-02T14:20:00-05:00",
          "2024-01-02T14:25:00-05:00",
          "2024-01-02T14:30:00-05:00",
          "2024-01-02T14:35:00-05:00",
          "2024-01-02T14:40:00-05:00",
          "2024-01-02T14:45:00-05:00",
          "2024-01-02T14:50:00-05:00",
          "2024-01-02T14:55:00-05:00",
          "2024-01-02T15:00:00-05:00",
          "2024-01-02T15:05:00-05:00",
          "2024-01-02T15:10:00-05:00",
          "2024-01-02T15:15:00-05:00",
          "2024-01-02T15:20:00-05:00",
          "2024-01-02T15:25:00-05:00",
          "2024-01-02T15:30:00-05:00",
          "2024-01-02T15:35:00-05:00",
          "2024-01-02T15:40:00-05:00",
          "2024-01-02T15:45:00-05:00",
          "2024-01-02T15:50:00-05:00",
          "2024-01-02T15:55:00-05:00"
         ],
         "y": [
          0.6413542988139936,
          0.6481112694665339,
          0.5091434414862129,
          0.5682786969112165,
          0.5875772363601773,
          0.505359608394633,
          0.32204273534936756,
          0.19761522912830112,
          0.3533032953266117,
          0.3231822978536202,
          0.3647276952678972,
          0.12102499274317309,
          0.2665168722793825,
          0.29269914417224396,
          0.3508480934364206,
          0.5017783690985925,
          0.5311154708855528,
          0.5669525077478149,
          0.5288508106830172,
          0.5918376604196941,
          0.6865639933611241,
          0.7855692019525613,
          0.8112356963184592,
          0.8147475816777069,
          0.8890868665405472,
          0.8955711359365008,
          0.9285180183622839,
          0.9056168531769659,
          0.9267059350183385,
          0.9005113135004542,
          0.9341279342768586,
          0.9469775330068965,
          0.9535856015788801,
          0.9086791031708302,
          0.8542182968762148,
          0.7344016083332859,
          0.6433281139572786,
          0.5373326650087162,
          0.5605458899761704,
          0.5616192707218609,
          0.7589706187370281,
          0.6086947688015428,
          0.5802547337681415,
          0.5744546538121426,
          0.5437315365086254,
          0.5167715265638027,
          0.39612592801259006,
          0.20652250735129005,
          0.0697313463974065,
          0.05586706486774624,
          0.24338970918124314,
          0.08244250718043894,
          0.06777893616700865,
          0.305385450760716,
          0.11367836497809962,
          0.0651168251838021,
          0.08318614413016971,
          0.14762925138410418,
          0.06912605217475765,
          0.06940908254606859,
          0.05819140055016887,
          0.3669573821079042,
          0.08375210406392833,
          0.5061027586342268,
          0.5220741517657512,
          0.5237848169626624,
          0.48567270602763896,
          0.10616097370074211,
          0.45144730387718285,
          0.5466245123614558,
          0.9777224819569653,
          0.9988116145992656
         ],
         "yaxis": "y2"
        },
        {
         "line": {
          "color": "#9400d3"
         },
         "mode": "lines",
         "name": "pred_gd",
         "type": "scatter",
         "x": [
          "2024-01-02T10:00:00-05:00",
          "2024-01-02T10:05:00-05:00",
          "2024-01-02T10:10:00-05:00",
          "2024-01-02T10:15:00-05:00",
          "2024-01-02T10:20:00-05:00",
          "2024-01-02T10:25:00-05:00",
          "2024-01-02T10:30:00-05:00",
          "2024-01-02T10:35:00-05:00",
          "2024-01-02T10:40:00-05:00",
          "2024-01-02T10:45:00-05:00",
          "2024-01-02T10:50:00-05:00",
          "2024-01-02T10:55:00-05:00",
          "2024-01-02T11:00:00-05:00",
          "2024-01-02T11:05:00-05:00",
          "2024-01-02T11:10:00-05:00",
          "2024-01-02T11:15:00-05:00",
          "2024-01-02T11:20:00-05:00",
          "2024-01-02T11:25:00-05:00",
          "2024-01-02T11:30:00-05:00",
          "2024-01-02T11:35:00-05:00",
          "2024-01-02T11:40:00-05:00",
          "2024-01-02T11:45:00-05:00",
          "2024-01-02T11:50:00-05:00",
          "2024-01-02T11:55:00-05:00",
          "2024-01-02T12:00:00-05:00",
          "2024-01-02T12:05:00-05:00",
          "2024-01-02T12:10:00-05:00",
          "2024-01-02T12:15:00-05:00",
          "2024-01-02T12:20:00-05:00",
          "2024-01-02T12:25:00-05:00",
          "2024-01-02T12:30:00-05:00",
          "2024-01-02T12:35:00-05:00",
          "2024-01-02T12:40:00-05:00",
          "2024-01-02T12:45:00-05:00",
          "2024-01-02T12:50:00-05:00",
          "2024-01-02T12:55:00-05:00",
          "2024-01-02T13:00:00-05:00",
          "2024-01-02T13:05:00-05:00",
          "2024-01-02T13:10:00-05:00",
          "2024-01-02T13:15:00-05:00",
          "2024-01-02T13:20:00-05:00",
          "2024-01-02T13:25:00-05:00",
          "2024-01-02T13:30:00-05:00",
          "2024-01-02T13:35:00-05:00",
          "2024-01-02T13:40:00-05:00",
          "2024-01-02T13:45:00-05:00",
          "2024-01-02T13:50:00-05:00",
          "2024-01-02T13:55:00-05:00",
          "2024-01-02T14:00:00-05:00",
          "2024-01-02T14:05:00-05:00",
          "2024-01-02T14:10:00-05:00",
          "2024-01-02T14:15:00-05:00",
          "2024-01-02T14:20:00-05:00",
          "2024-01-02T14:25:00-05:00",
          "2024-01-02T14:30:00-05:00",
          "2024-01-02T14:35:00-05:00",
          "2024-01-02T14:40:00-05:00",
          "2024-01-02T14:45:00-05:00",
          "2024-01-02T14:50:00-05:00",
          "2024-01-02T14:55:00-05:00",
          "2024-01-02T15:00:00-05:00",
          "2024-01-02T15:05:00-05:00",
          "2024-01-02T15:10:00-05:00",
          "2024-01-02T15:15:00-05:00",
          "2024-01-02T15:20:00-05:00",
          "2024-01-02T15:25:00-05:00",
          "2024-01-02T15:30:00-05:00",
          "2024-01-02T15:35:00-05:00",
          "2024-01-02T15:40:00-05:00",
          "2024-01-02T15:45:00-05:00",
          "2024-01-02T15:50:00-05:00",
          "2024-01-02T15:55:00-05:00"
         ],
         "y": [
          0.6559327335261655,
          0.6492699599007168,
          0.48413208726685664,
          0.4996002786960346,
          0.534772380048084,
          0.4655191059285858,
          0.3141772581634845,
          0.2898050459189625,
          0.30640702519361723,
          0.26390076386123396,
          0.26162061034857914,
          0.1578128705549346,
          0.231556486596841,
          0.231556486596841,
          0.24624052934575485,
          0.35490124497309516,
          0.3888086031196655,
          0.39789253332951324,
          0.2898909826713223,
          0.41337581878620855,
          0.4153317017046554,
          0.49643808130612005,
          0.5026958208889031,
          0.516587054491426,
          0.6743033702253758,
          0.6743033702253758,
          0.7414162950684529,
          0.6806797762627311,
          0.7321887877404996,
          0.6736241289447813,
          0.7311327089427926,
          0.7784140188416061,
          0.7900323459412414,
          0.6004679151920832,
          0.5646819782986745,
          0.45676361032640117,
          0.4004643139423415,
          0.2668085208721645,
          0.3342963757841246,
          0.3342963757841246,
          0.32920084155194906,
          0.27210122903449757,
          0.24941302537783105,
          0.2036071282168938,
          0.17766609713534706,
          0.16039435783409534,
          0.08844920450423152,
          0.051102963483442454,
          0.04147374691505863,
          0.04322496486127647,
          0.041349220726598246,
          0.033351680047044856,
          0.037820616374463246,
          0.033322137977996026,
          0.037408753815682275,
          0.0310591471117874,
          0.0304581623189779,
          0.025232572574457986,
          0.021374383978872032,
          0.014978804030909657,
          0.011742461693608928,
          0.018438866106826525,
          0.014774712936442502,
          0.04297460740081043,
          0.02532875648610487,
          0.02532875648610487,
          0.02028820238126515,
          0.00957465828069614,
          0.01279894615536105,
          0.015493747966459833,
          0.022181882766190094,
          0.024345992832950424
         ],
         "yaxis": "y2"
        }
       ],
       "layout": {
        "annotations": [
         {
          "align": "center",
          "arrowcolor": "#636363",
          "arrowhead": 2,
          "arrowsize": 1,
          "arrowwidth": 2,
          "ax": 20,
          "ay": -30,
          "bgcolor": "#ff5f5f",
          "bordercolor": "#c7c7c7",
          "borderpad": 1,
          "borderwidth": 1,
          "font": {
           "color": "#ffffff",
           "family": "Courier New, monospace",
           "size": 12
          },
          "opacity": 0.8,
          "showarrow": true,
          "text": "2032",
          "x": "2024-01-02T12:40:00-05:00",
          "y": 2032.4888916015625
         },
         {
          "align": "center",
          "arrowcolor": "#636363",
          "arrowhead": 2,
          "arrowsize": 1,
          "arrowwidth": 2,
          "ax": 20,
          "ay": 30,
          "bgcolor": "#3399cc",
          "bordercolor": "#c7c7c7",
          "borderpad": 1,
          "borderwidth": 1,
          "font": {
           "color": "#ffffff",
           "family": "Courier New, monospace",
           "size": 12
          },
          "opacity": 0.8,
          "showarrow": true,
          "text": "2003",
          "x": "2024-01-02T15:40:00-05:00",
          "y": 2003.405517578125
         }
        ],
        "legend": {
         "orientation": "h",
         "x": 1,
         "xanchor": "right",
         "y": 1.02,
         "yanchor": "bottom"
        },
        "shapes": [
         {
          "line": {
           "color": "Red",
           "dash": "dash",
           "width": 1.5
          },
          "type": "line",
          "x0": "2024-01-02T10:00:00-05:00",
          "x1": "2024-01-02T15:55:00-05:00",
          "y0": 0.5,
          "y1": 0.5,
          "yref": "y2"
         }
        ],
        "template": {
         "data": {
          "bar": [
           {
            "error_x": {
             "color": "#f2f5fa"
            },
            "error_y": {
             "color": "#f2f5fa"
            },
            "marker": {
             "line": {
              "color": "rgb(17,17,17)",
              "width": 0.5
             },
             "pattern": {
              "fillmode": "overlay",
              "size": 10,
              "solidity": 0.2
             }
            },
            "type": "bar"
           }
          ],
          "barpolar": [
           {
            "marker": {
             "line": {
              "color": "rgb(17,17,17)",
              "width": 0.5
             },
             "pattern": {
              "fillmode": "overlay",
              "size": 10,
              "solidity": 0.2
             }
            },
            "type": "barpolar"
           }
          ],
          "carpet": [
           {
            "aaxis": {
             "endlinecolor": "#A2B1C6",
             "gridcolor": "#506784",
             "linecolor": "#506784",
             "minorgridcolor": "#506784",
             "startlinecolor": "#A2B1C6"
            },
            "baxis": {
             "endlinecolor": "#A2B1C6",
             "gridcolor": "#506784",
             "linecolor": "#506784",
             "minorgridcolor": "#506784",
             "startlinecolor": "#A2B1C6"
            },
            "type": "carpet"
           }
          ],
          "choropleth": [
           {
            "colorbar": {
             "outlinewidth": 0,
             "ticks": ""
            },
            "type": "choropleth"
           }
          ],
          "contour": [
           {
            "colorbar": {
             "outlinewidth": 0,
             "ticks": ""
            },
            "colorscale": [
             [
              0,
              "#0d0887"
             ],
             [
              0.1111111111111111,
              "#46039f"
             ],
             [
              0.2222222222222222,
              "#7201a8"
             ],
             [
              0.3333333333333333,
              "#9c179e"
             ],
             [
              0.4444444444444444,
              "#bd3786"
             ],
             [
              0.5555555555555556,
              "#d8576b"
             ],
             [
              0.6666666666666666,
              "#ed7953"
             ],
             [
              0.7777777777777778,
              "#fb9f3a"
             ],
             [
              0.8888888888888888,
              "#fdca26"
             ],
             [
              1,
              "#f0f921"
             ]
            ],
            "type": "contour"
           }
          ],
          "contourcarpet": [
           {
            "colorbar": {
             "outlinewidth": 0,
             "ticks": ""
            },
            "type": "contourcarpet"
           }
          ],
          "heatmap": [
           {
            "colorbar": {
             "outlinewidth": 0,
             "ticks": ""
            },
            "colorscale": [
             [
              0,
              "#0d0887"
             ],
             [
              0.1111111111111111,
              "#46039f"
             ],
             [
              0.2222222222222222,
              "#7201a8"
             ],
             [
              0.3333333333333333,
              "#9c179e"
             ],
             [
              0.4444444444444444,
              "#bd3786"
             ],
             [
              0.5555555555555556,
              "#d8576b"
             ],
             [
              0.6666666666666666,
              "#ed7953"
             ],
             [
              0.7777777777777778,
              "#fb9f3a"
             ],
             [
              0.8888888888888888,
              "#fdca26"
             ],
             [
              1,
              "#f0f921"
             ]
            ],
            "type": "heatmap"
           }
          ],
          "heatmapgl": [
           {
            "colorbar": {
             "outlinewidth": 0,
             "ticks": ""
            },
            "colorscale": [
             [
              0,
              "#0d0887"
             ],
             [
              0.1111111111111111,
              "#46039f"
             ],
             [
              0.2222222222222222,
              "#7201a8"
             ],
             [
              0.3333333333333333,
              "#9c179e"
             ],
             [
              0.4444444444444444,
              "#bd3786"
             ],
             [
              0.5555555555555556,
              "#d8576b"
             ],
             [
              0.6666666666666666,
              "#ed7953"
             ],
             [
              0.7777777777777778,
              "#fb9f3a"
             ],
             [
              0.8888888888888888,
              "#fdca26"
             ],
             [
              1,
              "#f0f921"
             ]
            ],
            "type": "heatmapgl"
           }
          ],
          "histogram": [
           {
            "marker": {
             "pattern": {
              "fillmode": "overlay",
              "size": 10,
              "solidity": 0.2
             }
            },
            "type": "histogram"
           }
          ],
          "histogram2d": [
           {
            "colorbar": {
             "outlinewidth": 0,
             "ticks": ""
            },
            "colorscale": [
             [
              0,
              "#0d0887"
             ],
             [
              0.1111111111111111,
              "#46039f"
             ],
             [
              0.2222222222222222,
              "#7201a8"
             ],
             [
              0.3333333333333333,
              "#9c179e"
             ],
             [
              0.4444444444444444,
              "#bd3786"
             ],
             [
              0.5555555555555556,
              "#d8576b"
             ],
             [
              0.6666666666666666,
              "#ed7953"
             ],
             [
              0.7777777777777778,
              "#fb9f3a"
             ],
             [
              0.8888888888888888,
              "#fdca26"
             ],
             [
              1,
              "#f0f921"
             ]
            ],
            "type": "histogram2d"
           }
          ],
          "histogram2dcontour": [
           {
            "colorbar": {
             "outlinewidth": 0,
             "ticks": ""
            },
            "colorscale": [
             [
              0,
              "#0d0887"
             ],
             [
              0.1111111111111111,
              "#46039f"
             ],
             [
              0.2222222222222222,
              "#7201a8"
             ],
             [
              0.3333333333333333,
              "#9c179e"
             ],
             [
              0.4444444444444444,
              "#bd3786"
             ],
             [
              0.5555555555555556,
              "#d8576b"
             ],
             [
              0.6666666666666666,
              "#ed7953"
             ],
             [
              0.7777777777777778,
              "#fb9f3a"
             ],
             [
              0.8888888888888888,
              "#fdca26"
             ],
             [
              1,
              "#f0f921"
             ]
            ],
            "type": "histogram2dcontour"
           }
          ],
          "mesh3d": [
           {
            "colorbar": {
             "outlinewidth": 0,
             "ticks": ""
            },
            "type": "mesh3d"
           }
          ],
          "parcoords": [
           {
            "line": {
             "colorbar": {
              "outlinewidth": 0,
              "ticks": ""
             }
            },
            "type": "parcoords"
           }
          ],
          "pie": [
           {
            "automargin": true,
            "type": "pie"
           }
          ],
          "scatter": [
           {
            "marker": {
             "line": {
              "color": "#283442"
             }
            },
            "type": "scatter"
           }
          ],
          "scatter3d": [
           {
            "line": {
             "colorbar": {
              "outlinewidth": 0,
              "ticks": ""
             }
            },
            "marker": {
             "colorbar": {
              "outlinewidth": 0,
              "ticks": ""
             }
            },
            "type": "scatter3d"
           }
          ],
          "scattercarpet": [
           {
            "marker": {
             "colorbar": {
              "outlinewidth": 0,
              "ticks": ""
             }
            },
            "type": "scattercarpet"
           }
          ],
          "scattergeo": [
           {
            "marker": {
             "colorbar": {
              "outlinewidth": 0,
              "ticks": ""
             }
            },
            "type": "scattergeo"
           }
          ],
          "scattergl": [
           {
            "marker": {
             "line": {
              "color": "#283442"
             }
            },
            "type": "scattergl"
           }
          ],
          "scattermapbox": [
           {
            "marker": {
             "colorbar": {
              "outlinewidth": 0,
              "ticks": ""
             }
            },
            "type": "scattermapbox"
           }
          ],
          "scatterpolar": [
           {
            "marker": {
             "colorbar": {
              "outlinewidth": 0,
              "ticks": ""
             }
            },
            "type": "scatterpolar"
           }
          ],
          "scatterpolargl": [
           {
            "marker": {
             "colorbar": {
              "outlinewidth": 0,
              "ticks": ""
             }
            },
            "type": "scatterpolargl"
           }
          ],
          "scatterternary": [
           {
            "marker": {
             "colorbar": {
              "outlinewidth": 0,
              "ticks": ""
             }
            },
            "type": "scatterternary"
           }
          ],
          "surface": [
           {
            "colorbar": {
             "outlinewidth": 0,
             "ticks": ""
            },
            "colorscale": [
             [
              0,
              "#0d0887"
             ],
             [
              0.1111111111111111,
              "#46039f"
             ],
             [
              0.2222222222222222,
              "#7201a8"
             ],
             [
              0.3333333333333333,
              "#9c179e"
             ],
             [
              0.4444444444444444,
              "#bd3786"
             ],
             [
              0.5555555555555556,
              "#d8576b"
             ],
             [
              0.6666666666666666,
              "#ed7953"
             ],
             [
              0.7777777777777778,
              "#fb9f3a"
             ],
             [
              0.8888888888888888,
              "#fdca26"
             ],
             [
              1,
              "#f0f921"
             ]
            ],
            "type": "surface"
           }
          ],
          "table": [
           {
            "cells": {
             "fill": {
              "color": "#506784"
             },
             "line": {
              "color": "rgb(17,17,17)"
             }
            },
            "header": {
             "fill": {
              "color": "#2a3f5f"
             },
             "line": {
              "color": "rgb(17,17,17)"
             }
            },
            "type": "table"
           }
          ]
         },
         "layout": {
          "annotationdefaults": {
           "arrowcolor": "#f2f5fa",
           "arrowhead": 0,
           "arrowwidth": 1
          },
          "autotypenumbers": "strict",
          "coloraxis": {
           "colorbar": {
            "outlinewidth": 0,
            "ticks": ""
           }
          },
          "colorscale": {
           "diverging": [
            [
             0,
             "#8e0152"
            ],
            [
             0.1,
             "#c51b7d"
            ],
            [
             0.2,
             "#de77ae"
            ],
            [
             0.3,
             "#f1b6da"
            ],
            [
             0.4,
             "#fde0ef"
            ],
            [
             0.5,
             "#f7f7f7"
            ],
            [
             0.6,
             "#e6f5d0"
            ],
            [
             0.7,
             "#b8e186"
            ],
            [
             0.8,
             "#7fbc41"
            ],
            [
             0.9,
             "#4d9221"
            ],
            [
             1,
             "#276419"
            ]
           ],
           "sequential": [
            [
             0,
             "#0d0887"
            ],
            [
             0.1111111111111111,
             "#46039f"
            ],
            [
             0.2222222222222222,
             "#7201a8"
            ],
            [
             0.3333333333333333,
             "#9c179e"
            ],
            [
             0.4444444444444444,
             "#bd3786"
            ],
            [
             0.5555555555555556,
             "#d8576b"
            ],
            [
             0.6666666666666666,
             "#ed7953"
            ],
            [
             0.7777777777777778,
             "#fb9f3a"
            ],
            [
             0.8888888888888888,
             "#fdca26"
            ],
            [
             1,
             "#f0f921"
            ]
           ],
           "sequentialminus": [
            [
             0,
             "#0d0887"
            ],
            [
             0.1111111111111111,
             "#46039f"
            ],
            [
             0.2222222222222222,
             "#7201a8"
            ],
            [
             0.3333333333333333,
             "#9c179e"
            ],
            [
             0.4444444444444444,
             "#bd3786"
            ],
            [
             0.5555555555555556,
             "#d8576b"
            ],
            [
             0.6666666666666666,
             "#ed7953"
            ],
            [
             0.7777777777777778,
             "#fb9f3a"
            ],
            [
             0.8888888888888888,
             "#fdca26"
            ],
            [
             1,
             "#f0f921"
            ]
           ]
          },
          "colorway": [
           "#636efa",
           "#EF553B",
           "#00cc96",
           "#ab63fa",
           "#FFA15A",
           "#19d3f3",
           "#FF6692",
           "#B6E880",
           "#FF97FF",
           "#FECB52"
          ],
          "font": {
           "color": "#f2f5fa"
          },
          "geo": {
           "bgcolor": "rgb(17,17,17)",
           "lakecolor": "rgb(17,17,17)",
           "landcolor": "rgb(17,17,17)",
           "showlakes": true,
           "showland": true,
           "subunitcolor": "#506784"
          },
          "hoverlabel": {
           "align": "left"
          },
          "hovermode": "closest",
          "mapbox": {
           "style": "dark"
          },
          "paper_bgcolor": "rgb(17,17,17)",
          "plot_bgcolor": "rgb(17,17,17)",
          "polar": {
           "angularaxis": {
            "gridcolor": "#506784",
            "linecolor": "#506784",
            "ticks": ""
           },
           "bgcolor": "rgb(17,17,17)",
           "radialaxis": {
            "gridcolor": "#506784",
            "linecolor": "#506784",
            "ticks": ""
           }
          },
          "scene": {
           "xaxis": {
            "backgroundcolor": "rgb(17,17,17)",
            "gridcolor": "#506784",
            "gridwidth": 2,
            "linecolor": "#506784",
            "showbackground": true,
            "ticks": "",
            "zerolinecolor": "#C8D4E3"
           },
           "yaxis": {
            "backgroundcolor": "rgb(17,17,17)",
            "gridcolor": "#506784",
            "gridwidth": 2,
            "linecolor": "#506784",
            "showbackground": true,
            "ticks": "",
            "zerolinecolor": "#C8D4E3"
           },
           "zaxis": {
            "backgroundcolor": "rgb(17,17,17)",
            "gridcolor": "#506784",
            "gridwidth": 2,
            "linecolor": "#506784",
            "showbackground": true,
            "ticks": "",
            "zerolinecolor": "#C8D4E3"
           }
          },
          "shapedefaults": {
           "line": {
            "color": "#f2f5fa"
           }
          },
          "sliderdefaults": {
           "bgcolor": "#C8D4E3",
           "bordercolor": "rgb(17,17,17)",
           "borderwidth": 1,
           "tickwidth": 0
          },
          "ternary": {
           "aaxis": {
            "gridcolor": "#506784",
            "linecolor": "#506784",
            "ticks": ""
           },
           "baxis": {
            "gridcolor": "#506784",
            "linecolor": "#506784",
            "ticks": ""
           },
           "bgcolor": "rgb(17,17,17)",
           "caxis": {
            "gridcolor": "#506784",
            "linecolor": "#506784",
            "ticks": ""
           }
          },
          "title": {
           "x": 0.05
          },
          "updatemenudefaults": {
           "bgcolor": "#506784",
           "borderwidth": 0
          },
          "xaxis": {
           "automargin": true,
           "gridcolor": "#283442",
           "linecolor": "#506784",
           "ticks": "",
           "title": {
            "standoff": 15
           },
           "zerolinecolor": "#283442",
           "zerolinewidth": 2
          },
          "yaxis": {
           "automargin": true,
           "gridcolor": "#283442",
           "linecolor": "#506784",
           "ticks": "",
           "title": {
            "standoff": 15
           },
           "zerolinecolor": "#283442",
           "zerolinewidth": 2
          }
         }
        },
        "title": {
         "text": "OHLC vs Prediction Over Time"
        },
        "xaxis": {
         "rangeslider": {
          "visible": false
         }
        },
        "yaxis": {
         "tickformat": ".0f"
        },
        "yaxis2": {
         "overlaying": "y",
         "side": "right",
         "tickformat": ".0%"
        }
       }
      }
     },
     "metadata": {},
     "output_type": "display_data"
    }
   ],
   "source": [
    "create_viz(df_viz, '2024-01-02')"
   ]
  },
  {
   "cell_type": "code",
   "execution_count": null,
   "metadata": {},
   "outputs": [],
   "source": []
  },
  {
   "cell_type": "code",
   "execution_count": 145,
   "metadata": {},
   "outputs": [
    {
     "ename": "NameError",
     "evalue": "name 'XXX' is not defined",
     "output_type": "error",
     "traceback": [
      "\u001b[1;31m---------------------------------------------------------------------------\u001b[0m",
      "\u001b[1;31mNameError\u001b[0m                                 Traceback (most recent call last)",
      "\u001b[1;32md:\\Projects\\session-extrema-model\\lower_tf_research_tops_bottoms.ipynb Cell 56\u001b[0m line \u001b[0;36m1\n\u001b[1;32m----> <a href='vscode-notebook-cell:/d%3A/Projects/session-extrema-model/lower_tf_research_tops_bottoms.ipynb#X63sZmlsZQ%3D%3D?line=0'>1</a>\u001b[0m XXX\n",
      "\u001b[1;31mNameError\u001b[0m: name 'XXX' is not defined"
     ]
    }
   ],
   "source": [
    "XXX"
   ]
  },
  {
   "cell_type": "code",
   "execution_count": null,
   "metadata": {},
   "outputs": [],
   "source": []
  },
  {
   "cell_type": "code",
   "execution_count": null,
   "metadata": {},
   "outputs": [],
   "source": []
  },
  {
   "cell_type": "code",
   "execution_count": null,
   "metadata": {},
   "outputs": [],
   "source": []
  },
  {
   "cell_type": "code",
   "execution_count": null,
   "metadata": {},
   "outputs": [],
   "source": [
    "time_value = datetime.time(13,0)\n",
    "prev_close_pct = 0.005\n",
    "day_open_pct = 0.00\n",
    "gap_open_pct = -0.005\n",
    "\n",
    "input_data = pd.DataFrame({\n",
    "    'time': [time_value], \n",
    "    'prev_close_pct': [prev_close_pct],\n",
    "    'day_open_pct': [day_open_pct],\n",
    "    'gap_open_pct': [gap_open_pct],\n",
    "    })\n",
    "predicted_proba = pipeline.predict_proba(input_data)[:,-1]\n",
    "\n",
    "print(f\"Predicted Probability: {predicted_proba[0]}\")"
   ]
  },
  {
   "cell_type": "code",
   "execution_count": null,
   "metadata": {},
   "outputs": [],
   "source": [
    "get_top_probability(time_value, prev_close_pct)"
   ]
  },
  {
   "cell_type": "code",
   "execution_count": null,
   "metadata": {},
   "outputs": [],
   "source": [
    "XXX"
   ]
  },
  {
   "cell_type": "code",
   "execution_count": null,
   "metadata": {},
   "outputs": [],
   "source": [
    "daily_data = spx_data.groupby(spx_data.index.date)['eod_close_pct'].max()"
   ]
  },
  {
   "cell_type": "code",
   "execution_count": null,
   "metadata": {},
   "outputs": [],
   "source": [
    "daily_data.describe()"
   ]
  },
  {
   "cell_type": "code",
   "execution_count": null,
   "metadata": {},
   "outputs": [],
   "source": [
    "daily_data.clip(-0.05,0.05).hist()"
   ]
  },
  {
   "cell_type": "code",
   "execution_count": null,
   "metadata": {},
   "outputs": [],
   "source": []
  },
  {
   "cell_type": "code",
   "execution_count": null,
   "metadata": {},
   "outputs": [],
   "source": [
    "spx_data.loc[(spx_data['time'] < datetime.time(10,5)) & (spx_data['label'] == 1), 'prev_close_pct'].describe()"
   ]
  },
  {
   "cell_type": "code",
   "execution_count": null,
   "metadata": {},
   "outputs": [],
   "source": [
    "len(set(spx_data.index.date))"
   ]
  },
  {
   "cell_type": "code",
   "execution_count": null,
   "metadata": {},
   "outputs": [],
   "source": [
    "import plotly.graph_objects as go\n",
    "\n",
    "# df_use = spx_data.query('(eod_close_pct > -0.007) & (eod_close_pct < 0.007)')\n",
    "df_use = spx_data.query('(eod_close_pct < 0.01) & (eod_close_pct > -0.01)')\n",
    "# df_use = spx_data.copy()\n",
    "total_days = len(set(spx_data.index.date))\n",
    "set_days = len(set(df_use.index.date))\n",
    "# Convert times to string\n",
    "times = df_use['time'].unique()\n",
    "times = [t.strftime('%H:%M:%S') for t in times]\n",
    "freqs = df_use.groupby('time')['label'].mean().cumsum()\n",
    "\n",
    "# Calculate means\n",
    "means = df_use.groupby('time')['prev_close_pct'].mean()\n",
    "\n",
    "# Create a Plotly figure\n",
    "fig = go.Figure()\n",
    "\n",
    "# Add a line trace\n",
    "fig.add_trace(go.Scatter(x=times, y=means, mode='lines', name='Mean'))\n",
    "\n",
    "fig.add_trace(go.Scatter(x=times, y=freqs, mode='lines', name='Frequency', yaxis='y2'))\n",
    "fig.update_layout(\n",
    "    yaxis2=dict(\n",
    "        title='Frequency',\n",
    "        titlefont=dict(\n",
    "            color='rgb(148, 103, 189)'\n",
    "        ),\n",
    "        tickfont=dict(\n",
    "            color='rgb(148, 103, 189)'\n",
    "        ),\n",
    "        overlaying='y',\n",
    "        side='right'\n",
    "    )\n",
    ")\n",
    "fig.update_yaxes(\n",
    "    tickformat=\".3%\",\n",
    ")\n",
    "\n",
    "# Set layout properties\n",
    "fig.update_layout(\n",
    "    title=f'Mean vs Time ({str(set_days)} -- {set_days / total_days:.1%})',\n",
    "    xaxis_title='Time',\n",
    "    yaxis_title='Mean',\n",
    "    autosize=False,\n",
    "    width=1000,\n",
    "    height=500,\n",
    ")\n",
    "\n",
    "# Show the figure\n",
    "fig.show()"
   ]
  },
  {
   "cell_type": "code",
   "execution_count": null,
   "metadata": {},
   "outputs": [],
   "source": []
  },
  {
   "cell_type": "code",
   "execution_count": null,
   "metadata": {},
   "outputs": [],
   "source": [
    "import numpy as np\n",
    "import pandas as pd\n",
    "import datetime\n",
    "\n",
    "spx_data['label_lod'] = np.nan\n",
    "\n",
    "# Per date, run it.\n",
    "for day in sorted(set(spx_data.index.date)):\n",
    "    day_str = datetime.datetime.strftime(day, '%Y-%m-%d')\n",
    "    spx_data.loc[day_str, 'lod'] = spx_data.loc[day_str, 'low'].min()\n",
    "\n",
    "    # Label the data: 1 if the current low is the LOD, 0 otherwise\n",
    "    spx_data.loc[day_str, 'label_lod'] = (spx_data.loc[day_str, 'low'] == spx_data.loc[day_str, 'lod']).astype(int)\n",
    "\n",
    "    # Find the index of LOD\n",
    "    lod_index = spx_data.loc[day_str][spx_data.loc[day_str, 'label_lod'] == 1].index\n",
    "\n",
    "    # If LOD is found within the first 5 bars, label the first 5 bars as 1\n",
    "    if not lod_index.empty:\n",
    "        lod_index = lod_index[0]  # In case there are multiple, take the first\n",
    "        if lod_index <= spx_data.loc[day_str].index[4]:  # Check if LOD is within the first 5 bars\n",
    "            spx_data.loc[spx_data.loc[day_str].index[:5], 'label_lod'] = 1\n",
    "        else:\n",
    "            start_time = spx_data.loc[day_str].index[0]\n",
    "            end_time = lod_index\n",
    "            # Calculate the start index using Timedelta\n",
    "            start_index = end_time - pd.Timedelta(minutes=5 * 4)\n",
    "            start_index = max(start_index, start_time)\n",
    "            spx_data.loc[start_index:end_time, 'label_lod'] = 1\n",
    "\n",
    "spx_data.head()"
   ]
  },
  {
   "cell_type": "code",
   "execution_count": null,
   "metadata": {},
   "outputs": [],
   "source": [
    "spx_data['time'] = spx_data.index.time"
   ]
  },
  {
   "cell_type": "code",
   "execution_count": null,
   "metadata": {},
   "outputs": [],
   "source": [
    "spx_data['label'].sum()"
   ]
  },
  {
   "cell_type": "code",
   "execution_count": null,
   "metadata": {},
   "outputs": [],
   "source": [
    "pd.spx_data.groupby('time')['label'].mean()"
   ]
  },
  {
   "cell_type": "code",
   "execution_count": null,
   "metadata": {},
   "outputs": [],
   "source": [
    "import matplotlib.pyplot as plt\n",
    "d = '2023-12-20'\n",
    "spx_data.loc[d,'label'].plot();\n",
    "spx_data.loc[d,'label_lod'].plot();\n",
    "plt.legend();\n",
    "print(spx_data.loc[d,'label_lod'].sum())"
   ]
  },
  {
   "cell_type": "code",
   "execution_count": null,
   "metadata": {},
   "outputs": [],
   "source": [
    "spx_data['label'].value_counts()"
   ]
  },
  {
   "cell_type": "code",
   "execution_count": null,
   "metadata": {},
   "outputs": [],
   "source": [
    "len(set(spx_data.index.date))"
   ]
  },
  {
   "cell_type": "code",
   "execution_count": null,
   "metadata": {},
   "outputs": [],
   "source": []
  },
  {
   "cell_type": "code",
   "execution_count": null,
   "metadata": {},
   "outputs": [],
   "source": [
    "spx_data.loc[day]"
   ]
  },
  {
   "cell_type": "code",
   "execution_count": null,
   "metadata": {},
   "outputs": [],
   "source": [
    "import pandas as pd\n",
    "\n",
    "# Load data\n",
    "# data = pd.read_csv('your_data_file.csv', parse_dates=True)\n",
    "\n",
    "# Calculate P as the average of open, high, low, and close\n",
    "spx_data['P'] = spx_data[['open', 'high', 'low', 'close']].mean(axis=1)\n",
    "\n",
    "# Initialize columns for ON, O1, O2, O3\n",
    "spx_data['ON'] = spx_data['P'].rolling(window=6).max()\n",
    "spx_data['O1'] = spx_data['P'].rolling(window=6).apply(lambda x: x.nsmallest(2).iloc[0] if x.idxmax() != x.index[-1] else x.nsmallest(2).iloc[1])\n",
    "spx_data['O2'] = spx_data['P'].rolling(window=6).apply(lambda x: x.nsmallest(3).iloc[1] if x.idxmax() == x.index[-2] else (x.nsmallest(3).iloc[0] if x.idxmax() != x.index[-1] else x.nsmallest(3).iloc[2]))\n",
    "spx_data['O3'] = spx_data['P'].rolling(window=6).apply(lambda x: x.nsmallest(3).iloc[2])\n",
    "\n",
    "# Set iMA (fast_ma)\n",
    "spx_data['fast_ma'] = spx_data['O3']\n"
   ]
  },
  {
   "cell_type": "code",
   "execution_count": null,
   "metadata": {},
   "outputs": [],
   "source": [
    "\n",
    "# Display the result\n",
    "spx_data[['Datetime','P', 'ON', 'O1', 'O2', 'O3', 'fast_ma']].tail()\n"
   ]
  },
  {
   "cell_type": "code",
   "execution_count": null,
   "metadata": {},
   "outputs": [],
   "source": [
    "# Initializing the required columns\n",
    "spx_data['a'] = 0\n",
    "spx_data['b'] = 0\n",
    "spx_data['z'] = 0\n",
    "spx_data['c'] = 0\n",
    "spx_data['l'] = 0\n",
    "spx_data['s'] = 0\n",
    "\n",
    "# Helper functions to calculate lowest_low, highest_high, avg_low, avg_high\n",
    "spx_data['lowest_low'] = spx_data['low'].rolling(window=5).min()\n",
    "spx_data['highest_high'] = spx_data['high'].rolling(window=5).max()\n",
    "spx_data['avg_low'] = spx_data['low'].rolling(window=5).mean()\n",
    "spx_data['avg_high'] = spx_data['high'].rolling(window=5).mean()\n",
    "\n",
    "for i, row in spx_data.iterrows():\n",
    "    if i == 0:\n",
    "        continue  # Skip the first row\n",
    "\n",
    "    a_prev = spx_data.at[i - 1, 'a']\n",
    "    low_prev = spx_data.at[i - 1, 'low']\n",
    "    high_prev = spx_data.at[i - 1, 'high']\n",
    "\n",
    "    if a_prev == 1:\n",
    "        spx_data.at[i, 'b'] = max(spx_data.at[i, 'lowest_low'], spx_data.at[i - 1, 'b'])\n",
    "        spx_data.at[i, 'z'] = 1 if spx_data.at[i, 'avg_high'] < spx_data.at[i - 1, 'b'] and spx_data.at[i, 'close'] < low_prev else spx_data.at[i - 1, 'z']\n",
    "        spx_data.at[i, 'a'] = 0 if spx_data.at[i, 'avg_high'] < spx_data.at[i - 1, 'b'] and spx_data.at[i, 'close'] < low_prev else a_prev\n",
    "        spx_data.at[i, 'c'] = spx_data.at[i, 'highest_high'] if spx_data.at[i, 'avg_high'] < spx_data.at[i - 1, 'b'] and spx_data.at[i, 'close'] < low_prev else spx_data.at[i - 1, 'c']\n",
    "    elif a_prev == 0:\n",
    "        spx_data.at[i, 'c'] = min(spx_data.at[i, 'highest_high'], spx_data.at[i - 1, 'c'])\n",
    "        spx_data.at[i, 'z'] = 0 if spx_data.at[i, 'avg_low'] > spx_data.at[i - 1, 'c'] and spx_data.at[i, 'close'] > high_prev else spx_data.at[i - 1, 'z']\n",
    "        spx_data.at[i, 'a'] = 1 if spx_data.at[i, 'avg_low'] > spx_data.at[i - 1, 'c'] and spx_data.at[i, 'close'] > high_prev else a_prev\n",
    "        spx_data.at[i, 'b'] = spx_data.at[i, 'lowest_low'] if spx_data.at[i, 'avg_low'] > spx_data.at[i - 1, 'c'] and spx_data.at[i, 'close'] > high_prev else spx_data.at[i - 1, 'b']\n",
    "    else:\n",
    "        # Maintain the previous values\n",
    "        spx_data.at[i, 'b'] = spx_data.at[i - 1, 'b']\n",
    "        spx_data.at[i, 'z'] = spx_data.at[i - 1, 'z']\n",
    "        spx_data.at[i, 'a'] = a_prev\n",
    "        spx_data.at[i, 'c'] = spx_data.at[i - 1, 'c']\n",
    "\n",
    "    # Adjusting 'l' and 's'\n",
    "    if spx_data.at[i, 'z'] == 0:\n",
    "        spx_data.at[i, 'l'] = spx_data.at[i - 1, 's'] if spx_data.at[i - 1, 'z'] != 0 else max(spx_data.at[i - 1, 'b'], spx_data.at[i - 1, 'l'])\n",
    "        spx_data.at[i, 's'] = 0\n",
    "    elif spx_data.at[i - 1, 'z'] != 1:\n",
    "        spx_data.at[i, 's'] = spx_data.at[i - 1, 'l']\n",
    "        spx_data.at[i, 'l'] = 0\n",
    "    elif spx_data.at[i, 'z'] == 1:\n",
    "        spx_data.at[i, 's'] = min(spx_data.at[i, 'c'], spx_data.at[i - 1, 's'])\n",
    "        spx_data.at[i, 'l'] = spx_data.at[i - 1, 'l']\n",
    "    else:\n",
    "        spx_data.at[i, 'l'] = spx_data.at[i - 1, 'l']\n",
    "        spx_data.at[i, 's'] = spx_data.at[i - 1, 's']\n",
    "\n",
    "    # Setting 'trail'\n",
    "    spx_data.at[i, 'trail'] = spx_data.at[i, 'l'] if spx_data.at[i, 'l'] > 0 else spx_data.at[i, 's']\n",
    "\n",
    "# # Display the result\n",
    "# print(spx_data[['a', 'b', 'z', 'c', 'l', 's', 'trail']])\n"
   ]
  },
  {
   "cell_type": "code",
   "execution_count": null,
   "metadata": {},
   "outputs": [],
   "source": [
    "spx_data[['close', 'fast_ma']].tail().plot()"
   ]
  },
  {
   "cell_type": "markdown",
   "metadata": {},
   "source": [
    "# Backtesting"
   ]
  },
  {
   "cell_type": "code",
   "execution_count": null,
   "metadata": {},
   "outputs": [],
   "source": [
    "import bt\n",
    "import pandas as pd\n",
    "\n",
    "# Load your data\n",
    "# data = pd.read_csv('your_data_file.csv', index_col='Date', parse_dates=True)\n",
    "\n",
    "# Custom Algo for selecting where to trade\n",
    "class SelectWhere(bt.Algo):\n",
    "    def __init__(self, signal):\n",
    "        self.signal = signal\n",
    "\n",
    "    def __call__(self, target):\n",
    "        if target.now in self.signal.index:\n",
    "            signal_value = self.signal.loc[target.now]\n",
    "            target.temp['weights'] = signal_value.astype(float)\n",
    "        return True\n",
    "\n",
    "# Create the signal for the strategy\n",
    "signal = (data['close'] > data['fast_ma']) & (data['close'].shift() < data['slow_ma'])\n",
    "\n",
    "# Create the strategy\n",
    "strategy = bt.Strategy('AboveFastMA',\n",
    "                       [SelectWhere(signal),\n",
    "                        bt.algos.WeighTarget('weights'),\n",
    "                        bt.algos.Rebalance()])\n",
    "\n",
    "# Create a backtest and run it\n",
    "test = bt.Backtest(strategy, data)\n",
    "\n",
    "# Set up the backtest with transaction costs and slippage\n",
    "commissions = bt.fees.FixedPerTrade(1) # $1 per trade\n",
    "slippage = bt.slippage.FixedSlippage(0.05) # Fixed slippage per share, adjust as needed\n",
    "\n",
    "# Set the commissions and slippage to the backtest\n",
    "test.set_fees(commissions=commissions, slippage=slippage)\n",
    "\n",
    "# Run the backtest\n",
    "res = bt.run(test)\n",
    "\n",
    "# Plot the results\n",
    "res.plot()\n"
   ]
  },
  {
   "cell_type": "markdown",
   "metadata": {},
   "source": []
  }
 ],
 "metadata": {
  "kernelspec": {
   "display_name": ".venv",
   "language": "python",
   "name": "python3"
  },
  "language_info": {
   "codemirror_mode": {
    "name": "ipython",
    "version": 3
   },
   "file_extension": ".py",
   "mimetype": "text/x-python",
   "name": "python",
   "nbconvert_exporter": "python",
   "pygments_lexer": "ipython3",
   "version": "3.10.11"
  }
 },
 "nbformat": 4,
 "nbformat_minor": 2
}
