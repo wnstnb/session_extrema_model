{
 "cells": [
  {
   "cell_type": "code",
   "execution_count": 83,
   "metadata": {},
   "outputs": [],
   "source": [
    "from dbConn import engine\n",
    "import pandas as pd\n",
    "import numpy as np"
   ]
  },
  {
   "cell_type": "code",
   "execution_count": 84,
   "metadata": {},
   "outputs": [],
   "source": [
    "data = pd.read_sql_query('''\n",
    "     SELECT \n",
    "        spx.Datetime,\n",
    "        spx.Open AS Open_SPX,\n",
    "        spx.High AS High_SPX,\n",
    "        spx.Low AS Low_SPX,\n",
    "        spx.Close AS Close_SPX,\n",
    "        ndx.Open AS Open_NDX,\n",
    "        ndx.High AS High_NDX,\n",
    "        ndx.Low AS Low_NDX,\n",
    "        ndx.Close AS Close_NDX,\n",
    "        rut.Open AS Open_RUT,\n",
    "        rut.High AS High_RUT,\n",
    "        rut.Low AS Low_RUT,\n",
    "        rut.Close AS Close_RUT\n",
    "       FROM (\n",
    "        SELECT * FROM SPX_full_5min\n",
    "        ) spx\n",
    "        JOIN (\n",
    "        SELECT * FROM NDX_full_5min\n",
    "        ) ndx ON spx.Datetime = ndx.Datetime\n",
    "        JOIN (\n",
    "        SELECT * FROM RUT_full_5min\n",
    "        ) rut ON spx.Datetime = rut.Datetime\n",
    "        WHERE spx.Datetime >= '2020-01-01'\n",
    "''', con = engine.connect())"
   ]
  },
  {
   "cell_type": "code",
   "execution_count": 85,
   "metadata": {},
   "outputs": [],
   "source": [
    "data['Date'] = data['Datetime'].dt.date\n",
    "data['Time'] = data['Datetime'].dt.time"
   ]
  },
  {
   "cell_type": "code",
   "execution_count": 86,
   "metadata": {},
   "outputs": [
    {
     "data": {
      "text/html": [
       "<div>\n",
       "<style scoped>\n",
       "    .dataframe tbody tr th:only-of-type {\n",
       "        vertical-align: middle;\n",
       "    }\n",
       "\n",
       "    .dataframe tbody tr th {\n",
       "        vertical-align: top;\n",
       "    }\n",
       "\n",
       "    .dataframe thead th {\n",
       "        text-align: right;\n",
       "    }\n",
       "</style>\n",
       "<table border=\"1\" class=\"dataframe\">\n",
       "  <thead>\n",
       "    <tr style=\"text-align: right;\">\n",
       "      <th></th>\n",
       "      <th>Datetime</th>\n",
       "      <th>Open_SPX</th>\n",
       "      <th>High_SPX</th>\n",
       "      <th>Low_SPX</th>\n",
       "      <th>Close_SPX</th>\n",
       "      <th>Open_NDX</th>\n",
       "      <th>High_NDX</th>\n",
       "      <th>Low_NDX</th>\n",
       "      <th>Close_NDX</th>\n",
       "      <th>Open_RUT</th>\n",
       "      <th>High_RUT</th>\n",
       "      <th>Low_RUT</th>\n",
       "      <th>Close_RUT</th>\n",
       "      <th>Date</th>\n",
       "      <th>Time</th>\n",
       "    </tr>\n",
       "  </thead>\n",
       "  <tbody>\n",
       "    <tr>\n",
       "      <th>0</th>\n",
       "      <td>2020-01-02 09:30:00</td>\n",
       "      <td>3244.67</td>\n",
       "      <td>3248.08</td>\n",
       "      <td>3244.16</td>\n",
       "      <td>3246.92</td>\n",
       "      <td>8802.22</td>\n",
       "      <td>8817.35</td>\n",
       "      <td>8796.83</td>\n",
       "      <td>8814.99</td>\n",
       "      <td>1675.90</td>\n",
       "      <td>1678.14</td>\n",
       "      <td>1673.69</td>\n",
       "      <td>1674.68</td>\n",
       "      <td>2020-01-02</td>\n",
       "      <td>09:30:00</td>\n",
       "    </tr>\n",
       "    <tr>\n",
       "      <th>1</th>\n",
       "      <td>2020-01-02 09:35:00</td>\n",
       "      <td>3246.89</td>\n",
       "      <td>3249.63</td>\n",
       "      <td>3246.89</td>\n",
       "      <td>3248.39</td>\n",
       "      <td>8815.19</td>\n",
       "      <td>8829.71</td>\n",
       "      <td>8815.19</td>\n",
       "      <td>8826.76</td>\n",
       "      <td>1674.57</td>\n",
       "      <td>1675.63</td>\n",
       "      <td>1674.45</td>\n",
       "      <td>1674.75</td>\n",
       "      <td>2020-01-02</td>\n",
       "      <td>09:35:00</td>\n",
       "    </tr>\n",
       "    <tr>\n",
       "      <th>2</th>\n",
       "      <td>2020-01-02 09:40:00</td>\n",
       "      <td>3248.39</td>\n",
       "      <td>3249.88</td>\n",
       "      <td>3247.81</td>\n",
       "      <td>3248.69</td>\n",
       "      <td>8826.72</td>\n",
       "      <td>8831.23</td>\n",
       "      <td>8822.25</td>\n",
       "      <td>8824.69</td>\n",
       "      <td>1674.77</td>\n",
       "      <td>1674.79</td>\n",
       "      <td>1671.56</td>\n",
       "      <td>1671.56</td>\n",
       "      <td>2020-01-02</td>\n",
       "      <td>09:40:00</td>\n",
       "    </tr>\n",
       "    <tr>\n",
       "      <th>3</th>\n",
       "      <td>2020-01-02 09:45:00</td>\n",
       "      <td>3248.67</td>\n",
       "      <td>3250.04</td>\n",
       "      <td>3247.22</td>\n",
       "      <td>3247.39</td>\n",
       "      <td>8824.52</td>\n",
       "      <td>8825.96</td>\n",
       "      <td>8817.10</td>\n",
       "      <td>8817.74</td>\n",
       "      <td>1671.53</td>\n",
       "      <td>1671.54</td>\n",
       "      <td>1668.07</td>\n",
       "      <td>1668.07</td>\n",
       "      <td>2020-01-02</td>\n",
       "      <td>09:45:00</td>\n",
       "    </tr>\n",
       "    <tr>\n",
       "      <th>4</th>\n",
       "      <td>2020-01-02 09:50:00</td>\n",
       "      <td>3247.38</td>\n",
       "      <td>3248.14</td>\n",
       "      <td>3245.61</td>\n",
       "      <td>3246.18</td>\n",
       "      <td>8817.85</td>\n",
       "      <td>8819.86</td>\n",
       "      <td>8814.75</td>\n",
       "      <td>8817.78</td>\n",
       "      <td>1668.00</td>\n",
       "      <td>1668.00</td>\n",
       "      <td>1666.29</td>\n",
       "      <td>1666.39</td>\n",
       "      <td>2020-01-02</td>\n",
       "      <td>09:50:00</td>\n",
       "    </tr>\n",
       "  </tbody>\n",
       "</table>\n",
       "</div>"
      ],
      "text/plain": [
       "             Datetime  Open_SPX  High_SPX  Low_SPX  Close_SPX  Open_NDX  \\\n",
       "0 2020-01-02 09:30:00   3244.67   3248.08  3244.16    3246.92   8802.22   \n",
       "1 2020-01-02 09:35:00   3246.89   3249.63  3246.89    3248.39   8815.19   \n",
       "2 2020-01-02 09:40:00   3248.39   3249.88  3247.81    3248.69   8826.72   \n",
       "3 2020-01-02 09:45:00   3248.67   3250.04  3247.22    3247.39   8824.52   \n",
       "4 2020-01-02 09:50:00   3247.38   3248.14  3245.61    3246.18   8817.85   \n",
       "\n",
       "   High_NDX  Low_NDX  Close_NDX  Open_RUT  High_RUT  Low_RUT  Close_RUT  \\\n",
       "0   8817.35  8796.83    8814.99   1675.90   1678.14  1673.69    1674.68   \n",
       "1   8829.71  8815.19    8826.76   1674.57   1675.63  1674.45    1674.75   \n",
       "2   8831.23  8822.25    8824.69   1674.77   1674.79  1671.56    1671.56   \n",
       "3   8825.96  8817.10    8817.74   1671.53   1671.54  1668.07    1668.07   \n",
       "4   8819.86  8814.75    8817.78   1668.00   1668.00  1666.29    1666.39   \n",
       "\n",
       "         Date      Time  \n",
       "0  2020-01-02  09:30:00  \n",
       "1  2020-01-02  09:35:00  \n",
       "2  2020-01-02  09:40:00  \n",
       "3  2020-01-02  09:45:00  \n",
       "4  2020-01-02  09:50:00  "
      ]
     },
     "execution_count": 86,
     "metadata": {},
     "output_type": "execute_result"
    }
   ],
   "source": [
    "data.head()"
   ]
  },
  {
   "cell_type": "code",
   "execution_count": 87,
   "metadata": {},
   "outputs": [],
   "source": [
    "import datetime"
   ]
  },
  {
   "cell_type": "code",
   "execution_count": 124,
   "metadata": {},
   "outputs": [],
   "source": [
    "ticker_dict = {\n",
    "    \"^GSPC\":{\n",
    "        \"hod_model\":\"models/hod_model_spx.joblib\",\n",
    "        \"lod_model\":\"models/lod_model_spx.joblib\",\n",
    "        \"suffix\":\"SPX\"\n",
    "    },\n",
    "    \"^NDX\":{\n",
    "        \"hod_model\":\"models/hod_model_ndx.joblib\",\n",
    "        \"lod_model\":\"models/lod_model_ndx.joblib\",\n",
    "        \"suffix\":\"NDX\"\n",
    "    },\n",
    "    \"^RUT\":{\n",
    "        \"hod_model\":\"models/hod_model_rut.joblib\",\n",
    "        \"lod_model\":\"models/lod_model_rut.joblib\",\n",
    "        \"suffix\":\"RUT\"\n",
    "    }\n",
    "}\n",
    "\n",
    "tck = '^NDX'\n",
    "\n",
    "spx_data = data.loc[:,[\n",
    "    'Datetime',\n",
    "    f'Open_{ticker_dict[tck][\"suffix\"]}',\n",
    "    f'High_{ticker_dict[tck][\"suffix\"]}',\n",
    "    f'Low_{ticker_dict[tck][\"suffix\"]}',\n",
    "    f'Close_{ticker_dict[tck][\"suffix\"]}'\n",
    "]]\n",
    "spx_data.columns = ['Datetime','open','high','low','close']\n",
    "spx_data['time'] = spx_data['Datetime'].dt.time\n",
    "spx_data = spx_data.loc[(spx_data['time'] < datetime.time(16,0)) & (spx_data['time'] >= datetime.time(9,30))]"
   ]
  },
  {
   "cell_type": "code",
   "execution_count": 125,
   "metadata": {},
   "outputs": [],
   "source": [
    "spx_data = spx_data.set_index('Datetime')"
   ]
  },
  {
   "cell_type": "code",
   "execution_count": 126,
   "metadata": {},
   "outputs": [],
   "source": [
    "# Get the last bar of each date\n",
    "spx_data['eod_close'] = spx_data.groupby(spx_data.index.date)['close'].tail(1)\n",
    "spx_data['prev_close'] = spx_data['eod_close'].shift(1)\n",
    "spx_data['prev_close'] = spx_data['prev_close'].ffill()\n",
    "spx_data['eod_close'] = spx_data['eod_close'].bfill()\n",
    "spx_data['green_day'] = spx_data['eod_close'] > spx_data['prev_close']\n",
    "\n",
    "spx_data['eod_close_pts'] = spx_data['eod_close'] - spx_data['prev_close']\n",
    "spx_data['eod_close_pct'] = spx_data['eod_close_pts'] / spx_data['prev_close']"
   ]
  },
  {
   "cell_type": "code",
   "execution_count": 127,
   "metadata": {},
   "outputs": [
    {
     "data": {
      "text/html": [
       "<div>\n",
       "<style scoped>\n",
       "    .dataframe tbody tr th:only-of-type {\n",
       "        vertical-align: middle;\n",
       "    }\n",
       "\n",
       "    .dataframe tbody tr th {\n",
       "        vertical-align: top;\n",
       "    }\n",
       "\n",
       "    .dataframe thead th {\n",
       "        text-align: right;\n",
       "    }\n",
       "</style>\n",
       "<table border=\"1\" class=\"dataframe\">\n",
       "  <thead>\n",
       "    <tr style=\"text-align: right;\">\n",
       "      <th></th>\n",
       "      <th>open</th>\n",
       "      <th>high</th>\n",
       "      <th>low</th>\n",
       "      <th>close</th>\n",
       "      <th>time</th>\n",
       "      <th>eod_close</th>\n",
       "      <th>prev_close</th>\n",
       "      <th>green_day</th>\n",
       "      <th>eod_close_pts</th>\n",
       "      <th>eod_close_pct</th>\n",
       "    </tr>\n",
       "    <tr>\n",
       "      <th>Datetime</th>\n",
       "      <th></th>\n",
       "      <th></th>\n",
       "      <th></th>\n",
       "      <th></th>\n",
       "      <th></th>\n",
       "      <th></th>\n",
       "      <th></th>\n",
       "      <th></th>\n",
       "      <th></th>\n",
       "      <th></th>\n",
       "    </tr>\n",
       "  </thead>\n",
       "  <tbody>\n",
       "    <tr>\n",
       "      <th>2023-12-29 15:35:00</th>\n",
       "      <td>16838.74</td>\n",
       "      <td>16842.86</td>\n",
       "      <td>16838.01</td>\n",
       "      <td>16841.75</td>\n",
       "      <td>15:35:00</td>\n",
       "      <td>16828.29</td>\n",
       "      <td>16902.5</td>\n",
       "      <td>False</td>\n",
       "      <td>-74.21</td>\n",
       "      <td>-0.00439</td>\n",
       "    </tr>\n",
       "    <tr>\n",
       "      <th>2023-12-29 15:40:00</th>\n",
       "      <td>16841.74</td>\n",
       "      <td>16847.36</td>\n",
       "      <td>16834.87</td>\n",
       "      <td>16835.10</td>\n",
       "      <td>15:40:00</td>\n",
       "      <td>16828.29</td>\n",
       "      <td>16902.5</td>\n",
       "      <td>False</td>\n",
       "      <td>-74.21</td>\n",
       "      <td>-0.00439</td>\n",
       "    </tr>\n",
       "    <tr>\n",
       "      <th>2023-12-29 15:45:00</th>\n",
       "      <td>16834.79</td>\n",
       "      <td>16837.59</td>\n",
       "      <td>16830.15</td>\n",
       "      <td>16830.62</td>\n",
       "      <td>15:45:00</td>\n",
       "      <td>16828.29</td>\n",
       "      <td>16902.5</td>\n",
       "      <td>False</td>\n",
       "      <td>-74.21</td>\n",
       "      <td>-0.00439</td>\n",
       "    </tr>\n",
       "    <tr>\n",
       "      <th>2023-12-29 15:50:00</th>\n",
       "      <td>16826.83</td>\n",
       "      <td>16840.57</td>\n",
       "      <td>16808.74</td>\n",
       "      <td>16808.88</td>\n",
       "      <td>15:50:00</td>\n",
       "      <td>16828.29</td>\n",
       "      <td>16902.5</td>\n",
       "      <td>False</td>\n",
       "      <td>-74.21</td>\n",
       "      <td>-0.00439</td>\n",
       "    </tr>\n",
       "    <tr>\n",
       "      <th>2023-12-29 15:55:00</th>\n",
       "      <td>16804.76</td>\n",
       "      <td>16841.42</td>\n",
       "      <td>16800.79</td>\n",
       "      <td>16828.29</td>\n",
       "      <td>15:55:00</td>\n",
       "      <td>16828.29</td>\n",
       "      <td>16902.5</td>\n",
       "      <td>False</td>\n",
       "      <td>-74.21</td>\n",
       "      <td>-0.00439</td>\n",
       "    </tr>\n",
       "  </tbody>\n",
       "</table>\n",
       "</div>"
      ],
      "text/plain": [
       "                         open      high       low     close      time  \\\n",
       "Datetime                                                                \n",
       "2023-12-29 15:35:00  16838.74  16842.86  16838.01  16841.75  15:35:00   \n",
       "2023-12-29 15:40:00  16841.74  16847.36  16834.87  16835.10  15:40:00   \n",
       "2023-12-29 15:45:00  16834.79  16837.59  16830.15  16830.62  15:45:00   \n",
       "2023-12-29 15:50:00  16826.83  16840.57  16808.74  16808.88  15:50:00   \n",
       "2023-12-29 15:55:00  16804.76  16841.42  16800.79  16828.29  15:55:00   \n",
       "\n",
       "                     eod_close  prev_close  green_day  eod_close_pts  \\\n",
       "Datetime                                                               \n",
       "2023-12-29 15:35:00   16828.29     16902.5      False         -74.21   \n",
       "2023-12-29 15:40:00   16828.29     16902.5      False         -74.21   \n",
       "2023-12-29 15:45:00   16828.29     16902.5      False         -74.21   \n",
       "2023-12-29 15:50:00   16828.29     16902.5      False         -74.21   \n",
       "2023-12-29 15:55:00   16828.29     16902.5      False         -74.21   \n",
       "\n",
       "                     eod_close_pct  \n",
       "Datetime                            \n",
       "2023-12-29 15:35:00       -0.00439  \n",
       "2023-12-29 15:40:00       -0.00439  \n",
       "2023-12-29 15:45:00       -0.00439  \n",
       "2023-12-29 15:50:00       -0.00439  \n",
       "2023-12-29 15:55:00       -0.00439  "
      ]
     },
     "execution_count": 127,
     "metadata": {},
     "output_type": "execute_result"
    }
   ],
   "source": [
    "spx_data.tail()"
   ]
  },
  {
   "cell_type": "code",
   "execution_count": 128,
   "metadata": {},
   "outputs": [],
   "source": [
    "def create_shifted_cols(dataframe, col_name, shift_per):\n",
    "    for i in range(1, shift_per+1):\n",
    "        dataframe[f'{col_name}_shifted_{i}'] = dataframe[col_name].shift(i)"
   ]
  },
  {
   "cell_type": "code",
   "execution_count": 129,
   "metadata": {},
   "outputs": [],
   "source": [
    "import numpy as np\n",
    "import pandas as pd\n",
    "import datetime\n",
    "from pandas.tseries.offsets import BDay\n",
    "\n",
    "spx_data['label'] = np.nan\n",
    "\n",
    "# Per date, run it.\n",
    "for day in sorted(set(spx_data.index.date)):\n",
    "    day_str = datetime.datetime.strftime(day, '%Y-%m-%d')\n",
    "    day_open = spx_data.loc[day_str, 'open'].iloc[0]\n",
    "    spx_data.loc[day_str, 'lod'] = spx_data.loc[day_str, 'low'].min()\n",
    "    spx_data.loc[day_str, 'label_lod'] = (spx_data.loc[day_str, 'low'] == spx_data.loc[day_str, 'lod']).astype(int)\n",
    "    \n",
    "    spx_data.loc[day_str, 'hod'] = spx_data.loc[day_str, 'high'].max()\n",
    "    spx_data.loc[day_str, 'label'] = (spx_data.loc[day_str, 'high'] == spx_data.loc[day_str, 'hod']).astype(int)\n",
    "    spx_data.loc[day_str, 'day_open'] = day_open\n",
    "    spx_data.loc[day_str, 'day_open_pts'] = spx_data.loc[day_str, 'close'] - spx_data.loc[day_str, 'day_open']\n",
    "    spx_data.loc[day_str, 'day_open_pct'] = spx_data.loc[day_str, 'day_open_pts'] / spx_data.loc[day_str, 'day_open']\n",
    "    spx_data.loc[day_str, 'prev_close_pts'] = spx_data.loc[day_str, 'close'] - spx_data.loc[day_str, 'prev_close']\n",
    "    spx_data.loc[day_str, 'prev_close_pct'] = spx_data.loc[day_str, 'prev_close_pts'] / spx_data.loc[day_str, 'prev_close']\n",
    "\n",
    "    # Shifted\n",
    "    spx_data.loc[day_str, 'prev_close_pct_n1'] = spx_data.loc[day_str, 'prev_close_pct'].shift(1)\n",
    "    spx_data.loc[day_str, 'prev_close_pct_n2'] = spx_data.loc[day_str, 'prev_close_pct'].shift(2)\n",
    "    spx_data.loc[day_str, 'prev_close_pct_n3'] = spx_data.loc[day_str, 'prev_close_pct'].shift(3)\n",
    "\n",
    "    spx_data.loc[day_str, 'day_open_pct_n1'] = spx_data.loc[day_str, 'day_open_pct'].shift(1)\n",
    "    spx_data.loc[day_str, 'day_open_pct_n2'] = spx_data.loc[day_str, 'day_open_pct'].shift(2)\n",
    "    spx_data.loc[day_str, 'day_open_pct_n3'] = spx_data.loc[day_str, 'day_open_pct'].shift(3)\n",
    "\n",
    "\n",
    "\n",
    "    # Label the data: 1 if the current high is the HOD, 0 otherwise\n",
    "\n",
    "    # # Find the index of HOD\n",
    "    # hod_index = spx_data.loc[day_str][spx_data.loc[day_str, 'label'] == 1].index\n",
    "\n",
    "    # # If HOD is found within the first 5 bars, label the first 5 bars as 1\n",
    "    # if not hod_index.empty:\n",
    "    #     hod_index = hod_index[0]  # In case there are multiple, take the first\n",
    "    #     if hod_index <= spx_data.loc[day_str].index[4]:  # Check if HOD is within the first 5 bars\n",
    "    #         spx_data.loc[spx_data.loc[day_str].index[:5], 'label'] = 1\n",
    "    #     else:\n",
    "    #         start_time = spx_data.loc[day_str].index[0]\n",
    "    #         end_time = hod_index\n",
    "    #         # Calculate the start index using Timedelta\n",
    "    #         start_index = end_time - pd.Timedelta(minutes=5 * 4)\n",
    "    #         start_index = max(start_index, start_time)\n",
    "    #         spx_data.loc[start_index:end_time, 'label'] = 1\n",
    "\n",
    "# spx_data.head()\n"
   ]
  },
  {
   "cell_type": "code",
   "execution_count": 130,
   "metadata": {},
   "outputs": [
    {
     "data": {
      "text/html": [
       "<div>\n",
       "<style scoped>\n",
       "    .dataframe tbody tr th:only-of-type {\n",
       "        vertical-align: middle;\n",
       "    }\n",
       "\n",
       "    .dataframe tbody tr th {\n",
       "        vertical-align: top;\n",
       "    }\n",
       "\n",
       "    .dataframe thead th {\n",
       "        text-align: right;\n",
       "    }\n",
       "</style>\n",
       "<table border=\"1\" class=\"dataframe\">\n",
       "  <thead>\n",
       "    <tr style=\"text-align: right;\">\n",
       "      <th></th>\n",
       "      <th>prev_close_pct_n1</th>\n",
       "      <th>prev_close_pct_n2</th>\n",
       "      <th>prev_close_pct_n3</th>\n",
       "    </tr>\n",
       "    <tr>\n",
       "      <th>Datetime</th>\n",
       "      <th></th>\n",
       "      <th></th>\n",
       "      <th></th>\n",
       "    </tr>\n",
       "  </thead>\n",
       "  <tbody>\n",
       "    <tr>\n",
       "      <th>2020-01-06 09:45:00</th>\n",
       "      <td>-0.003943</td>\n",
       "      <td>-0.005310</td>\n",
       "      <td>-0.005422</td>\n",
       "    </tr>\n",
       "    <tr>\n",
       "      <th>2020-01-06 09:50:00</th>\n",
       "      <td>-0.002972</td>\n",
       "      <td>-0.003943</td>\n",
       "      <td>-0.005310</td>\n",
       "    </tr>\n",
       "    <tr>\n",
       "      <th>2020-01-06 09:55:00</th>\n",
       "      <td>-0.002741</td>\n",
       "      <td>-0.002972</td>\n",
       "      <td>-0.003943</td>\n",
       "    </tr>\n",
       "    <tr>\n",
       "      <th>2020-01-06 10:00:00</th>\n",
       "      <td>-0.001599</td>\n",
       "      <td>-0.002741</td>\n",
       "      <td>-0.002972</td>\n",
       "    </tr>\n",
       "    <tr>\n",
       "      <th>2020-01-06 10:05:00</th>\n",
       "      <td>-0.001314</td>\n",
       "      <td>-0.001599</td>\n",
       "      <td>-0.002741</td>\n",
       "    </tr>\n",
       "    <tr>\n",
       "      <th>...</th>\n",
       "      <td>...</td>\n",
       "      <td>...</td>\n",
       "      <td>...</td>\n",
       "    </tr>\n",
       "    <tr>\n",
       "      <th>2023-12-29 15:35:00</th>\n",
       "      <td>-0.003749</td>\n",
       "      <td>-0.003197</td>\n",
       "      <td>-0.003724</td>\n",
       "    </tr>\n",
       "    <tr>\n",
       "      <th>2023-12-29 15:40:00</th>\n",
       "      <td>-0.003594</td>\n",
       "      <td>-0.003749</td>\n",
       "      <td>-0.003197</td>\n",
       "    </tr>\n",
       "    <tr>\n",
       "      <th>2023-12-29 15:45:00</th>\n",
       "      <td>-0.003988</td>\n",
       "      <td>-0.003594</td>\n",
       "      <td>-0.003749</td>\n",
       "    </tr>\n",
       "    <tr>\n",
       "      <th>2023-12-29 15:50:00</th>\n",
       "      <td>-0.004253</td>\n",
       "      <td>-0.003988</td>\n",
       "      <td>-0.003594</td>\n",
       "    </tr>\n",
       "    <tr>\n",
       "      <th>2023-12-29 15:55:00</th>\n",
       "      <td>-0.005539</td>\n",
       "      <td>-0.004253</td>\n",
       "      <td>-0.003988</td>\n",
       "    </tr>\n",
       "  </tbody>\n",
       "</table>\n",
       "<p>75103 rows × 3 columns</p>\n",
       "</div>"
      ],
      "text/plain": [
       "                     prev_close_pct_n1  prev_close_pct_n2  prev_close_pct_n3\n",
       "Datetime                                                                    \n",
       "2020-01-06 09:45:00          -0.003943          -0.005310          -0.005422\n",
       "2020-01-06 09:50:00          -0.002972          -0.003943          -0.005310\n",
       "2020-01-06 09:55:00          -0.002741          -0.002972          -0.003943\n",
       "2020-01-06 10:00:00          -0.001599          -0.002741          -0.002972\n",
       "2020-01-06 10:05:00          -0.001314          -0.001599          -0.002741\n",
       "...                                ...                ...                ...\n",
       "2023-12-29 15:35:00          -0.003749          -0.003197          -0.003724\n",
       "2023-12-29 15:40:00          -0.003594          -0.003749          -0.003197\n",
       "2023-12-29 15:45:00          -0.003988          -0.003594          -0.003749\n",
       "2023-12-29 15:50:00          -0.004253          -0.003988          -0.003594\n",
       "2023-12-29 15:55:00          -0.005539          -0.004253          -0.003988\n",
       "\n",
       "[75103 rows x 3 columns]"
      ]
     },
     "execution_count": 130,
     "metadata": {},
     "output_type": "execute_result"
    }
   ],
   "source": [
    "spx_data.loc['2020-01-04':, ['prev_close_pct_n1','prev_close_pct_n2','prev_close_pct_n3']].dropna()"
   ]
  },
  {
   "cell_type": "code",
   "execution_count": 131,
   "metadata": {},
   "outputs": [],
   "source": [
    "spx_data['gap_open'] = spx_data['day_open'] - spx_data['prev_close']\n",
    "spx_data['gap_open_pct'] = spx_data['gap_open'] / spx_data['prev_close']"
   ]
  },
  {
   "cell_type": "markdown",
   "metadata": {},
   "source": [
    "# Dissecting Tops\n",
    "Purpose\n",
    "- Determine what a top looks like.\n",
    "\n",
    "Questions\n",
    "- When do they happen?\n",
    "- Before they happen, what does action look like?\n",
    "- When they happen, what does the action look like after?"
   ]
  },
  {
   "cell_type": "code",
   "execution_count": 132,
   "metadata": {},
   "outputs": [],
   "source": [
    "hod_in = []\n",
    "for num, row in spx_data.iterrows():\n",
    "    if row['hod'] == row['high']:\n",
    "        hod_in.append(1)\n",
    "    else:\n",
    "        hod_in.append(np.nan)\n",
    "spx_data['hod_in'] = hod_in"
   ]
  },
  {
   "cell_type": "code",
   "execution_count": 133,
   "metadata": {},
   "outputs": [],
   "source": [
    "lod_in = []\n",
    "for num, row in spx_data.iterrows():\n",
    "    if row['lod'] == row['low']:\n",
    "        lod_in.append(1)\n",
    "    else:\n",
    "        lod_in.append(np.nan)\n",
    "spx_data['lod_in'] = lod_in"
   ]
  },
  {
   "cell_type": "code",
   "execution_count": 134,
   "metadata": {},
   "outputs": [],
   "source": [
    "# Per day, ffill for the 1s, and then fillna 0\n",
    "for day in sorted(set(spx_data.index.date)):\n",
    "    day_str = datetime.datetime.strftime(day, '%Y-%m-%d')\n",
    "    spx_data.loc[day_str, 'lod_in'] = spx_data.loc[day_str, 'lod_in'].ffill()\n",
    "    spx_data.loc[day_str, 'lod_in'] = spx_data.loc[day_str, 'lod_in'].fillna(0)\n",
    "    spx_data.loc[day_str, 'hod_in'] = spx_data.loc[day_str, 'hod_in'].ffill()\n",
    "    spx_data.loc[day_str, 'hod_in'] = spx_data.loc[day_str, 'hod_in'].fillna(0)"
   ]
  },
  {
   "cell_type": "code",
   "execution_count": 135,
   "metadata": {},
   "outputs": [],
   "source": [
    "def get_top_probability(time, prev_close_pct):\n",
    "    '''\n",
    "    Function that returns the historical probability that the top is in, given a time of day and magnitude.\n",
    "    '''\n",
    "    # Filter the data for the given time and magnitude\n",
    "    relevant_data = spx_data[(spx_data['time'] == time) & (spx_data['prev_close_pct'] >= prev_close_pct)]\n",
    "    \n",
    "    # Calculate the probability\n",
    "    top_probability = relevant_data['hod_in'].mean()\n",
    "    # bot_probability = relevant_data['lod_in'].mean()\n",
    "    \n",
    "    return top_probability\n",
    "\n",
    "def get_low_probability(time, prev_close_pct):\n",
    "    '''\n",
    "    Function that returns the historical probability that the low is in, given a time of day and magnitude.\n",
    "    '''\n",
    "    # Filter the data for the given time and magnitude\n",
    "    relevant_data = spx_data[(spx_data['time'] == time) & (spx_data['prev_close_pct'] <= prev_close_pct)]\n",
    "    \n",
    "    # Calculate the probability\n",
    "    probability = relevant_data['lod_in'].mean()\n",
    "    \n",
    "    return probability"
   ]
  },
  {
   "cell_type": "code",
   "execution_count": 136,
   "metadata": {},
   "outputs": [
    {
     "data": {
      "text/plain": [
       "0.6058981233243967"
      ]
     },
     "execution_count": 136,
     "metadata": {},
     "output_type": "execute_result"
    }
   ],
   "source": [
    "time = datetime.time(15,0)\n",
    "prev_close_pct = -0.007\n",
    "# spx_data.loc[(spx_data['time'] == time) & (spx_data['prev_close_pct'] >= prev_close_pct)]\n",
    "get_top_probability(time, prev_close_pct)"
   ]
  },
  {
   "cell_type": "code",
   "execution_count": 137,
   "metadata": {},
   "outputs": [
    {
     "data": {
      "text/plain": [
       "0.5019762845849802"
      ]
     },
     "execution_count": 137,
     "metadata": {},
     "output_type": "execute_result"
    }
   ],
   "source": [
    "get_low_probability(time, prev_close_pct)"
   ]
  },
  {
   "cell_type": "code",
   "execution_count": 138,
   "metadata": {},
   "outputs": [
    {
     "data": {
      "text/html": [
       "<div>\n",
       "<style scoped>\n",
       "    .dataframe tbody tr th:only-of-type {\n",
       "        vertical-align: middle;\n",
       "    }\n",
       "\n",
       "    .dataframe tbody tr th {\n",
       "        vertical-align: top;\n",
       "    }\n",
       "\n",
       "    .dataframe thead th {\n",
       "        text-align: right;\n",
       "    }\n",
       "</style>\n",
       "<table border=\"1\" class=\"dataframe\">\n",
       "  <thead>\n",
       "    <tr style=\"text-align: right;\">\n",
       "      <th></th>\n",
       "      <th>time</th>\n",
       "      <th>hod_in</th>\n",
       "      <th>lod_in</th>\n",
       "      <th>gap_open_pct</th>\n",
       "      <th>open</th>\n",
       "    </tr>\n",
       "    <tr>\n",
       "      <th>Datetime</th>\n",
       "      <th></th>\n",
       "      <th></th>\n",
       "      <th></th>\n",
       "      <th></th>\n",
       "      <th></th>\n",
       "    </tr>\n",
       "  </thead>\n",
       "  <tbody>\n",
       "    <tr>\n",
       "      <th>2020-01-02 09:30:00</th>\n",
       "      <td>09:30:00</td>\n",
       "      <td>0.0</td>\n",
       "      <td>0.0</td>\n",
       "      <td>NaN</td>\n",
       "      <td>8802.22</td>\n",
       "    </tr>\n",
       "    <tr>\n",
       "      <th>2020-01-02 09:35:00</th>\n",
       "      <td>09:35:00</td>\n",
       "      <td>0.0</td>\n",
       "      <td>0.0</td>\n",
       "      <td>NaN</td>\n",
       "      <td>8815.19</td>\n",
       "    </tr>\n",
       "    <tr>\n",
       "      <th>2020-01-02 09:40:00</th>\n",
       "      <td>09:40:00</td>\n",
       "      <td>0.0</td>\n",
       "      <td>0.0</td>\n",
       "      <td>NaN</td>\n",
       "      <td>8826.72</td>\n",
       "    </tr>\n",
       "    <tr>\n",
       "      <th>2020-01-02 09:45:00</th>\n",
       "      <td>09:45:00</td>\n",
       "      <td>0.0</td>\n",
       "      <td>0.0</td>\n",
       "      <td>NaN</td>\n",
       "      <td>8824.52</td>\n",
       "    </tr>\n",
       "    <tr>\n",
       "      <th>2020-01-02 09:50:00</th>\n",
       "      <td>09:50:00</td>\n",
       "      <td>0.0</td>\n",
       "      <td>0.0</td>\n",
       "      <td>NaN</td>\n",
       "      <td>8817.85</td>\n",
       "    </tr>\n",
       "    <tr>\n",
       "      <th>...</th>\n",
       "      <td>...</td>\n",
       "      <td>...</td>\n",
       "      <td>...</td>\n",
       "      <td>...</td>\n",
       "      <td>...</td>\n",
       "    </tr>\n",
       "    <tr>\n",
       "      <th>2023-12-29 15:35:00</th>\n",
       "      <td>15:35:00</td>\n",
       "      <td>1.0</td>\n",
       "      <td>1.0</td>\n",
       "      <td>-0.000004</td>\n",
       "      <td>16838.74</td>\n",
       "    </tr>\n",
       "    <tr>\n",
       "      <th>2023-12-29 15:40:00</th>\n",
       "      <td>15:40:00</td>\n",
       "      <td>1.0</td>\n",
       "      <td>1.0</td>\n",
       "      <td>-0.000004</td>\n",
       "      <td>16841.74</td>\n",
       "    </tr>\n",
       "    <tr>\n",
       "      <th>2023-12-29 15:45:00</th>\n",
       "      <td>15:45:00</td>\n",
       "      <td>1.0</td>\n",
       "      <td>1.0</td>\n",
       "      <td>-0.000004</td>\n",
       "      <td>16834.79</td>\n",
       "    </tr>\n",
       "    <tr>\n",
       "      <th>2023-12-29 15:50:00</th>\n",
       "      <td>15:50:00</td>\n",
       "      <td>1.0</td>\n",
       "      <td>1.0</td>\n",
       "      <td>-0.000004</td>\n",
       "      <td>16826.83</td>\n",
       "    </tr>\n",
       "    <tr>\n",
       "      <th>2023-12-29 15:55:00</th>\n",
       "      <td>15:55:00</td>\n",
       "      <td>1.0</td>\n",
       "      <td>1.0</td>\n",
       "      <td>-0.000004</td>\n",
       "      <td>16804.76</td>\n",
       "    </tr>\n",
       "  </tbody>\n",
       "</table>\n",
       "<p>78271 rows × 5 columns</p>\n",
       "</div>"
      ],
      "text/plain": [
       "                         time  hod_in  lod_in  gap_open_pct      open\n",
       "Datetime                                                             \n",
       "2020-01-02 09:30:00  09:30:00     0.0     0.0           NaN   8802.22\n",
       "2020-01-02 09:35:00  09:35:00     0.0     0.0           NaN   8815.19\n",
       "2020-01-02 09:40:00  09:40:00     0.0     0.0           NaN   8826.72\n",
       "2020-01-02 09:45:00  09:45:00     0.0     0.0           NaN   8824.52\n",
       "2020-01-02 09:50:00  09:50:00     0.0     0.0           NaN   8817.85\n",
       "...                       ...     ...     ...           ...       ...\n",
       "2023-12-29 15:35:00  15:35:00     1.0     1.0     -0.000004  16838.74\n",
       "2023-12-29 15:40:00  15:40:00     1.0     1.0     -0.000004  16841.74\n",
       "2023-12-29 15:45:00  15:45:00     1.0     1.0     -0.000004  16834.79\n",
       "2023-12-29 15:50:00  15:50:00     1.0     1.0     -0.000004  16826.83\n",
       "2023-12-29 15:55:00  15:55:00     1.0     1.0     -0.000004  16804.76\n",
       "\n",
       "[78271 rows x 5 columns]"
      ]
     },
     "execution_count": 138,
     "metadata": {},
     "output_type": "execute_result"
    }
   ],
   "source": [
    "spx_data[['time','hod_in','lod_in','gap_open_pct','open']]"
   ]
  },
  {
   "cell_type": "code",
   "execution_count": 139,
   "metadata": {},
   "outputs": [],
   "source": [
    "def get_low_probability(time, prev_close_pct):\n",
    "    '''\n",
    "    Function that returns the historical probability that the low is in, given a time of day and magnitude.\n",
    "    '''\n",
    "    # Filter the data for the given time and magnitude\n",
    "    relevant_data = spx_data[(spx_data['time'] == time) & (spx_data['prev_close_pct'] <= prev_close_pct)]\n",
    "    \n",
    "    # Calculate the probability\n",
    "    probability = relevant_data['lod_in'].mean()\n",
    "    \n",
    "    return probability"
   ]
  },
  {
   "cell_type": "code",
   "execution_count": 140,
   "metadata": {},
   "outputs": [],
   "source": [
    "from sklearn.pipeline import Pipeline, make_pipeline\n",
    "from sklearn.compose import ColumnTransformer\n",
    "from sklearn.linear_model import LogisticRegression\n",
    "from sklearn.preprocessing import FunctionTransformer, StandardScaler, RobustScaler\n",
    "import datetime\n",
    "\n",
    "# Function to convert time string to seconds past midnight\n",
    "def convert_time_to_seconds(time_series):\n",
    "    return time_series.apply(lambda x: x.hour * 3600 + x.minute * 60 + x.second)\n",
    "\n",
    "def apply_convert_time_to_seconds(x):\n",
    "    return x.apply(convert_time_to_seconds)\n",
    "\n",
    "time_to_seconds = FunctionTransformer(apply_convert_time_to_seconds, validate=False)\n",
    "\n",
    "# Create a column transformer\n",
    "preprocessor = ColumnTransformer(\n",
    "    transformers=[\n",
    "        ('time', make_pipeline(time_to_seconds, StandardScaler()), ['time']),\n",
    "        ('prev_close_pct', StandardScaler(), ['prev_close_pct']),\n",
    "        ('prev_close_pct_n1', StandardScaler(), ['prev_close_pct_n1']),\n",
    "        ('prev_close_pct_n2', StandardScaler(), ['prev_close_pct_n2']),\n",
    "        ('prev_close_pct_n3', StandardScaler(), ['prev_close_pct_n3']),\n",
    "        ('day_open_pct', StandardScaler(), ['day_open_pct']),\n",
    "        ('day_open_pct_n1', StandardScaler(), ['day_open_pct_n1']),\n",
    "        ('day_open_pct_n2', StandardScaler(), ['day_open_pct_n2']),\n",
    "        ('day_open_pct_n3', StandardScaler(), ['day_open_pct_n3']),\n",
    "        ('gap_open_pct', StandardScaler(), ['gap_open_pct'])\n",
    "    ])\n",
    "\n",
    "# Create the pipeline\n",
    "pipeline = Pipeline(steps=[\n",
    "    ('preprocessor', preprocessor),\n",
    "    ('classifier', LogisticRegression())\n",
    "    # ('classifier', lgb.LGBMClassifier())\n",
    "    # ('classifier', xgb.XGBClassifier())\n",
    "])\n",
    "\n",
    "df_use = spx_data.dropna(subset=[\n",
    "    'prev_close_pct',\n",
    "    'gap_open_pct',\n",
    "    'day_open_pct_n3',\n",
    "    'prev_close_pct_n3'\n",
    "    ])\n",
    "\n",
    "# Train the model\n",
    "X = df_use[[\n",
    "    'time',\n",
    "    'prev_close_pct',\n",
    "    'prev_close_pct_n1',\n",
    "    'prev_close_pct_n2',\n",
    "    'prev_close_pct_n3',\n",
    "    'day_open_pct',\n",
    "    'day_open_pct_n1',\n",
    "    'day_open_pct_n2',\n",
    "    'day_open_pct_n3',\n",
    "    'gap_open_pct'\n",
    "]]\n",
    "y_flags = df_use[['lod_in','hod_in']]\n",
    "# pipeline.fit(X, y)"
   ]
  },
  {
   "cell_type": "code",
   "execution_count": 141,
   "metadata": {},
   "outputs": [],
   "source": [
    "from sklearn.base import clone\n",
    "\n",
    "pipeline_lod = clone(pipeline)"
   ]
  },
  {
   "cell_type": "code",
   "execution_count": 142,
   "metadata": {},
   "outputs": [],
   "source": [
    "# 80/20 split, where date at 80th pct is the cutoff date\n",
    "date_idx = int(np.floor(len(X.index.date) * .9))\n",
    "cutoff_date = X.index.date[date_idx]\n",
    "\n",
    "X_train = X.loc[:cutoff_date]\n",
    "y_train = y_flags.loc[:cutoff_date]\n",
    "X_test = X.loc[cutoff_date:]\n",
    "y_test = y_flags.loc[cutoff_date:]"
   ]
  },
  {
   "cell_type": "code",
   "execution_count": 143,
   "metadata": {},
   "outputs": [
    {
     "data": {
      "text/plain": [
       "67636"
      ]
     },
     "execution_count": 143,
     "metadata": {},
     "output_type": "execute_result"
    }
   ],
   "source": [
    "len(y_train)"
   ]
  },
  {
   "cell_type": "code",
   "execution_count": 144,
   "metadata": {},
   "outputs": [
    {
     "data": {
      "text/plain": [
       "7542"
      ]
     },
     "execution_count": 144,
     "metadata": {},
     "output_type": "execute_result"
    }
   ],
   "source": [
    "len(y_test)"
   ]
  },
  {
   "cell_type": "code",
   "execution_count": 145,
   "metadata": {},
   "outputs": [
    {
     "data": {
      "text/plain": [
       "lod_in    0.633982\n",
       "hod_in    0.542315\n",
       "dtype: float64"
      ]
     },
     "execution_count": 145,
     "metadata": {},
     "output_type": "execute_result"
    }
   ],
   "source": [
    "y_train.mean()"
   ]
  },
  {
   "cell_type": "code",
   "execution_count": 146,
   "metadata": {},
   "outputs": [
    {
     "data": {
      "text/plain": [
       "lod_in    0.621188\n",
       "hod_in    0.593874\n",
       "dtype: float64"
      ]
     },
     "execution_count": 146,
     "metadata": {},
     "output_type": "execute_result"
    }
   ],
   "source": [
    "y_test.mean()"
   ]
  },
  {
   "cell_type": "code",
   "execution_count": 147,
   "metadata": {},
   "outputs": [
    {
     "data": {
      "text/plain": [
       "time                 0\n",
       "prev_close_pct       0\n",
       "prev_close_pct_n1    0\n",
       "prev_close_pct_n2    0\n",
       "prev_close_pct_n3    0\n",
       "day_open_pct         0\n",
       "day_open_pct_n1      0\n",
       "day_open_pct_n2      0\n",
       "day_open_pct_n3      0\n",
       "gap_open_pct         0\n",
       "dtype: int64"
      ]
     },
     "execution_count": 147,
     "metadata": {},
     "output_type": "execute_result"
    }
   ],
   "source": [
    "X.isnull().sum()"
   ]
  },
  {
   "cell_type": "code",
   "execution_count": 148,
   "metadata": {},
   "outputs": [
    {
     "data": {
      "text/plain": [
       "['models/lod_model_ndx.joblib']"
      ]
     },
     "execution_count": 148,
     "metadata": {},
     "output_type": "execute_result"
    }
   ],
   "source": [
    "import joblib\n",
    "hod_model = pipeline.fit(X_train, y_train['hod_in'])\n",
    "lod_model = pipeline_lod.fit(X_train, y_train['lod_in'])\n",
    "\n",
    "# Save models\n",
    "joblib.dump(hod_model, ticker_dict[tck][\"hod_model\"])\n",
    "joblib.dump(lod_model, ticker_dict[tck][\"lod_model\"])"
   ]
  },
  {
   "cell_type": "code",
   "execution_count": 149,
   "metadata": {},
   "outputs": [
    {
     "name": "stdout",
     "output_type": "stream",
     "text": [
      "ROC AUC Score: 0.8503636916412697\n",
      "Precision Score: 0.8202378176731173\n",
      "Recall Score: 0.7854431792810895\n"
     ]
    }
   ],
   "source": [
    "from sklearn.metrics import roc_auc_score, precision_score, recall_score\n",
    "\n",
    "# Metrics for HOD model\n",
    "y_pred_hod = hod_model.predict_proba(X_test)[:,-1]\n",
    "\n",
    "roc_auc_hod = roc_auc_score(y_test['hod_in'], y_pred_hod)\n",
    "precision_hod = precision_score(y_test['hod_in'], y_pred_hod > 0.5)\n",
    "recall_hod = recall_score(y_test['hod_in'], y_pred_hod > 0.5)\n",
    "\n",
    "print(f\"ROC AUC Score: {roc_auc_hod}\")\n",
    "print(f\"Precision Score: {precision_hod}\")\n",
    "print(f\"Recall Score: {recall_hod}\")"
   ]
  },
  {
   "cell_type": "code",
   "execution_count": 150,
   "metadata": {},
   "outputs": [
    {
     "name": "stdout",
     "output_type": "stream",
     "text": [
      "ROC AUC Score: 0.8470618514917209\n",
      "Precision Score: 0.7589961247462631\n",
      "Recall Score: 0.8779082177161153\n"
     ]
    }
   ],
   "source": [
    "from sklearn.metrics import roc_auc_score, precision_score, recall_score\n",
    "\n",
    "# Metrics for LOD model\n",
    "y_pred_lod = lod_model.predict_proba(X_test)[:,-1]\n",
    "\n",
    "roc_auc_lod = roc_auc_score(y_test['lod_in'], y_pred_lod)\n",
    "precision_lod = precision_score(y_test['lod_in'], y_pred_lod > 0.5)\n",
    "recall_lod = recall_score(y_test['lod_in'], y_pred_lod > 0.5)\n",
    "\n",
    "print(f\"ROC AUC Score: {roc_auc_lod}\")\n",
    "print(f\"Precision Score: {precision_lod}\")\n",
    "print(f\"Recall Score: {recall_lod}\")"
   ]
  },
  {
   "cell_type": "code",
   "execution_count": 151,
   "metadata": {},
   "outputs": [],
   "source": [
    "# feature_names = pipeline.feature_names_in_\n",
    "# coefficients = pipeline.named_steps['classifier'].feature_importances_\n",
    "# # coefficients = pipeline.named_steps['classifier'].coef_[0]\n",
    "# for feature, coef in zip(feature_names, coefficients):\n",
    "#     print(f\"{feature}: {coef}\")"
   ]
  },
  {
   "cell_type": "code",
   "execution_count": 152,
   "metadata": {},
   "outputs": [
    {
     "data": {
      "application/vnd.plotly.v1+json": {
       "config": {
        "plotlyServerURL": "https://plot.ly"
       },
       "data": [
        {
         "hovertemplate": "variable=roc_auc<br>index=%{x}<br>value=%{y}<extra></extra>",
         "legendgroup": "roc_auc",
         "line": {
          "color": "#636efa",
          "dash": "solid"
         },
         "marker": {
          "symbol": "circle"
         },
         "mode": "lines",
         "name": "roc_auc",
         "orientation": "v",
         "showlegend": true,
         "type": "scatter",
         "x": [
          "09:45:00",
          "09:50:00",
          "09:55:00",
          "10:00:00",
          "10:05:00",
          "10:10:00",
          "10:15:00",
          "10:20:00",
          "10:25:00",
          "10:30:00",
          "10:35:00",
          "10:40:00",
          "10:45:00",
          "10:50:00",
          "10:55:00",
          "11:00:00",
          "11:05:00",
          "11:10:00",
          "11:15:00",
          "11:20:00",
          "11:25:00",
          "11:30:00",
          "11:35:00",
          "11:40:00",
          "11:45:00",
          "11:50:00",
          "11:55:00",
          "12:00:00",
          "12:05:00",
          "12:10:00",
          "12:15:00",
          "12:20:00",
          "12:25:00",
          "12:30:00",
          "12:35:00",
          "12:40:00",
          "12:45:00",
          "12:50:00",
          "12:55:00",
          "13:00:00",
          "13:05:00",
          "13:10:00",
          "13:15:00",
          "13:20:00",
          "13:25:00",
          "13:30:00",
          "13:35:00",
          "13:40:00",
          "13:45:00",
          "13:50:00",
          "13:55:00",
          "14:00:00",
          "14:05:00",
          "14:10:00",
          "14:15:00",
          "14:20:00",
          "14:25:00",
          "14:30:00",
          "14:35:00",
          "14:40:00",
          "14:45:00",
          "14:50:00",
          "14:55:00",
          "15:00:00",
          "15:05:00",
          "15:10:00",
          "15:15:00",
          "15:20:00",
          "15:25:00",
          "15:30:00",
          "15:35:00",
          "15:40:00",
          "15:45:00",
          "15:50:00",
          "15:55:00"
         ],
         "xaxis": "x",
         "y": [
          0.8257894736842105,
          0.8198049892364189,
          0.8020040724466831,
          0.8013608620740005,
          0.7940758034509173,
          0.8018840850957638,
          0.8059705546802848,
          0.805539826027631,
          0.8048160542245715,
          0.8044957264957263,
          0.8041018387553039,
          0.807807825355273,
          0.8115767080591699,
          0.8122491386164854,
          0.8141567870600129,
          0.8166796721021343,
          0.8185500012776068,
          0.8208234217749313,
          0.8234355448545654,
          0.825081300813008,
          0.827048263890166,
          0.8283486707566461,
          0.8285963845228677,
          0.8298259710722022,
          0.8305740194454927,
          0.8312824156305507,
          0.8311811817295366,
          0.831235040640652,
          0.8309710220627476,
          0.8304208368354511,
          0.8307692625285912,
          0.8311078094530597,
          0.8313488949344866,
          0.8314833135977391,
          0.8310443515582274,
          0.8307733383447626,
          0.8308734626167525,
          0.8310122352478341,
          0.8309356608762403,
          0.8309280233832663,
          0.8309864385891722,
          0.8313827094844973,
          0.8317457629779952,
          0.8313895415489041,
          0.8311003909199878,
          0.8312836898777747,
          0.8317072693682976,
          0.8321869096907419,
          0.8325471960704052,
          0.8326812008048999,
          0.8327242824007177,
          0.8329341212723137,
          0.8327444775482952,
          0.8325136381485219,
          0.832560982577301,
          0.8323788502430765,
          0.8322390865447742,
          0.8323805927706053,
          0.8329041893171985,
          0.8334357035987086,
          0.833990800087724,
          0.8346490847216537,
          0.8353716971683534,
          0.8361730691404912,
          0.8368166384783705,
          0.8379157207125965,
          0.8390001924992752,
          0.8401689965594872,
          0.8413284597432382,
          0.8428251769155204,
          0.8442529294305913,
          0.8455455714701062,
          0.8465977409058238,
          0.8483482700989504,
          0.8503636916412697
         ],
         "yaxis": "y"
        },
        {
         "hovertemplate": "variable=precision<br>index=%{x}<br>value=%{y}<extra></extra>",
         "legendgroup": "precision",
         "line": {
          "color": "#EF553B",
          "dash": "solid"
         },
         "marker": {
          "symbol": "circle"
         },
         "mode": "lines",
         "name": "precision",
         "orientation": "v",
         "showlegend": true,
         "type": "scatter",
         "x": [
          "09:45:00",
          "09:50:00",
          "09:55:00",
          "10:00:00",
          "10:05:00",
          "10:10:00",
          "10:15:00",
          "10:20:00",
          "10:25:00",
          "10:30:00",
          "10:35:00",
          "10:40:00",
          "10:45:00",
          "10:50:00",
          "10:55:00",
          "11:00:00",
          "11:05:00",
          "11:10:00",
          "11:15:00",
          "11:20:00",
          "11:25:00",
          "11:30:00",
          "11:35:00",
          "11:40:00",
          "11:45:00",
          "11:50:00",
          "11:55:00",
          "12:00:00",
          "12:05:00",
          "12:10:00",
          "12:15:00",
          "12:20:00",
          "12:25:00",
          "12:30:00",
          "12:35:00",
          "12:40:00",
          "12:45:00",
          "12:50:00",
          "12:55:00",
          "13:00:00",
          "13:05:00",
          "13:10:00",
          "13:15:00",
          "13:20:00",
          "13:25:00",
          "13:30:00",
          "13:35:00",
          "13:40:00",
          "13:45:00",
          "13:50:00",
          "13:55:00",
          "14:00:00",
          "14:05:00",
          "14:10:00",
          "14:15:00",
          "14:20:00",
          "14:25:00",
          "14:30:00",
          "14:35:00",
          "14:40:00",
          "14:45:00",
          "14:50:00",
          "14:55:00",
          "15:00:00",
          "15:05:00",
          "15:10:00",
          "15:15:00",
          "15:20:00",
          "15:25:00",
          "15:30:00",
          "15:35:00",
          "15:40:00",
          "15:45:00",
          "15:50:00",
          "15:55:00"
         ],
         "xaxis": "x",
         "y": [
          1,
          0.9473684210526315,
          0.96,
          0.875,
          0.88,
          0.890625,
          0.8831168831168831,
          0.8936170212765957,
          0.8771929824561403,
          0.8676470588235294,
          0.8653846153846154,
          0.8651685393258427,
          0.8629441624365483,
          0.8603603603603603,
          0.8554216867469879,
          0.8503649635036497,
          0.8491803278688524,
          0.8498498498498499,
          0.8543956043956044,
          0.8567839195979899,
          0.8587962962962963,
          0.8633405639913232,
          0.8669354838709677,
          0.8651685393258427,
          0.8645833333333334,
          0.8624595469255664,
          0.8575757575757575,
          0.8549075391180654,
          0.852,
          0.8473091364205256,
          0.8458823529411764,
          0.844789356984479,
          0.8432601880877743,
          0.843040473840079,
          0.8411214953271028,
          0.8377425044091711,
          0.8345864661654135,
          0.8326724821570183,
          0.8288084464555053,
          0.8243727598566308,
          0.821917808219178,
          0.8205631958087753,
          0.8190356919223544,
          0.8160575194727382,
          0.8129661503155479,
          0.8114663726571113,
          0.8103813559322034,
          0.8090631364562119,
          0.807937285644292,
          0.8061320754716981,
          0.804456571168713,
          0.8026315789473685,
          0.8006771053745239,
          0.7995090016366612,
          0.7980997624703088,
          0.7967791411042945,
          0.7948717948717948,
          0.7937995674116799,
          0.7934288710241174,
          0.7930800542740841,
          0.7927512355848435,
          0.792827409542107,
          0.7937052041134309,
          0.7942961165048543,
          0.795326826382727,
          0.797231035477358,
          0.7991561181434599,
          0.8010973936899863,
          0.8029451137884873,
          0.805279665446942,
          0.807711950970378,
          0.8103319191415024,
          0.8129268292682926,
          0.8161659513590844,
          0.8202378176731173
         ],
         "yaxis": "y"
        },
        {
         "hovertemplate": "variable=recall<br>index=%{x}<br>value=%{y}<extra></extra>",
         "legendgroup": "recall",
         "line": {
          "color": "#00cc96",
          "dash": "solid"
         },
         "marker": {
          "symbol": "circle"
         },
         "mode": "lines",
         "name": "recall",
         "orientation": "v",
         "showlegend": true,
         "type": "scatter",
         "x": [
          "09:45:00",
          "09:50:00",
          "09:55:00",
          "10:00:00",
          "10:05:00",
          "10:10:00",
          "10:15:00",
          "10:20:00",
          "10:25:00",
          "10:30:00",
          "10:35:00",
          "10:40:00",
          "10:45:00",
          "10:50:00",
          "10:55:00",
          "11:00:00",
          "11:05:00",
          "11:10:00",
          "11:15:00",
          "11:20:00",
          "11:25:00",
          "11:30:00",
          "11:35:00",
          "11:40:00",
          "11:45:00",
          "11:50:00",
          "11:55:00",
          "12:00:00",
          "12:05:00",
          "12:10:00",
          "12:15:00",
          "12:20:00",
          "12:25:00",
          "12:30:00",
          "12:35:00",
          "12:40:00",
          "12:45:00",
          "12:50:00",
          "12:55:00",
          "13:00:00",
          "13:05:00",
          "13:10:00",
          "13:15:00",
          "13:20:00",
          "13:25:00",
          "13:30:00",
          "13:35:00",
          "13:40:00",
          "13:45:00",
          "13:50:00",
          "13:55:00",
          "14:00:00",
          "14:05:00",
          "14:10:00",
          "14:15:00",
          "14:20:00",
          "14:25:00",
          "14:30:00",
          "14:35:00",
          "14:40:00",
          "14:45:00",
          "14:50:00",
          "14:55:00",
          "15:00:00",
          "15:05:00",
          "15:10:00",
          "15:15:00",
          "15:20:00",
          "15:25:00",
          "15:30:00",
          "15:35:00",
          "15:40:00",
          "15:45:00",
          "15:50:00",
          "15:55:00"
         ],
         "xaxis": "x",
         "y": [
          0.36,
          0.33962264150943394,
          0.27906976744186046,
          0.2892561983471074,
          0.27848101265822783,
          0.2923076923076923,
          0.2918454935622318,
          0.3054545454545455,
          0.31545741324921134,
          0.3277777777777778,
          0.3341584158415842,
          0.34375,
          0.3448275862068966,
          0.35435992578849723,
          0.3641025641025641,
          0.3692551505546751,
          0.38200589970501475,
          0.3903448275862069,
          0.4028497409326425,
          0.41585365853658535,
          0.4274193548387097,
          0.4335511982570806,
          0.4437564499484004,
          0.4524975514201763,
          0.4641192917054986,
          0.4733570159857904,
          0.47966101694915253,
          0.48703403565640196,
          0.49611801242236025,
          0.5044709388971684,
          0.5150429799426934,
          0.5247933884297521,
          0.5347912524850894,
          0.5442957297641811,
          0.5524861878453039,
          0.5624629958555358,
          0.5711835334476844,
          0.5804311774461028,
          0.5877005347593582,
          0.5952380952380952,
          0.6018054162487463,
          0.6091395235780263,
          0.6166902404526167,
          0.6236263736263736,
          0.6306186025812194,
          0.6372294372294373,
          0.6447534766118836,
          0.6522988505747126,
          0.6596,
          0.6662768031189084,
          0.6726235741444867,
          0.6790352504638218,
          0.6855072463768116,
          0.6911920764060842,
          0.6966136834830684,
          0.7015530047265361,
          0.7061736546715087,
          0.7110106554730384,
          0.7167666561414588,
          0.7222737102255175,
          0.7273276904474002,
          0.7325443786982249,
          0.737192474674385,
          0.741643059490085,
          0.7454948710840034,
          0.7496609709791158,
          0.753780843725126,
          0.7582446117891457,
          0.7625222476481057,
          0.7667994026879045,
          0.7707115009746589,
          0.7743858812306225,
          0.7780112044817927,
          0.7816853162822562,
          0.7854431792810895
         ],
         "yaxis": "y"
        }
       ],
       "layout": {
        "legend": {
         "title": {
          "text": "variable"
         },
         "tracegroupgap": 0
        },
        "template": {
         "data": {
          "bar": [
           {
            "error_x": {
             "color": "#2a3f5f"
            },
            "error_y": {
             "color": "#2a3f5f"
            },
            "marker": {
             "line": {
              "color": "#E5ECF6",
              "width": 0.5
             },
             "pattern": {
              "fillmode": "overlay",
              "size": 10,
              "solidity": 0.2
             }
            },
            "type": "bar"
           }
          ],
          "barpolar": [
           {
            "marker": {
             "line": {
              "color": "#E5ECF6",
              "width": 0.5
             },
             "pattern": {
              "fillmode": "overlay",
              "size": 10,
              "solidity": 0.2
             }
            },
            "type": "barpolar"
           }
          ],
          "carpet": [
           {
            "aaxis": {
             "endlinecolor": "#2a3f5f",
             "gridcolor": "white",
             "linecolor": "white",
             "minorgridcolor": "white",
             "startlinecolor": "#2a3f5f"
            },
            "baxis": {
             "endlinecolor": "#2a3f5f",
             "gridcolor": "white",
             "linecolor": "white",
             "minorgridcolor": "white",
             "startlinecolor": "#2a3f5f"
            },
            "type": "carpet"
           }
          ],
          "choropleth": [
           {
            "colorbar": {
             "outlinewidth": 0,
             "ticks": ""
            },
            "type": "choropleth"
           }
          ],
          "contour": [
           {
            "colorbar": {
             "outlinewidth": 0,
             "ticks": ""
            },
            "colorscale": [
             [
              0,
              "#0d0887"
             ],
             [
              0.1111111111111111,
              "#46039f"
             ],
             [
              0.2222222222222222,
              "#7201a8"
             ],
             [
              0.3333333333333333,
              "#9c179e"
             ],
             [
              0.4444444444444444,
              "#bd3786"
             ],
             [
              0.5555555555555556,
              "#d8576b"
             ],
             [
              0.6666666666666666,
              "#ed7953"
             ],
             [
              0.7777777777777778,
              "#fb9f3a"
             ],
             [
              0.8888888888888888,
              "#fdca26"
             ],
             [
              1,
              "#f0f921"
             ]
            ],
            "type": "contour"
           }
          ],
          "contourcarpet": [
           {
            "colorbar": {
             "outlinewidth": 0,
             "ticks": ""
            },
            "type": "contourcarpet"
           }
          ],
          "heatmap": [
           {
            "colorbar": {
             "outlinewidth": 0,
             "ticks": ""
            },
            "colorscale": [
             [
              0,
              "#0d0887"
             ],
             [
              0.1111111111111111,
              "#46039f"
             ],
             [
              0.2222222222222222,
              "#7201a8"
             ],
             [
              0.3333333333333333,
              "#9c179e"
             ],
             [
              0.4444444444444444,
              "#bd3786"
             ],
             [
              0.5555555555555556,
              "#d8576b"
             ],
             [
              0.6666666666666666,
              "#ed7953"
             ],
             [
              0.7777777777777778,
              "#fb9f3a"
             ],
             [
              0.8888888888888888,
              "#fdca26"
             ],
             [
              1,
              "#f0f921"
             ]
            ],
            "type": "heatmap"
           }
          ],
          "heatmapgl": [
           {
            "colorbar": {
             "outlinewidth": 0,
             "ticks": ""
            },
            "colorscale": [
             [
              0,
              "#0d0887"
             ],
             [
              0.1111111111111111,
              "#46039f"
             ],
             [
              0.2222222222222222,
              "#7201a8"
             ],
             [
              0.3333333333333333,
              "#9c179e"
             ],
             [
              0.4444444444444444,
              "#bd3786"
             ],
             [
              0.5555555555555556,
              "#d8576b"
             ],
             [
              0.6666666666666666,
              "#ed7953"
             ],
             [
              0.7777777777777778,
              "#fb9f3a"
             ],
             [
              0.8888888888888888,
              "#fdca26"
             ],
             [
              1,
              "#f0f921"
             ]
            ],
            "type": "heatmapgl"
           }
          ],
          "histogram": [
           {
            "marker": {
             "pattern": {
              "fillmode": "overlay",
              "size": 10,
              "solidity": 0.2
             }
            },
            "type": "histogram"
           }
          ],
          "histogram2d": [
           {
            "colorbar": {
             "outlinewidth": 0,
             "ticks": ""
            },
            "colorscale": [
             [
              0,
              "#0d0887"
             ],
             [
              0.1111111111111111,
              "#46039f"
             ],
             [
              0.2222222222222222,
              "#7201a8"
             ],
             [
              0.3333333333333333,
              "#9c179e"
             ],
             [
              0.4444444444444444,
              "#bd3786"
             ],
             [
              0.5555555555555556,
              "#d8576b"
             ],
             [
              0.6666666666666666,
              "#ed7953"
             ],
             [
              0.7777777777777778,
              "#fb9f3a"
             ],
             [
              0.8888888888888888,
              "#fdca26"
             ],
             [
              1,
              "#f0f921"
             ]
            ],
            "type": "histogram2d"
           }
          ],
          "histogram2dcontour": [
           {
            "colorbar": {
             "outlinewidth": 0,
             "ticks": ""
            },
            "colorscale": [
             [
              0,
              "#0d0887"
             ],
             [
              0.1111111111111111,
              "#46039f"
             ],
             [
              0.2222222222222222,
              "#7201a8"
             ],
             [
              0.3333333333333333,
              "#9c179e"
             ],
             [
              0.4444444444444444,
              "#bd3786"
             ],
             [
              0.5555555555555556,
              "#d8576b"
             ],
             [
              0.6666666666666666,
              "#ed7953"
             ],
             [
              0.7777777777777778,
              "#fb9f3a"
             ],
             [
              0.8888888888888888,
              "#fdca26"
             ],
             [
              1,
              "#f0f921"
             ]
            ],
            "type": "histogram2dcontour"
           }
          ],
          "mesh3d": [
           {
            "colorbar": {
             "outlinewidth": 0,
             "ticks": ""
            },
            "type": "mesh3d"
           }
          ],
          "parcoords": [
           {
            "line": {
             "colorbar": {
              "outlinewidth": 0,
              "ticks": ""
             }
            },
            "type": "parcoords"
           }
          ],
          "pie": [
           {
            "automargin": true,
            "type": "pie"
           }
          ],
          "scatter": [
           {
            "fillpattern": {
             "fillmode": "overlay",
             "size": 10,
             "solidity": 0.2
            },
            "type": "scatter"
           }
          ],
          "scatter3d": [
           {
            "line": {
             "colorbar": {
              "outlinewidth": 0,
              "ticks": ""
             }
            },
            "marker": {
             "colorbar": {
              "outlinewidth": 0,
              "ticks": ""
             }
            },
            "type": "scatter3d"
           }
          ],
          "scattercarpet": [
           {
            "marker": {
             "colorbar": {
              "outlinewidth": 0,
              "ticks": ""
             }
            },
            "type": "scattercarpet"
           }
          ],
          "scattergeo": [
           {
            "marker": {
             "colorbar": {
              "outlinewidth": 0,
              "ticks": ""
             }
            },
            "type": "scattergeo"
           }
          ],
          "scattergl": [
           {
            "marker": {
             "colorbar": {
              "outlinewidth": 0,
              "ticks": ""
             }
            },
            "type": "scattergl"
           }
          ],
          "scattermapbox": [
           {
            "marker": {
             "colorbar": {
              "outlinewidth": 0,
              "ticks": ""
             }
            },
            "type": "scattermapbox"
           }
          ],
          "scatterpolar": [
           {
            "marker": {
             "colorbar": {
              "outlinewidth": 0,
              "ticks": ""
             }
            },
            "type": "scatterpolar"
           }
          ],
          "scatterpolargl": [
           {
            "marker": {
             "colorbar": {
              "outlinewidth": 0,
              "ticks": ""
             }
            },
            "type": "scatterpolargl"
           }
          ],
          "scatterternary": [
           {
            "marker": {
             "colorbar": {
              "outlinewidth": 0,
              "ticks": ""
             }
            },
            "type": "scatterternary"
           }
          ],
          "surface": [
           {
            "colorbar": {
             "outlinewidth": 0,
             "ticks": ""
            },
            "colorscale": [
             [
              0,
              "#0d0887"
             ],
             [
              0.1111111111111111,
              "#46039f"
             ],
             [
              0.2222222222222222,
              "#7201a8"
             ],
             [
              0.3333333333333333,
              "#9c179e"
             ],
             [
              0.4444444444444444,
              "#bd3786"
             ],
             [
              0.5555555555555556,
              "#d8576b"
             ],
             [
              0.6666666666666666,
              "#ed7953"
             ],
             [
              0.7777777777777778,
              "#fb9f3a"
             ],
             [
              0.8888888888888888,
              "#fdca26"
             ],
             [
              1,
              "#f0f921"
             ]
            ],
            "type": "surface"
           }
          ],
          "table": [
           {
            "cells": {
             "fill": {
              "color": "#EBF0F8"
             },
             "line": {
              "color": "white"
             }
            },
            "header": {
             "fill": {
              "color": "#C8D4E3"
             },
             "line": {
              "color": "white"
             }
            },
            "type": "table"
           }
          ]
         },
         "layout": {
          "annotationdefaults": {
           "arrowcolor": "#2a3f5f",
           "arrowhead": 0,
           "arrowwidth": 1
          },
          "autotypenumbers": "strict",
          "coloraxis": {
           "colorbar": {
            "outlinewidth": 0,
            "ticks": ""
           }
          },
          "colorscale": {
           "diverging": [
            [
             0,
             "#8e0152"
            ],
            [
             0.1,
             "#c51b7d"
            ],
            [
             0.2,
             "#de77ae"
            ],
            [
             0.3,
             "#f1b6da"
            ],
            [
             0.4,
             "#fde0ef"
            ],
            [
             0.5,
             "#f7f7f7"
            ],
            [
             0.6,
             "#e6f5d0"
            ],
            [
             0.7,
             "#b8e186"
            ],
            [
             0.8,
             "#7fbc41"
            ],
            [
             0.9,
             "#4d9221"
            ],
            [
             1,
             "#276419"
            ]
           ],
           "sequential": [
            [
             0,
             "#0d0887"
            ],
            [
             0.1111111111111111,
             "#46039f"
            ],
            [
             0.2222222222222222,
             "#7201a8"
            ],
            [
             0.3333333333333333,
             "#9c179e"
            ],
            [
             0.4444444444444444,
             "#bd3786"
            ],
            [
             0.5555555555555556,
             "#d8576b"
            ],
            [
             0.6666666666666666,
             "#ed7953"
            ],
            [
             0.7777777777777778,
             "#fb9f3a"
            ],
            [
             0.8888888888888888,
             "#fdca26"
            ],
            [
             1,
             "#f0f921"
            ]
           ],
           "sequentialminus": [
            [
             0,
             "#0d0887"
            ],
            [
             0.1111111111111111,
             "#46039f"
            ],
            [
             0.2222222222222222,
             "#7201a8"
            ],
            [
             0.3333333333333333,
             "#9c179e"
            ],
            [
             0.4444444444444444,
             "#bd3786"
            ],
            [
             0.5555555555555556,
             "#d8576b"
            ],
            [
             0.6666666666666666,
             "#ed7953"
            ],
            [
             0.7777777777777778,
             "#fb9f3a"
            ],
            [
             0.8888888888888888,
             "#fdca26"
            ],
            [
             1,
             "#f0f921"
            ]
           ]
          },
          "colorway": [
           "#636efa",
           "#EF553B",
           "#00cc96",
           "#ab63fa",
           "#FFA15A",
           "#19d3f3",
           "#FF6692",
           "#B6E880",
           "#FF97FF",
           "#FECB52"
          ],
          "font": {
           "color": "#2a3f5f"
          },
          "geo": {
           "bgcolor": "white",
           "lakecolor": "white",
           "landcolor": "#E5ECF6",
           "showlakes": true,
           "showland": true,
           "subunitcolor": "white"
          },
          "hoverlabel": {
           "align": "left"
          },
          "hovermode": "closest",
          "mapbox": {
           "style": "light"
          },
          "paper_bgcolor": "white",
          "plot_bgcolor": "#E5ECF6",
          "polar": {
           "angularaxis": {
            "gridcolor": "white",
            "linecolor": "white",
            "ticks": ""
           },
           "bgcolor": "#E5ECF6",
           "radialaxis": {
            "gridcolor": "white",
            "linecolor": "white",
            "ticks": ""
           }
          },
          "scene": {
           "xaxis": {
            "backgroundcolor": "#E5ECF6",
            "gridcolor": "white",
            "gridwidth": 2,
            "linecolor": "white",
            "showbackground": true,
            "ticks": "",
            "zerolinecolor": "white"
           },
           "yaxis": {
            "backgroundcolor": "#E5ECF6",
            "gridcolor": "white",
            "gridwidth": 2,
            "linecolor": "white",
            "showbackground": true,
            "ticks": "",
            "zerolinecolor": "white"
           },
           "zaxis": {
            "backgroundcolor": "#E5ECF6",
            "gridcolor": "white",
            "gridwidth": 2,
            "linecolor": "white",
            "showbackground": true,
            "ticks": "",
            "zerolinecolor": "white"
           }
          },
          "shapedefaults": {
           "line": {
            "color": "#2a3f5f"
           }
          },
          "ternary": {
           "aaxis": {
            "gridcolor": "white",
            "linecolor": "white",
            "ticks": ""
           },
           "baxis": {
            "gridcolor": "white",
            "linecolor": "white",
            "ticks": ""
           },
           "bgcolor": "#E5ECF6",
           "caxis": {
            "gridcolor": "white",
            "linecolor": "white",
            "ticks": ""
           }
          },
          "title": {
           "x": 0.05
          },
          "xaxis": {
           "automargin": true,
           "gridcolor": "white",
           "linecolor": "white",
           "ticks": "",
           "title": {
            "standoff": 15
           },
           "zerolinecolor": "white",
           "zerolinewidth": 2
          },
          "yaxis": {
           "automargin": true,
           "gridcolor": "white",
           "linecolor": "white",
           "ticks": "",
           "title": {
            "standoff": 15
           },
           "zerolinecolor": "white",
           "zerolinewidth": 2
          }
         }
        },
        "title": {
         "text": "Validation Metrics Over Time (HOD Model)"
        },
        "xaxis": {
         "anchor": "y",
         "domain": [
          0,
          1
         ],
         "title": {
          "text": "index"
         }
        },
        "yaxis": {
         "anchor": "x",
         "domain": [
          0,
          1
         ],
         "title": {
          "text": "value"
         }
        }
       }
      }
     },
     "metadata": {},
     "output_type": "display_data"
    }
   ],
   "source": [
    "import datetime\n",
    "import plotly.express as px\n",
    "\n",
    "\n",
    "time_range = [datetime.time(hour, minute) for hour in range(9, 16) for minute in range(0, 60, 5)]\n",
    "time_range = [x for x in time_range if x >= datetime.time(9,45)]\n",
    "df_val = pd.DataFrame()\n",
    "for t in time_range:\n",
    "    X_val = X_test.loc[X_test['time'] <= t].copy()\n",
    "    y_val = y_test.loc[X_val.index, 'hod_in'].copy()\n",
    "\n",
    "    y_pred_val = pipeline.predict_proba(X_val)[:,-1]\n",
    "\n",
    "    df_val.loc[t, [\n",
    "        'roc_auc',\n",
    "        'precision',\n",
    "        'recall'\n",
    "    ]] =  roc_auc_score(y_val, y_pred_val), precision_score(y_val, y_pred_val > 0.5), recall_score(y_val, y_pred_val > 0.5)\n",
    "\n",
    "\n",
    "fig = px.line(df_val, title='Validation Metrics Over Time (HOD Model)')\n",
    "fig.show()"
   ]
  },
  {
   "cell_type": "code",
   "execution_count": 153,
   "metadata": {},
   "outputs": [
    {
     "data": {
      "application/vnd.plotly.v1+json": {
       "config": {
        "plotlyServerURL": "https://plot.ly"
       },
       "data": [
        {
         "hovertemplate": "variable=roc_auc<br>index=%{x}<br>value=%{y}<extra></extra>",
         "legendgroup": "roc_auc",
         "line": {
          "color": "#636efa",
          "dash": "solid"
         },
         "marker": {
          "symbol": "circle"
         },
         "mode": "lines",
         "name": "roc_auc",
         "orientation": "v",
         "showlegend": true,
         "type": "scatter",
         "x": [
          "09:45:00",
          "09:50:00",
          "09:55:00",
          "10:00:00",
          "10:05:00",
          "10:10:00",
          "10:15:00",
          "10:20:00",
          "10:25:00",
          "10:30:00",
          "10:35:00",
          "10:40:00",
          "10:45:00",
          "10:50:00",
          "10:55:00",
          "11:00:00",
          "11:05:00",
          "11:10:00",
          "11:15:00",
          "11:20:00",
          "11:25:00",
          "11:30:00",
          "11:35:00",
          "11:40:00",
          "11:45:00",
          "11:50:00",
          "11:55:00",
          "12:00:00",
          "12:05:00",
          "12:10:00",
          "12:15:00",
          "12:20:00",
          "12:25:00",
          "12:30:00",
          "12:35:00",
          "12:40:00",
          "12:45:00",
          "12:50:00",
          "12:55:00",
          "13:00:00",
          "13:05:00",
          "13:10:00",
          "13:15:00",
          "13:20:00",
          "13:25:00",
          "13:30:00",
          "13:35:00",
          "13:40:00",
          "13:45:00",
          "13:50:00",
          "13:55:00",
          "14:00:00",
          "14:05:00",
          "14:10:00",
          "14:15:00",
          "14:20:00",
          "14:25:00",
          "14:30:00",
          "14:35:00",
          "14:40:00",
          "14:45:00",
          "14:50:00",
          "14:55:00",
          "15:00:00",
          "15:05:00",
          "15:10:00",
          "15:15:00",
          "15:20:00",
          "15:25:00",
          "15:30:00",
          "15:35:00",
          "15:40:00",
          "15:45:00",
          "15:50:00",
          "15:55:00"
         ],
         "xaxis": "x",
         "y": [
          0.7642642642642643,
          0.744464609800363,
          0.7346424446077917,
          0.7332286943378677,
          0.7448847926267281,
          0.7568421453313539,
          0.7620870044052863,
          0.7684224398634965,
          0.7695737335916111,
          0.7703073593073592,
          0.7741251851694344,
          0.7810792057282056,
          0.7855980146900949,
          0.7860262101938017,
          0.7853209925748786,
          0.78440065681445,
          0.7853882442942752,
          0.7863900982334073,
          0.786945644093795,
          0.787845930807781,
          0.7897662446718207,
          0.7903387841171323,
          0.791453840547496,
          0.7927575174171386,
          0.7938917008881672,
          0.7942176121617264,
          0.794570504633278,
          0.7951239245879942,
          0.7955300811176206,
          0.796546416318864,
          0.7972430104143106,
          0.7973428270236713,
          0.7975278802894584,
          0.7979267762236812,
          0.7980034768963316,
          0.7975657499467023,
          0.7972863529546628,
          0.7975760782643464,
          0.7985315335849104,
          0.7996053739915924,
          0.8009504641752964,
          0.8019595921647436,
          0.8030459798640037,
          0.8041050948389942,
          0.8052624841687144,
          0.8063847541966048,
          0.807808439505478,
          0.8093859088282658,
          0.810756773197969,
          0.8116485151329462,
          0.8125176149957085,
          0.8139865549211437,
          0.8154271368845828,
          0.8171745865657367,
          0.8187133264218165,
          0.8199068358910662,
          0.8210390577577871,
          0.8223256235747786,
          0.8236864924020453,
          0.825173631176616,
          0.8267754445377933,
          0.8284255956507308,
          0.8299478438111986,
          0.8312483860133301,
          0.8323870808587411,
          0.8334929637727301,
          0.834333521671526,
          0.8356418321115152,
          0.8369880936409837,
          0.8382903179735809,
          0.8396451407509119,
          0.8411239129461001,
          0.8426957866616676,
          0.8447684216271882,
          0.8470618514917209
         ],
         "yaxis": "y"
        },
        {
         "hovertemplate": "variable=precision<br>index=%{x}<br>value=%{y}<extra></extra>",
         "legendgroup": "precision",
         "line": {
          "color": "#EF553B",
          "dash": "solid"
         },
         "marker": {
          "symbol": "circle"
         },
         "mode": "lines",
         "name": "precision",
         "orientation": "v",
         "showlegend": true,
         "type": "scatter",
         "x": [
          "09:45:00",
          "09:50:00",
          "09:55:00",
          "10:00:00",
          "10:05:00",
          "10:10:00",
          "10:15:00",
          "10:20:00",
          "10:25:00",
          "10:30:00",
          "10:35:00",
          "10:40:00",
          "10:45:00",
          "10:50:00",
          "10:55:00",
          "11:00:00",
          "11:05:00",
          "11:10:00",
          "11:15:00",
          "11:20:00",
          "11:25:00",
          "11:30:00",
          "11:35:00",
          "11:40:00",
          "11:45:00",
          "11:50:00",
          "11:55:00",
          "12:00:00",
          "12:05:00",
          "12:10:00",
          "12:15:00",
          "12:20:00",
          "12:25:00",
          "12:30:00",
          "12:35:00",
          "12:40:00",
          "12:45:00",
          "12:50:00",
          "12:55:00",
          "13:00:00",
          "13:05:00",
          "13:10:00",
          "13:15:00",
          "13:20:00",
          "13:25:00",
          "13:30:00",
          "13:35:00",
          "13:40:00",
          "13:45:00",
          "13:50:00",
          "13:55:00",
          "14:00:00",
          "14:05:00",
          "14:10:00",
          "14:15:00",
          "14:20:00",
          "14:25:00",
          "14:30:00",
          "14:35:00",
          "14:40:00",
          "14:45:00",
          "14:50:00",
          "14:55:00",
          "15:00:00",
          "15:05:00",
          "15:10:00",
          "15:15:00",
          "15:20:00",
          "15:25:00",
          "15:30:00",
          "15:35:00",
          "15:40:00",
          "15:45:00",
          "15:50:00",
          "15:55:00"
         ],
         "xaxis": "x",
         "y": [
          0.5833333333333334,
          0.6153846153846154,
          0.5909090909090909,
          0.6190476190476191,
          0.6506024096385542,
          0.638095238095238,
          0.6390977443609023,
          0.6402439024390244,
          0.6329787234042553,
          0.641860465116279,
          0.6626506024096386,
          0.6759581881533101,
          0.6788990825688074,
          0.6820652173913043,
          0.6821515892420538,
          0.6894273127753304,
          0.697029702970297,
          0.7001795332136446,
          0.7024793388429752,
          0.7045454545454546,
          0.705718270571827,
          0.7060333761232349,
          0.7063020214030915,
          0.7071823204419889,
          0.7079463364293086,
          0.7066795740561471,
          0.7071622846781505,
          0.7072340425531914,
          0.706495589414595,
          0.7062831188493566,
          0.705798138869005,
          0.7041299932295193,
          0.7037275064267352,
          0.702075702075702,
          0.7008149010477299,
          0.6988352745424293,
          0.6966649020645844,
          0.6949924127465857,
          0.6954413191076625,
          0.6955307262569832,
          0.6968609865470852,
          0.6976241900647948,
          0.6984193011647255,
          0.699558764540714,
          0.7005036807438977,
          0.7016098839385998,
          0.7030061571894242,
          0.7043142756927394,
          0.7058823529411765,
          0.7068908671282559,
          0.708893154190659,
          0.7107797452625039,
          0.7124735729386892,
          0.7144535840188014,
          0.7163282813840435,
          0.7181843497632971,
          0.719674355495251,
          0.7219576719576719,
          0.7239422084623323,
          0.7257617728531855,
          0.7273174329972953,
          0.728866474543708,
          0.7306879549189951,
          0.7322617680826636,
          0.7339325842696629,
          0.7355917289925209,
          0.7373976734166308,
          0.739240506329114,
          0.7411618771966094,
          0.7430597771023303,
          0.7453786523553966,
          0.7481467030823254,
          0.7511008998659774,
          0.754557414019921,
          0.7589961247462631
         ],
         "yaxis": "y"
        },
        {
         "hovertemplate": "variable=recall<br>index=%{x}<br>value=%{y}<extra></extra>",
         "legendgroup": "recall",
         "line": {
          "color": "#00cc96",
          "dash": "solid"
         },
         "marker": {
          "symbol": "circle"
         },
         "mode": "lines",
         "name": "recall",
         "orientation": "v",
         "showlegend": true,
         "type": "scatter",
         "x": [
          "09:45:00",
          "09:50:00",
          "09:55:00",
          "10:00:00",
          "10:05:00",
          "10:10:00",
          "10:15:00",
          "10:20:00",
          "10:25:00",
          "10:30:00",
          "10:35:00",
          "10:40:00",
          "10:45:00",
          "10:50:00",
          "10:55:00",
          "11:00:00",
          "11:05:00",
          "11:10:00",
          "11:15:00",
          "11:20:00",
          "11:25:00",
          "11:30:00",
          "11:35:00",
          "11:40:00",
          "11:45:00",
          "11:50:00",
          "11:55:00",
          "12:00:00",
          "12:05:00",
          "12:10:00",
          "12:15:00",
          "12:20:00",
          "12:25:00",
          "12:30:00",
          "12:35:00",
          "12:40:00",
          "12:45:00",
          "12:50:00",
          "12:55:00",
          "13:00:00",
          "13:05:00",
          "13:10:00",
          "13:15:00",
          "13:20:00",
          "13:25:00",
          "13:30:00",
          "13:35:00",
          "13:40:00",
          "13:45:00",
          "13:50:00",
          "13:55:00",
          "14:00:00",
          "14:05:00",
          "14:10:00",
          "14:15:00",
          "14:20:00",
          "14:25:00",
          "14:30:00",
          "14:35:00",
          "14:40:00",
          "14:45:00",
          "14:50:00",
          "14:55:00",
          "15:00:00",
          "15:05:00",
          "15:10:00",
          "15:15:00",
          "15:20:00",
          "15:25:00",
          "15:30:00",
          "15:35:00",
          "15:40:00",
          "15:45:00",
          "15:50:00",
          "15:55:00"
         ],
         "xaxis": "x",
         "y": [
          0.25925925925925924,
          0.2807017543859649,
          0.29213483146067415,
          0.319672131147541,
          0.34838709677419355,
          0.3544973544973545,
          0.3744493392070485,
          0.39473684210526316,
          0.38762214983713356,
          0.3942857142857143,
          0.4198473282442748,
          0.4439359267734554,
          0.4605809128630705,
          0.47358490566037736,
          0.48186528497409326,
          0.49682539682539684,
          0.5161290322580645,
          0.5313351498637602,
          0.5407124681933843,
          0.5548926014319809,
          0.5685393258426966,
          0.5826271186440678,
          0.5945945945945946,
          0.6072106261859582,
          0.618018018018018,
          0.6255355612682091,
          0.636734693877551,
          0.647196261682243,
          0.6555059523809523,
          0.6645299145299145,
          0.6734972677595629,
          0.6824146981627297,
          0.6912878787878788,
          0.6995133819951338,
          0.7065727699530516,
          0.7142857142857143,
          0.7210958904109589,
          0.7285259809119831,
          0.7361396303901437,
          0.7429139731476877,
          0.7492767598842816,
          0.7557323350491343,
          0.7628350749659246,
          0.7692986325540362,
          0.7749678525503644,
          0.7805081216159934,
          0.78582995951417,
          0.7905511811023622,
          0.7950976637303715,
          0.7991054789414834,
          0.803772216177004,
          0.8081949841045567,
          0.8120481927710843,
          0.8161073825503355,
          0.8199672667757774,
          0.823961661341853,
          0.8277153558052435,
          0.8317586101798232,
          0.8356164383561644,
          0.8390101892285299,
          0.842255125284738,
          0.8454038997214485,
          0.8484187568157033,
          0.8513080619327282,
          0.8540794979079498,
          0.8567768383294901,
          0.859402460456942,
          0.8619926199261992,
          0.8644803472389679,
          0.8671080633719556,
          0.8692628650904033,
          0.8711949114039074,
          0.8733303650934996,
          0.8756815703380589,
          0.8779082177161153
         ],
         "yaxis": "y"
        }
       ],
       "layout": {
        "legend": {
         "title": {
          "text": "variable"
         },
         "tracegroupgap": 0
        },
        "template": {
         "data": {
          "bar": [
           {
            "error_x": {
             "color": "#2a3f5f"
            },
            "error_y": {
             "color": "#2a3f5f"
            },
            "marker": {
             "line": {
              "color": "#E5ECF6",
              "width": 0.5
             },
             "pattern": {
              "fillmode": "overlay",
              "size": 10,
              "solidity": 0.2
             }
            },
            "type": "bar"
           }
          ],
          "barpolar": [
           {
            "marker": {
             "line": {
              "color": "#E5ECF6",
              "width": 0.5
             },
             "pattern": {
              "fillmode": "overlay",
              "size": 10,
              "solidity": 0.2
             }
            },
            "type": "barpolar"
           }
          ],
          "carpet": [
           {
            "aaxis": {
             "endlinecolor": "#2a3f5f",
             "gridcolor": "white",
             "linecolor": "white",
             "minorgridcolor": "white",
             "startlinecolor": "#2a3f5f"
            },
            "baxis": {
             "endlinecolor": "#2a3f5f",
             "gridcolor": "white",
             "linecolor": "white",
             "minorgridcolor": "white",
             "startlinecolor": "#2a3f5f"
            },
            "type": "carpet"
           }
          ],
          "choropleth": [
           {
            "colorbar": {
             "outlinewidth": 0,
             "ticks": ""
            },
            "type": "choropleth"
           }
          ],
          "contour": [
           {
            "colorbar": {
             "outlinewidth": 0,
             "ticks": ""
            },
            "colorscale": [
             [
              0,
              "#0d0887"
             ],
             [
              0.1111111111111111,
              "#46039f"
             ],
             [
              0.2222222222222222,
              "#7201a8"
             ],
             [
              0.3333333333333333,
              "#9c179e"
             ],
             [
              0.4444444444444444,
              "#bd3786"
             ],
             [
              0.5555555555555556,
              "#d8576b"
             ],
             [
              0.6666666666666666,
              "#ed7953"
             ],
             [
              0.7777777777777778,
              "#fb9f3a"
             ],
             [
              0.8888888888888888,
              "#fdca26"
             ],
             [
              1,
              "#f0f921"
             ]
            ],
            "type": "contour"
           }
          ],
          "contourcarpet": [
           {
            "colorbar": {
             "outlinewidth": 0,
             "ticks": ""
            },
            "type": "contourcarpet"
           }
          ],
          "heatmap": [
           {
            "colorbar": {
             "outlinewidth": 0,
             "ticks": ""
            },
            "colorscale": [
             [
              0,
              "#0d0887"
             ],
             [
              0.1111111111111111,
              "#46039f"
             ],
             [
              0.2222222222222222,
              "#7201a8"
             ],
             [
              0.3333333333333333,
              "#9c179e"
             ],
             [
              0.4444444444444444,
              "#bd3786"
             ],
             [
              0.5555555555555556,
              "#d8576b"
             ],
             [
              0.6666666666666666,
              "#ed7953"
             ],
             [
              0.7777777777777778,
              "#fb9f3a"
             ],
             [
              0.8888888888888888,
              "#fdca26"
             ],
             [
              1,
              "#f0f921"
             ]
            ],
            "type": "heatmap"
           }
          ],
          "heatmapgl": [
           {
            "colorbar": {
             "outlinewidth": 0,
             "ticks": ""
            },
            "colorscale": [
             [
              0,
              "#0d0887"
             ],
             [
              0.1111111111111111,
              "#46039f"
             ],
             [
              0.2222222222222222,
              "#7201a8"
             ],
             [
              0.3333333333333333,
              "#9c179e"
             ],
             [
              0.4444444444444444,
              "#bd3786"
             ],
             [
              0.5555555555555556,
              "#d8576b"
             ],
             [
              0.6666666666666666,
              "#ed7953"
             ],
             [
              0.7777777777777778,
              "#fb9f3a"
             ],
             [
              0.8888888888888888,
              "#fdca26"
             ],
             [
              1,
              "#f0f921"
             ]
            ],
            "type": "heatmapgl"
           }
          ],
          "histogram": [
           {
            "marker": {
             "pattern": {
              "fillmode": "overlay",
              "size": 10,
              "solidity": 0.2
             }
            },
            "type": "histogram"
           }
          ],
          "histogram2d": [
           {
            "colorbar": {
             "outlinewidth": 0,
             "ticks": ""
            },
            "colorscale": [
             [
              0,
              "#0d0887"
             ],
             [
              0.1111111111111111,
              "#46039f"
             ],
             [
              0.2222222222222222,
              "#7201a8"
             ],
             [
              0.3333333333333333,
              "#9c179e"
             ],
             [
              0.4444444444444444,
              "#bd3786"
             ],
             [
              0.5555555555555556,
              "#d8576b"
             ],
             [
              0.6666666666666666,
              "#ed7953"
             ],
             [
              0.7777777777777778,
              "#fb9f3a"
             ],
             [
              0.8888888888888888,
              "#fdca26"
             ],
             [
              1,
              "#f0f921"
             ]
            ],
            "type": "histogram2d"
           }
          ],
          "histogram2dcontour": [
           {
            "colorbar": {
             "outlinewidth": 0,
             "ticks": ""
            },
            "colorscale": [
             [
              0,
              "#0d0887"
             ],
             [
              0.1111111111111111,
              "#46039f"
             ],
             [
              0.2222222222222222,
              "#7201a8"
             ],
             [
              0.3333333333333333,
              "#9c179e"
             ],
             [
              0.4444444444444444,
              "#bd3786"
             ],
             [
              0.5555555555555556,
              "#d8576b"
             ],
             [
              0.6666666666666666,
              "#ed7953"
             ],
             [
              0.7777777777777778,
              "#fb9f3a"
             ],
             [
              0.8888888888888888,
              "#fdca26"
             ],
             [
              1,
              "#f0f921"
             ]
            ],
            "type": "histogram2dcontour"
           }
          ],
          "mesh3d": [
           {
            "colorbar": {
             "outlinewidth": 0,
             "ticks": ""
            },
            "type": "mesh3d"
           }
          ],
          "parcoords": [
           {
            "line": {
             "colorbar": {
              "outlinewidth": 0,
              "ticks": ""
             }
            },
            "type": "parcoords"
           }
          ],
          "pie": [
           {
            "automargin": true,
            "type": "pie"
           }
          ],
          "scatter": [
           {
            "fillpattern": {
             "fillmode": "overlay",
             "size": 10,
             "solidity": 0.2
            },
            "type": "scatter"
           }
          ],
          "scatter3d": [
           {
            "line": {
             "colorbar": {
              "outlinewidth": 0,
              "ticks": ""
             }
            },
            "marker": {
             "colorbar": {
              "outlinewidth": 0,
              "ticks": ""
             }
            },
            "type": "scatter3d"
           }
          ],
          "scattercarpet": [
           {
            "marker": {
             "colorbar": {
              "outlinewidth": 0,
              "ticks": ""
             }
            },
            "type": "scattercarpet"
           }
          ],
          "scattergeo": [
           {
            "marker": {
             "colorbar": {
              "outlinewidth": 0,
              "ticks": ""
             }
            },
            "type": "scattergeo"
           }
          ],
          "scattergl": [
           {
            "marker": {
             "colorbar": {
              "outlinewidth": 0,
              "ticks": ""
             }
            },
            "type": "scattergl"
           }
          ],
          "scattermapbox": [
           {
            "marker": {
             "colorbar": {
              "outlinewidth": 0,
              "ticks": ""
             }
            },
            "type": "scattermapbox"
           }
          ],
          "scatterpolar": [
           {
            "marker": {
             "colorbar": {
              "outlinewidth": 0,
              "ticks": ""
             }
            },
            "type": "scatterpolar"
           }
          ],
          "scatterpolargl": [
           {
            "marker": {
             "colorbar": {
              "outlinewidth": 0,
              "ticks": ""
             }
            },
            "type": "scatterpolargl"
           }
          ],
          "scatterternary": [
           {
            "marker": {
             "colorbar": {
              "outlinewidth": 0,
              "ticks": ""
             }
            },
            "type": "scatterternary"
           }
          ],
          "surface": [
           {
            "colorbar": {
             "outlinewidth": 0,
             "ticks": ""
            },
            "colorscale": [
             [
              0,
              "#0d0887"
             ],
             [
              0.1111111111111111,
              "#46039f"
             ],
             [
              0.2222222222222222,
              "#7201a8"
             ],
             [
              0.3333333333333333,
              "#9c179e"
             ],
             [
              0.4444444444444444,
              "#bd3786"
             ],
             [
              0.5555555555555556,
              "#d8576b"
             ],
             [
              0.6666666666666666,
              "#ed7953"
             ],
             [
              0.7777777777777778,
              "#fb9f3a"
             ],
             [
              0.8888888888888888,
              "#fdca26"
             ],
             [
              1,
              "#f0f921"
             ]
            ],
            "type": "surface"
           }
          ],
          "table": [
           {
            "cells": {
             "fill": {
              "color": "#EBF0F8"
             },
             "line": {
              "color": "white"
             }
            },
            "header": {
             "fill": {
              "color": "#C8D4E3"
             },
             "line": {
              "color": "white"
             }
            },
            "type": "table"
           }
          ]
         },
         "layout": {
          "annotationdefaults": {
           "arrowcolor": "#2a3f5f",
           "arrowhead": 0,
           "arrowwidth": 1
          },
          "autotypenumbers": "strict",
          "coloraxis": {
           "colorbar": {
            "outlinewidth": 0,
            "ticks": ""
           }
          },
          "colorscale": {
           "diverging": [
            [
             0,
             "#8e0152"
            ],
            [
             0.1,
             "#c51b7d"
            ],
            [
             0.2,
             "#de77ae"
            ],
            [
             0.3,
             "#f1b6da"
            ],
            [
             0.4,
             "#fde0ef"
            ],
            [
             0.5,
             "#f7f7f7"
            ],
            [
             0.6,
             "#e6f5d0"
            ],
            [
             0.7,
             "#b8e186"
            ],
            [
             0.8,
             "#7fbc41"
            ],
            [
             0.9,
             "#4d9221"
            ],
            [
             1,
             "#276419"
            ]
           ],
           "sequential": [
            [
             0,
             "#0d0887"
            ],
            [
             0.1111111111111111,
             "#46039f"
            ],
            [
             0.2222222222222222,
             "#7201a8"
            ],
            [
             0.3333333333333333,
             "#9c179e"
            ],
            [
             0.4444444444444444,
             "#bd3786"
            ],
            [
             0.5555555555555556,
             "#d8576b"
            ],
            [
             0.6666666666666666,
             "#ed7953"
            ],
            [
             0.7777777777777778,
             "#fb9f3a"
            ],
            [
             0.8888888888888888,
             "#fdca26"
            ],
            [
             1,
             "#f0f921"
            ]
           ],
           "sequentialminus": [
            [
             0,
             "#0d0887"
            ],
            [
             0.1111111111111111,
             "#46039f"
            ],
            [
             0.2222222222222222,
             "#7201a8"
            ],
            [
             0.3333333333333333,
             "#9c179e"
            ],
            [
             0.4444444444444444,
             "#bd3786"
            ],
            [
             0.5555555555555556,
             "#d8576b"
            ],
            [
             0.6666666666666666,
             "#ed7953"
            ],
            [
             0.7777777777777778,
             "#fb9f3a"
            ],
            [
             0.8888888888888888,
             "#fdca26"
            ],
            [
             1,
             "#f0f921"
            ]
           ]
          },
          "colorway": [
           "#636efa",
           "#EF553B",
           "#00cc96",
           "#ab63fa",
           "#FFA15A",
           "#19d3f3",
           "#FF6692",
           "#B6E880",
           "#FF97FF",
           "#FECB52"
          ],
          "font": {
           "color": "#2a3f5f"
          },
          "geo": {
           "bgcolor": "white",
           "lakecolor": "white",
           "landcolor": "#E5ECF6",
           "showlakes": true,
           "showland": true,
           "subunitcolor": "white"
          },
          "hoverlabel": {
           "align": "left"
          },
          "hovermode": "closest",
          "mapbox": {
           "style": "light"
          },
          "paper_bgcolor": "white",
          "plot_bgcolor": "#E5ECF6",
          "polar": {
           "angularaxis": {
            "gridcolor": "white",
            "linecolor": "white",
            "ticks": ""
           },
           "bgcolor": "#E5ECF6",
           "radialaxis": {
            "gridcolor": "white",
            "linecolor": "white",
            "ticks": ""
           }
          },
          "scene": {
           "xaxis": {
            "backgroundcolor": "#E5ECF6",
            "gridcolor": "white",
            "gridwidth": 2,
            "linecolor": "white",
            "showbackground": true,
            "ticks": "",
            "zerolinecolor": "white"
           },
           "yaxis": {
            "backgroundcolor": "#E5ECF6",
            "gridcolor": "white",
            "gridwidth": 2,
            "linecolor": "white",
            "showbackground": true,
            "ticks": "",
            "zerolinecolor": "white"
           },
           "zaxis": {
            "backgroundcolor": "#E5ECF6",
            "gridcolor": "white",
            "gridwidth": 2,
            "linecolor": "white",
            "showbackground": true,
            "ticks": "",
            "zerolinecolor": "white"
           }
          },
          "shapedefaults": {
           "line": {
            "color": "#2a3f5f"
           }
          },
          "ternary": {
           "aaxis": {
            "gridcolor": "white",
            "linecolor": "white",
            "ticks": ""
           },
           "baxis": {
            "gridcolor": "white",
            "linecolor": "white",
            "ticks": ""
           },
           "bgcolor": "#E5ECF6",
           "caxis": {
            "gridcolor": "white",
            "linecolor": "white",
            "ticks": ""
           }
          },
          "title": {
           "x": 0.05
          },
          "xaxis": {
           "automargin": true,
           "gridcolor": "white",
           "linecolor": "white",
           "ticks": "",
           "title": {
            "standoff": 15
           },
           "zerolinecolor": "white",
           "zerolinewidth": 2
          },
          "yaxis": {
           "automargin": true,
           "gridcolor": "white",
           "linecolor": "white",
           "ticks": "",
           "title": {
            "standoff": 15
           },
           "zerolinecolor": "white",
           "zerolinewidth": 2
          }
         }
        },
        "title": {
         "text": "Validation Metrics Over Time (LOD Model)"
        },
        "xaxis": {
         "anchor": "y",
         "domain": [
          0,
          1
         ],
         "title": {
          "text": "index"
         }
        },
        "yaxis": {
         "anchor": "x",
         "domain": [
          0,
          1
         ],
         "title": {
          "text": "value"
         }
        }
       }
      }
     },
     "metadata": {},
     "output_type": "display_data"
    }
   ],
   "source": [
    "import datetime\n",
    "import plotly.express as px\n",
    "\n",
    "\n",
    "time_range = [datetime.time(hour, minute) for hour in range(9, 16) for minute in range(0, 60, 5)]\n",
    "time_range = [x for x in time_range if x >= datetime.time(9,45)]\n",
    "df_val = pd.DataFrame()\n",
    "for t in time_range:\n",
    "    X_val = X_test.loc[X_test['time'] <= t].copy()\n",
    "    y_val = y_test.loc[X_val.index, 'lod_in'].copy()\n",
    "\n",
    "    y_pred_val = pipeline_lod.predict_proba(X_val)[:,-1]\n",
    "\n",
    "    df_val.loc[t, [\n",
    "        'roc_auc',\n",
    "        'precision',\n",
    "        'recall'\n",
    "    ]] =  roc_auc_score(y_val, y_pred_val), precision_score(y_val, y_pred_val > 0.5), recall_score(y_val, y_pred_val > 0.5)\n",
    "\n",
    "\n",
    "fig = px.line(df_val, title='Validation Metrics Over Time (LOD Model)')\n",
    "fig.show()"
   ]
  },
  {
   "cell_type": "code",
   "execution_count": 154,
   "metadata": {},
   "outputs": [],
   "source": [
    "df_results = X_test.copy()\n",
    "df_results['pred_hod'] = y_pred_hod\n",
    "df_results['pred_lod'] = y_pred_lod"
   ]
  },
  {
   "cell_type": "code",
   "execution_count": 155,
   "metadata": {},
   "outputs": [
    {
     "data": {
      "text/plain": [
       "Timestamp('2023-08-08 09:45:00')"
      ]
     },
     "execution_count": 155,
     "metadata": {},
     "output_type": "execute_result"
    }
   ],
   "source": [
    "X_test.index[0]"
   ]
  },
  {
   "cell_type": "code",
   "execution_count": 156,
   "metadata": {},
   "outputs": [
    {
     "data": {
      "application/vnd.plotly.v1+json": {
       "config": {
        "plotlyServerURL": "https://plot.ly"
       },
       "data": [
        {
         "close": [
          16911.24,
          16913.16,
          16909.22,
          16903.99,
          16910.12,
          16907.27,
          16903.04,
          16897.23,
          16905.9,
          16886.82,
          16876.36,
          16850.94,
          16821.17,
          16823.93,
          16832.04,
          16834.98,
          16814.03,
          16792.2,
          16784.79,
          16768.96,
          16758.84,
          16765.31,
          16768.35,
          16771.6,
          16790.6,
          16791.74,
          16793.22,
          16795.24,
          16782.56,
          16773.22,
          16777.01,
          16768.6,
          16765.34,
          16781.2,
          16782.55,
          16787.75,
          16788.45,
          16795.15,
          16807.13,
          16817.7,
          16828.56,
          16826.68,
          16818.57,
          16816.3,
          16813.76,
          16817.46,
          16831.12,
          16835.3,
          16847.51,
          16833.45,
          16836.99,
          16837.32,
          16837.25,
          16834.87,
          16840.22,
          16845.53,
          16831.34,
          16838.93,
          16841.34,
          16839.64,
          16844.63,
          16849.19,
          16854.6,
          16838.14,
          16853.59,
          16851.58,
          16844.56,
          16839.56,
          16848.46,
          16839.13,
          16841.75,
          16835.1,
          16830.62,
          16808.88,
          16828.29
         ],
         "high": [
          16913.14,
          16916.61,
          16916.59,
          16909.46,
          16919.51,
          16911.25,
          16908.27,
          16904.55,
          16907.11,
          16907.12,
          16888.61,
          16876.3,
          16852.14,
          16835.14,
          16835.08,
          16838.38,
          16835.5,
          16814.84,
          16792.22,
          16785.78,
          16770.06,
          16767.74,
          16768.84,
          16773.25,
          16790.78,
          16792.49,
          16797.92,
          16803.48,
          16795.43,
          16785.24,
          16779.44,
          16783.26,
          16768.98,
          16782.28,
          16783.97,
          16788.31,
          16794.29,
          16797.83,
          16807.94,
          16818.96,
          16832.92,
          16833.67,
          16826.66,
          16820.29,
          16818.08,
          16820.45,
          16831.25,
          16839.84,
          16847.68,
          16847.71,
          16838.91,
          16845.02,
          16841.27,
          16840.31,
          16840.33,
          16846.34,
          16846.63,
          16839.47,
          16843.26,
          16844.83,
          16845.22,
          16850.76,
          16855.96,
          16854.51,
          16853.59,
          16859.1,
          16852.77,
          16844.73,
          16851.26,
          16848.74,
          16842.86,
          16847.36,
          16837.59,
          16840.57,
          16841.42
         ],
         "low": [
          16903.32,
          16908.38,
          16908.96,
          16900.02,
          16903.7,
          16905.55,
          16901.31,
          16897.18,
          16895.44,
          16881.91,
          16876.36,
          16846.12,
          16820.36,
          16821.18,
          16821.9,
          16830.6,
          16805.93,
          16792.2,
          16770.05,
          16765.78,
          16758.21,
          16757.88,
          16759.76,
          16767.78,
          16771.51,
          16782.62,
          16790.08,
          16792.32,
          16781.85,
          16773.12,
          16771.68,
          16761.61,
          16763.73,
          16764.94,
          16776.87,
          16781.76,
          16787.06,
          16786.45,
          16795.1,
          16802.84,
          16817.74,
          16826.2,
          16816.62,
          16811.71,
          16813.51,
          16813.15,
          16817.16,
          16828.4,
          16832.24,
          16832.25,
          16831.6,
          16834.46,
          16836.57,
          16832.35,
          16833.92,
          16838.25,
          16831.34,
          16831.25,
          16837.48,
          16838.47,
          16839.14,
          16844.67,
          16849.22,
          16837.65,
          16833.8,
          16845.88,
          16844,
          16832.41,
          16839.92,
          16839.13,
          16838.01,
          16834.87,
          16830.15,
          16808.74,
          16800.79
         ],
         "open": [
          16912.72,
          16911.16,
          16912.94,
          16909.46,
          16904.18,
          16909.64,
          16907.57,
          16902.78,
          16897.22,
          16906.49,
          16886.69,
          16876.3,
          16850.99,
          16822.21,
          16823.7,
          16832.13,
          16835,
          16814.33,
          16792.22,
          16784.98,
          16769.53,
          16758.66,
          16765.23,
          16767.78,
          16771.51,
          16791.04,
          16791.84,
          16792.87,
          16795.24,
          16782.31,
          16772.51,
          16777.07,
          16768.55,
          16765.42,
          16781.24,
          16782.54,
          16787.56,
          16787.94,
          16795.1,
          16806.78,
          16817.74,
          16828.5,
          16826.53,
          16818.62,
          16816.25,
          16813.77,
          16817.16,
          16831.17,
          16835.24,
          16847.57,
          16833.01,
          16837.63,
          16837.37,
          16837.16,
          16834.88,
          16840.48,
          16845.14,
          16831.25,
          16838.93,
          16841.32,
          16839.91,
          16844.73,
          16849.22,
          16854.42,
          16838.12,
          16853.58,
          16851.67,
          16844.58,
          16839.92,
          16848.35,
          16838.74,
          16841.74,
          16834.79,
          16826.83,
          16804.76
         ],
         "type": "candlestick",
         "x": [
          "2023-12-29T09:45:00",
          "2023-12-29T09:50:00",
          "2023-12-29T09:55:00",
          "2023-12-29T10:00:00",
          "2023-12-29T10:05:00",
          "2023-12-29T10:10:00",
          "2023-12-29T10:15:00",
          "2023-12-29T10:20:00",
          "2023-12-29T10:25:00",
          "2023-12-29T10:30:00",
          "2023-12-29T10:35:00",
          "2023-12-29T10:40:00",
          "2023-12-29T10:45:00",
          "2023-12-29T10:50:00",
          "2023-12-29T10:55:00",
          "2023-12-29T11:00:00",
          "2023-12-29T11:05:00",
          "2023-12-29T11:10:00",
          "2023-12-29T11:15:00",
          "2023-12-29T11:20:00",
          "2023-12-29T11:25:00",
          "2023-12-29T11:30:00",
          "2023-12-29T11:35:00",
          "2023-12-29T11:40:00",
          "2023-12-29T11:45:00",
          "2023-12-29T11:50:00",
          "2023-12-29T11:55:00",
          "2023-12-29T12:00:00",
          "2023-12-29T12:05:00",
          "2023-12-29T12:10:00",
          "2023-12-29T12:15:00",
          "2023-12-29T12:20:00",
          "2023-12-29T12:25:00",
          "2023-12-29T12:30:00",
          "2023-12-29T12:35:00",
          "2023-12-29T12:40:00",
          "2023-12-29T12:45:00",
          "2023-12-29T12:50:00",
          "2023-12-29T12:55:00",
          "2023-12-29T13:00:00",
          "2023-12-29T13:05:00",
          "2023-12-29T13:10:00",
          "2023-12-29T13:15:00",
          "2023-12-29T13:20:00",
          "2023-12-29T13:25:00",
          "2023-12-29T13:30:00",
          "2023-12-29T13:35:00",
          "2023-12-29T13:40:00",
          "2023-12-29T13:45:00",
          "2023-12-29T13:50:00",
          "2023-12-29T13:55:00",
          "2023-12-29T14:00:00",
          "2023-12-29T14:05:00",
          "2023-12-29T14:10:00",
          "2023-12-29T14:15:00",
          "2023-12-29T14:20:00",
          "2023-12-29T14:25:00",
          "2023-12-29T14:30:00",
          "2023-12-29T14:35:00",
          "2023-12-29T14:40:00",
          "2023-12-29T14:45:00",
          "2023-12-29T14:50:00",
          "2023-12-29T14:55:00",
          "2023-12-29T15:00:00",
          "2023-12-29T15:05:00",
          "2023-12-29T15:10:00",
          "2023-12-29T15:15:00",
          "2023-12-29T15:20:00",
          "2023-12-29T15:25:00",
          "2023-12-29T15:30:00",
          "2023-12-29T15:35:00",
          "2023-12-29T15:40:00",
          "2023-12-29T15:45:00",
          "2023-12-29T15:50:00",
          "2023-12-29T15:55:00"
         ]
        },
        {
         "line": {
          "color": "#ff5f5f"
         },
         "mode": "lines",
         "name": "pred_hod",
         "type": "scatter",
         "x": [
          "2023-12-29T09:45:00",
          "2023-12-29T09:50:00",
          "2023-12-29T09:55:00",
          "2023-12-29T10:00:00",
          "2023-12-29T10:05:00",
          "2023-12-29T10:10:00",
          "2023-12-29T10:15:00",
          "2023-12-29T10:20:00",
          "2023-12-29T10:25:00",
          "2023-12-29T10:30:00",
          "2023-12-29T10:35:00",
          "2023-12-29T10:40:00",
          "2023-12-29T10:45:00",
          "2023-12-29T10:50:00",
          "2023-12-29T10:55:00",
          "2023-12-29T11:00:00",
          "2023-12-29T11:05:00",
          "2023-12-29T11:10:00",
          "2023-12-29T11:15:00",
          "2023-12-29T11:20:00",
          "2023-12-29T11:25:00",
          "2023-12-29T11:30:00",
          "2023-12-29T11:35:00",
          "2023-12-29T11:40:00",
          "2023-12-29T11:45:00",
          "2023-12-29T11:50:00",
          "2023-12-29T11:55:00",
          "2023-12-29T12:00:00",
          "2023-12-29T12:05:00",
          "2023-12-29T12:10:00",
          "2023-12-29T12:15:00",
          "2023-12-29T12:20:00",
          "2023-12-29T12:25:00",
          "2023-12-29T12:30:00",
          "2023-12-29T12:35:00",
          "2023-12-29T12:40:00",
          "2023-12-29T12:45:00",
          "2023-12-29T12:50:00",
          "2023-12-29T12:55:00",
          "2023-12-29T13:00:00",
          "2023-12-29T13:05:00",
          "2023-12-29T13:10:00",
          "2023-12-29T13:15:00",
          "2023-12-29T13:20:00",
          "2023-12-29T13:25:00",
          "2023-12-29T13:30:00",
          "2023-12-29T13:35:00",
          "2023-12-29T13:40:00",
          "2023-12-29T13:45:00",
          "2023-12-29T13:50:00",
          "2023-12-29T13:55:00",
          "2023-12-29T14:00:00",
          "2023-12-29T14:05:00",
          "2023-12-29T14:10:00",
          "2023-12-29T14:15:00",
          "2023-12-29T14:20:00",
          "2023-12-29T14:25:00",
          "2023-12-29T14:30:00",
          "2023-12-29T14:35:00",
          "2023-12-29T14:40:00",
          "2023-12-29T14:45:00",
          "2023-12-29T14:50:00",
          "2023-12-29T14:55:00",
          "2023-12-29T15:00:00",
          "2023-12-29T15:05:00",
          "2023-12-29T15:10:00",
          "2023-12-29T15:15:00",
          "2023-12-29T15:20:00",
          "2023-12-29T15:25:00",
          "2023-12-29T15:30:00",
          "2023-12-29T15:35:00",
          "2023-12-29T15:40:00",
          "2023-12-29T15:45:00",
          "2023-12-29T15:50:00",
          "2023-12-29T15:55:00"
         ],
         "y": [
          0.23176712651673598,
          0.2371143426856545,
          0.26528776191632697,
          0.28821893506019247,
          0.27241399654786075,
          0.2890626080737427,
          0.30494975886337544,
          0.343141458075072,
          0.30816692284534425,
          0.3964823166519566,
          0.4302313331497749,
          0.5619869340700699,
          0.6526519113240971,
          0.610496619050517,
          0.5412554205256609,
          0.4938822770810743,
          0.6066645628993276,
          0.7045677724968672,
          0.729492114106638,
          0.760134554598022,
          0.7654273836469735,
          0.7342249086971845,
          0.7127552316970536,
          0.6966609227857057,
          0.6395891427109016,
          0.6617690365319234,
          0.6715701693829094,
          0.7006095452068131,
          0.757460944397397,
          0.7897574067179953,
          0.7813523996958456,
          0.800846258071725,
          0.8028763493161875,
          0.761845419046087,
          0.7627144549195599,
          0.749985057937447,
          0.7769698048811208,
          0.7643263613846079,
          0.7407293094180009,
          0.7184756677099938,
          0.7019668712264377,
          0.7404494850041945,
          0.7870552398592813,
          0.8079353434130965,
          0.8176876552586688,
          0.8035454446886507,
          0.7667705464407488,
          0.7645635486680157,
          0.7376216812879781,
          0.8121393575422603,
          0.8065432057593622,
          0.8247797738668615,
          0.8171882787448856,
          0.83267476379093,
          0.8234775925034384,
          0.816999608984256,
          0.8581924243087261,
          0.8447684766497013,
          0.8510385196187001,
          0.8491761053015683,
          0.8483901613723297,
          0.8465544387397019,
          0.8390617090656278,
          0.8856603892570044,
          0.8560950655177071,
          0.8740677529287039,
          0.8803123292395681,
          0.9010992367956231,
          0.8862496141843571,
          0.9040621307582979,
          0.8980117944950863,
          0.9170205634306213,
          0.9200406407853056,
          0.9471833572138939,
          0.9208838402459579
         ],
         "yaxis": "y2"
        },
        {
         "line": {
          "color": "#3399cc"
         },
         "mode": "lines",
         "name": "pred_lod",
         "type": "scatter",
         "x": [
          "2023-12-29T09:45:00",
          "2023-12-29T09:50:00",
          "2023-12-29T09:55:00",
          "2023-12-29T10:00:00",
          "2023-12-29T10:05:00",
          "2023-12-29T10:10:00",
          "2023-12-29T10:15:00",
          "2023-12-29T10:20:00",
          "2023-12-29T10:25:00",
          "2023-12-29T10:30:00",
          "2023-12-29T10:35:00",
          "2023-12-29T10:40:00",
          "2023-12-29T10:45:00",
          "2023-12-29T10:50:00",
          "2023-12-29T10:55:00",
          "2023-12-29T11:00:00",
          "2023-12-29T11:05:00",
          "2023-12-29T11:10:00",
          "2023-12-29T11:15:00",
          "2023-12-29T11:20:00",
          "2023-12-29T11:25:00",
          "2023-12-29T11:30:00",
          "2023-12-29T11:35:00",
          "2023-12-29T11:40:00",
          "2023-12-29T11:45:00",
          "2023-12-29T11:50:00",
          "2023-12-29T11:55:00",
          "2023-12-29T12:00:00",
          "2023-12-29T12:05:00",
          "2023-12-29T12:10:00",
          "2023-12-29T12:15:00",
          "2023-12-29T12:20:00",
          "2023-12-29T12:25:00",
          "2023-12-29T12:30:00",
          "2023-12-29T12:35:00",
          "2023-12-29T12:40:00",
          "2023-12-29T12:45:00",
          "2023-12-29T12:50:00",
          "2023-12-29T12:55:00",
          "2023-12-29T13:00:00",
          "2023-12-29T13:05:00",
          "2023-12-29T13:10:00",
          "2023-12-29T13:15:00",
          "2023-12-29T13:20:00",
          "2023-12-29T13:25:00",
          "2023-12-29T13:30:00",
          "2023-12-29T13:35:00",
          "2023-12-29T13:40:00",
          "2023-12-29T13:45:00",
          "2023-12-29T13:50:00",
          "2023-12-29T13:55:00",
          "2023-12-29T14:00:00",
          "2023-12-29T14:05:00",
          "2023-12-29T14:10:00",
          "2023-12-29T14:15:00",
          "2023-12-29T14:20:00",
          "2023-12-29T14:25:00",
          "2023-12-29T14:30:00",
          "2023-12-29T14:35:00",
          "2023-12-29T14:40:00",
          "2023-12-29T14:45:00",
          "2023-12-29T14:50:00",
          "2023-12-29T14:55:00",
          "2023-12-29T15:00:00",
          "2023-12-29T15:05:00",
          "2023-12-29T15:10:00",
          "2023-12-29T15:15:00",
          "2023-12-29T15:20:00",
          "2023-12-29T15:25:00",
          "2023-12-29T15:30:00",
          "2023-12-29T15:35:00",
          "2023-12-29T15:40:00",
          "2023-12-29T15:45:00",
          "2023-12-29T15:50:00",
          "2023-12-29T15:55:00"
         ],
         "y": [
          0.33830057238868033,
          0.34868464400873633,
          0.33264948525543164,
          0.32547047363926573,
          0.3613208756180153,
          0.3624567790680029,
          0.3641686907641454,
          0.34204062293645543,
          0.3988627170627378,
          0.3296509269661192,
          0.31719988840087954,
          0.22897063371380133,
          0.1833232560015895,
          0.22889305108227256,
          0.3064876622086074,
          0.37255706806047123,
          0.28872795650668454,
          0.2203200924842175,
          0.21410520107026867,
          0.20525389179909262,
          0.21739785707126386,
          0.2647237749873671,
          0.3067502211656339,
          0.34284326906512685,
          0.42097005611792054,
          0.4164027564627288,
          0.4230298289826874,
          0.40612679616688424,
          0.3571536697745301,
          0.3333304920370342,
          0.3637138055060247,
          0.35873363980416434,
          0.37607997420609035,
          0.45408343612642,
          0.4754466329810887,
          0.5121318469355074,
          0.4917682424782782,
          0.5291147394602067,
          0.5793204502127636,
          0.6250975945749158,
          0.6598710580374095,
          0.6316504789239202,
          0.586417425597393,
          0.5726412209947446,
          0.5780519238561566,
          0.6214419224274574,
          0.6895249988674013,
          0.7095027739935837,
          0.7520876232932046,
          0.6790913665521254,
          0.7022401462821174,
          0.6929005530917426,
          0.7225560721335297,
          0.7167619377730942,
          0.7453279234749121,
          0.7685776152998189,
          0.726842180314508,
          0.7610563304903615,
          0.7672522997843696,
          0.7855025020938756,
          0.7986681253631374,
          0.813422022713125,
          0.83339439528342,
          0.7842974406994783,
          0.8359534622979388,
          0.8261841397181389,
          0.8306482616252182,
          0.8092961378192414,
          0.8438314347802891,
          0.8302265494862843,
          0.8502422325142425,
          0.8302837940487532,
          0.8368994706185556,
          0.7815188118051491,
          0.8572953074025892
         ],
         "yaxis": "y2"
        }
       ],
       "layout": {
        "legend": {
         "orientation": "h",
         "x": 1,
         "xanchor": "right",
         "y": 1.02,
         "yanchor": "bottom"
        },
        "shapes": [
         {
          "line": {
           "color": "Red",
           "dash": "dash",
           "width": 1.5
          },
          "type": "line",
          "x0": "2023-12-29T09:45:00",
          "x1": "2023-12-29T15:55:00",
          "y0": 0.5,
          "y1": 0.5,
          "yref": "y2"
         }
        ],
        "template": {
         "data": {
          "bar": [
           {
            "error_x": {
             "color": "#f2f5fa"
            },
            "error_y": {
             "color": "#f2f5fa"
            },
            "marker": {
             "line": {
              "color": "rgb(17,17,17)",
              "width": 0.5
             },
             "pattern": {
              "fillmode": "overlay",
              "size": 10,
              "solidity": 0.2
             }
            },
            "type": "bar"
           }
          ],
          "barpolar": [
           {
            "marker": {
             "line": {
              "color": "rgb(17,17,17)",
              "width": 0.5
             },
             "pattern": {
              "fillmode": "overlay",
              "size": 10,
              "solidity": 0.2
             }
            },
            "type": "barpolar"
           }
          ],
          "carpet": [
           {
            "aaxis": {
             "endlinecolor": "#A2B1C6",
             "gridcolor": "#506784",
             "linecolor": "#506784",
             "minorgridcolor": "#506784",
             "startlinecolor": "#A2B1C6"
            },
            "baxis": {
             "endlinecolor": "#A2B1C6",
             "gridcolor": "#506784",
             "linecolor": "#506784",
             "minorgridcolor": "#506784",
             "startlinecolor": "#A2B1C6"
            },
            "type": "carpet"
           }
          ],
          "choropleth": [
           {
            "colorbar": {
             "outlinewidth": 0,
             "ticks": ""
            },
            "type": "choropleth"
           }
          ],
          "contour": [
           {
            "colorbar": {
             "outlinewidth": 0,
             "ticks": ""
            },
            "colorscale": [
             [
              0,
              "#0d0887"
             ],
             [
              0.1111111111111111,
              "#46039f"
             ],
             [
              0.2222222222222222,
              "#7201a8"
             ],
             [
              0.3333333333333333,
              "#9c179e"
             ],
             [
              0.4444444444444444,
              "#bd3786"
             ],
             [
              0.5555555555555556,
              "#d8576b"
             ],
             [
              0.6666666666666666,
              "#ed7953"
             ],
             [
              0.7777777777777778,
              "#fb9f3a"
             ],
             [
              0.8888888888888888,
              "#fdca26"
             ],
             [
              1,
              "#f0f921"
             ]
            ],
            "type": "contour"
           }
          ],
          "contourcarpet": [
           {
            "colorbar": {
             "outlinewidth": 0,
             "ticks": ""
            },
            "type": "contourcarpet"
           }
          ],
          "heatmap": [
           {
            "colorbar": {
             "outlinewidth": 0,
             "ticks": ""
            },
            "colorscale": [
             [
              0,
              "#0d0887"
             ],
             [
              0.1111111111111111,
              "#46039f"
             ],
             [
              0.2222222222222222,
              "#7201a8"
             ],
             [
              0.3333333333333333,
              "#9c179e"
             ],
             [
              0.4444444444444444,
              "#bd3786"
             ],
             [
              0.5555555555555556,
              "#d8576b"
             ],
             [
              0.6666666666666666,
              "#ed7953"
             ],
             [
              0.7777777777777778,
              "#fb9f3a"
             ],
             [
              0.8888888888888888,
              "#fdca26"
             ],
             [
              1,
              "#f0f921"
             ]
            ],
            "type": "heatmap"
           }
          ],
          "heatmapgl": [
           {
            "colorbar": {
             "outlinewidth": 0,
             "ticks": ""
            },
            "colorscale": [
             [
              0,
              "#0d0887"
             ],
             [
              0.1111111111111111,
              "#46039f"
             ],
             [
              0.2222222222222222,
              "#7201a8"
             ],
             [
              0.3333333333333333,
              "#9c179e"
             ],
             [
              0.4444444444444444,
              "#bd3786"
             ],
             [
              0.5555555555555556,
              "#d8576b"
             ],
             [
              0.6666666666666666,
              "#ed7953"
             ],
             [
              0.7777777777777778,
              "#fb9f3a"
             ],
             [
              0.8888888888888888,
              "#fdca26"
             ],
             [
              1,
              "#f0f921"
             ]
            ],
            "type": "heatmapgl"
           }
          ],
          "histogram": [
           {
            "marker": {
             "pattern": {
              "fillmode": "overlay",
              "size": 10,
              "solidity": 0.2
             }
            },
            "type": "histogram"
           }
          ],
          "histogram2d": [
           {
            "colorbar": {
             "outlinewidth": 0,
             "ticks": ""
            },
            "colorscale": [
             [
              0,
              "#0d0887"
             ],
             [
              0.1111111111111111,
              "#46039f"
             ],
             [
              0.2222222222222222,
              "#7201a8"
             ],
             [
              0.3333333333333333,
              "#9c179e"
             ],
             [
              0.4444444444444444,
              "#bd3786"
             ],
             [
              0.5555555555555556,
              "#d8576b"
             ],
             [
              0.6666666666666666,
              "#ed7953"
             ],
             [
              0.7777777777777778,
              "#fb9f3a"
             ],
             [
              0.8888888888888888,
              "#fdca26"
             ],
             [
              1,
              "#f0f921"
             ]
            ],
            "type": "histogram2d"
           }
          ],
          "histogram2dcontour": [
           {
            "colorbar": {
             "outlinewidth": 0,
             "ticks": ""
            },
            "colorscale": [
             [
              0,
              "#0d0887"
             ],
             [
              0.1111111111111111,
              "#46039f"
             ],
             [
              0.2222222222222222,
              "#7201a8"
             ],
             [
              0.3333333333333333,
              "#9c179e"
             ],
             [
              0.4444444444444444,
              "#bd3786"
             ],
             [
              0.5555555555555556,
              "#d8576b"
             ],
             [
              0.6666666666666666,
              "#ed7953"
             ],
             [
              0.7777777777777778,
              "#fb9f3a"
             ],
             [
              0.8888888888888888,
              "#fdca26"
             ],
             [
              1,
              "#f0f921"
             ]
            ],
            "type": "histogram2dcontour"
           }
          ],
          "mesh3d": [
           {
            "colorbar": {
             "outlinewidth": 0,
             "ticks": ""
            },
            "type": "mesh3d"
           }
          ],
          "parcoords": [
           {
            "line": {
             "colorbar": {
              "outlinewidth": 0,
              "ticks": ""
             }
            },
            "type": "parcoords"
           }
          ],
          "pie": [
           {
            "automargin": true,
            "type": "pie"
           }
          ],
          "scatter": [
           {
            "marker": {
             "line": {
              "color": "#283442"
             }
            },
            "type": "scatter"
           }
          ],
          "scatter3d": [
           {
            "line": {
             "colorbar": {
              "outlinewidth": 0,
              "ticks": ""
             }
            },
            "marker": {
             "colorbar": {
              "outlinewidth": 0,
              "ticks": ""
             }
            },
            "type": "scatter3d"
           }
          ],
          "scattercarpet": [
           {
            "marker": {
             "colorbar": {
              "outlinewidth": 0,
              "ticks": ""
             }
            },
            "type": "scattercarpet"
           }
          ],
          "scattergeo": [
           {
            "marker": {
             "colorbar": {
              "outlinewidth": 0,
              "ticks": ""
             }
            },
            "type": "scattergeo"
           }
          ],
          "scattergl": [
           {
            "marker": {
             "line": {
              "color": "#283442"
             }
            },
            "type": "scattergl"
           }
          ],
          "scattermapbox": [
           {
            "marker": {
             "colorbar": {
              "outlinewidth": 0,
              "ticks": ""
             }
            },
            "type": "scattermapbox"
           }
          ],
          "scatterpolar": [
           {
            "marker": {
             "colorbar": {
              "outlinewidth": 0,
              "ticks": ""
             }
            },
            "type": "scatterpolar"
           }
          ],
          "scatterpolargl": [
           {
            "marker": {
             "colorbar": {
              "outlinewidth": 0,
              "ticks": ""
             }
            },
            "type": "scatterpolargl"
           }
          ],
          "scatterternary": [
           {
            "marker": {
             "colorbar": {
              "outlinewidth": 0,
              "ticks": ""
             }
            },
            "type": "scatterternary"
           }
          ],
          "surface": [
           {
            "colorbar": {
             "outlinewidth": 0,
             "ticks": ""
            },
            "colorscale": [
             [
              0,
              "#0d0887"
             ],
             [
              0.1111111111111111,
              "#46039f"
             ],
             [
              0.2222222222222222,
              "#7201a8"
             ],
             [
              0.3333333333333333,
              "#9c179e"
             ],
             [
              0.4444444444444444,
              "#bd3786"
             ],
             [
              0.5555555555555556,
              "#d8576b"
             ],
             [
              0.6666666666666666,
              "#ed7953"
             ],
             [
              0.7777777777777778,
              "#fb9f3a"
             ],
             [
              0.8888888888888888,
              "#fdca26"
             ],
             [
              1,
              "#f0f921"
             ]
            ],
            "type": "surface"
           }
          ],
          "table": [
           {
            "cells": {
             "fill": {
              "color": "#506784"
             },
             "line": {
              "color": "rgb(17,17,17)"
             }
            },
            "header": {
             "fill": {
              "color": "#2a3f5f"
             },
             "line": {
              "color": "rgb(17,17,17)"
             }
            },
            "type": "table"
           }
          ]
         },
         "layout": {
          "annotationdefaults": {
           "arrowcolor": "#f2f5fa",
           "arrowhead": 0,
           "arrowwidth": 1
          },
          "autotypenumbers": "strict",
          "coloraxis": {
           "colorbar": {
            "outlinewidth": 0,
            "ticks": ""
           }
          },
          "colorscale": {
           "diverging": [
            [
             0,
             "#8e0152"
            ],
            [
             0.1,
             "#c51b7d"
            ],
            [
             0.2,
             "#de77ae"
            ],
            [
             0.3,
             "#f1b6da"
            ],
            [
             0.4,
             "#fde0ef"
            ],
            [
             0.5,
             "#f7f7f7"
            ],
            [
             0.6,
             "#e6f5d0"
            ],
            [
             0.7,
             "#b8e186"
            ],
            [
             0.8,
             "#7fbc41"
            ],
            [
             0.9,
             "#4d9221"
            ],
            [
             1,
             "#276419"
            ]
           ],
           "sequential": [
            [
             0,
             "#0d0887"
            ],
            [
             0.1111111111111111,
             "#46039f"
            ],
            [
             0.2222222222222222,
             "#7201a8"
            ],
            [
             0.3333333333333333,
             "#9c179e"
            ],
            [
             0.4444444444444444,
             "#bd3786"
            ],
            [
             0.5555555555555556,
             "#d8576b"
            ],
            [
             0.6666666666666666,
             "#ed7953"
            ],
            [
             0.7777777777777778,
             "#fb9f3a"
            ],
            [
             0.8888888888888888,
             "#fdca26"
            ],
            [
             1,
             "#f0f921"
            ]
           ],
           "sequentialminus": [
            [
             0,
             "#0d0887"
            ],
            [
             0.1111111111111111,
             "#46039f"
            ],
            [
             0.2222222222222222,
             "#7201a8"
            ],
            [
             0.3333333333333333,
             "#9c179e"
            ],
            [
             0.4444444444444444,
             "#bd3786"
            ],
            [
             0.5555555555555556,
             "#d8576b"
            ],
            [
             0.6666666666666666,
             "#ed7953"
            ],
            [
             0.7777777777777778,
             "#fb9f3a"
            ],
            [
             0.8888888888888888,
             "#fdca26"
            ],
            [
             1,
             "#f0f921"
            ]
           ]
          },
          "colorway": [
           "#636efa",
           "#EF553B",
           "#00cc96",
           "#ab63fa",
           "#FFA15A",
           "#19d3f3",
           "#FF6692",
           "#B6E880",
           "#FF97FF",
           "#FECB52"
          ],
          "font": {
           "color": "#f2f5fa"
          },
          "geo": {
           "bgcolor": "rgb(17,17,17)",
           "lakecolor": "rgb(17,17,17)",
           "landcolor": "rgb(17,17,17)",
           "showlakes": true,
           "showland": true,
           "subunitcolor": "#506784"
          },
          "hoverlabel": {
           "align": "left"
          },
          "hovermode": "closest",
          "mapbox": {
           "style": "dark"
          },
          "paper_bgcolor": "rgb(17,17,17)",
          "plot_bgcolor": "rgb(17,17,17)",
          "polar": {
           "angularaxis": {
            "gridcolor": "#506784",
            "linecolor": "#506784",
            "ticks": ""
           },
           "bgcolor": "rgb(17,17,17)",
           "radialaxis": {
            "gridcolor": "#506784",
            "linecolor": "#506784",
            "ticks": ""
           }
          },
          "scene": {
           "xaxis": {
            "backgroundcolor": "rgb(17,17,17)",
            "gridcolor": "#506784",
            "gridwidth": 2,
            "linecolor": "#506784",
            "showbackground": true,
            "ticks": "",
            "zerolinecolor": "#C8D4E3"
           },
           "yaxis": {
            "backgroundcolor": "rgb(17,17,17)",
            "gridcolor": "#506784",
            "gridwidth": 2,
            "linecolor": "#506784",
            "showbackground": true,
            "ticks": "",
            "zerolinecolor": "#C8D4E3"
           },
           "zaxis": {
            "backgroundcolor": "rgb(17,17,17)",
            "gridcolor": "#506784",
            "gridwidth": 2,
            "linecolor": "#506784",
            "showbackground": true,
            "ticks": "",
            "zerolinecolor": "#C8D4E3"
           }
          },
          "shapedefaults": {
           "line": {
            "color": "#f2f5fa"
           }
          },
          "sliderdefaults": {
           "bgcolor": "#C8D4E3",
           "bordercolor": "rgb(17,17,17)",
           "borderwidth": 1,
           "tickwidth": 0
          },
          "ternary": {
           "aaxis": {
            "gridcolor": "#506784",
            "linecolor": "#506784",
            "ticks": ""
           },
           "baxis": {
            "gridcolor": "#506784",
            "linecolor": "#506784",
            "ticks": ""
           },
           "bgcolor": "rgb(17,17,17)",
           "caxis": {
            "gridcolor": "#506784",
            "linecolor": "#506784",
            "ticks": ""
           }
          },
          "title": {
           "x": 0.05
          },
          "updatemenudefaults": {
           "bgcolor": "#506784",
           "borderwidth": 0
          },
          "xaxis": {
           "automargin": true,
           "gridcolor": "#283442",
           "linecolor": "#506784",
           "ticks": "",
           "title": {
            "standoff": 15
           },
           "zerolinecolor": "#283442",
           "zerolinewidth": 2
          },
          "yaxis": {
           "automargin": true,
           "gridcolor": "#283442",
           "linecolor": "#506784",
           "ticks": "",
           "title": {
            "standoff": 15
           },
           "zerolinecolor": "#283442",
           "zerolinewidth": 2
          }
         }
        },
        "title": {
         "text": "OHLC vs Prediction Over Time"
        },
        "xaxis": {
         "rangeslider": {
          "visible": false
         }
        },
        "yaxis": {
         "tickformat": ".0f"
        },
        "yaxis2": {
         "overlaying": "y",
         "side": "right",
         "tickformat": ".0%"
        }
       }
      }
     },
     "metadata": {},
     "output_type": "display_data"
    }
   ],
   "source": [
    "import plotly.graph_objects as go\n",
    "\n",
    "# Pick a day in the test set\n",
    "test_day = '2023-12-29'\n",
    "test_df = df_results.loc[test_day:test_day]\n",
    "X_prices = spx_data.loc[test_day:test_day, ['open','high','low','close']]\n",
    "\n",
    "df_viz = test_df.merge(X_prices, left_index=True, right_index=True)\n",
    "\n",
    "fig = go.Figure(data=[go.Candlestick(x=df_viz.index,\n",
    "                open=df_viz['open'],\n",
    "                high=df_viz['high'],\n",
    "                low=df_viz['low'],\n",
    "                close=df_viz['close'])])\n",
    "\n",
    "fig.add_trace(go.Scatter(x=df_viz.index, y=df_viz['pred_hod'], mode='lines', name='pred_hod', yaxis='y2', line=dict(color='#ff5f5f')))\n",
    "fig.add_trace(go.Scatter(x=df_viz.index, y=df_viz['pred_lod'], mode='lines', name='pred_lod', yaxis='y2', line=dict(color='#3399cc')))\n",
    "\n",
    "fig.add_shape(\n",
    "    type=\"line\",\n",
    "    x0=df_viz.index.min(),\n",
    "    x1=df_viz.index.max(),\n",
    "    y0=0.5,\n",
    "    y1=0.5,\n",
    "    yref='y2',\n",
    "    line=dict(\n",
    "        color=\"Red\",\n",
    "        width=1.5,\n",
    "        dash=\"dash\",\n",
    "    )\n",
    ")\n",
    "\n",
    "fig.update_layout(\n",
    "    template='plotly_dark',\n",
    "    yaxis=dict(\n",
    "        tickformat='.0f'\n",
    "    ),\n",
    "    yaxis2=dict(\n",
    "        overlaying='y',\n",
    "        side='right',\n",
    "        tickformat=\".0%\"\n",
    "    ),\n",
    "    legend=dict(\n",
    "        orientation=\"h\",\n",
    "        yanchor=\"bottom\",\n",
    "        y=1.02,\n",
    "        xanchor=\"right\",\n",
    "        x=1\n",
    "    ),\n",
    "    title='OHLC vs Prediction Over Time',\n",
    "    xaxis_rangeslider_visible=False\n",
    ")\n",
    "\n",
    "fig.show()"
   ]
  },
  {
   "cell_type": "markdown",
   "metadata": {},
   "source": [
    "# Inference Pipeline"
   ]
  },
  {
   "cell_type": "code",
   "execution_count": 157,
   "metadata": {},
   "outputs": [],
   "source": [
    "# Get data\n",
    "import yfinance as yf\n",
    "import numpy as np\n",
    "import pandas as pd\n",
    "import datetime\n",
    "\n",
    "def create_features(ticker_str):\n",
    "    '''\n",
    "    Function to create dataframe of features for top/bottom model.\n",
    "    '''\n",
    "    ticker = yf.Ticker(ticker_str)\n",
    "    df = ticker.history(period='5d',interval='5m')\n",
    "    df = df.loc[\n",
    "        (df.index.time >= datetime.time(9,45)) &\\\n",
    "        (df.index.time < datetime.time(16,0)),\n",
    "    ['Open','High','Low','Close']]\n",
    "    df.columns = ['open','high','low','close']\n",
    "\n",
    "    df['time'] = df.index.time\n",
    "    df['eod_close'] = df.groupby(df.index.date)['close'].tail(1)\n",
    "    df['prev_close'] = df['eod_close'].shift(1)\n",
    "    df['prev_close'] = df['prev_close'].ffill()\n",
    "    df['eod_close'] = df['eod_close'].bfill()\n",
    "    df['green_day'] = df['eod_close'] > df['prev_close']\n",
    "\n",
    "    df['eod_close_pts'] = df['eod_close'] - df['prev_close']\n",
    "    df['eod_close_pct'] = df['eod_close_pts'] / df['prev_close']\n",
    "\n",
    "    for day in sorted(set(df.index.date)):\n",
    "        day_str = datetime.datetime.strftime(day, '%Y-%m-%d')\n",
    "        day_open = df.loc[day_str, 'open'].iloc[0]\n",
    "        df.loc[day_str, 'lod'] = df.loc[day_str, 'low'].min()\n",
    "        df.loc[day_str, 'label_lod'] = (df.loc[day_str, 'low'] == df.loc[day_str, 'lod']).astype(int)\n",
    "        \n",
    "        df.loc[day_str, 'hod'] = df.loc[day_str, 'high'].max()\n",
    "        df.loc[day_str, 'label'] = (df.loc[day_str, 'high'] == df.loc[day_str, 'hod']).astype(int)\n",
    "        df.loc[day_str, 'day_open'] = day_open\n",
    "        df.loc[day_str, 'day_open_pts'] = df.loc[day_str, 'close'] - df.loc[day_str, 'day_open']\n",
    "        df.loc[day_str, 'day_open_pct'] = df.loc[day_str, 'day_open_pts'] / df.loc[day_str, 'day_open']\n",
    "        df.loc[day_str, 'prev_close_pts'] = df.loc[day_str, 'close'] - df.loc[day_str, 'prev_close']\n",
    "        df.loc[day_str, 'prev_close_pct'] = df.loc[day_str, 'prev_close_pts'] / df.loc[day_str, 'prev_close']\n",
    "\n",
    "        # Shifted\n",
    "        df.loc[day_str, 'prev_close_pct_n1'] = df.loc[day_str, 'prev_close_pct'].shift(1)\n",
    "        df.loc[day_str, 'prev_close_pct_n2'] = df.loc[day_str, 'prev_close_pct'].shift(2)\n",
    "        df.loc[day_str, 'prev_close_pct_n3'] = df.loc[day_str, 'prev_close_pct'].shift(3)\n",
    "\n",
    "        df.loc[day_str, 'day_open_pct_n1'] = df.loc[day_str, 'day_open_pct'].shift(1)\n",
    "        df.loc[day_str, 'day_open_pct_n2'] = df.loc[day_str, 'day_open_pct'].shift(2)\n",
    "        df.loc[day_str, 'day_open_pct_n3'] = df.loc[day_str, 'day_open_pct'].shift(3)\n",
    "\n",
    "    df['gap_open'] = df['day_open'] - df['prev_close']\n",
    "    df['gap_open_pct'] = df['gap_open'] / df['prev_close']\n",
    "    return df.dropna(subset=[\n",
    "        'prev_close_pct',\n",
    "        'gap_open_pct',\n",
    "        'day_open_pct_n3',\n",
    "        'prev_close_pct_n3'\n",
    "    ])"
   ]
  },
  {
   "cell_type": "code",
   "execution_count": 158,
   "metadata": {},
   "outputs": [
    {
     "ename": "AttributeError",
     "evalue": "'datetime.time' object has no attribute 'upper'",
     "output_type": "error",
     "traceback": [
      "\u001b[1;31m---------------------------------------------------------------------------\u001b[0m",
      "\u001b[1;31mAttributeError\u001b[0m                            Traceback (most recent call last)",
      "\u001b[1;32md:\\Projects\\session-extrema-model\\lower_tf_research_tops_bottoms.ipynb Cell 42\u001b[0m line \u001b[0;36m3\n\u001b[0;32m      <a href='vscode-notebook-cell:/d%3A/Projects/session-extrema-model/lower_tf_research_tops_bottoms.ipynb#X56sZmlsZQ%3D%3D?line=0'>1</a>\u001b[0m \u001b[39mimport\u001b[39;00m \u001b[39mjoblib\u001b[39;00m\n\u001b[1;32m----> <a href='vscode-notebook-cell:/d%3A/Projects/session-extrema-model/lower_tf_research_tops_bottoms.ipynb#X56sZmlsZQ%3D%3D?line=2'>3</a>\u001b[0m df_feats \u001b[39m=\u001b[39m create_features(t)\n\u001b[0;32m      <a href='vscode-notebook-cell:/d%3A/Projects/session-extrema-model/lower_tf_research_tops_bottoms.ipynb#X56sZmlsZQ%3D%3D?line=4'>5</a>\u001b[0m hod_model1 \u001b[39m=\u001b[39m joblib\u001b[39m.\u001b[39mload(ticker_dict[tck][\u001b[39m'\u001b[39m\u001b[39mhod_model\u001b[39m\u001b[39m'\u001b[39m])\n\u001b[0;32m      <a href='vscode-notebook-cell:/d%3A/Projects/session-extrema-model/lower_tf_research_tops_bottoms.ipynb#X56sZmlsZQ%3D%3D?line=5'>6</a>\u001b[0m lod_model1 \u001b[39m=\u001b[39m joblib\u001b[39m.\u001b[39mload(ticker_dict[tck][\u001b[39m'\u001b[39m\u001b[39mlod_model\u001b[39m\u001b[39m'\u001b[39m])\n",
      "\u001b[1;32md:\\Projects\\session-extrema-model\\lower_tf_research_tops_bottoms.ipynb Cell 42\u001b[0m line \u001b[0;36m1\n\u001b[0;32m      <a href='vscode-notebook-cell:/d%3A/Projects/session-extrema-model/lower_tf_research_tops_bottoms.ipynb#X56sZmlsZQ%3D%3D?line=6'>7</a>\u001b[0m \u001b[39mdef\u001b[39;00m \u001b[39mcreate_features\u001b[39m(ticker_str):\n\u001b[0;32m      <a href='vscode-notebook-cell:/d%3A/Projects/session-extrema-model/lower_tf_research_tops_bottoms.ipynb#X56sZmlsZQ%3D%3D?line=7'>8</a>\u001b[0m \u001b[39m    \u001b[39m\u001b[39m'''\u001b[39;00m\n\u001b[0;32m      <a href='vscode-notebook-cell:/d%3A/Projects/session-extrema-model/lower_tf_research_tops_bottoms.ipynb#X56sZmlsZQ%3D%3D?line=8'>9</a>\u001b[0m \u001b[39m    Function to create dataframe of features for top/bottom model.\u001b[39;00m\n\u001b[0;32m     <a href='vscode-notebook-cell:/d%3A/Projects/session-extrema-model/lower_tf_research_tops_bottoms.ipynb#X56sZmlsZQ%3D%3D?line=9'>10</a>\u001b[0m \u001b[39m    '''\u001b[39;00m\n\u001b[1;32m---> <a href='vscode-notebook-cell:/d%3A/Projects/session-extrema-model/lower_tf_research_tops_bottoms.ipynb#X56sZmlsZQ%3D%3D?line=10'>11</a>\u001b[0m     ticker \u001b[39m=\u001b[39m yf\u001b[39m.\u001b[39;49mTicker(ticker_str)\n\u001b[0;32m     <a href='vscode-notebook-cell:/d%3A/Projects/session-extrema-model/lower_tf_research_tops_bottoms.ipynb#X56sZmlsZQ%3D%3D?line=11'>12</a>\u001b[0m     df \u001b[39m=\u001b[39m ticker\u001b[39m.\u001b[39mhistory(period\u001b[39m=\u001b[39m\u001b[39m'\u001b[39m\u001b[39m5d\u001b[39m\u001b[39m'\u001b[39m,interval\u001b[39m=\u001b[39m\u001b[39m'\u001b[39m\u001b[39m5m\u001b[39m\u001b[39m'\u001b[39m)\n\u001b[0;32m     <a href='vscode-notebook-cell:/d%3A/Projects/session-extrema-model/lower_tf_research_tops_bottoms.ipynb#X56sZmlsZQ%3D%3D?line=12'>13</a>\u001b[0m     df \u001b[39m=\u001b[39m df\u001b[39m.\u001b[39mloc[\n\u001b[0;32m     <a href='vscode-notebook-cell:/d%3A/Projects/session-extrema-model/lower_tf_research_tops_bottoms.ipynb#X56sZmlsZQ%3D%3D?line=13'>14</a>\u001b[0m         (df\u001b[39m.\u001b[39mindex\u001b[39m.\u001b[39mtime \u001b[39m>\u001b[39m\u001b[39m=\u001b[39m datetime\u001b[39m.\u001b[39mtime(\u001b[39m9\u001b[39m,\u001b[39m45\u001b[39m)) \u001b[39m&\u001b[39m\\\n\u001b[0;32m     <a href='vscode-notebook-cell:/d%3A/Projects/session-extrema-model/lower_tf_research_tops_bottoms.ipynb#X56sZmlsZQ%3D%3D?line=14'>15</a>\u001b[0m         (df\u001b[39m.\u001b[39mindex\u001b[39m.\u001b[39mtime \u001b[39m<\u001b[39m datetime\u001b[39m.\u001b[39mtime(\u001b[39m16\u001b[39m,\u001b[39m0\u001b[39m)),\n\u001b[0;32m     <a href='vscode-notebook-cell:/d%3A/Projects/session-extrema-model/lower_tf_research_tops_bottoms.ipynb#X56sZmlsZQ%3D%3D?line=15'>16</a>\u001b[0m     [\u001b[39m'\u001b[39m\u001b[39mOpen\u001b[39m\u001b[39m'\u001b[39m,\u001b[39m'\u001b[39m\u001b[39mHigh\u001b[39m\u001b[39m'\u001b[39m,\u001b[39m'\u001b[39m\u001b[39mLow\u001b[39m\u001b[39m'\u001b[39m,\u001b[39m'\u001b[39m\u001b[39mClose\u001b[39m\u001b[39m'\u001b[39m]]\n",
      "File \u001b[1;32md:\\Projects\\session-extrema-model\\.venv\\lib\\site-packages\\yfinance\\ticker.py:34\u001b[0m, in \u001b[0;36mTicker.__init__\u001b[1;34m(self, ticker, session)\u001b[0m\n\u001b[0;32m     33\u001b[0m \u001b[39mdef\u001b[39;00m \u001b[39m__init__\u001b[39m(\u001b[39mself\u001b[39m, ticker, session\u001b[39m=\u001b[39m\u001b[39mNone\u001b[39;00m):\n\u001b[1;32m---> 34\u001b[0m     \u001b[39msuper\u001b[39;49m(Ticker, \u001b[39mself\u001b[39;49m)\u001b[39m.\u001b[39;49m\u001b[39m__init__\u001b[39;49m(ticker, session\u001b[39m=\u001b[39;49msession)\n\u001b[0;32m     35\u001b[0m     \u001b[39mself\u001b[39m\u001b[39m.\u001b[39m_expirations \u001b[39m=\u001b[39m {}\n\u001b[0;32m     36\u001b[0m     \u001b[39mself\u001b[39m\u001b[39m.\u001b[39m_underlying  \u001b[39m=\u001b[39m {}\n",
      "File \u001b[1;32md:\\Projects\\session-extrema-model\\.venv\\lib\\site-packages\\yfinance\\base.py:50\u001b[0m, in \u001b[0;36mTickerBase.__init__\u001b[1;34m(self, ticker, session)\u001b[0m\n\u001b[0;32m     49\u001b[0m \u001b[39mdef\u001b[39;00m \u001b[39m__init__\u001b[39m(\u001b[39mself\u001b[39m, ticker, session\u001b[39m=\u001b[39m\u001b[39mNone\u001b[39;00m):\n\u001b[1;32m---> 50\u001b[0m     \u001b[39mself\u001b[39m\u001b[39m.\u001b[39mticker \u001b[39m=\u001b[39m ticker\u001b[39m.\u001b[39;49mupper()\n\u001b[0;32m     51\u001b[0m     \u001b[39mself\u001b[39m\u001b[39m.\u001b[39msession \u001b[39m=\u001b[39m session\n\u001b[0;32m     52\u001b[0m     \u001b[39mself\u001b[39m\u001b[39m.\u001b[39m_history \u001b[39m=\u001b[39m \u001b[39mNone\u001b[39;00m\n",
      "\u001b[1;31mAttributeError\u001b[0m: 'datetime.time' object has no attribute 'upper'"
     ]
    }
   ],
   "source": [
    "import joblib\n",
    "\n",
    "df_feats = create_features(t)\n",
    "\n",
    "hod_model1 = joblib.load(ticker_dict[tck]['hod_model'])\n",
    "lod_model1 = joblib.load(ticker_dict[tck]['lod_model'])\n",
    "\n",
    "def create_preds_df(df_feats):\n",
    "    predicted_proba_hod = hod_model1.predict_proba(df_feats)[:,-1]\n",
    "    predicted_proba_lod = lod_model1.predict_proba(df_feats)[:,-1]\n",
    "    df_viz = df_feats.copy()\n",
    "    df_viz['pred_hod'] = predicted_proba_hod\n",
    "    df_viz['pred_lod'] = predicted_proba_lod\n",
    "    return df_viz\n",
    "\n",
    "df_viz = create_preds_df(df_feats)"
   ]
  },
  {
   "cell_type": "code",
   "execution_count": null,
   "metadata": {},
   "outputs": [],
   "source": [
    "# Create df for visual\n",
    "def create_viz(df_viz, date_str):\n",
    "\n",
    "    df_use = df_viz.loc[date_str:date_str]\n",
    "    \n",
    "    fig = go.Figure(data=[go.Candlestick(x=df_use.index,\n",
    "                open=df_use['open'],\n",
    "                high=df_use['high'],\n",
    "                low=df_use['low'],\n",
    "                close=df_use['close'])])\n",
    "\n",
    "    fig.add_trace(go.Scatter(x=df_use.index, y=df_use['pred_hod'], mode='lines', name='pred_hod', yaxis='y2', line=dict(color='#ff5f5f')))\n",
    "    fig.add_trace(go.Scatter(x=df_use.index, y=df_use['pred_lod'], mode='lines', name='pred_lod', yaxis='y2', line=dict(color='#3399cc')))\n",
    "\n",
    "    fig.add_shape(\n",
    "        type=\"line\",\n",
    "        x0=df_use.index.min(),\n",
    "        x1=df_use.index.max(),\n",
    "        y0=0.5,\n",
    "        y1=0.5,\n",
    "        yref='y2',\n",
    "        line=dict(\n",
    "            color=\"Red\",\n",
    "            width=1.5,\n",
    "            dash=\"dash\",\n",
    "        )\n",
    "    )\n",
    "\n",
    "    max_high = df_use['high'].max()\n",
    "    max_high_time = df_use['high'].idxmax()\n",
    "\n",
    "    min_low = df_use['low'].min()\n",
    "    min_low_time = df_use['low'].idxmin()\n",
    "\n",
    "    fig.add_annotation(\n",
    "        x=max_high_time,\n",
    "        y=max_high,\n",
    "        text=f\"{str(int(max_high))}\",\n",
    "        showarrow=True,\n",
    "        font=dict(\n",
    "            family=\"Courier New, monospace\",\n",
    "            size=12,\n",
    "            color=\"#ffffff\"\n",
    "        ),\n",
    "        align=\"center\",\n",
    "        arrowhead=2,\n",
    "        arrowsize=1,\n",
    "        arrowwidth=2,\n",
    "        arrowcolor=\"#636363\",\n",
    "        ax=20,\n",
    "        ay=-30,\n",
    "        bordercolor=\"#c7c7c7\",\n",
    "        borderwidth=1,\n",
    "        borderpad=1,\n",
    "        bgcolor=\"#ff5f5f\",\n",
    "        opacity=0.8\n",
    "    )\n",
    "\n",
    "    fig.add_annotation(\n",
    "        x=min_low_time,\n",
    "        y=min_low,\n",
    "        text=f\"{str(int(min_low))}\",\n",
    "        showarrow=True,\n",
    "        font=dict(\n",
    "            family=\"Courier New, monospace\",\n",
    "            size=12,\n",
    "            color=\"#ffffff\"\n",
    "        ),\n",
    "        align=\"center\",\n",
    "        arrowhead=2,\n",
    "        arrowsize=1,\n",
    "        arrowwidth=2,\n",
    "        arrowcolor=\"#636363\",\n",
    "        ax=20,\n",
    "        ay=30,  # Adjust the y offset for the annotation\n",
    "        bordercolor=\"#c7c7c7\",\n",
    "        borderwidth=1,\n",
    "        borderpad=1,\n",
    "        bgcolor=\"#3399cc\",\n",
    "        opacity=0.8\n",
    "    )\n",
    "\n",
    "    fig.update_layout(\n",
    "        template='plotly_dark',\n",
    "        yaxis=dict(\n",
    "            tickformat='.0f'\n",
    "        ),\n",
    "        yaxis2=dict(\n",
    "            overlaying='y',\n",
    "            side='right',\n",
    "            tickformat=\".0%\"\n",
    "        ),\n",
    "        legend=dict(\n",
    "            orientation=\"h\",\n",
    "            yanchor=\"bottom\",\n",
    "            y=1.02,\n",
    "            xanchor=\"right\",\n",
    "            x=1\n",
    "        ),\n",
    "        title='OHLC vs Prediction Over Time',\n",
    "        xaxis_rangeslider_visible=False\n",
    "    )\n",
    "\n",
    "    fig.show()\n",
    "    "
   ]
  },
  {
   "cell_type": "code",
   "execution_count": 159,
   "metadata": {},
   "outputs": [
    {
     "ename": "ValueError",
     "evalue": "attempt to get argmax of an empty sequence",
     "output_type": "error",
     "traceback": [
      "\u001b[1;31m---------------------------------------------------------------------------\u001b[0m",
      "\u001b[1;31mValueError\u001b[0m                                Traceback (most recent call last)",
      "\u001b[1;32md:\\Projects\\session-extrema-model\\lower_tf_research_tops_bottoms.ipynb Cell 44\u001b[0m line \u001b[0;36m1\n\u001b[1;32m----> <a href='vscode-notebook-cell:/d%3A/Projects/session-extrema-model/lower_tf_research_tops_bottoms.ipynb#X61sZmlsZQ%3D%3D?line=0'>1</a>\u001b[0m create_viz(df_viz, \u001b[39m'\u001b[39;49m\u001b[39m2023-12-28\u001b[39;49m\u001b[39m'\u001b[39;49m)\n",
      "\u001b[1;32md:\\Projects\\session-extrema-model\\lower_tf_research_tops_bottoms.ipynb Cell 44\u001b[0m line \u001b[0;36m3\n\u001b[0;32m     <a href='vscode-notebook-cell:/d%3A/Projects/session-extrema-model/lower_tf_research_tops_bottoms.ipynb#X61sZmlsZQ%3D%3D?line=14'>15</a>\u001b[0m fig\u001b[39m.\u001b[39madd_shape(\n\u001b[0;32m     <a href='vscode-notebook-cell:/d%3A/Projects/session-extrema-model/lower_tf_research_tops_bottoms.ipynb#X61sZmlsZQ%3D%3D?line=15'>16</a>\u001b[0m     \u001b[39mtype\u001b[39m\u001b[39m=\u001b[39m\u001b[39m\"\u001b[39m\u001b[39mline\u001b[39m\u001b[39m\"\u001b[39m,\n\u001b[0;32m     <a href='vscode-notebook-cell:/d%3A/Projects/session-extrema-model/lower_tf_research_tops_bottoms.ipynb#X61sZmlsZQ%3D%3D?line=16'>17</a>\u001b[0m     x0\u001b[39m=\u001b[39mdf_use\u001b[39m.\u001b[39mindex\u001b[39m.\u001b[39mmin(),\n\u001b[1;32m   (...)\u001b[0m\n\u001b[0;32m     <a href='vscode-notebook-cell:/d%3A/Projects/session-extrema-model/lower_tf_research_tops_bottoms.ipynb#X61sZmlsZQ%3D%3D?line=25'>26</a>\u001b[0m     )\n\u001b[0;32m     <a href='vscode-notebook-cell:/d%3A/Projects/session-extrema-model/lower_tf_research_tops_bottoms.ipynb#X61sZmlsZQ%3D%3D?line=26'>27</a>\u001b[0m )\n\u001b[0;32m     <a href='vscode-notebook-cell:/d%3A/Projects/session-extrema-model/lower_tf_research_tops_bottoms.ipynb#X61sZmlsZQ%3D%3D?line=28'>29</a>\u001b[0m max_high \u001b[39m=\u001b[39m df_use[\u001b[39m'\u001b[39m\u001b[39mhigh\u001b[39m\u001b[39m'\u001b[39m]\u001b[39m.\u001b[39mmax()\n\u001b[1;32m---> <a href='vscode-notebook-cell:/d%3A/Projects/session-extrema-model/lower_tf_research_tops_bottoms.ipynb#X61sZmlsZQ%3D%3D?line=29'>30</a>\u001b[0m max_high_time \u001b[39m=\u001b[39m df_use[\u001b[39m'\u001b[39;49m\u001b[39mhigh\u001b[39;49m\u001b[39m'\u001b[39;49m]\u001b[39m.\u001b[39;49midxmax()\n\u001b[0;32m     <a href='vscode-notebook-cell:/d%3A/Projects/session-extrema-model/lower_tf_research_tops_bottoms.ipynb#X61sZmlsZQ%3D%3D?line=31'>32</a>\u001b[0m min_low \u001b[39m=\u001b[39m df_use[\u001b[39m'\u001b[39m\u001b[39mlow\u001b[39m\u001b[39m'\u001b[39m]\u001b[39m.\u001b[39mmin()\n\u001b[0;32m     <a href='vscode-notebook-cell:/d%3A/Projects/session-extrema-model/lower_tf_research_tops_bottoms.ipynb#X61sZmlsZQ%3D%3D?line=32'>33</a>\u001b[0m min_low_time \u001b[39m=\u001b[39m df_use[\u001b[39m'\u001b[39m\u001b[39mlow\u001b[39m\u001b[39m'\u001b[39m]\u001b[39m.\u001b[39midxmin()\n",
      "File \u001b[1;32md:\\Projects\\session-extrema-model\\.venv\\lib\\site-packages\\pandas\\core\\series.py:2645\u001b[0m, in \u001b[0;36mSeries.idxmax\u001b[1;34m(self, axis, skipna, *args, **kwargs)\u001b[0m\n\u001b[0;32m   2640\u001b[0m \u001b[39mwith\u001b[39;00m warnings\u001b[39m.\u001b[39mcatch_warnings():\n\u001b[0;32m   2641\u001b[0m     \u001b[39m# TODO(3.0): this catching/filtering can be removed\u001b[39;00m\n\u001b[0;32m   2642\u001b[0m     \u001b[39m# ignore warning produced by argmax since we will issue a different\u001b[39;00m\n\u001b[0;32m   2643\u001b[0m     \u001b[39m#  warning for argmax\u001b[39;00m\n\u001b[0;32m   2644\u001b[0m     warnings\u001b[39m.\u001b[39msimplefilter(\u001b[39m\"\u001b[39m\u001b[39mignore\u001b[39m\u001b[39m\"\u001b[39m)\n\u001b[1;32m-> 2645\u001b[0m     i \u001b[39m=\u001b[39m \u001b[39mself\u001b[39m\u001b[39m.\u001b[39margmax(axis, skipna, \u001b[39m*\u001b[39margs, \u001b[39m*\u001b[39m\u001b[39m*\u001b[39mkwargs)\n\u001b[0;32m   2647\u001b[0m \u001b[39mif\u001b[39;00m i \u001b[39m==\u001b[39m \u001b[39m-\u001b[39m\u001b[39m1\u001b[39m:\n\u001b[0;32m   2648\u001b[0m     \u001b[39m# GH#43587 give correct NA value for Index.\u001b[39;00m\n\u001b[0;32m   2649\u001b[0m     warnings\u001b[39m.\u001b[39mwarn(\n\u001b[0;32m   2650\u001b[0m         \u001b[39mf\u001b[39m\u001b[39m\"\u001b[39m\u001b[39mThe behavior of \u001b[39m\u001b[39m{\u001b[39;00m\u001b[39mtype\u001b[39m(\u001b[39mself\u001b[39m)\u001b[39m.\u001b[39m\u001b[39m__name__\u001b[39m\u001b[39m}\u001b[39;00m\u001b[39m.idxmax with all-NA \u001b[39m\u001b[39m\"\u001b[39m\n\u001b[0;32m   2651\u001b[0m         \u001b[39m\"\u001b[39m\u001b[39mvalues, or any-NA and skipna=False, is deprecated. In a future \u001b[39m\u001b[39m\"\u001b[39m\n\u001b[1;32m   (...)\u001b[0m\n\u001b[0;32m   2654\u001b[0m         stacklevel\u001b[39m=\u001b[39mfind_stack_level(),\n\u001b[0;32m   2655\u001b[0m     )\n",
      "File \u001b[1;32md:\\Projects\\session-extrema-model\\.venv\\lib\\site-packages\\pandas\\core\\base.py:751\u001b[0m, in \u001b[0;36mIndexOpsMixin.argmax\u001b[1;34m(self, axis, skipna, *args, **kwargs)\u001b[0m\n\u001b[0;32m    749\u001b[0m         \u001b[39mreturn\u001b[39;00m delegate\u001b[39m.\u001b[39margmax()\n\u001b[0;32m    750\u001b[0m \u001b[39melse\u001b[39;00m:\n\u001b[1;32m--> 751\u001b[0m     result \u001b[39m=\u001b[39m nanops\u001b[39m.\u001b[39;49mnanargmax(delegate, skipna\u001b[39m=\u001b[39;49mskipna)\n\u001b[0;32m    752\u001b[0m     \u001b[39mif\u001b[39;00m result \u001b[39m==\u001b[39m \u001b[39m-\u001b[39m\u001b[39m1\u001b[39m:\n\u001b[0;32m    753\u001b[0m         warnings\u001b[39m.\u001b[39mwarn(\n\u001b[0;32m    754\u001b[0m             \u001b[39mf\u001b[39m\u001b[39m\"\u001b[39m\u001b[39mThe behavior of \u001b[39m\u001b[39m{\u001b[39;00m\u001b[39mtype\u001b[39m(\u001b[39mself\u001b[39m)\u001b[39m.\u001b[39m\u001b[39m__name__\u001b[39m\u001b[39m}\u001b[39;00m\u001b[39m.argmax/argmin \u001b[39m\u001b[39m\"\u001b[39m\n\u001b[0;32m    755\u001b[0m             \u001b[39m\"\u001b[39m\u001b[39mwith skipna=False and NAs, or with all-NAs is deprecated. \u001b[39m\u001b[39m\"\u001b[39m\n\u001b[1;32m   (...)\u001b[0m\n\u001b[0;32m    758\u001b[0m             stacklevel\u001b[39m=\u001b[39mfind_stack_level(),\n\u001b[0;32m    759\u001b[0m         )\n",
      "File \u001b[1;32md:\\Projects\\session-extrema-model\\.venv\\lib\\site-packages\\pandas\\core\\nanops.py:1143\u001b[0m, in \u001b[0;36mnanargmax\u001b[1;34m(values, axis, skipna, mask)\u001b[0m\n\u001b[0;32m   1141\u001b[0m values, mask \u001b[39m=\u001b[39m _get_values(values, \u001b[39mTrue\u001b[39;00m, fill_value_typ\u001b[39m=\u001b[39m\u001b[39m\"\u001b[39m\u001b[39m-inf\u001b[39m\u001b[39m\"\u001b[39m, mask\u001b[39m=\u001b[39mmask)\n\u001b[0;32m   1142\u001b[0m \u001b[39m# error: Need type annotation for 'result'\u001b[39;00m\n\u001b[1;32m-> 1143\u001b[0m result \u001b[39m=\u001b[39m values\u001b[39m.\u001b[39;49margmax(axis)  \u001b[39m# type: ignore[var-annotated]\u001b[39;00m\n\u001b[0;32m   1144\u001b[0m result \u001b[39m=\u001b[39m _maybe_arg_null_out(result, axis, mask, skipna)\n\u001b[0;32m   1145\u001b[0m \u001b[39mreturn\u001b[39;00m result\n",
      "\u001b[1;31mValueError\u001b[0m: attempt to get argmax of an empty sequence"
     ]
    }
   ],
   "source": [
    "create_viz(df_viz, '2023-12-28')"
   ]
  },
  {
   "cell_type": "code",
   "execution_count": null,
   "metadata": {},
   "outputs": [],
   "source": []
  },
  {
   "cell_type": "code",
   "execution_count": null,
   "metadata": {},
   "outputs": [
    {
     "ename": "NameError",
     "evalue": "name 'XXX' is not defined",
     "output_type": "error",
     "traceback": [
      "\u001b[1;31m---------------------------------------------------------------------------\u001b[0m",
      "\u001b[1;31mNameError\u001b[0m                                 Traceback (most recent call last)",
      "\u001b[1;32md:\\Projects\\session-extrema-model\\lower_tf_research_tops_bottoms.ipynb Cell 46\u001b[0m line \u001b[0;36m1\n\u001b[1;32m----> <a href='vscode-notebook-cell:/d%3A/Projects/session-extrema-model/lower_tf_research_tops_bottoms.ipynb#X63sZmlsZQ%3D%3D?line=0'>1</a>\u001b[0m XXX\n",
      "\u001b[1;31mNameError\u001b[0m: name 'XXX' is not defined"
     ]
    }
   ],
   "source": [
    "XXX"
   ]
  },
  {
   "cell_type": "code",
   "execution_count": null,
   "metadata": {},
   "outputs": [],
   "source": []
  },
  {
   "cell_type": "code",
   "execution_count": null,
   "metadata": {},
   "outputs": [],
   "source": []
  },
  {
   "cell_type": "code",
   "execution_count": null,
   "metadata": {},
   "outputs": [],
   "source": []
  },
  {
   "cell_type": "code",
   "execution_count": null,
   "metadata": {},
   "outputs": [],
   "source": [
    "time_value = datetime.time(13,0)\n",
    "prev_close_pct = 0.005\n",
    "day_open_pct = 0.00\n",
    "gap_open_pct = -0.005\n",
    "\n",
    "input_data = pd.DataFrame({\n",
    "    'time': [time_value], \n",
    "    'prev_close_pct': [prev_close_pct],\n",
    "    'day_open_pct': [day_open_pct],\n",
    "    'gap_open_pct': [gap_open_pct],\n",
    "    })\n",
    "predicted_proba = pipeline.predict_proba(input_data)[:,-1]\n",
    "\n",
    "print(f\"Predicted Probability: {predicted_proba[0]}\")"
   ]
  },
  {
   "cell_type": "code",
   "execution_count": null,
   "metadata": {},
   "outputs": [],
   "source": [
    "get_top_probability(time_value, prev_close_pct)"
   ]
  },
  {
   "cell_type": "code",
   "execution_count": null,
   "metadata": {},
   "outputs": [],
   "source": [
    "XXX"
   ]
  },
  {
   "cell_type": "code",
   "execution_count": null,
   "metadata": {},
   "outputs": [],
   "source": [
    "daily_data = spx_data.groupby(spx_data.index.date)['eod_close_pct'].max()"
   ]
  },
  {
   "cell_type": "code",
   "execution_count": null,
   "metadata": {},
   "outputs": [],
   "source": [
    "daily_data.describe()"
   ]
  },
  {
   "cell_type": "code",
   "execution_count": null,
   "metadata": {},
   "outputs": [],
   "source": [
    "daily_data.clip(-0.05,0.05).hist()"
   ]
  },
  {
   "cell_type": "code",
   "execution_count": null,
   "metadata": {},
   "outputs": [],
   "source": []
  },
  {
   "cell_type": "code",
   "execution_count": null,
   "metadata": {},
   "outputs": [],
   "source": [
    "spx_data.loc[(spx_data['time'] < datetime.time(10,5)) & (spx_data['label'] == 1), 'prev_close_pct'].describe()"
   ]
  },
  {
   "cell_type": "code",
   "execution_count": null,
   "metadata": {},
   "outputs": [],
   "source": [
    "len(set(spx_data.index.date))"
   ]
  },
  {
   "cell_type": "code",
   "execution_count": null,
   "metadata": {},
   "outputs": [],
   "source": [
    "import plotly.graph_objects as go\n",
    "\n",
    "# df_use = spx_data.query('(eod_close_pct > -0.007) & (eod_close_pct < 0.007)')\n",
    "df_use = spx_data.query('(eod_close_pct < 0.01) & (eod_close_pct > -0.01)')\n",
    "# df_use = spx_data.copy()\n",
    "total_days = len(set(spx_data.index.date))\n",
    "set_days = len(set(df_use.index.date))\n",
    "# Convert times to string\n",
    "times = df_use['time'].unique()\n",
    "times = [t.strftime('%H:%M:%S') for t in times]\n",
    "freqs = df_use.groupby('time')['label'].mean().cumsum()\n",
    "\n",
    "# Calculate means\n",
    "means = df_use.groupby('time')['prev_close_pct'].mean()\n",
    "\n",
    "# Create a Plotly figure\n",
    "fig = go.Figure()\n",
    "\n",
    "# Add a line trace\n",
    "fig.add_trace(go.Scatter(x=times, y=means, mode='lines', name='Mean'))\n",
    "\n",
    "fig.add_trace(go.Scatter(x=times, y=freqs, mode='lines', name='Frequency', yaxis='y2'))\n",
    "fig.update_layout(\n",
    "    yaxis2=dict(\n",
    "        title='Frequency',\n",
    "        titlefont=dict(\n",
    "            color='rgb(148, 103, 189)'\n",
    "        ),\n",
    "        tickfont=dict(\n",
    "            color='rgb(148, 103, 189)'\n",
    "        ),\n",
    "        overlaying='y',\n",
    "        side='right'\n",
    "    )\n",
    ")\n",
    "fig.update_yaxes(\n",
    "    tickformat=\".3%\",\n",
    ")\n",
    "\n",
    "# Set layout properties\n",
    "fig.update_layout(\n",
    "    title=f'Mean vs Time ({str(set_days)} -- {set_days / total_days:.1%})',\n",
    "    xaxis_title='Time',\n",
    "    yaxis_title='Mean',\n",
    "    autosize=False,\n",
    "    width=1000,\n",
    "    height=500,\n",
    ")\n",
    "\n",
    "# Show the figure\n",
    "fig.show()"
   ]
  },
  {
   "cell_type": "code",
   "execution_count": null,
   "metadata": {},
   "outputs": [],
   "source": []
  },
  {
   "cell_type": "code",
   "execution_count": null,
   "metadata": {},
   "outputs": [],
   "source": [
    "import numpy as np\n",
    "import pandas as pd\n",
    "import datetime\n",
    "\n",
    "spx_data['label_lod'] = np.nan\n",
    "\n",
    "# Per date, run it.\n",
    "for day in sorted(set(spx_data.index.date)):\n",
    "    day_str = datetime.datetime.strftime(day, '%Y-%m-%d')\n",
    "    spx_data.loc[day_str, 'lod'] = spx_data.loc[day_str, 'low'].min()\n",
    "\n",
    "    # Label the data: 1 if the current low is the LOD, 0 otherwise\n",
    "    spx_data.loc[day_str, 'label_lod'] = (spx_data.loc[day_str, 'low'] == spx_data.loc[day_str, 'lod']).astype(int)\n",
    "\n",
    "    # Find the index of LOD\n",
    "    lod_index = spx_data.loc[day_str][spx_data.loc[day_str, 'label_lod'] == 1].index\n",
    "\n",
    "    # If LOD is found within the first 5 bars, label the first 5 bars as 1\n",
    "    if not lod_index.empty:\n",
    "        lod_index = lod_index[0]  # In case there are multiple, take the first\n",
    "        if lod_index <= spx_data.loc[day_str].index[4]:  # Check if LOD is within the first 5 bars\n",
    "            spx_data.loc[spx_data.loc[day_str].index[:5], 'label_lod'] = 1\n",
    "        else:\n",
    "            start_time = spx_data.loc[day_str].index[0]\n",
    "            end_time = lod_index\n",
    "            # Calculate the start index using Timedelta\n",
    "            start_index = end_time - pd.Timedelta(minutes=5 * 4)\n",
    "            start_index = max(start_index, start_time)\n",
    "            spx_data.loc[start_index:end_time, 'label_lod'] = 1\n",
    "\n",
    "spx_data.head()"
   ]
  },
  {
   "cell_type": "code",
   "execution_count": null,
   "metadata": {},
   "outputs": [],
   "source": [
    "spx_data['time'] = spx_data.index.time"
   ]
  },
  {
   "cell_type": "code",
   "execution_count": null,
   "metadata": {},
   "outputs": [],
   "source": [
    "spx_data['label'].sum()"
   ]
  },
  {
   "cell_type": "code",
   "execution_count": null,
   "metadata": {},
   "outputs": [],
   "source": [
    "pd.spx_data.groupby('time')['label'].mean()"
   ]
  },
  {
   "cell_type": "code",
   "execution_count": null,
   "metadata": {},
   "outputs": [],
   "source": [
    "import matplotlib.pyplot as plt\n",
    "d = '2023-12-20'\n",
    "spx_data.loc[d,'label'].plot();\n",
    "spx_data.loc[d,'label_lod'].plot();\n",
    "plt.legend();\n",
    "print(spx_data.loc[d,'label_lod'].sum())"
   ]
  },
  {
   "cell_type": "code",
   "execution_count": null,
   "metadata": {},
   "outputs": [],
   "source": [
    "spx_data['label'].value_counts()"
   ]
  },
  {
   "cell_type": "code",
   "execution_count": null,
   "metadata": {},
   "outputs": [],
   "source": [
    "len(set(spx_data.index.date))"
   ]
  },
  {
   "cell_type": "code",
   "execution_count": null,
   "metadata": {},
   "outputs": [],
   "source": []
  },
  {
   "cell_type": "code",
   "execution_count": null,
   "metadata": {},
   "outputs": [],
   "source": [
    "spx_data.loc[day]"
   ]
  },
  {
   "cell_type": "code",
   "execution_count": null,
   "metadata": {},
   "outputs": [],
   "source": [
    "import pandas as pd\n",
    "\n",
    "# Load data\n",
    "# data = pd.read_csv('your_data_file.csv', parse_dates=True)\n",
    "\n",
    "# Calculate P as the average of open, high, low, and close\n",
    "spx_data['P'] = spx_data[['open', 'high', 'low', 'close']].mean(axis=1)\n",
    "\n",
    "# Initialize columns for ON, O1, O2, O3\n",
    "spx_data['ON'] = spx_data['P'].rolling(window=6).max()\n",
    "spx_data['O1'] = spx_data['P'].rolling(window=6).apply(lambda x: x.nsmallest(2).iloc[0] if x.idxmax() != x.index[-1] else x.nsmallest(2).iloc[1])\n",
    "spx_data['O2'] = spx_data['P'].rolling(window=6).apply(lambda x: x.nsmallest(3).iloc[1] if x.idxmax() == x.index[-2] else (x.nsmallest(3).iloc[0] if x.idxmax() != x.index[-1] else x.nsmallest(3).iloc[2]))\n",
    "spx_data['O3'] = spx_data['P'].rolling(window=6).apply(lambda x: x.nsmallest(3).iloc[2])\n",
    "\n",
    "# Set iMA (fast_ma)\n",
    "spx_data['fast_ma'] = spx_data['O3']\n"
   ]
  },
  {
   "cell_type": "code",
   "execution_count": null,
   "metadata": {},
   "outputs": [],
   "source": [
    "\n",
    "# Display the result\n",
    "spx_data[['Datetime','P', 'ON', 'O1', 'O2', 'O3', 'fast_ma']].tail()\n"
   ]
  },
  {
   "cell_type": "code",
   "execution_count": null,
   "metadata": {},
   "outputs": [],
   "source": [
    "# Initializing the required columns\n",
    "spx_data['a'] = 0\n",
    "spx_data['b'] = 0\n",
    "spx_data['z'] = 0\n",
    "spx_data['c'] = 0\n",
    "spx_data['l'] = 0\n",
    "spx_data['s'] = 0\n",
    "\n",
    "# Helper functions to calculate lowest_low, highest_high, avg_low, avg_high\n",
    "spx_data['lowest_low'] = spx_data['low'].rolling(window=5).min()\n",
    "spx_data['highest_high'] = spx_data['high'].rolling(window=5).max()\n",
    "spx_data['avg_low'] = spx_data['low'].rolling(window=5).mean()\n",
    "spx_data['avg_high'] = spx_data['high'].rolling(window=5).mean()\n",
    "\n",
    "for i, row in spx_data.iterrows():\n",
    "    if i == 0:\n",
    "        continue  # Skip the first row\n",
    "\n",
    "    a_prev = spx_data.at[i - 1, 'a']\n",
    "    low_prev = spx_data.at[i - 1, 'low']\n",
    "    high_prev = spx_data.at[i - 1, 'high']\n",
    "\n",
    "    if a_prev == 1:\n",
    "        spx_data.at[i, 'b'] = max(spx_data.at[i, 'lowest_low'], spx_data.at[i - 1, 'b'])\n",
    "        spx_data.at[i, 'z'] = 1 if spx_data.at[i, 'avg_high'] < spx_data.at[i - 1, 'b'] and spx_data.at[i, 'close'] < low_prev else spx_data.at[i - 1, 'z']\n",
    "        spx_data.at[i, 'a'] = 0 if spx_data.at[i, 'avg_high'] < spx_data.at[i - 1, 'b'] and spx_data.at[i, 'close'] < low_prev else a_prev\n",
    "        spx_data.at[i, 'c'] = spx_data.at[i, 'highest_high'] if spx_data.at[i, 'avg_high'] < spx_data.at[i - 1, 'b'] and spx_data.at[i, 'close'] < low_prev else spx_data.at[i - 1, 'c']\n",
    "    elif a_prev == 0:\n",
    "        spx_data.at[i, 'c'] = min(spx_data.at[i, 'highest_high'], spx_data.at[i - 1, 'c'])\n",
    "        spx_data.at[i, 'z'] = 0 if spx_data.at[i, 'avg_low'] > spx_data.at[i - 1, 'c'] and spx_data.at[i, 'close'] > high_prev else spx_data.at[i - 1, 'z']\n",
    "        spx_data.at[i, 'a'] = 1 if spx_data.at[i, 'avg_low'] > spx_data.at[i - 1, 'c'] and spx_data.at[i, 'close'] > high_prev else a_prev\n",
    "        spx_data.at[i, 'b'] = spx_data.at[i, 'lowest_low'] if spx_data.at[i, 'avg_low'] > spx_data.at[i - 1, 'c'] and spx_data.at[i, 'close'] > high_prev else spx_data.at[i - 1, 'b']\n",
    "    else:\n",
    "        # Maintain the previous values\n",
    "        spx_data.at[i, 'b'] = spx_data.at[i - 1, 'b']\n",
    "        spx_data.at[i, 'z'] = spx_data.at[i - 1, 'z']\n",
    "        spx_data.at[i, 'a'] = a_prev\n",
    "        spx_data.at[i, 'c'] = spx_data.at[i - 1, 'c']\n",
    "\n",
    "    # Adjusting 'l' and 's'\n",
    "    if spx_data.at[i, 'z'] == 0:\n",
    "        spx_data.at[i, 'l'] = spx_data.at[i - 1, 's'] if spx_data.at[i - 1, 'z'] != 0 else max(spx_data.at[i - 1, 'b'], spx_data.at[i - 1, 'l'])\n",
    "        spx_data.at[i, 's'] = 0\n",
    "    elif spx_data.at[i - 1, 'z'] != 1:\n",
    "        spx_data.at[i, 's'] = spx_data.at[i - 1, 'l']\n",
    "        spx_data.at[i, 'l'] = 0\n",
    "    elif spx_data.at[i, 'z'] == 1:\n",
    "        spx_data.at[i, 's'] = min(spx_data.at[i, 'c'], spx_data.at[i - 1, 's'])\n",
    "        spx_data.at[i, 'l'] = spx_data.at[i - 1, 'l']\n",
    "    else:\n",
    "        spx_data.at[i, 'l'] = spx_data.at[i - 1, 'l']\n",
    "        spx_data.at[i, 's'] = spx_data.at[i - 1, 's']\n",
    "\n",
    "    # Setting 'trail'\n",
    "    spx_data.at[i, 'trail'] = spx_data.at[i, 'l'] if spx_data.at[i, 'l'] > 0 else spx_data.at[i, 's']\n",
    "\n",
    "# # Display the result\n",
    "# print(spx_data[['a', 'b', 'z', 'c', 'l', 's', 'trail']])\n"
   ]
  },
  {
   "cell_type": "code",
   "execution_count": null,
   "metadata": {},
   "outputs": [],
   "source": [
    "spx_data[['close', 'fast_ma']].tail().plot()"
   ]
  },
  {
   "cell_type": "markdown",
   "metadata": {},
   "source": [
    "# Backtesting"
   ]
  },
  {
   "cell_type": "code",
   "execution_count": null,
   "metadata": {},
   "outputs": [],
   "source": [
    "import bt\n",
    "import pandas as pd\n",
    "\n",
    "# Load your data\n",
    "# data = pd.read_csv('your_data_file.csv', index_col='Date', parse_dates=True)\n",
    "\n",
    "# Custom Algo for selecting where to trade\n",
    "class SelectWhere(bt.Algo):\n",
    "    def __init__(self, signal):\n",
    "        self.signal = signal\n",
    "\n",
    "    def __call__(self, target):\n",
    "        if target.now in self.signal.index:\n",
    "            signal_value = self.signal.loc[target.now]\n",
    "            target.temp['weights'] = signal_value.astype(float)\n",
    "        return True\n",
    "\n",
    "# Create the signal for the strategy\n",
    "signal = (data['close'] > data['fast_ma']) & (data['close'].shift() < data['slow_ma'])\n",
    "\n",
    "# Create the strategy\n",
    "strategy = bt.Strategy('AboveFastMA',\n",
    "                       [SelectWhere(signal),\n",
    "                        bt.algos.WeighTarget('weights'),\n",
    "                        bt.algos.Rebalance()])\n",
    "\n",
    "# Create a backtest and run it\n",
    "test = bt.Backtest(strategy, data)\n",
    "\n",
    "# Set up the backtest with transaction costs and slippage\n",
    "commissions = bt.fees.FixedPerTrade(1) # $1 per trade\n",
    "slippage = bt.slippage.FixedSlippage(0.05) # Fixed slippage per share, adjust as needed\n",
    "\n",
    "# Set the commissions and slippage to the backtest\n",
    "test.set_fees(commissions=commissions, slippage=slippage)\n",
    "\n",
    "# Run the backtest\n",
    "res = bt.run(test)\n",
    "\n",
    "# Plot the results\n",
    "res.plot()\n"
   ]
  },
  {
   "cell_type": "markdown",
   "metadata": {},
   "source": []
  }
 ],
 "metadata": {
  "kernelspec": {
   "display_name": ".venv",
   "language": "python",
   "name": "python3"
  },
  "language_info": {
   "codemirror_mode": {
    "name": "ipython",
    "version": 3
   },
   "file_extension": ".py",
   "mimetype": "text/x-python",
   "name": "python",
   "nbconvert_exporter": "python",
   "pygments_lexer": "ipython3",
   "version": "3.10.11"
  }
 },
 "nbformat": 4,
 "nbformat_minor": 2
}
