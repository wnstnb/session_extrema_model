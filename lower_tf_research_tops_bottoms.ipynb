{
 "cells": [
  {
   "cell_type": "code",
   "execution_count": 2,
   "metadata": {},
   "outputs": [],
   "source": [
    "from dbConn import engine\n",
    "import pandas as pd\n",
    "import numpy as np\n",
    "from tqdm import tqdm"
   ]
  },
  {
   "cell_type": "code",
   "execution_count": 3,
   "metadata": {},
   "outputs": [],
   "source": [
    "base_query = '''\n",
    "SELECT \n",
    "    spx.Datetime,\n",
    "    spx.Open AS Open_SPX,\n",
    "    spx.High AS High_SPX,\n",
    "    spx.Low AS Low_SPX,\n",
    "    spx.Close AS Close_SPX,\n",
    "    ndx.Open AS Open_NDX,\n",
    "    ndx.High AS High_NDX,\n",
    "    ndx.Low AS Low_NDX,\n",
    "    ndx.Close AS Close_NDX,\n",
    "    rut.Open AS Open_RUT,\n",
    "    rut.High AS High_RUT,\n",
    "    rut.Low AS Low_RUT,\n",
    "    rut.Close AS Close_RUT\n",
    "    FROM (\n",
    "    SELECT * FROM SPX_full_5min\n",
    "    ) spx\n",
    "    JOIN (\n",
    "    SELECT * FROM NDX_full_5min\n",
    "    ) ndx ON spx.Datetime = ndx.Datetime\n",
    "    JOIN (\n",
    "    SELECT * FROM RUT_full_5min\n",
    "    ) rut ON spx.Datetime = rut.Datetime\n",
    "-- WHERE spx.Datetime >= '2018-01-01'\n",
    "'''\n",
    "\n",
    "# Initialize variables for pagination\n",
    "offset = 0\n",
    "limit = 50000\n",
    "data_frames = []\n",
    "\n",
    "while True:\n",
    "    # Construct the query with LIMIT and OFFSET\n",
    "    query = f\"{base_query} LIMIT {limit} OFFSET {offset}\"\n",
    "    \n",
    "    # Fetch the chunk of data\n",
    "    df_chunk = pd.read_sql_query(query, con = engine.connect())\n",
    "    \n",
    "    # Break the loop if no more data is returned\n",
    "    if df_chunk.empty:\n",
    "        break\n",
    "\n",
    "    # Append the chunk to the list of dataframes\n",
    "    data_frames.append(df_chunk)\n",
    "\n",
    "    # Update the offset for the next query\n",
    "    offset += limit\n",
    "\n",
    "# Concatenate all dataframes\n",
    "data = pd.concat(data_frames, ignore_index=True)"
   ]
  },
  {
   "cell_type": "code",
   "execution_count": 4,
   "metadata": {},
   "outputs": [
    {
     "data": {
      "text/plain": [
       "330450"
      ]
     },
     "execution_count": 4,
     "metadata": {},
     "output_type": "execute_result"
    }
   ],
   "source": [
    "len(data)"
   ]
  },
  {
   "cell_type": "code",
   "execution_count": 5,
   "metadata": {},
   "outputs": [
    {
     "data": {
      "text/html": [
       "<div>\n",
       "<style scoped>\n",
       "    .dataframe tbody tr th:only-of-type {\n",
       "        vertical-align: middle;\n",
       "    }\n",
       "\n",
       "    .dataframe tbody tr th {\n",
       "        vertical-align: top;\n",
       "    }\n",
       "\n",
       "    .dataframe thead th {\n",
       "        text-align: right;\n",
       "    }\n",
       "</style>\n",
       "<table border=\"1\" class=\"dataframe\">\n",
       "  <thead>\n",
       "    <tr style=\"text-align: right;\">\n",
       "      <th></th>\n",
       "      <th>Datetime</th>\n",
       "      <th>Open_SPX</th>\n",
       "      <th>High_SPX</th>\n",
       "      <th>Low_SPX</th>\n",
       "      <th>Close_SPX</th>\n",
       "      <th>Open_NDX</th>\n",
       "      <th>High_NDX</th>\n",
       "      <th>Low_NDX</th>\n",
       "      <th>Close_NDX</th>\n",
       "      <th>Open_RUT</th>\n",
       "      <th>High_RUT</th>\n",
       "      <th>Low_RUT</th>\n",
       "      <th>Close_RUT</th>\n",
       "    </tr>\n",
       "  </thead>\n",
       "  <tbody>\n",
       "    <tr>\n",
       "      <th>0</th>\n",
       "      <td>2007-04-27 12:20:00</td>\n",
       "      <td>1492.19</td>\n",
       "      <td>1492.40</td>\n",
       "      <td>1492.19</td>\n",
       "      <td>1492.38</td>\n",
       "      <td>1887.90</td>\n",
       "      <td>1887.91</td>\n",
       "      <td>1886.97</td>\n",
       "      <td>1887.65</td>\n",
       "      <td>829.54</td>\n",
       "      <td>829.55</td>\n",
       "      <td>829.35</td>\n",
       "      <td>829.41</td>\n",
       "    </tr>\n",
       "    <tr>\n",
       "      <th>1</th>\n",
       "      <td>2007-04-27 12:25:00</td>\n",
       "      <td>1492.39</td>\n",
       "      <td>1492.91</td>\n",
       "      <td>1492.39</td>\n",
       "      <td>1492.87</td>\n",
       "      <td>1887.72</td>\n",
       "      <td>1888.32</td>\n",
       "      <td>1887.72</td>\n",
       "      <td>1888.27</td>\n",
       "      <td>829.42</td>\n",
       "      <td>829.68</td>\n",
       "      <td>829.42</td>\n",
       "      <td>829.68</td>\n",
       "    </tr>\n",
       "    <tr>\n",
       "      <th>2</th>\n",
       "      <td>2007-04-27 12:30:00</td>\n",
       "      <td>1492.54</td>\n",
       "      <td>1492.80</td>\n",
       "      <td>1492.53</td>\n",
       "      <td>1492.58</td>\n",
       "      <td>1887.77</td>\n",
       "      <td>1888.68</td>\n",
       "      <td>1887.65</td>\n",
       "      <td>1888.13</td>\n",
       "      <td>829.65</td>\n",
       "      <td>829.84</td>\n",
       "      <td>829.65</td>\n",
       "      <td>829.73</td>\n",
       "    </tr>\n",
       "    <tr>\n",
       "      <th>3</th>\n",
       "      <td>2007-04-27 12:35:00</td>\n",
       "      <td>1492.70</td>\n",
       "      <td>1492.88</td>\n",
       "      <td>1492.30</td>\n",
       "      <td>1492.88</td>\n",
       "      <td>1888.09</td>\n",
       "      <td>1888.24</td>\n",
       "      <td>1887.27</td>\n",
       "      <td>1888.24</td>\n",
       "      <td>829.65</td>\n",
       "      <td>829.65</td>\n",
       "      <td>829.25</td>\n",
       "      <td>829.38</td>\n",
       "    </tr>\n",
       "    <tr>\n",
       "      <th>4</th>\n",
       "      <td>2007-04-27 12:40:00</td>\n",
       "      <td>1492.88</td>\n",
       "      <td>1494.46</td>\n",
       "      <td>1492.88</td>\n",
       "      <td>1493.94</td>\n",
       "      <td>1888.26</td>\n",
       "      <td>1890.01</td>\n",
       "      <td>1888.26</td>\n",
       "      <td>1889.31</td>\n",
       "      <td>829.39</td>\n",
       "      <td>830.08</td>\n",
       "      <td>829.39</td>\n",
       "      <td>830.03</td>\n",
       "    </tr>\n",
       "  </tbody>\n",
       "</table>\n",
       "</div>"
      ],
      "text/plain": [
       "             Datetime  Open_SPX  High_SPX  Low_SPX  Close_SPX  Open_NDX  \\\n",
       "0 2007-04-27 12:20:00   1492.19   1492.40  1492.19    1492.38   1887.90   \n",
       "1 2007-04-27 12:25:00   1492.39   1492.91  1492.39    1492.87   1887.72   \n",
       "2 2007-04-27 12:30:00   1492.54   1492.80  1492.53    1492.58   1887.77   \n",
       "3 2007-04-27 12:35:00   1492.70   1492.88  1492.30    1492.88   1888.09   \n",
       "4 2007-04-27 12:40:00   1492.88   1494.46  1492.88    1493.94   1888.26   \n",
       "\n",
       "   High_NDX  Low_NDX  Close_NDX  Open_RUT  High_RUT  Low_RUT  Close_RUT  \n",
       "0   1887.91  1886.97    1887.65    829.54    829.55   829.35     829.41  \n",
       "1   1888.32  1887.72    1888.27    829.42    829.68   829.42     829.68  \n",
       "2   1888.68  1887.65    1888.13    829.65    829.84   829.65     829.73  \n",
       "3   1888.24  1887.27    1888.24    829.65    829.65   829.25     829.38  \n",
       "4   1890.01  1888.26    1889.31    829.39    830.08   829.39     830.03  "
      ]
     },
     "execution_count": 5,
     "metadata": {},
     "output_type": "execute_result"
    }
   ],
   "source": [
    "data.head()"
   ]
  },
  {
   "cell_type": "code",
   "execution_count": 6,
   "metadata": {},
   "outputs": [],
   "source": [
    "data['Date'] = data['Datetime'].dt.date\n",
    "data['Time'] = data['Datetime'].dt.time"
   ]
  },
  {
   "cell_type": "code",
   "execution_count": 7,
   "metadata": {},
   "outputs": [],
   "source": [
    "import datetime"
   ]
  },
  {
   "cell_type": "markdown",
   "metadata": {},
   "source": [
    "# Start Run Models"
   ]
  },
  {
   "cell_type": "code",
   "execution_count": 149,
   "metadata": {},
   "outputs": [],
   "source": [
    "ticker_dict = {\n",
    "    \"^GSPC\":{\n",
    "        \"hod_model\":\"models/hod_model_spx.joblib\",\n",
    "        \"lod_model\":\"models/lod_model_spx.joblib\",\n",
    "        \"gd_model\":\"models/gd_model_spx.joblib\",\n",
    "        \"suffix\":\"SPX\"\n",
    "    },\n",
    "    \"^NDX\":{\n",
    "        \"hod_model\":\"models/hod_model_ndx.joblib\",\n",
    "        \"lod_model\":\"models/lod_model_ndx.joblib\",\n",
    "        \"gd_model\":\"models/gd_model_ndx.joblib\",\n",
    "        \"suffix\":\"NDX\"\n",
    "    },\n",
    "    \"^RUT\":{\n",
    "        \"hod_model\":\"models/hod_model_rut.joblib\",\n",
    "        \"lod_model\":\"models/lod_model_rut.joblib\",\n",
    "        \"gd_model\":\"models/gd_model_rut.joblib\",\n",
    "        \"suffix\":\"RUT\"\n",
    "    }\n",
    "}\n",
    "\n",
    "tck = '^GSPC'\n",
    "\n",
    "spx_data = data.loc[:,[\n",
    "    'Datetime',\n",
    "    f'Open_{ticker_dict[tck][\"suffix\"]}',\n",
    "    f'High_{ticker_dict[tck][\"suffix\"]}',\n",
    "    f'Low_{ticker_dict[tck][\"suffix\"]}',\n",
    "    f'Close_{ticker_dict[tck][\"suffix\"]}'\n",
    "]]\n",
    "spx_data.columns = ['Datetime','open','high','low','close']\n",
    "spx_data['time'] = spx_data['Datetime'].dt.time\n",
    "spx_data = spx_data.loc[(spx_data['time'] < datetime.time(16,0)) & (spx_data['time'] >= datetime.time(9,30))]"
   ]
  },
  {
   "cell_type": "code",
   "execution_count": 150,
   "metadata": {},
   "outputs": [],
   "source": [
    "spx_data = spx_data.set_index('Datetime')"
   ]
  },
  {
   "cell_type": "code",
   "execution_count": 151,
   "metadata": {},
   "outputs": [],
   "source": [
    "# Create a list of times from 9:30 to 15:55 with 5 minute intervals\n",
    "times = pd.date_range(start=\"9:30\", end=\"15:55\", freq='5min').time\n",
    "\n",
    "# Create a dictionary that maps each time to a unique integer\n",
    "time_to_int = {time: i+1 for i, time in enumerate(times)}\n",
    "\n",
    "# Assume df is your DataFrame and 'time' is your column of times\n",
    "spx_data['bar_num'] = spx_data['time'].map(time_to_int)"
   ]
  },
  {
   "cell_type": "code",
   "execution_count": 152,
   "metadata": {},
   "outputs": [],
   "source": [
    "# Get the last bar of each date\n",
    "spx_data['eod_close'] = spx_data.groupby(spx_data.index.date)['close'].tail(1)\n",
    "spx_data['prev_close'] = spx_data['eod_close'].shift(1)\n",
    "spx_data['prev_close'] = spx_data['prev_close'].ffill()\n",
    "spx_data['eod_close'] = spx_data['eod_close'].bfill()\n",
    "spx_data['green_day'] = spx_data['eod_close'] > spx_data['prev_close']\n",
    "\n",
    "spx_data['eod_close_pts'] = spx_data['eod_close'] - spx_data['prev_close']\n",
    "spx_data['eod_close_pct'] = spx_data['eod_close_pts'] / spx_data['prev_close']"
   ]
  },
  {
   "cell_type": "code",
   "execution_count": 153,
   "metadata": {},
   "outputs": [
    {
     "data": {
      "text/html": [
       "<div>\n",
       "<style scoped>\n",
       "    .dataframe tbody tr th:only-of-type {\n",
       "        vertical-align: middle;\n",
       "    }\n",
       "\n",
       "    .dataframe tbody tr th {\n",
       "        vertical-align: top;\n",
       "    }\n",
       "\n",
       "    .dataframe thead th {\n",
       "        text-align: right;\n",
       "    }\n",
       "</style>\n",
       "<table border=\"1\" class=\"dataframe\">\n",
       "  <thead>\n",
       "    <tr style=\"text-align: right;\">\n",
       "      <th></th>\n",
       "      <th>open</th>\n",
       "      <th>high</th>\n",
       "      <th>low</th>\n",
       "      <th>close</th>\n",
       "      <th>time</th>\n",
       "      <th>bar_num</th>\n",
       "      <th>eod_close</th>\n",
       "      <th>prev_close</th>\n",
       "      <th>green_day</th>\n",
       "      <th>eod_close_pts</th>\n",
       "      <th>eod_close_pct</th>\n",
       "    </tr>\n",
       "    <tr>\n",
       "      <th>Datetime</th>\n",
       "      <th></th>\n",
       "      <th></th>\n",
       "      <th></th>\n",
       "      <th></th>\n",
       "      <th></th>\n",
       "      <th></th>\n",
       "      <th></th>\n",
       "      <th></th>\n",
       "      <th></th>\n",
       "      <th></th>\n",
       "      <th></th>\n",
       "    </tr>\n",
       "  </thead>\n",
       "  <tbody>\n",
       "    <tr>\n",
       "      <th>2007-04-27 12:20:00</th>\n",
       "      <td>1492.19</td>\n",
       "      <td>1492.40</td>\n",
       "      <td>1492.19</td>\n",
       "      <td>1492.38</td>\n",
       "      <td>12:20:00</td>\n",
       "      <td>35</td>\n",
       "      <td>1494.24</td>\n",
       "      <td>NaN</td>\n",
       "      <td>False</td>\n",
       "      <td>NaN</td>\n",
       "      <td>NaN</td>\n",
       "    </tr>\n",
       "    <tr>\n",
       "      <th>2007-04-27 12:25:00</th>\n",
       "      <td>1492.39</td>\n",
       "      <td>1492.91</td>\n",
       "      <td>1492.39</td>\n",
       "      <td>1492.87</td>\n",
       "      <td>12:25:00</td>\n",
       "      <td>36</td>\n",
       "      <td>1494.24</td>\n",
       "      <td>NaN</td>\n",
       "      <td>False</td>\n",
       "      <td>NaN</td>\n",
       "      <td>NaN</td>\n",
       "    </tr>\n",
       "    <tr>\n",
       "      <th>2007-04-27 12:30:00</th>\n",
       "      <td>1492.54</td>\n",
       "      <td>1492.80</td>\n",
       "      <td>1492.53</td>\n",
       "      <td>1492.58</td>\n",
       "      <td>12:30:00</td>\n",
       "      <td>37</td>\n",
       "      <td>1494.24</td>\n",
       "      <td>NaN</td>\n",
       "      <td>False</td>\n",
       "      <td>NaN</td>\n",
       "      <td>NaN</td>\n",
       "    </tr>\n",
       "    <tr>\n",
       "      <th>2007-04-27 12:35:00</th>\n",
       "      <td>1492.70</td>\n",
       "      <td>1492.88</td>\n",
       "      <td>1492.30</td>\n",
       "      <td>1492.88</td>\n",
       "      <td>12:35:00</td>\n",
       "      <td>38</td>\n",
       "      <td>1494.24</td>\n",
       "      <td>NaN</td>\n",
       "      <td>False</td>\n",
       "      <td>NaN</td>\n",
       "      <td>NaN</td>\n",
       "    </tr>\n",
       "    <tr>\n",
       "      <th>2007-04-27 12:40:00</th>\n",
       "      <td>1492.88</td>\n",
       "      <td>1494.46</td>\n",
       "      <td>1492.88</td>\n",
       "      <td>1493.94</td>\n",
       "      <td>12:40:00</td>\n",
       "      <td>39</td>\n",
       "      <td>1494.24</td>\n",
       "      <td>NaN</td>\n",
       "      <td>False</td>\n",
       "      <td>NaN</td>\n",
       "      <td>NaN</td>\n",
       "    </tr>\n",
       "  </tbody>\n",
       "</table>\n",
       "</div>"
      ],
      "text/plain": [
       "                        open     high      low    close      time  bar_num  \\\n",
       "Datetime                                                                     \n",
       "2007-04-27 12:20:00  1492.19  1492.40  1492.19  1492.38  12:20:00       35   \n",
       "2007-04-27 12:25:00  1492.39  1492.91  1492.39  1492.87  12:25:00       36   \n",
       "2007-04-27 12:30:00  1492.54  1492.80  1492.53  1492.58  12:30:00       37   \n",
       "2007-04-27 12:35:00  1492.70  1492.88  1492.30  1492.88  12:35:00       38   \n",
       "2007-04-27 12:40:00  1492.88  1494.46  1492.88  1493.94  12:40:00       39   \n",
       "\n",
       "                     eod_close  prev_close  green_day  eod_close_pts  \\\n",
       "Datetime                                                               \n",
       "2007-04-27 12:20:00    1494.24         NaN      False            NaN   \n",
       "2007-04-27 12:25:00    1494.24         NaN      False            NaN   \n",
       "2007-04-27 12:30:00    1494.24         NaN      False            NaN   \n",
       "2007-04-27 12:35:00    1494.24         NaN      False            NaN   \n",
       "2007-04-27 12:40:00    1494.24         NaN      False            NaN   \n",
       "\n",
       "                     eod_close_pct  \n",
       "Datetime                            \n",
       "2007-04-27 12:20:00            NaN  \n",
       "2007-04-27 12:25:00            NaN  \n",
       "2007-04-27 12:30:00            NaN  \n",
       "2007-04-27 12:35:00            NaN  \n",
       "2007-04-27 12:40:00            NaN  "
      ]
     },
     "execution_count": 153,
     "metadata": {},
     "output_type": "execute_result"
    }
   ],
   "source": [
    "spx_data.head()"
   ]
  },
  {
   "cell_type": "code",
   "execution_count": 154,
   "metadata": {},
   "outputs": [
    {
     "data": {
      "text/html": [
       "<div>\n",
       "<style scoped>\n",
       "    .dataframe tbody tr th:only-of-type {\n",
       "        vertical-align: middle;\n",
       "    }\n",
       "\n",
       "    .dataframe tbody tr th {\n",
       "        vertical-align: top;\n",
       "    }\n",
       "\n",
       "    .dataframe thead th {\n",
       "        text-align: right;\n",
       "    }\n",
       "</style>\n",
       "<table border=\"1\" class=\"dataframe\">\n",
       "  <thead>\n",
       "    <tr style=\"text-align: right;\">\n",
       "      <th></th>\n",
       "      <th>open</th>\n",
       "      <th>high</th>\n",
       "      <th>low</th>\n",
       "      <th>close</th>\n",
       "      <th>time</th>\n",
       "      <th>bar_num</th>\n",
       "      <th>eod_close</th>\n",
       "      <th>prev_close</th>\n",
       "      <th>green_day</th>\n",
       "      <th>eod_close_pts</th>\n",
       "      <th>eod_close_pct</th>\n",
       "    </tr>\n",
       "    <tr>\n",
       "      <th>Datetime</th>\n",
       "      <th></th>\n",
       "      <th></th>\n",
       "      <th></th>\n",
       "      <th></th>\n",
       "      <th></th>\n",
       "      <th></th>\n",
       "      <th></th>\n",
       "      <th></th>\n",
       "      <th></th>\n",
       "      <th></th>\n",
       "      <th></th>\n",
       "    </tr>\n",
       "  </thead>\n",
       "  <tbody>\n",
       "    <tr>\n",
       "      <th>2023-12-29 15:35:00</th>\n",
       "      <td>4773.29</td>\n",
       "      <td>4774.59</td>\n",
       "      <td>4773.25</td>\n",
       "      <td>4774.08</td>\n",
       "      <td>15:35:00</td>\n",
       "      <td>74</td>\n",
       "      <td>4772.17</td>\n",
       "      <td>4784.12</td>\n",
       "      <td>False</td>\n",
       "      <td>-11.95</td>\n",
       "      <td>-0.002498</td>\n",
       "    </tr>\n",
       "    <tr>\n",
       "      <th>2023-12-29 15:40:00</th>\n",
       "      <td>4774.07</td>\n",
       "      <td>4775.66</td>\n",
       "      <td>4771.86</td>\n",
       "      <td>4771.86</td>\n",
       "      <td>15:40:00</td>\n",
       "      <td>75</td>\n",
       "      <td>4772.17</td>\n",
       "      <td>4784.12</td>\n",
       "      <td>False</td>\n",
       "      <td>-11.95</td>\n",
       "      <td>-0.002498</td>\n",
       "    </tr>\n",
       "    <tr>\n",
       "      <th>2023-12-29 15:45:00</th>\n",
       "      <td>4771.78</td>\n",
       "      <td>4772.96</td>\n",
       "      <td>4770.34</td>\n",
       "      <td>4770.34</td>\n",
       "      <td>15:45:00</td>\n",
       "      <td>76</td>\n",
       "      <td>4772.17</td>\n",
       "      <td>4784.12</td>\n",
       "      <td>False</td>\n",
       "      <td>-11.95</td>\n",
       "      <td>-0.002498</td>\n",
       "    </tr>\n",
       "    <tr>\n",
       "      <th>2023-12-29 15:50:00</th>\n",
       "      <td>4770.31</td>\n",
       "      <td>4774.07</td>\n",
       "      <td>4765.37</td>\n",
       "      <td>4765.45</td>\n",
       "      <td>15:50:00</td>\n",
       "      <td>77</td>\n",
       "      <td>4772.17</td>\n",
       "      <td>4784.12</td>\n",
       "      <td>False</td>\n",
       "      <td>-11.95</td>\n",
       "      <td>-0.002498</td>\n",
       "    </tr>\n",
       "    <tr>\n",
       "      <th>2023-12-29 15:55:00</th>\n",
       "      <td>4765.57</td>\n",
       "      <td>4774.03</td>\n",
       "      <td>4763.58</td>\n",
       "      <td>4772.17</td>\n",
       "      <td>15:55:00</td>\n",
       "      <td>78</td>\n",
       "      <td>4772.17</td>\n",
       "      <td>4784.12</td>\n",
       "      <td>False</td>\n",
       "      <td>-11.95</td>\n",
       "      <td>-0.002498</td>\n",
       "    </tr>\n",
       "  </tbody>\n",
       "</table>\n",
       "</div>"
      ],
      "text/plain": [
       "                        open     high      low    close      time  bar_num  \\\n",
       "Datetime                                                                     \n",
       "2023-12-29 15:35:00  4773.29  4774.59  4773.25  4774.08  15:35:00       74   \n",
       "2023-12-29 15:40:00  4774.07  4775.66  4771.86  4771.86  15:40:00       75   \n",
       "2023-12-29 15:45:00  4771.78  4772.96  4770.34  4770.34  15:45:00       76   \n",
       "2023-12-29 15:50:00  4770.31  4774.07  4765.37  4765.45  15:50:00       77   \n",
       "2023-12-29 15:55:00  4765.57  4774.03  4763.58  4772.17  15:55:00       78   \n",
       "\n",
       "                     eod_close  prev_close  green_day  eod_close_pts  \\\n",
       "Datetime                                                               \n",
       "2023-12-29 15:35:00    4772.17     4784.12      False         -11.95   \n",
       "2023-12-29 15:40:00    4772.17     4784.12      False         -11.95   \n",
       "2023-12-29 15:45:00    4772.17     4784.12      False         -11.95   \n",
       "2023-12-29 15:50:00    4772.17     4784.12      False         -11.95   \n",
       "2023-12-29 15:55:00    4772.17     4784.12      False         -11.95   \n",
       "\n",
       "                     eod_close_pct  \n",
       "Datetime                            \n",
       "2023-12-29 15:35:00      -0.002498  \n",
       "2023-12-29 15:40:00      -0.002498  \n",
       "2023-12-29 15:45:00      -0.002498  \n",
       "2023-12-29 15:50:00      -0.002498  \n",
       "2023-12-29 15:55:00      -0.002498  "
      ]
     },
     "execution_count": 154,
     "metadata": {},
     "output_type": "execute_result"
    }
   ],
   "source": [
    "spx_data.tail()"
   ]
  },
  {
   "cell_type": "markdown",
   "metadata": {},
   "source": [
    "# Feature and Target Creation\n",
    "Target\n",
    "- Whether the current high or low of the **session** has been achieved, based on the close of the most recent 5 min bar. \n",
    "\n",
    "Features\n",
    "- Current and lagged features of each **session**."
   ]
  },
  {
   "cell_type": "code",
   "execution_count": 155,
   "metadata": {},
   "outputs": [
    {
     "name": "stderr",
     "output_type": "stream",
     "text": [
      "  0%|          | 0/4198 [00:00<?, ?it/s]"
     ]
    },
    {
     "name": "stderr",
     "output_type": "stream",
     "text": [
      "100%|██████████| 4198/4198 [01:51<00:00, 37.81it/s]\n"
     ]
    }
   ],
   "source": [
    "import numpy as np\n",
    "import pandas as pd\n",
    "import datetime\n",
    "from pandas.tseries.offsets import BDay\n",
    "from tqdm import tqdm\n",
    "\n",
    "spx_data['label'] = np.nan\n",
    "\n",
    "# Per date, run it.\n",
    "for day in tqdm(sorted(set(spx_data.index.date))):\n",
    "    day_str = datetime.datetime.strftime(day, '%Y-%m-%d')\n",
    "    day_open = spx_data.loc[day_str, 'open'].iloc[0]\n",
    "    spx_data.loc[day_str, 'lod'] = spx_data.loc[day_str, 'low'].min()\n",
    "    spx_data.loc[day_str, 'label_lod'] = (spx_data.loc[day_str, 'low'] == spx_data.loc[day_str, 'lod']).astype(int)\n",
    "    \n",
    "    spx_data.loc[day_str, 'hod'] = spx_data.loc[day_str, 'high'].max()\n",
    "    spx_data.loc[day_str, 'label'] = (spx_data.loc[day_str, 'high'] == spx_data.loc[day_str, 'hod']).astype(int)\n",
    "    spx_data.loc[day_str, 'day_open'] = day_open\n",
    "    spx_data.loc[day_str, 'day_open_pts'] = spx_data.loc[day_str, 'close'] - spx_data.loc[day_str, 'day_open']\n",
    "    spx_data.loc[day_str, 'day_open_pct'] = spx_data.loc[day_str, 'day_open_pts'] / spx_data.loc[day_str, 'day_open']\n",
    "    spx_data.loc[day_str, 'prev_close_pts'] = spx_data.loc[day_str, 'close'] - spx_data.loc[day_str, 'prev_close']\n",
    "    spx_data.loc[day_str, 'prev_close_pct'] = spx_data.loc[day_str, 'prev_close_pts'] / spx_data.loc[day_str, 'prev_close']\n",
    "\n",
    "    # Lowest low\n",
    "    spx_data.loc[day_str, 'lowest_low'] = spx_data.loc[day_str, 'low'].expanding().min()\n",
    "    spx_data.loc[day_str, 'lowest_low'] = spx_data.loc[day_str, 'lowest_low'].shift(1)\n",
    "    spx_data.loc[day_str, 'lowest_low'] = spx_data.loc[day_str, 'lowest_low'].ffill()\n",
    "    spx_data.loc[day_str, 'lowest_low_mag'] = (spx_data.loc[day_str, 'close'] / spx_data.loc[day_str, 'lowest_low']) - 1\n",
    "\n",
    "    # Highest high\n",
    "    spx_data.loc[day_str, 'highest_high'] = spx_data.loc[day_str, 'high'].expanding().max()\n",
    "    spx_data.loc[day_str, 'highest_high'] = spx_data.loc[day_str, 'highest_high'].shift(1)\n",
    "    spx_data.loc[day_str, 'highest_high'] = spx_data.loc[day_str, 'highest_high'].ffill()\n",
    "    spx_data.loc[day_str, 'highest_high_mag'] = (spx_data.loc[day_str, 'close'] / spx_data.loc[day_str, 'highest_high']) - 1\n",
    "\n",
    "    # Shifted\n",
    "    spx_data.loc[day_str, 'prev_close_pct_n1'] = spx_data.loc[day_str, 'prev_close_pct'].shift(1)\n",
    "    spx_data.loc[day_str, 'prev_close_pct_n2'] = spx_data.loc[day_str, 'prev_close_pct'].shift(2)\n",
    "    spx_data.loc[day_str, 'prev_close_pct_n3'] = spx_data.loc[day_str, 'prev_close_pct'].shift(3)\n",
    "\n",
    "    spx_data.loc[day_str, 'day_open_pct_n1'] = spx_data.loc[day_str, 'day_open_pct'].shift(1)\n",
    "    spx_data.loc[day_str, 'day_open_pct_n2'] = spx_data.loc[day_str, 'day_open_pct'].shift(2)\n",
    "    spx_data.loc[day_str, 'day_open_pct_n3'] = spx_data.loc[day_str, 'day_open_pct'].shift(3)\n",
    "\n",
    "    # New Features\n",
    "    spx_data.loc[day_str, 'open_slope'] = spx_data.loc[day_str, 'day_open_pct'] / spx_data.loc[day_str, 'bar_num']\n",
    "    spx_data.loc[day_str, 'daily_slope'] = spx_data.loc[day_str, 'prev_close_pct'] / spx_data.loc[day_str, 'bar_num']\n",
    "\n",
    "\n",
    "    # Label the data: 1 if the current high is the HOD, 0 otherwise\n",
    "\n",
    "    # # Find the index of HOD\n",
    "    # hod_index = spx_data.loc[day_str][spx_data.loc[day_str, 'label'] == 1].index\n",
    "\n",
    "    # # If HOD is found within the first 5 bars, label the first 5 bars as 1\n",
    "    # if not hod_index.empty:\n",
    "    #     hod_index = hod_index[0]  # In case there are multiple, take the first\n",
    "    #     if hod_index <= spx_data.loc[day_str].index[4]:  # Check if HOD is within the first 5 bars\n",
    "    #         spx_data.loc[spx_data.loc[day_str].index[:5], 'label'] = 1\n",
    "    #     else:\n",
    "    #         start_time = spx_data.loc[day_str].index[0]\n",
    "    #         end_time = hod_index\n",
    "    #         # Calculate the start index using Timedelta\n",
    "    #         start_index = end_time - pd.Timedelta(minutes=5 * 4)\n",
    "    #         start_index = max(start_index, start_time)\n",
    "    #         spx_data.loc[start_index:end_time, 'label'] = 1\n",
    "\n",
    "# spx_data.head()\n"
   ]
  },
  {
   "cell_type": "code",
   "execution_count": 156,
   "metadata": {},
   "outputs": [
    {
     "data": {
      "text/plain": [
       "open                     0\n",
       "high                     0\n",
       "low                      0\n",
       "close                    0\n",
       "time                     0\n",
       "bar_num                  0\n",
       "eod_close                0\n",
       "prev_close              44\n",
       "green_day                0\n",
       "eod_close_pts           44\n",
       "eod_close_pct           44\n",
       "label                    0\n",
       "lod                      0\n",
       "label_lod                0\n",
       "hod                      0\n",
       "day_open                 0\n",
       "day_open_pts             0\n",
       "day_open_pct             0\n",
       "prev_close_pts          44\n",
       "prev_close_pct          44\n",
       "lowest_low            4198\n",
       "lowest_low_mag        4198\n",
       "highest_high          4198\n",
       "highest_high_mag      4198\n",
       "prev_close_pct_n1     4241\n",
       "prev_close_pct_n2     8438\n",
       "prev_close_pct_n3    12635\n",
       "day_open_pct_n1       4198\n",
       "day_open_pct_n2       8396\n",
       "day_open_pct_n3      12594\n",
       "open_slope               0\n",
       "daily_slope             44\n",
       "dtype: int64"
      ]
     },
     "execution_count": 156,
     "metadata": {},
     "output_type": "execute_result"
    }
   ],
   "source": [
    "spx_data.isnull().sum()"
   ]
  },
  {
   "cell_type": "code",
   "execution_count": 157,
   "metadata": {},
   "outputs": [],
   "source": [
    "spx_data['gap_open'] = spx_data['day_open'] - spx_data['prev_close']\n",
    "spx_data['gap_open_pct'] = spx_data['gap_open'] / spx_data['prev_close']"
   ]
  },
  {
   "cell_type": "code",
   "execution_count": 158,
   "metadata": {},
   "outputs": [
    {
     "name": "stderr",
     "output_type": "stream",
     "text": [
      "326231it [00:09, 34238.16it/s]\n"
     ]
    }
   ],
   "source": [
    "hod_in = []\n",
    "for num, row in tqdm(spx_data.iterrows()):\n",
    "    if row['hod'] == row['high']:\n",
    "        hod_in.append(1)\n",
    "    else:\n",
    "        hod_in.append(np.nan)\n",
    "spx_data['hod_in'] = hod_in"
   ]
  },
  {
   "cell_type": "code",
   "execution_count": 159,
   "metadata": {},
   "outputs": [
    {
     "name": "stderr",
     "output_type": "stream",
     "text": [
      "326231it [00:09, 34390.52it/s]\n"
     ]
    }
   ],
   "source": [
    "lod_in = []\n",
    "for num, row in tqdm(spx_data.iterrows()):\n",
    "    if row['lod'] == row['low']:\n",
    "        lod_in.append(1)\n",
    "    else:\n",
    "        lod_in.append(np.nan)\n",
    "spx_data['lod_in'] = lod_in"
   ]
  },
  {
   "cell_type": "code",
   "execution_count": 160,
   "metadata": {},
   "outputs": [
    {
     "name": "stderr",
     "output_type": "stream",
     "text": [
      "100%|██████████| 4198/4198 [00:14<00:00, 280.87it/s]\n"
     ]
    }
   ],
   "source": [
    "# Per day, ffill for the 1s, and then fillna 0\n",
    "for day in tqdm(sorted(set(spx_data.index.date))):\n",
    "    day_str = datetime.datetime.strftime(day, '%Y-%m-%d')\n",
    "    spx_data.loc[day_str, 'lod_in'] = spx_data.loc[day_str, 'lod_in'].ffill()\n",
    "    spx_data.loc[day_str, 'lod_in'] = spx_data.loc[day_str, 'lod_in'].fillna(0)\n",
    "    spx_data.loc[day_str, 'hod_in'] = spx_data.loc[day_str, 'hod_in'].ffill()\n",
    "    spx_data.loc[day_str, 'hod_in'] = spx_data.loc[day_str, 'hod_in'].fillna(0)"
   ]
  },
  {
   "cell_type": "code",
   "execution_count": 161,
   "metadata": {},
   "outputs": [],
   "source": [
    "def get_top_probability(time, prev_close_pct):\n",
    "    '''\n",
    "    Function that returns the historical probability that the top is in, given a time of day and magnitude.\n",
    "    '''\n",
    "    # Filter the data for the given time and magnitude\n",
    "    relevant_data = spx_data[(spx_data['time'] == time) & (spx_data['prev_close_pct'] >= prev_close_pct)]\n",
    "    \n",
    "    # Calculate the probability\n",
    "    top_probability = relevant_data['hod_in'].mean()\n",
    "    # bot_probability = relevant_data['lod_in'].mean()\n",
    "    \n",
    "    return top_probability\n",
    "\n",
    "def get_low_probability(time, prev_close_pct):\n",
    "    '''\n",
    "    Function that returns the historical probability that the low is in, given a time of day and magnitude.\n",
    "    '''\n",
    "    # Filter the data for the given time and magnitude\n",
    "    relevant_data = spx_data[(spx_data['time'] == time) & (spx_data['prev_close_pct'] <= prev_close_pct)]\n",
    "    \n",
    "    # Calculate the probability\n",
    "    probability = relevant_data['lod_in'].mean()\n",
    "    \n",
    "    return probability"
   ]
  },
  {
   "cell_type": "code",
   "execution_count": 162,
   "metadata": {},
   "outputs": [
    {
     "data": {
      "text/plain": [
       "0.6658946149392009"
      ]
     },
     "execution_count": 162,
     "metadata": {},
     "output_type": "execute_result"
    }
   ],
   "source": [
    "time = datetime.time(15,0)\n",
    "prev_close_pct = -0.007\n",
    "# spx_data.loc[(spx_data['time'] == time) & (spx_data['prev_close_pct'] >= prev_close_pct)]\n",
    "get_top_probability(time, prev_close_pct)"
   ]
  },
  {
   "cell_type": "code",
   "execution_count": 163,
   "metadata": {},
   "outputs": [
    {
     "data": {
      "text/plain": [
       "0.48514851485148514"
      ]
     },
     "execution_count": 163,
     "metadata": {},
     "output_type": "execute_result"
    }
   ],
   "source": [
    "get_low_probability(time, prev_close_pct)"
   ]
  },
  {
   "cell_type": "code",
   "execution_count": 164,
   "metadata": {},
   "outputs": [
    {
     "data": {
      "text/html": [
       "<div>\n",
       "<style scoped>\n",
       "    .dataframe tbody tr th:only-of-type {\n",
       "        vertical-align: middle;\n",
       "    }\n",
       "\n",
       "    .dataframe tbody tr th {\n",
       "        vertical-align: top;\n",
       "    }\n",
       "\n",
       "    .dataframe thead th {\n",
       "        text-align: right;\n",
       "    }\n",
       "</style>\n",
       "<table border=\"1\" class=\"dataframe\">\n",
       "  <thead>\n",
       "    <tr style=\"text-align: right;\">\n",
       "      <th></th>\n",
       "      <th>time</th>\n",
       "      <th>hod_in</th>\n",
       "      <th>lod_in</th>\n",
       "      <th>gap_open_pct</th>\n",
       "      <th>open</th>\n",
       "    </tr>\n",
       "    <tr>\n",
       "      <th>Datetime</th>\n",
       "      <th></th>\n",
       "      <th></th>\n",
       "      <th></th>\n",
       "      <th></th>\n",
       "      <th></th>\n",
       "    </tr>\n",
       "  </thead>\n",
       "  <tbody>\n",
       "    <tr>\n",
       "      <th>2007-04-27 12:20:00</th>\n",
       "      <td>12:20:00</td>\n",
       "      <td>0.0</td>\n",
       "      <td>1.0</td>\n",
       "      <td>NaN</td>\n",
       "      <td>1492.19</td>\n",
       "    </tr>\n",
       "    <tr>\n",
       "      <th>2007-04-27 12:25:00</th>\n",
       "      <td>12:25:00</td>\n",
       "      <td>0.0</td>\n",
       "      <td>1.0</td>\n",
       "      <td>NaN</td>\n",
       "      <td>1492.39</td>\n",
       "    </tr>\n",
       "    <tr>\n",
       "      <th>2007-04-27 12:30:00</th>\n",
       "      <td>12:30:00</td>\n",
       "      <td>0.0</td>\n",
       "      <td>1.0</td>\n",
       "      <td>NaN</td>\n",
       "      <td>1492.54</td>\n",
       "    </tr>\n",
       "    <tr>\n",
       "      <th>2007-04-27 12:35:00</th>\n",
       "      <td>12:35:00</td>\n",
       "      <td>0.0</td>\n",
       "      <td>1.0</td>\n",
       "      <td>NaN</td>\n",
       "      <td>1492.70</td>\n",
       "    </tr>\n",
       "    <tr>\n",
       "      <th>2007-04-27 12:40:00</th>\n",
       "      <td>12:40:00</td>\n",
       "      <td>0.0</td>\n",
       "      <td>1.0</td>\n",
       "      <td>NaN</td>\n",
       "      <td>1492.88</td>\n",
       "    </tr>\n",
       "    <tr>\n",
       "      <th>...</th>\n",
       "      <td>...</td>\n",
       "      <td>...</td>\n",
       "      <td>...</td>\n",
       "      <td>...</td>\n",
       "      <td>...</td>\n",
       "    </tr>\n",
       "    <tr>\n",
       "      <th>2023-12-29 15:35:00</th>\n",
       "      <td>15:35:00</td>\n",
       "      <td>1.0</td>\n",
       "      <td>1.0</td>\n",
       "      <td>-0.000259</td>\n",
       "      <td>4773.29</td>\n",
       "    </tr>\n",
       "    <tr>\n",
       "      <th>2023-12-29 15:40:00</th>\n",
       "      <td>15:40:00</td>\n",
       "      <td>1.0</td>\n",
       "      <td>1.0</td>\n",
       "      <td>-0.000259</td>\n",
       "      <td>4774.07</td>\n",
       "    </tr>\n",
       "    <tr>\n",
       "      <th>2023-12-29 15:45:00</th>\n",
       "      <td>15:45:00</td>\n",
       "      <td>1.0</td>\n",
       "      <td>1.0</td>\n",
       "      <td>-0.000259</td>\n",
       "      <td>4771.78</td>\n",
       "    </tr>\n",
       "    <tr>\n",
       "      <th>2023-12-29 15:50:00</th>\n",
       "      <td>15:50:00</td>\n",
       "      <td>1.0</td>\n",
       "      <td>1.0</td>\n",
       "      <td>-0.000259</td>\n",
       "      <td>4770.31</td>\n",
       "    </tr>\n",
       "    <tr>\n",
       "      <th>2023-12-29 15:55:00</th>\n",
       "      <td>15:55:00</td>\n",
       "      <td>1.0</td>\n",
       "      <td>1.0</td>\n",
       "      <td>-0.000259</td>\n",
       "      <td>4765.57</td>\n",
       "    </tr>\n",
       "  </tbody>\n",
       "</table>\n",
       "<p>326231 rows × 5 columns</p>\n",
       "</div>"
      ],
      "text/plain": [
       "                         time  hod_in  lod_in  gap_open_pct     open\n",
       "Datetime                                                            \n",
       "2007-04-27 12:20:00  12:20:00     0.0     1.0           NaN  1492.19\n",
       "2007-04-27 12:25:00  12:25:00     0.0     1.0           NaN  1492.39\n",
       "2007-04-27 12:30:00  12:30:00     0.0     1.0           NaN  1492.54\n",
       "2007-04-27 12:35:00  12:35:00     0.0     1.0           NaN  1492.70\n",
       "2007-04-27 12:40:00  12:40:00     0.0     1.0           NaN  1492.88\n",
       "...                       ...     ...     ...           ...      ...\n",
       "2023-12-29 15:35:00  15:35:00     1.0     1.0     -0.000259  4773.29\n",
       "2023-12-29 15:40:00  15:40:00     1.0     1.0     -0.000259  4774.07\n",
       "2023-12-29 15:45:00  15:45:00     1.0     1.0     -0.000259  4771.78\n",
       "2023-12-29 15:50:00  15:50:00     1.0     1.0     -0.000259  4770.31\n",
       "2023-12-29 15:55:00  15:55:00     1.0     1.0     -0.000259  4765.57\n",
       "\n",
       "[326231 rows x 5 columns]"
      ]
     },
     "execution_count": 164,
     "metadata": {},
     "output_type": "execute_result"
    }
   ],
   "source": [
    "spx_data[['time','hod_in','lod_in','gap_open_pct','open']]"
   ]
  },
  {
   "cell_type": "code",
   "execution_count": 165,
   "metadata": {},
   "outputs": [
    {
     "data": {
      "text/plain": [
       "Index(['open', 'high', 'low', 'close', 'time', 'bar_num', 'eod_close',\n",
       "       'prev_close', 'green_day', 'eod_close_pts', 'eod_close_pct', 'label',\n",
       "       'lod', 'label_lod', 'hod', 'day_open', 'day_open_pts', 'day_open_pct',\n",
       "       'prev_close_pts', 'prev_close_pct', 'lowest_low', 'lowest_low_mag',\n",
       "       'highest_high', 'highest_high_mag', 'prev_close_pct_n1',\n",
       "       'prev_close_pct_n2', 'prev_close_pct_n3', 'day_open_pct_n1',\n",
       "       'day_open_pct_n2', 'day_open_pct_n3', 'open_slope', 'daily_slope',\n",
       "       'gap_open', 'gap_open_pct', 'hod_in', 'lod_in'],\n",
       "      dtype='object')"
      ]
     },
     "execution_count": 165,
     "metadata": {},
     "output_type": "execute_result"
    }
   ],
   "source": [
    "spx_data.columns"
   ]
  },
  {
   "cell_type": "markdown",
   "metadata": {},
   "source": [
    "# Pipeline"
   ]
  },
  {
   "cell_type": "code",
   "execution_count": 166,
   "metadata": {},
   "outputs": [],
   "source": [
    "from sklearn.pipeline import Pipeline, make_pipeline\n",
    "from sklearn.compose import ColumnTransformer\n",
    "from sklearn.linear_model import LogisticRegression\n",
    "from sklearn.calibration import CalibratedClassifierCV\n",
    "import lightgbm as lgb\n",
    "from sklearn.preprocessing import FunctionTransformer, StandardScaler, RobustScaler\n",
    "import datetime\n",
    "\n",
    "# Function to convert time string to seconds past midnight\n",
    "def convert_time_to_seconds(time_series):\n",
    "    return time_series.apply(lambda x: x.hour * 3600 + x.minute * 60 + x.second)\n",
    "\n",
    "def apply_convert_time_to_seconds(x):\n",
    "    return x.apply(convert_time_to_seconds)\n",
    "\n",
    "time_to_seconds = FunctionTransformer(apply_convert_time_to_seconds, validate=False)\n",
    "\n",
    "# Create a column transformer\n",
    "preprocessor = ColumnTransformer(\n",
    "    transformers=[\n",
    "        ('time', make_pipeline(time_to_seconds, StandardScaler()), ['time']),\n",
    "        ('prev_close_pct', StandardScaler(), ['prev_close_pct']),\n",
    "        ('prev_close_pct_n1', StandardScaler(), ['prev_close_pct_n1']),\n",
    "        ('prev_close_pct_n2', StandardScaler(), ['prev_close_pct_n2']),\n",
    "        ('prev_close_pct_n3', StandardScaler(), ['prev_close_pct_n3']),\n",
    "        ('day_open_pct', StandardScaler(), ['day_open_pct']),\n",
    "        ('day_open_pct_n1', StandardScaler(), ['day_open_pct_n1']),\n",
    "        ('day_open_pct_n2', StandardScaler(), ['day_open_pct_n2']),\n",
    "        ('day_open_pct_n3', StandardScaler(), ['day_open_pct_n3']),\n",
    "        ('gap_open_pct', StandardScaler(), ['gap_open_pct']),\n",
    "        ('highest_high_mag', StandardScaler(), ['highest_high_mag']),\n",
    "        ('lowest_low_mag', StandardScaler(), ['lowest_low_mag']),\n",
    "        # ('open_slope', RobustScaler(), ['open_slope']),\n",
    "        # ('daily_slope', RobustScaler(), ['daily_slope'])\n",
    "    ])\n",
    "\n",
    "# Create the pipeline\n",
    "pipeline = Pipeline(steps=[\n",
    "    ('preprocessor', preprocessor),\n",
    "    # ('classifier', LogisticRegression())\n",
    "    ('classifier', lgb.LGBMClassifier())\n",
    "    # ('classifier', xgb.XGBClassifier())\n",
    "])\n",
    "\n",
    "df_use = spx_data.dropna(subset=[\n",
    "    'prev_close_pct',\n",
    "    'gap_open_pct',\n",
    "    'day_open_pct_n3',\n",
    "    'prev_close_pct_n3'\n",
    "    ])\n",
    "\n",
    "# Train the model\n",
    "X = df_use[[\n",
    "    'time',\n",
    "    'prev_close_pct',\n",
    "    'prev_close_pct_n1',\n",
    "    'prev_close_pct_n2',\n",
    "    'prev_close_pct_n3',\n",
    "    'day_open_pct',\n",
    "    'day_open_pct_n1',\n",
    "    'day_open_pct_n2',\n",
    "    'day_open_pct_n3',\n",
    "    'gap_open_pct',\n",
    "    'highest_high_mag',\n",
    "    'lowest_low_mag',\n",
    "    # 'open_slope',\n",
    "    # 'daily_slope'\n",
    "]]\n",
    "y_flags = df_use[['lod_in','hod_in','green_day']]\n",
    "# pipeline.fit(X, y)"
   ]
  },
  {
   "cell_type": "code",
   "execution_count": 167,
   "metadata": {},
   "outputs": [
    {
     "data": {
      "text/plain": [
       "time                 0\n",
       "prev_close_pct       0\n",
       "prev_close_pct_n1    0\n",
       "prev_close_pct_n2    0\n",
       "prev_close_pct_n3    0\n",
       "day_open_pct         0\n",
       "day_open_pct_n1      0\n",
       "day_open_pct_n2      0\n",
       "day_open_pct_n3      0\n",
       "gap_open_pct         0\n",
       "highest_high_mag     0\n",
       "lowest_low_mag       0\n",
       "dtype: int64"
      ]
     },
     "execution_count": 167,
     "metadata": {},
     "output_type": "execute_result"
    }
   ],
   "source": [
    "X.isnull().sum()"
   ]
  },
  {
   "cell_type": "code",
   "execution_count": 168,
   "metadata": {},
   "outputs": [
    {
     "data": {
      "text/plain": [
       "datetime.time(9, 45)"
      ]
     },
     "execution_count": 168,
     "metadata": {},
     "output_type": "execute_result"
    }
   ],
   "source": [
    "X['time'].min()"
   ]
  },
  {
   "cell_type": "code",
   "execution_count": 169,
   "metadata": {},
   "outputs": [],
   "source": [
    "from sklearn.base import clone\n",
    "\n",
    "pipeline_lod = clone(pipeline)\n",
    "pipeline_gd = clone(pipeline)"
   ]
  },
  {
   "cell_type": "code",
   "execution_count": 170,
   "metadata": {},
   "outputs": [],
   "source": [
    "# 80/20 split, where date at 80th pct is the cutoff date\n",
    "date_idx = int(np.floor(len(X.index.date) * .95))\n",
    "cutoff_date = X.index.date[date_idx]\n",
    "\n",
    "X_train = X.loc[:cutoff_date]\n",
    "y_train = y_flags.loc[:cutoff_date]\n",
    "X_test = X.loc[cutoff_date:]\n",
    "y_test = y_flags.loc[cutoff_date:]"
   ]
  },
  {
   "cell_type": "code",
   "execution_count": 171,
   "metadata": {},
   "outputs": [
    {
     "data": {
      "text/plain": [
       "297911"
      ]
     },
     "execution_count": 171,
     "metadata": {},
     "output_type": "execute_result"
    }
   ],
   "source": [
    "len(y_train)"
   ]
  },
  {
   "cell_type": "code",
   "execution_count": 172,
   "metadata": {},
   "outputs": [
    {
     "data": {
      "text/plain": [
       "15685"
      ]
     },
     "execution_count": 172,
     "metadata": {},
     "output_type": "execute_result"
    }
   ],
   "source": [
    "len(y_test)"
   ]
  },
  {
   "cell_type": "code",
   "execution_count": 173,
   "metadata": {},
   "outputs": [
    {
     "data": {
      "text/plain": [
       "lod_in       0.638399\n",
       "hod_in       0.557452\n",
       "green_day    0.540997\n",
       "dtype: float64"
      ]
     },
     "execution_count": 173,
     "metadata": {},
     "output_type": "execute_result"
    }
   ],
   "source": [
    "y_train.mean()"
   ]
  },
  {
   "cell_type": "code",
   "execution_count": 174,
   "metadata": {},
   "outputs": [
    {
     "data": {
      "text/plain": [
       "lod_in       0.601785\n",
       "hod_in       0.534205\n",
       "green_day    0.569716\n",
       "dtype: float64"
      ]
     },
     "execution_count": 174,
     "metadata": {},
     "output_type": "execute_result"
    }
   ],
   "source": [
    "y_test.mean()"
   ]
  },
  {
   "cell_type": "code",
   "execution_count": 175,
   "metadata": {},
   "outputs": [
    {
     "data": {
      "text/plain": [
       "time                  object\n",
       "prev_close_pct       float64\n",
       "prev_close_pct_n1    float64\n",
       "prev_close_pct_n2    float64\n",
       "prev_close_pct_n3    float64\n",
       "day_open_pct         float64\n",
       "day_open_pct_n1      float64\n",
       "day_open_pct_n2      float64\n",
       "day_open_pct_n3      float64\n",
       "gap_open_pct         float64\n",
       "highest_high_mag     float64\n",
       "lowest_low_mag       float64\n",
       "dtype: object"
      ]
     },
     "execution_count": 175,
     "metadata": {},
     "output_type": "execute_result"
    }
   ],
   "source": [
    "X.dtypes"
   ]
  },
  {
   "cell_type": "code",
   "execution_count": 176,
   "metadata": {},
   "outputs": [
    {
     "name": "stdout",
     "output_type": "stream",
     "text": [
      "[LightGBM] [Info] Number of positive: 166071, number of negative: 131840\n",
      "[LightGBM] [Info] Auto-choosing row-wise multi-threading, the overhead of testing was 0.001428 seconds.\n",
      "You can set `force_row_wise=true` to remove the overhead.\n",
      "And if memory is not enough, you can set `force_col_wise=true`.\n",
      "[LightGBM] [Info] Total Bins 2881\n",
      "[LightGBM] [Info] Number of data points in the train set: 297911, number of used features: 12\n",
      "[LightGBM] [Info] [binary:BoostFromScore]: pavg=0.557452 -> initscore=0.230826\n",
      "[LightGBM] [Info] Start training from score 0.230826\n",
      "[LightGBM] [Info] Number of positive: 190186, number of negative: 107725\n",
      "[LightGBM] [Info] Auto-choosing row-wise multi-threading, the overhead of testing was 0.001328 seconds.\n",
      "You can set `force_row_wise=true` to remove the overhead.\n",
      "And if memory is not enough, you can set `force_col_wise=true`.\n",
      "[LightGBM] [Info] Total Bins 2881\n",
      "[LightGBM] [Info] Number of data points in the train set: 297911, number of used features: 12\n",
      "[LightGBM] [Info] [binary:BoostFromScore]: pavg=0.638399 -> initscore=0.568421\n",
      "[LightGBM] [Info] Start training from score 0.568421\n",
      "[LightGBM] [Info] Number of positive: 161169, number of negative: 136742\n",
      "[LightGBM] [Info] Auto-choosing col-wise multi-threading, the overhead of testing was 0.006045 seconds.\n",
      "You can set `force_col_wise=true` to remove the overhead.\n",
      "[LightGBM] [Info] Total Bins 2881\n",
      "[LightGBM] [Info] Number of data points in the train set: 297911, number of used features: 12\n",
      "[LightGBM] [Info] [binary:BoostFromScore]: pavg=0.540997 -> initscore=0.164358\n",
      "[LightGBM] [Info] Start training from score 0.164358\n"
     ]
    },
    {
     "data": {
      "text/plain": [
       "['models/gd_model_spx.joblib']"
      ]
     },
     "execution_count": 176,
     "metadata": {},
     "output_type": "execute_result"
    }
   ],
   "source": [
    "import joblib\n",
    "hod_model = pipeline.fit(X_train, y_train['hod_in'])\n",
    "lod_model = pipeline_lod.fit(X_train, y_train['lod_in'])\n",
    "gd_model = pipeline_gd.fit(X_train, y_train['green_day'])\n",
    "\n",
    "# Save models\n",
    "joblib.dump(hod_model, ticker_dict[tck][\"hod_model\"])\n",
    "joblib.dump(lod_model, ticker_dict[tck][\"lod_model\"])\n",
    "joblib.dump(gd_model, ticker_dict[tck][\"gd_model\"])"
   ]
  },
  {
   "cell_type": "markdown",
   "metadata": {},
   "source": [
    "# Performance"
   ]
  },
  {
   "cell_type": "code",
   "execution_count": 177,
   "metadata": {},
   "outputs": [
    {
     "data": {
      "image/png": "[encoded data removed]",
      "text/plain": [
       "<Figure size 2000x1000 with 1 Axes>"
      ]
     },
     "metadata": {},
     "output_type": "display_data"
    }
   ],
   "source": [
    "import mlflow\n",
    "import matplotlib.pyplot as plt\n",
    "\n",
    "booster = hod_model.named_steps['classifier'].booster_\n",
    "importance_gain = booster.feature_importance(importance_type='gain')\n",
    "feature_imp = pd.DataFrame(sorted(zip(importance_gain, X.columns)), columns=['Value','Feature'])\n",
    "feature_imp = feature_imp.sort_values(by=\"Value\", ascending=True)\n",
    "\n",
    "plt.figure(figsize=(20, 10))\n",
    "plt.barh(feature_imp['Feature'], feature_imp['Value'])\n",
    "plt.title('LightGBM Features (avg over folds)')\n",
    "plt.xlabel('Value')\n",
    "plt.ylabel('Feature')\n",
    "plt.tight_layout()\n",
    "plt.show()\n"
   ]
  },
  {
   "cell_type": "code",
   "execution_count": 178,
   "metadata": {},
   "outputs": [
    {
     "name": "stdout",
     "output_type": "stream",
     "text": [
      "ROC AUC Score: 0.8782769791920784\n",
      "Precision Score: 0.8110472082434699\n",
      "Recall Score: 0.8078529657477026\n",
      "done.\n"
     ]
    }
   ],
   "source": [
    "from sklearn.metrics import roc_auc_score, precision_score, recall_score\n",
    "import mlflow\n",
    "\n",
    "# Metrics for HOD model\n",
    "y_pred_hod = hod_model.predict_proba(X_test)[:,-1]\n",
    "\n",
    "roc_auc_hod = roc_auc_score(y_test['hod_in'], y_pred_hod)\n",
    "precision_hod = precision_score(y_test['hod_in'], y_pred_hod > 0.5)\n",
    "recall_hod = recall_score(y_test['hod_in'], y_pred_hod > 0.5)\n",
    "\n",
    "print(f\"ROC AUC Score: {roc_auc_hod}\")\n",
    "print(f\"Precision Score: {precision_hod}\")\n",
    "print(f\"Recall Score: {recall_hod}\")\n",
    "\n",
    "train_start = X_train.index.date.min()\n",
    "train_end = X_train.index.date.max()\n",
    "test_start = X_test.index.date.min()\n",
    "test_end = X_test.index.date.max()\n",
    "train_size = len(X_train)\n",
    "test_size = len(X_test)\n",
    "\n",
    "# Start a new MLFlow run\n",
    "with mlflow.start_run():\n",
    "\n",
    "    ts = datetime.datetime.now()\n",
    "\n",
    "    mlflow.set_tag(f\"mlflow.runName\", f\"{tck} HOD Model {ts.hour:02}:{ts.minute:02}:{ts.second:02}\")\n",
    "\n",
    "    # Log the model\n",
    "    mlflow.log_param(\"model\", str(hod_model.named_steps))\n",
    "\n",
    "    # Log the features\n",
    "    mlflow.log_param(\"features\", hod_model.feature_names_in_)\n",
    "    mlflow.log_param(\"train_date_range\", f\"{train_start} to {train_end}\")\n",
    "    mlflow.log_param(\"test_date_range\", f\"{test_start} to {test_end}\")\n",
    "    mlflow.log_param(\"train_size\", train_size)\n",
    "    mlflow.log_param(\"test_size\", test_size)\n",
    "\n",
    "    # Assume y_test and y_pred are your test labels and model predictions\n",
    "    # Calculate scores\n",
    "\n",
    "    # Log the scores\n",
    "    mlflow.log_metric(\"roc_auc\", roc_auc_hod)\n",
    "    mlflow.log_metric(\"precision\", precision_hod)\n",
    "    mlflow.log_metric(\"recall\", recall_hod)\n",
    "\n",
    "    # Log the timestamp\n",
    "    mlflow.log_param(\"created_at\", ts)\n",
    "\n",
    "print('done.')"
   ]
  },
  {
   "cell_type": "code",
   "execution_count": 179,
   "metadata": {},
   "outputs": [
    {
     "name": "stdout",
     "output_type": "stream",
     "text": [
      "ROC AUC Score: 0.8611124510936072\n",
      "Precision Score: 0.7931444422429166\n",
      "Recall Score: 0.8481830702404916\n"
     ]
    },
    {
     "name": "stdout",
     "output_type": "stream",
     "text": [
      "done.\n"
     ]
    }
   ],
   "source": [
    "from sklearn.metrics import roc_auc_score, precision_score, recall_score\n",
    "\n",
    "# Metrics for LOD model\n",
    "y_pred_lod = lod_model.predict_proba(X_test)[:,-1]\n",
    "\n",
    "roc_auc_lod = roc_auc_score(y_test['lod_in'], y_pred_lod)\n",
    "precision_lod = precision_score(y_test['lod_in'], y_pred_lod > 0.5)\n",
    "recall_lod = recall_score(y_test['lod_in'], y_pred_lod > 0.5)\n",
    "\n",
    "print(f\"ROC AUC Score: {roc_auc_lod}\")\n",
    "print(f\"Precision Score: {precision_lod}\")\n",
    "print(f\"Recall Score: {recall_lod}\")\n",
    "\n",
    "# Start a new MLFlow run\n",
    "with mlflow.start_run():\n",
    "\n",
    "    ts = datetime.datetime.now()\n",
    "\n",
    "    mlflow.set_tag(f\"mlflow.runName\", f\"{tck} LOD Model {ts.hour:02}:{ts.minute:02}:{ts.second:02}\")\n",
    "\n",
    "    # Log the model\n",
    "    mlflow.log_param(\"model\", str(lod_model.named_steps))\n",
    "\n",
    "    # Log the features\n",
    "    mlflow.log_param(\"features\", lod_model.feature_names_in_)\n",
    "    mlflow.log_param(\"train_date_range\", f\"{train_start} to {train_end}\")\n",
    "    mlflow.log_param(\"test_date_range\", f\"{test_start} to {test_end}\")\n",
    "    mlflow.log_param(\"train_size\", train_size)\n",
    "    mlflow.log_param(\"test_size\", test_size)\n",
    "\n",
    "    # Assume y_test and y_pred are your test labels and model predictions\n",
    "    # Calculate scores\n",
    "\n",
    "    # Log the scores\n",
    "    mlflow.log_metric(\"roc_auc\", roc_auc_lod)\n",
    "    mlflow.log_metric(\"precision\", precision_lod)\n",
    "    mlflow.log_metric(\"recall\", recall_lod)\n",
    "\n",
    "    # Log the timestamp\n",
    "    mlflow.log_param(\"created_at\", ts)\n",
    "\n",
    "print('done.')"
   ]
  },
  {
   "cell_type": "code",
   "execution_count": 180,
   "metadata": {},
   "outputs": [
    {
     "name": "stdout",
     "output_type": "stream",
     "text": [
      "ROC AUC Score: 0.8995655694474051\n",
      "Precision Score: 0.8315684976836533\n",
      "Recall Score: 0.8436660698299016\n",
      "done.\n"
     ]
    }
   ],
   "source": [
    "from sklearn.metrics import roc_auc_score, precision_score, recall_score\n",
    "\n",
    "# Metrics for LOD model\n",
    "y_pred_gd = gd_model.predict_proba(X_test)[:,-1]\n",
    "\n",
    "roc_auc_gd = roc_auc_score(y_test['green_day'], y_pred_gd)\n",
    "precision_gd = precision_score(y_test['green_day'], y_pred_gd > 0.5)\n",
    "recall_gd = recall_score(y_test['green_day'], y_pred_gd > 0.5)\n",
    "\n",
    "print(f\"ROC AUC Score: {roc_auc_gd}\")\n",
    "print(f\"Precision Score: {precision_gd}\")\n",
    "print(f\"Recall Score: {recall_gd}\")\n",
    "\n",
    "# Start a new MLFlow run\n",
    "with mlflow.start_run():\n",
    "\n",
    "    ts = datetime.datetime.now()\n",
    "\n",
    "    mlflow.set_tag(f\"mlflow.runName\", f\"{tck} GD Model {ts.hour:02}:{ts.minute:02}:{ts.second:02}\")\n",
    "\n",
    "    # Log the model\n",
    "    mlflow.log_param(\"model\", str(gd_model.named_steps))\n",
    "\n",
    "    # Log the features\n",
    "    mlflow.log_param(\"features\", gd_model.feature_names_in_)\n",
    "    mlflow.log_param(\"train_date_range\", f\"{train_start} to {train_end}\")\n",
    "    mlflow.log_param(\"test_date_range\", f\"{test_start} to {test_end}\")\n",
    "    mlflow.log_param(\"train_size\", train_size)\n",
    "    mlflow.log_param(\"test_size\", test_size)\n",
    "\n",
    "    # Assume y_test and y_pred are your test labels and model predictions\n",
    "    # Calculate scores\n",
    "\n",
    "    # Log the scores\n",
    "    mlflow.log_metric(\"roc_auc\", roc_auc_gd)\n",
    "    mlflow.log_metric(\"precision\", precision_gd)\n",
    "    mlflow.log_metric(\"recall\", recall_gd)\n",
    "\n",
    "    # Log the timestamp\n",
    "    mlflow.log_param(\"created_at\", ts)\n",
    "\n",
    "print('done.')"
   ]
  },
  {
   "cell_type": "code",
   "execution_count": 181,
   "metadata": {},
   "outputs": [],
   "source": [
    "# feature_names = pipeline.feature_names_in_\n",
    "# coefficients = pipeline.named_steps['classifier'].feature_importances_\n",
    "# # coefficients = pipeline.named_steps['classifier'].coef_[0]\n",
    "# for feature, coef in zip(feature_names, coefficients):\n",
    "#     print(f\"{feature}: {coef}\")"
   ]
  },
  {
   "cell_type": "code",
   "execution_count": 182,
   "metadata": {},
   "outputs": [
    {
     "data": {
      "application/vnd.plotly.v1+json": {
       "config": {
        "plotlyServerURL": "https://plot.ly"
       },
       "data": [
        {
         "hovertemplate": "variable=roc_auc<br>index=%{x}<br>value=%{y}<extra></extra>",
         "legendgroup": "roc_auc",
         "line": {
          "color": "#636efa",
          "dash": "solid"
         },
         "marker": {
          "symbol": "circle"
         },
         "mode": "lines",
         "name": "roc_auc",
         "orientation": "v",
         "showlegend": true,
         "type": "scatter",
         "x": [
          "09:45:00",
          "09:50:00",
          "09:55:00",
          "10:00:00",
          "10:05:00",
          "10:10:00",
          "10:15:00",
          "10:20:00",
          "10:25:00",
          "10:30:00",
          "10:35:00",
          "10:40:00",
          "10:45:00",
          "10:50:00",
          "10:55:00",
          "11:00:00",
          "11:05:00",
          "11:10:00",
          "11:15:00",
          "11:20:00",
          "11:25:00",
          "11:30:00",
          "11:35:00",
          "11:40:00",
          "11:45:00",
          "11:50:00",
          "11:55:00",
          "12:00:00",
          "12:05:00",
          "12:10:00",
          "12:15:00",
          "12:20:00",
          "12:25:00",
          "12:30:00",
          "12:35:00",
          "12:40:00",
          "12:45:00",
          "12:50:00",
          "12:55:00",
          "13:00:00",
          "13:05:00",
          "13:10:00",
          "13:15:00",
          "13:20:00",
          "13:25:00",
          "13:30:00",
          "13:35:00",
          "13:40:00",
          "13:45:00",
          "13:50:00",
          "13:55:00",
          "14:00:00",
          "14:05:00",
          "14:10:00",
          "14:15:00",
          "14:20:00",
          "14:25:00",
          "14:30:00",
          "14:35:00",
          "14:40:00",
          "14:45:00",
          "14:50:00",
          "14:55:00",
          "15:00:00",
          "15:05:00",
          "15:10:00",
          "15:15:00",
          "15:20:00",
          "15:25:00",
          "15:30:00",
          "15:35:00",
          "15:40:00",
          "15:45:00",
          "15:50:00",
          "15:55:00"
         ],
         "xaxis": "x",
         "y": [
          0.7263321995464853,
          0.7276262626262627,
          0.7424416909620992,
          0.74444140625,
          0.7541340527763785,
          0.7714120370370371,
          0.7812958534214989,
          0.7891643323240338,
          0.7939129982615393,
          0.7969457851610731,
          0.7989153748570089,
          0.8009621301666993,
          0.8040428883744857,
          0.8046543925324998,
          0.8086125684761194,
          0.8114110300924584,
          0.8123075876658237,
          0.8147974192750312,
          0.8165475165087568,
          0.8191583198641024,
          0.8219686685128286,
          0.8240787466204285,
          0.8267542461701914,
          0.8294250628150807,
          0.8317559190081055,
          0.8337324293768666,
          0.8363053584536334,
          0.838578157117913,
          0.8400283767967845,
          0.8408948917506627,
          0.8419510207646658,
          0.8430652796133398,
          0.8444320212446478,
          0.8456763914507007,
          0.8461696621337423,
          0.8469197284245753,
          0.847545156405544,
          0.8479793377312993,
          0.8478551581945274,
          0.8478075587044502,
          0.8481707387059524,
          0.8484894890106858,
          0.8488900241623261,
          0.8490882266209299,
          0.8501336505779633,
          0.8508448055397257,
          0.8517134068392458,
          0.8521484204553614,
          0.8524571762537433,
          0.8526093125111137,
          0.8531801639577514,
          0.8537072733715819,
          0.854287359725465,
          0.8546822891233331,
          0.8553181932841726,
          0.8557370591730208,
          0.8564521562153141,
          0.8573676703816879,
          0.8581862972722298,
          0.8589891855231419,
          0.8598946718344325,
          0.8610907705113293,
          0.8621756047065752,
          0.863454497154215,
          0.8642515640376829,
          0.8651997236225162,
          0.8662837453423126,
          0.8671471304934683,
          0.8680558887709232,
          0.8690730600279277,
          0.8701583348245202,
          0.8717425374056693,
          0.8732420982487774,
          0.87517841251382,
          0.8782769791920784
         ],
         "yaxis": "y"
        },
        {
         "hovertemplate": "variable=precision<br>index=%{x}<br>value=%{y}<extra></extra>",
         "legendgroup": "precision",
         "line": {
          "color": "#EF553B",
          "dash": "solid"
         },
         "marker": {
          "symbol": "circle"
         },
         "mode": "lines",
         "name": "precision",
         "orientation": "v",
         "showlegend": true,
         "type": "scatter",
         "x": [
          "09:45:00",
          "09:50:00",
          "09:55:00",
          "10:00:00",
          "10:05:00",
          "10:10:00",
          "10:15:00",
          "10:20:00",
          "10:25:00",
          "10:30:00",
          "10:35:00",
          "10:40:00",
          "10:45:00",
          "10:50:00",
          "10:55:00",
          "11:00:00",
          "11:05:00",
          "11:10:00",
          "11:15:00",
          "11:20:00",
          "11:25:00",
          "11:30:00",
          "11:35:00",
          "11:40:00",
          "11:45:00",
          "11:50:00",
          "11:55:00",
          "12:00:00",
          "12:05:00",
          "12:10:00",
          "12:15:00",
          "12:20:00",
          "12:25:00",
          "12:30:00",
          "12:35:00",
          "12:40:00",
          "12:45:00",
          "12:50:00",
          "12:55:00",
          "13:00:00",
          "13:05:00",
          "13:10:00",
          "13:15:00",
          "13:20:00",
          "13:25:00",
          "13:30:00",
          "13:35:00",
          "13:40:00",
          "13:45:00",
          "13:50:00",
          "13:55:00",
          "14:00:00",
          "14:05:00",
          "14:10:00",
          "14:15:00",
          "14:20:00",
          "14:25:00",
          "14:30:00",
          "14:35:00",
          "14:40:00",
          "14:45:00",
          "14:50:00",
          "14:55:00",
          "15:00:00",
          "15:05:00",
          "15:10:00",
          "15:15:00",
          "15:20:00",
          "15:25:00",
          "15:30:00",
          "15:35:00",
          "15:40:00",
          "15:45:00",
          "15:50:00",
          "15:55:00"
         ],
         "xaxis": "x",
         "y": [
          0.3684210526315789,
          0.37142857142857144,
          0.375,
          0.44155844155844154,
          0.47058823529411764,
          0.53125,
          0.5687203791469194,
          0.5880149812734082,
          0.5957446808510638,
          0.601010101010101,
          0.6102783725910065,
          0.6173752310536045,
          0.6215780998389694,
          0.6228813559322034,
          0.6311787072243346,
          0.6350114416475973,
          0.6391213389121339,
          0.6458132820019249,
          0.6494661921708185,
          0.6534979423868312,
          0.6579554189085319,
          0.6621331424481031,
          0.6691324815063887,
          0.675300063171194,
          0.6817640047675805,
          0.6865839909808342,
          0.6923488496522204,
          0.6974019358125318,
          0.7006307617661329,
          0.7034291010194624,
          0.7059344552701505,
          0.7096227214921577,
          0.7126623376623377,
          0.7164527421236873,
          0.7187616560984708,
          0.7207303974221267,
          0.7229869236063318,
          0.7252565375703409,
          0.7277369932971592,
          0.7301538461538462,
          0.7320844484091585,
          0.7345998848589522,
          0.7367540435025097,
          0.7380502295436133,
          0.740460010454783,
          0.743226133198278,
          0.745637748832637,
          0.7473156764495347,
          0.7488996988649526,
          0.7509000900090009,
          0.7528974415044828,
          0.7551540913921361,
          0.7568740955137482,
          0.758391959798995,
          0.7604696673189824,
          0.7620591039084843,
          0.763744427934621,
          0.7658766057535734,
          0.7677248677248677,
          0.7698262515052469,
          0.772253946926436,
          0.774664044575549,
          0.7772443590974556,
          0.77984375,
          0.7819457151570601,
          0.7848421679571174,
          0.7878655608904409,
          0.790340909090909,
          0.7928690344062154,
          0.7948822095857027,
          0.7973044397463002,
          0.8002065049044915,
          0.8027707808564232,
          0.8062177439174244,
          0.8110472082434699
         ],
         "yaxis": "y"
        },
        {
         "hovertemplate": "variable=recall<br>index=%{x}<br>value=%{y}<extra></extra>",
         "legendgroup": "recall",
         "line": {
          "color": "#00cc96",
          "dash": "solid"
         },
         "marker": {
          "symbol": "circle"
         },
         "mode": "lines",
         "name": "recall",
         "orientation": "v",
         "showlegend": true,
         "type": "scatter",
         "x": [
          "09:45:00",
          "09:50:00",
          "09:55:00",
          "10:00:00",
          "10:05:00",
          "10:10:00",
          "10:15:00",
          "10:20:00",
          "10:25:00",
          "10:30:00",
          "10:35:00",
          "10:40:00",
          "10:45:00",
          "10:50:00",
          "10:55:00",
          "11:00:00",
          "11:05:00",
          "11:10:00",
          "11:15:00",
          "11:20:00",
          "11:25:00",
          "11:30:00",
          "11:35:00",
          "11:40:00",
          "11:45:00",
          "11:50:00",
          "11:55:00",
          "12:00:00",
          "12:05:00",
          "12:10:00",
          "12:15:00",
          "12:20:00",
          "12:25:00",
          "12:30:00",
          "12:35:00",
          "12:40:00",
          "12:45:00",
          "12:50:00",
          "12:55:00",
          "13:00:00",
          "13:05:00",
          "13:10:00",
          "13:15:00",
          "13:20:00",
          "13:25:00",
          "13:30:00",
          "13:35:00",
          "13:40:00",
          "13:45:00",
          "13:50:00",
          "13:55:00",
          "14:00:00",
          "14:05:00",
          "14:10:00",
          "14:15:00",
          "14:20:00",
          "14:25:00",
          "14:30:00",
          "14:35:00",
          "14:40:00",
          "14:45:00",
          "14:50:00",
          "14:55:00",
          "15:00:00",
          "15:05:00",
          "15:10:00",
          "15:15:00",
          "15:20:00",
          "15:25:00",
          "15:30:00",
          "15:35:00",
          "15:40:00",
          "15:45:00",
          "15:50:00",
          "15:55:00"
         ],
         "xaxis": "x",
         "y": [
          0.16666666666666666,
          0.14444444444444443,
          0.12857142857142856,
          0.17,
          0.21374045801526717,
          0.2623456790123457,
          0.30927835051546393,
          0.3465783664459161,
          0.37764932562620424,
          0.4033898305084746,
          0.43051359516616317,
          0.453804347826087,
          0.4765432098765432,
          0.4971815107102593,
          0.516597510373444,
          0.5326295585412668,
          0.5435943060498221,
          0.5563847429519071,
          0.5658914728682171,
          0.5778748180494906,
          0.5867032213845099,
          0.5979314802844214,
          0.6085626911314985,
          0.619351100811124,
          0.6285714285714286,
          0.6360313315926893,
          0.6437810945273632,
          0.6497389653535833,
          0.6551724137931034,
          0.659140251845419,
          0.663337494798169,
          0.6685303514376997,
          0.6738296239447429,
          0.6794540759867208,
          0.6840610578629748,
          0.6886760177899418,
          0.6931705707687232,
          0.6975485514167462,
          0.7006760909649662,
          0.7043633125556545,
          0.7064562410329985,
          0.7082986400222038,
          0.7098334228909189,
          0.7115334548294715,
          0.7154040404040404,
          0.7193627450980392,
          0.7223809523809523,
          0.7246645071726052,
          0.7271704903283851,
          0.7298775153105862,
          0.732865048957003,
          0.7359154929577465,
          0.7384025816861638,
          0.7412573673870334,
          0.7441593259287629,
          0.7462658700522778,
          0.7489981785063752,
          0.7523995734091717,
          0.7553357626236336,
          0.7579607046070461,
          0.7603770464693236,
          0.7635277015021806,
          0.7663300725781004,
          0.7692663378545006,
          0.7719403883787446,
          0.7751470588235294,
          0.7780172413793104,
          0.781021897810219,
          0.7840581698449719,
          0.7874195278969958,
          0.7911367510161269,
          0.7948717948717948,
          0.7987468671679198,
          0.8029616937951292,
          0.8078529657477026
         ],
         "yaxis": "y"
        }
       ],
       "layout": {
        "legend": {
         "title": {
          "text": "variable"
         },
         "tracegroupgap": 0
        },
        "template": {
         "data": {
          "bar": [
           {
            "error_x": {
             "color": "#2a3f5f"
            },
            "error_y": {
             "color": "#2a3f5f"
            },
            "marker": {
             "line": {
              "color": "#E5ECF6",
              "width": 0.5
             },
             "pattern": {
              "fillmode": "overlay",
              "size": 10,
              "solidity": 0.2
             }
            },
            "type": "bar"
           }
          ],
          "barpolar": [
           {
            "marker": {
             "line": {
              "color": "#E5ECF6",
              "width": 0.5
             },
             "pattern": {
              "fillmode": "overlay",
              "size": 10,
              "solidity": 0.2
             }
            },
            "type": "barpolar"
           }
          ],
          "carpet": [
           {
            "aaxis": {
             "endlinecolor": "#2a3f5f",
             "gridcolor": "white",
             "linecolor": "white",
             "minorgridcolor": "white",
             "startlinecolor": "#2a3f5f"
            },
            "baxis": {
             "endlinecolor": "#2a3f5f",
             "gridcolor": "white",
             "linecolor": "white",
             "minorgridcolor": "white",
             "startlinecolor": "#2a3f5f"
            },
            "type": "carpet"
           }
          ],
          "choropleth": [
           {
            "colorbar": {
             "outlinewidth": 0,
             "ticks": ""
            },
            "type": "choropleth"
           }
          ],
          "contour": [
           {
            "colorbar": {
             "outlinewidth": 0,
             "ticks": ""
            },
            "colorscale": [
             [
              0,
              "#0d0887"
             ],
             [
              0.1111111111111111,
              "#46039f"
             ],
             [
              0.2222222222222222,
              "#7201a8"
             ],
             [
              0.3333333333333333,
              "#9c179e"
             ],
             [
              0.4444444444444444,
              "#bd3786"
             ],
             [
              0.5555555555555556,
              "#d8576b"
             ],
             [
              0.6666666666666666,
              "#ed7953"
             ],
             [
              0.7777777777777778,
              "#fb9f3a"
             ],
             [
              0.8888888888888888,
              "#fdca26"
             ],
             [
              1,
              "#f0f921"
             ]
            ],
            "type": "contour"
           }
          ],
          "contourcarpet": [
           {
            "colorbar": {
             "outlinewidth": 0,
             "ticks": ""
            },
            "type": "contourcarpet"
           }
          ],
          "heatmap": [
           {
            "colorbar": {
             "outlinewidth": 0,
             "ticks": ""
            },
            "colorscale": [
             [
              0,
              "#0d0887"
             ],
             [
              0.1111111111111111,
              "#46039f"
             ],
             [
              0.2222222222222222,
              "#7201a8"
             ],
             [
              0.3333333333333333,
              "#9c179e"
             ],
             [
              0.4444444444444444,
              "#bd3786"
             ],
             [
              0.5555555555555556,
              "#d8576b"
             ],
             [
              0.6666666666666666,
              "#ed7953"
             ],
             [
              0.7777777777777778,
              "#fb9f3a"
             ],
             [
              0.8888888888888888,
              "#fdca26"
             ],
             [
              1,
              "#f0f921"
             ]
            ],
            "type": "heatmap"
           }
          ],
          "heatmapgl": [
           {
            "colorbar": {
             "outlinewidth": 0,
             "ticks": ""
            },
            "colorscale": [
             [
              0,
              "#0d0887"
             ],
             [
              0.1111111111111111,
              "#46039f"
             ],
             [
              0.2222222222222222,
              "#7201a8"
             ],
             [
              0.3333333333333333,
              "#9c179e"
             ],
             [
              0.4444444444444444,
              "#bd3786"
             ],
             [
              0.5555555555555556,
              "#d8576b"
             ],
             [
              0.6666666666666666,
              "#ed7953"
             ],
             [
              0.7777777777777778,
              "#fb9f3a"
             ],
             [
              0.8888888888888888,
              "#fdca26"
             ],
             [
              1,
              "#f0f921"
             ]
            ],
            "type": "heatmapgl"
           }
          ],
          "histogram": [
           {
            "marker": {
             "pattern": {
              "fillmode": "overlay",
              "size": 10,
              "solidity": 0.2
             }
            },
            "type": "histogram"
           }
          ],
          "histogram2d": [
           {
            "colorbar": {
             "outlinewidth": 0,
             "ticks": ""
            },
            "colorscale": [
             [
              0,
              "#0d0887"
             ],
             [
              0.1111111111111111,
              "#46039f"
             ],
             [
              0.2222222222222222,
              "#7201a8"
             ],
             [
              0.3333333333333333,
              "#9c179e"
             ],
             [
              0.4444444444444444,
              "#bd3786"
             ],
             [
              0.5555555555555556,
              "#d8576b"
             ],
             [
              0.6666666666666666,
              "#ed7953"
             ],
             [
              0.7777777777777778,
              "#fb9f3a"
             ],
             [
              0.8888888888888888,
              "#fdca26"
             ],
             [
              1,
              "#f0f921"
             ]
            ],
            "type": "histogram2d"
           }
          ],
          "histogram2dcontour": [
           {
            "colorbar": {
             "outlinewidth": 0,
             "ticks": ""
            },
            "colorscale": [
             [
              0,
              "#0d0887"
             ],
             [
              0.1111111111111111,
              "#46039f"
             ],
             [
              0.2222222222222222,
              "#7201a8"
             ],
             [
              0.3333333333333333,
              "#9c179e"
             ],
             [
              0.4444444444444444,
              "#bd3786"
             ],
             [
              0.5555555555555556,
              "#d8576b"
             ],
             [
              0.6666666666666666,
              "#ed7953"
             ],
             [
              0.7777777777777778,
              "#fb9f3a"
             ],
             [
              0.8888888888888888,
              "#fdca26"
             ],
             [
              1,
              "#f0f921"
             ]
            ],
            "type": "histogram2dcontour"
           }
          ],
          "mesh3d": [
           {
            "colorbar": {
             "outlinewidth": 0,
             "ticks": ""
            },
            "type": "mesh3d"
           }
          ],
          "parcoords": [
           {
            "line": {
             "colorbar": {
              "outlinewidth": 0,
              "ticks": ""
             }
            },
            "type": "parcoords"
           }
          ],
          "pie": [
           {
            "automargin": true,
            "type": "pie"
           }
          ],
          "scatter": [
           {
            "fillpattern": {
             "fillmode": "overlay",
             "size": 10,
             "solidity": 0.2
            },
            "type": "scatter"
           }
          ],
          "scatter3d": [
           {
            "line": {
             "colorbar": {
              "outlinewidth": 0,
              "ticks": ""
             }
            },
            "marker": {
             "colorbar": {
              "outlinewidth": 0,
              "ticks": ""
             }
            },
            "type": "scatter3d"
           }
          ],
          "scattercarpet": [
           {
            "marker": {
             "colorbar": {
              "outlinewidth": 0,
              "ticks": ""
             }
            },
            "type": "scattercarpet"
           }
          ],
          "scattergeo": [
           {
            "marker": {
             "colorbar": {
              "outlinewidth": 0,
              "ticks": ""
             }
            },
            "type": "scattergeo"
           }
          ],
          "scattergl": [
           {
            "marker": {
             "colorbar": {
              "outlinewidth": 0,
              "ticks": ""
             }
            },
            "type": "scattergl"
           }
          ],
          "scattermapbox": [
           {
            "marker": {
             "colorbar": {
              "outlinewidth": 0,
              "ticks": ""
             }
            },
            "type": "scattermapbox"
           }
          ],
          "scatterpolar": [
           {
            "marker": {
             "colorbar": {
              "outlinewidth": 0,
              "ticks": ""
             }
            },
            "type": "scatterpolar"
           }
          ],
          "scatterpolargl": [
           {
            "marker": {
             "colorbar": {
              "outlinewidth": 0,
              "ticks": ""
             }
            },
            "type": "scatterpolargl"
           }
          ],
          "scatterternary": [
           {
            "marker": {
             "colorbar": {
              "outlinewidth": 0,
              "ticks": ""
             }
            },
            "type": "scatterternary"
           }
          ],
          "surface": [
           {
            "colorbar": {
             "outlinewidth": 0,
             "ticks": ""
            },
            "colorscale": [
             [
              0,
              "#0d0887"
             ],
             [
              0.1111111111111111,
              "#46039f"
             ],
             [
              0.2222222222222222,
              "#7201a8"
             ],
             [
              0.3333333333333333,
              "#9c179e"
             ],
             [
              0.4444444444444444,
              "#bd3786"
             ],
             [
              0.5555555555555556,
              "#d8576b"
             ],
             [
              0.6666666666666666,
              "#ed7953"
             ],
             [
              0.7777777777777778,
              "#fb9f3a"
             ],
             [
              0.8888888888888888,
              "#fdca26"
             ],
             [
              1,
              "#f0f921"
             ]
            ],
            "type": "surface"
           }
          ],
          "table": [
           {
            "cells": {
             "fill": {
              "color": "#EBF0F8"
             },
             "line": {
              "color": "white"
             }
            },
            "header": {
             "fill": {
              "color": "#C8D4E3"
             },
             "line": {
              "color": "white"
             }
            },
            "type": "table"
           }
          ]
         },
         "layout": {
          "annotationdefaults": {
           "arrowcolor": "#2a3f5f",
           "arrowhead": 0,
           "arrowwidth": 1
          },
          "autotypenumbers": "strict",
          "coloraxis": {
           "colorbar": {
            "outlinewidth": 0,
            "ticks": ""
           }
          },
          "colorscale": {
           "diverging": [
            [
             0,
             "#8e0152"
            ],
            [
             0.1,
             "#c51b7d"
            ],
            [
             0.2,
             "#de77ae"
            ],
            [
             0.3,
             "#f1b6da"
            ],
            [
             0.4,
             "#fde0ef"
            ],
            [
             0.5,
             "#f7f7f7"
            ],
            [
             0.6,
             "#e6f5d0"
            ],
            [
             0.7,
             "#b8e186"
            ],
            [
             0.8,
             "#7fbc41"
            ],
            [
             0.9,
             "#4d9221"
            ],
            [
             1,
             "#276419"
            ]
           ],
           "sequential": [
            [
             0,
             "#0d0887"
            ],
            [
             0.1111111111111111,
             "#46039f"
            ],
            [
             0.2222222222222222,
             "#7201a8"
            ],
            [
             0.3333333333333333,
             "#9c179e"
            ],
            [
             0.4444444444444444,
             "#bd3786"
            ],
            [
             0.5555555555555556,
             "#d8576b"
            ],
            [
             0.6666666666666666,
             "#ed7953"
            ],
            [
             0.7777777777777778,
             "#fb9f3a"
            ],
            [
             0.8888888888888888,
             "#fdca26"
            ],
            [
             1,
             "#f0f921"
            ]
           ],
           "sequentialminus": [
            [
             0,
             "#0d0887"
            ],
            [
             0.1111111111111111,
             "#46039f"
            ],
            [
             0.2222222222222222,
             "#7201a8"
            ],
            [
             0.3333333333333333,
             "#9c179e"
            ],
            [
             0.4444444444444444,
             "#bd3786"
            ],
            [
             0.5555555555555556,
             "#d8576b"
            ],
            [
             0.6666666666666666,
             "#ed7953"
            ],
            [
             0.7777777777777778,
             "#fb9f3a"
            ],
            [
             0.8888888888888888,
             "#fdca26"
            ],
            [
             1,
             "#f0f921"
            ]
           ]
          },
          "colorway": [
           "#636efa",
           "#EF553B",
           "#00cc96",
           "#ab63fa",
           "#FFA15A",
           "#19d3f3",
           "#FF6692",
           "#B6E880",
           "#FF97FF",
           "#FECB52"
          ],
          "font": {
           "color": "#2a3f5f"
          },
          "geo": {
           "bgcolor": "white",
           "lakecolor": "white",
           "landcolor": "#E5ECF6",
           "showlakes": true,
           "showland": true,
           "subunitcolor": "white"
          },
          "hoverlabel": {
           "align": "left"
          },
          "hovermode": "closest",
          "mapbox": {
           "style": "light"
          },
          "paper_bgcolor": "white",
          "plot_bgcolor": "#E5ECF6",
          "polar": {
           "angularaxis": {
            "gridcolor": "white",
            "linecolor": "white",
            "ticks": ""
           },
           "bgcolor": "#E5ECF6",
           "radialaxis": {
            "gridcolor": "white",
            "linecolor": "white",
            "ticks": ""
           }
          },
          "scene": {
           "xaxis": {
            "backgroundcolor": "#E5ECF6",
            "gridcolor": "white",
            "gridwidth": 2,
            "linecolor": "white",
            "showbackground": true,
            "ticks": "",
            "zerolinecolor": "white"
           },
           "yaxis": {
            "backgroundcolor": "#E5ECF6",
            "gridcolor": "white",
            "gridwidth": 2,
            "linecolor": "white",
            "showbackground": true,
            "ticks": "",
            "zerolinecolor": "white"
           },
           "zaxis": {
            "backgroundcolor": "#E5ECF6",
            "gridcolor": "white",
            "gridwidth": 2,
            "linecolor": "white",
            "showbackground": true,
            "ticks": "",
            "zerolinecolor": "white"
           }
          },
          "shapedefaults": {
           "line": {
            "color": "#2a3f5f"
           }
          },
          "ternary": {
           "aaxis": {
            "gridcolor": "white",
            "linecolor": "white",
            "ticks": ""
           },
           "baxis": {
            "gridcolor": "white",
            "linecolor": "white",
            "ticks": ""
           },
           "bgcolor": "#E5ECF6",
           "caxis": {
            "gridcolor": "white",
            "linecolor": "white",
            "ticks": ""
           }
          },
          "title": {
           "x": 0.05
          },
          "xaxis": {
           "automargin": true,
           "gridcolor": "white",
           "linecolor": "white",
           "ticks": "",
           "title": {
            "standoff": 15
           },
           "zerolinecolor": "white",
           "zerolinewidth": 2
          },
          "yaxis": {
           "automargin": true,
           "gridcolor": "white",
           "linecolor": "white",
           "ticks": "",
           "title": {
            "standoff": 15
           },
           "zerolinecolor": "white",
           "zerolinewidth": 2
          }
         }
        },
        "title": {
         "text": "Validation Metrics Over Time (HOD Model)"
        },
        "xaxis": {
         "anchor": "y",
         "domain": [
          0,
          1
         ],
         "title": {
          "text": "index"
         }
        },
        "yaxis": {
         "anchor": "x",
         "domain": [
          0,
          1
         ],
         "title": {
          "text": "value"
         }
        }
       }
      }
     },
     "metadata": {},
     "output_type": "display_data"
    }
   ],
   "source": [
    "import datetime\n",
    "import plotly.express as px\n",
    "\n",
    "\n",
    "time_range = [datetime.time(hour, minute) for hour in range(9, 16) for minute in range(0, 60, 5)]\n",
    "time_range = [x for x in time_range if x >= datetime.time(9,45)]\n",
    "df_val = pd.DataFrame()\n",
    "for t in time_range:\n",
    "    X_val = X_test.loc[X_test['time'] <= t].copy()\n",
    "    y_val = y_test.loc[X_val.index, 'hod_in'].copy()\n",
    "\n",
    "    y_pred_val = pipeline.predict_proba(X_val)[:,-1]\n",
    "\n",
    "    df_val.loc[t, [\n",
    "        'roc_auc',\n",
    "        'precision',\n",
    "        'recall'\n",
    "    ]] =  roc_auc_score(y_val, y_pred_val), precision_score(y_val, y_pred_val > 0.5), recall_score(y_val, y_pred_val > 0.5)\n",
    "\n",
    "\n",
    "fig = px.line(df_val, title='Validation Metrics Over Time (HOD Model)')\n",
    "fig.show()"
   ]
  },
  {
   "cell_type": "code",
   "execution_count": 183,
   "metadata": {},
   "outputs": [
    {
     "data": {
      "application/vnd.plotly.v1+json": {
       "config": {
        "plotlyServerURL": "https://plot.ly"
       },
       "data": [
        {
         "hovertemplate": "variable=roc_auc<br>index=%{x}<br>value=%{y}<extra></extra>",
         "legendgroup": "roc_auc",
         "line": {
          "color": "#636efa",
          "dash": "solid"
         },
         "marker": {
          "symbol": "circle"
         },
         "mode": "lines",
         "name": "roc_auc",
         "orientation": "v",
         "showlegend": true,
         "type": "scatter",
         "x": [
          "09:45:00",
          "09:50:00",
          "09:55:00",
          "10:00:00",
          "10:05:00",
          "10:10:00",
          "10:15:00",
          "10:20:00",
          "10:25:00",
          "10:30:00",
          "10:35:00",
          "10:40:00",
          "10:45:00",
          "10:50:00",
          "10:55:00",
          "11:00:00",
          "11:05:00",
          "11:10:00",
          "11:15:00",
          "11:20:00",
          "11:25:00",
          "11:30:00",
          "11:35:00",
          "11:40:00",
          "11:45:00",
          "11:50:00",
          "11:55:00",
          "12:00:00",
          "12:05:00",
          "12:10:00",
          "12:15:00",
          "12:20:00",
          "12:25:00",
          "12:30:00",
          "12:35:00",
          "12:40:00",
          "12:45:00",
          "12:50:00",
          "12:55:00",
          "13:00:00",
          "13:05:00",
          "13:10:00",
          "13:15:00",
          "13:20:00",
          "13:25:00",
          "13:30:00",
          "13:35:00",
          "13:40:00",
          "13:45:00",
          "13:50:00",
          "13:55:00",
          "14:00:00",
          "14:05:00",
          "14:10:00",
          "14:15:00",
          "14:20:00",
          "14:25:00",
          "14:30:00",
          "14:35:00",
          "14:40:00",
          "14:45:00",
          "14:50:00",
          "14:55:00",
          "15:00:00",
          "15:05:00",
          "15:10:00",
          "15:15:00",
          "15:20:00",
          "15:25:00",
          "15:30:00",
          "15:35:00",
          "15:40:00",
          "15:45:00",
          "15:50:00",
          "15:55:00"
         ],
         "xaxis": "x",
         "y": [
          0.6683866529067767,
          0.6887534907336887,
          0.6928888399897312,
          0.7148654955728868,
          0.7224566797688452,
          0.7378121492704826,
          0.743810713323904,
          0.7468386521209632,
          0.7515161401637545,
          0.7559530998389695,
          0.7634768821603928,
          0.7710200418332576,
          0.7758823293062777,
          0.7773231209215501,
          0.7804061596285327,
          0.7832000697750546,
          0.7852635081181794,
          0.7862390623029768,
          0.7871192719241942,
          0.7892431232884903,
          0.7913610755406031,
          0.7920104023243911,
          0.792648297657341,
          0.7936224881615908,
          0.7949300038401585,
          0.7955184195242381,
          0.7956585379167084,
          0.7966227377428343,
          0.797131829271298,
          0.7980352277878356,
          0.7986066216058021,
          0.7988668496727165,
          0.7993251460040931,
          0.7998375314936359,
          0.8004666324195583,
          0.8007815420695891,
          0.8011032743874975,
          0.801540112088539,
          0.8021171623322918,
          0.802992365192716,
          0.8044242204754593,
          0.805375996949409,
          0.8068349856803578,
          0.8081634099102216,
          0.8099063203019459,
          0.8108897412267766,
          0.8119334699340262,
          0.8129581102729718,
          0.8135351847319217,
          0.8141229689030784,
          0.81469319605767,
          0.8157147838666838,
          0.8167034015778347,
          0.818394597968727,
          0.819882034966249,
          0.8214008708628187,
          0.8228533804983609,
          0.824397887038445,
          0.8261131865327053,
          0.8278760746039255,
          0.8299212968993044,
          0.8321610015720818,
          0.8345232941071313,
          0.8367707644937588,
          0.8392163039361928,
          0.841635534709102,
          0.8436742951108267,
          0.8457087500707396,
          0.8474918562998744,
          0.8494710934577934,
          0.8515946035130632,
          0.8534482940590634,
          0.8555547968608153,
          0.8579829298962797,
          0.8611124510936072
         ],
         "yaxis": "y"
        },
        {
         "hovertemplate": "variable=precision<br>index=%{x}<br>value=%{y}<extra></extra>",
         "legendgroup": "precision",
         "line": {
          "color": "#EF553B",
          "dash": "solid"
         },
         "marker": {
          "symbol": "circle"
         },
         "mode": "lines",
         "name": "precision",
         "orientation": "v",
         "showlegend": true,
         "type": "scatter",
         "x": [
          "09:45:00",
          "09:50:00",
          "09:55:00",
          "10:00:00",
          "10:05:00",
          "10:10:00",
          "10:15:00",
          "10:20:00",
          "10:25:00",
          "10:30:00",
          "10:35:00",
          "10:40:00",
          "10:45:00",
          "10:50:00",
          "10:55:00",
          "11:00:00",
          "11:05:00",
          "11:10:00",
          "11:15:00",
          "11:20:00",
          "11:25:00",
          "11:30:00",
          "11:35:00",
          "11:40:00",
          "11:45:00",
          "11:50:00",
          "11:55:00",
          "12:00:00",
          "12:05:00",
          "12:10:00",
          "12:15:00",
          "12:20:00",
          "12:25:00",
          "12:30:00",
          "12:35:00",
          "12:40:00",
          "12:45:00",
          "12:50:00",
          "12:55:00",
          "13:00:00",
          "13:05:00",
          "13:10:00",
          "13:15:00",
          "13:20:00",
          "13:25:00",
          "13:30:00",
          "13:35:00",
          "13:40:00",
          "13:45:00",
          "13:50:00",
          "13:55:00",
          "14:00:00",
          "14:05:00",
          "14:10:00",
          "14:15:00",
          "14:20:00",
          "14:25:00",
          "14:30:00",
          "14:35:00",
          "14:40:00",
          "14:45:00",
          "14:50:00",
          "14:55:00",
          "15:00:00",
          "15:05:00",
          "15:10:00",
          "15:15:00",
          "15:20:00",
          "15:25:00",
          "15:30:00",
          "15:35:00",
          "15:40:00",
          "15:45:00",
          "15:50:00",
          "15:55:00"
         ],
         "xaxis": "x",
         "y": [
          0.4,
          0.4482758620689655,
          0.5,
          0.5323741007194245,
          0.5526315789473685,
          0.5776892430278885,
          0.5899053627760252,
          0.5877862595419847,
          0.5969827586206896,
          0.6029143897996357,
          0.6129541864139021,
          0.6213592233009708,
          0.6300863131935882,
          0.632630410654828,
          0.6333666333666333,
          0.6359530261969286,
          0.6383673469387755,
          0.6420029895366218,
          0.6433470507544582,
          0.6471337579617834,
          0.6504451038575668,
          0.6528008874098724,
          0.654045643153527,
          0.6572403705509507,
          0.660238751147842,
          0.663052905464007,
          0.6632485643970467,
          0.6652360515021459,
          0.6667903525046383,
          0.6690215471564818,
          0.6709329740653419,
          0.672020558946354,
          0.6735257985257985,
          0.675198587819947,
          0.676354401805869,
          0.677786818551668,
          0.6798955613577023,
          0.6811667085743023,
          0.6828972868217055,
          0.6848994857410005,
          0.6872316384180791,
          0.6890150687923128,
          0.6913006756756757,
          0.6935978727756187,
          0.6966091612135633,
          0.6991916859122402,
          0.7019805680119582,
          0.7050281357778181,
          0.707752074871976,
          0.7101598762248582,
          0.7127303182579564,
          0.7157086871325931,
          0.7185857620640229,
          0.7222049689440994,
          0.725662376987131,
          0.7291266440076843,
          0.7323618525465301,
          0.7355220515710864,
          0.738819320214669,
          0.7420656266810113,
          0.7458876167916831,
          0.7492276004119465,
          0.7525825144872764,
          0.7560434139121855,
          0.7596955418629938,
          0.7630208333333334,
          0.7661795407098121,
          0.7692919649960223,
          0.7723930481283422,
          0.7755079746558882,
          0.7788255465066438,
          0.7819730753050063,
          0.7853900123813454,
          0.7887922314383977,
          0.7931444422429166
         ],
         "yaxis": "y"
        },
        {
         "hovertemplate": "variable=recall<br>index=%{x}<br>value=%{y}<extra></extra>",
         "legendgroup": "recall",
         "line": {
          "color": "#00cc96",
          "dash": "solid"
         },
         "marker": {
          "symbol": "circle"
         },
         "mode": "lines",
         "name": "recall",
         "orientation": "v",
         "showlegend": true,
         "type": "scatter",
         "x": [
          "09:45:00",
          "09:50:00",
          "09:55:00",
          "10:00:00",
          "10:05:00",
          "10:10:00",
          "10:15:00",
          "10:20:00",
          "10:25:00",
          "10:30:00",
          "10:35:00",
          "10:40:00",
          "10:45:00",
          "10:50:00",
          "10:55:00",
          "11:00:00",
          "11:05:00",
          "11:10:00",
          "11:15:00",
          "11:20:00",
          "11:25:00",
          "11:30:00",
          "11:35:00",
          "11:40:00",
          "11:45:00",
          "11:50:00",
          "11:55:00",
          "12:00:00",
          "12:05:00",
          "12:10:00",
          "12:15:00",
          "12:20:00",
          "12:25:00",
          "12:30:00",
          "12:35:00",
          "12:40:00",
          "12:45:00",
          "12:50:00",
          "12:55:00",
          "13:00:00",
          "13:05:00",
          "13:10:00",
          "13:15:00",
          "13:20:00",
          "13:25:00",
          "13:30:00",
          "13:35:00",
          "13:40:00",
          "13:45:00",
          "13:50:00",
          "13:55:00",
          "14:00:00",
          "14:05:00",
          "14:10:00",
          "14:15:00",
          "14:20:00",
          "14:25:00",
          "14:30:00",
          "14:35:00",
          "14:40:00",
          "14:45:00",
          "14:50:00",
          "14:55:00",
          "15:00:00",
          "15:05:00",
          "15:10:00",
          "15:15:00",
          "15:20:00",
          "15:25:00",
          "15:30:00",
          "15:35:00",
          "15:40:00",
          "15:45:00",
          "15:50:00",
          "15:55:00"
         ],
         "xaxis": "x",
         "y": [
          0.17543859649122806,
          0.2222222222222222,
          0.25136612021857924,
          0.2948207171314741,
          0.32507739938080493,
          0.3661616161616162,
          0.3953488372093023,
          0.4177215189873418,
          0.43622047244094486,
          0.4597222222222222,
          0.4813895781637717,
          0.5016797312430011,
          0.5198372329603256,
          0.5297397769516728,
          0.542343883661249,
          0.557403008709422,
          0.575,
          0.5887594242631939,
          0.6020539152759948,
          0.6131563065781533,
          0.6237905520774046,
          0.6331360946745562,
          0.6423841059602649,
          0.6518375241779497,
          0.6614535418583257,
          0.6700262927256793,
          0.6760033444816054,
          0.6809105431309904,
          0.686401833460657,
          0.6930113428466886,
          0.6991926991926992,
          0.7050893158072127,
          0.7108589951377634,
          0.7160686427457098,
          0.7209022556390977,
          0.7251886244921648,
          0.7296161389745026,
          0.7333513806172172,
          0.7377649829887464,
          0.7419599898708534,
          0.7458915869511896,
          0.7502972651605232,
          0.7554222427318874,
          0.7598028232130853,
          0.7650261324041812,
          0.7685635709752485,
          0.7724095394736842,
          0.7763341994803118,
          0.7791601866251944,
          0.7810550198525241,
          0.7827446651949963,
          0.7847806624888093,
          0.7864737667770612,
          0.7897775513669554,
          0.793017868960953,
          0.7958064516129032,
          0.7984898537045776,
          0.80098204695412,
          0.8041036393589935,
          0.8070791282726342,
          0.8100614549092469,
          0.8130762782900252,
          0.816120218579235,
          0.8191901643725779,
          0.8222832483326795,
          0.825246447317885,
          0.8280270744547505,
          0.8307560137457045,
          0.8330930064888248,
          0.8353730289479878,
          0.8379063869033895,
          0.8396386222473179,
          0.8420353982300885,
          0.8447622142779764,
          0.8481830702404916
         ],
         "yaxis": "y"
        }
       ],
       "layout": {
        "legend": {
         "title": {
          "text": "variable"
         },
         "tracegroupgap": 0
        },
        "template": {
         "data": {
          "bar": [
           {
            "error_x": {
             "color": "#2a3f5f"
            },
            "error_y": {
             "color": "#2a3f5f"
            },
            "marker": {
             "line": {
              "color": "#E5ECF6",
              "width": 0.5
             },
             "pattern": {
              "fillmode": "overlay",
              "size": 10,
              "solidity": 0.2
             }
            },
            "type": "bar"
           }
          ],
          "barpolar": [
           {
            "marker": {
             "line": {
              "color": "#E5ECF6",
              "width": 0.5
             },
             "pattern": {
              "fillmode": "overlay",
              "size": 10,
              "solidity": 0.2
             }
            },
            "type": "barpolar"
           }
          ],
          "carpet": [
           {
            "aaxis": {
             "endlinecolor": "#2a3f5f",
             "gridcolor": "white",
             "linecolor": "white",
             "minorgridcolor": "white",
             "startlinecolor": "#2a3f5f"
            },
            "baxis": {
             "endlinecolor": "#2a3f5f",
             "gridcolor": "white",
             "linecolor": "white",
             "minorgridcolor": "white",
             "startlinecolor": "#2a3f5f"
            },
            "type": "carpet"
           }
          ],
          "choropleth": [
           {
            "colorbar": {
             "outlinewidth": 0,
             "ticks": ""
            },
            "type": "choropleth"
           }
          ],
          "contour": [
           {
            "colorbar": {
             "outlinewidth": 0,
             "ticks": ""
            },
            "colorscale": [
             [
              0,
              "#0d0887"
             ],
             [
              0.1111111111111111,
              "#46039f"
             ],
             [
              0.2222222222222222,
              "#7201a8"
             ],
             [
              0.3333333333333333,
              "#9c179e"
             ],
             [
              0.4444444444444444,
              "#bd3786"
             ],
             [
              0.5555555555555556,
              "#d8576b"
             ],
             [
              0.6666666666666666,
              "#ed7953"
             ],
             [
              0.7777777777777778,
              "#fb9f3a"
             ],
             [
              0.8888888888888888,
              "#fdca26"
             ],
             [
              1,
              "#f0f921"
             ]
            ],
            "type": "contour"
           }
          ],
          "contourcarpet": [
           {
            "colorbar": {
             "outlinewidth": 0,
             "ticks": ""
            },
            "type": "contourcarpet"
           }
          ],
          "heatmap": [
           {
            "colorbar": {
             "outlinewidth": 0,
             "ticks": ""
            },
            "colorscale": [
             [
              0,
              "#0d0887"
             ],
             [
              0.1111111111111111,
              "#46039f"
             ],
             [
              0.2222222222222222,
              "#7201a8"
             ],
             [
              0.3333333333333333,
              "#9c179e"
             ],
             [
              0.4444444444444444,
              "#bd3786"
             ],
             [
              0.5555555555555556,
              "#d8576b"
             ],
             [
              0.6666666666666666,
              "#ed7953"
             ],
             [
              0.7777777777777778,
              "#fb9f3a"
             ],
             [
              0.8888888888888888,
              "#fdca26"
             ],
             [
              1,
              "#f0f921"
             ]
            ],
            "type": "heatmap"
           }
          ],
          "heatmapgl": [
           {
            "colorbar": {
             "outlinewidth": 0,
             "ticks": ""
            },
            "colorscale": [
             [
              0,
              "#0d0887"
             ],
             [
              0.1111111111111111,
              "#46039f"
             ],
             [
              0.2222222222222222,
              "#7201a8"
             ],
             [
              0.3333333333333333,
              "#9c179e"
             ],
             [
              0.4444444444444444,
              "#bd3786"
             ],
             [
              0.5555555555555556,
              "#d8576b"
             ],
             [
              0.6666666666666666,
              "#ed7953"
             ],
             [
              0.7777777777777778,
              "#fb9f3a"
             ],
             [
              0.8888888888888888,
              "#fdca26"
             ],
             [
              1,
              "#f0f921"
             ]
            ],
            "type": "heatmapgl"
           }
          ],
          "histogram": [
           {
            "marker": {
             "pattern": {
              "fillmode": "overlay",
              "size": 10,
              "solidity": 0.2
             }
            },
            "type": "histogram"
           }
          ],
          "histogram2d": [
           {
            "colorbar": {
             "outlinewidth": 0,
             "ticks": ""
            },
            "colorscale": [
             [
              0,
              "#0d0887"
             ],
             [
              0.1111111111111111,
              "#46039f"
             ],
             [
              0.2222222222222222,
              "#7201a8"
             ],
             [
              0.3333333333333333,
              "#9c179e"
             ],
             [
              0.4444444444444444,
              "#bd3786"
             ],
             [
              0.5555555555555556,
              "#d8576b"
             ],
             [
              0.6666666666666666,
              "#ed7953"
             ],
             [
              0.7777777777777778,
              "#fb9f3a"
             ],
             [
              0.8888888888888888,
              "#fdca26"
             ],
             [
              1,
              "#f0f921"
             ]
            ],
            "type": "histogram2d"
           }
          ],
          "histogram2dcontour": [
           {
            "colorbar": {
             "outlinewidth": 0,
             "ticks": ""
            },
            "colorscale": [
             [
              0,
              "#0d0887"
             ],
             [
              0.1111111111111111,
              "#46039f"
             ],
             [
              0.2222222222222222,
              "#7201a8"
             ],
             [
              0.3333333333333333,
              "#9c179e"
             ],
             [
              0.4444444444444444,
              "#bd3786"
             ],
             [
              0.5555555555555556,
              "#d8576b"
             ],
             [
              0.6666666666666666,
              "#ed7953"
             ],
             [
              0.7777777777777778,
              "#fb9f3a"
             ],
             [
              0.8888888888888888,
              "#fdca26"
             ],
             [
              1,
              "#f0f921"
             ]
            ],
            "type": "histogram2dcontour"
           }
          ],
          "mesh3d": [
           {
            "colorbar": {
             "outlinewidth": 0,
             "ticks": ""
            },
            "type": "mesh3d"
           }
          ],
          "parcoords": [
           {
            "line": {
             "colorbar": {
              "outlinewidth": 0,
              "ticks": ""
             }
            },
            "type": "parcoords"
           }
          ],
          "pie": [
           {
            "automargin": true,
            "type": "pie"
           }
          ],
          "scatter": [
           {
            "fillpattern": {
             "fillmode": "overlay",
             "size": 10,
             "solidity": 0.2
            },
            "type": "scatter"
           }
          ],
          "scatter3d": [
           {
            "line": {
             "colorbar": {
              "outlinewidth": 0,
              "ticks": ""
             }
            },
            "marker": {
             "colorbar": {
              "outlinewidth": 0,
              "ticks": ""
             }
            },
            "type": "scatter3d"
           }
          ],
          "scattercarpet": [
           {
            "marker": {
             "colorbar": {
              "outlinewidth": 0,
              "ticks": ""
             }
            },
            "type": "scattercarpet"
           }
          ],
          "scattergeo": [
           {
            "marker": {
             "colorbar": {
              "outlinewidth": 0,
              "ticks": ""
             }
            },
            "type": "scattergeo"
           }
          ],
          "scattergl": [
           {
            "marker": {
             "colorbar": {
              "outlinewidth": 0,
              "ticks": ""
             }
            },
            "type": "scattergl"
           }
          ],
          "scattermapbox": [
           {
            "marker": {
             "colorbar": {
              "outlinewidth": 0,
              "ticks": ""
             }
            },
            "type": "scattermapbox"
           }
          ],
          "scatterpolar": [
           {
            "marker": {
             "colorbar": {
              "outlinewidth": 0,
              "ticks": ""
             }
            },
            "type": "scatterpolar"
           }
          ],
          "scatterpolargl": [
           {
            "marker": {
             "colorbar": {
              "outlinewidth": 0,
              "ticks": ""
             }
            },
            "type": "scatterpolargl"
           }
          ],
          "scatterternary": [
           {
            "marker": {
             "colorbar": {
              "outlinewidth": 0,
              "ticks": ""
             }
            },
            "type": "scatterternary"
           }
          ],
          "surface": [
           {
            "colorbar": {
             "outlinewidth": 0,
             "ticks": ""
            },
            "colorscale": [
             [
              0,
              "#0d0887"
             ],
             [
              0.1111111111111111,
              "#46039f"
             ],
             [
              0.2222222222222222,
              "#7201a8"
             ],
             [
              0.3333333333333333,
              "#9c179e"
             ],
             [
              0.4444444444444444,
              "#bd3786"
             ],
             [
              0.5555555555555556,
              "#d8576b"
             ],
             [
              0.6666666666666666,
              "#ed7953"
             ],
             [
              0.7777777777777778,
              "#fb9f3a"
             ],
             [
              0.8888888888888888,
              "#fdca26"
             ],
             [
              1,
              "#f0f921"
             ]
            ],
            "type": "surface"
           }
          ],
          "table": [
           {
            "cells": {
             "fill": {
              "color": "#EBF0F8"
             },
             "line": {
              "color": "white"
             }
            },
            "header": {
             "fill": {
              "color": "#C8D4E3"
             },
             "line": {
              "color": "white"
             }
            },
            "type": "table"
           }
          ]
         },
         "layout": {
          "annotationdefaults": {
           "arrowcolor": "#2a3f5f",
           "arrowhead": 0,
           "arrowwidth": 1
          },
          "autotypenumbers": "strict",
          "coloraxis": {
           "colorbar": {
            "outlinewidth": 0,
            "ticks": ""
           }
          },
          "colorscale": {
           "diverging": [
            [
             0,
             "#8e0152"
            ],
            [
             0.1,
             "#c51b7d"
            ],
            [
             0.2,
             "#de77ae"
            ],
            [
             0.3,
             "#f1b6da"
            ],
            [
             0.4,
             "#fde0ef"
            ],
            [
             0.5,
             "#f7f7f7"
            ],
            [
             0.6,
             "#e6f5d0"
            ],
            [
             0.7,
             "#b8e186"
            ],
            [
             0.8,
             "#7fbc41"
            ],
            [
             0.9,
             "#4d9221"
            ],
            [
             1,
             "#276419"
            ]
           ],
           "sequential": [
            [
             0,
             "#0d0887"
            ],
            [
             0.1111111111111111,
             "#46039f"
            ],
            [
             0.2222222222222222,
             "#7201a8"
            ],
            [
             0.3333333333333333,
             "#9c179e"
            ],
            [
             0.4444444444444444,
             "#bd3786"
            ],
            [
             0.5555555555555556,
             "#d8576b"
            ],
            [
             0.6666666666666666,
             "#ed7953"
            ],
            [
             0.7777777777777778,
             "#fb9f3a"
            ],
            [
             0.8888888888888888,
             "#fdca26"
            ],
            [
             1,
             "#f0f921"
            ]
           ],
           "sequentialminus": [
            [
             0,
             "#0d0887"
            ],
            [
             0.1111111111111111,
             "#46039f"
            ],
            [
             0.2222222222222222,
             "#7201a8"
            ],
            [
             0.3333333333333333,
             "#9c179e"
            ],
            [
             0.4444444444444444,
             "#bd3786"
            ],
            [
             0.5555555555555556,
             "#d8576b"
            ],
            [
             0.6666666666666666,
             "#ed7953"
            ],
            [
             0.7777777777777778,
             "#fb9f3a"
            ],
            [
             0.8888888888888888,
             "#fdca26"
            ],
            [
             1,
             "#f0f921"
            ]
           ]
          },
          "colorway": [
           "#636efa",
           "#EF553B",
           "#00cc96",
           "#ab63fa",
           "#FFA15A",
           "#19d3f3",
           "#FF6692",
           "#B6E880",
           "#FF97FF",
           "#FECB52"
          ],
          "font": {
           "color": "#2a3f5f"
          },
          "geo": {
           "bgcolor": "white",
           "lakecolor": "white",
           "landcolor": "#E5ECF6",
           "showlakes": true,
           "showland": true,
           "subunitcolor": "white"
          },
          "hoverlabel": {
           "align": "left"
          },
          "hovermode": "closest",
          "mapbox": {
           "style": "light"
          },
          "paper_bgcolor": "white",
          "plot_bgcolor": "#E5ECF6",
          "polar": {
           "angularaxis": {
            "gridcolor": "white",
            "linecolor": "white",
            "ticks": ""
           },
           "bgcolor": "#E5ECF6",
           "radialaxis": {
            "gridcolor": "white",
            "linecolor": "white",
            "ticks": ""
           }
          },
          "scene": {
           "xaxis": {
            "backgroundcolor": "#E5ECF6",
            "gridcolor": "white",
            "gridwidth": 2,
            "linecolor": "white",
            "showbackground": true,
            "ticks": "",
            "zerolinecolor": "white"
           },
           "yaxis": {
            "backgroundcolor": "#E5ECF6",
            "gridcolor": "white",
            "gridwidth": 2,
            "linecolor": "white",
            "showbackground": true,
            "ticks": "",
            "zerolinecolor": "white"
           },
           "zaxis": {
            "backgroundcolor": "#E5ECF6",
            "gridcolor": "white",
            "gridwidth": 2,
            "linecolor": "white",
            "showbackground": true,
            "ticks": "",
            "zerolinecolor": "white"
           }
          },
          "shapedefaults": {
           "line": {
            "color": "#2a3f5f"
           }
          },
          "ternary": {
           "aaxis": {
            "gridcolor": "white",
            "linecolor": "white",
            "ticks": ""
           },
           "baxis": {
            "gridcolor": "white",
            "linecolor": "white",
            "ticks": ""
           },
           "bgcolor": "#E5ECF6",
           "caxis": {
            "gridcolor": "white",
            "linecolor": "white",
            "ticks": ""
           }
          },
          "title": {
           "x": 0.05
          },
          "xaxis": {
           "automargin": true,
           "gridcolor": "white",
           "linecolor": "white",
           "ticks": "",
           "title": {
            "standoff": 15
           },
           "zerolinecolor": "white",
           "zerolinewidth": 2
          },
          "yaxis": {
           "automargin": true,
           "gridcolor": "white",
           "linecolor": "white",
           "ticks": "",
           "title": {
            "standoff": 15
           },
           "zerolinecolor": "white",
           "zerolinewidth": 2
          }
         }
        },
        "title": {
         "text": "Validation Metrics Over Time (LOD Model)"
        },
        "xaxis": {
         "anchor": "y",
         "domain": [
          0,
          1
         ],
         "title": {
          "text": "index"
         }
        },
        "yaxis": {
         "anchor": "x",
         "domain": [
          0,
          1
         ],
         "title": {
          "text": "value"
         }
        }
       }
      }
     },
     "metadata": {},
     "output_type": "display_data"
    }
   ],
   "source": [
    "import datetime\n",
    "import plotly.express as px\n",
    "\n",
    "time_range = [datetime.time(hour, minute) for hour in range(9, 16) for minute in range(0, 60, 5)]\n",
    "time_range = [x for x in time_range if x >= datetime.time(9,45)]\n",
    "df_val = pd.DataFrame()\n",
    "for t in time_range:\n",
    "    X_val = X_test.loc[X_test['time'] <= t].copy()\n",
    "    y_val = y_test.loc[X_val.index, 'lod_in'].copy()\n",
    "\n",
    "    y_pred_val = pipeline_lod.predict_proba(X_val)[:,-1]\n",
    "\n",
    "    df_val.loc[t, [\n",
    "        'roc_auc',\n",
    "        'precision',\n",
    "        'recall'\n",
    "    ]] =  roc_auc_score(y_val, y_pred_val), precision_score(y_val, y_pred_val > 0.5), recall_score(y_val, y_pred_val > 0.5)\n",
    "\n",
    "\n",
    "fig = px.line(df_val, title='Validation Metrics Over Time (LOD Model)')\n",
    "fig.show()"
   ]
  },
  {
   "cell_type": "code",
   "execution_count": 184,
   "metadata": {},
   "outputs": [
    {
     "data": {
      "application/vnd.plotly.v1+json": {
       "config": {
        "plotlyServerURL": "https://plot.ly"
       },
       "data": [
        {
         "hovertemplate": "variable=roc_auc<br>index=%{x}<br>value=%{y}<extra></extra>",
         "legendgroup": "roc_auc",
         "line": {
          "color": "#636efa",
          "dash": "solid"
         },
         "marker": {
          "symbol": "circle"
         },
         "mode": "lines",
         "name": "roc_auc",
         "orientation": "v",
         "showlegend": true,
         "type": "scatter",
         "x": [
          "09:45:00",
          "09:50:00",
          "09:55:00",
          "10:00:00",
          "10:05:00",
          "10:10:00",
          "10:15:00",
          "10:20:00",
          "10:25:00",
          "10:30:00",
          "10:35:00",
          "10:40:00",
          "10:45:00",
          "10:50:00",
          "10:55:00",
          "11:00:00",
          "11:05:00",
          "11:10:00",
          "11:15:00",
          "11:20:00",
          "11:25:00",
          "11:30:00",
          "11:35:00",
          "11:40:00",
          "11:45:00",
          "11:50:00",
          "11:55:00",
          "12:00:00",
          "12:05:00",
          "12:10:00",
          "12:15:00",
          "12:20:00",
          "12:25:00",
          "12:30:00",
          "12:35:00",
          "12:40:00",
          "12:45:00",
          "12:50:00",
          "12:55:00",
          "13:00:00",
          "13:05:00",
          "13:10:00",
          "13:15:00",
          "13:20:00",
          "13:25:00",
          "13:30:00",
          "13:35:00",
          "13:40:00",
          "13:45:00",
          "13:50:00",
          "13:55:00",
          "14:00:00",
          "14:05:00",
          "14:10:00",
          "14:15:00",
          "14:20:00",
          "14:25:00",
          "14:30:00",
          "14:35:00",
          "14:40:00",
          "14:45:00",
          "14:50:00",
          "14:55:00",
          "15:00:00",
          "15:05:00",
          "15:10:00",
          "15:15:00",
          "15:20:00",
          "15:25:00",
          "15:30:00",
          "15:35:00",
          "15:40:00",
          "15:45:00",
          "15:50:00",
          "15:55:00"
         ],
         "xaxis": "x",
         "y": [
          0.7610185185185185,
          0.7627777777777778,
          0.7646244855967078,
          0.7662499999999999,
          0.7707018518518519,
          0.7768171296296297,
          0.7824537037037036,
          0.7886147280092592,
          0.7936071101966163,
          0.7980513888888889,
          0.8018070860116314,
          0.8055719521604937,
          0.8087209620863467,
          0.8107301114890401,
          0.812066049382716,
          0.8140254267939813,
          0.8162717864923746,
          0.8184995141746685,
          0.82083423104545,
          0.8228489583333334,
          0.8251302805072647,
          0.8275858011937556,
          0.8301742456066654,
          0.8322197305812757,
          0.8341931111111112,
          0.8360736494630726,
          0.8373668267032465,
          0.8383214640022676,
          0.839044842999956,
          0.8399501543209877,
          0.8407101495355919,
          0.8412884747540509,
          0.841963277556712,
          0.8429988866461617,
          0.8438438019652305,
          0.8446387388545953,
          0.8456594094094095,
          0.8464246370678157,
          0.8472335756203276,
          0.8480642071759259,
          0.8488993819816247,
          0.849766917569497,
          0.8506912895859624,
          0.8515238353600422,
          0.8524180920480648,
          0.8534703714217128,
          0.8547208076442618,
          0.8558358896940418,
          0.8570948431633504,
          0.8583040613282845,
          0.8594659346919196,
          0.8607731697835364,
          0.8619350204022246,
          0.8632564866748996,
          0.8645079290471626,
          0.8657587077506034,
          0.8671877280777205,
          0.8687618389572787,
          0.8703786071838688,
          0.8721103783031734,
          0.8738945741315389,
          0.8755367439919617,
          0.8773212399087235,
          0.8790972959841401,
          0.8809381886114278,
          0.8826526527442682,
          0.8843936302366391,
          0.8861065743155327,
          0.8878964235819645,
          0.8896817938495671,
          0.8914937184539472,
          0.8933695632977185,
          0.8952185815297558,
          0.8972866851994331,
          0.8995655694474051
         ],
         "yaxis": "y"
        },
        {
         "hovertemplate": "variable=precision<br>index=%{x}<br>value=%{y}<extra></extra>",
         "legendgroup": "precision",
         "line": {
          "color": "#EF553B",
          "dash": "solid"
         },
         "marker": {
          "symbol": "circle"
         },
         "mode": "lines",
         "name": "precision",
         "orientation": "v",
         "showlegend": true,
         "type": "scatter",
         "x": [
          "09:45:00",
          "09:50:00",
          "09:55:00",
          "10:00:00",
          "10:05:00",
          "10:10:00",
          "10:15:00",
          "10:20:00",
          "10:25:00",
          "10:30:00",
          "10:35:00",
          "10:40:00",
          "10:45:00",
          "10:50:00",
          "10:55:00",
          "11:00:00",
          "11:05:00",
          "11:10:00",
          "11:15:00",
          "11:20:00",
          "11:25:00",
          "11:30:00",
          "11:35:00",
          "11:40:00",
          "11:45:00",
          "11:50:00",
          "11:55:00",
          "12:00:00",
          "12:05:00",
          "12:10:00",
          "12:15:00",
          "12:20:00",
          "12:25:00",
          "12:30:00",
          "12:35:00",
          "12:40:00",
          "12:45:00",
          "12:50:00",
          "12:55:00",
          "13:00:00",
          "13:05:00",
          "13:10:00",
          "13:15:00",
          "13:20:00",
          "13:25:00",
          "13:30:00",
          "13:35:00",
          "13:40:00",
          "13:45:00",
          "13:50:00",
          "13:55:00",
          "14:00:00",
          "14:05:00",
          "14:10:00",
          "14:15:00",
          "14:20:00",
          "14:25:00",
          "14:30:00",
          "14:35:00",
          "14:40:00",
          "14:45:00",
          "14:50:00",
          "14:55:00",
          "15:00:00",
          "15:05:00",
          "15:10:00",
          "15:15:00",
          "15:20:00",
          "15:25:00",
          "15:30:00",
          "15:35:00",
          "15:40:00",
          "15:45:00",
          "15:50:00",
          "15:55:00"
         ],
         "xaxis": "x",
         "y": [
          0.7398373983739838,
          0.7439024390243902,
          0.7453083109919572,
          0.7475149105367793,
          0.75,
          0.7506527415143603,
          0.7516703786191536,
          0.752906976744186,
          0.7553832902670112,
          0.7573872472783826,
          0.7596017069701281,
          0.7608125819134993,
          0.7614120511259891,
          0.7616609783845278,
          0.7618540223761321,
          0.7621432148222334,
          0.7629594721960414,
          0.7644701691896705,
          0.7664695945945946,
          0.7684887459807074,
          0.7697016067329763,
          0.7710535909588042,
          0.7727748691099476,
          0.7739130434782608,
          0.7749598715890851,
          0.7752081406105458,
          0.7756676557863501,
          0.7762857142857142,
          0.7767364939360529,
          0.777422790202343,
          0.7785787847579815,
          0.7788844621513944,
          0.7799227799227799,
          0.7808187134502924,
          0.7813351498637602,
          0.7817539209189308,
          0.7828141783029001,
          0.7837272537126124,
          0.7844897959183673,
          0.7858565737051793,
          0.7869362363919129,
          0.788034188034188,
          0.7888187221396731,
          0.7898945837877136,
          0.7907473309608541,
          0.791528673522747,
          0.7925495557074504,
          0.7934673366834171,
          0.7942190835933651,
          0.79487592652272,
          0.7958860759493671,
          0.7970158532794529,
          0.7981062919975566,
          0.7992799279927992,
          0.800589970501475,
          0.8017103928105522,
          0.8031080695751355,
          0.8044606536681161,
          0.8057971014492754,
          0.8071438272443298,
          0.8085049478470179,
          0.8099815643929418,
          0.8114137483787289,
          0.8129312547917199,
          0.8144836272040302,
          0.8159920536379439,
          0.8174360230194686,
          0.8187635836754407,
          0.8203050524308866,
          0.8219451958132424,
          0.8237752495936846,
          0.8256533700137552,
          0.8274105930285197,
          0.8294590970049173,
          0.8315684976836533
         ],
         "yaxis": "y"
        },
        {
         "hovertemplate": "variable=recall<br>index=%{x}<br>value=%{y}<extra></extra>",
         "legendgroup": "recall",
         "line": {
          "color": "#00cc96",
          "dash": "solid"
         },
         "marker": {
          "symbol": "circle"
         },
         "mode": "lines",
         "name": "recall",
         "orientation": "v",
         "showlegend": true,
         "type": "scatter",
         "x": [
          "09:45:00",
          "09:50:00",
          "09:55:00",
          "10:00:00",
          "10:05:00",
          "10:10:00",
          "10:15:00",
          "10:20:00",
          "10:25:00",
          "10:30:00",
          "10:35:00",
          "10:40:00",
          "10:45:00",
          "10:50:00",
          "10:55:00",
          "11:00:00",
          "11:05:00",
          "11:10:00",
          "11:15:00",
          "11:20:00",
          "11:25:00",
          "11:30:00",
          "11:35:00",
          "11:40:00",
          "11:45:00",
          "11:50:00",
          "11:55:00",
          "12:00:00",
          "12:05:00",
          "12:10:00",
          "12:15:00",
          "12:20:00",
          "12:25:00",
          "12:30:00",
          "12:35:00",
          "12:40:00",
          "12:45:00",
          "12:50:00",
          "12:55:00",
          "13:00:00",
          "13:05:00",
          "13:10:00",
          "13:15:00",
          "13:20:00",
          "13:25:00",
          "13:30:00",
          "13:35:00",
          "13:40:00",
          "13:45:00",
          "13:50:00",
          "13:55:00",
          "14:00:00",
          "14:05:00",
          "14:10:00",
          "14:15:00",
          "14:20:00",
          "14:25:00",
          "14:30:00",
          "14:35:00",
          "14:40:00",
          "14:45:00",
          "14:50:00",
          "14:55:00",
          "15:00:00",
          "15:05:00",
          "15:10:00",
          "15:15:00",
          "15:20:00",
          "15:25:00",
          "15:30:00",
          "15:35:00",
          "15:40:00",
          "15:45:00",
          "15:50:00",
          "15:55:00"
         ],
         "xaxis": "x",
         "y": [
          0.7583333333333333,
          0.7625,
          0.7722222222222223,
          0.7833333333333333,
          0.79,
          0.7986111111111112,
          0.8035714285714286,
          0.809375,
          0.812037037037037,
          0.8116666666666666,
          0.8090909090909091,
          0.80625,
          0.801923076923077,
          0.7970238095238096,
          0.7944444444444444,
          0.7927083333333333,
          0.7936274509803921,
          0.7949074074074074,
          0.7960526315789473,
          0.7966666666666666,
          0.7984126984126985,
          0.8011363636363636,
          0.8021739130434783,
          0.8034722222222223,
          0.8046666666666666,
          0.8057692307692308,
          0.8067901234567901,
          0.8086309523809524,
          0.8097701149425287,
          0.8111111111111111,
          0.8129032258064516,
          0.8145833333333333,
          0.8161616161616162,
          0.8181372549019608,
          0.8192857142857143,
          0.819212962962963,
          0.8207207207207208,
          0.8217105263157894,
          0.8213675213675213,
          0.821875,
          0.8227642276422764,
          0.8232142857142857,
          0.8230620155038759,
          0.8234179613489958,
          0.8235730170496665,
          0.8235400797968807,
          0.8235085227272727,
          0.8238260869565217,
          0.8241308793456033,
          0.8240895422652856,
          0.8240498034076016,
          0.8241722918675667,
          0.8242902208201893,
          0.8250232270052648,
          0.8254257907542579,
          0.8262623244696743,
          0.8269230769230769,
          0.8275613275613276,
          0.8283200908059024,
          0.8293329612056936,
          0.8300384404173531,
          0.8309916238854363,
          0.8319148936170213,
          0.8329405603561142,
          0.8338060856111398,
          0.8346456692913385,
          0.8353353353353353,
          0.8361282367447596,
          0.8366553232863393,
          0.8374071411454589,
          0.8383742911153119,
          0.8393148450244698,
          0.8403448275862069,
          0.8416874574733499,
          0.8436660698299016
         ],
         "yaxis": "y"
        }
       ],
       "layout": {
        "legend": {
         "title": {
          "text": "variable"
         },
         "tracegroupgap": 0
        },
        "template": {
         "data": {
          "bar": [
           {
            "error_x": {
             "color": "#2a3f5f"
            },
            "error_y": {
             "color": "#2a3f5f"
            },
            "marker": {
             "line": {
              "color": "#E5ECF6",
              "width": 0.5
             },
             "pattern": {
              "fillmode": "overlay",
              "size": 10,
              "solidity": 0.2
             }
            },
            "type": "bar"
           }
          ],
          "barpolar": [
           {
            "marker": {
             "line": {
              "color": "#E5ECF6",
              "width": 0.5
             },
             "pattern": {
              "fillmode": "overlay",
              "size": 10,
              "solidity": 0.2
             }
            },
            "type": "barpolar"
           }
          ],
          "carpet": [
           {
            "aaxis": {
             "endlinecolor": "#2a3f5f",
             "gridcolor": "white",
             "linecolor": "white",
             "minorgridcolor": "white",
             "startlinecolor": "#2a3f5f"
            },
            "baxis": {
             "endlinecolor": "#2a3f5f",
             "gridcolor": "white",
             "linecolor": "white",
             "minorgridcolor": "white",
             "startlinecolor": "#2a3f5f"
            },
            "type": "carpet"
           }
          ],
          "choropleth": [
           {
            "colorbar": {
             "outlinewidth": 0,
             "ticks": ""
            },
            "type": "choropleth"
           }
          ],
          "contour": [
           {
            "colorbar": {
             "outlinewidth": 0,
             "ticks": ""
            },
            "colorscale": [
             [
              0,
              "#0d0887"
             ],
             [
              0.1111111111111111,
              "#46039f"
             ],
             [
              0.2222222222222222,
              "#7201a8"
             ],
             [
              0.3333333333333333,
              "#9c179e"
             ],
             [
              0.4444444444444444,
              "#bd3786"
             ],
             [
              0.5555555555555556,
              "#d8576b"
             ],
             [
              0.6666666666666666,
              "#ed7953"
             ],
             [
              0.7777777777777778,
              "#fb9f3a"
             ],
             [
              0.8888888888888888,
              "#fdca26"
             ],
             [
              1,
              "#f0f921"
             ]
            ],
            "type": "contour"
           }
          ],
          "contourcarpet": [
           {
            "colorbar": {
             "outlinewidth": 0,
             "ticks": ""
            },
            "type": "contourcarpet"
           }
          ],
          "heatmap": [
           {
            "colorbar": {
             "outlinewidth": 0,
             "ticks": ""
            },
            "colorscale": [
             [
              0,
              "#0d0887"
             ],
             [
              0.1111111111111111,
              "#46039f"
             ],
             [
              0.2222222222222222,
              "#7201a8"
             ],
             [
              0.3333333333333333,
              "#9c179e"
             ],
             [
              0.4444444444444444,
              "#bd3786"
             ],
             [
              0.5555555555555556,
              "#d8576b"
             ],
             [
              0.6666666666666666,
              "#ed7953"
             ],
             [
              0.7777777777777778,
              "#fb9f3a"
             ],
             [
              0.8888888888888888,
              "#fdca26"
             ],
             [
              1,
              "#f0f921"
             ]
            ],
            "type": "heatmap"
           }
          ],
          "heatmapgl": [
           {
            "colorbar": {
             "outlinewidth": 0,
             "ticks": ""
            },
            "colorscale": [
             [
              0,
              "#0d0887"
             ],
             [
              0.1111111111111111,
              "#46039f"
             ],
             [
              0.2222222222222222,
              "#7201a8"
             ],
             [
              0.3333333333333333,
              "#9c179e"
             ],
             [
              0.4444444444444444,
              "#bd3786"
             ],
             [
              0.5555555555555556,
              "#d8576b"
             ],
             [
              0.6666666666666666,
              "#ed7953"
             ],
             [
              0.7777777777777778,
              "#fb9f3a"
             ],
             [
              0.8888888888888888,
              "#fdca26"
             ],
             [
              1,
              "#f0f921"
             ]
            ],
            "type": "heatmapgl"
           }
          ],
          "histogram": [
           {
            "marker": {
             "pattern": {
              "fillmode": "overlay",
              "size": 10,
              "solidity": 0.2
             }
            },
            "type": "histogram"
           }
          ],
          "histogram2d": [
           {
            "colorbar": {
             "outlinewidth": 0,
             "ticks": ""
            },
            "colorscale": [
             [
              0,
              "#0d0887"
             ],
             [
              0.1111111111111111,
              "#46039f"
             ],
             [
              0.2222222222222222,
              "#7201a8"
             ],
             [
              0.3333333333333333,
              "#9c179e"
             ],
             [
              0.4444444444444444,
              "#bd3786"
             ],
             [
              0.5555555555555556,
              "#d8576b"
             ],
             [
              0.6666666666666666,
              "#ed7953"
             ],
             [
              0.7777777777777778,
              "#fb9f3a"
             ],
             [
              0.8888888888888888,
              "#fdca26"
             ],
             [
              1,
              "#f0f921"
             ]
            ],
            "type": "histogram2d"
           }
          ],
          "histogram2dcontour": [
           {
            "colorbar": {
             "outlinewidth": 0,
             "ticks": ""
            },
            "colorscale": [
             [
              0,
              "#0d0887"
             ],
             [
              0.1111111111111111,
              "#46039f"
             ],
             [
              0.2222222222222222,
              "#7201a8"
             ],
             [
              0.3333333333333333,
              "#9c179e"
             ],
             [
              0.4444444444444444,
              "#bd3786"
             ],
             [
              0.5555555555555556,
              "#d8576b"
             ],
             [
              0.6666666666666666,
              "#ed7953"
             ],
             [
              0.7777777777777778,
              "#fb9f3a"
             ],
             [
              0.8888888888888888,
              "#fdca26"
             ],
             [
              1,
              "#f0f921"
             ]
            ],
            "type": "histogram2dcontour"
           }
          ],
          "mesh3d": [
           {
            "colorbar": {
             "outlinewidth": 0,
             "ticks": ""
            },
            "type": "mesh3d"
           }
          ],
          "parcoords": [
           {
            "line": {
             "colorbar": {
              "outlinewidth": 0,
              "ticks": ""
             }
            },
            "type": "parcoords"
           }
          ],
          "pie": [
           {
            "automargin": true,
            "type": "pie"
           }
          ],
          "scatter": [
           {
            "fillpattern": {
             "fillmode": "overlay",
             "size": 10,
             "solidity": 0.2
            },
            "type": "scatter"
           }
          ],
          "scatter3d": [
           {
            "line": {
             "colorbar": {
              "outlinewidth": 0,
              "ticks": ""
             }
            },
            "marker": {
             "colorbar": {
              "outlinewidth": 0,
              "ticks": ""
             }
            },
            "type": "scatter3d"
           }
          ],
          "scattercarpet": [
           {
            "marker": {
             "colorbar": {
              "outlinewidth": 0,
              "ticks": ""
             }
            },
            "type": "scattercarpet"
           }
          ],
          "scattergeo": [
           {
            "marker": {
             "colorbar": {
              "outlinewidth": 0,
              "ticks": ""
             }
            },
            "type": "scattergeo"
           }
          ],
          "scattergl": [
           {
            "marker": {
             "colorbar": {
              "outlinewidth": 0,
              "ticks": ""
             }
            },
            "type": "scattergl"
           }
          ],
          "scattermapbox": [
           {
            "marker": {
             "colorbar": {
              "outlinewidth": 0,
              "ticks": ""
             }
            },
            "type": "scattermapbox"
           }
          ],
          "scatterpolar": [
           {
            "marker": {
             "colorbar": {
              "outlinewidth": 0,
              "ticks": ""
             }
            },
            "type": "scatterpolar"
           }
          ],
          "scatterpolargl": [
           {
            "marker": {
             "colorbar": {
              "outlinewidth": 0,
              "ticks": ""
             }
            },
            "type": "scatterpolargl"
           }
          ],
          "scatterternary": [
           {
            "marker": {
             "colorbar": {
              "outlinewidth": 0,
              "ticks": ""
             }
            },
            "type": "scatterternary"
           }
          ],
          "surface": [
           {
            "colorbar": {
             "outlinewidth": 0,
             "ticks": ""
            },
            "colorscale": [
             [
              0,
              "#0d0887"
             ],
             [
              0.1111111111111111,
              "#46039f"
             ],
             [
              0.2222222222222222,
              "#7201a8"
             ],
             [
              0.3333333333333333,
              "#9c179e"
             ],
             [
              0.4444444444444444,
              "#bd3786"
             ],
             [
              0.5555555555555556,
              "#d8576b"
             ],
             [
              0.6666666666666666,
              "#ed7953"
             ],
             [
              0.7777777777777778,
              "#fb9f3a"
             ],
             [
              0.8888888888888888,
              "#fdca26"
             ],
             [
              1,
              "#f0f921"
             ]
            ],
            "type": "surface"
           }
          ],
          "table": [
           {
            "cells": {
             "fill": {
              "color": "#EBF0F8"
             },
             "line": {
              "color": "white"
             }
            },
            "header": {
             "fill": {
              "color": "#C8D4E3"
             },
             "line": {
              "color": "white"
             }
            },
            "type": "table"
           }
          ]
         },
         "layout": {
          "annotationdefaults": {
           "arrowcolor": "#2a3f5f",
           "arrowhead": 0,
           "arrowwidth": 1
          },
          "autotypenumbers": "strict",
          "coloraxis": {
           "colorbar": {
            "outlinewidth": 0,
            "ticks": ""
           }
          },
          "colorscale": {
           "diverging": [
            [
             0,
             "#8e0152"
            ],
            [
             0.1,
             "#c51b7d"
            ],
            [
             0.2,
             "#de77ae"
            ],
            [
             0.3,
             "#f1b6da"
            ],
            [
             0.4,
             "#fde0ef"
            ],
            [
             0.5,
             "#f7f7f7"
            ],
            [
             0.6,
             "#e6f5d0"
            ],
            [
             0.7,
             "#b8e186"
            ],
            [
             0.8,
             "#7fbc41"
            ],
            [
             0.9,
             "#4d9221"
            ],
            [
             1,
             "#276419"
            ]
           ],
           "sequential": [
            [
             0,
             "#0d0887"
            ],
            [
             0.1111111111111111,
             "#46039f"
            ],
            [
             0.2222222222222222,
             "#7201a8"
            ],
            [
             0.3333333333333333,
             "#9c179e"
            ],
            [
             0.4444444444444444,
             "#bd3786"
            ],
            [
             0.5555555555555556,
             "#d8576b"
            ],
            [
             0.6666666666666666,
             "#ed7953"
            ],
            [
             0.7777777777777778,
             "#fb9f3a"
            ],
            [
             0.8888888888888888,
             "#fdca26"
            ],
            [
             1,
             "#f0f921"
            ]
           ],
           "sequentialminus": [
            [
             0,
             "#0d0887"
            ],
            [
             0.1111111111111111,
             "#46039f"
            ],
            [
             0.2222222222222222,
             "#7201a8"
            ],
            [
             0.3333333333333333,
             "#9c179e"
            ],
            [
             0.4444444444444444,
             "#bd3786"
            ],
            [
             0.5555555555555556,
             "#d8576b"
            ],
            [
             0.6666666666666666,
             "#ed7953"
            ],
            [
             0.7777777777777778,
             "#fb9f3a"
            ],
            [
             0.8888888888888888,
             "#fdca26"
            ],
            [
             1,
             "#f0f921"
            ]
           ]
          },
          "colorway": [
           "#636efa",
           "#EF553B",
           "#00cc96",
           "#ab63fa",
           "#FFA15A",
           "#19d3f3",
           "#FF6692",
           "#B6E880",
           "#FF97FF",
           "#FECB52"
          ],
          "font": {
           "color": "#2a3f5f"
          },
          "geo": {
           "bgcolor": "white",
           "lakecolor": "white",
           "landcolor": "#E5ECF6",
           "showlakes": true,
           "showland": true,
           "subunitcolor": "white"
          },
          "hoverlabel": {
           "align": "left"
          },
          "hovermode": "closest",
          "mapbox": {
           "style": "light"
          },
          "paper_bgcolor": "white",
          "plot_bgcolor": "#E5ECF6",
          "polar": {
           "angularaxis": {
            "gridcolor": "white",
            "linecolor": "white",
            "ticks": ""
           },
           "bgcolor": "#E5ECF6",
           "radialaxis": {
            "gridcolor": "white",
            "linecolor": "white",
            "ticks": ""
           }
          },
          "scene": {
           "xaxis": {
            "backgroundcolor": "#E5ECF6",
            "gridcolor": "white",
            "gridwidth": 2,
            "linecolor": "white",
            "showbackground": true,
            "ticks": "",
            "zerolinecolor": "white"
           },
           "yaxis": {
            "backgroundcolor": "#E5ECF6",
            "gridcolor": "white",
            "gridwidth": 2,
            "linecolor": "white",
            "showbackground": true,
            "ticks": "",
            "zerolinecolor": "white"
           },
           "zaxis": {
            "backgroundcolor": "#E5ECF6",
            "gridcolor": "white",
            "gridwidth": 2,
            "linecolor": "white",
            "showbackground": true,
            "ticks": "",
            "zerolinecolor": "white"
           }
          },
          "shapedefaults": {
           "line": {
            "color": "#2a3f5f"
           }
          },
          "ternary": {
           "aaxis": {
            "gridcolor": "white",
            "linecolor": "white",
            "ticks": ""
           },
           "baxis": {
            "gridcolor": "white",
            "linecolor": "white",
            "ticks": ""
           },
           "bgcolor": "#E5ECF6",
           "caxis": {
            "gridcolor": "white",
            "linecolor": "white",
            "ticks": ""
           }
          },
          "title": {
           "x": 0.05
          },
          "xaxis": {
           "automargin": true,
           "gridcolor": "white",
           "linecolor": "white",
           "ticks": "",
           "title": {
            "standoff": 15
           },
           "zerolinecolor": "white",
           "zerolinewidth": 2
          },
          "yaxis": {
           "automargin": true,
           "gridcolor": "white",
           "linecolor": "white",
           "ticks": "",
           "title": {
            "standoff": 15
           },
           "zerolinecolor": "white",
           "zerolinewidth": 2
          }
         }
        },
        "title": {
         "text": "Validation Metrics Over Time (GD Model)"
        },
        "xaxis": {
         "anchor": "y",
         "domain": [
          0,
          1
         ],
         "title": {
          "text": "index"
         }
        },
        "yaxis": {
         "anchor": "x",
         "domain": [
          0,
          1
         ],
         "title": {
          "text": "value"
         }
        }
       }
      }
     },
     "metadata": {},
     "output_type": "display_data"
    }
   ],
   "source": [
    "import datetime\n",
    "import plotly.express as px\n",
    "\n",
    "time_range = [datetime.time(hour, minute) for hour in range(9, 16) for minute in range(0, 60, 5)]\n",
    "time_range = [x for x in time_range if x >= datetime.time(9,45)]\n",
    "df_val = pd.DataFrame()\n",
    "for t in time_range:\n",
    "    X_val = X_test.loc[X_test['time'] <= t].copy()\n",
    "    y_val = y_test.loc[X_val.index, 'green_day'].copy()\n",
    "\n",
    "    y_pred_val = pipeline_gd.predict_proba(X_val)[:,-1]\n",
    "\n",
    "    df_val.loc[t, [\n",
    "        'roc_auc',\n",
    "        'precision',\n",
    "        'recall'\n",
    "    ]] =  roc_auc_score(y_val, y_pred_val), precision_score(y_val, y_pred_val > 0.5), recall_score(y_val, y_pred_val > 0.5)\n",
    "\n",
    "\n",
    "fig = px.line(df_val, title='Validation Metrics Over Time (GD Model)')\n",
    "fig.show()"
   ]
  },
  {
   "cell_type": "code",
   "execution_count": 185,
   "metadata": {},
   "outputs": [],
   "source": [
    "df_results = X_test.copy()\n",
    "df_results['pred_hod'] = y_pred_hod\n",
    "df_results['pred_lod'] = y_pred_lod\n",
    "df_results['pred_gd'] = y_pred_gd"
   ]
  },
  {
   "cell_type": "code",
   "execution_count": 186,
   "metadata": {},
   "outputs": [
    {
     "data": {
      "text/plain": [
       "Timestamp('2023-03-02 09:45:00')"
      ]
     },
     "execution_count": 186,
     "metadata": {},
     "output_type": "execute_result"
    }
   ],
   "source": [
    "X_test.index[0]"
   ]
  },
  {
   "cell_type": "code",
   "execution_count": 187,
   "metadata": {},
   "outputs": [
    {
     "data": {
      "application/vnd.plotly.v1+json": {
       "config": {
        "plotlyServerURL": "https://plot.ly"
       },
       "data": [
        {
         "close": [
          4737.62,
          4736.96,
          4733.28,
          4731.62,
          4725.85,
          4732.71,
          4735.1,
          4742.23,
          4730.79,
          4735.58,
          4732.61,
          4734.82,
          4734.04,
          4729.73,
          4730.44,
          4733.26,
          4728.48,
          4730.15,
          4728.43,
          4731.69,
          4734.25,
          4731.48,
          4733.14,
          4731.26,
          4732.63,
          4729.1,
          4724.55,
          4716.96,
          4714.51,
          4715.12,
          4716.42,
          4716.05,
          4714.79,
          4715.67,
          4716.38,
          4717.75,
          4717.12,
          4713.93,
          4713.57,
          4718.9,
          4717.35,
          4716.23,
          4708.67,
          4719.21,
          4719.92,
          4720.04,
          4718.76,
          4718.47,
          4720.08,
          4722.31,
          4724.5,
          4724.17,
          4722.77,
          4721.44,
          4726.67,
          4722.79,
          4725.3,
          4727.37,
          4726.97,
          4728.42,
          4726.31,
          4725.76,
          4724.69,
          4725.18,
          4723.22,
          4727.61,
          4729.16,
          4730.34,
          4737.76,
          4738.07,
          4741.71,
          4739.99,
          4742.04,
          4745.54,
          4747.53
         ],
         "high": [
          4739.7,
          4739.7,
          4737.26,
          4736.6,
          4731.7,
          4733.77,
          4736.21,
          4743.06,
          4742.51,
          4735.58,
          4736.95,
          4736.13,
          4736.97,
          4734.04,
          4730.64,
          4734.58,
          4733.6,
          4730.8,
          4731,
          4731.8,
          4734.27,
          4734.65,
          4735.49,
          4733.15,
          4733.45,
          4732.64,
          4729.15,
          4724.82,
          4719.51,
          4717.82,
          4717.6,
          4716.82,
          4716.29,
          4721.06,
          4717.74,
          4720.21,
          4718.76,
          4718.59,
          4714.54,
          4719.64,
          4719.79,
          4719.76,
          4716.29,
          4720.16,
          4720.12,
          4723.24,
          4720.32,
          4720.19,
          4721.4,
          4723.34,
          4724.73,
          4725.35,
          4724.77,
          4724.48,
          4726.99,
          4726.62,
          4725.3,
          4727.37,
          4727.87,
          4728.47,
          4729.5,
          4727.98,
          4725.97,
          4726.5,
          4725.87,
          4728.14,
          4729.27,
          4730.92,
          4737.86,
          4739.14,
          4742.97,
          4742.91,
          4743.74,
          4747.1,
          4748.71
         ],
         "low": [
          4736.28,
          4736.85,
          4732.35,
          4731.62,
          4724.95,
          4725.37,
          4729.65,
          4734.97,
          4729.76,
          4730.98,
          4732.57,
          4730.71,
          4733.97,
          4728.72,
          4728.06,
          4729.4,
          4727.42,
          4727.26,
          4726.1,
          4727.64,
          4729.89,
          4730.7,
          4731.44,
          4731,
          4731.14,
          4729.1,
          4724.55,
          4716.96,
          4714.41,
          4714.32,
          4714.54,
          4713.87,
          4713.94,
          4714.47,
          4714.19,
          4715.84,
          4716.92,
          4713.85,
          4712.53,
          4713.93,
          4715.67,
          4715.84,
          4708.54,
          4708.35,
          4716.61,
          4719.58,
          4718.15,
          4717.39,
          4718.44,
          4719.34,
          4722.19,
          4723.27,
          4722.49,
          4721.07,
          4721.33,
          4722.53,
          4722.37,
          4723.85,
          4725.55,
          4726.94,
          4726.24,
          4725.52,
          4721.67,
          4723.3,
          4722.35,
          4723.01,
          4726.28,
          4729.07,
          4730,
          4735.92,
          4737.86,
          4739.71,
          4739.74,
          4742.23,
          4744.71
         ],
         "open": [
          4738.4,
          4737.44,
          4736.94,
          4733.27,
          4731.7,
          4725.83,
          4732.82,
          4735.08,
          4742.23,
          4730.98,
          4735.81,
          4732.77,
          4734.95,
          4734.02,
          4729.74,
          4730.59,
          4733.24,
          4728.49,
          4730.23,
          4728.4,
          4731.71,
          4734.23,
          4731.44,
          4733.07,
          4731.22,
          4732.64,
          4729.07,
          4724.55,
          4716.33,
          4714.51,
          4715.09,
          4716.43,
          4716.22,
          4714.83,
          4715.61,
          4716.33,
          4717.73,
          4717.08,
          4713.93,
          4713.93,
          4719.03,
          4717.31,
          4716.25,
          4708.65,
          4719.16,
          4719.85,
          4719.99,
          4718.69,
          4718.44,
          4720.12,
          4722.31,
          4724.51,
          4724.18,
          4722.77,
          4721.51,
          4726.58,
          4722.77,
          4725.34,
          4727.34,
          4727.01,
          4728.4,
          4726.28,
          4725.8,
          4724.68,
          4725.16,
          4723.22,
          4727.59,
          4729.15,
          4730.36,
          4738.01,
          4738.09,
          4741.71,
          4739.99,
          4742.26,
          4745.59
         ],
         "type": "candlestick",
         "x": [
          "2023-12-21T09:45:00",
          "2023-12-21T09:50:00",
          "2023-12-21T09:55:00",
          "2023-12-21T10:00:00",
          "2023-12-21T10:05:00",
          "2023-12-21T10:10:00",
          "2023-12-21T10:15:00",
          "2023-12-21T10:20:00",
          "2023-12-21T10:25:00",
          "2023-12-21T10:30:00",
          "2023-12-21T10:35:00",
          "2023-12-21T10:40:00",
          "2023-12-21T10:45:00",
          "2023-12-21T10:50:00",
          "2023-12-21T10:55:00",
          "2023-12-21T11:00:00",
          "2023-12-21T11:05:00",
          "2023-12-21T11:10:00",
          "2023-12-21T11:15:00",
          "2023-12-21T11:20:00",
          "2023-12-21T11:25:00",
          "2023-12-21T11:30:00",
          "2023-12-21T11:35:00",
          "2023-12-21T11:40:00",
          "2023-12-21T11:45:00",
          "2023-12-21T11:50:00",
          "2023-12-21T11:55:00",
          "2023-12-21T12:00:00",
          "2023-12-21T12:05:00",
          "2023-12-21T12:10:00",
          "2023-12-21T12:15:00",
          "2023-12-21T12:20:00",
          "2023-12-21T12:25:00",
          "2023-12-21T12:30:00",
          "2023-12-21T12:35:00",
          "2023-12-21T12:40:00",
          "2023-12-21T12:45:00",
          "2023-12-21T12:50:00",
          "2023-12-21T12:55:00",
          "2023-12-21T13:00:00",
          "2023-12-21T13:05:00",
          "2023-12-21T13:10:00",
          "2023-12-21T13:15:00",
          "2023-12-21T13:20:00",
          "2023-12-21T13:25:00",
          "2023-12-21T13:30:00",
          "2023-12-21T13:35:00",
          "2023-12-21T13:40:00",
          "2023-12-21T13:45:00",
          "2023-12-21T13:50:00",
          "2023-12-21T13:55:00",
          "2023-12-21T14:00:00",
          "2023-12-21T14:05:00",
          "2023-12-21T14:10:00",
          "2023-12-21T14:15:00",
          "2023-12-21T14:20:00",
          "2023-12-21T14:25:00",
          "2023-12-21T14:30:00",
          "2023-12-21T14:35:00",
          "2023-12-21T14:40:00",
          "2023-12-21T14:45:00",
          "2023-12-21T14:50:00",
          "2023-12-21T14:55:00",
          "2023-12-21T15:00:00",
          "2023-12-21T15:05:00",
          "2023-12-21T15:10:00",
          "2023-12-21T15:15:00",
          "2023-12-21T15:20:00",
          "2023-12-21T15:25:00",
          "2023-12-21T15:30:00",
          "2023-12-21T15:35:00",
          "2023-12-21T15:40:00",
          "2023-12-21T15:45:00",
          "2023-12-21T15:50:00",
          "2023-12-21T15:55:00"
         ]
        },
        {
         "line": {
          "color": "#ff5f5f"
         },
         "mode": "lines",
         "name": "pred_hod",
         "type": "scatter",
         "x": [
          "2023-12-21T09:45:00",
          "2023-12-21T09:50:00",
          "2023-12-21T09:55:00",
          "2023-12-21T10:00:00",
          "2023-12-21T10:05:00",
          "2023-12-21T10:10:00",
          "2023-12-21T10:15:00",
          "2023-12-21T10:20:00",
          "2023-12-21T10:25:00",
          "2023-12-21T10:30:00",
          "2023-12-21T10:35:00",
          "2023-12-21T10:40:00",
          "2023-12-21T10:45:00",
          "2023-12-21T10:50:00",
          "2023-12-21T10:55:00",
          "2023-12-21T11:00:00",
          "2023-12-21T11:05:00",
          "2023-12-21T11:10:00",
          "2023-12-21T11:15:00",
          "2023-12-21T11:20:00",
          "2023-12-21T11:25:00",
          "2023-12-21T11:30:00",
          "2023-12-21T11:35:00",
          "2023-12-21T11:40:00",
          "2023-12-21T11:45:00",
          "2023-12-21T11:50:00",
          "2023-12-21T11:55:00",
          "2023-12-21T12:00:00",
          "2023-12-21T12:05:00",
          "2023-12-21T12:10:00",
          "2023-12-21T12:15:00",
          "2023-12-21T12:20:00",
          "2023-12-21T12:25:00",
          "2023-12-21T12:30:00",
          "2023-12-21T12:35:00",
          "2023-12-21T12:40:00",
          "2023-12-21T12:45:00",
          "2023-12-21T12:50:00",
          "2023-12-21T12:55:00",
          "2023-12-21T13:00:00",
          "2023-12-21T13:05:00",
          "2023-12-21T13:10:00",
          "2023-12-21T13:15:00",
          "2023-12-21T13:20:00",
          "2023-12-21T13:25:00",
          "2023-12-21T13:30:00",
          "2023-12-21T13:35:00",
          "2023-12-21T13:40:00",
          "2023-12-21T13:45:00",
          "2023-12-21T13:50:00",
          "2023-12-21T13:55:00",
          "2023-12-21T14:00:00",
          "2023-12-21T14:05:00",
          "2023-12-21T14:10:00",
          "2023-12-21T14:15:00",
          "2023-12-21T14:20:00",
          "2023-12-21T14:25:00",
          "2023-12-21T14:30:00",
          "2023-12-21T14:35:00",
          "2023-12-21T14:40:00",
          "2023-12-21T14:45:00",
          "2023-12-21T14:50:00",
          "2023-12-21T14:55:00",
          "2023-12-21T15:00:00",
          "2023-12-21T15:05:00",
          "2023-12-21T15:10:00",
          "2023-12-21T15:15:00",
          "2023-12-21T15:20:00",
          "2023-12-21T15:25:00",
          "2023-12-21T15:30:00",
          "2023-12-21T15:35:00",
          "2023-12-21T15:40:00",
          "2023-12-21T15:45:00",
          "2023-12-21T15:50:00",
          "2023-12-21T15:55:00"
         ],
         "y": [
          0.20304723181633133,
          0.22046104864523758,
          0.29873205130492175,
          0.39067060079888644,
          0.5460986561370887,
          0.39386287618012406,
          0.31183092993595385,
          0.06355057128634098,
          0.5550290218826001,
          0.43064791254962304,
          0.5988375548309857,
          0.48879729614659534,
          0.5114814057466244,
          0.6956549543237059,
          0.6882790068042469,
          0.5719634709180529,
          0.7469724179986421,
          0.7166056356797447,
          0.7593348821044879,
          0.6903070707905877,
          0.6111288814170313,
          0.7445144580720785,
          0.6851233620008322,
          0.7530846084187739,
          0.7476169366760357,
          0.8385998836726487,
          0.8996466122124579,
          0.926223614808484,
          0.9297945775813471,
          0.9366144439624985,
          0.9374323525610294,
          0.9458641448112038,
          0.9482789034726163,
          0.945687950679153,
          0.9468426214182877,
          0.9453325241784925,
          0.9486297217789353,
          0.9452650050139885,
          0.9492426977385708,
          0.9275807099916756,
          0.958510979395606,
          0.9597925005048222,
          0.9652875084851116,
          0.9171236151321943,
          0.9078678161651905,
          0.9088292148983654,
          0.9294722070712373,
          0.9355334733422902,
          0.9144028898944612,
          0.8956773824920198,
          0.8611489235984817,
          0.8835980110983902,
          0.9054560759465863,
          0.9352040094870008,
          0.867304107861939,
          0.9324760206173105,
          0.8911043218398491,
          0.8831771302310538,
          0.9073789849377286,
          0.8768001547106126,
          0.9196597090130129,
          0.9324079249623677,
          0.9542822790557974,
          0.9543905878886404,
          0.9739481014132754,
          0.944843343716032,
          0.9318002933869088,
          0.9242187573513422,
          0.6683618608658337,
          0.690904770121343,
          0.2973303994501753,
          0.5860452374233179,
          0.2726667085962388,
          0.23997655250970332,
          0.9968825951705808
         ],
         "yaxis": "y2"
        },
        {
         "line": {
          "color": "#3399cc"
         },
         "mode": "lines",
         "name": "pred_lod",
         "type": "scatter",
         "x": [
          "2023-12-21T09:45:00",
          "2023-12-21T09:50:00",
          "2023-12-21T09:55:00",
          "2023-12-21T10:00:00",
          "2023-12-21T10:05:00",
          "2023-12-21T10:10:00",
          "2023-12-21T10:15:00",
          "2023-12-21T10:20:00",
          "2023-12-21T10:25:00",
          "2023-12-21T10:30:00",
          "2023-12-21T10:35:00",
          "2023-12-21T10:40:00",
          "2023-12-21T10:45:00",
          "2023-12-21T10:50:00",
          "2023-12-21T10:55:00",
          "2023-12-21T11:00:00",
          "2023-12-21T11:05:00",
          "2023-12-21T11:10:00",
          "2023-12-21T11:15:00",
          "2023-12-21T11:20:00",
          "2023-12-21T11:25:00",
          "2023-12-21T11:30:00",
          "2023-12-21T11:35:00",
          "2023-12-21T11:40:00",
          "2023-12-21T11:45:00",
          "2023-12-21T11:50:00",
          "2023-12-21T11:55:00",
          "2023-12-21T12:00:00",
          "2023-12-21T12:05:00",
          "2023-12-21T12:10:00",
          "2023-12-21T12:15:00",
          "2023-12-21T12:20:00",
          "2023-12-21T12:25:00",
          "2023-12-21T12:30:00",
          "2023-12-21T12:35:00",
          "2023-12-21T12:40:00",
          "2023-12-21T12:45:00",
          "2023-12-21T12:50:00",
          "2023-12-21T12:55:00",
          "2023-12-21T13:00:00",
          "2023-12-21T13:05:00",
          "2023-12-21T13:10:00",
          "2023-12-21T13:15:00",
          "2023-12-21T13:20:00",
          "2023-12-21T13:25:00",
          "2023-12-21T13:30:00",
          "2023-12-21T13:35:00",
          "2023-12-21T13:40:00",
          "2023-12-21T13:45:00",
          "2023-12-21T13:50:00",
          "2023-12-21T13:55:00",
          "2023-12-21T14:00:00",
          "2023-12-21T14:05:00",
          "2023-12-21T14:10:00",
          "2023-12-21T14:15:00",
          "2023-12-21T14:20:00",
          "2023-12-21T14:25:00",
          "2023-12-21T14:30:00",
          "2023-12-21T14:35:00",
          "2023-12-21T14:40:00",
          "2023-12-21T14:45:00",
          "2023-12-21T14:50:00",
          "2023-12-21T14:55:00",
          "2023-12-21T15:00:00",
          "2023-12-21T15:05:00",
          "2023-12-21T15:10:00",
          "2023-12-21T15:15:00",
          "2023-12-21T15:20:00",
          "2023-12-21T15:25:00",
          "2023-12-21T15:30:00",
          "2023-12-21T15:35:00",
          "2023-12-21T15:40:00",
          "2023-12-21T15:45:00",
          "2023-12-21T15:50:00",
          "2023-12-21T15:55:00"
         ],
         "y": [
          0.5106218770990869,
          0.548846674986935,
          0.3232249982705255,
          0.3002292033511639,
          0.11698708255644207,
          0.3780493681651312,
          0.5200412143567182,
          0.782001337907448,
          0.25921099806167625,
          0.5290923210957479,
          0.3612626134152535,
          0.4950293963968259,
          0.4734261524139897,
          0.2584720903265801,
          0.3033200248876187,
          0.490982625465314,
          0.2439654332962627,
          0.28981964845120367,
          0.2439654332962627,
          0.4076943658934301,
          0.5796125748210753,
          0.34149680809691213,
          0.5708229858116509,
          0.36740679737391385,
          0.5072204435755456,
          0.29700105005784194,
          0.10507812167152007,
          0.06254543707830228,
          0.06615799362748516,
          0.0974734603202465,
          0.15820505767278925,
          0.13400478688732687,
          0.11227460231870375,
          0.1287651819554929,
          0.1966025525534164,
          0.30151010394429134,
          0.2542888047429761,
          0.11162221637973993,
          0.08666101989307469,
          0.4061158973930909,
          0.3549735866486492,
          0.26554533045637685,
          0.07673812896021749,
          0.6171260263166627,
          0.6428325705908876,
          0.6284919645387664,
          0.5973129985467119,
          0.5902819202820339,
          0.6337553482749135,
          0.7219762604252103,
          0.7398859246483079,
          0.7279508723651323,
          0.7056934404254493,
          0.523554676138431,
          0.7859573814382621,
          0.7084848807187818,
          0.8014743117640056,
          0.7600150784213233,
          0.8594348195686438,
          0.8504581480644189,
          0.8694116640626584,
          0.8560698537633389,
          0.7826113216562605,
          0.8327318428619346,
          0.8173604868994732,
          0.9095895558159388,
          0.9504734977201978,
          0.9717191813084877,
          0.9936723223497335,
          0.9951244563889058,
          0.9965952740717668,
          0.9963424052862514,
          0.9973412952780598,
          0.9981315363366673,
          0.9995047071369659
         ],
         "yaxis": "y2"
        },
        {
         "line": {
          "color": "#98ff98"
         },
         "mode": "lines",
         "name": "pred_lod",
         "type": "scatter",
         "x": [
          "2023-12-21T09:45:00",
          "2023-12-21T09:50:00",
          "2023-12-21T09:55:00",
          "2023-12-21T10:00:00",
          "2023-12-21T10:05:00",
          "2023-12-21T10:10:00",
          "2023-12-21T10:15:00",
          "2023-12-21T10:20:00",
          "2023-12-21T10:25:00",
          "2023-12-21T10:30:00",
          "2023-12-21T10:35:00",
          "2023-12-21T10:40:00",
          "2023-12-21T10:45:00",
          "2023-12-21T10:50:00",
          "2023-12-21T10:55:00",
          "2023-12-21T11:00:00",
          "2023-12-21T11:05:00",
          "2023-12-21T11:10:00",
          "2023-12-21T11:15:00",
          "2023-12-21T11:20:00",
          "2023-12-21T11:25:00",
          "2023-12-21T11:30:00",
          "2023-12-21T11:35:00",
          "2023-12-21T11:40:00",
          "2023-12-21T11:45:00",
          "2023-12-21T11:50:00",
          "2023-12-21T11:55:00",
          "2023-12-21T12:00:00",
          "2023-12-21T12:05:00",
          "2023-12-21T12:10:00",
          "2023-12-21T12:15:00",
          "2023-12-21T12:20:00",
          "2023-12-21T12:25:00",
          "2023-12-21T12:30:00",
          "2023-12-21T12:35:00",
          "2023-12-21T12:40:00",
          "2023-12-21T12:45:00",
          "2023-12-21T12:50:00",
          "2023-12-21T12:55:00",
          "2023-12-21T13:00:00",
          "2023-12-21T13:05:00",
          "2023-12-21T13:10:00",
          "2023-12-21T13:15:00",
          "2023-12-21T13:20:00",
          "2023-12-21T13:25:00",
          "2023-12-21T13:30:00",
          "2023-12-21T13:35:00",
          "2023-12-21T13:40:00",
          "2023-12-21T13:45:00",
          "2023-12-21T13:50:00",
          "2023-12-21T13:55:00",
          "2023-12-21T14:00:00",
          "2023-12-21T14:05:00",
          "2023-12-21T14:10:00",
          "2023-12-21T14:15:00",
          "2023-12-21T14:20:00",
          "2023-12-21T14:25:00",
          "2023-12-21T14:30:00",
          "2023-12-21T14:35:00",
          "2023-12-21T14:40:00",
          "2023-12-21T14:45:00",
          "2023-12-21T14:50:00",
          "2023-12-21T14:55:00",
          "2023-12-21T15:00:00",
          "2023-12-21T15:05:00",
          "2023-12-21T15:10:00",
          "2023-12-21T15:15:00",
          "2023-12-21T15:20:00",
          "2023-12-21T15:25:00",
          "2023-12-21T15:30:00",
          "2023-12-21T15:35:00",
          "2023-12-21T15:40:00",
          "2023-12-21T15:45:00",
          "2023-12-21T15:50:00",
          "2023-12-21T15:55:00"
         ],
         "y": [
          0.9244089743149618,
          0.9126189781722386,
          0.8525490470278202,
          0.8158916407232112,
          0.729166069130637,
          0.8538128149077786,
          0.9035431962659728,
          0.9293041777037826,
          0.7685358624551948,
          0.8670945844182837,
          0.802944101759889,
          0.8854629586223283,
          0.8708289856483802,
          0.8210188753103149,
          0.8305435287378012,
          0.8736116658799683,
          0.7724522180407465,
          0.7899596399971882,
          0.6892675574942284,
          0.8183815064197271,
          0.9327901665089811,
          0.8257981230876437,
          0.8549022160072306,
          0.834876787922842,
          0.8430479172909138,
          0.756246855429097,
          0.6416682711044619,
          0.6464953579558088,
          0.7049166467500879,
          0.7049166467500879,
          0.6442581381961715,
          0.7178599256852168,
          0.7016906826883741,
          0.707204649041953,
          0.6410125895400702,
          0.5149726318843124,
          0.5149726318843124,
          0.6851666534697322,
          0.6870463771423356,
          0.5358566179262423,
          0.5154334972208138,
          0.722171576730296,
          0.6452273231681054,
          0.6293885000767873,
          0.6675548899007204,
          0.6675548899007204,
          0.6219386670369874,
          0.6077142777391301,
          0.6982760962524874,
          0.8749730403797826,
          0.8955081039420643,
          0.9022220799394209,
          0.897706337300865,
          0.7690790574881617,
          0.9392489534620103,
          0.897706337300865,
          0.9288107419291113,
          0.9432453164991575,
          0.9432453164991575,
          0.9514678524815874,
          0.9490643545478477,
          0.9506616068293593,
          0.9493089805759068,
          0.9556662599112044,
          0.9475139261687461,
          0.9667608560703196,
          0.9766003039607636,
          0.9836379025729531,
          0.9861263994874122,
          0.9846447257040915,
          0.9867719112919404,
          0.9864424773748385,
          0.9902641774680216,
          0.9887767311461759,
          0.98879302263068
         ],
         "yaxis": "y2"
        }
       ],
       "layout": {
        "legend": {
         "orientation": "h",
         "x": 1,
         "xanchor": "right",
         "y": 1.02,
         "yanchor": "bottom"
        },
        "shapes": [
         {
          "line": {
           "color": "Red",
           "dash": "dash",
           "width": 1.5
          },
          "type": "line",
          "x0": "2023-12-21T09:45:00",
          "x1": "2023-12-21T15:55:00",
          "y0": 0.5,
          "y1": 0.5,
          "yref": "y2"
         }
        ],
        "template": {
         "data": {
          "bar": [
           {
            "error_x": {
             "color": "#f2f5fa"
            },
            "error_y": {
             "color": "#f2f5fa"
            },
            "marker": {
             "line": {
              "color": "rgb(17,17,17)",
              "width": 0.5
             },
             "pattern": {
              "fillmode": "overlay",
              "size": 10,
              "solidity": 0.2
             }
            },
            "type": "bar"
           }
          ],
          "barpolar": [
           {
            "marker": {
             "line": {
              "color": "rgb(17,17,17)",
              "width": 0.5
             },
             "pattern": {
              "fillmode": "overlay",
              "size": 10,
              "solidity": 0.2
             }
            },
            "type": "barpolar"
           }
          ],
          "carpet": [
           {
            "aaxis": {
             "endlinecolor": "#A2B1C6",
             "gridcolor": "#506784",
             "linecolor": "#506784",
             "minorgridcolor": "#506784",
             "startlinecolor": "#A2B1C6"
            },
            "baxis": {
             "endlinecolor": "#A2B1C6",
             "gridcolor": "#506784",
             "linecolor": "#506784",
             "minorgridcolor": "#506784",
             "startlinecolor": "#A2B1C6"
            },
            "type": "carpet"
           }
          ],
          "choropleth": [
           {
            "colorbar": {
             "outlinewidth": 0,
             "ticks": ""
            },
            "type": "choropleth"
           }
          ],
          "contour": [
           {
            "colorbar": {
             "outlinewidth": 0,
             "ticks": ""
            },
            "colorscale": [
             [
              0,
              "#0d0887"
             ],
             [
              0.1111111111111111,
              "#46039f"
             ],
             [
              0.2222222222222222,
              "#7201a8"
             ],
             [
              0.3333333333333333,
              "#9c179e"
             ],
             [
              0.4444444444444444,
              "#bd3786"
             ],
             [
              0.5555555555555556,
              "#d8576b"
             ],
             [
              0.6666666666666666,
              "#ed7953"
             ],
             [
              0.7777777777777778,
              "#fb9f3a"
             ],
             [
              0.8888888888888888,
              "#fdca26"
             ],
             [
              1,
              "#f0f921"
             ]
            ],
            "type": "contour"
           }
          ],
          "contourcarpet": [
           {
            "colorbar": {
             "outlinewidth": 0,
             "ticks": ""
            },
            "type": "contourcarpet"
           }
          ],
          "heatmap": [
           {
            "colorbar": {
             "outlinewidth": 0,
             "ticks": ""
            },
            "colorscale": [
             [
              0,
              "#0d0887"
             ],
             [
              0.1111111111111111,
              "#46039f"
             ],
             [
              0.2222222222222222,
              "#7201a8"
             ],
             [
              0.3333333333333333,
              "#9c179e"
             ],
             [
              0.4444444444444444,
              "#bd3786"
             ],
             [
              0.5555555555555556,
              "#d8576b"
             ],
             [
              0.6666666666666666,
              "#ed7953"
             ],
             [
              0.7777777777777778,
              "#fb9f3a"
             ],
             [
              0.8888888888888888,
              "#fdca26"
             ],
             [
              1,
              "#f0f921"
             ]
            ],
            "type": "heatmap"
           }
          ],
          "heatmapgl": [
           {
            "colorbar": {
             "outlinewidth": 0,
             "ticks": ""
            },
            "colorscale": [
             [
              0,
              "#0d0887"
             ],
             [
              0.1111111111111111,
              "#46039f"
             ],
             [
              0.2222222222222222,
              "#7201a8"
             ],
             [
              0.3333333333333333,
              "#9c179e"
             ],
             [
              0.4444444444444444,
              "#bd3786"
             ],
             [
              0.5555555555555556,
              "#d8576b"
             ],
             [
              0.6666666666666666,
              "#ed7953"
             ],
             [
              0.7777777777777778,
              "#fb9f3a"
             ],
             [
              0.8888888888888888,
              "#fdca26"
             ],
             [
              1,
              "#f0f921"
             ]
            ],
            "type": "heatmapgl"
           }
          ],
          "histogram": [
           {
            "marker": {
             "pattern": {
              "fillmode": "overlay",
              "size": 10,
              "solidity": 0.2
             }
            },
            "type": "histogram"
           }
          ],
          "histogram2d": [
           {
            "colorbar": {
             "outlinewidth": 0,
             "ticks": ""
            },
            "colorscale": [
             [
              0,
              "#0d0887"
             ],
             [
              0.1111111111111111,
              "#46039f"
             ],
             [
              0.2222222222222222,
              "#7201a8"
             ],
             [
              0.3333333333333333,
              "#9c179e"
             ],
             [
              0.4444444444444444,
              "#bd3786"
             ],
             [
              0.5555555555555556,
              "#d8576b"
             ],
             [
              0.6666666666666666,
              "#ed7953"
             ],
             [
              0.7777777777777778,
              "#fb9f3a"
             ],
             [
              0.8888888888888888,
              "#fdca26"
             ],
             [
              1,
              "#f0f921"
             ]
            ],
            "type": "histogram2d"
           }
          ],
          "histogram2dcontour": [
           {
            "colorbar": {
             "outlinewidth": 0,
             "ticks": ""
            },
            "colorscale": [
             [
              0,
              "#0d0887"
             ],
             [
              0.1111111111111111,
              "#46039f"
             ],
             [
              0.2222222222222222,
              "#7201a8"
             ],
             [
              0.3333333333333333,
              "#9c179e"
             ],
             [
              0.4444444444444444,
              "#bd3786"
             ],
             [
              0.5555555555555556,
              "#d8576b"
             ],
             [
              0.6666666666666666,
              "#ed7953"
             ],
             [
              0.7777777777777778,
              "#fb9f3a"
             ],
             [
              0.8888888888888888,
              "#fdca26"
             ],
             [
              1,
              "#f0f921"
             ]
            ],
            "type": "histogram2dcontour"
           }
          ],
          "mesh3d": [
           {
            "colorbar": {
             "outlinewidth": 0,
             "ticks": ""
            },
            "type": "mesh3d"
           }
          ],
          "parcoords": [
           {
            "line": {
             "colorbar": {
              "outlinewidth": 0,
              "ticks": ""
             }
            },
            "type": "parcoords"
           }
          ],
          "pie": [
           {
            "automargin": true,
            "type": "pie"
           }
          ],
          "scatter": [
           {
            "marker": {
             "line": {
              "color": "#283442"
             }
            },
            "type": "scatter"
           }
          ],
          "scatter3d": [
           {
            "line": {
             "colorbar": {
              "outlinewidth": 0,
              "ticks": ""
             }
            },
            "marker": {
             "colorbar": {
              "outlinewidth": 0,
              "ticks": ""
             }
            },
            "type": "scatter3d"
           }
          ],
          "scattercarpet": [
           {
            "marker": {
             "colorbar": {
              "outlinewidth": 0,
              "ticks": ""
             }
            },
            "type": "scattercarpet"
           }
          ],
          "scattergeo": [
           {
            "marker": {
             "colorbar": {
              "outlinewidth": 0,
              "ticks": ""
             }
            },
            "type": "scattergeo"
           }
          ],
          "scattergl": [
           {
            "marker": {
             "line": {
              "color": "#283442"
             }
            },
            "type": "scattergl"
           }
          ],
          "scattermapbox": [
           {
            "marker": {
             "colorbar": {
              "outlinewidth": 0,
              "ticks": ""
             }
            },
            "type": "scattermapbox"
           }
          ],
          "scatterpolar": [
           {
            "marker": {
             "colorbar": {
              "outlinewidth": 0,
              "ticks": ""
             }
            },
            "type": "scatterpolar"
           }
          ],
          "scatterpolargl": [
           {
            "marker": {
             "colorbar": {
              "outlinewidth": 0,
              "ticks": ""
             }
            },
            "type": "scatterpolargl"
           }
          ],
          "scatterternary": [
           {
            "marker": {
             "colorbar": {
              "outlinewidth": 0,
              "ticks": ""
             }
            },
            "type": "scatterternary"
           }
          ],
          "surface": [
           {
            "colorbar": {
             "outlinewidth": 0,
             "ticks": ""
            },
            "colorscale": [
             [
              0,
              "#0d0887"
             ],
             [
              0.1111111111111111,
              "#46039f"
             ],
             [
              0.2222222222222222,
              "#7201a8"
             ],
             [
              0.3333333333333333,
              "#9c179e"
             ],
             [
              0.4444444444444444,
              "#bd3786"
             ],
             [
              0.5555555555555556,
              "#d8576b"
             ],
             [
              0.6666666666666666,
              "#ed7953"
             ],
             [
              0.7777777777777778,
              "#fb9f3a"
             ],
             [
              0.8888888888888888,
              "#fdca26"
             ],
             [
              1,
              "#f0f921"
             ]
            ],
            "type": "surface"
           }
          ],
          "table": [
           {
            "cells": {
             "fill": {
              "color": "#506784"
             },
             "line": {
              "color": "rgb(17,17,17)"
             }
            },
            "header": {
             "fill": {
              "color": "#2a3f5f"
             },
             "line": {
              "color": "rgb(17,17,17)"
             }
            },
            "type": "table"
           }
          ]
         },
         "layout": {
          "annotationdefaults": {
           "arrowcolor": "#f2f5fa",
           "arrowhead": 0,
           "arrowwidth": 1
          },
          "autotypenumbers": "strict",
          "coloraxis": {
           "colorbar": {
            "outlinewidth": 0,
            "ticks": ""
           }
          },
          "colorscale": {
           "diverging": [
            [
             0,
             "#8e0152"
            ],
            [
             0.1,
             "#c51b7d"
            ],
            [
             0.2,
             "#de77ae"
            ],
            [
             0.3,
             "#f1b6da"
            ],
            [
             0.4,
             "#fde0ef"
            ],
            [
             0.5,
             "#f7f7f7"
            ],
            [
             0.6,
             "#e6f5d0"
            ],
            [
             0.7,
             "#b8e186"
            ],
            [
             0.8,
             "#7fbc41"
            ],
            [
             0.9,
             "#4d9221"
            ],
            [
             1,
             "#276419"
            ]
           ],
           "sequential": [
            [
             0,
             "#0d0887"
            ],
            [
             0.1111111111111111,
             "#46039f"
            ],
            [
             0.2222222222222222,
             "#7201a8"
            ],
            [
             0.3333333333333333,
             "#9c179e"
            ],
            [
             0.4444444444444444,
             "#bd3786"
            ],
            [
             0.5555555555555556,
             "#d8576b"
            ],
            [
             0.6666666666666666,
             "#ed7953"
            ],
            [
             0.7777777777777778,
             "#fb9f3a"
            ],
            [
             0.8888888888888888,
             "#fdca26"
            ],
            [
             1,
             "#f0f921"
            ]
           ],
           "sequentialminus": [
            [
             0,
             "#0d0887"
            ],
            [
             0.1111111111111111,
             "#46039f"
            ],
            [
             0.2222222222222222,
             "#7201a8"
            ],
            [
             0.3333333333333333,
             "#9c179e"
            ],
            [
             0.4444444444444444,
             "#bd3786"
            ],
            [
             0.5555555555555556,
             "#d8576b"
            ],
            [
             0.6666666666666666,
             "#ed7953"
            ],
            [
             0.7777777777777778,
             "#fb9f3a"
            ],
            [
             0.8888888888888888,
             "#fdca26"
            ],
            [
             1,
             "#f0f921"
            ]
           ]
          },
          "colorway": [
           "#636efa",
           "#EF553B",
           "#00cc96",
           "#ab63fa",
           "#FFA15A",
           "#19d3f3",
           "#FF6692",
           "#B6E880",
           "#FF97FF",
           "#FECB52"
          ],
          "font": {
           "color": "#f2f5fa"
          },
          "geo": {
           "bgcolor": "rgb(17,17,17)",
           "lakecolor": "rgb(17,17,17)",
           "landcolor": "rgb(17,17,17)",
           "showlakes": true,
           "showland": true,
           "subunitcolor": "#506784"
          },
          "hoverlabel": {
           "align": "left"
          },
          "hovermode": "closest",
          "mapbox": {
           "style": "dark"
          },
          "paper_bgcolor": "rgb(17,17,17)",
          "plot_bgcolor": "rgb(17,17,17)",
          "polar": {
           "angularaxis": {
            "gridcolor": "#506784",
            "linecolor": "#506784",
            "ticks": ""
           },
           "bgcolor": "rgb(17,17,17)",
           "radialaxis": {
            "gridcolor": "#506784",
            "linecolor": "#506784",
            "ticks": ""
           }
          },
          "scene": {
           "xaxis": {
            "backgroundcolor": "rgb(17,17,17)",
            "gridcolor": "#506784",
            "gridwidth": 2,
            "linecolor": "#506784",
            "showbackground": true,
            "ticks": "",
            "zerolinecolor": "#C8D4E3"
           },
           "yaxis": {
            "backgroundcolor": "rgb(17,17,17)",
            "gridcolor": "#506784",
            "gridwidth": 2,
            "linecolor": "#506784",
            "showbackground": true,
            "ticks": "",
            "zerolinecolor": "#C8D4E3"
           },
           "zaxis": {
            "backgroundcolor": "rgb(17,17,17)",
            "gridcolor": "#506784",
            "gridwidth": 2,
            "linecolor": "#506784",
            "showbackground": true,
            "ticks": "",
            "zerolinecolor": "#C8D4E3"
           }
          },
          "shapedefaults": {
           "line": {
            "color": "#f2f5fa"
           }
          },
          "sliderdefaults": {
           "bgcolor": "#C8D4E3",
           "bordercolor": "rgb(17,17,17)",
           "borderwidth": 1,
           "tickwidth": 0
          },
          "ternary": {
           "aaxis": {
            "gridcolor": "#506784",
            "linecolor": "#506784",
            "ticks": ""
           },
           "baxis": {
            "gridcolor": "#506784",
            "linecolor": "#506784",
            "ticks": ""
           },
           "bgcolor": "rgb(17,17,17)",
           "caxis": {
            "gridcolor": "#506784",
            "linecolor": "#506784",
            "ticks": ""
           }
          },
          "title": {
           "x": 0.05
          },
          "updatemenudefaults": {
           "bgcolor": "#506784",
           "borderwidth": 0
          },
          "xaxis": {
           "automargin": true,
           "gridcolor": "#283442",
           "linecolor": "#506784",
           "ticks": "",
           "title": {
            "standoff": 15
           },
           "zerolinecolor": "#283442",
           "zerolinewidth": 2
          },
          "yaxis": {
           "automargin": true,
           "gridcolor": "#283442",
           "linecolor": "#506784",
           "ticks": "",
           "title": {
            "standoff": 15
           },
           "zerolinecolor": "#283442",
           "zerolinewidth": 2
          }
         }
        },
        "title": {
         "text": "OHLC vs Prediction Over Time"
        },
        "xaxis": {
         "rangeslider": {
          "visible": false
         }
        },
        "yaxis": {
         "tickformat": ".0f"
        },
        "yaxis2": {
         "overlaying": "y",
         "side": "right",
         "tickformat": ".0%"
        }
       }
      }
     },
     "metadata": {},
     "output_type": "display_data"
    }
   ],
   "source": [
    "import plotly.graph_objects as go\n",
    "\n",
    "# Pick a day in the test set\n",
    "test_day = '2023-12-21'\n",
    "test_df = df_results.loc[test_day:test_day]\n",
    "X_prices = spx_data.loc[test_day:test_day, ['open','high','low','close']]\n",
    "\n",
    "df_viz = test_df.merge(X_prices, left_index=True, right_index=True)\n",
    "\n",
    "fig = go.Figure(data=[go.Candlestick(x=df_viz.index,\n",
    "                open=df_viz['open'],\n",
    "                high=df_viz['high'],\n",
    "                low=df_viz['low'],\n",
    "                close=df_viz['close'])])\n",
    "\n",
    "fig.add_trace(go.Scatter(x=df_viz.index, y=df_viz['pred_hod'], mode='lines', name='pred_hod', yaxis='y2', line=dict(color='#ff5f5f')))\n",
    "fig.add_trace(go.Scatter(x=df_viz.index, y=df_viz['pred_lod'], mode='lines', name='pred_lod', yaxis='y2', line=dict(color='#3399cc')))\n",
    "fig.add_trace(go.Scatter(x=df_viz.index, y=df_viz['pred_gd'], mode='lines', name='pred_lod', yaxis='y2', line=dict(color='#98ff98')))\n",
    "\n",
    "fig.add_shape(\n",
    "    type=\"line\",\n",
    "    x0=df_viz.index.min(),\n",
    "    x1=df_viz.index.max(),\n",
    "    y0=0.5,\n",
    "    y1=0.5,\n",
    "    yref='y2',\n",
    "    line=dict(\n",
    "        color=\"Red\",\n",
    "        width=1.5,\n",
    "        dash=\"dash\",\n",
    "    )\n",
    ")\n",
    "\n",
    "fig.update_layout(\n",
    "    template='plotly_dark',\n",
    "    yaxis=dict(\n",
    "        tickformat='.0f'\n",
    "    ),\n",
    "    yaxis2=dict(\n",
    "        overlaying='y',\n",
    "        side='right',\n",
    "        tickformat=\".0%\"\n",
    "    ),\n",
    "    legend=dict(\n",
    "        orientation=\"h\",\n",
    "        yanchor=\"bottom\",\n",
    "        y=1.02,\n",
    "        xanchor=\"right\",\n",
    "        x=1\n",
    "    ),\n",
    "    title='OHLC vs Prediction Over Time',\n",
    "    xaxis_rangeslider_visible=False\n",
    ")\n",
    "\n",
    "fig.show()"
   ]
  },
  {
   "cell_type": "code",
   "execution_count": 188,
   "metadata": {},
   "outputs": [
    {
     "ename": "NameError",
     "evalue": "name 'XXX' is not defined",
     "output_type": "error",
     "traceback": [
      "\u001b[1;31m---------------------------------------------------------------------------\u001b[0m",
      "\u001b[1;31mNameError\u001b[0m                                 Traceback (most recent call last)",
      "\u001b[1;32md:\\Projects\\session-extrema-model\\lower_tf_research_tops_bottoms.ipynb Cell 50\u001b[0m line \u001b[0;36m1\n\u001b[1;32m----> <a href='vscode-notebook-cell:/d%3A/Projects/session-extrema-model/lower_tf_research_tops_bottoms.ipynb#Y453sZmlsZQ%3D%3D?line=0'>1</a>\u001b[0m XXX\n",
      "\u001b[1;31mNameError\u001b[0m: name 'XXX' is not defined"
     ]
    }
   ],
   "source": [
    "XXX"
   ]
  },
  {
   "cell_type": "markdown",
   "metadata": {},
   "source": [
    "# Inference Pipeline"
   ]
  },
  {
   "cell_type": "code",
   "execution_count": null,
   "metadata": {},
   "outputs": [],
   "source": [
    "# Get data\n",
    "import yfinance as yf\n",
    "import numpy as np\n",
    "import pandas as pd\n",
    "import datetime\n",
    "\n",
    "def create_features(ticker_str):\n",
    "    '''\n",
    "    Function to create dataframe of features for top/bottom model.\n",
    "    '''\n",
    "    ticker = yf.Ticker(ticker_str)\n",
    "    df = ticker.history(period='5d',interval='5m')\n",
    "    df = df.loc[\n",
    "        (df.index.time >= datetime.time(9,45)) &\\\n",
    "        (df.index.time < datetime.time(16,0)),\n",
    "    ['Open','High','Low','Close']]\n",
    "    df.columns = ['open','high','low','close']\n",
    "\n",
    "    df['time'] = df.index.time\n",
    "    df['eod_close'] = df.groupby(df.index.date)['close'].tail(1)\n",
    "    df['prev_close'] = df['eod_close'].shift(1)\n",
    "    df['prev_close'] = df['prev_close'].ffill()\n",
    "    df['eod_close'] = df['eod_close'].bfill()\n",
    "    df['green_day'] = df['eod_close'] > df['prev_close']\n",
    "\n",
    "    df['eod_close_pts'] = df['eod_close'] - df['prev_close']\n",
    "    df['eod_close_pct'] = df['eod_close_pts'] / df['prev_close']\n",
    "\n",
    "    for day in sorted(set(df.index.date)):\n",
    "        day_str = datetime.datetime.strftime(day, '%Y-%m-%d')\n",
    "        day_open = df.loc[day_str, 'open'].iloc[0]\n",
    "        df.loc[day_str, 'lod'] = df.loc[day_str, 'low'].min()\n",
    "        df.loc[day_str, 'label_lod'] = (df.loc[day_str, 'low'] == df.loc[day_str, 'lod']).astype(int)\n",
    "        \n",
    "        df.loc[day_str, 'hod'] = df.loc[day_str, 'high'].max()\n",
    "        df.loc[day_str, 'label'] = (df.loc[day_str, 'high'] == df.loc[day_str, 'hod']).astype(int)\n",
    "        df.loc[day_str, 'day_open'] = day_open\n",
    "        df.loc[day_str, 'day_open_pts'] = df.loc[day_str, 'close'] - df.loc[day_str, 'day_open']\n",
    "        df.loc[day_str, 'day_open_pct'] = df.loc[day_str, 'day_open_pts'] / df.loc[day_str, 'day_open']\n",
    "        df.loc[day_str, 'prev_close_pts'] = df.loc[day_str, 'close'] - df.loc[day_str, 'prev_close']\n",
    "        df.loc[day_str, 'prev_close_pct'] = df.loc[day_str, 'prev_close_pts'] / df.loc[day_str, 'prev_close']\n",
    "\n",
    "        # Lowest low\n",
    "        df.loc[day_str, 'lowest_low'] = df.loc[day_str, 'low'].expanding().min()\n",
    "        df.loc[day_str, 'lowest_low'] = df.loc[day_str, 'lowest_low'].shift(1)\n",
    "        df.loc[day_str, 'lowest_low'] = df.loc[day_str, 'lowest_low'].ffill()\n",
    "        df.loc[day_str, 'lowest_low_mag'] = (df.loc[day_str, 'close'] / df.loc[day_str, 'lowest_low']) - 1\n",
    "\n",
    "        # Highest high\n",
    "        df.loc[day_str, 'highest_high'] = df.loc[day_str, 'high'].expanding().max()\n",
    "        df.loc[day_str, 'highest_high'] = df.loc[day_str, 'highest_high'].shift(1)\n",
    "        df.loc[day_str, 'highest_high'] = df.loc[day_str, 'highest_high'].ffill()\n",
    "        df.loc[day_str, 'highest_high_mag'] = (df.loc[day_str, 'close'] / df.loc[day_str, 'highest_high']) - 1\n",
    "\n",
    "        # Shifted\n",
    "        df.loc[day_str, 'prev_close_pct_n1'] = df.loc[day_str, 'prev_close_pct'].shift(1)\n",
    "        df.loc[day_str, 'prev_close_pct_n2'] = df.loc[day_str, 'prev_close_pct'].shift(2)\n",
    "        df.loc[day_str, 'prev_close_pct_n3'] = df.loc[day_str, 'prev_close_pct'].shift(3)\n",
    "\n",
    "        df.loc[day_str, 'day_open_pct_n1'] = df.loc[day_str, 'day_open_pct'].shift(1)\n",
    "        df.loc[day_str, 'day_open_pct_n2'] = df.loc[day_str, 'day_open_pct'].shift(2)\n",
    "        df.loc[day_str, 'day_open_pct_n3'] = df.loc[day_str, 'day_open_pct'].shift(3)\n",
    "\n",
    "    df['gap_open'] = df['day_open'] - df['prev_close']\n",
    "    df['gap_open_pct'] = df['gap_open'] / df['prev_close']\n",
    "    return df.dropna(subset=[\n",
    "        'prev_close_pct',\n",
    "        'gap_open_pct',\n",
    "        'day_open_pct_n3',\n",
    "        'prev_close_pct_n3'\n",
    "    ])"
   ]
  },
  {
   "cell_type": "code",
   "execution_count": null,
   "metadata": {},
   "outputs": [],
   "source": [
    "import joblib\n",
    "\n",
    "df_feats = create_features(tck)"
   ]
  },
  {
   "cell_type": "code",
   "execution_count": null,
   "metadata": {},
   "outputs": [],
   "source": [
    "\n",
    "hod_model1 = joblib.load(ticker_dict[tck]['hod_model'])\n",
    "lod_model1 = joblib.load(ticker_dict[tck]['lod_model'])\n",
    "gd_model1 = joblib.load(ticker_dict[tck]['gd_model'])\n",
    "\n",
    "def create_preds_df(df_feats):\n",
    "    predicted_proba_hod = hod_model1.predict_proba(df_feats)[:,-1]\n",
    "    predicted_proba_lod = lod_model1.predict_proba(df_feats)[:,-1]\n",
    "    predicted_proba_gd = gd_model1.predict_proba(df_feats)[:,-1]\n",
    "    df_viz = df_feats.copy()\n",
    "    df_viz['pred_hod'] = predicted_proba_hod\n",
    "    df_viz['pred_lod'] = predicted_proba_lod\n",
    "    df_viz['pred_gd'] = predicted_proba_gd\n",
    "    return df_viz\n",
    "\n",
    "df_viz = create_preds_df(df_feats)"
   ]
  },
  {
   "cell_type": "code",
   "execution_count": null,
   "metadata": {},
   "outputs": [],
   "source": [
    "# Create df for visual\n",
    "def create_viz(df_viz, date_str):\n",
    "\n",
    "    df_use = df_viz.loc[date_str:date_str]\n",
    "    \n",
    "    fig = go.Figure(data=[go.Candlestick(x=df_use.index,\n",
    "                open=df_use['open'],\n",
    "                high=df_use['high'],\n",
    "                low=df_use['low'],\n",
    "                close=df_use['close'])])\n",
    "\n",
    "    fig.add_trace(go.Scatter(x=df_use.index, y=df_use['pred_hod'], mode='lines', name='pred_hod', yaxis='y2', line=dict(color='#ff5f5f')))\n",
    "    fig.add_trace(go.Scatter(x=df_use.index, y=df_use['pred_lod'], mode='lines', name='pred_lod', yaxis='y2', line=dict(color='#3399cc')))\n",
    "    fig.add_trace(go.Scatter(x=df_use.index, y=df_use['pred_gd'], mode='lines', name='pred_gd', yaxis='y2', line=dict(color='#9400d3')))\n",
    "\n",
    "\n",
    "    fig.add_shape(\n",
    "        type=\"line\",\n",
    "        x0=df_use.index.min(),\n",
    "        x1=df_use.index.max(),\n",
    "        y0=0.5,\n",
    "        y1=0.5,\n",
    "        yref='y2',\n",
    "        line=dict(\n",
    "            color=\"Red\",\n",
    "            width=1.5,\n",
    "            dash=\"dash\",\n",
    "        )\n",
    "    )\n",
    "\n",
    "    max_high = df_use['high'].max()\n",
    "    max_high_time = df_use['high'].idxmax()\n",
    "\n",
    "    min_low = df_use['low'].min()\n",
    "    min_low_time = df_use['low'].idxmin()\n",
    "\n",
    "    fig.add_annotation(\n",
    "        x=max_high_time,\n",
    "        y=max_high,\n",
    "        text=f\"{str(int(max_high))}\",\n",
    "        showarrow=True,\n",
    "        font=dict(\n",
    "            family=\"Courier New, monospace\",\n",
    "            size=12,\n",
    "            color=\"#ffffff\"\n",
    "        ),\n",
    "        align=\"center\",\n",
    "        arrowhead=2,\n",
    "        arrowsize=1,\n",
    "        arrowwidth=2,\n",
    "        arrowcolor=\"#636363\",\n",
    "        ax=20,\n",
    "        ay=-30,\n",
    "        bordercolor=\"#c7c7c7\",\n",
    "        borderwidth=1,\n",
    "        borderpad=1,\n",
    "        bgcolor=\"#ff5f5f\",\n",
    "        opacity=0.8\n",
    "    )\n",
    "\n",
    "    fig.add_annotation(\n",
    "        x=min_low_time,\n",
    "        y=min_low,\n",
    "        text=f\"{str(int(min_low))}\",\n",
    "        showarrow=True,\n",
    "        font=dict(\n",
    "            family=\"Courier New, monospace\",\n",
    "            size=12,\n",
    "            color=\"#ffffff\"\n",
    "        ),\n",
    "        align=\"center\",\n",
    "        arrowhead=2,\n",
    "        arrowsize=1,\n",
    "        arrowwidth=2,\n",
    "        arrowcolor=\"#636363\",\n",
    "        ax=20,\n",
    "        ay=30,  # Adjust the y offset for the annotation\n",
    "        bordercolor=\"#c7c7c7\",\n",
    "        borderwidth=1,\n",
    "        borderpad=1,\n",
    "        bgcolor=\"#3399cc\",\n",
    "        opacity=0.8\n",
    "    )\n",
    "\n",
    "    fig.update_layout(\n",
    "        template='plotly_dark',\n",
    "        yaxis=dict(\n",
    "            tickformat='.0f'\n",
    "        ),\n",
    "        yaxis2=dict(\n",
    "            overlaying='y',\n",
    "            side='right',\n",
    "            tickformat=\".0%\"\n",
    "        ),\n",
    "        legend=dict(\n",
    "            orientation=\"h\",\n",
    "            yanchor=\"bottom\",\n",
    "            y=1.02,\n",
    "            xanchor=\"right\",\n",
    "            x=1\n",
    "        ),\n",
    "        title='OHLC vs Prediction Over Time',\n",
    "        xaxis_rangeslider_visible=False\n",
    "    )\n",
    "\n",
    "    fig.show()\n",
    "    "
   ]
  },
  {
   "cell_type": "code",
   "execution_count": null,
   "metadata": {},
   "outputs": [],
   "source": [
    "create_viz(df_viz, '2024-01-02')"
   ]
  },
  {
   "cell_type": "code",
   "execution_count": null,
   "metadata": {},
   "outputs": [],
   "source": []
  },
  {
   "cell_type": "code",
   "execution_count": null,
   "metadata": {},
   "outputs": [],
   "source": [
    "XXX"
   ]
  },
  {
   "cell_type": "code",
   "execution_count": null,
   "metadata": {},
   "outputs": [],
   "source": []
  },
  {
   "cell_type": "code",
   "execution_count": null,
   "metadata": {},
   "outputs": [],
   "source": []
  },
  {
   "cell_type": "code",
   "execution_count": null,
   "metadata": {},
   "outputs": [],
   "source": []
  },
  {
   "cell_type": "code",
   "execution_count": null,
   "metadata": {},
   "outputs": [],
   "source": [
    "time_value = datetime.time(13,0)\n",
    "prev_close_pct = 0.005\n",
    "day_open_pct = 0.00\n",
    "gap_open_pct = -0.005\n",
    "\n",
    "input_data = pd.DataFrame({\n",
    "    'time': [time_value], \n",
    "    'prev_close_pct': [prev_close_pct],\n",
    "    'day_open_pct': [day_open_pct],\n",
    "    'gap_open_pct': [gap_open_pct],\n",
    "    })\n",
    "predicted_proba = pipeline.predict_proba(input_data)[:,-1]\n",
    "\n",
    "print(f\"Predicted Probability: {predicted_proba[0]}\")"
   ]
  },
  {
   "cell_type": "code",
   "execution_count": null,
   "metadata": {},
   "outputs": [],
   "source": [
    "get_top_probability(time_value, prev_close_pct)"
   ]
  },
  {
   "cell_type": "code",
   "execution_count": null,
   "metadata": {},
   "outputs": [],
   "source": [
    "XXX"
   ]
  },
  {
   "cell_type": "code",
   "execution_count": null,
   "metadata": {},
   "outputs": [],
   "source": [
    "daily_data = spx_data.groupby(spx_data.index.date)['eod_close_pct'].max()"
   ]
  },
  {
   "cell_type": "code",
   "execution_count": null,
   "metadata": {},
   "outputs": [],
   "source": [
    "daily_data.describe()"
   ]
  },
  {
   "cell_type": "code",
   "execution_count": null,
   "metadata": {},
   "outputs": [],
   "source": [
    "daily_data.clip(-0.05,0.05).hist()"
   ]
  },
  {
   "cell_type": "code",
   "execution_count": null,
   "metadata": {},
   "outputs": [],
   "source": []
  },
  {
   "cell_type": "code",
   "execution_count": null,
   "metadata": {},
   "outputs": [],
   "source": [
    "spx_data.loc[(spx_data['time'] < datetime.time(10,5)) & (spx_data['label'] == 1), 'prev_close_pct'].describe()"
   ]
  },
  {
   "cell_type": "code",
   "execution_count": null,
   "metadata": {},
   "outputs": [],
   "source": [
    "len(set(spx_data.index.date))"
   ]
  },
  {
   "cell_type": "code",
   "execution_count": null,
   "metadata": {},
   "outputs": [],
   "source": [
    "import plotly.graph_objects as go\n",
    "\n",
    "# df_use = spx_data.query('(eod_close_pct > -0.007) & (eod_close_pct < 0.007)')\n",
    "df_use = spx_data.query('(eod_close_pct < 0.01) & (eod_close_pct > -0.01)')\n",
    "# df_use = spx_data.copy()\n",
    "total_days = len(set(spx_data.index.date))\n",
    "set_days = len(set(df_use.index.date))\n",
    "# Convert times to string\n",
    "times = df_use['time'].unique()\n",
    "times = [t.strftime('%H:%M:%S') for t in times]\n",
    "freqs = df_use.groupby('time')['label'].mean().cumsum()\n",
    "\n",
    "# Calculate means\n",
    "means = df_use.groupby('time')['prev_close_pct'].mean()\n",
    "\n",
    "# Create a Plotly figure\n",
    "fig = go.Figure()\n",
    "\n",
    "# Add a line trace\n",
    "fig.add_trace(go.Scatter(x=times, y=means, mode='lines', name='Mean'))\n",
    "\n",
    "fig.add_trace(go.Scatter(x=times, y=freqs, mode='lines', name='Frequency', yaxis='y2'))\n",
    "fig.update_layout(\n",
    "    yaxis2=dict(\n",
    "        title='Frequency',\n",
    "        titlefont=dict(\n",
    "            color='rgb(148, 103, 189)'\n",
    "        ),\n",
    "        tickfont=dict(\n",
    "            color='rgb(148, 103, 189)'\n",
    "        ),\n",
    "        overlaying='y',\n",
    "        side='right'\n",
    "    )\n",
    ")\n",
    "fig.update_yaxes(\n",
    "    tickformat=\".3%\",\n",
    ")\n",
    "\n",
    "# Set layout properties\n",
    "fig.update_layout(\n",
    "    title=f'Mean vs Time ({str(set_days)} -- {set_days / total_days:.1%})',\n",
    "    xaxis_title='Time',\n",
    "    yaxis_title='Mean',\n",
    "    autosize=False,\n",
    "    width=1000,\n",
    "    height=500,\n",
    ")\n",
    "\n",
    "# Show the figure\n",
    "fig.show()"
   ]
  },
  {
   "cell_type": "code",
   "execution_count": null,
   "metadata": {},
   "outputs": [],
   "source": []
  },
  {
   "cell_type": "code",
   "execution_count": null,
   "metadata": {},
   "outputs": [],
   "source": [
    "import numpy as np\n",
    "import pandas as pd\n",
    "import datetime\n",
    "\n",
    "spx_data['label_lod'] = np.nan\n",
    "\n",
    "# Per date, run it.\n",
    "for day in sorted(set(spx_data.index.date)):\n",
    "    day_str = datetime.datetime.strftime(day, '%Y-%m-%d')\n",
    "    spx_data.loc[day_str, 'lod'] = spx_data.loc[day_str, 'low'].min()\n",
    "\n",
    "    # Label the data: 1 if the current low is the LOD, 0 otherwise\n",
    "    spx_data.loc[day_str, 'label_lod'] = (spx_data.loc[day_str, 'low'] == spx_data.loc[day_str, 'lod']).astype(int)\n",
    "\n",
    "    # Find the index of LOD\n",
    "    lod_index = spx_data.loc[day_str][spx_data.loc[day_str, 'label_lod'] == 1].index\n",
    "\n",
    "    # If LOD is found within the first 5 bars, label the first 5 bars as 1\n",
    "    if not lod_index.empty:\n",
    "        lod_index = lod_index[0]  # In case there are multiple, take the first\n",
    "        if lod_index <= spx_data.loc[day_str].index[4]:  # Check if LOD is within the first 5 bars\n",
    "            spx_data.loc[spx_data.loc[day_str].index[:5], 'label_lod'] = 1\n",
    "        else:\n",
    "            start_time = spx_data.loc[day_str].index[0]\n",
    "            end_time = lod_index\n",
    "            # Calculate the start index using Timedelta\n",
    "            start_index = end_time - pd.Timedelta(minutes=5 * 4)\n",
    "            start_index = max(start_index, start_time)\n",
    "            spx_data.loc[start_index:end_time, 'label_lod'] = 1\n",
    "\n",
    "spx_data.head()"
   ]
  },
  {
   "cell_type": "code",
   "execution_count": null,
   "metadata": {},
   "outputs": [],
   "source": [
    "spx_data['time'] = spx_data.index.time"
   ]
  },
  {
   "cell_type": "code",
   "execution_count": null,
   "metadata": {},
   "outputs": [],
   "source": [
    "spx_data['label'].sum()"
   ]
  },
  {
   "cell_type": "code",
   "execution_count": null,
   "metadata": {},
   "outputs": [],
   "source": [
    "pd.spx_data.groupby('time')['label'].mean()"
   ]
  },
  {
   "cell_type": "code",
   "execution_count": null,
   "metadata": {},
   "outputs": [],
   "source": [
    "import matplotlib.pyplot as plt\n",
    "d = '2023-12-20'\n",
    "spx_data.loc[d,'label'].plot();\n",
    "spx_data.loc[d,'label_lod'].plot();\n",
    "plt.legend();\n",
    "print(spx_data.loc[d,'label_lod'].sum())"
   ]
  },
  {
   "cell_type": "code",
   "execution_count": null,
   "metadata": {},
   "outputs": [],
   "source": [
    "spx_data['label'].value_counts()"
   ]
  },
  {
   "cell_type": "code",
   "execution_count": null,
   "metadata": {},
   "outputs": [],
   "source": [
    "len(set(spx_data.index.date))"
   ]
  },
  {
   "cell_type": "code",
   "execution_count": null,
   "metadata": {},
   "outputs": [],
   "source": []
  },
  {
   "cell_type": "code",
   "execution_count": null,
   "metadata": {},
   "outputs": [],
   "source": [
    "spx_data.loc[day]"
   ]
  },
  {
   "cell_type": "code",
   "execution_count": null,
   "metadata": {},
   "outputs": [],
   "source": [
    "import pandas as pd\n",
    "\n",
    "# Load data\n",
    "# data = pd.read_csv('your_data_file.csv', parse_dates=True)\n",
    "\n",
    "# Calculate P as the average of open, high, low, and close\n",
    "spx_data['P'] = spx_data[['open', 'high', 'low', 'close']].mean(axis=1)\n",
    "\n",
    "# Initialize columns for ON, O1, O2, O3\n",
    "spx_data['ON'] = spx_data['P'].rolling(window=6).max()\n",
    "spx_data['O1'] = spx_data['P'].rolling(window=6).apply(lambda x: x.nsmallest(2).iloc[0] if x.idxmax() != x.index[-1] else x.nsmallest(2).iloc[1])\n",
    "spx_data['O2'] = spx_data['P'].rolling(window=6).apply(lambda x: x.nsmallest(3).iloc[1] if x.idxmax() == x.index[-2] else (x.nsmallest(3).iloc[0] if x.idxmax() != x.index[-1] else x.nsmallest(3).iloc[2]))\n",
    "spx_data['O3'] = spx_data['P'].rolling(window=6).apply(lambda x: x.nsmallest(3).iloc[2])\n",
    "\n",
    "# Set iMA (fast_ma)\n",
    "spx_data['fast_ma'] = spx_data['O3']\n"
   ]
  },
  {
   "cell_type": "code",
   "execution_count": null,
   "metadata": {},
   "outputs": [],
   "source": [
    "\n",
    "# Display the result\n",
    "spx_data[['Datetime','P', 'ON', 'O1', 'O2', 'O3', 'fast_ma']].tail()\n"
   ]
  },
  {
   "cell_type": "code",
   "execution_count": null,
   "metadata": {},
   "outputs": [],
   "source": [
    "# Initializing the required columns\n",
    "spx_data['a'] = 0\n",
    "spx_data['b'] = 0\n",
    "spx_data['z'] = 0\n",
    "spx_data['c'] = 0\n",
    "spx_data['l'] = 0\n",
    "spx_data['s'] = 0\n",
    "\n",
    "# Helper functions to calculate lowest_low, highest_high, avg_low, avg_high\n",
    "spx_data['lowest_low'] = spx_data['low'].rolling(window=5).min()\n",
    "spx_data['highest_high'] = spx_data['high'].rolling(window=5).max()\n",
    "spx_data['avg_low'] = spx_data['low'].rolling(window=5).mean()\n",
    "spx_data['avg_high'] = spx_data['high'].rolling(window=5).mean()\n",
    "\n",
    "for i, row in spx_data.iterrows():\n",
    "    if i == 0:\n",
    "        continue  # Skip the first row\n",
    "\n",
    "    a_prev = spx_data.at[i - 1, 'a']\n",
    "    low_prev = spx_data.at[i - 1, 'low']\n",
    "    high_prev = spx_data.at[i - 1, 'high']\n",
    "\n",
    "    if a_prev == 1:\n",
    "        spx_data.at[i, 'b'] = max(spx_data.at[i, 'lowest_low'], spx_data.at[i - 1, 'b'])\n",
    "        spx_data.at[i, 'z'] = 1 if spx_data.at[i, 'avg_high'] < spx_data.at[i - 1, 'b'] and spx_data.at[i, 'close'] < low_prev else spx_data.at[i - 1, 'z']\n",
    "        spx_data.at[i, 'a'] = 0 if spx_data.at[i, 'avg_high'] < spx_data.at[i - 1, 'b'] and spx_data.at[i, 'close'] < low_prev else a_prev\n",
    "        spx_data.at[i, 'c'] = spx_data.at[i, 'highest_high'] if spx_data.at[i, 'avg_high'] < spx_data.at[i - 1, 'b'] and spx_data.at[i, 'close'] < low_prev else spx_data.at[i - 1, 'c']\n",
    "    elif a_prev == 0:\n",
    "        spx_data.at[i, 'c'] = min(spx_data.at[i, 'highest_high'], spx_data.at[i - 1, 'c'])\n",
    "        spx_data.at[i, 'z'] = 0 if spx_data.at[i, 'avg_low'] > spx_data.at[i - 1, 'c'] and spx_data.at[i, 'close'] > high_prev else spx_data.at[i - 1, 'z']\n",
    "        spx_data.at[i, 'a'] = 1 if spx_data.at[i, 'avg_low'] > spx_data.at[i - 1, 'c'] and spx_data.at[i, 'close'] > high_prev else a_prev\n",
    "        spx_data.at[i, 'b'] = spx_data.at[i, 'lowest_low'] if spx_data.at[i, 'avg_low'] > spx_data.at[i - 1, 'c'] and spx_data.at[i, 'close'] > high_prev else spx_data.at[i - 1, 'b']\n",
    "    else:\n",
    "        # Maintain the previous values\n",
    "        spx_data.at[i, 'b'] = spx_data.at[i - 1, 'b']\n",
    "        spx_data.at[i, 'z'] = spx_data.at[i - 1, 'z']\n",
    "        spx_data.at[i, 'a'] = a_prev\n",
    "        spx_data.at[i, 'c'] = spx_data.at[i - 1, 'c']\n",
    "\n",
    "    # Adjusting 'l' and 's'\n",
    "    if spx_data.at[i, 'z'] == 0:\n",
    "        spx_data.at[i, 'l'] = spx_data.at[i - 1, 's'] if spx_data.at[i - 1, 'z'] != 0 else max(spx_data.at[i - 1, 'b'], spx_data.at[i - 1, 'l'])\n",
    "        spx_data.at[i, 's'] = 0\n",
    "    elif spx_data.at[i - 1, 'z'] != 1:\n",
    "        spx_data.at[i, 's'] = spx_data.at[i - 1, 'l']\n",
    "        spx_data.at[i, 'l'] = 0\n",
    "    elif spx_data.at[i, 'z'] == 1:\n",
    "        spx_data.at[i, 's'] = min(spx_data.at[i, 'c'], spx_data.at[i - 1, 's'])\n",
    "        spx_data.at[i, 'l'] = spx_data.at[i - 1, 'l']\n",
    "    else:\n",
    "        spx_data.at[i, 'l'] = spx_data.at[i - 1, 'l']\n",
    "        spx_data.at[i, 's'] = spx_data.at[i - 1, 's']\n",
    "\n",
    "    # Setting 'trail'\n",
    "    spx_data.at[i, 'trail'] = spx_data.at[i, 'l'] if spx_data.at[i, 'l'] > 0 else spx_data.at[i, 's']\n",
    "\n",
    "# # Display the result\n",
    "# print(spx_data[['a', 'b', 'z', 'c', 'l', 's', 'trail']])\n"
   ]
  },
  {
   "cell_type": "code",
   "execution_count": null,
   "metadata": {},
   "outputs": [],
   "source": [
    "spx_data[['close', 'fast_ma']].tail().plot()"
   ]
  },
  {
   "cell_type": "markdown",
   "metadata": {},
   "source": [
    "# Backtesting"
   ]
  },
  {
   "cell_type": "code",
   "execution_count": null,
   "metadata": {},
   "outputs": [],
   "source": [
    "import bt\n",
    "import pandas as pd\n",
    "\n",
    "# Load your data\n",
    "# data = pd.read_csv('your_data_file.csv', index_col='Date', parse_dates=True)\n",
    "\n",
    "# Custom Algo for selecting where to trade\n",
    "class SelectWhere(bt.Algo):\n",
    "    def __init__(self, signal):\n",
    "        self.signal = signal\n",
    "\n",
    "    def __call__(self, target):\n",
    "        if target.now in self.signal.index:\n",
    "            signal_value = self.signal.loc[target.now]\n",
    "            target.temp['weights'] = signal_value.astype(float)\n",
    "        return True\n",
    "\n",
    "# Create the signal for the strategy\n",
    "signal = (data['close'] > data['fast_ma']) & (data['close'].shift() < data['slow_ma'])\n",
    "\n",
    "# Create the strategy\n",
    "strategy = bt.Strategy('AboveFastMA',\n",
    "                       [SelectWhere(signal),\n",
    "                        bt.algos.WeighTarget('weights'),\n",
    "                        bt.algos.Rebalance()])\n",
    "\n",
    "# Create a backtest and run it\n",
    "test = bt.Backtest(strategy, data)\n",
    "\n",
    "# Set up the backtest with transaction costs and slippage\n",
    "commissions = bt.fees.FixedPerTrade(1) # $1 per trade\n",
    "slippage = bt.slippage.FixedSlippage(0.05) # Fixed slippage per share, adjust as needed\n",
    "\n",
    "# Set the commissions and slippage to the backtest\n",
    "test.set_fees(commissions=commissions, slippage=slippage)\n",
    "\n",
    "# Run the backtest\n",
    "res = bt.run(test)\n",
    "\n",
    "# Plot the results\n",
    "res.plot()\n"
   ]
  },
  {
   "cell_type": "markdown",
   "metadata": {},
   "source": []
  }
 ],
 "metadata": {
  "kernelspec": {
   "display_name": ".venv",
   "language": "python",
   "name": "python3"
  },
  "language_info": {
   "codemirror_mode": {
    "name": "ipython",
    "version": 3
   },
   "file_extension": ".py",
   "mimetype": "text/x-python",
   "name": "python",
   "nbconvert_exporter": "python",
   "pygments_lexer": "ipython3",
   "version": "3.10.11"
  }
 },
 "nbformat": 4,
 "nbformat_minor": 2
}
