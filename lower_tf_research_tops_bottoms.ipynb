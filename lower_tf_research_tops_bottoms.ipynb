{
 "cells": [
  {
   "cell_type": "code",
   "execution_count": 2,
   "metadata": {},
   "outputs": [],
   "source": [
    "from dbConn import engine\n",
    "import pandas as pd\n",
    "import numpy as np\n",
    "from tqdm import tqdm"
   ]
  },
  {
   "cell_type": "code",
   "execution_count": 3,
   "metadata": {},
   "outputs": [],
   "source": [
    "base_query = '''\n",
    "SELECT \n",
    "    spx.Datetime,\n",
    "    spx.Open AS Open_SPX,\n",
    "    spx.High AS High_SPX,\n",
    "    spx.Low AS Low_SPX,\n",
    "    spx.Close AS Close_SPX,\n",
    "    ndx.Open AS Open_NDX,\n",
    "    ndx.High AS High_NDX,\n",
    "    ndx.Low AS Low_NDX,\n",
    "    ndx.Close AS Close_NDX,\n",
    "    rut.Open AS Open_RUT,\n",
    "    rut.High AS High_RUT,\n",
    "    rut.Low AS Low_RUT,\n",
    "    rut.Close AS Close_RUT\n",
    "    FROM (\n",
    "    SELECT * FROM SPX_full_5min\n",
    "    ) spx\n",
    "    JOIN (\n",
    "    SELECT * FROM NDX_full_5min\n",
    "    ) ndx ON spx.Datetime = ndx.Datetime\n",
    "    JOIN (\n",
    "    SELECT * FROM RUT_full_5min\n",
    "    ) rut ON spx.Datetime = rut.Datetime\n",
    "-- WHERE spx.Datetime >= '2018-01-01'\n",
    "'''\n",
    "\n",
    "# Initialize variables for pagination\n",
    "offset = 0\n",
    "limit = 50000\n",
    "data_frames = []\n",
    "\n",
    "while True:\n",
    "    # Construct the query with LIMIT and OFFSET\n",
    "    query = f\"{base_query} LIMIT {limit} OFFSET {offset}\"\n",
    "    \n",
    "    # Fetch the chunk of data\n",
    "    df_chunk = pd.read_sql_query(query, con = engine.connect())\n",
    "    \n",
    "    # Break the loop if no more data is returned\n",
    "    if df_chunk.empty:\n",
    "        break\n",
    "\n",
    "    # Append the chunk to the list of dataframes\n",
    "    data_frames.append(df_chunk)\n",
    "\n",
    "    # Update the offset for the next query\n",
    "    offset += limit\n",
    "\n",
    "# Concatenate all dataframes\n",
    "data = pd.concat(data_frames, ignore_index=True)"
   ]
  },
  {
   "cell_type": "code",
   "execution_count": 4,
   "metadata": {},
   "outputs": [
    {
     "data": {
      "text/plain": [
       "330450"
      ]
     },
     "execution_count": 4,
     "metadata": {},
     "output_type": "execute_result"
    }
   ],
   "source": [
    "len(data)"
   ]
  },
  {
   "cell_type": "code",
   "execution_count": 5,
   "metadata": {},
   "outputs": [
    {
     "data": {
      "text/html": [
       "<div>\n",
       "<style scoped>\n",
       "    .dataframe tbody tr th:only-of-type {\n",
       "        vertical-align: middle;\n",
       "    }\n",
       "\n",
       "    .dataframe tbody tr th {\n",
       "        vertical-align: top;\n",
       "    }\n",
       "\n",
       "    .dataframe thead th {\n",
       "        text-align: right;\n",
       "    }\n",
       "</style>\n",
       "<table border=\"1\" class=\"dataframe\">\n",
       "  <thead>\n",
       "    <tr style=\"text-align: right;\">\n",
       "      <th></th>\n",
       "      <th>Datetime</th>\n",
       "      <th>Open_SPX</th>\n",
       "      <th>High_SPX</th>\n",
       "      <th>Low_SPX</th>\n",
       "      <th>Close_SPX</th>\n",
       "      <th>Open_NDX</th>\n",
       "      <th>High_NDX</th>\n",
       "      <th>Low_NDX</th>\n",
       "      <th>Close_NDX</th>\n",
       "      <th>Open_RUT</th>\n",
       "      <th>High_RUT</th>\n",
       "      <th>Low_RUT</th>\n",
       "      <th>Close_RUT</th>\n",
       "    </tr>\n",
       "  </thead>\n",
       "  <tbody>\n",
       "    <tr>\n",
       "      <th>0</th>\n",
       "      <td>2007-04-27 12:20:00</td>\n",
       "      <td>1492.19</td>\n",
       "      <td>1492.40</td>\n",
       "      <td>1492.19</td>\n",
       "      <td>1492.38</td>\n",
       "      <td>1887.90</td>\n",
       "      <td>1887.91</td>\n",
       "      <td>1886.97</td>\n",
       "      <td>1887.65</td>\n",
       "      <td>829.54</td>\n",
       "      <td>829.55</td>\n",
       "      <td>829.35</td>\n",
       "      <td>829.41</td>\n",
       "    </tr>\n",
       "    <tr>\n",
       "      <th>1</th>\n",
       "      <td>2007-04-27 12:25:00</td>\n",
       "      <td>1492.39</td>\n",
       "      <td>1492.91</td>\n",
       "      <td>1492.39</td>\n",
       "      <td>1492.87</td>\n",
       "      <td>1887.72</td>\n",
       "      <td>1888.32</td>\n",
       "      <td>1887.72</td>\n",
       "      <td>1888.27</td>\n",
       "      <td>829.42</td>\n",
       "      <td>829.68</td>\n",
       "      <td>829.42</td>\n",
       "      <td>829.68</td>\n",
       "    </tr>\n",
       "    <tr>\n",
       "      <th>2</th>\n",
       "      <td>2007-04-27 12:30:00</td>\n",
       "      <td>1492.54</td>\n",
       "      <td>1492.80</td>\n",
       "      <td>1492.53</td>\n",
       "      <td>1492.58</td>\n",
       "      <td>1887.77</td>\n",
       "      <td>1888.68</td>\n",
       "      <td>1887.65</td>\n",
       "      <td>1888.13</td>\n",
       "      <td>829.65</td>\n",
       "      <td>829.84</td>\n",
       "      <td>829.65</td>\n",
       "      <td>829.73</td>\n",
       "    </tr>\n",
       "    <tr>\n",
       "      <th>3</th>\n",
       "      <td>2007-04-27 12:35:00</td>\n",
       "      <td>1492.70</td>\n",
       "      <td>1492.88</td>\n",
       "      <td>1492.30</td>\n",
       "      <td>1492.88</td>\n",
       "      <td>1888.09</td>\n",
       "      <td>1888.24</td>\n",
       "      <td>1887.27</td>\n",
       "      <td>1888.24</td>\n",
       "      <td>829.65</td>\n",
       "      <td>829.65</td>\n",
       "      <td>829.25</td>\n",
       "      <td>829.38</td>\n",
       "    </tr>\n",
       "    <tr>\n",
       "      <th>4</th>\n",
       "      <td>2007-04-27 12:40:00</td>\n",
       "      <td>1492.88</td>\n",
       "      <td>1494.46</td>\n",
       "      <td>1492.88</td>\n",
       "      <td>1493.94</td>\n",
       "      <td>1888.26</td>\n",
       "      <td>1890.01</td>\n",
       "      <td>1888.26</td>\n",
       "      <td>1889.31</td>\n",
       "      <td>829.39</td>\n",
       "      <td>830.08</td>\n",
       "      <td>829.39</td>\n",
       "      <td>830.03</td>\n",
       "    </tr>\n",
       "  </tbody>\n",
       "</table>\n",
       "</div>"
      ],
      "text/plain": [
       "             Datetime  Open_SPX  High_SPX  Low_SPX  Close_SPX  Open_NDX  \\\n",
       "0 2007-04-27 12:20:00   1492.19   1492.40  1492.19    1492.38   1887.90   \n",
       "1 2007-04-27 12:25:00   1492.39   1492.91  1492.39    1492.87   1887.72   \n",
       "2 2007-04-27 12:30:00   1492.54   1492.80  1492.53    1492.58   1887.77   \n",
       "3 2007-04-27 12:35:00   1492.70   1492.88  1492.30    1492.88   1888.09   \n",
       "4 2007-04-27 12:40:00   1492.88   1494.46  1492.88    1493.94   1888.26   \n",
       "\n",
       "   High_NDX  Low_NDX  Close_NDX  Open_RUT  High_RUT  Low_RUT  Close_RUT  \n",
       "0   1887.91  1886.97    1887.65    829.54    829.55   829.35     829.41  \n",
       "1   1888.32  1887.72    1888.27    829.42    829.68   829.42     829.68  \n",
       "2   1888.68  1887.65    1888.13    829.65    829.84   829.65     829.73  \n",
       "3   1888.24  1887.27    1888.24    829.65    829.65   829.25     829.38  \n",
       "4   1890.01  1888.26    1889.31    829.39    830.08   829.39     830.03  "
      ]
     },
     "execution_count": 5,
     "metadata": {},
     "output_type": "execute_result"
    }
   ],
   "source": [
    "data.head()"
   ]
  },
  {
   "cell_type": "code",
   "execution_count": 6,
   "metadata": {},
   "outputs": [],
   "source": [
    "data['Date'] = data['Datetime'].dt.date\n",
    "data['Time'] = data['Datetime'].dt.time"
   ]
  },
  {
   "cell_type": "code",
   "execution_count": 7,
   "metadata": {},
   "outputs": [],
   "source": [
    "import datetime"
   ]
  },
  {
   "cell_type": "markdown",
   "metadata": {},
   "source": [
    "# Start Run Models"
   ]
  },
  {
   "cell_type": "code",
   "execution_count": 149,
   "metadata": {},
   "outputs": [],
   "source": [
    "ticker_dict = {\n",
    "    \"^GSPC\":{\n",
    "        \"hod_model\":\"models/hod_model_spx.joblib\",\n",
    "        \"lod_model\":\"models/lod_model_spx.joblib\",\n",
    "        \"gd_model\":\"models/gd_model_spx.joblib\",\n",
    "        \"suffix\":\"SPX\"\n",
    "    },\n",
    "    \"^NDX\":{\n",
    "        \"hod_model\":\"models/hod_model_ndx.joblib\",\n",
    "        \"lod_model\":\"models/lod_model_ndx.joblib\",\n",
    "        \"gd_model\":\"models/gd_model_ndx.joblib\",\n",
    "        \"suffix\":\"NDX\"\n",
    "    },\n",
    "    \"^RUT\":{\n",
    "        \"hod_model\":\"models/hod_model_rut.joblib\",\n",
    "        \"lod_model\":\"models/lod_model_rut.joblib\",\n",
    "        \"gd_model\":\"models/gd_model_rut.joblib\",\n",
    "        \"suffix\":\"RUT\"\n",
    "    }\n",
    "}\n",
    "\n",
    "tck = '^GSPC'\n",
    "\n",
    "spx_data = data.loc[:,[\n",
    "    'Datetime',\n",
    "    f'Open_{ticker_dict[tck][\"suffix\"]}',\n",
    "    f'High_{ticker_dict[tck][\"suffix\"]}',\n",
    "    f'Low_{ticker_dict[tck][\"suffix\"]}',\n",
    "    f'Close_{ticker_dict[tck][\"suffix\"]}'\n",
    "]]\n",
    "spx_data.columns = ['Datetime','open','high','low','close']\n",
    "spx_data['time'] = spx_data['Datetime'].dt.time\n",
    "spx_data = spx_data.loc[(spx_data['time'] < datetime.time(16,0)) & (spx_data['time'] >= datetime.time(9,30))]"
   ]
  },
  {
   "cell_type": "code",
   "execution_count": 150,
   "metadata": {},
   "outputs": [],
   "source": [
    "spx_data = spx_data.set_index('Datetime')"
   ]
  },
  {
   "cell_type": "code",
   "execution_count": 151,
   "metadata": {},
   "outputs": [],
   "source": [
    "# Create a list of times from 9:30 to 15:55 with 5 minute intervals\n",
    "times = pd.date_range(start=\"9:30\", end=\"15:55\", freq='5min').time\n",
    "\n",
    "# Create a dictionary that maps each time to a unique integer\n",
    "time_to_int = {time: i+1 for i, time in enumerate(times)}\n",
    "\n",
    "# Assume df is your DataFrame and 'time' is your column of times\n",
    "spx_data['bar_num'] = spx_data['time'].map(time_to_int)"
   ]
  },
  {
   "cell_type": "code",
   "execution_count": 152,
   "metadata": {},
   "outputs": [],
   "source": [
    "# Get the last bar of each date\n",
    "spx_data['eod_close'] = spx_data.groupby(spx_data.index.date)['close'].tail(1)\n",
    "spx_data['prev_close'] = spx_data['eod_close'].shift(1)\n",
    "spx_data['prev_close'] = spx_data['prev_close'].ffill()\n",
    "spx_data['eod_close'] = spx_data['eod_close'].bfill()\n",
    "spx_data['green_day'] = spx_data['eod_close'] > spx_data['prev_close']\n",
    "\n",
    "spx_data['eod_close_pts'] = spx_data['eod_close'] - spx_data['prev_close']\n",
    "spx_data['eod_close_pct'] = spx_data['eod_close_pts'] / spx_data['prev_close']"
   ]
  },
  {
   "cell_type": "code",
   "execution_count": 153,
   "metadata": {},
   "outputs": [
    {
     "data": {
      "text/html": [
       "<div>\n",
       "<style scoped>\n",
       "    .dataframe tbody tr th:only-of-type {\n",
       "        vertical-align: middle;\n",
       "    }\n",
       "\n",
       "    .dataframe tbody tr th {\n",
       "        vertical-align: top;\n",
       "    }\n",
       "\n",
       "    .dataframe thead th {\n",
       "        text-align: right;\n",
       "    }\n",
       "</style>\n",
       "<table border=\"1\" class=\"dataframe\">\n",
       "  <thead>\n",
       "    <tr style=\"text-align: right;\">\n",
       "      <th></th>\n",
       "      <th>open</th>\n",
       "      <th>high</th>\n",
       "      <th>low</th>\n",
       "      <th>close</th>\n",
       "      <th>time</th>\n",
       "      <th>bar_num</th>\n",
       "      <th>eod_close</th>\n",
       "      <th>prev_close</th>\n",
       "      <th>green_day</th>\n",
       "      <th>eod_close_pts</th>\n",
       "      <th>eod_close_pct</th>\n",
       "    </tr>\n",
       "    <tr>\n",
       "      <th>Datetime</th>\n",
       "      <th></th>\n",
       "      <th></th>\n",
       "      <th></th>\n",
       "      <th></th>\n",
       "      <th></th>\n",
       "      <th></th>\n",
       "      <th></th>\n",
       "      <th></th>\n",
       "      <th></th>\n",
       "      <th></th>\n",
       "      <th></th>\n",
       "    </tr>\n",
       "  </thead>\n",
       "  <tbody>\n",
       "    <tr>\n",
       "      <th>2007-04-27 12:20:00</th>\n",
       "      <td>1492.19</td>\n",
       "      <td>1492.40</td>\n",
       "      <td>1492.19</td>\n",
       "      <td>1492.38</td>\n",
       "      <td>12:20:00</td>\n",
       "      <td>35</td>\n",
       "      <td>1494.24</td>\n",
       "      <td>NaN</td>\n",
       "      <td>False</td>\n",
       "      <td>NaN</td>\n",
       "      <td>NaN</td>\n",
       "    </tr>\n",
       "    <tr>\n",
       "      <th>2007-04-27 12:25:00</th>\n",
       "      <td>1492.39</td>\n",
       "      <td>1492.91</td>\n",
       "      <td>1492.39</td>\n",
       "      <td>1492.87</td>\n",
       "      <td>12:25:00</td>\n",
       "      <td>36</td>\n",
       "      <td>1494.24</td>\n",
       "      <td>NaN</td>\n",
       "      <td>False</td>\n",
       "      <td>NaN</td>\n",
       "      <td>NaN</td>\n",
       "    </tr>\n",
       "    <tr>\n",
       "      <th>2007-04-27 12:30:00</th>\n",
       "      <td>1492.54</td>\n",
       "      <td>1492.80</td>\n",
       "      <td>1492.53</td>\n",
       "      <td>1492.58</td>\n",
       "      <td>12:30:00</td>\n",
       "      <td>37</td>\n",
       "      <td>1494.24</td>\n",
       "      <td>NaN</td>\n",
       "      <td>False</td>\n",
       "      <td>NaN</td>\n",
       "      <td>NaN</td>\n",
       "    </tr>\n",
       "    <tr>\n",
       "      <th>2007-04-27 12:35:00</th>\n",
       "      <td>1492.70</td>\n",
       "      <td>1492.88</td>\n",
       "      <td>1492.30</td>\n",
       "      <td>1492.88</td>\n",
       "      <td>12:35:00</td>\n",
       "      <td>38</td>\n",
       "      <td>1494.24</td>\n",
       "      <td>NaN</td>\n",
       "      <td>False</td>\n",
       "      <td>NaN</td>\n",
       "      <td>NaN</td>\n",
       "    </tr>\n",
       "    <tr>\n",
       "      <th>2007-04-27 12:40:00</th>\n",
       "      <td>1492.88</td>\n",
       "      <td>1494.46</td>\n",
       "      <td>1492.88</td>\n",
       "      <td>1493.94</td>\n",
       "      <td>12:40:00</td>\n",
       "      <td>39</td>\n",
       "      <td>1494.24</td>\n",
       "      <td>NaN</td>\n",
       "      <td>False</td>\n",
       "      <td>NaN</td>\n",
       "      <td>NaN</td>\n",
       "    </tr>\n",
       "  </tbody>\n",
       "</table>\n",
       "</div>"
      ],
      "text/plain": [
       "                        open     high      low    close      time  bar_num  \\\n",
       "Datetime                                                                     \n",
       "2007-04-27 12:20:00  1492.19  1492.40  1492.19  1492.38  12:20:00       35   \n",
       "2007-04-27 12:25:00  1492.39  1492.91  1492.39  1492.87  12:25:00       36   \n",
       "2007-04-27 12:30:00  1492.54  1492.80  1492.53  1492.58  12:30:00       37   \n",
       "2007-04-27 12:35:00  1492.70  1492.88  1492.30  1492.88  12:35:00       38   \n",
       "2007-04-27 12:40:00  1492.88  1494.46  1492.88  1493.94  12:40:00       39   \n",
       "\n",
       "                     eod_close  prev_close  green_day  eod_close_pts  \\\n",
       "Datetime                                                               \n",
       "2007-04-27 12:20:00    1494.24         NaN      False            NaN   \n",
       "2007-04-27 12:25:00    1494.24         NaN      False            NaN   \n",
       "2007-04-27 12:30:00    1494.24         NaN      False            NaN   \n",
       "2007-04-27 12:35:00    1494.24         NaN      False            NaN   \n",
       "2007-04-27 12:40:00    1494.24         NaN      False            NaN   \n",
       "\n",
       "                     eod_close_pct  \n",
       "Datetime                            \n",
       "2007-04-27 12:20:00            NaN  \n",
       "2007-04-27 12:25:00            NaN  \n",
       "2007-04-27 12:30:00            NaN  \n",
       "2007-04-27 12:35:00            NaN  \n",
       "2007-04-27 12:40:00            NaN  "
      ]
     },
     "execution_count": 153,
     "metadata": {},
     "output_type": "execute_result"
    }
   ],
   "source": [
    "spx_data.head()"
   ]
  },
  {
   "cell_type": "code",
   "execution_count": 154,
   "metadata": {},
   "outputs": [
    {
     "data": {
      "text/html": [
       "<div>\n",
       "<style scoped>\n",
       "    .dataframe tbody tr th:only-of-type {\n",
       "        vertical-align: middle;\n",
       "    }\n",
       "\n",
       "    .dataframe tbody tr th {\n",
       "        vertical-align: top;\n",
       "    }\n",
       "\n",
       "    .dataframe thead th {\n",
       "        text-align: right;\n",
       "    }\n",
       "</style>\n",
       "<table border=\"1\" class=\"dataframe\">\n",
       "  <thead>\n",
       "    <tr style=\"text-align: right;\">\n",
       "      <th></th>\n",
       "      <th>open</th>\n",
       "      <th>high</th>\n",
       "      <th>low</th>\n",
       "      <th>close</th>\n",
       "      <th>time</th>\n",
       "      <th>bar_num</th>\n",
       "      <th>eod_close</th>\n",
       "      <th>prev_close</th>\n",
       "      <th>green_day</th>\n",
       "      <th>eod_close_pts</th>\n",
       "      <th>eod_close_pct</th>\n",
       "    </tr>\n",
       "    <tr>\n",
       "      <th>Datetime</th>\n",
       "      <th></th>\n",
       "      <th></th>\n",
       "      <th></th>\n",
       "      <th></th>\n",
       "      <th></th>\n",
       "      <th></th>\n",
       "      <th></th>\n",
       "      <th></th>\n",
       "      <th></th>\n",
       "      <th></th>\n",
       "      <th></th>\n",
       "    </tr>\n",
       "  </thead>\n",
       "  <tbody>\n",
       "    <tr>\n",
       "      <th>2023-12-29 15:35:00</th>\n",
       "      <td>4773.29</td>\n",
       "      <td>4774.59</td>\n",
       "      <td>4773.25</td>\n",
       "      <td>4774.08</td>\n",
       "      <td>15:35:00</td>\n",
       "      <td>74</td>\n",
       "      <td>4772.17</td>\n",
       "      <td>4784.12</td>\n",
       "      <td>False</td>\n",
       "      <td>-11.95</td>\n",
       "      <td>-0.002498</td>\n",
       "    </tr>\n",
       "    <tr>\n",
       "      <th>2023-12-29 15:40:00</th>\n",
       "      <td>4774.07</td>\n",
       "      <td>4775.66</td>\n",
       "      <td>4771.86</td>\n",
       "      <td>4771.86</td>\n",
       "      <td>15:40:00</td>\n",
       "      <td>75</td>\n",
       "      <td>4772.17</td>\n",
       "      <td>4784.12</td>\n",
       "      <td>False</td>\n",
       "      <td>-11.95</td>\n",
       "      <td>-0.002498</td>\n",
       "    </tr>\n",
       "    <tr>\n",
       "      <th>2023-12-29 15:45:00</th>\n",
       "      <td>4771.78</td>\n",
       "      <td>4772.96</td>\n",
       "      <td>4770.34</td>\n",
       "      <td>4770.34</td>\n",
       "      <td>15:45:00</td>\n",
       "      <td>76</td>\n",
       "      <td>4772.17</td>\n",
       "      <td>4784.12</td>\n",
       "      <td>False</td>\n",
       "      <td>-11.95</td>\n",
       "      <td>-0.002498</td>\n",
       "    </tr>\n",
       "    <tr>\n",
       "      <th>2023-12-29 15:50:00</th>\n",
       "      <td>4770.31</td>\n",
       "      <td>4774.07</td>\n",
       "      <td>4765.37</td>\n",
       "      <td>4765.45</td>\n",
       "      <td>15:50:00</td>\n",
       "      <td>77</td>\n",
       "      <td>4772.17</td>\n",
       "      <td>4784.12</td>\n",
       "      <td>False</td>\n",
       "      <td>-11.95</td>\n",
       "      <td>-0.002498</td>\n",
       "    </tr>\n",
       "    <tr>\n",
       "      <th>2023-12-29 15:55:00</th>\n",
       "      <td>4765.57</td>\n",
       "      <td>4774.03</td>\n",
       "      <td>4763.58</td>\n",
       "      <td>4772.17</td>\n",
       "      <td>15:55:00</td>\n",
       "      <td>78</td>\n",
       "      <td>4772.17</td>\n",
       "      <td>4784.12</td>\n",
       "      <td>False</td>\n",
       "      <td>-11.95</td>\n",
       "      <td>-0.002498</td>\n",
       "    </tr>\n",
       "  </tbody>\n",
       "</table>\n",
       "</div>"
      ],
      "text/plain": [
       "                        open     high      low    close      time  bar_num  \\\n",
       "Datetime                                                                     \n",
       "2023-12-29 15:35:00  4773.29  4774.59  4773.25  4774.08  15:35:00       74   \n",
       "2023-12-29 15:40:00  4774.07  4775.66  4771.86  4771.86  15:40:00       75   \n",
       "2023-12-29 15:45:00  4771.78  4772.96  4770.34  4770.34  15:45:00       76   \n",
       "2023-12-29 15:50:00  4770.31  4774.07  4765.37  4765.45  15:50:00       77   \n",
       "2023-12-29 15:55:00  4765.57  4774.03  4763.58  4772.17  15:55:00       78   \n",
       "\n",
       "                     eod_close  prev_close  green_day  eod_close_pts  \\\n",
       "Datetime                                                               \n",
       "2023-12-29 15:35:00    4772.17     4784.12      False         -11.95   \n",
       "2023-12-29 15:40:00    4772.17     4784.12      False         -11.95   \n",
       "2023-12-29 15:45:00    4772.17     4784.12      False         -11.95   \n",
       "2023-12-29 15:50:00    4772.17     4784.12      False         -11.95   \n",
       "2023-12-29 15:55:00    4772.17     4784.12      False         -11.95   \n",
       "\n",
       "                     eod_close_pct  \n",
       "Datetime                            \n",
       "2023-12-29 15:35:00      -0.002498  \n",
       "2023-12-29 15:40:00      -0.002498  \n",
       "2023-12-29 15:45:00      -0.002498  \n",
       "2023-12-29 15:50:00      -0.002498  \n",
       "2023-12-29 15:55:00      -0.002498  "
      ]
     },
     "execution_count": 154,
     "metadata": {},
     "output_type": "execute_result"
    }
   ],
   "source": [
    "spx_data.tail()"
   ]
  },
  {
   "cell_type": "markdown",
   "metadata": {},
   "source": [
    "# Feature and Target Creation\n",
    "Target\n",
    "- Whether the current high or low of the **session** has been achieved, based on the close of the most recent 5 min bar. \n",
    "\n",
    "Features\n",
    "- Current and lagged features of each **session**."
   ]
  },
  {
   "cell_type": "code",
   "execution_count": 155,
   "metadata": {},
   "outputs": [
    {
     "name": "stderr",
     "output_type": "stream",
     "text": [
      "  0%|          | 0/4198 [00:00<?, ?it/s]"
     ]
    },
    {
     "name": "stderr",
     "output_type": "stream",
     "text": [
      "100%|██████████| 4198/4198 [01:51<00:00, 37.81it/s]\n"
     ]
    }
   ],
   "source": [
    "import numpy as np\n",
    "import pandas as pd\n",
    "import datetime\n",
    "from pandas.tseries.offsets import BDay\n",
    "from tqdm import tqdm\n",
    "\n",
    "spx_data['label'] = np.nan\n",
    "\n",
    "# Per date, run it.\n",
    "for day in tqdm(sorted(set(spx_data.index.date))):\n",
    "    day_str = datetime.datetime.strftime(day, '%Y-%m-%d')\n",
    "    day_open = spx_data.loc[day_str, 'open'].iloc[0]\n",
    "    spx_data.loc[day_str, 'lod'] = spx_data.loc[day_str, 'low'].min()\n",
    "    spx_data.loc[day_str, 'label_lod'] = (spx_data.loc[day_str, 'low'] == spx_data.loc[day_str, 'lod']).astype(int)\n",
    "    \n",
    "    spx_data.loc[day_str, 'hod'] = spx_data.loc[day_str, 'high'].max()\n",
    "    spx_data.loc[day_str, 'label'] = (spx_data.loc[day_str, 'high'] == spx_data.loc[day_str, 'hod']).astype(int)\n",
    "    spx_data.loc[day_str, 'day_open'] = day_open\n",
    "    spx_data.loc[day_str, 'day_open_pts'] = spx_data.loc[day_str, 'close'] - spx_data.loc[day_str, 'day_open']\n",
    "    spx_data.loc[day_str, 'day_open_pct'] = spx_data.loc[day_str, 'day_open_pts'] / spx_data.loc[day_str, 'day_open']\n",
    "    spx_data.loc[day_str, 'prev_close_pts'] = spx_data.loc[day_str, 'close'] - spx_data.loc[day_str, 'prev_close']\n",
    "    spx_data.loc[day_str, 'prev_close_pct'] = spx_data.loc[day_str, 'prev_close_pts'] / spx_data.loc[day_str, 'prev_close']\n",
    "\n",
    "    # Lowest low\n",
    "    spx_data.loc[day_str, 'lowest_low'] = spx_data.loc[day_str, 'low'].expanding().min()\n",
    "    spx_data.loc[day_str, 'lowest_low'] = spx_data.loc[day_str, 'lowest_low'].shift(1)\n",
    "    spx_data.loc[day_str, 'lowest_low'] = spx_data.loc[day_str, 'lowest_low'].ffill()\n",
    "    spx_data.loc[day_str, 'lowest_low_mag'] = (spx_data.loc[day_str, 'close'] / spx_data.loc[day_str, 'lowest_low']) - 1\n",
    "\n",
    "    # Highest high\n",
    "    spx_data.loc[day_str, 'highest_high'] = spx_data.loc[day_str, 'high'].expanding().max()\n",
    "    spx_data.loc[day_str, 'highest_high'] = spx_data.loc[day_str, 'highest_high'].shift(1)\n",
    "    spx_data.loc[day_str, 'highest_high'] = spx_data.loc[day_str, 'highest_high'].ffill()\n",
    "    spx_data.loc[day_str, 'highest_high_mag'] = (spx_data.loc[day_str, 'close'] / spx_data.loc[day_str, 'highest_high']) - 1\n",
    "\n",
    "    # Shifted\n",
    "    spx_data.loc[day_str, 'prev_close_pct_n1'] = spx_data.loc[day_str, 'prev_close_pct'].shift(1)\n",
    "    spx_data.loc[day_str, 'prev_close_pct_n2'] = spx_data.loc[day_str, 'prev_close_pct'].shift(2)\n",
    "    spx_data.loc[day_str, 'prev_close_pct_n3'] = spx_data.loc[day_str, 'prev_close_pct'].shift(3)\n",
    "\n",
    "    spx_data.loc[day_str, 'day_open_pct_n1'] = spx_data.loc[day_str, 'day_open_pct'].shift(1)\n",
    "    spx_data.loc[day_str, 'day_open_pct_n2'] = spx_data.loc[day_str, 'day_open_pct'].shift(2)\n",
    "    spx_data.loc[day_str, 'day_open_pct_n3'] = spx_data.loc[day_str, 'day_open_pct'].shift(3)\n",
    "\n",
    "    # New Features\n",
    "    spx_data.loc[day_str, 'open_slope'] = spx_data.loc[day_str, 'day_open_pct'] / spx_data.loc[day_str, 'bar_num']\n",
    "    spx_data.loc[day_str, 'daily_slope'] = spx_data.loc[day_str, 'prev_close_pct'] / spx_data.loc[day_str, 'bar_num']\n",
    "\n",
    "\n",
    "    # Label the data: 1 if the current high is the HOD, 0 otherwise\n",
    "\n",
    "    # # Find the index of HOD\n",
    "    # hod_index = spx_data.loc[day_str][spx_data.loc[day_str, 'label'] == 1].index\n",
    "\n",
    "    # # If HOD is found within the first 5 bars, label the first 5 bars as 1\n",
    "    # if not hod_index.empty:\n",
    "    #     hod_index = hod_index[0]  # In case there are multiple, take the first\n",
    "    #     if hod_index <= spx_data.loc[day_str].index[4]:  # Check if HOD is within the first 5 bars\n",
    "    #         spx_data.loc[spx_data.loc[day_str].index[:5], 'label'] = 1\n",
    "    #     else:\n",
    "    #         start_time = spx_data.loc[day_str].index[0]\n",
    "    #         end_time = hod_index\n",
    "    #         # Calculate the start index using Timedelta\n",
    "    #         start_index = end_time - pd.Timedelta(minutes=5 * 4)\n",
    "    #         start_index = max(start_index, start_time)\n",
    "    #         spx_data.loc[start_index:end_time, 'label'] = 1\n",
    "\n",
    "# spx_data.head()\n"
   ]
  },
  {
   "cell_type": "code",
   "execution_count": 156,
   "metadata": {},
   "outputs": [
    {
     "data": {
      "text/plain": [
       "open                     0\n",
       "high                     0\n",
       "low                      0\n",
       "close                    0\n",
       "time                     0\n",
       "bar_num                  0\n",
       "eod_close                0\n",
       "prev_close              44\n",
       "green_day                0\n",
       "eod_close_pts           44\n",
       "eod_close_pct           44\n",
       "label                    0\n",
       "lod                      0\n",
       "label_lod                0\n",
       "hod                      0\n",
       "day_open                 0\n",
       "day_open_pts             0\n",
       "day_open_pct             0\n",
       "prev_close_pts          44\n",
       "prev_close_pct          44\n",
       "lowest_low            4198\n",
       "lowest_low_mag        4198\n",
       "highest_high          4198\n",
       "highest_high_mag      4198\n",
       "prev_close_pct_n1     4241\n",
       "prev_close_pct_n2     8438\n",
       "prev_close_pct_n3    12635\n",
       "day_open_pct_n1       4198\n",
       "day_open_pct_n2       8396\n",
       "day_open_pct_n3      12594\n",
       "open_slope               0\n",
       "daily_slope             44\n",
       "dtype: int64"
      ]
     },
     "execution_count": 156,
     "metadata": {},
     "output_type": "execute_result"
    }
   ],
   "source": [
    "spx_data.isnull().sum()"
   ]
  },
  {
   "cell_type": "code",
   "execution_count": 157,
   "metadata": {},
   "outputs": [],
   "source": [
    "spx_data['gap_open'] = spx_data['day_open'] - spx_data['prev_close']\n",
    "spx_data['gap_open_pct'] = spx_data['gap_open'] / spx_data['prev_close']"
   ]
  },
  {
   "cell_type": "code",
   "execution_count": 158,
   "metadata": {},
   "outputs": [
    {
     "name": "stderr",
     "output_type": "stream",
     "text": [
      "326231it [00:09, 34238.16it/s]\n"
     ]
    }
   ],
   "source": [
    "hod_in = []\n",
    "for num, row in tqdm(spx_data.iterrows()):\n",
    "    if row['hod'] == row['high']:\n",
    "        hod_in.append(1)\n",
    "    else:\n",
    "        hod_in.append(np.nan)\n",
    "spx_data['hod_in'] = hod_in"
   ]
  },
  {
   "cell_type": "code",
   "execution_count": 159,
   "metadata": {},
   "outputs": [
    {
     "name": "stderr",
     "output_type": "stream",
     "text": [
      "326231it [00:09, 34390.52it/s]\n"
     ]
    }
   ],
   "source": [
    "lod_in = []\n",
    "for num, row in tqdm(spx_data.iterrows()):\n",
    "    if row['lod'] == row['low']:\n",
    "        lod_in.append(1)\n",
    "    else:\n",
    "        lod_in.append(np.nan)\n",
    "spx_data['lod_in'] = lod_in"
   ]
  },
  {
   "cell_type": "code",
   "execution_count": 160,
   "metadata": {},
   "outputs": [
    {
     "name": "stderr",
     "output_type": "stream",
     "text": [
      "100%|██████████| 4198/4198 [00:14<00:00, 280.87it/s]\n"
     ]
    }
   ],
   "source": [
    "# Per day, ffill for the 1s, and then fillna 0\n",
    "for day in tqdm(sorted(set(spx_data.index.date))):\n",
    "    day_str = datetime.datetime.strftime(day, '%Y-%m-%d')\n",
    "    spx_data.loc[day_str, 'lod_in'] = spx_data.loc[day_str, 'lod_in'].ffill()\n",
    "    spx_data.loc[day_str, 'lod_in'] = spx_data.loc[day_str, 'lod_in'].fillna(0)\n",
    "    spx_data.loc[day_str, 'hod_in'] = spx_data.loc[day_str, 'hod_in'].ffill()\n",
    "    spx_data.loc[day_str, 'hod_in'] = spx_data.loc[day_str, 'hod_in'].fillna(0)"
   ]
  },
  {
   "cell_type": "code",
   "execution_count": 161,
   "metadata": {},
   "outputs": [],
   "source": [
    "def get_top_probability(time, prev_close_pct):\n",
    "    '''\n",
    "    Function that returns the historical probability that the top is in, given a time of day and magnitude.\n",
    "    '''\n",
    "    # Filter the data for the given time and magnitude\n",
    "    relevant_data = spx_data[(spx_data['time'] == time) & (spx_data['prev_close_pct'] >= prev_close_pct)]\n",
    "    \n",
    "    # Calculate the probability\n",
    "    top_probability = relevant_data['hod_in'].mean()\n",
    "    # bot_probability = relevant_data['lod_in'].mean()\n",
    "    \n",
    "    return top_probability\n",
    "\n",
    "def get_low_probability(time, prev_close_pct):\n",
    "    '''\n",
    "    Function that returns the historical probability that the low is in, given a time of day and magnitude.\n",
    "    '''\n",
    "    # Filter the data for the given time and magnitude\n",
    "    relevant_data = spx_data[(spx_data['time'] == time) & (spx_data['prev_close_pct'] <= prev_close_pct)]\n",
    "    \n",
    "    # Calculate the probability\n",
    "    probability = relevant_data['lod_in'].mean()\n",
    "    \n",
    "    return probability"
   ]
  },
  {
   "cell_type": "code",
   "execution_count": 162,
   "metadata": {},
   "outputs": [
    {
     "data": {
      "text/plain": [
       "0.6658946149392009"
      ]
     },
     "execution_count": 162,
     "metadata": {},
     "output_type": "execute_result"
    }
   ],
   "source": [
    "time = datetime.time(15,0)\n",
    "prev_close_pct = -0.007\n",
    "# spx_data.loc[(spx_data['time'] == time) & (spx_data['prev_close_pct'] >= prev_close_pct)]\n",
    "get_top_probability(time, prev_close_pct)"
   ]
  },
  {
   "cell_type": "code",
   "execution_count": 163,
   "metadata": {},
   "outputs": [
    {
     "data": {
      "text/plain": [
       "0.48514851485148514"
      ]
     },
     "execution_count": 163,
     "metadata": {},
     "output_type": "execute_result"
    }
   ],
   "source": [
    "get_low_probability(time, prev_close_pct)"
   ]
  },
  {
   "cell_type": "code",
   "execution_count": 164,
   "metadata": {},
   "outputs": [
    {
     "data": {
      "text/html": [
       "<div>\n",
       "<style scoped>\n",
       "    .dataframe tbody tr th:only-of-type {\n",
       "        vertical-align: middle;\n",
       "    }\n",
       "\n",
       "    .dataframe tbody tr th {\n",
       "        vertical-align: top;\n",
       "    }\n",
       "\n",
       "    .dataframe thead th {\n",
       "        text-align: right;\n",
       "    }\n",
       "</style>\n",
       "<table border=\"1\" class=\"dataframe\">\n",
       "  <thead>\n",
       "    <tr style=\"text-align: right;\">\n",
       "      <th></th>\n",
       "      <th>time</th>\n",
       "      <th>hod_in</th>\n",
       "      <th>lod_in</th>\n",
       "      <th>gap_open_pct</th>\n",
       "      <th>open</th>\n",
       "    </tr>\n",
       "    <tr>\n",
       "      <th>Datetime</th>\n",
       "      <th></th>\n",
       "      <th></th>\n",
       "      <th></th>\n",
       "      <th></th>\n",
       "      <th></th>\n",
       "    </tr>\n",
       "  </thead>\n",
       "  <tbody>\n",
       "    <tr>\n",
       "      <th>2007-04-27 12:20:00</th>\n",
       "      <td>12:20:00</td>\n",
       "      <td>0.0</td>\n",
       "      <td>1.0</td>\n",
       "      <td>NaN</td>\n",
       "      <td>1492.19</td>\n",
       "    </tr>\n",
       "    <tr>\n",
       "      <th>2007-04-27 12:25:00</th>\n",
       "      <td>12:25:00</td>\n",
       "      <td>0.0</td>\n",
       "      <td>1.0</td>\n",
       "      <td>NaN</td>\n",
       "      <td>1492.39</td>\n",
       "    </tr>\n",
       "    <tr>\n",
       "      <th>2007-04-27 12:30:00</th>\n",
       "      <td>12:30:00</td>\n",
       "      <td>0.0</td>\n",
       "      <td>1.0</td>\n",
       "      <td>NaN</td>\n",
       "      <td>1492.54</td>\n",
       "    </tr>\n",
       "    <tr>\n",
       "      <th>2007-04-27 12:35:00</th>\n",
       "      <td>12:35:00</td>\n",
       "      <td>0.0</td>\n",
       "      <td>1.0</td>\n",
       "      <td>NaN</td>\n",
       "      <td>1492.70</td>\n",
       "    </tr>\n",
       "    <tr>\n",
       "      <th>2007-04-27 12:40:00</th>\n",
       "      <td>12:40:00</td>\n",
       "      <td>0.0</td>\n",
       "      <td>1.0</td>\n",
       "      <td>NaN</td>\n",
       "      <td>1492.88</td>\n",
       "    </tr>\n",
       "    <tr>\n",
       "      <th>...</th>\n",
       "      <td>...</td>\n",
       "      <td>...</td>\n",
       "      <td>...</td>\n",
       "      <td>...</td>\n",
       "      <td>...</td>\n",
       "    </tr>\n",
       "    <tr>\n",
       "      <th>2023-12-29 15:35:00</th>\n",
       "      <td>15:35:00</td>\n",
       "      <td>1.0</td>\n",
       "      <td>1.0</td>\n",
       "      <td>-0.000259</td>\n",
       "      <td>4773.29</td>\n",
       "    </tr>\n",
       "    <tr>\n",
       "      <th>2023-12-29 15:40:00</th>\n",
       "      <td>15:40:00</td>\n",
       "      <td>1.0</td>\n",
       "      <td>1.0</td>\n",
       "      <td>-0.000259</td>\n",
       "      <td>4774.07</td>\n",
       "    </tr>\n",
       "    <tr>\n",
       "      <th>2023-12-29 15:45:00</th>\n",
       "      <td>15:45:00</td>\n",
       "      <td>1.0</td>\n",
       "      <td>1.0</td>\n",
       "      <td>-0.000259</td>\n",
       "      <td>4771.78</td>\n",
       "    </tr>\n",
       "    <tr>\n",
       "      <th>2023-12-29 15:50:00</th>\n",
       "      <td>15:50:00</td>\n",
       "      <td>1.0</td>\n",
       "      <td>1.0</td>\n",
       "      <td>-0.000259</td>\n",
       "      <td>4770.31</td>\n",
       "    </tr>\n",
       "    <tr>\n",
       "      <th>2023-12-29 15:55:00</th>\n",
       "      <td>15:55:00</td>\n",
       "      <td>1.0</td>\n",
       "      <td>1.0</td>\n",
       "      <td>-0.000259</td>\n",
       "      <td>4765.57</td>\n",
       "    </tr>\n",
       "  </tbody>\n",
       "</table>\n",
       "<p>326231 rows × 5 columns</p>\n",
       "</div>"
      ],
      "text/plain": [
       "                         time  hod_in  lod_in  gap_open_pct     open\n",
       "Datetime                                                            \n",
       "2007-04-27 12:20:00  12:20:00     0.0     1.0           NaN  1492.19\n",
       "2007-04-27 12:25:00  12:25:00     0.0     1.0           NaN  1492.39\n",
       "2007-04-27 12:30:00  12:30:00     0.0     1.0           NaN  1492.54\n",
       "2007-04-27 12:35:00  12:35:00     0.0     1.0           NaN  1492.70\n",
       "2007-04-27 12:40:00  12:40:00     0.0     1.0           NaN  1492.88\n",
       "...                       ...     ...     ...           ...      ...\n",
       "2023-12-29 15:35:00  15:35:00     1.0     1.0     -0.000259  4773.29\n",
       "2023-12-29 15:40:00  15:40:00     1.0     1.0     -0.000259  4774.07\n",
       "2023-12-29 15:45:00  15:45:00     1.0     1.0     -0.000259  4771.78\n",
       "2023-12-29 15:50:00  15:50:00     1.0     1.0     -0.000259  4770.31\n",
       "2023-12-29 15:55:00  15:55:00     1.0     1.0     -0.000259  4765.57\n",
       "\n",
       "[326231 rows x 5 columns]"
      ]
     },
     "execution_count": 164,
     "metadata": {},
     "output_type": "execute_result"
    }
   ],
   "source": [
    "spx_data[['time','hod_in','lod_in','gap_open_pct','open']]"
   ]
  },
  {
   "cell_type": "code",
   "execution_count": 165,
   "metadata": {},
   "outputs": [
    {
     "data": {
      "text/plain": [
       "Index(['open', 'high', 'low', 'close', 'time', 'bar_num', 'eod_close',\n",
       "       'prev_close', 'green_day', 'eod_close_pts', 'eod_close_pct', 'label',\n",
       "       'lod', 'label_lod', 'hod', 'day_open', 'day_open_pts', 'day_open_pct',\n",
       "       'prev_close_pts', 'prev_close_pct', 'lowest_low', 'lowest_low_mag',\n",
       "       'highest_high', 'highest_high_mag', 'prev_close_pct_n1',\n",
       "       'prev_close_pct_n2', 'prev_close_pct_n3', 'day_open_pct_n1',\n",
       "       'day_open_pct_n2', 'day_open_pct_n3', 'open_slope', 'daily_slope',\n",
       "       'gap_open', 'gap_open_pct', 'hod_in', 'lod_in'],\n",
       "      dtype='object')"
      ]
     },
     "execution_count": 165,
     "metadata": {},
     "output_type": "execute_result"
    }
   ],
   "source": [
    "spx_data.columns"
   ]
  },
  {
   "cell_type": "markdown",
   "metadata": {},
   "source": [
    "# Pipeline"
   ]
  },
  {
   "cell_type": "code",
   "execution_count": 189,
   "metadata": {},
   "outputs": [],
   "source": [
    "from sklearn.pipeline import Pipeline, make_pipeline\n",
    "from sklearn.compose import ColumnTransformer\n",
    "from sklearn.linear_model import LogisticRegression\n",
    "from sklearn.calibration import CalibratedClassifierCV\n",
    "import lightgbm as lgb\n",
    "from sklearn.preprocessing import FunctionTransformer, StandardScaler, RobustScaler, PowerTransformer\n",
    "import datetime\n",
    "\n",
    "# Function to convert time string to seconds past midnight\n",
    "def convert_time_to_seconds(time_series):\n",
    "    return time_series.apply(lambda x: x.hour * 3600 + x.minute * 60 + x.second)\n",
    "\n",
    "def apply_convert_time_to_seconds(x):\n",
    "    return x.apply(convert_time_to_seconds)\n",
    "\n",
    "time_to_seconds = FunctionTransformer(apply_convert_time_to_seconds, validate=False)\n",
    "\n",
    "# Create a column transformer\n",
    "preprocessor = ColumnTransformer(\n",
    "    transformers=[\n",
    "        ('time', make_pipeline(time_to_seconds, PowerTransformer()), ['time']),\n",
    "        ('prev_close_pct', PowerTransformer(), ['prev_close_pct']),\n",
    "        ('prev_close_pct_n1', PowerTransformer(), ['prev_close_pct_n1']),\n",
    "        ('prev_close_pct_n2', PowerTransformer(), ['prev_close_pct_n2']),\n",
    "        ('prev_close_pct_n3', PowerTransformer(), ['prev_close_pct_n3']),\n",
    "        ('day_open_pct', PowerTransformer(), ['day_open_pct']),\n",
    "        ('day_open_pct_n1', PowerTransformer(), ['day_open_pct_n1']),\n",
    "        ('day_open_pct_n2', PowerTransformer(), ['day_open_pct_n2']),\n",
    "        ('day_open_pct_n3', PowerTransformer(), ['day_open_pct_n3']),\n",
    "        ('gap_open_pct', PowerTransformer(), ['gap_open_pct']),\n",
    "        ('highest_high_mag', PowerTransformer(), ['highest_high_mag']),\n",
    "        ('lowest_low_mag', PowerTransformer(), ['lowest_low_mag']),\n",
    "        # ('open_slope', RobustScaler(), ['open_slope']),\n",
    "        # ('daily_slope', RobustScaler(), ['daily_slope'])\n",
    "    ])\n",
    "\n",
    "# Create the pipeline\n",
    "pipeline = Pipeline(steps=[\n",
    "    ('preprocessor', preprocessor),\n",
    "    # ('classifier', LogisticRegression())\n",
    "    ('classifier', lgb.LGBMClassifier())\n",
    "    # ('classifier', xgb.XGBClassifier())\n",
    "])\n",
    "\n",
    "df_use = spx_data.dropna(subset=[\n",
    "    'prev_close_pct',\n",
    "    'gap_open_pct',\n",
    "    'day_open_pct_n3',\n",
    "    'prev_close_pct_n3'\n",
    "    ])\n",
    "\n",
    "# Train the model\n",
    "X = df_use[[\n",
    "    'time',\n",
    "    'prev_close_pct',\n",
    "    'prev_close_pct_n1',\n",
    "    'prev_close_pct_n2',\n",
    "    'prev_close_pct_n3',\n",
    "    'day_open_pct',\n",
    "    'day_open_pct_n1',\n",
    "    'day_open_pct_n2',\n",
    "    'day_open_pct_n3',\n",
    "    'gap_open_pct',\n",
    "    'highest_high_mag',\n",
    "    'lowest_low_mag',\n",
    "    # 'open_slope',\n",
    "    # 'daily_slope'\n",
    "]]\n",
    "y_flags = df_use[['lod_in','hod_in','green_day']]\n",
    "# pipeline.fit(X, y)"
   ]
  },
  {
   "cell_type": "code",
   "execution_count": 190,
   "metadata": {},
   "outputs": [
    {
     "data": {
      "text/plain": [
       "time                 0\n",
       "prev_close_pct       0\n",
       "prev_close_pct_n1    0\n",
       "prev_close_pct_n2    0\n",
       "prev_close_pct_n3    0\n",
       "day_open_pct         0\n",
       "day_open_pct_n1      0\n",
       "day_open_pct_n2      0\n",
       "day_open_pct_n3      0\n",
       "gap_open_pct         0\n",
       "highest_high_mag     0\n",
       "lowest_low_mag       0\n",
       "dtype: int64"
      ]
     },
     "execution_count": 190,
     "metadata": {},
     "output_type": "execute_result"
    }
   ],
   "source": [
    "X.isnull().sum()"
   ]
  },
  {
   "cell_type": "code",
   "execution_count": 191,
   "metadata": {},
   "outputs": [
    {
     "data": {
      "text/plain": [
       "datetime.time(9, 45)"
      ]
     },
     "execution_count": 191,
     "metadata": {},
     "output_type": "execute_result"
    }
   ],
   "source": [
    "X['time'].min()"
   ]
  },
  {
   "cell_type": "code",
   "execution_count": 192,
   "metadata": {},
   "outputs": [],
   "source": [
    "from sklearn.base import clone\n",
    "\n",
    "pipeline_lod = clone(pipeline)\n",
    "pipeline_gd = clone(pipeline)"
   ]
  },
  {
   "cell_type": "code",
   "execution_count": 193,
   "metadata": {},
   "outputs": [],
   "source": [
    "# 80/20 split, where date at 80th pct is the cutoff date\n",
    "date_idx = int(np.floor(len(X.index.date) * .95))\n",
    "cutoff_date = X.index.date[date_idx]\n",
    "\n",
    "X_train = X.loc[:cutoff_date]\n",
    "y_train = y_flags.loc[:cutoff_date]\n",
    "X_test = X.loc[cutoff_date:]\n",
    "y_test = y_flags.loc[cutoff_date:]"
   ]
  },
  {
   "cell_type": "code",
   "execution_count": 194,
   "metadata": {},
   "outputs": [
    {
     "data": {
      "text/plain": [
       "297911"
      ]
     },
     "execution_count": 194,
     "metadata": {},
     "output_type": "execute_result"
    }
   ],
   "source": [
    "len(y_train)"
   ]
  },
  {
   "cell_type": "code",
   "execution_count": 195,
   "metadata": {},
   "outputs": [
    {
     "data": {
      "text/plain": [
       "15685"
      ]
     },
     "execution_count": 195,
     "metadata": {},
     "output_type": "execute_result"
    }
   ],
   "source": [
    "len(y_test)"
   ]
  },
  {
   "cell_type": "code",
   "execution_count": 196,
   "metadata": {},
   "outputs": [
    {
     "data": {
      "text/plain": [
       "lod_in       0.638399\n",
       "hod_in       0.557452\n",
       "green_day    0.540997\n",
       "dtype: float64"
      ]
     },
     "execution_count": 196,
     "metadata": {},
     "output_type": "execute_result"
    }
   ],
   "source": [
    "y_train.mean()"
   ]
  },
  {
   "cell_type": "code",
   "execution_count": 197,
   "metadata": {},
   "outputs": [
    {
     "data": {
      "text/plain": [
       "lod_in       0.601785\n",
       "hod_in       0.534205\n",
       "green_day    0.569716\n",
       "dtype: float64"
      ]
     },
     "execution_count": 197,
     "metadata": {},
     "output_type": "execute_result"
    }
   ],
   "source": [
    "y_test.mean()"
   ]
  },
  {
   "cell_type": "code",
   "execution_count": 198,
   "metadata": {},
   "outputs": [
    {
     "data": {
      "text/plain": [
       "time                  object\n",
       "prev_close_pct       float64\n",
       "prev_close_pct_n1    float64\n",
       "prev_close_pct_n2    float64\n",
       "prev_close_pct_n3    float64\n",
       "day_open_pct         float64\n",
       "day_open_pct_n1      float64\n",
       "day_open_pct_n2      float64\n",
       "day_open_pct_n3      float64\n",
       "gap_open_pct         float64\n",
       "highest_high_mag     float64\n",
       "lowest_low_mag       float64\n",
       "dtype: object"
      ]
     },
     "execution_count": 198,
     "metadata": {},
     "output_type": "execute_result"
    }
   ],
   "source": [
    "X.dtypes"
   ]
  },
  {
   "cell_type": "code",
   "execution_count": 199,
   "metadata": {},
   "outputs": [
    {
     "name": "stdout",
     "output_type": "stream",
     "text": [
      "[LightGBM] [Info] Number of positive: 166071, number of negative: 131840\n",
      "[LightGBM] [Info] Auto-choosing row-wise multi-threading, the overhead of testing was 0.001251 seconds.\n",
      "You can set `force_row_wise=true` to remove the overhead.\n",
      "And if memory is not enough, you can set `force_col_wise=true`.\n",
      "[LightGBM] [Info] Total Bins 2881\n",
      "[LightGBM] [Info] Number of data points in the train set: 297911, number of used features: 12\n",
      "[LightGBM] [Info] [binary:BoostFromScore]: pavg=0.557452 -> initscore=0.230826\n",
      "[LightGBM] [Info] Start training from score 0.230826\n",
      "[LightGBM] [Info] Number of positive: 190186, number of negative: 107725\n",
      "[LightGBM] [Info] Auto-choosing row-wise multi-threading, the overhead of testing was 0.001312 seconds.\n",
      "You can set `force_row_wise=true` to remove the overhead.\n",
      "And if memory is not enough, you can set `force_col_wise=true`.\n",
      "[LightGBM] [Info] Total Bins 2881\n",
      "[LightGBM] [Info] Number of data points in the train set: 297911, number of used features: 12\n",
      "[LightGBM] [Info] [binary:BoostFromScore]: pavg=0.638399 -> initscore=0.568421\n",
      "[LightGBM] [Info] Start training from score 0.568421\n",
      "[LightGBM] [Info] Number of positive: 161169, number of negative: 136742\n",
      "[LightGBM] [Info] Auto-choosing row-wise multi-threading, the overhead of testing was 0.001247 seconds.\n",
      "You can set `force_row_wise=true` to remove the overhead.\n",
      "And if memory is not enough, you can set `force_col_wise=true`.\n",
      "[LightGBM] [Info] Total Bins 2881\n",
      "[LightGBM] [Info] Number of data points in the train set: 297911, number of used features: 12\n",
      "[LightGBM] [Info] [binary:BoostFromScore]: pavg=0.540997 -> initscore=0.164358\n",
      "[LightGBM] [Info] Start training from score 0.164358\n"
     ]
    },
    {
     "data": {
      "text/plain": [
       "['models/gd_model_spx.joblib']"
      ]
     },
     "execution_count": 199,
     "metadata": {},
     "output_type": "execute_result"
    }
   ],
   "source": [
    "import joblib\n",
    "hod_model = pipeline.fit(X_train, y_train['hod_in'])\n",
    "lod_model = pipeline_lod.fit(X_train, y_train['lod_in'])\n",
    "gd_model = pipeline_gd.fit(X_train, y_train['green_day'])\n",
    "\n",
    "# Save models\n",
    "joblib.dump(hod_model, ticker_dict[tck][\"hod_model\"])\n",
    "joblib.dump(lod_model, ticker_dict[tck][\"lod_model\"])\n",
    "joblib.dump(gd_model, ticker_dict[tck][\"gd_model\"])"
   ]
  },
  {
   "cell_type": "markdown",
   "metadata": {},
   "source": [
    "# Performance"
   ]
  },
  {
   "cell_type": "code",
   "execution_count": 200,
   "metadata": {},
   "outputs": [
    {
     "data": {
      "image/png": "[encoded data removed]",
      "text/plain": [
       "<Figure size 2000x1000 with 1 Axes>"
      ]
     },
     "metadata": {},
     "output_type": "display_data"
    }
   ],
   "source": [
    "import mlflow\n",
    "import matplotlib.pyplot as plt\n",
    "\n",
    "booster = hod_model.named_steps['classifier'].booster_\n",
    "importance_gain = booster.feature_importance(importance_type='gain')\n",
    "feature_imp = pd.DataFrame(sorted(zip(importance_gain, X.columns)), columns=['Value','Feature'])\n",
    "feature_imp = feature_imp.sort_values(by=\"Value\", ascending=True)\n",
    "\n",
    "plt.figure(figsize=(20, 10))\n",
    "plt.barh(feature_imp['Feature'], feature_imp['Value'])\n",
    "plt.title('LightGBM Features (avg over folds)')\n",
    "plt.xlabel('Value')\n",
    "plt.ylabel('Feature')\n",
    "plt.tight_layout()\n",
    "plt.show()\n"
   ]
  },
  {
   "cell_type": "code",
   "execution_count": 201,
   "metadata": {},
   "outputs": [
    {
     "name": "stdout",
     "output_type": "stream",
     "text": [
      "ROC AUC Score: 0.8797447992120617\n",
      "Precision Score: 0.8121632946246857\n",
      "Recall Score: 0.8096431555078172\n",
      "done.\n"
     ]
    }
   ],
   "source": [
    "from sklearn.metrics import roc_auc_score, precision_score, recall_score\n",
    "import mlflow\n",
    "\n",
    "# Metrics for HOD model\n",
    "y_pred_hod = hod_model.predict_proba(X_test)[:,-1]\n",
    "\n",
    "roc_auc_hod = roc_auc_score(y_test['hod_in'], y_pred_hod)\n",
    "precision_hod = precision_score(y_test['hod_in'], y_pred_hod > 0.5)\n",
    "recall_hod = recall_score(y_test['hod_in'], y_pred_hod > 0.5)\n",
    "\n",
    "print(f\"ROC AUC Score: {roc_auc_hod}\")\n",
    "print(f\"Precision Score: {precision_hod}\")\n",
    "print(f\"Recall Score: {recall_hod}\")\n",
    "\n",
    "train_start = X_train.index.date.min()\n",
    "train_end = X_train.index.date.max()\n",
    "test_start = X_test.index.date.min()\n",
    "test_end = X_test.index.date.max()\n",
    "train_size = len(X_train)\n",
    "test_size = len(X_test)\n",
    "\n",
    "# Start a new MLFlow run\n",
    "with mlflow.start_run():\n",
    "\n",
    "    ts = datetime.datetime.now()\n",
    "\n",
    "    mlflow.set_tag(f\"mlflow.runName\", f\"{tck} HOD Model {ts.hour:02}:{ts.minute:02}:{ts.second:02}\")\n",
    "\n",
    "    # Log the model\n",
    "    mlflow.log_param(\"model\", str(hod_model.named_steps))\n",
    "\n",
    "    # Log the features\n",
    "    mlflow.log_param(\"features\", hod_model.feature_names_in_)\n",
    "    mlflow.log_param(\"train_date_range\", f\"{train_start} to {train_end}\")\n",
    "    mlflow.log_param(\"test_date_range\", f\"{test_start} to {test_end}\")\n",
    "    mlflow.log_param(\"train_size\", train_size)\n",
    "    mlflow.log_param(\"test_size\", test_size)\n",
    "\n",
    "    # Assume y_test and y_pred are your test labels and model predictions\n",
    "    # Calculate scores\n",
    "\n",
    "    # Log the scores\n",
    "    mlflow.log_metric(\"roc_auc\", roc_auc_hod)\n",
    "    mlflow.log_metric(\"precision\", precision_hod)\n",
    "    mlflow.log_metric(\"recall\", recall_hod)\n",
    "\n",
    "    # Log the timestamp\n",
    "    mlflow.log_param(\"created_at\", ts)\n",
    "\n",
    "print('done.')"
   ]
  },
  {
   "cell_type": "code",
   "execution_count": 202,
   "metadata": {},
   "outputs": [
    {
     "name": "stdout",
     "output_type": "stream",
     "text": [
      "ROC AUC Score: 0.8582773873679408\n",
      "Precision Score: 0.7916748865653975\n",
      "Recall Score: 0.8503019387646996\n",
      "done.\n"
     ]
    }
   ],
   "source": [
    "from sklearn.metrics import roc_auc_score, precision_score, recall_score\n",
    "\n",
    "# Metrics for LOD model\n",
    "y_pred_lod = lod_model.predict_proba(X_test)[:,-1]\n",
    "\n",
    "roc_auc_lod = roc_auc_score(y_test['lod_in'], y_pred_lod)\n",
    "precision_lod = precision_score(y_test['lod_in'], y_pred_lod > 0.5)\n",
    "recall_lod = recall_score(y_test['lod_in'], y_pred_lod > 0.5)\n",
    "\n",
    "print(f\"ROC AUC Score: {roc_auc_lod}\")\n",
    "print(f\"Precision Score: {precision_lod}\")\n",
    "print(f\"Recall Score: {recall_lod}\")\n",
    "\n",
    "# Start a new MLFlow run\n",
    "with mlflow.start_run():\n",
    "\n",
    "    ts = datetime.datetime.now()\n",
    "\n",
    "    mlflow.set_tag(f\"mlflow.runName\", f\"{tck} LOD Model {ts.hour:02}:{ts.minute:02}:{ts.second:02}\")\n",
    "\n",
    "    # Log the model\n",
    "    mlflow.log_param(\"model\", str(lod_model.named_steps))\n",
    "\n",
    "    # Log the features\n",
    "    mlflow.log_param(\"features\", lod_model.feature_names_in_)\n",
    "    mlflow.log_param(\"train_date_range\", f\"{train_start} to {train_end}\")\n",
    "    mlflow.log_param(\"test_date_range\", f\"{test_start} to {test_end}\")\n",
    "    mlflow.log_param(\"train_size\", train_size)\n",
    "    mlflow.log_param(\"test_size\", test_size)\n",
    "\n",
    "    # Assume y_test and y_pred are your test labels and model predictions\n",
    "    # Calculate scores\n",
    "\n",
    "    # Log the scores\n",
    "    mlflow.log_metric(\"roc_auc\", roc_auc_lod)\n",
    "    mlflow.log_metric(\"precision\", precision_lod)\n",
    "    mlflow.log_metric(\"recall\", recall_lod)\n",
    "\n",
    "    # Log the timestamp\n",
    "    mlflow.log_param(\"created_at\", ts)\n",
    "\n",
    "print('done.')"
   ]
  },
  {
   "cell_type": "code",
   "execution_count": 203,
   "metadata": {},
   "outputs": [
    {
     "name": "stdout",
     "output_type": "stream",
     "text": [
      "ROC AUC Score: 0.9044964534684206\n",
      "Precision Score: 0.841897233201581\n",
      "Recall Score: 0.834265890778872\n",
      "done.\n"
     ]
    }
   ],
   "source": [
    "from sklearn.metrics import roc_auc_score, precision_score, recall_score\n",
    "\n",
    "# Metrics for LOD model\n",
    "y_pred_gd = gd_model.predict_proba(X_test)[:,-1]\n",
    "\n",
    "roc_auc_gd = roc_auc_score(y_test['green_day'], y_pred_gd)\n",
    "precision_gd = precision_score(y_test['green_day'], y_pred_gd > 0.5)\n",
    "recall_gd = recall_score(y_test['green_day'], y_pred_gd > 0.5)\n",
    "\n",
    "print(f\"ROC AUC Score: {roc_auc_gd}\")\n",
    "print(f\"Precision Score: {precision_gd}\")\n",
    "print(f\"Recall Score: {recall_gd}\")\n",
    "\n",
    "# Start a new MLFlow run\n",
    "with mlflow.start_run():\n",
    "\n",
    "    ts = datetime.datetime.now()\n",
    "\n",
    "    mlflow.set_tag(f\"mlflow.runName\", f\"{tck} GD Model {ts.hour:02}:{ts.minute:02}:{ts.second:02}\")\n",
    "\n",
    "    # Log the model\n",
    "    mlflow.log_param(\"model\", str(gd_model.named_steps))\n",
    "\n",
    "    # Log the features\n",
    "    mlflow.log_param(\"features\", gd_model.feature_names_in_)\n",
    "    mlflow.log_param(\"train_date_range\", f\"{train_start} to {train_end}\")\n",
    "    mlflow.log_param(\"test_date_range\", f\"{test_start} to {test_end}\")\n",
    "    mlflow.log_param(\"train_size\", train_size)\n",
    "    mlflow.log_param(\"test_size\", test_size)\n",
    "\n",
    "    # Assume y_test and y_pred are your test labels and model predictions\n",
    "    # Calculate scores\n",
    "\n",
    "    # Log the scores\n",
    "    mlflow.log_metric(\"roc_auc\", roc_auc_gd)\n",
    "    mlflow.log_metric(\"precision\", precision_gd)\n",
    "    mlflow.log_metric(\"recall\", recall_gd)\n",
    "\n",
    "    # Log the timestamp\n",
    "    mlflow.log_param(\"created_at\", ts)\n",
    "\n",
    "print('done.')"
   ]
  },
  {
   "cell_type": "code",
   "execution_count": 204,
   "metadata": {},
   "outputs": [],
   "source": [
    "# feature_names = pipeline.feature_names_in_\n",
    "# coefficients = pipeline.named_steps['classifier'].feature_importances_\n",
    "# # coefficients = pipeline.named_steps['classifier'].coef_[0]\n",
    "# for feature, coef in zip(feature_names, coefficients):\n",
    "#     print(f\"{feature}: {coef}\")"
   ]
  },
  {
   "cell_type": "code",
   "execution_count": 205,
   "metadata": {},
   "outputs": [
    {
     "data": {
      "application/vnd.plotly.v1+json": {
       "config": {
        "plotlyServerURL": "https://plot.ly"
       },
       "data": [
        {
         "hovertemplate": "variable=roc_auc<br>index=%{x}<br>value=%{y}<extra></extra>",
         "legendgroup": "roc_auc",
         "line": {
          "color": "#636efa",
          "dash": "solid"
         },
         "marker": {
          "symbol": "circle"
         },
         "mode": "lines",
         "name": "roc_auc",
         "orientation": "v",
         "showlegend": true,
         "type": "scatter",
         "x": [
          "09:45:00",
          "09:50:00",
          "09:55:00",
          "10:00:00",
          "10:05:00",
          "10:10:00",
          "10:15:00",
          "10:20:00",
          "10:25:00",
          "10:30:00",
          "10:35:00",
          "10:40:00",
          "10:45:00",
          "10:50:00",
          "10:55:00",
          "11:00:00",
          "11:05:00",
          "11:10:00",
          "11:15:00",
          "11:20:00",
          "11:25:00",
          "11:30:00",
          "11:35:00",
          "11:40:00",
          "11:45:00",
          "11:50:00",
          "11:55:00",
          "12:00:00",
          "12:05:00",
          "12:10:00",
          "12:15:00",
          "12:20:00",
          "12:25:00",
          "12:30:00",
          "12:35:00",
          "12:40:00",
          "12:45:00",
          "12:50:00",
          "12:55:00",
          "13:00:00",
          "13:05:00",
          "13:10:00",
          "13:15:00",
          "13:20:00",
          "13:25:00",
          "13:30:00",
          "13:35:00",
          "13:40:00",
          "13:45:00",
          "13:50:00",
          "13:55:00",
          "14:00:00",
          "14:05:00",
          "14:10:00",
          "14:15:00",
          "14:20:00",
          "14:25:00",
          "14:30:00",
          "14:35:00",
          "14:40:00",
          "14:45:00",
          "14:50:00",
          "14:55:00",
          "15:00:00",
          "15:05:00",
          "15:10:00",
          "15:15:00",
          "15:20:00",
          "15:25:00",
          "15:30:00",
          "15:35:00",
          "15:40:00",
          "15:45:00",
          "15:50:00",
          "15:55:00"
         ],
         "xaxis": "x",
         "y": [
          0.721655328798186,
          0.7327609427609427,
          0.7486588921282799,
          0.747859375,
          0.7577304607277096,
          0.7752321409728816,
          0.78524162966633,
          0.792465695508167,
          0.7977482928090688,
          0.8011179705915366,
          0.8037349125920277,
          0.8058211426447651,
          0.8095527906378601,
          0.8105297002599106,
          0.8146520388135742,
          0.817311195533909,
          0.8182763710379062,
          0.8207123860108936,
          0.822433103646282,
          0.8249016720389067,
          0.8275092445515733,
          0.8291871505917945,
          0.8317538393801477,
          0.8343086599845733,
          0.8363610514849581,
          0.838300331066077,
          0.8407990104124188,
          0.8430202053885983,
          0.8445008981003986,
          0.8453472105816228,
          0.846376946842581,
          0.8474981301265224,
          0.8488463344747019,
          0.8501447361747325,
          0.8505716098745281,
          0.8512866100814441,
          0.8519695439451755,
          0.8523864159787895,
          0.852240765386374,
          0.8522682078150197,
          0.8525570633726424,
          0.8527910605877549,
          0.8530855810802548,
          0.8531620568708633,
          0.8540384937600578,
          0.8546633485651168,
          0.8554135128088678,
          0.8557135097510529,
          0.8558918537462504,
          0.8558777997905826,
          0.856307443929556,
          0.8567256596972058,
          0.8571850094762192,
          0.857430319755007,
          0.8578761310017944,
          0.8581541735488707,
          0.8587311550517154,
          0.8595074368096394,
          0.8601889828700772,
          0.860966056412178,
          0.8618860973125523,
          0.8630240605334981,
          0.8640824074854108,
          0.8653072445758219,
          0.86605371721147,
          0.866878203085027,
          0.8679281592916898,
          0.8687810400738738,
          0.8696642889612276,
          0.8706756272398759,
          0.8717303771460888,
          0.8732798777451717,
          0.874766032587299,
          0.8766835971849056,
          0.8797447992120617
         ],
         "yaxis": "y"
        },
        {
         "hovertemplate": "variable=precision<br>index=%{x}<br>value=%{y}<extra></extra>",
         "legendgroup": "precision",
         "line": {
          "color": "#EF553B",
          "dash": "solid"
         },
         "marker": {
          "symbol": "circle"
         },
         "mode": "lines",
         "name": "precision",
         "orientation": "v",
         "showlegend": true,
         "type": "scatter",
         "x": [
          "09:45:00",
          "09:50:00",
          "09:55:00",
          "10:00:00",
          "10:05:00",
          "10:10:00",
          "10:15:00",
          "10:20:00",
          "10:25:00",
          "10:30:00",
          "10:35:00",
          "10:40:00",
          "10:45:00",
          "10:50:00",
          "10:55:00",
          "11:00:00",
          "11:05:00",
          "11:10:00",
          "11:15:00",
          "11:20:00",
          "11:25:00",
          "11:30:00",
          "11:35:00",
          "11:40:00",
          "11:45:00",
          "11:50:00",
          "11:55:00",
          "12:00:00",
          "12:05:00",
          "12:10:00",
          "12:15:00",
          "12:20:00",
          "12:25:00",
          "12:30:00",
          "12:35:00",
          "12:40:00",
          "12:45:00",
          "12:50:00",
          "12:55:00",
          "13:00:00",
          "13:05:00",
          "13:10:00",
          "13:15:00",
          "13:20:00",
          "13:25:00",
          "13:30:00",
          "13:35:00",
          "13:40:00",
          "13:45:00",
          "13:50:00",
          "13:55:00",
          "14:00:00",
          "14:05:00",
          "14:10:00",
          "14:15:00",
          "14:20:00",
          "14:25:00",
          "14:30:00",
          "14:35:00",
          "14:40:00",
          "14:45:00",
          "14:50:00",
          "14:55:00",
          "15:00:00",
          "15:05:00",
          "15:10:00",
          "15:15:00",
          "15:20:00",
          "15:25:00",
          "15:30:00",
          "15:35:00",
          "15:40:00",
          "15:45:00",
          "15:50:00",
          "15:55:00"
         ],
         "xaxis": "x",
         "y": [
          0.4666666666666667,
          0.4482758620689655,
          0.4418604651162791,
          0.463768115942029,
          0.49074074074074076,
          0.5486111111111112,
          0.5803108808290155,
          0.5951417004048583,
          0.6091205211726385,
          0.613941018766756,
          0.6221719457013575,
          0.6264591439688716,
          0.6306913996627319,
          0.6335311572700296,
          0.6415343915343915,
          0.6471291866028708,
          0.6517954298150164,
          0.6573705179282868,
          0.6599450045829515,
          0.6627218934911243,
          0.6661417322834645,
          0.669112252384446,
          0.6735253772290809,
          0.6801801801801802,
          0.6856796116504854,
          0.6903262736119061,
          0.695604991861096,
          0.7005154639175257,
          0.7034855179185077,
          0.7066541705716963,
          0.7093596059113301,
          0.7130620985010707,
          0.7158067158067158,
          0.7204554377699254,
          0.7228915662650602,
          0.7253342970726419,
          0.7273358805140674,
          0.7297929191716767,
          0.7322809278350515,
          0.7346368715083799,
          0.7362275449101796,
          0.7381986678250796,
          0.7397759103641457,
          0.741253051261188,
          0.7434417628541448,
          0.7462496821764556,
          0.7483966452886038,
          0.7503593675131768,
          0.751860465116279,
          0.7533875338753387,
          0.7553751645458534,
          0.757459505541347,
          0.7586992543496272,
          0.7602739726027398,
          0.7621568627450981,
          0.7639870154668703,
          0.7655262179248792,
          0.7675724637681159,
          0.7694209039548022,
          0.7716942148760331,
          0.7738955148664539,
          0.7761022783150303,
          0.7787738114294862,
          0.7816846382247226,
          0.7838291380625477,
          0.7864164432529044,
          0.7895502838014845,
          0.7918738457167211,
          0.7941176470588235,
          0.7960481797266207,
          0.7983626039878515,
          0.8011605415860735,
          0.8038500251635632,
          0.8073664825046041,
          0.8121632946246857
         ],
         "yaxis": "y"
        },
        {
         "hovertemplate": "variable=recall<br>index=%{x}<br>value=%{y}<extra></extra>",
         "legendgroup": "recall",
         "line": {
          "color": "#00cc96",
          "dash": "solid"
         },
         "marker": {
          "symbol": "circle"
         },
         "mode": "lines",
         "name": "recall",
         "orientation": "v",
         "showlegend": true,
         "type": "scatter",
         "x": [
          "09:45:00",
          "09:50:00",
          "09:55:00",
          "10:00:00",
          "10:05:00",
          "10:10:00",
          "10:15:00",
          "10:20:00",
          "10:25:00",
          "10:30:00",
          "10:35:00",
          "10:40:00",
          "10:45:00",
          "10:50:00",
          "10:55:00",
          "11:00:00",
          "11:05:00",
          "11:10:00",
          "11:15:00",
          "11:20:00",
          "11:25:00",
          "11:30:00",
          "11:35:00",
          "11:40:00",
          "11:45:00",
          "11:50:00",
          "11:55:00",
          "12:00:00",
          "12:05:00",
          "12:10:00",
          "12:15:00",
          "12:20:00",
          "12:25:00",
          "12:30:00",
          "12:35:00",
          "12:40:00",
          "12:45:00",
          "12:50:00",
          "12:55:00",
          "13:00:00",
          "13:05:00",
          "13:10:00",
          "13:15:00",
          "13:20:00",
          "13:25:00",
          "13:30:00",
          "13:35:00",
          "13:40:00",
          "13:45:00",
          "13:50:00",
          "13:55:00",
          "14:00:00",
          "14:05:00",
          "14:10:00",
          "14:15:00",
          "14:20:00",
          "14:25:00",
          "14:30:00",
          "14:35:00",
          "14:40:00",
          "14:45:00",
          "14:50:00",
          "14:55:00",
          "15:00:00",
          "15:05:00",
          "15:10:00",
          "15:15:00",
          "15:20:00",
          "15:25:00",
          "15:30:00",
          "15:35:00",
          "15:40:00",
          "15:45:00",
          "15:50:00",
          "15:55:00"
         ],
         "xaxis": "x",
         "y": [
          0.16666666666666666,
          0.14444444444444443,
          0.1357142857142857,
          0.16,
          0.20229007633587787,
          0.24382716049382716,
          0.28865979381443296,
          0.32450331125827814,
          0.3603082851637765,
          0.38813559322033897,
          0.41540785498489424,
          0.4375,
          0.4617283950617284,
          0.4813979706877114,
          0.5031120331950207,
          0.519193857965451,
          0.5329181494661922,
          0.5472636815920398,
          0.5581395348837209,
          0.5705967976710334,
          0.5798492117888965,
          0.5895281189398837,
          0.600611620795107,
          0.6123986095017381,
          0.6208791208791209,
          0.6297650130548302,
          0.6378109452736318,
          0.6449928808732796,
          0.6501814882032668,
          0.6547980894485453,
          0.6591760299625468,
          0.6649361022364217,
          0.6707597851112816,
          0.6768720029509406,
          0.6815761448349308,
          0.6866233321929525,
          0.6908611019465523,
          0.6956383317414836,
          0.6985248924400738,
          0.7025823686553874,
          0.7055954088952654,
          0.707466000555093,
          0.7095647501343364,
          0.7115334548294715,
          0.7156565656565657,
          0.7193627450980392,
          0.7223809523809523,
          0.7246645071726052,
          0.7271704903283851,
          0.7296587926509186,
          0.732865048957003,
          0.7361226180613091,
          0.7388059701492538,
          0.7414538310412574,
          0.7443508234392953,
          0.7470126960418223,
          0.7499089253187614,
          0.7531105581230003,
          0.7562033663022731,
          0.7591463414634146,
          0.7618653877956011,
          0.7648198998546277,
          0.7675923004102241,
          0.7709617755856967,
          0.7734457323498419,
          0.7764705882352941,
          0.7794540229885057,
          0.7824256035934868,
          0.7852929071203183,
          0.7888948497854077,
          0.792710108823915,
          0.7965384615384615,
          0.8006265664160401,
          0.8047974544119447,
          0.8096431555078172
         ],
         "yaxis": "y"
        }
       ],
       "layout": {
        "legend": {
         "title": {
          "text": "variable"
         },
         "tracegroupgap": 0
        },
        "template": {
         "data": {
          "bar": [
           {
            "error_x": {
             "color": "#2a3f5f"
            },
            "error_y": {
             "color": "#2a3f5f"
            },
            "marker": {
             "line": {
              "color": "#E5ECF6",
              "width": 0.5
             },
             "pattern": {
              "fillmode": "overlay",
              "size": 10,
              "solidity": 0.2
             }
            },
            "type": "bar"
           }
          ],
          "barpolar": [
           {
            "marker": {
             "line": {
              "color": "#E5ECF6",
              "width": 0.5
             },
             "pattern": {
              "fillmode": "overlay",
              "size": 10,
              "solidity": 0.2
             }
            },
            "type": "barpolar"
           }
          ],
          "carpet": [
           {
            "aaxis": {
             "endlinecolor": "#2a3f5f",
             "gridcolor": "white",
             "linecolor": "white",
             "minorgridcolor": "white",
             "startlinecolor": "#2a3f5f"
            },
            "baxis": {
             "endlinecolor": "#2a3f5f",
             "gridcolor": "white",
             "linecolor": "white",
             "minorgridcolor": "white",
             "startlinecolor": "#2a3f5f"
            },
            "type": "carpet"
           }
          ],
          "choropleth": [
           {
            "colorbar": {
             "outlinewidth": 0,
             "ticks": ""
            },
            "type": "choropleth"
           }
          ],
          "contour": [
           {
            "colorbar": {
             "outlinewidth": 0,
             "ticks": ""
            },
            "colorscale": [
             [
              0,
              "#0d0887"
             ],
             [
              0.1111111111111111,
              "#46039f"
             ],
             [
              0.2222222222222222,
              "#7201a8"
             ],
             [
              0.3333333333333333,
              "#9c179e"
             ],
             [
              0.4444444444444444,
              "#bd3786"
             ],
             [
              0.5555555555555556,
              "#d8576b"
             ],
             [
              0.6666666666666666,
              "#ed7953"
             ],
             [
              0.7777777777777778,
              "#fb9f3a"
             ],
             [
              0.8888888888888888,
              "#fdca26"
             ],
             [
              1,
              "#f0f921"
             ]
            ],
            "type": "contour"
           }
          ],
          "contourcarpet": [
           {
            "colorbar": {
             "outlinewidth": 0,
             "ticks": ""
            },
            "type": "contourcarpet"
           }
          ],
          "heatmap": [
           {
            "colorbar": {
             "outlinewidth": 0,
             "ticks": ""
            },
            "colorscale": [
             [
              0,
              "#0d0887"
             ],
             [
              0.1111111111111111,
              "#46039f"
             ],
             [
              0.2222222222222222,
              "#7201a8"
             ],
             [
              0.3333333333333333,
              "#9c179e"
             ],
             [
              0.4444444444444444,
              "#bd3786"
             ],
             [
              0.5555555555555556,
              "#d8576b"
             ],
             [
              0.6666666666666666,
              "#ed7953"
             ],
             [
              0.7777777777777778,
              "#fb9f3a"
             ],
             [
              0.8888888888888888,
              "#fdca26"
             ],
             [
              1,
              "#f0f921"
             ]
            ],
            "type": "heatmap"
           }
          ],
          "heatmapgl": [
           {
            "colorbar": {
             "outlinewidth": 0,
             "ticks": ""
            },
            "colorscale": [
             [
              0,
              "#0d0887"
             ],
             [
              0.1111111111111111,
              "#46039f"
             ],
             [
              0.2222222222222222,
              "#7201a8"
             ],
             [
              0.3333333333333333,
              "#9c179e"
             ],
             [
              0.4444444444444444,
              "#bd3786"
             ],
             [
              0.5555555555555556,
              "#d8576b"
             ],
             [
              0.6666666666666666,
              "#ed7953"
             ],
             [
              0.7777777777777778,
              "#fb9f3a"
             ],
             [
              0.8888888888888888,
              "#fdca26"
             ],
             [
              1,
              "#f0f921"
             ]
            ],
            "type": "heatmapgl"
           }
          ],
          "histogram": [
           {
            "marker": {
             "pattern": {
              "fillmode": "overlay",
              "size": 10,
              "solidity": 0.2
             }
            },
            "type": "histogram"
           }
          ],
          "histogram2d": [
           {
            "colorbar": {
             "outlinewidth": 0,
             "ticks": ""
            },
            "colorscale": [
             [
              0,
              "#0d0887"
             ],
             [
              0.1111111111111111,
              "#46039f"
             ],
             [
              0.2222222222222222,
              "#7201a8"
             ],
             [
              0.3333333333333333,
              "#9c179e"
             ],
             [
              0.4444444444444444,
              "#bd3786"
             ],
             [
              0.5555555555555556,
              "#d8576b"
             ],
             [
              0.6666666666666666,
              "#ed7953"
             ],
             [
              0.7777777777777778,
              "#fb9f3a"
             ],
             [
              0.8888888888888888,
              "#fdca26"
             ],
             [
              1,
              "#f0f921"
             ]
            ],
            "type": "histogram2d"
           }
          ],
          "histogram2dcontour": [
           {
            "colorbar": {
             "outlinewidth": 0,
             "ticks": ""
            },
            "colorscale": [
             [
              0,
              "#0d0887"
             ],
             [
              0.1111111111111111,
              "#46039f"
             ],
             [
              0.2222222222222222,
              "#7201a8"
             ],
             [
              0.3333333333333333,
              "#9c179e"
             ],
             [
              0.4444444444444444,
              "#bd3786"
             ],
             [
              0.5555555555555556,
              "#d8576b"
             ],
             [
              0.6666666666666666,
              "#ed7953"
             ],
             [
              0.7777777777777778,
              "#fb9f3a"
             ],
             [
              0.8888888888888888,
              "#fdca26"
             ],
             [
              1,
              "#f0f921"
             ]
            ],
            "type": "histogram2dcontour"
           }
          ],
          "mesh3d": [
           {
            "colorbar": {
             "outlinewidth": 0,
             "ticks": ""
            },
            "type": "mesh3d"
           }
          ],
          "parcoords": [
           {
            "line": {
             "colorbar": {
              "outlinewidth": 0,
              "ticks": ""
             }
            },
            "type": "parcoords"
           }
          ],
          "pie": [
           {
            "automargin": true,
            "type": "pie"
           }
          ],
          "scatter": [
           {
            "fillpattern": {
             "fillmode": "overlay",
             "size": 10,
             "solidity": 0.2
            },
            "type": "scatter"
           }
          ],
          "scatter3d": [
           {
            "line": {
             "colorbar": {
              "outlinewidth": 0,
              "ticks": ""
             }
            },
            "marker": {
             "colorbar": {
              "outlinewidth": 0,
              "ticks": ""
             }
            },
            "type": "scatter3d"
           }
          ],
          "scattercarpet": [
           {
            "marker": {
             "colorbar": {
              "outlinewidth": 0,
              "ticks": ""
             }
            },
            "type": "scattercarpet"
           }
          ],
          "scattergeo": [
           {
            "marker": {
             "colorbar": {
              "outlinewidth": 0,
              "ticks": ""
             }
            },
            "type": "scattergeo"
           }
          ],
          "scattergl": [
           {
            "marker": {
             "colorbar": {
              "outlinewidth": 0,
              "ticks": ""
             }
            },
            "type": "scattergl"
           }
          ],
          "scattermapbox": [
           {
            "marker": {
             "colorbar": {
              "outlinewidth": 0,
              "ticks": ""
             }
            },
            "type": "scattermapbox"
           }
          ],
          "scatterpolar": [
           {
            "marker": {
             "colorbar": {
              "outlinewidth": 0,
              "ticks": ""
             }
            },
            "type": "scatterpolar"
           }
          ],
          "scatterpolargl": [
           {
            "marker": {
             "colorbar": {
              "outlinewidth": 0,
              "ticks": ""
             }
            },
            "type": "scatterpolargl"
           }
          ],
          "scatterternary": [
           {
            "marker": {
             "colorbar": {
              "outlinewidth": 0,
              "ticks": ""
             }
            },
            "type": "scatterternary"
           }
          ],
          "surface": [
           {
            "colorbar": {
             "outlinewidth": 0,
             "ticks": ""
            },
            "colorscale": [
             [
              0,
              "#0d0887"
             ],
             [
              0.1111111111111111,
              "#46039f"
             ],
             [
              0.2222222222222222,
              "#7201a8"
             ],
             [
              0.3333333333333333,
              "#9c179e"
             ],
             [
              0.4444444444444444,
              "#bd3786"
             ],
             [
              0.5555555555555556,
              "#d8576b"
             ],
             [
              0.6666666666666666,
              "#ed7953"
             ],
             [
              0.7777777777777778,
              "#fb9f3a"
             ],
             [
              0.8888888888888888,
              "#fdca26"
             ],
             [
              1,
              "#f0f921"
             ]
            ],
            "type": "surface"
           }
          ],
          "table": [
           {
            "cells": {
             "fill": {
              "color": "#EBF0F8"
             },
             "line": {
              "color": "white"
             }
            },
            "header": {
             "fill": {
              "color": "#C8D4E3"
             },
             "line": {
              "color": "white"
             }
            },
            "type": "table"
           }
          ]
         },
         "layout": {
          "annotationdefaults": {
           "arrowcolor": "#2a3f5f",
           "arrowhead": 0,
           "arrowwidth": 1
          },
          "autotypenumbers": "strict",
          "coloraxis": {
           "colorbar": {
            "outlinewidth": 0,
            "ticks": ""
           }
          },
          "colorscale": {
           "diverging": [
            [
             0,
             "#8e0152"
            ],
            [
             0.1,
             "#c51b7d"
            ],
            [
             0.2,
             "#de77ae"
            ],
            [
             0.3,
             "#f1b6da"
            ],
            [
             0.4,
             "#fde0ef"
            ],
            [
             0.5,
             "#f7f7f7"
            ],
            [
             0.6,
             "#e6f5d0"
            ],
            [
             0.7,
             "#b8e186"
            ],
            [
             0.8,
             "#7fbc41"
            ],
            [
             0.9,
             "#4d9221"
            ],
            [
             1,
             "#276419"
            ]
           ],
           "sequential": [
            [
             0,
             "#0d0887"
            ],
            [
             0.1111111111111111,
             "#46039f"
            ],
            [
             0.2222222222222222,
             "#7201a8"
            ],
            [
             0.3333333333333333,
             "#9c179e"
            ],
            [
             0.4444444444444444,
             "#bd3786"
            ],
            [
             0.5555555555555556,
             "#d8576b"
            ],
            [
             0.6666666666666666,
             "#ed7953"
            ],
            [
             0.7777777777777778,
             "#fb9f3a"
            ],
            [
             0.8888888888888888,
             "#fdca26"
            ],
            [
             1,
             "#f0f921"
            ]
           ],
           "sequentialminus": [
            [
             0,
             "#0d0887"
            ],
            [
             0.1111111111111111,
             "#46039f"
            ],
            [
             0.2222222222222222,
             "#7201a8"
            ],
            [
             0.3333333333333333,
             "#9c179e"
            ],
            [
             0.4444444444444444,
             "#bd3786"
            ],
            [
             0.5555555555555556,
             "#d8576b"
            ],
            [
             0.6666666666666666,
             "#ed7953"
            ],
            [
             0.7777777777777778,
             "#fb9f3a"
            ],
            [
             0.8888888888888888,
             "#fdca26"
            ],
            [
             1,
             "#f0f921"
            ]
           ]
          },
          "colorway": [
           "#636efa",
           "#EF553B",
           "#00cc96",
           "#ab63fa",
           "#FFA15A",
           "#19d3f3",
           "#FF6692",
           "#B6E880",
           "#FF97FF",
           "#FECB52"
          ],
          "font": {
           "color": "#2a3f5f"
          },
          "geo": {
           "bgcolor": "white",
           "lakecolor": "white",
           "landcolor": "#E5ECF6",
           "showlakes": true,
           "showland": true,
           "subunitcolor": "white"
          },
          "hoverlabel": {
           "align": "left"
          },
          "hovermode": "closest",
          "mapbox": {
           "style": "light"
          },
          "paper_bgcolor": "white",
          "plot_bgcolor": "#E5ECF6",
          "polar": {
           "angularaxis": {
            "gridcolor": "white",
            "linecolor": "white",
            "ticks": ""
           },
           "bgcolor": "#E5ECF6",
           "radialaxis": {
            "gridcolor": "white",
            "linecolor": "white",
            "ticks": ""
           }
          },
          "scene": {
           "xaxis": {
            "backgroundcolor": "#E5ECF6",
            "gridcolor": "white",
            "gridwidth": 2,
            "linecolor": "white",
            "showbackground": true,
            "ticks": "",
            "zerolinecolor": "white"
           },
           "yaxis": {
            "backgroundcolor": "#E5ECF6",
            "gridcolor": "white",
            "gridwidth": 2,
            "linecolor": "white",
            "showbackground": true,
            "ticks": "",
            "zerolinecolor": "white"
           },
           "zaxis": {
            "backgroundcolor": "#E5ECF6",
            "gridcolor": "white",
            "gridwidth": 2,
            "linecolor": "white",
            "showbackground": true,
            "ticks": "",
            "zerolinecolor": "white"
           }
          },
          "shapedefaults": {
           "line": {
            "color": "#2a3f5f"
           }
          },
          "ternary": {
           "aaxis": {
            "gridcolor": "white",
            "linecolor": "white",
            "ticks": ""
           },
           "baxis": {
            "gridcolor": "white",
            "linecolor": "white",
            "ticks": ""
           },
           "bgcolor": "#E5ECF6",
           "caxis": {
            "gridcolor": "white",
            "linecolor": "white",
            "ticks": ""
           }
          },
          "title": {
           "x": 0.05
          },
          "xaxis": {
           "automargin": true,
           "gridcolor": "white",
           "linecolor": "white",
           "ticks": "",
           "title": {
            "standoff": 15
           },
           "zerolinecolor": "white",
           "zerolinewidth": 2
          },
          "yaxis": {
           "automargin": true,
           "gridcolor": "white",
           "linecolor": "white",
           "ticks": "",
           "title": {
            "standoff": 15
           },
           "zerolinecolor": "white",
           "zerolinewidth": 2
          }
         }
        },
        "title": {
         "text": "Validation Metrics Over Time (HOD Model)"
        },
        "xaxis": {
         "anchor": "y",
         "domain": [
          0,
          1
         ],
         "title": {
          "text": "index"
         }
        },
        "yaxis": {
         "anchor": "x",
         "domain": [
          0,
          1
         ],
         "title": {
          "text": "value"
         }
        }
       }
      }
     },
     "metadata": {},
     "output_type": "display_data"
    }
   ],
   "source": [
    "import datetime\n",
    "import plotly.express as px\n",
    "\n",
    "\n",
    "time_range = [datetime.time(hour, minute) for hour in range(9, 16) for minute in range(0, 60, 5)]\n",
    "time_range = [x for x in time_range if x >= datetime.time(9,45)]\n",
    "df_val = pd.DataFrame()\n",
    "for t in time_range:\n",
    "    X_val = X_test.loc[X_test['time'] <= t].copy()\n",
    "    y_val = y_test.loc[X_val.index, 'hod_in'].copy()\n",
    "\n",
    "    y_pred_val = pipeline.predict_proba(X_val)[:,-1]\n",
    "\n",
    "    df_val.loc[t, [\n",
    "        'roc_auc',\n",
    "        'precision',\n",
    "        'recall'\n",
    "    ]] =  roc_auc_score(y_val, y_pred_val), precision_score(y_val, y_pred_val > 0.5), recall_score(y_val, y_pred_val > 0.5)\n",
    "\n",
    "\n",
    "fig = px.line(df_val, title='Validation Metrics Over Time (HOD Model)')\n",
    "fig.show()"
   ]
  },
  {
   "cell_type": "code",
   "execution_count": 206,
   "metadata": {},
   "outputs": [
    {
     "data": {
      "application/vnd.plotly.v1+json": {
       "config": {
        "plotlyServerURL": "https://plot.ly"
       },
       "data": [
        {
         "hovertemplate": "variable=roc_auc<br>index=%{x}<br>value=%{y}<extra></extra>",
         "legendgroup": "roc_auc",
         "line": {
          "color": "#636efa",
          "dash": "solid"
         },
         "marker": {
          "symbol": "circle"
         },
         "mode": "lines",
         "name": "roc_auc",
         "orientation": "v",
         "showlegend": true,
         "type": "scatter",
         "x": [
          "09:45:00",
          "09:50:00",
          "09:55:00",
          "10:00:00",
          "10:05:00",
          "10:10:00",
          "10:15:00",
          "10:20:00",
          "10:25:00",
          "10:30:00",
          "10:35:00",
          "10:40:00",
          "10:45:00",
          "10:50:00",
          "10:55:00",
          "11:00:00",
          "11:05:00",
          "11:10:00",
          "11:15:00",
          "11:20:00",
          "11:25:00",
          "11:30:00",
          "11:35:00",
          "11:40:00",
          "11:45:00",
          "11:50:00",
          "11:55:00",
          "12:00:00",
          "12:05:00",
          "12:10:00",
          "12:15:00",
          "12:20:00",
          "12:25:00",
          "12:30:00",
          "12:35:00",
          "12:40:00",
          "12:45:00",
          "12:50:00",
          "12:55:00",
          "13:00:00",
          "13:05:00",
          "13:10:00",
          "13:15:00",
          "13:20:00",
          "13:25:00",
          "13:30:00",
          "13:35:00",
          "13:40:00",
          "13:45:00",
          "13:50:00",
          "13:55:00",
          "14:00:00",
          "14:05:00",
          "14:10:00",
          "14:15:00",
          "14:20:00",
          "14:25:00",
          "14:30:00",
          "14:35:00",
          "14:40:00",
          "14:45:00",
          "14:50:00",
          "14:55:00",
          "15:00:00",
          "15:05:00",
          "15:10:00",
          "15:15:00",
          "15:20:00",
          "15:25:00",
          "15:30:00",
          "15:35:00",
          "15:40:00",
          "15:45:00",
          "15:50:00",
          "15:55:00"
         ],
         "xaxis": "x",
         "y": [
          0.6683866529067767,
          0.6823502863106824,
          0.6863913644087482,
          0.7098972530928916,
          0.7191456471099263,
          0.7346511994949495,
          0.7407879028205122,
          0.7442080063411479,
          0.7491112714496346,
          0.7538199476650563,
          0.7610849974922127,
          0.7691162775971825,
          0.7735396997963664,
          0.7749211732373917,
          0.7777740113628661,
          0.7804353087451779,
          0.7821248669150918,
          0.7832923697243543,
          0.7842524628825754,
          0.7858854260728744,
          0.7878012477578781,
          0.7882454240936396,
          0.7890564739625876,
          0.7903297475340445,
          0.7915780150328448,
          0.7921743979340878,
          0.7924019917928584,
          0.7929775629135563,
          0.7933232310519517,
          0.7941252348667928,
          0.7947109107994113,
          0.7951058768758502,
          0.7956198982871523,
          0.7960720522848868,
          0.7966751412693223,
          0.7968907607363106,
          0.7970551515139793,
          0.7973050217514825,
          0.7976500347521129,
          0.7984246912684014,
          0.7997491591518032,
          0.8005941953743865,
          0.8020151270136137,
          0.8033369895346614,
          0.8051224680532165,
          0.8061040890249171,
          0.8072679318437901,
          0.8083023089244934,
          0.8090415965650882,
          0.8097097628171175,
          0.8103428924731815,
          0.8113764585780749,
          0.8124018630262593,
          0.8141694285899004,
          0.8156439907660014,
          0.81717992585425,
          0.8186399555934776,
          0.8202699702787813,
          0.8220497049995044,
          0.8238902551676182,
          0.8260421858675482,
          0.8283558416521049,
          0.8307744940304107,
          0.8330858592292908,
          0.8355894052491499,
          0.8381056973668701,
          0.840286679897104,
          0.8424202916170884,
          0.8442550093802141,
          0.8462363492411902,
          0.8484334728706717,
          0.8503675065004213,
          0.8525770038657321,
          0.8550839843317076,
          0.8582773873679408
         ],
         "yaxis": "y"
        },
        {
         "hovertemplate": "variable=precision<br>index=%{x}<br>value=%{y}<extra></extra>",
         "legendgroup": "precision",
         "line": {
          "color": "#EF553B",
          "dash": "solid"
         },
         "marker": {
          "symbol": "circle"
         },
         "mode": "lines",
         "name": "precision",
         "orientation": "v",
         "showlegend": true,
         "type": "scatter",
         "x": [
          "09:45:00",
          "09:50:00",
          "09:55:00",
          "10:00:00",
          "10:05:00",
          "10:10:00",
          "10:15:00",
          "10:20:00",
          "10:25:00",
          "10:30:00",
          "10:35:00",
          "10:40:00",
          "10:45:00",
          "10:50:00",
          "10:55:00",
          "11:00:00",
          "11:05:00",
          "11:10:00",
          "11:15:00",
          "11:20:00",
          "11:25:00",
          "11:30:00",
          "11:35:00",
          "11:40:00",
          "11:45:00",
          "11:50:00",
          "11:55:00",
          "12:00:00",
          "12:05:00",
          "12:10:00",
          "12:15:00",
          "12:20:00",
          "12:25:00",
          "12:30:00",
          "12:35:00",
          "12:40:00",
          "12:45:00",
          "12:50:00",
          "12:55:00",
          "13:00:00",
          "13:05:00",
          "13:10:00",
          "13:15:00",
          "13:20:00",
          "13:25:00",
          "13:30:00",
          "13:35:00",
          "13:40:00",
          "13:45:00",
          "13:50:00",
          "13:55:00",
          "14:00:00",
          "14:05:00",
          "14:10:00",
          "14:15:00",
          "14:20:00",
          "14:25:00",
          "14:30:00",
          "14:35:00",
          "14:40:00",
          "14:45:00",
          "14:50:00",
          "14:55:00",
          "15:00:00",
          "15:05:00",
          "15:10:00",
          "15:15:00",
          "15:20:00",
          "15:25:00",
          "15:30:00",
          "15:35:00",
          "15:40:00",
          "15:45:00",
          "15:50:00",
          "15:55:00"
         ],
         "xaxis": "x",
         "y": [
          0.4642857142857143,
          0.47540983606557374,
          0.46808510638297873,
          0.5142857142857142,
          0.5343915343915344,
          0.5612648221343873,
          0.5794392523364486,
          0.5816326530612245,
          0.5872340425531914,
          0.5945945945945946,
          0.6037441497659907,
          0.6161202185792349,
          0.6257594167679222,
          0.6271929824561403,
          0.6323092170465807,
          0.6341681574239714,
          0.6351132686084142,
          0.6383763837638377,
          0.6401900882552614,
          0.643801132787917,
          0.6473345049794962,
          0.6489885183160197,
          0.6507936507936508,
          0.6536420646406175,
          0.6571168713051387,
          0.6596566523605151,
          0.6599025974025974,
          0.6616512345679012,
          0.6634827332843497,
          0.6657323055360898,
          0.667894208235688,
          0.669971218420211,
          0.671559633027523,
          0.6735052754982415,
          0.6748173130972457,
          0.6762162162162162,
          0.6779396462018731,
          0.6794390182819935,
          0.6808202653799759,
          0.6828132277596647,
          0.6852894796125254,
          0.6871459694989107,
          0.6891977258370183,
          0.6916649684124719,
          0.6946474422279281,
          0.697393637408969,
          0.7003348214285714,
          0.7034158684258088,
          0.7059961315280464,
          0.7087827426810478,
          0.7117852975495916,
          0.7147732813261823,
          0.7178633697891901,
          0.7213976499690785,
          0.7248190591073582,
          0.7282624687362071,
          0.7313604367188622,
          0.7345306580608952,
          0.7378733899698547,
          0.741028387787895,
          0.744954128440367,
          0.748301064239005,
          0.7514740935892611,
          0.7547586884440624,
          0.7585418671799807,
          0.7617868929750118,
          0.7648077589192934,
          0.7678207739307535,
          0.770851818988465,
          0.7740076128330614,
          0.7772324762616025,
          0.780337137472516,
          0.7838726245505907,
          0.7873111782477341,
          0.7916748865653975
         ],
         "yaxis": "y"
        },
        {
         "hovertemplate": "variable=recall<br>index=%{x}<br>value=%{y}<extra></extra>",
         "legendgroup": "recall",
         "line": {
          "color": "#00cc96",
          "dash": "solid"
         },
         "marker": {
          "symbol": "circle"
         },
         "mode": "lines",
         "name": "recall",
         "orientation": "v",
         "showlegend": true,
         "type": "scatter",
         "x": [
          "09:45:00",
          "09:50:00",
          "09:55:00",
          "10:00:00",
          "10:05:00",
          "10:10:00",
          "10:15:00",
          "10:20:00",
          "10:25:00",
          "10:30:00",
          "10:35:00",
          "10:40:00",
          "10:45:00",
          "10:50:00",
          "10:55:00",
          "11:00:00",
          "11:05:00",
          "11:10:00",
          "11:15:00",
          "11:20:00",
          "11:25:00",
          "11:30:00",
          "11:35:00",
          "11:40:00",
          "11:45:00",
          "11:50:00",
          "11:55:00",
          "12:00:00",
          "12:05:00",
          "12:10:00",
          "12:15:00",
          "12:20:00",
          "12:25:00",
          "12:30:00",
          "12:35:00",
          "12:40:00",
          "12:45:00",
          "12:50:00",
          "12:55:00",
          "13:00:00",
          "13:05:00",
          "13:10:00",
          "13:15:00",
          "13:20:00",
          "13:25:00",
          "13:30:00",
          "13:35:00",
          "13:40:00",
          "13:45:00",
          "13:50:00",
          "13:55:00",
          "14:00:00",
          "14:05:00",
          "14:10:00",
          "14:15:00",
          "14:20:00",
          "14:25:00",
          "14:30:00",
          "14:35:00",
          "14:40:00",
          "14:45:00",
          "14:50:00",
          "14:55:00",
          "15:00:00",
          "15:05:00",
          "15:10:00",
          "15:15:00",
          "15:20:00",
          "15:25:00",
          "15:30:00",
          "15:35:00",
          "15:40:00",
          "15:45:00",
          "15:50:00",
          "15:55:00"
         ],
         "xaxis": "x",
         "y": [
          0.22807017543859648,
          0.24786324786324787,
          0.24043715846994534,
          0.2868525896414343,
          0.3126934984520124,
          0.35858585858585856,
          0.39323467230443976,
          0.41229656419529837,
          0.4346456692913386,
          0.4583333333333333,
          0.4801488833746898,
          0.5050391937290034,
          0.5239064089521872,
          0.5315985130111525,
          0.5457656116338752,
          0.5613618368962787,
          0.5772058823529411,
          0.592871830020562,
          0.6052631578947368,
          0.6173808086904043,
          0.6289129197495731,
          0.6385153308230231,
          0.6474783494651044,
          0.6552224371373307,
          0.6646734130634775,
          0.6735319894829097,
          0.6797658862876255,
          0.6849041533546326,
          0.6898395721925134,
          0.6952067325283571,
          0.7002457002457002,
          0.7061004381530165,
          0.7118314424635332,
          0.7170046801872075,
          0.7221052631578947,
          0.7260591990713872,
          0.7301765200336229,
          0.7344342176502436,
          0.7385501177702172,
          0.7424664472018232,
          0.7461368653421634,
          0.7500594530321046,
          0.7551915089986156,
          0.7604750168048398,
          0.765897212543554,
          0.7698328749735561,
          0.7740542763157895,
          0.7779332400559664,
          0.7805209953343701,
          0.7827566647759501,
          0.7855040470934511,
          0.7874664279319606,
          0.789436987972808,
          0.7923246731193752,
          0.7953342157511581,
          0.7983870967741935,
          0.8008494572911751,
          0.8032837195028387,
          0.80649992511607,
          0.809419335966067,
          0.8123481492068029,
          0.8153115395361833,
          0.8183060109289617,
          0.8213283442469598,
          0.8245063423564797,
          0.8274228651901165,
          0.8302832790172976,
          0.8328424153166422,
          0.8351357846671473,
          0.837491174393975,
          0.839866267004842,
          0.8416713721061547,
          0.8441371681415929,
          0.8469288267793306,
          0.8503019387646996
         ],
         "yaxis": "y"
        }
       ],
       "layout": {
        "legend": {
         "title": {
          "text": "variable"
         },
         "tracegroupgap": 0
        },
        "template": {
         "data": {
          "bar": [
           {
            "error_x": {
             "color": "#2a3f5f"
            },
            "error_y": {
             "color": "#2a3f5f"
            },
            "marker": {
             "line": {
              "color": "#E5ECF6",
              "width": 0.5
             },
             "pattern": {
              "fillmode": "overlay",
              "size": 10,
              "solidity": 0.2
             }
            },
            "type": "bar"
           }
          ],
          "barpolar": [
           {
            "marker": {
             "line": {
              "color": "#E5ECF6",
              "width": 0.5
             },
             "pattern": {
              "fillmode": "overlay",
              "size": 10,
              "solidity": 0.2
             }
            },
            "type": "barpolar"
           }
          ],
          "carpet": [
           {
            "aaxis": {
             "endlinecolor": "#2a3f5f",
             "gridcolor": "white",
             "linecolor": "white",
             "minorgridcolor": "white",
             "startlinecolor": "#2a3f5f"
            },
            "baxis": {
             "endlinecolor": "#2a3f5f",
             "gridcolor": "white",
             "linecolor": "white",
             "minorgridcolor": "white",
             "startlinecolor": "#2a3f5f"
            },
            "type": "carpet"
           }
          ],
          "choropleth": [
           {
            "colorbar": {
             "outlinewidth": 0,
             "ticks": ""
            },
            "type": "choropleth"
           }
          ],
          "contour": [
           {
            "colorbar": {
             "outlinewidth": 0,
             "ticks": ""
            },
            "colorscale": [
             [
              0,
              "#0d0887"
             ],
             [
              0.1111111111111111,
              "#46039f"
             ],
             [
              0.2222222222222222,
              "#7201a8"
             ],
             [
              0.3333333333333333,
              "#9c179e"
             ],
             [
              0.4444444444444444,
              "#bd3786"
             ],
             [
              0.5555555555555556,
              "#d8576b"
             ],
             [
              0.6666666666666666,
              "#ed7953"
             ],
             [
              0.7777777777777778,
              "#fb9f3a"
             ],
             [
              0.8888888888888888,
              "#fdca26"
             ],
             [
              1,
              "#f0f921"
             ]
            ],
            "type": "contour"
           }
          ],
          "contourcarpet": [
           {
            "colorbar": {
             "outlinewidth": 0,
             "ticks": ""
            },
            "type": "contourcarpet"
           }
          ],
          "heatmap": [
           {
            "colorbar": {
             "outlinewidth": 0,
             "ticks": ""
            },
            "colorscale": [
             [
              0,
              "#0d0887"
             ],
             [
              0.1111111111111111,
              "#46039f"
             ],
             [
              0.2222222222222222,
              "#7201a8"
             ],
             [
              0.3333333333333333,
              "#9c179e"
             ],
             [
              0.4444444444444444,
              "#bd3786"
             ],
             [
              0.5555555555555556,
              "#d8576b"
             ],
             [
              0.6666666666666666,
              "#ed7953"
             ],
             [
              0.7777777777777778,
              "#fb9f3a"
             ],
             [
              0.8888888888888888,
              "#fdca26"
             ],
             [
              1,
              "#f0f921"
             ]
            ],
            "type": "heatmap"
           }
          ],
          "heatmapgl": [
           {
            "colorbar": {
             "outlinewidth": 0,
             "ticks": ""
            },
            "colorscale": [
             [
              0,
              "#0d0887"
             ],
             [
              0.1111111111111111,
              "#46039f"
             ],
             [
              0.2222222222222222,
              "#7201a8"
             ],
             [
              0.3333333333333333,
              "#9c179e"
             ],
             [
              0.4444444444444444,
              "#bd3786"
             ],
             [
              0.5555555555555556,
              "#d8576b"
             ],
             [
              0.6666666666666666,
              "#ed7953"
             ],
             [
              0.7777777777777778,
              "#fb9f3a"
             ],
             [
              0.8888888888888888,
              "#fdca26"
             ],
             [
              1,
              "#f0f921"
             ]
            ],
            "type": "heatmapgl"
           }
          ],
          "histogram": [
           {
            "marker": {
             "pattern": {
              "fillmode": "overlay",
              "size": 10,
              "solidity": 0.2
             }
            },
            "type": "histogram"
           }
          ],
          "histogram2d": [
           {
            "colorbar": {
             "outlinewidth": 0,
             "ticks": ""
            },
            "colorscale": [
             [
              0,
              "#0d0887"
             ],
             [
              0.1111111111111111,
              "#46039f"
             ],
             [
              0.2222222222222222,
              "#7201a8"
             ],
             [
              0.3333333333333333,
              "#9c179e"
             ],
             [
              0.4444444444444444,
              "#bd3786"
             ],
             [
              0.5555555555555556,
              "#d8576b"
             ],
             [
              0.6666666666666666,
              "#ed7953"
             ],
             [
              0.7777777777777778,
              "#fb9f3a"
             ],
             [
              0.8888888888888888,
              "#fdca26"
             ],
             [
              1,
              "#f0f921"
             ]
            ],
            "type": "histogram2d"
           }
          ],
          "histogram2dcontour": [
           {
            "colorbar": {
             "outlinewidth": 0,
             "ticks": ""
            },
            "colorscale": [
             [
              0,
              "#0d0887"
             ],
             [
              0.1111111111111111,
              "#46039f"
             ],
             [
              0.2222222222222222,
              "#7201a8"
             ],
             [
              0.3333333333333333,
              "#9c179e"
             ],
             [
              0.4444444444444444,
              "#bd3786"
             ],
             [
              0.5555555555555556,
              "#d8576b"
             ],
             [
              0.6666666666666666,
              "#ed7953"
             ],
             [
              0.7777777777777778,
              "#fb9f3a"
             ],
             [
              0.8888888888888888,
              "#fdca26"
             ],
             [
              1,
              "#f0f921"
             ]
            ],
            "type": "histogram2dcontour"
           }
          ],
          "mesh3d": [
           {
            "colorbar": {
             "outlinewidth": 0,
             "ticks": ""
            },
            "type": "mesh3d"
           }
          ],
          "parcoords": [
           {
            "line": {
             "colorbar": {
              "outlinewidth": 0,
              "ticks": ""
             }
            },
            "type": "parcoords"
           }
          ],
          "pie": [
           {
            "automargin": true,
            "type": "pie"
           }
          ],
          "scatter": [
           {
            "fillpattern": {
             "fillmode": "overlay",
             "size": 10,
             "solidity": 0.2
            },
            "type": "scatter"
           }
          ],
          "scatter3d": [
           {
            "line": {
             "colorbar": {
              "outlinewidth": 0,
              "ticks": ""
             }
            },
            "marker": {
             "colorbar": {
              "outlinewidth": 0,
              "ticks": ""
             }
            },
            "type": "scatter3d"
           }
          ],
          "scattercarpet": [
           {
            "marker": {
             "colorbar": {
              "outlinewidth": 0,
              "ticks": ""
             }
            },
            "type": "scattercarpet"
           }
          ],
          "scattergeo": [
           {
            "marker": {
             "colorbar": {
              "outlinewidth": 0,
              "ticks": ""
             }
            },
            "type": "scattergeo"
           }
          ],
          "scattergl": [
           {
            "marker": {
             "colorbar": {
              "outlinewidth": 0,
              "ticks": ""
             }
            },
            "type": "scattergl"
           }
          ],
          "scattermapbox": [
           {
            "marker": {
             "colorbar": {
              "outlinewidth": 0,
              "ticks": ""
             }
            },
            "type": "scattermapbox"
           }
          ],
          "scatterpolar": [
           {
            "marker": {
             "colorbar": {
              "outlinewidth": 0,
              "ticks": ""
             }
            },
            "type": "scatterpolar"
           }
          ],
          "scatterpolargl": [
           {
            "marker": {
             "colorbar": {
              "outlinewidth": 0,
              "ticks": ""
             }
            },
            "type": "scatterpolargl"
           }
          ],
          "scatterternary": [
           {
            "marker": {
             "colorbar": {
              "outlinewidth": 0,
              "ticks": ""
             }
            },
            "type": "scatterternary"
           }
          ],
          "surface": [
           {
            "colorbar": {
             "outlinewidth": 0,
             "ticks": ""
            },
            "colorscale": [
             [
              0,
              "#0d0887"
             ],
             [
              0.1111111111111111,
              "#46039f"
             ],
             [
              0.2222222222222222,
              "#7201a8"
             ],
             [
              0.3333333333333333,
              "#9c179e"
             ],
             [
              0.4444444444444444,
              "#bd3786"
             ],
             [
              0.5555555555555556,
              "#d8576b"
             ],
             [
              0.6666666666666666,
              "#ed7953"
             ],
             [
              0.7777777777777778,
              "#fb9f3a"
             ],
             [
              0.8888888888888888,
              "#fdca26"
             ],
             [
              1,
              "#f0f921"
             ]
            ],
            "type": "surface"
           }
          ],
          "table": [
           {
            "cells": {
             "fill": {
              "color": "#EBF0F8"
             },
             "line": {
              "color": "white"
             }
            },
            "header": {
             "fill": {
              "color": "#C8D4E3"
             },
             "line": {
              "color": "white"
             }
            },
            "type": "table"
           }
          ]
         },
         "layout": {
          "annotationdefaults": {
           "arrowcolor": "#2a3f5f",
           "arrowhead": 0,
           "arrowwidth": 1
          },
          "autotypenumbers": "strict",
          "coloraxis": {
           "colorbar": {
            "outlinewidth": 0,
            "ticks": ""
           }
          },
          "colorscale": {
           "diverging": [
            [
             0,
             "#8e0152"
            ],
            [
             0.1,
             "#c51b7d"
            ],
            [
             0.2,
             "#de77ae"
            ],
            [
             0.3,
             "#f1b6da"
            ],
            [
             0.4,
             "#fde0ef"
            ],
            [
             0.5,
             "#f7f7f7"
            ],
            [
             0.6,
             "#e6f5d0"
            ],
            [
             0.7,
             "#b8e186"
            ],
            [
             0.8,
             "#7fbc41"
            ],
            [
             0.9,
             "#4d9221"
            ],
            [
             1,
             "#276419"
            ]
           ],
           "sequential": [
            [
             0,
             "#0d0887"
            ],
            [
             0.1111111111111111,
             "#46039f"
            ],
            [
             0.2222222222222222,
             "#7201a8"
            ],
            [
             0.3333333333333333,
             "#9c179e"
            ],
            [
             0.4444444444444444,
             "#bd3786"
            ],
            [
             0.5555555555555556,
             "#d8576b"
            ],
            [
             0.6666666666666666,
             "#ed7953"
            ],
            [
             0.7777777777777778,
             "#fb9f3a"
            ],
            [
             0.8888888888888888,
             "#fdca26"
            ],
            [
             1,
             "#f0f921"
            ]
           ],
           "sequentialminus": [
            [
             0,
             "#0d0887"
            ],
            [
             0.1111111111111111,
             "#46039f"
            ],
            [
             0.2222222222222222,
             "#7201a8"
            ],
            [
             0.3333333333333333,
             "#9c179e"
            ],
            [
             0.4444444444444444,
             "#bd3786"
            ],
            [
             0.5555555555555556,
             "#d8576b"
            ],
            [
             0.6666666666666666,
             "#ed7953"
            ],
            [
             0.7777777777777778,
             "#fb9f3a"
            ],
            [
             0.8888888888888888,
             "#fdca26"
            ],
            [
             1,
             "#f0f921"
            ]
           ]
          },
          "colorway": [
           "#636efa",
           "#EF553B",
           "#00cc96",
           "#ab63fa",
           "#FFA15A",
           "#19d3f3",
           "#FF6692",
           "#B6E880",
           "#FF97FF",
           "#FECB52"
          ],
          "font": {
           "color": "#2a3f5f"
          },
          "geo": {
           "bgcolor": "white",
           "lakecolor": "white",
           "landcolor": "#E5ECF6",
           "showlakes": true,
           "showland": true,
           "subunitcolor": "white"
          },
          "hoverlabel": {
           "align": "left"
          },
          "hovermode": "closest",
          "mapbox": {
           "style": "light"
          },
          "paper_bgcolor": "white",
          "plot_bgcolor": "#E5ECF6",
          "polar": {
           "angularaxis": {
            "gridcolor": "white",
            "linecolor": "white",
            "ticks": ""
           },
           "bgcolor": "#E5ECF6",
           "radialaxis": {
            "gridcolor": "white",
            "linecolor": "white",
            "ticks": ""
           }
          },
          "scene": {
           "xaxis": {
            "backgroundcolor": "#E5ECF6",
            "gridcolor": "white",
            "gridwidth": 2,
            "linecolor": "white",
            "showbackground": true,
            "ticks": "",
            "zerolinecolor": "white"
           },
           "yaxis": {
            "backgroundcolor": "#E5ECF6",
            "gridcolor": "white",
            "gridwidth": 2,
            "linecolor": "white",
            "showbackground": true,
            "ticks": "",
            "zerolinecolor": "white"
           },
           "zaxis": {
            "backgroundcolor": "#E5ECF6",
            "gridcolor": "white",
            "gridwidth": 2,
            "linecolor": "white",
            "showbackground": true,
            "ticks": "",
            "zerolinecolor": "white"
           }
          },
          "shapedefaults": {
           "line": {
            "color": "#2a3f5f"
           }
          },
          "ternary": {
           "aaxis": {
            "gridcolor": "white",
            "linecolor": "white",
            "ticks": ""
           },
           "baxis": {
            "gridcolor": "white",
            "linecolor": "white",
            "ticks": ""
           },
           "bgcolor": "#E5ECF6",
           "caxis": {
            "gridcolor": "white",
            "linecolor": "white",
            "ticks": ""
           }
          },
          "title": {
           "x": 0.05
          },
          "xaxis": {
           "automargin": true,
           "gridcolor": "white",
           "linecolor": "white",
           "ticks": "",
           "title": {
            "standoff": 15
           },
           "zerolinecolor": "white",
           "zerolinewidth": 2
          },
          "yaxis": {
           "automargin": true,
           "gridcolor": "white",
           "linecolor": "white",
           "ticks": "",
           "title": {
            "standoff": 15
           },
           "zerolinecolor": "white",
           "zerolinewidth": 2
          }
         }
        },
        "title": {
         "text": "Validation Metrics Over Time (LOD Model)"
        },
        "xaxis": {
         "anchor": "y",
         "domain": [
          0,
          1
         ],
         "title": {
          "text": "index"
         }
        },
        "yaxis": {
         "anchor": "x",
         "domain": [
          0,
          1
         ],
         "title": {
          "text": "value"
         }
        }
       }
      }
     },
     "metadata": {},
     "output_type": "display_data"
    }
   ],
   "source": [
    "import datetime\n",
    "import plotly.express as px\n",
    "\n",
    "time_range = [datetime.time(hour, minute) for hour in range(9, 16) for minute in range(0, 60, 5)]\n",
    "time_range = [x for x in time_range if x >= datetime.time(9,45)]\n",
    "df_val = pd.DataFrame()\n",
    "for t in time_range:\n",
    "    X_val = X_test.loc[X_test['time'] <= t].copy()\n",
    "    y_val = y_test.loc[X_val.index, 'lod_in'].copy()\n",
    "\n",
    "    y_pred_val = pipeline_lod.predict_proba(X_val)[:,-1]\n",
    "\n",
    "    df_val.loc[t, [\n",
    "        'roc_auc',\n",
    "        'precision',\n",
    "        'recall'\n",
    "    ]] =  roc_auc_score(y_val, y_pred_val), precision_score(y_val, y_pred_val > 0.5), recall_score(y_val, y_pred_val > 0.5)\n",
    "\n",
    "\n",
    "fig = px.line(df_val, title='Validation Metrics Over Time (LOD Model)')\n",
    "fig.show()"
   ]
  },
  {
   "cell_type": "code",
   "execution_count": 207,
   "metadata": {},
   "outputs": [
    {
     "data": {
      "application/vnd.plotly.v1+json": {
       "config": {
        "plotlyServerURL": "https://plot.ly"
       },
       "data": [
        {
         "hovertemplate": "variable=roc_auc<br>index=%{x}<br>value=%{y}<extra></extra>",
         "legendgroup": "roc_auc",
         "line": {
          "color": "#636efa",
          "dash": "solid"
         },
         "marker": {
          "symbol": "circle"
         },
         "mode": "lines",
         "name": "roc_auc",
         "orientation": "v",
         "showlegend": true,
         "type": "scatter",
         "x": [
          "09:45:00",
          "09:50:00",
          "09:55:00",
          "10:00:00",
          "10:05:00",
          "10:10:00",
          "10:15:00",
          "10:20:00",
          "10:25:00",
          "10:30:00",
          "10:35:00",
          "10:40:00",
          "10:45:00",
          "10:50:00",
          "10:55:00",
          "11:00:00",
          "11:05:00",
          "11:10:00",
          "11:15:00",
          "11:20:00",
          "11:25:00",
          "11:30:00",
          "11:35:00",
          "11:40:00",
          "11:45:00",
          "11:50:00",
          "11:55:00",
          "12:00:00",
          "12:05:00",
          "12:10:00",
          "12:15:00",
          "12:20:00",
          "12:25:00",
          "12:30:00",
          "12:35:00",
          "12:40:00",
          "12:45:00",
          "12:50:00",
          "12:55:00",
          "13:00:00",
          "13:05:00",
          "13:10:00",
          "13:15:00",
          "13:20:00",
          "13:25:00",
          "13:30:00",
          "13:35:00",
          "13:40:00",
          "13:45:00",
          "13:50:00",
          "13:55:00",
          "14:00:00",
          "14:05:00",
          "14:10:00",
          "14:15:00",
          "14:20:00",
          "14:25:00",
          "14:30:00",
          "14:35:00",
          "14:40:00",
          "14:45:00",
          "14:50:00",
          "14:55:00",
          "15:00:00",
          "15:05:00",
          "15:10:00",
          "15:15:00",
          "15:20:00",
          "15:25:00",
          "15:30:00",
          "15:35:00",
          "15:40:00",
          "15:45:00",
          "15:50:00",
          "15:55:00"
         ],
         "xaxis": "x",
         "y": [
          0.7694444444444445,
          0.7715972222222223,
          0.7734362139917695,
          0.7757349537037037,
          0.7810185185185186,
          0.7873713991769546,
          0.792838246409675,
          0.7990552662037037,
          0.8042506858710562,
          0.8086199074074075,
          0.8122206917661463,
          0.8156333590534979,
          0.8187962962962962,
          0.8205881519274376,
          0.8222748971193415,
          0.8243464265046296,
          0.8269341919774446,
          0.8293161294010061,
          0.831716297322253,
          0.8336917824074074,
          0.83602450239355,
          0.8381597222222222,
          0.8403333508366589,
          0.8420472447273664,
          0.8437612592592593,
          0.8455619247205786,
          0.8467566554895087,
          0.8478384235638698,
          0.8484662769190119,
          0.8492436728395062,
          0.8500222087331869,
          0.8506550654658566,
          0.8512772931333537,
          0.852164191657055,
          0.8528990551776267,
          0.8535569915980796,
          0.8543929402375348,
          0.8549966335795629,
          0.855536227384518,
          0.856136429398148,
          0.8568333168087778,
          0.8576068961535231,
          0.858391798369489,
          0.8591413136671757,
          0.8599722473894701,
          0.8609952663312884,
          0.8622030855429292,
          0.8634145128824476,
          0.8646249808716944,
          0.8657808404796378,
          0.8669209911283576,
          0.8680885409369015,
          0.8692187138331713,
          0.8705047142218093,
          0.8716543936936274,
          0.8727978828469939,
          0.8740326213177415,
          0.8754542523751184,
          0.8768726766425162,
          0.8783994922204974,
          0.8800561659487914,
          0.881605163900854,
          0.8832827401170232,
          0.8850031447754783,
          0.8867518534837241,
          0.8883813927755824,
          0.890021044016317,
          0.891630493768374,
          0.8933201608091129,
          0.8950118727931702,
          0.8967480159957109,
          0.8985463010499224,
          0.900352727807203,
          0.9023217451940904,
          0.9044964534684206
         ],
         "yaxis": "y"
        },
        {
         "hovertemplate": "variable=precision<br>index=%{x}<br>value=%{y}<extra></extra>",
         "legendgroup": "precision",
         "line": {
          "color": "#EF553B",
          "dash": "solid"
         },
         "marker": {
          "symbol": "circle"
         },
         "mode": "lines",
         "name": "precision",
         "orientation": "v",
         "showlegend": true,
         "type": "scatter",
         "x": [
          "09:45:00",
          "09:50:00",
          "09:55:00",
          "10:00:00",
          "10:05:00",
          "10:10:00",
          "10:15:00",
          "10:20:00",
          "10:25:00",
          "10:30:00",
          "10:35:00",
          "10:40:00",
          "10:45:00",
          "10:50:00",
          "10:55:00",
          "11:00:00",
          "11:05:00",
          "11:10:00",
          "11:15:00",
          "11:20:00",
          "11:25:00",
          "11:30:00",
          "11:35:00",
          "11:40:00",
          "11:45:00",
          "11:50:00",
          "11:55:00",
          "12:00:00",
          "12:05:00",
          "12:10:00",
          "12:15:00",
          "12:20:00",
          "12:25:00",
          "12:30:00",
          "12:35:00",
          "12:40:00",
          "12:45:00",
          "12:50:00",
          "12:55:00",
          "13:00:00",
          "13:05:00",
          "13:10:00",
          "13:15:00",
          "13:20:00",
          "13:25:00",
          "13:30:00",
          "13:35:00",
          "13:40:00",
          "13:45:00",
          "13:50:00",
          "13:55:00",
          "14:00:00",
          "14:05:00",
          "14:10:00",
          "14:15:00",
          "14:20:00",
          "14:25:00",
          "14:30:00",
          "14:35:00",
          "14:40:00",
          "14:45:00",
          "14:50:00",
          "14:55:00",
          "15:00:00",
          "15:05:00",
          "15:10:00",
          "15:15:00",
          "15:20:00",
          "15:25:00",
          "15:30:00",
          "15:35:00",
          "15:40:00",
          "15:45:00",
          "15:50:00",
          "15:55:00"
         ],
         "xaxis": "x",
         "y": [
          0.7479674796747967,
          0.7510204081632653,
          0.7506702412868632,
          0.7475149105367793,
          0.753577106518283,
          0.7556440903054449,
          0.7562642369020501,
          0.7604790419161677,
          0.7642348754448398,
          0.7664526484751204,
          0.7705882352941177,
          0.7730352303523035,
          0.7742138364779875,
          0.7762771579565473,
          0.778021978021978,
          0.7791537667698658,
          0.7807953443258971,
          0.7835855112333792,
          0.7857453281182095,
          0.7872779843040066,
          0.7893700787401575,
          0.790086368757041,
          0.7911574406901509,
          0.791867677463818,
          0.7925901422428051,
          0.7931363203050524,
          0.7937671860678277,
          0.7940570756104737,
          0.7946099290780142,
          0.7951246233908518,
          0.7959237691900476,
          0.7964148527528809,
          0.7969215491559086,
          0.7972061657032755,
          0.7978474496958353,
          0.7980878670612338,
          0.7993792950565285,
          0.8002591232995033,
          0.801221309749421,
          0.8021368399424696,
          0.8030485359005215,
          0.8038793103448276,
          0.8044019138755981,
          0.8049831397527164,
          0.8054638797213055,
          0.8061041292639138,
          0.8066842568161829,
          0.8075530263838593,
          0.8085250338294994,
          0.8094922004646532,
          0.810555465059456,
          0.8113901775715886,
          0.8122936645181575,
          0.8132241619032906,
          0.814151229881567,
          0.8151022235487241,
          0.8160211267605634,
          0.8170802077322562,
          0.8179367106570171,
          0.8192098282842385,
          0.8205797499656546,
          0.8218196566175476,
          0.823020625415835,
          0.8245085190039319,
          0.8259072710835593,
          0.8273491214667685,
          0.8286037167252637,
          0.8297635260616566,
          0.8312354882072589,
          0.8327706775982638,
          0.8343448768297037,
          0.8362312030075187,
          0.8378942486085343,
          0.8398580586080586,
          0.841897233201581
         ],
         "yaxis": "y"
        },
        {
         "hovertemplate": "variable=recall<br>index=%{x}<br>value=%{y}<extra></extra>",
         "legendgroup": "recall",
         "line": {
          "color": "#00cc96",
          "dash": "solid"
         },
         "marker": {
          "symbol": "circle"
         },
         "mode": "lines",
         "name": "recall",
         "orientation": "v",
         "showlegend": true,
         "type": "scatter",
         "x": [
          "09:45:00",
          "09:50:00",
          "09:55:00",
          "10:00:00",
          "10:05:00",
          "10:10:00",
          "10:15:00",
          "10:20:00",
          "10:25:00",
          "10:30:00",
          "10:35:00",
          "10:40:00",
          "10:45:00",
          "10:50:00",
          "10:55:00",
          "11:00:00",
          "11:05:00",
          "11:10:00",
          "11:15:00",
          "11:20:00",
          "11:25:00",
          "11:30:00",
          "11:35:00",
          "11:40:00",
          "11:45:00",
          "11:50:00",
          "11:55:00",
          "12:00:00",
          "12:05:00",
          "12:10:00",
          "12:15:00",
          "12:20:00",
          "12:25:00",
          "12:30:00",
          "12:35:00",
          "12:40:00",
          "12:45:00",
          "12:50:00",
          "12:55:00",
          "13:00:00",
          "13:05:00",
          "13:10:00",
          "13:15:00",
          "13:20:00",
          "13:25:00",
          "13:30:00",
          "13:35:00",
          "13:40:00",
          "13:45:00",
          "13:50:00",
          "13:55:00",
          "14:00:00",
          "14:05:00",
          "14:10:00",
          "14:15:00",
          "14:20:00",
          "14:25:00",
          "14:30:00",
          "14:35:00",
          "14:40:00",
          "14:45:00",
          "14:50:00",
          "14:55:00",
          "15:00:00",
          "15:05:00",
          "15:10:00",
          "15:15:00",
          "15:20:00",
          "15:25:00",
          "15:30:00",
          "15:35:00",
          "15:40:00",
          "15:45:00",
          "15:50:00",
          "15:55:00"
         ],
         "xaxis": "x",
         "y": [
          0.7666666666666667,
          0.7666666666666667,
          0.7777777777777778,
          0.7833333333333333,
          0.79,
          0.7902777777777777,
          0.7904761904761904,
          0.79375,
          0.7953703703703704,
          0.7958333333333333,
          0.793939393939394,
          0.7923611111111111,
          0.7891025641025641,
          0.7869047619047619,
          0.7866666666666666,
          0.7864583333333334,
          0.7892156862745098,
          0.7912037037037037,
          0.7929824561403509,
          0.7941666666666667,
          0.7956349206349206,
          0.796969696969697,
          0.797463768115942,
          0.7979166666666667,
          0.7986666666666666,
          0.8,
          0.8018518518518518,
          0.8032738095238096,
          0.8048850574712644,
          0.8063888888888889,
          0.8083333333333333,
          0.8098958333333334,
          0.8106060606060606,
          0.8112745098039216,
          0.8119047619047619,
          0.8115740740740741,
          0.8121621621621622,
          0.8127192982456141,
          0.813034188034188,
          0.8133333333333334,
          0.8138211382113821,
          0.8140873015873016,
          0.8145348837209302,
          0.8141341417203486,
          0.81412157153447,
          0.8142908959013421,
          0.8142755681818182,
          0.8144347826086956,
          0.814587593728698,
          0.8149014366855998,
          0.8152031454783748,
          0.8151719704275152,
          0.8149842271293375,
          0.8151130380922886,
          0.815389294403893,
          0.815954586196594,
          0.8165002935995302,
          0.8173160173160173,
          0.8178206583427923,
          0.8188668713368685,
          0.8200164744645799,
          0.8212645231018644,
          0.8224734042553191,
          0.8236449332285939,
          0.8245229499742135,
          0.825247650495301,
          0.8257007007007007,
          0.826387176325524,
          0.8266893534273213,
          0.8275820752456267,
          0.8283317580340265,
          0.829410393847588,
          0.8305747126436782,
          0.8320480834656385,
          0.834265890778872
         ],
         "yaxis": "y"
        }
       ],
       "layout": {
        "legend": {
         "title": {
          "text": "variable"
         },
         "tracegroupgap": 0
        },
        "template": {
         "data": {
          "bar": [
           {
            "error_x": {
             "color": "#2a3f5f"
            },
            "error_y": {
             "color": "#2a3f5f"
            },
            "marker": {
             "line": {
              "color": "#E5ECF6",
              "width": 0.5
             },
             "pattern": {
              "fillmode": "overlay",
              "size": 10,
              "solidity": 0.2
             }
            },
            "type": "bar"
           }
          ],
          "barpolar": [
           {
            "marker": {
             "line": {
              "color": "#E5ECF6",
              "width": 0.5
             },
             "pattern": {
              "fillmode": "overlay",
              "size": 10,
              "solidity": 0.2
             }
            },
            "type": "barpolar"
           }
          ],
          "carpet": [
           {
            "aaxis": {
             "endlinecolor": "#2a3f5f",
             "gridcolor": "white",
             "linecolor": "white",
             "minorgridcolor": "white",
             "startlinecolor": "#2a3f5f"
            },
            "baxis": {
             "endlinecolor": "#2a3f5f",
             "gridcolor": "white",
             "linecolor": "white",
             "minorgridcolor": "white",
             "startlinecolor": "#2a3f5f"
            },
            "type": "carpet"
           }
          ],
          "choropleth": [
           {
            "colorbar": {
             "outlinewidth": 0,
             "ticks": ""
            },
            "type": "choropleth"
           }
          ],
          "contour": [
           {
            "colorbar": {
             "outlinewidth": 0,
             "ticks": ""
            },
            "colorscale": [
             [
              0,
              "#0d0887"
             ],
             [
              0.1111111111111111,
              "#46039f"
             ],
             [
              0.2222222222222222,
              "#7201a8"
             ],
             [
              0.3333333333333333,
              "#9c179e"
             ],
             [
              0.4444444444444444,
              "#bd3786"
             ],
             [
              0.5555555555555556,
              "#d8576b"
             ],
             [
              0.6666666666666666,
              "#ed7953"
             ],
             [
              0.7777777777777778,
              "#fb9f3a"
             ],
             [
              0.8888888888888888,
              "#fdca26"
             ],
             [
              1,
              "#f0f921"
             ]
            ],
            "type": "contour"
           }
          ],
          "contourcarpet": [
           {
            "colorbar": {
             "outlinewidth": 0,
             "ticks": ""
            },
            "type": "contourcarpet"
           }
          ],
          "heatmap": [
           {
            "colorbar": {
             "outlinewidth": 0,
             "ticks": ""
            },
            "colorscale": [
             [
              0,
              "#0d0887"
             ],
             [
              0.1111111111111111,
              "#46039f"
             ],
             [
              0.2222222222222222,
              "#7201a8"
             ],
             [
              0.3333333333333333,
              "#9c179e"
             ],
             [
              0.4444444444444444,
              "#bd3786"
             ],
             [
              0.5555555555555556,
              "#d8576b"
             ],
             [
              0.6666666666666666,
              "#ed7953"
             ],
             [
              0.7777777777777778,
              "#fb9f3a"
             ],
             [
              0.8888888888888888,
              "#fdca26"
             ],
             [
              1,
              "#f0f921"
             ]
            ],
            "type": "heatmap"
           }
          ],
          "heatmapgl": [
           {
            "colorbar": {
             "outlinewidth": 0,
             "ticks": ""
            },
            "colorscale": [
             [
              0,
              "#0d0887"
             ],
             [
              0.1111111111111111,
              "#46039f"
             ],
             [
              0.2222222222222222,
              "#7201a8"
             ],
             [
              0.3333333333333333,
              "#9c179e"
             ],
             [
              0.4444444444444444,
              "#bd3786"
             ],
             [
              0.5555555555555556,
              "#d8576b"
             ],
             [
              0.6666666666666666,
              "#ed7953"
             ],
             [
              0.7777777777777778,
              "#fb9f3a"
             ],
             [
              0.8888888888888888,
              "#fdca26"
             ],
             [
              1,
              "#f0f921"
             ]
            ],
            "type": "heatmapgl"
           }
          ],
          "histogram": [
           {
            "marker": {
             "pattern": {
              "fillmode": "overlay",
              "size": 10,
              "solidity": 0.2
             }
            },
            "type": "histogram"
           }
          ],
          "histogram2d": [
           {
            "colorbar": {
             "outlinewidth": 0,
             "ticks": ""
            },
            "colorscale": [
             [
              0,
              "#0d0887"
             ],
             [
              0.1111111111111111,
              "#46039f"
             ],
             [
              0.2222222222222222,
              "#7201a8"
             ],
             [
              0.3333333333333333,
              "#9c179e"
             ],
             [
              0.4444444444444444,
              "#bd3786"
             ],
             [
              0.5555555555555556,
              "#d8576b"
             ],
             [
              0.6666666666666666,
              "#ed7953"
             ],
             [
              0.7777777777777778,
              "#fb9f3a"
             ],
             [
              0.8888888888888888,
              "#fdca26"
             ],
             [
              1,
              "#f0f921"
             ]
            ],
            "type": "histogram2d"
           }
          ],
          "histogram2dcontour": [
           {
            "colorbar": {
             "outlinewidth": 0,
             "ticks": ""
            },
            "colorscale": [
             [
              0,
              "#0d0887"
             ],
             [
              0.1111111111111111,
              "#46039f"
             ],
             [
              0.2222222222222222,
              "#7201a8"
             ],
             [
              0.3333333333333333,
              "#9c179e"
             ],
             [
              0.4444444444444444,
              "#bd3786"
             ],
             [
              0.5555555555555556,
              "#d8576b"
             ],
             [
              0.6666666666666666,
              "#ed7953"
             ],
             [
              0.7777777777777778,
              "#fb9f3a"
             ],
             [
              0.8888888888888888,
              "#fdca26"
             ],
             [
              1,
              "#f0f921"
             ]
            ],
            "type": "histogram2dcontour"
           }
          ],
          "mesh3d": [
           {
            "colorbar": {
             "outlinewidth": 0,
             "ticks": ""
            },
            "type": "mesh3d"
           }
          ],
          "parcoords": [
           {
            "line": {
             "colorbar": {
              "outlinewidth": 0,
              "ticks": ""
             }
            },
            "type": "parcoords"
           }
          ],
          "pie": [
           {
            "automargin": true,
            "type": "pie"
           }
          ],
          "scatter": [
           {
            "fillpattern": {
             "fillmode": "overlay",
             "size": 10,
             "solidity": 0.2
            },
            "type": "scatter"
           }
          ],
          "scatter3d": [
           {
            "line": {
             "colorbar": {
              "outlinewidth": 0,
              "ticks": ""
             }
            },
            "marker": {
             "colorbar": {
              "outlinewidth": 0,
              "ticks": ""
             }
            },
            "type": "scatter3d"
           }
          ],
          "scattercarpet": [
           {
            "marker": {
             "colorbar": {
              "outlinewidth": 0,
              "ticks": ""
             }
            },
            "type": "scattercarpet"
           }
          ],
          "scattergeo": [
           {
            "marker": {
             "colorbar": {
              "outlinewidth": 0,
              "ticks": ""
             }
            },
            "type": "scattergeo"
           }
          ],
          "scattergl": [
           {
            "marker": {
             "colorbar": {
              "outlinewidth": 0,
              "ticks": ""
             }
            },
            "type": "scattergl"
           }
          ],
          "scattermapbox": [
           {
            "marker": {
             "colorbar": {
              "outlinewidth": 0,
              "ticks": ""
             }
            },
            "type": "scattermapbox"
           }
          ],
          "scatterpolar": [
           {
            "marker": {
             "colorbar": {
              "outlinewidth": 0,
              "ticks": ""
             }
            },
            "type": "scatterpolar"
           }
          ],
          "scatterpolargl": [
           {
            "marker": {
             "colorbar": {
              "outlinewidth": 0,
              "ticks": ""
             }
            },
            "type": "scatterpolargl"
           }
          ],
          "scatterternary": [
           {
            "marker": {
             "colorbar": {
              "outlinewidth": 0,
              "ticks": ""
             }
            },
            "type": "scatterternary"
           }
          ],
          "surface": [
           {
            "colorbar": {
             "outlinewidth": 0,
             "ticks": ""
            },
            "colorscale": [
             [
              0,
              "#0d0887"
             ],
             [
              0.1111111111111111,
              "#46039f"
             ],
             [
              0.2222222222222222,
              "#7201a8"
             ],
             [
              0.3333333333333333,
              "#9c179e"
             ],
             [
              0.4444444444444444,
              "#bd3786"
             ],
             [
              0.5555555555555556,
              "#d8576b"
             ],
             [
              0.6666666666666666,
              "#ed7953"
             ],
             [
              0.7777777777777778,
              "#fb9f3a"
             ],
             [
              0.8888888888888888,
              "#fdca26"
             ],
             [
              1,
              "#f0f921"
             ]
            ],
            "type": "surface"
           }
          ],
          "table": [
           {
            "cells": {
             "fill": {
              "color": "#EBF0F8"
             },
             "line": {
              "color": "white"
             }
            },
            "header": {
             "fill": {
              "color": "#C8D4E3"
             },
             "line": {
              "color": "white"
             }
            },
            "type": "table"
           }
          ]
         },
         "layout": {
          "annotationdefaults": {
           "arrowcolor": "#2a3f5f",
           "arrowhead": 0,
           "arrowwidth": 1
          },
          "autotypenumbers": "strict",
          "coloraxis": {
           "colorbar": {
            "outlinewidth": 0,
            "ticks": ""
           }
          },
          "colorscale": {
           "diverging": [
            [
             0,
             "#8e0152"
            ],
            [
             0.1,
             "#c51b7d"
            ],
            [
             0.2,
             "#de77ae"
            ],
            [
             0.3,
             "#f1b6da"
            ],
            [
             0.4,
             "#fde0ef"
            ],
            [
             0.5,
             "#f7f7f7"
            ],
            [
             0.6,
             "#e6f5d0"
            ],
            [
             0.7,
             "#b8e186"
            ],
            [
             0.8,
             "#7fbc41"
            ],
            [
             0.9,
             "#4d9221"
            ],
            [
             1,
             "#276419"
            ]
           ],
           "sequential": [
            [
             0,
             "#0d0887"
            ],
            [
             0.1111111111111111,
             "#46039f"
            ],
            [
             0.2222222222222222,
             "#7201a8"
            ],
            [
             0.3333333333333333,
             "#9c179e"
            ],
            [
             0.4444444444444444,
             "#bd3786"
            ],
            [
             0.5555555555555556,
             "#d8576b"
            ],
            [
             0.6666666666666666,
             "#ed7953"
            ],
            [
             0.7777777777777778,
             "#fb9f3a"
            ],
            [
             0.8888888888888888,
             "#fdca26"
            ],
            [
             1,
             "#f0f921"
            ]
           ],
           "sequentialminus": [
            [
             0,
             "#0d0887"
            ],
            [
             0.1111111111111111,
             "#46039f"
            ],
            [
             0.2222222222222222,
             "#7201a8"
            ],
            [
             0.3333333333333333,
             "#9c179e"
            ],
            [
             0.4444444444444444,
             "#bd3786"
            ],
            [
             0.5555555555555556,
             "#d8576b"
            ],
            [
             0.6666666666666666,
             "#ed7953"
            ],
            [
             0.7777777777777778,
             "#fb9f3a"
            ],
            [
             0.8888888888888888,
             "#fdca26"
            ],
            [
             1,
             "#f0f921"
            ]
           ]
          },
          "colorway": [
           "#636efa",
           "#EF553B",
           "#00cc96",
           "#ab63fa",
           "#FFA15A",
           "#19d3f3",
           "#FF6692",
           "#B6E880",
           "#FF97FF",
           "#FECB52"
          ],
          "font": {
           "color": "#2a3f5f"
          },
          "geo": {
           "bgcolor": "white",
           "lakecolor": "white",
           "landcolor": "#E5ECF6",
           "showlakes": true,
           "showland": true,
           "subunitcolor": "white"
          },
          "hoverlabel": {
           "align": "left"
          },
          "hovermode": "closest",
          "mapbox": {
           "style": "light"
          },
          "paper_bgcolor": "white",
          "plot_bgcolor": "#E5ECF6",
          "polar": {
           "angularaxis": {
            "gridcolor": "white",
            "linecolor": "white",
            "ticks": ""
           },
           "bgcolor": "#E5ECF6",
           "radialaxis": {
            "gridcolor": "white",
            "linecolor": "white",
            "ticks": ""
           }
          },
          "scene": {
           "xaxis": {
            "backgroundcolor": "#E5ECF6",
            "gridcolor": "white",
            "gridwidth": 2,
            "linecolor": "white",
            "showbackground": true,
            "ticks": "",
            "zerolinecolor": "white"
           },
           "yaxis": {
            "backgroundcolor": "#E5ECF6",
            "gridcolor": "white",
            "gridwidth": 2,
            "linecolor": "white",
            "showbackground": true,
            "ticks": "",
            "zerolinecolor": "white"
           },
           "zaxis": {
            "backgroundcolor": "#E5ECF6",
            "gridcolor": "white",
            "gridwidth": 2,
            "linecolor": "white",
            "showbackground": true,
            "ticks": "",
            "zerolinecolor": "white"
           }
          },
          "shapedefaults": {
           "line": {
            "color": "#2a3f5f"
           }
          },
          "ternary": {
           "aaxis": {
            "gridcolor": "white",
            "linecolor": "white",
            "ticks": ""
           },
           "baxis": {
            "gridcolor": "white",
            "linecolor": "white",
            "ticks": ""
           },
           "bgcolor": "#E5ECF6",
           "caxis": {
            "gridcolor": "white",
            "linecolor": "white",
            "ticks": ""
           }
          },
          "title": {
           "x": 0.05
          },
          "xaxis": {
           "automargin": true,
           "gridcolor": "white",
           "linecolor": "white",
           "ticks": "",
           "title": {
            "standoff": 15
           },
           "zerolinecolor": "white",
           "zerolinewidth": 2
          },
          "yaxis": {
           "automargin": true,
           "gridcolor": "white",
           "linecolor": "white",
           "ticks": "",
           "title": {
            "standoff": 15
           },
           "zerolinecolor": "white",
           "zerolinewidth": 2
          }
         }
        },
        "title": {
         "text": "Validation Metrics Over Time (GD Model)"
        },
        "xaxis": {
         "anchor": "y",
         "domain": [
          0,
          1
         ],
         "title": {
          "text": "index"
         }
        },
        "yaxis": {
         "anchor": "x",
         "domain": [
          0,
          1
         ],
         "title": {
          "text": "value"
         }
        }
       }
      }
     },
     "metadata": {},
     "output_type": "display_data"
    }
   ],
   "source": [
    "import datetime\n",
    "import plotly.express as px\n",
    "\n",
    "time_range = [datetime.time(hour, minute) for hour in range(9, 16) for minute in range(0, 60, 5)]\n",
    "time_range = [x for x in time_range if x >= datetime.time(9,45)]\n",
    "df_val = pd.DataFrame()\n",
    "for t in time_range:\n",
    "    X_val = X_test.loc[X_test['time'] <= t].copy()\n",
    "    y_val = y_test.loc[X_val.index, 'green_day'].copy()\n",
    "\n",
    "    y_pred_val = pipeline_gd.predict_proba(X_val)[:,-1]\n",
    "\n",
    "    df_val.loc[t, [\n",
    "        'roc_auc',\n",
    "        'precision',\n",
    "        'recall'\n",
    "    ]] =  roc_auc_score(y_val, y_pred_val), precision_score(y_val, y_pred_val > 0.5), recall_score(y_val, y_pred_val > 0.5)\n",
    "\n",
    "\n",
    "fig = px.line(df_val, title='Validation Metrics Over Time (GD Model)')\n",
    "fig.show()"
   ]
  },
  {
   "cell_type": "code",
   "execution_count": 208,
   "metadata": {},
   "outputs": [],
   "source": [
    "df_results = X_test.copy()\n",
    "df_results['pred_hod'] = y_pred_hod\n",
    "df_results['pred_lod'] = y_pred_lod\n",
    "df_results['pred_gd'] = y_pred_gd"
   ]
  },
  {
   "cell_type": "code",
   "execution_count": 209,
   "metadata": {},
   "outputs": [
    {
     "data": {
      "text/plain": [
       "Timestamp('2023-03-02 09:45:00')"
      ]
     },
     "execution_count": 209,
     "metadata": {},
     "output_type": "execute_result"
    }
   ],
   "source": [
    "X_test.index[0]"
   ]
  },
  {
   "cell_type": "code",
   "execution_count": 213,
   "metadata": {},
   "outputs": [
    {
     "data": {
      "application/vnd.plotly.v1+json": {
       "config": {
        "plotlyServerURL": "https://plot.ly"
       },
       "data": [
        {
         "close": [
          4766.07,
          4764.25,
          4766.55,
          4766.78,
          4767.69,
          4768.77,
          4768.3,
          4768.21,
          4768.11,
          4770.14,
          4770.82,
          4768.9,
          4768.5,
          4766.59,
          4768.21,
          4766.81,
          4768.18,
          4770.26,
          4767.05,
          4766.03,
          4766.81,
          4768.45,
          4768.7,
          4768.66,
          4769.66,
          4770.1,
          4770.09,
          4768.89,
          4768.95,
          4770.7,
          4771.05,
          4770.71,
          4770.4,
          4769.99,
          4768.71,
          4769.91,
          4772.75,
          4772.67,
          4770.04,
          4771.3,
          4771.19,
          4772.33,
          4771.57,
          4773.58,
          4772.48,
          4772.21,
          4771.66,
          4772.35,
          4773.15,
          4771.87,
          4771.52,
          4772.75,
          4773.45,
          4773.4,
          4774.21,
          4774.4,
          4774.57,
          4775.48,
          4776.13,
          4774.26,
          4775.43,
          4776.38,
          4776.96,
          4777.52,
          4776.51,
          4777.52,
          4777.45,
          4780.02,
          4781.4,
          4783.12,
          4779.66,
          4779.17,
          4777.87,
          4774.7,
          4774.94
         ],
         "high": [
          4767.69,
          4766.25,
          4766.67,
          4767.17,
          4768.41,
          4769.48,
          4769.63,
          4769.08,
          4770.56,
          4770.47,
          4770.99,
          4771.3,
          4769.24,
          4768.51,
          4768.27,
          4768.76,
          4768.35,
          4770.51,
          4770.46,
          4767.68,
          4766.9,
          4768.59,
          4769.1,
          4769.5,
          4770.54,
          4770.16,
          4770.39,
          4770.08,
          4769.05,
          4770.89,
          4771.55,
          4771.44,
          4771.41,
          4770.91,
          4770.03,
          4769.93,
          4773.08,
          4772.84,
          4772.74,
          4771.59,
          4771.44,
          4773.12,
          4772.35,
          4773.75,
          4773.79,
          4773.33,
          4772.3,
          4772.42,
          4773.31,
          4773.21,
          4772.55,
          4773.23,
          4773.46,
          4774.46,
          4774.4,
          4774.42,
          4775.07,
          4776.3,
          4776.18,
          4776.32,
          4775.8,
          4776.48,
          4777.15,
          4777.8,
          4778.12,
          4777.72,
          4777.61,
          4780.03,
          4784.72,
          4783.52,
          4783.46,
          4779.69,
          4780.75,
          4779.24,
          4775.69
         ],
         "low": [
          4765.84,
          4763.77,
          4763.42,
          4766.03,
          4766.34,
          4767.62,
          4768.23,
          4767.65,
          4767.72,
          4768.18,
          4769.65,
          4768.9,
          4768.4,
          4765.14,
          4766.59,
          4765.79,
          4766.83,
          4767.45,
          4766.85,
          4766.03,
          4765.49,
          4766.78,
          4768.01,
          4768.25,
          4768.7,
          4769.22,
          4768.6,
          4768.52,
          4768.36,
          4768.9,
          4770.47,
          4770.32,
          4770.4,
          4769.93,
          4768.44,
          4768.57,
          4769.89,
          4771.35,
          4769.81,
          4769.81,
          4770.77,
          4771.2,
          4771.31,
          4771.53,
          4772.31,
          4772.21,
          4771.54,
          4771.43,
          4772.32,
          4771.25,
          4771.16,
          4771.42,
          4772.68,
          4773.36,
          4773.08,
          4773.86,
          4773.85,
          4774.56,
          4775.31,
          4774.24,
          4774.28,
          4775.43,
          4776.08,
          4776.02,
          4776.39,
          4776.5,
          4776.79,
          4777.43,
          4780.03,
          4781.36,
          4779.4,
          4778.92,
          4777.87,
          4774.18,
          4772.5
         ],
         "open": [
          4766.14,
          4766.08,
          4764.22,
          4766.53,
          4766.75,
          4767.68,
          4768.74,
          4768.2,
          4768.34,
          4768.18,
          4770.15,
          4770.84,
          4768.9,
          4768.44,
          4766.59,
          4768.24,
          4766.83,
          4768.2,
          4770.27,
          4767.05,
          4765.97,
          4766.78,
          4768.45,
          4768.72,
          4768.73,
          4769.52,
          4770.12,
          4770.08,
          4768.89,
          4768.98,
          4770.76,
          4771.05,
          4770.71,
          4770.42,
          4769.94,
          4768.72,
          4769.95,
          4772.75,
          4772.67,
          4770.02,
          4771.3,
          4771.2,
          4772.35,
          4771.57,
          4773.6,
          4772.49,
          4772.23,
          4771.65,
          4772.33,
          4773.14,
          4771.87,
          4771.55,
          4772.81,
          4773.46,
          4773.34,
          4774.23,
          4774.36,
          4774.56,
          4775.38,
          4776.15,
          4774.28,
          4775.44,
          4776.37,
          4776.99,
          4777.54,
          4776.52,
          4777.51,
          4777.46,
          4780.03,
          4781.45,
          4783.09,
          4779.67,
          4779.18,
          4777.77,
          4774.66
         ],
         "type": "candlestick",
         "x": [
          "2023-12-26T09:45:00",
          "2023-12-26T09:50:00",
          "2023-12-26T09:55:00",
          "2023-12-26T10:00:00",
          "2023-12-26T10:05:00",
          "2023-12-26T10:10:00",
          "2023-12-26T10:15:00",
          "2023-12-26T10:20:00",
          "2023-12-26T10:25:00",
          "2023-12-26T10:30:00",
          "2023-12-26T10:35:00",
          "2023-12-26T10:40:00",
          "2023-12-26T10:45:00",
          "2023-12-26T10:50:00",
          "2023-12-26T10:55:00",
          "2023-12-26T11:00:00",
          "2023-12-26T11:05:00",
          "2023-12-26T11:10:00",
          "2023-12-26T11:15:00",
          "2023-12-26T11:20:00",
          "2023-12-26T11:25:00",
          "2023-12-26T11:30:00",
          "2023-12-26T11:35:00",
          "2023-12-26T11:40:00",
          "2023-12-26T11:45:00",
          "2023-12-26T11:50:00",
          "2023-12-26T11:55:00",
          "2023-12-26T12:00:00",
          "2023-12-26T12:05:00",
          "2023-12-26T12:10:00",
          "2023-12-26T12:15:00",
          "2023-12-26T12:20:00",
          "2023-12-26T12:25:00",
          "2023-12-26T12:30:00",
          "2023-12-26T12:35:00",
          "2023-12-26T12:40:00",
          "2023-12-26T12:45:00",
          "2023-12-26T12:50:00",
          "2023-12-26T12:55:00",
          "2023-12-26T13:00:00",
          "2023-12-26T13:05:00",
          "2023-12-26T13:10:00",
          "2023-12-26T13:15:00",
          "2023-12-26T13:20:00",
          "2023-12-26T13:25:00",
          "2023-12-26T13:30:00",
          "2023-12-26T13:35:00",
          "2023-12-26T13:40:00",
          "2023-12-26T13:45:00",
          "2023-12-26T13:50:00",
          "2023-12-26T13:55:00",
          "2023-12-26T14:00:00",
          "2023-12-26T14:05:00",
          "2023-12-26T14:10:00",
          "2023-12-26T14:15:00",
          "2023-12-26T14:20:00",
          "2023-12-26T14:25:00",
          "2023-12-26T14:30:00",
          "2023-12-26T14:35:00",
          "2023-12-26T14:40:00",
          "2023-12-26T14:45:00",
          "2023-12-26T14:50:00",
          "2023-12-26T14:55:00",
          "2023-12-26T15:00:00",
          "2023-12-26T15:05:00",
          "2023-12-26T15:10:00",
          "2023-12-26T15:15:00",
          "2023-12-26T15:20:00",
          "2023-12-26T15:25:00",
          "2023-12-26T15:30:00",
          "2023-12-26T15:35:00",
          "2023-12-26T15:40:00",
          "2023-12-26T15:45:00",
          "2023-12-26T15:50:00",
          "2023-12-26T15:55:00"
         ]
        },
        {
         "line": {
          "color": "#ff5f5f"
         },
         "mode": "lines",
         "name": "pred_hod",
         "type": "scatter",
         "x": [
          "2023-12-26T09:45:00",
          "2023-12-26T09:50:00",
          "2023-12-26T09:55:00",
          "2023-12-26T10:00:00",
          "2023-12-26T10:05:00",
          "2023-12-26T10:10:00",
          "2023-12-26T10:15:00",
          "2023-12-26T10:20:00",
          "2023-12-26T10:25:00",
          "2023-12-26T10:30:00",
          "2023-12-26T10:35:00",
          "2023-12-26T10:40:00",
          "2023-12-26T10:45:00",
          "2023-12-26T10:50:00",
          "2023-12-26T10:55:00",
          "2023-12-26T11:00:00",
          "2023-12-26T11:05:00",
          "2023-12-26T11:10:00",
          "2023-12-26T11:15:00",
          "2023-12-26T11:20:00",
          "2023-12-26T11:25:00",
          "2023-12-26T11:30:00",
          "2023-12-26T11:35:00",
          "2023-12-26T11:40:00",
          "2023-12-26T11:45:00",
          "2023-12-26T11:50:00",
          "2023-12-26T11:55:00",
          "2023-12-26T12:00:00",
          "2023-12-26T12:05:00",
          "2023-12-26T12:10:00",
          "2023-12-26T12:15:00",
          "2023-12-26T12:20:00",
          "2023-12-26T12:25:00",
          "2023-12-26T12:30:00",
          "2023-12-26T12:35:00",
          "2023-12-26T12:40:00",
          "2023-12-26T12:45:00",
          "2023-12-26T12:50:00",
          "2023-12-26T12:55:00",
          "2023-12-26T13:00:00",
          "2023-12-26T13:05:00",
          "2023-12-26T13:10:00",
          "2023-12-26T13:15:00",
          "2023-12-26T13:20:00",
          "2023-12-26T13:25:00",
          "2023-12-26T13:30:00",
          "2023-12-26T13:35:00",
          "2023-12-26T13:40:00",
          "2023-12-26T13:45:00",
          "2023-12-26T13:50:00",
          "2023-12-26T13:55:00",
          "2023-12-26T14:00:00",
          "2023-12-26T14:05:00",
          "2023-12-26T14:10:00",
          "2023-12-26T14:15:00",
          "2023-12-26T14:20:00",
          "2023-12-26T14:25:00",
          "2023-12-26T14:30:00",
          "2023-12-26T14:35:00",
          "2023-12-26T14:40:00",
          "2023-12-26T14:45:00",
          "2023-12-26T14:50:00",
          "2023-12-26T14:55:00",
          "2023-12-26T15:00:00",
          "2023-12-26T15:05:00",
          "2023-12-26T15:10:00",
          "2023-12-26T15:15:00",
          "2023-12-26T15:20:00",
          "2023-12-26T15:25:00",
          "2023-12-26T15:30:00",
          "2023-12-26T15:35:00",
          "2023-12-26T15:40:00",
          "2023-12-26T15:45:00",
          "2023-12-26T15:50:00",
          "2023-12-26T15:55:00"
         ],
         "y": [
          0.08833509038852026,
          0.12722967646891445,
          0.10950455998798668,
          0.09994210317578811,
          0.08824268227496512,
          0.07797680945569067,
          0.08316495961053065,
          0.09060562627156063,
          0.09626428781380983,
          0.08834521529374002,
          0.07980846594732495,
          0.10061045454555649,
          0.12504300544752106,
          0.16787620548810944,
          0.18041157449207684,
          0.2088402884990622,
          0.20690682818723044,
          0.17548248089729965,
          0.20215179173907902,
          0.2508102358299486,
          0.2653048866602682,
          0.24633370219537326,
          0.2259634642111149,
          0.21516145486635596,
          0.18765082236840297,
          0.1615728394793676,
          0.14202079443213836,
          0.14961000902459767,
          0.15501312332738526,
          0.13332220346916587,
          0.11452959990270987,
          0.10299191672929917,
          0.09908453441406763,
          0.10183352038659986,
          0.12800998481704526,
          0.12396156347864405,
          0.10534843860138868,
          0.09379463061452198,
          0.12460979606226673,
          0.12928449695457753,
          0.13279050205611218,
          0.11898763080777162,
          0.11947786312607148,
          0.10321611074218615,
          0.10147005645441075,
          0.11007391439496284,
          0.13919766232377503,
          0.13957041809922618,
          0.1277494685858932,
          0.14082033724535087,
          0.1704309596951338,
          0.15702623700089732,
          0.13769069895957875,
          0.12318904744965982,
          0.11286874211881912,
          0.10512851372748098,
          0.09619938809803699,
          0.08950254417126459,
          0.0876696085496312,
          0.13085218979533317,
          0.13065461480056775,
          0.11915846614469254,
          0.11055673410607418,
          0.10485870858800045,
          0.131104505813615,
          0.13192416706646848,
          0.13506212494914363,
          0.12681575049065125,
          0.12132741586182812,
          0.15809808729635325,
          0.3130921916315219,
          0.4476865602505939,
          0.567598970491771,
          0.6700060580953313,
          0.7520010419465344
         ],
         "yaxis": "y2"
        },
        {
         "line": {
          "color": "#3399cc"
         },
         "mode": "lines",
         "name": "pred_lod",
         "type": "scatter",
         "x": [
          "2023-12-26T09:45:00",
          "2023-12-26T09:50:00",
          "2023-12-26T09:55:00",
          "2023-12-26T10:00:00",
          "2023-12-26T10:05:00",
          "2023-12-26T10:10:00",
          "2023-12-26T10:15:00",
          "2023-12-26T10:20:00",
          "2023-12-26T10:25:00",
          "2023-12-26T10:30:00",
          "2023-12-26T10:35:00",
          "2023-12-26T10:40:00",
          "2023-12-26T10:45:00",
          "2023-12-26T10:50:00",
          "2023-12-26T10:55:00",
          "2023-12-26T11:00:00",
          "2023-12-26T11:05:00",
          "2023-12-26T11:10:00",
          "2023-12-26T11:15:00",
          "2023-12-26T11:20:00",
          "2023-12-26T11:25:00",
          "2023-12-26T11:30:00",
          "2023-12-26T11:35:00",
          "2023-12-26T11:40:00",
          "2023-12-26T11:45:00",
          "2023-12-26T11:50:00",
          "2023-12-26T11:55:00",
          "2023-12-26T12:00:00",
          "2023-12-26T12:05:00",
          "2023-12-26T12:10:00",
          "2023-12-26T12:15:00",
          "2023-12-26T12:20:00",
          "2023-12-26T12:25:00",
          "2023-12-26T12:30:00",
          "2023-12-26T12:35:00",
          "2023-12-26T12:40:00",
          "2023-12-26T12:45:00",
          "2023-12-26T12:50:00",
          "2023-12-26T12:55:00",
          "2023-12-26T13:00:00",
          "2023-12-26T13:05:00",
          "2023-12-26T13:10:00",
          "2023-12-26T13:15:00",
          "2023-12-26T13:20:00",
          "2023-12-26T13:25:00",
          "2023-12-26T13:30:00",
          "2023-12-26T13:35:00",
          "2023-12-26T13:40:00",
          "2023-12-26T13:45:00",
          "2023-12-26T13:50:00",
          "2023-12-26T13:55:00",
          "2023-12-26T14:00:00",
          "2023-12-26T14:05:00",
          "2023-12-26T14:10:00",
          "2023-12-26T14:15:00",
          "2023-12-26T14:20:00",
          "2023-12-26T14:25:00",
          "2023-12-26T14:30:00",
          "2023-12-26T14:35:00",
          "2023-12-26T14:40:00",
          "2023-12-26T14:45:00",
          "2023-12-26T14:50:00",
          "2023-12-26T14:55:00",
          "2023-12-26T15:00:00",
          "2023-12-26T15:05:00",
          "2023-12-26T15:10:00",
          "2023-12-26T15:15:00",
          "2023-12-26T15:20:00",
          "2023-12-26T15:25:00",
          "2023-12-26T15:30:00",
          "2023-12-26T15:35:00",
          "2023-12-26T15:40:00",
          "2023-12-26T15:45:00",
          "2023-12-26T15:50:00",
          "2023-12-26T15:55:00"
         ],
         "y": [
          0.40384160931952945,
          0.34257625453755153,
          0.37310633028194734,
          0.41264123329052416,
          0.4357107168822442,
          0.4692701903096489,
          0.48186696441159943,
          0.4988527878770724,
          0.5142383301781632,
          0.5421976743235195,
          0.572347653760652,
          0.5771062141992245,
          0.5788997618532014,
          0.5429022322094273,
          0.5422773161995013,
          0.5219609358443963,
          0.5338777641377087,
          0.5736817953280056,
          0.5622425096197858,
          0.5472564089748861,
          0.5432881663808053,
          0.5755640205365224,
          0.6058729592858362,
          0.6285869053568239,
          0.6596278573907857,
          0.6879525937069022,
          0.7098246364381237,
          0.7228108678871119,
          0.7325487372933174,
          0.7506772668431146,
          0.7713335623317124,
          0.7868508284722058,
          0.8006538011300255,
          0.8113460219055592,
          0.8092819365721785,
          0.8224432800443913,
          0.8389977119732472,
          0.8524099599719258,
          0.8412413455819518,
          0.8547705160989522,
          0.8645617447136505,
          0.8732689854492268,
          0.879659605385714,
          0.8886886144165578,
          0.8955063168227267,
          0.9027226894131706,
          0.9059022870724579,
          0.9124043142650988,
          0.9190579248306128,
          0.9198831827116958,
          0.9200494329002358,
          0.9251500086298293,
          0.9306920456422727,
          0.9366411600106914,
          0.9434177251769391,
          0.9497066653099928,
          0.9554008170000299,
          0.9605291368354832,
          0.9653978831511038,
          0.9688808445938829,
          0.9726099652408112,
          0.9762675643046012,
          0.9791827360180798,
          0.9817652095922845,
          0.983748119257031,
          0.9856615117160982,
          0.9871712614779412,
          0.9887030711328055,
          0.990065621052847,
          0.991499714393199,
          0.9920218309682498,
          0.992320992423892,
          0.9920580990491059,
          0.9916483421196793,
          0.9935638762248811
         ],
         "yaxis": "y2"
        },
        {
         "line": {
          "color": "#98ff98"
         },
         "mode": "lines",
         "name": "pred_lod",
         "type": "scatter",
         "x": [
          "2023-12-26T09:45:00",
          "2023-12-26T09:50:00",
          "2023-12-26T09:55:00",
          "2023-12-26T10:00:00",
          "2023-12-26T10:05:00",
          "2023-12-26T10:10:00",
          "2023-12-26T10:15:00",
          "2023-12-26T10:20:00",
          "2023-12-26T10:25:00",
          "2023-12-26T10:30:00",
          "2023-12-26T10:35:00",
          "2023-12-26T10:40:00",
          "2023-12-26T10:45:00",
          "2023-12-26T10:50:00",
          "2023-12-26T10:55:00",
          "2023-12-26T11:00:00",
          "2023-12-26T11:05:00",
          "2023-12-26T11:10:00",
          "2023-12-26T11:15:00",
          "2023-12-26T11:20:00",
          "2023-12-26T11:25:00",
          "2023-12-26T11:30:00",
          "2023-12-26T11:35:00",
          "2023-12-26T11:40:00",
          "2023-12-26T11:45:00",
          "2023-12-26T11:50:00",
          "2023-12-26T11:55:00",
          "2023-12-26T12:00:00",
          "2023-12-26T12:05:00",
          "2023-12-26T12:10:00",
          "2023-12-26T12:15:00",
          "2023-12-26T12:20:00",
          "2023-12-26T12:25:00",
          "2023-12-26T12:30:00",
          "2023-12-26T12:35:00",
          "2023-12-26T12:40:00",
          "2023-12-26T12:45:00",
          "2023-12-26T12:50:00",
          "2023-12-26T12:55:00",
          "2023-12-26T13:00:00",
          "2023-12-26T13:05:00",
          "2023-12-26T13:10:00",
          "2023-12-26T13:15:00",
          "2023-12-26T13:20:00",
          "2023-12-26T13:25:00",
          "2023-12-26T13:30:00",
          "2023-12-26T13:35:00",
          "2023-12-26T13:40:00",
          "2023-12-26T13:45:00",
          "2023-12-26T13:50:00",
          "2023-12-26T13:55:00",
          "2023-12-26T14:00:00",
          "2023-12-26T14:05:00",
          "2023-12-26T14:10:00",
          "2023-12-26T14:15:00",
          "2023-12-26T14:20:00",
          "2023-12-26T14:25:00",
          "2023-12-26T14:30:00",
          "2023-12-26T14:35:00",
          "2023-12-26T14:40:00",
          "2023-12-26T14:45:00",
          "2023-12-26T14:50:00",
          "2023-12-26T14:55:00",
          "2023-12-26T15:00:00",
          "2023-12-26T15:05:00",
          "2023-12-26T15:10:00",
          "2023-12-26T15:15:00",
          "2023-12-26T15:20:00",
          "2023-12-26T15:25:00",
          "2023-12-26T15:30:00",
          "2023-12-26T15:35:00",
          "2023-12-26T15:40:00",
          "2023-12-26T15:45:00",
          "2023-12-26T15:50:00",
          "2023-12-26T15:55:00"
         ],
         "y": [
          0.7682173180689281,
          0.7392482023428231,
          0.7494131754028717,
          0.7549268138556473,
          0.7589334237141128,
          0.7647719175322775,
          0.7686261377241377,
          0.7731477470107065,
          0.778657593019998,
          0.7860443756149021,
          0.8050438159617745,
          0.8086984698330292,
          0.8088480396789955,
          0.7891842680875173,
          0.7856148698400688,
          0.7744750431184999,
          0.7771734394139747,
          0.7947794246112451,
          0.7978519098918209,
          0.7915906348175807,
          0.7875614084899226,
          0.8052682460351764,
          0.8166719790262638,
          0.8252180973285209,
          0.8445896156735228,
          0.8645052017395229,
          0.8802458709373314,
          0.8898927725241665,
          0.8939599259345209,
          0.9045924266784756,
          0.9134069984959171,
          0.9227460664314712,
          0.9298420935484973,
          0.935694843432862,
          0.9366073176100005,
          0.9365770079005554,
          0.9420550782630678,
          0.9448627854743639,
          0.9380546610308442,
          0.9454892132051431,
          0.9507925936589902,
          0.9541219766596102,
          0.9581602152324309,
          0.9610859370250192,
          0.9643891145027889,
          0.9666873968392534,
          0.9682898218530663,
          0.9702594719905135,
          0.9723402820920176,
          0.9732973157286838,
          0.9736489238129753,
          0.9755972978667585,
          0.9770836613977931,
          0.9780106766373537,
          0.9789521705315964,
          0.979738547603478,
          0.9803283303727123,
          0.9805031062695633,
          0.9810405824946429,
          0.9810636199617213,
          0.9818862550952135,
          0.9826675185811738,
          0.9833148713293942,
          0.9841181260603835,
          0.9846632806415195,
          0.9852957195645543,
          0.9858872514595924,
          0.9865225053182609,
          0.9873259611938774,
          0.9880588249542018,
          0.9862515394633304,
          0.984896075346242,
          0.9840258815024372,
          0.9825167826541723,
          0.9813849585183487
         ],
         "yaxis": "y2"
        }
       ],
       "layout": {
        "legend": {
         "orientation": "h",
         "x": 1,
         "xanchor": "right",
         "y": 1.02,
         "yanchor": "bottom"
        },
        "shapes": [
         {
          "line": {
           "color": "Red",
           "dash": "dash",
           "width": 1.5
          },
          "type": "line",
          "x0": "2023-12-26T09:45:00",
          "x1": "2023-12-26T15:55:00",
          "y0": 0.5,
          "y1": 0.5,
          "yref": "y2"
         }
        ],
        "template": {
         "data": {
          "bar": [
           {
            "error_x": {
             "color": "#f2f5fa"
            },
            "error_y": {
             "color": "#f2f5fa"
            },
            "marker": {
             "line": {
              "color": "rgb(17,17,17)",
              "width": 0.5
             },
             "pattern": {
              "fillmode": "overlay",
              "size": 10,
              "solidity": 0.2
             }
            },
            "type": "bar"
           }
          ],
          "barpolar": [
           {
            "marker": {
             "line": {
              "color": "rgb(17,17,17)",
              "width": 0.5
             },
             "pattern": {
              "fillmode": "overlay",
              "size": 10,
              "solidity": 0.2
             }
            },
            "type": "barpolar"
           }
          ],
          "carpet": [
           {
            "aaxis": {
             "endlinecolor": "#A2B1C6",
             "gridcolor": "#506784",
             "linecolor": "#506784",
             "minorgridcolor": "#506784",
             "startlinecolor": "#A2B1C6"
            },
            "baxis": {
             "endlinecolor": "#A2B1C6",
             "gridcolor": "#506784",
             "linecolor": "#506784",
             "minorgridcolor": "#506784",
             "startlinecolor": "#A2B1C6"
            },
            "type": "carpet"
           }
          ],
          "choropleth": [
           {
            "colorbar": {
             "outlinewidth": 0,
             "ticks": ""
            },
            "type": "choropleth"
           }
          ],
          "contour": [
           {
            "colorbar": {
             "outlinewidth": 0,
             "ticks": ""
            },
            "colorscale": [
             [
              0,
              "#0d0887"
             ],
             [
              0.1111111111111111,
              "#46039f"
             ],
             [
              0.2222222222222222,
              "#7201a8"
             ],
             [
              0.3333333333333333,
              "#9c179e"
             ],
             [
              0.4444444444444444,
              "#bd3786"
             ],
             [
              0.5555555555555556,
              "#d8576b"
             ],
             [
              0.6666666666666666,
              "#ed7953"
             ],
             [
              0.7777777777777778,
              "#fb9f3a"
             ],
             [
              0.8888888888888888,
              "#fdca26"
             ],
             [
              1,
              "#f0f921"
             ]
            ],
            "type": "contour"
           }
          ],
          "contourcarpet": [
           {
            "colorbar": {
             "outlinewidth": 0,
             "ticks": ""
            },
            "type": "contourcarpet"
           }
          ],
          "heatmap": [
           {
            "colorbar": {
             "outlinewidth": 0,
             "ticks": ""
            },
            "colorscale": [
             [
              0,
              "#0d0887"
             ],
             [
              0.1111111111111111,
              "#46039f"
             ],
             [
              0.2222222222222222,
              "#7201a8"
             ],
             [
              0.3333333333333333,
              "#9c179e"
             ],
             [
              0.4444444444444444,
              "#bd3786"
             ],
             [
              0.5555555555555556,
              "#d8576b"
             ],
             [
              0.6666666666666666,
              "#ed7953"
             ],
             [
              0.7777777777777778,
              "#fb9f3a"
             ],
             [
              0.8888888888888888,
              "#fdca26"
             ],
             [
              1,
              "#f0f921"
             ]
            ],
            "type": "heatmap"
           }
          ],
          "heatmapgl": [
           {
            "colorbar": {
             "outlinewidth": 0,
             "ticks": ""
            },
            "colorscale": [
             [
              0,
              "#0d0887"
             ],
             [
              0.1111111111111111,
              "#46039f"
             ],
             [
              0.2222222222222222,
              "#7201a8"
             ],
             [
              0.3333333333333333,
              "#9c179e"
             ],
             [
              0.4444444444444444,
              "#bd3786"
             ],
             [
              0.5555555555555556,
              "#d8576b"
             ],
             [
              0.6666666666666666,
              "#ed7953"
             ],
             [
              0.7777777777777778,
              "#fb9f3a"
             ],
             [
              0.8888888888888888,
              "#fdca26"
             ],
             [
              1,
              "#f0f921"
             ]
            ],
            "type": "heatmapgl"
           }
          ],
          "histogram": [
           {
            "marker": {
             "pattern": {
              "fillmode": "overlay",
              "size": 10,
              "solidity": 0.2
             }
            },
            "type": "histogram"
           }
          ],
          "histogram2d": [
           {
            "colorbar": {
             "outlinewidth": 0,
             "ticks": ""
            },
            "colorscale": [
             [
              0,
              "#0d0887"
             ],
             [
              0.1111111111111111,
              "#46039f"
             ],
             [
              0.2222222222222222,
              "#7201a8"
             ],
             [
              0.3333333333333333,
              "#9c179e"
             ],
             [
              0.4444444444444444,
              "#bd3786"
             ],
             [
              0.5555555555555556,
              "#d8576b"
             ],
             [
              0.6666666666666666,
              "#ed7953"
             ],
             [
              0.7777777777777778,
              "#fb9f3a"
             ],
             [
              0.8888888888888888,
              "#fdca26"
             ],
             [
              1,
              "#f0f921"
             ]
            ],
            "type": "histogram2d"
           }
          ],
          "histogram2dcontour": [
           {
            "colorbar": {
             "outlinewidth": 0,
             "ticks": ""
            },
            "colorscale": [
             [
              0,
              "#0d0887"
             ],
             [
              0.1111111111111111,
              "#46039f"
             ],
             [
              0.2222222222222222,
              "#7201a8"
             ],
             [
              0.3333333333333333,
              "#9c179e"
             ],
             [
              0.4444444444444444,
              "#bd3786"
             ],
             [
              0.5555555555555556,
              "#d8576b"
             ],
             [
              0.6666666666666666,
              "#ed7953"
             ],
             [
              0.7777777777777778,
              "#fb9f3a"
             ],
             [
              0.8888888888888888,
              "#fdca26"
             ],
             [
              1,
              "#f0f921"
             ]
            ],
            "type": "histogram2dcontour"
           }
          ],
          "mesh3d": [
           {
            "colorbar": {
             "outlinewidth": 0,
             "ticks": ""
            },
            "type": "mesh3d"
           }
          ],
          "parcoords": [
           {
            "line": {
             "colorbar": {
              "outlinewidth": 0,
              "ticks": ""
             }
            },
            "type": "parcoords"
           }
          ],
          "pie": [
           {
            "automargin": true,
            "type": "pie"
           }
          ],
          "scatter": [
           {
            "marker": {
             "line": {
              "color": "#283442"
             }
            },
            "type": "scatter"
           }
          ],
          "scatter3d": [
           {
            "line": {
             "colorbar": {
              "outlinewidth": 0,
              "ticks": ""
             }
            },
            "marker": {
             "colorbar": {
              "outlinewidth": 0,
              "ticks": ""
             }
            },
            "type": "scatter3d"
           }
          ],
          "scattercarpet": [
           {
            "marker": {
             "colorbar": {
              "outlinewidth": 0,
              "ticks": ""
             }
            },
            "type": "scattercarpet"
           }
          ],
          "scattergeo": [
           {
            "marker": {
             "colorbar": {
              "outlinewidth": 0,
              "ticks": ""
             }
            },
            "type": "scattergeo"
           }
          ],
          "scattergl": [
           {
            "marker": {
             "line": {
              "color": "#283442"
             }
            },
            "type": "scattergl"
           }
          ],
          "scattermapbox": [
           {
            "marker": {
             "colorbar": {
              "outlinewidth": 0,
              "ticks": ""
             }
            },
            "type": "scattermapbox"
           }
          ],
          "scatterpolar": [
           {
            "marker": {
             "colorbar": {
              "outlinewidth": 0,
              "ticks": ""
             }
            },
            "type": "scatterpolar"
           }
          ],
          "scatterpolargl": [
           {
            "marker": {
             "colorbar": {
              "outlinewidth": 0,
              "ticks": ""
             }
            },
            "type": "scatterpolargl"
           }
          ],
          "scatterternary": [
           {
            "marker": {
             "colorbar": {
              "outlinewidth": 0,
              "ticks": ""
             }
            },
            "type": "scatterternary"
           }
          ],
          "surface": [
           {
            "colorbar": {
             "outlinewidth": 0,
             "ticks": ""
            },
            "colorscale": [
             [
              0,
              "#0d0887"
             ],
             [
              0.1111111111111111,
              "#46039f"
             ],
             [
              0.2222222222222222,
              "#7201a8"
             ],
             [
              0.3333333333333333,
              "#9c179e"
             ],
             [
              0.4444444444444444,
              "#bd3786"
             ],
             [
              0.5555555555555556,
              "#d8576b"
             ],
             [
              0.6666666666666666,
              "#ed7953"
             ],
             [
              0.7777777777777778,
              "#fb9f3a"
             ],
             [
              0.8888888888888888,
              "#fdca26"
             ],
             [
              1,
              "#f0f921"
             ]
            ],
            "type": "surface"
           }
          ],
          "table": [
           {
            "cells": {
             "fill": {
              "color": "#506784"
             },
             "line": {
              "color": "rgb(17,17,17)"
             }
            },
            "header": {
             "fill": {
              "color": "#2a3f5f"
             },
             "line": {
              "color": "rgb(17,17,17)"
             }
            },
            "type": "table"
           }
          ]
         },
         "layout": {
          "annotationdefaults": {
           "arrowcolor": "#f2f5fa",
           "arrowhead": 0,
           "arrowwidth": 1
          },
          "autotypenumbers": "strict",
          "coloraxis": {
           "colorbar": {
            "outlinewidth": 0,
            "ticks": ""
           }
          },
          "colorscale": {
           "diverging": [
            [
             0,
             "#8e0152"
            ],
            [
             0.1,
             "#c51b7d"
            ],
            [
             0.2,
             "#de77ae"
            ],
            [
             0.3,
             "#f1b6da"
            ],
            [
             0.4,
             "#fde0ef"
            ],
            [
             0.5,
             "#f7f7f7"
            ],
            [
             0.6,
             "#e6f5d0"
            ],
            [
             0.7,
             "#b8e186"
            ],
            [
             0.8,
             "#7fbc41"
            ],
            [
             0.9,
             "#4d9221"
            ],
            [
             1,
             "#276419"
            ]
           ],
           "sequential": [
            [
             0,
             "#0d0887"
            ],
            [
             0.1111111111111111,
             "#46039f"
            ],
            [
             0.2222222222222222,
             "#7201a8"
            ],
            [
             0.3333333333333333,
             "#9c179e"
            ],
            [
             0.4444444444444444,
             "#bd3786"
            ],
            [
             0.5555555555555556,
             "#d8576b"
            ],
            [
             0.6666666666666666,
             "#ed7953"
            ],
            [
             0.7777777777777778,
             "#fb9f3a"
            ],
            [
             0.8888888888888888,
             "#fdca26"
            ],
            [
             1,
             "#f0f921"
            ]
           ],
           "sequentialminus": [
            [
             0,
             "#0d0887"
            ],
            [
             0.1111111111111111,
             "#46039f"
            ],
            [
             0.2222222222222222,
             "#7201a8"
            ],
            [
             0.3333333333333333,
             "#9c179e"
            ],
            [
             0.4444444444444444,
             "#bd3786"
            ],
            [
             0.5555555555555556,
             "#d8576b"
            ],
            [
             0.6666666666666666,
             "#ed7953"
            ],
            [
             0.7777777777777778,
             "#fb9f3a"
            ],
            [
             0.8888888888888888,
             "#fdca26"
            ],
            [
             1,
             "#f0f921"
            ]
           ]
          },
          "colorway": [
           "#636efa",
           "#EF553B",
           "#00cc96",
           "#ab63fa",
           "#FFA15A",
           "#19d3f3",
           "#FF6692",
           "#B6E880",
           "#FF97FF",
           "#FECB52"
          ],
          "font": {
           "color": "#f2f5fa"
          },
          "geo": {
           "bgcolor": "rgb(17,17,17)",
           "lakecolor": "rgb(17,17,17)",
           "landcolor": "rgb(17,17,17)",
           "showlakes": true,
           "showland": true,
           "subunitcolor": "#506784"
          },
          "hoverlabel": {
           "align": "left"
          },
          "hovermode": "closest",
          "mapbox": {
           "style": "dark"
          },
          "paper_bgcolor": "rgb(17,17,17)",
          "plot_bgcolor": "rgb(17,17,17)",
          "polar": {
           "angularaxis": {
            "gridcolor": "#506784",
            "linecolor": "#506784",
            "ticks": ""
           },
           "bgcolor": "rgb(17,17,17)",
           "radialaxis": {
            "gridcolor": "#506784",
            "linecolor": "#506784",
            "ticks": ""
           }
          },
          "scene": {
           "xaxis": {
            "backgroundcolor": "rgb(17,17,17)",
            "gridcolor": "#506784",
            "gridwidth": 2,
            "linecolor": "#506784",
            "showbackground": true,
            "ticks": "",
            "zerolinecolor": "#C8D4E3"
           },
           "yaxis": {
            "backgroundcolor": "rgb(17,17,17)",
            "gridcolor": "#506784",
            "gridwidth": 2,
            "linecolor": "#506784",
            "showbackground": true,
            "ticks": "",
            "zerolinecolor": "#C8D4E3"
           },
           "zaxis": {
            "backgroundcolor": "rgb(17,17,17)",
            "gridcolor": "#506784",
            "gridwidth": 2,
            "linecolor": "#506784",
            "showbackground": true,
            "ticks": "",
            "zerolinecolor": "#C8D4E3"
           }
          },
          "shapedefaults": {
           "line": {
            "color": "#f2f5fa"
           }
          },
          "sliderdefaults": {
           "bgcolor": "#C8D4E3",
           "bordercolor": "rgb(17,17,17)",
           "borderwidth": 1,
           "tickwidth": 0
          },
          "ternary": {
           "aaxis": {
            "gridcolor": "#506784",
            "linecolor": "#506784",
            "ticks": ""
           },
           "baxis": {
            "gridcolor": "#506784",
            "linecolor": "#506784",
            "ticks": ""
           },
           "bgcolor": "rgb(17,17,17)",
           "caxis": {
            "gridcolor": "#506784",
            "linecolor": "#506784",
            "ticks": ""
           }
          },
          "title": {
           "x": 0.05
          },
          "updatemenudefaults": {
           "bgcolor": "#506784",
           "borderwidth": 0
          },
          "xaxis": {
           "automargin": true,
           "gridcolor": "#283442",
           "linecolor": "#506784",
           "ticks": "",
           "title": {
            "standoff": 15
           },
           "zerolinecolor": "#283442",
           "zerolinewidth": 2
          },
          "yaxis": {
           "automargin": true,
           "gridcolor": "#283442",
           "linecolor": "#506784",
           "ticks": "",
           "title": {
            "standoff": 15
           },
           "zerolinecolor": "#283442",
           "zerolinewidth": 2
          }
         }
        },
        "title": {
         "text": "OHLC vs Prediction Over Time"
        },
        "xaxis": {
         "rangeslider": {
          "visible": false
         }
        },
        "yaxis": {
         "tickformat": ".0f"
        },
        "yaxis2": {
         "overlaying": "y",
         "side": "right",
         "tickformat": ".0%"
        }
       }
      }
     },
     "metadata": {},
     "output_type": "display_data"
    }
   ],
   "source": [
    "import plotly.graph_objects as go\n",
    "\n",
    "# Pick a day in the test set\n",
    "test_day = '2023-12-21'\n",
    "# test_day = '2023-12-26'\n",
    "test_df = df_results.loc[test_day:test_day]\n",
    "X_prices = spx_data.loc[test_day:test_day, ['open','high','low','close']]\n",
    "\n",
    "df_viz = test_df.merge(X_prices, left_index=True, right_index=True)\n",
    "\n",
    "fig = go.Figure(data=[go.Candlestick(x=df_viz.index,\n",
    "                open=df_viz['open'],\n",
    "                high=df_viz['high'],\n",
    "                low=df_viz['low'],\n",
    "                close=df_viz['close'])])\n",
    "\n",
    "fig.add_trace(go.Scatter(x=df_viz.index, y=df_viz['pred_hod'].ewm(3).mean(), mode='lines', name='pred_hod', yaxis='y2', line=dict(color='#ff5f5f')))\n",
    "fig.add_trace(go.Scatter(x=df_viz.index, y=df_viz['pred_lod'].ewm(3).mean(), mode='lines', name='pred_lod', yaxis='y2', line=dict(color='#3399cc')))\n",
    "fig.add_trace(go.Scatter(x=df_viz.index, y=df_viz['pred_gd'].ewm(3).mean(), mode='lines', name='pred_lod', yaxis='y2', line=dict(color='#98ff98')))\n",
    "\n",
    "fig.add_shape(\n",
    "    type=\"line\",\n",
    "    x0=df_viz.index.min(),\n",
    "    x1=df_viz.index.max(),\n",
    "    y0=0.5,\n",
    "    y1=0.5,\n",
    "    yref='y2',\n",
    "    line=dict(\n",
    "        color=\"Red\",\n",
    "        width=1.5,\n",
    "        dash=\"dash\",\n",
    "    )\n",
    ")\n",
    "\n",
    "fig.update_layout(\n",
    "    template='plotly_dark',\n",
    "    yaxis=dict(\n",
    "        tickformat='.0f'\n",
    "    ),\n",
    "    yaxis2=dict(\n",
    "        overlaying='y',\n",
    "        side='right',\n",
    "        tickformat=\".0%\"\n",
    "    ),\n",
    "    legend=dict(\n",
    "        orientation=\"h\",\n",
    "        yanchor=\"bottom\",\n",
    "        y=1.02,\n",
    "        xanchor=\"right\",\n",
    "        x=1\n",
    "    ),\n",
    "    title='OHLC vs Prediction Over Time',\n",
    "    xaxis_rangeslider_visible=False\n",
    ")\n",
    "\n",
    "fig.show()"
   ]
  },
  {
   "cell_type": "code",
   "execution_count": 211,
   "metadata": {},
   "outputs": [
    {
     "ename": "NameError",
     "evalue": "name 'XXX' is not defined",
     "output_type": "error",
     "traceback": [
      "\u001b[1;31m---------------------------------------------------------------------------\u001b[0m",
      "\u001b[1;31mNameError\u001b[0m                                 Traceback (most recent call last)",
      "\u001b[1;32md:\\Projects\\session-extrema-model\\lower_tf_research_tops_bottoms.ipynb Cell 50\u001b[0m line \u001b[0;36m1\n\u001b[1;32m----> <a href='vscode-notebook-cell:/d%3A/Projects/session-extrema-model/lower_tf_research_tops_bottoms.ipynb#Y453sZmlsZQ%3D%3D?line=0'>1</a>\u001b[0m XXX\n",
      "\u001b[1;31mNameError\u001b[0m: name 'XXX' is not defined"
     ]
    }
   ],
   "source": [
    "XXX"
   ]
  },
  {
   "cell_type": "markdown",
   "metadata": {},
   "source": [
    "# Inference Pipeline"
   ]
  },
  {
   "cell_type": "code",
   "execution_count": null,
   "metadata": {},
   "outputs": [],
   "source": [
    "# Get data\n",
    "import yfinance as yf\n",
    "import numpy as np\n",
    "import pandas as pd\n",
    "import datetime\n",
    "\n",
    "def create_features(ticker_str):\n",
    "    '''\n",
    "    Function to create dataframe of features for top/bottom model.\n",
    "    '''\n",
    "    ticker = yf.Ticker(ticker_str)\n",
    "    df = ticker.history(period='5d',interval='5m')\n",
    "    df = df.loc[\n",
    "        (df.index.time >= datetime.time(9,45)) &\\\n",
    "        (df.index.time < datetime.time(16,0)),\n",
    "    ['Open','High','Low','Close']]\n",
    "    df.columns = ['open','high','low','close']\n",
    "\n",
    "    df['time'] = df.index.time\n",
    "    df['eod_close'] = df.groupby(df.index.date)['close'].tail(1)\n",
    "    df['prev_close'] = df['eod_close'].shift(1)\n",
    "    df['prev_close'] = df['prev_close'].ffill()\n",
    "    df['eod_close'] = df['eod_close'].bfill()\n",
    "    df['green_day'] = df['eod_close'] > df['prev_close']\n",
    "\n",
    "    df['eod_close_pts'] = df['eod_close'] - df['prev_close']\n",
    "    df['eod_close_pct'] = df['eod_close_pts'] / df['prev_close']\n",
    "\n",
    "    for day in sorted(set(df.index.date)):\n",
    "        day_str = datetime.datetime.strftime(day, '%Y-%m-%d')\n",
    "        day_open = df.loc[day_str, 'open'].iloc[0]\n",
    "        df.loc[day_str, 'lod'] = df.loc[day_str, 'low'].min()\n",
    "        df.loc[day_str, 'label_lod'] = (df.loc[day_str, 'low'] == df.loc[day_str, 'lod']).astype(int)\n",
    "        \n",
    "        df.loc[day_str, 'hod'] = df.loc[day_str, 'high'].max()\n",
    "        df.loc[day_str, 'label'] = (df.loc[day_str, 'high'] == df.loc[day_str, 'hod']).astype(int)\n",
    "        df.loc[day_str, 'day_open'] = day_open\n",
    "        df.loc[day_str, 'day_open_pts'] = df.loc[day_str, 'close'] - df.loc[day_str, 'day_open']\n",
    "        df.loc[day_str, 'day_open_pct'] = df.loc[day_str, 'day_open_pts'] / df.loc[day_str, 'day_open']\n",
    "        df.loc[day_str, 'prev_close_pts'] = df.loc[day_str, 'close'] - df.loc[day_str, 'prev_close']\n",
    "        df.loc[day_str, 'prev_close_pct'] = df.loc[day_str, 'prev_close_pts'] / df.loc[day_str, 'prev_close']\n",
    "\n",
    "        # Lowest low\n",
    "        df.loc[day_str, 'lowest_low'] = df.loc[day_str, 'low'].expanding().min()\n",
    "        df.loc[day_str, 'lowest_low'] = df.loc[day_str, 'lowest_low'].shift(1)\n",
    "        df.loc[day_str, 'lowest_low'] = df.loc[day_str, 'lowest_low'].ffill()\n",
    "        df.loc[day_str, 'lowest_low_mag'] = (df.loc[day_str, 'close'] / df.loc[day_str, 'lowest_low']) - 1\n",
    "\n",
    "        # Highest high\n",
    "        df.loc[day_str, 'highest_high'] = df.loc[day_str, 'high'].expanding().max()\n",
    "        df.loc[day_str, 'highest_high'] = df.loc[day_str, 'highest_high'].shift(1)\n",
    "        df.loc[day_str, 'highest_high'] = df.loc[day_str, 'highest_high'].ffill()\n",
    "        df.loc[day_str, 'highest_high_mag'] = (df.loc[day_str, 'close'] / df.loc[day_str, 'highest_high']) - 1\n",
    "\n",
    "        # Shifted\n",
    "        df.loc[day_str, 'prev_close_pct_n1'] = df.loc[day_str, 'prev_close_pct'].shift(1)\n",
    "        df.loc[day_str, 'prev_close_pct_n2'] = df.loc[day_str, 'prev_close_pct'].shift(2)\n",
    "        df.loc[day_str, 'prev_close_pct_n3'] = df.loc[day_str, 'prev_close_pct'].shift(3)\n",
    "\n",
    "        df.loc[day_str, 'day_open_pct_n1'] = df.loc[day_str, 'day_open_pct'].shift(1)\n",
    "        df.loc[day_str, 'day_open_pct_n2'] = df.loc[day_str, 'day_open_pct'].shift(2)\n",
    "        df.loc[day_str, 'day_open_pct_n3'] = df.loc[day_str, 'day_open_pct'].shift(3)\n",
    "\n",
    "    df['gap_open'] = df['day_open'] - df['prev_close']\n",
    "    df['gap_open_pct'] = df['gap_open'] / df['prev_close']\n",
    "    return df.dropna(subset=[\n",
    "        'prev_close_pct',\n",
    "        'gap_open_pct',\n",
    "        'day_open_pct_n3',\n",
    "        'prev_close_pct_n3'\n",
    "    ])"
   ]
  },
  {
   "cell_type": "code",
   "execution_count": null,
   "metadata": {},
   "outputs": [],
   "source": [
    "import joblib\n",
    "\n",
    "df_feats = create_features(tck)"
   ]
  },
  {
   "cell_type": "code",
   "execution_count": null,
   "metadata": {},
   "outputs": [],
   "source": [
    "\n",
    "hod_model1 = joblib.load(ticker_dict[tck]['hod_model'])\n",
    "lod_model1 = joblib.load(ticker_dict[tck]['lod_model'])\n",
    "gd_model1 = joblib.load(ticker_dict[tck]['gd_model'])\n",
    "\n",
    "def create_preds_df(df_feats):\n",
    "    predicted_proba_hod = hod_model1.predict_proba(df_feats)[:,-1]\n",
    "    predicted_proba_lod = lod_model1.predict_proba(df_feats)[:,-1]\n",
    "    predicted_proba_gd = gd_model1.predict_proba(df_feats)[:,-1]\n",
    "    df_viz = df_feats.copy()\n",
    "    df_viz['pred_hod'] = predicted_proba_hod\n",
    "    df_viz['pred_lod'] = predicted_proba_lod\n",
    "    df_viz['pred_gd'] = predicted_proba_gd\n",
    "    return df_viz\n",
    "\n",
    "df_viz = create_preds_df(df_feats)"
   ]
  },
  {
   "cell_type": "code",
   "execution_count": null,
   "metadata": {},
   "outputs": [],
   "source": [
    "# Create df for visual\n",
    "def create_viz(df_viz, date_str):\n",
    "\n",
    "    df_use = df_viz.loc[date_str:date_str]\n",
    "    \n",
    "    fig = go.Figure(data=[go.Candlestick(x=df_use.index,\n",
    "                open=df_use['open'],\n",
    "                high=df_use['high'],\n",
    "                low=df_use['low'],\n",
    "                close=df_use['close'])])\n",
    "\n",
    "    fig.add_trace(go.Scatter(x=df_use.index, y=df_use['pred_hod'], mode='lines', name='pred_hod', yaxis='y2', line=dict(color='#ff5f5f')))\n",
    "    fig.add_trace(go.Scatter(x=df_use.index, y=df_use['pred_lod'], mode='lines', name='pred_lod', yaxis='y2', line=dict(color='#3399cc')))\n",
    "    fig.add_trace(go.Scatter(x=df_use.index, y=df_use['pred_gd'], mode='lines', name='pred_gd', yaxis='y2', line=dict(color='#9400d3')))\n",
    "\n",
    "\n",
    "    fig.add_shape(\n",
    "        type=\"line\",\n",
    "        x0=df_use.index.min(),\n",
    "        x1=df_use.index.max(),\n",
    "        y0=0.5,\n",
    "        y1=0.5,\n",
    "        yref='y2',\n",
    "        line=dict(\n",
    "            color=\"Red\",\n",
    "            width=1.5,\n",
    "            dash=\"dash\",\n",
    "        )\n",
    "    )\n",
    "\n",
    "    max_high = df_use['high'].max()\n",
    "    max_high_time = df_use['high'].idxmax()\n",
    "\n",
    "    min_low = df_use['low'].min()\n",
    "    min_low_time = df_use['low'].idxmin()\n",
    "\n",
    "    fig.add_annotation(\n",
    "        x=max_high_time,\n",
    "        y=max_high,\n",
    "        text=f\"{str(int(max_high))}\",\n",
    "        showarrow=True,\n",
    "        font=dict(\n",
    "            family=\"Courier New, monospace\",\n",
    "            size=12,\n",
    "            color=\"#ffffff\"\n",
    "        ),\n",
    "        align=\"center\",\n",
    "        arrowhead=2,\n",
    "        arrowsize=1,\n",
    "        arrowwidth=2,\n",
    "        arrowcolor=\"#636363\",\n",
    "        ax=20,\n",
    "        ay=-30,\n",
    "        bordercolor=\"#c7c7c7\",\n",
    "        borderwidth=1,\n",
    "        borderpad=1,\n",
    "        bgcolor=\"#ff5f5f\",\n",
    "        opacity=0.8\n",
    "    )\n",
    "\n",
    "    fig.add_annotation(\n",
    "        x=min_low_time,\n",
    "        y=min_low,\n",
    "        text=f\"{str(int(min_low))}\",\n",
    "        showarrow=True,\n",
    "        font=dict(\n",
    "            family=\"Courier New, monospace\",\n",
    "            size=12,\n",
    "            color=\"#ffffff\"\n",
    "        ),\n",
    "        align=\"center\",\n",
    "        arrowhead=2,\n",
    "        arrowsize=1,\n",
    "        arrowwidth=2,\n",
    "        arrowcolor=\"#636363\",\n",
    "        ax=20,\n",
    "        ay=30,  # Adjust the y offset for the annotation\n",
    "        bordercolor=\"#c7c7c7\",\n",
    "        borderwidth=1,\n",
    "        borderpad=1,\n",
    "        bgcolor=\"#3399cc\",\n",
    "        opacity=0.8\n",
    "    )\n",
    "\n",
    "    fig.update_layout(\n",
    "        template='plotly_dark',\n",
    "        yaxis=dict(\n",
    "            tickformat='.0f'\n",
    "        ),\n",
    "        yaxis2=dict(\n",
    "            overlaying='y',\n",
    "            side='right',\n",
    "            tickformat=\".0%\"\n",
    "        ),\n",
    "        legend=dict(\n",
    "            orientation=\"h\",\n",
    "            yanchor=\"bottom\",\n",
    "            y=1.02,\n",
    "            xanchor=\"right\",\n",
    "            x=1\n",
    "        ),\n",
    "        title='OHLC vs Prediction Over Time',\n",
    "        xaxis_rangeslider_visible=False\n",
    "    )\n",
    "\n",
    "    fig.show()\n",
    "    "
   ]
  },
  {
   "cell_type": "code",
   "execution_count": null,
   "metadata": {},
   "outputs": [],
   "source": [
    "create_viz(df_viz, '2024-01-02')"
   ]
  },
  {
   "cell_type": "code",
   "execution_count": null,
   "metadata": {},
   "outputs": [],
   "source": []
  },
  {
   "cell_type": "code",
   "execution_count": null,
   "metadata": {},
   "outputs": [],
   "source": [
    "XXX"
   ]
  },
  {
   "cell_type": "code",
   "execution_count": null,
   "metadata": {},
   "outputs": [],
   "source": []
  },
  {
   "cell_type": "code",
   "execution_count": null,
   "metadata": {},
   "outputs": [],
   "source": []
  },
  {
   "cell_type": "code",
   "execution_count": null,
   "metadata": {},
   "outputs": [],
   "source": []
  },
  {
   "cell_type": "code",
   "execution_count": null,
   "metadata": {},
   "outputs": [],
   "source": [
    "time_value = datetime.time(13,0)\n",
    "prev_close_pct = 0.005\n",
    "day_open_pct = 0.00\n",
    "gap_open_pct = -0.005\n",
    "\n",
    "input_data = pd.DataFrame({\n",
    "    'time': [time_value], \n",
    "    'prev_close_pct': [prev_close_pct],\n",
    "    'day_open_pct': [day_open_pct],\n",
    "    'gap_open_pct': [gap_open_pct],\n",
    "    })\n",
    "predicted_proba = pipeline.predict_proba(input_data)[:,-1]\n",
    "\n",
    "print(f\"Predicted Probability: {predicted_proba[0]}\")"
   ]
  },
  {
   "cell_type": "code",
   "execution_count": null,
   "metadata": {},
   "outputs": [],
   "source": [
    "get_top_probability(time_value, prev_close_pct)"
   ]
  },
  {
   "cell_type": "code",
   "execution_count": null,
   "metadata": {},
   "outputs": [],
   "source": [
    "XXX"
   ]
  },
  {
   "cell_type": "code",
   "execution_count": null,
   "metadata": {},
   "outputs": [],
   "source": [
    "daily_data = spx_data.groupby(spx_data.index.date)['eod_close_pct'].max()"
   ]
  },
  {
   "cell_type": "code",
   "execution_count": null,
   "metadata": {},
   "outputs": [],
   "source": [
    "daily_data.describe()"
   ]
  },
  {
   "cell_type": "code",
   "execution_count": null,
   "metadata": {},
   "outputs": [],
   "source": [
    "daily_data.clip(-0.05,0.05).hist()"
   ]
  },
  {
   "cell_type": "code",
   "execution_count": null,
   "metadata": {},
   "outputs": [],
   "source": []
  },
  {
   "cell_type": "code",
   "execution_count": null,
   "metadata": {},
   "outputs": [],
   "source": [
    "spx_data.loc[(spx_data['time'] < datetime.time(10,5)) & (spx_data['label'] == 1), 'prev_close_pct'].describe()"
   ]
  },
  {
   "cell_type": "code",
   "execution_count": null,
   "metadata": {},
   "outputs": [],
   "source": [
    "len(set(spx_data.index.date))"
   ]
  },
  {
   "cell_type": "code",
   "execution_count": null,
   "metadata": {},
   "outputs": [],
   "source": [
    "import plotly.graph_objects as go\n",
    "\n",
    "# df_use = spx_data.query('(eod_close_pct > -0.007) & (eod_close_pct < 0.007)')\n",
    "df_use = spx_data.query('(eod_close_pct < 0.01) & (eod_close_pct > -0.01)')\n",
    "# df_use = spx_data.copy()\n",
    "total_days = len(set(spx_data.index.date))\n",
    "set_days = len(set(df_use.index.date))\n",
    "# Convert times to string\n",
    "times = df_use['time'].unique()\n",
    "times = [t.strftime('%H:%M:%S') for t in times]\n",
    "freqs = df_use.groupby('time')['label'].mean().cumsum()\n",
    "\n",
    "# Calculate means\n",
    "means = df_use.groupby('time')['prev_close_pct'].mean()\n",
    "\n",
    "# Create a Plotly figure\n",
    "fig = go.Figure()\n",
    "\n",
    "# Add a line trace\n",
    "fig.add_trace(go.Scatter(x=times, y=means, mode='lines', name='Mean'))\n",
    "\n",
    "fig.add_trace(go.Scatter(x=times, y=freqs, mode='lines', name='Frequency', yaxis='y2'))\n",
    "fig.update_layout(\n",
    "    yaxis2=dict(\n",
    "        title='Frequency',\n",
    "        titlefont=dict(\n",
    "            color='rgb(148, 103, 189)'\n",
    "        ),\n",
    "        tickfont=dict(\n",
    "            color='rgb(148, 103, 189)'\n",
    "        ),\n",
    "        overlaying='y',\n",
    "        side='right'\n",
    "    )\n",
    ")\n",
    "fig.update_yaxes(\n",
    "    tickformat=\".3%\",\n",
    ")\n",
    "\n",
    "# Set layout properties\n",
    "fig.update_layout(\n",
    "    title=f'Mean vs Time ({str(set_days)} -- {set_days / total_days:.1%})',\n",
    "    xaxis_title='Time',\n",
    "    yaxis_title='Mean',\n",
    "    autosize=False,\n",
    "    width=1000,\n",
    "    height=500,\n",
    ")\n",
    "\n",
    "# Show the figure\n",
    "fig.show()"
   ]
  },
  {
   "cell_type": "code",
   "execution_count": null,
   "metadata": {},
   "outputs": [],
   "source": []
  },
  {
   "cell_type": "code",
   "execution_count": null,
   "metadata": {},
   "outputs": [],
   "source": [
    "import numpy as np\n",
    "import pandas as pd\n",
    "import datetime\n",
    "\n",
    "spx_data['label_lod'] = np.nan\n",
    "\n",
    "# Per date, run it.\n",
    "for day in sorted(set(spx_data.index.date)):\n",
    "    day_str = datetime.datetime.strftime(day, '%Y-%m-%d')\n",
    "    spx_data.loc[day_str, 'lod'] = spx_data.loc[day_str, 'low'].min()\n",
    "\n",
    "    # Label the data: 1 if the current low is the LOD, 0 otherwise\n",
    "    spx_data.loc[day_str, 'label_lod'] = (spx_data.loc[day_str, 'low'] == spx_data.loc[day_str, 'lod']).astype(int)\n",
    "\n",
    "    # Find the index of LOD\n",
    "    lod_index = spx_data.loc[day_str][spx_data.loc[day_str, 'label_lod'] == 1].index\n",
    "\n",
    "    # If LOD is found within the first 5 bars, label the first 5 bars as 1\n",
    "    if not lod_index.empty:\n",
    "        lod_index = lod_index[0]  # In case there are multiple, take the first\n",
    "        if lod_index <= spx_data.loc[day_str].index[4]:  # Check if LOD is within the first 5 bars\n",
    "            spx_data.loc[spx_data.loc[day_str].index[:5], 'label_lod'] = 1\n",
    "        else:\n",
    "            start_time = spx_data.loc[day_str].index[0]\n",
    "            end_time = lod_index\n",
    "            # Calculate the start index using Timedelta\n",
    "            start_index = end_time - pd.Timedelta(minutes=5 * 4)\n",
    "            start_index = max(start_index, start_time)\n",
    "            spx_data.loc[start_index:end_time, 'label_lod'] = 1\n",
    "\n",
    "spx_data.head()"
   ]
  },
  {
   "cell_type": "code",
   "execution_count": null,
   "metadata": {},
   "outputs": [],
   "source": [
    "spx_data['time'] = spx_data.index.time"
   ]
  },
  {
   "cell_type": "code",
   "execution_count": null,
   "metadata": {},
   "outputs": [],
   "source": [
    "spx_data['label'].sum()"
   ]
  },
  {
   "cell_type": "code",
   "execution_count": null,
   "metadata": {},
   "outputs": [],
   "source": [
    "pd.spx_data.groupby('time')['label'].mean()"
   ]
  },
  {
   "cell_type": "code",
   "execution_count": null,
   "metadata": {},
   "outputs": [],
   "source": [
    "import matplotlib.pyplot as plt\n",
    "d = '2023-12-20'\n",
    "spx_data.loc[d,'label'].plot();\n",
    "spx_data.loc[d,'label_lod'].plot();\n",
    "plt.legend();\n",
    "print(spx_data.loc[d,'label_lod'].sum())"
   ]
  },
  {
   "cell_type": "code",
   "execution_count": null,
   "metadata": {},
   "outputs": [],
   "source": [
    "spx_data['label'].value_counts()"
   ]
  },
  {
   "cell_type": "code",
   "execution_count": null,
   "metadata": {},
   "outputs": [],
   "source": [
    "len(set(spx_data.index.date))"
   ]
  },
  {
   "cell_type": "code",
   "execution_count": null,
   "metadata": {},
   "outputs": [],
   "source": []
  },
  {
   "cell_type": "code",
   "execution_count": null,
   "metadata": {},
   "outputs": [],
   "source": [
    "spx_data.loc[day]"
   ]
  },
  {
   "cell_type": "code",
   "execution_count": null,
   "metadata": {},
   "outputs": [],
   "source": [
    "import pandas as pd\n",
    "\n",
    "# Load data\n",
    "# data = pd.read_csv('your_data_file.csv', parse_dates=True)\n",
    "\n",
    "# Calculate P as the average of open, high, low, and close\n",
    "spx_data['P'] = spx_data[['open', 'high', 'low', 'close']].mean(axis=1)\n",
    "\n",
    "# Initialize columns for ON, O1, O2, O3\n",
    "spx_data['ON'] = spx_data['P'].rolling(window=6).max()\n",
    "spx_data['O1'] = spx_data['P'].rolling(window=6).apply(lambda x: x.nsmallest(2).iloc[0] if x.idxmax() != x.index[-1] else x.nsmallest(2).iloc[1])\n",
    "spx_data['O2'] = spx_data['P'].rolling(window=6).apply(lambda x: x.nsmallest(3).iloc[1] if x.idxmax() == x.index[-2] else (x.nsmallest(3).iloc[0] if x.idxmax() != x.index[-1] else x.nsmallest(3).iloc[2]))\n",
    "spx_data['O3'] = spx_data['P'].rolling(window=6).apply(lambda x: x.nsmallest(3).iloc[2])\n",
    "\n",
    "# Set iMA (fast_ma)\n",
    "spx_data['fast_ma'] = spx_data['O3']\n"
   ]
  },
  {
   "cell_type": "code",
   "execution_count": null,
   "metadata": {},
   "outputs": [],
   "source": [
    "\n",
    "# Display the result\n",
    "spx_data[['Datetime','P', 'ON', 'O1', 'O2', 'O3', 'fast_ma']].tail()\n"
   ]
  },
  {
   "cell_type": "code",
   "execution_count": null,
   "metadata": {},
   "outputs": [],
   "source": [
    "# Initializing the required columns\n",
    "spx_data['a'] = 0\n",
    "spx_data['b'] = 0\n",
    "spx_data['z'] = 0\n",
    "spx_data['c'] = 0\n",
    "spx_data['l'] = 0\n",
    "spx_data['s'] = 0\n",
    "\n",
    "# Helper functions to calculate lowest_low, highest_high, avg_low, avg_high\n",
    "spx_data['lowest_low'] = spx_data['low'].rolling(window=5).min()\n",
    "spx_data['highest_high'] = spx_data['high'].rolling(window=5).max()\n",
    "spx_data['avg_low'] = spx_data['low'].rolling(window=5).mean()\n",
    "spx_data['avg_high'] = spx_data['high'].rolling(window=5).mean()\n",
    "\n",
    "for i, row in spx_data.iterrows():\n",
    "    if i == 0:\n",
    "        continue  # Skip the first row\n",
    "\n",
    "    a_prev = spx_data.at[i - 1, 'a']\n",
    "    low_prev = spx_data.at[i - 1, 'low']\n",
    "    high_prev = spx_data.at[i - 1, 'high']\n",
    "\n",
    "    if a_prev == 1:\n",
    "        spx_data.at[i, 'b'] = max(spx_data.at[i, 'lowest_low'], spx_data.at[i - 1, 'b'])\n",
    "        spx_data.at[i, 'z'] = 1 if spx_data.at[i, 'avg_high'] < spx_data.at[i - 1, 'b'] and spx_data.at[i, 'close'] < low_prev else spx_data.at[i - 1, 'z']\n",
    "        spx_data.at[i, 'a'] = 0 if spx_data.at[i, 'avg_high'] < spx_data.at[i - 1, 'b'] and spx_data.at[i, 'close'] < low_prev else a_prev\n",
    "        spx_data.at[i, 'c'] = spx_data.at[i, 'highest_high'] if spx_data.at[i, 'avg_high'] < spx_data.at[i - 1, 'b'] and spx_data.at[i, 'close'] < low_prev else spx_data.at[i - 1, 'c']\n",
    "    elif a_prev == 0:\n",
    "        spx_data.at[i, 'c'] = min(spx_data.at[i, 'highest_high'], spx_data.at[i - 1, 'c'])\n",
    "        spx_data.at[i, 'z'] = 0 if spx_data.at[i, 'avg_low'] > spx_data.at[i - 1, 'c'] and spx_data.at[i, 'close'] > high_prev else spx_data.at[i - 1, 'z']\n",
    "        spx_data.at[i, 'a'] = 1 if spx_data.at[i, 'avg_low'] > spx_data.at[i - 1, 'c'] and spx_data.at[i, 'close'] > high_prev else a_prev\n",
    "        spx_data.at[i, 'b'] = spx_data.at[i, 'lowest_low'] if spx_data.at[i, 'avg_low'] > spx_data.at[i - 1, 'c'] and spx_data.at[i, 'close'] > high_prev else spx_data.at[i - 1, 'b']\n",
    "    else:\n",
    "        # Maintain the previous values\n",
    "        spx_data.at[i, 'b'] = spx_data.at[i - 1, 'b']\n",
    "        spx_data.at[i, 'z'] = spx_data.at[i - 1, 'z']\n",
    "        spx_data.at[i, 'a'] = a_prev\n",
    "        spx_data.at[i, 'c'] = spx_data.at[i - 1, 'c']\n",
    "\n",
    "    # Adjusting 'l' and 's'\n",
    "    if spx_data.at[i, 'z'] == 0:\n",
    "        spx_data.at[i, 'l'] = spx_data.at[i - 1, 's'] if spx_data.at[i - 1, 'z'] != 0 else max(spx_data.at[i - 1, 'b'], spx_data.at[i - 1, 'l'])\n",
    "        spx_data.at[i, 's'] = 0\n",
    "    elif spx_data.at[i - 1, 'z'] != 1:\n",
    "        spx_data.at[i, 's'] = spx_data.at[i - 1, 'l']\n",
    "        spx_data.at[i, 'l'] = 0\n",
    "    elif spx_data.at[i, 'z'] == 1:\n",
    "        spx_data.at[i, 's'] = min(spx_data.at[i, 'c'], spx_data.at[i - 1, 's'])\n",
    "        spx_data.at[i, 'l'] = spx_data.at[i - 1, 'l']\n",
    "    else:\n",
    "        spx_data.at[i, 'l'] = spx_data.at[i - 1, 'l']\n",
    "        spx_data.at[i, 's'] = spx_data.at[i - 1, 's']\n",
    "\n",
    "    # Setting 'trail'\n",
    "    spx_data.at[i, 'trail'] = spx_data.at[i, 'l'] if spx_data.at[i, 'l'] > 0 else spx_data.at[i, 's']\n",
    "\n",
    "# # Display the result\n",
    "# print(spx_data[['a', 'b', 'z', 'c', 'l', 's', 'trail']])\n"
   ]
  },
  {
   "cell_type": "code",
   "execution_count": null,
   "metadata": {},
   "outputs": [],
   "source": [
    "spx_data[['close', 'fast_ma']].tail().plot()"
   ]
  },
  {
   "cell_type": "markdown",
   "metadata": {},
   "source": [
    "# Backtesting"
   ]
  },
  {
   "cell_type": "code",
   "execution_count": null,
   "metadata": {},
   "outputs": [],
   "source": [
    "import bt\n",
    "import pandas as pd\n",
    "\n",
    "# Load your data\n",
    "# data = pd.read_csv('your_data_file.csv', index_col='Date', parse_dates=True)\n",
    "\n",
    "# Custom Algo for selecting where to trade\n",
    "class SelectWhere(bt.Algo):\n",
    "    def __init__(self, signal):\n",
    "        self.signal = signal\n",
    "\n",
    "    def __call__(self, target):\n",
    "        if target.now in self.signal.index:\n",
    "            signal_value = self.signal.loc[target.now]\n",
    "            target.temp['weights'] = signal_value.astype(float)\n",
    "        return True\n",
    "\n",
    "# Create the signal for the strategy\n",
    "signal = (data['close'] > data['fast_ma']) & (data['close'].shift() < data['slow_ma'])\n",
    "\n",
    "# Create the strategy\n",
    "strategy = bt.Strategy('AboveFastMA',\n",
    "                       [SelectWhere(signal),\n",
    "                        bt.algos.WeighTarget('weights'),\n",
    "                        bt.algos.Rebalance()])\n",
    "\n",
    "# Create a backtest and run it\n",
    "test = bt.Backtest(strategy, data)\n",
    "\n",
    "# Set up the backtest with transaction costs and slippage\n",
    "commissions = bt.fees.FixedPerTrade(1) # $1 per trade\n",
    "slippage = bt.slippage.FixedSlippage(0.05) # Fixed slippage per share, adjust as needed\n",
    "\n",
    "# Set the commissions and slippage to the backtest\n",
    "test.set_fees(commissions=commissions, slippage=slippage)\n",
    "\n",
    "# Run the backtest\n",
    "res = bt.run(test)\n",
    "\n",
    "# Plot the results\n",
    "res.plot()\n"
   ]
  },
  {
   "cell_type": "markdown",
   "metadata": {},
   "source": []
  }
 ],
 "metadata": {
  "kernelspec": {
   "display_name": ".venv",
   "language": "python",
   "name": "python3"
  },
  "language_info": {
   "codemirror_mode": {
    "name": "ipython",
    "version": 3
   },
   "file_extension": ".py",
   "mimetype": "text/x-python",
   "name": "python",
   "nbconvert_exporter": "python",
   "pygments_lexer": "ipython3",
   "version": "3.10.11"
  }
 },
 "nbformat": 4,
 "nbformat_minor": 2
}
