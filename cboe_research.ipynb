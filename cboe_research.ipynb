{
 "cells": [
  {
   "cell_type": "code",
   "execution_count": 1,
   "metadata": {},
   "outputs": [],
   "source": [
    "from data import cboe_model as cboe\n",
    "import pandas as pd\n",
    "import numpy as np\n",
    "import plotly.express as px"
   ]
  },
  {
   "cell_type": "code",
   "execution_count": 76,
   "metadata": {},
   "outputs": [
    {
     "name": "stderr",
     "output_type": "stream",
     "text": [
      "d:\\Projects\\session-extrema-model\\data\\cboe_model.py:444: FutureWarning:\n",
      "\n",
      "Calling float on a single element Series is deprecated and will raise a TypeError in the future. Use float(ser.iloc[0]) instead\n",
      "\n"
     ]
    }
   ],
   "source": [
    "t = 'NDX'\n",
    "x = cboe.get_ticker_chains(t)\n",
    "x1 = x.reset_index()\n",
    "x1 = x1.fillna(0)\n"
   ]
  },
  {
   "cell_type": "code",
   "execution_count": 82,
   "metadata": {},
   "outputs": [
    {
     "data": {
      "text/html": [
       "<div>\n",
       "<style scoped>\n",
       "    .dataframe tbody tr th:only-of-type {\n",
       "        vertical-align: middle;\n",
       "    }\n",
       "\n",
       "    .dataframe tbody tr th {\n",
       "        vertical-align: top;\n",
       "    }\n",
       "\n",
       "    .dataframe thead th {\n",
       "        text-align: right;\n",
       "    }\n",
       "</style>\n",
       "<table border=\"1\" class=\"dataframe\">\n",
       "  <thead>\n",
       "    <tr style=\"text-align: right;\">\n",
       "      <th></th>\n",
       "      <th>GEX</th>\n",
       "      <th>Vol</th>\n",
       "      <th>OI</th>\n",
       "    </tr>\n",
       "    <tr>\n",
       "      <th>Expiration</th>\n",
       "      <th></th>\n",
       "      <th></th>\n",
       "      <th></th>\n",
       "    </tr>\n",
       "  </thead>\n",
       "  <tbody>\n",
       "    <tr>\n",
       "      <th>2024-02-12</th>\n",
       "      <td>358978042</td>\n",
       "      <td>7825</td>\n",
       "      <td>1690</td>\n",
       "    </tr>\n",
       "    <tr>\n",
       "      <th>2024-02-13</th>\n",
       "      <td>148966500</td>\n",
       "      <td>865</td>\n",
       "      <td>775</td>\n",
       "    </tr>\n",
       "    <tr>\n",
       "      <th>2024-02-14</th>\n",
       "      <td>149708595</td>\n",
       "      <td>436</td>\n",
       "      <td>841</td>\n",
       "    </tr>\n",
       "    <tr>\n",
       "      <th>2024-02-15</th>\n",
       "      <td>112571816</td>\n",
       "      <td>486</td>\n",
       "      <td>785</td>\n",
       "    </tr>\n",
       "    <tr>\n",
       "      <th>2024-02-16</th>\n",
       "      <td>1483761069</td>\n",
       "      <td>2997</td>\n",
       "      <td>12154</td>\n",
       "    </tr>\n",
       "    <tr>\n",
       "      <th>2024-02-20</th>\n",
       "      <td>117056643</td>\n",
       "      <td>356</td>\n",
       "      <td>573</td>\n",
       "    </tr>\n",
       "    <tr>\n",
       "      <th>2024-02-21</th>\n",
       "      <td>36039754</td>\n",
       "      <td>143</td>\n",
       "      <td>159</td>\n",
       "    </tr>\n",
       "    <tr>\n",
       "      <th>2024-02-22</th>\n",
       "      <td>23521011</td>\n",
       "      <td>184</td>\n",
       "      <td>153</td>\n",
       "    </tr>\n",
       "    <tr>\n",
       "      <th>2024-02-23</th>\n",
       "      <td>250342468</td>\n",
       "      <td>352</td>\n",
       "      <td>1373</td>\n",
       "    </tr>\n",
       "    <tr>\n",
       "      <th>2024-02-26</th>\n",
       "      <td>23327434</td>\n",
       "      <td>33</td>\n",
       "      <td>120</td>\n",
       "    </tr>\n",
       "    <tr>\n",
       "      <th>2024-02-27</th>\n",
       "      <td>8098449</td>\n",
       "      <td>4</td>\n",
       "      <td>52</td>\n",
       "    </tr>\n",
       "    <tr>\n",
       "      <th>2024-02-28</th>\n",
       "      <td>73789571</td>\n",
       "      <td>22</td>\n",
       "      <td>378</td>\n",
       "    </tr>\n",
       "    <tr>\n",
       "      <th>2024-02-29</th>\n",
       "      <td>50849291</td>\n",
       "      <td>38</td>\n",
       "      <td>294</td>\n",
       "    </tr>\n",
       "    <tr>\n",
       "      <th>2024-03-01</th>\n",
       "      <td>83630307</td>\n",
       "      <td>242</td>\n",
       "      <td>591</td>\n",
       "    </tr>\n",
       "    <tr>\n",
       "      <th>2024-03-04</th>\n",
       "      <td>30264371</td>\n",
       "      <td>12</td>\n",
       "      <td>178</td>\n",
       "    </tr>\n",
       "    <tr>\n",
       "      <th>2024-03-05</th>\n",
       "      <td>2710241</td>\n",
       "      <td>1</td>\n",
       "      <td>18</td>\n",
       "    </tr>\n",
       "    <tr>\n",
       "      <th>2024-03-06</th>\n",
       "      <td>9324522</td>\n",
       "      <td>10</td>\n",
       "      <td>55</td>\n",
       "    </tr>\n",
       "    <tr>\n",
       "      <th>2024-03-07</th>\n",
       "      <td>13099503</td>\n",
       "      <td>9</td>\n",
       "      <td>74</td>\n",
       "    </tr>\n",
       "    <tr>\n",
       "      <th>2024-03-08</th>\n",
       "      <td>80887803</td>\n",
       "      <td>199</td>\n",
       "      <td>568</td>\n",
       "    </tr>\n",
       "    <tr>\n",
       "      <th>2024-03-11</th>\n",
       "      <td>1548706</td>\n",
       "      <td>5</td>\n",
       "      <td>12</td>\n",
       "    </tr>\n",
       "    <tr>\n",
       "      <th>2024-03-12</th>\n",
       "      <td>258117</td>\n",
       "      <td>0</td>\n",
       "      <td>2</td>\n",
       "    </tr>\n",
       "    <tr>\n",
       "      <th>2024-03-13</th>\n",
       "      <td>1613236</td>\n",
       "      <td>7</td>\n",
       "      <td>11</td>\n",
       "    </tr>\n",
       "    <tr>\n",
       "      <th>2024-03-14</th>\n",
       "      <td>903412</td>\n",
       "      <td>8</td>\n",
       "      <td>8</td>\n",
       "    </tr>\n",
       "    <tr>\n",
       "      <th>2024-03-15</th>\n",
       "      <td>1568875675</td>\n",
       "      <td>1434</td>\n",
       "      <td>12285</td>\n",
       "    </tr>\n",
       "    <tr>\n",
       "      <th>2024-03-18</th>\n",
       "      <td>0</td>\n",
       "      <td>0</td>\n",
       "      <td>0</td>\n",
       "    </tr>\n",
       "    <tr>\n",
       "      <th>2024-03-22</th>\n",
       "      <td>12905900</td>\n",
       "      <td>185</td>\n",
       "      <td>111</td>\n",
       "    </tr>\n",
       "    <tr>\n",
       "      <th>2024-03-28</th>\n",
       "      <td>52301195</td>\n",
       "      <td>47</td>\n",
       "      <td>496</td>\n",
       "    </tr>\n",
       "    <tr>\n",
       "      <th>2024-04-05</th>\n",
       "      <td>354912</td>\n",
       "      <td>7</td>\n",
       "      <td>3</td>\n",
       "    </tr>\n",
       "    <tr>\n",
       "      <th>2024-04-19</th>\n",
       "      <td>177940303</td>\n",
       "      <td>374</td>\n",
       "      <td>1947</td>\n",
       "    </tr>\n",
       "    <tr>\n",
       "      <th>2024-05-17</th>\n",
       "      <td>52817439</td>\n",
       "      <td>76</td>\n",
       "      <td>638</td>\n",
       "    </tr>\n",
       "    <tr>\n",
       "      <th>2024-06-21</th>\n",
       "      <td>158871810</td>\n",
       "      <td>316</td>\n",
       "      <td>2462</td>\n",
       "    </tr>\n",
       "    <tr>\n",
       "      <th>2024-06-28</th>\n",
       "      <td>13615726</td>\n",
       "      <td>5</td>\n",
       "      <td>212</td>\n",
       "    </tr>\n",
       "    <tr>\n",
       "      <th>2024-07-19</th>\n",
       "      <td>10227929</td>\n",
       "      <td>23</td>\n",
       "      <td>162</td>\n",
       "    </tr>\n",
       "    <tr>\n",
       "      <th>2024-08-16</th>\n",
       "      <td>2129469</td>\n",
       "      <td>1</td>\n",
       "      <td>36</td>\n",
       "    </tr>\n",
       "    <tr>\n",
       "      <th>2024-09-20</th>\n",
       "      <td>75757725</td>\n",
       "      <td>477</td>\n",
       "      <td>1659</td>\n",
       "    </tr>\n",
       "    <tr>\n",
       "      <th>2024-09-30</th>\n",
       "      <td>935674</td>\n",
       "      <td>0</td>\n",
       "      <td>29</td>\n",
       "    </tr>\n",
       "    <tr>\n",
       "      <th>2024-10-18</th>\n",
       "      <td>1226056</td>\n",
       "      <td>0</td>\n",
       "      <td>38</td>\n",
       "    </tr>\n",
       "    <tr>\n",
       "      <th>2024-11-15</th>\n",
       "      <td>1516436</td>\n",
       "      <td>0</td>\n",
       "      <td>47</td>\n",
       "    </tr>\n",
       "    <tr>\n",
       "      <th>2024-12-20</th>\n",
       "      <td>80307060</td>\n",
       "      <td>6</td>\n",
       "      <td>2489</td>\n",
       "    </tr>\n",
       "    <tr>\n",
       "      <th>2024-12-31</th>\n",
       "      <td>258114</td>\n",
       "      <td>2</td>\n",
       "      <td>8</td>\n",
       "    </tr>\n",
       "    <tr>\n",
       "      <th>2025-01-17</th>\n",
       "      <td>258115</td>\n",
       "      <td>0</td>\n",
       "      <td>8</td>\n",
       "    </tr>\n",
       "    <tr>\n",
       "      <th>2025-03-21</th>\n",
       "      <td>0</td>\n",
       "      <td>0</td>\n",
       "      <td>0</td>\n",
       "    </tr>\n",
       "    <tr>\n",
       "      <th>2025-06-20</th>\n",
       "      <td>193586</td>\n",
       "      <td>0</td>\n",
       "      <td>6</td>\n",
       "    </tr>\n",
       "    <tr>\n",
       "      <th>2025-12-19</th>\n",
       "      <td>2516646</td>\n",
       "      <td>0</td>\n",
       "      <td>78</td>\n",
       "    </tr>\n",
       "    <tr>\n",
       "      <th>2026-12-18</th>\n",
       "      <td>0</td>\n",
       "      <td>0</td>\n",
       "      <td>0</td>\n",
       "    </tr>\n",
       "  </tbody>\n",
       "</table>\n",
       "</div>"
      ],
      "text/plain": [
       "                   GEX   Vol     OI\n",
       "Expiration                         \n",
       "2024-02-12   358978042  7825   1690\n",
       "2024-02-13   148966500   865    775\n",
       "2024-02-14   149708595   436    841\n",
       "2024-02-15   112571816   486    785\n",
       "2024-02-16  1483761069  2997  12154\n",
       "2024-02-20   117056643   356    573\n",
       "2024-02-21    36039754   143    159\n",
       "2024-02-22    23521011   184    153\n",
       "2024-02-23   250342468   352   1373\n",
       "2024-02-26    23327434    33    120\n",
       "2024-02-27     8098449     4     52\n",
       "2024-02-28    73789571    22    378\n",
       "2024-02-29    50849291    38    294\n",
       "2024-03-01    83630307   242    591\n",
       "2024-03-04    30264371    12    178\n",
       "2024-03-05     2710241     1     18\n",
       "2024-03-06     9324522    10     55\n",
       "2024-03-07    13099503     9     74\n",
       "2024-03-08    80887803   199    568\n",
       "2024-03-11     1548706     5     12\n",
       "2024-03-12      258117     0      2\n",
       "2024-03-13     1613236     7     11\n",
       "2024-03-14      903412     8      8\n",
       "2024-03-15  1568875675  1434  12285\n",
       "2024-03-18           0     0      0\n",
       "2024-03-22    12905900   185    111\n",
       "2024-03-28    52301195    47    496\n",
       "2024-04-05      354912     7      3\n",
       "2024-04-19   177940303   374   1947\n",
       "2024-05-17    52817439    76    638\n",
       "2024-06-21   158871810   316   2462\n",
       "2024-06-28    13615726     5    212\n",
       "2024-07-19    10227929    23    162\n",
       "2024-08-16     2129469     1     36\n",
       "2024-09-20    75757725   477   1659\n",
       "2024-09-30      935674     0     29\n",
       "2024-10-18     1226056     0     38\n",
       "2024-11-15     1516436     0     47\n",
       "2024-12-20    80307060     6   2489\n",
       "2024-12-31      258114     2      8\n",
       "2025-01-17      258115     0      8\n",
       "2025-03-21           0     0      0\n",
       "2025-06-20      193586     0      6\n",
       "2025-12-19     2516646     0     78\n",
       "2026-12-18           0     0      0"
      ]
     },
     "execution_count": 82,
     "metadata": {},
     "output_type": "execute_result"
    }
   ],
   "source": [
    "x1.groupby('Expiration')[['GEX', 'Vol', 'OI']].sum()"
   ]
  },
  {
   "cell_type": "code",
   "execution_count": 83,
   "metadata": {},
   "outputs": [
    {
     "data": {
      "text/html": [
       "<div>\n",
       "<style scoped>\n",
       "    .dataframe tbody tr th:only-of-type {\n",
       "        vertical-align: middle;\n",
       "    }\n",
       "\n",
       "    .dataframe tbody tr th {\n",
       "        vertical-align: top;\n",
       "    }\n",
       "\n",
       "    .dataframe thead th {\n",
       "        text-align: right;\n",
       "    }\n",
       "</style>\n",
       "<table border=\"1\" class=\"dataframe\">\n",
       "  <thead>\n",
       "    <tr style=\"text-align: right;\">\n",
       "      <th>Symbol</th>\n",
       "      <th>^NDX</th>\n",
       "    </tr>\n",
       "  </thead>\n",
       "  <tbody>\n",
       "    <tr>\n",
       "      <th>Type</th>\n",
       "      <td>index</td>\n",
       "    </tr>\n",
       "    <tr>\n",
       "      <th>Tick</th>\n",
       "      <td>down</td>\n",
       "    </tr>\n",
       "    <tr>\n",
       "      <th>Current Price</th>\n",
       "      <td>17962.4043</td>\n",
       "    </tr>\n",
       "    <tr>\n",
       "      <th>Open</th>\n",
       "      <td>17783.166</td>\n",
       "    </tr>\n",
       "    <tr>\n",
       "      <th>High</th>\n",
       "      <td>17987.8965</td>\n",
       "    </tr>\n",
       "    <tr>\n",
       "      <th>Low</th>\n",
       "      <td>17798.8125</td>\n",
       "    </tr>\n",
       "    <tr>\n",
       "      <th>Close</th>\n",
       "      <td>17962.4043</td>\n",
       "    </tr>\n",
       "    <tr>\n",
       "      <th>Previous Close</th>\n",
       "      <td>17962.4004</td>\n",
       "    </tr>\n",
       "    <tr>\n",
       "      <th>Change</th>\n",
       "      <td>179.2043</td>\n",
       "    </tr>\n",
       "    <tr>\n",
       "      <th>Change %</th>\n",
       "      <td>0.9977</td>\n",
       "    </tr>\n",
       "    <tr>\n",
       "      <th>IV30</th>\n",
       "      <td>14.888</td>\n",
       "    </tr>\n",
       "    <tr>\n",
       "      <th>IV30 Change</th>\n",
       "      <td>0.0</td>\n",
       "    </tr>\n",
       "    <tr>\n",
       "      <th>IV30 Change %</th>\n",
       "      <td>0.0</td>\n",
       "    </tr>\n",
       "    <tr>\n",
       "      <th>Last Trade Time</th>\n",
       "      <td>2024-02-09T16:14:59</td>\n",
       "    </tr>\n",
       "  </tbody>\n",
       "</table>\n",
       "</div>"
      ],
      "text/plain": [
       "Symbol                          ^NDX\n",
       "Type                           index\n",
       "Tick                            down\n",
       "Current Price             17962.4043\n",
       "Open                       17783.166\n",
       "High                      17987.8965\n",
       "Low                       17798.8125\n",
       "Close                     17962.4043\n",
       "Previous Close            17962.4004\n",
       "Change                      179.2043\n",
       "Change %                      0.9977\n",
       "IV30                          14.888\n",
       "IV30 Change                      0.0\n",
       "IV30 Change %                    0.0\n",
       "Last Trade Time  2024-02-09T16:14:59"
      ]
     },
     "execution_count": 83,
     "metadata": {},
     "output_type": "execute_result"
    }
   ],
   "source": [
    "cboe.get_ticker_info(t)[0]"
   ]
  },
  {
   "cell_type": "code",
   "execution_count": null,
   "metadata": {},
   "outputs": [],
   "source": [
    "\n",
    "x1.loc[x1['Type'] == 'Call', 'NetGEX'] = x1['GEX']\n",
    "x1.loc[x1['Type'] == 'Put', 'NetGEX'] = x1['GEX'] * -1\n",
    "\n",
    "total_gamma = x1['NetGEX'].sum()\n",
    "x2 = x1.groupby('Strike')[['NetGEX']].sum()\n",
    "x3 = x1.sort_values('Expiration', ascending=False).groupby('Expiration')[['NetGEX']].sum()\n",
    "last_price = cboe.get_ticker_info(t)[0]\n",
    "last_price = last_price.loc['Current Price'].iloc[0]\n",
    "last_trade_time = last_price.loc['Last Trade Time'].iloc[0]\n",
    "\n",
    "fig = px.bar(x2, orientation='h')\n",
    "fig.add_hline(y=last_price, line_dash=\"dot\", line_color=\"cyan\", name='test')\n",
    "\n",
    "# fig.update_traces(marker=dict(color=np.where(x2['GEX'] > 0, '#3399ff', '#ff5f5f')))\n",
    "fig.update_traces(\n",
    "    marker=dict(color=np.where(x2['NetGEX'] > 0, '#3399ff', '#ff5f5f'), \n",
    "                line=dict(color=np.where(x2['NetGEX'] > 0, '#3399ff', '#ff5f5f'))\n",
    "                )\n",
    ")\n",
    "fig.update_layout(\n",
    "    title_text=f'Ticker: {t}<br>NetGEX: {total_gamma:,.0f}',\n",
    "    font_color='#ffffff',\n",
    "    plot_bgcolor='black',\n",
    "    paper_bgcolor='black',\n",
    "    width=600,\n",
    "    height=800,\n",
    "    yaxis_tickformat=',',\n",
    "    xaxis=dict(showgrid=True, gridcolor='#2f2f2f')\n",
    ")\n",
    "\n",
    "top_3_strikes = x2.nlargest(3, 'NetGEX')\n",
    "bottom_3_strikes = x2.nsmallest(3, 'NetGEX')\n",
    "\n",
    "for i in top_3_strikes.index:\n",
    "    fig.add_annotation(\n",
    "        x=top_3_strikes.loc[i, 'NetGEX'],\n",
    "        y=i,\n",
    "        text=f'{i:.0f}',\n",
    "        showarrow=True,\n",
    "        arrowhead=1,\n",
    "        ax=20,\n",
    "        ay=-20\n",
    "    )\n",
    "\n",
    "for i in bottom_3_strikes.index:\n",
    "    fig.add_annotation(\n",
    "        x=bottom_3_strikes.loc[i, 'NetGEX'],\n",
    "        y=i,\n",
    "        text=f'{i:.0f}',\n",
    "        showarrow=True,\n",
    "        arrowhead=1,\n",
    "        ax=-20,\n",
    "        ay=20\n",
    "    )\n",
    "\n",
    "fig.show()\n"
   ]
  },
  {
   "cell_type": "code",
   "execution_count": 50,
   "metadata": {},
   "outputs": [
    {
     "ename": "TypeError",
     "evalue": "scatter() got an unexpected keyword argument 'mode'",
     "output_type": "error",
     "traceback": [
      "\u001b[1;31m---------------------------------------------------------------------------\u001b[0m",
      "\u001b[1;31mTypeError\u001b[0m                                 Traceback (most recent call last)",
      "Cell \u001b[1;32mIn[50], line 1\u001b[0m\n\u001b[1;32m----> 1\u001b[0m fig\u001b[38;5;241m.\u001b[39madd_trace(\u001b[43mpx\u001b[49m\u001b[38;5;241;43m.\u001b[39;49m\u001b[43mscatter\u001b[49m\u001b[43m(\u001b[49m\u001b[43mx\u001b[49m\u001b[38;5;241;43m=\u001b[39;49m\u001b[43mtop_3_strikes\u001b[49m\u001b[43m[\u001b[49m\u001b[38;5;124;43m'\u001b[39;49m\u001b[38;5;124;43mNetGEX\u001b[39;49m\u001b[38;5;124;43m'\u001b[39;49m\u001b[43m]\u001b[49m\u001b[43m,\u001b[49m\u001b[43m \u001b[49m\u001b[43my\u001b[49m\u001b[38;5;241;43m=\u001b[39;49m\u001b[43mtop_3_strikes\u001b[49m\u001b[38;5;241;43m.\u001b[39;49m\u001b[43mindex\u001b[49m\u001b[43m,\u001b[49m\u001b[43m \u001b[49m\u001b[43mmode\u001b[49m\u001b[38;5;241;43m=\u001b[39;49m\u001b[38;5;124;43m'\u001b[39;49m\u001b[38;5;124;43mmarkers\u001b[39;49m\u001b[38;5;124;43m'\u001b[39;49m\u001b[43m,\u001b[49m\u001b[43m \u001b[49m\u001b[43mname\u001b[49m\u001b[38;5;241;43m=\u001b[39;49m\u001b[38;5;124;43m'\u001b[39;49m\u001b[38;5;124;43mTop 3 Strikes\u001b[39;49m\u001b[38;5;124;43m'\u001b[39;49m\u001b[43m)\u001b[49m)\n\u001b[0;32m      2\u001b[0m fig\u001b[38;5;241m.\u001b[39madd_trace(px\u001b[38;5;241m.\u001b[39mscatter(x\u001b[38;5;241m=\u001b[39mbottom_3_strikes[\u001b[38;5;124m'\u001b[39m\u001b[38;5;124mNetGEX\u001b[39m\u001b[38;5;124m'\u001b[39m], y\u001b[38;5;241m=\u001b[39mbottom_3_strikes\u001b[38;5;241m.\u001b[39mindex, mode\u001b[38;5;241m=\u001b[39m\u001b[38;5;124m'\u001b[39m\u001b[38;5;124mmarkers\u001b[39m\u001b[38;5;124m'\u001b[39m, name\u001b[38;5;241m=\u001b[39m\u001b[38;5;124m'\u001b[39m\u001b[38;5;124mBottom 3 Strikes\u001b[39m\u001b[38;5;124m'\u001b[39m))\n\u001b[0;32m      8\u001b[0m fig\u001b[38;5;241m.\u001b[39mshow()\n",
      "\u001b[1;31mTypeError\u001b[0m: scatter() got an unexpected keyword argument 'mode'"
     ]
    }
   ],
   "source": []
  },
  {
   "cell_type": "code",
   "execution_count": 16,
   "metadata": {},
   "outputs": [
    {
     "data": {
      "text/plain": [
       "Strike\n",
       "18850.0     4\n",
       "18825.0    16\n",
       "18800.0    64\n",
       "18775.0    28\n",
       "18750.0    40\n",
       "           ..\n",
       "18000.0    75\n",
       "17990.0    71\n",
       "17980.0    74\n",
       "17975.0    60\n",
       "17970.0    20\n",
       "Name: NetGEX, Length: 95, dtype: int64"
      ]
     },
     "execution_count": 16,
     "metadata": {},
     "output_type": "execute_result"
    }
   ],
   "source": [
    "x2[x2.index > last_price]['NetGEX'].argsort()[::-1]"
   ]
  },
  {
   "cell_type": "code",
   "execution_count": 139,
   "metadata": {},
   "outputs": [
    {
     "data": {
      "text/html": [
       "<div>\n",
       "<style scoped>\n",
       "    .dataframe tbody tr th:only-of-type {\n",
       "        vertical-align: middle;\n",
       "    }\n",
       "\n",
       "    .dataframe tbody tr th {\n",
       "        vertical-align: top;\n",
       "    }\n",
       "\n",
       "    .dataframe thead th {\n",
       "        text-align: right;\n",
       "    }\n",
       "</style>\n",
       "<table border=\"1\" class=\"dataframe\">\n",
       "  <thead>\n",
       "    <tr style=\"text-align: right;\">\n",
       "      <th></th>\n",
       "      <th>GEX</th>\n",
       "    </tr>\n",
       "    <tr>\n",
       "      <th>Expiration</th>\n",
       "      <th></th>\n",
       "    </tr>\n",
       "  </thead>\n",
       "  <tbody>\n",
       "    <tr>\n",
       "      <th>2024-02-09</th>\n",
       "      <td>0</td>\n",
       "    </tr>\n",
       "    <tr>\n",
       "      <th>2024-02-12</th>\n",
       "      <td>4275959875</td>\n",
       "    </tr>\n",
       "    <tr>\n",
       "      <th>2024-02-13</th>\n",
       "      <td>1501952494</td>\n",
       "    </tr>\n",
       "    <tr>\n",
       "      <th>2024-02-14</th>\n",
       "      <td>1104818924</td>\n",
       "    </tr>\n",
       "    <tr>\n",
       "      <th>2024-02-15</th>\n",
       "      <td>582778897</td>\n",
       "    </tr>\n",
       "    <tr>\n",
       "      <th>2024-02-16</th>\n",
       "      <td>7659928969</td>\n",
       "    </tr>\n",
       "    <tr>\n",
       "      <th>2024-02-20</th>\n",
       "      <td>523851648</td>\n",
       "    </tr>\n",
       "    <tr>\n",
       "      <th>2024-02-21</th>\n",
       "      <td>522184043</td>\n",
       "    </tr>\n",
       "    <tr>\n",
       "      <th>2024-02-22</th>\n",
       "      <td>144023323</td>\n",
       "    </tr>\n",
       "    <tr>\n",
       "      <th>2024-02-23</th>\n",
       "      <td>1781610565</td>\n",
       "    </tr>\n",
       "    <tr>\n",
       "      <th>2024-02-26</th>\n",
       "      <td>444491139</td>\n",
       "    </tr>\n",
       "    <tr>\n",
       "      <th>2024-02-27</th>\n",
       "      <td>62780430</td>\n",
       "    </tr>\n",
       "    <tr>\n",
       "      <th>2024-02-28</th>\n",
       "      <td>377890360</td>\n",
       "    </tr>\n",
       "    <tr>\n",
       "      <th>2024-02-29</th>\n",
       "      <td>3664311110</td>\n",
       "    </tr>\n",
       "    <tr>\n",
       "      <th>2024-03-01</th>\n",
       "      <td>1044977026</td>\n",
       "    </tr>\n",
       "    <tr>\n",
       "      <th>2024-03-04</th>\n",
       "      <td>87109852</td>\n",
       "    </tr>\n",
       "    <tr>\n",
       "      <th>2024-03-05</th>\n",
       "      <td>82420326</td>\n",
       "    </tr>\n",
       "    <tr>\n",
       "      <th>2024-03-06</th>\n",
       "      <td>312557983</td>\n",
       "    </tr>\n",
       "    <tr>\n",
       "      <th>2024-03-07</th>\n",
       "      <td>23283362</td>\n",
       "    </tr>\n",
       "    <tr>\n",
       "      <th>2024-03-08</th>\n",
       "      <td>439339234</td>\n",
       "    </tr>\n",
       "    <tr>\n",
       "      <th>2024-03-11</th>\n",
       "      <td>-21052310</td>\n",
       "    </tr>\n",
       "    <tr>\n",
       "      <th>2024-03-12</th>\n",
       "      <td>102575659</td>\n",
       "    </tr>\n",
       "    <tr>\n",
       "      <th>2024-03-13</th>\n",
       "      <td>-32058523</td>\n",
       "    </tr>\n",
       "    <tr>\n",
       "      <th>2024-03-14</th>\n",
       "      <td>386578</td>\n",
       "    </tr>\n",
       "    <tr>\n",
       "      <th>2024-03-15</th>\n",
       "      <td>6196667529</td>\n",
       "    </tr>\n",
       "    <tr>\n",
       "      <th>2024-03-18</th>\n",
       "      <td>26954631</td>\n",
       "    </tr>\n",
       "    <tr>\n",
       "      <th>2024-03-19</th>\n",
       "      <td>0</td>\n",
       "    </tr>\n",
       "    <tr>\n",
       "      <th>2024-03-22</th>\n",
       "      <td>84818140</td>\n",
       "    </tr>\n",
       "    <tr>\n",
       "      <th>2024-03-25</th>\n",
       "      <td>-40424</td>\n",
       "    </tr>\n",
       "    <tr>\n",
       "      <th>2024-03-28</th>\n",
       "      <td>4352995835</td>\n",
       "    </tr>\n",
       "    <tr>\n",
       "      <th>2024-04-05</th>\n",
       "      <td>-2066821</td>\n",
       "    </tr>\n",
       "    <tr>\n",
       "      <th>2024-04-19</th>\n",
       "      <td>3088718087</td>\n",
       "    </tr>\n",
       "    <tr>\n",
       "      <th>2024-04-30</th>\n",
       "      <td>555334089</td>\n",
       "    </tr>\n",
       "    <tr>\n",
       "      <th>2024-05-17</th>\n",
       "      <td>1022332913</td>\n",
       "    </tr>\n",
       "    <tr>\n",
       "      <th>2024-05-31</th>\n",
       "      <td>74069638</td>\n",
       "    </tr>\n",
       "    <tr>\n",
       "      <th>2024-06-21</th>\n",
       "      <td>-1105308707</td>\n",
       "    </tr>\n",
       "    <tr>\n",
       "      <th>2024-06-28</th>\n",
       "      <td>334431446</td>\n",
       "    </tr>\n",
       "    <tr>\n",
       "      <th>2024-07-19</th>\n",
       "      <td>523290731</td>\n",
       "    </tr>\n",
       "    <tr>\n",
       "      <th>2024-07-31</th>\n",
       "      <td>6309113</td>\n",
       "    </tr>\n",
       "    <tr>\n",
       "      <th>2024-08-16</th>\n",
       "      <td>432570264</td>\n",
       "    </tr>\n",
       "    <tr>\n",
       "      <th>2024-09-20</th>\n",
       "      <td>769576408</td>\n",
       "    </tr>\n",
       "    <tr>\n",
       "      <th>2024-09-30</th>\n",
       "      <td>32862009</td>\n",
       "    </tr>\n",
       "    <tr>\n",
       "      <th>2024-10-18</th>\n",
       "      <td>144975888</td>\n",
       "    </tr>\n",
       "    <tr>\n",
       "      <th>2024-11-15</th>\n",
       "      <td>122837110</td>\n",
       "    </tr>\n",
       "    <tr>\n",
       "      <th>2024-12-20</th>\n",
       "      <td>833774316</td>\n",
       "    </tr>\n",
       "    <tr>\n",
       "      <th>2024-12-31</th>\n",
       "      <td>38125083</td>\n",
       "    </tr>\n",
       "    <tr>\n",
       "      <th>2025-01-17</th>\n",
       "      <td>339836034</td>\n",
       "    </tr>\n",
       "    <tr>\n",
       "      <th>2025-02-21</th>\n",
       "      <td>23197453</td>\n",
       "    </tr>\n",
       "    <tr>\n",
       "      <th>2025-03-21</th>\n",
       "      <td>11809707</td>\n",
       "    </tr>\n",
       "    <tr>\n",
       "      <th>2025-06-20</th>\n",
       "      <td>78167922</td>\n",
       "    </tr>\n",
       "    <tr>\n",
       "      <th>2025-12-19</th>\n",
       "      <td>13184220</td>\n",
       "    </tr>\n",
       "    <tr>\n",
       "      <th>2026-12-18</th>\n",
       "      <td>10030922</td>\n",
       "    </tr>\n",
       "    <tr>\n",
       "      <th>2027-12-17</th>\n",
       "      <td>5861900</td>\n",
       "    </tr>\n",
       "    <tr>\n",
       "      <th>2028-12-15</th>\n",
       "      <td>3815288</td>\n",
       "    </tr>\n",
       "    <tr>\n",
       "      <th>2029-12-21</th>\n",
       "      <td>-462383</td>\n",
       "    </tr>\n",
       "  </tbody>\n",
       "</table>\n",
       "</div>"
      ],
      "text/plain": [
       "                   GEX\n",
       "Expiration            \n",
       "2024-02-09           0\n",
       "2024-02-12  4275959875\n",
       "2024-02-13  1501952494\n",
       "2024-02-14  1104818924\n",
       "2024-02-15   582778897\n",
       "2024-02-16  7659928969\n",
       "2024-02-20   523851648\n",
       "2024-02-21   522184043\n",
       "2024-02-22   144023323\n",
       "2024-02-23  1781610565\n",
       "2024-02-26   444491139\n",
       "2024-02-27    62780430\n",
       "2024-02-28   377890360\n",
       "2024-02-29  3664311110\n",
       "2024-03-01  1044977026\n",
       "2024-03-04    87109852\n",
       "2024-03-05    82420326\n",
       "2024-03-06   312557983\n",
       "2024-03-07    23283362\n",
       "2024-03-08   439339234\n",
       "2024-03-11   -21052310\n",
       "2024-03-12   102575659\n",
       "2024-03-13   -32058523\n",
       "2024-03-14      386578\n",
       "2024-03-15  6196667529\n",
       "2024-03-18    26954631\n",
       "2024-03-19           0\n",
       "2024-03-22    84818140\n",
       "2024-03-25      -40424\n",
       "2024-03-28  4352995835\n",
       "2024-04-05    -2066821\n",
       "2024-04-19  3088718087\n",
       "2024-04-30   555334089\n",
       "2024-05-17  1022332913\n",
       "2024-05-31    74069638\n",
       "2024-06-21 -1105308707\n",
       "2024-06-28   334431446\n",
       "2024-07-19   523290731\n",
       "2024-07-31     6309113\n",
       "2024-08-16   432570264\n",
       "2024-09-20   769576408\n",
       "2024-09-30    32862009\n",
       "2024-10-18   144975888\n",
       "2024-11-15   122837110\n",
       "2024-12-20   833774316\n",
       "2024-12-31    38125083\n",
       "2025-01-17   339836034\n",
       "2025-02-21    23197453\n",
       "2025-03-21    11809707\n",
       "2025-06-20    78167922\n",
       "2025-12-19    13184220\n",
       "2026-12-18    10030922\n",
       "2027-12-17     5861900\n",
       "2028-12-15     3815288\n",
       "2029-12-21     -462383"
      ]
     },
     "execution_count": 139,
     "metadata": {},
     "output_type": "execute_result"
    }
   ],
   "source": [
    "x3"
   ]
  },
  {
   "cell_type": "code",
   "execution_count": 140,
   "metadata": {},
   "outputs": [
    {
     "data": {
      "application/vnd.plotly.v1+json": {
       "config": {
        "plotlyServerURL": "https://plot.ly"
       },
       "data": [
        {
         "alignmentgroup": "True",
         "hovertemplate": "variable=GEX<br>value=%{x}<br>Expiration=%{y}<extra></extra>",
         "legendgroup": "GEX",
         "marker": {
          "color": [
           "#ff5f5f",
           "#3399ff",
           "#3399ff",
           "#3399ff",
           "#3399ff",
           "#3399ff",
           "#3399ff",
           "#3399ff",
           "#3399ff",
           "#3399ff",
           "#3399ff",
           "#3399ff",
           "#3399ff",
           "#3399ff",
           "#3399ff",
           "#3399ff",
           "#3399ff",
           "#3399ff",
           "#3399ff",
           "#3399ff",
           "#ff5f5f",
           "#3399ff",
           "#ff5f5f",
           "#3399ff",
           "#3399ff",
           "#3399ff",
           "#ff5f5f",
           "#3399ff",
           "#ff5f5f",
           "#3399ff",
           "#ff5f5f",
           "#3399ff",
           "#3399ff",
           "#3399ff",
           "#3399ff",
           "#ff5f5f",
           "#3399ff",
           "#3399ff",
           "#3399ff",
           "#3399ff",
           "#3399ff",
           "#3399ff",
           "#3399ff",
           "#3399ff",
           "#3399ff",
           "#3399ff",
           "#3399ff",
           "#3399ff",
           "#3399ff",
           "#3399ff",
           "#3399ff",
           "#3399ff",
           "#3399ff",
           "#3399ff",
           "#ff5f5f"
          ],
          "line": {
           "color": [
            "#ff5f5f",
            "#3399ff",
            "#3399ff",
            "#3399ff",
            "#3399ff",
            "#3399ff",
            "#3399ff",
            "#3399ff",
            "#3399ff",
            "#3399ff",
            "#3399ff",
            "#3399ff",
            "#3399ff",
            "#3399ff",
            "#3399ff",
            "#3399ff",
            "#3399ff",
            "#3399ff",
            "#3399ff",
            "#3399ff",
            "#ff5f5f",
            "#3399ff",
            "#ff5f5f",
            "#3399ff",
            "#3399ff",
            "#3399ff",
            "#ff5f5f",
            "#3399ff",
            "#ff5f5f",
            "#3399ff",
            "#ff5f5f",
            "#3399ff",
            "#3399ff",
            "#3399ff",
            "#3399ff",
            "#ff5f5f",
            "#3399ff",
            "#3399ff",
            "#3399ff",
            "#3399ff",
            "#3399ff",
            "#3399ff",
            "#3399ff",
            "#3399ff",
            "#3399ff",
            "#3399ff",
            "#3399ff",
            "#3399ff",
            "#3399ff",
            "#3399ff",
            "#3399ff",
            "#3399ff",
            "#3399ff",
            "#3399ff",
            "#ff5f5f"
           ]
          },
          "pattern": {
           "shape": ""
          }
         },
         "name": "GEX",
         "offsetgroup": "GEX",
         "orientation": "h",
         "showlegend": true,
         "textposition": "auto",
         "type": "bar",
         "x": [
          0,
          4275959875,
          1501952494,
          1104818924,
          582778897,
          7659928969,
          523851648,
          522184043,
          144023323,
          1781610565,
          444491139,
          62780430,
          377890360,
          3664311110,
          1044977026,
          87109852,
          82420326,
          312557983,
          23283362,
          439339234
         ],
         "xaxis": "x",
         "y": [
          "2024-02-09T00:00:00",
          "2024-02-12T00:00:00",
          "2024-02-13T00:00:00",
          "2024-02-14T00:00:00",
          "2024-02-15T00:00:00",
          "2024-02-16T00:00:00",
          "2024-02-20T00:00:00",
          "2024-02-21T00:00:00",
          "2024-02-22T00:00:00",
          "2024-02-23T00:00:00",
          "2024-02-26T00:00:00",
          "2024-02-27T00:00:00",
          "2024-02-28T00:00:00",
          "2024-02-29T00:00:00",
          "2024-03-01T00:00:00",
          "2024-03-04T00:00:00",
          "2024-03-05T00:00:00",
          "2024-03-06T00:00:00",
          "2024-03-07T00:00:00",
          "2024-03-08T00:00:00"
         ],
         "yaxis": "y"
        }
       ],
       "layout": {
        "barmode": "relative",
        "font": {
         "color": "#ffffff"
        },
        "height": 800,
        "legend": {
         "title": {
          "text": "variable"
         },
         "tracegroupgap": 0
        },
        "margin": {
         "t": 60
        },
        "paper_bgcolor": "black",
        "plot_bgcolor": "black",
        "template": {
         "data": {
          "bar": [
           {
            "error_x": {
             "color": "#2a3f5f"
            },
            "error_y": {
             "color": "#2a3f5f"
            },
            "marker": {
             "line": {
              "color": "#E5ECF6",
              "width": 0.5
             },
             "pattern": {
              "fillmode": "overlay",
              "size": 10,
              "solidity": 0.2
             }
            },
            "type": "bar"
           }
          ],
          "barpolar": [
           {
            "marker": {
             "line": {
              "color": "#E5ECF6",
              "width": 0.5
             },
             "pattern": {
              "fillmode": "overlay",
              "size": 10,
              "solidity": 0.2
             }
            },
            "type": "barpolar"
           }
          ],
          "carpet": [
           {
            "aaxis": {
             "endlinecolor": "#2a3f5f",
             "gridcolor": "white",
             "linecolor": "white",
             "minorgridcolor": "white",
             "startlinecolor": "#2a3f5f"
            },
            "baxis": {
             "endlinecolor": "#2a3f5f",
             "gridcolor": "white",
             "linecolor": "white",
             "minorgridcolor": "white",
             "startlinecolor": "#2a3f5f"
            },
            "type": "carpet"
           }
          ],
          "choropleth": [
           {
            "colorbar": {
             "outlinewidth": 0,
             "ticks": ""
            },
            "type": "choropleth"
           }
          ],
          "contour": [
           {
            "colorbar": {
             "outlinewidth": 0,
             "ticks": ""
            },
            "colorscale": [
             [
              0,
              "#0d0887"
             ],
             [
              0.1111111111111111,
              "#46039f"
             ],
             [
              0.2222222222222222,
              "#7201a8"
             ],
             [
              0.3333333333333333,
              "#9c179e"
             ],
             [
              0.4444444444444444,
              "#bd3786"
             ],
             [
              0.5555555555555556,
              "#d8576b"
             ],
             [
              0.6666666666666666,
              "#ed7953"
             ],
             [
              0.7777777777777778,
              "#fb9f3a"
             ],
             [
              0.8888888888888888,
              "#fdca26"
             ],
             [
              1,
              "#f0f921"
             ]
            ],
            "type": "contour"
           }
          ],
          "contourcarpet": [
           {
            "colorbar": {
             "outlinewidth": 0,
             "ticks": ""
            },
            "type": "contourcarpet"
           }
          ],
          "heatmap": [
           {
            "colorbar": {
             "outlinewidth": 0,
             "ticks": ""
            },
            "colorscale": [
             [
              0,
              "#0d0887"
             ],
             [
              0.1111111111111111,
              "#46039f"
             ],
             [
              0.2222222222222222,
              "#7201a8"
             ],
             [
              0.3333333333333333,
              "#9c179e"
             ],
             [
              0.4444444444444444,
              "#bd3786"
             ],
             [
              0.5555555555555556,
              "#d8576b"
             ],
             [
              0.6666666666666666,
              "#ed7953"
             ],
             [
              0.7777777777777778,
              "#fb9f3a"
             ],
             [
              0.8888888888888888,
              "#fdca26"
             ],
             [
              1,
              "#f0f921"
             ]
            ],
            "type": "heatmap"
           }
          ],
          "heatmapgl": [
           {
            "colorbar": {
             "outlinewidth": 0,
             "ticks": ""
            },
            "colorscale": [
             [
              0,
              "#0d0887"
             ],
             [
              0.1111111111111111,
              "#46039f"
             ],
             [
              0.2222222222222222,
              "#7201a8"
             ],
             [
              0.3333333333333333,
              "#9c179e"
             ],
             [
              0.4444444444444444,
              "#bd3786"
             ],
             [
              0.5555555555555556,
              "#d8576b"
             ],
             [
              0.6666666666666666,
              "#ed7953"
             ],
             [
              0.7777777777777778,
              "#fb9f3a"
             ],
             [
              0.8888888888888888,
              "#fdca26"
             ],
             [
              1,
              "#f0f921"
             ]
            ],
            "type": "heatmapgl"
           }
          ],
          "histogram": [
           {
            "marker": {
             "pattern": {
              "fillmode": "overlay",
              "size": 10,
              "solidity": 0.2
             }
            },
            "type": "histogram"
           }
          ],
          "histogram2d": [
           {
            "colorbar": {
             "outlinewidth": 0,
             "ticks": ""
            },
            "colorscale": [
             [
              0,
              "#0d0887"
             ],
             [
              0.1111111111111111,
              "#46039f"
             ],
             [
              0.2222222222222222,
              "#7201a8"
             ],
             [
              0.3333333333333333,
              "#9c179e"
             ],
             [
              0.4444444444444444,
              "#bd3786"
             ],
             [
              0.5555555555555556,
              "#d8576b"
             ],
             [
              0.6666666666666666,
              "#ed7953"
             ],
             [
              0.7777777777777778,
              "#fb9f3a"
             ],
             [
              0.8888888888888888,
              "#fdca26"
             ],
             [
              1,
              "#f0f921"
             ]
            ],
            "type": "histogram2d"
           }
          ],
          "histogram2dcontour": [
           {
            "colorbar": {
             "outlinewidth": 0,
             "ticks": ""
            },
            "colorscale": [
             [
              0,
              "#0d0887"
             ],
             [
              0.1111111111111111,
              "#46039f"
             ],
             [
              0.2222222222222222,
              "#7201a8"
             ],
             [
              0.3333333333333333,
              "#9c179e"
             ],
             [
              0.4444444444444444,
              "#bd3786"
             ],
             [
              0.5555555555555556,
              "#d8576b"
             ],
             [
              0.6666666666666666,
              "#ed7953"
             ],
             [
              0.7777777777777778,
              "#fb9f3a"
             ],
             [
              0.8888888888888888,
              "#fdca26"
             ],
             [
              1,
              "#f0f921"
             ]
            ],
            "type": "histogram2dcontour"
           }
          ],
          "mesh3d": [
           {
            "colorbar": {
             "outlinewidth": 0,
             "ticks": ""
            },
            "type": "mesh3d"
           }
          ],
          "parcoords": [
           {
            "line": {
             "colorbar": {
              "outlinewidth": 0,
              "ticks": ""
             }
            },
            "type": "parcoords"
           }
          ],
          "pie": [
           {
            "automargin": true,
            "type": "pie"
           }
          ],
          "scatter": [
           {
            "fillpattern": {
             "fillmode": "overlay",
             "size": 10,
             "solidity": 0.2
            },
            "type": "scatter"
           }
          ],
          "scatter3d": [
           {
            "line": {
             "colorbar": {
              "outlinewidth": 0,
              "ticks": ""
             }
            },
            "marker": {
             "colorbar": {
              "outlinewidth": 0,
              "ticks": ""
             }
            },
            "type": "scatter3d"
           }
          ],
          "scattercarpet": [
           {
            "marker": {
             "colorbar": {
              "outlinewidth": 0,
              "ticks": ""
             }
            },
            "type": "scattercarpet"
           }
          ],
          "scattergeo": [
           {
            "marker": {
             "colorbar": {
              "outlinewidth": 0,
              "ticks": ""
             }
            },
            "type": "scattergeo"
           }
          ],
          "scattergl": [
           {
            "marker": {
             "colorbar": {
              "outlinewidth": 0,
              "ticks": ""
             }
            },
            "type": "scattergl"
           }
          ],
          "scattermapbox": [
           {
            "marker": {
             "colorbar": {
              "outlinewidth": 0,
              "ticks": ""
             }
            },
            "type": "scattermapbox"
           }
          ],
          "scatterpolar": [
           {
            "marker": {
             "colorbar": {
              "outlinewidth": 0,
              "ticks": ""
             }
            },
            "type": "scatterpolar"
           }
          ],
          "scatterpolargl": [
           {
            "marker": {
             "colorbar": {
              "outlinewidth": 0,
              "ticks": ""
             }
            },
            "type": "scatterpolargl"
           }
          ],
          "scatterternary": [
           {
            "marker": {
             "colorbar": {
              "outlinewidth": 0,
              "ticks": ""
             }
            },
            "type": "scatterternary"
           }
          ],
          "surface": [
           {
            "colorbar": {
             "outlinewidth": 0,
             "ticks": ""
            },
            "colorscale": [
             [
              0,
              "#0d0887"
             ],
             [
              0.1111111111111111,
              "#46039f"
             ],
             [
              0.2222222222222222,
              "#7201a8"
             ],
             [
              0.3333333333333333,
              "#9c179e"
             ],
             [
              0.4444444444444444,
              "#bd3786"
             ],
             [
              0.5555555555555556,
              "#d8576b"
             ],
             [
              0.6666666666666666,
              "#ed7953"
             ],
             [
              0.7777777777777778,
              "#fb9f3a"
             ],
             [
              0.8888888888888888,
              "#fdca26"
             ],
             [
              1,
              "#f0f921"
             ]
            ],
            "type": "surface"
           }
          ],
          "table": [
           {
            "cells": {
             "fill": {
              "color": "#EBF0F8"
             },
             "line": {
              "color": "white"
             }
            },
            "header": {
             "fill": {
              "color": "#C8D4E3"
             },
             "line": {
              "color": "white"
             }
            },
            "type": "table"
           }
          ]
         },
         "layout": {
          "annotationdefaults": {
           "arrowcolor": "#2a3f5f",
           "arrowhead": 0,
           "arrowwidth": 1
          },
          "autotypenumbers": "strict",
          "coloraxis": {
           "colorbar": {
            "outlinewidth": 0,
            "ticks": ""
           }
          },
          "colorscale": {
           "diverging": [
            [
             0,
             "#8e0152"
            ],
            [
             0.1,
             "#c51b7d"
            ],
            [
             0.2,
             "#de77ae"
            ],
            [
             0.3,
             "#f1b6da"
            ],
            [
             0.4,
             "#fde0ef"
            ],
            [
             0.5,
             "#f7f7f7"
            ],
            [
             0.6,
             "#e6f5d0"
            ],
            [
             0.7,
             "#b8e186"
            ],
            [
             0.8,
             "#7fbc41"
            ],
            [
             0.9,
             "#4d9221"
            ],
            [
             1,
             "#276419"
            ]
           ],
           "sequential": [
            [
             0,
             "#0d0887"
            ],
            [
             0.1111111111111111,
             "#46039f"
            ],
            [
             0.2222222222222222,
             "#7201a8"
            ],
            [
             0.3333333333333333,
             "#9c179e"
            ],
            [
             0.4444444444444444,
             "#bd3786"
            ],
            [
             0.5555555555555556,
             "#d8576b"
            ],
            [
             0.6666666666666666,
             "#ed7953"
            ],
            [
             0.7777777777777778,
             "#fb9f3a"
            ],
            [
             0.8888888888888888,
             "#fdca26"
            ],
            [
             1,
             "#f0f921"
            ]
           ],
           "sequentialminus": [
            [
             0,
             "#0d0887"
            ],
            [
             0.1111111111111111,
             "#46039f"
            ],
            [
             0.2222222222222222,
             "#7201a8"
            ],
            [
             0.3333333333333333,
             "#9c179e"
            ],
            [
             0.4444444444444444,
             "#bd3786"
            ],
            [
             0.5555555555555556,
             "#d8576b"
            ],
            [
             0.6666666666666666,
             "#ed7953"
            ],
            [
             0.7777777777777778,
             "#fb9f3a"
            ],
            [
             0.8888888888888888,
             "#fdca26"
            ],
            [
             1,
             "#f0f921"
            ]
           ]
          },
          "colorway": [
           "#636efa",
           "#EF553B",
           "#00cc96",
           "#ab63fa",
           "#FFA15A",
           "#19d3f3",
           "#FF6692",
           "#B6E880",
           "#FF97FF",
           "#FECB52"
          ],
          "font": {
           "color": "#2a3f5f"
          },
          "geo": {
           "bgcolor": "white",
           "lakecolor": "white",
           "landcolor": "#E5ECF6",
           "showlakes": true,
           "showland": true,
           "subunitcolor": "white"
          },
          "hoverlabel": {
           "align": "left"
          },
          "hovermode": "closest",
          "mapbox": {
           "style": "light"
          },
          "paper_bgcolor": "white",
          "plot_bgcolor": "#E5ECF6",
          "polar": {
           "angularaxis": {
            "gridcolor": "white",
            "linecolor": "white",
            "ticks": ""
           },
           "bgcolor": "#E5ECF6",
           "radialaxis": {
            "gridcolor": "white",
            "linecolor": "white",
            "ticks": ""
           }
          },
          "scene": {
           "xaxis": {
            "backgroundcolor": "#E5ECF6",
            "gridcolor": "white",
            "gridwidth": 2,
            "linecolor": "white",
            "showbackground": true,
            "ticks": "",
            "zerolinecolor": "white"
           },
           "yaxis": {
            "backgroundcolor": "#E5ECF6",
            "gridcolor": "white",
            "gridwidth": 2,
            "linecolor": "white",
            "showbackground": true,
            "ticks": "",
            "zerolinecolor": "white"
           },
           "zaxis": {
            "backgroundcolor": "#E5ECF6",
            "gridcolor": "white",
            "gridwidth": 2,
            "linecolor": "white",
            "showbackground": true,
            "ticks": "",
            "zerolinecolor": "white"
           }
          },
          "shapedefaults": {
           "line": {
            "color": "#2a3f5f"
           }
          },
          "ternary": {
           "aaxis": {
            "gridcolor": "white",
            "linecolor": "white",
            "ticks": ""
           },
           "baxis": {
            "gridcolor": "white",
            "linecolor": "white",
            "ticks": ""
           },
           "bgcolor": "#E5ECF6",
           "caxis": {
            "gridcolor": "white",
            "linecolor": "white",
            "ticks": ""
           }
          },
          "title": {
           "x": 0.05
          },
          "xaxis": {
           "automargin": true,
           "gridcolor": "white",
           "linecolor": "white",
           "ticks": "",
           "title": {
            "standoff": 15
           },
           "zerolinecolor": "white",
           "zerolinewidth": 2
          },
          "yaxis": {
           "automargin": true,
           "gridcolor": "white",
           "linecolor": "white",
           "ticks": "",
           "title": {
            "standoff": 15
           },
           "zerolinecolor": "white",
           "zerolinewidth": 2
          }
         }
        },
        "title": {
         "text": "SPX GEX Chart by Expiry"
        },
        "width": 600,
        "xaxis": {
         "anchor": "y",
         "domain": [
          0,
          1
         ],
         "title": {
          "text": "value"
         }
        },
        "yaxis": {
         "anchor": "x",
         "domain": [
          0,
          1
         ],
         "title": {
          "text": "Expiration"
         }
        }
       }
      }
     },
     "metadata": {},
     "output_type": "display_data"
    }
   ],
   "source": [
    "fig = px.bar(x3[0:20], orientation='h')\n",
    "# fig.add_hline(y=last_price, line_dash=\"dot\", line_color=\"red\", annotation_text=f'Spot: {last_price:.02f}')\n",
    "# fig.update_traces(marker=dict(color=np.where(x2['GEX'] > 0, '#3399ff', '#ff5f5f')))\n",
    "fig.update_traces(\n",
    "    marker=dict(color=np.where(x3['GEX'] > 0, '#3399ff', '#ff5f5f'), \n",
    "                line=dict(color=np.where(x3['GEX'] > 0, '#3399ff', '#ff5f5f'))\n",
    "                )\n",
    ")\n",
    "fig.update_layout(\n",
    "    title_text=f'{t} GEX Chart by Expiry',\n",
    "    font_color='#ffffff',\n",
    "    plot_bgcolor='black',\n",
    "    paper_bgcolor='black',\n",
    "    width=600,\n",
    "    height=800,\n",
    ")\n",
    "fig.show()"
   ]
  },
  {
   "cell_type": "code",
   "execution_count": 47,
   "metadata": {},
   "outputs": [],
   "source": [
    "x.filter(like='Call', axis=0).loc[:, (\"GEX\")] = (\n",
    "    x.loc[:, (\"Gamma\")]\n",
    "    * 100\n",
    "    * x.loc[:, (\"OI\")]\n",
    "    * (last_price * last_price)\n",
    "    * 0.01\n",
    ")\n",
    "\n",
    "x.filter(like='Put', axis=0).loc[:, (\"GEX\")] = (\n",
    "    x.loc[:, (\"Gamma\")]\n",
    "    * -100\n",
    "    * x.loc[:, (\"OI\")]\n",
    "    * (last_price * last_price)\n",
    "    * 0.01\n",
    ")"
   ]
  },
  {
   "cell_type": "code",
   "execution_count": 48,
   "metadata": {},
   "outputs": [
    {
     "data": {
      "text/html": [
       "<div>\n",
       "<style scoped>\n",
       "    .dataframe tbody tr th:only-of-type {\n",
       "        vertical-align: middle;\n",
       "    }\n",
       "\n",
       "    .dataframe tbody tr th {\n",
       "        vertical-align: top;\n",
       "    }\n",
       "\n",
       "    .dataframe thead th {\n",
       "        text-align: right;\n",
       "    }\n",
       "</style>\n",
       "<table border=\"1\" class=\"dataframe\">\n",
       "  <thead>\n",
       "    <tr style=\"text-align: right;\">\n",
       "      <th></th>\n",
       "      <th></th>\n",
       "      <th></th>\n",
       "      <th>DTE</th>\n",
       "      <th>Tick</th>\n",
       "      <th>Last Price</th>\n",
       "      <th>Expected Move</th>\n",
       "      <th>% Change</th>\n",
       "      <th>Theoretical</th>\n",
       "      <th>$ to Spot</th>\n",
       "      <th>% to Spot</th>\n",
       "      <th>Breakeven</th>\n",
       "      <th>Vol</th>\n",
       "      <th>...</th>\n",
       "      <th>Rho</th>\n",
       "      <th>Open</th>\n",
       "      <th>High</th>\n",
       "      <th>Low</th>\n",
       "      <th>Prev Close</th>\n",
       "      <th>Bid Size</th>\n",
       "      <th>Bid</th>\n",
       "      <th>Ask</th>\n",
       "      <th>Ask Size</th>\n",
       "      <th>Timestamp</th>\n",
       "    </tr>\n",
       "    <tr>\n",
       "      <th>Expiration</th>\n",
       "      <th>Strike</th>\n",
       "      <th>Type</th>\n",
       "      <th></th>\n",
       "      <th></th>\n",
       "      <th></th>\n",
       "      <th></th>\n",
       "      <th></th>\n",
       "      <th></th>\n",
       "      <th></th>\n",
       "      <th></th>\n",
       "      <th></th>\n",
       "      <th></th>\n",
       "      <th></th>\n",
       "      <th></th>\n",
       "      <th></th>\n",
       "      <th></th>\n",
       "      <th></th>\n",
       "      <th></th>\n",
       "      <th></th>\n",
       "      <th></th>\n",
       "      <th></th>\n",
       "      <th></th>\n",
       "      <th></th>\n",
       "    </tr>\n",
       "  </thead>\n",
       "  <tbody>\n",
       "    <tr>\n",
       "      <th rowspan=\"5\" valign=\"top\">2024-02-12</th>\n",
       "      <th rowspan=\"2\" valign=\"top\">17070.0</th>\n",
       "      <th>Call</th>\n",
       "      <td>2</td>\n",
       "      <td>No Change</td>\n",
       "      <td>0.00</td>\n",
       "      <td>0.00</td>\n",
       "      <td>0.0000</td>\n",
       "      <td>892.08</td>\n",
       "      <td>-0.90</td>\n",
       "      <td>-0.0050</td>\n",
       "      <td>17961.50</td>\n",
       "      <td>0</td>\n",
       "      <td>...</td>\n",
       "      <td>1.3990</td>\n",
       "      <td>0.00</td>\n",
       "      <td>0.00</td>\n",
       "      <td>0.00</td>\n",
       "      <td>891.05</td>\n",
       "      <td>1</td>\n",
       "      <td>873.50</td>\n",
       "      <td>891.50</td>\n",
       "      <td>1</td>\n",
       "      <td>None</td>\n",
       "    </tr>\n",
       "    <tr>\n",
       "      <th>Put</th>\n",
       "      <td>2</td>\n",
       "      <td>Up</td>\n",
       "      <td>0.66</td>\n",
       "      <td>0.01</td>\n",
       "      <td>-72.7835</td>\n",
       "      <td>0.97</td>\n",
       "      <td>-893.85</td>\n",
       "      <td>-4.9762</td>\n",
       "      <td>17068.55</td>\n",
       "      <td>2</td>\n",
       "      <td>...</td>\n",
       "      <td>-0.0116</td>\n",
       "      <td>0.65</td>\n",
       "      <td>0.66</td>\n",
       "      <td>0.65</td>\n",
       "      <td>0.72</td>\n",
       "      <td>11</td>\n",
       "      <td>1.05</td>\n",
       "      <td>1.45</td>\n",
       "      <td>11</td>\n",
       "      <td>2024-02-09T14:44:29</td>\n",
       "    </tr>\n",
       "    <tr>\n",
       "      <th rowspan=\"2\" valign=\"top\">17075.0</th>\n",
       "      <th>Call</th>\n",
       "      <td>2</td>\n",
       "      <td>No Change</td>\n",
       "      <td>0.00</td>\n",
       "      <td>0.00</td>\n",
       "      <td>0.0000</td>\n",
       "      <td>887.09</td>\n",
       "      <td>-0.90</td>\n",
       "      <td>-0.0050</td>\n",
       "      <td>17961.50</td>\n",
       "      <td>0</td>\n",
       "      <td>...</td>\n",
       "      <td>1.3994</td>\n",
       "      <td>0.00</td>\n",
       "      <td>0.00</td>\n",
       "      <td>0.00</td>\n",
       "      <td>886.05</td>\n",
       "      <td>1</td>\n",
       "      <td>868.50</td>\n",
       "      <td>886.50</td>\n",
       "      <td>1</td>\n",
       "      <td>None</td>\n",
       "    </tr>\n",
       "    <tr>\n",
       "      <th>Put</th>\n",
       "      <td>2</td>\n",
       "      <td>Down</td>\n",
       "      <td>0.82</td>\n",
       "      <td>0.02</td>\n",
       "      <td>-66.5306</td>\n",
       "      <td>0.98</td>\n",
       "      <td>-888.85</td>\n",
       "      <td>-4.9484</td>\n",
       "      <td>17073.55</td>\n",
       "      <td>2</td>\n",
       "      <td>...</td>\n",
       "      <td>-0.0117</td>\n",
       "      <td>0.90</td>\n",
       "      <td>0.90</td>\n",
       "      <td>0.82</td>\n",
       "      <td>0.72</td>\n",
       "      <td>12</td>\n",
       "      <td>1.05</td>\n",
       "      <td>1.45</td>\n",
       "      <td>10</td>\n",
       "      <td>2024-02-09T11:22:11</td>\n",
       "    </tr>\n",
       "    <tr>\n",
       "      <th>17080.0</th>\n",
       "      <th>Call</th>\n",
       "      <td>2</td>\n",
       "      <td>No Change</td>\n",
       "      <td>0.00</td>\n",
       "      <td>0.00</td>\n",
       "      <td>0.0000</td>\n",
       "      <td>882.10</td>\n",
       "      <td>-0.90</td>\n",
       "      <td>-0.0050</td>\n",
       "      <td>17961.50</td>\n",
       "      <td>0</td>\n",
       "      <td>...</td>\n",
       "      <td>1.3996</td>\n",
       "      <td>0.00</td>\n",
       "      <td>0.00</td>\n",
       "      <td>0.00</td>\n",
       "      <td>881.05</td>\n",
       "      <td>1</td>\n",
       "      <td>863.50</td>\n",
       "      <td>881.50</td>\n",
       "      <td>1</td>\n",
       "      <td>None</td>\n",
       "    </tr>\n",
       "    <tr>\n",
       "      <th>...</th>\n",
       "      <th>...</th>\n",
       "      <th>...</th>\n",
       "      <td>...</td>\n",
       "      <td>...</td>\n",
       "      <td>...</td>\n",
       "      <td>...</td>\n",
       "      <td>...</td>\n",
       "      <td>...</td>\n",
       "      <td>...</td>\n",
       "      <td>...</td>\n",
       "      <td>...</td>\n",
       "      <td>...</td>\n",
       "      <td>...</td>\n",
       "      <td>...</td>\n",
       "      <td>...</td>\n",
       "      <td>...</td>\n",
       "      <td>...</td>\n",
       "      <td>...</td>\n",
       "      <td>...</td>\n",
       "      <td>...</td>\n",
       "      <td>...</td>\n",
       "      <td>...</td>\n",
       "      <td>...</td>\n",
       "    </tr>\n",
       "    <tr>\n",
       "      <th rowspan=\"5\" valign=\"top\">2026-12-18</th>\n",
       "      <th>18600.0</th>\n",
       "      <th>Put</th>\n",
       "      <td>1042</td>\n",
       "      <td>No Change</td>\n",
       "      <td>0.00</td>\n",
       "      <td>0.00</td>\n",
       "      <td>0.0000</td>\n",
       "      <td>1820.34</td>\n",
       "      <td>-1304.40</td>\n",
       "      <td>-7.2618</td>\n",
       "      <td>16658.00</td>\n",
       "      <td>0</td>\n",
       "      <td>...</td>\n",
       "      <td>-230.2518</td>\n",
       "      <td>0.00</td>\n",
       "      <td>0.00</td>\n",
       "      <td>0.00</td>\n",
       "      <td>1838.00</td>\n",
       "      <td>1</td>\n",
       "      <td>1742.00</td>\n",
       "      <td>1942.00</td>\n",
       "      <td>1</td>\n",
       "      <td>None</td>\n",
       "    </tr>\n",
       "    <tr>\n",
       "      <th rowspan=\"2\" valign=\"top\">18700.0</th>\n",
       "      <th>Call</th>\n",
       "      <td>1042</td>\n",
       "      <td>No Change</td>\n",
       "      <td>0.00</td>\n",
       "      <td>0.00</td>\n",
       "      <td>0.0000</td>\n",
       "      <td>3024.95</td>\n",
       "      <td>3855.60</td>\n",
       "      <td>21.4648</td>\n",
       "      <td>21818.00</td>\n",
       "      <td>0</td>\n",
       "      <td>...</td>\n",
       "      <td>244.2303</td>\n",
       "      <td>0.00</td>\n",
       "      <td>0.00</td>\n",
       "      <td>0.00</td>\n",
       "      <td>3024.00</td>\n",
       "      <td>1</td>\n",
       "      <td>2918.00</td>\n",
       "      <td>3118.00</td>\n",
       "      <td>1</td>\n",
       "      <td>None</td>\n",
       "    </tr>\n",
       "    <tr>\n",
       "      <th>Put</th>\n",
       "      <td>1042</td>\n",
       "      <td>No Change</td>\n",
       "      <td>0.00</td>\n",
       "      <td>0.00</td>\n",
       "      <td>0.0000</td>\n",
       "      <td>1856.17</td>\n",
       "      <td>-1240.40</td>\n",
       "      <td>-6.9055</td>\n",
       "      <td>16722.00</td>\n",
       "      <td>0</td>\n",
       "      <td>...</td>\n",
       "      <td>-234.1622</td>\n",
       "      <td>0.00</td>\n",
       "      <td>0.00</td>\n",
       "      <td>0.00</td>\n",
       "      <td>1874.00</td>\n",
       "      <td>1</td>\n",
       "      <td>1778.00</td>\n",
       "      <td>1978.00</td>\n",
       "      <td>1</td>\n",
       "      <td>None</td>\n",
       "    </tr>\n",
       "    <tr>\n",
       "      <th rowspan=\"2\" valign=\"top\">18800.0</th>\n",
       "      <th>Call</th>\n",
       "      <td>1042</td>\n",
       "      <td>No Change</td>\n",
       "      <td>0.00</td>\n",
       "      <td>0.00</td>\n",
       "      <td>0.0000</td>\n",
       "      <td>2972.76</td>\n",
       "      <td>3903.60</td>\n",
       "      <td>21.7321</td>\n",
       "      <td>21866.00</td>\n",
       "      <td>0</td>\n",
       "      <td>...</td>\n",
       "      <td>242.7954</td>\n",
       "      <td>0.00</td>\n",
       "      <td>0.00</td>\n",
       "      <td>0.00</td>\n",
       "      <td>2970.00</td>\n",
       "      <td>1</td>\n",
       "      <td>2866.00</td>\n",
       "      <td>3066.00</td>\n",
       "      <td>1</td>\n",
       "      <td>None</td>\n",
       "    </tr>\n",
       "    <tr>\n",
       "      <th>Put</th>\n",
       "      <td>1042</td>\n",
       "      <td>No Change</td>\n",
       "      <td>0.00</td>\n",
       "      <td>0.00</td>\n",
       "      <td>0.0000</td>\n",
       "      <td>1892.52</td>\n",
       "      <td>-1176.40</td>\n",
       "      <td>-6.5492</td>\n",
       "      <td>16786.00</td>\n",
       "      <td>0</td>\n",
       "      <td>...</td>\n",
       "      <td>-238.1207</td>\n",
       "      <td>0.00</td>\n",
       "      <td>0.00</td>\n",
       "      <td>0.00</td>\n",
       "      <td>1910.00</td>\n",
       "      <td>1</td>\n",
       "      <td>1814.00</td>\n",
       "      <td>2014.00</td>\n",
       "      <td>1</td>\n",
       "      <td>None</td>\n",
       "    </tr>\n",
       "  </tbody>\n",
       "</table>\n",
       "<p>7004 rows × 28 columns</p>\n",
       "</div>"
      ],
      "text/plain": [
       "                          DTE       Tick  Last Price  Expected Move  % Change  \\\n",
       "Expiration Strike  Type                                                         \n",
       "2024-02-12 17070.0 Call     2  No Change        0.00           0.00    0.0000   \n",
       "                   Put      2         Up        0.66           0.01  -72.7835   \n",
       "           17075.0 Call     2  No Change        0.00           0.00    0.0000   \n",
       "                   Put      2       Down        0.82           0.02  -66.5306   \n",
       "           17080.0 Call     2  No Change        0.00           0.00    0.0000   \n",
       "...                       ...        ...         ...            ...       ...   \n",
       "2026-12-18 18600.0 Put   1042  No Change        0.00           0.00    0.0000   \n",
       "           18700.0 Call  1042  No Change        0.00           0.00    0.0000   \n",
       "                   Put   1042  No Change        0.00           0.00    0.0000   \n",
       "           18800.0 Call  1042  No Change        0.00           0.00    0.0000   \n",
       "                   Put   1042  No Change        0.00           0.00    0.0000   \n",
       "\n",
       "                         Theoretical  $ to Spot  % to Spot  Breakeven  Vol  \\\n",
       "Expiration Strike  Type                                                      \n",
       "2024-02-12 17070.0 Call       892.08      -0.90    -0.0050   17961.50    0   \n",
       "                   Put          0.97    -893.85    -4.9762   17068.55    2   \n",
       "           17075.0 Call       887.09      -0.90    -0.0050   17961.50    0   \n",
       "                   Put          0.98    -888.85    -4.9484   17073.55    2   \n",
       "           17080.0 Call       882.10      -0.90    -0.0050   17961.50    0   \n",
       "...                              ...        ...        ...        ...  ...   \n",
       "2026-12-18 18600.0 Put       1820.34   -1304.40    -7.2618   16658.00    0   \n",
       "           18700.0 Call      3024.95    3855.60    21.4648   21818.00    0   \n",
       "                   Put       1856.17   -1240.40    -6.9055   16722.00    0   \n",
       "           18800.0 Call      2972.76    3903.60    21.7321   21866.00    0   \n",
       "                   Put       1892.52   -1176.40    -6.5492   16786.00    0   \n",
       "\n",
       "                         ...       Rho  Open  High   Low  Prev Close  \\\n",
       "Expiration Strike  Type  ...                                           \n",
       "2024-02-12 17070.0 Call  ...    1.3990  0.00  0.00  0.00      891.05   \n",
       "                   Put   ...   -0.0116  0.65  0.66  0.65        0.72   \n",
       "           17075.0 Call  ...    1.3994  0.00  0.00  0.00      886.05   \n",
       "                   Put   ...   -0.0117  0.90  0.90  0.82        0.72   \n",
       "           17080.0 Call  ...    1.3996  0.00  0.00  0.00      881.05   \n",
       "...                      ...       ...   ...   ...   ...         ...   \n",
       "2026-12-18 18600.0 Put   ... -230.2518  0.00  0.00  0.00     1838.00   \n",
       "           18700.0 Call  ...  244.2303  0.00  0.00  0.00     3024.00   \n",
       "                   Put   ... -234.1622  0.00  0.00  0.00     1874.00   \n",
       "           18800.0 Call  ...  242.7954  0.00  0.00  0.00     2970.00   \n",
       "                   Put   ... -238.1207  0.00  0.00  0.00     1910.00   \n",
       "\n",
       "                         Bid Size      Bid      Ask  Ask Size  \\\n",
       "Expiration Strike  Type                                         \n",
       "2024-02-12 17070.0 Call         1   873.50   891.50         1   \n",
       "                   Put         11     1.05     1.45        11   \n",
       "           17075.0 Call         1   868.50   886.50         1   \n",
       "                   Put         12     1.05     1.45        10   \n",
       "           17080.0 Call         1   863.50   881.50         1   \n",
       "...                           ...      ...      ...       ...   \n",
       "2026-12-18 18600.0 Put          1  1742.00  1942.00         1   \n",
       "           18700.0 Call         1  2918.00  3118.00         1   \n",
       "                   Put          1  1778.00  1978.00         1   \n",
       "           18800.0 Call         1  2866.00  3066.00         1   \n",
       "                   Put          1  1814.00  2014.00         1   \n",
       "\n",
       "                                   Timestamp  \n",
       "Expiration Strike  Type                       \n",
       "2024-02-12 17070.0 Call                 None  \n",
       "                   Put   2024-02-09T14:44:29  \n",
       "           17075.0 Call                 None  \n",
       "                   Put   2024-02-09T11:22:11  \n",
       "           17080.0 Call                 None  \n",
       "...                                      ...  \n",
       "2026-12-18 18600.0 Put                  None  \n",
       "           18700.0 Call                 None  \n",
       "                   Put                  None  \n",
       "           18800.0 Call                 None  \n",
       "                   Put                  None  \n",
       "\n",
       "[7004 rows x 28 columns]"
      ]
     },
     "execution_count": 48,
     "metadata": {},
     "output_type": "execute_result"
    }
   ],
   "source": [
    "x"
   ]
  },
  {
   "cell_type": "code",
   "execution_count": 35,
   "metadata": {},
   "outputs": [
    {
     "data": {
      "text/plain": [
       "Index(['DTE', 'Tick', 'Last Price', 'Expected Move', '% Change', 'Theoretical',\n",
       "       '$ to Spot', '% to Spot', 'Breakeven', 'Vol', 'OI', 'Delta $', 'GEX',\n",
       "       'IV', 'Theta', 'Delta', 'Gamma', 'Vega', 'Rho', 'Open', 'High', 'Low',\n",
       "       'Prev Close', 'Bid Size', 'Bid', 'Ask', 'Ask Size', 'Timestamp'],\n",
       "      dtype='object')"
      ]
     },
     "execution_count": 35,
     "metadata": {},
     "output_type": "execute_result"
    }
   ],
   "source": [
    "x.columns"
   ]
  },
  {
   "cell_type": "code",
   "execution_count": null,
   "metadata": {},
   "outputs": [],
   "source": []
  }
 ],
 "metadata": {
  "kernelspec": {
   "display_name": ".venv",
   "language": "python",
   "name": "python3"
  },
  "language_info": {
   "codemirror_mode": {
    "name": "ipython",
    "version": 3
   },
   "file_extension": ".py",
   "mimetype": "text/x-python",
   "name": "python",
   "nbconvert_exporter": "python",
   "pygments_lexer": "ipython3",
   "version": "3.10.11"
  }
 },
 "nbformat": 4,
 "nbformat_minor": 2
}
