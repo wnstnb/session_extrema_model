{
 "cells": [
  {
   "cell_type": "code",
   "execution_count": 1,
   "metadata": {},
   "outputs": [],
   "source": [
    "from dbConn import engine\n",
    "import pandas as pd\n",
    "import numpy as np\n",
    "from tqdm import tqdm"
   ]
  },
  {
   "cell_type": "code",
   "execution_count": 2,
   "metadata": {},
   "outputs": [],
   "source": [
    "base_query = '''\n",
    "SELECT \n",
    "    spx.Datetime,\n",
    "    spx.Open AS Open_SPX,\n",
    "    spx.High AS High_SPX,\n",
    "    spx.Low AS Low_SPX,\n",
    "    spx.Close AS Close_SPX,\n",
    "    ndx.Open AS Open_NDX,\n",
    "    ndx.High AS High_NDX,\n",
    "    ndx.Low AS Low_NDX,\n",
    "    ndx.Close AS Close_NDX,\n",
    "    rut.Open AS Open_RUT,\n",
    "    rut.High AS High_RUT,\n",
    "    rut.Low AS Low_RUT,\n",
    "    rut.Close AS Close_RUT\n",
    "    FROM (\n",
    "    SELECT * FROM SPX_full_5min\n",
    "    ) spx\n",
    "    JOIN (\n",
    "    SELECT * FROM NDX_full_5min\n",
    "    ) ndx ON spx.Datetime = ndx.Datetime\n",
    "    LEFT JOIN (\n",
    "    SELECT * FROM RUT_full_5min\n",
    "    ) rut ON spx.Datetime = rut.Datetime\n",
    "-- WHERE spx.Datetime >= '2018-01-01'\n",
    "'''\n",
    "\n",
    "# Initialize variables for pagination\n",
    "offset = 0\n",
    "limit = 50000\n",
    "data_frames = []\n",
    "\n",
    "while True:\n",
    "    # Construct the query with LIMIT and OFFSET\n",
    "    query = f\"{base_query} LIMIT {limit} OFFSET {offset}\"\n",
    "    \n",
    "    # Fetch the chunk of data\n",
    "    df_chunk = pd.read_sql_query(query, con = engine.connect())\n",
    "    \n",
    "    # Break the loop if no more data is returned\n",
    "    if df_chunk.empty:\n",
    "        break\n",
    "\n",
    "    # Append the chunk to the list of dataframes\n",
    "    data_frames.append(df_chunk)\n",
    "\n",
    "    # Update the offset for the next query\n",
    "    offset += limit\n",
    "\n",
    "# Concatenate all dataframes\n",
    "data = pd.concat(data_frames, ignore_index=True)"
   ]
  },
  {
   "cell_type": "code",
   "execution_count": 3,
   "metadata": {},
   "outputs": [
    {
     "data": {
      "text/plain": [
       "334831"
      ]
     },
     "execution_count": 3,
     "metadata": {},
     "output_type": "execute_result"
    }
   ],
   "source": [
    "len(data)"
   ]
  },
  {
   "cell_type": "code",
   "execution_count": 4,
   "metadata": {},
   "outputs": [
    {
     "data": {
      "text/html": [
       "<div>\n",
       "<style scoped>\n",
       "    .dataframe tbody tr th:only-of-type {\n",
       "        vertical-align: middle;\n",
       "    }\n",
       "\n",
       "    .dataframe tbody tr th {\n",
       "        vertical-align: top;\n",
       "    }\n",
       "\n",
       "    .dataframe thead th {\n",
       "        text-align: right;\n",
       "    }\n",
       "</style>\n",
       "<table border=\"1\" class=\"dataframe\">\n",
       "  <thead>\n",
       "    <tr style=\"text-align: right;\">\n",
       "      <th></th>\n",
       "      <th>Datetime</th>\n",
       "      <th>Open_SPX</th>\n",
       "      <th>High_SPX</th>\n",
       "      <th>Low_SPX</th>\n",
       "      <th>Close_SPX</th>\n",
       "      <th>Open_NDX</th>\n",
       "      <th>High_NDX</th>\n",
       "      <th>Low_NDX</th>\n",
       "      <th>Close_NDX</th>\n",
       "      <th>Open_RUT</th>\n",
       "      <th>High_RUT</th>\n",
       "      <th>Low_RUT</th>\n",
       "      <th>Close_RUT</th>\n",
       "    </tr>\n",
       "  </thead>\n",
       "  <tbody>\n",
       "    <tr>\n",
       "      <th>0</th>\n",
       "      <td>2007-04-27 12:20:00</td>\n",
       "      <td>1492.19</td>\n",
       "      <td>1492.40</td>\n",
       "      <td>1492.19</td>\n",
       "      <td>1492.38</td>\n",
       "      <td>1887.90</td>\n",
       "      <td>1887.91</td>\n",
       "      <td>1886.97</td>\n",
       "      <td>1887.65</td>\n",
       "      <td>829.54</td>\n",
       "      <td>829.55</td>\n",
       "      <td>829.35</td>\n",
       "      <td>829.41</td>\n",
       "    </tr>\n",
       "    <tr>\n",
       "      <th>1</th>\n",
       "      <td>2007-04-27 12:25:00</td>\n",
       "      <td>1492.39</td>\n",
       "      <td>1492.91</td>\n",
       "      <td>1492.39</td>\n",
       "      <td>1492.87</td>\n",
       "      <td>1887.72</td>\n",
       "      <td>1888.32</td>\n",
       "      <td>1887.72</td>\n",
       "      <td>1888.27</td>\n",
       "      <td>829.42</td>\n",
       "      <td>829.68</td>\n",
       "      <td>829.42</td>\n",
       "      <td>829.68</td>\n",
       "    </tr>\n",
       "    <tr>\n",
       "      <th>2</th>\n",
       "      <td>2007-04-27 12:30:00</td>\n",
       "      <td>1492.54</td>\n",
       "      <td>1492.80</td>\n",
       "      <td>1492.53</td>\n",
       "      <td>1492.58</td>\n",
       "      <td>1887.77</td>\n",
       "      <td>1888.68</td>\n",
       "      <td>1887.65</td>\n",
       "      <td>1888.13</td>\n",
       "      <td>829.65</td>\n",
       "      <td>829.84</td>\n",
       "      <td>829.65</td>\n",
       "      <td>829.73</td>\n",
       "    </tr>\n",
       "    <tr>\n",
       "      <th>3</th>\n",
       "      <td>2007-04-27 12:35:00</td>\n",
       "      <td>1492.70</td>\n",
       "      <td>1492.88</td>\n",
       "      <td>1492.30</td>\n",
       "      <td>1492.88</td>\n",
       "      <td>1888.09</td>\n",
       "      <td>1888.24</td>\n",
       "      <td>1887.27</td>\n",
       "      <td>1888.24</td>\n",
       "      <td>829.65</td>\n",
       "      <td>829.65</td>\n",
       "      <td>829.25</td>\n",
       "      <td>829.38</td>\n",
       "    </tr>\n",
       "    <tr>\n",
       "      <th>4</th>\n",
       "      <td>2007-04-27 12:40:00</td>\n",
       "      <td>1492.88</td>\n",
       "      <td>1494.46</td>\n",
       "      <td>1492.88</td>\n",
       "      <td>1493.94</td>\n",
       "      <td>1888.26</td>\n",
       "      <td>1890.01</td>\n",
       "      <td>1888.26</td>\n",
       "      <td>1889.31</td>\n",
       "      <td>829.39</td>\n",
       "      <td>830.08</td>\n",
       "      <td>829.39</td>\n",
       "      <td>830.03</td>\n",
       "    </tr>\n",
       "  </tbody>\n",
       "</table>\n",
       "</div>"
      ],
      "text/plain": [
       "             Datetime  Open_SPX  High_SPX  Low_SPX  Close_SPX  Open_NDX  \\\n",
       "0 2007-04-27 12:20:00   1492.19   1492.40  1492.19    1492.38   1887.90   \n",
       "1 2007-04-27 12:25:00   1492.39   1492.91  1492.39    1492.87   1887.72   \n",
       "2 2007-04-27 12:30:00   1492.54   1492.80  1492.53    1492.58   1887.77   \n",
       "3 2007-04-27 12:35:00   1492.70   1492.88  1492.30    1492.88   1888.09   \n",
       "4 2007-04-27 12:40:00   1492.88   1494.46  1492.88    1493.94   1888.26   \n",
       "\n",
       "   High_NDX  Low_NDX  Close_NDX  Open_RUT  High_RUT  Low_RUT  Close_RUT  \n",
       "0   1887.91  1886.97    1887.65    829.54    829.55   829.35     829.41  \n",
       "1   1888.32  1887.72    1888.27    829.42    829.68   829.42     829.68  \n",
       "2   1888.68  1887.65    1888.13    829.65    829.84   829.65     829.73  \n",
       "3   1888.24  1887.27    1888.24    829.65    829.65   829.25     829.38  \n",
       "4   1890.01  1888.26    1889.31    829.39    830.08   829.39     830.03  "
      ]
     },
     "execution_count": 4,
     "metadata": {},
     "output_type": "execute_result"
    }
   ],
   "source": [
    "data.head()"
   ]
  },
  {
   "cell_type": "code",
   "execution_count": 5,
   "metadata": {},
   "outputs": [],
   "source": [
    "data['Date'] = data['Datetime'].dt.date\n",
    "data['Time'] = data['Datetime'].dt.time"
   ]
  },
  {
   "cell_type": "code",
   "execution_count": 6,
   "metadata": {},
   "outputs": [
    {
     "data": {
      "text/plain": [
       "Timestamp('2007-04-27 12:20:00')"
      ]
     },
     "execution_count": 6,
     "metadata": {},
     "output_type": "execute_result"
    }
   ],
   "source": [
    "data['Datetime'].min()"
   ]
  },
  {
   "cell_type": "code",
   "execution_count": 7,
   "metadata": {},
   "outputs": [
    {
     "data": {
      "text/plain": [
       "Timestamp('2024-03-19 16:00:00')"
      ]
     },
     "execution_count": 7,
     "metadata": {},
     "output_type": "execute_result"
    }
   ],
   "source": [
    "data['Datetime'].max()"
   ]
  },
  {
   "cell_type": "code",
   "execution_count": 8,
   "metadata": {},
   "outputs": [],
   "source": [
    "import datetime"
   ]
  },
  {
   "cell_type": "markdown",
   "metadata": {},
   "source": [
    "# Start Run Models"
   ]
  },
  {
   "cell_type": "code",
   "execution_count": 64,
   "metadata": {},
   "outputs": [],
   "source": [
    "ticker_dict = {\n",
    "    \"^GSPC\":{\n",
    "        \"hod_model\":\"models/hod_model_spx.joblib\",\n",
    "        \"lod_model\":\"models/lod_model_spx.joblib\",\n",
    "        \"gd_model\":\"models/gd_model_spx.joblib\",\n",
    "        \"hod_model_cv\":\"models/hod_model_cv_spx.joblib\",\n",
    "        \"lod_model_cv\":\"models/lod_model_cv_spx.joblib\",\n",
    "        \"gd_model_cv\":\"models/gd_model_cv_spx.joblib\",\n",
    "        \"suffix\":\"SPX\"\n",
    "    },\n",
    "    \"^NDX\":{\n",
    "        \"hod_model\":\"models/hod_model_ndx.joblib\",\n",
    "        \"lod_model\":\"models/lod_model_ndx.joblib\",\n",
    "        \"gd_model\":\"models/gd_model_ndx.joblib\",\n",
    "        \"hod_model_cv\":\"models/hod_model_cv_ndx.joblib\",\n",
    "        \"lod_model_cv\":\"models/lod_model_cv_ndx.joblib\",\n",
    "        \"gd_model_cv\":\"models/gd_model_cv_ndx.joblib\",\n",
    "        \"suffix\":\"NDX\"\n",
    "    },\n",
    "    \"^RUT\":{\n",
    "        \"hod_model\":\"models/hod_model_rut.joblib\",\n",
    "        \"lod_model\":\"models/lod_model_rut.joblib\",\n",
    "        \"gd_model\":\"models/gd_model_rut.joblib\",\n",
    "        \"suffix\":\"RUT\"\n",
    "    }\n",
    "}\n",
    "\n",
    "tck = '^NDX'\n",
    "\n",
    "spx_data = data.loc[:,[\n",
    "    'Datetime',\n",
    "    f'Open_{ticker_dict[tck][\"suffix\"]}',\n",
    "    f'High_{ticker_dict[tck][\"suffix\"]}',\n",
    "    f'Low_{ticker_dict[tck][\"suffix\"]}',\n",
    "    f'Close_{ticker_dict[tck][\"suffix\"]}'\n",
    "]]\n",
    "spx_data.columns = ['Datetime','open','high','low','close']\n",
    "spx_data['time'] = spx_data['Datetime'].dt.time\n",
    "\n",
    "def categorize_time(time):\n",
    "    if time < pd.Timestamp(\"11:30\").time():\n",
    "        return 1\n",
    "    elif time < pd.Timestamp(\"13:00\").time():\n",
    "        return 2\n",
    "    elif time < pd.Timestamp(\"15:00\").time():\n",
    "        return 3\n",
    "    else:\n",
    "        return 4\n",
    "\n",
    "# Apply the categorize_time function to each time in the 'time' column to create a new 'phase' column\n",
    "spx_data['phase'] = spx_data['time'].apply(categorize_time)\n",
    "\n",
    "spx_data = spx_data.loc[(spx_data['time'] < datetime.time(16,0)) & (spx_data['time'] >= datetime.time(9,30))]"
   ]
  },
  {
   "cell_type": "code",
   "execution_count": 65,
   "metadata": {},
   "outputs": [],
   "source": [
    "spx_data = spx_data.set_index('Datetime')"
   ]
  },
  {
   "cell_type": "code",
   "execution_count": 66,
   "metadata": {},
   "outputs": [],
   "source": [
    "# Create a list of times from 9:30 to 15:55 with 5 minute intervals\n",
    "times = pd.date_range(start=\"9:30\", end=\"15:55\", freq='5min').time\n",
    "\n",
    "# Create a dictionary that maps each time to a unique integer\n",
    "time_to_int = {time: i+1 for i, time in enumerate(times)}\n",
    "\n",
    "# Assume df is your DataFrame and 'time' is your column of times\n",
    "spx_data['bar_num'] = spx_data['time'].map(time_to_int)"
   ]
  },
  {
   "cell_type": "code",
   "execution_count": 67,
   "metadata": {},
   "outputs": [],
   "source": [
    "# Get the last bar of each date\n",
    "spx_data['eod_close'] = spx_data.groupby(spx_data.index.date)['close'].tail(1)\n",
    "spx_data['prev_close'] = spx_data['eod_close'].shift(1)\n",
    "spx_data['prev_close'] = spx_data['prev_close'].ffill()\n",
    "spx_data['eod_close'] = spx_data['eod_close'].bfill()\n",
    "spx_data['green_day'] = spx_data['eod_close'] > spx_data['prev_close']\n",
    "\n",
    "spx_data['eod_close_pts'] = spx_data['eod_close'] - spx_data['prev_close']\n",
    "spx_data['eod_close_pct'] = spx_data['eod_close_pts'] / spx_data['prev_close']"
   ]
  },
  {
   "cell_type": "code",
   "execution_count": 68,
   "metadata": {},
   "outputs": [
    {
     "data": {
      "text/html": [
       "<div>\n",
       "<style scoped>\n",
       "    .dataframe tbody tr th:only-of-type {\n",
       "        vertical-align: middle;\n",
       "    }\n",
       "\n",
       "    .dataframe tbody tr th {\n",
       "        vertical-align: top;\n",
       "    }\n",
       "\n",
       "    .dataframe thead th {\n",
       "        text-align: right;\n",
       "    }\n",
       "</style>\n",
       "<table border=\"1\" class=\"dataframe\">\n",
       "  <thead>\n",
       "    <tr style=\"text-align: right;\">\n",
       "      <th></th>\n",
       "      <th>open</th>\n",
       "      <th>high</th>\n",
       "      <th>low</th>\n",
       "      <th>close</th>\n",
       "      <th>time</th>\n",
       "      <th>phase</th>\n",
       "      <th>bar_num</th>\n",
       "      <th>eod_close</th>\n",
       "      <th>prev_close</th>\n",
       "      <th>green_day</th>\n",
       "      <th>eod_close_pts</th>\n",
       "      <th>eod_close_pct</th>\n",
       "    </tr>\n",
       "    <tr>\n",
       "      <th>Datetime</th>\n",
       "      <th></th>\n",
       "      <th></th>\n",
       "      <th></th>\n",
       "      <th></th>\n",
       "      <th></th>\n",
       "      <th></th>\n",
       "      <th></th>\n",
       "      <th></th>\n",
       "      <th></th>\n",
       "      <th></th>\n",
       "      <th></th>\n",
       "      <th></th>\n",
       "    </tr>\n",
       "  </thead>\n",
       "  <tbody>\n",
       "    <tr>\n",
       "      <th>2007-04-27 12:20:00</th>\n",
       "      <td>1887.90</td>\n",
       "      <td>1887.91</td>\n",
       "      <td>1886.97</td>\n",
       "      <td>1887.65</td>\n",
       "      <td>12:20:00</td>\n",
       "      <td>2</td>\n",
       "      <td>35</td>\n",
       "      <td>1891.0</td>\n",
       "      <td>NaN</td>\n",
       "      <td>False</td>\n",
       "      <td>NaN</td>\n",
       "      <td>NaN</td>\n",
       "    </tr>\n",
       "    <tr>\n",
       "      <th>2007-04-27 12:25:00</th>\n",
       "      <td>1887.72</td>\n",
       "      <td>1888.32</td>\n",
       "      <td>1887.72</td>\n",
       "      <td>1888.27</td>\n",
       "      <td>12:25:00</td>\n",
       "      <td>2</td>\n",
       "      <td>36</td>\n",
       "      <td>1891.0</td>\n",
       "      <td>NaN</td>\n",
       "      <td>False</td>\n",
       "      <td>NaN</td>\n",
       "      <td>NaN</td>\n",
       "    </tr>\n",
       "    <tr>\n",
       "      <th>2007-04-27 12:30:00</th>\n",
       "      <td>1887.77</td>\n",
       "      <td>1888.68</td>\n",
       "      <td>1887.65</td>\n",
       "      <td>1888.13</td>\n",
       "      <td>12:30:00</td>\n",
       "      <td>2</td>\n",
       "      <td>37</td>\n",
       "      <td>1891.0</td>\n",
       "      <td>NaN</td>\n",
       "      <td>False</td>\n",
       "      <td>NaN</td>\n",
       "      <td>NaN</td>\n",
       "    </tr>\n",
       "    <tr>\n",
       "      <th>2007-04-27 12:35:00</th>\n",
       "      <td>1888.09</td>\n",
       "      <td>1888.24</td>\n",
       "      <td>1887.27</td>\n",
       "      <td>1888.24</td>\n",
       "      <td>12:35:00</td>\n",
       "      <td>2</td>\n",
       "      <td>38</td>\n",
       "      <td>1891.0</td>\n",
       "      <td>NaN</td>\n",
       "      <td>False</td>\n",
       "      <td>NaN</td>\n",
       "      <td>NaN</td>\n",
       "    </tr>\n",
       "    <tr>\n",
       "      <th>2007-04-27 12:40:00</th>\n",
       "      <td>1888.26</td>\n",
       "      <td>1890.01</td>\n",
       "      <td>1888.26</td>\n",
       "      <td>1889.31</td>\n",
       "      <td>12:40:00</td>\n",
       "      <td>2</td>\n",
       "      <td>39</td>\n",
       "      <td>1891.0</td>\n",
       "      <td>NaN</td>\n",
       "      <td>False</td>\n",
       "      <td>NaN</td>\n",
       "      <td>NaN</td>\n",
       "    </tr>\n",
       "  </tbody>\n",
       "</table>\n",
       "</div>"
      ],
      "text/plain": [
       "                        open     high      low    close      time  phase  \\\n",
       "Datetime                                                                   \n",
       "2007-04-27 12:20:00  1887.90  1887.91  1886.97  1887.65  12:20:00      2   \n",
       "2007-04-27 12:25:00  1887.72  1888.32  1887.72  1888.27  12:25:00      2   \n",
       "2007-04-27 12:30:00  1887.77  1888.68  1887.65  1888.13  12:30:00      2   \n",
       "2007-04-27 12:35:00  1888.09  1888.24  1887.27  1888.24  12:35:00      2   \n",
       "2007-04-27 12:40:00  1888.26  1890.01  1888.26  1889.31  12:40:00      2   \n",
       "\n",
       "                     bar_num  eod_close  prev_close  green_day  eod_close_pts  \\\n",
       "Datetime                                                                        \n",
       "2007-04-27 12:20:00       35     1891.0         NaN      False            NaN   \n",
       "2007-04-27 12:25:00       36     1891.0         NaN      False            NaN   \n",
       "2007-04-27 12:30:00       37     1891.0         NaN      False            NaN   \n",
       "2007-04-27 12:35:00       38     1891.0         NaN      False            NaN   \n",
       "2007-04-27 12:40:00       39     1891.0         NaN      False            NaN   \n",
       "\n",
       "                     eod_close_pct  \n",
       "Datetime                            \n",
       "2007-04-27 12:20:00            NaN  \n",
       "2007-04-27 12:25:00            NaN  \n",
       "2007-04-27 12:30:00            NaN  \n",
       "2007-04-27 12:35:00            NaN  \n",
       "2007-04-27 12:40:00            NaN  "
      ]
     },
     "execution_count": 68,
     "metadata": {},
     "output_type": "execute_result"
    }
   ],
   "source": [
    "spx_data.head()"
   ]
  },
  {
   "cell_type": "code",
   "execution_count": 69,
   "metadata": {},
   "outputs": [
    {
     "data": {
      "text/html": [
       "<div>\n",
       "<style scoped>\n",
       "    .dataframe tbody tr th:only-of-type {\n",
       "        vertical-align: middle;\n",
       "    }\n",
       "\n",
       "    .dataframe tbody tr th {\n",
       "        vertical-align: top;\n",
       "    }\n",
       "\n",
       "    .dataframe thead th {\n",
       "        text-align: right;\n",
       "    }\n",
       "</style>\n",
       "<table border=\"1\" class=\"dataframe\">\n",
       "  <thead>\n",
       "    <tr style=\"text-align: right;\">\n",
       "      <th></th>\n",
       "      <th>open</th>\n",
       "      <th>high</th>\n",
       "      <th>low</th>\n",
       "      <th>close</th>\n",
       "      <th>time</th>\n",
       "      <th>phase</th>\n",
       "      <th>bar_num</th>\n",
       "      <th>eod_close</th>\n",
       "      <th>prev_close</th>\n",
       "      <th>green_day</th>\n",
       "      <th>eod_close_pts</th>\n",
       "      <th>eod_close_pct</th>\n",
       "    </tr>\n",
       "    <tr>\n",
       "      <th>Datetime</th>\n",
       "      <th></th>\n",
       "      <th></th>\n",
       "      <th></th>\n",
       "      <th></th>\n",
       "      <th></th>\n",
       "      <th></th>\n",
       "      <th></th>\n",
       "      <th></th>\n",
       "      <th></th>\n",
       "      <th></th>\n",
       "      <th></th>\n",
       "      <th></th>\n",
       "    </tr>\n",
       "  </thead>\n",
       "  <tbody>\n",
       "    <tr>\n",
       "      <th>2024-03-19 15:35:00</th>\n",
       "      <td>17986.28</td>\n",
       "      <td>18007.45</td>\n",
       "      <td>17985.47</td>\n",
       "      <td>18007.45</td>\n",
       "      <td>15:35:00</td>\n",
       "      <td>4</td>\n",
       "      <td>74</td>\n",
       "      <td>18031.18</td>\n",
       "      <td>17984.28</td>\n",
       "      <td>True</td>\n",
       "      <td>46.9</td>\n",
       "      <td>0.002608</td>\n",
       "    </tr>\n",
       "    <tr>\n",
       "      <th>2024-03-19 15:40:00</th>\n",
       "      <td>18007.41</td>\n",
       "      <td>18009.06</td>\n",
       "      <td>17999.10</td>\n",
       "      <td>18004.32</td>\n",
       "      <td>15:40:00</td>\n",
       "      <td>4</td>\n",
       "      <td>75</td>\n",
       "      <td>18031.18</td>\n",
       "      <td>17984.28</td>\n",
       "      <td>True</td>\n",
       "      <td>46.9</td>\n",
       "      <td>0.002608</td>\n",
       "    </tr>\n",
       "    <tr>\n",
       "      <th>2024-03-19 15:45:00</th>\n",
       "      <td>18004.46</td>\n",
       "      <td>18033.77</td>\n",
       "      <td>18004.40</td>\n",
       "      <td>18032.21</td>\n",
       "      <td>15:45:00</td>\n",
       "      <td>4</td>\n",
       "      <td>76</td>\n",
       "      <td>18031.18</td>\n",
       "      <td>17984.28</td>\n",
       "      <td>True</td>\n",
       "      <td>46.9</td>\n",
       "      <td>0.002608</td>\n",
       "    </tr>\n",
       "    <tr>\n",
       "      <th>2024-03-19 15:50:00</th>\n",
       "      <td>18032.89</td>\n",
       "      <td>18039.71</td>\n",
       "      <td>18023.26</td>\n",
       "      <td>18035.70</td>\n",
       "      <td>15:50:00</td>\n",
       "      <td>4</td>\n",
       "      <td>77</td>\n",
       "      <td>18031.18</td>\n",
       "      <td>17984.28</td>\n",
       "      <td>True</td>\n",
       "      <td>46.9</td>\n",
       "      <td>0.002608</td>\n",
       "    </tr>\n",
       "    <tr>\n",
       "      <th>2024-03-19 15:55:00</th>\n",
       "      <td>18035.18</td>\n",
       "      <td>18039.82</td>\n",
       "      <td>18023.38</td>\n",
       "      <td>18031.18</td>\n",
       "      <td>15:55:00</td>\n",
       "      <td>4</td>\n",
       "      <td>78</td>\n",
       "      <td>18031.18</td>\n",
       "      <td>17984.28</td>\n",
       "      <td>True</td>\n",
       "      <td>46.9</td>\n",
       "      <td>0.002608</td>\n",
       "    </tr>\n",
       "  </tbody>\n",
       "</table>\n",
       "</div>"
      ],
      "text/plain": [
       "                         open      high       low     close      time  phase  \\\n",
       "Datetime                                                                       \n",
       "2024-03-19 15:35:00  17986.28  18007.45  17985.47  18007.45  15:35:00      4   \n",
       "2024-03-19 15:40:00  18007.41  18009.06  17999.10  18004.32  15:40:00      4   \n",
       "2024-03-19 15:45:00  18004.46  18033.77  18004.40  18032.21  15:45:00      4   \n",
       "2024-03-19 15:50:00  18032.89  18039.71  18023.26  18035.70  15:50:00      4   \n",
       "2024-03-19 15:55:00  18035.18  18039.82  18023.38  18031.18  15:55:00      4   \n",
       "\n",
       "                     bar_num  eod_close  prev_close  green_day  eod_close_pts  \\\n",
       "Datetime                                                                        \n",
       "2024-03-19 15:35:00       74   18031.18    17984.28       True           46.9   \n",
       "2024-03-19 15:40:00       75   18031.18    17984.28       True           46.9   \n",
       "2024-03-19 15:45:00       76   18031.18    17984.28       True           46.9   \n",
       "2024-03-19 15:50:00       77   18031.18    17984.28       True           46.9   \n",
       "2024-03-19 15:55:00       78   18031.18    17984.28       True           46.9   \n",
       "\n",
       "                     eod_close_pct  \n",
       "Datetime                            \n",
       "2024-03-19 15:35:00       0.002608  \n",
       "2024-03-19 15:40:00       0.002608  \n",
       "2024-03-19 15:45:00       0.002608  \n",
       "2024-03-19 15:50:00       0.002608  \n",
       "2024-03-19 15:55:00       0.002608  "
      ]
     },
     "execution_count": 69,
     "metadata": {},
     "output_type": "execute_result"
    }
   ],
   "source": [
    "spx_data.tail()"
   ]
  },
  {
   "cell_type": "markdown",
   "metadata": {},
   "source": [
    "# Feature and Target Creation\n",
    "Target\n",
    "- Whether the current high or low of the **session** has been achieved, based on the close of the most recent 5 min bar. \n",
    "\n",
    "Features\n",
    "- Current and lagged features of each **session**."
   ]
  },
  {
   "cell_type": "code",
   "execution_count": 70,
   "metadata": {},
   "outputs": [
    {
     "name": "stderr",
     "output_type": "stream",
     "text": [
      "  0%|          | 0/4252 [00:00<?, ?it/s]"
     ]
    },
    {
     "name": "stderr",
     "output_type": "stream",
     "text": [
      "100%|██████████| 4252/4252 [03:02<00:00, 23.28it/s]\n"
     ]
    }
   ],
   "source": [
    "import numpy as np\n",
    "import pandas as pd\n",
    "import datetime\n",
    "from pandas.tseries.offsets import BDay\n",
    "from tqdm import tqdm\n",
    "\n",
    "spx_data['label'] = np.nan\n",
    "\n",
    "\n",
    "# Per date, run it.\n",
    "for day in tqdm(sorted(set(spx_data.index.date))):\n",
    "    day_str = datetime.datetime.strftime(day, '%Y-%m-%d')\n",
    "    day_open = spx_data.loc[day_str, 'open'].iloc[0]\n",
    "    day_5m_or_upper = spx_data.loc[day_str, 'high'].iloc[0]\n",
    "    day_5m_or_lower = spx_data.loc[day_str, 'low'].iloc[0]\n",
    "    spx_data.loc[day_str, 'lod'] = spx_data.loc[day_str, 'low'].min()\n",
    "    spx_data.loc[day_str, 'label_lod'] = (spx_data.loc[day_str, 'low'] == spx_data.loc[day_str, 'lod']).astype(int)\n",
    "    \n",
    "    spx_data.loc[day_str, 'hod'] = spx_data.loc[day_str, 'high'].max()\n",
    "    spx_data.loc[day_str, 'label'] = (spx_data.loc[day_str, 'high'] == spx_data.loc[day_str, 'hod']).astype(int)\n",
    "    spx_data.loc[day_str, 'day_open'] = day_open\n",
    "    spx_data.loc[day_str, 'day_open_pts'] = spx_data.loc[day_str, 'close'] - spx_data.loc[day_str, 'day_open']\n",
    "    spx_data.loc[day_str, 'day_open_pct'] = spx_data.loc[day_str, 'day_open_pts'] / spx_data.loc[day_str, 'day_open']\n",
    "    spx_data.loc[day_str, 'prev_close_pts'] = spx_data.loc[day_str, 'close'] - spx_data.loc[day_str, 'prev_close']\n",
    "    spx_data.loc[day_str, 'prev_close_pct'] = spx_data.loc[day_str, 'prev_close_pts'] / spx_data.loc[day_str, 'prev_close']\n",
    "\n",
    "    # Openiing Range\n",
    "    spx_data.loc[day_str, 'day_5m_or_upper'] = day_5m_or_upper\n",
    "    spx_data.loc[day_str, 'day_5m_or_lower'] = day_5m_or_lower\n",
    "\n",
    "    spx_data.loc[day_str, 'open_range_upper_pts'] = spx_data.loc[day_str, 'close'] - spx_data.loc[day_str, 'day_5m_or_upper']\n",
    "    spx_data.loc[day_str, 'open_range_lower_pts'] = spx_data.loc[day_str, 'close'] - spx_data.loc[day_str, 'day_5m_or_lower']\n",
    "\n",
    "    spx_data.loc[day_str, 'open_range_upper_pct'] = spx_data.loc[day_str, 'open_range_upper_pts'] / spx_data.loc[day_str, 'day_open']\n",
    "    spx_data.loc[day_str, 'open_range_lower_pct'] = spx_data.loc[day_str, 'open_range_lower_pts'] / spx_data.loc[day_str, 'day_open']\n",
    "\n",
    "    # Lowest low\n",
    "    spx_data.loc[day_str, 'lowest_low'] = spx_data.loc[day_str, 'low'].expanding().min()\n",
    "    spx_data.loc[day_str, 'lowest_low'] = spx_data.loc[day_str, 'lowest_low'].shift(1)\n",
    "    spx_data.loc[day_str, 'lowest_low'] = spx_data.loc[day_str, 'lowest_low'].ffill()\n",
    "    spx_data.loc[day_str, 'lowest_low_mag'] = (spx_data.loc[day_str, 'close'] / spx_data.loc[day_str, 'lowest_low']) - 1\n",
    "    spx_data.loc[day_str, 'lowest_low_mag_n1'] = spx_data.loc[day_str, 'lowest_low_mag'].shift(1)\n",
    "    spx_data.loc[day_str, 'lowest_low_mag_n2'] = spx_data.loc[day_str, 'lowest_low_mag'].shift(2)\n",
    "    spx_data.loc[day_str, 'lowest_low_mag_n3'] = spx_data.loc[day_str, 'lowest_low_mag'].shift(3)\n",
    "\n",
    "    # Highest high\n",
    "    spx_data.loc[day_str, 'highest_high'] = spx_data.loc[day_str, 'high'].expanding().max()\n",
    "    spx_data.loc[day_str, 'highest_high'] = spx_data.loc[day_str, 'highest_high'].shift(1)\n",
    "    spx_data.loc[day_str, 'highest_high'] = spx_data.loc[day_str, 'highest_high'].ffill()\n",
    "    spx_data.loc[day_str, 'highest_high_mag'] = (spx_data.loc[day_str, 'close'] / spx_data.loc[day_str, 'highest_high']) - 1\n",
    "    spx_data.loc[day_str, 'highest_high_mag_n1'] = spx_data.loc[day_str, 'highest_high_mag'].shift(1)\n",
    "    spx_data.loc[day_str, 'highest_high_mag_n2'] = spx_data.loc[day_str, 'highest_high_mag'].shift(2)\n",
    "    spx_data.loc[day_str, 'highest_high_mag_n3'] = spx_data.loc[day_str, 'highest_high_mag'].shift(3)\n",
    "\n",
    "    # Shifted\n",
    "    spx_data.loc[day_str, 'prev_close_pct_n1'] = spx_data.loc[day_str, 'prev_close_pct'].shift(1)\n",
    "    spx_data.loc[day_str, 'prev_close_pct_n2'] = spx_data.loc[day_str, 'prev_close_pct'].shift(2)\n",
    "    spx_data.loc[day_str, 'prev_close_pct_n3'] = spx_data.loc[day_str, 'prev_close_pct'].shift(3)\n",
    "\n",
    "    spx_data.loc[day_str, 'day_open_pct_n1'] = spx_data.loc[day_str, 'day_open_pct'].shift(1)\n",
    "    spx_data.loc[day_str, 'day_open_pct_n2'] = spx_data.loc[day_str, 'day_open_pct'].shift(2)\n",
    "    spx_data.loc[day_str, 'day_open_pct_n3'] = spx_data.loc[day_str, 'day_open_pct'].shift(3)\n",
    "\n",
    "    # New Features\n",
    "    spx_data.loc[day_str, 'open_slope'] = spx_data.loc[day_str, 'day_open_pct'] / spx_data.loc[day_str, 'bar_num']\n",
    "    spx_data.loc[day_str, 'daily_slope'] = spx_data.loc[day_str, 'prev_close_pct'] / spx_data.loc[day_str, 'bar_num']\n",
    "    spx_data.loc[day_str, 'highest_high_slope'] = (spx_data.loc[day_str, 'close'] - spx_data.loc[day_str, 'highest_high']) / spx_data.loc[day_str, 'bar_num']\n",
    "    spx_data.loc[day_str, 'lowest_low_slope'] = (spx_data.loc[day_str, 'close'] - spx_data.loc[day_str, 'lowest_low']) / spx_data.loc[day_str, 'bar_num']\n",
    "    # spx_data.loc[day_str, 'day_range_pct'] = (spx_data.loc[day_str, ['highest_high','prev_close']].max(axis=1) - spx_data.loc[day_str, ['lowest_low','prev_close']].min(axis=1)) / spx_data.loc[day_str, 'prev_close']\n",
    "    # spx_data.loc[day_str, 'day_range_pct_n1'] = spx_data.loc[day_str, 'day_range_pct'].shift(1)\n",
    "    # spx_data.loc[day_str, 'day_range_pct_n2'] = spx_data.loc[day_str, 'day_range_pct'].shift(2)\n",
    "    # spx_data.loc[day_str, 'day_range_pct_n3'] = spx_data.loc[day_str, 'day_range_pct'].shift(3)\n",
    "\n",
    "    # Label the data: 1 if the current high is the HOD, 0 otherwise\n",
    "\n",
    "    # # Find the index of HOD\n",
    "    # hod_index = spx_data.loc[day_str][spx_data.loc[day_str, 'label'] == 1].index\n",
    "\n",
    "    # # If HOD is found within the first 5 bars, label the first 5 bars as 1\n",
    "    # if not hod_index.empty:\n",
    "    #     hod_index = hod_index[0]  # In case there are multiple, take the first\n",
    "    #     if hod_index <= spx_data.loc[day_str].index[4]:  # Check if HOD is within the first 5 bars\n",
    "    #         spx_data.loc[spx_data.loc[day_str].index[:5], 'label'] = 1\n",
    "    #     else:\n",
    "    #         start_time = spx_data.loc[day_str].index[0]\n",
    "    #         end_time = hod_index\n",
    "    #         # Calculate the start index using Timedelta\n",
    "    #         start_index = end_time - pd.Timedelta(minutes=5 * 4)\n",
    "    #         start_index = max(start_index, start_time)\n",
    "    #         spx_data.loc[start_index:end_time, 'label'] = 1\n",
    "\n",
    "# spx_data.head()\n"
   ]
  },
  {
   "cell_type": "code",
   "execution_count": 71,
   "metadata": {},
   "outputs": [],
   "source": [
    "spx_data['gap_open'] = spx_data['day_open'] - spx_data['prev_close']\n",
    "spx_data['gap_open_pct'] = spx_data['gap_open'] / spx_data['prev_close']"
   ]
  },
  {
   "cell_type": "code",
   "execution_count": 72,
   "metadata": {},
   "outputs": [
    {
     "data": {
      "text/plain": [
       "open                        0\n",
       "high                        0\n",
       "low                         0\n",
       "close                       0\n",
       "time                        0\n",
       "phase                       0\n",
       "bar_num                     0\n",
       "eod_close                   0\n",
       "prev_close                 44\n",
       "green_day                   0\n",
       "eod_close_pts              44\n",
       "eod_close_pct              44\n",
       "label                       0\n",
       "lod                         0\n",
       "label_lod                   0\n",
       "hod                         0\n",
       "day_open                    0\n",
       "day_open_pts                0\n",
       "day_open_pct                0\n",
       "prev_close_pts             44\n",
       "prev_close_pct             44\n",
       "day_5m_or_upper             0\n",
       "day_5m_or_lower             0\n",
       "open_range_upper_pts        0\n",
       "open_range_lower_pts        0\n",
       "open_range_upper_pct        0\n",
       "open_range_lower_pct        0\n",
       "lowest_low               4252\n",
       "lowest_low_mag           4252\n",
       "lowest_low_mag_n1        8504\n",
       "lowest_low_mag_n2       12756\n",
       "lowest_low_mag_n3       17008\n",
       "highest_high             4252\n",
       "highest_high_mag         4252\n",
       "highest_high_mag_n1      8504\n",
       "highest_high_mag_n2     12756\n",
       "highest_high_mag_n3     17008\n",
       "prev_close_pct_n1        4295\n",
       "prev_close_pct_n2        8546\n",
       "prev_close_pct_n3       12797\n",
       "day_open_pct_n1          4252\n",
       "day_open_pct_n2          8504\n",
       "day_open_pct_n3         12756\n",
       "open_slope                  0\n",
       "daily_slope                44\n",
       "highest_high_slope       4252\n",
       "lowest_low_slope         4252\n",
       "gap_open                   44\n",
       "gap_open_pct               44\n",
       "dtype: int64"
      ]
     },
     "execution_count": 72,
     "metadata": {},
     "output_type": "execute_result"
    }
   ],
   "source": [
    "spx_data.isnull().sum()"
   ]
  },
  {
   "cell_type": "code",
   "execution_count": null,
   "metadata": {},
   "outputs": [],
   "source": []
  },
  {
   "cell_type": "code",
   "execution_count": 73,
   "metadata": {},
   "outputs": [
    {
     "name": "stderr",
     "output_type": "stream",
     "text": [
      "330544it [00:09, 33467.45it/s]\n"
     ]
    }
   ],
   "source": [
    "hod_in = []\n",
    "for num, row in tqdm(spx_data.iterrows()):\n",
    "    if row['hod'] == row['high']:\n",
    "        hod_in.append(1)\n",
    "    else:\n",
    "        hod_in.append(np.nan)\n",
    "spx_data['hod_in'] = hod_in"
   ]
  },
  {
   "cell_type": "code",
   "execution_count": 74,
   "metadata": {},
   "outputs": [
    {
     "name": "stderr",
     "output_type": "stream",
     "text": [
      "330544it [00:09, 33651.86it/s]\n"
     ]
    }
   ],
   "source": [
    "lod_in = []\n",
    "for num, row in tqdm(spx_data.iterrows()):\n",
    "    if row['lod'] == row['low']:\n",
    "        lod_in.append(1)\n",
    "    else:\n",
    "        lod_in.append(np.nan)\n",
    "spx_data['lod_in'] = lod_in"
   ]
  },
  {
   "cell_type": "code",
   "execution_count": 75,
   "metadata": {},
   "outputs": [
    {
     "name": "stderr",
     "output_type": "stream",
     "text": [
      "100%|██████████| 4252/4252 [00:15<00:00, 279.71it/s]\n"
     ]
    }
   ],
   "source": [
    "# Per day, ffill for the 1s, and then fillna 0\n",
    "for day in tqdm(sorted(set(spx_data.index.date))):\n",
    "    day_str = datetime.datetime.strftime(day, '%Y-%m-%d')\n",
    "    spx_data.loc[day_str, 'lod_in'] = spx_data.loc[day_str, 'lod_in'].ffill()\n",
    "    spx_data.loc[day_str, 'lod_in'] = spx_data.loc[day_str, 'lod_in'].fillna(0)\n",
    "    spx_data.loc[day_str, 'hod_in'] = spx_data.loc[day_str, 'hod_in'].ffill()\n",
    "    spx_data.loc[day_str, 'hod_in'] = spx_data.loc[day_str, 'hod_in'].fillna(0)"
   ]
  },
  {
   "cell_type": "markdown",
   "metadata": {},
   "source": [
    "# EDA"
   ]
  },
  {
   "cell_type": "code",
   "execution_count": 76,
   "metadata": {},
   "outputs": [
    {
     "data": {
      "image/png": "[encoded data removed]",
      "text/plain": [
       "<Figure size 1100x900 with 2 Axes>"
      ]
     },
     "metadata": {},
     "output_type": "display_data"
    }
   ],
   "source": [
    "# Correlations with HOD\n",
    "import seaborn as sns\n",
    "import matplotlib.pyplot as plt\n",
    "\n",
    "# Compute the correlation matrix\n",
    "\n",
    "num_cols = spx_data.select_dtypes(include='number').columns\n",
    "\n",
    "corr = spx_data[num_cols].corr()\n",
    "\n",
    "# Generate a mask for the upper triangle\n",
    "mask = np.triu(np.ones_like(corr, dtype=bool))\n",
    "\n",
    "# Set up the matplotlib figure\n",
    "f, ax = plt.subplots(figsize=(11, 9))\n",
    "\n",
    "# Generate a custom diverging colormap\n",
    "cmap = sns.diverging_palette(230, 20, as_cmap=True)\n",
    "\n",
    "# Draw the heatmap with the mask and correct aspect ratio\n",
    "sns.heatmap(corr, mask=mask, cmap=cmap, vmax=.3, center=0,\n",
    "            square=True, linewidths=.5, cbar_kws={\"shrink\": .5})\n",
    "plt.title('Correlation Heatmap of SPX Data')\n",
    "plt.show()\n"
   ]
  },
  {
   "cell_type": "code",
   "execution_count": 77,
   "metadata": {},
   "outputs": [
    {
     "name": "stdout",
     "output_type": "stream",
     "text": [
      "count    330500.000000\n",
      "mean          0.000342\n",
      "std           0.008242\n",
      "min          -0.084446\n",
      "25%          -0.003150\n",
      "50%           0.000682\n",
      "75%           0.004204\n",
      "max           0.058855\n",
      "Name: gap_open_pct, dtype: float64\n"
     ]
    },
    {
     "data": {
      "image/png": "[encoded data removed]",
      "text/plain": [
       "<Figure size 640x480 with 1 Axes>"
      ]
     },
     "metadata": {},
     "output_type": "display_data"
    }
   ],
   "source": [
    "import matplotlib.pyplot as plt\n",
    "\n",
    "col = 'gap_open_pct'\n",
    "u = spx_data[col].quantile(0.005)\n",
    "l = spx_data[col].quantile(0.995)\n",
    "print(spx_data[col].describe())\n",
    "datav = spx_data[col].clip(lower=u, upper=l)\n",
    "\n",
    "# Group the data\n",
    "grouped = datav.groupby(spx_data['lod_in'])\n",
    "\n",
    "# Create a new figure\n",
    "plt.figure()\n",
    "\n",
    "# Loop over the groups and plot each one\n",
    "for name, group in grouped:\n",
    "    # Calculate weights for each data point\n",
    "    weights = np.ones_like(group)/float(len(group))\n",
    "\n",
    "    # Plot the histogram with weights\n",
    "    plt.hist(group, weights=weights, bins=30, alpha=0.5, label=str(name))\n",
    "\n",
    "# Set y-axis label\n",
    "plt.ylabel('Percentage')\n",
    "\n",
    "# Add a legend\n",
    "plt.legend(title='Label')\n",
    "\n",
    "# Show the plot\n",
    "plt.show()"
   ]
  },
  {
   "cell_type": "code",
   "execution_count": 78,
   "metadata": {},
   "outputs": [],
   "source": [
    "def get_top_probability(time, prev_close_pct):\n",
    "    '''\n",
    "    Function that returns the historical probability that the top is in, given a time of day and magnitude.\n",
    "    '''\n",
    "    # Filter the data for the given time and magnitude\n",
    "    relevant_data = spx_data[(spx_data['time'] == time) & (spx_data['prev_close_pct'] >= prev_close_pct)]\n",
    "    \n",
    "    # Calculate the probability\n",
    "    top_probability = relevant_data['hod_in'].mean()\n",
    "    # bot_probability = relevant_data['lod_in'].mean()\n",
    "    \n",
    "    return top_probability\n",
    "\n",
    "def get_low_probability(time, prev_close_pct):\n",
    "    '''\n",
    "    Function that returns the historical probability that the low is in, given a time of day and magnitude.\n",
    "    '''\n",
    "    # Filter the data for the given time and magnitude\n",
    "    relevant_data = spx_data[(spx_data['time'] == time) & (spx_data['prev_close_pct'] <= prev_close_pct)]\n",
    "    \n",
    "    # Calculate the probability\n",
    "    probability = relevant_data['lod_in'].mean()\n",
    "    \n",
    "    return probability"
   ]
  },
  {
   "cell_type": "code",
   "execution_count": 79,
   "metadata": {},
   "outputs": [
    {
     "data": {
      "text/plain": [
       "0.6738095238095239"
      ]
     },
     "execution_count": 79,
     "metadata": {},
     "output_type": "execute_result"
    }
   ],
   "source": [
    "time = datetime.time(15,0)\n",
    "prev_close_pct = -0.007\n",
    "# spx_data.loc[(spx_data['time'] == time) & (spx_data['prev_close_pct'] >= prev_close_pct)]\n",
    "get_top_probability(time, prev_close_pct)"
   ]
  },
  {
   "cell_type": "code",
   "execution_count": 80,
   "metadata": {},
   "outputs": [
    {
     "data": {
      "text/plain": [
       "0.5286549707602339"
      ]
     },
     "execution_count": 80,
     "metadata": {},
     "output_type": "execute_result"
    }
   ],
   "source": [
    "get_low_probability(time, prev_close_pct)"
   ]
  },
  {
   "cell_type": "code",
   "execution_count": 81,
   "metadata": {},
   "outputs": [
    {
     "data": {
      "text/html": [
       "<div>\n",
       "<style scoped>\n",
       "    .dataframe tbody tr th:only-of-type {\n",
       "        vertical-align: middle;\n",
       "    }\n",
       "\n",
       "    .dataframe tbody tr th {\n",
       "        vertical-align: top;\n",
       "    }\n",
       "\n",
       "    .dataframe thead th {\n",
       "        text-align: right;\n",
       "    }\n",
       "</style>\n",
       "<table border=\"1\" class=\"dataframe\">\n",
       "  <thead>\n",
       "    <tr style=\"text-align: right;\">\n",
       "      <th></th>\n",
       "      <th>time</th>\n",
       "      <th>hod_in</th>\n",
       "      <th>lod_in</th>\n",
       "      <th>gap_open_pct</th>\n",
       "      <th>open</th>\n",
       "    </tr>\n",
       "    <tr>\n",
       "      <th>Datetime</th>\n",
       "      <th></th>\n",
       "      <th></th>\n",
       "      <th></th>\n",
       "      <th></th>\n",
       "      <th></th>\n",
       "    </tr>\n",
       "  </thead>\n",
       "  <tbody>\n",
       "    <tr>\n",
       "      <th>2007-04-27 12:20:00</th>\n",
       "      <td>12:20:00</td>\n",
       "      <td>0.0</td>\n",
       "      <td>0.0</td>\n",
       "      <td>NaN</td>\n",
       "      <td>1887.90</td>\n",
       "    </tr>\n",
       "    <tr>\n",
       "      <th>2007-04-27 12:25:00</th>\n",
       "      <td>12:25:00</td>\n",
       "      <td>0.0</td>\n",
       "      <td>0.0</td>\n",
       "      <td>NaN</td>\n",
       "      <td>1887.72</td>\n",
       "    </tr>\n",
       "    <tr>\n",
       "      <th>2007-04-27 12:30:00</th>\n",
       "      <td>12:30:00</td>\n",
       "      <td>0.0</td>\n",
       "      <td>0.0</td>\n",
       "      <td>NaN</td>\n",
       "      <td>1887.77</td>\n",
       "    </tr>\n",
       "    <tr>\n",
       "      <th>2007-04-27 12:35:00</th>\n",
       "      <td>12:35:00</td>\n",
       "      <td>0.0</td>\n",
       "      <td>0.0</td>\n",
       "      <td>NaN</td>\n",
       "      <td>1888.09</td>\n",
       "    </tr>\n",
       "    <tr>\n",
       "      <th>2007-04-27 12:40:00</th>\n",
       "      <td>12:40:00</td>\n",
       "      <td>0.0</td>\n",
       "      <td>0.0</td>\n",
       "      <td>NaN</td>\n",
       "      <td>1888.26</td>\n",
       "    </tr>\n",
       "    <tr>\n",
       "      <th>...</th>\n",
       "      <td>...</td>\n",
       "      <td>...</td>\n",
       "      <td>...</td>\n",
       "      <td>...</td>\n",
       "      <td>...</td>\n",
       "    </tr>\n",
       "    <tr>\n",
       "      <th>2024-03-19 15:35:00</th>\n",
       "      <td>15:35:00</td>\n",
       "      <td>0.0</td>\n",
       "      <td>1.0</td>\n",
       "      <td>-0.004546</td>\n",
       "      <td>17986.28</td>\n",
       "    </tr>\n",
       "    <tr>\n",
       "      <th>2024-03-19 15:40:00</th>\n",
       "      <td>15:40:00</td>\n",
       "      <td>0.0</td>\n",
       "      <td>1.0</td>\n",
       "      <td>-0.004546</td>\n",
       "      <td>18007.41</td>\n",
       "    </tr>\n",
       "    <tr>\n",
       "      <th>2024-03-19 15:45:00</th>\n",
       "      <td>15:45:00</td>\n",
       "      <td>0.0</td>\n",
       "      <td>1.0</td>\n",
       "      <td>-0.004546</td>\n",
       "      <td>18004.46</td>\n",
       "    </tr>\n",
       "    <tr>\n",
       "      <th>2024-03-19 15:50:00</th>\n",
       "      <td>15:50:00</td>\n",
       "      <td>0.0</td>\n",
       "      <td>1.0</td>\n",
       "      <td>-0.004546</td>\n",
       "      <td>18032.89</td>\n",
       "    </tr>\n",
       "    <tr>\n",
       "      <th>2024-03-19 15:55:00</th>\n",
       "      <td>15:55:00</td>\n",
       "      <td>1.0</td>\n",
       "      <td>1.0</td>\n",
       "      <td>-0.004546</td>\n",
       "      <td>18035.18</td>\n",
       "    </tr>\n",
       "  </tbody>\n",
       "</table>\n",
       "<p>330544 rows × 5 columns</p>\n",
       "</div>"
      ],
      "text/plain": [
       "                         time  hod_in  lod_in  gap_open_pct      open\n",
       "Datetime                                                             \n",
       "2007-04-27 12:20:00  12:20:00     0.0     0.0           NaN   1887.90\n",
       "2007-04-27 12:25:00  12:25:00     0.0     0.0           NaN   1887.72\n",
       "2007-04-27 12:30:00  12:30:00     0.0     0.0           NaN   1887.77\n",
       "2007-04-27 12:35:00  12:35:00     0.0     0.0           NaN   1888.09\n",
       "2007-04-27 12:40:00  12:40:00     0.0     0.0           NaN   1888.26\n",
       "...                       ...     ...     ...           ...       ...\n",
       "2024-03-19 15:35:00  15:35:00     0.0     1.0     -0.004546  17986.28\n",
       "2024-03-19 15:40:00  15:40:00     0.0     1.0     -0.004546  18007.41\n",
       "2024-03-19 15:45:00  15:45:00     0.0     1.0     -0.004546  18004.46\n",
       "2024-03-19 15:50:00  15:50:00     0.0     1.0     -0.004546  18032.89\n",
       "2024-03-19 15:55:00  15:55:00     1.0     1.0     -0.004546  18035.18\n",
       "\n",
       "[330544 rows x 5 columns]"
      ]
     },
     "execution_count": 81,
     "metadata": {},
     "output_type": "execute_result"
    }
   ],
   "source": [
    "spx_data[['time','hod_in','lod_in','gap_open_pct','open']]"
   ]
  },
  {
   "cell_type": "code",
   "execution_count": 82,
   "metadata": {},
   "outputs": [
    {
     "data": {
      "text/plain": [
       "Index(['open', 'high', 'low', 'close', 'time', 'phase', 'bar_num', 'eod_close',\n",
       "       'prev_close', 'green_day', 'eod_close_pts', 'eod_close_pct', 'label',\n",
       "       'lod', 'label_lod', 'hod', 'day_open', 'day_open_pts', 'day_open_pct',\n",
       "       'prev_close_pts', 'prev_close_pct', 'day_5m_or_upper',\n",
       "       'day_5m_or_lower', 'open_range_upper_pts', 'open_range_lower_pts',\n",
       "       'open_range_upper_pct', 'open_range_lower_pct', 'lowest_low',\n",
       "       'lowest_low_mag', 'lowest_low_mag_n1', 'lowest_low_mag_n2',\n",
       "       'lowest_low_mag_n3', 'highest_high', 'highest_high_mag',\n",
       "       'highest_high_mag_n1', 'highest_high_mag_n2', 'highest_high_mag_n3',\n",
       "       'prev_close_pct_n1', 'prev_close_pct_n2', 'prev_close_pct_n3',\n",
       "       'day_open_pct_n1', 'day_open_pct_n2', 'day_open_pct_n3', 'open_slope',\n",
       "       'daily_slope', 'highest_high_slope', 'lowest_low_slope', 'gap_open',\n",
       "       'gap_open_pct', 'hod_in', 'lod_in'],\n",
       "      dtype='object')"
      ]
     },
     "execution_count": 82,
     "metadata": {},
     "output_type": "execute_result"
    }
   ],
   "source": [
    "spx_data.columns"
   ]
  },
  {
   "cell_type": "markdown",
   "metadata": {},
   "source": [
    "# Pipeline"
   ]
  },
  {
   "cell_type": "code",
   "execution_count": 83,
   "metadata": {},
   "outputs": [],
   "source": [
    "from sklearn.pipeline import Pipeline, make_pipeline\n",
    "from sklearn.compose import ColumnTransformer\n",
    "from sklearn.linear_model import LogisticRegression\n",
    "from sklearn.calibration import CalibratedClassifierCV\n",
    "from catboost import CatBoostClassifier\n",
    "import lightgbm as lgb\n",
    "from sklearn.preprocessing import FunctionTransformer, StandardScaler\n",
    "import datetime\n",
    "\n",
    "# Function to convert time string to seconds past midnight\n",
    "def convert_time_to_seconds(time_series):\n",
    "    return time_series.apply(lambda x: x.hour * 3600 + x.minute * 60 + x.second)\n",
    "\n",
    "def apply_convert_time_to_seconds(x):\n",
    "    return x.apply(convert_time_to_seconds)\n",
    "\n",
    "time_to_seconds = FunctionTransformer(apply_convert_time_to_seconds, validate=False)\n",
    "\n",
    "# Create a column transformer\n",
    "preprocessor = ColumnTransformer(\n",
    "    transformers=[\n",
    "        ('time', make_pipeline(time_to_seconds, StandardScaler()), ['time']),\n",
    "        ('phase', StandardScaler(), ['phase']),\n",
    "        ('prev_close_pct', StandardScaler(), ['prev_close_pct']),\n",
    "        ('prev_close_pct_n1', StandardScaler(), ['prev_close_pct_n1']),\n",
    "        ('prev_close_pct_n2', StandardScaler(), ['prev_close_pct_n2']),\n",
    "        ('prev_close_pct_n3', StandardScaler(), ['prev_close_pct_n3']),\n",
    "        ('day_open_pct', StandardScaler(), ['day_open_pct']),\n",
    "        ('day_open_pct_n1', StandardScaler(), ['day_open_pct_n1']),\n",
    "        ('day_open_pct_n2', StandardScaler(), ['day_open_pct_n2']),\n",
    "        ('day_open_pct_n3', StandardScaler(), ['day_open_pct_n3']),\n",
    "        ('gap_open_pct', StandardScaler(), ['gap_open_pct']),\n",
    "        ('highest_high_mag', StandardScaler(), ['highest_high_mag']),\n",
    "        # ('highest_high_mag_n1', StandardScaler(), ['highest_high_mag_n1']),\n",
    "        # ('highest_high_mag_n2', StandardScaler(), ['highest_high_mag_n2']),\n",
    "        # ('highest_high_mag_n3', StandardScaler(), ['highest_high_mag_n3']),\n",
    "        ('lowest_low_mag', StandardScaler(), ['lowest_low_mag']),\n",
    "        # ('lowest_low_mag_n1', StandardScaler(), ['lowest_low_mag_n1']),\n",
    "        # ('lowest_low_mag_n2', StandardScaler(), ['lowest_low_mag_n2']),\n",
    "        # ('lowest_low_mag_n3', StandardScaler(), ['lowest_low_mag_n3']),\n",
    "        ('open_slope', StandardScaler(), ['open_slope']),\n",
    "        ('daily_slope', StandardScaler(), ['daily_slope']),\n",
    "        ('highest_high_slope', StandardScaler(), ['highest_high_slope']),\n",
    "        ('lowest_low_slope', StandardScaler(), ['lowest_low_slope']),\n",
    "        ('open_range_upper_pct', StandardScaler(), ['open_range_upper_pct']),\n",
    "        ('open_range_lower_pct', StandardScaler(), ['open_range_lower_pct']),\n",
    "        # ('day_range_pct', StandardScaler(), ['day_range_pct']),\n",
    "        # ('day_range_pct_n1', StandardScaler(), ['day_range_pct_n1']),\n",
    "        # ('day_range_pct_n2', StandardScaler(), ['day_range_pct_n2']),\n",
    "        # ('day_range_pct_n3', StandardScaler(), ['day_range_pct_n3']),\n",
    "    ])\n",
    "\n",
    "# Create the pipeline\n",
    "pipeline = Pipeline(steps=[\n",
    "    ('preprocessor', preprocessor),\n",
    "    # ('classifier', LogisticRegression())\n",
    "    ('classifier', lgb.LGBMClassifier())\n",
    "    # ('classifier', CatBoostClassifier())\n",
    "    # ('classifier', xgb.XGBClassifier())\n",
    "])\n",
    "\n",
    "df_use = spx_data.dropna(subset=[\n",
    "    'prev_close_pct',\n",
    "    'gap_open_pct',\n",
    "    'day_open_pct_n3',\n",
    "    'prev_close_pct_n3'\n",
    "    ])\n",
    "\n",
    "# Train the model\n",
    "X = df_use[[\n",
    "    'time',\n",
    "    'phase',\n",
    "    'prev_close_pct',\n",
    "    'prev_close_pct_n1',\n",
    "    'prev_close_pct_n2',\n",
    "    'prev_close_pct_n3',\n",
    "    'day_open_pct',\n",
    "    'day_open_pct_n1',\n",
    "    'day_open_pct_n2',\n",
    "    'day_open_pct_n3',\n",
    "    'gap_open_pct',\n",
    "    'highest_high_mag',\n",
    "    # 'highest_high_mag_n1',\n",
    "    # 'highest_high_mag_n2',\n",
    "    # 'highest_high_mag_n3',\n",
    "    'lowest_low_mag',\n",
    "    # 'lowest_low_mag_n1',\n",
    "    # 'lowest_low_mag_n2',\n",
    "    # 'lowest_low_mag_n3',\n",
    "    'open_slope',\n",
    "    'daily_slope',\n",
    "    'highest_high_slope',\n",
    "    'lowest_low_slope',\n",
    "    'open_range_upper_pct',\n",
    "    'open_range_lower_pct',\n",
    "    # 'day_range_pct',\n",
    "    # 'day_range_pct_n1',\n",
    "    # 'day_range_pct_n2',\n",
    "    # 'day_range_pct_n3'\n",
    "]]\n",
    "y_flags = df_use[['lod_in','hod_in','green_day']]\n",
    "# pipeline.fit(X, y)"
   ]
  },
  {
   "cell_type": "code",
   "execution_count": 84,
   "metadata": {},
   "outputs": [
    {
     "data": {
      "text/plain": [
       "datetime.time(9, 45)"
      ]
     },
     "execution_count": 84,
     "metadata": {},
     "output_type": "execute_result"
    }
   ],
   "source": [
    "X['time'].min()"
   ]
  },
  {
   "cell_type": "code",
   "execution_count": 85,
   "metadata": {},
   "outputs": [],
   "source": [
    "from sklearn.base import clone\n",
    "\n",
    "pipeline_lod = clone(pipeline)\n",
    "pipeline_gd = clone(pipeline)"
   ]
  },
  {
   "cell_type": "markdown",
   "metadata": {},
   "source": [
    "# Data Splits"
   ]
  },
  {
   "cell_type": "code",
   "execution_count": 86,
   "metadata": {},
   "outputs": [],
   "source": [
    "\n",
    "date_idx = int(np.floor(len(X.index.date) * .90))\n",
    "date_idx_test = int(np.floor(len(X.index.date) * .95))\n",
    "cutoff_date_val = X.index.date[date_idx]\n",
    "cutoff_date_test = X.index.date[date_idx_test]\n",
    "# cutoff_date = '2023-05-31'\n",
    "\n",
    "X_train = X.loc[:cutoff_date_test]\n",
    "y_train = y_flags.loc[:cutoff_date_test]\n",
    "# X_val = X.loc[cutoff_date_val:cutoff_date_test]\n",
    "# y_val = y_flags.loc[cutoff_date_val:cutoff_date_test]\n",
    "X_test = X.loc[cutoff_date_test:]\n",
    "y_test = y_flags.loc[cutoff_date_test:]"
   ]
  },
  {
   "cell_type": "code",
   "execution_count": 87,
   "metadata": {},
   "outputs": [
    {
     "name": "stdout",
     "output_type": "stream",
     "text": [
      "2023-05-15\n"
     ]
    }
   ],
   "source": [
    "print(cutoff_date_test)"
   ]
  },
  {
   "cell_type": "code",
   "execution_count": 88,
   "metadata": {},
   "outputs": [
    {
     "data": {
      "text/plain": [
       "301833"
      ]
     },
     "execution_count": 88,
     "metadata": {},
     "output_type": "execute_result"
    }
   ],
   "source": [
    "len(y_train)"
   ]
  },
  {
   "cell_type": "code",
   "execution_count": 89,
   "metadata": {},
   "outputs": [
    {
     "data": {
      "text/plain": [
       "15914"
      ]
     },
     "execution_count": 89,
     "metadata": {},
     "output_type": "execute_result"
    }
   ],
   "source": [
    "len(y_test)"
   ]
  },
  {
   "cell_type": "code",
   "execution_count": 90,
   "metadata": {},
   "outputs": [
    {
     "data": {
      "text/plain": [
       "lod_in       0.645148\n",
       "hod_in       0.563285\n",
       "green_day    0.552869\n",
       "dtype: float64"
      ]
     },
     "execution_count": 90,
     "metadata": {},
     "output_type": "execute_result"
    }
   ],
   "source": [
    "y_train.mean()"
   ]
  },
  {
   "cell_type": "code",
   "execution_count": 91,
   "metadata": {},
   "outputs": [
    {
     "data": {
      "text/plain": [
       "lod_in       0.641134\n",
       "hod_in       0.578296\n",
       "green_day    0.573017\n",
       "dtype: float64"
      ]
     },
     "execution_count": 91,
     "metadata": {},
     "output_type": "execute_result"
    }
   ],
   "source": [
    "y_test.mean()"
   ]
  },
  {
   "cell_type": "code",
   "execution_count": 92,
   "metadata": {},
   "outputs": [
    {
     "data": {
      "text/plain": [
       "time                    0\n",
       "phase                   0\n",
       "prev_close_pct          0\n",
       "prev_close_pct_n1       0\n",
       "prev_close_pct_n2       0\n",
       "prev_close_pct_n3       0\n",
       "day_open_pct            0\n",
       "day_open_pct_n1         0\n",
       "day_open_pct_n2         0\n",
       "day_open_pct_n3         0\n",
       "gap_open_pct            0\n",
       "highest_high_mag        0\n",
       "lowest_low_mag          0\n",
       "open_slope              0\n",
       "daily_slope             0\n",
       "highest_high_slope      0\n",
       "lowest_low_slope        0\n",
       "open_range_upper_pct    0\n",
       "open_range_lower_pct    0\n",
       "dtype: int64"
      ]
     },
     "execution_count": 92,
     "metadata": {},
     "output_type": "execute_result"
    }
   ],
   "source": [
    "X.isnull().sum()"
   ]
  },
  {
   "cell_type": "code",
   "execution_count": 93,
   "metadata": {},
   "outputs": [
    {
     "data": {
      "text/plain": [
       "time                     object\n",
       "phase                     int64\n",
       "prev_close_pct          float64\n",
       "prev_close_pct_n1       float64\n",
       "prev_close_pct_n2       float64\n",
       "prev_close_pct_n3       float64\n",
       "day_open_pct            float64\n",
       "day_open_pct_n1         float64\n",
       "day_open_pct_n2         float64\n",
       "day_open_pct_n3         float64\n",
       "gap_open_pct            float64\n",
       "highest_high_mag        float64\n",
       "lowest_low_mag          float64\n",
       "open_slope              float64\n",
       "daily_slope             float64\n",
       "highest_high_slope      float64\n",
       "lowest_low_slope        float64\n",
       "open_range_upper_pct    float64\n",
       "open_range_lower_pct    float64\n",
       "dtype: object"
      ]
     },
     "execution_count": 93,
     "metadata": {},
     "output_type": "execute_result"
    }
   ],
   "source": [
    "X.dtypes"
   ]
  },
  {
   "cell_type": "code",
   "execution_count": 94,
   "metadata": {},
   "outputs": [
    {
     "name": "stdout",
     "output_type": "stream",
     "text": [
      "[LightGBM] [Info] Number of positive: 170018, number of negative: 131815\n",
      "[LightGBM] [Info] Auto-choosing col-wise multi-threading, the overhead of testing was 0.008533 seconds.\n",
      "You can set `force_col_wise=true` to remove the overhead.\n",
      "[LightGBM] [Info] Total Bins 4416\n",
      "[LightGBM] [Info] Number of data points in the train set: 301833, number of used features: 19\n",
      "[LightGBM] [Info] [binary:BoostFromScore]: pavg=0.563285 -> initscore=0.254505\n",
      "[LightGBM] [Info] Start training from score 0.254505\n",
      "[LightGBM] [Info] Number of positive: 194727, number of negative: 107106\n",
      "[LightGBM] [Info] Auto-choosing row-wise multi-threading, the overhead of testing was 0.001897 seconds.\n",
      "You can set `force_row_wise=true` to remove the overhead.\n",
      "And if memory is not enough, you can set `force_col_wise=true`.\n",
      "[LightGBM] [Info] Total Bins 4416\n",
      "[LightGBM] [Info] Number of data points in the train set: 301833, number of used features: 19\n",
      "[LightGBM] [Info] [binary:BoostFromScore]: pavg=0.645148 -> initscore=0.597780\n",
      "[LightGBM] [Info] Start training from score 0.597780\n",
      "[LightGBM] [Info] Number of positive: 166874, number of negative: 134959\n",
      "[LightGBM] [Info] Auto-choosing col-wise multi-threading, the overhead of testing was 0.008442 seconds.\n",
      "You can set `force_col_wise=true` to remove the overhead.\n",
      "[LightGBM] [Info] Total Bins 4416\n",
      "[LightGBM] [Info] Number of data points in the train set: 301833, number of used features: 19\n",
      "[LightGBM] [Info] [binary:BoostFromScore]: pavg=0.552869 -> initscore=0.212268\n",
      "[LightGBM] [Info] Start training from score 0.212268\n",
      "[LightGBM] [Info] Number of positive: 28631, number of negative: 21677\n",
      "[LightGBM] [Info] Auto-choosing col-wise multi-threading, the overhead of testing was 0.001611 seconds.\n",
      "You can set `force_col_wise=true` to remove the overhead.\n",
      "[LightGBM] [Info] Total Bins 4416\n",
      "[LightGBM] [Info] Number of data points in the train set: 50308, number of used features: 19\n",
      "[LightGBM] [Info] [binary:BoostFromScore]: pavg=0.569114 -> initscore=0.278238\n",
      "[LightGBM] [Info] Start training from score 0.278238\n",
      "[LightGBM] [Info] Number of positive: 56527, number of negative: 44086\n",
      "[LightGBM] [Info] Auto-choosing row-wise multi-threading, the overhead of testing was 0.000763 seconds.\n",
      "You can set `force_row_wise=true` to remove the overhead.\n",
      "And if memory is not enough, you can set `force_col_wise=true`.\n",
      "[LightGBM] [Info] Total Bins 4416\n",
      "[LightGBM] [Info] Number of data points in the train set: 100613, number of used features: 19\n",
      "[LightGBM] [Info] [binary:BoostFromScore]: pavg=0.561826 -> initscore=0.248576\n",
      "[LightGBM] [Info] Start training from score 0.248576\n",
      "[LightGBM] [Info] Number of positive: 85708, number of negative: 65210\n",
      "[LightGBM] [Info] Auto-choosing col-wise multi-threading, the overhead of testing was 0.003340 seconds.\n",
      "You can set `force_col_wise=true` to remove the overhead.\n",
      "[LightGBM] [Info] Total Bins 4416\n",
      "[LightGBM] [Info] Number of data points in the train set: 150918, number of used features: 19\n",
      "[LightGBM] [Info] [binary:BoostFromScore]: pavg=0.567911 -> initscore=0.273333\n",
      "[LightGBM] [Info] Start training from score 0.273333\n",
      "[LightGBM] [Info] Number of positive: 114879, number of negative: 86344\n",
      "[LightGBM] [Info] Auto-choosing col-wise multi-threading, the overhead of testing was 0.004976 seconds.\n",
      "You can set `force_col_wise=true` to remove the overhead.\n",
      "[LightGBM] [Info] Total Bins 4416\n",
      "[LightGBM] [Info] Number of data points in the train set: 201223, number of used features: 19\n",
      "[LightGBM] [Info] [binary:BoostFromScore]: pavg=0.570904 -> initscore=0.285540\n",
      "[LightGBM] [Info] Start training from score 0.285540\n",
      "[LightGBM] [Info] Number of positive: 141978, number of negative: 109550\n",
      "[LightGBM] [Info] Auto-choosing col-wise multi-threading, the overhead of testing was 0.007397 seconds.\n",
      "You can set `force_col_wise=true` to remove the overhead.\n",
      "[LightGBM] [Info] Total Bins 4416\n",
      "[LightGBM] [Info] Number of data points in the train set: 251528, number of used features: 19\n",
      "[LightGBM] [Info] [binary:BoostFromScore]: pavg=0.564462 -> initscore=0.259291\n",
      "[LightGBM] [Info] Start training from score 0.259291\n",
      "[LightGBM] [Info] Number of positive: 30285, number of negative: 20023\n",
      "[LightGBM] [Info] Auto-choosing col-wise multi-threading, the overhead of testing was 0.001603 seconds.\n",
      "You can set `force_col_wise=true` to remove the overhead.\n",
      "[LightGBM] [Info] Total Bins 4416\n",
      "[LightGBM] [Info] Number of data points in the train set: 50308, number of used features: 19\n",
      "[LightGBM] [Info] [binary:BoostFromScore]: pavg=0.601992 -> initscore=0.413771\n",
      "[LightGBM] [Info] Start training from score 0.413771\n",
      "[LightGBM] [Info] Number of positive: 63132, number of negative: 37481\n",
      "[LightGBM] [Info] Auto-choosing col-wise multi-threading, the overhead of testing was 0.002850 seconds.\n",
      "You can set `force_col_wise=true` to remove the overhead.\n",
      "[LightGBM] [Info] Total Bins 4416\n",
      "[LightGBM] [Info] Number of data points in the train set: 100613, number of used features: 19\n",
      "[LightGBM] [Info] [binary:BoostFromScore]: pavg=0.627474 -> initscore=0.521394\n",
      "[LightGBM] [Info] Start training from score 0.521394\n",
      "[LightGBM] [Info] Number of positive: 96766, number of negative: 54152\n",
      "[LightGBM] [Info] Auto-choosing row-wise multi-threading, the overhead of testing was 0.001018 seconds.\n",
      "You can set `force_row_wise=true` to remove the overhead.\n",
      "And if memory is not enough, you can set `force_col_wise=true`.\n",
      "[LightGBM] [Info] Total Bins 4416\n",
      "[LightGBM] [Info] Number of data points in the train set: 150918, number of used features: 19\n",
      "[LightGBM] [Info] [binary:BoostFromScore]: pavg=0.641183 -> initscore=0.580501\n",
      "[LightGBM] [Info] Start training from score 0.580501\n",
      "[LightGBM] [Info] Number of positive: 130489, number of negative: 70734\n",
      "[LightGBM] [Info] Auto-choosing row-wise multi-threading, the overhead of testing was 0.001272 seconds.\n",
      "You can set `force_row_wise=true` to remove the overhead.\n",
      "And if memory is not enough, you can set `force_col_wise=true`.\n",
      "[LightGBM] [Info] Total Bins 4416\n",
      "[LightGBM] [Info] Number of data points in the train set: 201223, number of used features: 19\n",
      "[LightGBM] [Info] [binary:BoostFromScore]: pavg=0.648480 -> initscore=0.612363\n",
      "[LightGBM] [Info] Start training from score 0.612363\n",
      "[LightGBM] [Info] Number of positive: 163125, number of negative: 88403\n",
      "[LightGBM] [Info] Auto-choosing row-wise multi-threading, the overhead of testing was 0.001584 seconds.\n",
      "You can set `force_row_wise=true` to remove the overhead.\n",
      "And if memory is not enough, you can set `force_col_wise=true`.\n",
      "[LightGBM] [Info] Total Bins 4416\n",
      "[LightGBM] [Info] Number of data points in the train set: 251528, number of used features: 19\n",
      "[LightGBM] [Info] [binary:BoostFromScore]: pavg=0.648536 -> initscore=0.612611\n",
      "[LightGBM] [Info] Start training from score 0.612611\n",
      "[LightGBM] [Info] Number of positive: 27212, number of negative: 23096\n",
      "[LightGBM] [Info] Auto-choosing col-wise multi-threading, the overhead of testing was 0.001500 seconds.\n",
      "You can set `force_col_wise=true` to remove the overhead.\n",
      "[LightGBM] [Info] Total Bins 4416\n",
      "[LightGBM] [Info] Number of data points in the train set: 50308, number of used features: 19\n",
      "[LightGBM] [Info] [binary:BoostFromScore]: pavg=0.540908 -> initscore=0.163999\n",
      "[LightGBM] [Info] Start training from score 0.163999\n",
      "[LightGBM] [Info] Number of positive: 55225, number of negative: 45388\n",
      "[LightGBM] [Info] Auto-choosing col-wise multi-threading, the overhead of testing was 0.003373 seconds.\n",
      "You can set `force_col_wise=true` to remove the overhead.\n",
      "[LightGBM] [Info] Total Bins 4416\n",
      "[LightGBM] [Info] Number of data points in the train set: 100613, number of used features: 19\n",
      "[LightGBM] [Info] [binary:BoostFromScore]: pavg=0.548885 -> initscore=0.196168\n",
      "[LightGBM] [Info] Start training from score 0.196168\n",
      "[LightGBM] [Info] Number of positive: 82986, number of negative: 67932\n",
      "[LightGBM] [Info] Auto-choosing col-wise multi-threading, the overhead of testing was 0.004514 seconds.\n",
      "You can set `force_col_wise=true` to remove the overhead.\n",
      "[LightGBM] [Info] Total Bins 4416\n",
      "[LightGBM] [Info] Number of data points in the train set: 150918, number of used features: 19\n",
      "[LightGBM] [Info] [binary:BoostFromScore]: pavg=0.549875 -> initscore=0.200165\n",
      "[LightGBM] [Info] Start training from score 0.200165\n",
      "[LightGBM] [Info] Number of positive: 111003, number of negative: 90220\n",
      "[LightGBM] [Info] Auto-choosing col-wise multi-threading, the overhead of testing was 0.006347 seconds.\n",
      "You can set `force_col_wise=true` to remove the overhead.\n",
      "[LightGBM] [Info] Total Bins 4416\n",
      "[LightGBM] [Info] Number of data points in the train set: 201223, number of used features: 19\n",
      "[LightGBM] [Info] [binary:BoostFromScore]: pavg=0.551642 -> initscore=0.207306\n",
      "[LightGBM] [Info] Start training from score 0.207306\n",
      "[LightGBM] [Info] Number of positive: 140461, number of negative: 111067\n",
      "[LightGBM] [Info] Auto-choosing col-wise multi-threading, the overhead of testing was 0.008117 seconds.\n",
      "You can set `force_col_wise=true` to remove the overhead.\n",
      "[LightGBM] [Info] Total Bins 4416\n",
      "[LightGBM] [Info] Number of data points in the train set: 251528, number of used features: 19\n",
      "[LightGBM] [Info] [binary:BoostFromScore]: pavg=0.558431 -> initscore=0.234796\n",
      "[LightGBM] [Info] Start training from score 0.234796\n"
     ]
    },
    {
     "data": {
      "text/plain": [
       "['models/gd_model_cv_ndx.joblib']"
      ]
     },
     "execution_count": 94,
     "metadata": {},
     "output_type": "execute_result"
    }
   ],
   "source": [
    "import joblib\n",
    "from sklearn.calibration import CalibratedClassifierCV\n",
    "from sklearn.model_selection import TimeSeriesSplit\n",
    "\n",
    "hod_model = pipeline.fit(X_train, y_train['hod_in'])\n",
    "lod_model = pipeline_lod.fit(X_train, y_train['lod_in'])\n",
    "gd_model = pipeline_gd.fit(X_train, y_train['green_day'])\n",
    "\n",
    "calibrator_hod = CalibratedClassifierCV(hod_model, cv=TimeSeriesSplit(n_splits=5))\n",
    "calibrator_lod = CalibratedClassifierCV(lod_model, cv=TimeSeriesSplit(n_splits=5))\n",
    "calibrator_gd = CalibratedClassifierCV(gd_model, cv=TimeSeriesSplit(n_splits=5))\n",
    "\n",
    "hod_model_cv = calibrator_hod.fit(X_train, y_train['hod_in'])\n",
    "lod_model_cv = calibrator_lod.fit(X_train, y_train['lod_in'])\n",
    "gd_model_cv = calibrator_gd.fit(X_train, y_train['green_day'])\n",
    "\n",
    "# Save models\n",
    "joblib.dump(hod_model, ticker_dict[tck][\"hod_model\"])\n",
    "joblib.dump(lod_model, ticker_dict[tck][\"lod_model\"])\n",
    "joblib.dump(gd_model, ticker_dict[tck][\"gd_model\"])\n",
    "\n",
    "joblib.dump(hod_model_cv, ticker_dict[tck][\"hod_model_cv\"])\n",
    "joblib.dump(lod_model_cv, ticker_dict[tck][\"lod_model_cv\"])\n",
    "joblib.dump(gd_model_cv, ticker_dict[tck][\"gd_model_cv\"])"
   ]
  },
  {
   "cell_type": "markdown",
   "metadata": {},
   "source": [
    "# Performance"
   ]
  },
  {
   "cell_type": "code",
   "execution_count": 95,
   "metadata": {},
   "outputs": [
    {
     "data": {
      "image/png": "[encoded data removed]",
      "text/plain": [
       "<Figure size 2000x1000 with 1 Axes>"
      ]
     },
     "metadata": {},
     "output_type": "display_data"
    }
   ],
   "source": [
    "import mlflow\n",
    "import matplotlib.pyplot as plt\n",
    "\n",
    "booster = hod_model.named_steps['classifier'].booster_\n",
    "importance_gain = booster.feature_importance(importance_type='gain')\n",
    "feature_imp = pd.DataFrame(sorted(zip(importance_gain, X.columns)), columns=['Value','Feature'])\n",
    "feature_imp = feature_imp.sort_values(by=\"Value\", ascending=True)\n",
    "\n",
    "plt.figure(figsize=(20, 10))\n",
    "plt.barh(feature_imp['Feature'], feature_imp['Value'])\n",
    "plt.title('HOD Model Features (avg over folds)')\n",
    "plt.xlabel('Value')\n",
    "plt.ylabel('Feature')\n",
    "plt.tight_layout()\n",
    "plt.show()\n"
   ]
  },
  {
   "cell_type": "code",
   "execution_count": 96,
   "metadata": {},
   "outputs": [
    {
     "data": {
      "image/png": "[encoded data removed]",
      "text/plain": [
       "<Figure size 2000x1000 with 1 Axes>"
      ]
     },
     "metadata": {},
     "output_type": "display_data"
    }
   ],
   "source": [
    "booster = gd_model.named_steps['classifier'].booster_\n",
    "importance_gain = booster.feature_importance(importance_type='gain')\n",
    "feature_imp = pd.DataFrame(sorted(zip(importance_gain, X.columns)), columns=['Value','Feature'])\n",
    "feature_imp = feature_imp.sort_values(by=\"Value\", ascending=True)\n",
    "\n",
    "plt.figure(figsize=(20, 10))\n",
    "plt.barh(feature_imp['Feature'], feature_imp['Value'])\n",
    "plt.title('GD Model Features (avg over folds)')\n",
    "plt.xlabel('Value')\n",
    "plt.ylabel('Feature')\n",
    "plt.tight_layout()\n",
    "plt.show()\n"
   ]
  },
  {
   "cell_type": "code",
   "execution_count": 97,
   "metadata": {},
   "outputs": [
    {
     "data": {
      "image/png": "[encoded data removed]",
      "text/plain": [
       "<Figure size 2000x1000 with 1 Axes>"
      ]
     },
     "metadata": {},
     "output_type": "display_data"
    }
   ],
   "source": [
    "booster = lod_model.named_steps['classifier'].booster_\n",
    "importance_gain = booster.feature_importance(importance_type='gain')\n",
    "feature_imp = pd.DataFrame(sorted(zip(importance_gain, X.columns)), columns=['Value','Feature'])\n",
    "feature_imp = feature_imp.sort_values(by=\"Value\", ascending=True)\n",
    "\n",
    "plt.figure(figsize=(20, 10))\n",
    "plt.barh(feature_imp['Feature'], feature_imp['Value'])\n",
    "plt.title('LOD Model Features (avg over folds)')\n",
    "plt.xlabel('Value')\n",
    "plt.ylabel('Feature')\n",
    "plt.tight_layout()\n",
    "plt.show()\n"
   ]
  },
  {
   "cell_type": "markdown",
   "metadata": {},
   "source": [
    "### Train/Test"
   ]
  },
  {
   "cell_type": "code",
   "execution_count": 98,
   "metadata": {},
   "outputs": [
    {
     "name": "stdout",
     "output_type": "stream",
     "text": [
      "ROC AUC Score: 0.8874468350610243\n",
      "Precision Score: 0.8586879011171856\n",
      "Recall Score: 0.7850700858415735\n",
      "Brier Score: 0.1367829109985802\n",
      "done.\n"
     ]
    }
   ],
   "source": [
    "from sklearn.metrics import roc_auc_score, precision_score, recall_score, brier_score_loss\n",
    "import mlflow\n",
    "\n",
    "# Metrics for HOD model\n",
    "y_pred_hod = hod_model.predict_proba(X_test)[:,-1]\n",
    "\n",
    "roc_auc_hod = roc_auc_score(y_test['hod_in'], y_pred_hod)\n",
    "precision_hod = precision_score(y_test['hod_in'], y_pred_hod > 0.5)\n",
    "recall_hod = recall_score(y_test['hod_in'], y_pred_hod > 0.5)\n",
    "brier_score_hod = brier_score_loss(y_test['hod_in'], y_pred_hod)\n",
    "\n",
    "print(f\"ROC AUC Score: {roc_auc_hod}\")\n",
    "print(f\"Precision Score: {precision_hod}\")\n",
    "print(f\"Recall Score: {recall_hod}\")\n",
    "print(f\"Brier Score: {brier_score_hod}\")\n",
    "\n",
    "train_start = X_train.index.date.min()\n",
    "train_end = X_train.index.date.max()\n",
    "test_start = X_test.index.date.min()\n",
    "test_end = X_test.index.date.max()\n",
    "train_size = len(X_train)\n",
    "test_size = len(X_test)\n",
    "\n",
    "# Start a new MLFlow run\n",
    "with mlflow.start_run():\n",
    "\n",
    "    ts = datetime.datetime.now()\n",
    "\n",
    "    mlflow.set_tag(f\"mlflow.runName\", f\"{tck} HOD Model {ts.hour:02}:{ts.minute:02}:{ts.second:02}\")\n",
    "\n",
    "    # Log the model\n",
    "    mlflow.log_param(\"model\", str(hod_model.named_steps))\n",
    "\n",
    "    # Log the features\n",
    "    mlflow.log_param(\"features\", hod_model.feature_names_in_)\n",
    "    mlflow.log_param(\"train_date_range\", f\"{train_start} to {train_end}\")\n",
    "    mlflow.log_param(\"test_date_range\", f\"{test_start} to {test_end}\")\n",
    "    mlflow.log_param(\"train_size\", train_size)\n",
    "    mlflow.log_param(\"test_size\", test_size)\n",
    "\n",
    "    # Assume y_test and y_pred are your test labels and model predictions\n",
    "    # Calculate scores\n",
    "\n",
    "    # Log the scores\n",
    "    mlflow.log_metric(\"roc_auc\", roc_auc_hod)\n",
    "    mlflow.log_metric(\"precision\", precision_hod)\n",
    "    mlflow.log_metric(\"recall\", recall_hod)\n",
    "    mlflow.log_metric(\"brier_score\", brier_score_hod)\n",
    "\n",
    "    # Log the timestamp\n",
    "    mlflow.log_param(\"created_at\", ts)\n",
    "\n",
    "print('done.')"
   ]
  },
  {
   "cell_type": "code",
   "execution_count": 99,
   "metadata": {},
   "outputs": [
    {
     "name": "stdout",
     "output_type": "stream",
     "text": [
      "ROC AUC Score: 0.8700150128713503\n",
      "Precision Score: 0.8275796661608498\n",
      "Recall Score: 0.8552386552974616\n",
      "Brier Score: 0.14023419516679653\n",
      "done.\n"
     ]
    }
   ],
   "source": [
    "from sklearn.metrics import roc_auc_score, precision_score, recall_score\n",
    "import mlflow\n",
    "\n",
    "# Metrics for HOD model\n",
    "y_pred_lod = lod_model.predict_proba(X_test)[:,-1]\n",
    "roc_auc_lod = roc_auc_score(y_test['lod_in'], y_pred_lod)\n",
    "precision_lod = precision_score(y_test['lod_in'], y_pred_lod > 0.5)\n",
    "recall_lod = recall_score(y_test['lod_in'], y_pred_lod > 0.5)\n",
    "brier_score_lod = brier_score_loss(y_test['lod_in'], y_pred_lod)\n",
    "\n",
    "\n",
    "print(f\"ROC AUC Score: {roc_auc_lod}\")\n",
    "print(f\"Precision Score: {precision_lod}\")\n",
    "print(f\"Recall Score: {recall_lod}\")\n",
    "print(f\"Brier Score: {brier_score_lod}\")\n",
    "\n",
    "train_start = X_train.index.date.min()\n",
    "train_end = X_train.index.date.max()\n",
    "test_start = X_test.index.date.min()\n",
    "test_end = X_test.index.date.max()\n",
    "train_size = len(X_train)\n",
    "test_size = len(X_test)\n",
    "\n",
    "# Start a new MLFlow run\n",
    "with mlflow.start_run():\n",
    "\n",
    "    ts = datetime.datetime.now()\n",
    "\n",
    "    mlflow.set_tag(f\"mlflow.runName\", f\"{tck} LOD Model {ts.hour:02}:{ts.minute:02}:{ts.second:02}\")\n",
    "\n",
    "    # Log the model\n",
    "    mlflow.log_param(\"model\", str(lod_model.named_steps))\n",
    "\n",
    "    # Log the features\n",
    "    mlflow.log_param(\"features\", lod_model.feature_names_in_)\n",
    "    mlflow.log_param(\"train_date_range\", f\"{train_start} to {train_end}\")\n",
    "    mlflow.log_param(\"test_date_range\", f\"{test_start} to {test_end}\")\n",
    "    mlflow.log_param(\"train_size\", train_size)\n",
    "    mlflow.log_param(\"test_size\", test_size)\n",
    "\n",
    "    # Assume y_test and y_pred are your test labels and model predictions\n",
    "    # Calculate scores\n",
    "\n",
    "    # Log the scores\n",
    "    mlflow.log_metric(\"roc_auc\", roc_auc_lod)\n",
    "    mlflow.log_metric(\"precision\", precision_lod)\n",
    "    mlflow.log_metric(\"recall\", recall_lod)\n",
    "    mlflow.log_metric(\"brier_score\", brier_score_lod)\n",
    "\n",
    "\n",
    "    # Log the timestamp\n",
    "    mlflow.log_param(\"created_at\", ts)\n",
    "\n",
    "print('done.')"
   ]
  },
  {
   "cell_type": "code",
   "execution_count": 100,
   "metadata": {},
   "outputs": [
    {
     "name": "stdout",
     "output_type": "stream",
     "text": [
      "ROC AUC Score: 0.934056677302749\n",
      "Precision Score: 0.8580266331131383\n",
      "Recall Score: 0.8973571663559601\n",
      "Brier Score: 0.10129198784586864\n",
      "done.\n"
     ]
    }
   ],
   "source": [
    "from sklearn.metrics import roc_auc_score, precision_score, recall_score\n",
    "import mlflow\n",
    "\n",
    "# Metrics for HOD model\n",
    "y_pred_gd = gd_model.predict_proba(X_test)[:,-1]\n",
    "\n",
    "roc_auc_gd = roc_auc_score(y_test['green_day'], y_pred_gd)\n",
    "precision_gd = precision_score(y_test['green_day'], y_pred_gd > 0.5)\n",
    "recall_gd = recall_score(y_test['green_day'], y_pred_gd > 0.5)\n",
    "brier_score_gd = brier_score_loss(y_test['green_day'], y_pred_gd)\n",
    "\n",
    "print(f\"ROC AUC Score: {roc_auc_gd}\")\n",
    "print(f\"Precision Score: {precision_gd}\")\n",
    "print(f\"Recall Score: {recall_gd}\")\n",
    "print(f\"Brier Score: {brier_score_gd}\")\n",
    "\n",
    "train_start = X_train.index.date.min()\n",
    "train_end = X_train.index.date.max()\n",
    "test_start = X_test.index.date.min()\n",
    "test_end = X_test.index.date.max()\n",
    "train_size = len(X_train)\n",
    "test_size = len(X_test)\n",
    "\n",
    "# Start a new MLFlow run\n",
    "with mlflow.start_run():\n",
    "\n",
    "    ts = datetime.datetime.now()\n",
    "\n",
    "    mlflow.set_tag(f\"mlflow.runName\", f\"{tck} GD Model {ts.hour:02}:{ts.minute:02}:{ts.second:02}\")\n",
    "\n",
    "    # Log the model\n",
    "    mlflow.log_param(\"model\", str(gd_model.named_steps))\n",
    "\n",
    "    # Log the features\n",
    "    mlflow.log_param(\"features\", gd_model.feature_names_in_)\n",
    "    mlflow.log_param(\"train_date_range\", f\"{train_start} to {train_end}\")\n",
    "    mlflow.log_param(\"test_date_range\", f\"{test_start} to {test_end}\")\n",
    "    mlflow.log_param(\"train_size\", train_size)\n",
    "    mlflow.log_param(\"test_size\", test_size)\n",
    "\n",
    "    # Assume y_test and y_pred are your test labels and model predictions\n",
    "    # Calculate scores\n",
    "\n",
    "    # Log the scores\n",
    "    mlflow.log_metric(\"roc_auc\", roc_auc_gd)\n",
    "    mlflow.log_metric(\"precision\", precision_gd)\n",
    "    mlflow.log_metric(\"recall\", recall_gd)\n",
    "    mlflow.log_metric(\"brier_score\", brier_score_gd)\n",
    "\n",
    "    # Log the timestamp\n",
    "    mlflow.log_param(\"created_at\", ts)\n",
    "\n",
    "print('done.')"
   ]
  },
  {
   "cell_type": "markdown",
   "metadata": {},
   "source": [
    "### CV"
   ]
  },
  {
   "cell_type": "code",
   "execution_count": 101,
   "metadata": {},
   "outputs": [
    {
     "name": "stdout",
     "output_type": "stream",
     "text": [
      "ROC AUC Score: 0.8878734693112922\n",
      "Precision Score: 0.8297917778964229\n",
      "Recall Score: 0.8443985656851026\n",
      "Brier Score: 0.13513633254543803\n",
      "done.\n"
     ]
    }
   ],
   "source": [
    "from sklearn.metrics import roc_auc_score, precision_score, recall_score, brier_score_loss\n",
    "import mlflow\n",
    "\n",
    "# Metrics for HOD model\n",
    "y_pred_hod_cv = hod_model_cv.predict_proba(X_test)[:,-1]\n",
    "\n",
    "roc_auc_hod = roc_auc_score(y_test['hod_in'], y_pred_hod_cv)\n",
    "precision_hod = precision_score(y_test['hod_in'], y_pred_hod_cv > 0.5)\n",
    "recall_hod = recall_score(y_test['hod_in'], y_pred_hod_cv > 0.5)\n",
    "brier_score_hod = brier_score_loss(y_test['hod_in'], y_pred_hod_cv)\n",
    "\n",
    "print(f\"ROC AUC Score: {roc_auc_hod}\")\n",
    "print(f\"Precision Score: {precision_hod}\")\n",
    "print(f\"Recall Score: {recall_hod}\")\n",
    "print(f\"Brier Score: {brier_score_hod}\")\n",
    "\n",
    "train_start = X_train.index.date.min()\n",
    "train_end = X_train.index.date.max()\n",
    "test_start = X_test.index.date.min()\n",
    "test_end = X_test.index.date.max()\n",
    "train_size = len(X_train)\n",
    "test_size = len(X_test)\n",
    "\n",
    "# Start a new MLFlow run\n",
    "with mlflow.start_run():\n",
    "\n",
    "    ts = datetime.datetime.now()\n",
    "\n",
    "    mlflow.set_tag(f\"mlflow.runName\", f\"{tck} HOD Model CV {ts.hour:02}:{ts.minute:02}:{ts.second:02}\")\n",
    "\n",
    "    # Log the model\n",
    "    mlflow.log_param(\"model\", str(hod_model.named_steps))\n",
    "\n",
    "    # Log the features\n",
    "    mlflow.log_param(\"features\", hod_model.feature_names_in_)\n",
    "    mlflow.log_param(\"train_date_range\", f\"{train_start} to {train_end}\")\n",
    "    mlflow.log_param(\"test_date_range\", f\"{test_start} to {test_end}\")\n",
    "    mlflow.log_param(\"train_size\", train_size)\n",
    "    mlflow.log_param(\"test_size\", test_size)\n",
    "\n",
    "    # Assume y_test and y_pred are your test labels and model predictions\n",
    "    # Calculate scores\n",
    "\n",
    "    # Log the scores\n",
    "    mlflow.log_metric(\"roc_auc\", roc_auc_hod)\n",
    "    mlflow.log_metric(\"precision\", precision_hod)\n",
    "    mlflow.log_metric(\"recall\", recall_hod)\n",
    "    mlflow.log_metric(\"brier_score\", brier_score_hod)\n",
    "\n",
    "    # Log the timestamp\n",
    "    mlflow.log_param(\"created_at\", ts)\n",
    "\n",
    "print('done.')"
   ]
  },
  {
   "cell_type": "code",
   "execution_count": 102,
   "metadata": {},
   "outputs": [
    {
     "name": "stdout",
     "output_type": "stream",
     "text": [
      "ROC AUC Score: 0.8673969204349739\n",
      "Precision Score: 0.811377245508982\n",
      "Recall Score: 0.8765069097324316\n",
      "Brier Score: 0.1427001683136164\n",
      "done.\n"
     ]
    }
   ],
   "source": [
    "from sklearn.metrics import roc_auc_score, precision_score, recall_score\n",
    "import mlflow\n",
    "\n",
    "# Metrics for HOD model\n",
    "y_pred_lod_cv = lod_model_cv.predict_proba(X_test)[:,-1]\n",
    "roc_auc_lod = roc_auc_score(y_test['lod_in'], y_pred_lod_cv)\n",
    "precision_lod = precision_score(y_test['lod_in'], y_pred_lod_cv > 0.5)\n",
    "recall_lod = recall_score(y_test['lod_in'], y_pred_lod_cv > 0.5)\n",
    "brier_score_lod = brier_score_loss(y_test['lod_in'], y_pred_lod_cv)\n",
    "\n",
    "\n",
    "print(f\"ROC AUC Score: {roc_auc_lod}\")\n",
    "print(f\"Precision Score: {precision_lod}\")\n",
    "print(f\"Recall Score: {recall_lod}\")\n",
    "print(f\"Brier Score: {brier_score_lod}\")\n",
    "\n",
    "train_start = X_train.index.date.min()\n",
    "train_end = X_train.index.date.max()\n",
    "test_start = X_test.index.date.min()\n",
    "test_end = X_test.index.date.max()\n",
    "train_size = len(X_train)\n",
    "test_size = len(X_test)\n",
    "\n",
    "# Start a new MLFlow run\n",
    "with mlflow.start_run():\n",
    "\n",
    "    ts = datetime.datetime.now()\n",
    "\n",
    "    mlflow.set_tag(f\"mlflow.runName\", f\"{tck} LOD Model CV {ts.hour:02}:{ts.minute:02}:{ts.second:02}\")\n",
    "\n",
    "    # Log the model\n",
    "    mlflow.log_param(\"model\", str(lod_model.named_steps))\n",
    "\n",
    "    # Log the features\n",
    "    mlflow.log_param(\"features\", lod_model.feature_names_in_)\n",
    "    mlflow.log_param(\"train_date_range\", f\"{train_start} to {train_end}\")\n",
    "    mlflow.log_param(\"test_date_range\", f\"{test_start} to {test_end}\")\n",
    "    mlflow.log_param(\"train_size\", train_size)\n",
    "    mlflow.log_param(\"test_size\", test_size)\n",
    "\n",
    "    # Assume y_test and y_pred are your test labels and model predictions\n",
    "    # Calculate scores\n",
    "\n",
    "    # Log the scores\n",
    "    mlflow.log_metric(\"roc_auc\", roc_auc_lod)\n",
    "    mlflow.log_metric(\"precision\", precision_lod)\n",
    "    mlflow.log_metric(\"recall\", recall_lod)\n",
    "    mlflow.log_metric(\"brier_score\", brier_score_lod)\n",
    "\n",
    "\n",
    "    # Log the timestamp\n",
    "    mlflow.log_param(\"created_at\", ts)\n",
    "\n",
    "print('done.')"
   ]
  },
  {
   "cell_type": "code",
   "execution_count": 103,
   "metadata": {},
   "outputs": [
    {
     "name": "stdout",
     "output_type": "stream",
     "text": [
      "ROC AUC Score: 0.9248486914213593\n",
      "Precision Score: 0.8488491574188245\n",
      "Recall Score: 0.9059107358262968\n",
      "Brier Score: 0.10872517956697896\n",
      "done.\n"
     ]
    }
   ],
   "source": [
    "from sklearn.metrics import roc_auc_score, precision_score, recall_score\n",
    "import mlflow\n",
    "\n",
    "# Metrics for HOD model\n",
    "y_pred_gd_cv = gd_model_cv.predict_proba(X_test)[:,-1]\n",
    "\n",
    "roc_auc_gd = roc_auc_score(y_test['green_day'], y_pred_gd_cv)\n",
    "precision_gd = precision_score(y_test['green_day'], y_pred_gd_cv > 0.5)\n",
    "recall_gd = recall_score(y_test['green_day'], y_pred_gd_cv > 0.5)\n",
    "brier_score_gd = brier_score_loss(y_test['green_day'], y_pred_gd_cv)\n",
    "\n",
    "print(f\"ROC AUC Score: {roc_auc_gd}\")\n",
    "print(f\"Precision Score: {precision_gd}\")\n",
    "print(f\"Recall Score: {recall_gd}\")\n",
    "print(f\"Brier Score: {brier_score_gd}\")\n",
    "\n",
    "train_start = X_train.index.date.min()\n",
    "train_end = X_train.index.date.max()\n",
    "test_start = X_test.index.date.min()\n",
    "test_end = X_test.index.date.max()\n",
    "train_size = len(X_train)\n",
    "test_size = len(X_test)\n",
    "\n",
    "# Start a new MLFlow run\n",
    "with mlflow.start_run():\n",
    "\n",
    "    ts = datetime.datetime.now()\n",
    "\n",
    "    mlflow.set_tag(f\"mlflow.runName\", f\"{tck} GD Model CV {ts.hour:02}:{ts.minute:02}:{ts.second:02}\")\n",
    "\n",
    "    # Log the model\n",
    "    mlflow.log_param(\"model\", str(gd_model.named_steps))\n",
    "\n",
    "    # Log the features\n",
    "    mlflow.log_param(\"features\", gd_model.feature_names_in_)\n",
    "    mlflow.log_param(\"train_date_range\", f\"{train_start} to {train_end}\")\n",
    "    mlflow.log_param(\"test_date_range\", f\"{test_start} to {test_end}\")\n",
    "    mlflow.log_param(\"train_size\", train_size)\n",
    "    mlflow.log_param(\"test_size\", test_size)\n",
    "\n",
    "    # Assume y_test and y_pred are your test labels and model predictions\n",
    "    # Calculate scores\n",
    "\n",
    "    # Log the scores\n",
    "    mlflow.log_metric(\"roc_auc\", roc_auc_gd)\n",
    "    mlflow.log_metric(\"precision\", precision_gd)\n",
    "    mlflow.log_metric(\"recall\", recall_gd)\n",
    "    mlflow.log_metric(\"brier_score\", brier_score_gd)\n",
    "\n",
    "    # Log the timestamp\n",
    "    mlflow.log_param(\"created_at\", ts)\n",
    "\n",
    "print('done.')"
   ]
  },
  {
   "cell_type": "code",
   "execution_count": 104,
   "metadata": {},
   "outputs": [
    {
     "name": "stdout",
     "output_type": "stream",
     "text": [
      "Couldn't find program: 'false'\n"
     ]
    }
   ],
   "source": [
    "%%script false --no-raise-error\n",
    "from sklearn.metrics import roc_auc_score, precision_score, recall_score\n",
    "\n",
    "# Initialize lists to store scores for each split\n",
    "roc_auc_scores = []\n",
    "precision_scores = []\n",
    "recall_scores = []\n",
    "\n",
    "with mlflow.start_run():\n",
    "\n",
    "    # Loop over the splits\n",
    "    for train_index, test_index in tscv.split(dates):\n",
    "        # Find the end of the last complete day in the test set\n",
    "        last_day = np.unique(dates[test_index])[-2]  # -2 to get the second to last day\n",
    "        test_index = test_index[dates[test_index] <= last_day]  # only keep days in test set up to the last complete day\n",
    "\n",
    "        # Split the data\n",
    "        X_train, X_test = X.iloc[train_index], X.iloc[test_index]\n",
    "        y_train, y_test = y_flags.iloc[train_index], y_flags.iloc[test_index]\n",
    "\n",
    "        # Fit the model on the training data\n",
    "        model = pipeline_gd.fit(X_train, y_train['green_day'])\n",
    "\n",
    "        # Predict the test data\n",
    "        y_pred = model.predict_proba(X_test)[:,-1]\n",
    "\n",
    "        # Calculate the scores\n",
    "        roc_auc = roc_auc_score(y_test['green_day'], y_pred)\n",
    "        precision = precision_score(y_test['green_day'], y_pred > 0.5)\n",
    "        recall = recall_score(y_test['green_day'], y_pred > 0.5)\n",
    "\n",
    "        # Store the scores\n",
    "        roc_auc_scores.append(roc_auc)\n",
    "        precision_scores.append(precision)\n",
    "        recall_scores.append(recall)\n",
    "\n",
    "\n",
    "    roc_auc_gd = np.mean(roc_auc_scores)\n",
    "    precision_gd = np.mean(precision_scores)\n",
    "    recall_gd = np.mean(recall_scores)\n",
    "\n",
    "    # Print the average scores\n",
    "    print(f\"Average ROC AUC Score: {roc_auc_hod:.03} (+/- {np.std(roc_auc_scores):.02})\")\n",
    "    print(f\"Average Precision Score: {precision_hod:.03} (+/- {np.std(precision_scores):.02})\")\n",
    "    print(f\"Average Recall Score: {recall_hod:.03} (+/- {np.std(recall_scores):.02})\")\n",
    "\n",
    "    ts = datetime.datetime.now()\n",
    "\n",
    "    mlflow.set_tag(f\"mlflow.runName\", f\"{tck} GD Model CV {ts.hour:02}:{ts.minute:02}:{ts.second:02}\")\n",
    "\n",
    "    # Log the model\n",
    "    mlflow.log_param(\"model\", str(gd_model.named_steps))\n",
    "\n",
    "    # Log the features\n",
    "    mlflow.log_param(\"features\", gd_model.feature_names_in_)\n",
    "    mlflow.log_param(\"train_date_range\", f\"{train_start} to {train_end}\")\n",
    "    mlflow.log_param(\"test_date_range\", f\"{test_start} to {test_end}\")\n",
    "    mlflow.log_param(\"train_size\", train_size)\n",
    "    mlflow.log_param(\"test_size\", test_size)\n",
    "\n",
    "    # Assume y_test and y_pred are your test labels and model predictions\n",
    "    # Calculate scores\n",
    "\n",
    "    # Log the scores\n",
    "    mlflow.log_metric(\"roc_auc\", roc_auc_gd)\n",
    "    mlflow.log_metric(\"precision\", precision_gd)\n",
    "    mlflow.log_metric(\"recall\", recall_gd)\n",
    "\n",
    "    # Log the timestamp\n",
    "    mlflow.log_param(\"created_at\", ts)\n",
    "\n",
    "print('done.')"
   ]
  },
  {
   "cell_type": "code",
   "execution_count": 105,
   "metadata": {},
   "outputs": [
    {
     "data": {
      "application/vnd.plotly.v1+json": {
       "config": {
        "plotlyServerURL": "https://plot.ly"
       },
       "data": [
        {
         "hovertemplate": "variable=roc_auc<br>index=%{x}<br>value=%{y}<extra></extra>",
         "legendgroup": "roc_auc",
         "line": {
          "color": "#636efa",
          "dash": "solid"
         },
         "marker": {
          "symbol": "circle"
         },
         "mode": "lines",
         "name": "roc_auc",
         "orientation": "v",
         "showlegend": true,
         "type": "scatter",
         "x": [
          "09:45:00",
          "09:50:00",
          "09:55:00",
          "10:00:00",
          "10:05:00",
          "10:10:00",
          "10:15:00",
          "10:20:00",
          "10:25:00",
          "10:30:00",
          "10:35:00",
          "10:40:00",
          "10:45:00",
          "10:50:00",
          "10:55:00",
          "11:00:00",
          "11:05:00",
          "11:10:00",
          "11:15:00",
          "11:20:00",
          "11:25:00",
          "11:30:00",
          "11:35:00",
          "11:40:00",
          "11:45:00",
          "11:50:00",
          "11:55:00",
          "12:00:00",
          "12:05:00",
          "12:10:00",
          "12:15:00",
          "12:20:00",
          "12:25:00",
          "12:30:00",
          "12:35:00",
          "12:40:00",
          "12:45:00",
          "12:50:00",
          "12:55:00",
          "13:00:00",
          "13:05:00",
          "13:10:00",
          "13:15:00",
          "13:20:00",
          "13:25:00",
          "13:30:00",
          "13:35:00",
          "13:40:00",
          "13:45:00",
          "13:50:00",
          "13:55:00",
          "14:00:00",
          "14:05:00",
          "14:10:00",
          "14:15:00",
          "14:20:00",
          "14:25:00",
          "14:30:00",
          "14:35:00",
          "14:40:00",
          "14:45:00",
          "14:50:00",
          "14:55:00",
          "15:00:00",
          "15:05:00",
          "15:10:00",
          "15:15:00",
          "15:20:00",
          "15:25:00",
          "15:30:00",
          "15:35:00",
          "15:40:00",
          "15:45:00",
          "15:50:00",
          "15:55:00"
         ],
         "xaxis": "x",
         "y": [
          0.7954810156068018,
          0.782810391363023,
          0.7832486080852094,
          0.791564302499466,
          0.7929026845637583,
          0.8014033491500439,
          0.8103774969083402,
          0.8093111005421258,
          0.8101639101639102,
          0.8125182238256443,
          0.8138066579171799,
          0.8176227794488582,
          0.8218889985790996,
          0.8226758346806367,
          0.8243010795458393,
          0.8254804284950306,
          0.8258655993921679,
          0.8271390967119285,
          0.8288005197203261,
          0.8295587720730597,
          0.8304539191817039,
          0.832064717867018,
          0.833862023759552,
          0.8359551185078764,
          0.838500422182906,
          0.8407057397299174,
          0.8429184349946599,
          0.8444491248510662,
          0.8457670991523638,
          0.8470767303481399,
          0.8483357795496567,
          0.8494282810903955,
          0.8500794911771158,
          0.8503815880651187,
          0.8510004238755629,
          0.8513173728118988,
          0.85227470030461,
          0.8531441479173684,
          0.8537121384677077,
          0.8545890621202125,
          0.8552726085502571,
          0.8559023944734196,
          0.8566649314553191,
          0.8571057979970679,
          0.8577379119086033,
          0.8582792011636953,
          0.8590600152971912,
          0.8601779465497257,
          0.8613618297593498,
          0.8621042029739945,
          0.8627742486620918,
          0.8635684605073163,
          0.86442412147265,
          0.8651218161143999,
          0.8660050886074586,
          0.8665766135934467,
          0.8671790541479851,
          0.8680148409713428,
          0.8692304114864864,
          0.870441221291577,
          0.87149509475745,
          0.8723164395511531,
          0.8729932959037858,
          0.8738767279728699,
          0.8747030697081156,
          0.8751008417225696,
          0.8756685008711955,
          0.876561154784105,
          0.8774493770955996,
          0.8784016714681,
          0.8796466649516215,
          0.881163126483028,
          0.8828582689919313,
          0.8848057409994003,
          0.8874468350610243
         ],
         "yaxis": "y"
        },
        {
         "hovertemplate": "variable=precision<br>index=%{x}<br>value=%{y}<extra></extra>",
         "legendgroup": "precision",
         "line": {
          "color": "#EF553B",
          "dash": "solid"
         },
         "marker": {
          "symbol": "circle"
         },
         "mode": "lines",
         "name": "precision",
         "orientation": "v",
         "showlegend": true,
         "type": "scatter",
         "x": [
          "09:45:00",
          "09:50:00",
          "09:55:00",
          "10:00:00",
          "10:05:00",
          "10:10:00",
          "10:15:00",
          "10:20:00",
          "10:25:00",
          "10:30:00",
          "10:35:00",
          "10:40:00",
          "10:45:00",
          "10:50:00",
          "10:55:00",
          "11:00:00",
          "11:05:00",
          "11:10:00",
          "11:15:00",
          "11:20:00",
          "11:25:00",
          "11:30:00",
          "11:35:00",
          "11:40:00",
          "11:45:00",
          "11:50:00",
          "11:55:00",
          "12:00:00",
          "12:05:00",
          "12:10:00",
          "12:15:00",
          "12:20:00",
          "12:25:00",
          "12:30:00",
          "12:35:00",
          "12:40:00",
          "12:45:00",
          "12:50:00",
          "12:55:00",
          "13:00:00",
          "13:05:00",
          "13:10:00",
          "13:15:00",
          "13:20:00",
          "13:25:00",
          "13:30:00",
          "13:35:00",
          "13:40:00",
          "13:45:00",
          "13:50:00",
          "13:55:00",
          "14:00:00",
          "14:05:00",
          "14:10:00",
          "14:15:00",
          "14:20:00",
          "14:25:00",
          "14:30:00",
          "14:35:00",
          "14:40:00",
          "14:45:00",
          "14:50:00",
          "14:55:00",
          "15:00:00",
          "15:05:00",
          "15:10:00",
          "15:15:00",
          "15:20:00",
          "15:25:00",
          "15:30:00",
          "15:35:00",
          "15:40:00",
          "15:45:00",
          "15:50:00",
          "15:55:00"
         ],
         "xaxis": "x",
         "y": [
          0.7241379310344828,
          0.7,
          0.7191011235955056,
          0.7226277372262774,
          0.7105263157894737,
          0.7208333333333333,
          0.7322033898305085,
          0.7359550561797753,
          0.7363420427553444,
          0.7448559670781894,
          0.7463503649635036,
          0.7516129032258064,
          0.7583212735166426,
          0.7578125,
          0.7552693208430913,
          0.7556270096463023,
          0.7531956735496559,
          0.7518181818181818,
          0.7512605042016807,
          0.750390015600624,
          0.7520058351568198,
          0.7517053206002728,
          0.7531969309462916,
          0.7555689343768814,
          0.7582480091012515,
          0.7604951560818084,
          0.7631444614599285,
          0.7667313288069835,
          0.7681293302540416,
          0.7696381288614298,
          0.7715607909129154,
          0.7731295253419147,
          0.7754237288135594,
          0.7780649926144756,
          0.7800991501416431,
          0.7821210061182868,
          0.784640522875817,
          0.787267570122912,
          0.7892976588628763,
          0.7912023460410558,
          0.7934751773049645,
          0.7956043956043956,
          0.7981382978723405,
          0.7996910401647785,
          0.8008485150985775,
          0.8019825918762089,
          0.8034709193245778,
          0.8051001821493625,
          0.807487815684537,
          0.8088773971126912,
          0.810272536687631,
          0.8117862969004894,
          0.8135424940428911,
          0.8152089783281734,
          0.8165881244109331,
          0.8180312787488501,
          0.8193247126436781,
          0.8210526315789474,
          0.8231665524331734,
          0.8251046025104602,
          0.8270898086046131,
          0.8290420598112905,
          0.8311180609851446,
          0.8332059318147073,
          0.8353275501046964,
          0.8371140055612469,
          0.8393752686631323,
          0.8412053258584443,
          0.8432743726861374,
          0.8453497721790405,
          0.8474931273726928,
          0.8497826642802352,
          0.8523976023976024,
          0.8550530293794953,
          0.8586879011171856
         ],
         "yaxis": "y"
        },
        {
         "hovertemplate": "variable=recall<br>index=%{x}<br>value=%{y}<extra></extra>",
         "legendgroup": "recall",
         "line": {
          "color": "#00cc96",
          "dash": "solid"
         },
         "marker": {
          "symbol": "circle"
         },
         "mode": "lines",
         "name": "recall",
         "orientation": "v",
         "showlegend": true,
         "type": "scatter",
         "x": [
          "09:45:00",
          "09:50:00",
          "09:55:00",
          "10:00:00",
          "10:05:00",
          "10:10:00",
          "10:15:00",
          "10:20:00",
          "10:25:00",
          "10:30:00",
          "10:35:00",
          "10:40:00",
          "10:45:00",
          "10:50:00",
          "10:55:00",
          "11:00:00",
          "11:05:00",
          "11:10:00",
          "11:15:00",
          "11:20:00",
          "11:25:00",
          "11:30:00",
          "11:35:00",
          "11:40:00",
          "11:45:00",
          "11:50:00",
          "11:55:00",
          "12:00:00",
          "12:05:00",
          "12:10:00",
          "12:15:00",
          "12:20:00",
          "12:25:00",
          "12:30:00",
          "12:35:00",
          "12:40:00",
          "12:45:00",
          "12:50:00",
          "12:55:00",
          "13:00:00",
          "13:05:00",
          "13:10:00",
          "13:15:00",
          "13:20:00",
          "13:25:00",
          "13:30:00",
          "13:35:00",
          "13:40:00",
          "13:45:00",
          "13:50:00",
          "13:55:00",
          "14:00:00",
          "14:05:00",
          "14:10:00",
          "14:15:00",
          "14:20:00",
          "14:25:00",
          "14:30:00",
          "14:35:00",
          "14:40:00",
          "14:45:00",
          "14:50:00",
          "14:55:00",
          "15:00:00",
          "15:05:00",
          "15:10:00",
          "15:15:00",
          "15:20:00",
          "15:25:00",
          "15:30:00",
          "15:35:00",
          "15:40:00",
          "15:45:00",
          "15:50:00",
          "15:55:00"
         ],
         "xaxis": "x",
         "y": [
          0.3888888888888889,
          0.3684210526315789,
          0.35555555555555557,
          0.39919354838709675,
          0.421875,
          0.4413265306122449,
          0.4645161290322581,
          0.4789762340036563,
          0.49206349206349204,
          0.5062937062937063,
          0.5099750623441397,
          0.5235955056179775,
          0.5352400408580184,
          0.5434173669467787,
          0.5546001719690455,
          0.5617529880478087,
          0.5682492581602374,
          0.5739070090215128,
          0.5824104234527687,
          0.5901840490797546,
          0.5969889982628837,
          0.6035049288061336,
          0.6113129216398547,
          0.6185312962050271,
          0.625234521575985,
          0.6316495306213679,
          0.6380708493384549,
          0.6450428396572827,
          0.6493557204217103,
          0.6529389741669787,
          0.6592379583033788,
          0.6639032815198618,
          0.6685486549319163,
          0.6727330779054917,
          0.6772210267445435,
          0.6817777777777778,
          0.6863922241280732,
          0.6896742131419106,
          0.6926360725720384,
          0.696258064516129,
          0.6985514485514486,
          0.7005321722302854,
          0.703469292076887,
          0.7060695612639236,
          0.7083885209713024,
          0.7113446279219386,
          0.7143452877397831,
          0.7173868938932847,
          0.7199288959115149,
          0.7222008464794152,
          0.7244611059044048,
          0.7273890005481455,
          0.7301728747103903,
          0.7325682490001739,
          0.7352342158859471,
          0.7369467926404774,
          0.7389050858438614,
          0.7408580022162419,
          0.7434230888269886,
          0.7460653753026635,
          0.7481503403373779,
          0.7501085226450586,
          0.75187438110058,
          0.7540121748754842,
          0.7558532954391664,
          0.7570142932768661,
          0.7581208748544066,
          0.7598430181035574,
          0.7617985878855444,
          0.764513392316083,
          0.7679715302491104,
          0.7717403924300476,
          0.775769973860666,
          0.7800266903914591,
          0.7850700858415735
         ],
         "yaxis": "y"
        }
       ],
       "layout": {
        "legend": {
         "title": {
          "text": "variable"
         },
         "tracegroupgap": 0
        },
        "template": {
         "data": {
          "bar": [
           {
            "error_x": {
             "color": "#2a3f5f"
            },
            "error_y": {
             "color": "#2a3f5f"
            },
            "marker": {
             "line": {
              "color": "#E5ECF6",
              "width": 0.5
             },
             "pattern": {
              "fillmode": "overlay",
              "size": 10,
              "solidity": 0.2
             }
            },
            "type": "bar"
           }
          ],
          "barpolar": [
           {
            "marker": {
             "line": {
              "color": "#E5ECF6",
              "width": 0.5
             },
             "pattern": {
              "fillmode": "overlay",
              "size": 10,
              "solidity": 0.2
             }
            },
            "type": "barpolar"
           }
          ],
          "carpet": [
           {
            "aaxis": {
             "endlinecolor": "#2a3f5f",
             "gridcolor": "white",
             "linecolor": "white",
             "minorgridcolor": "white",
             "startlinecolor": "#2a3f5f"
            },
            "baxis": {
             "endlinecolor": "#2a3f5f",
             "gridcolor": "white",
             "linecolor": "white",
             "minorgridcolor": "white",
             "startlinecolor": "#2a3f5f"
            },
            "type": "carpet"
           }
          ],
          "choropleth": [
           {
            "colorbar": {
             "outlinewidth": 0,
             "ticks": ""
            },
            "type": "choropleth"
           }
          ],
          "contour": [
           {
            "colorbar": {
             "outlinewidth": 0,
             "ticks": ""
            },
            "colorscale": [
             [
              0,
              "#0d0887"
             ],
             [
              0.1111111111111111,
              "#46039f"
             ],
             [
              0.2222222222222222,
              "#7201a8"
             ],
             [
              0.3333333333333333,
              "#9c179e"
             ],
             [
              0.4444444444444444,
              "#bd3786"
             ],
             [
              0.5555555555555556,
              "#d8576b"
             ],
             [
              0.6666666666666666,
              "#ed7953"
             ],
             [
              0.7777777777777778,
              "#fb9f3a"
             ],
             [
              0.8888888888888888,
              "#fdca26"
             ],
             [
              1,
              "#f0f921"
             ]
            ],
            "type": "contour"
           }
          ],
          "contourcarpet": [
           {
            "colorbar": {
             "outlinewidth": 0,
             "ticks": ""
            },
            "type": "contourcarpet"
           }
          ],
          "heatmap": [
           {
            "colorbar": {
             "outlinewidth": 0,
             "ticks": ""
            },
            "colorscale": [
             [
              0,
              "#0d0887"
             ],
             [
              0.1111111111111111,
              "#46039f"
             ],
             [
              0.2222222222222222,
              "#7201a8"
             ],
             [
              0.3333333333333333,
              "#9c179e"
             ],
             [
              0.4444444444444444,
              "#bd3786"
             ],
             [
              0.5555555555555556,
              "#d8576b"
             ],
             [
              0.6666666666666666,
              "#ed7953"
             ],
             [
              0.7777777777777778,
              "#fb9f3a"
             ],
             [
              0.8888888888888888,
              "#fdca26"
             ],
             [
              1,
              "#f0f921"
             ]
            ],
            "type": "heatmap"
           }
          ],
          "heatmapgl": [
           {
            "colorbar": {
             "outlinewidth": 0,
             "ticks": ""
            },
            "colorscale": [
             [
              0,
              "#0d0887"
             ],
             [
              0.1111111111111111,
              "#46039f"
             ],
             [
              0.2222222222222222,
              "#7201a8"
             ],
             [
              0.3333333333333333,
              "#9c179e"
             ],
             [
              0.4444444444444444,
              "#bd3786"
             ],
             [
              0.5555555555555556,
              "#d8576b"
             ],
             [
              0.6666666666666666,
              "#ed7953"
             ],
             [
              0.7777777777777778,
              "#fb9f3a"
             ],
             [
              0.8888888888888888,
              "#fdca26"
             ],
             [
              1,
              "#f0f921"
             ]
            ],
            "type": "heatmapgl"
           }
          ],
          "histogram": [
           {
            "marker": {
             "pattern": {
              "fillmode": "overlay",
              "size": 10,
              "solidity": 0.2
             }
            },
            "type": "histogram"
           }
          ],
          "histogram2d": [
           {
            "colorbar": {
             "outlinewidth": 0,
             "ticks": ""
            },
            "colorscale": [
             [
              0,
              "#0d0887"
             ],
             [
              0.1111111111111111,
              "#46039f"
             ],
             [
              0.2222222222222222,
              "#7201a8"
             ],
             [
              0.3333333333333333,
              "#9c179e"
             ],
             [
              0.4444444444444444,
              "#bd3786"
             ],
             [
              0.5555555555555556,
              "#d8576b"
             ],
             [
              0.6666666666666666,
              "#ed7953"
             ],
             [
              0.7777777777777778,
              "#fb9f3a"
             ],
             [
              0.8888888888888888,
              "#fdca26"
             ],
             [
              1,
              "#f0f921"
             ]
            ],
            "type": "histogram2d"
           }
          ],
          "histogram2dcontour": [
           {
            "colorbar": {
             "outlinewidth": 0,
             "ticks": ""
            },
            "colorscale": [
             [
              0,
              "#0d0887"
             ],
             [
              0.1111111111111111,
              "#46039f"
             ],
             [
              0.2222222222222222,
              "#7201a8"
             ],
             [
              0.3333333333333333,
              "#9c179e"
             ],
             [
              0.4444444444444444,
              "#bd3786"
             ],
             [
              0.5555555555555556,
              "#d8576b"
             ],
             [
              0.6666666666666666,
              "#ed7953"
             ],
             [
              0.7777777777777778,
              "#fb9f3a"
             ],
             [
              0.8888888888888888,
              "#fdca26"
             ],
             [
              1,
              "#f0f921"
             ]
            ],
            "type": "histogram2dcontour"
           }
          ],
          "mesh3d": [
           {
            "colorbar": {
             "outlinewidth": 0,
             "ticks": ""
            },
            "type": "mesh3d"
           }
          ],
          "parcoords": [
           {
            "line": {
             "colorbar": {
              "outlinewidth": 0,
              "ticks": ""
             }
            },
            "type": "parcoords"
           }
          ],
          "pie": [
           {
            "automargin": true,
            "type": "pie"
           }
          ],
          "scatter": [
           {
            "fillpattern": {
             "fillmode": "overlay",
             "size": 10,
             "solidity": 0.2
            },
            "type": "scatter"
           }
          ],
          "scatter3d": [
           {
            "line": {
             "colorbar": {
              "outlinewidth": 0,
              "ticks": ""
             }
            },
            "marker": {
             "colorbar": {
              "outlinewidth": 0,
              "ticks": ""
             }
            },
            "type": "scatter3d"
           }
          ],
          "scattercarpet": [
           {
            "marker": {
             "colorbar": {
              "outlinewidth": 0,
              "ticks": ""
             }
            },
            "type": "scattercarpet"
           }
          ],
          "scattergeo": [
           {
            "marker": {
             "colorbar": {
              "outlinewidth": 0,
              "ticks": ""
             }
            },
            "type": "scattergeo"
           }
          ],
          "scattergl": [
           {
            "marker": {
             "colorbar": {
              "outlinewidth": 0,
              "ticks": ""
             }
            },
            "type": "scattergl"
           }
          ],
          "scattermapbox": [
           {
            "marker": {
             "colorbar": {
              "outlinewidth": 0,
              "ticks": ""
             }
            },
            "type": "scattermapbox"
           }
          ],
          "scatterpolar": [
           {
            "marker": {
             "colorbar": {
              "outlinewidth": 0,
              "ticks": ""
             }
            },
            "type": "scatterpolar"
           }
          ],
          "scatterpolargl": [
           {
            "marker": {
             "colorbar": {
              "outlinewidth": 0,
              "ticks": ""
             }
            },
            "type": "scatterpolargl"
           }
          ],
          "scatterternary": [
           {
            "marker": {
             "colorbar": {
              "outlinewidth": 0,
              "ticks": ""
             }
            },
            "type": "scatterternary"
           }
          ],
          "surface": [
           {
            "colorbar": {
             "outlinewidth": 0,
             "ticks": ""
            },
            "colorscale": [
             [
              0,
              "#0d0887"
             ],
             [
              0.1111111111111111,
              "#46039f"
             ],
             [
              0.2222222222222222,
              "#7201a8"
             ],
             [
              0.3333333333333333,
              "#9c179e"
             ],
             [
              0.4444444444444444,
              "#bd3786"
             ],
             [
              0.5555555555555556,
              "#d8576b"
             ],
             [
              0.6666666666666666,
              "#ed7953"
             ],
             [
              0.7777777777777778,
              "#fb9f3a"
             ],
             [
              0.8888888888888888,
              "#fdca26"
             ],
             [
              1,
              "#f0f921"
             ]
            ],
            "type": "surface"
           }
          ],
          "table": [
           {
            "cells": {
             "fill": {
              "color": "#EBF0F8"
             },
             "line": {
              "color": "white"
             }
            },
            "header": {
             "fill": {
              "color": "#C8D4E3"
             },
             "line": {
              "color": "white"
             }
            },
            "type": "table"
           }
          ]
         },
         "layout": {
          "annotationdefaults": {
           "arrowcolor": "#2a3f5f",
           "arrowhead": 0,
           "arrowwidth": 1
          },
          "autotypenumbers": "strict",
          "coloraxis": {
           "colorbar": {
            "outlinewidth": 0,
            "ticks": ""
           }
          },
          "colorscale": {
           "diverging": [
            [
             0,
             "#8e0152"
            ],
            [
             0.1,
             "#c51b7d"
            ],
            [
             0.2,
             "#de77ae"
            ],
            [
             0.3,
             "#f1b6da"
            ],
            [
             0.4,
             "#fde0ef"
            ],
            [
             0.5,
             "#f7f7f7"
            ],
            [
             0.6,
             "#e6f5d0"
            ],
            [
             0.7,
             "#b8e186"
            ],
            [
             0.8,
             "#7fbc41"
            ],
            [
             0.9,
             "#4d9221"
            ],
            [
             1,
             "#276419"
            ]
           ],
           "sequential": [
            [
             0,
             "#0d0887"
            ],
            [
             0.1111111111111111,
             "#46039f"
            ],
            [
             0.2222222222222222,
             "#7201a8"
            ],
            [
             0.3333333333333333,
             "#9c179e"
            ],
            [
             0.4444444444444444,
             "#bd3786"
            ],
            [
             0.5555555555555556,
             "#d8576b"
            ],
            [
             0.6666666666666666,
             "#ed7953"
            ],
            [
             0.7777777777777778,
             "#fb9f3a"
            ],
            [
             0.8888888888888888,
             "#fdca26"
            ],
            [
             1,
             "#f0f921"
            ]
           ],
           "sequentialminus": [
            [
             0,
             "#0d0887"
            ],
            [
             0.1111111111111111,
             "#46039f"
            ],
            [
             0.2222222222222222,
             "#7201a8"
            ],
            [
             0.3333333333333333,
             "#9c179e"
            ],
            [
             0.4444444444444444,
             "#bd3786"
            ],
            [
             0.5555555555555556,
             "#d8576b"
            ],
            [
             0.6666666666666666,
             "#ed7953"
            ],
            [
             0.7777777777777778,
             "#fb9f3a"
            ],
            [
             0.8888888888888888,
             "#fdca26"
            ],
            [
             1,
             "#f0f921"
            ]
           ]
          },
          "colorway": [
           "#636efa",
           "#EF553B",
           "#00cc96",
           "#ab63fa",
           "#FFA15A",
           "#19d3f3",
           "#FF6692",
           "#B6E880",
           "#FF97FF",
           "#FECB52"
          ],
          "font": {
           "color": "#2a3f5f"
          },
          "geo": {
           "bgcolor": "white",
           "lakecolor": "white",
           "landcolor": "#E5ECF6",
           "showlakes": true,
           "showland": true,
           "subunitcolor": "white"
          },
          "hoverlabel": {
           "align": "left"
          },
          "hovermode": "closest",
          "mapbox": {
           "style": "light"
          },
          "paper_bgcolor": "white",
          "plot_bgcolor": "#E5ECF6",
          "polar": {
           "angularaxis": {
            "gridcolor": "white",
            "linecolor": "white",
            "ticks": ""
           },
           "bgcolor": "#E5ECF6",
           "radialaxis": {
            "gridcolor": "white",
            "linecolor": "white",
            "ticks": ""
           }
          },
          "scene": {
           "xaxis": {
            "backgroundcolor": "#E5ECF6",
            "gridcolor": "white",
            "gridwidth": 2,
            "linecolor": "white",
            "showbackground": true,
            "ticks": "",
            "zerolinecolor": "white"
           },
           "yaxis": {
            "backgroundcolor": "#E5ECF6",
            "gridcolor": "white",
            "gridwidth": 2,
            "linecolor": "white",
            "showbackground": true,
            "ticks": "",
            "zerolinecolor": "white"
           },
           "zaxis": {
            "backgroundcolor": "#E5ECF6",
            "gridcolor": "white",
            "gridwidth": 2,
            "linecolor": "white",
            "showbackground": true,
            "ticks": "",
            "zerolinecolor": "white"
           }
          },
          "shapedefaults": {
           "line": {
            "color": "#2a3f5f"
           }
          },
          "ternary": {
           "aaxis": {
            "gridcolor": "white",
            "linecolor": "white",
            "ticks": ""
           },
           "baxis": {
            "gridcolor": "white",
            "linecolor": "white",
            "ticks": ""
           },
           "bgcolor": "#E5ECF6",
           "caxis": {
            "gridcolor": "white",
            "linecolor": "white",
            "ticks": ""
           }
          },
          "title": {
           "x": 0.05
          },
          "xaxis": {
           "automargin": true,
           "gridcolor": "white",
           "linecolor": "white",
           "ticks": "",
           "title": {
            "standoff": 15
           },
           "zerolinecolor": "white",
           "zerolinewidth": 2
          },
          "yaxis": {
           "automargin": true,
           "gridcolor": "white",
           "linecolor": "white",
           "ticks": "",
           "title": {
            "standoff": 15
           },
           "zerolinecolor": "white",
           "zerolinewidth": 2
          }
         }
        },
        "title": {
         "text": "Validation Metrics Over Time (HOD Model)"
        },
        "xaxis": {
         "anchor": "y",
         "domain": [
          0,
          1
         ],
         "title": {
          "text": "index"
         }
        },
        "yaxis": {
         "anchor": "x",
         "domain": [
          0,
          1
         ],
         "title": {
          "text": "value"
         }
        }
       }
      }
     },
     "metadata": {},
     "output_type": "display_data"
    }
   ],
   "source": [
    "import datetime\n",
    "import plotly.express as px\n",
    "\n",
    "\n",
    "time_range = [datetime.time(hour, minute) for hour in range(9, 16) for minute in range(0, 60, 5)]\n",
    "time_range = [x for x in time_range if x >= datetime.time(9,45)]\n",
    "df_val = pd.DataFrame()\n",
    "for t in time_range:\n",
    "    X_val = X_test.loc[X_test['time'] <= t].copy()\n",
    "    y_val = y_test.loc[X_val.index, 'hod_in'].copy()\n",
    "\n",
    "    y_pred_val = pipeline.predict_proba(X_val)[:,-1]\n",
    "\n",
    "    df_val.loc[t, [\n",
    "        'roc_auc',\n",
    "        'precision',\n",
    "        'recall'\n",
    "    ]] =  roc_auc_score(y_val, y_pred_val), precision_score(y_val, y_pred_val > 0.5), recall_score(y_val, y_pred_val > 0.5)\n",
    "\n",
    "\n",
    "fig = px.line(df_val, title='Validation Metrics Over Time (HOD Model)')\n",
    "fig.show()"
   ]
  },
  {
   "cell_type": "code",
   "execution_count": 106,
   "metadata": {},
   "outputs": [
    {
     "data": {
      "application/vnd.plotly.v1+json": {
       "config": {
        "plotlyServerURL": "https://plot.ly"
       },
       "data": [
        {
         "hovertemplate": "variable=roc_auc<br>index=%{x}<br>value=%{y}<extra></extra>",
         "legendgroup": "roc_auc",
         "line": {
          "color": "#636efa",
          "dash": "solid"
         },
         "marker": {
          "symbol": "circle"
         },
         "mode": "lines",
         "name": "roc_auc",
         "orientation": "v",
         "showlegend": true,
         "type": "scatter",
         "x": [
          "09:45:00",
          "09:50:00",
          "09:55:00",
          "10:00:00",
          "10:05:00",
          "10:10:00",
          "10:15:00",
          "10:20:00",
          "10:25:00",
          "10:30:00",
          "10:35:00",
          "10:40:00",
          "10:45:00",
          "10:50:00",
          "10:55:00",
          "11:00:00",
          "11:05:00",
          "11:10:00",
          "11:15:00",
          "11:20:00",
          "11:25:00",
          "11:30:00",
          "11:35:00",
          "11:40:00",
          "11:45:00",
          "11:50:00",
          "11:55:00",
          "12:00:00",
          "12:05:00",
          "12:10:00",
          "12:15:00",
          "12:20:00",
          "12:25:00",
          "12:30:00",
          "12:35:00",
          "12:40:00",
          "12:45:00",
          "12:50:00",
          "12:55:00",
          "13:00:00",
          "13:05:00",
          "13:10:00",
          "13:15:00",
          "13:20:00",
          "13:25:00",
          "13:30:00",
          "13:35:00",
          "13:40:00",
          "13:45:00",
          "13:50:00",
          "13:55:00",
          "14:00:00",
          "14:05:00",
          "14:10:00",
          "14:15:00",
          "14:20:00",
          "14:25:00",
          "14:30:00",
          "14:35:00",
          "14:40:00",
          "14:45:00",
          "14:50:00",
          "14:55:00",
          "15:00:00",
          "15:05:00",
          "15:10:00",
          "15:15:00",
          "15:20:00",
          "15:25:00",
          "15:30:00",
          "15:35:00",
          "15:40:00",
          "15:45:00",
          "15:50:00",
          "15:55:00"
         ],
         "xaxis": "x",
         "y": [
          0.7954810156068018,
          0.782810391363023,
          0.7832486080852094,
          0.791564302499466,
          0.7929026845637583,
          0.8014033491500439,
          0.8103774969083402,
          0.8093111005421258,
          0.8101639101639102,
          0.8125182238256443,
          0.8138066579171799,
          0.8176227794488582,
          0.8218889985790996,
          0.8226758346806367,
          0.8243010795458393,
          0.8254804284950306,
          0.8258655993921679,
          0.8271390967119285,
          0.8288005197203261,
          0.8295587720730597,
          0.8304539191817039,
          0.832064717867018,
          0.833862023759552,
          0.8359551185078764,
          0.838500422182906,
          0.8407057397299174,
          0.8429184349946599,
          0.8444491248510662,
          0.8457670991523638,
          0.8470767303481399,
          0.8483357795496567,
          0.8494282810903955,
          0.8500794911771158,
          0.8503815880651187,
          0.8510004238755629,
          0.8513173728118988,
          0.85227470030461,
          0.8531441479173684,
          0.8537121384677077,
          0.8545890621202125,
          0.8552726085502571,
          0.8559023944734196,
          0.8566649314553191,
          0.8571057979970679,
          0.8577379119086033,
          0.8582792011636953,
          0.8590600152971912,
          0.8601779465497257,
          0.8613618297593498,
          0.8621042029739945,
          0.8627742486620918,
          0.8635684605073163,
          0.86442412147265,
          0.8651218161143999,
          0.8660050886074586,
          0.8665766135934467,
          0.8671790541479851,
          0.8680148409713428,
          0.8692304114864864,
          0.870441221291577,
          0.87149509475745,
          0.8723164395511531,
          0.8729932959037858,
          0.8738767279728699,
          0.8747030697081156,
          0.8751008417225696,
          0.8756685008711955,
          0.876561154784105,
          0.8774493770955996,
          0.8784016714681,
          0.8796466649516215,
          0.881163126483028,
          0.8828582689919313,
          0.8848057409994003,
          0.8874468350610243
         ],
         "yaxis": "y"
        },
        {
         "hovertemplate": "variable=precision<br>index=%{x}<br>value=%{y}<extra></extra>",
         "legendgroup": "precision",
         "line": {
          "color": "#EF553B",
          "dash": "solid"
         },
         "marker": {
          "symbol": "circle"
         },
         "mode": "lines",
         "name": "precision",
         "orientation": "v",
         "showlegend": true,
         "type": "scatter",
         "x": [
          "09:45:00",
          "09:50:00",
          "09:55:00",
          "10:00:00",
          "10:05:00",
          "10:10:00",
          "10:15:00",
          "10:20:00",
          "10:25:00",
          "10:30:00",
          "10:35:00",
          "10:40:00",
          "10:45:00",
          "10:50:00",
          "10:55:00",
          "11:00:00",
          "11:05:00",
          "11:10:00",
          "11:15:00",
          "11:20:00",
          "11:25:00",
          "11:30:00",
          "11:35:00",
          "11:40:00",
          "11:45:00",
          "11:50:00",
          "11:55:00",
          "12:00:00",
          "12:05:00",
          "12:10:00",
          "12:15:00",
          "12:20:00",
          "12:25:00",
          "12:30:00",
          "12:35:00",
          "12:40:00",
          "12:45:00",
          "12:50:00",
          "12:55:00",
          "13:00:00",
          "13:05:00",
          "13:10:00",
          "13:15:00",
          "13:20:00",
          "13:25:00",
          "13:30:00",
          "13:35:00",
          "13:40:00",
          "13:45:00",
          "13:50:00",
          "13:55:00",
          "14:00:00",
          "14:05:00",
          "14:10:00",
          "14:15:00",
          "14:20:00",
          "14:25:00",
          "14:30:00",
          "14:35:00",
          "14:40:00",
          "14:45:00",
          "14:50:00",
          "14:55:00",
          "15:00:00",
          "15:05:00",
          "15:10:00",
          "15:15:00",
          "15:20:00",
          "15:25:00",
          "15:30:00",
          "15:35:00",
          "15:40:00",
          "15:45:00",
          "15:50:00",
          "15:55:00"
         ],
         "xaxis": "x",
         "y": [
          0.7241379310344828,
          0.7,
          0.7191011235955056,
          0.7226277372262774,
          0.7105263157894737,
          0.7208333333333333,
          0.7322033898305085,
          0.7359550561797753,
          0.7363420427553444,
          0.7448559670781894,
          0.7463503649635036,
          0.7516129032258064,
          0.7583212735166426,
          0.7578125,
          0.7552693208430913,
          0.7556270096463023,
          0.7531956735496559,
          0.7518181818181818,
          0.7512605042016807,
          0.750390015600624,
          0.7520058351568198,
          0.7517053206002728,
          0.7531969309462916,
          0.7555689343768814,
          0.7582480091012515,
          0.7604951560818084,
          0.7631444614599285,
          0.7667313288069835,
          0.7681293302540416,
          0.7696381288614298,
          0.7715607909129154,
          0.7731295253419147,
          0.7754237288135594,
          0.7780649926144756,
          0.7800991501416431,
          0.7821210061182868,
          0.784640522875817,
          0.787267570122912,
          0.7892976588628763,
          0.7912023460410558,
          0.7934751773049645,
          0.7956043956043956,
          0.7981382978723405,
          0.7996910401647785,
          0.8008485150985775,
          0.8019825918762089,
          0.8034709193245778,
          0.8051001821493625,
          0.807487815684537,
          0.8088773971126912,
          0.810272536687631,
          0.8117862969004894,
          0.8135424940428911,
          0.8152089783281734,
          0.8165881244109331,
          0.8180312787488501,
          0.8193247126436781,
          0.8210526315789474,
          0.8231665524331734,
          0.8251046025104602,
          0.8270898086046131,
          0.8290420598112905,
          0.8311180609851446,
          0.8332059318147073,
          0.8353275501046964,
          0.8371140055612469,
          0.8393752686631323,
          0.8412053258584443,
          0.8432743726861374,
          0.8453497721790405,
          0.8474931273726928,
          0.8497826642802352,
          0.8523976023976024,
          0.8550530293794953,
          0.8586879011171856
         ],
         "yaxis": "y"
        },
        {
         "hovertemplate": "variable=recall<br>index=%{x}<br>value=%{y}<extra></extra>",
         "legendgroup": "recall",
         "line": {
          "color": "#00cc96",
          "dash": "solid"
         },
         "marker": {
          "symbol": "circle"
         },
         "mode": "lines",
         "name": "recall",
         "orientation": "v",
         "showlegend": true,
         "type": "scatter",
         "x": [
          "09:45:00",
          "09:50:00",
          "09:55:00",
          "10:00:00",
          "10:05:00",
          "10:10:00",
          "10:15:00",
          "10:20:00",
          "10:25:00",
          "10:30:00",
          "10:35:00",
          "10:40:00",
          "10:45:00",
          "10:50:00",
          "10:55:00",
          "11:00:00",
          "11:05:00",
          "11:10:00",
          "11:15:00",
          "11:20:00",
          "11:25:00",
          "11:30:00",
          "11:35:00",
          "11:40:00",
          "11:45:00",
          "11:50:00",
          "11:55:00",
          "12:00:00",
          "12:05:00",
          "12:10:00",
          "12:15:00",
          "12:20:00",
          "12:25:00",
          "12:30:00",
          "12:35:00",
          "12:40:00",
          "12:45:00",
          "12:50:00",
          "12:55:00",
          "13:00:00",
          "13:05:00",
          "13:10:00",
          "13:15:00",
          "13:20:00",
          "13:25:00",
          "13:30:00",
          "13:35:00",
          "13:40:00",
          "13:45:00",
          "13:50:00",
          "13:55:00",
          "14:00:00",
          "14:05:00",
          "14:10:00",
          "14:15:00",
          "14:20:00",
          "14:25:00",
          "14:30:00",
          "14:35:00",
          "14:40:00",
          "14:45:00",
          "14:50:00",
          "14:55:00",
          "15:00:00",
          "15:05:00",
          "15:10:00",
          "15:15:00",
          "15:20:00",
          "15:25:00",
          "15:30:00",
          "15:35:00",
          "15:40:00",
          "15:45:00",
          "15:50:00",
          "15:55:00"
         ],
         "xaxis": "x",
         "y": [
          0.3888888888888889,
          0.3684210526315789,
          0.35555555555555557,
          0.39919354838709675,
          0.421875,
          0.4413265306122449,
          0.4645161290322581,
          0.4789762340036563,
          0.49206349206349204,
          0.5062937062937063,
          0.5099750623441397,
          0.5235955056179775,
          0.5352400408580184,
          0.5434173669467787,
          0.5546001719690455,
          0.5617529880478087,
          0.5682492581602374,
          0.5739070090215128,
          0.5824104234527687,
          0.5901840490797546,
          0.5969889982628837,
          0.6035049288061336,
          0.6113129216398547,
          0.6185312962050271,
          0.625234521575985,
          0.6316495306213679,
          0.6380708493384549,
          0.6450428396572827,
          0.6493557204217103,
          0.6529389741669787,
          0.6592379583033788,
          0.6639032815198618,
          0.6685486549319163,
          0.6727330779054917,
          0.6772210267445435,
          0.6817777777777778,
          0.6863922241280732,
          0.6896742131419106,
          0.6926360725720384,
          0.696258064516129,
          0.6985514485514486,
          0.7005321722302854,
          0.703469292076887,
          0.7060695612639236,
          0.7083885209713024,
          0.7113446279219386,
          0.7143452877397831,
          0.7173868938932847,
          0.7199288959115149,
          0.7222008464794152,
          0.7244611059044048,
          0.7273890005481455,
          0.7301728747103903,
          0.7325682490001739,
          0.7352342158859471,
          0.7369467926404774,
          0.7389050858438614,
          0.7408580022162419,
          0.7434230888269886,
          0.7460653753026635,
          0.7481503403373779,
          0.7501085226450586,
          0.75187438110058,
          0.7540121748754842,
          0.7558532954391664,
          0.7570142932768661,
          0.7581208748544066,
          0.7598430181035574,
          0.7617985878855444,
          0.764513392316083,
          0.7679715302491104,
          0.7717403924300476,
          0.775769973860666,
          0.7800266903914591,
          0.7850700858415735
         ],
         "yaxis": "y"
        }
       ],
       "layout": {
        "legend": {
         "title": {
          "text": "variable"
         },
         "tracegroupgap": 0
        },
        "template": {
         "data": {
          "bar": [
           {
            "error_x": {
             "color": "#2a3f5f"
            },
            "error_y": {
             "color": "#2a3f5f"
            },
            "marker": {
             "line": {
              "color": "#E5ECF6",
              "width": 0.5
             },
             "pattern": {
              "fillmode": "overlay",
              "size": 10,
              "solidity": 0.2
             }
            },
            "type": "bar"
           }
          ],
          "barpolar": [
           {
            "marker": {
             "line": {
              "color": "#E5ECF6",
              "width": 0.5
             },
             "pattern": {
              "fillmode": "overlay",
              "size": 10,
              "solidity": 0.2
             }
            },
            "type": "barpolar"
           }
          ],
          "carpet": [
           {
            "aaxis": {
             "endlinecolor": "#2a3f5f",
             "gridcolor": "white",
             "linecolor": "white",
             "minorgridcolor": "white",
             "startlinecolor": "#2a3f5f"
            },
            "baxis": {
             "endlinecolor": "#2a3f5f",
             "gridcolor": "white",
             "linecolor": "white",
             "minorgridcolor": "white",
             "startlinecolor": "#2a3f5f"
            },
            "type": "carpet"
           }
          ],
          "choropleth": [
           {
            "colorbar": {
             "outlinewidth": 0,
             "ticks": ""
            },
            "type": "choropleth"
           }
          ],
          "contour": [
           {
            "colorbar": {
             "outlinewidth": 0,
             "ticks": ""
            },
            "colorscale": [
             [
              0,
              "#0d0887"
             ],
             [
              0.1111111111111111,
              "#46039f"
             ],
             [
              0.2222222222222222,
              "#7201a8"
             ],
             [
              0.3333333333333333,
              "#9c179e"
             ],
             [
              0.4444444444444444,
              "#bd3786"
             ],
             [
              0.5555555555555556,
              "#d8576b"
             ],
             [
              0.6666666666666666,
              "#ed7953"
             ],
             [
              0.7777777777777778,
              "#fb9f3a"
             ],
             [
              0.8888888888888888,
              "#fdca26"
             ],
             [
              1,
              "#f0f921"
             ]
            ],
            "type": "contour"
           }
          ],
          "contourcarpet": [
           {
            "colorbar": {
             "outlinewidth": 0,
             "ticks": ""
            },
            "type": "contourcarpet"
           }
          ],
          "heatmap": [
           {
            "colorbar": {
             "outlinewidth": 0,
             "ticks": ""
            },
            "colorscale": [
             [
              0,
              "#0d0887"
             ],
             [
              0.1111111111111111,
              "#46039f"
             ],
             [
              0.2222222222222222,
              "#7201a8"
             ],
             [
              0.3333333333333333,
              "#9c179e"
             ],
             [
              0.4444444444444444,
              "#bd3786"
             ],
             [
              0.5555555555555556,
              "#d8576b"
             ],
             [
              0.6666666666666666,
              "#ed7953"
             ],
             [
              0.7777777777777778,
              "#fb9f3a"
             ],
             [
              0.8888888888888888,
              "#fdca26"
             ],
             [
              1,
              "#f0f921"
             ]
            ],
            "type": "heatmap"
           }
          ],
          "heatmapgl": [
           {
            "colorbar": {
             "outlinewidth": 0,
             "ticks": ""
            },
            "colorscale": [
             [
              0,
              "#0d0887"
             ],
             [
              0.1111111111111111,
              "#46039f"
             ],
             [
              0.2222222222222222,
              "#7201a8"
             ],
             [
              0.3333333333333333,
              "#9c179e"
             ],
             [
              0.4444444444444444,
              "#bd3786"
             ],
             [
              0.5555555555555556,
              "#d8576b"
             ],
             [
              0.6666666666666666,
              "#ed7953"
             ],
             [
              0.7777777777777778,
              "#fb9f3a"
             ],
             [
              0.8888888888888888,
              "#fdca26"
             ],
             [
              1,
              "#f0f921"
             ]
            ],
            "type": "heatmapgl"
           }
          ],
          "histogram": [
           {
            "marker": {
             "pattern": {
              "fillmode": "overlay",
              "size": 10,
              "solidity": 0.2
             }
            },
            "type": "histogram"
           }
          ],
          "histogram2d": [
           {
            "colorbar": {
             "outlinewidth": 0,
             "ticks": ""
            },
            "colorscale": [
             [
              0,
              "#0d0887"
             ],
             [
              0.1111111111111111,
              "#46039f"
             ],
             [
              0.2222222222222222,
              "#7201a8"
             ],
             [
              0.3333333333333333,
              "#9c179e"
             ],
             [
              0.4444444444444444,
              "#bd3786"
             ],
             [
              0.5555555555555556,
              "#d8576b"
             ],
             [
              0.6666666666666666,
              "#ed7953"
             ],
             [
              0.7777777777777778,
              "#fb9f3a"
             ],
             [
              0.8888888888888888,
              "#fdca26"
             ],
             [
              1,
              "#f0f921"
             ]
            ],
            "type": "histogram2d"
           }
          ],
          "histogram2dcontour": [
           {
            "colorbar": {
             "outlinewidth": 0,
             "ticks": ""
            },
            "colorscale": [
             [
              0,
              "#0d0887"
             ],
             [
              0.1111111111111111,
              "#46039f"
             ],
             [
              0.2222222222222222,
              "#7201a8"
             ],
             [
              0.3333333333333333,
              "#9c179e"
             ],
             [
              0.4444444444444444,
              "#bd3786"
             ],
             [
              0.5555555555555556,
              "#d8576b"
             ],
             [
              0.6666666666666666,
              "#ed7953"
             ],
             [
              0.7777777777777778,
              "#fb9f3a"
             ],
             [
              0.8888888888888888,
              "#fdca26"
             ],
             [
              1,
              "#f0f921"
             ]
            ],
            "type": "histogram2dcontour"
           }
          ],
          "mesh3d": [
           {
            "colorbar": {
             "outlinewidth": 0,
             "ticks": ""
            },
            "type": "mesh3d"
           }
          ],
          "parcoords": [
           {
            "line": {
             "colorbar": {
              "outlinewidth": 0,
              "ticks": ""
             }
            },
            "type": "parcoords"
           }
          ],
          "pie": [
           {
            "automargin": true,
            "type": "pie"
           }
          ],
          "scatter": [
           {
            "fillpattern": {
             "fillmode": "overlay",
             "size": 10,
             "solidity": 0.2
            },
            "type": "scatter"
           }
          ],
          "scatter3d": [
           {
            "line": {
             "colorbar": {
              "outlinewidth": 0,
              "ticks": ""
             }
            },
            "marker": {
             "colorbar": {
              "outlinewidth": 0,
              "ticks": ""
             }
            },
            "type": "scatter3d"
           }
          ],
          "scattercarpet": [
           {
            "marker": {
             "colorbar": {
              "outlinewidth": 0,
              "ticks": ""
             }
            },
            "type": "scattercarpet"
           }
          ],
          "scattergeo": [
           {
            "marker": {
             "colorbar": {
              "outlinewidth": 0,
              "ticks": ""
             }
            },
            "type": "scattergeo"
           }
          ],
          "scattergl": [
           {
            "marker": {
             "colorbar": {
              "outlinewidth": 0,
              "ticks": ""
             }
            },
            "type": "scattergl"
           }
          ],
          "scattermapbox": [
           {
            "marker": {
             "colorbar": {
              "outlinewidth": 0,
              "ticks": ""
             }
            },
            "type": "scattermapbox"
           }
          ],
          "scatterpolar": [
           {
            "marker": {
             "colorbar": {
              "outlinewidth": 0,
              "ticks": ""
             }
            },
            "type": "scatterpolar"
           }
          ],
          "scatterpolargl": [
           {
            "marker": {
             "colorbar": {
              "outlinewidth": 0,
              "ticks": ""
             }
            },
            "type": "scatterpolargl"
           }
          ],
          "scatterternary": [
           {
            "marker": {
             "colorbar": {
              "outlinewidth": 0,
              "ticks": ""
             }
            },
            "type": "scatterternary"
           }
          ],
          "surface": [
           {
            "colorbar": {
             "outlinewidth": 0,
             "ticks": ""
            },
            "colorscale": [
             [
              0,
              "#0d0887"
             ],
             [
              0.1111111111111111,
              "#46039f"
             ],
             [
              0.2222222222222222,
              "#7201a8"
             ],
             [
              0.3333333333333333,
              "#9c179e"
             ],
             [
              0.4444444444444444,
              "#bd3786"
             ],
             [
              0.5555555555555556,
              "#d8576b"
             ],
             [
              0.6666666666666666,
              "#ed7953"
             ],
             [
              0.7777777777777778,
              "#fb9f3a"
             ],
             [
              0.8888888888888888,
              "#fdca26"
             ],
             [
              1,
              "#f0f921"
             ]
            ],
            "type": "surface"
           }
          ],
          "table": [
           {
            "cells": {
             "fill": {
              "color": "#EBF0F8"
             },
             "line": {
              "color": "white"
             }
            },
            "header": {
             "fill": {
              "color": "#C8D4E3"
             },
             "line": {
              "color": "white"
             }
            },
            "type": "table"
           }
          ]
         },
         "layout": {
          "annotationdefaults": {
           "arrowcolor": "#2a3f5f",
           "arrowhead": 0,
           "arrowwidth": 1
          },
          "autotypenumbers": "strict",
          "coloraxis": {
           "colorbar": {
            "outlinewidth": 0,
            "ticks": ""
           }
          },
          "colorscale": {
           "diverging": [
            [
             0,
             "#8e0152"
            ],
            [
             0.1,
             "#c51b7d"
            ],
            [
             0.2,
             "#de77ae"
            ],
            [
             0.3,
             "#f1b6da"
            ],
            [
             0.4,
             "#fde0ef"
            ],
            [
             0.5,
             "#f7f7f7"
            ],
            [
             0.6,
             "#e6f5d0"
            ],
            [
             0.7,
             "#b8e186"
            ],
            [
             0.8,
             "#7fbc41"
            ],
            [
             0.9,
             "#4d9221"
            ],
            [
             1,
             "#276419"
            ]
           ],
           "sequential": [
            [
             0,
             "#0d0887"
            ],
            [
             0.1111111111111111,
             "#46039f"
            ],
            [
             0.2222222222222222,
             "#7201a8"
            ],
            [
             0.3333333333333333,
             "#9c179e"
            ],
            [
             0.4444444444444444,
             "#bd3786"
            ],
            [
             0.5555555555555556,
             "#d8576b"
            ],
            [
             0.6666666666666666,
             "#ed7953"
            ],
            [
             0.7777777777777778,
             "#fb9f3a"
            ],
            [
             0.8888888888888888,
             "#fdca26"
            ],
            [
             1,
             "#f0f921"
            ]
           ],
           "sequentialminus": [
            [
             0,
             "#0d0887"
            ],
            [
             0.1111111111111111,
             "#46039f"
            ],
            [
             0.2222222222222222,
             "#7201a8"
            ],
            [
             0.3333333333333333,
             "#9c179e"
            ],
            [
             0.4444444444444444,
             "#bd3786"
            ],
            [
             0.5555555555555556,
             "#d8576b"
            ],
            [
             0.6666666666666666,
             "#ed7953"
            ],
            [
             0.7777777777777778,
             "#fb9f3a"
            ],
            [
             0.8888888888888888,
             "#fdca26"
            ],
            [
             1,
             "#f0f921"
            ]
           ]
          },
          "colorway": [
           "#636efa",
           "#EF553B",
           "#00cc96",
           "#ab63fa",
           "#FFA15A",
           "#19d3f3",
           "#FF6692",
           "#B6E880",
           "#FF97FF",
           "#FECB52"
          ],
          "font": {
           "color": "#2a3f5f"
          },
          "geo": {
           "bgcolor": "white",
           "lakecolor": "white",
           "landcolor": "#E5ECF6",
           "showlakes": true,
           "showland": true,
           "subunitcolor": "white"
          },
          "hoverlabel": {
           "align": "left"
          },
          "hovermode": "closest",
          "mapbox": {
           "style": "light"
          },
          "paper_bgcolor": "white",
          "plot_bgcolor": "#E5ECF6",
          "polar": {
           "angularaxis": {
            "gridcolor": "white",
            "linecolor": "white",
            "ticks": ""
           },
           "bgcolor": "#E5ECF6",
           "radialaxis": {
            "gridcolor": "white",
            "linecolor": "white",
            "ticks": ""
           }
          },
          "scene": {
           "xaxis": {
            "backgroundcolor": "#E5ECF6",
            "gridcolor": "white",
            "gridwidth": 2,
            "linecolor": "white",
            "showbackground": true,
            "ticks": "",
            "zerolinecolor": "white"
           },
           "yaxis": {
            "backgroundcolor": "#E5ECF6",
            "gridcolor": "white",
            "gridwidth": 2,
            "linecolor": "white",
            "showbackground": true,
            "ticks": "",
            "zerolinecolor": "white"
           },
           "zaxis": {
            "backgroundcolor": "#E5ECF6",
            "gridcolor": "white",
            "gridwidth": 2,
            "linecolor": "white",
            "showbackground": true,
            "ticks": "",
            "zerolinecolor": "white"
           }
          },
          "shapedefaults": {
           "line": {
            "color": "#2a3f5f"
           }
          },
          "ternary": {
           "aaxis": {
            "gridcolor": "white",
            "linecolor": "white",
            "ticks": ""
           },
           "baxis": {
            "gridcolor": "white",
            "linecolor": "white",
            "ticks": ""
           },
           "bgcolor": "#E5ECF6",
           "caxis": {
            "gridcolor": "white",
            "linecolor": "white",
            "ticks": ""
           }
          },
          "title": {
           "x": 0.05
          },
          "xaxis": {
           "automargin": true,
           "gridcolor": "white",
           "linecolor": "white",
           "ticks": "",
           "title": {
            "standoff": 15
           },
           "zerolinecolor": "white",
           "zerolinewidth": 2
          },
          "yaxis": {
           "automargin": true,
           "gridcolor": "white",
           "linecolor": "white",
           "ticks": "",
           "title": {
            "standoff": 15
           },
           "zerolinecolor": "white",
           "zerolinewidth": 2
          }
         }
        },
        "title": {
         "text": "Validation Metrics Over Time (HOD Model)"
        },
        "xaxis": {
         "anchor": "y",
         "domain": [
          0,
          1
         ],
         "title": {
          "text": "index"
         }
        },
        "yaxis": {
         "anchor": "x",
         "domain": [
          0,
          1
         ],
         "title": {
          "text": "value"
         }
        }
       }
      }
     },
     "metadata": {},
     "output_type": "display_data"
    }
   ],
   "source": [
    "import datetime\n",
    "import plotly.express as px\n",
    "\n",
    "\n",
    "time_range = [datetime.time(hour, minute) for hour in range(9, 16) for minute in range(0, 60, 5)]\n",
    "time_range = [x for x in time_range if x >= datetime.time(9,45)]\n",
    "df_val = pd.DataFrame()\n",
    "for t in time_range:\n",
    "    X_val = X_test.loc[X_test['time'] <= t].copy()\n",
    "    y_val = y_test.loc[X_val.index, 'hod_in'].copy()\n",
    "\n",
    "    y_pred_val = pipeline.predict_proba(X_val)[:,-1]\n",
    "\n",
    "    df_val.loc[t, [\n",
    "        'roc_auc',\n",
    "        'precision',\n",
    "        'recall'\n",
    "    ]] =  roc_auc_score(y_val, y_pred_val), precision_score(y_val, y_pred_val > 0.5), recall_score(y_val, y_pred_val > 0.5)\n",
    "\n",
    "\n",
    "fig = px.line(df_val, title='Validation Metrics Over Time (HOD Model)')\n",
    "fig.show()"
   ]
  },
  {
   "cell_type": "code",
   "execution_count": 107,
   "metadata": {},
   "outputs": [
    {
     "data": {
      "application/vnd.plotly.v1+json": {
       "config": {
        "plotlyServerURL": "https://plot.ly"
       },
       "data": [
        {
         "hovertemplate": "variable=roc_auc<br>index=%{x}<br>value=%{y}<extra></extra>",
         "legendgroup": "roc_auc",
         "line": {
          "color": "#636efa",
          "dash": "solid"
         },
         "marker": {
          "symbol": "circle"
         },
         "mode": "lines",
         "name": "roc_auc",
         "orientation": "v",
         "showlegend": true,
         "type": "scatter",
         "x": [
          "09:45:00",
          "09:50:00",
          "09:55:00",
          "10:00:00",
          "10:05:00",
          "10:10:00",
          "10:15:00",
          "10:20:00",
          "10:25:00",
          "10:30:00",
          "10:35:00",
          "10:40:00",
          "10:45:00",
          "10:50:00",
          "10:55:00",
          "11:00:00",
          "11:05:00",
          "11:10:00",
          "11:15:00",
          "11:20:00",
          "11:25:00",
          "11:30:00",
          "11:35:00",
          "11:40:00",
          "11:45:00",
          "11:50:00",
          "11:55:00",
          "12:00:00",
          "12:05:00",
          "12:10:00",
          "12:15:00",
          "12:20:00",
          "12:25:00",
          "12:30:00",
          "12:35:00",
          "12:40:00",
          "12:45:00",
          "12:50:00",
          "12:55:00",
          "13:00:00",
          "13:05:00",
          "13:10:00",
          "13:15:00",
          "13:20:00",
          "13:25:00",
          "13:30:00",
          "13:35:00",
          "13:40:00",
          "13:45:00",
          "13:50:00",
          "13:55:00",
          "14:00:00",
          "14:05:00",
          "14:10:00",
          "14:15:00",
          "14:20:00",
          "14:25:00",
          "14:30:00",
          "14:35:00",
          "14:40:00",
          "14:45:00",
          "14:50:00",
          "14:55:00",
          "15:00:00",
          "15:05:00",
          "15:10:00",
          "15:15:00",
          "15:20:00",
          "15:25:00",
          "15:30:00",
          "15:35:00",
          "15:40:00",
          "15:45:00",
          "15:50:00",
          "15:55:00"
         ],
         "xaxis": "x",
         "y": [
          0.7916375494991847,
          0.7860717498875394,
          0.7866134107964172,
          0.7951092181157873,
          0.7968330536912751,
          0.8047720781314784,
          0.8118552055167788,
          0.8102733697910658,
          0.8111863445196779,
          0.8132733697398009,
          0.814768723874933,
          0.8179593185588843,
          0.8217489057925942,
          0.8223602017119425,
          0.8238916798125943,
          0.8254721013761952,
          0.8263768585158504,
          0.8281406009257279,
          0.8302775991203137,
          0.8312986073852902,
          0.8324618933008205,
          0.8340863134674744,
          0.8359408448756461,
          0.838028444831807,
          0.8405532388215544,
          0.8426676626486574,
          0.8447667259782912,
          0.846067697726565,
          0.84728844080541,
          0.8483864969760252,
          0.849413670075189,
          0.8504362718086351,
          0.8509382141042824,
          0.8510130883463378,
          0.8515828321179161,
          0.8517160925192604,
          0.8525939075123532,
          0.8532722534422418,
          0.8537097390012554,
          0.8545160040279177,
          0.8552210635632077,
          0.8557786311515198,
          0.8565143101279716,
          0.8568693312608249,
          0.8572918673539509,
          0.8575500317585333,
          0.8581087842607691,
          0.8590249751502544,
          0.8600688005257543,
          0.8607918698933978,
          0.8614336039574141,
          0.8622786949854324,
          0.8633501646500785,
          0.8641836954850031,
          0.8652676828202369,
          0.8661167506958775,
          0.8669182182978814,
          0.8678971014748519,
          0.8691048483370345,
          0.8702883124302853,
          0.8713642049424337,
          0.872160347235481,
          0.8728227922016999,
          0.8738297560634193,
          0.8748793972038442,
          0.8754738628664038,
          0.8761574910938404,
          0.8769921660474039,
          0.8778931414342226,
          0.8788159583268651,
          0.8800306742986179,
          0.8815377119630061,
          0.8833083917910547,
          0.8852423863514036,
          0.8878734693112922
         ],
         "yaxis": "y"
        },
        {
         "hovertemplate": "variable=precision<br>index=%{x}<br>value=%{y}<extra></extra>",
         "legendgroup": "precision",
         "line": {
          "color": "#EF553B",
          "dash": "solid"
         },
         "marker": {
          "symbol": "circle"
         },
         "mode": "lines",
         "name": "precision",
         "orientation": "v",
         "showlegend": true,
         "type": "scatter",
         "x": [
          "09:45:00",
          "09:50:00",
          "09:55:00",
          "10:00:00",
          "10:05:00",
          "10:10:00",
          "10:15:00",
          "10:20:00",
          "10:25:00",
          "10:30:00",
          "10:35:00",
          "10:40:00",
          "10:45:00",
          "10:50:00",
          "10:55:00",
          "11:00:00",
          "11:05:00",
          "11:10:00",
          "11:15:00",
          "11:20:00",
          "11:25:00",
          "11:30:00",
          "11:35:00",
          "11:40:00",
          "11:45:00",
          "11:50:00",
          "11:55:00",
          "12:00:00",
          "12:05:00",
          "12:10:00",
          "12:15:00",
          "12:20:00",
          "12:25:00",
          "12:30:00",
          "12:35:00",
          "12:40:00",
          "12:45:00",
          "12:50:00",
          "12:55:00",
          "13:00:00",
          "13:05:00",
          "13:10:00",
          "13:15:00",
          "13:20:00",
          "13:25:00",
          "13:30:00",
          "13:35:00",
          "13:40:00",
          "13:45:00",
          "13:50:00",
          "13:55:00",
          "14:00:00",
          "14:05:00",
          "14:10:00",
          "14:15:00",
          "14:20:00",
          "14:25:00",
          "14:30:00",
          "14:35:00",
          "14:40:00",
          "14:45:00",
          "14:50:00",
          "14:55:00",
          "15:00:00",
          "15:05:00",
          "15:10:00",
          "15:15:00",
          "15:20:00",
          "15:25:00",
          "15:30:00",
          "15:35:00",
          "15:40:00",
          "15:45:00",
          "15:50:00",
          "15:55:00"
         ],
         "xaxis": "x",
         "y": [
          0.7333333333333333,
          0.71875,
          0.7368421052631579,
          0.7194244604316546,
          0.7204301075268817,
          0.7241379310344828,
          0.7330960854092526,
          0.7507507507507507,
          0.751269035532995,
          0.7610619469026548,
          0.7655038759689923,
          0.7653061224489796,
          0.7684210526315789,
          0.764,
          0.7604290822407628,
          0.7570194384449244,
          0.7551826258637709,
          0.7540983606557377,
          0.7527242246437552,
          0.752521334367727,
          0.753968253968254,
          0.7526809651474531,
          0.75375,
          0.7543859649122807,
          0.7561915244909191,
          0.7571206628689798,
          0.7586882036221243,
          0.7596109309865678,
          0.7601054481546573,
          0.7606516290726817,
          0.7611287758346582,
          0.7607872823618471,
          0.7609087630724847,
          0.7616259042369962,
          0.7619361211722094,
          0.7622950819672131,
          0.7630862329803328,
          0.7641756324512939,
          0.7653146853146853,
          0.7667025862068966,
          0.7676531671858775,
          0.7688454795892813,
          0.7703094777562862,
          0.7716020551144325,
          0.7725321888412017,
          0.7731147540983606,
          0.7742276766821836,
          0.7750666393274555,
          0.7761639474731397,
          0.7773482798608427,
          0.7786962239338718,
          0.7802961067446537,
          0.7818893435331792,
          0.7832179930795847,
          0.7848719676549866,
          0.7866644769256036,
          0.7884030113727375,
          0.7897860377947837,
          0.7918572735590119,
          0.793776057176891,
          0.7961885365144021,
          0.7982643334756011,
          0.8005844698023935,
          0.8025295797633619,
          0.8047644397125366,
          0.806875895298867,
          0.8090990187332738,
          0.8110599078341014,
          0.8132309941520468,
          0.8152782743415564,
          0.8175880569162585,
          0.8200593336376084,
          0.8228399196249163,
          0.8258684727987765,
          0.8297917778964229
         ],
         "yaxis": "y"
        },
        {
         "hovertemplate": "variable=recall<br>index=%{x}<br>value=%{y}<extra></extra>",
         "legendgroup": "recall",
         "line": {
          "color": "#00cc96",
          "dash": "solid"
         },
         "marker": {
          "symbol": "circle"
         },
         "mode": "lines",
         "name": "recall",
         "orientation": "v",
         "showlegend": true,
         "type": "scatter",
         "x": [
          "09:45:00",
          "09:50:00",
          "09:55:00",
          "10:00:00",
          "10:05:00",
          "10:10:00",
          "10:15:00",
          "10:20:00",
          "10:25:00",
          "10:30:00",
          "10:35:00",
          "10:40:00",
          "10:45:00",
          "10:50:00",
          "10:55:00",
          "11:00:00",
          "11:05:00",
          "11:10:00",
          "11:15:00",
          "11:20:00",
          "11:25:00",
          "11:30:00",
          "11:35:00",
          "11:40:00",
          "11:45:00",
          "11:50:00",
          "11:55:00",
          "12:00:00",
          "12:05:00",
          "12:10:00",
          "12:15:00",
          "12:20:00",
          "12:25:00",
          "12:30:00",
          "12:35:00",
          "12:40:00",
          "12:45:00",
          "12:50:00",
          "12:55:00",
          "13:00:00",
          "13:05:00",
          "13:10:00",
          "13:15:00",
          "13:20:00",
          "13:25:00",
          "13:30:00",
          "13:35:00",
          "13:40:00",
          "13:45:00",
          "13:50:00",
          "13:55:00",
          "14:00:00",
          "14:05:00",
          "14:10:00",
          "14:15:00",
          "14:20:00",
          "14:25:00",
          "14:30:00",
          "14:35:00",
          "14:40:00",
          "14:45:00",
          "14:50:00",
          "14:55:00",
          "15:00:00",
          "15:05:00",
          "15:10:00",
          "15:15:00",
          "15:20:00",
          "15:25:00",
          "15:30:00",
          "15:35:00",
          "15:40:00",
          "15:45:00",
          "15:50:00",
          "15:55:00"
         ],
         "xaxis": "x",
         "y": [
          0.4074074074074074,
          0.40350877192982454,
          0.3888888888888889,
          0.4032258064516129,
          0.41875,
          0.42857142857142855,
          0.443010752688172,
          0.4570383912248629,
          0.46984126984126984,
          0.4811188811188811,
          0.4925187032418953,
          0.5056179775280899,
          0.5219611848825332,
          0.5350140056022409,
          0.5485812553740327,
          0.5585657370517928,
          0.5675074183976261,
          0.5746009715475364,
          0.5850162866449511,
          0.5950920245398773,
          0.6050955414012739,
          0.6150054764512596,
          0.6258432797093928,
          0.6357811729916215,
          0.6444652908067542,
          0.6535538667858739,
          0.6615450277422108,
          0.6691146470828233,
          0.6755173760249903,
          0.6817671284163235,
          0.688353702372394,
          0.694300518134715,
          0.7007638658253073,
          0.7059386973180076,
          0.7113433753458346,
          0.7164444444444444,
          0.7209834190966267,
          0.725565985643291,
          0.7299893276414088,
          0.7344516129032258,
          0.7385114885114885,
          0.7426221577164973,
          0.7468354430379747,
          0.7510797908615594,
          0.7549668874172185,
          0.7585245550075059,
          0.7629274395329442,
          0.7668898356664637,
          0.7704918032786885,
          0.77375913813005,
          0.7769447047797563,
          0.7800109629088251,
          0.7832828372839066,
          0.7871674491392802,
          0.7907331975560081,
          0.793966517487154,
          0.797214123744736,
          0.8005382301725502,
          0.8036211699164345,
          0.8067493946731235,
          0.8098549866824505,
          0.8118940818984228,
          0.813835054463149,
          0.8164084117321527,
          0.8183786709974286,
          0.8200105876124933,
          0.8216642940339071,
          0.8244081529307508,
          0.8268301746562616,
          0.829111622833596,
          0.8315539739027283,
          0.8344363171949379,
          0.837708830548926,
          0.8407473309608541,
          0.8443985656851026
         ],
         "yaxis": "y"
        }
       ],
       "layout": {
        "legend": {
         "title": {
          "text": "variable"
         },
         "tracegroupgap": 0
        },
        "template": {
         "data": {
          "bar": [
           {
            "error_x": {
             "color": "#2a3f5f"
            },
            "error_y": {
             "color": "#2a3f5f"
            },
            "marker": {
             "line": {
              "color": "#E5ECF6",
              "width": 0.5
             },
             "pattern": {
              "fillmode": "overlay",
              "size": 10,
              "solidity": 0.2
             }
            },
            "type": "bar"
           }
          ],
          "barpolar": [
           {
            "marker": {
             "line": {
              "color": "#E5ECF6",
              "width": 0.5
             },
             "pattern": {
              "fillmode": "overlay",
              "size": 10,
              "solidity": 0.2
             }
            },
            "type": "barpolar"
           }
          ],
          "carpet": [
           {
            "aaxis": {
             "endlinecolor": "#2a3f5f",
             "gridcolor": "white",
             "linecolor": "white",
             "minorgridcolor": "white",
             "startlinecolor": "#2a3f5f"
            },
            "baxis": {
             "endlinecolor": "#2a3f5f",
             "gridcolor": "white",
             "linecolor": "white",
             "minorgridcolor": "white",
             "startlinecolor": "#2a3f5f"
            },
            "type": "carpet"
           }
          ],
          "choropleth": [
           {
            "colorbar": {
             "outlinewidth": 0,
             "ticks": ""
            },
            "type": "choropleth"
           }
          ],
          "contour": [
           {
            "colorbar": {
             "outlinewidth": 0,
             "ticks": ""
            },
            "colorscale": [
             [
              0,
              "#0d0887"
             ],
             [
              0.1111111111111111,
              "#46039f"
             ],
             [
              0.2222222222222222,
              "#7201a8"
             ],
             [
              0.3333333333333333,
              "#9c179e"
             ],
             [
              0.4444444444444444,
              "#bd3786"
             ],
             [
              0.5555555555555556,
              "#d8576b"
             ],
             [
              0.6666666666666666,
              "#ed7953"
             ],
             [
              0.7777777777777778,
              "#fb9f3a"
             ],
             [
              0.8888888888888888,
              "#fdca26"
             ],
             [
              1,
              "#f0f921"
             ]
            ],
            "type": "contour"
           }
          ],
          "contourcarpet": [
           {
            "colorbar": {
             "outlinewidth": 0,
             "ticks": ""
            },
            "type": "contourcarpet"
           }
          ],
          "heatmap": [
           {
            "colorbar": {
             "outlinewidth": 0,
             "ticks": ""
            },
            "colorscale": [
             [
              0,
              "#0d0887"
             ],
             [
              0.1111111111111111,
              "#46039f"
             ],
             [
              0.2222222222222222,
              "#7201a8"
             ],
             [
              0.3333333333333333,
              "#9c179e"
             ],
             [
              0.4444444444444444,
              "#bd3786"
             ],
             [
              0.5555555555555556,
              "#d8576b"
             ],
             [
              0.6666666666666666,
              "#ed7953"
             ],
             [
              0.7777777777777778,
              "#fb9f3a"
             ],
             [
              0.8888888888888888,
              "#fdca26"
             ],
             [
              1,
              "#f0f921"
             ]
            ],
            "type": "heatmap"
           }
          ],
          "heatmapgl": [
           {
            "colorbar": {
             "outlinewidth": 0,
             "ticks": ""
            },
            "colorscale": [
             [
              0,
              "#0d0887"
             ],
             [
              0.1111111111111111,
              "#46039f"
             ],
             [
              0.2222222222222222,
              "#7201a8"
             ],
             [
              0.3333333333333333,
              "#9c179e"
             ],
             [
              0.4444444444444444,
              "#bd3786"
             ],
             [
              0.5555555555555556,
              "#d8576b"
             ],
             [
              0.6666666666666666,
              "#ed7953"
             ],
             [
              0.7777777777777778,
              "#fb9f3a"
             ],
             [
              0.8888888888888888,
              "#fdca26"
             ],
             [
              1,
              "#f0f921"
             ]
            ],
            "type": "heatmapgl"
           }
          ],
          "histogram": [
           {
            "marker": {
             "pattern": {
              "fillmode": "overlay",
              "size": 10,
              "solidity": 0.2
             }
            },
            "type": "histogram"
           }
          ],
          "histogram2d": [
           {
            "colorbar": {
             "outlinewidth": 0,
             "ticks": ""
            },
            "colorscale": [
             [
              0,
              "#0d0887"
             ],
             [
              0.1111111111111111,
              "#46039f"
             ],
             [
              0.2222222222222222,
              "#7201a8"
             ],
             [
              0.3333333333333333,
              "#9c179e"
             ],
             [
              0.4444444444444444,
              "#bd3786"
             ],
             [
              0.5555555555555556,
              "#d8576b"
             ],
             [
              0.6666666666666666,
              "#ed7953"
             ],
             [
              0.7777777777777778,
              "#fb9f3a"
             ],
             [
              0.8888888888888888,
              "#fdca26"
             ],
             [
              1,
              "#f0f921"
             ]
            ],
            "type": "histogram2d"
           }
          ],
          "histogram2dcontour": [
           {
            "colorbar": {
             "outlinewidth": 0,
             "ticks": ""
            },
            "colorscale": [
             [
              0,
              "#0d0887"
             ],
             [
              0.1111111111111111,
              "#46039f"
             ],
             [
              0.2222222222222222,
              "#7201a8"
             ],
             [
              0.3333333333333333,
              "#9c179e"
             ],
             [
              0.4444444444444444,
              "#bd3786"
             ],
             [
              0.5555555555555556,
              "#d8576b"
             ],
             [
              0.6666666666666666,
              "#ed7953"
             ],
             [
              0.7777777777777778,
              "#fb9f3a"
             ],
             [
              0.8888888888888888,
              "#fdca26"
             ],
             [
              1,
              "#f0f921"
             ]
            ],
            "type": "histogram2dcontour"
           }
          ],
          "mesh3d": [
           {
            "colorbar": {
             "outlinewidth": 0,
             "ticks": ""
            },
            "type": "mesh3d"
           }
          ],
          "parcoords": [
           {
            "line": {
             "colorbar": {
              "outlinewidth": 0,
              "ticks": ""
             }
            },
            "type": "parcoords"
           }
          ],
          "pie": [
           {
            "automargin": true,
            "type": "pie"
           }
          ],
          "scatter": [
           {
            "fillpattern": {
             "fillmode": "overlay",
             "size": 10,
             "solidity": 0.2
            },
            "type": "scatter"
           }
          ],
          "scatter3d": [
           {
            "line": {
             "colorbar": {
              "outlinewidth": 0,
              "ticks": ""
             }
            },
            "marker": {
             "colorbar": {
              "outlinewidth": 0,
              "ticks": ""
             }
            },
            "type": "scatter3d"
           }
          ],
          "scattercarpet": [
           {
            "marker": {
             "colorbar": {
              "outlinewidth": 0,
              "ticks": ""
             }
            },
            "type": "scattercarpet"
           }
          ],
          "scattergeo": [
           {
            "marker": {
             "colorbar": {
              "outlinewidth": 0,
              "ticks": ""
             }
            },
            "type": "scattergeo"
           }
          ],
          "scattergl": [
           {
            "marker": {
             "colorbar": {
              "outlinewidth": 0,
              "ticks": ""
             }
            },
            "type": "scattergl"
           }
          ],
          "scattermapbox": [
           {
            "marker": {
             "colorbar": {
              "outlinewidth": 0,
              "ticks": ""
             }
            },
            "type": "scattermapbox"
           }
          ],
          "scatterpolar": [
           {
            "marker": {
             "colorbar": {
              "outlinewidth": 0,
              "ticks": ""
             }
            },
            "type": "scatterpolar"
           }
          ],
          "scatterpolargl": [
           {
            "marker": {
             "colorbar": {
              "outlinewidth": 0,
              "ticks": ""
             }
            },
            "type": "scatterpolargl"
           }
          ],
          "scatterternary": [
           {
            "marker": {
             "colorbar": {
              "outlinewidth": 0,
              "ticks": ""
             }
            },
            "type": "scatterternary"
           }
          ],
          "surface": [
           {
            "colorbar": {
             "outlinewidth": 0,
             "ticks": ""
            },
            "colorscale": [
             [
              0,
              "#0d0887"
             ],
             [
              0.1111111111111111,
              "#46039f"
             ],
             [
              0.2222222222222222,
              "#7201a8"
             ],
             [
              0.3333333333333333,
              "#9c179e"
             ],
             [
              0.4444444444444444,
              "#bd3786"
             ],
             [
              0.5555555555555556,
              "#d8576b"
             ],
             [
              0.6666666666666666,
              "#ed7953"
             ],
             [
              0.7777777777777778,
              "#fb9f3a"
             ],
             [
              0.8888888888888888,
              "#fdca26"
             ],
             [
              1,
              "#f0f921"
             ]
            ],
            "type": "surface"
           }
          ],
          "table": [
           {
            "cells": {
             "fill": {
              "color": "#EBF0F8"
             },
             "line": {
              "color": "white"
             }
            },
            "header": {
             "fill": {
              "color": "#C8D4E3"
             },
             "line": {
              "color": "white"
             }
            },
            "type": "table"
           }
          ]
         },
         "layout": {
          "annotationdefaults": {
           "arrowcolor": "#2a3f5f",
           "arrowhead": 0,
           "arrowwidth": 1
          },
          "autotypenumbers": "strict",
          "coloraxis": {
           "colorbar": {
            "outlinewidth": 0,
            "ticks": ""
           }
          },
          "colorscale": {
           "diverging": [
            [
             0,
             "#8e0152"
            ],
            [
             0.1,
             "#c51b7d"
            ],
            [
             0.2,
             "#de77ae"
            ],
            [
             0.3,
             "#f1b6da"
            ],
            [
             0.4,
             "#fde0ef"
            ],
            [
             0.5,
             "#f7f7f7"
            ],
            [
             0.6,
             "#e6f5d0"
            ],
            [
             0.7,
             "#b8e186"
            ],
            [
             0.8,
             "#7fbc41"
            ],
            [
             0.9,
             "#4d9221"
            ],
            [
             1,
             "#276419"
            ]
           ],
           "sequential": [
            [
             0,
             "#0d0887"
            ],
            [
             0.1111111111111111,
             "#46039f"
            ],
            [
             0.2222222222222222,
             "#7201a8"
            ],
            [
             0.3333333333333333,
             "#9c179e"
            ],
            [
             0.4444444444444444,
             "#bd3786"
            ],
            [
             0.5555555555555556,
             "#d8576b"
            ],
            [
             0.6666666666666666,
             "#ed7953"
            ],
            [
             0.7777777777777778,
             "#fb9f3a"
            ],
            [
             0.8888888888888888,
             "#fdca26"
            ],
            [
             1,
             "#f0f921"
            ]
           ],
           "sequentialminus": [
            [
             0,
             "#0d0887"
            ],
            [
             0.1111111111111111,
             "#46039f"
            ],
            [
             0.2222222222222222,
             "#7201a8"
            ],
            [
             0.3333333333333333,
             "#9c179e"
            ],
            [
             0.4444444444444444,
             "#bd3786"
            ],
            [
             0.5555555555555556,
             "#d8576b"
            ],
            [
             0.6666666666666666,
             "#ed7953"
            ],
            [
             0.7777777777777778,
             "#fb9f3a"
            ],
            [
             0.8888888888888888,
             "#fdca26"
            ],
            [
             1,
             "#f0f921"
            ]
           ]
          },
          "colorway": [
           "#636efa",
           "#EF553B",
           "#00cc96",
           "#ab63fa",
           "#FFA15A",
           "#19d3f3",
           "#FF6692",
           "#B6E880",
           "#FF97FF",
           "#FECB52"
          ],
          "font": {
           "color": "#2a3f5f"
          },
          "geo": {
           "bgcolor": "white",
           "lakecolor": "white",
           "landcolor": "#E5ECF6",
           "showlakes": true,
           "showland": true,
           "subunitcolor": "white"
          },
          "hoverlabel": {
           "align": "left"
          },
          "hovermode": "closest",
          "mapbox": {
           "style": "light"
          },
          "paper_bgcolor": "white",
          "plot_bgcolor": "#E5ECF6",
          "polar": {
           "angularaxis": {
            "gridcolor": "white",
            "linecolor": "white",
            "ticks": ""
           },
           "bgcolor": "#E5ECF6",
           "radialaxis": {
            "gridcolor": "white",
            "linecolor": "white",
            "ticks": ""
           }
          },
          "scene": {
           "xaxis": {
            "backgroundcolor": "#E5ECF6",
            "gridcolor": "white",
            "gridwidth": 2,
            "linecolor": "white",
            "showbackground": true,
            "ticks": "",
            "zerolinecolor": "white"
           },
           "yaxis": {
            "backgroundcolor": "#E5ECF6",
            "gridcolor": "white",
            "gridwidth": 2,
            "linecolor": "white",
            "showbackground": true,
            "ticks": "",
            "zerolinecolor": "white"
           },
           "zaxis": {
            "backgroundcolor": "#E5ECF6",
            "gridcolor": "white",
            "gridwidth": 2,
            "linecolor": "white",
            "showbackground": true,
            "ticks": "",
            "zerolinecolor": "white"
           }
          },
          "shapedefaults": {
           "line": {
            "color": "#2a3f5f"
           }
          },
          "ternary": {
           "aaxis": {
            "gridcolor": "white",
            "linecolor": "white",
            "ticks": ""
           },
           "baxis": {
            "gridcolor": "white",
            "linecolor": "white",
            "ticks": ""
           },
           "bgcolor": "#E5ECF6",
           "caxis": {
            "gridcolor": "white",
            "linecolor": "white",
            "ticks": ""
           }
          },
          "title": {
           "x": 0.05
          },
          "xaxis": {
           "automargin": true,
           "gridcolor": "white",
           "linecolor": "white",
           "ticks": "",
           "title": {
            "standoff": 15
           },
           "zerolinecolor": "white",
           "zerolinewidth": 2
          },
          "yaxis": {
           "automargin": true,
           "gridcolor": "white",
           "linecolor": "white",
           "ticks": "",
           "title": {
            "standoff": 15
           },
           "zerolinecolor": "white",
           "zerolinewidth": 2
          }
         }
        },
        "title": {
         "text": "Validation Metrics Over Time (HOD Model CV)"
        },
        "xaxis": {
         "anchor": "y",
         "domain": [
          0,
          1
         ],
         "title": {
          "text": "index"
         }
        },
        "yaxis": {
         "anchor": "x",
         "domain": [
          0,
          1
         ],
         "title": {
          "text": "value"
         }
        }
       }
      }
     },
     "metadata": {},
     "output_type": "display_data"
    }
   ],
   "source": [
    "import datetime\n",
    "import plotly.express as px\n",
    "\n",
    "\n",
    "time_range = [datetime.time(hour, minute) for hour in range(9, 16) for minute in range(0, 60, 5)]\n",
    "time_range = [x for x in time_range if x >= datetime.time(9,45)]\n",
    "df_val = pd.DataFrame()\n",
    "for t in time_range:\n",
    "    X_val = X_test.loc[X_test['time'] <= t].copy()\n",
    "    y_val = y_test.loc[X_val.index, 'hod_in'].copy()\n",
    "\n",
    "    y_pred_val = hod_model_cv.predict_proba(X_val)[:,-1]\n",
    "\n",
    "    df_val.loc[t, [\n",
    "        'roc_auc',\n",
    "        'precision',\n",
    "        'recall'\n",
    "    ]] =  roc_auc_score(y_val, y_pred_val), precision_score(y_val, y_pred_val > 0.5), recall_score(y_val, y_pred_val > 0.5)\n",
    "\n",
    "\n",
    "fig = px.line(df_val, title='Validation Metrics Over Time (HOD Model CV)')\n",
    "fig.show()"
   ]
  },
  {
   "cell_type": "code",
   "execution_count": 108,
   "metadata": {},
   "outputs": [
    {
     "data": {
      "application/vnd.plotly.v1+json": {
       "config": {
        "plotlyServerURL": "https://plot.ly"
       },
       "data": [
        {
         "hovertemplate": "variable=roc_auc<br>index=%{x}<br>value=%{y}<extra></extra>",
         "legendgroup": "roc_auc",
         "line": {
          "color": "#636efa",
          "dash": "solid"
         },
         "marker": {
          "symbol": "circle"
         },
         "mode": "lines",
         "name": "roc_auc",
         "orientation": "v",
         "showlegend": true,
         "type": "scatter",
         "x": [
          "09:45:00",
          "09:50:00",
          "09:55:00",
          "10:00:00",
          "10:05:00",
          "10:10:00",
          "10:15:00",
          "10:20:00",
          "10:25:00",
          "10:30:00",
          "10:35:00",
          "10:40:00",
          "10:45:00",
          "10:50:00",
          "10:55:00",
          "11:00:00",
          "11:05:00",
          "11:10:00",
          "11:15:00",
          "11:20:00",
          "11:25:00",
          "11:30:00",
          "11:35:00",
          "11:40:00",
          "11:45:00",
          "11:50:00",
          "11:55:00",
          "12:00:00",
          "12:05:00",
          "12:10:00",
          "12:15:00",
          "12:20:00",
          "12:25:00",
          "12:30:00",
          "12:35:00",
          "12:40:00",
          "12:45:00",
          "12:50:00",
          "12:55:00",
          "13:00:00",
          "13:05:00",
          "13:10:00",
          "13:15:00",
          "13:20:00",
          "13:25:00",
          "13:30:00",
          "13:35:00",
          "13:40:00",
          "13:45:00",
          "13:50:00",
          "13:55:00",
          "14:00:00",
          "14:05:00",
          "14:10:00",
          "14:15:00",
          "14:20:00",
          "14:25:00",
          "14:30:00",
          "14:35:00",
          "14:40:00",
          "14:45:00",
          "14:50:00",
          "14:55:00",
          "15:00:00",
          "15:05:00",
          "15:10:00",
          "15:15:00",
          "15:20:00",
          "15:25:00",
          "15:30:00",
          "15:35:00",
          "15:40:00",
          "15:45:00",
          "15:50:00",
          "15:55:00"
         ],
         "xaxis": "x",
         "y": [
          0.753711201079622,
          0.7321352275154881,
          0.742030580331287,
          0.7407302314014806,
          0.7374376793472162,
          0.7389352895575211,
          0.7377990383283535,
          0.7382710562857621,
          0.7407380099712099,
          0.7435231919468609,
          0.7482626119645786,
          0.7533097904641722,
          0.757901671003748,
          0.760099905651419,
          0.7633204832058864,
          0.7645098835322923,
          0.7666055884245941,
          0.7675281413105185,
          0.7695819225051336,
          0.7718796008323452,
          0.7751871957689098,
          0.777574079320713,
          0.7801649514970175,
          0.7823466845617393,
          0.7841042274966261,
          0.7856909388408259,
          0.787063638965979,
          0.7888427097005669,
          0.7907304918784435,
          0.7929097227668418,
          0.7950772468829505,
          0.7966979883108916,
          0.7983864608407545,
          0.8001242216507194,
          0.8016349083154779,
          0.8024411234815245,
          0.8033704182998618,
          0.8046199495060631,
          0.8058907692777534,
          0.8075197566703685,
          0.8093066738767589,
          0.8108074640037306,
          0.81252057800127,
          0.8138617227623394,
          0.8153554589677043,
          0.816960175273171,
          0.8188617696992684,
          0.8204986644451557,
          0.8220849156949304,
          0.8236406527953475,
          0.8249581764627375,
          0.8269230897072469,
          0.8285242310523764,
          0.8304204664351207,
          0.832214539118594,
          0.8340110850573786,
          0.8358010884649489,
          0.8375574729892932,
          0.8394226255969756,
          0.8413532551803675,
          0.8433698680521253,
          0.8454386602549095,
          0.8477320464883811,
          0.850198178238156,
          0.8523842589963542,
          0.8541394831925777,
          0.8559954405714263,
          0.857596924324662,
          0.8591715211452455,
          0.8607119977111113,
          0.8620006636604968,
          0.8635176869847836,
          0.8651287386754565,
          0.8672706419381697,
          0.8700150128713503
         ],
         "yaxis": "y"
        },
        {
         "hovertemplate": "variable=precision<br>index=%{x}<br>value=%{y}<extra></extra>",
         "legendgroup": "precision",
         "line": {
          "color": "#EF553B",
          "dash": "solid"
         },
         "marker": {
          "symbol": "circle"
         },
         "mode": "lines",
         "name": "precision",
         "orientation": "v",
         "showlegend": true,
         "type": "scatter",
         "x": [
          "09:45:00",
          "09:50:00",
          "09:55:00",
          "10:00:00",
          "10:05:00",
          "10:10:00",
          "10:15:00",
          "10:20:00",
          "10:25:00",
          "10:30:00",
          "10:35:00",
          "10:40:00",
          "10:45:00",
          "10:50:00",
          "10:55:00",
          "11:00:00",
          "11:05:00",
          "11:10:00",
          "11:15:00",
          "11:20:00",
          "11:25:00",
          "11:30:00",
          "11:35:00",
          "11:40:00",
          "11:45:00",
          "11:50:00",
          "11:55:00",
          "12:00:00",
          "12:05:00",
          "12:10:00",
          "12:15:00",
          "12:20:00",
          "12:25:00",
          "12:30:00",
          "12:35:00",
          "12:40:00",
          "12:45:00",
          "12:50:00",
          "12:55:00",
          "13:00:00",
          "13:05:00",
          "13:10:00",
          "13:15:00",
          "13:20:00",
          "13:25:00",
          "13:30:00",
          "13:35:00",
          "13:40:00",
          "13:45:00",
          "13:50:00",
          "13:55:00",
          "14:00:00",
          "14:05:00",
          "14:10:00",
          "14:15:00",
          "14:20:00",
          "14:25:00",
          "14:30:00",
          "14:35:00",
          "14:40:00",
          "14:45:00",
          "14:50:00",
          "14:55:00",
          "15:00:00",
          "15:05:00",
          "15:10:00",
          "15:15:00",
          "15:20:00",
          "15:25:00",
          "15:30:00",
          "15:35:00",
          "15:40:00",
          "15:45:00",
          "15:50:00",
          "15:55:00"
         ],
         "xaxis": "x",
         "y": [
          0.5151515151515151,
          0.5735294117647058,
          0.5803571428571429,
          0.5822784810126582,
          0.5789473684210527,
          0.5857142857142857,
          0.5989010989010989,
          0.6009070294784581,
          0.6092843326885881,
          0.6142384105960265,
          0.6183644189383071,
          0.6307884856070087,
          0.6375690607734806,
          0.6452569169960475,
          0.6497777777777778,
          0.6556451612903226,
          0.6600587371512482,
          0.6633132126089872,
          0.6681114551083591,
          0.6722158438576349,
          0.6775575790037494,
          0.6815222834251377,
          0.6854195968120019,
          0.6894273127753304,
          0.6927860696517413,
          0.6957713390759592,
          0.697665802148944,
          0.7008787346221441,
          0.7047587131367292,
          0.7088,
          0.7124502906087489,
          0.7155399473222125,
          0.7188552188552189,
          0.7219380888290713,
          0.7247540134645262,
          0.7262528047868362,
          0.7287809569608079,
          0.7307068366164542,
          0.7326023718952785,
          0.7352813852813853,
          0.7382100188639699,
          0.7404549147034931,
          0.7427671718165716,
          0.744944677603968,
          0.7471306923361718,
          0.7497305066475027,
          0.7520502530099459,
          0.7545377438507209,
          0.757140498596665,
          0.7595303200900756,
          0.7616361071932299,
          0.7648768548263729,
          0.767577250335871,
          0.7709032540493215,
          0.7735499501211344,
          0.7764001114516579,
          0.7790190735694823,
          0.7821162046908315,
          0.7847557003257329,
          0.7874346884159551,
          0.790268247036806,
          0.7929897410845139,
          0.7959110473457676,
          0.7987583460231932,
          0.801584567688598,
          0.8040076550714849,
          0.806401766004415,
          0.8088537720532525,
          0.8111724723874256,
          0.8135292891390452,
          0.8160049119934507,
          0.8182822702159719,
          0.8209072978303747,
          0.8240588406077616,
          0.8275796661608498
         ],
         "yaxis": "y"
        },
        {
         "hovertemplate": "variable=recall<br>index=%{x}<br>value=%{y}<extra></extra>",
         "legendgroup": "recall",
         "line": {
          "color": "#00cc96",
          "dash": "solid"
         },
         "marker": {
          "symbol": "circle"
         },
         "mode": "lines",
         "name": "recall",
         "orientation": "v",
         "showlegend": true,
         "type": "scatter",
         "x": [
          "09:45:00",
          "09:50:00",
          "09:55:00",
          "10:00:00",
          "10:05:00",
          "10:10:00",
          "10:15:00",
          "10:20:00",
          "10:25:00",
          "10:30:00",
          "10:35:00",
          "10:40:00",
          "10:45:00",
          "10:50:00",
          "10:55:00",
          "11:00:00",
          "11:05:00",
          "11:10:00",
          "11:15:00",
          "11:20:00",
          "11:25:00",
          "11:30:00",
          "11:35:00",
          "11:40:00",
          "11:45:00",
          "11:50:00",
          "11:55:00",
          "12:00:00",
          "12:05:00",
          "12:10:00",
          "12:15:00",
          "12:20:00",
          "12:25:00",
          "12:30:00",
          "12:35:00",
          "12:40:00",
          "12:45:00",
          "12:50:00",
          "12:55:00",
          "13:00:00",
          "13:05:00",
          "13:10:00",
          "13:15:00",
          "13:20:00",
          "13:25:00",
          "13:30:00",
          "13:35:00",
          "13:40:00",
          "13:45:00",
          "13:50:00",
          "13:55:00",
          "14:00:00",
          "14:05:00",
          "14:10:00",
          "14:15:00",
          "14:20:00",
          "14:25:00",
          "14:30:00",
          "14:35:00",
          "14:40:00",
          "14:45:00",
          "14:50:00",
          "14:55:00",
          "15:00:00",
          "15:05:00",
          "15:10:00",
          "15:15:00",
          "15:20:00",
          "15:25:00",
          "15:30:00",
          "15:35:00",
          "15:40:00",
          "15:45:00",
          "15:50:00",
          "15:55:00"
         ],
         "xaxis": "x",
         "y": [
          0.2982456140350877,
          0.31451612903225806,
          0.33505154639175255,
          0.3420074349442379,
          0.34770114942528735,
          0.3805104408352668,
          0.418426103646833,
          0.43300653594771243,
          0.44680851063829785,
          0.4631710362047441,
          0.48049052396878483,
          0.5065326633165829,
          0.5269406392694064,
          0.5446205170975813,
          0.5605828220858896,
          0.5745583038869257,
          0.5887360838244925,
          0.6026812918951858,
          0.6148148148148148,
          0.6262032085561497,
          0.6372795969773299,
          0.64717070851165,
          0.6579657965796579,
          0.6676621160409556,
          0.6770664505672609,
          0.6853065946779792,
          0.6922794117647059,
          0.7001404494382022,
          0.7061786433848221,
          0.7122186495176849,
          0.7183837137569402,
          0.7244444444444444,
          0.7303306727480046,
          0.7366108212029662,
          0.7416534181240063,
          0.7452033768227168,
          0.7493201483312731,
          0.7539454806312769,
          0.7576949780143485,
          0.761317794710892,
          0.7651531609819683,
          0.7685497470489039,
          0.7724109701187065,
          0.776033386327504,
          0.77960208615028,
          0.783809166040571,
          0.7876461988304093,
          0.7911775168979011,
          0.7943876667244067,
          0.7969620253164557,
          0.7994735976311893,
          0.8020532563362207,
          0.8045689250508528,
          0.8065648854961832,
          0.8088213381016242,
          0.8108540666375673,
          0.8127931769722815,
          0.8152521183497708,
          0.818008963737607,
          0.8209113856782251,
          0.8234529381175247,
          0.8262916772715704,
          0.8296360917248256,
          0.8326007326007326,
          0.8353476127797056,
          0.8374765478424016,
          0.8397701149425287,
          0.8419333032897701,
          0.8436050364479788,
          0.8453373768006065,
          0.846856414613424,
          0.8483649239741721,
          0.8499948943122638,
          0.8521817453963171,
          0.8552386552974616
         ],
         "yaxis": "y"
        }
       ],
       "layout": {
        "legend": {
         "title": {
          "text": "variable"
         },
         "tracegroupgap": 0
        },
        "template": {
         "data": {
          "bar": [
           {
            "error_x": {
             "color": "#2a3f5f"
            },
            "error_y": {
             "color": "#2a3f5f"
            },
            "marker": {
             "line": {
              "color": "#E5ECF6",
              "width": 0.5
             },
             "pattern": {
              "fillmode": "overlay",
              "size": 10,
              "solidity": 0.2
             }
            },
            "type": "bar"
           }
          ],
          "barpolar": [
           {
            "marker": {
             "line": {
              "color": "#E5ECF6",
              "width": 0.5
             },
             "pattern": {
              "fillmode": "overlay",
              "size": 10,
              "solidity": 0.2
             }
            },
            "type": "barpolar"
           }
          ],
          "carpet": [
           {
            "aaxis": {
             "endlinecolor": "#2a3f5f",
             "gridcolor": "white",
             "linecolor": "white",
             "minorgridcolor": "white",
             "startlinecolor": "#2a3f5f"
            },
            "baxis": {
             "endlinecolor": "#2a3f5f",
             "gridcolor": "white",
             "linecolor": "white",
             "minorgridcolor": "white",
             "startlinecolor": "#2a3f5f"
            },
            "type": "carpet"
           }
          ],
          "choropleth": [
           {
            "colorbar": {
             "outlinewidth": 0,
             "ticks": ""
            },
            "type": "choropleth"
           }
          ],
          "contour": [
           {
            "colorbar": {
             "outlinewidth": 0,
             "ticks": ""
            },
            "colorscale": [
             [
              0,
              "#0d0887"
             ],
             [
              0.1111111111111111,
              "#46039f"
             ],
             [
              0.2222222222222222,
              "#7201a8"
             ],
             [
              0.3333333333333333,
              "#9c179e"
             ],
             [
              0.4444444444444444,
              "#bd3786"
             ],
             [
              0.5555555555555556,
              "#d8576b"
             ],
             [
              0.6666666666666666,
              "#ed7953"
             ],
             [
              0.7777777777777778,
              "#fb9f3a"
             ],
             [
              0.8888888888888888,
              "#fdca26"
             ],
             [
              1,
              "#f0f921"
             ]
            ],
            "type": "contour"
           }
          ],
          "contourcarpet": [
           {
            "colorbar": {
             "outlinewidth": 0,
             "ticks": ""
            },
            "type": "contourcarpet"
           }
          ],
          "heatmap": [
           {
            "colorbar": {
             "outlinewidth": 0,
             "ticks": ""
            },
            "colorscale": [
             [
              0,
              "#0d0887"
             ],
             [
              0.1111111111111111,
              "#46039f"
             ],
             [
              0.2222222222222222,
              "#7201a8"
             ],
             [
              0.3333333333333333,
              "#9c179e"
             ],
             [
              0.4444444444444444,
              "#bd3786"
             ],
             [
              0.5555555555555556,
              "#d8576b"
             ],
             [
              0.6666666666666666,
              "#ed7953"
             ],
             [
              0.7777777777777778,
              "#fb9f3a"
             ],
             [
              0.8888888888888888,
              "#fdca26"
             ],
             [
              1,
              "#f0f921"
             ]
            ],
            "type": "heatmap"
           }
          ],
          "heatmapgl": [
           {
            "colorbar": {
             "outlinewidth": 0,
             "ticks": ""
            },
            "colorscale": [
             [
              0,
              "#0d0887"
             ],
             [
              0.1111111111111111,
              "#46039f"
             ],
             [
              0.2222222222222222,
              "#7201a8"
             ],
             [
              0.3333333333333333,
              "#9c179e"
             ],
             [
              0.4444444444444444,
              "#bd3786"
             ],
             [
              0.5555555555555556,
              "#d8576b"
             ],
             [
              0.6666666666666666,
              "#ed7953"
             ],
             [
              0.7777777777777778,
              "#fb9f3a"
             ],
             [
              0.8888888888888888,
              "#fdca26"
             ],
             [
              1,
              "#f0f921"
             ]
            ],
            "type": "heatmapgl"
           }
          ],
          "histogram": [
           {
            "marker": {
             "pattern": {
              "fillmode": "overlay",
              "size": 10,
              "solidity": 0.2
             }
            },
            "type": "histogram"
           }
          ],
          "histogram2d": [
           {
            "colorbar": {
             "outlinewidth": 0,
             "ticks": ""
            },
            "colorscale": [
             [
              0,
              "#0d0887"
             ],
             [
              0.1111111111111111,
              "#46039f"
             ],
             [
              0.2222222222222222,
              "#7201a8"
             ],
             [
              0.3333333333333333,
              "#9c179e"
             ],
             [
              0.4444444444444444,
              "#bd3786"
             ],
             [
              0.5555555555555556,
              "#d8576b"
             ],
             [
              0.6666666666666666,
              "#ed7953"
             ],
             [
              0.7777777777777778,
              "#fb9f3a"
             ],
             [
              0.8888888888888888,
              "#fdca26"
             ],
             [
              1,
              "#f0f921"
             ]
            ],
            "type": "histogram2d"
           }
          ],
          "histogram2dcontour": [
           {
            "colorbar": {
             "outlinewidth": 0,
             "ticks": ""
            },
            "colorscale": [
             [
              0,
              "#0d0887"
             ],
             [
              0.1111111111111111,
              "#46039f"
             ],
             [
              0.2222222222222222,
              "#7201a8"
             ],
             [
              0.3333333333333333,
              "#9c179e"
             ],
             [
              0.4444444444444444,
              "#bd3786"
             ],
             [
              0.5555555555555556,
              "#d8576b"
             ],
             [
              0.6666666666666666,
              "#ed7953"
             ],
             [
              0.7777777777777778,
              "#fb9f3a"
             ],
             [
              0.8888888888888888,
              "#fdca26"
             ],
             [
              1,
              "#f0f921"
             ]
            ],
            "type": "histogram2dcontour"
           }
          ],
          "mesh3d": [
           {
            "colorbar": {
             "outlinewidth": 0,
             "ticks": ""
            },
            "type": "mesh3d"
           }
          ],
          "parcoords": [
           {
            "line": {
             "colorbar": {
              "outlinewidth": 0,
              "ticks": ""
             }
            },
            "type": "parcoords"
           }
          ],
          "pie": [
           {
            "automargin": true,
            "type": "pie"
           }
          ],
          "scatter": [
           {
            "fillpattern": {
             "fillmode": "overlay",
             "size": 10,
             "solidity": 0.2
            },
            "type": "scatter"
           }
          ],
          "scatter3d": [
           {
            "line": {
             "colorbar": {
              "outlinewidth": 0,
              "ticks": ""
             }
            },
            "marker": {
             "colorbar": {
              "outlinewidth": 0,
              "ticks": ""
             }
            },
            "type": "scatter3d"
           }
          ],
          "scattercarpet": [
           {
            "marker": {
             "colorbar": {
              "outlinewidth": 0,
              "ticks": ""
             }
            },
            "type": "scattercarpet"
           }
          ],
          "scattergeo": [
           {
            "marker": {
             "colorbar": {
              "outlinewidth": 0,
              "ticks": ""
             }
            },
            "type": "scattergeo"
           }
          ],
          "scattergl": [
           {
            "marker": {
             "colorbar": {
              "outlinewidth": 0,
              "ticks": ""
             }
            },
            "type": "scattergl"
           }
          ],
          "scattermapbox": [
           {
            "marker": {
             "colorbar": {
              "outlinewidth": 0,
              "ticks": ""
             }
            },
            "type": "scattermapbox"
           }
          ],
          "scatterpolar": [
           {
            "marker": {
             "colorbar": {
              "outlinewidth": 0,
              "ticks": ""
             }
            },
            "type": "scatterpolar"
           }
          ],
          "scatterpolargl": [
           {
            "marker": {
             "colorbar": {
              "outlinewidth": 0,
              "ticks": ""
             }
            },
            "type": "scatterpolargl"
           }
          ],
          "scatterternary": [
           {
            "marker": {
             "colorbar": {
              "outlinewidth": 0,
              "ticks": ""
             }
            },
            "type": "scatterternary"
           }
          ],
          "surface": [
           {
            "colorbar": {
             "outlinewidth": 0,
             "ticks": ""
            },
            "colorscale": [
             [
              0,
              "#0d0887"
             ],
             [
              0.1111111111111111,
              "#46039f"
             ],
             [
              0.2222222222222222,
              "#7201a8"
             ],
             [
              0.3333333333333333,
              "#9c179e"
             ],
             [
              0.4444444444444444,
              "#bd3786"
             ],
             [
              0.5555555555555556,
              "#d8576b"
             ],
             [
              0.6666666666666666,
              "#ed7953"
             ],
             [
              0.7777777777777778,
              "#fb9f3a"
             ],
             [
              0.8888888888888888,
              "#fdca26"
             ],
             [
              1,
              "#f0f921"
             ]
            ],
            "type": "surface"
           }
          ],
          "table": [
           {
            "cells": {
             "fill": {
              "color": "#EBF0F8"
             },
             "line": {
              "color": "white"
             }
            },
            "header": {
             "fill": {
              "color": "#C8D4E3"
             },
             "line": {
              "color": "white"
             }
            },
            "type": "table"
           }
          ]
         },
         "layout": {
          "annotationdefaults": {
           "arrowcolor": "#2a3f5f",
           "arrowhead": 0,
           "arrowwidth": 1
          },
          "autotypenumbers": "strict",
          "coloraxis": {
           "colorbar": {
            "outlinewidth": 0,
            "ticks": ""
           }
          },
          "colorscale": {
           "diverging": [
            [
             0,
             "#8e0152"
            ],
            [
             0.1,
             "#c51b7d"
            ],
            [
             0.2,
             "#de77ae"
            ],
            [
             0.3,
             "#f1b6da"
            ],
            [
             0.4,
             "#fde0ef"
            ],
            [
             0.5,
             "#f7f7f7"
            ],
            [
             0.6,
             "#e6f5d0"
            ],
            [
             0.7,
             "#b8e186"
            ],
            [
             0.8,
             "#7fbc41"
            ],
            [
             0.9,
             "#4d9221"
            ],
            [
             1,
             "#276419"
            ]
           ],
           "sequential": [
            [
             0,
             "#0d0887"
            ],
            [
             0.1111111111111111,
             "#46039f"
            ],
            [
             0.2222222222222222,
             "#7201a8"
            ],
            [
             0.3333333333333333,
             "#9c179e"
            ],
            [
             0.4444444444444444,
             "#bd3786"
            ],
            [
             0.5555555555555556,
             "#d8576b"
            ],
            [
             0.6666666666666666,
             "#ed7953"
            ],
            [
             0.7777777777777778,
             "#fb9f3a"
            ],
            [
             0.8888888888888888,
             "#fdca26"
            ],
            [
             1,
             "#f0f921"
            ]
           ],
           "sequentialminus": [
            [
             0,
             "#0d0887"
            ],
            [
             0.1111111111111111,
             "#46039f"
            ],
            [
             0.2222222222222222,
             "#7201a8"
            ],
            [
             0.3333333333333333,
             "#9c179e"
            ],
            [
             0.4444444444444444,
             "#bd3786"
            ],
            [
             0.5555555555555556,
             "#d8576b"
            ],
            [
             0.6666666666666666,
             "#ed7953"
            ],
            [
             0.7777777777777778,
             "#fb9f3a"
            ],
            [
             0.8888888888888888,
             "#fdca26"
            ],
            [
             1,
             "#f0f921"
            ]
           ]
          },
          "colorway": [
           "#636efa",
           "#EF553B",
           "#00cc96",
           "#ab63fa",
           "#FFA15A",
           "#19d3f3",
           "#FF6692",
           "#B6E880",
           "#FF97FF",
           "#FECB52"
          ],
          "font": {
           "color": "#2a3f5f"
          },
          "geo": {
           "bgcolor": "white",
           "lakecolor": "white",
           "landcolor": "#E5ECF6",
           "showlakes": true,
           "showland": true,
           "subunitcolor": "white"
          },
          "hoverlabel": {
           "align": "left"
          },
          "hovermode": "closest",
          "mapbox": {
           "style": "light"
          },
          "paper_bgcolor": "white",
          "plot_bgcolor": "#E5ECF6",
          "polar": {
           "angularaxis": {
            "gridcolor": "white",
            "linecolor": "white",
            "ticks": ""
           },
           "bgcolor": "#E5ECF6",
           "radialaxis": {
            "gridcolor": "white",
            "linecolor": "white",
            "ticks": ""
           }
          },
          "scene": {
           "xaxis": {
            "backgroundcolor": "#E5ECF6",
            "gridcolor": "white",
            "gridwidth": 2,
            "linecolor": "white",
            "showbackground": true,
            "ticks": "",
            "zerolinecolor": "white"
           },
           "yaxis": {
            "backgroundcolor": "#E5ECF6",
            "gridcolor": "white",
            "gridwidth": 2,
            "linecolor": "white",
            "showbackground": true,
            "ticks": "",
            "zerolinecolor": "white"
           },
           "zaxis": {
            "backgroundcolor": "#E5ECF6",
            "gridcolor": "white",
            "gridwidth": 2,
            "linecolor": "white",
            "showbackground": true,
            "ticks": "",
            "zerolinecolor": "white"
           }
          },
          "shapedefaults": {
           "line": {
            "color": "#2a3f5f"
           }
          },
          "ternary": {
           "aaxis": {
            "gridcolor": "white",
            "linecolor": "white",
            "ticks": ""
           },
           "baxis": {
            "gridcolor": "white",
            "linecolor": "white",
            "ticks": ""
           },
           "bgcolor": "#E5ECF6",
           "caxis": {
            "gridcolor": "white",
            "linecolor": "white",
            "ticks": ""
           }
          },
          "title": {
           "x": 0.05
          },
          "xaxis": {
           "automargin": true,
           "gridcolor": "white",
           "linecolor": "white",
           "ticks": "",
           "title": {
            "standoff": 15
           },
           "zerolinecolor": "white",
           "zerolinewidth": 2
          },
          "yaxis": {
           "automargin": true,
           "gridcolor": "white",
           "linecolor": "white",
           "ticks": "",
           "title": {
            "standoff": 15
           },
           "zerolinecolor": "white",
           "zerolinewidth": 2
          }
         }
        },
        "title": {
         "text": "Validation Metrics Over Time (LOD Model)"
        },
        "xaxis": {
         "anchor": "y",
         "domain": [
          0,
          1
         ],
         "title": {
          "text": "index"
         }
        },
        "yaxis": {
         "anchor": "x",
         "domain": [
          0,
          1
         ],
         "title": {
          "text": "value"
         }
        }
       }
      }
     },
     "metadata": {},
     "output_type": "display_data"
    }
   ],
   "source": [
    "import datetime\n",
    "import plotly.express as px\n",
    "\n",
    "time_range = [datetime.time(hour, minute) for hour in range(9, 16) for minute in range(0, 60, 5)]\n",
    "time_range = [x for x in time_range if x >= datetime.time(9,45)]\n",
    "df_val = pd.DataFrame()\n",
    "for t in time_range:\n",
    "    X_val = X_test.loc[X_test['time'] <= t].copy()\n",
    "    y_val = y_test.loc[X_val.index, 'lod_in'].copy()\n",
    "\n",
    "    y_pred_val = pipeline_lod.predict_proba(X_val)[:,-1]\n",
    "\n",
    "    df_val.loc[t, [\n",
    "        'roc_auc',\n",
    "        'precision',\n",
    "        'recall'\n",
    "    ]] =  roc_auc_score(y_val, y_pred_val), precision_score(y_val, y_pred_val > 0.5), recall_score(y_val, y_pred_val > 0.5)\n",
    "\n",
    "\n",
    "fig = px.line(df_val, title='Validation Metrics Over Time (LOD Model)')\n",
    "fig.show()"
   ]
  },
  {
   "cell_type": "code",
   "execution_count": 109,
   "metadata": {},
   "outputs": [
    {
     "data": {
      "application/vnd.plotly.v1+json": {
       "config": {
        "plotlyServerURL": "https://plot.ly"
       },
       "data": [
        {
         "hovertemplate": "variable=roc_auc<br>index=%{x}<br>value=%{y}<extra></extra>",
         "legendgroup": "roc_auc",
         "line": {
          "color": "#636efa",
          "dash": "solid"
         },
         "marker": {
          "symbol": "circle"
         },
         "mode": "lines",
         "name": "roc_auc",
         "orientation": "v",
         "showlegend": true,
         "type": "scatter",
         "x": [
          "09:45:00",
          "09:50:00",
          "09:55:00",
          "10:00:00",
          "10:05:00",
          "10:10:00",
          "10:15:00",
          "10:20:00",
          "10:25:00",
          "10:30:00",
          "10:35:00",
          "10:40:00",
          "10:45:00",
          "10:50:00",
          "10:55:00",
          "11:00:00",
          "11:05:00",
          "11:10:00",
          "11:15:00",
          "11:20:00",
          "11:25:00",
          "11:30:00",
          "11:35:00",
          "11:40:00",
          "11:45:00",
          "11:50:00",
          "11:55:00",
          "12:00:00",
          "12:05:00",
          "12:10:00",
          "12:15:00",
          "12:20:00",
          "12:25:00",
          "12:30:00",
          "12:35:00",
          "12:40:00",
          "12:45:00",
          "12:50:00",
          "12:55:00",
          "13:00:00",
          "13:05:00",
          "13:10:00",
          "13:15:00",
          "13:20:00",
          "13:25:00",
          "13:30:00",
          "13:35:00",
          "13:40:00",
          "13:45:00",
          "13:50:00",
          "13:55:00",
          "14:00:00",
          "14:05:00",
          "14:10:00",
          "14:15:00",
          "14:20:00",
          "14:25:00",
          "14:30:00",
          "14:35:00",
          "14:40:00",
          "14:45:00",
          "14:50:00",
          "14:55:00",
          "15:00:00",
          "15:05:00",
          "15:10:00",
          "15:15:00",
          "15:20:00",
          "15:25:00",
          "15:30:00",
          "15:35:00",
          "15:40:00",
          "15:45:00",
          "15:50:00",
          "15:55:00"
         ],
         "xaxis": "x",
         "y": [
          0.767881241565452,
          0.7470625934629351,
          0.7561681918220781,
          0.7553099912642592,
          0.7519237243303033,
          0.7508936960529451,
          0.7473356154896412,
          0.7471120927003279,
          0.7491655548533576,
          0.751731516943174,
          0.75546118843972,
          0.7606095821838211,
          0.7652237006486529,
          0.7669150352906726,
          0.7691214925072916,
          0.7696159171942789,
          0.7711407964502689,
          0.7714577405867042,
          0.7726090501832212,
          0.774098180923187,
          0.776838750435339,
          0.7787070772005187,
          0.7810180532435014,
          0.7833162150565212,
          0.7855338674551231,
          0.7873971781150373,
          0.788837163040736,
          0.7908444860524152,
          0.7927907709574284,
          0.7948417771155203,
          0.7970919101255998,
          0.7986993445057962,
          0.800239044637534,
          0.802037427273284,
          0.8033881717183888,
          0.8042291746163773,
          0.8050617338054293,
          0.8062002994623956,
          0.8073274976651095,
          0.8088572379122181,
          0.8104888432062678,
          0.8118630572609367,
          0.8136210011381425,
          0.8149268185914296,
          0.8161653498824324,
          0.8176123232435285,
          0.8192354910642294,
          0.8208168528173183,
          0.8222287695688724,
          0.8238478899820139,
          0.8252569332578769,
          0.8272533508408962,
          0.8287228005058342,
          0.8304135633934486,
          0.8321001283667105,
          0.8338114894877933,
          0.8354891273102814,
          0.8372437377006123,
          0.8389524591228764,
          0.8407341384115612,
          0.8424288110476583,
          0.8442577853646053,
          0.8462292061851028,
          0.8483202589254782,
          0.8503495089550597,
          0.8518782541097482,
          0.8535121952234161,
          0.8549196955978184,
          0.8564350993313152,
          0.8580001701034586,
          0.8593505579015797,
          0.8608644292901502,
          0.8623880889958194,
          0.8645967553240632,
          0.8673969204349739
         ],
         "yaxis": "y"
        },
        {
         "hovertemplate": "variable=precision<br>index=%{x}<br>value=%{y}<extra></extra>",
         "legendgroup": "precision",
         "line": {
          "color": "#EF553B",
          "dash": "solid"
         },
         "marker": {
          "symbol": "circle"
         },
         "mode": "lines",
         "name": "precision",
         "orientation": "v",
         "showlegend": true,
         "type": "scatter",
         "x": [
          "09:45:00",
          "09:50:00",
          "09:55:00",
          "10:00:00",
          "10:05:00",
          "10:10:00",
          "10:15:00",
          "10:20:00",
          "10:25:00",
          "10:30:00",
          "10:35:00",
          "10:40:00",
          "10:45:00",
          "10:50:00",
          "10:55:00",
          "11:00:00",
          "11:05:00",
          "11:10:00",
          "11:15:00",
          "11:20:00",
          "11:25:00",
          "11:30:00",
          "11:35:00",
          "11:40:00",
          "11:45:00",
          "11:50:00",
          "11:55:00",
          "12:00:00",
          "12:05:00",
          "12:10:00",
          "12:15:00",
          "12:20:00",
          "12:25:00",
          "12:30:00",
          "12:35:00",
          "12:40:00",
          "12:45:00",
          "12:50:00",
          "12:55:00",
          "13:00:00",
          "13:05:00",
          "13:10:00",
          "13:15:00",
          "13:20:00",
          "13:25:00",
          "13:30:00",
          "13:35:00",
          "13:40:00",
          "13:45:00",
          "13:50:00",
          "13:55:00",
          "14:00:00",
          "14:05:00",
          "14:10:00",
          "14:15:00",
          "14:20:00",
          "14:25:00",
          "14:30:00",
          "14:35:00",
          "14:40:00",
          "14:45:00",
          "14:50:00",
          "14:55:00",
          "15:00:00",
          "15:05:00",
          "15:10:00",
          "15:15:00",
          "15:20:00",
          "15:25:00",
          "15:30:00",
          "15:35:00",
          "15:40:00",
          "15:45:00",
          "15:50:00",
          "15:55:00"
         ],
         "xaxis": "x",
         "y": [
          0.6071428571428571,
          0.6071428571428571,
          0.6063829787234043,
          0.6148148148148148,
          0.6229508196721312,
          0.616,
          0.6207951070336392,
          0.6222222222222222,
          0.6252587991718427,
          0.6309314586994728,
          0.6390977443609023,
          0.6477419354838709,
          0.6530612244897959,
          0.656912209889001,
          0.6606334841628959,
          0.6653027823240589,
          0.6679021497405485,
          0.6700404858299596,
          0.6731008717310087,
          0.6757068667051356,
          0.6784565916398714,
          0.6818409204602301,
          0.6858884200656352,
          0.6906126046716615,
          0.6940639269406392,
          0.697765582124657,
          0.6991478325305669,
          0.7022847100175746,
          0.705724807499163,
          0.7090386458000639,
          0.7122828405973789,
          0.7150756693830035,
          0.717706013363029,
          0.7197333333333333,
          0.7207875223727946,
          0.7210216110019646,
          0.7224586288416076,
          0.7249714937286202,
          0.7268926056338029,
          0.7292242295430393,
          0.7315670568905319,
          0.733611442193087,
          0.7356277638915593,
          0.737625604763677,
          0.7399927875946628,
          0.7418283516867681,
          0.7437680176360861,
          0.7459637561779242,
          0.7479583666933547,
          0.7503506311360448,
          0.7524257125530625,
          0.754873006497342,
          0.7572004608294931,
          0.7595167860654586,
          0.7616502192982456,
          0.7641156007492641,
          0.7663661309290475,
          0.7688968335035751,
          0.7715355805243446,
          0.7739650751007449,
          0.7762513439254569,
          0.7786482694106641,
          0.7811999084039386,
          0.7835988332959389,
          0.7862091718904652,
          0.7884242293597759,
          0.790702588483888,
          0.7929962702030667,
          0.7954453029686864,
          0.7977853152434158,
          0.8001958863858962,
          0.8026138766096482,
          0.8049608601339243,
          0.8076958653223568,
          0.811377245508982
         ],
         "yaxis": "y"
        },
        {
         "hovertemplate": "variable=recall<br>index=%{x}<br>value=%{y}<extra></extra>",
         "legendgroup": "recall",
         "line": {
          "color": "#00cc96",
          "dash": "solid"
         },
         "marker": {
          "symbol": "circle"
         },
         "mode": "lines",
         "name": "recall",
         "orientation": "v",
         "showlegend": true,
         "type": "scatter",
         "x": [
          "09:45:00",
          "09:50:00",
          "09:55:00",
          "10:00:00",
          "10:05:00",
          "10:10:00",
          "10:15:00",
          "10:20:00",
          "10:25:00",
          "10:30:00",
          "10:35:00",
          "10:40:00",
          "10:45:00",
          "10:50:00",
          "10:55:00",
          "11:00:00",
          "11:05:00",
          "11:10:00",
          "11:15:00",
          "11:20:00",
          "11:25:00",
          "11:30:00",
          "11:35:00",
          "11:40:00",
          "11:45:00",
          "11:50:00",
          "11:55:00",
          "12:00:00",
          "12:05:00",
          "12:10:00",
          "12:15:00",
          "12:20:00",
          "12:25:00",
          "12:30:00",
          "12:35:00",
          "12:40:00",
          "12:45:00",
          "12:50:00",
          "12:55:00",
          "13:00:00",
          "13:05:00",
          "13:10:00",
          "13:15:00",
          "13:20:00",
          "13:25:00",
          "13:30:00",
          "13:35:00",
          "13:40:00",
          "13:45:00",
          "13:50:00",
          "13:55:00",
          "14:00:00",
          "14:05:00",
          "14:10:00",
          "14:15:00",
          "14:20:00",
          "14:25:00",
          "14:30:00",
          "14:35:00",
          "14:40:00",
          "14:45:00",
          "14:50:00",
          "14:55:00",
          "15:00:00",
          "15:05:00",
          "15:10:00",
          "15:15:00",
          "15:20:00",
          "15:25:00",
          "15:30:00",
          "15:35:00",
          "15:40:00",
          "15:45:00",
          "15:50:00",
          "15:55:00"
         ],
         "xaxis": "x",
         "y": [
          0.2982456140350877,
          0.27419354838709675,
          0.29381443298969073,
          0.30855018587360594,
          0.3275862068965517,
          0.35730858468677495,
          0.3896353166986564,
          0.4117647058823529,
          0.42836879432624114,
          0.44818976279650435,
          0.4738015607580825,
          0.5045226130653266,
          0.5260273972602739,
          0.5429524603836531,
          0.5598159509202454,
          0.5745583038869257,
          0.5900458415193189,
          0.6051188299817185,
          0.6159544159544159,
          0.6262032085561497,
          0.6377833753148615,
          0.6481217308606753,
          0.6584158415841584,
          0.6685153583617748,
          0.6774716369529984,
          0.6864635557269572,
          0.69375,
          0.7015449438202247,
          0.7078576225654802,
          0.7138263665594855,
          0.7208513263417643,
          0.728,
          0.7348916761687572,
          0.7412798681680857,
          0.7469528351881293,
          0.7510872345868509,
          0.7555006180469716,
          0.7601626016260162,
          0.7644063874103216,
          0.7689376961004034,
          0.7738431457744949,
          0.7784569983136593,
          0.7830536225951699,
          0.787758346581876,
          0.7927371064322967,
          0.797145003756574,
          0.8015350877192983,
          0.8054073283528993,
          0.8091113805646978,
          0.8126582278481013,
          0.8164171738772824,
          0.8200192492781521,
          0.8227194492254734,
          0.8254961832061068,
          0.8280435106541499,
          0.8309326349483486,
          0.8336886993603412,
          0.8365050701486317,
          0.8393317941056635,
          0.8420353394446659,
          0.8447737909516381,
          0.8474166454568592,
          0.8503240279162513,
          0.8528693528693528,
          0.8554505205217183,
          0.8577626641651032,
          0.8602298850574712,
          0.8623253717890942,
          0.8641484426772698,
          0.8661323513484241,
          0.8676720475785896,
          0.8698187877525515,
          0.8715408965587664,
          0.8738991192954364,
          0.8765069097324316
         ],
         "yaxis": "y"
        }
       ],
       "layout": {
        "legend": {
         "title": {
          "text": "variable"
         },
         "tracegroupgap": 0
        },
        "template": {
         "data": {
          "bar": [
           {
            "error_x": {
             "color": "#2a3f5f"
            },
            "error_y": {
             "color": "#2a3f5f"
            },
            "marker": {
             "line": {
              "color": "#E5ECF6",
              "width": 0.5
             },
             "pattern": {
              "fillmode": "overlay",
              "size": 10,
              "solidity": 0.2
             }
            },
            "type": "bar"
           }
          ],
          "barpolar": [
           {
            "marker": {
             "line": {
              "color": "#E5ECF6",
              "width": 0.5
             },
             "pattern": {
              "fillmode": "overlay",
              "size": 10,
              "solidity": 0.2
             }
            },
            "type": "barpolar"
           }
          ],
          "carpet": [
           {
            "aaxis": {
             "endlinecolor": "#2a3f5f",
             "gridcolor": "white",
             "linecolor": "white",
             "minorgridcolor": "white",
             "startlinecolor": "#2a3f5f"
            },
            "baxis": {
             "endlinecolor": "#2a3f5f",
             "gridcolor": "white",
             "linecolor": "white",
             "minorgridcolor": "white",
             "startlinecolor": "#2a3f5f"
            },
            "type": "carpet"
           }
          ],
          "choropleth": [
           {
            "colorbar": {
             "outlinewidth": 0,
             "ticks": ""
            },
            "type": "choropleth"
           }
          ],
          "contour": [
           {
            "colorbar": {
             "outlinewidth": 0,
             "ticks": ""
            },
            "colorscale": [
             [
              0,
              "#0d0887"
             ],
             [
              0.1111111111111111,
              "#46039f"
             ],
             [
              0.2222222222222222,
              "#7201a8"
             ],
             [
              0.3333333333333333,
              "#9c179e"
             ],
             [
              0.4444444444444444,
              "#bd3786"
             ],
             [
              0.5555555555555556,
              "#d8576b"
             ],
             [
              0.6666666666666666,
              "#ed7953"
             ],
             [
              0.7777777777777778,
              "#fb9f3a"
             ],
             [
              0.8888888888888888,
              "#fdca26"
             ],
             [
              1,
              "#f0f921"
             ]
            ],
            "type": "contour"
           }
          ],
          "contourcarpet": [
           {
            "colorbar": {
             "outlinewidth": 0,
             "ticks": ""
            },
            "type": "contourcarpet"
           }
          ],
          "heatmap": [
           {
            "colorbar": {
             "outlinewidth": 0,
             "ticks": ""
            },
            "colorscale": [
             [
              0,
              "#0d0887"
             ],
             [
              0.1111111111111111,
              "#46039f"
             ],
             [
              0.2222222222222222,
              "#7201a8"
             ],
             [
              0.3333333333333333,
              "#9c179e"
             ],
             [
              0.4444444444444444,
              "#bd3786"
             ],
             [
              0.5555555555555556,
              "#d8576b"
             ],
             [
              0.6666666666666666,
              "#ed7953"
             ],
             [
              0.7777777777777778,
              "#fb9f3a"
             ],
             [
              0.8888888888888888,
              "#fdca26"
             ],
             [
              1,
              "#f0f921"
             ]
            ],
            "type": "heatmap"
           }
          ],
          "heatmapgl": [
           {
            "colorbar": {
             "outlinewidth": 0,
             "ticks": ""
            },
            "colorscale": [
             [
              0,
              "#0d0887"
             ],
             [
              0.1111111111111111,
              "#46039f"
             ],
             [
              0.2222222222222222,
              "#7201a8"
             ],
             [
              0.3333333333333333,
              "#9c179e"
             ],
             [
              0.4444444444444444,
              "#bd3786"
             ],
             [
              0.5555555555555556,
              "#d8576b"
             ],
             [
              0.6666666666666666,
              "#ed7953"
             ],
             [
              0.7777777777777778,
              "#fb9f3a"
             ],
             [
              0.8888888888888888,
              "#fdca26"
             ],
             [
              1,
              "#f0f921"
             ]
            ],
            "type": "heatmapgl"
           }
          ],
          "histogram": [
           {
            "marker": {
             "pattern": {
              "fillmode": "overlay",
              "size": 10,
              "solidity": 0.2
             }
            },
            "type": "histogram"
           }
          ],
          "histogram2d": [
           {
            "colorbar": {
             "outlinewidth": 0,
             "ticks": ""
            },
            "colorscale": [
             [
              0,
              "#0d0887"
             ],
             [
              0.1111111111111111,
              "#46039f"
             ],
             [
              0.2222222222222222,
              "#7201a8"
             ],
             [
              0.3333333333333333,
              "#9c179e"
             ],
             [
              0.4444444444444444,
              "#bd3786"
             ],
             [
              0.5555555555555556,
              "#d8576b"
             ],
             [
              0.6666666666666666,
              "#ed7953"
             ],
             [
              0.7777777777777778,
              "#fb9f3a"
             ],
             [
              0.8888888888888888,
              "#fdca26"
             ],
             [
              1,
              "#f0f921"
             ]
            ],
            "type": "histogram2d"
           }
          ],
          "histogram2dcontour": [
           {
            "colorbar": {
             "outlinewidth": 0,
             "ticks": ""
            },
            "colorscale": [
             [
              0,
              "#0d0887"
             ],
             [
              0.1111111111111111,
              "#46039f"
             ],
             [
              0.2222222222222222,
              "#7201a8"
             ],
             [
              0.3333333333333333,
              "#9c179e"
             ],
             [
              0.4444444444444444,
              "#bd3786"
             ],
             [
              0.5555555555555556,
              "#d8576b"
             ],
             [
              0.6666666666666666,
              "#ed7953"
             ],
             [
              0.7777777777777778,
              "#fb9f3a"
             ],
             [
              0.8888888888888888,
              "#fdca26"
             ],
             [
              1,
              "#f0f921"
             ]
            ],
            "type": "histogram2dcontour"
           }
          ],
          "mesh3d": [
           {
            "colorbar": {
             "outlinewidth": 0,
             "ticks": ""
            },
            "type": "mesh3d"
           }
          ],
          "parcoords": [
           {
            "line": {
             "colorbar": {
              "outlinewidth": 0,
              "ticks": ""
             }
            },
            "type": "parcoords"
           }
          ],
          "pie": [
           {
            "automargin": true,
            "type": "pie"
           }
          ],
          "scatter": [
           {
            "fillpattern": {
             "fillmode": "overlay",
             "size": 10,
             "solidity": 0.2
            },
            "type": "scatter"
           }
          ],
          "scatter3d": [
           {
            "line": {
             "colorbar": {
              "outlinewidth": 0,
              "ticks": ""
             }
            },
            "marker": {
             "colorbar": {
              "outlinewidth": 0,
              "ticks": ""
             }
            },
            "type": "scatter3d"
           }
          ],
          "scattercarpet": [
           {
            "marker": {
             "colorbar": {
              "outlinewidth": 0,
              "ticks": ""
             }
            },
            "type": "scattercarpet"
           }
          ],
          "scattergeo": [
           {
            "marker": {
             "colorbar": {
              "outlinewidth": 0,
              "ticks": ""
             }
            },
            "type": "scattergeo"
           }
          ],
          "scattergl": [
           {
            "marker": {
             "colorbar": {
              "outlinewidth": 0,
              "ticks": ""
             }
            },
            "type": "scattergl"
           }
          ],
          "scattermapbox": [
           {
            "marker": {
             "colorbar": {
              "outlinewidth": 0,
              "ticks": ""
             }
            },
            "type": "scattermapbox"
           }
          ],
          "scatterpolar": [
           {
            "marker": {
             "colorbar": {
              "outlinewidth": 0,
              "ticks": ""
             }
            },
            "type": "scatterpolar"
           }
          ],
          "scatterpolargl": [
           {
            "marker": {
             "colorbar": {
              "outlinewidth": 0,
              "ticks": ""
             }
            },
            "type": "scatterpolargl"
           }
          ],
          "scatterternary": [
           {
            "marker": {
             "colorbar": {
              "outlinewidth": 0,
              "ticks": ""
             }
            },
            "type": "scatterternary"
           }
          ],
          "surface": [
           {
            "colorbar": {
             "outlinewidth": 0,
             "ticks": ""
            },
            "colorscale": [
             [
              0,
              "#0d0887"
             ],
             [
              0.1111111111111111,
              "#46039f"
             ],
             [
              0.2222222222222222,
              "#7201a8"
             ],
             [
              0.3333333333333333,
              "#9c179e"
             ],
             [
              0.4444444444444444,
              "#bd3786"
             ],
             [
              0.5555555555555556,
              "#d8576b"
             ],
             [
              0.6666666666666666,
              "#ed7953"
             ],
             [
              0.7777777777777778,
              "#fb9f3a"
             ],
             [
              0.8888888888888888,
              "#fdca26"
             ],
             [
              1,
              "#f0f921"
             ]
            ],
            "type": "surface"
           }
          ],
          "table": [
           {
            "cells": {
             "fill": {
              "color": "#EBF0F8"
             },
             "line": {
              "color": "white"
             }
            },
            "header": {
             "fill": {
              "color": "#C8D4E3"
             },
             "line": {
              "color": "white"
             }
            },
            "type": "table"
           }
          ]
         },
         "layout": {
          "annotationdefaults": {
           "arrowcolor": "#2a3f5f",
           "arrowhead": 0,
           "arrowwidth": 1
          },
          "autotypenumbers": "strict",
          "coloraxis": {
           "colorbar": {
            "outlinewidth": 0,
            "ticks": ""
           }
          },
          "colorscale": {
           "diverging": [
            [
             0,
             "#8e0152"
            ],
            [
             0.1,
             "#c51b7d"
            ],
            [
             0.2,
             "#de77ae"
            ],
            [
             0.3,
             "#f1b6da"
            ],
            [
             0.4,
             "#fde0ef"
            ],
            [
             0.5,
             "#f7f7f7"
            ],
            [
             0.6,
             "#e6f5d0"
            ],
            [
             0.7,
             "#b8e186"
            ],
            [
             0.8,
             "#7fbc41"
            ],
            [
             0.9,
             "#4d9221"
            ],
            [
             1,
             "#276419"
            ]
           ],
           "sequential": [
            [
             0,
             "#0d0887"
            ],
            [
             0.1111111111111111,
             "#46039f"
            ],
            [
             0.2222222222222222,
             "#7201a8"
            ],
            [
             0.3333333333333333,
             "#9c179e"
            ],
            [
             0.4444444444444444,
             "#bd3786"
            ],
            [
             0.5555555555555556,
             "#d8576b"
            ],
            [
             0.6666666666666666,
             "#ed7953"
            ],
            [
             0.7777777777777778,
             "#fb9f3a"
            ],
            [
             0.8888888888888888,
             "#fdca26"
            ],
            [
             1,
             "#f0f921"
            ]
           ],
           "sequentialminus": [
            [
             0,
             "#0d0887"
            ],
            [
             0.1111111111111111,
             "#46039f"
            ],
            [
             0.2222222222222222,
             "#7201a8"
            ],
            [
             0.3333333333333333,
             "#9c179e"
            ],
            [
             0.4444444444444444,
             "#bd3786"
            ],
            [
             0.5555555555555556,
             "#d8576b"
            ],
            [
             0.6666666666666666,
             "#ed7953"
            ],
            [
             0.7777777777777778,
             "#fb9f3a"
            ],
            [
             0.8888888888888888,
             "#fdca26"
            ],
            [
             1,
             "#f0f921"
            ]
           ]
          },
          "colorway": [
           "#636efa",
           "#EF553B",
           "#00cc96",
           "#ab63fa",
           "#FFA15A",
           "#19d3f3",
           "#FF6692",
           "#B6E880",
           "#FF97FF",
           "#FECB52"
          ],
          "font": {
           "color": "#2a3f5f"
          },
          "geo": {
           "bgcolor": "white",
           "lakecolor": "white",
           "landcolor": "#E5ECF6",
           "showlakes": true,
           "showland": true,
           "subunitcolor": "white"
          },
          "hoverlabel": {
           "align": "left"
          },
          "hovermode": "closest",
          "mapbox": {
           "style": "light"
          },
          "paper_bgcolor": "white",
          "plot_bgcolor": "#E5ECF6",
          "polar": {
           "angularaxis": {
            "gridcolor": "white",
            "linecolor": "white",
            "ticks": ""
           },
           "bgcolor": "#E5ECF6",
           "radialaxis": {
            "gridcolor": "white",
            "linecolor": "white",
            "ticks": ""
           }
          },
          "scene": {
           "xaxis": {
            "backgroundcolor": "#E5ECF6",
            "gridcolor": "white",
            "gridwidth": 2,
            "linecolor": "white",
            "showbackground": true,
            "ticks": "",
            "zerolinecolor": "white"
           },
           "yaxis": {
            "backgroundcolor": "#E5ECF6",
            "gridcolor": "white",
            "gridwidth": 2,
            "linecolor": "white",
            "showbackground": true,
            "ticks": "",
            "zerolinecolor": "white"
           },
           "zaxis": {
            "backgroundcolor": "#E5ECF6",
            "gridcolor": "white",
            "gridwidth": 2,
            "linecolor": "white",
            "showbackground": true,
            "ticks": "",
            "zerolinecolor": "white"
           }
          },
          "shapedefaults": {
           "line": {
            "color": "#2a3f5f"
           }
          },
          "ternary": {
           "aaxis": {
            "gridcolor": "white",
            "linecolor": "white",
            "ticks": ""
           },
           "baxis": {
            "gridcolor": "white",
            "linecolor": "white",
            "ticks": ""
           },
           "bgcolor": "#E5ECF6",
           "caxis": {
            "gridcolor": "white",
            "linecolor": "white",
            "ticks": ""
           }
          },
          "title": {
           "x": 0.05
          },
          "xaxis": {
           "automargin": true,
           "gridcolor": "white",
           "linecolor": "white",
           "ticks": "",
           "title": {
            "standoff": 15
           },
           "zerolinecolor": "white",
           "zerolinewidth": 2
          },
          "yaxis": {
           "automargin": true,
           "gridcolor": "white",
           "linecolor": "white",
           "ticks": "",
           "title": {
            "standoff": 15
           },
           "zerolinecolor": "white",
           "zerolinewidth": 2
          }
         }
        },
        "title": {
         "text": "Validation Metrics Over Time (LOD Model CV)"
        },
        "xaxis": {
         "anchor": "y",
         "domain": [
          0,
          1
         ],
         "title": {
          "text": "index"
         }
        },
        "yaxis": {
         "anchor": "x",
         "domain": [
          0,
          1
         ],
         "title": {
          "text": "value"
         }
        }
       }
      }
     },
     "metadata": {},
     "output_type": "display_data"
    }
   ],
   "source": [
    "import datetime\n",
    "import plotly.express as px\n",
    "\n",
    "time_range = [datetime.time(hour, minute) for hour in range(9, 16) for minute in range(0, 60, 5)]\n",
    "time_range = [x for x in time_range if x >= datetime.time(9,45)]\n",
    "df_val = pd.DataFrame()\n",
    "for t in time_range:\n",
    "    X_val = X_test.loc[X_test['time'] <= t].copy()\n",
    "    y_val = y_test.loc[X_val.index, 'lod_in'].copy()\n",
    "\n",
    "    y_pred_val = lod_model_cv.predict_proba(X_val)[:,-1]\n",
    "\n",
    "    df_val.loc[t, [\n",
    "        'roc_auc',\n",
    "        'precision',\n",
    "        'recall'\n",
    "    ]] =  roc_auc_score(y_val, y_pred_val), precision_score(y_val, y_pred_val > 0.5), recall_score(y_val, y_pred_val > 0.5)\n",
    "\n",
    "\n",
    "fig = px.line(df_val, title='Validation Metrics Over Time (LOD Model CV)')\n",
    "fig.show()"
   ]
  },
  {
   "cell_type": "code",
   "execution_count": 110,
   "metadata": {},
   "outputs": [
    {
     "data": {
      "application/vnd.plotly.v1+json": {
       "config": {
        "plotlyServerURL": "https://plot.ly"
       },
       "data": [
        {
         "hovertemplate": "variable=roc_auc<br>index=%{x}<br>value=%{y}<extra></extra>",
         "legendgroup": "roc_auc",
         "line": {
          "color": "#636efa",
          "dash": "solid"
         },
         "marker": {
          "symbol": "circle"
         },
         "mode": "lines",
         "name": "roc_auc",
         "orientation": "v",
         "showlegend": true,
         "type": "scatter",
         "x": [
          "09:45:00",
          "09:50:00",
          "09:55:00",
          "10:00:00",
          "10:05:00",
          "10:10:00",
          "10:15:00",
          "10:20:00",
          "10:25:00",
          "10:30:00",
          "10:35:00",
          "10:40:00",
          "10:45:00",
          "10:50:00",
          "10:55:00",
          "11:00:00",
          "11:05:00",
          "11:10:00",
          "11:15:00",
          "11:20:00",
          "11:25:00",
          "11:30:00",
          "11:35:00",
          "11:40:00",
          "11:45:00",
          "11:50:00",
          "11:55:00",
          "12:00:00",
          "12:05:00",
          "12:10:00",
          "12:15:00",
          "12:20:00",
          "12:25:00",
          "12:30:00",
          "12:35:00",
          "12:40:00",
          "12:45:00",
          "12:50:00",
          "12:55:00",
          "13:00:00",
          "13:05:00",
          "13:10:00",
          "13:15:00",
          "13:20:00",
          "13:25:00",
          "13:30:00",
          "13:35:00",
          "13:40:00",
          "13:45:00",
          "13:50:00",
          "13:55:00",
          "14:00:00",
          "14:05:00",
          "14:10:00",
          "14:15:00",
          "14:20:00",
          "14:25:00",
          "14:30:00",
          "14:35:00",
          "14:40:00",
          "14:45:00",
          "14:50:00",
          "14:55:00",
          "15:00:00",
          "15:05:00",
          "15:10:00",
          "15:15:00",
          "15:20:00",
          "15:25:00",
          "15:30:00",
          "15:35:00",
          "15:40:00",
          "15:45:00",
          "15:50:00",
          "15:55:00"
         ],
         "xaxis": "x",
         "y": [
          0.8292199603675013,
          0.8274410016213294,
          0.8308913308913308,
          0.8343316519546027,
          0.8388164294721672,
          0.8412335615204468,
          0.8446088037088373,
          0.8488736545217079,
          0.8536677853617745,
          0.8566704197441901,
          0.8601435822002141,
          0.8629469915330571,
          0.8664428500009062,
          0.8682835231011878,
          0.8698408695130008,
          0.8716229339308232,
          0.8735285079093578,
          0.8756380231790066,
          0.8772888366798725,
          0.8786724238875878,
          0.8801081172275551,
          0.8814779668915288,
          0.8827017833262216,
          0.883717929952561,
          0.8846937849036209,
          0.8855035981575898,
          0.8862227520393884,
          0.8866141281769419,
          0.8872946803299038,
          0.8880016613623172,
          0.8885461104119947,
          0.8890041103235904,
          0.889802034362392,
          0.8904810162326187,
          0.8913251151658647,
          0.8920254886784942,
          0.8925747820298108,
          0.8929450334870161,
          0.8934159738796464,
          0.8940230363898396,
          0.8946801338430054,
          0.8953360633270302,
          0.8958963927489227,
          0.8967685165058489,
          0.8976713029914695,
          0.898685553658279,
          0.8998363863845188,
          0.901062638577111,
          0.9022564570051836,
          0.9034292056490567,
          0.9046936994775404,
          0.9060185029272403,
          0.9072078179904657,
          0.9084484740027685,
          0.9096417510210614,
          0.9107543029495639,
          0.9119532401114431,
          0.913159176502894,
          0.9143387755584855,
          0.9156482428587376,
          0.9169106299368269,
          0.9182065789086198,
          0.9196076035037162,
          0.920883715621595,
          0.9220865611813599,
          0.9232694230387094,
          0.9245017173282281,
          0.9256743549801477,
          0.9268269787839454,
          0.9279764863249389,
          0.9291071329751122,
          0.9302371138170827,
          0.9313096572788553,
          0.9326150860602215,
          0.934056677302749
         ],
         "yaxis": "y"
        },
        {
         "hovertemplate": "variable=precision<br>index=%{x}<br>value=%{y}<extra></extra>",
         "legendgroup": "precision",
         "line": {
          "color": "#EF553B",
          "dash": "solid"
         },
         "marker": {
          "symbol": "circle"
         },
         "mode": "lines",
         "name": "precision",
         "orientation": "v",
         "showlegend": true,
         "type": "scatter",
         "x": [
          "09:45:00",
          "09:50:00",
          "09:55:00",
          "10:00:00",
          "10:05:00",
          "10:10:00",
          "10:15:00",
          "10:20:00",
          "10:25:00",
          "10:30:00",
          "10:35:00",
          "10:40:00",
          "10:45:00",
          "10:50:00",
          "10:55:00",
          "11:00:00",
          "11:05:00",
          "11:10:00",
          "11:15:00",
          "11:20:00",
          "11:25:00",
          "11:30:00",
          "11:35:00",
          "11:40:00",
          "11:45:00",
          "11:50:00",
          "11:55:00",
          "12:00:00",
          "12:05:00",
          "12:10:00",
          "12:15:00",
          "12:20:00",
          "12:25:00",
          "12:30:00",
          "12:35:00",
          "12:40:00",
          "12:45:00",
          "12:50:00",
          "12:55:00",
          "13:00:00",
          "13:05:00",
          "13:10:00",
          "13:15:00",
          "13:20:00",
          "13:25:00",
          "13:30:00",
          "13:35:00",
          "13:40:00",
          "13:45:00",
          "13:50:00",
          "13:55:00",
          "14:00:00",
          "14:05:00",
          "14:10:00",
          "14:15:00",
          "14:20:00",
          "14:25:00",
          "14:30:00",
          "14:35:00",
          "14:40:00",
          "14:45:00",
          "14:50:00",
          "14:55:00",
          "15:00:00",
          "15:05:00",
          "15:10:00",
          "15:15:00",
          "15:20:00",
          "15:25:00",
          "15:30:00",
          "15:35:00",
          "15:40:00",
          "15:45:00",
          "15:50:00",
          "15:55:00"
         ],
         "xaxis": "x",
         "y": [
          0.768,
          0.7791164658634538,
          0.7789473684210526,
          0.7786561264822134,
          0.7816455696202531,
          0.7828947368421053,
          0.7829021372328459,
          0.7823529411764706,
          0.7838541666666666,
          0.7856025039123631,
          0.7868271954674221,
          0.7875647668393783,
          0.7894736842105263,
          0.7895902547065338,
          0.7895822588963384,
          0.7896767969126869,
          0.7905711695376246,
          0.7921300256629598,
          0.7933683784876668,
          0.7951575710991545,
          0.7969952363503114,
          0.7983193277310925,
          0.7997987927565392,
          0.8009646302250804,
          0.8021604938271605,
          0.8035025230038587,
          0.8048013718205201,
          0.806060606060606,
          0.807068828062716,
          0.8081171333162086,
          0.8081885856079405,
          0.8084493518963034,
          0.8089260808926081,
          0.8103720405862458,
          0.8115973741794311,
          0.8128455976180349,
          0.8137275170560264,
          0.8145242405954536,
          0.815279138099902,
          0.8159251479854879,
          0.8165393928105793,
          0.817421349336243,
          0.8181979740536698,
          0.8188292513461872,
          0.8195105370496261,
          0.8203592814371258,
          0.8214983713355049,
          0.8228070175438597,
          0.8239249413604378,
          0.8250268363747891,
          0.8263355906696764,
          0.8278664302600472,
          0.8291727140783745,
          0.8303151290460573,
          0.8315346881569726,
          0.8329427980702964,
          0.8341919739696312,
          0.8354683746997598,
          0.8366596638655462,
          0.8380054256556001,
          0.8392879847425302,
          0.8404055576417574,
          0.8418392504930966,
          0.8432182790471561,
          0.8444950281538277,
          0.8458357944477259,
          0.8470766363848125,
          0.8483630097645032,
          0.8496939469508048,
          0.8509282039812123,
          0.8522689632328586,
          0.8534379426827939,
          0.8546999354699936,
          0.8562931492299523,
          0.8580266331131383
         ],
         "yaxis": "y"
        },
        {
         "hovertemplate": "variable=recall<br>index=%{x}<br>value=%{y}<extra></extra>",
         "legendgroup": "recall",
         "line": {
          "color": "#00cc96",
          "dash": "solid"
         },
         "marker": {
          "symbol": "circle"
         },
         "mode": "lines",
         "name": "recall",
         "orientation": "v",
         "showlegend": true,
         "type": "scatter",
         "x": [
          "09:45:00",
          "09:50:00",
          "09:55:00",
          "10:00:00",
          "10:05:00",
          "10:10:00",
          "10:15:00",
          "10:20:00",
          "10:25:00",
          "10:30:00",
          "10:35:00",
          "10:40:00",
          "10:45:00",
          "10:50:00",
          "10:55:00",
          "11:00:00",
          "11:05:00",
          "11:10:00",
          "11:15:00",
          "11:20:00",
          "11:25:00",
          "11:30:00",
          "11:35:00",
          "11:40:00",
          "11:45:00",
          "11:50:00",
          "11:55:00",
          "12:00:00",
          "12:05:00",
          "12:10:00",
          "12:15:00",
          "12:20:00",
          "12:25:00",
          "12:30:00",
          "12:35:00",
          "12:40:00",
          "12:45:00",
          "12:50:00",
          "12:55:00",
          "13:00:00",
          "13:05:00",
          "13:10:00",
          "13:15:00",
          "13:20:00",
          "13:25:00",
          "13:30:00",
          "13:35:00",
          "13:40:00",
          "13:45:00",
          "13:50:00",
          "13:55:00",
          "14:00:00",
          "14:05:00",
          "14:10:00",
          "14:15:00",
          "14:20:00",
          "14:25:00",
          "14:30:00",
          "14:35:00",
          "14:40:00",
          "14:45:00",
          "14:50:00",
          "14:55:00",
          "15:00:00",
          "15:05:00",
          "15:10:00",
          "15:15:00",
          "15:20:00",
          "15:25:00",
          "15:30:00",
          "15:35:00",
          "15:40:00",
          "15:45:00",
          "15:50:00",
          "15:55:00"
         ],
         "xaxis": "x",
         "y": [
          0.7868852459016393,
          0.7950819672131147,
          0.8087431693989071,
          0.8073770491803278,
          0.8098360655737705,
          0.8128415300546448,
          0.8149882903981265,
          0.8176229508196722,
          0.8224043715846995,
          0.8229508196721311,
          0.8278688524590164,
          0.8306010928961749,
          0.832282471626734,
          0.8348946135831382,
          0.8366120218579235,
          0.8386270491803278,
          0.840887174541948,
          0.843351548269581,
          0.8464193270060397,
          0.8479508196721312,
          0.8489461358313818,
          0.849478390461997,
          0.8499643620812545,
          0.8507513661202186,
          0.8521311475409836,
          0.8534047919293821,
          0.8548876745598057,
          0.8565573770491803,
          0.8583945732052006,
          0.8595628415300547,
          0.8611845584346907,
          0.8627049180327869,
          0.8643815201192251,
          0.8664416586306654,
          0.8686182669789227,
          0.8702185792349727,
          0.871953921134249,
          0.8733822260569456,
          0.8747372845733501,
          0.8756147540983606,
          0.8764494202319072,
          0.8772443403590945,
          0.8776210446054137,
          0.8781669150521609,
          0.8784842412096922,
          0.879144385026738,
          0.8801256325248648,
          0.881578947368421,
          0.8821362799263351,
          0.8828355759763702,
          0.8835076427996782,
          0.8843118686868687,
          0.8847762118630943,
          0.8852234721799939,
          0.8856545753097477,
          0.8860703812316716,
          0.8864716899582192,
          0.8865760407816483,
          0.8870945287484338,
          0.8881434830230011,
          0.889023569023569,
          0.8897429101510734,
          0.8907004043302466,
          0.8908577298407807,
          0.8912631179668732,
          0.8916562889165629,
          0.8922831554410502,
          0.8927707930367504,
          0.8931252234004528,
          0.8937044867277425,
          0.8939200926462073,
          0.8944723618090452,
          0.895234876647516,
          0.8959768837519448,
          0.8973571663559601
         ],
         "yaxis": "y"
        }
       ],
       "layout": {
        "legend": {
         "title": {
          "text": "variable"
         },
         "tracegroupgap": 0
        },
        "template": {
         "data": {
          "bar": [
           {
            "error_x": {
             "color": "#2a3f5f"
            },
            "error_y": {
             "color": "#2a3f5f"
            },
            "marker": {
             "line": {
              "color": "#E5ECF6",
              "width": 0.5
             },
             "pattern": {
              "fillmode": "overlay",
              "size": 10,
              "solidity": 0.2
             }
            },
            "type": "bar"
           }
          ],
          "barpolar": [
           {
            "marker": {
             "line": {
              "color": "#E5ECF6",
              "width": 0.5
             },
             "pattern": {
              "fillmode": "overlay",
              "size": 10,
              "solidity": 0.2
             }
            },
            "type": "barpolar"
           }
          ],
          "carpet": [
           {
            "aaxis": {
             "endlinecolor": "#2a3f5f",
             "gridcolor": "white",
             "linecolor": "white",
             "minorgridcolor": "white",
             "startlinecolor": "#2a3f5f"
            },
            "baxis": {
             "endlinecolor": "#2a3f5f",
             "gridcolor": "white",
             "linecolor": "white",
             "minorgridcolor": "white",
             "startlinecolor": "#2a3f5f"
            },
            "type": "carpet"
           }
          ],
          "choropleth": [
           {
            "colorbar": {
             "outlinewidth": 0,
             "ticks": ""
            },
            "type": "choropleth"
           }
          ],
          "contour": [
           {
            "colorbar": {
             "outlinewidth": 0,
             "ticks": ""
            },
            "colorscale": [
             [
              0,
              "#0d0887"
             ],
             [
              0.1111111111111111,
              "#46039f"
             ],
             [
              0.2222222222222222,
              "#7201a8"
             ],
             [
              0.3333333333333333,
              "#9c179e"
             ],
             [
              0.4444444444444444,
              "#bd3786"
             ],
             [
              0.5555555555555556,
              "#d8576b"
             ],
             [
              0.6666666666666666,
              "#ed7953"
             ],
             [
              0.7777777777777778,
              "#fb9f3a"
             ],
             [
              0.8888888888888888,
              "#fdca26"
             ],
             [
              1,
              "#f0f921"
             ]
            ],
            "type": "contour"
           }
          ],
          "contourcarpet": [
           {
            "colorbar": {
             "outlinewidth": 0,
             "ticks": ""
            },
            "type": "contourcarpet"
           }
          ],
          "heatmap": [
           {
            "colorbar": {
             "outlinewidth": 0,
             "ticks": ""
            },
            "colorscale": [
             [
              0,
              "#0d0887"
             ],
             [
              0.1111111111111111,
              "#46039f"
             ],
             [
              0.2222222222222222,
              "#7201a8"
             ],
             [
              0.3333333333333333,
              "#9c179e"
             ],
             [
              0.4444444444444444,
              "#bd3786"
             ],
             [
              0.5555555555555556,
              "#d8576b"
             ],
             [
              0.6666666666666666,
              "#ed7953"
             ],
             [
              0.7777777777777778,
              "#fb9f3a"
             ],
             [
              0.8888888888888888,
              "#fdca26"
             ],
             [
              1,
              "#f0f921"
             ]
            ],
            "type": "heatmap"
           }
          ],
          "heatmapgl": [
           {
            "colorbar": {
             "outlinewidth": 0,
             "ticks": ""
            },
            "colorscale": [
             [
              0,
              "#0d0887"
             ],
             [
              0.1111111111111111,
              "#46039f"
             ],
             [
              0.2222222222222222,
              "#7201a8"
             ],
             [
              0.3333333333333333,
              "#9c179e"
             ],
             [
              0.4444444444444444,
              "#bd3786"
             ],
             [
              0.5555555555555556,
              "#d8576b"
             ],
             [
              0.6666666666666666,
              "#ed7953"
             ],
             [
              0.7777777777777778,
              "#fb9f3a"
             ],
             [
              0.8888888888888888,
              "#fdca26"
             ],
             [
              1,
              "#f0f921"
             ]
            ],
            "type": "heatmapgl"
           }
          ],
          "histogram": [
           {
            "marker": {
             "pattern": {
              "fillmode": "overlay",
              "size": 10,
              "solidity": 0.2
             }
            },
            "type": "histogram"
           }
          ],
          "histogram2d": [
           {
            "colorbar": {
             "outlinewidth": 0,
             "ticks": ""
            },
            "colorscale": [
             [
              0,
              "#0d0887"
             ],
             [
              0.1111111111111111,
              "#46039f"
             ],
             [
              0.2222222222222222,
              "#7201a8"
             ],
             [
              0.3333333333333333,
              "#9c179e"
             ],
             [
              0.4444444444444444,
              "#bd3786"
             ],
             [
              0.5555555555555556,
              "#d8576b"
             ],
             [
              0.6666666666666666,
              "#ed7953"
             ],
             [
              0.7777777777777778,
              "#fb9f3a"
             ],
             [
              0.8888888888888888,
              "#fdca26"
             ],
             [
              1,
              "#f0f921"
             ]
            ],
            "type": "histogram2d"
           }
          ],
          "histogram2dcontour": [
           {
            "colorbar": {
             "outlinewidth": 0,
             "ticks": ""
            },
            "colorscale": [
             [
              0,
              "#0d0887"
             ],
             [
              0.1111111111111111,
              "#46039f"
             ],
             [
              0.2222222222222222,
              "#7201a8"
             ],
             [
              0.3333333333333333,
              "#9c179e"
             ],
             [
              0.4444444444444444,
              "#bd3786"
             ],
             [
              0.5555555555555556,
              "#d8576b"
             ],
             [
              0.6666666666666666,
              "#ed7953"
             ],
             [
              0.7777777777777778,
              "#fb9f3a"
             ],
             [
              0.8888888888888888,
              "#fdca26"
             ],
             [
              1,
              "#f0f921"
             ]
            ],
            "type": "histogram2dcontour"
           }
          ],
          "mesh3d": [
           {
            "colorbar": {
             "outlinewidth": 0,
             "ticks": ""
            },
            "type": "mesh3d"
           }
          ],
          "parcoords": [
           {
            "line": {
             "colorbar": {
              "outlinewidth": 0,
              "ticks": ""
             }
            },
            "type": "parcoords"
           }
          ],
          "pie": [
           {
            "automargin": true,
            "type": "pie"
           }
          ],
          "scatter": [
           {
            "fillpattern": {
             "fillmode": "overlay",
             "size": 10,
             "solidity": 0.2
            },
            "type": "scatter"
           }
          ],
          "scatter3d": [
           {
            "line": {
             "colorbar": {
              "outlinewidth": 0,
              "ticks": ""
             }
            },
            "marker": {
             "colorbar": {
              "outlinewidth": 0,
              "ticks": ""
             }
            },
            "type": "scatter3d"
           }
          ],
          "scattercarpet": [
           {
            "marker": {
             "colorbar": {
              "outlinewidth": 0,
              "ticks": ""
             }
            },
            "type": "scattercarpet"
           }
          ],
          "scattergeo": [
           {
            "marker": {
             "colorbar": {
              "outlinewidth": 0,
              "ticks": ""
             }
            },
            "type": "scattergeo"
           }
          ],
          "scattergl": [
           {
            "marker": {
             "colorbar": {
              "outlinewidth": 0,
              "ticks": ""
             }
            },
            "type": "scattergl"
           }
          ],
          "scattermapbox": [
           {
            "marker": {
             "colorbar": {
              "outlinewidth": 0,
              "ticks": ""
             }
            },
            "type": "scattermapbox"
           }
          ],
          "scatterpolar": [
           {
            "marker": {
             "colorbar": {
              "outlinewidth": 0,
              "ticks": ""
             }
            },
            "type": "scatterpolar"
           }
          ],
          "scatterpolargl": [
           {
            "marker": {
             "colorbar": {
              "outlinewidth": 0,
              "ticks": ""
             }
            },
            "type": "scatterpolargl"
           }
          ],
          "scatterternary": [
           {
            "marker": {
             "colorbar": {
              "outlinewidth": 0,
              "ticks": ""
             }
            },
            "type": "scatterternary"
           }
          ],
          "surface": [
           {
            "colorbar": {
             "outlinewidth": 0,
             "ticks": ""
            },
            "colorscale": [
             [
              0,
              "#0d0887"
             ],
             [
              0.1111111111111111,
              "#46039f"
             ],
             [
              0.2222222222222222,
              "#7201a8"
             ],
             [
              0.3333333333333333,
              "#9c179e"
             ],
             [
              0.4444444444444444,
              "#bd3786"
             ],
             [
              0.5555555555555556,
              "#d8576b"
             ],
             [
              0.6666666666666666,
              "#ed7953"
             ],
             [
              0.7777777777777778,
              "#fb9f3a"
             ],
             [
              0.8888888888888888,
              "#fdca26"
             ],
             [
              1,
              "#f0f921"
             ]
            ],
            "type": "surface"
           }
          ],
          "table": [
           {
            "cells": {
             "fill": {
              "color": "#EBF0F8"
             },
             "line": {
              "color": "white"
             }
            },
            "header": {
             "fill": {
              "color": "#C8D4E3"
             },
             "line": {
              "color": "white"
             }
            },
            "type": "table"
           }
          ]
         },
         "layout": {
          "annotationdefaults": {
           "arrowcolor": "#2a3f5f",
           "arrowhead": 0,
           "arrowwidth": 1
          },
          "autotypenumbers": "strict",
          "coloraxis": {
           "colorbar": {
            "outlinewidth": 0,
            "ticks": ""
           }
          },
          "colorscale": {
           "diverging": [
            [
             0,
             "#8e0152"
            ],
            [
             0.1,
             "#c51b7d"
            ],
            [
             0.2,
             "#de77ae"
            ],
            [
             0.3,
             "#f1b6da"
            ],
            [
             0.4,
             "#fde0ef"
            ],
            [
             0.5,
             "#f7f7f7"
            ],
            [
             0.6,
             "#e6f5d0"
            ],
            [
             0.7,
             "#b8e186"
            ],
            [
             0.8,
             "#7fbc41"
            ],
            [
             0.9,
             "#4d9221"
            ],
            [
             1,
             "#276419"
            ]
           ],
           "sequential": [
            [
             0,
             "#0d0887"
            ],
            [
             0.1111111111111111,
             "#46039f"
            ],
            [
             0.2222222222222222,
             "#7201a8"
            ],
            [
             0.3333333333333333,
             "#9c179e"
            ],
            [
             0.4444444444444444,
             "#bd3786"
            ],
            [
             0.5555555555555556,
             "#d8576b"
            ],
            [
             0.6666666666666666,
             "#ed7953"
            ],
            [
             0.7777777777777778,
             "#fb9f3a"
            ],
            [
             0.8888888888888888,
             "#fdca26"
            ],
            [
             1,
             "#f0f921"
            ]
           ],
           "sequentialminus": [
            [
             0,
             "#0d0887"
            ],
            [
             0.1111111111111111,
             "#46039f"
            ],
            [
             0.2222222222222222,
             "#7201a8"
            ],
            [
             0.3333333333333333,
             "#9c179e"
            ],
            [
             0.4444444444444444,
             "#bd3786"
            ],
            [
             0.5555555555555556,
             "#d8576b"
            ],
            [
             0.6666666666666666,
             "#ed7953"
            ],
            [
             0.7777777777777778,
             "#fb9f3a"
            ],
            [
             0.8888888888888888,
             "#fdca26"
            ],
            [
             1,
             "#f0f921"
            ]
           ]
          },
          "colorway": [
           "#636efa",
           "#EF553B",
           "#00cc96",
           "#ab63fa",
           "#FFA15A",
           "#19d3f3",
           "#FF6692",
           "#B6E880",
           "#FF97FF",
           "#FECB52"
          ],
          "font": {
           "color": "#2a3f5f"
          },
          "geo": {
           "bgcolor": "white",
           "lakecolor": "white",
           "landcolor": "#E5ECF6",
           "showlakes": true,
           "showland": true,
           "subunitcolor": "white"
          },
          "hoverlabel": {
           "align": "left"
          },
          "hovermode": "closest",
          "mapbox": {
           "style": "light"
          },
          "paper_bgcolor": "white",
          "plot_bgcolor": "#E5ECF6",
          "polar": {
           "angularaxis": {
            "gridcolor": "white",
            "linecolor": "white",
            "ticks": ""
           },
           "bgcolor": "#E5ECF6",
           "radialaxis": {
            "gridcolor": "white",
            "linecolor": "white",
            "ticks": ""
           }
          },
          "scene": {
           "xaxis": {
            "backgroundcolor": "#E5ECF6",
            "gridcolor": "white",
            "gridwidth": 2,
            "linecolor": "white",
            "showbackground": true,
            "ticks": "",
            "zerolinecolor": "white"
           },
           "yaxis": {
            "backgroundcolor": "#E5ECF6",
            "gridcolor": "white",
            "gridwidth": 2,
            "linecolor": "white",
            "showbackground": true,
            "ticks": "",
            "zerolinecolor": "white"
           },
           "zaxis": {
            "backgroundcolor": "#E5ECF6",
            "gridcolor": "white",
            "gridwidth": 2,
            "linecolor": "white",
            "showbackground": true,
            "ticks": "",
            "zerolinecolor": "white"
           }
          },
          "shapedefaults": {
           "line": {
            "color": "#2a3f5f"
           }
          },
          "ternary": {
           "aaxis": {
            "gridcolor": "white",
            "linecolor": "white",
            "ticks": ""
           },
           "baxis": {
            "gridcolor": "white",
            "linecolor": "white",
            "ticks": ""
           },
           "bgcolor": "#E5ECF6",
           "caxis": {
            "gridcolor": "white",
            "linecolor": "white",
            "ticks": ""
           }
          },
          "title": {
           "x": 0.05
          },
          "xaxis": {
           "automargin": true,
           "gridcolor": "white",
           "linecolor": "white",
           "ticks": "",
           "title": {
            "standoff": 15
           },
           "zerolinecolor": "white",
           "zerolinewidth": 2
          },
          "yaxis": {
           "automargin": true,
           "gridcolor": "white",
           "linecolor": "white",
           "ticks": "",
           "title": {
            "standoff": 15
           },
           "zerolinecolor": "white",
           "zerolinewidth": 2
          }
         }
        },
        "title": {
         "text": "Validation Metrics Over Time (GD Model)"
        },
        "xaxis": {
         "anchor": "y",
         "domain": [
          0,
          1
         ],
         "title": {
          "text": "index"
         }
        },
        "yaxis": {
         "anchor": "x",
         "domain": [
          0,
          1
         ],
         "title": {
          "text": "value"
         }
        }
       }
      }
     },
     "metadata": {},
     "output_type": "display_data"
    }
   ],
   "source": [
    "import datetime\n",
    "import plotly.express as px\n",
    "\n",
    "time_range = [datetime.time(hour, minute) for hour in range(9, 16) for minute in range(0, 60, 5)]\n",
    "time_range = [x for x in time_range if x >= datetime.time(9,45)]\n",
    "df_val = pd.DataFrame()\n",
    "for t in time_range:\n",
    "    X_val = X_test.loc[X_test['time'] <= t].copy()\n",
    "    y_val = y_test.loc[X_val.index, 'green_day'].copy()\n",
    "\n",
    "    y_pred_val = pipeline_gd.predict_proba(X_val)[:,-1]\n",
    "\n",
    "    df_val.loc[t, [\n",
    "        'roc_auc',\n",
    "        'precision',\n",
    "        'recall'\n",
    "    ]] =  roc_auc_score(y_val, y_pred_val), precision_score(y_val, y_pred_val > 0.5), recall_score(y_val, y_pred_val > 0.5)\n",
    "\n",
    "\n",
    "fig = px.line(df_val, title='Validation Metrics Over Time (GD Model)')\n",
    "fig.show()"
   ]
  },
  {
   "cell_type": "code",
   "execution_count": 111,
   "metadata": {},
   "outputs": [
    {
     "data": {
      "application/vnd.plotly.v1+json": {
       "config": {
        "plotlyServerURL": "https://plot.ly"
       },
       "data": [
        {
         "hovertemplate": "variable=roc_auc<br>index=%{x}<br>value=%{y}<extra></extra>",
         "legendgroup": "roc_auc",
         "line": {
          "color": "#636efa",
          "dash": "solid"
         },
         "marker": {
          "symbol": "circle"
         },
         "mode": "lines",
         "name": "roc_auc",
         "orientation": "v",
         "showlegend": true,
         "type": "scatter",
         "x": [
          "09:45:00",
          "09:50:00",
          "09:55:00",
          "10:00:00",
          "10:05:00",
          "10:10:00",
          "10:15:00",
          "10:20:00",
          "10:25:00",
          "10:30:00",
          "10:35:00",
          "10:40:00",
          "10:45:00",
          "10:50:00",
          "10:55:00",
          "11:00:00",
          "11:05:00",
          "11:10:00",
          "11:15:00",
          "11:20:00",
          "11:25:00",
          "11:30:00",
          "11:35:00",
          "11:40:00",
          "11:45:00",
          "11:50:00",
          "11:55:00",
          "12:00:00",
          "12:05:00",
          "12:10:00",
          "12:15:00",
          "12:20:00",
          "12:25:00",
          "12:30:00",
          "12:35:00",
          "12:40:00",
          "12:45:00",
          "12:50:00",
          "12:55:00",
          "13:00:00",
          "13:05:00",
          "13:10:00",
          "13:15:00",
          "13:20:00",
          "13:25:00",
          "13:30:00",
          "13:35:00",
          "13:40:00",
          "13:45:00",
          "13:50:00",
          "13:55:00",
          "14:00:00",
          "14:05:00",
          "14:10:00",
          "14:15:00",
          "14:20:00",
          "14:25:00",
          "14:30:00",
          "14:35:00",
          "14:40:00",
          "14:45:00",
          "14:50:00",
          "14:55:00",
          "15:00:00",
          "15:05:00",
          "15:10:00",
          "15:15:00",
          "15:20:00",
          "15:25:00",
          "15:30:00",
          "15:35:00",
          "15:40:00",
          "15:45:00",
          "15:50:00",
          "15:55:00"
         ],
         "xaxis": "x",
         "y": [
          0.8112952621149343,
          0.8115429652314898,
          0.8142376748934126,
          0.8152922896775354,
          0.8188758782201405,
          0.820950679557237,
          0.8239313379828603,
          0.8272397428391282,
          0.8316486185338645,
          0.8346469104665826,
          0.8377367788694167,
          0.8411240967593427,
          0.8445655615119191,
          0.8467126717377638,
          0.8485750315258513,
          0.8510955936993334,
          0.8532933683821425,
          0.8552960649955186,
          0.85706750449496,
          0.8589213655197262,
          0.860960681636493,
          0.862777498209689,
          0.8646341417731916,
          0.8662572059088454,
          0.8675491983426409,
          0.8687026912363998,
          0.8699312448553493,
          0.8707113812918432,
          0.8715502835987816,
          0.8724206849616686,
          0.8733888635715626,
          0.8743627978067015,
          0.8754658158532973,
          0.8763405889022771,
          0.8773287401791919,
          0.8780785660908612,
          0.8787917706836627,
          0.879279943071324,
          0.8798399895014504,
          0.880633838497568,
          0.8816706498853152,
          0.8827154593297116,
          0.8835672347052002,
          0.8844740393734434,
          0.8853696645856441,
          0.8862473287594197,
          0.887415126151421,
          0.8886268797775624,
          0.8898411734710101,
          0.8910337950743515,
          0.8923030689600217,
          0.89360345757533,
          0.8947973166128759,
          0.8960386951512208,
          0.8972568627741041,
          0.8984673742852447,
          0.8997803571441,
          0.9010935566491122,
          0.9024480849001163,
          0.9039439501054558,
          0.9054127422980178,
          0.9068717260064199,
          0.9084120843313785,
          0.9098289203071754,
          0.9111919500775949,
          0.9126028853786605,
          0.9139602755197298,
          0.9152692282351391,
          0.916594364208383,
          0.9178854537642818,
          0.9191819671032178,
          0.9204644959384172,
          0.9217427458886124,
          0.9232269363363371,
          0.9248486914213593
         ],
         "yaxis": "y"
        },
        {
         "hovertemplate": "variable=precision<br>index=%{x}<br>value=%{y}<extra></extra>",
         "legendgroup": "precision",
         "line": {
          "color": "#EF553B",
          "dash": "solid"
         },
         "marker": {
          "symbol": "circle"
         },
         "mode": "lines",
         "name": "precision",
         "orientation": "v",
         "showlegend": true,
         "type": "scatter",
         "x": [
          "09:45:00",
          "09:50:00",
          "09:55:00",
          "10:00:00",
          "10:05:00",
          "10:10:00",
          "10:15:00",
          "10:20:00",
          "10:25:00",
          "10:30:00",
          "10:35:00",
          "10:40:00",
          "10:45:00",
          "10:50:00",
          "10:55:00",
          "11:00:00",
          "11:05:00",
          "11:10:00",
          "11:15:00",
          "11:20:00",
          "11:25:00",
          "11:30:00",
          "11:35:00",
          "11:40:00",
          "11:45:00",
          "11:50:00",
          "11:55:00",
          "12:00:00",
          "12:05:00",
          "12:10:00",
          "12:15:00",
          "12:20:00",
          "12:25:00",
          "12:30:00",
          "12:35:00",
          "12:40:00",
          "12:45:00",
          "12:50:00",
          "12:55:00",
          "13:00:00",
          "13:05:00",
          "13:10:00",
          "13:15:00",
          "13:20:00",
          "13:25:00",
          "13:30:00",
          "13:35:00",
          "13:40:00",
          "13:45:00",
          "13:50:00",
          "13:55:00",
          "14:00:00",
          "14:05:00",
          "14:10:00",
          "14:15:00",
          "14:20:00",
          "14:25:00",
          "14:30:00",
          "14:35:00",
          "14:40:00",
          "14:45:00",
          "14:50:00",
          "14:55:00",
          "15:00:00",
          "15:05:00",
          "15:10:00",
          "15:15:00",
          "15:20:00",
          "15:25:00",
          "15:30:00",
          "15:35:00",
          "15:40:00",
          "15:45:00",
          "15:50:00",
          "15:55:00"
         ],
         "xaxis": "x",
         "y": [
          0.7555555555555555,
          0.7574626865671642,
          0.7562189054726368,
          0.7555970149253731,
          0.7567164179104477,
          0.7580645161290323,
          0.7566418703506907,
          0.7583333333333333,
          0.7613168724279835,
          0.7642698295033358,
          0.7661725067385444,
          0.7685185185185185,
          0.770501138952164,
          0.7705696202531646,
          0.7729064039408867,
          0.7741339491916859,
          0.7749782797567333,
          0.7766393442622951,
          0.7780364765230888,
          0.7794985250737463,
          0.7820738137082601,
          0.7844914400805639,
          0.7867481505307172,
          0.7886454797901882,
          0.7902843601895735,
          0.7917972087724295,
          0.7924890350877193,
          0.7932310946589106,
          0.7941777323799796,
          0.7953591705751666,
          0.7961768219832736,
          0.7971752720537162,
          0.7979344409519533,
          0.7990847679232949,
          0.800296484540449,
          0.8014418125643666,
          0.8025260625501203,
          0.8032402888932266,
          0.8039961941008563,
          0.8049006868386858,
          0.8056511501539576,
          0.8063660477453581,
          0.8073664188137645,
          0.8080500591916117,
          0.8089720244992551,
          0.8100486223662885,
          0.8112099079072721,
          0.8123249299719888,
          0.8134248665141114,
          0.8143049528654795,
          0.8153258954785673,
          0.8166618622081292,
          0.8179243947331163,
          0.8191430161380078,
          0.820407604978799,
          0.8216063500605408,
          0.8229842446709916,
          0.8245957224830465,
          0.8261427837699025,
          0.8277518008340705,
          0.8292895358964788,
          0.8306787552070571,
          0.8321467358513334,
          0.8334522959790626,
          0.8346428990266214,
          0.8359347901491502,
          0.8373631386861314,
          0.8388076490438695,
          0.8401953168349795,
          0.8415115005476451,
          0.8428849480968859,
          0.8441502988898377,
          0.845432515014224,
          0.8470502549162418,
          0.8488491574188245
         ],
         "yaxis": "y"
        },
        {
         "hovertemplate": "variable=recall<br>index=%{x}<br>value=%{y}<extra></extra>",
         "legendgroup": "recall",
         "line": {
          "color": "#00cc96",
          "dash": "solid"
         },
         "marker": {
          "symbol": "circle"
         },
         "mode": "lines",
         "name": "recall",
         "orientation": "v",
         "showlegend": true,
         "type": "scatter",
         "x": [
          "09:45:00",
          "09:50:00",
          "09:55:00",
          "10:00:00",
          "10:05:00",
          "10:10:00",
          "10:15:00",
          "10:20:00",
          "10:25:00",
          "10:30:00",
          "10:35:00",
          "10:40:00",
          "10:45:00",
          "10:50:00",
          "10:55:00",
          "11:00:00",
          "11:05:00",
          "11:10:00",
          "11:15:00",
          "11:20:00",
          "11:25:00",
          "11:30:00",
          "11:35:00",
          "11:40:00",
          "11:45:00",
          "11:50:00",
          "11:55:00",
          "12:00:00",
          "12:05:00",
          "12:10:00",
          "12:15:00",
          "12:20:00",
          "12:25:00",
          "12:30:00",
          "12:35:00",
          "12:40:00",
          "12:45:00",
          "12:50:00",
          "12:55:00",
          "13:00:00",
          "13:05:00",
          "13:10:00",
          "13:15:00",
          "13:20:00",
          "13:25:00",
          "13:30:00",
          "13:35:00",
          "13:40:00",
          "13:45:00",
          "13:50:00",
          "13:55:00",
          "14:00:00",
          "14:05:00",
          "14:10:00",
          "14:15:00",
          "14:20:00",
          "14:25:00",
          "14:30:00",
          "14:35:00",
          "14:40:00",
          "14:45:00",
          "14:50:00",
          "14:55:00",
          "15:00:00",
          "15:05:00",
          "15:10:00",
          "15:15:00",
          "15:20:00",
          "15:25:00",
          "15:30:00",
          "15:35:00",
          "15:40:00",
          "15:45:00",
          "15:50:00",
          "15:55:00"
         ],
         "xaxis": "x",
         "y": [
          0.8360655737704918,
          0.8319672131147541,
          0.8306010928961749,
          0.8299180327868853,
          0.8311475409836065,
          0.8346994535519126,
          0.8337236533957846,
          0.8391393442622951,
          0.8424408014571949,
          0.8450819672131148,
          0.8472429210134128,
          0.8504098360655737,
          0.8530895334174022,
          0.8553864168618267,
          0.8573770491803279,
          0.8586065573770492,
          0.8601735776277725,
          0.8629326047358834,
          0.864969801553063,
          0.8663934426229508,
          0.8684621389539422,
          0.870715350223547,
          0.8717034925160371,
          0.8729508196721312,
          0.8747540983606558,
          0.8764186633039092,
          0.8776563448694596,
          0.8782201405152225,
          0.8790276992651216,
          0.8803278688524591,
          0.8810153358011634,
          0.8819159836065574,
          0.882762046696473,
          0.8840405014464803,
          0.8850117096018736,
          0.8859289617486339,
          0.886796632698272,
          0.887618636755824,
          0.8879781420765027,
          0.8885245901639345,
          0.8892443022790884,
          0.8899297423887588,
          0.8900114372855509,
          0.8900894187779433,
          0.8903261067589725,
          0.8909090909090909,
          0.8914674576862677,
          0.8920027341079972,
          0.8926837435124728,
          0.893009517558254,
          0.8936444086886565,
          0.8942550505050505,
          0.8946879355737959,
          0.8951048951048951,
          0.8953575160471712,
          0.8954545454545455,
          0.895548191903184,
          0.8953554233928066,
          0.8957260197688988,
          0.8967688937568455,
          0.8976430976430977,
          0.8984892658362046,
          0.8994391548193557,
          0.8995891114535183,
          0.8998609179415855,
          0.900373599003736,
          0.9007483744325849,
          0.9014748549323017,
          0.9020612415107828,
          0.9023960535588442,
          0.9027214823393167,
          0.9031521242576519,
          0.9039089782584206,
          0.9047566125805735,
          0.9059107358262968
         ],
         "yaxis": "y"
        }
       ],
       "layout": {
        "legend": {
         "title": {
          "text": "variable"
         },
         "tracegroupgap": 0
        },
        "template": {
         "data": {
          "bar": [
           {
            "error_x": {
             "color": "#2a3f5f"
            },
            "error_y": {
             "color": "#2a3f5f"
            },
            "marker": {
             "line": {
              "color": "#E5ECF6",
              "width": 0.5
             },
             "pattern": {
              "fillmode": "overlay",
              "size": 10,
              "solidity": 0.2
             }
            },
            "type": "bar"
           }
          ],
          "barpolar": [
           {
            "marker": {
             "line": {
              "color": "#E5ECF6",
              "width": 0.5
             },
             "pattern": {
              "fillmode": "overlay",
              "size": 10,
              "solidity": 0.2
             }
            },
            "type": "barpolar"
           }
          ],
          "carpet": [
           {
            "aaxis": {
             "endlinecolor": "#2a3f5f",
             "gridcolor": "white",
             "linecolor": "white",
             "minorgridcolor": "white",
             "startlinecolor": "#2a3f5f"
            },
            "baxis": {
             "endlinecolor": "#2a3f5f",
             "gridcolor": "white",
             "linecolor": "white",
             "minorgridcolor": "white",
             "startlinecolor": "#2a3f5f"
            },
            "type": "carpet"
           }
          ],
          "choropleth": [
           {
            "colorbar": {
             "outlinewidth": 0,
             "ticks": ""
            },
            "type": "choropleth"
           }
          ],
          "contour": [
           {
            "colorbar": {
             "outlinewidth": 0,
             "ticks": ""
            },
            "colorscale": [
             [
              0,
              "#0d0887"
             ],
             [
              0.1111111111111111,
              "#46039f"
             ],
             [
              0.2222222222222222,
              "#7201a8"
             ],
             [
              0.3333333333333333,
              "#9c179e"
             ],
             [
              0.4444444444444444,
              "#bd3786"
             ],
             [
              0.5555555555555556,
              "#d8576b"
             ],
             [
              0.6666666666666666,
              "#ed7953"
             ],
             [
              0.7777777777777778,
              "#fb9f3a"
             ],
             [
              0.8888888888888888,
              "#fdca26"
             ],
             [
              1,
              "#f0f921"
             ]
            ],
            "type": "contour"
           }
          ],
          "contourcarpet": [
           {
            "colorbar": {
             "outlinewidth": 0,
             "ticks": ""
            },
            "type": "contourcarpet"
           }
          ],
          "heatmap": [
           {
            "colorbar": {
             "outlinewidth": 0,
             "ticks": ""
            },
            "colorscale": [
             [
              0,
              "#0d0887"
             ],
             [
              0.1111111111111111,
              "#46039f"
             ],
             [
              0.2222222222222222,
              "#7201a8"
             ],
             [
              0.3333333333333333,
              "#9c179e"
             ],
             [
              0.4444444444444444,
              "#bd3786"
             ],
             [
              0.5555555555555556,
              "#d8576b"
             ],
             [
              0.6666666666666666,
              "#ed7953"
             ],
             [
              0.7777777777777778,
              "#fb9f3a"
             ],
             [
              0.8888888888888888,
              "#fdca26"
             ],
             [
              1,
              "#f0f921"
             ]
            ],
            "type": "heatmap"
           }
          ],
          "heatmapgl": [
           {
            "colorbar": {
             "outlinewidth": 0,
             "ticks": ""
            },
            "colorscale": [
             [
              0,
              "#0d0887"
             ],
             [
              0.1111111111111111,
              "#46039f"
             ],
             [
              0.2222222222222222,
              "#7201a8"
             ],
             [
              0.3333333333333333,
              "#9c179e"
             ],
             [
              0.4444444444444444,
              "#bd3786"
             ],
             [
              0.5555555555555556,
              "#d8576b"
             ],
             [
              0.6666666666666666,
              "#ed7953"
             ],
             [
              0.7777777777777778,
              "#fb9f3a"
             ],
             [
              0.8888888888888888,
              "#fdca26"
             ],
             [
              1,
              "#f0f921"
             ]
            ],
            "type": "heatmapgl"
           }
          ],
          "histogram": [
           {
            "marker": {
             "pattern": {
              "fillmode": "overlay",
              "size": 10,
              "solidity": 0.2
             }
            },
            "type": "histogram"
           }
          ],
          "histogram2d": [
           {
            "colorbar": {
             "outlinewidth": 0,
             "ticks": ""
            },
            "colorscale": [
             [
              0,
              "#0d0887"
             ],
             [
              0.1111111111111111,
              "#46039f"
             ],
             [
              0.2222222222222222,
              "#7201a8"
             ],
             [
              0.3333333333333333,
              "#9c179e"
             ],
             [
              0.4444444444444444,
              "#bd3786"
             ],
             [
              0.5555555555555556,
              "#d8576b"
             ],
             [
              0.6666666666666666,
              "#ed7953"
             ],
             [
              0.7777777777777778,
              "#fb9f3a"
             ],
             [
              0.8888888888888888,
              "#fdca26"
             ],
             [
              1,
              "#f0f921"
             ]
            ],
            "type": "histogram2d"
           }
          ],
          "histogram2dcontour": [
           {
            "colorbar": {
             "outlinewidth": 0,
             "ticks": ""
            },
            "colorscale": [
             [
              0,
              "#0d0887"
             ],
             [
              0.1111111111111111,
              "#46039f"
             ],
             [
              0.2222222222222222,
              "#7201a8"
             ],
             [
              0.3333333333333333,
              "#9c179e"
             ],
             [
              0.4444444444444444,
              "#bd3786"
             ],
             [
              0.5555555555555556,
              "#d8576b"
             ],
             [
              0.6666666666666666,
              "#ed7953"
             ],
             [
              0.7777777777777778,
              "#fb9f3a"
             ],
             [
              0.8888888888888888,
              "#fdca26"
             ],
             [
              1,
              "#f0f921"
             ]
            ],
            "type": "histogram2dcontour"
           }
          ],
          "mesh3d": [
           {
            "colorbar": {
             "outlinewidth": 0,
             "ticks": ""
            },
            "type": "mesh3d"
           }
          ],
          "parcoords": [
           {
            "line": {
             "colorbar": {
              "outlinewidth": 0,
              "ticks": ""
             }
            },
            "type": "parcoords"
           }
          ],
          "pie": [
           {
            "automargin": true,
            "type": "pie"
           }
          ],
          "scatter": [
           {
            "fillpattern": {
             "fillmode": "overlay",
             "size": 10,
             "solidity": 0.2
            },
            "type": "scatter"
           }
          ],
          "scatter3d": [
           {
            "line": {
             "colorbar": {
              "outlinewidth": 0,
              "ticks": ""
             }
            },
            "marker": {
             "colorbar": {
              "outlinewidth": 0,
              "ticks": ""
             }
            },
            "type": "scatter3d"
           }
          ],
          "scattercarpet": [
           {
            "marker": {
             "colorbar": {
              "outlinewidth": 0,
              "ticks": ""
             }
            },
            "type": "scattercarpet"
           }
          ],
          "scattergeo": [
           {
            "marker": {
             "colorbar": {
              "outlinewidth": 0,
              "ticks": ""
             }
            },
            "type": "scattergeo"
           }
          ],
          "scattergl": [
           {
            "marker": {
             "colorbar": {
              "outlinewidth": 0,
              "ticks": ""
             }
            },
            "type": "scattergl"
           }
          ],
          "scattermapbox": [
           {
            "marker": {
             "colorbar": {
              "outlinewidth": 0,
              "ticks": ""
             }
            },
            "type": "scattermapbox"
           }
          ],
          "scatterpolar": [
           {
            "marker": {
             "colorbar": {
              "outlinewidth": 0,
              "ticks": ""
             }
            },
            "type": "scatterpolar"
           }
          ],
          "scatterpolargl": [
           {
            "marker": {
             "colorbar": {
              "outlinewidth": 0,
              "ticks": ""
             }
            },
            "type": "scatterpolargl"
           }
          ],
          "scatterternary": [
           {
            "marker": {
             "colorbar": {
              "outlinewidth": 0,
              "ticks": ""
             }
            },
            "type": "scatterternary"
           }
          ],
          "surface": [
           {
            "colorbar": {
             "outlinewidth": 0,
             "ticks": ""
            },
            "colorscale": [
             [
              0,
              "#0d0887"
             ],
             [
              0.1111111111111111,
              "#46039f"
             ],
             [
              0.2222222222222222,
              "#7201a8"
             ],
             [
              0.3333333333333333,
              "#9c179e"
             ],
             [
              0.4444444444444444,
              "#bd3786"
             ],
             [
              0.5555555555555556,
              "#d8576b"
             ],
             [
              0.6666666666666666,
              "#ed7953"
             ],
             [
              0.7777777777777778,
              "#fb9f3a"
             ],
             [
              0.8888888888888888,
              "#fdca26"
             ],
             [
              1,
              "#f0f921"
             ]
            ],
            "type": "surface"
           }
          ],
          "table": [
           {
            "cells": {
             "fill": {
              "color": "#EBF0F8"
             },
             "line": {
              "color": "white"
             }
            },
            "header": {
             "fill": {
              "color": "#C8D4E3"
             },
             "line": {
              "color": "white"
             }
            },
            "type": "table"
           }
          ]
         },
         "layout": {
          "annotationdefaults": {
           "arrowcolor": "#2a3f5f",
           "arrowhead": 0,
           "arrowwidth": 1
          },
          "autotypenumbers": "strict",
          "coloraxis": {
           "colorbar": {
            "outlinewidth": 0,
            "ticks": ""
           }
          },
          "colorscale": {
           "diverging": [
            [
             0,
             "#8e0152"
            ],
            [
             0.1,
             "#c51b7d"
            ],
            [
             0.2,
             "#de77ae"
            ],
            [
             0.3,
             "#f1b6da"
            ],
            [
             0.4,
             "#fde0ef"
            ],
            [
             0.5,
             "#f7f7f7"
            ],
            [
             0.6,
             "#e6f5d0"
            ],
            [
             0.7,
             "#b8e186"
            ],
            [
             0.8,
             "#7fbc41"
            ],
            [
             0.9,
             "#4d9221"
            ],
            [
             1,
             "#276419"
            ]
           ],
           "sequential": [
            [
             0,
             "#0d0887"
            ],
            [
             0.1111111111111111,
             "#46039f"
            ],
            [
             0.2222222222222222,
             "#7201a8"
            ],
            [
             0.3333333333333333,
             "#9c179e"
            ],
            [
             0.4444444444444444,
             "#bd3786"
            ],
            [
             0.5555555555555556,
             "#d8576b"
            ],
            [
             0.6666666666666666,
             "#ed7953"
            ],
            [
             0.7777777777777778,
             "#fb9f3a"
            ],
            [
             0.8888888888888888,
             "#fdca26"
            ],
            [
             1,
             "#f0f921"
            ]
           ],
           "sequentialminus": [
            [
             0,
             "#0d0887"
            ],
            [
             0.1111111111111111,
             "#46039f"
            ],
            [
             0.2222222222222222,
             "#7201a8"
            ],
            [
             0.3333333333333333,
             "#9c179e"
            ],
            [
             0.4444444444444444,
             "#bd3786"
            ],
            [
             0.5555555555555556,
             "#d8576b"
            ],
            [
             0.6666666666666666,
             "#ed7953"
            ],
            [
             0.7777777777777778,
             "#fb9f3a"
            ],
            [
             0.8888888888888888,
             "#fdca26"
            ],
            [
             1,
             "#f0f921"
            ]
           ]
          },
          "colorway": [
           "#636efa",
           "#EF553B",
           "#00cc96",
           "#ab63fa",
           "#FFA15A",
           "#19d3f3",
           "#FF6692",
           "#B6E880",
           "#FF97FF",
           "#FECB52"
          ],
          "font": {
           "color": "#2a3f5f"
          },
          "geo": {
           "bgcolor": "white",
           "lakecolor": "white",
           "landcolor": "#E5ECF6",
           "showlakes": true,
           "showland": true,
           "subunitcolor": "white"
          },
          "hoverlabel": {
           "align": "left"
          },
          "hovermode": "closest",
          "mapbox": {
           "style": "light"
          },
          "paper_bgcolor": "white",
          "plot_bgcolor": "#E5ECF6",
          "polar": {
           "angularaxis": {
            "gridcolor": "white",
            "linecolor": "white",
            "ticks": ""
           },
           "bgcolor": "#E5ECF6",
           "radialaxis": {
            "gridcolor": "white",
            "linecolor": "white",
            "ticks": ""
           }
          },
          "scene": {
           "xaxis": {
            "backgroundcolor": "#E5ECF6",
            "gridcolor": "white",
            "gridwidth": 2,
            "linecolor": "white",
            "showbackground": true,
            "ticks": "",
            "zerolinecolor": "white"
           },
           "yaxis": {
            "backgroundcolor": "#E5ECF6",
            "gridcolor": "white",
            "gridwidth": 2,
            "linecolor": "white",
            "showbackground": true,
            "ticks": "",
            "zerolinecolor": "white"
           },
           "zaxis": {
            "backgroundcolor": "#E5ECF6",
            "gridcolor": "white",
            "gridwidth": 2,
            "linecolor": "white",
            "showbackground": true,
            "ticks": "",
            "zerolinecolor": "white"
           }
          },
          "shapedefaults": {
           "line": {
            "color": "#2a3f5f"
           }
          },
          "ternary": {
           "aaxis": {
            "gridcolor": "white",
            "linecolor": "white",
            "ticks": ""
           },
           "baxis": {
            "gridcolor": "white",
            "linecolor": "white",
            "ticks": ""
           },
           "bgcolor": "#E5ECF6",
           "caxis": {
            "gridcolor": "white",
            "linecolor": "white",
            "ticks": ""
           }
          },
          "title": {
           "x": 0.05
          },
          "xaxis": {
           "automargin": true,
           "gridcolor": "white",
           "linecolor": "white",
           "ticks": "",
           "title": {
            "standoff": 15
           },
           "zerolinecolor": "white",
           "zerolinewidth": 2
          },
          "yaxis": {
           "automargin": true,
           "gridcolor": "white",
           "linecolor": "white",
           "ticks": "",
           "title": {
            "standoff": 15
           },
           "zerolinecolor": "white",
           "zerolinewidth": 2
          }
         }
        },
        "title": {
         "text": "Validation Metrics Over Time (GD Model CV)"
        },
        "xaxis": {
         "anchor": "y",
         "domain": [
          0,
          1
         ],
         "title": {
          "text": "index"
         }
        },
        "yaxis": {
         "anchor": "x",
         "domain": [
          0,
          1
         ],
         "title": {
          "text": "value"
         }
        }
       }
      }
     },
     "metadata": {},
     "output_type": "display_data"
    }
   ],
   "source": [
    "import datetime\n",
    "import plotly.express as px\n",
    "\n",
    "time_range = [datetime.time(hour, minute) for hour in range(9, 16) for minute in range(0, 60, 5)]\n",
    "time_range = [x for x in time_range if x >= datetime.time(9,45)]\n",
    "df_val = pd.DataFrame()\n",
    "for t in time_range:\n",
    "    X_val = X_test.loc[X_test['time'] <= t].copy()\n",
    "    y_val = y_test.loc[X_val.index, 'green_day'].copy()\n",
    "\n",
    "    y_pred_val = gd_model_cv.predict_proba(X_val)[:,-1]\n",
    "\n",
    "    df_val.loc[t, [\n",
    "        'roc_auc',\n",
    "        'precision',\n",
    "        'recall'\n",
    "    ]] =  roc_auc_score(y_val, y_pred_val), precision_score(y_val, y_pred_val > 0.5), recall_score(y_val, y_pred_val > 0.5)\n",
    "\n",
    "\n",
    "fig = px.line(df_val, title='Validation Metrics Over Time (GD Model CV)')\n",
    "fig.show()"
   ]
  },
  {
   "cell_type": "code",
   "execution_count": 112,
   "metadata": {},
   "outputs": [],
   "source": [
    "df_results = X_test.copy()\n",
    "df_results['pred_hod'] = y_pred_hod\n",
    "df_results['pred_lod'] = y_pred_lod\n",
    "df_results['pred_gd'] = y_pred_gd\n",
    "\n",
    "df_results['pred_hod_cv'] = y_pred_hod_cv\n",
    "df_results['pred_lod_cv'] = y_pred_lod_cv\n",
    "df_results['pred_gd_cv'] = y_pred_gd_cv\n",
    "\n",
    "df_results['actual_hod'] = y_flags['hod_in']\n",
    "df_results['actual_lod'] = y_flags['lod_in']\n",
    "df_results['actual_gd'] = y_flags['green_day']"
   ]
  },
  {
   "cell_type": "code",
   "execution_count": 113,
   "metadata": {},
   "outputs": [
    {
     "data": {
      "text/plain": [
       "Index(['time', 'phase', 'prev_close_pct', 'prev_close_pct_n1',\n",
       "       'prev_close_pct_n2', 'prev_close_pct_n3', 'day_open_pct',\n",
       "       'day_open_pct_n1', 'day_open_pct_n2', 'day_open_pct_n3', 'gap_open_pct',\n",
       "       'highest_high_mag', 'lowest_low_mag', 'open_slope', 'daily_slope',\n",
       "       'highest_high_slope', 'lowest_low_slope', 'open_range_upper_pct',\n",
       "       'open_range_lower_pct', 'pred_hod', 'pred_lod', 'pred_gd',\n",
       "       'pred_hod_cv', 'pred_lod_cv', 'pred_gd_cv', 'actual_hod', 'actual_lod',\n",
       "       'actual_gd'],\n",
       "      dtype='object')"
      ]
     },
     "execution_count": 113,
     "metadata": {},
     "output_type": "execute_result"
    }
   ],
   "source": [
    "df_results.columns"
   ]
  },
  {
   "cell_type": "code",
   "execution_count": 114,
   "metadata": {},
   "outputs": [
    {
     "data": {
      "text/html": [
       "<div>\n",
       "<style scoped>\n",
       "    .dataframe tbody tr th:only-of-type {\n",
       "        vertical-align: middle;\n",
       "    }\n",
       "\n",
       "    .dataframe tbody tr th {\n",
       "        vertical-align: top;\n",
       "    }\n",
       "\n",
       "    .dataframe thead th {\n",
       "        text-align: right;\n",
       "    }\n",
       "</style>\n",
       "<table border=\"1\" class=\"dataframe\">\n",
       "  <thead>\n",
       "    <tr style=\"text-align: right;\">\n",
       "      <th></th>\n",
       "      <th>pred_hod</th>\n",
       "      <th>actual_hod</th>\n",
       "    </tr>\n",
       "    <tr>\n",
       "      <th>Datetime</th>\n",
       "      <th></th>\n",
       "      <th></th>\n",
       "    </tr>\n",
       "  </thead>\n",
       "  <tbody>\n",
       "    <tr>\n",
       "      <th>2023-05-15 09:45:00</th>\n",
       "      <td>0.225122</td>\n",
       "      <td>0.0</td>\n",
       "    </tr>\n",
       "    <tr>\n",
       "      <th>2023-05-15 09:50:00</th>\n",
       "      <td>0.514667</td>\n",
       "      <td>0.0</td>\n",
       "    </tr>\n",
       "    <tr>\n",
       "      <th>2023-05-15 09:55:00</th>\n",
       "      <td>0.563937</td>\n",
       "      <td>0.0</td>\n",
       "    </tr>\n",
       "    <tr>\n",
       "      <th>2023-05-15 10:00:00</th>\n",
       "      <td>0.454434</td>\n",
       "      <td>0.0</td>\n",
       "    </tr>\n",
       "    <tr>\n",
       "      <th>2023-05-15 10:05:00</th>\n",
       "      <td>0.664678</td>\n",
       "      <td>0.0</td>\n",
       "    </tr>\n",
       "    <tr>\n",
       "      <th>...</th>\n",
       "      <td>...</td>\n",
       "      <td>...</td>\n",
       "    </tr>\n",
       "    <tr>\n",
       "      <th>2024-03-19 15:35:00</th>\n",
       "      <td>0.570391</td>\n",
       "      <td>0.0</td>\n",
       "    </tr>\n",
       "    <tr>\n",
       "      <th>2024-03-19 15:40:00</th>\n",
       "      <td>0.716020</td>\n",
       "      <td>0.0</td>\n",
       "    </tr>\n",
       "    <tr>\n",
       "      <th>2024-03-19 15:45:00</th>\n",
       "      <td>0.278039</td>\n",
       "      <td>0.0</td>\n",
       "    </tr>\n",
       "    <tr>\n",
       "      <th>2024-03-19 15:50:00</th>\n",
       "      <td>0.237400</td>\n",
       "      <td>0.0</td>\n",
       "    </tr>\n",
       "    <tr>\n",
       "      <th>2024-03-19 15:55:00</th>\n",
       "      <td>0.995895</td>\n",
       "      <td>1.0</td>\n",
       "    </tr>\n",
       "  </tbody>\n",
       "</table>\n",
       "<p>15914 rows × 2 columns</p>\n",
       "</div>"
      ],
      "text/plain": [
       "                     pred_hod  actual_hod\n",
       "Datetime                                 \n",
       "2023-05-15 09:45:00  0.225122         0.0\n",
       "2023-05-15 09:50:00  0.514667         0.0\n",
       "2023-05-15 09:55:00  0.563937         0.0\n",
       "2023-05-15 10:00:00  0.454434         0.0\n",
       "2023-05-15 10:05:00  0.664678         0.0\n",
       "...                       ...         ...\n",
       "2024-03-19 15:35:00  0.570391         0.0\n",
       "2024-03-19 15:40:00  0.716020         0.0\n",
       "2024-03-19 15:45:00  0.278039         0.0\n",
       "2024-03-19 15:50:00  0.237400         0.0\n",
       "2024-03-19 15:55:00  0.995895         1.0\n",
       "\n",
       "[15914 rows x 2 columns]"
      ]
     },
     "execution_count": 114,
     "metadata": {},
     "output_type": "execute_result"
    }
   ],
   "source": [
    "df_results.loc[:,['pred_hod','actual_hod']]"
   ]
  },
  {
   "cell_type": "code",
   "execution_count": 115,
   "metadata": {},
   "outputs": [
    {
     "data": {
      "text/plain": [
       "Timestamp('2023-05-15 09:45:00')"
      ]
     },
     "execution_count": 115,
     "metadata": {},
     "output_type": "execute_result"
    }
   ],
   "source": [
    "X_test.index[0]"
   ]
  },
  {
   "cell_type": "code",
   "execution_count": 116,
   "metadata": {},
   "outputs": [
    {
     "data": {
      "application/vnd.plotly.v1+json": {
       "config": {
        "plotlyServerURL": "https://plot.ly"
       },
       "data": [
        {
         "close": [
          16903.35,
          16909.06,
          16912.95,
          16912.96,
          16902.06,
          16863.09,
          16877.88,
          16876.87,
          16883.05,
          16870.21,
          16874.98,
          16866.38,
          16866.56,
          16868.54,
          16877.74,
          16872.68,
          16873.55,
          16873.74,
          16874.98,
          16873.49,
          16877.65,
          16882.77,
          16887.4,
          16894.8,
          16890.74,
          16887.91,
          16888.88,
          16886.8,
          16886.05,
          16890.42,
          16890.51,
          16891.51,
          16889.99,
          16893.62,
          16883.3,
          16874.37,
          16879.78,
          16876.59,
          16877.2,
          16887.66,
          16907.44,
          16907.53,
          16912.16,
          16909.59,
          16907.97,
          16909.22,
          16912.67,
          16916.03,
          16915.78,
          16915.8,
          16907.65,
          16870.09,
          16879.36,
          16870.86,
          16879.34,
          16890.45,
          16895.69,
          16889.56,
          16887.24,
          16877.02,
          16881.23,
          16873.81,
          16881.43,
          16885.46,
          16886.92,
          16888.4,
          16893.95,
          16885.85,
          16885.01,
          16891.78,
          16896.14,
          16881.82,
          16883.85,
          16885.33,
          16910.32
         ],
         "high": [
          16908.8,
          16910.6,
          16918.03,
          16920.17,
          16913.62,
          16903.86,
          16878.59,
          16880.69,
          16884.63,
          16883,
          16875.68,
          16876.34,
          16869.78,
          16869.04,
          16878.06,
          16877.9,
          16876.27,
          16874.17,
          16876.26,
          16876.74,
          16877.74,
          16882.77,
          16890.38,
          16894.99,
          16895.11,
          16892.82,
          16891.26,
          16892.53,
          16888.35,
          16891.78,
          16891.47,
          16895.54,
          16892.65,
          16894.65,
          16893.53,
          16884.42,
          16880.4,
          16880.22,
          16879.98,
          16890.09,
          16911.38,
          16922.01,
          16915.71,
          16914.98,
          16911.86,
          16914.69,
          16915.9,
          16918.1,
          16918.38,
          16919.6,
          16917.43,
          16907.64,
          16880.07,
          16880.85,
          16880.07,
          16892.21,
          16902.29,
          16896.51,
          16891.52,
          16886.81,
          16881.64,
          16881.98,
          16883.55,
          16886.89,
          16887.2,
          16892.63,
          16895.06,
          16895.26,
          16885.43,
          16893.33,
          16897.33,
          16897.24,
          16884.96,
          16892.16,
          16910.41
         ],
         "low": [
          16897.77,
          16902.95,
          16905.67,
          16909.62,
          16900.29,
          16862.54,
          16863.09,
          16866.49,
          16875.39,
          16870.21,
          16863.43,
          16865.38,
          16860.59,
          16859.55,
          16867.49,
          16868.72,
          16869.21,
          16868.9,
          16872.65,
          16872.99,
          16866.28,
          16876.94,
          16882.96,
          16885.23,
          16889.88,
          16887.42,
          16887.86,
          16883.69,
          16884.46,
          16886.1,
          16888.51,
          16887.72,
          16889.1,
          16889.93,
          16881.94,
          16870.69,
          16873.79,
          16876.59,
          16875.88,
          16877.2,
          16887.57,
          16906.3,
          16902.69,
          16908.18,
          16905.52,
          16907.72,
          16909.23,
          16912.75,
          16913.39,
          16912.75,
          16907.62,
          16868,
          16866.46,
          16867.63,
          16867.56,
          16879.41,
          16885.21,
          16887.74,
          16887.24,
          16874.28,
          16876.7,
          16873.75,
          16872.52,
          16879.12,
          16878.23,
          16886.06,
          16887.48,
          16885.85,
          16878.3,
          16882.59,
          16891.42,
          16879.96,
          16879.18,
          16877.77,
          16887.01
         ],
         "open": [
          16906.58,
          16903.87,
          16909.09,
          16913.63,
          16912.99,
          16901.88,
          16863.84,
          16877.6,
          16876.97,
          16883,
          16870.26,
          16874.8,
          16866.48,
          16866.18,
          16868.11,
          16877.54,
          16872.67,
          16873.35,
          16873.76,
          16874.83,
          16873.52,
          16877.91,
          16882.96,
          16887.37,
          16894.93,
          16890.78,
          16888.04,
          16888.97,
          16886.76,
          16886.1,
          16890.27,
          16890.49,
          16891.43,
          16890,
          16893.49,
          16883.28,
          16874.4,
          16879.91,
          16876.59,
          16877.2,
          16887.63,
          16907.09,
          16907.52,
          16911.95,
          16909.44,
          16908.74,
          16909.23,
          16912.75,
          16916.03,
          16915.4,
          16915.9,
          16907.64,
          16870.17,
          16879.14,
          16871.22,
          16879.41,
          16890.44,
          16896.02,
          16889.59,
          16886.81,
          16877.03,
          16880.98,
          16873.74,
          16881.54,
          16885.46,
          16886.92,
          16888.2,
          16893.9,
          16885.43,
          16885.19,
          16891.42,
          16896.02,
          16881.67,
          16879.89,
          16887.27
         ],
         "type": "candlestick",
         "x": [
          "2023-12-27T09:45:00",
          "2023-12-27T09:50:00",
          "2023-12-27T09:55:00",
          "2023-12-27T10:00:00",
          "2023-12-27T10:05:00",
          "2023-12-27T10:10:00",
          "2023-12-27T10:15:00",
          "2023-12-27T10:20:00",
          "2023-12-27T10:25:00",
          "2023-12-27T10:30:00",
          "2023-12-27T10:35:00",
          "2023-12-27T10:40:00",
          "2023-12-27T10:45:00",
          "2023-12-27T10:50:00",
          "2023-12-27T10:55:00",
          "2023-12-27T11:00:00",
          "2023-12-27T11:05:00",
          "2023-12-27T11:10:00",
          "2023-12-27T11:15:00",
          "2023-12-27T11:20:00",
          "2023-12-27T11:25:00",
          "2023-12-27T11:30:00",
          "2023-12-27T11:35:00",
          "2023-12-27T11:40:00",
          "2023-12-27T11:45:00",
          "2023-12-27T11:50:00",
          "2023-12-27T11:55:00",
          "2023-12-27T12:00:00",
          "2023-12-27T12:05:00",
          "2023-12-27T12:10:00",
          "2023-12-27T12:15:00",
          "2023-12-27T12:20:00",
          "2023-12-27T12:25:00",
          "2023-12-27T12:30:00",
          "2023-12-27T12:35:00",
          "2023-12-27T12:40:00",
          "2023-12-27T12:45:00",
          "2023-12-27T12:50:00",
          "2023-12-27T12:55:00",
          "2023-12-27T13:00:00",
          "2023-12-27T13:05:00",
          "2023-12-27T13:10:00",
          "2023-12-27T13:15:00",
          "2023-12-27T13:20:00",
          "2023-12-27T13:25:00",
          "2023-12-27T13:30:00",
          "2023-12-27T13:35:00",
          "2023-12-27T13:40:00",
          "2023-12-27T13:45:00",
          "2023-12-27T13:50:00",
          "2023-12-27T13:55:00",
          "2023-12-27T14:00:00",
          "2023-12-27T14:05:00",
          "2023-12-27T14:10:00",
          "2023-12-27T14:15:00",
          "2023-12-27T14:20:00",
          "2023-12-27T14:25:00",
          "2023-12-27T14:30:00",
          "2023-12-27T14:35:00",
          "2023-12-27T14:40:00",
          "2023-12-27T14:45:00",
          "2023-12-27T14:50:00",
          "2023-12-27T14:55:00",
          "2023-12-27T15:00:00",
          "2023-12-27T15:05:00",
          "2023-12-27T15:10:00",
          "2023-12-27T15:15:00",
          "2023-12-27T15:20:00",
          "2023-12-27T15:25:00",
          "2023-12-27T15:30:00",
          "2023-12-27T15:35:00",
          "2023-12-27T15:40:00",
          "2023-12-27T15:45:00",
          "2023-12-27T15:50:00",
          "2023-12-27T15:55:00"
         ]
        },
        {
         "line": {
          "color": "#ff5f5f"
         },
         "mode": "lines",
         "name": "pred_hod",
         "type": "scatter",
         "x": [
          "2023-12-27T09:45:00",
          "2023-12-27T09:50:00",
          "2023-12-27T09:55:00",
          "2023-12-27T10:00:00",
          "2023-12-27T10:05:00",
          "2023-12-27T10:10:00",
          "2023-12-27T10:15:00",
          "2023-12-27T10:20:00",
          "2023-12-27T10:25:00",
          "2023-12-27T10:30:00",
          "2023-12-27T10:35:00",
          "2023-12-27T10:40:00",
          "2023-12-27T10:45:00",
          "2023-12-27T10:50:00",
          "2023-12-27T10:55:00",
          "2023-12-27T11:00:00",
          "2023-12-27T11:05:00",
          "2023-12-27T11:10:00",
          "2023-12-27T11:15:00",
          "2023-12-27T11:20:00",
          "2023-12-27T11:25:00",
          "2023-12-27T11:30:00",
          "2023-12-27T11:35:00",
          "2023-12-27T11:40:00",
          "2023-12-27T11:45:00",
          "2023-12-27T11:50:00",
          "2023-12-27T11:55:00",
          "2023-12-27T12:00:00",
          "2023-12-27T12:05:00",
          "2023-12-27T12:10:00",
          "2023-12-27T12:15:00",
          "2023-12-27T12:20:00",
          "2023-12-27T12:25:00",
          "2023-12-27T12:30:00",
          "2023-12-27T12:35:00",
          "2023-12-27T12:40:00",
          "2023-12-27T12:45:00",
          "2023-12-27T12:50:00",
          "2023-12-27T12:55:00",
          "2023-12-27T13:00:00",
          "2023-12-27T13:05:00",
          "2023-12-27T13:10:00",
          "2023-12-27T13:15:00",
          "2023-12-27T13:20:00",
          "2023-12-27T13:25:00",
          "2023-12-27T13:30:00",
          "2023-12-27T13:35:00",
          "2023-12-27T13:40:00",
          "2023-12-27T13:45:00",
          "2023-12-27T13:50:00",
          "2023-12-27T13:55:00",
          "2023-12-27T14:00:00",
          "2023-12-27T14:05:00",
          "2023-12-27T14:10:00",
          "2023-12-27T14:15:00",
          "2023-12-27T14:20:00",
          "2023-12-27T14:25:00",
          "2023-12-27T14:30:00",
          "2023-12-27T14:35:00",
          "2023-12-27T14:40:00",
          "2023-12-27T14:45:00",
          "2023-12-27T14:50:00",
          "2023-12-27T14:55:00",
          "2023-12-27T15:00:00",
          "2023-12-27T15:05:00",
          "2023-12-27T15:10:00",
          "2023-12-27T15:15:00",
          "2023-12-27T15:20:00",
          "2023-12-27T15:25:00",
          "2023-12-27T15:30:00",
          "2023-12-27T15:35:00",
          "2023-12-27T15:40:00",
          "2023-12-27T15:45:00",
          "2023-12-27T15:50:00",
          "2023-12-27T15:55:00"
         ],
         "y": [
          0.2255188068014267,
          0.17675107319955263,
          0.13978286748834617,
          0.15549715773521702,
          0.2973822508022041,
          0.616179501534842,
          0.44910800561005754,
          0.5151135873515903,
          0.4088900878520496,
          0.6042828157672919,
          0.5780943935807669,
          0.6650030551591624,
          0.6621143768937053,
          0.6416022263040855,
          0.6188491559545747,
          0.640081945548845,
          0.657459733359764,
          0.6858828251854935,
          0.7196783072202908,
          0.7209807028721826,
          0.7237808381086058,
          0.6306477924824486,
          0.5809646738008925,
          0.42942023254577394,
          0.5289804576360918,
          0.5822108219426065,
          0.5567898543206448,
          0.5989400119194561,
          0.6124805165045925,
          0.5552545802331001,
          0.5706133449682207,
          0.5958901227029352,
          0.617378319482856,
          0.5654401802735447,
          0.7064709349038917,
          0.8317337237767776,
          0.785009069955093,
          0.8217789911987319,
          0.8326538927904756,
          0.705192356693114,
          0.32020942842375,
          0.32479057049554444,
          0.27176071807367075,
          0.3191554403559291,
          0.4274717540898099,
          0.33783013279460605,
          0.25446771789498196,
          0.18638451064693953,
          0.20429863183936933,
          0.20316141012501002,
          0.5193043028837121,
          0.9206322237571385,
          0.9078765436056659,
          0.9396876703833905,
          0.9285383063748612,
          0.8273886326604442,
          0.8181665768588984,
          0.8905194559687261,
          0.9129933008783363,
          0.9654912995352688,
          0.962080784048371,
          0.9730970772818209,
          0.9646967419334213,
          0.9524129122614394,
          0.9474254264499388,
          0.9470048113370712,
          0.9266134667339894,
          0.9676996130772321,
          0.9697559513124805,
          0.9633585399968323,
          0.9274370487295324,
          0.987641803147608,
          0.9826765443956965,
          0.9879231741251902,
          0.997474906308415
         ],
         "yaxis": "y2"
        },
        {
         "line": {
          "color": "#3399cc"
         },
         "mode": "lines",
         "name": "pred_lod",
         "type": "scatter",
         "x": [
          "2023-12-27T09:45:00",
          "2023-12-27T09:50:00",
          "2023-12-27T09:55:00",
          "2023-12-27T10:00:00",
          "2023-12-27T10:05:00",
          "2023-12-27T10:10:00",
          "2023-12-27T10:15:00",
          "2023-12-27T10:20:00",
          "2023-12-27T10:25:00",
          "2023-12-27T10:30:00",
          "2023-12-27T10:35:00",
          "2023-12-27T10:40:00",
          "2023-12-27T10:45:00",
          "2023-12-27T10:50:00",
          "2023-12-27T10:55:00",
          "2023-12-27T11:00:00",
          "2023-12-27T11:05:00",
          "2023-12-27T11:10:00",
          "2023-12-27T11:15:00",
          "2023-12-27T11:20:00",
          "2023-12-27T11:25:00",
          "2023-12-27T11:30:00",
          "2023-12-27T11:35:00",
          "2023-12-27T11:40:00",
          "2023-12-27T11:45:00",
          "2023-12-27T11:50:00",
          "2023-12-27T11:55:00",
          "2023-12-27T12:00:00",
          "2023-12-27T12:05:00",
          "2023-12-27T12:10:00",
          "2023-12-27T12:15:00",
          "2023-12-27T12:20:00",
          "2023-12-27T12:25:00",
          "2023-12-27T12:30:00",
          "2023-12-27T12:35:00",
          "2023-12-27T12:40:00",
          "2023-12-27T12:45:00",
          "2023-12-27T12:50:00",
          "2023-12-27T12:55:00",
          "2023-12-27T13:00:00",
          "2023-12-27T13:05:00",
          "2023-12-27T13:10:00",
          "2023-12-27T13:15:00",
          "2023-12-27T13:20:00",
          "2023-12-27T13:25:00",
          "2023-12-27T13:30:00",
          "2023-12-27T13:35:00",
          "2023-12-27T13:40:00",
          "2023-12-27T13:45:00",
          "2023-12-27T13:50:00",
          "2023-12-27T13:55:00",
          "2023-12-27T14:00:00",
          "2023-12-27T14:05:00",
          "2023-12-27T14:10:00",
          "2023-12-27T14:15:00",
          "2023-12-27T14:20:00",
          "2023-12-27T14:25:00",
          "2023-12-27T14:30:00",
          "2023-12-27T14:35:00",
          "2023-12-27T14:40:00",
          "2023-12-27T14:45:00",
          "2023-12-27T14:50:00",
          "2023-12-27T14:55:00",
          "2023-12-27T15:00:00",
          "2023-12-27T15:05:00",
          "2023-12-27T15:10:00",
          "2023-12-27T15:15:00",
          "2023-12-27T15:20:00",
          "2023-12-27T15:25:00",
          "2023-12-27T15:30:00",
          "2023-12-27T15:35:00",
          "2023-12-27T15:40:00",
          "2023-12-27T15:45:00",
          "2023-12-27T15:50:00",
          "2023-12-27T15:55:00"
         ],
         "y": [
          0.1346289365463178,
          0.23441836192906496,
          0.264712182664851,
          0.28881408198181857,
          0.1505673470362498,
          0.07183012707201458,
          0.30963531345300865,
          0.31698293605334116,
          0.4445236357437066,
          0.21100904938447088,
          0.3079292806797238,
          0.15216278473286005,
          0.15525491493380938,
          0.21358688123890285,
          0.4318865212551417,
          0.3493957764775724,
          0.35254952209133317,
          0.35254952209133317,
          0.38482358296151026,
          0.35254952209133317,
          0.432897379291208,
          0.5115913585020927,
          0.5589195458931099,
          0.6912624116245079,
          0.666101138552121,
          0.6201359845068117,
          0.6421207152726699,
          0.618252008457382,
          0.6226154788506231,
          0.6817190816435237,
          0.6822136891009398,
          0.7131398222534807,
          0.6991531086956162,
          0.7257226757469928,
          0.6345578480424848,
          0.4150347800090911,
          0.5707947889924543,
          0.5101767570782623,
          0.5171358522227584,
          0.6501978022983391,
          0.8497807559672133,
          0.8584059395406874,
          0.8950548875533909,
          0.8926672019035851,
          0.8672848442362927,
          0.8979859586861564,
          0.9139964827089504,
          0.9353124387805921,
          0.937404969808419,
          0.9417691032560076,
          0.9134295730767322,
          0.24930859350972875,
          0.4772848381203592,
          0.27394027465040205,
          0.502150778218606,
          0.7576700773756664,
          0.8413152946712876,
          0.7556307248836588,
          0.7023356214347591,
          0.4727812191789726,
          0.5885697854709201,
          0.3883147922977228,
          0.5920804380923431,
          0.7726763506991834,
          0.7979410447525263,
          0.8420806047574118,
          0.925302543788534,
          0.8399975869895354,
          0.8435524297894332,
          0.9262085496204431,
          0.9724725970564851,
          0.8554961312370636,
          0.9143628852299459,
          0.9528440426900044,
          0.9989402274940764
         ],
         "yaxis": "y2"
        },
        {
         "line": {
          "color": "#98ff98"
         },
         "mode": "lines",
         "name": "pred_lod",
         "type": "scatter",
         "x": [
          "2023-12-27T09:45:00",
          "2023-12-27T09:50:00",
          "2023-12-27T09:55:00",
          "2023-12-27T10:00:00",
          "2023-12-27T10:05:00",
          "2023-12-27T10:10:00",
          "2023-12-27T10:15:00",
          "2023-12-27T10:20:00",
          "2023-12-27T10:25:00",
          "2023-12-27T10:30:00",
          "2023-12-27T10:35:00",
          "2023-12-27T10:40:00",
          "2023-12-27T10:45:00",
          "2023-12-27T10:50:00",
          "2023-12-27T10:55:00",
          "2023-12-27T11:00:00",
          "2023-12-27T11:05:00",
          "2023-12-27T11:10:00",
          "2023-12-27T11:15:00",
          "2023-12-27T11:20:00",
          "2023-12-27T11:25:00",
          "2023-12-27T11:30:00",
          "2023-12-27T11:35:00",
          "2023-12-27T11:40:00",
          "2023-12-27T11:45:00",
          "2023-12-27T11:50:00",
          "2023-12-27T11:55:00",
          "2023-12-27T12:00:00",
          "2023-12-27T12:05:00",
          "2023-12-27T12:10:00",
          "2023-12-27T12:15:00",
          "2023-12-27T12:20:00",
          "2023-12-27T12:25:00",
          "2023-12-27T12:30:00",
          "2023-12-27T12:35:00",
          "2023-12-27T12:40:00",
          "2023-12-27T12:45:00",
          "2023-12-27T12:50:00",
          "2023-12-27T12:55:00",
          "2023-12-27T13:00:00",
          "2023-12-27T13:05:00",
          "2023-12-27T13:10:00",
          "2023-12-27T13:15:00",
          "2023-12-27T13:20:00",
          "2023-12-27T13:25:00",
          "2023-12-27T13:30:00",
          "2023-12-27T13:35:00",
          "2023-12-27T13:40:00",
          "2023-12-27T13:45:00",
          "2023-12-27T13:50:00",
          "2023-12-27T13:55:00",
          "2023-12-27T14:00:00",
          "2023-12-27T14:05:00",
          "2023-12-27T14:10:00",
          "2023-12-27T14:15:00",
          "2023-12-27T14:20:00",
          "2023-12-27T14:25:00",
          "2023-12-27T14:30:00",
          "2023-12-27T14:35:00",
          "2023-12-27T14:40:00",
          "2023-12-27T14:45:00",
          "2023-12-27T14:50:00",
          "2023-12-27T14:55:00",
          "2023-12-27T15:00:00",
          "2023-12-27T15:05:00",
          "2023-12-27T15:10:00",
          "2023-12-27T15:15:00",
          "2023-12-27T15:20:00",
          "2023-12-27T15:25:00",
          "2023-12-27T15:30:00",
          "2023-12-27T15:35:00",
          "2023-12-27T15:40:00",
          "2023-12-27T15:45:00",
          "2023-12-27T15:50:00",
          "2023-12-27T15:55:00"
         ],
         "y": [
          0.7041410371857432,
          0.7115429052200073,
          0.7344700645825742,
          0.7413564132471355,
          0.7144631503191412,
          0.4898772348180891,
          0.5599502431257722,
          0.5541605158248034,
          0.5911294810626067,
          0.49105280378245675,
          0.5463899358484186,
          0.47242028863117524,
          0.4647209986874203,
          0.45949153793086767,
          0.5035724350207518,
          0.46154995489980255,
          0.46865016125393777,
          0.47758948158965703,
          0.5309339572158996,
          0.48420525332054953,
          0.5409454672686164,
          0.5997448244376237,
          0.6444693571890145,
          0.6644361383503831,
          0.6507815513755585,
          0.6478949238522427,
          0.6507815513755585,
          0.6478949238522427,
          0.6258826694807084,
          0.6507815513755585,
          0.6507815513755585,
          0.6507815513755585,
          0.6507815513755585,
          0.6583984804118352,
          0.617510918810509,
          0.5104403172607592,
          0.5690746324348713,
          0.5562626189857278,
          0.5584186043869711,
          0.6443841872735648,
          0.7401771335316163,
          0.7627744194405924,
          0.7966031002361409,
          0.7798227021956919,
          0.7798227021956919,
          0.8058649401489849,
          0.8420672356320067,
          0.849480715005141,
          0.8618334765216641,
          0.8693842350070827,
          0.8197144205021849,
          0.5351672362528113,
          0.5830249113583226,
          0.5051302623525777,
          0.5584305992086198,
          0.6462759032380707,
          0.6747096519570062,
          0.6638763809868802,
          0.6601992819519921,
          0.5554829400667823,
          0.5685011233505377,
          0.4168826713429076,
          0.5422933118006765,
          0.6251006211109373,
          0.661746933791465,
          0.6635390757162551,
          0.6966706240158627,
          0.6435875536870704,
          0.6435875536870704,
          0.6980824437811616,
          0.7400298422296335,
          0.5748681911411369,
          0.6457868835368986,
          0.6609293522739541,
          0.8840340998452364
         ],
         "yaxis": "y2"
        }
       ],
       "layout": {
        "legend": {
         "orientation": "h",
         "x": 1,
         "xanchor": "right",
         "y": 1.02,
         "yanchor": "bottom"
        },
        "shapes": [
         {
          "line": {
           "color": "Red",
           "dash": "dash",
           "width": 1.5
          },
          "type": "line",
          "x0": "2023-12-27T09:45:00",
          "x1": "2023-12-27T15:55:00",
          "y0": 0.5,
          "y1": 0.5,
          "yref": "y2"
         }
        ],
        "template": {
         "data": {
          "bar": [
           {
            "error_x": {
             "color": "#f2f5fa"
            },
            "error_y": {
             "color": "#f2f5fa"
            },
            "marker": {
             "line": {
              "color": "rgb(17,17,17)",
              "width": 0.5
             },
             "pattern": {
              "fillmode": "overlay",
              "size": 10,
              "solidity": 0.2
             }
            },
            "type": "bar"
           }
          ],
          "barpolar": [
           {
            "marker": {
             "line": {
              "color": "rgb(17,17,17)",
              "width": 0.5
             },
             "pattern": {
              "fillmode": "overlay",
              "size": 10,
              "solidity": 0.2
             }
            },
            "type": "barpolar"
           }
          ],
          "carpet": [
           {
            "aaxis": {
             "endlinecolor": "#A2B1C6",
             "gridcolor": "#506784",
             "linecolor": "#506784",
             "minorgridcolor": "#506784",
             "startlinecolor": "#A2B1C6"
            },
            "baxis": {
             "endlinecolor": "#A2B1C6",
             "gridcolor": "#506784",
             "linecolor": "#506784",
             "minorgridcolor": "#506784",
             "startlinecolor": "#A2B1C6"
            },
            "type": "carpet"
           }
          ],
          "choropleth": [
           {
            "colorbar": {
             "outlinewidth": 0,
             "ticks": ""
            },
            "type": "choropleth"
           }
          ],
          "contour": [
           {
            "colorbar": {
             "outlinewidth": 0,
             "ticks": ""
            },
            "colorscale": [
             [
              0,
              "#0d0887"
             ],
             [
              0.1111111111111111,
              "#46039f"
             ],
             [
              0.2222222222222222,
              "#7201a8"
             ],
             [
              0.3333333333333333,
              "#9c179e"
             ],
             [
              0.4444444444444444,
              "#bd3786"
             ],
             [
              0.5555555555555556,
              "#d8576b"
             ],
             [
              0.6666666666666666,
              "#ed7953"
             ],
             [
              0.7777777777777778,
              "#fb9f3a"
             ],
             [
              0.8888888888888888,
              "#fdca26"
             ],
             [
              1,
              "#f0f921"
             ]
            ],
            "type": "contour"
           }
          ],
          "contourcarpet": [
           {
            "colorbar": {
             "outlinewidth": 0,
             "ticks": ""
            },
            "type": "contourcarpet"
           }
          ],
          "heatmap": [
           {
            "colorbar": {
             "outlinewidth": 0,
             "ticks": ""
            },
            "colorscale": [
             [
              0,
              "#0d0887"
             ],
             [
              0.1111111111111111,
              "#46039f"
             ],
             [
              0.2222222222222222,
              "#7201a8"
             ],
             [
              0.3333333333333333,
              "#9c179e"
             ],
             [
              0.4444444444444444,
              "#bd3786"
             ],
             [
              0.5555555555555556,
              "#d8576b"
             ],
             [
              0.6666666666666666,
              "#ed7953"
             ],
             [
              0.7777777777777778,
              "#fb9f3a"
             ],
             [
              0.8888888888888888,
              "#fdca26"
             ],
             [
              1,
              "#f0f921"
             ]
            ],
            "type": "heatmap"
           }
          ],
          "heatmapgl": [
           {
            "colorbar": {
             "outlinewidth": 0,
             "ticks": ""
            },
            "colorscale": [
             [
              0,
              "#0d0887"
             ],
             [
              0.1111111111111111,
              "#46039f"
             ],
             [
              0.2222222222222222,
              "#7201a8"
             ],
             [
              0.3333333333333333,
              "#9c179e"
             ],
             [
              0.4444444444444444,
              "#bd3786"
             ],
             [
              0.5555555555555556,
              "#d8576b"
             ],
             [
              0.6666666666666666,
              "#ed7953"
             ],
             [
              0.7777777777777778,
              "#fb9f3a"
             ],
             [
              0.8888888888888888,
              "#fdca26"
             ],
             [
              1,
              "#f0f921"
             ]
            ],
            "type": "heatmapgl"
           }
          ],
          "histogram": [
           {
            "marker": {
             "pattern": {
              "fillmode": "overlay",
              "size": 10,
              "solidity": 0.2
             }
            },
            "type": "histogram"
           }
          ],
          "histogram2d": [
           {
            "colorbar": {
             "outlinewidth": 0,
             "ticks": ""
            },
            "colorscale": [
             [
              0,
              "#0d0887"
             ],
             [
              0.1111111111111111,
              "#46039f"
             ],
             [
              0.2222222222222222,
              "#7201a8"
             ],
             [
              0.3333333333333333,
              "#9c179e"
             ],
             [
              0.4444444444444444,
              "#bd3786"
             ],
             [
              0.5555555555555556,
              "#d8576b"
             ],
             [
              0.6666666666666666,
              "#ed7953"
             ],
             [
              0.7777777777777778,
              "#fb9f3a"
             ],
             [
              0.8888888888888888,
              "#fdca26"
             ],
             [
              1,
              "#f0f921"
             ]
            ],
            "type": "histogram2d"
           }
          ],
          "histogram2dcontour": [
           {
            "colorbar": {
             "outlinewidth": 0,
             "ticks": ""
            },
            "colorscale": [
             [
              0,
              "#0d0887"
             ],
             [
              0.1111111111111111,
              "#46039f"
             ],
             [
              0.2222222222222222,
              "#7201a8"
             ],
             [
              0.3333333333333333,
              "#9c179e"
             ],
             [
              0.4444444444444444,
              "#bd3786"
             ],
             [
              0.5555555555555556,
              "#d8576b"
             ],
             [
              0.6666666666666666,
              "#ed7953"
             ],
             [
              0.7777777777777778,
              "#fb9f3a"
             ],
             [
              0.8888888888888888,
              "#fdca26"
             ],
             [
              1,
              "#f0f921"
             ]
            ],
            "type": "histogram2dcontour"
           }
          ],
          "mesh3d": [
           {
            "colorbar": {
             "outlinewidth": 0,
             "ticks": ""
            },
            "type": "mesh3d"
           }
          ],
          "parcoords": [
           {
            "line": {
             "colorbar": {
              "outlinewidth": 0,
              "ticks": ""
             }
            },
            "type": "parcoords"
           }
          ],
          "pie": [
           {
            "automargin": true,
            "type": "pie"
           }
          ],
          "scatter": [
           {
            "marker": {
             "line": {
              "color": "#283442"
             }
            },
            "type": "scatter"
           }
          ],
          "scatter3d": [
           {
            "line": {
             "colorbar": {
              "outlinewidth": 0,
              "ticks": ""
             }
            },
            "marker": {
             "colorbar": {
              "outlinewidth": 0,
              "ticks": ""
             }
            },
            "type": "scatter3d"
           }
          ],
          "scattercarpet": [
           {
            "marker": {
             "colorbar": {
              "outlinewidth": 0,
              "ticks": ""
             }
            },
            "type": "scattercarpet"
           }
          ],
          "scattergeo": [
           {
            "marker": {
             "colorbar": {
              "outlinewidth": 0,
              "ticks": ""
             }
            },
            "type": "scattergeo"
           }
          ],
          "scattergl": [
           {
            "marker": {
             "line": {
              "color": "#283442"
             }
            },
            "type": "scattergl"
           }
          ],
          "scattermapbox": [
           {
            "marker": {
             "colorbar": {
              "outlinewidth": 0,
              "ticks": ""
             }
            },
            "type": "scattermapbox"
           }
          ],
          "scatterpolar": [
           {
            "marker": {
             "colorbar": {
              "outlinewidth": 0,
              "ticks": ""
             }
            },
            "type": "scatterpolar"
           }
          ],
          "scatterpolargl": [
           {
            "marker": {
             "colorbar": {
              "outlinewidth": 0,
              "ticks": ""
             }
            },
            "type": "scatterpolargl"
           }
          ],
          "scatterternary": [
           {
            "marker": {
             "colorbar": {
              "outlinewidth": 0,
              "ticks": ""
             }
            },
            "type": "scatterternary"
           }
          ],
          "surface": [
           {
            "colorbar": {
             "outlinewidth": 0,
             "ticks": ""
            },
            "colorscale": [
             [
              0,
              "#0d0887"
             ],
             [
              0.1111111111111111,
              "#46039f"
             ],
             [
              0.2222222222222222,
              "#7201a8"
             ],
             [
              0.3333333333333333,
              "#9c179e"
             ],
             [
              0.4444444444444444,
              "#bd3786"
             ],
             [
              0.5555555555555556,
              "#d8576b"
             ],
             [
              0.6666666666666666,
              "#ed7953"
             ],
             [
              0.7777777777777778,
              "#fb9f3a"
             ],
             [
              0.8888888888888888,
              "#fdca26"
             ],
             [
              1,
              "#f0f921"
             ]
            ],
            "type": "surface"
           }
          ],
          "table": [
           {
            "cells": {
             "fill": {
              "color": "#506784"
             },
             "line": {
              "color": "rgb(17,17,17)"
             }
            },
            "header": {
             "fill": {
              "color": "#2a3f5f"
             },
             "line": {
              "color": "rgb(17,17,17)"
             }
            },
            "type": "table"
           }
          ]
         },
         "layout": {
          "annotationdefaults": {
           "arrowcolor": "#f2f5fa",
           "arrowhead": 0,
           "arrowwidth": 1
          },
          "autotypenumbers": "strict",
          "coloraxis": {
           "colorbar": {
            "outlinewidth": 0,
            "ticks": ""
           }
          },
          "colorscale": {
           "diverging": [
            [
             0,
             "#8e0152"
            ],
            [
             0.1,
             "#c51b7d"
            ],
            [
             0.2,
             "#de77ae"
            ],
            [
             0.3,
             "#f1b6da"
            ],
            [
             0.4,
             "#fde0ef"
            ],
            [
             0.5,
             "#f7f7f7"
            ],
            [
             0.6,
             "#e6f5d0"
            ],
            [
             0.7,
             "#b8e186"
            ],
            [
             0.8,
             "#7fbc41"
            ],
            [
             0.9,
             "#4d9221"
            ],
            [
             1,
             "#276419"
            ]
           ],
           "sequential": [
            [
             0,
             "#0d0887"
            ],
            [
             0.1111111111111111,
             "#46039f"
            ],
            [
             0.2222222222222222,
             "#7201a8"
            ],
            [
             0.3333333333333333,
             "#9c179e"
            ],
            [
             0.4444444444444444,
             "#bd3786"
            ],
            [
             0.5555555555555556,
             "#d8576b"
            ],
            [
             0.6666666666666666,
             "#ed7953"
            ],
            [
             0.7777777777777778,
             "#fb9f3a"
            ],
            [
             0.8888888888888888,
             "#fdca26"
            ],
            [
             1,
             "#f0f921"
            ]
           ],
           "sequentialminus": [
            [
             0,
             "#0d0887"
            ],
            [
             0.1111111111111111,
             "#46039f"
            ],
            [
             0.2222222222222222,
             "#7201a8"
            ],
            [
             0.3333333333333333,
             "#9c179e"
            ],
            [
             0.4444444444444444,
             "#bd3786"
            ],
            [
             0.5555555555555556,
             "#d8576b"
            ],
            [
             0.6666666666666666,
             "#ed7953"
            ],
            [
             0.7777777777777778,
             "#fb9f3a"
            ],
            [
             0.8888888888888888,
             "#fdca26"
            ],
            [
             1,
             "#f0f921"
            ]
           ]
          },
          "colorway": [
           "#636efa",
           "#EF553B",
           "#00cc96",
           "#ab63fa",
           "#FFA15A",
           "#19d3f3",
           "#FF6692",
           "#B6E880",
           "#FF97FF",
           "#FECB52"
          ],
          "font": {
           "color": "#f2f5fa"
          },
          "geo": {
           "bgcolor": "rgb(17,17,17)",
           "lakecolor": "rgb(17,17,17)",
           "landcolor": "rgb(17,17,17)",
           "showlakes": true,
           "showland": true,
           "subunitcolor": "#506784"
          },
          "hoverlabel": {
           "align": "left"
          },
          "hovermode": "closest",
          "mapbox": {
           "style": "dark"
          },
          "paper_bgcolor": "rgb(17,17,17)",
          "plot_bgcolor": "rgb(17,17,17)",
          "polar": {
           "angularaxis": {
            "gridcolor": "#506784",
            "linecolor": "#506784",
            "ticks": ""
           },
           "bgcolor": "rgb(17,17,17)",
           "radialaxis": {
            "gridcolor": "#506784",
            "linecolor": "#506784",
            "ticks": ""
           }
          },
          "scene": {
           "xaxis": {
            "backgroundcolor": "rgb(17,17,17)",
            "gridcolor": "#506784",
            "gridwidth": 2,
            "linecolor": "#506784",
            "showbackground": true,
            "ticks": "",
            "zerolinecolor": "#C8D4E3"
           },
           "yaxis": {
            "backgroundcolor": "rgb(17,17,17)",
            "gridcolor": "#506784",
            "gridwidth": 2,
            "linecolor": "#506784",
            "showbackground": true,
            "ticks": "",
            "zerolinecolor": "#C8D4E3"
           },
           "zaxis": {
            "backgroundcolor": "rgb(17,17,17)",
            "gridcolor": "#506784",
            "gridwidth": 2,
            "linecolor": "#506784",
            "showbackground": true,
            "ticks": "",
            "zerolinecolor": "#C8D4E3"
           }
          },
          "shapedefaults": {
           "line": {
            "color": "#f2f5fa"
           }
          },
          "sliderdefaults": {
           "bgcolor": "#C8D4E3",
           "bordercolor": "rgb(17,17,17)",
           "borderwidth": 1,
           "tickwidth": 0
          },
          "ternary": {
           "aaxis": {
            "gridcolor": "#506784",
            "linecolor": "#506784",
            "ticks": ""
           },
           "baxis": {
            "gridcolor": "#506784",
            "linecolor": "#506784",
            "ticks": ""
           },
           "bgcolor": "rgb(17,17,17)",
           "caxis": {
            "gridcolor": "#506784",
            "linecolor": "#506784",
            "ticks": ""
           }
          },
          "title": {
           "x": 0.05
          },
          "updatemenudefaults": {
           "bgcolor": "#506784",
           "borderwidth": 0
          },
          "xaxis": {
           "automargin": true,
           "gridcolor": "#283442",
           "linecolor": "#506784",
           "ticks": "",
           "title": {
            "standoff": 15
           },
           "zerolinecolor": "#283442",
           "zerolinewidth": 2
          },
          "yaxis": {
           "automargin": true,
           "gridcolor": "#283442",
           "linecolor": "#506784",
           "ticks": "",
           "title": {
            "standoff": 15
           },
           "zerolinecolor": "#283442",
           "zerolinewidth": 2
          }
         }
        },
        "title": {
         "text": "OHLC vs Prediction Over Time"
        },
        "xaxis": {
         "rangeslider": {
          "visible": false
         }
        },
        "yaxis": {
         "tickformat": ".0f"
        },
        "yaxis2": {
         "overlaying": "y",
         "side": "right",
         "tickformat": ".0%"
        }
       }
      }
     },
     "metadata": {},
     "output_type": "display_data"
    }
   ],
   "source": [
    "import plotly.graph_objects as go\n",
    "\n",
    "# Pick a day in the test set\n",
    "test_day = '2023-12-27'\n",
    "# test_day = '2024-01-03'\n",
    "test_df = df_results.loc[test_day:test_day]\n",
    "X_prices = spx_data.loc[test_day:test_day, ['open','high','low','close']]\n",
    "\n",
    "df_viz = test_df.merge(X_prices, left_index=True, right_index=True)\n",
    "\n",
    "fig = go.Figure(data=[go.Candlestick(x=df_viz.index,\n",
    "                open=df_viz['open'],\n",
    "                high=df_viz['high'],\n",
    "                low=df_viz['low'],\n",
    "                close=df_viz['close'])])\n",
    "\n",
    "# fig.add_trace(go.Scatter(x=df_viz.index, y=df_viz['pred_hod'].ewm(2).mean(), mode='lines', name='pred_hod', yaxis='y2', line=dict(color='#ff5f5f')))\n",
    "fig.add_trace(go.Scatter(x=df_viz.index, y=df_viz['pred_hod'], mode='lines', name='pred_hod', yaxis='y2', line=dict(color='#ff5f5f')))\n",
    "fig.add_trace(go.Scatter(x=df_viz.index, y=df_viz['pred_lod'], mode='lines', name='pred_lod', yaxis='y2', line=dict(color='#3399cc')))\n",
    "fig.add_trace(go.Scatter(x=df_viz.index, y=df_viz['pred_gd'], mode='lines', name='pred_lod', yaxis='y2', line=dict(color='#98ff98')))\n",
    "\n",
    "fig.add_shape(\n",
    "    type=\"line\",\n",
    "    x0=df_viz.index.min(),\n",
    "    x1=df_viz.index.max(),\n",
    "    y0=0.5,\n",
    "    y1=0.5,\n",
    "    yref='y2',\n",
    "    line=dict(\n",
    "        color=\"Red\",\n",
    "        width=1.5,\n",
    "        dash=\"dash\",\n",
    "    )\n",
    ")\n",
    "\n",
    "fig.update_layout(\n",
    "    template='plotly_dark',\n",
    "    yaxis=dict(\n",
    "        tickformat='.0f'\n",
    "    ),\n",
    "    yaxis2=dict(\n",
    "        overlaying='y',\n",
    "        side='right',\n",
    "        tickformat=\".0%\"\n",
    "    ),\n",
    "    legend=dict(\n",
    "        orientation=\"h\",\n",
    "        yanchor=\"bottom\",\n",
    "        y=1.02,\n",
    "        xanchor=\"right\",\n",
    "        x=1\n",
    "    ),\n",
    "    title='OHLC vs Prediction Over Time',\n",
    "    xaxis_rangeslider_visible=False\n",
    ")\n",
    "\n",
    "fig.show()"
   ]
  },
  {
   "cell_type": "code",
   "execution_count": 117,
   "metadata": {},
   "outputs": [
    {
     "data": {
      "application/vnd.plotly.v1+json": {
       "config": {
        "plotlyServerURL": "https://plot.ly"
       },
       "data": [
        {
         "close": [
          16903.35,
          16909.06,
          16912.95,
          16912.96,
          16902.06,
          16863.09,
          16877.88,
          16876.87,
          16883.05,
          16870.21,
          16874.98,
          16866.38,
          16866.56,
          16868.54,
          16877.74,
          16872.68,
          16873.55,
          16873.74,
          16874.98,
          16873.49,
          16877.65,
          16882.77,
          16887.4,
          16894.8,
          16890.74,
          16887.91,
          16888.88,
          16886.8,
          16886.05,
          16890.42,
          16890.51,
          16891.51,
          16889.99,
          16893.62,
          16883.3,
          16874.37,
          16879.78,
          16876.59,
          16877.2,
          16887.66,
          16907.44,
          16907.53,
          16912.16,
          16909.59,
          16907.97,
          16909.22,
          16912.67,
          16916.03,
          16915.78,
          16915.8,
          16907.65,
          16870.09,
          16879.36,
          16870.86,
          16879.34,
          16890.45,
          16895.69,
          16889.56,
          16887.24,
          16877.02,
          16881.23,
          16873.81,
          16881.43,
          16885.46,
          16886.92,
          16888.4,
          16893.95,
          16885.85,
          16885.01,
          16891.78,
          16896.14,
          16881.82,
          16883.85,
          16885.33,
          16910.32
         ],
         "high": [
          16908.8,
          16910.6,
          16918.03,
          16920.17,
          16913.62,
          16903.86,
          16878.59,
          16880.69,
          16884.63,
          16883,
          16875.68,
          16876.34,
          16869.78,
          16869.04,
          16878.06,
          16877.9,
          16876.27,
          16874.17,
          16876.26,
          16876.74,
          16877.74,
          16882.77,
          16890.38,
          16894.99,
          16895.11,
          16892.82,
          16891.26,
          16892.53,
          16888.35,
          16891.78,
          16891.47,
          16895.54,
          16892.65,
          16894.65,
          16893.53,
          16884.42,
          16880.4,
          16880.22,
          16879.98,
          16890.09,
          16911.38,
          16922.01,
          16915.71,
          16914.98,
          16911.86,
          16914.69,
          16915.9,
          16918.1,
          16918.38,
          16919.6,
          16917.43,
          16907.64,
          16880.07,
          16880.85,
          16880.07,
          16892.21,
          16902.29,
          16896.51,
          16891.52,
          16886.81,
          16881.64,
          16881.98,
          16883.55,
          16886.89,
          16887.2,
          16892.63,
          16895.06,
          16895.26,
          16885.43,
          16893.33,
          16897.33,
          16897.24,
          16884.96,
          16892.16,
          16910.41
         ],
         "low": [
          16897.77,
          16902.95,
          16905.67,
          16909.62,
          16900.29,
          16862.54,
          16863.09,
          16866.49,
          16875.39,
          16870.21,
          16863.43,
          16865.38,
          16860.59,
          16859.55,
          16867.49,
          16868.72,
          16869.21,
          16868.9,
          16872.65,
          16872.99,
          16866.28,
          16876.94,
          16882.96,
          16885.23,
          16889.88,
          16887.42,
          16887.86,
          16883.69,
          16884.46,
          16886.1,
          16888.51,
          16887.72,
          16889.1,
          16889.93,
          16881.94,
          16870.69,
          16873.79,
          16876.59,
          16875.88,
          16877.2,
          16887.57,
          16906.3,
          16902.69,
          16908.18,
          16905.52,
          16907.72,
          16909.23,
          16912.75,
          16913.39,
          16912.75,
          16907.62,
          16868,
          16866.46,
          16867.63,
          16867.56,
          16879.41,
          16885.21,
          16887.74,
          16887.24,
          16874.28,
          16876.7,
          16873.75,
          16872.52,
          16879.12,
          16878.23,
          16886.06,
          16887.48,
          16885.85,
          16878.3,
          16882.59,
          16891.42,
          16879.96,
          16879.18,
          16877.77,
          16887.01
         ],
         "open": [
          16906.58,
          16903.87,
          16909.09,
          16913.63,
          16912.99,
          16901.88,
          16863.84,
          16877.6,
          16876.97,
          16883,
          16870.26,
          16874.8,
          16866.48,
          16866.18,
          16868.11,
          16877.54,
          16872.67,
          16873.35,
          16873.76,
          16874.83,
          16873.52,
          16877.91,
          16882.96,
          16887.37,
          16894.93,
          16890.78,
          16888.04,
          16888.97,
          16886.76,
          16886.1,
          16890.27,
          16890.49,
          16891.43,
          16890,
          16893.49,
          16883.28,
          16874.4,
          16879.91,
          16876.59,
          16877.2,
          16887.63,
          16907.09,
          16907.52,
          16911.95,
          16909.44,
          16908.74,
          16909.23,
          16912.75,
          16916.03,
          16915.4,
          16915.9,
          16907.64,
          16870.17,
          16879.14,
          16871.22,
          16879.41,
          16890.44,
          16896.02,
          16889.59,
          16886.81,
          16877.03,
          16880.98,
          16873.74,
          16881.54,
          16885.46,
          16886.92,
          16888.2,
          16893.9,
          16885.43,
          16885.19,
          16891.42,
          16896.02,
          16881.67,
          16879.89,
          16887.27
         ],
         "type": "candlestick",
         "x": [
          "2023-12-27T09:45:00",
          "2023-12-27T09:50:00",
          "2023-12-27T09:55:00",
          "2023-12-27T10:00:00",
          "2023-12-27T10:05:00",
          "2023-12-27T10:10:00",
          "2023-12-27T10:15:00",
          "2023-12-27T10:20:00",
          "2023-12-27T10:25:00",
          "2023-12-27T10:30:00",
          "2023-12-27T10:35:00",
          "2023-12-27T10:40:00",
          "2023-12-27T10:45:00",
          "2023-12-27T10:50:00",
          "2023-12-27T10:55:00",
          "2023-12-27T11:00:00",
          "2023-12-27T11:05:00",
          "2023-12-27T11:10:00",
          "2023-12-27T11:15:00",
          "2023-12-27T11:20:00",
          "2023-12-27T11:25:00",
          "2023-12-27T11:30:00",
          "2023-12-27T11:35:00",
          "2023-12-27T11:40:00",
          "2023-12-27T11:45:00",
          "2023-12-27T11:50:00",
          "2023-12-27T11:55:00",
          "2023-12-27T12:00:00",
          "2023-12-27T12:05:00",
          "2023-12-27T12:10:00",
          "2023-12-27T12:15:00",
          "2023-12-27T12:20:00",
          "2023-12-27T12:25:00",
          "2023-12-27T12:30:00",
          "2023-12-27T12:35:00",
          "2023-12-27T12:40:00",
          "2023-12-27T12:45:00",
          "2023-12-27T12:50:00",
          "2023-12-27T12:55:00",
          "2023-12-27T13:00:00",
          "2023-12-27T13:05:00",
          "2023-12-27T13:10:00",
          "2023-12-27T13:15:00",
          "2023-12-27T13:20:00",
          "2023-12-27T13:25:00",
          "2023-12-27T13:30:00",
          "2023-12-27T13:35:00",
          "2023-12-27T13:40:00",
          "2023-12-27T13:45:00",
          "2023-12-27T13:50:00",
          "2023-12-27T13:55:00",
          "2023-12-27T14:00:00",
          "2023-12-27T14:05:00",
          "2023-12-27T14:10:00",
          "2023-12-27T14:15:00",
          "2023-12-27T14:20:00",
          "2023-12-27T14:25:00",
          "2023-12-27T14:30:00",
          "2023-12-27T14:35:00",
          "2023-12-27T14:40:00",
          "2023-12-27T14:45:00",
          "2023-12-27T14:50:00",
          "2023-12-27T14:55:00",
          "2023-12-27T15:00:00",
          "2023-12-27T15:05:00",
          "2023-12-27T15:10:00",
          "2023-12-27T15:15:00",
          "2023-12-27T15:20:00",
          "2023-12-27T15:25:00",
          "2023-12-27T15:30:00",
          "2023-12-27T15:35:00",
          "2023-12-27T15:40:00",
          "2023-12-27T15:45:00",
          "2023-12-27T15:50:00",
          "2023-12-27T15:55:00"
         ]
        },
        {
         "line": {
          "color": "#ff5f5f"
         },
         "mode": "lines",
         "name": "pred_hod",
         "type": "scatter",
         "x": [
          "2023-12-27T09:45:00",
          "2023-12-27T09:50:00",
          "2023-12-27T09:55:00",
          "2023-12-27T10:00:00",
          "2023-12-27T10:05:00",
          "2023-12-27T10:10:00",
          "2023-12-27T10:15:00",
          "2023-12-27T10:20:00",
          "2023-12-27T10:25:00",
          "2023-12-27T10:30:00",
          "2023-12-27T10:35:00",
          "2023-12-27T10:40:00",
          "2023-12-27T10:45:00",
          "2023-12-27T10:50:00",
          "2023-12-27T10:55:00",
          "2023-12-27T11:00:00",
          "2023-12-27T11:05:00",
          "2023-12-27T11:10:00",
          "2023-12-27T11:15:00",
          "2023-12-27T11:20:00",
          "2023-12-27T11:25:00",
          "2023-12-27T11:30:00",
          "2023-12-27T11:35:00",
          "2023-12-27T11:40:00",
          "2023-12-27T11:45:00",
          "2023-12-27T11:50:00",
          "2023-12-27T11:55:00",
          "2023-12-27T12:00:00",
          "2023-12-27T12:05:00",
          "2023-12-27T12:10:00",
          "2023-12-27T12:15:00",
          "2023-12-27T12:20:00",
          "2023-12-27T12:25:00",
          "2023-12-27T12:30:00",
          "2023-12-27T12:35:00",
          "2023-12-27T12:40:00",
          "2023-12-27T12:45:00",
          "2023-12-27T12:50:00",
          "2023-12-27T12:55:00",
          "2023-12-27T13:00:00",
          "2023-12-27T13:05:00",
          "2023-12-27T13:10:00",
          "2023-12-27T13:15:00",
          "2023-12-27T13:20:00",
          "2023-12-27T13:25:00",
          "2023-12-27T13:30:00",
          "2023-12-27T13:35:00",
          "2023-12-27T13:40:00",
          "2023-12-27T13:45:00",
          "2023-12-27T13:50:00",
          "2023-12-27T13:55:00",
          "2023-12-27T14:00:00",
          "2023-12-27T14:05:00",
          "2023-12-27T14:10:00",
          "2023-12-27T14:15:00",
          "2023-12-27T14:20:00",
          "2023-12-27T14:25:00",
          "2023-12-27T14:30:00",
          "2023-12-27T14:35:00",
          "2023-12-27T14:40:00",
          "2023-12-27T14:45:00",
          "2023-12-27T14:50:00",
          "2023-12-27T14:55:00",
          "2023-12-27T15:00:00",
          "2023-12-27T15:05:00",
          "2023-12-27T15:10:00",
          "2023-12-27T15:15:00",
          "2023-12-27T15:20:00",
          "2023-12-27T15:25:00",
          "2023-12-27T15:30:00",
          "2023-12-27T15:35:00",
          "2023-12-27T15:40:00",
          "2023-12-27T15:45:00",
          "2023-12-27T15:50:00",
          "2023-12-27T15:55:00"
         ],
         "y": [
          0.17737376647661685,
          0.15962156175484352,
          0.14566076944824718,
          0.1481328940091516,
          0.21577225777437398,
          0.5217513515654781,
          0.3204853427651856,
          0.3746829817609603,
          0.32267073744467,
          0.49920946974689623,
          0.43906940243142023,
          0.6002103963314991,
          0.6094397411940582,
          0.597612200506491,
          0.5225918960126169,
          0.5769426659033559,
          0.566775030937196,
          0.571363722900023,
          0.5790773959992901,
          0.5962483088352099,
          0.5939016656054148,
          0.5494400581474246,
          0.49016300735269613,
          0.38805164113683,
          0.46406521824163793,
          0.5228438400213697,
          0.5195224670807355,
          0.562123065519233,
          0.5760667978278026,
          0.5322595723907223,
          0.5316143679146614,
          0.5150525596633417,
          0.5511701300256701,
          0.4962471339989583,
          0.6499064310836346,
          0.7518518637756101,
          0.7151180393268902,
          0.7634238880700787,
          0.7626300020295488,
          0.6313743075318572,
          0.3173369708266594,
          0.3112816919560252,
          0.264521552351575,
          0.3264019259389938,
          0.41597190515319593,
          0.3451088019985583,
          0.24967502563425265,
          0.2140997392802239,
          0.2240193403981619,
          0.22352935948076263,
          0.46903487050940995,
          0.8435052974842485,
          0.8418478094539449,
          0.8493208473145668,
          0.851431043037439,
          0.7917004263111335,
          0.760592103087024,
          0.8214417820941883,
          0.8537986756797048,
          0.9062122865281317,
          0.9139042352617753,
          0.9089116250625763,
          0.9160495586877493,
          0.9139923069287768,
          0.9157742695312893,
          0.9173691853521273,
          0.9121440027715089,
          0.925554220786538,
          0.9280835765635246,
          0.9211569827127759,
          0.9202896316273999,
          0.9338336265483681,
          0.9341029061668109,
          0.9347928954744518,
          0.9359925061666606
         ],
         "yaxis": "y2"
        },
        {
         "line": {
          "color": "#3399cc"
         },
         "mode": "lines",
         "name": "pred_lod",
         "type": "scatter",
         "x": [
          "2023-12-27T09:45:00",
          "2023-12-27T09:50:00",
          "2023-12-27T09:55:00",
          "2023-12-27T10:00:00",
          "2023-12-27T10:05:00",
          "2023-12-27T10:10:00",
          "2023-12-27T10:15:00",
          "2023-12-27T10:20:00",
          "2023-12-27T10:25:00",
          "2023-12-27T10:30:00",
          "2023-12-27T10:35:00",
          "2023-12-27T10:40:00",
          "2023-12-27T10:45:00",
          "2023-12-27T10:50:00",
          "2023-12-27T10:55:00",
          "2023-12-27T11:00:00",
          "2023-12-27T11:05:00",
          "2023-12-27T11:10:00",
          "2023-12-27T11:15:00",
          "2023-12-27T11:20:00",
          "2023-12-27T11:25:00",
          "2023-12-27T11:30:00",
          "2023-12-27T11:35:00",
          "2023-12-27T11:40:00",
          "2023-12-27T11:45:00",
          "2023-12-27T11:50:00",
          "2023-12-27T11:55:00",
          "2023-12-27T12:00:00",
          "2023-12-27T12:05:00",
          "2023-12-27T12:10:00",
          "2023-12-27T12:15:00",
          "2023-12-27T12:20:00",
          "2023-12-27T12:25:00",
          "2023-12-27T12:30:00",
          "2023-12-27T12:35:00",
          "2023-12-27T12:40:00",
          "2023-12-27T12:45:00",
          "2023-12-27T12:50:00",
          "2023-12-27T12:55:00",
          "2023-12-27T13:00:00",
          "2023-12-27T13:05:00",
          "2023-12-27T13:10:00",
          "2023-12-27T13:15:00",
          "2023-12-27T13:20:00",
          "2023-12-27T13:25:00",
          "2023-12-27T13:30:00",
          "2023-12-27T13:35:00",
          "2023-12-27T13:40:00",
          "2023-12-27T13:45:00",
          "2023-12-27T13:50:00",
          "2023-12-27T13:55:00",
          "2023-12-27T14:00:00",
          "2023-12-27T14:05:00",
          "2023-12-27T14:10:00",
          "2023-12-27T14:15:00",
          "2023-12-27T14:20:00",
          "2023-12-27T14:25:00",
          "2023-12-27T14:30:00",
          "2023-12-27T14:35:00",
          "2023-12-27T14:40:00",
          "2023-12-27T14:45:00",
          "2023-12-27T14:50:00",
          "2023-12-27T14:55:00",
          "2023-12-27T15:00:00",
          "2023-12-27T15:05:00",
          "2023-12-27T15:10:00",
          "2023-12-27T15:15:00",
          "2023-12-27T15:20:00",
          "2023-12-27T15:25:00",
          "2023-12-27T15:30:00",
          "2023-12-27T15:35:00",
          "2023-12-27T15:40:00",
          "2023-12-27T15:45:00",
          "2023-12-27T15:50:00",
          "2023-12-27T15:55:00"
         ],
         "y": [
          0.15076319051288145,
          0.1871892024496523,
          0.2179523929523592,
          0.23393502832511315,
          0.16689703846855036,
          0.12525244645749475,
          0.2543039612578074,
          0.23956666820264969,
          0.32461642582828365,
          0.18647634257187748,
          0.23766750884066842,
          0.170745733427753,
          0.17185000810427256,
          0.19326412246228122,
          0.336263375955638,
          0.26277885930367917,
          0.2570866499545458,
          0.25313295299246047,
          0.2790338427223157,
          0.2630418570658015,
          0.32069091919885995,
          0.3985013453895015,
          0.487458279265797,
          0.5730387505940933,
          0.5404334733765127,
          0.49160885428998535,
          0.5296874803451541,
          0.49327270814963375,
          0.49495732809327303,
          0.561043019948704,
          0.5714701361540013,
          0.6012333354318609,
          0.594119302119927,
          0.63868406118363,
          0.5022997897576552,
          0.3060666372976947,
          0.4433755098756082,
          0.35772582468990893,
          0.37249823020424155,
          0.5970785926457765,
          0.852451946934281,
          0.8541609676486459,
          0.8775461174241957,
          0.8674542541350017,
          0.8581029146158616,
          0.8681804714998964,
          0.8812532106870308,
          0.9059855847431173,
          0.9059709774376132,
          0.9109233144438612,
          0.8681266352142037,
          0.2447137717343594,
          0.39138828161172246,
          0.2700212058794617,
          0.46854342588883463,
          0.7593026826121645,
          0.8185451361823765,
          0.7561900335363083,
          0.6768313136634962,
          0.4555636557253435,
          0.5423290089511091,
          0.3680108400544912,
          0.5527945116399401,
          0.7397746030365908,
          0.7943717012261997,
          0.8086824563361497,
          0.8812099860933185,
          0.826881026644755,
          0.8291014863245953,
          0.8923639802594405,
          0.928545349896767,
          0.8714092255208106,
          0.9021441783315642,
          0.9313732011076766,
          0.939619756981168
         ],
         "yaxis": "y2"
        },
        {
         "line": {
          "color": "#98ff98"
         },
         "mode": "lines",
         "name": "pred_lod",
         "type": "scatter",
         "x": [
          "2023-12-27T09:45:00",
          "2023-12-27T09:50:00",
          "2023-12-27T09:55:00",
          "2023-12-27T10:00:00",
          "2023-12-27T10:05:00",
          "2023-12-27T10:10:00",
          "2023-12-27T10:15:00",
          "2023-12-27T10:20:00",
          "2023-12-27T10:25:00",
          "2023-12-27T10:30:00",
          "2023-12-27T10:35:00",
          "2023-12-27T10:40:00",
          "2023-12-27T10:45:00",
          "2023-12-27T10:50:00",
          "2023-12-27T10:55:00",
          "2023-12-27T11:00:00",
          "2023-12-27T11:05:00",
          "2023-12-27T11:10:00",
          "2023-12-27T11:15:00",
          "2023-12-27T11:20:00",
          "2023-12-27T11:25:00",
          "2023-12-27T11:30:00",
          "2023-12-27T11:35:00",
          "2023-12-27T11:40:00",
          "2023-12-27T11:45:00",
          "2023-12-27T11:50:00",
          "2023-12-27T11:55:00",
          "2023-12-27T12:00:00",
          "2023-12-27T12:05:00",
          "2023-12-27T12:10:00",
          "2023-12-27T12:15:00",
          "2023-12-27T12:20:00",
          "2023-12-27T12:25:00",
          "2023-12-27T12:30:00",
          "2023-12-27T12:35:00",
          "2023-12-27T12:40:00",
          "2023-12-27T12:45:00",
          "2023-12-27T12:50:00",
          "2023-12-27T12:55:00",
          "2023-12-27T13:00:00",
          "2023-12-27T13:05:00",
          "2023-12-27T13:10:00",
          "2023-12-27T13:15:00",
          "2023-12-27T13:20:00",
          "2023-12-27T13:25:00",
          "2023-12-27T13:30:00",
          "2023-12-27T13:35:00",
          "2023-12-27T13:40:00",
          "2023-12-27T13:45:00",
          "2023-12-27T13:50:00",
          "2023-12-27T13:55:00",
          "2023-12-27T14:00:00",
          "2023-12-27T14:05:00",
          "2023-12-27T14:10:00",
          "2023-12-27T14:15:00",
          "2023-12-27T14:20:00",
          "2023-12-27T14:25:00",
          "2023-12-27T14:30:00",
          "2023-12-27T14:35:00",
          "2023-12-27T14:40:00",
          "2023-12-27T14:45:00",
          "2023-12-27T14:50:00",
          "2023-12-27T14:55:00",
          "2023-12-27T15:00:00",
          "2023-12-27T15:05:00",
          "2023-12-27T15:10:00",
          "2023-12-27T15:15:00",
          "2023-12-27T15:20:00",
          "2023-12-27T15:25:00",
          "2023-12-27T15:30:00",
          "2023-12-27T15:35:00",
          "2023-12-27T15:40:00",
          "2023-12-27T15:45:00",
          "2023-12-27T15:50:00",
          "2023-12-27T15:55:00"
         ],
         "y": [
          0.7664549117766211,
          0.7731562446172454,
          0.7821513124431493,
          0.7895675895823865,
          0.7946619300565123,
          0.5658810035442985,
          0.6400101116094816,
          0.6243736141887537,
          0.6248002257576314,
          0.5421658156063551,
          0.5959970023049896,
          0.5326094289416125,
          0.5365141887697451,
          0.5329084924933629,
          0.5950375831075501,
          0.5473804919563837,
          0.5544062534358145,
          0.5541735627639335,
          0.5954008304331625,
          0.5564681975584058,
          0.6046528842912701,
          0.6328714920461228,
          0.7047154016813769,
          0.7212296428022105,
          0.7105765216257784,
          0.7116605024634556,
          0.7139619784383762,
          0.6973114947831991,
          0.6767420590986286,
          0.7111554763979518,
          0.7124434408675723,
          0.7059618660573322,
          0.7120664239407138,
          0.7227140362322771,
          0.6485214769944802,
          0.5804215299869202,
          0.6226132602750104,
          0.5959901899743891,
          0.6060264779315843,
          0.7070744002076117,
          0.7957055980478184,
          0.8075847579238346,
          0.8262165565701867,
          0.8260604521605023,
          0.8291273960665337,
          0.8350746259061186,
          0.8441885518142562,
          0.8614424072843521,
          0.8401936455353534,
          0.8418797545214506,
          0.8409581010143865,
          0.5947508361141228,
          0.6613291333215028,
          0.5700566657355701,
          0.6073425347996159,
          0.7223232974659244,
          0.7415990621518257,
          0.7318029566062568,
          0.7211014011225739,
          0.5850679277393744,
          0.6221577901023714,
          0.49965068545002345,
          0.611071901295259,
          0.6703265124620446,
          0.7351768755060529,
          0.7586279698142111,
          0.7766424427389824,
          0.7043765940915652,
          0.6836755323246811,
          0.7704228450516513,
          0.8062417489476672,
          0.6597172041244391,
          0.6915650373335404,
          0.7307094528849893,
          0.8786748909751545
         ],
         "yaxis": "y2"
        }
       ],
       "layout": {
        "legend": {
         "orientation": "h",
         "x": 1,
         "xanchor": "right",
         "y": 1.02,
         "yanchor": "bottom"
        },
        "shapes": [
         {
          "line": {
           "color": "Red",
           "dash": "dash",
           "width": 1.5
          },
          "type": "line",
          "x0": "2023-12-27T09:45:00",
          "x1": "2023-12-27T15:55:00",
          "y0": 0.5,
          "y1": 0.5,
          "yref": "y2"
         }
        ],
        "template": {
         "data": {
          "bar": [
           {
            "error_x": {
             "color": "#f2f5fa"
            },
            "error_y": {
             "color": "#f2f5fa"
            },
            "marker": {
             "line": {
              "color": "rgb(17,17,17)",
              "width": 0.5
             },
             "pattern": {
              "fillmode": "overlay",
              "size": 10,
              "solidity": 0.2
             }
            },
            "type": "bar"
           }
          ],
          "barpolar": [
           {
            "marker": {
             "line": {
              "color": "rgb(17,17,17)",
              "width": 0.5
             },
             "pattern": {
              "fillmode": "overlay",
              "size": 10,
              "solidity": 0.2
             }
            },
            "type": "barpolar"
           }
          ],
          "carpet": [
           {
            "aaxis": {
             "endlinecolor": "#A2B1C6",
             "gridcolor": "#506784",
             "linecolor": "#506784",
             "minorgridcolor": "#506784",
             "startlinecolor": "#A2B1C6"
            },
            "baxis": {
             "endlinecolor": "#A2B1C6",
             "gridcolor": "#506784",
             "linecolor": "#506784",
             "minorgridcolor": "#506784",
             "startlinecolor": "#A2B1C6"
            },
            "type": "carpet"
           }
          ],
          "choropleth": [
           {
            "colorbar": {
             "outlinewidth": 0,
             "ticks": ""
            },
            "type": "choropleth"
           }
          ],
          "contour": [
           {
            "colorbar": {
             "outlinewidth": 0,
             "ticks": ""
            },
            "colorscale": [
             [
              0,
              "#0d0887"
             ],
             [
              0.1111111111111111,
              "#46039f"
             ],
             [
              0.2222222222222222,
              "#7201a8"
             ],
             [
              0.3333333333333333,
              "#9c179e"
             ],
             [
              0.4444444444444444,
              "#bd3786"
             ],
             [
              0.5555555555555556,
              "#d8576b"
             ],
             [
              0.6666666666666666,
              "#ed7953"
             ],
             [
              0.7777777777777778,
              "#fb9f3a"
             ],
             [
              0.8888888888888888,
              "#fdca26"
             ],
             [
              1,
              "#f0f921"
             ]
            ],
            "type": "contour"
           }
          ],
          "contourcarpet": [
           {
            "colorbar": {
             "outlinewidth": 0,
             "ticks": ""
            },
            "type": "contourcarpet"
           }
          ],
          "heatmap": [
           {
            "colorbar": {
             "outlinewidth": 0,
             "ticks": ""
            },
            "colorscale": [
             [
              0,
              "#0d0887"
             ],
             [
              0.1111111111111111,
              "#46039f"
             ],
             [
              0.2222222222222222,
              "#7201a8"
             ],
             [
              0.3333333333333333,
              "#9c179e"
             ],
             [
              0.4444444444444444,
              "#bd3786"
             ],
             [
              0.5555555555555556,
              "#d8576b"
             ],
             [
              0.6666666666666666,
              "#ed7953"
             ],
             [
              0.7777777777777778,
              "#fb9f3a"
             ],
             [
              0.8888888888888888,
              "#fdca26"
             ],
             [
              1,
              "#f0f921"
             ]
            ],
            "type": "heatmap"
           }
          ],
          "heatmapgl": [
           {
            "colorbar": {
             "outlinewidth": 0,
             "ticks": ""
            },
            "colorscale": [
             [
              0,
              "#0d0887"
             ],
             [
              0.1111111111111111,
              "#46039f"
             ],
             [
              0.2222222222222222,
              "#7201a8"
             ],
             [
              0.3333333333333333,
              "#9c179e"
             ],
             [
              0.4444444444444444,
              "#bd3786"
             ],
             [
              0.5555555555555556,
              "#d8576b"
             ],
             [
              0.6666666666666666,
              "#ed7953"
             ],
             [
              0.7777777777777778,
              "#fb9f3a"
             ],
             [
              0.8888888888888888,
              "#fdca26"
             ],
             [
              1,
              "#f0f921"
             ]
            ],
            "type": "heatmapgl"
           }
          ],
          "histogram": [
           {
            "marker": {
             "pattern": {
              "fillmode": "overlay",
              "size": 10,
              "solidity": 0.2
             }
            },
            "type": "histogram"
           }
          ],
          "histogram2d": [
           {
            "colorbar": {
             "outlinewidth": 0,
             "ticks": ""
            },
            "colorscale": [
             [
              0,
              "#0d0887"
             ],
             [
              0.1111111111111111,
              "#46039f"
             ],
             [
              0.2222222222222222,
              "#7201a8"
             ],
             [
              0.3333333333333333,
              "#9c179e"
             ],
             [
              0.4444444444444444,
              "#bd3786"
             ],
             [
              0.5555555555555556,
              "#d8576b"
             ],
             [
              0.6666666666666666,
              "#ed7953"
             ],
             [
              0.7777777777777778,
              "#fb9f3a"
             ],
             [
              0.8888888888888888,
              "#fdca26"
             ],
             [
              1,
              "#f0f921"
             ]
            ],
            "type": "histogram2d"
           }
          ],
          "histogram2dcontour": [
           {
            "colorbar": {
             "outlinewidth": 0,
             "ticks": ""
            },
            "colorscale": [
             [
              0,
              "#0d0887"
             ],
             [
              0.1111111111111111,
              "#46039f"
             ],
             [
              0.2222222222222222,
              "#7201a8"
             ],
             [
              0.3333333333333333,
              "#9c179e"
             ],
             [
              0.4444444444444444,
              "#bd3786"
             ],
             [
              0.5555555555555556,
              "#d8576b"
             ],
             [
              0.6666666666666666,
              "#ed7953"
             ],
             [
              0.7777777777777778,
              "#fb9f3a"
             ],
             [
              0.8888888888888888,
              "#fdca26"
             ],
             [
              1,
              "#f0f921"
             ]
            ],
            "type": "histogram2dcontour"
           }
          ],
          "mesh3d": [
           {
            "colorbar": {
             "outlinewidth": 0,
             "ticks": ""
            },
            "type": "mesh3d"
           }
          ],
          "parcoords": [
           {
            "line": {
             "colorbar": {
              "outlinewidth": 0,
              "ticks": ""
             }
            },
            "type": "parcoords"
           }
          ],
          "pie": [
           {
            "automargin": true,
            "type": "pie"
           }
          ],
          "scatter": [
           {
            "marker": {
             "line": {
              "color": "#283442"
             }
            },
            "type": "scatter"
           }
          ],
          "scatter3d": [
           {
            "line": {
             "colorbar": {
              "outlinewidth": 0,
              "ticks": ""
             }
            },
            "marker": {
             "colorbar": {
              "outlinewidth": 0,
              "ticks": ""
             }
            },
            "type": "scatter3d"
           }
          ],
          "scattercarpet": [
           {
            "marker": {
             "colorbar": {
              "outlinewidth": 0,
              "ticks": ""
             }
            },
            "type": "scattercarpet"
           }
          ],
          "scattergeo": [
           {
            "marker": {
             "colorbar": {
              "outlinewidth": 0,
              "ticks": ""
             }
            },
            "type": "scattergeo"
           }
          ],
          "scattergl": [
           {
            "marker": {
             "line": {
              "color": "#283442"
             }
            },
            "type": "scattergl"
           }
          ],
          "scattermapbox": [
           {
            "marker": {
             "colorbar": {
              "outlinewidth": 0,
              "ticks": ""
             }
            },
            "type": "scattermapbox"
           }
          ],
          "scatterpolar": [
           {
            "marker": {
             "colorbar": {
              "outlinewidth": 0,
              "ticks": ""
             }
            },
            "type": "scatterpolar"
           }
          ],
          "scatterpolargl": [
           {
            "marker": {
             "colorbar": {
              "outlinewidth": 0,
              "ticks": ""
             }
            },
            "type": "scatterpolargl"
           }
          ],
          "scatterternary": [
           {
            "marker": {
             "colorbar": {
              "outlinewidth": 0,
              "ticks": ""
             }
            },
            "type": "scatterternary"
           }
          ],
          "surface": [
           {
            "colorbar": {
             "outlinewidth": 0,
             "ticks": ""
            },
            "colorscale": [
             [
              0,
              "#0d0887"
             ],
             [
              0.1111111111111111,
              "#46039f"
             ],
             [
              0.2222222222222222,
              "#7201a8"
             ],
             [
              0.3333333333333333,
              "#9c179e"
             ],
             [
              0.4444444444444444,
              "#bd3786"
             ],
             [
              0.5555555555555556,
              "#d8576b"
             ],
             [
              0.6666666666666666,
              "#ed7953"
             ],
             [
              0.7777777777777778,
              "#fb9f3a"
             ],
             [
              0.8888888888888888,
              "#fdca26"
             ],
             [
              1,
              "#f0f921"
             ]
            ],
            "type": "surface"
           }
          ],
          "table": [
           {
            "cells": {
             "fill": {
              "color": "#506784"
             },
             "line": {
              "color": "rgb(17,17,17)"
             }
            },
            "header": {
             "fill": {
              "color": "#2a3f5f"
             },
             "line": {
              "color": "rgb(17,17,17)"
             }
            },
            "type": "table"
           }
          ]
         },
         "layout": {
          "annotationdefaults": {
           "arrowcolor": "#f2f5fa",
           "arrowhead": 0,
           "arrowwidth": 1
          },
          "autotypenumbers": "strict",
          "coloraxis": {
           "colorbar": {
            "outlinewidth": 0,
            "ticks": ""
           }
          },
          "colorscale": {
           "diverging": [
            [
             0,
             "#8e0152"
            ],
            [
             0.1,
             "#c51b7d"
            ],
            [
             0.2,
             "#de77ae"
            ],
            [
             0.3,
             "#f1b6da"
            ],
            [
             0.4,
             "#fde0ef"
            ],
            [
             0.5,
             "#f7f7f7"
            ],
            [
             0.6,
             "#e6f5d0"
            ],
            [
             0.7,
             "#b8e186"
            ],
            [
             0.8,
             "#7fbc41"
            ],
            [
             0.9,
             "#4d9221"
            ],
            [
             1,
             "#276419"
            ]
           ],
           "sequential": [
            [
             0,
             "#0d0887"
            ],
            [
             0.1111111111111111,
             "#46039f"
            ],
            [
             0.2222222222222222,
             "#7201a8"
            ],
            [
             0.3333333333333333,
             "#9c179e"
            ],
            [
             0.4444444444444444,
             "#bd3786"
            ],
            [
             0.5555555555555556,
             "#d8576b"
            ],
            [
             0.6666666666666666,
             "#ed7953"
            ],
            [
             0.7777777777777778,
             "#fb9f3a"
            ],
            [
             0.8888888888888888,
             "#fdca26"
            ],
            [
             1,
             "#f0f921"
            ]
           ],
           "sequentialminus": [
            [
             0,
             "#0d0887"
            ],
            [
             0.1111111111111111,
             "#46039f"
            ],
            [
             0.2222222222222222,
             "#7201a8"
            ],
            [
             0.3333333333333333,
             "#9c179e"
            ],
            [
             0.4444444444444444,
             "#bd3786"
            ],
            [
             0.5555555555555556,
             "#d8576b"
            ],
            [
             0.6666666666666666,
             "#ed7953"
            ],
            [
             0.7777777777777778,
             "#fb9f3a"
            ],
            [
             0.8888888888888888,
             "#fdca26"
            ],
            [
             1,
             "#f0f921"
            ]
           ]
          },
          "colorway": [
           "#636efa",
           "#EF553B",
           "#00cc96",
           "#ab63fa",
           "#FFA15A",
           "#19d3f3",
           "#FF6692",
           "#B6E880",
           "#FF97FF",
           "#FECB52"
          ],
          "font": {
           "color": "#f2f5fa"
          },
          "geo": {
           "bgcolor": "rgb(17,17,17)",
           "lakecolor": "rgb(17,17,17)",
           "landcolor": "rgb(17,17,17)",
           "showlakes": true,
           "showland": true,
           "subunitcolor": "#506784"
          },
          "hoverlabel": {
           "align": "left"
          },
          "hovermode": "closest",
          "mapbox": {
           "style": "dark"
          },
          "paper_bgcolor": "rgb(17,17,17)",
          "plot_bgcolor": "rgb(17,17,17)",
          "polar": {
           "angularaxis": {
            "gridcolor": "#506784",
            "linecolor": "#506784",
            "ticks": ""
           },
           "bgcolor": "rgb(17,17,17)",
           "radialaxis": {
            "gridcolor": "#506784",
            "linecolor": "#506784",
            "ticks": ""
           }
          },
          "scene": {
           "xaxis": {
            "backgroundcolor": "rgb(17,17,17)",
            "gridcolor": "#506784",
            "gridwidth": 2,
            "linecolor": "#506784",
            "showbackground": true,
            "ticks": "",
            "zerolinecolor": "#C8D4E3"
           },
           "yaxis": {
            "backgroundcolor": "rgb(17,17,17)",
            "gridcolor": "#506784",
            "gridwidth": 2,
            "linecolor": "#506784",
            "showbackground": true,
            "ticks": "",
            "zerolinecolor": "#C8D4E3"
           },
           "zaxis": {
            "backgroundcolor": "rgb(17,17,17)",
            "gridcolor": "#506784",
            "gridwidth": 2,
            "linecolor": "#506784",
            "showbackground": true,
            "ticks": "",
            "zerolinecolor": "#C8D4E3"
           }
          },
          "shapedefaults": {
           "line": {
            "color": "#f2f5fa"
           }
          },
          "sliderdefaults": {
           "bgcolor": "#C8D4E3",
           "bordercolor": "rgb(17,17,17)",
           "borderwidth": 1,
           "tickwidth": 0
          },
          "ternary": {
           "aaxis": {
            "gridcolor": "#506784",
            "linecolor": "#506784",
            "ticks": ""
           },
           "baxis": {
            "gridcolor": "#506784",
            "linecolor": "#506784",
            "ticks": ""
           },
           "bgcolor": "rgb(17,17,17)",
           "caxis": {
            "gridcolor": "#506784",
            "linecolor": "#506784",
            "ticks": ""
           }
          },
          "title": {
           "x": 0.05
          },
          "updatemenudefaults": {
           "bgcolor": "#506784",
           "borderwidth": 0
          },
          "xaxis": {
           "automargin": true,
           "gridcolor": "#283442",
           "linecolor": "#506784",
           "ticks": "",
           "title": {
            "standoff": 15
           },
           "zerolinecolor": "#283442",
           "zerolinewidth": 2
          },
          "yaxis": {
           "automargin": true,
           "gridcolor": "#283442",
           "linecolor": "#506784",
           "ticks": "",
           "title": {
            "standoff": 15
           },
           "zerolinecolor": "#283442",
           "zerolinewidth": 2
          }
         }
        },
        "title": {
         "text": "OHLC vs Prediction Over Time"
        },
        "xaxis": {
         "rangeslider": {
          "visible": false
         }
        },
        "yaxis": {
         "tickformat": ".0f"
        },
        "yaxis2": {
         "overlaying": "y",
         "side": "right",
         "tickformat": ".0%"
        }
       }
      }
     },
     "metadata": {},
     "output_type": "display_data"
    }
   ],
   "source": [
    "test_df = df_results.loc[test_day:test_day]\n",
    "X_prices = spx_data.loc[test_day:test_day, ['open','high','low','close']]\n",
    "\n",
    "df_viz = test_df.merge(X_prices, left_index=True, right_index=True)\n",
    "\n",
    "fig = go.Figure(data=[go.Candlestick(x=df_viz.index,\n",
    "                open=df_viz['open'],\n",
    "                high=df_viz['high'],\n",
    "                low=df_viz['low'],\n",
    "                close=df_viz['close'])])\n",
    "\n",
    "# fig.add_trace(go.Scatter(x=df_viz.index, y=df_viz['pred_hod'].ewm(2).mean(), mode='lines', name='pred_hod', yaxis='y2', line=dict(color='#ff5f5f')))\n",
    "fig.add_trace(go.Scatter(x=df_viz.index, y=df_viz['pred_hod_cv'], mode='lines', name='pred_hod', yaxis='y2', line=dict(color='#ff5f5f')))\n",
    "fig.add_trace(go.Scatter(x=df_viz.index, y=df_viz['pred_lod_cv'], mode='lines', name='pred_lod', yaxis='y2', line=dict(color='#3399cc')))\n",
    "fig.add_trace(go.Scatter(x=df_viz.index, y=df_viz['pred_gd_cv'], mode='lines', name='pred_lod', yaxis='y2', line=dict(color='#98ff98')))\n",
    "\n",
    "fig.add_shape(\n",
    "    type=\"line\",\n",
    "    x0=df_viz.index.min(),\n",
    "    x1=df_viz.index.max(),\n",
    "    y0=0.5,\n",
    "    y1=0.5,\n",
    "    yref='y2',\n",
    "    line=dict(\n",
    "        color=\"Red\",\n",
    "        width=1.5,\n",
    "        dash=\"dash\",\n",
    "    )\n",
    ")\n",
    "\n",
    "fig.update_layout(\n",
    "    template='plotly_dark',\n",
    "    yaxis=dict(\n",
    "        tickformat='.0f'\n",
    "    ),\n",
    "    yaxis2=dict(\n",
    "        overlaying='y',\n",
    "        side='right',\n",
    "        tickformat=\".0%\"\n",
    "    ),\n",
    "    legend=dict(\n",
    "        orientation=\"h\",\n",
    "        yanchor=\"bottom\",\n",
    "        y=1.02,\n",
    "        xanchor=\"right\",\n",
    "        x=1\n",
    "    ),\n",
    "    title='OHLC vs Prediction Over Time',\n",
    "    xaxis_rangeslider_visible=False\n",
    ")\n",
    "\n",
    "fig.show()"
   ]
  },
  {
   "cell_type": "code",
   "execution_count": 118,
   "metadata": {},
   "outputs": [
    {
     "ename": "NameError",
     "evalue": "name 'XXX' is not defined",
     "output_type": "error",
     "traceback": [
      "\u001b[1;31m---------------------------------------------------------------------------\u001b[0m",
      "\u001b[1;31mNameError\u001b[0m                                 Traceback (most recent call last)",
      "Cell \u001b[1;32mIn[118], line 1\u001b[0m\n\u001b[1;32m----> 1\u001b[0m \u001b[43mXXX\u001b[49m\n",
      "\u001b[1;31mNameError\u001b[0m: name 'XXX' is not defined"
     ]
    }
   ],
   "source": [
    "XXX"
   ]
  },
  {
   "cell_type": "markdown",
   "metadata": {},
   "source": [
    "# Inference Pipeline"
   ]
  },
  {
   "cell_type": "code",
   "execution_count": null,
   "metadata": {},
   "outputs": [],
   "source": [
    "# Get data\n",
    "import yfinance as yf\n",
    "import numpy as np\n",
    "import pandas as pd\n",
    "import datetime\n",
    "\n",
    "# Create a list of times from 9:30 to 15:55 with 5 minute intervals\n",
    "times = pd.date_range(start=\"9:30\", end=\"15:55\", freq='5min').time\n",
    "\n",
    "# Create a dictionary that maps each time to a unique integer\n",
    "time_to_int = {time: i+1 for i, time in enumerate(times)}\n",
    "\n",
    "\n",
    "def create_features(ticker_str):\n",
    "    '''\n",
    "    Function to create dataframe of features for top/bottom model.\n",
    "    '''\n",
    "    ticker = yf.Ticker(ticker_str)\n",
    "    df = ticker.history(period='5d',interval='5m')\n",
    "    df = df.loc[\n",
    "        (df.index.time >= datetime.time(9,30)) &\\\n",
    "        (df.index.time < datetime.time(16,0)),\n",
    "    ['Open','High','Low','Close']]\n",
    "    df.columns = ['open','high','low','close']\n",
    "\n",
    "    df['time'] = df.index.time\n",
    "    df['eod_close'] = df.groupby(df.index.date)['close'].tail(1)\n",
    "    df['prev_close'] = df['eod_close'].shift(1)\n",
    "    df['prev_close'] = df['prev_close'].ffill()\n",
    "    df['eod_close'] = df['eod_close'].bfill()\n",
    "    df['green_day'] = df['eod_close'] > df['prev_close']\n",
    "\n",
    "    # Assume df is your DataFrame and 'time' is your column of times\n",
    "    df['bar_num'] = df['time'].map(time_to_int)\n",
    "\n",
    "    df['eod_close_pts'] = df['eod_close'] - df['prev_close']\n",
    "    df['eod_close_pct'] = df['eod_close_pts'] / df['prev_close']\n",
    "\n",
    "    for day in sorted(set(df.index.date)):\n",
    "        day_str = datetime.datetime.strftime(day, '%Y-%m-%d')\n",
    "        day_open = df.loc[day_str, 'open'].iloc[0]\n",
    "        df.loc[day_str, 'lod'] = df.loc[day_str, 'low'].min()\n",
    "        df.loc[day_str, 'label_lod'] = (df.loc[day_str, 'low'] == df.loc[day_str, 'lod']).astype(int)\n",
    "        \n",
    "        df.loc[day_str, 'hod'] = df.loc[day_str, 'high'].max()\n",
    "        df.loc[day_str, 'label'] = (df.loc[day_str, 'high'] == df.loc[day_str, 'hod']).astype(int)\n",
    "        df.loc[day_str, 'day_open'] = day_open\n",
    "        df.loc[day_str, 'day_open_pts'] = df.loc[day_str, 'close'] - df.loc[day_str, 'day_open']\n",
    "        df.loc[day_str, 'day_open_pct'] = df.loc[day_str, 'day_open_pts'] / df.loc[day_str, 'day_open']\n",
    "        df.loc[day_str, 'prev_close_pts'] = df.loc[day_str, 'close'] - df.loc[day_str, 'prev_close']\n",
    "        df.loc[day_str, 'prev_close_pct'] = df.loc[day_str, 'prev_close_pts'] / df.loc[day_str, 'prev_close']\n",
    "\n",
    "        # Lowest low\n",
    "        df.loc[day_str, 'lowest_low'] = df.loc[day_str, 'low'].expanding().min()\n",
    "        df.loc[day_str, 'lowest_low'] = df.loc[day_str, 'lowest_low'].shift(1)\n",
    "        df.loc[day_str, 'lowest_low'] = df.loc[day_str, 'lowest_low'].ffill()\n",
    "        df.loc[day_str, 'lowest_low_mag'] = (df.loc[day_str, 'close'] / df.loc[day_str, 'lowest_low']) - 1\n",
    "\n",
    "        # Highest high\n",
    "        df.loc[day_str, 'highest_high'] = df.loc[day_str, 'high'].expanding().max()\n",
    "        df.loc[day_str, 'highest_high'] = df.loc[day_str, 'highest_high'].shift(1)\n",
    "        df.loc[day_str, 'highest_high'] = df.loc[day_str, 'highest_high'].ffill()\n",
    "        df.loc[day_str, 'highest_high_mag'] = (df.loc[day_str, 'close'] / df.loc[day_str, 'highest_high']) - 1\n",
    "\n",
    "        # Shifted\n",
    "        df.loc[day_str, 'prev_close_pct_n1'] = df.loc[day_str, 'prev_close_pct'].shift(1)\n",
    "        df.loc[day_str, 'prev_close_pct_n2'] = df.loc[day_str, 'prev_close_pct'].shift(2)\n",
    "        df.loc[day_str, 'prev_close_pct_n3'] = df.loc[day_str, 'prev_close_pct'].shift(3)\n",
    "\n",
    "        df.loc[day_str, 'day_open_pct_n1'] = df.loc[day_str, 'day_open_pct'].shift(1)\n",
    "        df.loc[day_str, 'day_open_pct_n2'] = df.loc[day_str, 'day_open_pct'].shift(2)\n",
    "        df.loc[day_str, 'day_open_pct_n3'] = df.loc[day_str, 'day_open_pct'].shift(3)\n",
    "\n",
    "        # New Features\n",
    "        df.loc[day_str, 'open_slope'] = df.loc[day_str, 'day_open_pct'] / df.loc[day_str, 'bar_num']\n",
    "        df.loc[day_str, 'daily_slope'] = df.loc[day_str, 'prev_close_pct'] / df.loc[day_str, 'bar_num']\n",
    "\n",
    "        df.loc[day_str, 'highest_high_slope'] = (df.loc[day_str, 'close'] - df.loc[day_str, 'highest_high']) / df.loc[day_str, 'bar_num']\n",
    "        df.loc[day_str, 'lowest_low_slope'] = (df.loc[day_str, 'close'] - df.loc[day_str, 'lowest_low']) / df.loc[day_str, 'bar_num']\n",
    "    \n",
    "        \n",
    "    df['gap_open'] = df['day_open'] - df['prev_close']\n",
    "    df['gap_open_pct'] = df['gap_open'] / df['prev_close']\n",
    "    df = df.dropna(subset=[\n",
    "        'prev_close_pct',\n",
    "        'gap_open_pct',\n",
    "        'day_open_pct_n3',\n",
    "        'prev_close_pct_n3'\n",
    "    ])\n",
    "    df = df.loc[(df['time'] < datetime.time(16,0)) & (df['time'] >= datetime.time(9,45))]\n",
    "    return df"
   ]
  },
  {
   "cell_type": "code",
   "execution_count": null,
   "metadata": {},
   "outputs": [],
   "source": [
    "import joblib\n",
    "\n",
    "df_feats = create_features(tck)"
   ]
  },
  {
   "cell_type": "code",
   "execution_count": null,
   "metadata": {},
   "outputs": [],
   "source": [
    "\n",
    "hod_model1 = joblib.load(ticker_dict[tck]['hod_model'])\n",
    "lod_model1 = joblib.load(ticker_dict[tck]['lod_model'])\n",
    "gd_model1 = joblib.load(ticker_dict[tck]['gd_model'])\n",
    "\n",
    "def create_preds_df(df_feats):\n",
    "    predicted_proba_hod = hod_model1.predict_proba(df_feats)[:,-1]\n",
    "    predicted_proba_lod = lod_model1.predict_proba(df_feats)[:,-1]\n",
    "    predicted_proba_gd = gd_model1.predict_proba(df_feats)[:,-1]\n",
    "    df_viz = df_feats.copy()\n",
    "    df_viz['pred_hod'] = predicted_proba_hod\n",
    "    df_viz['pred_lod'] = predicted_proba_lod\n",
    "    df_viz['pred_gd'] = predicted_proba_gd\n",
    "    return df_viz\n",
    "\n",
    "df_viz = create_preds_df(df_feats)"
   ]
  },
  {
   "cell_type": "code",
   "execution_count": null,
   "metadata": {},
   "outputs": [],
   "source": [
    "# Create df for visual\n",
    "def create_viz(df_viz, date_str):\n",
    "\n",
    "    df_use = df_viz.loc[date_str:date_str]\n",
    "    \n",
    "    fig = go.Figure(data=[go.Candlestick(x=df_use.index,\n",
    "                open=df_use['open'],\n",
    "                high=df_use['high'],\n",
    "                low=df_use['low'],\n",
    "                close=df_use['close'])])\n",
    "\n",
    "    fig.add_trace(go.Scatter(x=df_use.index, y=df_use['pred_hod'], mode='lines', name='pred_hod', yaxis='y2', line=dict(color='#ff5f5f')))\n",
    "    fig.add_trace(go.Scatter(x=df_use.index, y=df_use['pred_lod'], mode='lines', name='pred_lod', yaxis='y2', line=dict(color='#3399cc')))\n",
    "    fig.add_trace(go.Scatter(x=df_use.index, y=df_use['pred_gd'], mode='lines', name='pred_gd', yaxis='y2', line=dict(color='#9400d3')))\n",
    "\n",
    "\n",
    "    fig.add_shape(\n",
    "        type=\"line\",\n",
    "        x0=df_use.index.min(),\n",
    "        x1=df_use.index.max(),\n",
    "        y0=0.5,\n",
    "        y1=0.5,\n",
    "        yref='y2',\n",
    "        line=dict(\n",
    "            color=\"Red\",\n",
    "            width=1.5,\n",
    "            dash=\"dash\",\n",
    "        )\n",
    "    )\n",
    "\n",
    "    max_high = df_use['high'].max()\n",
    "    max_high_time = df_use['high'].idxmax()\n",
    "\n",
    "    min_low = df_use['low'].min()\n",
    "    min_low_time = df_use['low'].idxmin()\n",
    "\n",
    "    fig.add_annotation(\n",
    "        x=max_high_time,\n",
    "        y=max_high,\n",
    "        text=f\"{str(int(max_high))}\",\n",
    "        showarrow=True,\n",
    "        font=dict(\n",
    "            family=\"Courier New, monospace\",\n",
    "            size=12,\n",
    "            color=\"#ffffff\"\n",
    "        ),\n",
    "        align=\"center\",\n",
    "        arrowhead=2,\n",
    "        arrowsize=1,\n",
    "        arrowwidth=2,\n",
    "        arrowcolor=\"#636363\",\n",
    "        ax=20,\n",
    "        ay=-30,\n",
    "        bordercolor=\"#c7c7c7\",\n",
    "        borderwidth=1,\n",
    "        borderpad=1,\n",
    "        bgcolor=\"#ff5f5f\",\n",
    "        opacity=0.8\n",
    "    )\n",
    "\n",
    "    fig.add_annotation(\n",
    "        x=min_low_time,\n",
    "        y=min_low,\n",
    "        text=f\"{str(int(min_low))}\",\n",
    "        showarrow=True,\n",
    "        font=dict(\n",
    "            family=\"Courier New, monospace\",\n",
    "            size=12,\n",
    "            color=\"#ffffff\"\n",
    "        ),\n",
    "        align=\"center\",\n",
    "        arrowhead=2,\n",
    "        arrowsize=1,\n",
    "        arrowwidth=2,\n",
    "        arrowcolor=\"#636363\",\n",
    "        ax=20,\n",
    "        ay=30,  # Adjust the y offset for the annotation\n",
    "        bordercolor=\"#c7c7c7\",\n",
    "        borderwidth=1,\n",
    "        borderpad=1,\n",
    "        bgcolor=\"#3399cc\",\n",
    "        opacity=0.8\n",
    "    )\n",
    "\n",
    "    fig.update_layout(\n",
    "        template='plotly_dark',\n",
    "        yaxis=dict(\n",
    "            tickformat='.0f'\n",
    "        ),\n",
    "        yaxis2=dict(\n",
    "            overlaying='y',\n",
    "            side='right',\n",
    "            tickformat=\".0%\"\n",
    "        ),\n",
    "        legend=dict(\n",
    "            orientation=\"h\",\n",
    "            yanchor=\"bottom\",\n",
    "            y=1.02,\n",
    "            xanchor=\"right\",\n",
    "            x=1\n",
    "        ),\n",
    "        title='OHLC vs Prediction Over Time',\n",
    "        xaxis_rangeslider_visible=False\n",
    "    )\n",
    "\n",
    "    fig.show()\n",
    "    "
   ]
  },
  {
   "cell_type": "code",
   "execution_count": null,
   "metadata": {},
   "outputs": [],
   "source": [
    "df_viz"
   ]
  },
  {
   "cell_type": "code",
   "execution_count": null,
   "metadata": {},
   "outputs": [],
   "source": [
    "create_viz(df_viz, '2024-01-10')"
   ]
  },
  {
   "cell_type": "code",
   "execution_count": null,
   "metadata": {},
   "outputs": [],
   "source": [
    "XXX"
   ]
  },
  {
   "cell_type": "code",
   "execution_count": null,
   "metadata": {},
   "outputs": [],
   "source": []
  },
  {
   "cell_type": "markdown",
   "metadata": {},
   "source": []
  }
 ],
 "metadata": {
  "kernelspec": {
   "display_name": ".venv",
   "language": "python",
   "name": "python3"
  },
  "language_info": {
   "codemirror_mode": {
    "name": "ipython",
    "version": 3
   },
   "file_extension": ".py",
   "mimetype": "text/x-python",
   "name": "python",
   "nbconvert_exporter": "python",
   "pygments_lexer": "ipython3",
   "version": "3.10.11"
  }
 },
 "nbformat": 4,
 "nbformat_minor": 2
}
