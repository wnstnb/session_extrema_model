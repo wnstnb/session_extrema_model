{
 "cells": [
  {
   "cell_type": "code",
   "execution_count": 1,
   "metadata": {},
   "outputs": [],
   "source": [
    "from dbConn import engine\n",
    "import pandas as pd\n",
    "import numpy as np\n",
    "from tqdm import tqdm"
   ]
  },
  {
   "cell_type": "code",
   "execution_count": 2,
   "metadata": {},
   "outputs": [],
   "source": [
    "base_query = '''\n",
    "SELECT \n",
    "    spx.Datetime,\n",
    "    spx.Open AS Open_SPX,\n",
    "    spx.High AS High_SPX,\n",
    "    spx.Low AS Low_SPX,\n",
    "    spx.Close AS Close_SPX,\n",
    "    ndx.Open AS Open_NDX,\n",
    "    ndx.High AS High_NDX,\n",
    "    ndx.Low AS Low_NDX,\n",
    "    ndx.Close AS Close_NDX,\n",
    "    rut.Open AS Open_RUT,\n",
    "    rut.High AS High_RUT,\n",
    "    rut.Low AS Low_RUT,\n",
    "    rut.Close AS Close_RUT\n",
    "    FROM (\n",
    "    SELECT * FROM SPX_full_5min\n",
    "    ) spx\n",
    "    JOIN (\n",
    "    SELECT * FROM NDX_full_5min\n",
    "    ) ndx ON spx.Datetime = ndx.Datetime\n",
    "    LEFT JOIN (\n",
    "    SELECT * FROM RUT_full_5min\n",
    "    ) rut ON spx.Datetime = rut.Datetime\n",
    "-- WHERE spx.Datetime >= '2018-01-01'\n",
    "'''\n",
    "\n",
    "# Initialize variables for pagination\n",
    "offset = 0\n",
    "limit = 50000\n",
    "data_frames = []\n",
    "\n",
    "while True:\n",
    "    # Construct the query with LIMIT and OFFSET\n",
    "    query = f\"{base_query} LIMIT {limit} OFFSET {offset}\"\n",
    "    \n",
    "    # Fetch the chunk of data\n",
    "    df_chunk = pd.read_sql_query(query, con = engine.connect())\n",
    "    \n",
    "    # Break the loop if no more data is returned\n",
    "    if df_chunk.empty:\n",
    "        break\n",
    "\n",
    "    # Append the chunk to the list of dataframes\n",
    "    data_frames.append(df_chunk)\n",
    "\n",
    "    # Update the offset for the next query\n",
    "    offset += limit\n",
    "\n",
    "# Concatenate all dataframes\n",
    "data = pd.concat(data_frames, ignore_index=True)"
   ]
  },
  {
   "cell_type": "code",
   "execution_count": 3,
   "metadata": {},
   "outputs": [
    {
     "data": {
      "text/plain": [
       "332540"
      ]
     },
     "execution_count": 3,
     "metadata": {},
     "output_type": "execute_result"
    }
   ],
   "source": [
    "len(data)"
   ]
  },
  {
   "cell_type": "code",
   "execution_count": 4,
   "metadata": {},
   "outputs": [
    {
     "data": {
      "text/html": [
       "<div>\n",
       "<style scoped>\n",
       "    .dataframe tbody tr th:only-of-type {\n",
       "        vertical-align: middle;\n",
       "    }\n",
       "\n",
       "    .dataframe tbody tr th {\n",
       "        vertical-align: top;\n",
       "    }\n",
       "\n",
       "    .dataframe thead th {\n",
       "        text-align: right;\n",
       "    }\n",
       "</style>\n",
       "<table border=\"1\" class=\"dataframe\">\n",
       "  <thead>\n",
       "    <tr style=\"text-align: right;\">\n",
       "      <th></th>\n",
       "      <th>Datetime</th>\n",
       "      <th>Open_SPX</th>\n",
       "      <th>High_SPX</th>\n",
       "      <th>Low_SPX</th>\n",
       "      <th>Close_SPX</th>\n",
       "      <th>Open_NDX</th>\n",
       "      <th>High_NDX</th>\n",
       "      <th>Low_NDX</th>\n",
       "      <th>Close_NDX</th>\n",
       "      <th>Open_RUT</th>\n",
       "      <th>High_RUT</th>\n",
       "      <th>Low_RUT</th>\n",
       "      <th>Close_RUT</th>\n",
       "    </tr>\n",
       "  </thead>\n",
       "  <tbody>\n",
       "    <tr>\n",
       "      <th>0</th>\n",
       "      <td>2007-04-27 12:20:00</td>\n",
       "      <td>1492.19</td>\n",
       "      <td>1492.40</td>\n",
       "      <td>1492.19</td>\n",
       "      <td>1492.38</td>\n",
       "      <td>1887.90</td>\n",
       "      <td>1887.91</td>\n",
       "      <td>1886.97</td>\n",
       "      <td>1887.65</td>\n",
       "      <td>829.54</td>\n",
       "      <td>829.55</td>\n",
       "      <td>829.35</td>\n",
       "      <td>829.41</td>\n",
       "    </tr>\n",
       "    <tr>\n",
       "      <th>1</th>\n",
       "      <td>2007-04-27 12:25:00</td>\n",
       "      <td>1492.39</td>\n",
       "      <td>1492.91</td>\n",
       "      <td>1492.39</td>\n",
       "      <td>1492.87</td>\n",
       "      <td>1887.72</td>\n",
       "      <td>1888.32</td>\n",
       "      <td>1887.72</td>\n",
       "      <td>1888.27</td>\n",
       "      <td>829.42</td>\n",
       "      <td>829.68</td>\n",
       "      <td>829.42</td>\n",
       "      <td>829.68</td>\n",
       "    </tr>\n",
       "    <tr>\n",
       "      <th>2</th>\n",
       "      <td>2007-04-27 12:30:00</td>\n",
       "      <td>1492.54</td>\n",
       "      <td>1492.80</td>\n",
       "      <td>1492.53</td>\n",
       "      <td>1492.58</td>\n",
       "      <td>1887.77</td>\n",
       "      <td>1888.68</td>\n",
       "      <td>1887.65</td>\n",
       "      <td>1888.13</td>\n",
       "      <td>829.65</td>\n",
       "      <td>829.84</td>\n",
       "      <td>829.65</td>\n",
       "      <td>829.73</td>\n",
       "    </tr>\n",
       "    <tr>\n",
       "      <th>3</th>\n",
       "      <td>2007-04-27 12:35:00</td>\n",
       "      <td>1492.70</td>\n",
       "      <td>1492.88</td>\n",
       "      <td>1492.30</td>\n",
       "      <td>1492.88</td>\n",
       "      <td>1888.09</td>\n",
       "      <td>1888.24</td>\n",
       "      <td>1887.27</td>\n",
       "      <td>1888.24</td>\n",
       "      <td>829.65</td>\n",
       "      <td>829.65</td>\n",
       "      <td>829.25</td>\n",
       "      <td>829.38</td>\n",
       "    </tr>\n",
       "    <tr>\n",
       "      <th>4</th>\n",
       "      <td>2007-04-27 12:40:00</td>\n",
       "      <td>1492.88</td>\n",
       "      <td>1494.46</td>\n",
       "      <td>1492.88</td>\n",
       "      <td>1493.94</td>\n",
       "      <td>1888.26</td>\n",
       "      <td>1890.01</td>\n",
       "      <td>1888.26</td>\n",
       "      <td>1889.31</td>\n",
       "      <td>829.39</td>\n",
       "      <td>830.08</td>\n",
       "      <td>829.39</td>\n",
       "      <td>830.03</td>\n",
       "    </tr>\n",
       "  </tbody>\n",
       "</table>\n",
       "</div>"
      ],
      "text/plain": [
       "             Datetime  Open_SPX  High_SPX  Low_SPX  Close_SPX  Open_NDX  \\\n",
       "0 2007-04-27 12:20:00   1492.19   1492.40  1492.19    1492.38   1887.90   \n",
       "1 2007-04-27 12:25:00   1492.39   1492.91  1492.39    1492.87   1887.72   \n",
       "2 2007-04-27 12:30:00   1492.54   1492.80  1492.53    1492.58   1887.77   \n",
       "3 2007-04-27 12:35:00   1492.70   1492.88  1492.30    1492.88   1888.09   \n",
       "4 2007-04-27 12:40:00   1492.88   1494.46  1492.88    1493.94   1888.26   \n",
       "\n",
       "   High_NDX  Low_NDX  Close_NDX  Open_RUT  High_RUT  Low_RUT  Close_RUT  \n",
       "0   1887.91  1886.97    1887.65    829.54    829.55   829.35     829.41  \n",
       "1   1888.32  1887.72    1888.27    829.42    829.68   829.42     829.68  \n",
       "2   1888.68  1887.65    1888.13    829.65    829.84   829.65     829.73  \n",
       "3   1888.24  1887.27    1888.24    829.65    829.65   829.25     829.38  \n",
       "4   1890.01  1888.26    1889.31    829.39    830.08   829.39     830.03  "
      ]
     },
     "execution_count": 4,
     "metadata": {},
     "output_type": "execute_result"
    }
   ],
   "source": [
    "data.head()"
   ]
  },
  {
   "cell_type": "code",
   "execution_count": 5,
   "metadata": {},
   "outputs": [],
   "source": [
    "data['Date'] = data['Datetime'].dt.date\n",
    "data['Time'] = data['Datetime'].dt.time"
   ]
  },
  {
   "cell_type": "code",
   "execution_count": 6,
   "metadata": {},
   "outputs": [
    {
     "data": {
      "text/plain": [
       "Timestamp('2007-04-27 12:20:00')"
      ]
     },
     "execution_count": 6,
     "metadata": {},
     "output_type": "execute_result"
    }
   ],
   "source": [
    "data['Datetime'].min()"
   ]
  },
  {
   "cell_type": "code",
   "execution_count": 7,
   "metadata": {},
   "outputs": [
    {
     "data": {
      "text/plain": [
       "Timestamp('2024-02-06 16:00:00')"
      ]
     },
     "execution_count": 7,
     "metadata": {},
     "output_type": "execute_result"
    }
   ],
   "source": [
    "data['Datetime'].max()"
   ]
  },
  {
   "cell_type": "code",
   "execution_count": 8,
   "metadata": {},
   "outputs": [],
   "source": [
    "import datetime"
   ]
  },
  {
   "cell_type": "markdown",
   "metadata": {},
   "source": [
    "# Start Run Models"
   ]
  },
  {
   "cell_type": "code",
   "execution_count": 9,
   "metadata": {},
   "outputs": [],
   "source": [
    "ticker_dict = {\n",
    "    \"^GSPC\":{\n",
    "        \"hod_model\":\"models/hod_model_spx.joblib\",\n",
    "        \"lod_model\":\"models/lod_model_spx.joblib\",\n",
    "        \"gd_model\":\"models/gd_model_spx.joblib\",\n",
    "        \"hod_model_cv\":\"models/hod_model_cv_spx.joblib\",\n",
    "        \"lod_model_cv\":\"models/lod_model_cv_spx.joblib\",\n",
    "        \"gd_model_cv\":\"models/gd_model_cv_spx.joblib\",\n",
    "        \"suffix\":\"SPX\"\n",
    "    },\n",
    "    \"^NDX\":{\n",
    "        \"hod_model\":\"models/hod_model_ndx.joblib\",\n",
    "        \"lod_model\":\"models/lod_model_ndx.joblib\",\n",
    "        \"gd_model\":\"models/gd_model_ndx.joblib\",\n",
    "        \"hod_model_cv\":\"models/hod_model_cv_ndx.joblib\",\n",
    "        \"lod_model_cv\":\"models/lod_model_cv_ndx.joblib\",\n",
    "        \"gd_model_cv\":\"models/gd_model_cv_ndx.joblib\",\n",
    "        \"suffix\":\"NDX\"\n",
    "    },\n",
    "    \"^RUT\":{\n",
    "        \"hod_model\":\"models/hod_model_rut.joblib\",\n",
    "        \"lod_model\":\"models/lod_model_rut.joblib\",\n",
    "        \"gd_model\":\"models/gd_model_rut.joblib\",\n",
    "        \"suffix\":\"RUT\"\n",
    "    }\n",
    "}\n",
    "\n",
    "tck = '^GSPC'\n",
    "\n",
    "spx_data = data.loc[:,[\n",
    "    'Datetime',\n",
    "    f'Open_{ticker_dict[tck][\"suffix\"]}',\n",
    "    f'High_{ticker_dict[tck][\"suffix\"]}',\n",
    "    f'Low_{ticker_dict[tck][\"suffix\"]}',\n",
    "    f'Close_{ticker_dict[tck][\"suffix\"]}'\n",
    "]]\n",
    "spx_data.columns = ['Datetime','open','high','low','close']\n",
    "spx_data['time'] = spx_data['Datetime'].dt.time\n",
    "spx_data = spx_data.loc[(spx_data['time'] < datetime.time(16,0)) & (spx_data['time'] >= datetime.time(9,30))]"
   ]
  },
  {
   "cell_type": "code",
   "execution_count": 10,
   "metadata": {},
   "outputs": [],
   "source": [
    "spx_data = spx_data.set_index('Datetime')"
   ]
  },
  {
   "cell_type": "code",
   "execution_count": 11,
   "metadata": {},
   "outputs": [],
   "source": [
    "# Create a list of times from 9:30 to 15:55 with 5 minute intervals\n",
    "times = pd.date_range(start=\"9:30\", end=\"15:55\", freq='5min').time\n",
    "\n",
    "# Create a dictionary that maps each time to a unique integer\n",
    "time_to_int = {time: i+1 for i, time in enumerate(times)}\n",
    "\n",
    "# Assume df is your DataFrame and 'time' is your column of times\n",
    "spx_data['bar_num'] = spx_data['time'].map(time_to_int)"
   ]
  },
  {
   "cell_type": "code",
   "execution_count": 12,
   "metadata": {},
   "outputs": [],
   "source": [
    "# Get the last bar of each date\n",
    "spx_data['eod_close'] = spx_data.groupby(spx_data.index.date)['close'].tail(1)\n",
    "spx_data['prev_close'] = spx_data['eod_close'].shift(1)\n",
    "spx_data['prev_close'] = spx_data['prev_close'].ffill()\n",
    "spx_data['eod_close'] = spx_data['eod_close'].bfill()\n",
    "spx_data['green_day'] = spx_data['eod_close'] > spx_data['prev_close']\n",
    "\n",
    "spx_data['eod_close_pts'] = spx_data['eod_close'] - spx_data['prev_close']\n",
    "spx_data['eod_close_pct'] = spx_data['eod_close_pts'] / spx_data['prev_close']"
   ]
  },
  {
   "cell_type": "code",
   "execution_count": 13,
   "metadata": {},
   "outputs": [
    {
     "data": {
      "text/html": [
       "<div>\n",
       "<style scoped>\n",
       "    .dataframe tbody tr th:only-of-type {\n",
       "        vertical-align: middle;\n",
       "    }\n",
       "\n",
       "    .dataframe tbody tr th {\n",
       "        vertical-align: top;\n",
       "    }\n",
       "\n",
       "    .dataframe thead th {\n",
       "        text-align: right;\n",
       "    }\n",
       "</style>\n",
       "<table border=\"1\" class=\"dataframe\">\n",
       "  <thead>\n",
       "    <tr style=\"text-align: right;\">\n",
       "      <th></th>\n",
       "      <th>open</th>\n",
       "      <th>high</th>\n",
       "      <th>low</th>\n",
       "      <th>close</th>\n",
       "      <th>time</th>\n",
       "      <th>bar_num</th>\n",
       "      <th>eod_close</th>\n",
       "      <th>prev_close</th>\n",
       "      <th>green_day</th>\n",
       "      <th>eod_close_pts</th>\n",
       "      <th>eod_close_pct</th>\n",
       "    </tr>\n",
       "    <tr>\n",
       "      <th>Datetime</th>\n",
       "      <th></th>\n",
       "      <th></th>\n",
       "      <th></th>\n",
       "      <th></th>\n",
       "      <th></th>\n",
       "      <th></th>\n",
       "      <th></th>\n",
       "      <th></th>\n",
       "      <th></th>\n",
       "      <th></th>\n",
       "      <th></th>\n",
       "    </tr>\n",
       "  </thead>\n",
       "  <tbody>\n",
       "    <tr>\n",
       "      <th>2007-04-27 12:20:00</th>\n",
       "      <td>1492.19</td>\n",
       "      <td>1492.40</td>\n",
       "      <td>1492.19</td>\n",
       "      <td>1492.38</td>\n",
       "      <td>12:20:00</td>\n",
       "      <td>35</td>\n",
       "      <td>1494.24</td>\n",
       "      <td>NaN</td>\n",
       "      <td>False</td>\n",
       "      <td>NaN</td>\n",
       "      <td>NaN</td>\n",
       "    </tr>\n",
       "    <tr>\n",
       "      <th>2007-04-27 12:25:00</th>\n",
       "      <td>1492.39</td>\n",
       "      <td>1492.91</td>\n",
       "      <td>1492.39</td>\n",
       "      <td>1492.87</td>\n",
       "      <td>12:25:00</td>\n",
       "      <td>36</td>\n",
       "      <td>1494.24</td>\n",
       "      <td>NaN</td>\n",
       "      <td>False</td>\n",
       "      <td>NaN</td>\n",
       "      <td>NaN</td>\n",
       "    </tr>\n",
       "    <tr>\n",
       "      <th>2007-04-27 12:30:00</th>\n",
       "      <td>1492.54</td>\n",
       "      <td>1492.80</td>\n",
       "      <td>1492.53</td>\n",
       "      <td>1492.58</td>\n",
       "      <td>12:30:00</td>\n",
       "      <td>37</td>\n",
       "      <td>1494.24</td>\n",
       "      <td>NaN</td>\n",
       "      <td>False</td>\n",
       "      <td>NaN</td>\n",
       "      <td>NaN</td>\n",
       "    </tr>\n",
       "    <tr>\n",
       "      <th>2007-04-27 12:35:00</th>\n",
       "      <td>1492.70</td>\n",
       "      <td>1492.88</td>\n",
       "      <td>1492.30</td>\n",
       "      <td>1492.88</td>\n",
       "      <td>12:35:00</td>\n",
       "      <td>38</td>\n",
       "      <td>1494.24</td>\n",
       "      <td>NaN</td>\n",
       "      <td>False</td>\n",
       "      <td>NaN</td>\n",
       "      <td>NaN</td>\n",
       "    </tr>\n",
       "    <tr>\n",
       "      <th>2007-04-27 12:40:00</th>\n",
       "      <td>1492.88</td>\n",
       "      <td>1494.46</td>\n",
       "      <td>1492.88</td>\n",
       "      <td>1493.94</td>\n",
       "      <td>12:40:00</td>\n",
       "      <td>39</td>\n",
       "      <td>1494.24</td>\n",
       "      <td>NaN</td>\n",
       "      <td>False</td>\n",
       "      <td>NaN</td>\n",
       "      <td>NaN</td>\n",
       "    </tr>\n",
       "  </tbody>\n",
       "</table>\n",
       "</div>"
      ],
      "text/plain": [
       "                        open     high      low    close      time  bar_num  \\\n",
       "Datetime                                                                     \n",
       "2007-04-27 12:20:00  1492.19  1492.40  1492.19  1492.38  12:20:00       35   \n",
       "2007-04-27 12:25:00  1492.39  1492.91  1492.39  1492.87  12:25:00       36   \n",
       "2007-04-27 12:30:00  1492.54  1492.80  1492.53  1492.58  12:30:00       37   \n",
       "2007-04-27 12:35:00  1492.70  1492.88  1492.30  1492.88  12:35:00       38   \n",
       "2007-04-27 12:40:00  1492.88  1494.46  1492.88  1493.94  12:40:00       39   \n",
       "\n",
       "                     eod_close  prev_close  green_day  eod_close_pts  \\\n",
       "Datetime                                                               \n",
       "2007-04-27 12:20:00    1494.24         NaN      False            NaN   \n",
       "2007-04-27 12:25:00    1494.24         NaN      False            NaN   \n",
       "2007-04-27 12:30:00    1494.24         NaN      False            NaN   \n",
       "2007-04-27 12:35:00    1494.24         NaN      False            NaN   \n",
       "2007-04-27 12:40:00    1494.24         NaN      False            NaN   \n",
       "\n",
       "                     eod_close_pct  \n",
       "Datetime                            \n",
       "2007-04-27 12:20:00            NaN  \n",
       "2007-04-27 12:25:00            NaN  \n",
       "2007-04-27 12:30:00            NaN  \n",
       "2007-04-27 12:35:00            NaN  \n",
       "2007-04-27 12:40:00            NaN  "
      ]
     },
     "execution_count": 13,
     "metadata": {},
     "output_type": "execute_result"
    }
   ],
   "source": [
    "spx_data.head()"
   ]
  },
  {
   "cell_type": "code",
   "execution_count": 14,
   "metadata": {},
   "outputs": [
    {
     "data": {
      "text/html": [
       "<div>\n",
       "<style scoped>\n",
       "    .dataframe tbody tr th:only-of-type {\n",
       "        vertical-align: middle;\n",
       "    }\n",
       "\n",
       "    .dataframe tbody tr th {\n",
       "        vertical-align: top;\n",
       "    }\n",
       "\n",
       "    .dataframe thead th {\n",
       "        text-align: right;\n",
       "    }\n",
       "</style>\n",
       "<table border=\"1\" class=\"dataframe\">\n",
       "  <thead>\n",
       "    <tr style=\"text-align: right;\">\n",
       "      <th></th>\n",
       "      <th>open</th>\n",
       "      <th>high</th>\n",
       "      <th>low</th>\n",
       "      <th>close</th>\n",
       "      <th>time</th>\n",
       "      <th>bar_num</th>\n",
       "      <th>eod_close</th>\n",
       "      <th>prev_close</th>\n",
       "      <th>green_day</th>\n",
       "      <th>eod_close_pts</th>\n",
       "      <th>eod_close_pct</th>\n",
       "    </tr>\n",
       "    <tr>\n",
       "      <th>Datetime</th>\n",
       "      <th></th>\n",
       "      <th></th>\n",
       "      <th></th>\n",
       "      <th></th>\n",
       "      <th></th>\n",
       "      <th></th>\n",
       "      <th></th>\n",
       "      <th></th>\n",
       "      <th></th>\n",
       "      <th></th>\n",
       "      <th></th>\n",
       "    </tr>\n",
       "  </thead>\n",
       "  <tbody>\n",
       "    <tr>\n",
       "      <th>2024-02-06 15:35:00</th>\n",
       "      <td>4942.88</td>\n",
       "      <td>4944.34</td>\n",
       "      <td>4941.66</td>\n",
       "      <td>4942.10</td>\n",
       "      <td>15:35:00</td>\n",
       "      <td>74</td>\n",
       "      <td>4954.24</td>\n",
       "      <td>4942.21</td>\n",
       "      <td>True</td>\n",
       "      <td>12.03</td>\n",
       "      <td>0.002434</td>\n",
       "    </tr>\n",
       "    <tr>\n",
       "      <th>2024-02-06 15:40:00</th>\n",
       "      <td>4942.13</td>\n",
       "      <td>4945.42</td>\n",
       "      <td>4941.85</td>\n",
       "      <td>4943.70</td>\n",
       "      <td>15:40:00</td>\n",
       "      <td>75</td>\n",
       "      <td>4954.24</td>\n",
       "      <td>4942.21</td>\n",
       "      <td>True</td>\n",
       "      <td>12.03</td>\n",
       "      <td>0.002434</td>\n",
       "    </tr>\n",
       "    <tr>\n",
       "      <th>2024-02-06 15:45:00</th>\n",
       "      <td>4943.79</td>\n",
       "      <td>4946.83</td>\n",
       "      <td>4943.13</td>\n",
       "      <td>4945.99</td>\n",
       "      <td>15:45:00</td>\n",
       "      <td>76</td>\n",
       "      <td>4954.24</td>\n",
       "      <td>4942.21</td>\n",
       "      <td>True</td>\n",
       "      <td>12.03</td>\n",
       "      <td>0.002434</td>\n",
       "    </tr>\n",
       "    <tr>\n",
       "      <th>2024-02-06 15:50:00</th>\n",
       "      <td>4945.98</td>\n",
       "      <td>4948.86</td>\n",
       "      <td>4945.98</td>\n",
       "      <td>4947.44</td>\n",
       "      <td>15:50:00</td>\n",
       "      <td>77</td>\n",
       "      <td>4954.24</td>\n",
       "      <td>4942.21</td>\n",
       "      <td>True</td>\n",
       "      <td>12.03</td>\n",
       "      <td>0.002434</td>\n",
       "    </tr>\n",
       "    <tr>\n",
       "      <th>2024-02-06 15:55:00</th>\n",
       "      <td>4947.58</td>\n",
       "      <td>4954.49</td>\n",
       "      <td>4947.58</td>\n",
       "      <td>4954.24</td>\n",
       "      <td>15:55:00</td>\n",
       "      <td>78</td>\n",
       "      <td>4954.24</td>\n",
       "      <td>4942.21</td>\n",
       "      <td>True</td>\n",
       "      <td>12.03</td>\n",
       "      <td>0.002434</td>\n",
       "    </tr>\n",
       "  </tbody>\n",
       "</table>\n",
       "</div>"
      ],
      "text/plain": [
       "                        open     high      low    close      time  bar_num  \\\n",
       "Datetime                                                                     \n",
       "2024-02-06 15:35:00  4942.88  4944.34  4941.66  4942.10  15:35:00       74   \n",
       "2024-02-06 15:40:00  4942.13  4945.42  4941.85  4943.70  15:40:00       75   \n",
       "2024-02-06 15:45:00  4943.79  4946.83  4943.13  4945.99  15:45:00       76   \n",
       "2024-02-06 15:50:00  4945.98  4948.86  4945.98  4947.44  15:50:00       77   \n",
       "2024-02-06 15:55:00  4947.58  4954.49  4947.58  4954.24  15:55:00       78   \n",
       "\n",
       "                     eod_close  prev_close  green_day  eod_close_pts  \\\n",
       "Datetime                                                               \n",
       "2024-02-06 15:35:00    4954.24     4942.21       True          12.03   \n",
       "2024-02-06 15:40:00    4954.24     4942.21       True          12.03   \n",
       "2024-02-06 15:45:00    4954.24     4942.21       True          12.03   \n",
       "2024-02-06 15:50:00    4954.24     4942.21       True          12.03   \n",
       "2024-02-06 15:55:00    4954.24     4942.21       True          12.03   \n",
       "\n",
       "                     eod_close_pct  \n",
       "Datetime                            \n",
       "2024-02-06 15:35:00       0.002434  \n",
       "2024-02-06 15:40:00       0.002434  \n",
       "2024-02-06 15:45:00       0.002434  \n",
       "2024-02-06 15:50:00       0.002434  \n",
       "2024-02-06 15:55:00       0.002434  "
      ]
     },
     "execution_count": 14,
     "metadata": {},
     "output_type": "execute_result"
    }
   ],
   "source": [
    "spx_data.tail()"
   ]
  },
  {
   "cell_type": "markdown",
   "metadata": {},
   "source": [
    "# Feature and Target Creation\n",
    "Target\n",
    "- Whether the current high or low of the **session** has been achieved, based on the close of the most recent 5 min bar. \n",
    "\n",
    "Features\n",
    "- Current and lagged features of each **session**."
   ]
  },
  {
   "cell_type": "code",
   "execution_count": 15,
   "metadata": {},
   "outputs": [
    {
     "name": "stderr",
     "output_type": "stream",
     "text": [
      "100%|██████████| 4223/4223 [02:24<00:00, 29.23it/s]\n"
     ]
    }
   ],
   "source": [
    "import numpy as np\n",
    "import pandas as pd\n",
    "import datetime\n",
    "from pandas.tseries.offsets import BDay\n",
    "from tqdm import tqdm\n",
    "\n",
    "spx_data['label'] = np.nan\n",
    "\n",
    "\n",
    "# Per date, run it.\n",
    "for day in tqdm(sorted(set(spx_data.index.date))):\n",
    "    day_str = datetime.datetime.strftime(day, '%Y-%m-%d')\n",
    "    day_open = spx_data.loc[day_str, 'open'].iloc[0]\n",
    "    spx_data.loc[day_str, 'lod'] = spx_data.loc[day_str, 'low'].min()\n",
    "    spx_data.loc[day_str, 'label_lod'] = (spx_data.loc[day_str, 'low'] == spx_data.loc[day_str, 'lod']).astype(int)\n",
    "    \n",
    "    spx_data.loc[day_str, 'hod'] = spx_data.loc[day_str, 'high'].max()\n",
    "    spx_data.loc[day_str, 'label'] = (spx_data.loc[day_str, 'high'] == spx_data.loc[day_str, 'hod']).astype(int)\n",
    "    spx_data.loc[day_str, 'day_open'] = day_open\n",
    "    spx_data.loc[day_str, 'day_open_pts'] = spx_data.loc[day_str, 'close'] - spx_data.loc[day_str, 'day_open']\n",
    "    spx_data.loc[day_str, 'day_open_pct'] = spx_data.loc[day_str, 'day_open_pts'] / spx_data.loc[day_str, 'day_open']\n",
    "    spx_data.loc[day_str, 'prev_close_pts'] = spx_data.loc[day_str, 'close'] - spx_data.loc[day_str, 'prev_close']\n",
    "    spx_data.loc[day_str, 'prev_close_pct'] = spx_data.loc[day_str, 'prev_close_pts'] / spx_data.loc[day_str, 'prev_close']\n",
    "\n",
    "    # Lowest low\n",
    "    spx_data.loc[day_str, 'lowest_low'] = spx_data.loc[day_str, 'low'].expanding().min()\n",
    "    spx_data.loc[day_str, 'lowest_low'] = spx_data.loc[day_str, 'lowest_low'].shift(1)\n",
    "    spx_data.loc[day_str, 'lowest_low'] = spx_data.loc[day_str, 'lowest_low'].ffill()\n",
    "    spx_data.loc[day_str, 'lowest_low_mag'] = (spx_data.loc[day_str, 'close'] / spx_data.loc[day_str, 'lowest_low']) - 1\n",
    "    spx_data.loc[day_str, 'lowest_low_mag_n1'] = spx_data.loc[day_str, 'lowest_low_mag'].shift(1)\n",
    "    spx_data.loc[day_str, 'lowest_low_mag_n2'] = spx_data.loc[day_str, 'lowest_low_mag'].shift(2)\n",
    "    spx_data.loc[day_str, 'lowest_low_mag_n3'] = spx_data.loc[day_str, 'lowest_low_mag'].shift(3)\n",
    "\n",
    "    # Highest high\n",
    "    spx_data.loc[day_str, 'highest_high'] = spx_data.loc[day_str, 'high'].expanding().max()\n",
    "    spx_data.loc[day_str, 'highest_high'] = spx_data.loc[day_str, 'highest_high'].shift(1)\n",
    "    spx_data.loc[day_str, 'highest_high'] = spx_data.loc[day_str, 'highest_high'].ffill()\n",
    "    spx_data.loc[day_str, 'highest_high_mag'] = (spx_data.loc[day_str, 'close'] / spx_data.loc[day_str, 'highest_high']) - 1\n",
    "    spx_data.loc[day_str, 'highest_high_mag_n1'] = spx_data.loc[day_str, 'highest_high_mag'].shift(1)\n",
    "    spx_data.loc[day_str, 'highest_high_mag_n2'] = spx_data.loc[day_str, 'highest_high_mag'].shift(2)\n",
    "    spx_data.loc[day_str, 'highest_high_mag_n3'] = spx_data.loc[day_str, 'highest_high_mag'].shift(3)\n",
    "\n",
    "    # Shifted\n",
    "    spx_data.loc[day_str, 'prev_close_pct_n1'] = spx_data.loc[day_str, 'prev_close_pct'].shift(1)\n",
    "    spx_data.loc[day_str, 'prev_close_pct_n2'] = spx_data.loc[day_str, 'prev_close_pct'].shift(2)\n",
    "    spx_data.loc[day_str, 'prev_close_pct_n3'] = spx_data.loc[day_str, 'prev_close_pct'].shift(3)\n",
    "\n",
    "    spx_data.loc[day_str, 'day_open_pct_n1'] = spx_data.loc[day_str, 'day_open_pct'].shift(1)\n",
    "    spx_data.loc[day_str, 'day_open_pct_n2'] = spx_data.loc[day_str, 'day_open_pct'].shift(2)\n",
    "    spx_data.loc[day_str, 'day_open_pct_n3'] = spx_data.loc[day_str, 'day_open_pct'].shift(3)\n",
    "\n",
    "    # New Features\n",
    "    spx_data.loc[day_str, 'open_slope'] = spx_data.loc[day_str, 'day_open_pct'] / spx_data.loc[day_str, 'bar_num']\n",
    "    spx_data.loc[day_str, 'daily_slope'] = spx_data.loc[day_str, 'prev_close_pct'] / spx_data.loc[day_str, 'bar_num']\n",
    "    spx_data.loc[day_str, 'highest_high_slope'] = (spx_data.loc[day_str, 'close'] - spx_data.loc[day_str, 'highest_high']) / spx_data.loc[day_str, 'bar_num']\n",
    "    spx_data.loc[day_str, 'lowest_low_slope'] = (spx_data.loc[day_str, 'close'] - spx_data.loc[day_str, 'lowest_low']) / spx_data.loc[day_str, 'bar_num']\n",
    "    # spx_data.loc[day_str, 'day_range_pct'] = (spx_data.loc[day_str, ['highest_high','prev_close']].max(axis=1) - spx_data.loc[day_str, ['lowest_low','prev_close']].min(axis=1)) / spx_data.loc[day_str, 'prev_close']\n",
    "    # spx_data.loc[day_str, 'day_range_pct_n1'] = spx_data.loc[day_str, 'day_range_pct'].shift(1)\n",
    "    # spx_data.loc[day_str, 'day_range_pct_n2'] = spx_data.loc[day_str, 'day_range_pct'].shift(2)\n",
    "    # spx_data.loc[day_str, 'day_range_pct_n3'] = spx_data.loc[day_str, 'day_range_pct'].shift(3)\n",
    "\n",
    "    # Label the data: 1 if the current high is the HOD, 0 otherwise\n",
    "\n",
    "    # # Find the index of HOD\n",
    "    # hod_index = spx_data.loc[day_str][spx_data.loc[day_str, 'label'] == 1].index\n",
    "\n",
    "    # # If HOD is found within the first 5 bars, label the first 5 bars as 1\n",
    "    # if not hod_index.empty:\n",
    "    #     hod_index = hod_index[0]  # In case there are multiple, take the first\n",
    "    #     if hod_index <= spx_data.loc[day_str].index[4]:  # Check if HOD is within the first 5 bars\n",
    "    #         spx_data.loc[spx_data.loc[day_str].index[:5], 'label'] = 1\n",
    "    #     else:\n",
    "    #         start_time = spx_data.loc[day_str].index[0]\n",
    "    #         end_time = hod_index\n",
    "    #         # Calculate the start index using Timedelta\n",
    "    #         start_index = end_time - pd.Timedelta(minutes=5 * 4)\n",
    "    #         start_index = max(start_index, start_time)\n",
    "    #         spx_data.loc[start_index:end_time, 'label'] = 1\n",
    "\n",
    "# spx_data.head()\n"
   ]
  },
  {
   "cell_type": "code",
   "execution_count": 16,
   "metadata": {},
   "outputs": [],
   "source": [
    "spx_data['gap_open'] = spx_data['day_open'] - spx_data['prev_close']\n",
    "spx_data['gap_open_pct'] = spx_data['gap_open'] / spx_data['prev_close']"
   ]
  },
  {
   "cell_type": "code",
   "execution_count": 17,
   "metadata": {},
   "outputs": [
    {
     "data": {
      "text/plain": [
       "open                       0\n",
       "high                       0\n",
       "low                        0\n",
       "close                      0\n",
       "time                       0\n",
       "bar_num                    0\n",
       "eod_close                  0\n",
       "prev_close                44\n",
       "green_day                  0\n",
       "eod_close_pts             44\n",
       "eod_close_pct             44\n",
       "label                      0\n",
       "lod                        0\n",
       "label_lod                  0\n",
       "hod                        0\n",
       "day_open                   0\n",
       "day_open_pts               0\n",
       "day_open_pct               0\n",
       "prev_close_pts            44\n",
       "prev_close_pct            44\n",
       "lowest_low              4223\n",
       "lowest_low_mag          4223\n",
       "lowest_low_mag_n1       8446\n",
       "lowest_low_mag_n2      12669\n",
       "lowest_low_mag_n3      16892\n",
       "highest_high            4223\n",
       "highest_high_mag        4223\n",
       "highest_high_mag_n1     8446\n",
       "highest_high_mag_n2    12669\n",
       "highest_high_mag_n3    16892\n",
       "prev_close_pct_n1       4266\n",
       "prev_close_pct_n2       8488\n",
       "prev_close_pct_n3      12710\n",
       "day_open_pct_n1         4223\n",
       "day_open_pct_n2         8446\n",
       "day_open_pct_n3        12669\n",
       "open_slope                 0\n",
       "daily_slope               44\n",
       "highest_high_slope      4223\n",
       "lowest_low_slope        4223\n",
       "gap_open                  44\n",
       "gap_open_pct              44\n",
       "dtype: int64"
      ]
     },
     "execution_count": 17,
     "metadata": {},
     "output_type": "execute_result"
    }
   ],
   "source": [
    "spx_data.isnull().sum()"
   ]
  },
  {
   "cell_type": "code",
   "execution_count": null,
   "metadata": {},
   "outputs": [],
   "source": []
  },
  {
   "cell_type": "code",
   "execution_count": 18,
   "metadata": {},
   "outputs": [
    {
     "name": "stderr",
     "output_type": "stream",
     "text": [
      "328282it [00:09, 35064.18it/s]\n"
     ]
    }
   ],
   "source": [
    "hod_in = []\n",
    "for num, row in tqdm(spx_data.iterrows()):\n",
    "    if row['hod'] == row['high']:\n",
    "        hod_in.append(1)\n",
    "    else:\n",
    "        hod_in.append(np.nan)\n",
    "spx_data['hod_in'] = hod_in"
   ]
  },
  {
   "cell_type": "code",
   "execution_count": 19,
   "metadata": {},
   "outputs": [
    {
     "name": "stderr",
     "output_type": "stream",
     "text": [
      "328282it [00:09, 34062.31it/s]\n"
     ]
    }
   ],
   "source": [
    "lod_in = []\n",
    "for num, row in tqdm(spx_data.iterrows()):\n",
    "    if row['lod'] == row['low']:\n",
    "        lod_in.append(1)\n",
    "    else:\n",
    "        lod_in.append(np.nan)\n",
    "spx_data['lod_in'] = lod_in"
   ]
  },
  {
   "cell_type": "code",
   "execution_count": 20,
   "metadata": {},
   "outputs": [
    {
     "name": "stderr",
     "output_type": "stream",
     "text": [
      "100%|██████████| 4223/4223 [00:14<00:00, 290.21it/s]\n"
     ]
    }
   ],
   "source": [
    "# Per day, ffill for the 1s, and then fillna 0\n",
    "for day in tqdm(sorted(set(spx_data.index.date))):\n",
    "    day_str = datetime.datetime.strftime(day, '%Y-%m-%d')\n",
    "    spx_data.loc[day_str, 'lod_in'] = spx_data.loc[day_str, 'lod_in'].ffill()\n",
    "    spx_data.loc[day_str, 'lod_in'] = spx_data.loc[day_str, 'lod_in'].fillna(0)\n",
    "    spx_data.loc[day_str, 'hod_in'] = spx_data.loc[day_str, 'hod_in'].ffill()\n",
    "    spx_data.loc[day_str, 'hod_in'] = spx_data.loc[day_str, 'hod_in'].fillna(0)"
   ]
  },
  {
   "cell_type": "markdown",
   "metadata": {},
   "source": [
    "# EDA"
   ]
  },
  {
   "cell_type": "code",
   "execution_count": 21,
   "metadata": {},
   "outputs": [
    {
     "data": {
      "image/png": "[encoded data removed]",
      "text/plain": [
       "<Figure size 1100x900 with 2 Axes>"
      ]
     },
     "metadata": {},
     "output_type": "display_data"
    }
   ],
   "source": [
    "# Correlations with HOD\n",
    "import seaborn as sns\n",
    "import matplotlib.pyplot as plt\n",
    "\n",
    "# Compute the correlation matrix\n",
    "\n",
    "num_cols = spx_data.select_dtypes(include='number').columns\n",
    "\n",
    "corr = spx_data[num_cols].corr()\n",
    "\n",
    "# Generate a mask for the upper triangle\n",
    "mask = np.triu(np.ones_like(corr, dtype=bool))\n",
    "\n",
    "# Set up the matplotlib figure\n",
    "f, ax = plt.subplots(figsize=(11, 9))\n",
    "\n",
    "# Generate a custom diverging colormap\n",
    "cmap = sns.diverging_palette(230, 20, as_cmap=True)\n",
    "\n",
    "# Draw the heatmap with the mask and correct aspect ratio\n",
    "sns.heatmap(corr, mask=mask, cmap=cmap, vmax=.3, center=0,\n",
    "            square=True, linewidths=.5, cbar_kws={\"shrink\": .5})\n",
    "plt.title('Correlation Heatmap of SPX Data')\n",
    "plt.show()\n"
   ]
  },
  {
   "cell_type": "code",
   "execution_count": 22,
   "metadata": {},
   "outputs": [
    {
     "name": "stdout",
     "output_type": "stream",
     "text": [
      "count    328238.000000\n",
      "mean          0.000143\n",
      "std           0.003922\n",
      "min          -0.074553\n",
      "25%          -0.000880\n",
      "50%           0.000120\n",
      "75%           0.001344\n",
      "max           0.048610\n",
      "Name: gap_open_pct, dtype: float64\n"
     ]
    },
    {
     "data": {
      "image/png": "[encoded data removed]",
      "text/plain": [
       "<Figure size 640x480 with 1 Axes>"
      ]
     },
     "metadata": {},
     "output_type": "display_data"
    }
   ],
   "source": [
    "import matplotlib.pyplot as plt\n",
    "\n",
    "col = 'gap_open_pct'\n",
    "u = spx_data[col].quantile(0.005)\n",
    "l = spx_data[col].quantile(0.995)\n",
    "print(spx_data[col].describe())\n",
    "datav = spx_data[col].clip(lower=u, upper=l)\n",
    "\n",
    "# Group the data\n",
    "grouped = datav.groupby(spx_data['lod_in'])\n",
    "\n",
    "# Create a new figure\n",
    "plt.figure()\n",
    "\n",
    "# Loop over the groups and plot each one\n",
    "for name, group in grouped:\n",
    "    # Calculate weights for each data point\n",
    "    weights = np.ones_like(group)/float(len(group))\n",
    "\n",
    "    # Plot the histogram with weights\n",
    "    plt.hist(group, weights=weights, bins=30, alpha=0.5, label=str(name))\n",
    "\n",
    "# Set y-axis label\n",
    "plt.ylabel('Percentage')\n",
    "\n",
    "# Add a legend\n",
    "plt.legend(title='Label')\n",
    "\n",
    "# Show the plot\n",
    "plt.show()"
   ]
  },
  {
   "cell_type": "code",
   "execution_count": 23,
   "metadata": {},
   "outputs": [],
   "source": [
    "def get_top_probability(time, prev_close_pct):\n",
    "    '''\n",
    "    Function that returns the historical probability that the top is in, given a time of day and magnitude.\n",
    "    '''\n",
    "    # Filter the data for the given time and magnitude\n",
    "    relevant_data = spx_data[(spx_data['time'] == time) & (spx_data['prev_close_pct'] >= prev_close_pct)]\n",
    "    \n",
    "    # Calculate the probability\n",
    "    top_probability = relevant_data['hod_in'].mean()\n",
    "    # bot_probability = relevant_data['lod_in'].mean()\n",
    "    \n",
    "    return top_probability\n",
    "\n",
    "def get_low_probability(time, prev_close_pct):\n",
    "    '''\n",
    "    Function that returns the historical probability that the low is in, given a time of day and magnitude.\n",
    "    '''\n",
    "    # Filter the data for the given time and magnitude\n",
    "    relevant_data = spx_data[(spx_data['time'] == time) & (spx_data['prev_close_pct'] <= prev_close_pct)]\n",
    "    \n",
    "    # Calculate the probability\n",
    "    probability = relevant_data['lod_in'].mean()\n",
    "    \n",
    "    return probability"
   ]
  },
  {
   "cell_type": "code",
   "execution_count": 24,
   "metadata": {},
   "outputs": [
    {
     "data": {
      "text/plain": [
       "0.6657077100115075"
      ]
     },
     "execution_count": 24,
     "metadata": {},
     "output_type": "execute_result"
    }
   ],
   "source": [
    "time = datetime.time(15,0)\n",
    "prev_close_pct = -0.007\n",
    "# spx_data.loc[(spx_data['time'] == time) & (spx_data['prev_close_pct'] >= prev_close_pct)]\n",
    "get_top_probability(time, prev_close_pct)"
   ]
  },
  {
   "cell_type": "code",
   "execution_count": 25,
   "metadata": {},
   "outputs": [
    {
     "data": {
      "text/plain": [
       "0.48450704225352115"
      ]
     },
     "execution_count": 25,
     "metadata": {},
     "output_type": "execute_result"
    }
   ],
   "source": [
    "get_low_probability(time, prev_close_pct)"
   ]
  },
  {
   "cell_type": "code",
   "execution_count": 26,
   "metadata": {},
   "outputs": [
    {
     "data": {
      "text/html": [
       "<div>\n",
       "<style scoped>\n",
       "    .dataframe tbody tr th:only-of-type {\n",
       "        vertical-align: middle;\n",
       "    }\n",
       "\n",
       "    .dataframe tbody tr th {\n",
       "        vertical-align: top;\n",
       "    }\n",
       "\n",
       "    .dataframe thead th {\n",
       "        text-align: right;\n",
       "    }\n",
       "</style>\n",
       "<table border=\"1\" class=\"dataframe\">\n",
       "  <thead>\n",
       "    <tr style=\"text-align: right;\">\n",
       "      <th></th>\n",
       "      <th>time</th>\n",
       "      <th>hod_in</th>\n",
       "      <th>lod_in</th>\n",
       "      <th>gap_open_pct</th>\n",
       "      <th>open</th>\n",
       "    </tr>\n",
       "    <tr>\n",
       "      <th>Datetime</th>\n",
       "      <th></th>\n",
       "      <th></th>\n",
       "      <th></th>\n",
       "      <th></th>\n",
       "      <th></th>\n",
       "    </tr>\n",
       "  </thead>\n",
       "  <tbody>\n",
       "    <tr>\n",
       "      <th>2007-04-27 12:20:00</th>\n",
       "      <td>12:20:00</td>\n",
       "      <td>0.0</td>\n",
       "      <td>1.0</td>\n",
       "      <td>NaN</td>\n",
       "      <td>1492.19</td>\n",
       "    </tr>\n",
       "    <tr>\n",
       "      <th>2007-04-27 12:25:00</th>\n",
       "      <td>12:25:00</td>\n",
       "      <td>0.0</td>\n",
       "      <td>1.0</td>\n",
       "      <td>NaN</td>\n",
       "      <td>1492.39</td>\n",
       "    </tr>\n",
       "    <tr>\n",
       "      <th>2007-04-27 12:30:00</th>\n",
       "      <td>12:30:00</td>\n",
       "      <td>0.0</td>\n",
       "      <td>1.0</td>\n",
       "      <td>NaN</td>\n",
       "      <td>1492.54</td>\n",
       "    </tr>\n",
       "    <tr>\n",
       "      <th>2007-04-27 12:35:00</th>\n",
       "      <td>12:35:00</td>\n",
       "      <td>0.0</td>\n",
       "      <td>1.0</td>\n",
       "      <td>NaN</td>\n",
       "      <td>1492.70</td>\n",
       "    </tr>\n",
       "    <tr>\n",
       "      <th>2007-04-27 12:40:00</th>\n",
       "      <td>12:40:00</td>\n",
       "      <td>0.0</td>\n",
       "      <td>1.0</td>\n",
       "      <td>NaN</td>\n",
       "      <td>1492.88</td>\n",
       "    </tr>\n",
       "    <tr>\n",
       "      <th>...</th>\n",
       "      <td>...</td>\n",
       "      <td>...</td>\n",
       "      <td>...</td>\n",
       "      <td>...</td>\n",
       "      <td>...</td>\n",
       "    </tr>\n",
       "    <tr>\n",
       "      <th>2024-02-06 15:35:00</th>\n",
       "      <td>15:35:00</td>\n",
       "      <td>1.0</td>\n",
       "      <td>1.0</td>\n",
       "      <td>0.001609</td>\n",
       "      <td>4942.88</td>\n",
       "    </tr>\n",
       "    <tr>\n",
       "      <th>2024-02-06 15:40:00</th>\n",
       "      <td>15:40:00</td>\n",
       "      <td>1.0</td>\n",
       "      <td>1.0</td>\n",
       "      <td>0.001609</td>\n",
       "      <td>4942.13</td>\n",
       "    </tr>\n",
       "    <tr>\n",
       "      <th>2024-02-06 15:45:00</th>\n",
       "      <td>15:45:00</td>\n",
       "      <td>1.0</td>\n",
       "      <td>1.0</td>\n",
       "      <td>0.001609</td>\n",
       "      <td>4943.79</td>\n",
       "    </tr>\n",
       "    <tr>\n",
       "      <th>2024-02-06 15:50:00</th>\n",
       "      <td>15:50:00</td>\n",
       "      <td>1.0</td>\n",
       "      <td>1.0</td>\n",
       "      <td>0.001609</td>\n",
       "      <td>4945.98</td>\n",
       "    </tr>\n",
       "    <tr>\n",
       "      <th>2024-02-06 15:55:00</th>\n",
       "      <td>15:55:00</td>\n",
       "      <td>1.0</td>\n",
       "      <td>1.0</td>\n",
       "      <td>0.001609</td>\n",
       "      <td>4947.58</td>\n",
       "    </tr>\n",
       "  </tbody>\n",
       "</table>\n",
       "<p>328282 rows × 5 columns</p>\n",
       "</div>"
      ],
      "text/plain": [
       "                         time  hod_in  lod_in  gap_open_pct     open\n",
       "Datetime                                                            \n",
       "2007-04-27 12:20:00  12:20:00     0.0     1.0           NaN  1492.19\n",
       "2007-04-27 12:25:00  12:25:00     0.0     1.0           NaN  1492.39\n",
       "2007-04-27 12:30:00  12:30:00     0.0     1.0           NaN  1492.54\n",
       "2007-04-27 12:35:00  12:35:00     0.0     1.0           NaN  1492.70\n",
       "2007-04-27 12:40:00  12:40:00     0.0     1.0           NaN  1492.88\n",
       "...                       ...     ...     ...           ...      ...\n",
       "2024-02-06 15:35:00  15:35:00     1.0     1.0      0.001609  4942.88\n",
       "2024-02-06 15:40:00  15:40:00     1.0     1.0      0.001609  4942.13\n",
       "2024-02-06 15:45:00  15:45:00     1.0     1.0      0.001609  4943.79\n",
       "2024-02-06 15:50:00  15:50:00     1.0     1.0      0.001609  4945.98\n",
       "2024-02-06 15:55:00  15:55:00     1.0     1.0      0.001609  4947.58\n",
       "\n",
       "[328282 rows x 5 columns]"
      ]
     },
     "execution_count": 26,
     "metadata": {},
     "output_type": "execute_result"
    }
   ],
   "source": [
    "spx_data[['time','hod_in','lod_in','gap_open_pct','open']]"
   ]
  },
  {
   "cell_type": "code",
   "execution_count": 27,
   "metadata": {},
   "outputs": [
    {
     "data": {
      "text/plain": [
       "Index(['open', 'high', 'low', 'close', 'time', 'bar_num', 'eod_close',\n",
       "       'prev_close', 'green_day', 'eod_close_pts', 'eod_close_pct', 'label',\n",
       "       'lod', 'label_lod', 'hod', 'day_open', 'day_open_pts', 'day_open_pct',\n",
       "       'prev_close_pts', 'prev_close_pct', 'lowest_low', 'lowest_low_mag',\n",
       "       'lowest_low_mag_n1', 'lowest_low_mag_n2', 'lowest_low_mag_n3',\n",
       "       'highest_high', 'highest_high_mag', 'highest_high_mag_n1',\n",
       "       'highest_high_mag_n2', 'highest_high_mag_n3', 'prev_close_pct_n1',\n",
       "       'prev_close_pct_n2', 'prev_close_pct_n3', 'day_open_pct_n1',\n",
       "       'day_open_pct_n2', 'day_open_pct_n3', 'open_slope', 'daily_slope',\n",
       "       'highest_high_slope', 'lowest_low_slope', 'gap_open', 'gap_open_pct',\n",
       "       'hod_in', 'lod_in'],\n",
       "      dtype='object')"
      ]
     },
     "execution_count": 27,
     "metadata": {},
     "output_type": "execute_result"
    }
   ],
   "source": [
    "spx_data.columns"
   ]
  },
  {
   "cell_type": "markdown",
   "metadata": {},
   "source": [
    "# Pipeline"
   ]
  },
  {
   "cell_type": "code",
   "execution_count": 28,
   "metadata": {},
   "outputs": [],
   "source": [
    "from sklearn.pipeline import Pipeline, make_pipeline\n",
    "from sklearn.compose import ColumnTransformer\n",
    "from sklearn.linear_model import LogisticRegression\n",
    "from sklearn.calibration import CalibratedClassifierCV\n",
    "from catboost import CatBoostClassifier\n",
    "import lightgbm as lgb\n",
    "from sklearn.preprocessing import FunctionTransformer, StandardScaler\n",
    "import datetime\n",
    "\n",
    "# Function to convert time string to seconds past midnight\n",
    "def convert_time_to_seconds(time_series):\n",
    "    return time_series.apply(lambda x: x.hour * 3600 + x.minute * 60 + x.second)\n",
    "\n",
    "def apply_convert_time_to_seconds(x):\n",
    "    return x.apply(convert_time_to_seconds)\n",
    "\n",
    "time_to_seconds = FunctionTransformer(apply_convert_time_to_seconds, validate=False)\n",
    "\n",
    "# Create a column transformer\n",
    "preprocessor = ColumnTransformer(\n",
    "    transformers=[\n",
    "        ('time', make_pipeline(time_to_seconds, StandardScaler()), ['time']),\n",
    "        ('prev_close_pct', StandardScaler(), ['prev_close_pct']),\n",
    "        ('prev_close_pct_n1', StandardScaler(), ['prev_close_pct_n1']),\n",
    "        ('prev_close_pct_n2', StandardScaler(), ['prev_close_pct_n2']),\n",
    "        ('prev_close_pct_n3', StandardScaler(), ['prev_close_pct_n3']),\n",
    "        ('day_open_pct', StandardScaler(), ['day_open_pct']),\n",
    "        ('day_open_pct_n1', StandardScaler(), ['day_open_pct_n1']),\n",
    "        ('day_open_pct_n2', StandardScaler(), ['day_open_pct_n2']),\n",
    "        ('day_open_pct_n3', StandardScaler(), ['day_open_pct_n3']),\n",
    "        ('gap_open_pct', StandardScaler(), ['gap_open_pct']),\n",
    "        ('highest_high_mag', StandardScaler(), ['highest_high_mag']),\n",
    "        # ('highest_high_mag_n1', StandardScaler(), ['highest_high_mag_n1']),\n",
    "        # ('highest_high_mag_n2', StandardScaler(), ['highest_high_mag_n2']),\n",
    "        # ('highest_high_mag_n3', StandardScaler(), ['highest_high_mag_n3']),\n",
    "        ('lowest_low_mag', StandardScaler(), ['lowest_low_mag']),\n",
    "        # ('lowest_low_mag_n1', StandardScaler(), ['lowest_low_mag_n1']),\n",
    "        # ('lowest_low_mag_n2', StandardScaler(), ['lowest_low_mag_n2']),\n",
    "        # ('lowest_low_mag_n3', StandardScaler(), ['lowest_low_mag_n3']),\n",
    "        ('open_slope', StandardScaler(), ['open_slope']),\n",
    "        ('daily_slope', StandardScaler(), ['daily_slope']),\n",
    "        ('highest_high_slope', StandardScaler(), ['highest_high_slope']),\n",
    "        ('lowest_low_slope', StandardScaler(), ['lowest_low_slope']),\n",
    "        # ('day_range_pct', StandardScaler(), ['day_range_pct']),\n",
    "        # ('day_range_pct_n1', StandardScaler(), ['day_range_pct_n1']),\n",
    "        # ('day_range_pct_n2', StandardScaler(), ['day_range_pct_n2']),\n",
    "        # ('day_range_pct_n3', StandardScaler(), ['day_range_pct_n3']),\n",
    "    ])\n",
    "\n",
    "# Create the pipeline\n",
    "pipeline = Pipeline(steps=[\n",
    "    ('preprocessor', preprocessor),\n",
    "    # ('classifier', LogisticRegression())\n",
    "    ('classifier', lgb.LGBMClassifier())\n",
    "    # ('classifier', CatBoostClassifier())\n",
    "    # ('classifier', xgb.XGBClassifier())\n",
    "])\n",
    "\n",
    "df_use = spx_data.dropna(subset=[\n",
    "    'prev_close_pct',\n",
    "    'gap_open_pct',\n",
    "    'day_open_pct_n3',\n",
    "    'prev_close_pct_n3'\n",
    "    ])\n",
    "\n",
    "# Train the model\n",
    "X = df_use[[\n",
    "    'time',\n",
    "    'prev_close_pct',\n",
    "    'prev_close_pct_n1',\n",
    "    'prev_close_pct_n2',\n",
    "    'prev_close_pct_n3',\n",
    "    'day_open_pct',\n",
    "    'day_open_pct_n1',\n",
    "    'day_open_pct_n2',\n",
    "    'day_open_pct_n3',\n",
    "    'gap_open_pct',\n",
    "    'highest_high_mag',\n",
    "    # 'highest_high_mag_n1',\n",
    "    # 'highest_high_mag_n2',\n",
    "    # 'highest_high_mag_n3',\n",
    "    'lowest_low_mag',\n",
    "    # 'lowest_low_mag_n1',\n",
    "    # 'lowest_low_mag_n2',\n",
    "    # 'lowest_low_mag_n3',\n",
    "    'open_slope',\n",
    "    'daily_slope',\n",
    "    'highest_high_slope',\n",
    "    'lowest_low_slope',\n",
    "    # 'day_range_pct',\n",
    "    # 'day_range_pct_n1',\n",
    "    # 'day_range_pct_n2',\n",
    "    # 'day_range_pct_n3'\n",
    "]]\n",
    "y_flags = df_use[['lod_in','hod_in','green_day']]\n",
    "# pipeline.fit(X, y)"
   ]
  },
  {
   "cell_type": "code",
   "execution_count": 29,
   "metadata": {},
   "outputs": [
    {
     "data": {
      "text/plain": [
       "datetime.time(9, 45)"
      ]
     },
     "execution_count": 29,
     "metadata": {},
     "output_type": "execute_result"
    }
   ],
   "source": [
    "X['time'].min()"
   ]
  },
  {
   "cell_type": "code",
   "execution_count": 30,
   "metadata": {},
   "outputs": [],
   "source": [
    "from sklearn.base import clone\n",
    "\n",
    "pipeline_lod = clone(pipeline)\n",
    "pipeline_gd = clone(pipeline)"
   ]
  },
  {
   "cell_type": "markdown",
   "metadata": {},
   "source": [
    "# Data Splits"
   ]
  },
  {
   "cell_type": "code",
   "execution_count": 31,
   "metadata": {},
   "outputs": [],
   "source": [
    "\n",
    "date_idx = int(np.floor(len(X.index.date) * .90))\n",
    "date_idx_test = int(np.floor(len(X.index.date) * .95))\n",
    "cutoff_date_val = X.index.date[date_idx]\n",
    "cutoff_date_test = X.index.date[date_idx_test]\n",
    "# cutoff_date = '2023-05-31'\n",
    "\n",
    "X_train = X.loc[:cutoff_date_test]\n",
    "y_train = y_flags.loc[:cutoff_date_test]\n",
    "# X_val = X.loc[cutoff_date_val:cutoff_date_test]\n",
    "# y_val = y_flags.loc[cutoff_date_val:cutoff_date_test]\n",
    "X_test = X.loc[cutoff_date_test:]\n",
    "y_test = y_flags.loc[cutoff_date_test:]"
   ]
  },
  {
   "cell_type": "code",
   "execution_count": 32,
   "metadata": {},
   "outputs": [
    {
     "name": "stdout",
     "output_type": "stream",
     "text": [
      "2023-04-04\n"
     ]
    }
   ],
   "source": [
    "print(cutoff_date_test)"
   ]
  },
  {
   "cell_type": "code",
   "execution_count": 33,
   "metadata": {},
   "outputs": [
    {
     "data": {
      "text/plain": [
       "299733"
      ]
     },
     "execution_count": 33,
     "metadata": {},
     "output_type": "execute_result"
    }
   ],
   "source": [
    "len(y_train)"
   ]
  },
  {
   "cell_type": "code",
   "execution_count": 34,
   "metadata": {},
   "outputs": [
    {
     "data": {
      "text/plain": [
       "15839"
      ]
     },
     "execution_count": 34,
     "metadata": {},
     "output_type": "execute_result"
    }
   ],
   "source": [
    "len(y_test)"
   ]
  },
  {
   "cell_type": "code",
   "execution_count": 35,
   "metadata": {},
   "outputs": [
    {
     "data": {
      "text/plain": [
       "lod_in       0.637868\n",
       "hod_in       0.557520\n",
       "green_day    0.541629\n",
       "dtype: float64"
      ]
     },
     "execution_count": 35,
     "metadata": {},
     "output_type": "execute_result"
    }
   ],
   "source": [
    "y_train.mean()"
   ]
  },
  {
   "cell_type": "code",
   "execution_count": 36,
   "metadata": {},
   "outputs": [
    {
     "data": {
      "text/plain": [
       "lod_in       0.599280\n",
       "hod_in       0.533493\n",
       "green_day    0.559631\n",
       "dtype: float64"
      ]
     },
     "execution_count": 36,
     "metadata": {},
     "output_type": "execute_result"
    }
   ],
   "source": [
    "y_test.mean()"
   ]
  },
  {
   "cell_type": "code",
   "execution_count": 37,
   "metadata": {},
   "outputs": [
    {
     "data": {
      "text/plain": [
       "time                  0\n",
       "prev_close_pct        0\n",
       "prev_close_pct_n1     0\n",
       "prev_close_pct_n2     0\n",
       "prev_close_pct_n3     0\n",
       "day_open_pct          0\n",
       "day_open_pct_n1       0\n",
       "day_open_pct_n2       0\n",
       "day_open_pct_n3       0\n",
       "gap_open_pct          0\n",
       "highest_high_mag      0\n",
       "lowest_low_mag        0\n",
       "open_slope            0\n",
       "daily_slope           0\n",
       "highest_high_slope    0\n",
       "lowest_low_slope      0\n",
       "dtype: int64"
      ]
     },
     "execution_count": 37,
     "metadata": {},
     "output_type": "execute_result"
    }
   ],
   "source": [
    "X.isnull().sum()"
   ]
  },
  {
   "cell_type": "code",
   "execution_count": 38,
   "metadata": {},
   "outputs": [
    {
     "data": {
      "text/plain": [
       "time                   object\n",
       "prev_close_pct        float64\n",
       "prev_close_pct_n1     float64\n",
       "prev_close_pct_n2     float64\n",
       "prev_close_pct_n3     float64\n",
       "day_open_pct          float64\n",
       "day_open_pct_n1       float64\n",
       "day_open_pct_n2       float64\n",
       "day_open_pct_n3       float64\n",
       "gap_open_pct          float64\n",
       "highest_high_mag      float64\n",
       "lowest_low_mag        float64\n",
       "open_slope            float64\n",
       "daily_slope           float64\n",
       "highest_high_slope    float64\n",
       "lowest_low_slope      float64\n",
       "dtype: object"
      ]
     },
     "execution_count": 38,
     "metadata": {},
     "output_type": "execute_result"
    }
   ],
   "source": [
    "X.dtypes"
   ]
  },
  {
   "cell_type": "code",
   "execution_count": 39,
   "metadata": {},
   "outputs": [
    {
     "name": "stdout",
     "output_type": "stream",
     "text": [
      "[LightGBM] [Info] Number of positive: 167107, number of negative: 132626\n",
      "[LightGBM] [Info] Auto-choosing row-wise multi-threading, the overhead of testing was 0.001672 seconds.\n",
      "You can set `force_row_wise=true` to remove the overhead.\n",
      "And if memory is not enough, you can set `force_col_wise=true`.\n",
      "[LightGBM] [Info] Total Bins 3900\n",
      "[LightGBM] [Info] Number of data points in the train set: 299733, number of used features: 16\n",
      "[LightGBM] [Info] [binary:BoostFromScore]: pavg=0.557520 -> initscore=0.231101\n",
      "[LightGBM] [Info] Start training from score 0.231101\n",
      "[LightGBM] [Info] Number of positive: 191190, number of negative: 108543\n",
      "[LightGBM] [Info] Auto-choosing row-wise multi-threading, the overhead of testing was 0.001687 seconds.\n",
      "You can set `force_row_wise=true` to remove the overhead.\n",
      "And if memory is not enough, you can set `force_col_wise=true`.\n",
      "[LightGBM] [Info] Total Bins 3900\n",
      "[LightGBM] [Info] Number of data points in the train set: 299733, number of used features: 16\n",
      "[LightGBM] [Info] [binary:BoostFromScore]: pavg=0.637868 -> initscore=0.566121\n",
      "[LightGBM] [Info] Start training from score 0.566121\n",
      "[LightGBM] [Info] Number of positive: 162344, number of negative: 137389\n",
      "[LightGBM] [Info] Auto-choosing row-wise multi-threading, the overhead of testing was 0.001782 seconds.\n",
      "You can set `force_row_wise=true` to remove the overhead.\n",
      "And if memory is not enough, you can set `force_col_wise=true`.\n",
      "[LightGBM] [Info] Total Bins 3900\n",
      "[LightGBM] [Info] Number of data points in the train set: 299733, number of used features: 16\n",
      "[LightGBM] [Info] [binary:BoostFromScore]: pavg=0.541629 -> initscore=0.166901\n",
      "[LightGBM] [Info] Start training from score 0.166901\n",
      "[LightGBM] [Info] Number of positive: 27682, number of negative: 22276\n",
      "[LightGBM] [Info] Auto-choosing col-wise multi-threading, the overhead of testing was 0.000977 seconds.\n",
      "You can set `force_col_wise=true` to remove the overhead.\n",
      "[LightGBM] [Info] Total Bins 3900\n",
      "[LightGBM] [Info] Number of data points in the train set: 49958, number of used features: 16\n",
      "[LightGBM] [Info] [binary:BoostFromScore]: pavg=0.554105 -> initscore=0.217273\n",
      "[LightGBM] [Info] Start training from score 0.217273\n",
      "[LightGBM] [Info] Number of positive: 56755, number of negative: 43158\n",
      "[LightGBM] [Info] Auto-choosing col-wise multi-threading, the overhead of testing was 0.002109 seconds.\n",
      "You can set `force_col_wise=true` to remove the overhead.\n",
      "[LightGBM] [Info] Total Bins 3900\n",
      "[LightGBM] [Info] Number of data points in the train set: 99913, number of used features: 16\n",
      "[LightGBM] [Info] [binary:BoostFromScore]: pavg=0.568044 -> initscore=0.273876\n",
      "[LightGBM] [Info] Start training from score 0.273876\n",
      "[LightGBM] [Info] Number of positive: 85028, number of negative: 64840\n",
      "[LightGBM] [Info] Auto-choosing row-wise multi-threading, the overhead of testing was 0.000880 seconds.\n",
      "You can set `force_row_wise=true` to remove the overhead.\n",
      "And if memory is not enough, you can set `force_col_wise=true`.\n",
      "[LightGBM] [Info] Total Bins 3900\n",
      "[LightGBM] [Info] Number of data points in the train set: 149868, number of used features: 16\n",
      "[LightGBM] [Info] [binary:BoostFromScore]: pavg=0.567353 -> initscore=0.271058\n",
      "[LightGBM] [Info] Start training from score 0.271058\n",
      "[LightGBM] [Info] Number of positive: 114088, number of negative: 85735\n",
      "[LightGBM] [Info] Auto-choosing row-wise multi-threading, the overhead of testing was 0.001159 seconds.\n",
      "You can set `force_row_wise=true` to remove the overhead.\n",
      "And if memory is not enough, you can set `force_col_wise=true`.\n",
      "[LightGBM] [Info] Total Bins 3900\n",
      "[LightGBM] [Info] Number of data points in the train set: 199823, number of used features: 16\n",
      "[LightGBM] [Info] [binary:BoostFromScore]: pavg=0.570945 -> initscore=0.285709\n",
      "[LightGBM] [Info] Start training from score 0.285709\n",
      "[LightGBM] [Info] Number of positive: 140690, number of negative: 109088\n",
      "[LightGBM] [Info] Auto-choosing row-wise multi-threading, the overhead of testing was 0.001213 seconds.\n",
      "You can set `force_row_wise=true` to remove the overhead.\n",
      "And if memory is not enough, you can set `force_col_wise=true`.\n",
      "[LightGBM] [Info] Total Bins 3900\n",
      "[LightGBM] [Info] Number of data points in the train set: 249778, number of used features: 16\n",
      "[LightGBM] [Info] [binary:BoostFromScore]: pavg=0.563260 -> initscore=0.254404\n",
      "[LightGBM] [Info] Start training from score 0.254404\n",
      "[LightGBM] [Info] Number of positive: 29394, number of negative: 20564\n",
      "[LightGBM] [Info] Auto-choosing col-wise multi-threading, the overhead of testing was 0.001016 seconds.\n",
      "You can set `force_col_wise=true` to remove the overhead.\n",
      "[LightGBM] [Info] Total Bins 3900\n",
      "[LightGBM] [Info] Number of data points in the train set: 49958, number of used features: 16\n",
      "[LightGBM] [Info] [binary:BoostFromScore]: pavg=0.588374 -> initscore=0.357249\n",
      "[LightGBM] [Info] Start training from score 0.357249\n",
      "[LightGBM] [Info] Number of positive: 62646, number of negative: 37267\n",
      "[LightGBM] [Info] Auto-choosing col-wise multi-threading, the overhead of testing was 0.002295 seconds.\n",
      "You can set `force_col_wise=true` to remove the overhead.\n",
      "[LightGBM] [Info] Total Bins 3900\n",
      "[LightGBM] [Info] Number of data points in the train set: 99913, number of used features: 16\n",
      "[LightGBM] [Info] [binary:BoostFromScore]: pavg=0.627005 -> initscore=0.519392\n",
      "[LightGBM] [Info] Start training from score 0.519392\n",
      "[LightGBM] [Info] Number of positive: 96494, number of negative: 53374\n",
      "[LightGBM] [Info] Auto-choosing col-wise multi-threading, the overhead of testing was 0.003360 seconds.\n",
      "You can set `force_col_wise=true` to remove the overhead.\n",
      "[LightGBM] [Info] Total Bins 3900\n",
      "[LightGBM] [Info] Number of data points in the train set: 149868, number of used features: 16\n",
      "[LightGBM] [Info] [binary:BoostFromScore]: pavg=0.643860 -> initscore=0.592157\n",
      "[LightGBM] [Info] Start training from score 0.592157\n",
      "[LightGBM] [Info] Number of positive: 129363, number of negative: 70460\n",
      "[LightGBM] [Info] Auto-choosing row-wise multi-threading, the overhead of testing was 0.001314 seconds.\n",
      "You can set `force_row_wise=true` to remove the overhead.\n",
      "And if memory is not enough, you can set `force_col_wise=true`.\n",
      "[LightGBM] [Info] Total Bins 3900\n",
      "[LightGBM] [Info] Number of data points in the train set: 199823, number of used features: 16\n",
      "[LightGBM] [Info] [binary:BoostFromScore]: pavg=0.647388 -> initscore=0.607577\n",
      "[LightGBM] [Info] Start training from score 0.607577\n",
      "[LightGBM] [Info] Number of positive: 160632, number of negative: 89146\n",
      "[LightGBM] [Info] Auto-choosing col-wise multi-threading, the overhead of testing was 0.005514 seconds.\n",
      "You can set `force_col_wise=true` to remove the overhead.\n",
      "[LightGBM] [Info] Total Bins 3900\n",
      "[LightGBM] [Info] Number of data points in the train set: 249778, number of used features: 16\n",
      "[LightGBM] [Info] [binary:BoostFromScore]: pavg=0.643099 -> initscore=0.588841\n",
      "[LightGBM] [Info] Start training from score 0.588841\n",
      "[LightGBM] [Info] Number of positive: 26367, number of negative: 23591\n",
      "[LightGBM] [Info] Auto-choosing row-wise multi-threading, the overhead of testing was 0.000412 seconds.\n",
      "You can set `force_row_wise=true` to remove the overhead.\n",
      "And if memory is not enough, you can set `force_col_wise=true`.\n",
      "[LightGBM] [Info] Total Bins 3900\n",
      "[LightGBM] [Info] Number of data points in the train set: 49958, number of used features: 16\n",
      "[LightGBM] [Info] [binary:BoostFromScore]: pavg=0.527783 -> initscore=0.111248\n",
      "[LightGBM] [Info] Start training from score 0.111248\n",
      "[LightGBM] [Info] Number of positive: 54176, number of negative: 45737\n",
      "[LightGBM] [Info] Auto-choosing col-wise multi-threading, the overhead of testing was 0.001900 seconds.\n",
      "You can set `force_col_wise=true` to remove the overhead.\n",
      "[LightGBM] [Info] Total Bins 3900\n",
      "[LightGBM] [Info] Number of data points in the train set: 99913, number of used features: 16\n",
      "[LightGBM] [Info] [binary:BoostFromScore]: pavg=0.542232 -> initscore=0.169330\n",
      "[LightGBM] [Info] Start training from score 0.169330\n",
      "[LightGBM] [Info] Number of positive: 81783, number of negative: 68085\n",
      "[LightGBM] [Info] Auto-choosing col-wise multi-threading, the overhead of testing was 0.003768 seconds.\n",
      "You can set `force_col_wise=true` to remove the overhead.\n",
      "[LightGBM] [Info] Total Bins 3900\n",
      "[LightGBM] [Info] Number of data points in the train set: 149868, number of used features: 16\n",
      "[LightGBM] [Info] [binary:BoostFromScore]: pavg=0.545700 -> initscore=0.183312\n",
      "[LightGBM] [Info] Start training from score 0.183312\n",
      "[LightGBM] [Info] Number of positive: 108492, number of negative: 91331\n",
      "[LightGBM] [Info] Auto-choosing row-wise multi-threading, the overhead of testing was 0.001300 seconds.\n",
      "You can set `force_row_wise=true` to remove the overhead.\n",
      "And if memory is not enough, you can set `force_col_wise=true`.\n",
      "[LightGBM] [Info] Total Bins 3900\n",
      "[LightGBM] [Info] Number of data points in the train set: 199823, number of used features: 16\n",
      "[LightGBM] [Info] [binary:BoostFromScore]: pavg=0.542941 -> initscore=0.172186\n",
      "[LightGBM] [Info] Start training from score 0.172186\n",
      "[LightGBM] [Info] Number of positive: 136626, number of negative: 113152\n",
      "[LightGBM] [Info] Auto-choosing row-wise multi-threading, the overhead of testing was 0.001172 seconds.\n",
      "You can set `force_row_wise=true` to remove the overhead.\n",
      "And if memory is not enough, you can set `force_col_wise=true`.\n",
      "[LightGBM] [Info] Total Bins 3900\n",
      "[LightGBM] [Info] Number of data points in the train set: 249778, number of used features: 16\n",
      "[LightGBM] [Info] [binary:BoostFromScore]: pavg=0.546990 -> initscore=0.188515\n",
      "[LightGBM] [Info] Start training from score 0.188515\n"
     ]
    },
    {
     "data": {
      "text/plain": [
       "['models/gd_model_cv_spx.joblib']"
      ]
     },
     "execution_count": 39,
     "metadata": {},
     "output_type": "execute_result"
    }
   ],
   "source": [
    "import joblib\n",
    "from sklearn.calibration import CalibratedClassifierCV\n",
    "from sklearn.model_selection import TimeSeriesSplit\n",
    "\n",
    "hod_model = pipeline.fit(X_train, y_train['hod_in'])\n",
    "lod_model = pipeline_lod.fit(X_train, y_train['lod_in'])\n",
    "gd_model = pipeline_gd.fit(X_train, y_train['green_day'])\n",
    "\n",
    "calibrator_hod = CalibratedClassifierCV(hod_model, cv=TimeSeriesSplit(n_splits=5))\n",
    "calibrator_lod = CalibratedClassifierCV(lod_model, cv=TimeSeriesSplit(n_splits=5))\n",
    "calibrator_gd = CalibratedClassifierCV(gd_model, cv=TimeSeriesSplit(n_splits=5))\n",
    "\n",
    "hod_model_cv = calibrator_hod.fit(X_train, y_train['hod_in'])\n",
    "lod_model_cv = calibrator_lod.fit(X_train, y_train['lod_in'])\n",
    "gd_model_cv = calibrator_gd.fit(X_train, y_train['green_day'])\n",
    "\n",
    "# Save models\n",
    "joblib.dump(hod_model, ticker_dict[tck][\"hod_model\"])\n",
    "joblib.dump(lod_model, ticker_dict[tck][\"lod_model\"])\n",
    "joblib.dump(gd_model, ticker_dict[tck][\"gd_model\"])\n",
    "\n",
    "joblib.dump(hod_model_cv, ticker_dict[tck][\"hod_model_cv\"])\n",
    "joblib.dump(lod_model_cv, ticker_dict[tck][\"lod_model_cv\"])\n",
    "joblib.dump(gd_model_cv, ticker_dict[tck][\"gd_model_cv\"])"
   ]
  },
  {
   "cell_type": "markdown",
   "metadata": {},
   "source": [
    "# Performance"
   ]
  },
  {
   "cell_type": "code",
   "execution_count": 40,
   "metadata": {},
   "outputs": [
    {
     "data": {
      "image/png": "[encoded data removed]",
      "text/plain": [
       "<Figure size 2000x1000 with 1 Axes>"
      ]
     },
     "metadata": {},
     "output_type": "display_data"
    }
   ],
   "source": [
    "import mlflow\n",
    "import matplotlib.pyplot as plt\n",
    "\n",
    "booster = hod_model.named_steps['classifier'].booster_\n",
    "importance_gain = booster.feature_importance(importance_type='gain')\n",
    "feature_imp = pd.DataFrame(sorted(zip(importance_gain, X.columns)), columns=['Value','Feature'])\n",
    "feature_imp = feature_imp.sort_values(by=\"Value\", ascending=True)\n",
    "\n",
    "plt.figure(figsize=(20, 10))\n",
    "plt.barh(feature_imp['Feature'], feature_imp['Value'])\n",
    "plt.title('HOD Model Features (avg over folds)')\n",
    "plt.xlabel('Value')\n",
    "plt.ylabel('Feature')\n",
    "plt.tight_layout()\n",
    "plt.show()\n"
   ]
  },
  {
   "cell_type": "code",
   "execution_count": 41,
   "metadata": {},
   "outputs": [
    {
     "data": {
      "image/png": "[encoded data removed]",
      "text/plain": [
       "<Figure size 2000x1000 with 1 Axes>"
      ]
     },
     "metadata": {},
     "output_type": "display_data"
    }
   ],
   "source": [
    "booster = gd_model.named_steps['classifier'].booster_\n",
    "importance_gain = booster.feature_importance(importance_type='gain')\n",
    "feature_imp = pd.DataFrame(sorted(zip(importance_gain, X.columns)), columns=['Value','Feature'])\n",
    "feature_imp = feature_imp.sort_values(by=\"Value\", ascending=True)\n",
    "\n",
    "plt.figure(figsize=(20, 10))\n",
    "plt.barh(feature_imp['Feature'], feature_imp['Value'])\n",
    "plt.title('GD Model Features (avg over folds)')\n",
    "plt.xlabel('Value')\n",
    "plt.ylabel('Feature')\n",
    "plt.tight_layout()\n",
    "plt.show()\n"
   ]
  },
  {
   "cell_type": "code",
   "execution_count": 42,
   "metadata": {},
   "outputs": [
    {
     "data": {
      "image/png": "[encoded data removed]",
      "text/plain": [
       "<Figure size 2000x1000 with 1 Axes>"
      ]
     },
     "metadata": {},
     "output_type": "display_data"
    }
   ],
   "source": [
    "booster = lod_model.named_steps['classifier'].booster_\n",
    "importance_gain = booster.feature_importance(importance_type='gain')\n",
    "feature_imp = pd.DataFrame(sorted(zip(importance_gain, X.columns)), columns=['Value','Feature'])\n",
    "feature_imp = feature_imp.sort_values(by=\"Value\", ascending=True)\n",
    "\n",
    "plt.figure(figsize=(20, 10))\n",
    "plt.barh(feature_imp['Feature'], feature_imp['Value'])\n",
    "plt.title('LOD Model Features (avg over folds)')\n",
    "plt.xlabel('Value')\n",
    "plt.ylabel('Feature')\n",
    "plt.tight_layout()\n",
    "plt.show()\n"
   ]
  },
  {
   "cell_type": "markdown",
   "metadata": {},
   "source": [
    "### Train/Test"
   ]
  },
  {
   "cell_type": "code",
   "execution_count": 43,
   "metadata": {},
   "outputs": [
    {
     "name": "stdout",
     "output_type": "stream",
     "text": [
      "ROC AUC Score: 0.8765958593495369\n",
      "Precision Score: 0.821723878727136\n",
      "Recall Score: 0.7762130177514793\n",
      "Brier Score: 0.1436096769604632\n",
      "done.\n"
     ]
    }
   ],
   "source": [
    "from sklearn.metrics import roc_auc_score, precision_score, recall_score, brier_score_loss\n",
    "import mlflow\n",
    "\n",
    "# Metrics for HOD model\n",
    "y_pred_hod = hod_model.predict_proba(X_test)[:,-1]\n",
    "\n",
    "roc_auc_hod = roc_auc_score(y_test['hod_in'], y_pred_hod)\n",
    "precision_hod = precision_score(y_test['hod_in'], y_pred_hod > 0.5)\n",
    "recall_hod = recall_score(y_test['hod_in'], y_pred_hod > 0.5)\n",
    "brier_score_hod = brier_score_loss(y_test['hod_in'], y_pred_hod)\n",
    "\n",
    "print(f\"ROC AUC Score: {roc_auc_hod}\")\n",
    "print(f\"Precision Score: {precision_hod}\")\n",
    "print(f\"Recall Score: {recall_hod}\")\n",
    "print(f\"Brier Score: {brier_score_hod}\")\n",
    "\n",
    "train_start = X_train.index.date.min()\n",
    "train_end = X_train.index.date.max()\n",
    "test_start = X_test.index.date.min()\n",
    "test_end = X_test.index.date.max()\n",
    "train_size = len(X_train)\n",
    "test_size = len(X_test)\n",
    "\n",
    "# Start a new MLFlow run\n",
    "with mlflow.start_run():\n",
    "\n",
    "    ts = datetime.datetime.now()\n",
    "\n",
    "    mlflow.set_tag(f\"mlflow.runName\", f\"{tck} HOD Model {ts.hour:02}:{ts.minute:02}:{ts.second:02}\")\n",
    "\n",
    "    # Log the model\n",
    "    mlflow.log_param(\"model\", str(hod_model.named_steps))\n",
    "\n",
    "    # Log the features\n",
    "    mlflow.log_param(\"features\", hod_model.feature_names_in_)\n",
    "    mlflow.log_param(\"train_date_range\", f\"{train_start} to {train_end}\")\n",
    "    mlflow.log_param(\"test_date_range\", f\"{test_start} to {test_end}\")\n",
    "    mlflow.log_param(\"train_size\", train_size)\n",
    "    mlflow.log_param(\"test_size\", test_size)\n",
    "\n",
    "    # Assume y_test and y_pred are your test labels and model predictions\n",
    "    # Calculate scores\n",
    "\n",
    "    # Log the scores\n",
    "    mlflow.log_metric(\"roc_auc\", roc_auc_hod)\n",
    "    mlflow.log_metric(\"precision\", precision_hod)\n",
    "    mlflow.log_metric(\"recall\", recall_hod)\n",
    "    mlflow.log_metric(\"brier_score\", brier_score_hod)\n",
    "\n",
    "    # Log the timestamp\n",
    "    mlflow.log_param(\"created_at\", ts)\n",
    "\n",
    "print('done.')"
   ]
  },
  {
   "cell_type": "code",
   "execution_count": 44,
   "metadata": {},
   "outputs": [
    {
     "name": "stdout",
     "output_type": "stream",
     "text": [
      "ROC AUC Score: 0.8609529615745011\n",
      "Precision Score: 0.8093450146015854\n",
      "Recall Score: 0.8175305520438264\n",
      "Brier Score: 0.14903703145052932\n",
      "done.\n"
     ]
    }
   ],
   "source": [
    "from sklearn.metrics import roc_auc_score, precision_score, recall_score\n",
    "import mlflow\n",
    "\n",
    "# Metrics for HOD model\n",
    "y_pred_lod = lod_model.predict_proba(X_test)[:,-1]\n",
    "roc_auc_lod = roc_auc_score(y_test['lod_in'], y_pred_lod)\n",
    "precision_lod = precision_score(y_test['lod_in'], y_pred_lod > 0.5)\n",
    "recall_lod = recall_score(y_test['lod_in'], y_pred_lod > 0.5)\n",
    "brier_score_lod = brier_score_loss(y_test['lod_in'], y_pred_lod)\n",
    "\n",
    "\n",
    "print(f\"ROC AUC Score: {roc_auc_lod}\")\n",
    "print(f\"Precision Score: {precision_lod}\")\n",
    "print(f\"Recall Score: {recall_lod}\")\n",
    "print(f\"Brier Score: {brier_score_lod}\")\n",
    "\n",
    "train_start = X_train.index.date.min()\n",
    "train_end = X_train.index.date.max()\n",
    "test_start = X_test.index.date.min()\n",
    "test_end = X_test.index.date.max()\n",
    "train_size = len(X_train)\n",
    "test_size = len(X_test)\n",
    "\n",
    "# Start a new MLFlow run\n",
    "with mlflow.start_run():\n",
    "\n",
    "    ts = datetime.datetime.now()\n",
    "\n",
    "    mlflow.set_tag(f\"mlflow.runName\", f\"{tck} LOD Model {ts.hour:02}:{ts.minute:02}:{ts.second:02}\")\n",
    "\n",
    "    # Log the model\n",
    "    mlflow.log_param(\"model\", str(lod_model.named_steps))\n",
    "\n",
    "    # Log the features\n",
    "    mlflow.log_param(\"features\", lod_model.feature_names_in_)\n",
    "    mlflow.log_param(\"train_date_range\", f\"{train_start} to {train_end}\")\n",
    "    mlflow.log_param(\"test_date_range\", f\"{test_start} to {test_end}\")\n",
    "    mlflow.log_param(\"train_size\", train_size)\n",
    "    mlflow.log_param(\"test_size\", test_size)\n",
    "\n",
    "    # Assume y_test and y_pred are your test labels and model predictions\n",
    "    # Calculate scores\n",
    "\n",
    "    # Log the scores\n",
    "    mlflow.log_metric(\"roc_auc\", roc_auc_lod)\n",
    "    mlflow.log_metric(\"precision\", precision_lod)\n",
    "    mlflow.log_metric(\"recall\", recall_lod)\n",
    "    mlflow.log_metric(\"brier_score\", brier_score_lod)\n",
    "\n",
    "\n",
    "    # Log the timestamp\n",
    "    mlflow.log_param(\"created_at\", ts)\n",
    "\n",
    "print('done.')"
   ]
  },
  {
   "cell_type": "code",
   "execution_count": 45,
   "metadata": {},
   "outputs": [
    {
     "name": "stdout",
     "output_type": "stream",
     "text": [
      "ROC AUC Score: 0.9074667617716703\n",
      "Precision Score: 0.8448275862068966\n",
      "Recall Score: 0.8347247292418772\n",
      "Brier Score: 0.12262479608045089\n",
      "done.\n"
     ]
    }
   ],
   "source": [
    "from sklearn.metrics import roc_auc_score, precision_score, recall_score\n",
    "import mlflow\n",
    "\n",
    "# Metrics for HOD model\n",
    "y_pred_gd = gd_model.predict_proba(X_test)[:,-1]\n",
    "\n",
    "roc_auc_gd = roc_auc_score(y_test['green_day'], y_pred_gd)\n",
    "precision_gd = precision_score(y_test['green_day'], y_pred_gd > 0.5)\n",
    "recall_gd = recall_score(y_test['green_day'], y_pred_gd > 0.5)\n",
    "brier_score_gd = brier_score_loss(y_test['green_day'], y_pred_gd)\n",
    "\n",
    "print(f\"ROC AUC Score: {roc_auc_gd}\")\n",
    "print(f\"Precision Score: {precision_gd}\")\n",
    "print(f\"Recall Score: {recall_gd}\")\n",
    "print(f\"Brier Score: {brier_score_gd}\")\n",
    "\n",
    "train_start = X_train.index.date.min()\n",
    "train_end = X_train.index.date.max()\n",
    "test_start = X_test.index.date.min()\n",
    "test_end = X_test.index.date.max()\n",
    "train_size = len(X_train)\n",
    "test_size = len(X_test)\n",
    "\n",
    "# Start a new MLFlow run\n",
    "with mlflow.start_run():\n",
    "\n",
    "    ts = datetime.datetime.now()\n",
    "\n",
    "    mlflow.set_tag(f\"mlflow.runName\", f\"{tck} GD Model {ts.hour:02}:{ts.minute:02}:{ts.second:02}\")\n",
    "\n",
    "    # Log the model\n",
    "    mlflow.log_param(\"model\", str(gd_model.named_steps))\n",
    "\n",
    "    # Log the features\n",
    "    mlflow.log_param(\"features\", gd_model.feature_names_in_)\n",
    "    mlflow.log_param(\"train_date_range\", f\"{train_start} to {train_end}\")\n",
    "    mlflow.log_param(\"test_date_range\", f\"{test_start} to {test_end}\")\n",
    "    mlflow.log_param(\"train_size\", train_size)\n",
    "    mlflow.log_param(\"test_size\", test_size)\n",
    "\n",
    "    # Assume y_test and y_pred are your test labels and model predictions\n",
    "    # Calculate scores\n",
    "\n",
    "    # Log the scores\n",
    "    mlflow.log_metric(\"roc_auc\", roc_auc_gd)\n",
    "    mlflow.log_metric(\"precision\", precision_gd)\n",
    "    mlflow.log_metric(\"recall\", recall_gd)\n",
    "    mlflow.log_metric(\"brier_score\", brier_score_gd)\n",
    "\n",
    "    # Log the timestamp\n",
    "    mlflow.log_param(\"created_at\", ts)\n",
    "\n",
    "print('done.')"
   ]
  },
  {
   "cell_type": "markdown",
   "metadata": {},
   "source": [
    "### CV"
   ]
  },
  {
   "cell_type": "code",
   "execution_count": 46,
   "metadata": {},
   "outputs": [
    {
     "name": "stdout",
     "output_type": "stream",
     "text": [
      "ROC AUC Score: 0.8751685257391245\n",
      "Precision Score: 0.8134319162045595\n",
      "Recall Score: 0.7811834319526627\n",
      "Brier Score: 0.14580790802776877\n",
      "done.\n"
     ]
    }
   ],
   "source": [
    "from sklearn.metrics import roc_auc_score, precision_score, recall_score, brier_score_loss\n",
    "import mlflow\n",
    "\n",
    "# Metrics for HOD model\n",
    "y_pred_hod_cv = hod_model_cv.predict_proba(X_test)[:,-1]\n",
    "\n",
    "roc_auc_hod = roc_auc_score(y_test['hod_in'], y_pred_hod_cv)\n",
    "precision_hod = precision_score(y_test['hod_in'], y_pred_hod_cv > 0.5)\n",
    "recall_hod = recall_score(y_test['hod_in'], y_pred_hod_cv > 0.5)\n",
    "brier_score_hod = brier_score_loss(y_test['hod_in'], y_pred_hod_cv)\n",
    "\n",
    "print(f\"ROC AUC Score: {roc_auc_hod}\")\n",
    "print(f\"Precision Score: {precision_hod}\")\n",
    "print(f\"Recall Score: {recall_hod}\")\n",
    "print(f\"Brier Score: {brier_score_hod}\")\n",
    "\n",
    "train_start = X_train.index.date.min()\n",
    "train_end = X_train.index.date.max()\n",
    "test_start = X_test.index.date.min()\n",
    "test_end = X_test.index.date.max()\n",
    "train_size = len(X_train)\n",
    "test_size = len(X_test)\n",
    "\n",
    "# Start a new MLFlow run\n",
    "with mlflow.start_run():\n",
    "\n",
    "    ts = datetime.datetime.now()\n",
    "\n",
    "    mlflow.set_tag(f\"mlflow.runName\", f\"{tck} HOD Model CV {ts.hour:02}:{ts.minute:02}:{ts.second:02}\")\n",
    "\n",
    "    # Log the model\n",
    "    mlflow.log_param(\"model\", str(hod_model.named_steps))\n",
    "\n",
    "    # Log the features\n",
    "    mlflow.log_param(\"features\", hod_model.feature_names_in_)\n",
    "    mlflow.log_param(\"train_date_range\", f\"{train_start} to {train_end}\")\n",
    "    mlflow.log_param(\"test_date_range\", f\"{test_start} to {test_end}\")\n",
    "    mlflow.log_param(\"train_size\", train_size)\n",
    "    mlflow.log_param(\"test_size\", test_size)\n",
    "\n",
    "    # Assume y_test and y_pred are your test labels and model predictions\n",
    "    # Calculate scores\n",
    "\n",
    "    # Log the scores\n",
    "    mlflow.log_metric(\"roc_auc\", roc_auc_hod)\n",
    "    mlflow.log_metric(\"precision\", precision_hod)\n",
    "    mlflow.log_metric(\"recall\", recall_hod)\n",
    "    mlflow.log_metric(\"brier_score\", brier_score_hod)\n",
    "\n",
    "    # Log the timestamp\n",
    "    mlflow.log_param(\"created_at\", ts)\n",
    "\n",
    "print('done.')"
   ]
  },
  {
   "cell_type": "code",
   "execution_count": 47,
   "metadata": {},
   "outputs": [
    {
     "name": "stdout",
     "output_type": "stream",
     "text": [
      "ROC AUC Score: 0.8521124088408332\n",
      "Precision Score: 0.8112331081081081\n",
      "Recall Score: 0.8095238095238095\n",
      "Brier Score: 0.15429415201181967\n",
      "done.\n"
     ]
    }
   ],
   "source": [
    "from sklearn.metrics import roc_auc_score, precision_score, recall_score\n",
    "import mlflow\n",
    "\n",
    "# Metrics for HOD model\n",
    "y_pred_lod_cv = lod_model_cv.predict_proba(X_test)[:,-1]\n",
    "roc_auc_lod = roc_auc_score(y_test['lod_in'], y_pred_lod_cv)\n",
    "precision_lod = precision_score(y_test['lod_in'], y_pred_lod_cv > 0.5)\n",
    "recall_lod = recall_score(y_test['lod_in'], y_pred_lod_cv > 0.5)\n",
    "brier_score_lod = brier_score_loss(y_test['lod_in'], y_pred_lod_cv)\n",
    "\n",
    "\n",
    "print(f\"ROC AUC Score: {roc_auc_lod}\")\n",
    "print(f\"Precision Score: {precision_lod}\")\n",
    "print(f\"Recall Score: {recall_lod}\")\n",
    "print(f\"Brier Score: {brier_score_lod}\")\n",
    "\n",
    "train_start = X_train.index.date.min()\n",
    "train_end = X_train.index.date.max()\n",
    "test_start = X_test.index.date.min()\n",
    "test_end = X_test.index.date.max()\n",
    "train_size = len(X_train)\n",
    "test_size = len(X_test)\n",
    "\n",
    "# Start a new MLFlow run\n",
    "with mlflow.start_run():\n",
    "\n",
    "    ts = datetime.datetime.now()\n",
    "\n",
    "    mlflow.set_tag(f\"mlflow.runName\", f\"{tck} LOD Model CV {ts.hour:02}:{ts.minute:02}:{ts.second:02}\")\n",
    "\n",
    "    # Log the model\n",
    "    mlflow.log_param(\"model\", str(lod_model.named_steps))\n",
    "\n",
    "    # Log the features\n",
    "    mlflow.log_param(\"features\", lod_model.feature_names_in_)\n",
    "    mlflow.log_param(\"train_date_range\", f\"{train_start} to {train_end}\")\n",
    "    mlflow.log_param(\"test_date_range\", f\"{test_start} to {test_end}\")\n",
    "    mlflow.log_param(\"train_size\", train_size)\n",
    "    mlflow.log_param(\"test_size\", test_size)\n",
    "\n",
    "    # Assume y_test and y_pred are your test labels and model predictions\n",
    "    # Calculate scores\n",
    "\n",
    "    # Log the scores\n",
    "    mlflow.log_metric(\"roc_auc\", roc_auc_lod)\n",
    "    mlflow.log_metric(\"precision\", precision_lod)\n",
    "    mlflow.log_metric(\"recall\", recall_lod)\n",
    "    mlflow.log_metric(\"brier_score\", brier_score_lod)\n",
    "\n",
    "\n",
    "    # Log the timestamp\n",
    "    mlflow.log_param(\"created_at\", ts)\n",
    "\n",
    "print('done.')"
   ]
  },
  {
   "cell_type": "code",
   "execution_count": 48,
   "metadata": {},
   "outputs": [
    {
     "name": "stdout",
     "output_type": "stream",
     "text": [
      "ROC AUC Score: 0.8614170322063066\n",
      "Precision Score: 0.7992016853309679\n",
      "Recall Score: 0.8131768953068592\n",
      "Brier Score: 0.1502155761269791\n",
      "done.\n"
     ]
    }
   ],
   "source": [
    "from sklearn.metrics import roc_auc_score, precision_score, recall_score\n",
    "import mlflow\n",
    "\n",
    "# Metrics for HOD model\n",
    "y_pred_gd_cv = gd_model_cv.predict_proba(X_test)[:,-1]\n",
    "\n",
    "roc_auc_gd = roc_auc_score(y_test['green_day'], y_pred_gd_cv)\n",
    "precision_gd = precision_score(y_test['green_day'], y_pred_gd_cv > 0.5)\n",
    "recall_gd = recall_score(y_test['green_day'], y_pred_gd_cv > 0.5)\n",
    "brier_score_gd = brier_score_loss(y_test['green_day'], y_pred_gd_cv)\n",
    "\n",
    "print(f\"ROC AUC Score: {roc_auc_gd}\")\n",
    "print(f\"Precision Score: {precision_gd}\")\n",
    "print(f\"Recall Score: {recall_gd}\")\n",
    "print(f\"Brier Score: {brier_score_gd}\")\n",
    "\n",
    "train_start = X_train.index.date.min()\n",
    "train_end = X_train.index.date.max()\n",
    "test_start = X_test.index.date.min()\n",
    "test_end = X_test.index.date.max()\n",
    "train_size = len(X_train)\n",
    "test_size = len(X_test)\n",
    "\n",
    "# Start a new MLFlow run\n",
    "with mlflow.start_run():\n",
    "\n",
    "    ts = datetime.datetime.now()\n",
    "\n",
    "    mlflow.set_tag(f\"mlflow.runName\", f\"{tck} GD Model CV {ts.hour:02}:{ts.minute:02}:{ts.second:02}\")\n",
    "\n",
    "    # Log the model\n",
    "    mlflow.log_param(\"model\", str(gd_model.named_steps))\n",
    "\n",
    "    # Log the features\n",
    "    mlflow.log_param(\"features\", gd_model.feature_names_in_)\n",
    "    mlflow.log_param(\"train_date_range\", f\"{train_start} to {train_end}\")\n",
    "    mlflow.log_param(\"test_date_range\", f\"{test_start} to {test_end}\")\n",
    "    mlflow.log_param(\"train_size\", train_size)\n",
    "    mlflow.log_param(\"test_size\", test_size)\n",
    "\n",
    "    # Assume y_test and y_pred are your test labels and model predictions\n",
    "    # Calculate scores\n",
    "\n",
    "    # Log the scores\n",
    "    mlflow.log_metric(\"roc_auc\", roc_auc_gd)\n",
    "    mlflow.log_metric(\"precision\", precision_gd)\n",
    "    mlflow.log_metric(\"recall\", recall_gd)\n",
    "    mlflow.log_metric(\"brier_score\", brier_score_gd)\n",
    "\n",
    "    # Log the timestamp\n",
    "    mlflow.log_param(\"created_at\", ts)\n",
    "\n",
    "print('done.')"
   ]
  },
  {
   "cell_type": "code",
   "execution_count": 49,
   "metadata": {},
   "outputs": [
    {
     "name": "stdout",
     "output_type": "stream",
     "text": [
      "Couldn't find program: 'false'\n"
     ]
    }
   ],
   "source": [
    "%%script false --no-raise-error\n",
    "from sklearn.metrics import roc_auc_score, precision_score, recall_score\n",
    "\n",
    "# Initialize lists to store scores for each split\n",
    "roc_auc_scores = []\n",
    "precision_scores = []\n",
    "recall_scores = []\n",
    "\n",
    "with mlflow.start_run():\n",
    "\n",
    "    # Loop over the splits\n",
    "    for train_index, test_index in tscv.split(dates):\n",
    "        # Find the end of the last complete day in the test set\n",
    "        last_day = np.unique(dates[test_index])[-2]  # -2 to get the second to last day\n",
    "        test_index = test_index[dates[test_index] <= last_day]  # only keep days in test set up to the last complete day\n",
    "\n",
    "        # Split the data\n",
    "        X_train, X_test = X.iloc[train_index], X.iloc[test_index]\n",
    "        y_train, y_test = y_flags.iloc[train_index], y_flags.iloc[test_index]\n",
    "\n",
    "        # Fit the model on the training data\n",
    "        model = pipeline_gd.fit(X_train, y_train['green_day'])\n",
    "\n",
    "        # Predict the test data\n",
    "        y_pred = model.predict_proba(X_test)[:,-1]\n",
    "\n",
    "        # Calculate the scores\n",
    "        roc_auc = roc_auc_score(y_test['green_day'], y_pred)\n",
    "        precision = precision_score(y_test['green_day'], y_pred > 0.5)\n",
    "        recall = recall_score(y_test['green_day'], y_pred > 0.5)\n",
    "\n",
    "        # Store the scores\n",
    "        roc_auc_scores.append(roc_auc)\n",
    "        precision_scores.append(precision)\n",
    "        recall_scores.append(recall)\n",
    "\n",
    "\n",
    "    roc_auc_gd = np.mean(roc_auc_scores)\n",
    "    precision_gd = np.mean(precision_scores)\n",
    "    recall_gd = np.mean(recall_scores)\n",
    "\n",
    "    # Print the average scores\n",
    "    print(f\"Average ROC AUC Score: {roc_auc_hod:.03} (+/- {np.std(roc_auc_scores):.02})\")\n",
    "    print(f\"Average Precision Score: {precision_hod:.03} (+/- {np.std(precision_scores):.02})\")\n",
    "    print(f\"Average Recall Score: {recall_hod:.03} (+/- {np.std(recall_scores):.02})\")\n",
    "\n",
    "    ts = datetime.datetime.now()\n",
    "\n",
    "    mlflow.set_tag(f\"mlflow.runName\", f\"{tck} GD Model CV {ts.hour:02}:{ts.minute:02}:{ts.second:02}\")\n",
    "\n",
    "    # Log the model\n",
    "    mlflow.log_param(\"model\", str(gd_model.named_steps))\n",
    "\n",
    "    # Log the features\n",
    "    mlflow.log_param(\"features\", gd_model.feature_names_in_)\n",
    "    mlflow.log_param(\"train_date_range\", f\"{train_start} to {train_end}\")\n",
    "    mlflow.log_param(\"test_date_range\", f\"{test_start} to {test_end}\")\n",
    "    mlflow.log_param(\"train_size\", train_size)\n",
    "    mlflow.log_param(\"test_size\", test_size)\n",
    "\n",
    "    # Assume y_test and y_pred are your test labels and model predictions\n",
    "    # Calculate scores\n",
    "\n",
    "    # Log the scores\n",
    "    mlflow.log_metric(\"roc_auc\", roc_auc_gd)\n",
    "    mlflow.log_metric(\"precision\", precision_gd)\n",
    "    mlflow.log_metric(\"recall\", recall_gd)\n",
    "\n",
    "    # Log the timestamp\n",
    "    mlflow.log_param(\"created_at\", ts)\n",
    "\n",
    "print('done.')"
   ]
  },
  {
   "cell_type": "code",
   "execution_count": 50,
   "metadata": {},
   "outputs": [
    {
     "data": {
      "application/vnd.plotly.v1+json": {
       "config": {
        "plotlyServerURL": "https://plot.ly"
       },
       "data": [
        {
         "hovertemplate": "variable=roc_auc<br>index=%{x}<br>value=%{y}<extra></extra>",
         "legendgroup": "roc_auc",
         "line": {
          "color": "#636efa",
          "dash": "solid"
         },
         "marker": {
          "symbol": "circle"
         },
         "mode": "lines",
         "name": "roc_auc",
         "orientation": "v",
         "showlegend": true,
         "type": "scatter",
         "x": [
          "09:45:00",
          "09:50:00",
          "09:55:00",
          "10:00:00",
          "10:05:00",
          "10:10:00",
          "10:15:00",
          "10:20:00",
          "10:25:00",
          "10:30:00",
          "10:35:00",
          "10:40:00",
          "10:45:00",
          "10:50:00",
          "10:55:00",
          "11:00:00",
          "11:05:00",
          "11:10:00",
          "11:15:00",
          "11:20:00",
          "11:25:00",
          "11:30:00",
          "11:35:00",
          "11:40:00",
          "11:45:00",
          "11:50:00",
          "11:55:00",
          "12:00:00",
          "12:05:00",
          "12:10:00",
          "12:15:00",
          "12:20:00",
          "12:25:00",
          "12:30:00",
          "12:35:00",
          "12:40:00",
          "12:45:00",
          "12:50:00",
          "12:55:00",
          "13:00:00",
          "13:05:00",
          "13:10:00",
          "13:15:00",
          "13:20:00",
          "13:25:00",
          "13:30:00",
          "13:35:00",
          "13:40:00",
          "13:45:00",
          "13:50:00",
          "13:55:00",
          "14:00:00",
          "14:05:00",
          "14:10:00",
          "14:15:00",
          "14:20:00",
          "14:25:00",
          "14:30:00",
          "14:35:00",
          "14:40:00",
          "14:45:00",
          "14:50:00",
          "14:55:00",
          "15:00:00",
          "15:05:00",
          "15:10:00",
          "15:15:00",
          "15:20:00",
          "15:25:00",
          "15:30:00",
          "15:35:00",
          "15:40:00",
          "15:45:00",
          "15:50:00",
          "15:55:00"
         ],
         "xaxis": "x",
         "y": [
          0.7287847040335255,
          0.734152693089431,
          0.7537037549844928,
          0.7576468914497083,
          0.7652634181845327,
          0.7791370955433455,
          0.7897396398201173,
          0.7949770664550795,
          0.7995456844784822,
          0.801843475877193,
          0.8044205843297036,
          0.8063619308026467,
          0.8097876131089128,
          0.808962611732291,
          0.8113529979939075,
          0.8128080047010714,
          0.8128751812683479,
          0.8140996075905104,
          0.8155407737134699,
          0.8171887037750385,
          0.8189353984592989,
          0.820813811466074,
          0.8234309982812239,
          0.8265653634580319,
          0.8280268681123077,
          0.8298477583083763,
          0.8324781128582528,
          0.8349374344529714,
          0.8371538841217796,
          0.8381370941117583,
          0.8393996620031423,
          0.8406834098710669,
          0.8422603258257145,
          0.8435706432915008,
          0.8442101640382607,
          0.8447137756007206,
          0.8453298895879412,
          0.8456156785493822,
          0.8453132496940023,
          0.8452912405627022,
          0.8454839588377723,
          0.8454877717544035,
          0.8456811109376297,
          0.8454738224264474,
          0.846263453039512,
          0.8468502789218533,
          0.8477349409479908,
          0.8482658886433435,
          0.8487003334356044,
          0.8489255326951328,
          0.8495563239841192,
          0.8501866432046584,
          0.8508468994188292,
          0.8514218985316263,
          0.8521731885524665,
          0.8528565240396243,
          0.8536667096025384,
          0.8547210799471381,
          0.8556779903824562,
          0.8564678681391124,
          0.857469194186167,
          0.8586848748994738,
          0.8597687289154106,
          0.8611534162473163,
          0.8619993753125027,
          0.8629762963063498,
          0.8640671385546064,
          0.8650412865644315,
          0.8658651921738774,
          0.8668806901800495,
          0.8682226246826754,
          0.8700305981149774,
          0.8715556075887294,
          0.8734508509106294,
          0.8765958593495369
         ],
         "yaxis": "y"
        },
        {
         "hovertemplate": "variable=precision<br>index=%{x}<br>value=%{y}<extra></extra>",
         "legendgroup": "precision",
         "line": {
          "color": "#EF553B",
          "dash": "solid"
         },
         "marker": {
          "symbol": "circle"
         },
         "mode": "lines",
         "name": "precision",
         "orientation": "v",
         "showlegend": true,
         "type": "scatter",
         "x": [
          "09:45:00",
          "09:50:00",
          "09:55:00",
          "10:00:00",
          "10:05:00",
          "10:10:00",
          "10:15:00",
          "10:20:00",
          "10:25:00",
          "10:30:00",
          "10:35:00",
          "10:40:00",
          "10:45:00",
          "10:50:00",
          "10:55:00",
          "11:00:00",
          "11:05:00",
          "11:10:00",
          "11:15:00",
          "11:20:00",
          "11:25:00",
          "11:30:00",
          "11:35:00",
          "11:40:00",
          "11:45:00",
          "11:50:00",
          "11:55:00",
          "12:00:00",
          "12:05:00",
          "12:10:00",
          "12:15:00",
          "12:20:00",
          "12:25:00",
          "12:30:00",
          "12:35:00",
          "12:40:00",
          "12:45:00",
          "12:50:00",
          "12:55:00",
          "13:00:00",
          "13:05:00",
          "13:10:00",
          "13:15:00",
          "13:20:00",
          "13:25:00",
          "13:30:00",
          "13:35:00",
          "13:40:00",
          "13:45:00",
          "13:50:00",
          "13:55:00",
          "14:00:00",
          "14:05:00",
          "14:10:00",
          "14:15:00",
          "14:20:00",
          "14:25:00",
          "14:30:00",
          "14:35:00",
          "14:40:00",
          "14:45:00",
          "14:50:00",
          "14:55:00",
          "15:00:00",
          "15:05:00",
          "15:10:00",
          "15:15:00",
          "15:20:00",
          "15:25:00",
          "15:30:00",
          "15:35:00",
          "15:40:00",
          "15:45:00",
          "15:50:00",
          "15:55:00"
         ],
         "xaxis": "x",
         "y": [
          0.38461538461538464,
          0.3793103448275862,
          0.45454545454545453,
          0.5064935064935064,
          0.5370370370370371,
          0.5945945945945946,
          0.6170212765957447,
          0.6333333333333333,
          0.6357388316151202,
          0.6381766381766382,
          0.6426858513189448,
          0.6460905349794238,
          0.6475849731663685,
          0.6446540880503144,
          0.6526019690576652,
          0.6581956797966964,
          0.6628041714947857,
          0.6677350427350427,
          0.670935960591133,
          0.6733393994540491,
          0.6785714285714286,
          0.6833333333333333,
          0.6884758364312268,
          0.6959553695955369,
          0.7022950819672131,
          0.7077399380804954,
          0.7123529411764706,
          0.7164345403899721,
          0.7186009538950715,
          0.7207070707070707,
          0.7234555984555985,
          0.7250115154306771,
          0.7274328489652135,
          0.7297639123102867,
          0.731638418079096,
          0.7328952454580595,
          0.7338769458858414,
          0.7349697616506581,
          0.7371310912834592,
          0.7389292795769994,
          0.7404458598726115,
          0.7421538461538462,
          0.743681236990782,
          0.7451826287029047,
          0.7473567056204786,
          0.7502693965517241,
          0.7525450274079875,
          0.754363774348596,
          0.7564448809231524,
          0.7585139318885449,
          0.7603974121996303,
          0.7627917414721723,
          0.7645519947678221,
          0.7662640389913117,
          0.7685967442818875,
          0.771021473008228,
          0.7731273225112458,
          0.7754907566228321,
          0.7775714816190122,
          0.7797500452816519,
          0.7820399505038006,
          0.7847773558853987,
          0.7875927174645988,
          0.7903570840875432,
          0.792483135239319,
          0.795076826591408,
          0.7980725103258376,
          0.800417972831766,
          0.803030303030303,
          0.8050305527923831,
          0.8077296024380108,
          0.810741341991342,
          0.8134810710987996,
          0.8169068450849202,
          0.821723878727136
         ],
         "yaxis": "y"
        },
        {
         "hovertemplate": "variable=recall<br>index=%{x}<br>value=%{y}<extra></extra>",
         "legendgroup": "recall",
         "line": {
          "color": "#00cc96",
          "dash": "solid"
         },
         "marker": {
          "symbol": "circle"
         },
         "mode": "lines",
         "name": "recall",
         "orientation": "v",
         "showlegend": true,
         "type": "scatter",
         "x": [
          "09:45:00",
          "09:50:00",
          "09:55:00",
          "10:00:00",
          "10:05:00",
          "10:10:00",
          "10:15:00",
          "10:20:00",
          "10:25:00",
          "10:30:00",
          "10:35:00",
          "10:40:00",
          "10:45:00",
          "10:50:00",
          "10:55:00",
          "11:00:00",
          "11:05:00",
          "11:10:00",
          "11:15:00",
          "11:20:00",
          "11:25:00",
          "11:30:00",
          "11:35:00",
          "11:40:00",
          "11:45:00",
          "11:50:00",
          "11:55:00",
          "12:00:00",
          "12:05:00",
          "12:10:00",
          "12:15:00",
          "12:20:00",
          "12:25:00",
          "12:30:00",
          "12:35:00",
          "12:40:00",
          "12:45:00",
          "12:50:00",
          "12:55:00",
          "13:00:00",
          "13:05:00",
          "13:10:00",
          "13:15:00",
          "13:20:00",
          "13:25:00",
          "13:30:00",
          "13:35:00",
          "13:40:00",
          "13:45:00",
          "13:50:00",
          "13:55:00",
          "14:00:00",
          "14:05:00",
          "14:10:00",
          "14:15:00",
          "14:20:00",
          "14:25:00",
          "14:30:00",
          "14:35:00",
          "14:40:00",
          "14:45:00",
          "14:50:00",
          "14:55:00",
          "15:00:00",
          "15:05:00",
          "15:10:00",
          "15:15:00",
          "15:20:00",
          "15:25:00",
          "15:30:00",
          "15:35:00",
          "15:40:00",
          "15:45:00",
          "15:50:00",
          "15:55:00"
         ],
         "xaxis": "x",
         "y": [
          0.10869565217391304,
          0.11458333333333333,
          0.13513513513513514,
          0.18660287081339713,
          0.21323529411764705,
          0.2619047619047619,
          0.2892768079800499,
          0.3247863247863248,
          0.3451492537313433,
          0.3684210526315789,
          0.3935389133627019,
          0.41534391534391535,
          0.43561973525872444,
          0.45054945054945056,
          0.4691607684529828,
          0.48411214953271026,
          0.49566724436741766,
          0.5048465266558966,
          0.5147392290249433,
          0.5255681818181818,
          0.5337792642140469,
          0.543903979785218,
          0.5541591861160982,
          0.5667234525837592,
          0.5773584905660377,
          0.586454592098512,
          0.5927557513460597,
          0.6014967259120674,
          0.6072548141513658,
          0.6124463519313305,
          0.6173805601317958,
          0.6228729719034428,
          0.628854206318995,
          0.634065934065934,
          0.6397318278052223,
          0.6451173868662811,
          0.650032829940906,
          0.6548335974643423,
          0.6572827417380661,
          0.6609518179130949,
          0.6642857142857143,
          0.6664824537164963,
          0.6688954265846483,
          0.6710696710696711,
          0.6747048480281337,
          0.6789371038517796,
          0.682690030783803,
          0.6861481822365394,
          0.6891075821963767,
          0.6926924749891257,
          0.6965079365079365,
          0.6999588138385503,
          0.7032283938239422,
          0.70625,
          0.7099352874000762,
          0.7129337539432177,
          0.7154751131221719,
          0.7183968926553672,
          0.7215713301171606,
          0.7237726967047747,
          0.7260791071721647,
          0.728802692739221,
          0.7313713212273012,
          0.7345159810368558,
          0.7369678864824496,
          0.7398599358039101,
          0.7435860889395667,
          0.746588693957115,
          0.7498299551081485,
          0.7531241691039617,
          0.7577647823261858,
          0.7615961367391028,
          0.7661821344266369,
          0.7705097087378641,
          0.7762130177514793
         ],
         "yaxis": "y"
        }
       ],
       "layout": {
        "legend": {
         "title": {
          "text": "variable"
         },
         "tracegroupgap": 0
        },
        "template": {
         "data": {
          "bar": [
           {
            "error_x": {
             "color": "#2a3f5f"
            },
            "error_y": {
             "color": "#2a3f5f"
            },
            "marker": {
             "line": {
              "color": "#E5ECF6",
              "width": 0.5
             },
             "pattern": {
              "fillmode": "overlay",
              "size": 10,
              "solidity": 0.2
             }
            },
            "type": "bar"
           }
          ],
          "barpolar": [
           {
            "marker": {
             "line": {
              "color": "#E5ECF6",
              "width": 0.5
             },
             "pattern": {
              "fillmode": "overlay",
              "size": 10,
              "solidity": 0.2
             }
            },
            "type": "barpolar"
           }
          ],
          "carpet": [
           {
            "aaxis": {
             "endlinecolor": "#2a3f5f",
             "gridcolor": "white",
             "linecolor": "white",
             "minorgridcolor": "white",
             "startlinecolor": "#2a3f5f"
            },
            "baxis": {
             "endlinecolor": "#2a3f5f",
             "gridcolor": "white",
             "linecolor": "white",
             "minorgridcolor": "white",
             "startlinecolor": "#2a3f5f"
            },
            "type": "carpet"
           }
          ],
          "choropleth": [
           {
            "colorbar": {
             "outlinewidth": 0,
             "ticks": ""
            },
            "type": "choropleth"
           }
          ],
          "contour": [
           {
            "colorbar": {
             "outlinewidth": 0,
             "ticks": ""
            },
            "colorscale": [
             [
              0,
              "#0d0887"
             ],
             [
              0.1111111111111111,
              "#46039f"
             ],
             [
              0.2222222222222222,
              "#7201a8"
             ],
             [
              0.3333333333333333,
              "#9c179e"
             ],
             [
              0.4444444444444444,
              "#bd3786"
             ],
             [
              0.5555555555555556,
              "#d8576b"
             ],
             [
              0.6666666666666666,
              "#ed7953"
             ],
             [
              0.7777777777777778,
              "#fb9f3a"
             ],
             [
              0.8888888888888888,
              "#fdca26"
             ],
             [
              1,
              "#f0f921"
             ]
            ],
            "type": "contour"
           }
          ],
          "contourcarpet": [
           {
            "colorbar": {
             "outlinewidth": 0,
             "ticks": ""
            },
            "type": "contourcarpet"
           }
          ],
          "heatmap": [
           {
            "colorbar": {
             "outlinewidth": 0,
             "ticks": ""
            },
            "colorscale": [
             [
              0,
              "#0d0887"
             ],
             [
              0.1111111111111111,
              "#46039f"
             ],
             [
              0.2222222222222222,
              "#7201a8"
             ],
             [
              0.3333333333333333,
              "#9c179e"
             ],
             [
              0.4444444444444444,
              "#bd3786"
             ],
             [
              0.5555555555555556,
              "#d8576b"
             ],
             [
              0.6666666666666666,
              "#ed7953"
             ],
             [
              0.7777777777777778,
              "#fb9f3a"
             ],
             [
              0.8888888888888888,
              "#fdca26"
             ],
             [
              1,
              "#f0f921"
             ]
            ],
            "type": "heatmap"
           }
          ],
          "heatmapgl": [
           {
            "colorbar": {
             "outlinewidth": 0,
             "ticks": ""
            },
            "colorscale": [
             [
              0,
              "#0d0887"
             ],
             [
              0.1111111111111111,
              "#46039f"
             ],
             [
              0.2222222222222222,
              "#7201a8"
             ],
             [
              0.3333333333333333,
              "#9c179e"
             ],
             [
              0.4444444444444444,
              "#bd3786"
             ],
             [
              0.5555555555555556,
              "#d8576b"
             ],
             [
              0.6666666666666666,
              "#ed7953"
             ],
             [
              0.7777777777777778,
              "#fb9f3a"
             ],
             [
              0.8888888888888888,
              "#fdca26"
             ],
             [
              1,
              "#f0f921"
             ]
            ],
            "type": "heatmapgl"
           }
          ],
          "histogram": [
           {
            "marker": {
             "pattern": {
              "fillmode": "overlay",
              "size": 10,
              "solidity": 0.2
             }
            },
            "type": "histogram"
           }
          ],
          "histogram2d": [
           {
            "colorbar": {
             "outlinewidth": 0,
             "ticks": ""
            },
            "colorscale": [
             [
              0,
              "#0d0887"
             ],
             [
              0.1111111111111111,
              "#46039f"
             ],
             [
              0.2222222222222222,
              "#7201a8"
             ],
             [
              0.3333333333333333,
              "#9c179e"
             ],
             [
              0.4444444444444444,
              "#bd3786"
             ],
             [
              0.5555555555555556,
              "#d8576b"
             ],
             [
              0.6666666666666666,
              "#ed7953"
             ],
             [
              0.7777777777777778,
              "#fb9f3a"
             ],
             [
              0.8888888888888888,
              "#fdca26"
             ],
             [
              1,
              "#f0f921"
             ]
            ],
            "type": "histogram2d"
           }
          ],
          "histogram2dcontour": [
           {
            "colorbar": {
             "outlinewidth": 0,
             "ticks": ""
            },
            "colorscale": [
             [
              0,
              "#0d0887"
             ],
             [
              0.1111111111111111,
              "#46039f"
             ],
             [
              0.2222222222222222,
              "#7201a8"
             ],
             [
              0.3333333333333333,
              "#9c179e"
             ],
             [
              0.4444444444444444,
              "#bd3786"
             ],
             [
              0.5555555555555556,
              "#d8576b"
             ],
             [
              0.6666666666666666,
              "#ed7953"
             ],
             [
              0.7777777777777778,
              "#fb9f3a"
             ],
             [
              0.8888888888888888,
              "#fdca26"
             ],
             [
              1,
              "#f0f921"
             ]
            ],
            "type": "histogram2dcontour"
           }
          ],
          "mesh3d": [
           {
            "colorbar": {
             "outlinewidth": 0,
             "ticks": ""
            },
            "type": "mesh3d"
           }
          ],
          "parcoords": [
           {
            "line": {
             "colorbar": {
              "outlinewidth": 0,
              "ticks": ""
             }
            },
            "type": "parcoords"
           }
          ],
          "pie": [
           {
            "automargin": true,
            "type": "pie"
           }
          ],
          "scatter": [
           {
            "fillpattern": {
             "fillmode": "overlay",
             "size": 10,
             "solidity": 0.2
            },
            "type": "scatter"
           }
          ],
          "scatter3d": [
           {
            "line": {
             "colorbar": {
              "outlinewidth": 0,
              "ticks": ""
             }
            },
            "marker": {
             "colorbar": {
              "outlinewidth": 0,
              "ticks": ""
             }
            },
            "type": "scatter3d"
           }
          ],
          "scattercarpet": [
           {
            "marker": {
             "colorbar": {
              "outlinewidth": 0,
              "ticks": ""
             }
            },
            "type": "scattercarpet"
           }
          ],
          "scattergeo": [
           {
            "marker": {
             "colorbar": {
              "outlinewidth": 0,
              "ticks": ""
             }
            },
            "type": "scattergeo"
           }
          ],
          "scattergl": [
           {
            "marker": {
             "colorbar": {
              "outlinewidth": 0,
              "ticks": ""
             }
            },
            "type": "scattergl"
           }
          ],
          "scattermapbox": [
           {
            "marker": {
             "colorbar": {
              "outlinewidth": 0,
              "ticks": ""
             }
            },
            "type": "scattermapbox"
           }
          ],
          "scatterpolar": [
           {
            "marker": {
             "colorbar": {
              "outlinewidth": 0,
              "ticks": ""
             }
            },
            "type": "scatterpolar"
           }
          ],
          "scatterpolargl": [
           {
            "marker": {
             "colorbar": {
              "outlinewidth": 0,
              "ticks": ""
             }
            },
            "type": "scatterpolargl"
           }
          ],
          "scatterternary": [
           {
            "marker": {
             "colorbar": {
              "outlinewidth": 0,
              "ticks": ""
             }
            },
            "type": "scatterternary"
           }
          ],
          "surface": [
           {
            "colorbar": {
             "outlinewidth": 0,
             "ticks": ""
            },
            "colorscale": [
             [
              0,
              "#0d0887"
             ],
             [
              0.1111111111111111,
              "#46039f"
             ],
             [
              0.2222222222222222,
              "#7201a8"
             ],
             [
              0.3333333333333333,
              "#9c179e"
             ],
             [
              0.4444444444444444,
              "#bd3786"
             ],
             [
              0.5555555555555556,
              "#d8576b"
             ],
             [
              0.6666666666666666,
              "#ed7953"
             ],
             [
              0.7777777777777778,
              "#fb9f3a"
             ],
             [
              0.8888888888888888,
              "#fdca26"
             ],
             [
              1,
              "#f0f921"
             ]
            ],
            "type": "surface"
           }
          ],
          "table": [
           {
            "cells": {
             "fill": {
              "color": "#EBF0F8"
             },
             "line": {
              "color": "white"
             }
            },
            "header": {
             "fill": {
              "color": "#C8D4E3"
             },
             "line": {
              "color": "white"
             }
            },
            "type": "table"
           }
          ]
         },
         "layout": {
          "annotationdefaults": {
           "arrowcolor": "#2a3f5f",
           "arrowhead": 0,
           "arrowwidth": 1
          },
          "autotypenumbers": "strict",
          "coloraxis": {
           "colorbar": {
            "outlinewidth": 0,
            "ticks": ""
           }
          },
          "colorscale": {
           "diverging": [
            [
             0,
             "#8e0152"
            ],
            [
             0.1,
             "#c51b7d"
            ],
            [
             0.2,
             "#de77ae"
            ],
            [
             0.3,
             "#f1b6da"
            ],
            [
             0.4,
             "#fde0ef"
            ],
            [
             0.5,
             "#f7f7f7"
            ],
            [
             0.6,
             "#e6f5d0"
            ],
            [
             0.7,
             "#b8e186"
            ],
            [
             0.8,
             "#7fbc41"
            ],
            [
             0.9,
             "#4d9221"
            ],
            [
             1,
             "#276419"
            ]
           ],
           "sequential": [
            [
             0,
             "#0d0887"
            ],
            [
             0.1111111111111111,
             "#46039f"
            ],
            [
             0.2222222222222222,
             "#7201a8"
            ],
            [
             0.3333333333333333,
             "#9c179e"
            ],
            [
             0.4444444444444444,
             "#bd3786"
            ],
            [
             0.5555555555555556,
             "#d8576b"
            ],
            [
             0.6666666666666666,
             "#ed7953"
            ],
            [
             0.7777777777777778,
             "#fb9f3a"
            ],
            [
             0.8888888888888888,
             "#fdca26"
            ],
            [
             1,
             "#f0f921"
            ]
           ],
           "sequentialminus": [
            [
             0,
             "#0d0887"
            ],
            [
             0.1111111111111111,
             "#46039f"
            ],
            [
             0.2222222222222222,
             "#7201a8"
            ],
            [
             0.3333333333333333,
             "#9c179e"
            ],
            [
             0.4444444444444444,
             "#bd3786"
            ],
            [
             0.5555555555555556,
             "#d8576b"
            ],
            [
             0.6666666666666666,
             "#ed7953"
            ],
            [
             0.7777777777777778,
             "#fb9f3a"
            ],
            [
             0.8888888888888888,
             "#fdca26"
            ],
            [
             1,
             "#f0f921"
            ]
           ]
          },
          "colorway": [
           "#636efa",
           "#EF553B",
           "#00cc96",
           "#ab63fa",
           "#FFA15A",
           "#19d3f3",
           "#FF6692",
           "#B6E880",
           "#FF97FF",
           "#FECB52"
          ],
          "font": {
           "color": "#2a3f5f"
          },
          "geo": {
           "bgcolor": "white",
           "lakecolor": "white",
           "landcolor": "#E5ECF6",
           "showlakes": true,
           "showland": true,
           "subunitcolor": "white"
          },
          "hoverlabel": {
           "align": "left"
          },
          "hovermode": "closest",
          "mapbox": {
           "style": "light"
          },
          "paper_bgcolor": "white",
          "plot_bgcolor": "#E5ECF6",
          "polar": {
           "angularaxis": {
            "gridcolor": "white",
            "linecolor": "white",
            "ticks": ""
           },
           "bgcolor": "#E5ECF6",
           "radialaxis": {
            "gridcolor": "white",
            "linecolor": "white",
            "ticks": ""
           }
          },
          "scene": {
           "xaxis": {
            "backgroundcolor": "#E5ECF6",
            "gridcolor": "white",
            "gridwidth": 2,
            "linecolor": "white",
            "showbackground": true,
            "ticks": "",
            "zerolinecolor": "white"
           },
           "yaxis": {
            "backgroundcolor": "#E5ECF6",
            "gridcolor": "white",
            "gridwidth": 2,
            "linecolor": "white",
            "showbackground": true,
            "ticks": "",
            "zerolinecolor": "white"
           },
           "zaxis": {
            "backgroundcolor": "#E5ECF6",
            "gridcolor": "white",
            "gridwidth": 2,
            "linecolor": "white",
            "showbackground": true,
            "ticks": "",
            "zerolinecolor": "white"
           }
          },
          "shapedefaults": {
           "line": {
            "color": "#2a3f5f"
           }
          },
          "ternary": {
           "aaxis": {
            "gridcolor": "white",
            "linecolor": "white",
            "ticks": ""
           },
           "baxis": {
            "gridcolor": "white",
            "linecolor": "white",
            "ticks": ""
           },
           "bgcolor": "#E5ECF6",
           "caxis": {
            "gridcolor": "white",
            "linecolor": "white",
            "ticks": ""
           }
          },
          "title": {
           "x": 0.05
          },
          "xaxis": {
           "automargin": true,
           "gridcolor": "white",
           "linecolor": "white",
           "ticks": "",
           "title": {
            "standoff": 15
           },
           "zerolinecolor": "white",
           "zerolinewidth": 2
          },
          "yaxis": {
           "automargin": true,
           "gridcolor": "white",
           "linecolor": "white",
           "ticks": "",
           "title": {
            "standoff": 15
           },
           "zerolinecolor": "white",
           "zerolinewidth": 2
          }
         }
        },
        "title": {
         "text": "Validation Metrics Over Time (HOD Model)"
        },
        "xaxis": {
         "anchor": "y",
         "domain": [
          0,
          1
         ],
         "title": {
          "text": "index"
         }
        },
        "yaxis": {
         "anchor": "x",
         "domain": [
          0,
          1
         ],
         "title": {
          "text": "value"
         }
        }
       }
      }
     },
     "metadata": {},
     "output_type": "display_data"
    }
   ],
   "source": [
    "import datetime\n",
    "import plotly.express as px\n",
    "\n",
    "\n",
    "time_range = [datetime.time(hour, minute) for hour in range(9, 16) for minute in range(0, 60, 5)]\n",
    "time_range = [x for x in time_range if x >= datetime.time(9,45)]\n",
    "df_val = pd.DataFrame()\n",
    "for t in time_range:\n",
    "    X_val = X_test.loc[X_test['time'] <= t].copy()\n",
    "    y_val = y_test.loc[X_val.index, 'hod_in'].copy()\n",
    "\n",
    "    y_pred_val = pipeline.predict_proba(X_val)[:,-1]\n",
    "\n",
    "    df_val.loc[t, [\n",
    "        'roc_auc',\n",
    "        'precision',\n",
    "        'recall'\n",
    "    ]] =  roc_auc_score(y_val, y_pred_val), precision_score(y_val, y_pred_val > 0.5), recall_score(y_val, y_pred_val > 0.5)\n",
    "\n",
    "\n",
    "fig = px.line(df_val, title='Validation Metrics Over Time (HOD Model)')\n",
    "fig.show()"
   ]
  },
  {
   "cell_type": "code",
   "execution_count": 51,
   "metadata": {},
   "outputs": [
    {
     "data": {
      "application/vnd.plotly.v1+json": {
       "config": {
        "plotlyServerURL": "https://plot.ly"
       },
       "data": [
        {
         "hovertemplate": "variable=roc_auc<br>index=%{x}<br>value=%{y}<extra></extra>",
         "legendgroup": "roc_auc",
         "line": {
          "color": "#636efa",
          "dash": "solid"
         },
         "marker": {
          "symbol": "circle"
         },
         "mode": "lines",
         "name": "roc_auc",
         "orientation": "v",
         "showlegend": true,
         "type": "scatter",
         "x": [
          "09:45:00",
          "09:50:00",
          "09:55:00",
          "10:00:00",
          "10:05:00",
          "10:10:00",
          "10:15:00",
          "10:20:00",
          "10:25:00",
          "10:30:00",
          "10:35:00",
          "10:40:00",
          "10:45:00",
          "10:50:00",
          "10:55:00",
          "11:00:00",
          "11:05:00",
          "11:10:00",
          "11:15:00",
          "11:20:00",
          "11:25:00",
          "11:30:00",
          "11:35:00",
          "11:40:00",
          "11:45:00",
          "11:50:00",
          "11:55:00",
          "12:00:00",
          "12:05:00",
          "12:10:00",
          "12:15:00",
          "12:20:00",
          "12:25:00",
          "12:30:00",
          "12:35:00",
          "12:40:00",
          "12:45:00",
          "12:50:00",
          "12:55:00",
          "13:00:00",
          "13:05:00",
          "13:10:00",
          "13:15:00",
          "13:20:00",
          "13:25:00",
          "13:30:00",
          "13:35:00",
          "13:40:00",
          "13:45:00",
          "13:50:00",
          "13:55:00",
          "14:00:00",
          "14:05:00",
          "14:10:00",
          "14:15:00",
          "14:20:00",
          "14:25:00",
          "14:30:00",
          "14:35:00",
          "14:40:00",
          "14:45:00",
          "14:50:00",
          "14:55:00",
          "15:00:00",
          "15:05:00",
          "15:10:00",
          "15:15:00",
          "15:20:00",
          "15:25:00",
          "15:30:00",
          "15:35:00",
          "15:40:00",
          "15:45:00",
          "15:50:00",
          "15:55:00"
         ],
         "xaxis": "x",
         "y": [
          0.7287847040335255,
          0.734152693089431,
          0.7537037549844928,
          0.7576468914497083,
          0.7652634181845327,
          0.7791370955433455,
          0.7897396398201173,
          0.7949770664550795,
          0.7995456844784822,
          0.801843475877193,
          0.8044205843297036,
          0.8063619308026467,
          0.8097876131089128,
          0.808962611732291,
          0.8113529979939075,
          0.8128080047010714,
          0.8128751812683479,
          0.8140996075905104,
          0.8155407737134699,
          0.8171887037750385,
          0.8189353984592989,
          0.820813811466074,
          0.8234309982812239,
          0.8265653634580319,
          0.8280268681123077,
          0.8298477583083763,
          0.8324781128582528,
          0.8349374344529714,
          0.8371538841217796,
          0.8381370941117583,
          0.8393996620031423,
          0.8406834098710669,
          0.8422603258257145,
          0.8435706432915008,
          0.8442101640382607,
          0.8447137756007206,
          0.8453298895879412,
          0.8456156785493822,
          0.8453132496940023,
          0.8452912405627022,
          0.8454839588377723,
          0.8454877717544035,
          0.8456811109376297,
          0.8454738224264474,
          0.846263453039512,
          0.8468502789218533,
          0.8477349409479908,
          0.8482658886433435,
          0.8487003334356044,
          0.8489255326951328,
          0.8495563239841192,
          0.8501866432046584,
          0.8508468994188292,
          0.8514218985316263,
          0.8521731885524665,
          0.8528565240396243,
          0.8536667096025384,
          0.8547210799471381,
          0.8556779903824562,
          0.8564678681391124,
          0.857469194186167,
          0.8586848748994738,
          0.8597687289154106,
          0.8611534162473163,
          0.8619993753125027,
          0.8629762963063498,
          0.8640671385546064,
          0.8650412865644315,
          0.8658651921738774,
          0.8668806901800495,
          0.8682226246826754,
          0.8700305981149774,
          0.8715556075887294,
          0.8734508509106294,
          0.8765958593495369
         ],
         "yaxis": "y"
        },
        {
         "hovertemplate": "variable=precision<br>index=%{x}<br>value=%{y}<extra></extra>",
         "legendgroup": "precision",
         "line": {
          "color": "#EF553B",
          "dash": "solid"
         },
         "marker": {
          "symbol": "circle"
         },
         "mode": "lines",
         "name": "precision",
         "orientation": "v",
         "showlegend": true,
         "type": "scatter",
         "x": [
          "09:45:00",
          "09:50:00",
          "09:55:00",
          "10:00:00",
          "10:05:00",
          "10:10:00",
          "10:15:00",
          "10:20:00",
          "10:25:00",
          "10:30:00",
          "10:35:00",
          "10:40:00",
          "10:45:00",
          "10:50:00",
          "10:55:00",
          "11:00:00",
          "11:05:00",
          "11:10:00",
          "11:15:00",
          "11:20:00",
          "11:25:00",
          "11:30:00",
          "11:35:00",
          "11:40:00",
          "11:45:00",
          "11:50:00",
          "11:55:00",
          "12:00:00",
          "12:05:00",
          "12:10:00",
          "12:15:00",
          "12:20:00",
          "12:25:00",
          "12:30:00",
          "12:35:00",
          "12:40:00",
          "12:45:00",
          "12:50:00",
          "12:55:00",
          "13:00:00",
          "13:05:00",
          "13:10:00",
          "13:15:00",
          "13:20:00",
          "13:25:00",
          "13:30:00",
          "13:35:00",
          "13:40:00",
          "13:45:00",
          "13:50:00",
          "13:55:00",
          "14:00:00",
          "14:05:00",
          "14:10:00",
          "14:15:00",
          "14:20:00",
          "14:25:00",
          "14:30:00",
          "14:35:00",
          "14:40:00",
          "14:45:00",
          "14:50:00",
          "14:55:00",
          "15:00:00",
          "15:05:00",
          "15:10:00",
          "15:15:00",
          "15:20:00",
          "15:25:00",
          "15:30:00",
          "15:35:00",
          "15:40:00",
          "15:45:00",
          "15:50:00",
          "15:55:00"
         ],
         "xaxis": "x",
         "y": [
          0.38461538461538464,
          0.3793103448275862,
          0.45454545454545453,
          0.5064935064935064,
          0.5370370370370371,
          0.5945945945945946,
          0.6170212765957447,
          0.6333333333333333,
          0.6357388316151202,
          0.6381766381766382,
          0.6426858513189448,
          0.6460905349794238,
          0.6475849731663685,
          0.6446540880503144,
          0.6526019690576652,
          0.6581956797966964,
          0.6628041714947857,
          0.6677350427350427,
          0.670935960591133,
          0.6733393994540491,
          0.6785714285714286,
          0.6833333333333333,
          0.6884758364312268,
          0.6959553695955369,
          0.7022950819672131,
          0.7077399380804954,
          0.7123529411764706,
          0.7164345403899721,
          0.7186009538950715,
          0.7207070707070707,
          0.7234555984555985,
          0.7250115154306771,
          0.7274328489652135,
          0.7297639123102867,
          0.731638418079096,
          0.7328952454580595,
          0.7338769458858414,
          0.7349697616506581,
          0.7371310912834592,
          0.7389292795769994,
          0.7404458598726115,
          0.7421538461538462,
          0.743681236990782,
          0.7451826287029047,
          0.7473567056204786,
          0.7502693965517241,
          0.7525450274079875,
          0.754363774348596,
          0.7564448809231524,
          0.7585139318885449,
          0.7603974121996303,
          0.7627917414721723,
          0.7645519947678221,
          0.7662640389913117,
          0.7685967442818875,
          0.771021473008228,
          0.7731273225112458,
          0.7754907566228321,
          0.7775714816190122,
          0.7797500452816519,
          0.7820399505038006,
          0.7847773558853987,
          0.7875927174645988,
          0.7903570840875432,
          0.792483135239319,
          0.795076826591408,
          0.7980725103258376,
          0.800417972831766,
          0.803030303030303,
          0.8050305527923831,
          0.8077296024380108,
          0.810741341991342,
          0.8134810710987996,
          0.8169068450849202,
          0.821723878727136
         ],
         "yaxis": "y"
        },
        {
         "hovertemplate": "variable=recall<br>index=%{x}<br>value=%{y}<extra></extra>",
         "legendgroup": "recall",
         "line": {
          "color": "#00cc96",
          "dash": "solid"
         },
         "marker": {
          "symbol": "circle"
         },
         "mode": "lines",
         "name": "recall",
         "orientation": "v",
         "showlegend": true,
         "type": "scatter",
         "x": [
          "09:45:00",
          "09:50:00",
          "09:55:00",
          "10:00:00",
          "10:05:00",
          "10:10:00",
          "10:15:00",
          "10:20:00",
          "10:25:00",
          "10:30:00",
          "10:35:00",
          "10:40:00",
          "10:45:00",
          "10:50:00",
          "10:55:00",
          "11:00:00",
          "11:05:00",
          "11:10:00",
          "11:15:00",
          "11:20:00",
          "11:25:00",
          "11:30:00",
          "11:35:00",
          "11:40:00",
          "11:45:00",
          "11:50:00",
          "11:55:00",
          "12:00:00",
          "12:05:00",
          "12:10:00",
          "12:15:00",
          "12:20:00",
          "12:25:00",
          "12:30:00",
          "12:35:00",
          "12:40:00",
          "12:45:00",
          "12:50:00",
          "12:55:00",
          "13:00:00",
          "13:05:00",
          "13:10:00",
          "13:15:00",
          "13:20:00",
          "13:25:00",
          "13:30:00",
          "13:35:00",
          "13:40:00",
          "13:45:00",
          "13:50:00",
          "13:55:00",
          "14:00:00",
          "14:05:00",
          "14:10:00",
          "14:15:00",
          "14:20:00",
          "14:25:00",
          "14:30:00",
          "14:35:00",
          "14:40:00",
          "14:45:00",
          "14:50:00",
          "14:55:00",
          "15:00:00",
          "15:05:00",
          "15:10:00",
          "15:15:00",
          "15:20:00",
          "15:25:00",
          "15:30:00",
          "15:35:00",
          "15:40:00",
          "15:45:00",
          "15:50:00",
          "15:55:00"
         ],
         "xaxis": "x",
         "y": [
          0.10869565217391304,
          0.11458333333333333,
          0.13513513513513514,
          0.18660287081339713,
          0.21323529411764705,
          0.2619047619047619,
          0.2892768079800499,
          0.3247863247863248,
          0.3451492537313433,
          0.3684210526315789,
          0.3935389133627019,
          0.41534391534391535,
          0.43561973525872444,
          0.45054945054945056,
          0.4691607684529828,
          0.48411214953271026,
          0.49566724436741766,
          0.5048465266558966,
          0.5147392290249433,
          0.5255681818181818,
          0.5337792642140469,
          0.543903979785218,
          0.5541591861160982,
          0.5667234525837592,
          0.5773584905660377,
          0.586454592098512,
          0.5927557513460597,
          0.6014967259120674,
          0.6072548141513658,
          0.6124463519313305,
          0.6173805601317958,
          0.6228729719034428,
          0.628854206318995,
          0.634065934065934,
          0.6397318278052223,
          0.6451173868662811,
          0.650032829940906,
          0.6548335974643423,
          0.6572827417380661,
          0.6609518179130949,
          0.6642857142857143,
          0.6664824537164963,
          0.6688954265846483,
          0.6710696710696711,
          0.6747048480281337,
          0.6789371038517796,
          0.682690030783803,
          0.6861481822365394,
          0.6891075821963767,
          0.6926924749891257,
          0.6965079365079365,
          0.6999588138385503,
          0.7032283938239422,
          0.70625,
          0.7099352874000762,
          0.7129337539432177,
          0.7154751131221719,
          0.7183968926553672,
          0.7215713301171606,
          0.7237726967047747,
          0.7260791071721647,
          0.728802692739221,
          0.7313713212273012,
          0.7345159810368558,
          0.7369678864824496,
          0.7398599358039101,
          0.7435860889395667,
          0.746588693957115,
          0.7498299551081485,
          0.7531241691039617,
          0.7577647823261858,
          0.7615961367391028,
          0.7661821344266369,
          0.7705097087378641,
          0.7762130177514793
         ],
         "yaxis": "y"
        }
       ],
       "layout": {
        "legend": {
         "title": {
          "text": "variable"
         },
         "tracegroupgap": 0
        },
        "template": {
         "data": {
          "bar": [
           {
            "error_x": {
             "color": "#2a3f5f"
            },
            "error_y": {
             "color": "#2a3f5f"
            },
            "marker": {
             "line": {
              "color": "#E5ECF6",
              "width": 0.5
             },
             "pattern": {
              "fillmode": "overlay",
              "size": 10,
              "solidity": 0.2
             }
            },
            "type": "bar"
           }
          ],
          "barpolar": [
           {
            "marker": {
             "line": {
              "color": "#E5ECF6",
              "width": 0.5
             },
             "pattern": {
              "fillmode": "overlay",
              "size": 10,
              "solidity": 0.2
             }
            },
            "type": "barpolar"
           }
          ],
          "carpet": [
           {
            "aaxis": {
             "endlinecolor": "#2a3f5f",
             "gridcolor": "white",
             "linecolor": "white",
             "minorgridcolor": "white",
             "startlinecolor": "#2a3f5f"
            },
            "baxis": {
             "endlinecolor": "#2a3f5f",
             "gridcolor": "white",
             "linecolor": "white",
             "minorgridcolor": "white",
             "startlinecolor": "#2a3f5f"
            },
            "type": "carpet"
           }
          ],
          "choropleth": [
           {
            "colorbar": {
             "outlinewidth": 0,
             "ticks": ""
            },
            "type": "choropleth"
           }
          ],
          "contour": [
           {
            "colorbar": {
             "outlinewidth": 0,
             "ticks": ""
            },
            "colorscale": [
             [
              0,
              "#0d0887"
             ],
             [
              0.1111111111111111,
              "#46039f"
             ],
             [
              0.2222222222222222,
              "#7201a8"
             ],
             [
              0.3333333333333333,
              "#9c179e"
             ],
             [
              0.4444444444444444,
              "#bd3786"
             ],
             [
              0.5555555555555556,
              "#d8576b"
             ],
             [
              0.6666666666666666,
              "#ed7953"
             ],
             [
              0.7777777777777778,
              "#fb9f3a"
             ],
             [
              0.8888888888888888,
              "#fdca26"
             ],
             [
              1,
              "#f0f921"
             ]
            ],
            "type": "contour"
           }
          ],
          "contourcarpet": [
           {
            "colorbar": {
             "outlinewidth": 0,
             "ticks": ""
            },
            "type": "contourcarpet"
           }
          ],
          "heatmap": [
           {
            "colorbar": {
             "outlinewidth": 0,
             "ticks": ""
            },
            "colorscale": [
             [
              0,
              "#0d0887"
             ],
             [
              0.1111111111111111,
              "#46039f"
             ],
             [
              0.2222222222222222,
              "#7201a8"
             ],
             [
              0.3333333333333333,
              "#9c179e"
             ],
             [
              0.4444444444444444,
              "#bd3786"
             ],
             [
              0.5555555555555556,
              "#d8576b"
             ],
             [
              0.6666666666666666,
              "#ed7953"
             ],
             [
              0.7777777777777778,
              "#fb9f3a"
             ],
             [
              0.8888888888888888,
              "#fdca26"
             ],
             [
              1,
              "#f0f921"
             ]
            ],
            "type": "heatmap"
           }
          ],
          "heatmapgl": [
           {
            "colorbar": {
             "outlinewidth": 0,
             "ticks": ""
            },
            "colorscale": [
             [
              0,
              "#0d0887"
             ],
             [
              0.1111111111111111,
              "#46039f"
             ],
             [
              0.2222222222222222,
              "#7201a8"
             ],
             [
              0.3333333333333333,
              "#9c179e"
             ],
             [
              0.4444444444444444,
              "#bd3786"
             ],
             [
              0.5555555555555556,
              "#d8576b"
             ],
             [
              0.6666666666666666,
              "#ed7953"
             ],
             [
              0.7777777777777778,
              "#fb9f3a"
             ],
             [
              0.8888888888888888,
              "#fdca26"
             ],
             [
              1,
              "#f0f921"
             ]
            ],
            "type": "heatmapgl"
           }
          ],
          "histogram": [
           {
            "marker": {
             "pattern": {
              "fillmode": "overlay",
              "size": 10,
              "solidity": 0.2
             }
            },
            "type": "histogram"
           }
          ],
          "histogram2d": [
           {
            "colorbar": {
             "outlinewidth": 0,
             "ticks": ""
            },
            "colorscale": [
             [
              0,
              "#0d0887"
             ],
             [
              0.1111111111111111,
              "#46039f"
             ],
             [
              0.2222222222222222,
              "#7201a8"
             ],
             [
              0.3333333333333333,
              "#9c179e"
             ],
             [
              0.4444444444444444,
              "#bd3786"
             ],
             [
              0.5555555555555556,
              "#d8576b"
             ],
             [
              0.6666666666666666,
              "#ed7953"
             ],
             [
              0.7777777777777778,
              "#fb9f3a"
             ],
             [
              0.8888888888888888,
              "#fdca26"
             ],
             [
              1,
              "#f0f921"
             ]
            ],
            "type": "histogram2d"
           }
          ],
          "histogram2dcontour": [
           {
            "colorbar": {
             "outlinewidth": 0,
             "ticks": ""
            },
            "colorscale": [
             [
              0,
              "#0d0887"
             ],
             [
              0.1111111111111111,
              "#46039f"
             ],
             [
              0.2222222222222222,
              "#7201a8"
             ],
             [
              0.3333333333333333,
              "#9c179e"
             ],
             [
              0.4444444444444444,
              "#bd3786"
             ],
             [
              0.5555555555555556,
              "#d8576b"
             ],
             [
              0.6666666666666666,
              "#ed7953"
             ],
             [
              0.7777777777777778,
              "#fb9f3a"
             ],
             [
              0.8888888888888888,
              "#fdca26"
             ],
             [
              1,
              "#f0f921"
             ]
            ],
            "type": "histogram2dcontour"
           }
          ],
          "mesh3d": [
           {
            "colorbar": {
             "outlinewidth": 0,
             "ticks": ""
            },
            "type": "mesh3d"
           }
          ],
          "parcoords": [
           {
            "line": {
             "colorbar": {
              "outlinewidth": 0,
              "ticks": ""
             }
            },
            "type": "parcoords"
           }
          ],
          "pie": [
           {
            "automargin": true,
            "type": "pie"
           }
          ],
          "scatter": [
           {
            "fillpattern": {
             "fillmode": "overlay",
             "size": 10,
             "solidity": 0.2
            },
            "type": "scatter"
           }
          ],
          "scatter3d": [
           {
            "line": {
             "colorbar": {
              "outlinewidth": 0,
              "ticks": ""
             }
            },
            "marker": {
             "colorbar": {
              "outlinewidth": 0,
              "ticks": ""
             }
            },
            "type": "scatter3d"
           }
          ],
          "scattercarpet": [
           {
            "marker": {
             "colorbar": {
              "outlinewidth": 0,
              "ticks": ""
             }
            },
            "type": "scattercarpet"
           }
          ],
          "scattergeo": [
           {
            "marker": {
             "colorbar": {
              "outlinewidth": 0,
              "ticks": ""
             }
            },
            "type": "scattergeo"
           }
          ],
          "scattergl": [
           {
            "marker": {
             "colorbar": {
              "outlinewidth": 0,
              "ticks": ""
             }
            },
            "type": "scattergl"
           }
          ],
          "scattermapbox": [
           {
            "marker": {
             "colorbar": {
              "outlinewidth": 0,
              "ticks": ""
             }
            },
            "type": "scattermapbox"
           }
          ],
          "scatterpolar": [
           {
            "marker": {
             "colorbar": {
              "outlinewidth": 0,
              "ticks": ""
             }
            },
            "type": "scatterpolar"
           }
          ],
          "scatterpolargl": [
           {
            "marker": {
             "colorbar": {
              "outlinewidth": 0,
              "ticks": ""
             }
            },
            "type": "scatterpolargl"
           }
          ],
          "scatterternary": [
           {
            "marker": {
             "colorbar": {
              "outlinewidth": 0,
              "ticks": ""
             }
            },
            "type": "scatterternary"
           }
          ],
          "surface": [
           {
            "colorbar": {
             "outlinewidth": 0,
             "ticks": ""
            },
            "colorscale": [
             [
              0,
              "#0d0887"
             ],
             [
              0.1111111111111111,
              "#46039f"
             ],
             [
              0.2222222222222222,
              "#7201a8"
             ],
             [
              0.3333333333333333,
              "#9c179e"
             ],
             [
              0.4444444444444444,
              "#bd3786"
             ],
             [
              0.5555555555555556,
              "#d8576b"
             ],
             [
              0.6666666666666666,
              "#ed7953"
             ],
             [
              0.7777777777777778,
              "#fb9f3a"
             ],
             [
              0.8888888888888888,
              "#fdca26"
             ],
             [
              1,
              "#f0f921"
             ]
            ],
            "type": "surface"
           }
          ],
          "table": [
           {
            "cells": {
             "fill": {
              "color": "#EBF0F8"
             },
             "line": {
              "color": "white"
             }
            },
            "header": {
             "fill": {
              "color": "#C8D4E3"
             },
             "line": {
              "color": "white"
             }
            },
            "type": "table"
           }
          ]
         },
         "layout": {
          "annotationdefaults": {
           "arrowcolor": "#2a3f5f",
           "arrowhead": 0,
           "arrowwidth": 1
          },
          "autotypenumbers": "strict",
          "coloraxis": {
           "colorbar": {
            "outlinewidth": 0,
            "ticks": ""
           }
          },
          "colorscale": {
           "diverging": [
            [
             0,
             "#8e0152"
            ],
            [
             0.1,
             "#c51b7d"
            ],
            [
             0.2,
             "#de77ae"
            ],
            [
             0.3,
             "#f1b6da"
            ],
            [
             0.4,
             "#fde0ef"
            ],
            [
             0.5,
             "#f7f7f7"
            ],
            [
             0.6,
             "#e6f5d0"
            ],
            [
             0.7,
             "#b8e186"
            ],
            [
             0.8,
             "#7fbc41"
            ],
            [
             0.9,
             "#4d9221"
            ],
            [
             1,
             "#276419"
            ]
           ],
           "sequential": [
            [
             0,
             "#0d0887"
            ],
            [
             0.1111111111111111,
             "#46039f"
            ],
            [
             0.2222222222222222,
             "#7201a8"
            ],
            [
             0.3333333333333333,
             "#9c179e"
            ],
            [
             0.4444444444444444,
             "#bd3786"
            ],
            [
             0.5555555555555556,
             "#d8576b"
            ],
            [
             0.6666666666666666,
             "#ed7953"
            ],
            [
             0.7777777777777778,
             "#fb9f3a"
            ],
            [
             0.8888888888888888,
             "#fdca26"
            ],
            [
             1,
             "#f0f921"
            ]
           ],
           "sequentialminus": [
            [
             0,
             "#0d0887"
            ],
            [
             0.1111111111111111,
             "#46039f"
            ],
            [
             0.2222222222222222,
             "#7201a8"
            ],
            [
             0.3333333333333333,
             "#9c179e"
            ],
            [
             0.4444444444444444,
             "#bd3786"
            ],
            [
             0.5555555555555556,
             "#d8576b"
            ],
            [
             0.6666666666666666,
             "#ed7953"
            ],
            [
             0.7777777777777778,
             "#fb9f3a"
            ],
            [
             0.8888888888888888,
             "#fdca26"
            ],
            [
             1,
             "#f0f921"
            ]
           ]
          },
          "colorway": [
           "#636efa",
           "#EF553B",
           "#00cc96",
           "#ab63fa",
           "#FFA15A",
           "#19d3f3",
           "#FF6692",
           "#B6E880",
           "#FF97FF",
           "#FECB52"
          ],
          "font": {
           "color": "#2a3f5f"
          },
          "geo": {
           "bgcolor": "white",
           "lakecolor": "white",
           "landcolor": "#E5ECF6",
           "showlakes": true,
           "showland": true,
           "subunitcolor": "white"
          },
          "hoverlabel": {
           "align": "left"
          },
          "hovermode": "closest",
          "mapbox": {
           "style": "light"
          },
          "paper_bgcolor": "white",
          "plot_bgcolor": "#E5ECF6",
          "polar": {
           "angularaxis": {
            "gridcolor": "white",
            "linecolor": "white",
            "ticks": ""
           },
           "bgcolor": "#E5ECF6",
           "radialaxis": {
            "gridcolor": "white",
            "linecolor": "white",
            "ticks": ""
           }
          },
          "scene": {
           "xaxis": {
            "backgroundcolor": "#E5ECF6",
            "gridcolor": "white",
            "gridwidth": 2,
            "linecolor": "white",
            "showbackground": true,
            "ticks": "",
            "zerolinecolor": "white"
           },
           "yaxis": {
            "backgroundcolor": "#E5ECF6",
            "gridcolor": "white",
            "gridwidth": 2,
            "linecolor": "white",
            "showbackground": true,
            "ticks": "",
            "zerolinecolor": "white"
           },
           "zaxis": {
            "backgroundcolor": "#E5ECF6",
            "gridcolor": "white",
            "gridwidth": 2,
            "linecolor": "white",
            "showbackground": true,
            "ticks": "",
            "zerolinecolor": "white"
           }
          },
          "shapedefaults": {
           "line": {
            "color": "#2a3f5f"
           }
          },
          "ternary": {
           "aaxis": {
            "gridcolor": "white",
            "linecolor": "white",
            "ticks": ""
           },
           "baxis": {
            "gridcolor": "white",
            "linecolor": "white",
            "ticks": ""
           },
           "bgcolor": "#E5ECF6",
           "caxis": {
            "gridcolor": "white",
            "linecolor": "white",
            "ticks": ""
           }
          },
          "title": {
           "x": 0.05
          },
          "xaxis": {
           "automargin": true,
           "gridcolor": "white",
           "linecolor": "white",
           "ticks": "",
           "title": {
            "standoff": 15
           },
           "zerolinecolor": "white",
           "zerolinewidth": 2
          },
          "yaxis": {
           "automargin": true,
           "gridcolor": "white",
           "linecolor": "white",
           "ticks": "",
           "title": {
            "standoff": 15
           },
           "zerolinecolor": "white",
           "zerolinewidth": 2
          }
         }
        },
        "title": {
         "text": "Validation Metrics Over Time (HOD Model)"
        },
        "xaxis": {
         "anchor": "y",
         "domain": [
          0,
          1
         ],
         "title": {
          "text": "index"
         }
        },
        "yaxis": {
         "anchor": "x",
         "domain": [
          0,
          1
         ],
         "title": {
          "text": "value"
         }
        }
       }
      }
     },
     "metadata": {},
     "output_type": "display_data"
    }
   ],
   "source": [
    "import datetime\n",
    "import plotly.express as px\n",
    "\n",
    "\n",
    "time_range = [datetime.time(hour, minute) for hour in range(9, 16) for minute in range(0, 60, 5)]\n",
    "time_range = [x for x in time_range if x >= datetime.time(9,45)]\n",
    "df_val = pd.DataFrame()\n",
    "for t in time_range:\n",
    "    X_val = X_test.loc[X_test['time'] <= t].copy()\n",
    "    y_val = y_test.loc[X_val.index, 'hod_in'].copy()\n",
    "\n",
    "    y_pred_val = pipeline.predict_proba(X_val)[:,-1]\n",
    "\n",
    "    df_val.loc[t, [\n",
    "        'roc_auc',\n",
    "        'precision',\n",
    "        'recall'\n",
    "    ]] =  roc_auc_score(y_val, y_pred_val), precision_score(y_val, y_pred_val > 0.5), recall_score(y_val, y_pred_val > 0.5)\n",
    "\n",
    "\n",
    "fig = px.line(df_val, title='Validation Metrics Over Time (HOD Model)')\n",
    "fig.show()"
   ]
  },
  {
   "cell_type": "code",
   "execution_count": 52,
   "metadata": {},
   "outputs": [
    {
     "data": {
      "application/vnd.plotly.v1+json": {
       "config": {
        "plotlyServerURL": "https://plot.ly"
       },
       "data": [
        {
         "hovertemplate": "variable=roc_auc<br>index=%{x}<br>value=%{y}<extra></extra>",
         "legendgroup": "roc_auc",
         "line": {
          "color": "#636efa",
          "dash": "solid"
         },
         "marker": {
          "symbol": "circle"
         },
         "mode": "lines",
         "name": "roc_auc",
         "orientation": "v",
         "showlegend": true,
         "type": "scatter",
         "x": [
          "09:45:00",
          "09:50:00",
          "09:55:00",
          "10:00:00",
          "10:05:00",
          "10:10:00",
          "10:15:00",
          "10:20:00",
          "10:25:00",
          "10:30:00",
          "10:35:00",
          "10:40:00",
          "10:45:00",
          "10:50:00",
          "10:55:00",
          "11:00:00",
          "11:05:00",
          "11:10:00",
          "11:15:00",
          "11:20:00",
          "11:25:00",
          "11:30:00",
          "11:35:00",
          "11:40:00",
          "11:45:00",
          "11:50:00",
          "11:55:00",
          "12:00:00",
          "12:05:00",
          "12:10:00",
          "12:15:00",
          "12:20:00",
          "12:25:00",
          "12:30:00",
          "12:35:00",
          "12:40:00",
          "12:45:00",
          "12:50:00",
          "12:55:00",
          "13:00:00",
          "13:05:00",
          "13:10:00",
          "13:15:00",
          "13:20:00",
          "13:25:00",
          "13:30:00",
          "13:35:00",
          "13:40:00",
          "13:45:00",
          "13:50:00",
          "13:55:00",
          "14:00:00",
          "14:05:00",
          "14:10:00",
          "14:15:00",
          "14:20:00",
          "14:25:00",
          "14:30:00",
          "14:35:00",
          "14:40:00",
          "14:45:00",
          "14:50:00",
          "14:55:00",
          "15:00:00",
          "15:05:00",
          "15:10:00",
          "15:15:00",
          "15:20:00",
          "15:25:00",
          "15:30:00",
          "15:35:00",
          "15:40:00",
          "15:45:00",
          "15:50:00",
          "15:55:00"
         ],
         "xaxis": "x",
         "y": [
          0.7274751178627553,
          0.7341844512195121,
          0.7560229286663712,
          0.7636633196307028,
          0.7727493281576591,
          0.787593482905983,
          0.7978438023132379,
          0.801884100336869,
          0.805853204821374,
          0.8087177579365079,
          0.8108599691727792,
          0.811956251553567,
          0.8143922984356198,
          0.8137250504597442,
          0.8150190664170318,
          0.8154724818276221,
          0.8153842888975348,
          0.8160920476606454,
          0.8172235006140472,
          0.8190144292501284,
          0.8208271738847674,
          0.8224762328890847,
          0.8251753553086469,
          0.8282470936687715,
          0.8297524049464242,
          0.8319826067096593,
          0.8345655343023659,
          0.8368383290698517,
          0.8387618898914975,
          0.8397222547630966,
          0.840905630418604,
          0.8422433071663247,
          0.8436309803915761,
          0.8449673372630051,
          0.8458040657014798,
          0.8464716948287312,
          0.8470655725725069,
          0.8473286767375978,
          0.8470827417380661,
          0.8470188540365968,
          0.8469630200308167,
          0.8467513645395648,
          0.8467003302676507,
          0.8462404006578141,
          0.8468093698803345,
          0.847281930330245,
          0.848118484299765,
          0.848398366132051,
          0.848627709971266,
          0.8486443260153034,
          0.848989045972415,
          0.8494458680478938,
          0.849943925784636,
          0.8503493517656151,
          0.85100774172432,
          0.8516579180040525,
          0.852351763902566,
          0.8532815193078349,
          0.8541203148029126,
          0.8548099251516406,
          0.8558600628450804,
          0.8570743781252967,
          0.8582648518489842,
          0.8596477260569957,
          0.8604809033498602,
          0.86143784599889,
          0.8626042017358057,
          0.8635480682597918,
          0.8644498295862226,
          0.8654965662486596,
          0.8667953935180737,
          0.868566648071988,
          0.8700463730208781,
          0.871987371019897,
          0.8751685257391245
         ],
         "yaxis": "y"
        },
        {
         "hovertemplate": "variable=precision<br>index=%{x}<br>value=%{y}<extra></extra>",
         "legendgroup": "precision",
         "line": {
          "color": "#EF553B",
          "dash": "solid"
         },
         "marker": {
          "symbol": "circle"
         },
         "mode": "lines",
         "name": "precision",
         "orientation": "v",
         "showlegend": true,
         "type": "scatter",
         "x": [
          "09:45:00",
          "09:50:00",
          "09:55:00",
          "10:00:00",
          "10:05:00",
          "10:10:00",
          "10:15:00",
          "10:20:00",
          "10:25:00",
          "10:30:00",
          "10:35:00",
          "10:40:00",
          "10:45:00",
          "10:50:00",
          "10:55:00",
          "11:00:00",
          "11:05:00",
          "11:10:00",
          "11:15:00",
          "11:20:00",
          "11:25:00",
          "11:30:00",
          "11:35:00",
          "11:40:00",
          "11:45:00",
          "11:50:00",
          "11:55:00",
          "12:00:00",
          "12:05:00",
          "12:10:00",
          "12:15:00",
          "12:20:00",
          "12:25:00",
          "12:30:00",
          "12:35:00",
          "12:40:00",
          "12:45:00",
          "12:50:00",
          "12:55:00",
          "13:00:00",
          "13:05:00",
          "13:10:00",
          "13:15:00",
          "13:20:00",
          "13:25:00",
          "13:30:00",
          "13:35:00",
          "13:40:00",
          "13:45:00",
          "13:50:00",
          "13:55:00",
          "14:00:00",
          "14:05:00",
          "14:10:00",
          "14:15:00",
          "14:20:00",
          "14:25:00",
          "14:30:00",
          "14:35:00",
          "14:40:00",
          "14:45:00",
          "14:50:00",
          "14:55:00",
          "15:00:00",
          "15:05:00",
          "15:10:00",
          "15:15:00",
          "15:20:00",
          "15:25:00",
          "15:30:00",
          "15:35:00",
          "15:40:00",
          "15:45:00",
          "15:50:00",
          "15:55:00"
         ],
         "xaxis": "x",
         "y": [
          0.4782608695652174,
          0.45652173913043476,
          0.46774193548387094,
          0.5,
          0.515625,
          0.562874251497006,
          0.5922330097087378,
          0.6078431372549019,
          0.6163934426229508,
          0.6318681318681318,
          0.6388888888888888,
          0.6403162055335968,
          0.6418685121107266,
          0.6402439024390244,
          0.6439290586630286,
          0.6480793060718711,
          0.6527149321266968,
          0.6579770594369134,
          0.6608695652173913,
          0.6630920464700626,
          0.6669442131557036,
          0.6710833982852689,
          0.6769005847953217,
          0.6851851851851852,
          0.6918604651162791,
          0.6982284667073916,
          0.703016241299304,
          0.7079207920792079,
          0.7103340292275574,
          0.7115862754848334,
          0.713472485768501,
          0.7162959600544712,
          0.7186956521739131,
          0.7218295218295219,
          0.7247011952191235,
          0.7261632341723875,
          0.7277716794731065,
          0.7284861257463997,
          0.7301049779884863,
          0.7309446254071661,
          0.7318681318681318,
          0.7334748332322619,
          0.7354233811895693,
          0.7369762174405436,
          0.7387855579868708,
          0.7409367557554909,
          0.7425641025641025,
          0.7437298236900919,
          0.7452444016373706,
          0.747196261682243,
          0.7496030845996825,
          0.7525909592061742,
          0.7545512957806811,
          0.7563007706727765,
          0.759026369168357,
          0.7609640458316871,
          0.7626923076923077,
          0.7649812734082397,
          0.7673357664233577,
          0.7698878804057662,
          0.7722617601110918,
          0.7750677506775068,
          0.7780350645054581,
          0.7809723792602165,
          0.7833149345529097,
          0.7861654598675089,
          0.7891729323308271,
          0.7918073704301865,
          0.7947247706422018,
          0.7970345502867534,
          0.7995093362409704,
          0.8023936170212767,
          0.8049792531120332,
          0.8084756483238457,
          0.8134319162045595
         ],
         "yaxis": "y"
        },
        {
         "hovertemplate": "variable=recall<br>index=%{x}<br>value=%{y}<extra></extra>",
         "legendgroup": "recall",
         "line": {
          "color": "#00cc96",
          "dash": "solid"
         },
         "marker": {
          "symbol": "circle"
         },
         "mode": "lines",
         "name": "recall",
         "orientation": "v",
         "showlegend": true,
         "type": "scatter",
         "x": [
          "09:45:00",
          "09:50:00",
          "09:55:00",
          "10:00:00",
          "10:05:00",
          "10:10:00",
          "10:15:00",
          "10:20:00",
          "10:25:00",
          "10:30:00",
          "10:35:00",
          "10:40:00",
          "10:45:00",
          "10:50:00",
          "10:55:00",
          "11:00:00",
          "11:05:00",
          "11:10:00",
          "11:15:00",
          "11:20:00",
          "11:25:00",
          "11:30:00",
          "11:35:00",
          "11:40:00",
          "11:45:00",
          "11:50:00",
          "11:55:00",
          "12:00:00",
          "12:05:00",
          "12:10:00",
          "12:15:00",
          "12:20:00",
          "12:25:00",
          "12:30:00",
          "12:35:00",
          "12:40:00",
          "12:45:00",
          "12:50:00",
          "12:55:00",
          "13:00:00",
          "13:05:00",
          "13:10:00",
          "13:15:00",
          "13:20:00",
          "13:25:00",
          "13:30:00",
          "13:35:00",
          "13:40:00",
          "13:45:00",
          "13:50:00",
          "13:55:00",
          "14:00:00",
          "14:05:00",
          "14:10:00",
          "14:15:00",
          "14:20:00",
          "14:25:00",
          "14:30:00",
          "14:35:00",
          "14:40:00",
          "14:45:00",
          "14:50:00",
          "14:55:00",
          "15:00:00",
          "15:05:00",
          "15:10:00",
          "15:15:00",
          "15:20:00",
          "15:25:00",
          "15:30:00",
          "15:35:00",
          "15:40:00",
          "15:45:00",
          "15:50:00",
          "15:55:00"
         ],
         "xaxis": "x",
         "y": [
          0.2391304347826087,
          0.21875,
          0.19594594594594594,
          0.22488038277511962,
          0.2426470588235294,
          0.27976190476190477,
          0.30423940149625933,
          0.3311965811965812,
          0.35074626865671643,
          0.3782894736842105,
          0.4052863436123348,
          0.42857142857142855,
          0.4464500601684717,
          0.46153846153846156,
          0.47724974721941354,
          0.48878504672897194,
          0.5,
          0.5096930533117933,
          0.5170068027210885,
          0.5269886363636364,
          0.5357859531772575,
          0.543903979785218,
          0.5541591861160982,
          0.5672913117546848,
          0.5773584905660377,
          0.586454592098512,
          0.593245227606461,
          0.6019644527595884,
          0.6094939543215405,
          0.6141630901287554,
          0.6194398682042833,
          0.6244558765334388,
          0.6292348686714884,
          0.6358974358974359,
          0.641848976711362,
          0.6478394011568561,
          0.6529875246224557,
          0.6573692551505547,
          0.6597307221542228,
          0.6633165829145728,
          0.666,
          0.6684166896932855,
          0.6713024872960685,
          0.6741776741776742,
          0.6784727455413213,
          0.6825938566552902,
          0.6857684110821691,
          0.689139438564197,
          0.692238872735406,
          0.6955197912135711,
          0.6994708994708995,
          0.7028418451400329,
          0.7064367355123321,
          0.7091796875,
          0.7122192615150361,
          0.71478938578586,
          0.7178280542986425,
          0.7212217514124294,
          0.724500344589938,
          0.7273032952252858,
          0.7301821762678483,
          0.7334508735374259,
          0.736380713838447,
          0.7394096956721211,
          0.7418969380134429,
          0.7445287423402392,
          0.7480045610034207,
          0.7509050403787246,
          0.7541831043395456,
          0.7575113001861207,
          0.7623131903833659,
          0.7668064557122888,
          0.7712759348987452,
          0.7756067961165048,
          0.7811834319526627
         ],
         "yaxis": "y"
        }
       ],
       "layout": {
        "legend": {
         "title": {
          "text": "variable"
         },
         "tracegroupgap": 0
        },
        "template": {
         "data": {
          "bar": [
           {
            "error_x": {
             "color": "#2a3f5f"
            },
            "error_y": {
             "color": "#2a3f5f"
            },
            "marker": {
             "line": {
              "color": "#E5ECF6",
              "width": 0.5
             },
             "pattern": {
              "fillmode": "overlay",
              "size": 10,
              "solidity": 0.2
             }
            },
            "type": "bar"
           }
          ],
          "barpolar": [
           {
            "marker": {
             "line": {
              "color": "#E5ECF6",
              "width": 0.5
             },
             "pattern": {
              "fillmode": "overlay",
              "size": 10,
              "solidity": 0.2
             }
            },
            "type": "barpolar"
           }
          ],
          "carpet": [
           {
            "aaxis": {
             "endlinecolor": "#2a3f5f",
             "gridcolor": "white",
             "linecolor": "white",
             "minorgridcolor": "white",
             "startlinecolor": "#2a3f5f"
            },
            "baxis": {
             "endlinecolor": "#2a3f5f",
             "gridcolor": "white",
             "linecolor": "white",
             "minorgridcolor": "white",
             "startlinecolor": "#2a3f5f"
            },
            "type": "carpet"
           }
          ],
          "choropleth": [
           {
            "colorbar": {
             "outlinewidth": 0,
             "ticks": ""
            },
            "type": "choropleth"
           }
          ],
          "contour": [
           {
            "colorbar": {
             "outlinewidth": 0,
             "ticks": ""
            },
            "colorscale": [
             [
              0,
              "#0d0887"
             ],
             [
              0.1111111111111111,
              "#46039f"
             ],
             [
              0.2222222222222222,
              "#7201a8"
             ],
             [
              0.3333333333333333,
              "#9c179e"
             ],
             [
              0.4444444444444444,
              "#bd3786"
             ],
             [
              0.5555555555555556,
              "#d8576b"
             ],
             [
              0.6666666666666666,
              "#ed7953"
             ],
             [
              0.7777777777777778,
              "#fb9f3a"
             ],
             [
              0.8888888888888888,
              "#fdca26"
             ],
             [
              1,
              "#f0f921"
             ]
            ],
            "type": "contour"
           }
          ],
          "contourcarpet": [
           {
            "colorbar": {
             "outlinewidth": 0,
             "ticks": ""
            },
            "type": "contourcarpet"
           }
          ],
          "heatmap": [
           {
            "colorbar": {
             "outlinewidth": 0,
             "ticks": ""
            },
            "colorscale": [
             [
              0,
              "#0d0887"
             ],
             [
              0.1111111111111111,
              "#46039f"
             ],
             [
              0.2222222222222222,
              "#7201a8"
             ],
             [
              0.3333333333333333,
              "#9c179e"
             ],
             [
              0.4444444444444444,
              "#bd3786"
             ],
             [
              0.5555555555555556,
              "#d8576b"
             ],
             [
              0.6666666666666666,
              "#ed7953"
             ],
             [
              0.7777777777777778,
              "#fb9f3a"
             ],
             [
              0.8888888888888888,
              "#fdca26"
             ],
             [
              1,
              "#f0f921"
             ]
            ],
            "type": "heatmap"
           }
          ],
          "heatmapgl": [
           {
            "colorbar": {
             "outlinewidth": 0,
             "ticks": ""
            },
            "colorscale": [
             [
              0,
              "#0d0887"
             ],
             [
              0.1111111111111111,
              "#46039f"
             ],
             [
              0.2222222222222222,
              "#7201a8"
             ],
             [
              0.3333333333333333,
              "#9c179e"
             ],
             [
              0.4444444444444444,
              "#bd3786"
             ],
             [
              0.5555555555555556,
              "#d8576b"
             ],
             [
              0.6666666666666666,
              "#ed7953"
             ],
             [
              0.7777777777777778,
              "#fb9f3a"
             ],
             [
              0.8888888888888888,
              "#fdca26"
             ],
             [
              1,
              "#f0f921"
             ]
            ],
            "type": "heatmapgl"
           }
          ],
          "histogram": [
           {
            "marker": {
             "pattern": {
              "fillmode": "overlay",
              "size": 10,
              "solidity": 0.2
             }
            },
            "type": "histogram"
           }
          ],
          "histogram2d": [
           {
            "colorbar": {
             "outlinewidth": 0,
             "ticks": ""
            },
            "colorscale": [
             [
              0,
              "#0d0887"
             ],
             [
              0.1111111111111111,
              "#46039f"
             ],
             [
              0.2222222222222222,
              "#7201a8"
             ],
             [
              0.3333333333333333,
              "#9c179e"
             ],
             [
              0.4444444444444444,
              "#bd3786"
             ],
             [
              0.5555555555555556,
              "#d8576b"
             ],
             [
              0.6666666666666666,
              "#ed7953"
             ],
             [
              0.7777777777777778,
              "#fb9f3a"
             ],
             [
              0.8888888888888888,
              "#fdca26"
             ],
             [
              1,
              "#f0f921"
             ]
            ],
            "type": "histogram2d"
           }
          ],
          "histogram2dcontour": [
           {
            "colorbar": {
             "outlinewidth": 0,
             "ticks": ""
            },
            "colorscale": [
             [
              0,
              "#0d0887"
             ],
             [
              0.1111111111111111,
              "#46039f"
             ],
             [
              0.2222222222222222,
              "#7201a8"
             ],
             [
              0.3333333333333333,
              "#9c179e"
             ],
             [
              0.4444444444444444,
              "#bd3786"
             ],
             [
              0.5555555555555556,
              "#d8576b"
             ],
             [
              0.6666666666666666,
              "#ed7953"
             ],
             [
              0.7777777777777778,
              "#fb9f3a"
             ],
             [
              0.8888888888888888,
              "#fdca26"
             ],
             [
              1,
              "#f0f921"
             ]
            ],
            "type": "histogram2dcontour"
           }
          ],
          "mesh3d": [
           {
            "colorbar": {
             "outlinewidth": 0,
             "ticks": ""
            },
            "type": "mesh3d"
           }
          ],
          "parcoords": [
           {
            "line": {
             "colorbar": {
              "outlinewidth": 0,
              "ticks": ""
             }
            },
            "type": "parcoords"
           }
          ],
          "pie": [
           {
            "automargin": true,
            "type": "pie"
           }
          ],
          "scatter": [
           {
            "fillpattern": {
             "fillmode": "overlay",
             "size": 10,
             "solidity": 0.2
            },
            "type": "scatter"
           }
          ],
          "scatter3d": [
           {
            "line": {
             "colorbar": {
              "outlinewidth": 0,
              "ticks": ""
             }
            },
            "marker": {
             "colorbar": {
              "outlinewidth": 0,
              "ticks": ""
             }
            },
            "type": "scatter3d"
           }
          ],
          "scattercarpet": [
           {
            "marker": {
             "colorbar": {
              "outlinewidth": 0,
              "ticks": ""
             }
            },
            "type": "scattercarpet"
           }
          ],
          "scattergeo": [
           {
            "marker": {
             "colorbar": {
              "outlinewidth": 0,
              "ticks": ""
             }
            },
            "type": "scattergeo"
           }
          ],
          "scattergl": [
           {
            "marker": {
             "colorbar": {
              "outlinewidth": 0,
              "ticks": ""
             }
            },
            "type": "scattergl"
           }
          ],
          "scattermapbox": [
           {
            "marker": {
             "colorbar": {
              "outlinewidth": 0,
              "ticks": ""
             }
            },
            "type": "scattermapbox"
           }
          ],
          "scatterpolar": [
           {
            "marker": {
             "colorbar": {
              "outlinewidth": 0,
              "ticks": ""
             }
            },
            "type": "scatterpolar"
           }
          ],
          "scatterpolargl": [
           {
            "marker": {
             "colorbar": {
              "outlinewidth": 0,
              "ticks": ""
             }
            },
            "type": "scatterpolargl"
           }
          ],
          "scatterternary": [
           {
            "marker": {
             "colorbar": {
              "outlinewidth": 0,
              "ticks": ""
             }
            },
            "type": "scatterternary"
           }
          ],
          "surface": [
           {
            "colorbar": {
             "outlinewidth": 0,
             "ticks": ""
            },
            "colorscale": [
             [
              0,
              "#0d0887"
             ],
             [
              0.1111111111111111,
              "#46039f"
             ],
             [
              0.2222222222222222,
              "#7201a8"
             ],
             [
              0.3333333333333333,
              "#9c179e"
             ],
             [
              0.4444444444444444,
              "#bd3786"
             ],
             [
              0.5555555555555556,
              "#d8576b"
             ],
             [
              0.6666666666666666,
              "#ed7953"
             ],
             [
              0.7777777777777778,
              "#fb9f3a"
             ],
             [
              0.8888888888888888,
              "#fdca26"
             ],
             [
              1,
              "#f0f921"
             ]
            ],
            "type": "surface"
           }
          ],
          "table": [
           {
            "cells": {
             "fill": {
              "color": "#EBF0F8"
             },
             "line": {
              "color": "white"
             }
            },
            "header": {
             "fill": {
              "color": "#C8D4E3"
             },
             "line": {
              "color": "white"
             }
            },
            "type": "table"
           }
          ]
         },
         "layout": {
          "annotationdefaults": {
           "arrowcolor": "#2a3f5f",
           "arrowhead": 0,
           "arrowwidth": 1
          },
          "autotypenumbers": "strict",
          "coloraxis": {
           "colorbar": {
            "outlinewidth": 0,
            "ticks": ""
           }
          },
          "colorscale": {
           "diverging": [
            [
             0,
             "#8e0152"
            ],
            [
             0.1,
             "#c51b7d"
            ],
            [
             0.2,
             "#de77ae"
            ],
            [
             0.3,
             "#f1b6da"
            ],
            [
             0.4,
             "#fde0ef"
            ],
            [
             0.5,
             "#f7f7f7"
            ],
            [
             0.6,
             "#e6f5d0"
            ],
            [
             0.7,
             "#b8e186"
            ],
            [
             0.8,
             "#7fbc41"
            ],
            [
             0.9,
             "#4d9221"
            ],
            [
             1,
             "#276419"
            ]
           ],
           "sequential": [
            [
             0,
             "#0d0887"
            ],
            [
             0.1111111111111111,
             "#46039f"
            ],
            [
             0.2222222222222222,
             "#7201a8"
            ],
            [
             0.3333333333333333,
             "#9c179e"
            ],
            [
             0.4444444444444444,
             "#bd3786"
            ],
            [
             0.5555555555555556,
             "#d8576b"
            ],
            [
             0.6666666666666666,
             "#ed7953"
            ],
            [
             0.7777777777777778,
             "#fb9f3a"
            ],
            [
             0.8888888888888888,
             "#fdca26"
            ],
            [
             1,
             "#f0f921"
            ]
           ],
           "sequentialminus": [
            [
             0,
             "#0d0887"
            ],
            [
             0.1111111111111111,
             "#46039f"
            ],
            [
             0.2222222222222222,
             "#7201a8"
            ],
            [
             0.3333333333333333,
             "#9c179e"
            ],
            [
             0.4444444444444444,
             "#bd3786"
            ],
            [
             0.5555555555555556,
             "#d8576b"
            ],
            [
             0.6666666666666666,
             "#ed7953"
            ],
            [
             0.7777777777777778,
             "#fb9f3a"
            ],
            [
             0.8888888888888888,
             "#fdca26"
            ],
            [
             1,
             "#f0f921"
            ]
           ]
          },
          "colorway": [
           "#636efa",
           "#EF553B",
           "#00cc96",
           "#ab63fa",
           "#FFA15A",
           "#19d3f3",
           "#FF6692",
           "#B6E880",
           "#FF97FF",
           "#FECB52"
          ],
          "font": {
           "color": "#2a3f5f"
          },
          "geo": {
           "bgcolor": "white",
           "lakecolor": "white",
           "landcolor": "#E5ECF6",
           "showlakes": true,
           "showland": true,
           "subunitcolor": "white"
          },
          "hoverlabel": {
           "align": "left"
          },
          "hovermode": "closest",
          "mapbox": {
           "style": "light"
          },
          "paper_bgcolor": "white",
          "plot_bgcolor": "#E5ECF6",
          "polar": {
           "angularaxis": {
            "gridcolor": "white",
            "linecolor": "white",
            "ticks": ""
           },
           "bgcolor": "#E5ECF6",
           "radialaxis": {
            "gridcolor": "white",
            "linecolor": "white",
            "ticks": ""
           }
          },
          "scene": {
           "xaxis": {
            "backgroundcolor": "#E5ECF6",
            "gridcolor": "white",
            "gridwidth": 2,
            "linecolor": "white",
            "showbackground": true,
            "ticks": "",
            "zerolinecolor": "white"
           },
           "yaxis": {
            "backgroundcolor": "#E5ECF6",
            "gridcolor": "white",
            "gridwidth": 2,
            "linecolor": "white",
            "showbackground": true,
            "ticks": "",
            "zerolinecolor": "white"
           },
           "zaxis": {
            "backgroundcolor": "#E5ECF6",
            "gridcolor": "white",
            "gridwidth": 2,
            "linecolor": "white",
            "showbackground": true,
            "ticks": "",
            "zerolinecolor": "white"
           }
          },
          "shapedefaults": {
           "line": {
            "color": "#2a3f5f"
           }
          },
          "ternary": {
           "aaxis": {
            "gridcolor": "white",
            "linecolor": "white",
            "ticks": ""
           },
           "baxis": {
            "gridcolor": "white",
            "linecolor": "white",
            "ticks": ""
           },
           "bgcolor": "#E5ECF6",
           "caxis": {
            "gridcolor": "white",
            "linecolor": "white",
            "ticks": ""
           }
          },
          "title": {
           "x": 0.05
          },
          "xaxis": {
           "automargin": true,
           "gridcolor": "white",
           "linecolor": "white",
           "ticks": "",
           "title": {
            "standoff": 15
           },
           "zerolinecolor": "white",
           "zerolinewidth": 2
          },
          "yaxis": {
           "automargin": true,
           "gridcolor": "white",
           "linecolor": "white",
           "ticks": "",
           "title": {
            "standoff": 15
           },
           "zerolinecolor": "white",
           "zerolinewidth": 2
          }
         }
        },
        "title": {
         "text": "Validation Metrics Over Time (HOD Model CV)"
        },
        "xaxis": {
         "anchor": "y",
         "domain": [
          0,
          1
         ],
         "title": {
          "text": "index"
         }
        },
        "yaxis": {
         "anchor": "x",
         "domain": [
          0,
          1
         ],
         "title": {
          "text": "value"
         }
        }
       }
      }
     },
     "metadata": {},
     "output_type": "display_data"
    }
   ],
   "source": [
    "import datetime\n",
    "import plotly.express as px\n",
    "\n",
    "\n",
    "time_range = [datetime.time(hour, minute) for hour in range(9, 16) for minute in range(0, 60, 5)]\n",
    "time_range = [x for x in time_range if x >= datetime.time(9,45)]\n",
    "df_val = pd.DataFrame()\n",
    "for t in time_range:\n",
    "    X_val = X_test.loc[X_test['time'] <= t].copy()\n",
    "    y_val = y_test.loc[X_val.index, 'hod_in'].copy()\n",
    "\n",
    "    y_pred_val = hod_model_cv.predict_proba(X_val)[:,-1]\n",
    "\n",
    "    df_val.loc[t, [\n",
    "        'roc_auc',\n",
    "        'precision',\n",
    "        'recall'\n",
    "    ]] =  roc_auc_score(y_val, y_pred_val), precision_score(y_val, y_pred_val > 0.5), recall_score(y_val, y_pred_val > 0.5)\n",
    "\n",
    "\n",
    "fig = px.line(df_val, title='Validation Metrics Over Time (HOD Model CV)')\n",
    "fig.show()"
   ]
  },
  {
   "cell_type": "code",
   "execution_count": 53,
   "metadata": {},
   "outputs": [
    {
     "data": {
      "application/vnd.plotly.v1+json": {
       "config": {
        "plotlyServerURL": "https://plot.ly"
       },
       "data": [
        {
         "hovertemplate": "variable=roc_auc<br>index=%{x}<br>value=%{y}<extra></extra>",
         "legendgroup": "roc_auc",
         "line": {
          "color": "#636efa",
          "dash": "solid"
         },
         "marker": {
          "symbol": "circle"
         },
         "mode": "lines",
         "name": "roc_auc",
         "orientation": "v",
         "showlegend": true,
         "type": "scatter",
         "x": [
          "09:45:00",
          "09:50:00",
          "09:55:00",
          "10:00:00",
          "10:05:00",
          "10:10:00",
          "10:15:00",
          "10:20:00",
          "10:25:00",
          "10:30:00",
          "10:35:00",
          "10:40:00",
          "10:45:00",
          "10:50:00",
          "10:55:00",
          "11:00:00",
          "11:05:00",
          "11:10:00",
          "11:15:00",
          "11:20:00",
          "11:25:00",
          "11:30:00",
          "11:35:00",
          "11:40:00",
          "11:45:00",
          "11:50:00",
          "11:55:00",
          "12:00:00",
          "12:05:00",
          "12:10:00",
          "12:15:00",
          "12:20:00",
          "12:25:00",
          "12:30:00",
          "12:35:00",
          "12:40:00",
          "12:45:00",
          "12:50:00",
          "12:55:00",
          "13:00:00",
          "13:05:00",
          "13:10:00",
          "13:15:00",
          "13:20:00",
          "13:25:00",
          "13:30:00",
          "13:35:00",
          "13:40:00",
          "13:45:00",
          "13:50:00",
          "13:55:00",
          "14:00:00",
          "14:05:00",
          "14:10:00",
          "14:15:00",
          "14:20:00",
          "14:25:00",
          "14:30:00",
          "14:35:00",
          "14:40:00",
          "14:45:00",
          "14:50:00",
          "14:55:00",
          "15:00:00",
          "15:05:00",
          "15:10:00",
          "15:15:00",
          "15:20:00",
          "15:25:00",
          "15:30:00",
          "15:35:00",
          "15:40:00",
          "15:45:00",
          "15:50:00",
          "15:55:00"
         ],
         "xaxis": "x",
         "y": [
          0.7087931648273407,
          0.7035386631716907,
          0.7095893856505062,
          0.7341918017423901,
          0.7414760860484544,
          0.7530608720507842,
          0.7578168091560948,
          0.7617632467162783,
          0.7648490768284252,
          0.7685208116798753,
          0.7748538594393517,
          0.7818107997252653,
          0.7853672923504608,
          0.785996723930525,
          0.7883296467811396,
          0.7900948820891,
          0.7919842367142158,
          0.7934840446997881,
          0.7946233699888003,
          0.7962007354022651,
          0.7974494992216917,
          0.7971654692627771,
          0.7970105449204474,
          0.7979187212211669,
          0.798727732889604,
          0.7989887369735247,
          0.7991105835986269,
          0.7994805693039723,
          0.8000111655537248,
          0.8005201319497097,
          0.801028964878929,
          0.8013456253429967,
          0.8018991718293383,
          0.802729245923574,
          0.8034674773973686,
          0.8038340965110242,
          0.8040443754768345,
          0.8042880375684442,
          0.804906279612148,
          0.8058727274760169,
          0.8066068487747415,
          0.806960843861354,
          0.8078707922544259,
          0.8087452728553575,
          0.809771680475236,
          0.8102344698047832,
          0.8110937723471772,
          0.8119355407416762,
          0.8125263696625575,
          0.8133794629159852,
          0.8144126831529401,
          0.8160298826287243,
          0.8170932529890772,
          0.8187410716188602,
          0.8200910373642155,
          0.8214715133436049,
          0.8228174699139761,
          0.8242652369079171,
          0.8256783210177312,
          0.8272001184641062,
          0.8289692555904549,
          0.8310470349692496,
          0.8333536781320556,
          0.8357110706138843,
          0.8381488076421012,
          0.8406220099873607,
          0.842995168493088,
          0.8453643198897709,
          0.8474237055397758,
          0.8493885994708249,
          0.851401456438153,
          0.8532506950536209,
          0.8554549047889463,
          0.8578071009766391,
          0.8609529615745011
         ],
         "yaxis": "y"
        },
        {
         "hovertemplate": "variable=precision<br>index=%{x}<br>value=%{y}<extra></extra>",
         "legendgroup": "precision",
         "line": {
          "color": "#EF553B",
          "dash": "solid"
         },
         "marker": {
          "symbol": "circle"
         },
         "mode": "lines",
         "name": "precision",
         "orientation": "v",
         "showlegend": true,
         "type": "scatter",
         "x": [
          "09:45:00",
          "09:50:00",
          "09:55:00",
          "10:00:00",
          "10:05:00",
          "10:10:00",
          "10:15:00",
          "10:20:00",
          "10:25:00",
          "10:30:00",
          "10:35:00",
          "10:40:00",
          "10:45:00",
          "10:50:00",
          "10:55:00",
          "11:00:00",
          "11:05:00",
          "11:10:00",
          "11:15:00",
          "11:20:00",
          "11:25:00",
          "11:30:00",
          "11:35:00",
          "11:40:00",
          "11:45:00",
          "11:50:00",
          "11:55:00",
          "12:00:00",
          "12:05:00",
          "12:10:00",
          "12:15:00",
          "12:20:00",
          "12:25:00",
          "12:30:00",
          "12:35:00",
          "12:40:00",
          "12:45:00",
          "12:50:00",
          "12:55:00",
          "13:00:00",
          "13:05:00",
          "13:10:00",
          "13:15:00",
          "13:20:00",
          "13:25:00",
          "13:30:00",
          "13:35:00",
          "13:40:00",
          "13:45:00",
          "13:50:00",
          "13:55:00",
          "14:00:00",
          "14:05:00",
          "14:10:00",
          "14:15:00",
          "14:20:00",
          "14:25:00",
          "14:30:00",
          "14:35:00",
          "14:40:00",
          "14:45:00",
          "14:50:00",
          "14:55:00",
          "15:00:00",
          "15:05:00",
          "15:10:00",
          "15:15:00",
          "15:20:00",
          "15:25:00",
          "15:30:00",
          "15:35:00",
          "15:40:00",
          "15:45:00",
          "15:50:00",
          "15:55:00"
         ],
         "xaxis": "x",
         "y": [
          0.45,
          0.3958333333333333,
          0.4507042253521127,
          0.5233644859813084,
          0.5342465753424658,
          0.5612244897959183,
          0.57421875,
          0.5817610062893082,
          0.5936675461741425,
          0.5990990990990991,
          0.6070726915520629,
          0.6174957118353345,
          0.6257575757575757,
          0.6321525885558583,
          0.6404907975460122,
          0.6465422612513722,
          0.6531219028741329,
          0.6597096188747731,
          0.6625103906899418,
          0.6653905053598775,
          0.6673758865248227,
          0.6704021094264997,
          0.6715686274509803,
          0.6737263880938752,
          0.6759507230851634,
          0.678714859437751,
          0.6797354747283892,
          0.6829159212880143,
          0.6853028377806014,
          0.6874497184231697,
          0.6888633754305397,
          0.6904848705796574,
          0.6924947880472551,
          0.6950895819508959,
          0.6973265436028008,
          0.6996639168958142,
          0.7017904314646316,
          0.7027027027027027,
          0.7045454545454546,
          0.7061426340447684,
          0.7084482326397593,
          0.7100434572670208,
          0.7119236143455985,
          0.713996399639964,
          0.7158695652173913,
          0.7178571428571429,
          0.7203579418344519,
          0.7227254824734147,
          0.7248758119984715,
          0.7270535879844242,
          0.7292867435158501,
          0.7322710558571178,
          0.7354244800545516,
          0.7384589837263368,
          0.7417893544733862,
          0.7452681388012619,
          0.7485389111042756,
          0.7519147019071932,
          0.7552396306609995,
          0.7585910652920962,
          0.7619381039070158,
          0.7649876813577882,
          0.7681605351170568,
          0.7715556718566008,
          0.7751600512163892,
          0.7785714285714286,
          0.7817981111247394,
          0.7852937642676919,
          0.7885135930328351,
          0.7916955017301038,
          0.7947296991630852,
          0.7979585043825586,
          0.8014361875748014,
          0.8050757091064192,
          0.8093450146015854
         ],
         "yaxis": "y"
        },
        {
         "hovertemplate": "variable=recall<br>index=%{x}<br>value=%{y}<extra></extra>",
         "legendgroup": "recall",
         "line": {
          "color": "#00cc96",
          "dash": "solid"
         },
         "marker": {
          "symbol": "circle"
         },
         "mode": "lines",
         "name": "recall",
         "orientation": "v",
         "showlegend": true,
         "type": "scatter",
         "x": [
          "09:45:00",
          "09:50:00",
          "09:55:00",
          "10:00:00",
          "10:05:00",
          "10:10:00",
          "10:15:00",
          "10:20:00",
          "10:25:00",
          "10:30:00",
          "10:35:00",
          "10:40:00",
          "10:45:00",
          "10:50:00",
          "10:55:00",
          "11:00:00",
          "11:05:00",
          "11:10:00",
          "11:15:00",
          "11:20:00",
          "11:25:00",
          "11:30:00",
          "11:35:00",
          "11:40:00",
          "11:45:00",
          "11:50:00",
          "11:55:00",
          "12:00:00",
          "12:05:00",
          "12:10:00",
          "12:15:00",
          "12:20:00",
          "12:25:00",
          "12:30:00",
          "12:35:00",
          "12:40:00",
          "12:45:00",
          "12:50:00",
          "12:55:00",
          "13:00:00",
          "13:05:00",
          "13:10:00",
          "13:15:00",
          "13:20:00",
          "13:25:00",
          "13:30:00",
          "13:35:00",
          "13:40:00",
          "13:45:00",
          "13:50:00",
          "13:55:00",
          "14:00:00",
          "14:05:00",
          "14:10:00",
          "14:15:00",
          "14:20:00",
          "14:25:00",
          "14:30:00",
          "14:35:00",
          "14:40:00",
          "14:45:00",
          "14:50:00",
          "14:55:00",
          "15:00:00",
          "15:05:00",
          "15:10:00",
          "15:15:00",
          "15:20:00",
          "15:25:00",
          "15:30:00",
          "15:35:00",
          "15:40:00",
          "15:45:00",
          "15:50:00",
          "15:55:00"
         ],
         "xaxis": "x",
         "y": [
          0.16981132075471697,
          0.1743119266055046,
          0.1871345029239766,
          0.23829787234042554,
          0.2565789473684211,
          0.29411764705882354,
          0.328125,
          0.3523809523809524,
          0.371900826446281,
          0.3866279069767442,
          0.40025906735751293,
          0.4200700116686114,
          0.4365750528541226,
          0.4465832531280077,
          0.46113074204946997,
          0.4800325998370008,
          0.49735849056603776,
          0.5101754385964913,
          0.5226229508196721,
          0.5347692307692308,
          0.5451911935110081,
          0.5557377049180328,
          0.5661157024793388,
          0.5761135584924131,
          0.5867038586703859,
          0.5979655019902698,
          0.6066610455311973,
          0.6144869215291751,
          0.6223076923076923,
          0.6292341678939617,
          0.6353688669255206,
          0.6415989159891599,
          0.6489742754802996,
          0.656328320802005,
          0.661334138243284,
          0.6666666666666666,
          0.6718179263838157,
          0.6773405698778833,
          0.683105981112277,
          0.6885786802030457,
          0.6943488943488944,
          0.7002380952380952,
          0.7058416070191642,
          0.7107974910394266,
          0.7164926022628373,
          0.7217997465145755,
          0.7267131719327041,
          0.731658692185008,
          0.7352713178294573,
          0.7388355002826456,
          0.7422548120989918,
          0.7461195361284567,
          0.7490883833998958,
          0.752071706409606,
          0.7551054018445322,
          0.7583052479537795,
          0.7614205256570713,
          0.7638443935926773,
          0.7670437630247098,
          0.7699462287458219,
          0.7724304372515616,
          0.7754960455113085,
          0.7791044776119403,
          0.7827183435094239,
          0.7862337662337663,
          0.7898550724637681,
          0.793378142892706,
          0.7967816652444227,
          0.7999044890162369,
          0.8027131329669045,
          0.8052945221178088,
          0.8075454749607006,
          0.8103410341034103,
          0.8134022839905193,
          0.8175305520438264
         ],
         "yaxis": "y"
        }
       ],
       "layout": {
        "legend": {
         "title": {
          "text": "variable"
         },
         "tracegroupgap": 0
        },
        "template": {
         "data": {
          "bar": [
           {
            "error_x": {
             "color": "#2a3f5f"
            },
            "error_y": {
             "color": "#2a3f5f"
            },
            "marker": {
             "line": {
              "color": "#E5ECF6",
              "width": 0.5
             },
             "pattern": {
              "fillmode": "overlay",
              "size": 10,
              "solidity": 0.2
             }
            },
            "type": "bar"
           }
          ],
          "barpolar": [
           {
            "marker": {
             "line": {
              "color": "#E5ECF6",
              "width": 0.5
             },
             "pattern": {
              "fillmode": "overlay",
              "size": 10,
              "solidity": 0.2
             }
            },
            "type": "barpolar"
           }
          ],
          "carpet": [
           {
            "aaxis": {
             "endlinecolor": "#2a3f5f",
             "gridcolor": "white",
             "linecolor": "white",
             "minorgridcolor": "white",
             "startlinecolor": "#2a3f5f"
            },
            "baxis": {
             "endlinecolor": "#2a3f5f",
             "gridcolor": "white",
             "linecolor": "white",
             "minorgridcolor": "white",
             "startlinecolor": "#2a3f5f"
            },
            "type": "carpet"
           }
          ],
          "choropleth": [
           {
            "colorbar": {
             "outlinewidth": 0,
             "ticks": ""
            },
            "type": "choropleth"
           }
          ],
          "contour": [
           {
            "colorbar": {
             "outlinewidth": 0,
             "ticks": ""
            },
            "colorscale": [
             [
              0,
              "#0d0887"
             ],
             [
              0.1111111111111111,
              "#46039f"
             ],
             [
              0.2222222222222222,
              "#7201a8"
             ],
             [
              0.3333333333333333,
              "#9c179e"
             ],
             [
              0.4444444444444444,
              "#bd3786"
             ],
             [
              0.5555555555555556,
              "#d8576b"
             ],
             [
              0.6666666666666666,
              "#ed7953"
             ],
             [
              0.7777777777777778,
              "#fb9f3a"
             ],
             [
              0.8888888888888888,
              "#fdca26"
             ],
             [
              1,
              "#f0f921"
             ]
            ],
            "type": "contour"
           }
          ],
          "contourcarpet": [
           {
            "colorbar": {
             "outlinewidth": 0,
             "ticks": ""
            },
            "type": "contourcarpet"
           }
          ],
          "heatmap": [
           {
            "colorbar": {
             "outlinewidth": 0,
             "ticks": ""
            },
            "colorscale": [
             [
              0,
              "#0d0887"
             ],
             [
              0.1111111111111111,
              "#46039f"
             ],
             [
              0.2222222222222222,
              "#7201a8"
             ],
             [
              0.3333333333333333,
              "#9c179e"
             ],
             [
              0.4444444444444444,
              "#bd3786"
             ],
             [
              0.5555555555555556,
              "#d8576b"
             ],
             [
              0.6666666666666666,
              "#ed7953"
             ],
             [
              0.7777777777777778,
              "#fb9f3a"
             ],
             [
              0.8888888888888888,
              "#fdca26"
             ],
             [
              1,
              "#f0f921"
             ]
            ],
            "type": "heatmap"
           }
          ],
          "heatmapgl": [
           {
            "colorbar": {
             "outlinewidth": 0,
             "ticks": ""
            },
            "colorscale": [
             [
              0,
              "#0d0887"
             ],
             [
              0.1111111111111111,
              "#46039f"
             ],
             [
              0.2222222222222222,
              "#7201a8"
             ],
             [
              0.3333333333333333,
              "#9c179e"
             ],
             [
              0.4444444444444444,
              "#bd3786"
             ],
             [
              0.5555555555555556,
              "#d8576b"
             ],
             [
              0.6666666666666666,
              "#ed7953"
             ],
             [
              0.7777777777777778,
              "#fb9f3a"
             ],
             [
              0.8888888888888888,
              "#fdca26"
             ],
             [
              1,
              "#f0f921"
             ]
            ],
            "type": "heatmapgl"
           }
          ],
          "histogram": [
           {
            "marker": {
             "pattern": {
              "fillmode": "overlay",
              "size": 10,
              "solidity": 0.2
             }
            },
            "type": "histogram"
           }
          ],
          "histogram2d": [
           {
            "colorbar": {
             "outlinewidth": 0,
             "ticks": ""
            },
            "colorscale": [
             [
              0,
              "#0d0887"
             ],
             [
              0.1111111111111111,
              "#46039f"
             ],
             [
              0.2222222222222222,
              "#7201a8"
             ],
             [
              0.3333333333333333,
              "#9c179e"
             ],
             [
              0.4444444444444444,
              "#bd3786"
             ],
             [
              0.5555555555555556,
              "#d8576b"
             ],
             [
              0.6666666666666666,
              "#ed7953"
             ],
             [
              0.7777777777777778,
              "#fb9f3a"
             ],
             [
              0.8888888888888888,
              "#fdca26"
             ],
             [
              1,
              "#f0f921"
             ]
            ],
            "type": "histogram2d"
           }
          ],
          "histogram2dcontour": [
           {
            "colorbar": {
             "outlinewidth": 0,
             "ticks": ""
            },
            "colorscale": [
             [
              0,
              "#0d0887"
             ],
             [
              0.1111111111111111,
              "#46039f"
             ],
             [
              0.2222222222222222,
              "#7201a8"
             ],
             [
              0.3333333333333333,
              "#9c179e"
             ],
             [
              0.4444444444444444,
              "#bd3786"
             ],
             [
              0.5555555555555556,
              "#d8576b"
             ],
             [
              0.6666666666666666,
              "#ed7953"
             ],
             [
              0.7777777777777778,
              "#fb9f3a"
             ],
             [
              0.8888888888888888,
              "#fdca26"
             ],
             [
              1,
              "#f0f921"
             ]
            ],
            "type": "histogram2dcontour"
           }
          ],
          "mesh3d": [
           {
            "colorbar": {
             "outlinewidth": 0,
             "ticks": ""
            },
            "type": "mesh3d"
           }
          ],
          "parcoords": [
           {
            "line": {
             "colorbar": {
              "outlinewidth": 0,
              "ticks": ""
             }
            },
            "type": "parcoords"
           }
          ],
          "pie": [
           {
            "automargin": true,
            "type": "pie"
           }
          ],
          "scatter": [
           {
            "fillpattern": {
             "fillmode": "overlay",
             "size": 10,
             "solidity": 0.2
            },
            "type": "scatter"
           }
          ],
          "scatter3d": [
           {
            "line": {
             "colorbar": {
              "outlinewidth": 0,
              "ticks": ""
             }
            },
            "marker": {
             "colorbar": {
              "outlinewidth": 0,
              "ticks": ""
             }
            },
            "type": "scatter3d"
           }
          ],
          "scattercarpet": [
           {
            "marker": {
             "colorbar": {
              "outlinewidth": 0,
              "ticks": ""
             }
            },
            "type": "scattercarpet"
           }
          ],
          "scattergeo": [
           {
            "marker": {
             "colorbar": {
              "outlinewidth": 0,
              "ticks": ""
             }
            },
            "type": "scattergeo"
           }
          ],
          "scattergl": [
           {
            "marker": {
             "colorbar": {
              "outlinewidth": 0,
              "ticks": ""
             }
            },
            "type": "scattergl"
           }
          ],
          "scattermapbox": [
           {
            "marker": {
             "colorbar": {
              "outlinewidth": 0,
              "ticks": ""
             }
            },
            "type": "scattermapbox"
           }
          ],
          "scatterpolar": [
           {
            "marker": {
             "colorbar": {
              "outlinewidth": 0,
              "ticks": ""
             }
            },
            "type": "scatterpolar"
           }
          ],
          "scatterpolargl": [
           {
            "marker": {
             "colorbar": {
              "outlinewidth": 0,
              "ticks": ""
             }
            },
            "type": "scatterpolargl"
           }
          ],
          "scatterternary": [
           {
            "marker": {
             "colorbar": {
              "outlinewidth": 0,
              "ticks": ""
             }
            },
            "type": "scatterternary"
           }
          ],
          "surface": [
           {
            "colorbar": {
             "outlinewidth": 0,
             "ticks": ""
            },
            "colorscale": [
             [
              0,
              "#0d0887"
             ],
             [
              0.1111111111111111,
              "#46039f"
             ],
             [
              0.2222222222222222,
              "#7201a8"
             ],
             [
              0.3333333333333333,
              "#9c179e"
             ],
             [
              0.4444444444444444,
              "#bd3786"
             ],
             [
              0.5555555555555556,
              "#d8576b"
             ],
             [
              0.6666666666666666,
              "#ed7953"
             ],
             [
              0.7777777777777778,
              "#fb9f3a"
             ],
             [
              0.8888888888888888,
              "#fdca26"
             ],
             [
              1,
              "#f0f921"
             ]
            ],
            "type": "surface"
           }
          ],
          "table": [
           {
            "cells": {
             "fill": {
              "color": "#EBF0F8"
             },
             "line": {
              "color": "white"
             }
            },
            "header": {
             "fill": {
              "color": "#C8D4E3"
             },
             "line": {
              "color": "white"
             }
            },
            "type": "table"
           }
          ]
         },
         "layout": {
          "annotationdefaults": {
           "arrowcolor": "#2a3f5f",
           "arrowhead": 0,
           "arrowwidth": 1
          },
          "autotypenumbers": "strict",
          "coloraxis": {
           "colorbar": {
            "outlinewidth": 0,
            "ticks": ""
           }
          },
          "colorscale": {
           "diverging": [
            [
             0,
             "#8e0152"
            ],
            [
             0.1,
             "#c51b7d"
            ],
            [
             0.2,
             "#de77ae"
            ],
            [
             0.3,
             "#f1b6da"
            ],
            [
             0.4,
             "#fde0ef"
            ],
            [
             0.5,
             "#f7f7f7"
            ],
            [
             0.6,
             "#e6f5d0"
            ],
            [
             0.7,
             "#b8e186"
            ],
            [
             0.8,
             "#7fbc41"
            ],
            [
             0.9,
             "#4d9221"
            ],
            [
             1,
             "#276419"
            ]
           ],
           "sequential": [
            [
             0,
             "#0d0887"
            ],
            [
             0.1111111111111111,
             "#46039f"
            ],
            [
             0.2222222222222222,
             "#7201a8"
            ],
            [
             0.3333333333333333,
             "#9c179e"
            ],
            [
             0.4444444444444444,
             "#bd3786"
            ],
            [
             0.5555555555555556,
             "#d8576b"
            ],
            [
             0.6666666666666666,
             "#ed7953"
            ],
            [
             0.7777777777777778,
             "#fb9f3a"
            ],
            [
             0.8888888888888888,
             "#fdca26"
            ],
            [
             1,
             "#f0f921"
            ]
           ],
           "sequentialminus": [
            [
             0,
             "#0d0887"
            ],
            [
             0.1111111111111111,
             "#46039f"
            ],
            [
             0.2222222222222222,
             "#7201a8"
            ],
            [
             0.3333333333333333,
             "#9c179e"
            ],
            [
             0.4444444444444444,
             "#bd3786"
            ],
            [
             0.5555555555555556,
             "#d8576b"
            ],
            [
             0.6666666666666666,
             "#ed7953"
            ],
            [
             0.7777777777777778,
             "#fb9f3a"
            ],
            [
             0.8888888888888888,
             "#fdca26"
            ],
            [
             1,
             "#f0f921"
            ]
           ]
          },
          "colorway": [
           "#636efa",
           "#EF553B",
           "#00cc96",
           "#ab63fa",
           "#FFA15A",
           "#19d3f3",
           "#FF6692",
           "#B6E880",
           "#FF97FF",
           "#FECB52"
          ],
          "font": {
           "color": "#2a3f5f"
          },
          "geo": {
           "bgcolor": "white",
           "lakecolor": "white",
           "landcolor": "#E5ECF6",
           "showlakes": true,
           "showland": true,
           "subunitcolor": "white"
          },
          "hoverlabel": {
           "align": "left"
          },
          "hovermode": "closest",
          "mapbox": {
           "style": "light"
          },
          "paper_bgcolor": "white",
          "plot_bgcolor": "#E5ECF6",
          "polar": {
           "angularaxis": {
            "gridcolor": "white",
            "linecolor": "white",
            "ticks": ""
           },
           "bgcolor": "#E5ECF6",
           "radialaxis": {
            "gridcolor": "white",
            "linecolor": "white",
            "ticks": ""
           }
          },
          "scene": {
           "xaxis": {
            "backgroundcolor": "#E5ECF6",
            "gridcolor": "white",
            "gridwidth": 2,
            "linecolor": "white",
            "showbackground": true,
            "ticks": "",
            "zerolinecolor": "white"
           },
           "yaxis": {
            "backgroundcolor": "#E5ECF6",
            "gridcolor": "white",
            "gridwidth": 2,
            "linecolor": "white",
            "showbackground": true,
            "ticks": "",
            "zerolinecolor": "white"
           },
           "zaxis": {
            "backgroundcolor": "#E5ECF6",
            "gridcolor": "white",
            "gridwidth": 2,
            "linecolor": "white",
            "showbackground": true,
            "ticks": "",
            "zerolinecolor": "white"
           }
          },
          "shapedefaults": {
           "line": {
            "color": "#2a3f5f"
           }
          },
          "ternary": {
           "aaxis": {
            "gridcolor": "white",
            "linecolor": "white",
            "ticks": ""
           },
           "baxis": {
            "gridcolor": "white",
            "linecolor": "white",
            "ticks": ""
           },
           "bgcolor": "#E5ECF6",
           "caxis": {
            "gridcolor": "white",
            "linecolor": "white",
            "ticks": ""
           }
          },
          "title": {
           "x": 0.05
          },
          "xaxis": {
           "automargin": true,
           "gridcolor": "white",
           "linecolor": "white",
           "ticks": "",
           "title": {
            "standoff": 15
           },
           "zerolinecolor": "white",
           "zerolinewidth": 2
          },
          "yaxis": {
           "automargin": true,
           "gridcolor": "white",
           "linecolor": "white",
           "ticks": "",
           "title": {
            "standoff": 15
           },
           "zerolinecolor": "white",
           "zerolinewidth": 2
          }
         }
        },
        "title": {
         "text": "Validation Metrics Over Time (LOD Model)"
        },
        "xaxis": {
         "anchor": "y",
         "domain": [
          0,
          1
         ],
         "title": {
          "text": "index"
         }
        },
        "yaxis": {
         "anchor": "x",
         "domain": [
          0,
          1
         ],
         "title": {
          "text": "value"
         }
        }
       }
      }
     },
     "metadata": {},
     "output_type": "display_data"
    }
   ],
   "source": [
    "import datetime\n",
    "import plotly.express as px\n",
    "\n",
    "time_range = [datetime.time(hour, minute) for hour in range(9, 16) for minute in range(0, 60, 5)]\n",
    "time_range = [x for x in time_range if x >= datetime.time(9,45)]\n",
    "df_val = pd.DataFrame()\n",
    "for t in time_range:\n",
    "    X_val = X_test.loc[X_test['time'] <= t].copy()\n",
    "    y_val = y_test.loc[X_val.index, 'lod_in'].copy()\n",
    "\n",
    "    y_pred_val = pipeline_lod.predict_proba(X_val)[:,-1]\n",
    "\n",
    "    df_val.loc[t, [\n",
    "        'roc_auc',\n",
    "        'precision',\n",
    "        'recall'\n",
    "    ]] =  roc_auc_score(y_val, y_pred_val), precision_score(y_val, y_pred_val > 0.5), recall_score(y_val, y_pred_val > 0.5)\n",
    "\n",
    "\n",
    "fig = px.line(df_val, title='Validation Metrics Over Time (LOD Model)')\n",
    "fig.show()"
   ]
  },
  {
   "cell_type": "code",
   "execution_count": 54,
   "metadata": {},
   "outputs": [
    {
     "data": {
      "application/vnd.plotly.v1+json": {
       "config": {
        "plotlyServerURL": "https://plot.ly"
       },
       "data": [
        {
         "hovertemplate": "variable=roc_auc<br>index=%{x}<br>value=%{y}<extra></extra>",
         "legendgroup": "roc_auc",
         "line": {
          "color": "#636efa",
          "dash": "solid"
         },
         "marker": {
          "symbol": "circle"
         },
         "mode": "lines",
         "name": "roc_auc",
         "orientation": "v",
         "showlegend": true,
         "type": "scatter",
         "x": [
          "09:45:00",
          "09:50:00",
          "09:55:00",
          "10:00:00",
          "10:05:00",
          "10:10:00",
          "10:15:00",
          "10:20:00",
          "10:25:00",
          "10:30:00",
          "10:35:00",
          "10:40:00",
          "10:45:00",
          "10:50:00",
          "10:55:00",
          "11:00:00",
          "11:05:00",
          "11:10:00",
          "11:15:00",
          "11:20:00",
          "11:25:00",
          "11:30:00",
          "11:35:00",
          "11:40:00",
          "11:45:00",
          "11:50:00",
          "11:55:00",
          "12:00:00",
          "12:05:00",
          "12:10:00",
          "12:15:00",
          "12:20:00",
          "12:25:00",
          "12:30:00",
          "12:35:00",
          "12:40:00",
          "12:45:00",
          "12:50:00",
          "12:55:00",
          "13:00:00",
          "13:05:00",
          "13:10:00",
          "13:15:00",
          "13:20:00",
          "13:25:00",
          "13:30:00",
          "13:35:00",
          "13:40:00",
          "13:45:00",
          "13:50:00",
          "13:55:00",
          "14:00:00",
          "14:05:00",
          "14:10:00",
          "14:15:00",
          "14:20:00",
          "14:25:00",
          "14:30:00",
          "14:35:00",
          "14:40:00",
          "14:45:00",
          "14:50:00",
          "14:55:00",
          "15:00:00",
          "15:05:00",
          "15:10:00",
          "15:15:00",
          "15:20:00",
          "15:25:00",
          "15:30:00",
          "15:35:00",
          "15:40:00",
          "15:45:00",
          "15:50:00",
          "15:55:00"
         ],
         "xaxis": "x",
         "y": [
          0.6949092203631185,
          0.688743264890054,
          0.6946739608878829,
          0.7173093610079484,
          0.7262687969924811,
          0.7398884032252302,
          0.7461346869829013,
          0.7501736407628807,
          0.7532953197643074,
          0.7570664707028714,
          0.763158462867012,
          0.7700100777515478,
          0.7739543060049292,
          0.7753846737227396,
          0.7783819946720407,
          0.7801287806493993,
          0.7813539536539529,
          0.7824925341375186,
          0.7836990365659567,
          0.7856324753640241,
          0.7873953576945408,
          0.7875396724396573,
          0.787826256535672,
          0.7891754213795836,
          0.7901287060055666,
          0.7903314477047922,
          0.7904438768528615,
          0.790910749924059,
          0.7913000823866101,
          0.7916810816578264,
          0.7922438588420373,
          0.7924147175970717,
          0.7928239312906645,
          0.7937035535801655,
          0.794623022203153,
          0.7950748767314562,
          0.7952930152590291,
          0.7953733547275788,
          0.7958740446402837,
          0.7967112972114762,
          0.7973681580561719,
          0.7976833292840946,
          0.798559919049732,
          0.7994301635304659,
          0.8004846207301477,
          0.800991023191675,
          0.8018294700730639,
          0.8025266352640494,
          0.8029142562566667,
          0.8036179773781503,
          0.8045062343750349,
          0.806061422578364,
          0.8071169440945448,
          0.8087574759979202,
          0.8101428744533297,
          0.8116401878799481,
          0.8129822702765257,
          0.8145251656175485,
          0.8160370579621449,
          0.8177140821353805,
          0.8196775326106828,
          0.8217684790714928,
          0.824174707081655,
          0.826580242406235,
          0.828982522693402,
          0.8314260576810181,
          0.8337945568070395,
          0.8360669136458663,
          0.8380687719116717,
          0.8399268684518879,
          0.8419701540047043,
          0.8439849078244512,
          0.846337175983359,
          0.8487668582479471,
          0.8521124088408332
         ],
         "yaxis": "y"
        },
        {
         "hovertemplate": "variable=precision<br>index=%{x}<br>value=%{y}<extra></extra>",
         "legendgroup": "precision",
         "line": {
          "color": "#EF553B",
          "dash": "solid"
         },
         "marker": {
          "symbol": "circle"
         },
         "mode": "lines",
         "name": "precision",
         "orientation": "v",
         "showlegend": true,
         "type": "scatter",
         "x": [
          "09:45:00",
          "09:50:00",
          "09:55:00",
          "10:00:00",
          "10:05:00",
          "10:10:00",
          "10:15:00",
          "10:20:00",
          "10:25:00",
          "10:30:00",
          "10:35:00",
          "10:40:00",
          "10:45:00",
          "10:50:00",
          "10:55:00",
          "11:00:00",
          "11:05:00",
          "11:10:00",
          "11:15:00",
          "11:20:00",
          "11:25:00",
          "11:30:00",
          "11:35:00",
          "11:40:00",
          "11:45:00",
          "11:50:00",
          "11:55:00",
          "12:00:00",
          "12:05:00",
          "12:10:00",
          "12:15:00",
          "12:20:00",
          "12:25:00",
          "12:30:00",
          "12:35:00",
          "12:40:00",
          "12:45:00",
          "12:50:00",
          "12:55:00",
          "13:00:00",
          "13:05:00",
          "13:10:00",
          "13:15:00",
          "13:20:00",
          "13:25:00",
          "13:30:00",
          "13:35:00",
          "13:40:00",
          "13:45:00",
          "13:50:00",
          "13:55:00",
          "14:00:00",
          "14:05:00",
          "14:10:00",
          "14:15:00",
          "14:20:00",
          "14:25:00",
          "14:30:00",
          "14:35:00",
          "14:40:00",
          "14:45:00",
          "14:50:00",
          "14:55:00",
          "15:00:00",
          "15:05:00",
          "15:10:00",
          "15:15:00",
          "15:20:00",
          "15:25:00",
          "15:30:00",
          "15:35:00",
          "15:40:00",
          "15:45:00",
          "15:50:00",
          "15:55:00"
         ],
         "xaxis": "x",
         "y": [
          0.3939393939393939,
          0.3787878787878788,
          0.41836734693877553,
          0.4642857142857143,
          0.5026455026455027,
          0.5394190871369294,
          0.5622895622895623,
          0.5638888888888889,
          0.5704225352112676,
          0.5772357723577236,
          0.5860215053763441,
          0.5971337579617835,
          0.6056737588652482,
          0.6149870801033591,
          0.6236811254396248,
          0.6312433581296493,
          0.6367149758454106,
          0.6409574468085106,
          0.6443719412724307,
          0.6485260770975056,
          0.651685393258427,
          0.6562091503267974,
          0.6603658536585366,
          0.6636207881210737,
          0.6679164434922336,
          0.6711983887210473,
          0.6736144007579347,
          0.6766816143497758,
          0.6794217687074829,
          0.6828282828282828,
          0.6851211072664359,
          0.6872940314902966,
          0.6884159106769016,
          0.6910243576910243,
          0.6930946291560103,
          0.6954252379490329,
          0.6970501474926254,
          0.6986961451247166,
          0.700354126940888,
          0.7027027027027027,
          0.7050341512775108,
          0.7065853658536585,
          0.7087355780550977,
          0.7109037104484407,
          0.7128712871287128,
          0.7153502235469449,
          0.7186468646864687,
          0.7215113954418233,
          0.7244660194174757,
          0.7269129287598944,
          0.7292544422055321,
          0.7328461949741579,
          0.7363399826539462,
          0.7399019773533886,
          0.7434546352708711,
          0.7469918177442644,
          0.750195526356953,
          0.7535082367297132,
          0.756998213222156,
          0.7604712041884817,
          0.7642958748221906,
          0.76765850945495,
          0.7712382764713878,
          0.7745580220656653,
          0.7782258064516129,
          0.7816677275620624,
          0.7847533632286996,
          0.7880229296255641,
          0.7911589008363202,
          0.7942382011945193,
          0.7971763085399449,
          0.8002700573871948,
          0.803705337450375,
          0.8069531418700064,
          0.8112331081081081
         ],
         "yaxis": "y"
        },
        {
         "hovertemplate": "variable=recall<br>index=%{x}<br>value=%{y}<extra></extra>",
         "legendgroup": "recall",
         "line": {
          "color": "#00cc96",
          "dash": "solid"
         },
         "marker": {
          "symbol": "circle"
         },
         "mode": "lines",
         "name": "recall",
         "orientation": "v",
         "showlegend": true,
         "type": "scatter",
         "x": [
          "09:45:00",
          "09:50:00",
          "09:55:00",
          "10:00:00",
          "10:05:00",
          "10:10:00",
          "10:15:00",
          "10:20:00",
          "10:25:00",
          "10:30:00",
          "10:35:00",
          "10:40:00",
          "10:45:00",
          "10:50:00",
          "10:55:00",
          "11:00:00",
          "11:05:00",
          "11:10:00",
          "11:15:00",
          "11:20:00",
          "11:25:00",
          "11:30:00",
          "11:35:00",
          "11:40:00",
          "11:45:00",
          "11:50:00",
          "11:55:00",
          "12:00:00",
          "12:05:00",
          "12:10:00",
          "12:15:00",
          "12:20:00",
          "12:25:00",
          "12:30:00",
          "12:35:00",
          "12:40:00",
          "12:45:00",
          "12:50:00",
          "12:55:00",
          "13:00:00",
          "13:05:00",
          "13:10:00",
          "13:15:00",
          "13:20:00",
          "13:25:00",
          "13:30:00",
          "13:35:00",
          "13:40:00",
          "13:45:00",
          "13:50:00",
          "13:55:00",
          "14:00:00",
          "14:05:00",
          "14:10:00",
          "14:15:00",
          "14:20:00",
          "14:25:00",
          "14:30:00",
          "14:35:00",
          "14:40:00",
          "14:45:00",
          "14:50:00",
          "14:55:00",
          "15:00:00",
          "15:05:00",
          "15:10:00",
          "15:15:00",
          "15:20:00",
          "15:25:00",
          "15:30:00",
          "15:35:00",
          "15:40:00",
          "15:45:00",
          "15:50:00",
          "15:55:00"
         ],
         "xaxis": "x",
         "y": [
          0.24528301886792453,
          0.22935779816513763,
          0.23976608187134502,
          0.2765957446808511,
          0.3125,
          0.34759358288770054,
          0.37276785714285715,
          0.38666666666666666,
          0.40165289256198344,
          0.4127906976744186,
          0.42357512953367876,
          0.43757292882147025,
          0.4513742071881607,
          0.45813282001924927,
          0.46996466431095407,
          0.4841075794621027,
          0.49735849056603776,
          0.5073684210526316,
          0.5180327868852459,
          0.528,
          0.5376593279258401,
          0.5486338797814208,
          0.559400826446281,
          0.5687714145863926,
          0.5797303579730358,
          0.589562140645732,
          0.5994940978077572,
          0.6072434607645876,
          0.6146153846153846,
          0.6222385861561119,
          0.6290151782562654,
          0.635840108401084,
          0.642461738847281,
          0.6488095238095238,
          0.6543917899185029,
          0.6593886462882096,
          0.6639505479067154,
          0.6689280868385346,
          0.6744491080797481,
          0.6796954314720812,
          0.6847665847665848,
          0.6897619047619048,
          0.6949896097898869,
          0.6995967741935484,
          0.7049608355091384,
          0.7097591888466414,
          0.714813295034879,
          0.7194976076555024,
          0.7230620155038759,
          0.726775956284153,
          0.7297891842346471,
          0.7336306868867083,
          0.7371071366556694,
          0.7404025029595805,
          0.7435770750988142,
          0.7472315840154068,
          0.7503128911138923,
          0.7536231884057971,
          0.7567728490622209,
          0.7599186164801628,
          0.7627768313458262,
          0.7660607742472596,
          0.7698778833107192,
          0.7734271303424476,
          0.777012987012987,
          0.7805746249682176,
          0.784167289021658,
          0.7876386687797148,
          0.7905921680993314,
          0.7931236112735353,
          0.7958973183589273,
          0.7985627666741523,
          0.8017601760176017,
          0.8052143934496876,
          0.8095238095238095
         ],
         "yaxis": "y"
        }
       ],
       "layout": {
        "legend": {
         "title": {
          "text": "variable"
         },
         "tracegroupgap": 0
        },
        "template": {
         "data": {
          "bar": [
           {
            "error_x": {
             "color": "#2a3f5f"
            },
            "error_y": {
             "color": "#2a3f5f"
            },
            "marker": {
             "line": {
              "color": "#E5ECF6",
              "width": 0.5
             },
             "pattern": {
              "fillmode": "overlay",
              "size": 10,
              "solidity": 0.2
             }
            },
            "type": "bar"
           }
          ],
          "barpolar": [
           {
            "marker": {
             "line": {
              "color": "#E5ECF6",
              "width": 0.5
             },
             "pattern": {
              "fillmode": "overlay",
              "size": 10,
              "solidity": 0.2
             }
            },
            "type": "barpolar"
           }
          ],
          "carpet": [
           {
            "aaxis": {
             "endlinecolor": "#2a3f5f",
             "gridcolor": "white",
             "linecolor": "white",
             "minorgridcolor": "white",
             "startlinecolor": "#2a3f5f"
            },
            "baxis": {
             "endlinecolor": "#2a3f5f",
             "gridcolor": "white",
             "linecolor": "white",
             "minorgridcolor": "white",
             "startlinecolor": "#2a3f5f"
            },
            "type": "carpet"
           }
          ],
          "choropleth": [
           {
            "colorbar": {
             "outlinewidth": 0,
             "ticks": ""
            },
            "type": "choropleth"
           }
          ],
          "contour": [
           {
            "colorbar": {
             "outlinewidth": 0,
             "ticks": ""
            },
            "colorscale": [
             [
              0,
              "#0d0887"
             ],
             [
              0.1111111111111111,
              "#46039f"
             ],
             [
              0.2222222222222222,
              "#7201a8"
             ],
             [
              0.3333333333333333,
              "#9c179e"
             ],
             [
              0.4444444444444444,
              "#bd3786"
             ],
             [
              0.5555555555555556,
              "#d8576b"
             ],
             [
              0.6666666666666666,
              "#ed7953"
             ],
             [
              0.7777777777777778,
              "#fb9f3a"
             ],
             [
              0.8888888888888888,
              "#fdca26"
             ],
             [
              1,
              "#f0f921"
             ]
            ],
            "type": "contour"
           }
          ],
          "contourcarpet": [
           {
            "colorbar": {
             "outlinewidth": 0,
             "ticks": ""
            },
            "type": "contourcarpet"
           }
          ],
          "heatmap": [
           {
            "colorbar": {
             "outlinewidth": 0,
             "ticks": ""
            },
            "colorscale": [
             [
              0,
              "#0d0887"
             ],
             [
              0.1111111111111111,
              "#46039f"
             ],
             [
              0.2222222222222222,
              "#7201a8"
             ],
             [
              0.3333333333333333,
              "#9c179e"
             ],
             [
              0.4444444444444444,
              "#bd3786"
             ],
             [
              0.5555555555555556,
              "#d8576b"
             ],
             [
              0.6666666666666666,
              "#ed7953"
             ],
             [
              0.7777777777777778,
              "#fb9f3a"
             ],
             [
              0.8888888888888888,
              "#fdca26"
             ],
             [
              1,
              "#f0f921"
             ]
            ],
            "type": "heatmap"
           }
          ],
          "heatmapgl": [
           {
            "colorbar": {
             "outlinewidth": 0,
             "ticks": ""
            },
            "colorscale": [
             [
              0,
              "#0d0887"
             ],
             [
              0.1111111111111111,
              "#46039f"
             ],
             [
              0.2222222222222222,
              "#7201a8"
             ],
             [
              0.3333333333333333,
              "#9c179e"
             ],
             [
              0.4444444444444444,
              "#bd3786"
             ],
             [
              0.5555555555555556,
              "#d8576b"
             ],
             [
              0.6666666666666666,
              "#ed7953"
             ],
             [
              0.7777777777777778,
              "#fb9f3a"
             ],
             [
              0.8888888888888888,
              "#fdca26"
             ],
             [
              1,
              "#f0f921"
             ]
            ],
            "type": "heatmapgl"
           }
          ],
          "histogram": [
           {
            "marker": {
             "pattern": {
              "fillmode": "overlay",
              "size": 10,
              "solidity": 0.2
             }
            },
            "type": "histogram"
           }
          ],
          "histogram2d": [
           {
            "colorbar": {
             "outlinewidth": 0,
             "ticks": ""
            },
            "colorscale": [
             [
              0,
              "#0d0887"
             ],
             [
              0.1111111111111111,
              "#46039f"
             ],
             [
              0.2222222222222222,
              "#7201a8"
             ],
             [
              0.3333333333333333,
              "#9c179e"
             ],
             [
              0.4444444444444444,
              "#bd3786"
             ],
             [
              0.5555555555555556,
              "#d8576b"
             ],
             [
              0.6666666666666666,
              "#ed7953"
             ],
             [
              0.7777777777777778,
              "#fb9f3a"
             ],
             [
              0.8888888888888888,
              "#fdca26"
             ],
             [
              1,
              "#f0f921"
             ]
            ],
            "type": "histogram2d"
           }
          ],
          "histogram2dcontour": [
           {
            "colorbar": {
             "outlinewidth": 0,
             "ticks": ""
            },
            "colorscale": [
             [
              0,
              "#0d0887"
             ],
             [
              0.1111111111111111,
              "#46039f"
             ],
             [
              0.2222222222222222,
              "#7201a8"
             ],
             [
              0.3333333333333333,
              "#9c179e"
             ],
             [
              0.4444444444444444,
              "#bd3786"
             ],
             [
              0.5555555555555556,
              "#d8576b"
             ],
             [
              0.6666666666666666,
              "#ed7953"
             ],
             [
              0.7777777777777778,
              "#fb9f3a"
             ],
             [
              0.8888888888888888,
              "#fdca26"
             ],
             [
              1,
              "#f0f921"
             ]
            ],
            "type": "histogram2dcontour"
           }
          ],
          "mesh3d": [
           {
            "colorbar": {
             "outlinewidth": 0,
             "ticks": ""
            },
            "type": "mesh3d"
           }
          ],
          "parcoords": [
           {
            "line": {
             "colorbar": {
              "outlinewidth": 0,
              "ticks": ""
             }
            },
            "type": "parcoords"
           }
          ],
          "pie": [
           {
            "automargin": true,
            "type": "pie"
           }
          ],
          "scatter": [
           {
            "fillpattern": {
             "fillmode": "overlay",
             "size": 10,
             "solidity": 0.2
            },
            "type": "scatter"
           }
          ],
          "scatter3d": [
           {
            "line": {
             "colorbar": {
              "outlinewidth": 0,
              "ticks": ""
             }
            },
            "marker": {
             "colorbar": {
              "outlinewidth": 0,
              "ticks": ""
             }
            },
            "type": "scatter3d"
           }
          ],
          "scattercarpet": [
           {
            "marker": {
             "colorbar": {
              "outlinewidth": 0,
              "ticks": ""
             }
            },
            "type": "scattercarpet"
           }
          ],
          "scattergeo": [
           {
            "marker": {
             "colorbar": {
              "outlinewidth": 0,
              "ticks": ""
             }
            },
            "type": "scattergeo"
           }
          ],
          "scattergl": [
           {
            "marker": {
             "colorbar": {
              "outlinewidth": 0,
              "ticks": ""
             }
            },
            "type": "scattergl"
           }
          ],
          "scattermapbox": [
           {
            "marker": {
             "colorbar": {
              "outlinewidth": 0,
              "ticks": ""
             }
            },
            "type": "scattermapbox"
           }
          ],
          "scatterpolar": [
           {
            "marker": {
             "colorbar": {
              "outlinewidth": 0,
              "ticks": ""
             }
            },
            "type": "scatterpolar"
           }
          ],
          "scatterpolargl": [
           {
            "marker": {
             "colorbar": {
              "outlinewidth": 0,
              "ticks": ""
             }
            },
            "type": "scatterpolargl"
           }
          ],
          "scatterternary": [
           {
            "marker": {
             "colorbar": {
              "outlinewidth": 0,
              "ticks": ""
             }
            },
            "type": "scatterternary"
           }
          ],
          "surface": [
           {
            "colorbar": {
             "outlinewidth": 0,
             "ticks": ""
            },
            "colorscale": [
             [
              0,
              "#0d0887"
             ],
             [
              0.1111111111111111,
              "#46039f"
             ],
             [
              0.2222222222222222,
              "#7201a8"
             ],
             [
              0.3333333333333333,
              "#9c179e"
             ],
             [
              0.4444444444444444,
              "#bd3786"
             ],
             [
              0.5555555555555556,
              "#d8576b"
             ],
             [
              0.6666666666666666,
              "#ed7953"
             ],
             [
              0.7777777777777778,
              "#fb9f3a"
             ],
             [
              0.8888888888888888,
              "#fdca26"
             ],
             [
              1,
              "#f0f921"
             ]
            ],
            "type": "surface"
           }
          ],
          "table": [
           {
            "cells": {
             "fill": {
              "color": "#EBF0F8"
             },
             "line": {
              "color": "white"
             }
            },
            "header": {
             "fill": {
              "color": "#C8D4E3"
             },
             "line": {
              "color": "white"
             }
            },
            "type": "table"
           }
          ]
         },
         "layout": {
          "annotationdefaults": {
           "arrowcolor": "#2a3f5f",
           "arrowhead": 0,
           "arrowwidth": 1
          },
          "autotypenumbers": "strict",
          "coloraxis": {
           "colorbar": {
            "outlinewidth": 0,
            "ticks": ""
           }
          },
          "colorscale": {
           "diverging": [
            [
             0,
             "#8e0152"
            ],
            [
             0.1,
             "#c51b7d"
            ],
            [
             0.2,
             "#de77ae"
            ],
            [
             0.3,
             "#f1b6da"
            ],
            [
             0.4,
             "#fde0ef"
            ],
            [
             0.5,
             "#f7f7f7"
            ],
            [
             0.6,
             "#e6f5d0"
            ],
            [
             0.7,
             "#b8e186"
            ],
            [
             0.8,
             "#7fbc41"
            ],
            [
             0.9,
             "#4d9221"
            ],
            [
             1,
             "#276419"
            ]
           ],
           "sequential": [
            [
             0,
             "#0d0887"
            ],
            [
             0.1111111111111111,
             "#46039f"
            ],
            [
             0.2222222222222222,
             "#7201a8"
            ],
            [
             0.3333333333333333,
             "#9c179e"
            ],
            [
             0.4444444444444444,
             "#bd3786"
            ],
            [
             0.5555555555555556,
             "#d8576b"
            ],
            [
             0.6666666666666666,
             "#ed7953"
            ],
            [
             0.7777777777777778,
             "#fb9f3a"
            ],
            [
             0.8888888888888888,
             "#fdca26"
            ],
            [
             1,
             "#f0f921"
            ]
           ],
           "sequentialminus": [
            [
             0,
             "#0d0887"
            ],
            [
             0.1111111111111111,
             "#46039f"
            ],
            [
             0.2222222222222222,
             "#7201a8"
            ],
            [
             0.3333333333333333,
             "#9c179e"
            ],
            [
             0.4444444444444444,
             "#bd3786"
            ],
            [
             0.5555555555555556,
             "#d8576b"
            ],
            [
             0.6666666666666666,
             "#ed7953"
            ],
            [
             0.7777777777777778,
             "#fb9f3a"
            ],
            [
             0.8888888888888888,
             "#fdca26"
            ],
            [
             1,
             "#f0f921"
            ]
           ]
          },
          "colorway": [
           "#636efa",
           "#EF553B",
           "#00cc96",
           "#ab63fa",
           "#FFA15A",
           "#19d3f3",
           "#FF6692",
           "#B6E880",
           "#FF97FF",
           "#FECB52"
          ],
          "font": {
           "color": "#2a3f5f"
          },
          "geo": {
           "bgcolor": "white",
           "lakecolor": "white",
           "landcolor": "#E5ECF6",
           "showlakes": true,
           "showland": true,
           "subunitcolor": "white"
          },
          "hoverlabel": {
           "align": "left"
          },
          "hovermode": "closest",
          "mapbox": {
           "style": "light"
          },
          "paper_bgcolor": "white",
          "plot_bgcolor": "#E5ECF6",
          "polar": {
           "angularaxis": {
            "gridcolor": "white",
            "linecolor": "white",
            "ticks": ""
           },
           "bgcolor": "#E5ECF6",
           "radialaxis": {
            "gridcolor": "white",
            "linecolor": "white",
            "ticks": ""
           }
          },
          "scene": {
           "xaxis": {
            "backgroundcolor": "#E5ECF6",
            "gridcolor": "white",
            "gridwidth": 2,
            "linecolor": "white",
            "showbackground": true,
            "ticks": "",
            "zerolinecolor": "white"
           },
           "yaxis": {
            "backgroundcolor": "#E5ECF6",
            "gridcolor": "white",
            "gridwidth": 2,
            "linecolor": "white",
            "showbackground": true,
            "ticks": "",
            "zerolinecolor": "white"
           },
           "zaxis": {
            "backgroundcolor": "#E5ECF6",
            "gridcolor": "white",
            "gridwidth": 2,
            "linecolor": "white",
            "showbackground": true,
            "ticks": "",
            "zerolinecolor": "white"
           }
          },
          "shapedefaults": {
           "line": {
            "color": "#2a3f5f"
           }
          },
          "ternary": {
           "aaxis": {
            "gridcolor": "white",
            "linecolor": "white",
            "ticks": ""
           },
           "baxis": {
            "gridcolor": "white",
            "linecolor": "white",
            "ticks": ""
           },
           "bgcolor": "#E5ECF6",
           "caxis": {
            "gridcolor": "white",
            "linecolor": "white",
            "ticks": ""
           }
          },
          "title": {
           "x": 0.05
          },
          "xaxis": {
           "automargin": true,
           "gridcolor": "white",
           "linecolor": "white",
           "ticks": "",
           "title": {
            "standoff": 15
           },
           "zerolinecolor": "white",
           "zerolinewidth": 2
          },
          "yaxis": {
           "automargin": true,
           "gridcolor": "white",
           "linecolor": "white",
           "ticks": "",
           "title": {
            "standoff": 15
           },
           "zerolinecolor": "white",
           "zerolinewidth": 2
          }
         }
        },
        "title": {
         "text": "Validation Metrics Over Time (LOD Model CV)"
        },
        "xaxis": {
         "anchor": "y",
         "domain": [
          0,
          1
         ],
         "title": {
          "text": "index"
         }
        },
        "yaxis": {
         "anchor": "x",
         "domain": [
          0,
          1
         ],
         "title": {
          "text": "value"
         }
        }
       }
      }
     },
     "metadata": {},
     "output_type": "display_data"
    }
   ],
   "source": [
    "import datetime\n",
    "import plotly.express as px\n",
    "\n",
    "time_range = [datetime.time(hour, minute) for hour in range(9, 16) for minute in range(0, 60, 5)]\n",
    "time_range = [x for x in time_range if x >= datetime.time(9,45)]\n",
    "df_val = pd.DataFrame()\n",
    "for t in time_range:\n",
    "    X_val = X_test.loc[X_test['time'] <= t].copy()\n",
    "    y_val = y_test.loc[X_val.index, 'lod_in'].copy()\n",
    "\n",
    "    y_pred_val = lod_model_cv.predict_proba(X_val)[:,-1]\n",
    "\n",
    "    df_val.loc[t, [\n",
    "        'roc_auc',\n",
    "        'precision',\n",
    "        'recall'\n",
    "    ]] =  roc_auc_score(y_val, y_pred_val), precision_score(y_val, y_pred_val > 0.5), recall_score(y_val, y_pred_val > 0.5)\n",
    "\n",
    "\n",
    "fig = px.line(df_val, title='Validation Metrics Over Time (LOD Model CV)')\n",
    "fig.show()"
   ]
  },
  {
   "cell_type": "code",
   "execution_count": 55,
   "metadata": {},
   "outputs": [
    {
     "data": {
      "application/vnd.plotly.v1+json": {
       "config": {
        "plotlyServerURL": "https://plot.ly"
       },
       "data": [
        {
         "hovertemplate": "variable=roc_auc<br>index=%{x}<br>value=%{y}<extra></extra>",
         "legendgroup": "roc_auc",
         "line": {
          "color": "#636efa",
          "dash": "solid"
         },
         "marker": {
          "symbol": "circle"
         },
         "mode": "lines",
         "name": "roc_auc",
         "orientation": "v",
         "showlegend": true,
         "type": "scatter",
         "x": [
          "09:45:00",
          "09:50:00",
          "09:55:00",
          "10:00:00",
          "10:05:00",
          "10:10:00",
          "10:15:00",
          "10:20:00",
          "10:25:00",
          "10:30:00",
          "10:35:00",
          "10:40:00",
          "10:45:00",
          "10:50:00",
          "10:55:00",
          "11:00:00",
          "11:05:00",
          "11:10:00",
          "11:15:00",
          "11:20:00",
          "11:25:00",
          "11:30:00",
          "11:35:00",
          "11:40:00",
          "11:45:00",
          "11:50:00",
          "11:55:00",
          "12:00:00",
          "12:05:00",
          "12:10:00",
          "12:15:00",
          "12:20:00",
          "12:25:00",
          "12:30:00",
          "12:35:00",
          "12:40:00",
          "12:45:00",
          "12:50:00",
          "12:55:00",
          "13:00:00",
          "13:05:00",
          "13:10:00",
          "13:15:00",
          "13:20:00",
          "13:25:00",
          "13:30:00",
          "13:35:00",
          "13:40:00",
          "13:45:00",
          "13:50:00",
          "13:55:00",
          "14:00:00",
          "14:05:00",
          "14:10:00",
          "14:15:00",
          "14:20:00",
          "14:25:00",
          "14:30:00",
          "14:35:00",
          "14:40:00",
          "14:45:00",
          "14:50:00",
          "14:55:00",
          "15:00:00",
          "15:05:00",
          "15:10:00",
          "15:15:00",
          "15:20:00",
          "15:25:00",
          "15:30:00",
          "15:35:00",
          "15:40:00",
          "15:45:00",
          "15:50:00",
          "15:55:00"
         ],
         "xaxis": "x",
         "y": [
          0.7928074455588687,
          0.7926041384295655,
          0.7911709486662049,
          0.7951341827053402,
          0.8007011836992862,
          0.805475236689658,
          0.8107630148833727,
          0.8163176560946959,
          0.8200098836826646,
          0.8247863016174211,
          0.8283475480301425,
          0.8312651225364699,
          0.8335287541242876,
          0.8349782309237059,
          0.8359683945262693,
          0.8378805655326647,
          0.8396620396121391,
          0.8415333875485679,
          0.8435270989818499,
          0.8450136667570254,
          0.8471020768778581,
          0.8490633123417323,
          0.8508497734114073,
          0.8524656166229931,
          0.8539294840516852,
          0.855396835199054,
          0.8563549761689712,
          0.8567497275407858,
          0.8568140846150896,
          0.8570714737507906,
          0.8572104616409352,
          0.8571998607910907,
          0.8572990142767614,
          0.8576412370953517,
          0.8578961169721344,
          0.8581528389930245,
          0.8584553357618643,
          0.8586045534289134,
          0.8587975921211946,
          0.8590829718984367,
          0.8595380352444177,
          0.8599482291636573,
          0.8604395089391852,
          0.8610027988801492,
          0.8616133473765311,
          0.862568833528627,
          0.8637350072849853,
          0.864857460274372,
          0.8661222484238942,
          0.8673061419615599,
          0.8684335192215987,
          0.869810436899319,
          0.8709485797062122,
          0.8722434898684315,
          0.8735542366166761,
          0.8748246127776271,
          0.8762374819807348,
          0.8778389186638353,
          0.879381064625812,
          0.8810776233468505,
          0.8829240229660125,
          0.8846086151973827,
          0.8863498195073046,
          0.8880969670167642,
          0.8898930622359854,
          0.8915682276946996,
          0.8932605170171407,
          0.8949051803403452,
          0.8965797669653288,
          0.8982417528182367,
          0.8999109071432081,
          0.9016804329480766,
          0.9034254853336978,
          0.905313423854343,
          0.9074667617716703
         ],
         "yaxis": "y"
        },
        {
         "hovertemplate": "variable=precision<br>index=%{x}<br>value=%{y}<extra></extra>",
         "legendgroup": "precision",
         "line": {
          "color": "#EF553B",
          "dash": "solid"
         },
         "marker": {
          "symbol": "circle"
         },
         "mode": "lines",
         "name": "precision",
         "orientation": "v",
         "showlegend": true,
         "type": "scatter",
         "x": [
          "09:45:00",
          "09:50:00",
          "09:55:00",
          "10:00:00",
          "10:05:00",
          "10:10:00",
          "10:15:00",
          "10:20:00",
          "10:25:00",
          "10:30:00",
          "10:35:00",
          "10:40:00",
          "10:45:00",
          "10:50:00",
          "10:55:00",
          "11:00:00",
          "11:05:00",
          "11:10:00",
          "11:15:00",
          "11:20:00",
          "11:25:00",
          "11:30:00",
          "11:35:00",
          "11:40:00",
          "11:45:00",
          "11:50:00",
          "11:55:00",
          "12:00:00",
          "12:05:00",
          "12:10:00",
          "12:15:00",
          "12:20:00",
          "12:25:00",
          "12:30:00",
          "12:35:00",
          "12:40:00",
          "12:45:00",
          "12:50:00",
          "12:55:00",
          "13:00:00",
          "13:05:00",
          "13:10:00",
          "13:15:00",
          "13:20:00",
          "13:25:00",
          "13:30:00",
          "13:35:00",
          "13:40:00",
          "13:45:00",
          "13:50:00",
          "13:55:00",
          "14:00:00",
          "14:05:00",
          "14:10:00",
          "14:15:00",
          "14:20:00",
          "14:25:00",
          "14:30:00",
          "14:35:00",
          "14:40:00",
          "14:45:00",
          "14:50:00",
          "14:55:00",
          "15:00:00",
          "15:05:00",
          "15:10:00",
          "15:15:00",
          "15:20:00",
          "15:25:00",
          "15:30:00",
          "15:35:00",
          "15:40:00",
          "15:45:00",
          "15:50:00",
          "15:55:00"
         ],
         "xaxis": "x",
         "y": [
          0.7622950819672131,
          0.7591836734693878,
          0.7560321715817694,
          0.7594433399602386,
          0.7643312101910829,
          0.768,
          0.7702857142857142,
          0.7734530938123753,
          0.7761989342806395,
          0.7800963081861958,
          0.7842993396918562,
          0.786342123056119,
          0.7871939736346516,
          0.7894428152492668,
          0.7904290429042904,
          0.7916235780765254,
          0.7924161400097229,
          0.7936580882352942,
          0.7952173913043479,
          0.7957078002476269,
          0.7971698113207547,
          0.7979002624671916,
          0.7994259059921062,
          0.8010327022375215,
          0.802183261660602,
          0.8027362392618518,
          0.8033690658499234,
          0.8034818530539982,
          0.8033020210646171,
          0.8028014281790716,
          0.8023348368267444,
          0.8017971758664955,
          0.8017928286852589,
          0.8016908212560386,
          0.8016431924882629,
          0.8016906557002513,
          0.801914088582239,
          0.8022121014964216,
          0.8022395943376294,
          0.8028865979381443,
          0.8035031205959332,
          0.8038136426184391,
          0.804268409921169,
          0.804589053977807,
          0.8050800662617339,
          0.8056206088992974,
          0.80638898693964,
          0.8073727933541017,
          0.8084492704445199,
          0.8096189049758695,
          0.8107137024334476,
          0.8119685544681534,
          0.8130619971604354,
          0.8142059553349876,
          0.8154643892023792,
          0.8164642375168691,
          0.8176453231041605,
          0.8191056910569106,
          0.820260037148164,
          0.8212879640044994,
          0.8227637773469952,
          0.8239945466939332,
          0.8254330602927353,
          0.8268925357331922,
          0.8282472613458529,
          0.8295629820051413,
          0.8310091277890467,
          0.8322911455727864,
          0.8337447543816342,
          0.835342832785288,
          0.8370414912808178,
          0.8389931132747566,
          0.8408158480834603,
          0.8427447350150428,
          0.8448275862068966
         ],
         "yaxis": "y"
        },
        {
         "hovertemplate": "variable=recall<br>index=%{x}<br>value=%{y}<extra></extra>",
         "legendgroup": "recall",
         "line": {
          "color": "#00cc96",
          "dash": "solid"
         },
         "marker": {
          "symbol": "circle"
         },
         "mode": "lines",
         "name": "recall",
         "orientation": "v",
         "showlegend": true,
         "type": "scatter",
         "x": [
          "09:45:00",
          "09:50:00",
          "09:55:00",
          "10:00:00",
          "10:05:00",
          "10:10:00",
          "10:15:00",
          "10:20:00",
          "10:25:00",
          "10:30:00",
          "10:35:00",
          "10:40:00",
          "10:45:00",
          "10:50:00",
          "10:55:00",
          "11:00:00",
          "11:05:00",
          "11:10:00",
          "11:15:00",
          "11:20:00",
          "11:25:00",
          "11:30:00",
          "11:35:00",
          "11:40:00",
          "11:45:00",
          "11:50:00",
          "11:55:00",
          "12:00:00",
          "12:05:00",
          "12:10:00",
          "12:15:00",
          "12:20:00",
          "12:25:00",
          "12:30:00",
          "12:35:00",
          "12:40:00",
          "12:45:00",
          "12:50:00",
          "12:55:00",
          "13:00:00",
          "13:05:00",
          "13:10:00",
          "13:15:00",
          "13:20:00",
          "13:25:00",
          "13:30:00",
          "13:35:00",
          "13:40:00",
          "13:45:00",
          "13:50:00",
          "13:55:00",
          "14:00:00",
          "14:05:00",
          "14:10:00",
          "14:15:00",
          "14:20:00",
          "14:25:00",
          "14:30:00",
          "14:35:00",
          "14:40:00",
          "14:45:00",
          "14:50:00",
          "14:55:00",
          "15:00:00",
          "15:05:00",
          "15:10:00",
          "15:15:00",
          "15:20:00",
          "15:25:00",
          "15:30:00",
          "15:35:00",
          "15:40:00",
          "15:45:00",
          "15:50:00",
          "15:55:00"
         ],
         "xaxis": "x",
         "y": [
          0.7815126050420168,
          0.7815126050420168,
          0.7899159663865546,
          0.8025210084033614,
          0.8067226890756303,
          0.8067226890756303,
          0.8091236494597839,
          0.8140756302521008,
          0.8160597572362278,
          0.8168067226890756,
          0.8166539343009931,
          0.8144257703081232,
          0.81060116354234,
          0.8079231692677071,
          0.8050420168067227,
          0.8040966386554622,
          0.8057340583292141,
          0.8062558356676004,
          0.8089340999557718,
          0.8100840336134454,
          0.8115246098439376,
          0.8128342245989305,
          0.8140299598100109,
          0.8147759103641457,
          0.8151260504201681,
          0.8154492566257272,
          0.8163709928415811,
          0.8172268907563025,
          0.8177339901477833,
          0.8187675070028011,
          0.8197343453510436,
          0.8201155462184874,
          0.8199643493761141,
          0.8203163618388531,
          0.8199279711884754,
          0.819094304388422,
          0.8183057006586418,
          0.818000884564352,
          0.8181426416720534,
          0.8180672268907563,
          0.8179954908792786,
          0.8181272509003601,
          0.8174711745163181,
          0.8170359052711994,
          0.8171118998692322,
          0.8175502742230347,
          0.8177913012350099,
          0.8178471248246845,
          0.8185878714997423,
          0.8192994274166386,
          0.8198183319570603,
          0.8199935191186001,
          0.8195261567816823,
          0.8195441773337496,
          0.8195892090741876,
          0.8199066405661798,
          0.8200651080201243,
          0.8206545454545454,
          0.8210812356979404,
          0.8216345477563651,
          0.8223083310268475,
          0.8230968269099823,
          0.8239946380697051,
          0.8246007654744621,
          0.8254484013517026,
          0.826270643963641,
          0.826816347124117,
          0.8272218769422002,
          0.8276157804459692,
          0.8284817006884889,
          0.828966174368747,
          0.8300246681545871,
          0.8311703360370799,
          0.8326283297130445,
          0.8347247292418772
         ],
         "yaxis": "y"
        }
       ],
       "layout": {
        "legend": {
         "title": {
          "text": "variable"
         },
         "tracegroupgap": 0
        },
        "template": {
         "data": {
          "bar": [
           {
            "error_x": {
             "color": "#2a3f5f"
            },
            "error_y": {
             "color": "#2a3f5f"
            },
            "marker": {
             "line": {
              "color": "#E5ECF6",
              "width": 0.5
             },
             "pattern": {
              "fillmode": "overlay",
              "size": 10,
              "solidity": 0.2
             }
            },
            "type": "bar"
           }
          ],
          "barpolar": [
           {
            "marker": {
             "line": {
              "color": "#E5ECF6",
              "width": 0.5
             },
             "pattern": {
              "fillmode": "overlay",
              "size": 10,
              "solidity": 0.2
             }
            },
            "type": "barpolar"
           }
          ],
          "carpet": [
           {
            "aaxis": {
             "endlinecolor": "#2a3f5f",
             "gridcolor": "white",
             "linecolor": "white",
             "minorgridcolor": "white",
             "startlinecolor": "#2a3f5f"
            },
            "baxis": {
             "endlinecolor": "#2a3f5f",
             "gridcolor": "white",
             "linecolor": "white",
             "minorgridcolor": "white",
             "startlinecolor": "#2a3f5f"
            },
            "type": "carpet"
           }
          ],
          "choropleth": [
           {
            "colorbar": {
             "outlinewidth": 0,
             "ticks": ""
            },
            "type": "choropleth"
           }
          ],
          "contour": [
           {
            "colorbar": {
             "outlinewidth": 0,
             "ticks": ""
            },
            "colorscale": [
             [
              0,
              "#0d0887"
             ],
             [
              0.1111111111111111,
              "#46039f"
             ],
             [
              0.2222222222222222,
              "#7201a8"
             ],
             [
              0.3333333333333333,
              "#9c179e"
             ],
             [
              0.4444444444444444,
              "#bd3786"
             ],
             [
              0.5555555555555556,
              "#d8576b"
             ],
             [
              0.6666666666666666,
              "#ed7953"
             ],
             [
              0.7777777777777778,
              "#fb9f3a"
             ],
             [
              0.8888888888888888,
              "#fdca26"
             ],
             [
              1,
              "#f0f921"
             ]
            ],
            "type": "contour"
           }
          ],
          "contourcarpet": [
           {
            "colorbar": {
             "outlinewidth": 0,
             "ticks": ""
            },
            "type": "contourcarpet"
           }
          ],
          "heatmap": [
           {
            "colorbar": {
             "outlinewidth": 0,
             "ticks": ""
            },
            "colorscale": [
             [
              0,
              "#0d0887"
             ],
             [
              0.1111111111111111,
              "#46039f"
             ],
             [
              0.2222222222222222,
              "#7201a8"
             ],
             [
              0.3333333333333333,
              "#9c179e"
             ],
             [
              0.4444444444444444,
              "#bd3786"
             ],
             [
              0.5555555555555556,
              "#d8576b"
             ],
             [
              0.6666666666666666,
              "#ed7953"
             ],
             [
              0.7777777777777778,
              "#fb9f3a"
             ],
             [
              0.8888888888888888,
              "#fdca26"
             ],
             [
              1,
              "#f0f921"
             ]
            ],
            "type": "heatmap"
           }
          ],
          "heatmapgl": [
           {
            "colorbar": {
             "outlinewidth": 0,
             "ticks": ""
            },
            "colorscale": [
             [
              0,
              "#0d0887"
             ],
             [
              0.1111111111111111,
              "#46039f"
             ],
             [
              0.2222222222222222,
              "#7201a8"
             ],
             [
              0.3333333333333333,
              "#9c179e"
             ],
             [
              0.4444444444444444,
              "#bd3786"
             ],
             [
              0.5555555555555556,
              "#d8576b"
             ],
             [
              0.6666666666666666,
              "#ed7953"
             ],
             [
              0.7777777777777778,
              "#fb9f3a"
             ],
             [
              0.8888888888888888,
              "#fdca26"
             ],
             [
              1,
              "#f0f921"
             ]
            ],
            "type": "heatmapgl"
           }
          ],
          "histogram": [
           {
            "marker": {
             "pattern": {
              "fillmode": "overlay",
              "size": 10,
              "solidity": 0.2
             }
            },
            "type": "histogram"
           }
          ],
          "histogram2d": [
           {
            "colorbar": {
             "outlinewidth": 0,
             "ticks": ""
            },
            "colorscale": [
             [
              0,
              "#0d0887"
             ],
             [
              0.1111111111111111,
              "#46039f"
             ],
             [
              0.2222222222222222,
              "#7201a8"
             ],
             [
              0.3333333333333333,
              "#9c179e"
             ],
             [
              0.4444444444444444,
              "#bd3786"
             ],
             [
              0.5555555555555556,
              "#d8576b"
             ],
             [
              0.6666666666666666,
              "#ed7953"
             ],
             [
              0.7777777777777778,
              "#fb9f3a"
             ],
             [
              0.8888888888888888,
              "#fdca26"
             ],
             [
              1,
              "#f0f921"
             ]
            ],
            "type": "histogram2d"
           }
          ],
          "histogram2dcontour": [
           {
            "colorbar": {
             "outlinewidth": 0,
             "ticks": ""
            },
            "colorscale": [
             [
              0,
              "#0d0887"
             ],
             [
              0.1111111111111111,
              "#46039f"
             ],
             [
              0.2222222222222222,
              "#7201a8"
             ],
             [
              0.3333333333333333,
              "#9c179e"
             ],
             [
              0.4444444444444444,
              "#bd3786"
             ],
             [
              0.5555555555555556,
              "#d8576b"
             ],
             [
              0.6666666666666666,
              "#ed7953"
             ],
             [
              0.7777777777777778,
              "#fb9f3a"
             ],
             [
              0.8888888888888888,
              "#fdca26"
             ],
             [
              1,
              "#f0f921"
             ]
            ],
            "type": "histogram2dcontour"
           }
          ],
          "mesh3d": [
           {
            "colorbar": {
             "outlinewidth": 0,
             "ticks": ""
            },
            "type": "mesh3d"
           }
          ],
          "parcoords": [
           {
            "line": {
             "colorbar": {
              "outlinewidth": 0,
              "ticks": ""
             }
            },
            "type": "parcoords"
           }
          ],
          "pie": [
           {
            "automargin": true,
            "type": "pie"
           }
          ],
          "scatter": [
           {
            "fillpattern": {
             "fillmode": "overlay",
             "size": 10,
             "solidity": 0.2
            },
            "type": "scatter"
           }
          ],
          "scatter3d": [
           {
            "line": {
             "colorbar": {
              "outlinewidth": 0,
              "ticks": ""
             }
            },
            "marker": {
             "colorbar": {
              "outlinewidth": 0,
              "ticks": ""
             }
            },
            "type": "scatter3d"
           }
          ],
          "scattercarpet": [
           {
            "marker": {
             "colorbar": {
              "outlinewidth": 0,
              "ticks": ""
             }
            },
            "type": "scattercarpet"
           }
          ],
          "scattergeo": [
           {
            "marker": {
             "colorbar": {
              "outlinewidth": 0,
              "ticks": ""
             }
            },
            "type": "scattergeo"
           }
          ],
          "scattergl": [
           {
            "marker": {
             "colorbar": {
              "outlinewidth": 0,
              "ticks": ""
             }
            },
            "type": "scattergl"
           }
          ],
          "scattermapbox": [
           {
            "marker": {
             "colorbar": {
              "outlinewidth": 0,
              "ticks": ""
             }
            },
            "type": "scattermapbox"
           }
          ],
          "scatterpolar": [
           {
            "marker": {
             "colorbar": {
              "outlinewidth": 0,
              "ticks": ""
             }
            },
            "type": "scatterpolar"
           }
          ],
          "scatterpolargl": [
           {
            "marker": {
             "colorbar": {
              "outlinewidth": 0,
              "ticks": ""
             }
            },
            "type": "scatterpolargl"
           }
          ],
          "scatterternary": [
           {
            "marker": {
             "colorbar": {
              "outlinewidth": 0,
              "ticks": ""
             }
            },
            "type": "scatterternary"
           }
          ],
          "surface": [
           {
            "colorbar": {
             "outlinewidth": 0,
             "ticks": ""
            },
            "colorscale": [
             [
              0,
              "#0d0887"
             ],
             [
              0.1111111111111111,
              "#46039f"
             ],
             [
              0.2222222222222222,
              "#7201a8"
             ],
             [
              0.3333333333333333,
              "#9c179e"
             ],
             [
              0.4444444444444444,
              "#bd3786"
             ],
             [
              0.5555555555555556,
              "#d8576b"
             ],
             [
              0.6666666666666666,
              "#ed7953"
             ],
             [
              0.7777777777777778,
              "#fb9f3a"
             ],
             [
              0.8888888888888888,
              "#fdca26"
             ],
             [
              1,
              "#f0f921"
             ]
            ],
            "type": "surface"
           }
          ],
          "table": [
           {
            "cells": {
             "fill": {
              "color": "#EBF0F8"
             },
             "line": {
              "color": "white"
             }
            },
            "header": {
             "fill": {
              "color": "#C8D4E3"
             },
             "line": {
              "color": "white"
             }
            },
            "type": "table"
           }
          ]
         },
         "layout": {
          "annotationdefaults": {
           "arrowcolor": "#2a3f5f",
           "arrowhead": 0,
           "arrowwidth": 1
          },
          "autotypenumbers": "strict",
          "coloraxis": {
           "colorbar": {
            "outlinewidth": 0,
            "ticks": ""
           }
          },
          "colorscale": {
           "diverging": [
            [
             0,
             "#8e0152"
            ],
            [
             0.1,
             "#c51b7d"
            ],
            [
             0.2,
             "#de77ae"
            ],
            [
             0.3,
             "#f1b6da"
            ],
            [
             0.4,
             "#fde0ef"
            ],
            [
             0.5,
             "#f7f7f7"
            ],
            [
             0.6,
             "#e6f5d0"
            ],
            [
             0.7,
             "#b8e186"
            ],
            [
             0.8,
             "#7fbc41"
            ],
            [
             0.9,
             "#4d9221"
            ],
            [
             1,
             "#276419"
            ]
           ],
           "sequential": [
            [
             0,
             "#0d0887"
            ],
            [
             0.1111111111111111,
             "#46039f"
            ],
            [
             0.2222222222222222,
             "#7201a8"
            ],
            [
             0.3333333333333333,
             "#9c179e"
            ],
            [
             0.4444444444444444,
             "#bd3786"
            ],
            [
             0.5555555555555556,
             "#d8576b"
            ],
            [
             0.6666666666666666,
             "#ed7953"
            ],
            [
             0.7777777777777778,
             "#fb9f3a"
            ],
            [
             0.8888888888888888,
             "#fdca26"
            ],
            [
             1,
             "#f0f921"
            ]
           ],
           "sequentialminus": [
            [
             0,
             "#0d0887"
            ],
            [
             0.1111111111111111,
             "#46039f"
            ],
            [
             0.2222222222222222,
             "#7201a8"
            ],
            [
             0.3333333333333333,
             "#9c179e"
            ],
            [
             0.4444444444444444,
             "#bd3786"
            ],
            [
             0.5555555555555556,
             "#d8576b"
            ],
            [
             0.6666666666666666,
             "#ed7953"
            ],
            [
             0.7777777777777778,
             "#fb9f3a"
            ],
            [
             0.8888888888888888,
             "#fdca26"
            ],
            [
             1,
             "#f0f921"
            ]
           ]
          },
          "colorway": [
           "#636efa",
           "#EF553B",
           "#00cc96",
           "#ab63fa",
           "#FFA15A",
           "#19d3f3",
           "#FF6692",
           "#B6E880",
           "#FF97FF",
           "#FECB52"
          ],
          "font": {
           "color": "#2a3f5f"
          },
          "geo": {
           "bgcolor": "white",
           "lakecolor": "white",
           "landcolor": "#E5ECF6",
           "showlakes": true,
           "showland": true,
           "subunitcolor": "white"
          },
          "hoverlabel": {
           "align": "left"
          },
          "hovermode": "closest",
          "mapbox": {
           "style": "light"
          },
          "paper_bgcolor": "white",
          "plot_bgcolor": "#E5ECF6",
          "polar": {
           "angularaxis": {
            "gridcolor": "white",
            "linecolor": "white",
            "ticks": ""
           },
           "bgcolor": "#E5ECF6",
           "radialaxis": {
            "gridcolor": "white",
            "linecolor": "white",
            "ticks": ""
           }
          },
          "scene": {
           "xaxis": {
            "backgroundcolor": "#E5ECF6",
            "gridcolor": "white",
            "gridwidth": 2,
            "linecolor": "white",
            "showbackground": true,
            "ticks": "",
            "zerolinecolor": "white"
           },
           "yaxis": {
            "backgroundcolor": "#E5ECF6",
            "gridcolor": "white",
            "gridwidth": 2,
            "linecolor": "white",
            "showbackground": true,
            "ticks": "",
            "zerolinecolor": "white"
           },
           "zaxis": {
            "backgroundcolor": "#E5ECF6",
            "gridcolor": "white",
            "gridwidth": 2,
            "linecolor": "white",
            "showbackground": true,
            "ticks": "",
            "zerolinecolor": "white"
           }
          },
          "shapedefaults": {
           "line": {
            "color": "#2a3f5f"
           }
          },
          "ternary": {
           "aaxis": {
            "gridcolor": "white",
            "linecolor": "white",
            "ticks": ""
           },
           "baxis": {
            "gridcolor": "white",
            "linecolor": "white",
            "ticks": ""
           },
           "bgcolor": "#E5ECF6",
           "caxis": {
            "gridcolor": "white",
            "linecolor": "white",
            "ticks": ""
           }
          },
          "title": {
           "x": 0.05
          },
          "xaxis": {
           "automargin": true,
           "gridcolor": "white",
           "linecolor": "white",
           "ticks": "",
           "title": {
            "standoff": 15
           },
           "zerolinecolor": "white",
           "zerolinewidth": 2
          },
          "yaxis": {
           "automargin": true,
           "gridcolor": "white",
           "linecolor": "white",
           "ticks": "",
           "title": {
            "standoff": 15
           },
           "zerolinecolor": "white",
           "zerolinewidth": 2
          }
         }
        },
        "title": {
         "text": "Validation Metrics Over Time (GD Model)"
        },
        "xaxis": {
         "anchor": "y",
         "domain": [
          0,
          1
         ],
         "title": {
          "text": "index"
         }
        },
        "yaxis": {
         "anchor": "x",
         "domain": [
          0,
          1
         ],
         "title": {
          "text": "value"
         }
        }
       }
      }
     },
     "metadata": {},
     "output_type": "display_data"
    }
   ],
   "source": [
    "import datetime\n",
    "import plotly.express as px\n",
    "\n",
    "time_range = [datetime.time(hour, minute) for hour in range(9, 16) for minute in range(0, 60, 5)]\n",
    "time_range = [x for x in time_range if x >= datetime.time(9,45)]\n",
    "df_val = pd.DataFrame()\n",
    "for t in time_range:\n",
    "    X_val = X_test.loc[X_test['time'] <= t].copy()\n",
    "    y_val = y_test.loc[X_val.index, 'green_day'].copy()\n",
    "\n",
    "    y_pred_val = pipeline_gd.predict_proba(X_val)[:,-1]\n",
    "\n",
    "    df_val.loc[t, [\n",
    "        'roc_auc',\n",
    "        'precision',\n",
    "        'recall'\n",
    "    ]] =  roc_auc_score(y_val, y_pred_val), precision_score(y_val, y_pred_val > 0.5), recall_score(y_val, y_pred_val > 0.5)\n",
    "\n",
    "\n",
    "fig = px.line(df_val, title='Validation Metrics Over Time (GD Model)')\n",
    "fig.show()"
   ]
  },
  {
   "cell_type": "code",
   "execution_count": 56,
   "metadata": {},
   "outputs": [
    {
     "data": {
      "application/vnd.plotly.v1+json": {
       "config": {
        "plotlyServerURL": "https://plot.ly"
       },
       "data": [
        {
         "hovertemplate": "variable=roc_auc<br>index=%{x}<br>value=%{y}<extra></extra>",
         "legendgroup": "roc_auc",
         "line": {
          "color": "#636efa",
          "dash": "solid"
         },
         "marker": {
          "symbol": "circle"
         },
         "mode": "lines",
         "name": "roc_auc",
         "orientation": "v",
         "showlegend": true,
         "type": "scatter",
         "x": [
          "09:45:00",
          "09:50:00",
          "09:55:00",
          "10:00:00",
          "10:05:00",
          "10:10:00",
          "10:15:00",
          "10:20:00",
          "10:25:00",
          "10:30:00",
          "10:35:00",
          "10:40:00",
          "10:45:00",
          "10:50:00",
          "10:55:00",
          "11:00:00",
          "11:05:00",
          "11:10:00",
          "11:15:00",
          "11:20:00",
          "11:25:00",
          "11:30:00",
          "11:35:00",
          "11:40:00",
          "11:45:00",
          "11:50:00",
          "11:55:00",
          "12:00:00",
          "12:05:00",
          "12:10:00",
          "12:15:00",
          "12:20:00",
          "12:25:00",
          "12:30:00",
          "12:35:00",
          "12:40:00",
          "12:45:00",
          "12:50:00",
          "12:55:00",
          "13:00:00",
          "13:05:00",
          "13:10:00",
          "13:15:00",
          "13:20:00",
          "13:25:00",
          "13:30:00",
          "13:35:00",
          "13:40:00",
          "13:45:00",
          "13:50:00",
          "13:55:00",
          "14:00:00",
          "14:05:00",
          "14:10:00",
          "14:15:00",
          "14:20:00",
          "14:25:00",
          "14:30:00",
          "14:35:00",
          "14:40:00",
          "14:45:00",
          "14:50:00",
          "14:55:00",
          "15:00:00",
          "15:05:00",
          "15:10:00",
          "15:15:00",
          "15:20:00",
          "15:25:00",
          "15:30:00",
          "15:35:00",
          "15:40:00",
          "15:45:00",
          "15:50:00",
          "15:55:00"
         ],
         "xaxis": "x",
         "y": [
          0.7243155326646789,
          0.7273651396042287,
          0.7275784865917694,
          0.7318378964489021,
          0.7368356374807988,
          0.7428089515376043,
          0.7481278225575945,
          0.7534463382127043,
          0.7581643569415022,
          0.7626457034426675,
          0.7659835995181864,
          0.7685034587311628,
          0.770881286280498,
          0.7727141547863384,
          0.7740819051634991,
          0.7761641450935214,
          0.7785836066762903,
          0.7808641975308642,
          0.7831663449045064,
          0.7852726574500768,
          0.7875629514478603,
          0.789261052328156,
          0.7906246589128973,
          0.7920070806100219,
          0.7930180898165717,
          0.7941491924122197,
          0.7949417211019104,
          0.7954440992987056,
          0.7958983370878941,
          0.7964481993514253,
          0.797061169471313,
          0.7973967686873137,
          0.7980243550366027,
          0.7988540544022051,
          0.7996803882843462,
          0.8005359750431436,
          0.801336543477166,
          0.8020459367734226,
          0.8026450214451967,
          0.803343159844583,
          0.8041972675543323,
          0.8048967666943889,
          0.805713349384835,
          0.8064157681200979,
          0.8072859020533824,
          0.8084110448166846,
          0.8097874199498238,
          0.8111059191939758,
          0.812498140995707,
          0.8138152667166455,
          0.8150960004860918,
          0.8166233535800569,
          0.8179134003372617,
          0.819356554544332,
          0.8208289656718288,
          0.8222691347864394,
          0.8238117417860875,
          0.8254621228974954,
          0.827109317884294,
          0.8290040490851365,
          0.8310545350829546,
          0.8330038792398763,
          0.8349784502383308,
          0.837083208273198,
          0.839207180871821,
          0.8411883025496583,
          0.8432405855880584,
          0.8452149889005904,
          0.8472700260125172,
          0.8493797810572862,
          0.8515483238919294,
          0.8539315301174772,
          0.8562005848531133,
          0.8586164984635244,
          0.8614170322063066
         ],
         "yaxis": "y"
        },
        {
         "hovertemplate": "variable=precision<br>index=%{x}<br>value=%{y}<extra></extra>",
         "legendgroup": "precision",
         "line": {
          "color": "#EF553B",
          "dash": "solid"
         },
         "marker": {
          "symbol": "circle"
         },
         "mode": "lines",
         "name": "precision",
         "orientation": "v",
         "showlegend": true,
         "type": "scatter",
         "x": [
          "09:45:00",
          "09:50:00",
          "09:55:00",
          "10:00:00",
          "10:05:00",
          "10:10:00",
          "10:15:00",
          "10:20:00",
          "10:25:00",
          "10:30:00",
          "10:35:00",
          "10:40:00",
          "10:45:00",
          "10:50:00",
          "10:55:00",
          "11:00:00",
          "11:05:00",
          "11:10:00",
          "11:15:00",
          "11:20:00",
          "11:25:00",
          "11:30:00",
          "11:35:00",
          "11:40:00",
          "11:45:00",
          "11:50:00",
          "11:55:00",
          "12:00:00",
          "12:05:00",
          "12:10:00",
          "12:15:00",
          "12:20:00",
          "12:25:00",
          "12:30:00",
          "12:35:00",
          "12:40:00",
          "12:45:00",
          "12:50:00",
          "12:55:00",
          "13:00:00",
          "13:05:00",
          "13:10:00",
          "13:15:00",
          "13:20:00",
          "13:25:00",
          "13:30:00",
          "13:35:00",
          "13:40:00",
          "13:45:00",
          "13:50:00",
          "13:55:00",
          "14:00:00",
          "14:05:00",
          "14:10:00",
          "14:15:00",
          "14:20:00",
          "14:25:00",
          "14:30:00",
          "14:35:00",
          "14:40:00",
          "14:45:00",
          "14:50:00",
          "14:55:00",
          "15:00:00",
          "15:05:00",
          "15:10:00",
          "15:15:00",
          "15:20:00",
          "15:25:00",
          "15:30:00",
          "15:35:00",
          "15:40:00",
          "15:45:00",
          "15:50:00",
          "15:55:00"
         ],
         "xaxis": "x",
         "y": [
          0.717948717948718,
          0.723404255319149,
          0.7162921348314607,
          0.7175732217573222,
          0.7212020033388982,
          0.7237569060773481,
          0.7256740914419695,
          0.7293997965412004,
          0.7331536388140162,
          0.7376518218623481,
          0.7385861561119293,
          0.7405149051490515,
          0.7418546365914787,
          0.7440093512565751,
          0.7447973713033954,
          0.7461300309597523,
          0.7473275024295433,
          0.7493112947658402,
          0.7508710801393729,
          0.752172114191146,
          0.7529550827423168,
          0.7531003382187148,
          0.7531440891124686,
          0.7536132140399174,
          0.7534653465346535,
          0.7538851887091659,
          0.7538931297709923,
          0.7539729252501471,
          0.7542565266742338,
          0.7543138866064092,
          0.7544323895210373,
          0.7545431277194778,
          0.7550210761219935,
          0.7552935514918191,
          0.7560747663551401,
          0.7567014993184916,
          0.7570196772053946,
          0.7574779427587691,
          0.7578616352201258,
          0.758585445625511,
          0.7595770151636073,
          0.7602339181286549,
          0.7609523809523809,
          0.7610800744878957,
          0.7615664845173042,
          0.7623462292743804,
          0.7633094780939081,
          0.7641928864569083,
          0.7651591289782245,
          0.7661356544588602,
          0.7670747422680413,
          0.7681846932321316,
          0.7690158335920522,
          0.7698170731707317,
          0.7708551744795566,
          0.7715631439505446,
          0.7725694444444444,
          0.7732897169677144,
          0.7743108996781867,
          0.7758668134287287,
          0.7771010962241169,
          0.7781624500665779,
          0.7791017415215399,
          0.7803557617942769,
          0.781742001015744,
          0.782989368355222,
          0.7842702169625246,
          0.7857316480311133,
          0.7872034507548527,
          0.7886342155009451,
          0.7905783582089553,
          0.7927461139896373,
          0.7945657116871305,
          0.796810064023363,
          0.7992016853309679
         ],
         "yaxis": "y"
        },
        {
         "hovertemplate": "variable=recall<br>index=%{x}<br>value=%{y}<extra></extra>",
         "legendgroup": "recall",
         "line": {
          "color": "#00cc96",
          "dash": "solid"
         },
         "marker": {
          "symbol": "circle"
         },
         "mode": "lines",
         "name": "recall",
         "orientation": "v",
         "showlegend": true,
         "type": "scatter",
         "x": [
          "09:45:00",
          "09:50:00",
          "09:55:00",
          "10:00:00",
          "10:05:00",
          "10:10:00",
          "10:15:00",
          "10:20:00",
          "10:25:00",
          "10:30:00",
          "10:35:00",
          "10:40:00",
          "10:45:00",
          "10:50:00",
          "10:55:00",
          "11:00:00",
          "11:05:00",
          "11:10:00",
          "11:15:00",
          "11:20:00",
          "11:25:00",
          "11:30:00",
          "11:35:00",
          "11:40:00",
          "11:45:00",
          "11:50:00",
          "11:55:00",
          "12:00:00",
          "12:05:00",
          "12:10:00",
          "12:15:00",
          "12:20:00",
          "12:25:00",
          "12:30:00",
          "12:35:00",
          "12:40:00",
          "12:45:00",
          "12:50:00",
          "12:55:00",
          "13:00:00",
          "13:05:00",
          "13:10:00",
          "13:15:00",
          "13:20:00",
          "13:25:00",
          "13:30:00",
          "13:35:00",
          "13:40:00",
          "13:45:00",
          "13:50:00",
          "13:55:00",
          "14:00:00",
          "14:05:00",
          "14:10:00",
          "14:15:00",
          "14:20:00",
          "14:25:00",
          "14:30:00",
          "14:35:00",
          "14:40:00",
          "14:45:00",
          "14:50:00",
          "14:55:00",
          "15:00:00",
          "15:05:00",
          "15:10:00",
          "15:15:00",
          "15:20:00",
          "15:25:00",
          "15:30:00",
          "15:35:00",
          "15:40:00",
          "15:45:00",
          "15:50:00",
          "15:55:00"
         ],
         "xaxis": "x",
         "y": [
          0.7058823529411765,
          0.7142857142857143,
          0.7142857142857143,
          0.7205882352941176,
          0.7260504201680672,
          0.7338935574229691,
          0.7430972388955582,
          0.7531512605042017,
          0.7619047619047619,
          0.7655462184873949,
          0.7662337662337663,
          0.7654061624649859,
          0.7653522947640594,
          0.7641056422569028,
          0.7619047619047619,
          0.759453781512605,
          0.7602570439940682,
          0.7619047619047619,
          0.7624944714727997,
          0.7638655462184873,
          0.7647058823529411,
          0.7654698242933538,
          0.7658019729630983,
          0.7668067226890757,
          0.7673949579831932,
          0.7682611506140918,
          0.7684407096171803,
          0.7689075630252101,
          0.7702115328890177,
          0.7714285714285715,
          0.7728381675250745,
          0.7741596638655462,
          0.7754010695187166,
          0.7758279782501236,
          0.7769507803121248,
          0.7775443510737629,
          0.777651601181013,
          0.7784166298098186,
          0.7789269553975436,
          0.7796218487394958,
          0.7802828448452552,
          0.78031212484994,
          0.7807308970099668,
          0.7805576776165012,
          0.7810573510181207,
          0.7817184643510054,
          0.7827098621800609,
          0.7834852734922861,
          0.7847448891942965,
          0.7856180532165712,
          0.7864574731626754,
          0.787103046014258,
          0.7877245985053267,
          0.7883234467686544,
          0.7889331698344574,
          0.7893389549766602,
          0.7901746078721515,
          0.7908363636363637,
          0.7914759725400458,
          0.7932198621465748,
          0.794630500968724,
          0.7958600027236824,
          0.7975871313672922,
          0.7989969644978223,
          0.8002339485313231,
          0.8014338753040584,
          0.8024722502522704,
          0.8036047234307023,
          0.8049497672139182,
          0.8062567942988283,
          0.8075273939971415,
          0.808763068248561,
          0.8098493626882967,
          0.8110209214587859,
          0.8131768953068592
         ],
         "yaxis": "y"
        }
       ],
       "layout": {
        "legend": {
         "title": {
          "text": "variable"
         },
         "tracegroupgap": 0
        },
        "template": {
         "data": {
          "bar": [
           {
            "error_x": {
             "color": "#2a3f5f"
            },
            "error_y": {
             "color": "#2a3f5f"
            },
            "marker": {
             "line": {
              "color": "#E5ECF6",
              "width": 0.5
             },
             "pattern": {
              "fillmode": "overlay",
              "size": 10,
              "solidity": 0.2
             }
            },
            "type": "bar"
           }
          ],
          "barpolar": [
           {
            "marker": {
             "line": {
              "color": "#E5ECF6",
              "width": 0.5
             },
             "pattern": {
              "fillmode": "overlay",
              "size": 10,
              "solidity": 0.2
             }
            },
            "type": "barpolar"
           }
          ],
          "carpet": [
           {
            "aaxis": {
             "endlinecolor": "#2a3f5f",
             "gridcolor": "white",
             "linecolor": "white",
             "minorgridcolor": "white",
             "startlinecolor": "#2a3f5f"
            },
            "baxis": {
             "endlinecolor": "#2a3f5f",
             "gridcolor": "white",
             "linecolor": "white",
             "minorgridcolor": "white",
             "startlinecolor": "#2a3f5f"
            },
            "type": "carpet"
           }
          ],
          "choropleth": [
           {
            "colorbar": {
             "outlinewidth": 0,
             "ticks": ""
            },
            "type": "choropleth"
           }
          ],
          "contour": [
           {
            "colorbar": {
             "outlinewidth": 0,
             "ticks": ""
            },
            "colorscale": [
             [
              0,
              "#0d0887"
             ],
             [
              0.1111111111111111,
              "#46039f"
             ],
             [
              0.2222222222222222,
              "#7201a8"
             ],
             [
              0.3333333333333333,
              "#9c179e"
             ],
             [
              0.4444444444444444,
              "#bd3786"
             ],
             [
              0.5555555555555556,
              "#d8576b"
             ],
             [
              0.6666666666666666,
              "#ed7953"
             ],
             [
              0.7777777777777778,
              "#fb9f3a"
             ],
             [
              0.8888888888888888,
              "#fdca26"
             ],
             [
              1,
              "#f0f921"
             ]
            ],
            "type": "contour"
           }
          ],
          "contourcarpet": [
           {
            "colorbar": {
             "outlinewidth": 0,
             "ticks": ""
            },
            "type": "contourcarpet"
           }
          ],
          "heatmap": [
           {
            "colorbar": {
             "outlinewidth": 0,
             "ticks": ""
            },
            "colorscale": [
             [
              0,
              "#0d0887"
             ],
             [
              0.1111111111111111,
              "#46039f"
             ],
             [
              0.2222222222222222,
              "#7201a8"
             ],
             [
              0.3333333333333333,
              "#9c179e"
             ],
             [
              0.4444444444444444,
              "#bd3786"
             ],
             [
              0.5555555555555556,
              "#d8576b"
             ],
             [
              0.6666666666666666,
              "#ed7953"
             ],
             [
              0.7777777777777778,
              "#fb9f3a"
             ],
             [
              0.8888888888888888,
              "#fdca26"
             ],
             [
              1,
              "#f0f921"
             ]
            ],
            "type": "heatmap"
           }
          ],
          "heatmapgl": [
           {
            "colorbar": {
             "outlinewidth": 0,
             "ticks": ""
            },
            "colorscale": [
             [
              0,
              "#0d0887"
             ],
             [
              0.1111111111111111,
              "#46039f"
             ],
             [
              0.2222222222222222,
              "#7201a8"
             ],
             [
              0.3333333333333333,
              "#9c179e"
             ],
             [
              0.4444444444444444,
              "#bd3786"
             ],
             [
              0.5555555555555556,
              "#d8576b"
             ],
             [
              0.6666666666666666,
              "#ed7953"
             ],
             [
              0.7777777777777778,
              "#fb9f3a"
             ],
             [
              0.8888888888888888,
              "#fdca26"
             ],
             [
              1,
              "#f0f921"
             ]
            ],
            "type": "heatmapgl"
           }
          ],
          "histogram": [
           {
            "marker": {
             "pattern": {
              "fillmode": "overlay",
              "size": 10,
              "solidity": 0.2
             }
            },
            "type": "histogram"
           }
          ],
          "histogram2d": [
           {
            "colorbar": {
             "outlinewidth": 0,
             "ticks": ""
            },
            "colorscale": [
             [
              0,
              "#0d0887"
             ],
             [
              0.1111111111111111,
              "#46039f"
             ],
             [
              0.2222222222222222,
              "#7201a8"
             ],
             [
              0.3333333333333333,
              "#9c179e"
             ],
             [
              0.4444444444444444,
              "#bd3786"
             ],
             [
              0.5555555555555556,
              "#d8576b"
             ],
             [
              0.6666666666666666,
              "#ed7953"
             ],
             [
              0.7777777777777778,
              "#fb9f3a"
             ],
             [
              0.8888888888888888,
              "#fdca26"
             ],
             [
              1,
              "#f0f921"
             ]
            ],
            "type": "histogram2d"
           }
          ],
          "histogram2dcontour": [
           {
            "colorbar": {
             "outlinewidth": 0,
             "ticks": ""
            },
            "colorscale": [
             [
              0,
              "#0d0887"
             ],
             [
              0.1111111111111111,
              "#46039f"
             ],
             [
              0.2222222222222222,
              "#7201a8"
             ],
             [
              0.3333333333333333,
              "#9c179e"
             ],
             [
              0.4444444444444444,
              "#bd3786"
             ],
             [
              0.5555555555555556,
              "#d8576b"
             ],
             [
              0.6666666666666666,
              "#ed7953"
             ],
             [
              0.7777777777777778,
              "#fb9f3a"
             ],
             [
              0.8888888888888888,
              "#fdca26"
             ],
             [
              1,
              "#f0f921"
             ]
            ],
            "type": "histogram2dcontour"
           }
          ],
          "mesh3d": [
           {
            "colorbar": {
             "outlinewidth": 0,
             "ticks": ""
            },
            "type": "mesh3d"
           }
          ],
          "parcoords": [
           {
            "line": {
             "colorbar": {
              "outlinewidth": 0,
              "ticks": ""
             }
            },
            "type": "parcoords"
           }
          ],
          "pie": [
           {
            "automargin": true,
            "type": "pie"
           }
          ],
          "scatter": [
           {
            "fillpattern": {
             "fillmode": "overlay",
             "size": 10,
             "solidity": 0.2
            },
            "type": "scatter"
           }
          ],
          "scatter3d": [
           {
            "line": {
             "colorbar": {
              "outlinewidth": 0,
              "ticks": ""
             }
            },
            "marker": {
             "colorbar": {
              "outlinewidth": 0,
              "ticks": ""
             }
            },
            "type": "scatter3d"
           }
          ],
          "scattercarpet": [
           {
            "marker": {
             "colorbar": {
              "outlinewidth": 0,
              "ticks": ""
             }
            },
            "type": "scattercarpet"
           }
          ],
          "scattergeo": [
           {
            "marker": {
             "colorbar": {
              "outlinewidth": 0,
              "ticks": ""
             }
            },
            "type": "scattergeo"
           }
          ],
          "scattergl": [
           {
            "marker": {
             "colorbar": {
              "outlinewidth": 0,
              "ticks": ""
             }
            },
            "type": "scattergl"
           }
          ],
          "scattermapbox": [
           {
            "marker": {
             "colorbar": {
              "outlinewidth": 0,
              "ticks": ""
             }
            },
            "type": "scattermapbox"
           }
          ],
          "scatterpolar": [
           {
            "marker": {
             "colorbar": {
              "outlinewidth": 0,
              "ticks": ""
             }
            },
            "type": "scatterpolar"
           }
          ],
          "scatterpolargl": [
           {
            "marker": {
             "colorbar": {
              "outlinewidth": 0,
              "ticks": ""
             }
            },
            "type": "scatterpolargl"
           }
          ],
          "scatterternary": [
           {
            "marker": {
             "colorbar": {
              "outlinewidth": 0,
              "ticks": ""
             }
            },
            "type": "scatterternary"
           }
          ],
          "surface": [
           {
            "colorbar": {
             "outlinewidth": 0,
             "ticks": ""
            },
            "colorscale": [
             [
              0,
              "#0d0887"
             ],
             [
              0.1111111111111111,
              "#46039f"
             ],
             [
              0.2222222222222222,
              "#7201a8"
             ],
             [
              0.3333333333333333,
              "#9c179e"
             ],
             [
              0.4444444444444444,
              "#bd3786"
             ],
             [
              0.5555555555555556,
              "#d8576b"
             ],
             [
              0.6666666666666666,
              "#ed7953"
             ],
             [
              0.7777777777777778,
              "#fb9f3a"
             ],
             [
              0.8888888888888888,
              "#fdca26"
             ],
             [
              1,
              "#f0f921"
             ]
            ],
            "type": "surface"
           }
          ],
          "table": [
           {
            "cells": {
             "fill": {
              "color": "#EBF0F8"
             },
             "line": {
              "color": "white"
             }
            },
            "header": {
             "fill": {
              "color": "#C8D4E3"
             },
             "line": {
              "color": "white"
             }
            },
            "type": "table"
           }
          ]
         },
         "layout": {
          "annotationdefaults": {
           "arrowcolor": "#2a3f5f",
           "arrowhead": 0,
           "arrowwidth": 1
          },
          "autotypenumbers": "strict",
          "coloraxis": {
           "colorbar": {
            "outlinewidth": 0,
            "ticks": ""
           }
          },
          "colorscale": {
           "diverging": [
            [
             0,
             "#8e0152"
            ],
            [
             0.1,
             "#c51b7d"
            ],
            [
             0.2,
             "#de77ae"
            ],
            [
             0.3,
             "#f1b6da"
            ],
            [
             0.4,
             "#fde0ef"
            ],
            [
             0.5,
             "#f7f7f7"
            ],
            [
             0.6,
             "#e6f5d0"
            ],
            [
             0.7,
             "#b8e186"
            ],
            [
             0.8,
             "#7fbc41"
            ],
            [
             0.9,
             "#4d9221"
            ],
            [
             1,
             "#276419"
            ]
           ],
           "sequential": [
            [
             0,
             "#0d0887"
            ],
            [
             0.1111111111111111,
             "#46039f"
            ],
            [
             0.2222222222222222,
             "#7201a8"
            ],
            [
             0.3333333333333333,
             "#9c179e"
            ],
            [
             0.4444444444444444,
             "#bd3786"
            ],
            [
             0.5555555555555556,
             "#d8576b"
            ],
            [
             0.6666666666666666,
             "#ed7953"
            ],
            [
             0.7777777777777778,
             "#fb9f3a"
            ],
            [
             0.8888888888888888,
             "#fdca26"
            ],
            [
             1,
             "#f0f921"
            ]
           ],
           "sequentialminus": [
            [
             0,
             "#0d0887"
            ],
            [
             0.1111111111111111,
             "#46039f"
            ],
            [
             0.2222222222222222,
             "#7201a8"
            ],
            [
             0.3333333333333333,
             "#9c179e"
            ],
            [
             0.4444444444444444,
             "#bd3786"
            ],
            [
             0.5555555555555556,
             "#d8576b"
            ],
            [
             0.6666666666666666,
             "#ed7953"
            ],
            [
             0.7777777777777778,
             "#fb9f3a"
            ],
            [
             0.8888888888888888,
             "#fdca26"
            ],
            [
             1,
             "#f0f921"
            ]
           ]
          },
          "colorway": [
           "#636efa",
           "#EF553B",
           "#00cc96",
           "#ab63fa",
           "#FFA15A",
           "#19d3f3",
           "#FF6692",
           "#B6E880",
           "#FF97FF",
           "#FECB52"
          ],
          "font": {
           "color": "#2a3f5f"
          },
          "geo": {
           "bgcolor": "white",
           "lakecolor": "white",
           "landcolor": "#E5ECF6",
           "showlakes": true,
           "showland": true,
           "subunitcolor": "white"
          },
          "hoverlabel": {
           "align": "left"
          },
          "hovermode": "closest",
          "mapbox": {
           "style": "light"
          },
          "paper_bgcolor": "white",
          "plot_bgcolor": "#E5ECF6",
          "polar": {
           "angularaxis": {
            "gridcolor": "white",
            "linecolor": "white",
            "ticks": ""
           },
           "bgcolor": "#E5ECF6",
           "radialaxis": {
            "gridcolor": "white",
            "linecolor": "white",
            "ticks": ""
           }
          },
          "scene": {
           "xaxis": {
            "backgroundcolor": "#E5ECF6",
            "gridcolor": "white",
            "gridwidth": 2,
            "linecolor": "white",
            "showbackground": true,
            "ticks": "",
            "zerolinecolor": "white"
           },
           "yaxis": {
            "backgroundcolor": "#E5ECF6",
            "gridcolor": "white",
            "gridwidth": 2,
            "linecolor": "white",
            "showbackground": true,
            "ticks": "",
            "zerolinecolor": "white"
           },
           "zaxis": {
            "backgroundcolor": "#E5ECF6",
            "gridcolor": "white",
            "gridwidth": 2,
            "linecolor": "white",
            "showbackground": true,
            "ticks": "",
            "zerolinecolor": "white"
           }
          },
          "shapedefaults": {
           "line": {
            "color": "#2a3f5f"
           }
          },
          "ternary": {
           "aaxis": {
            "gridcolor": "white",
            "linecolor": "white",
            "ticks": ""
           },
           "baxis": {
            "gridcolor": "white",
            "linecolor": "white",
            "ticks": ""
           },
           "bgcolor": "#E5ECF6",
           "caxis": {
            "gridcolor": "white",
            "linecolor": "white",
            "ticks": ""
           }
          },
          "title": {
           "x": 0.05
          },
          "xaxis": {
           "automargin": true,
           "gridcolor": "white",
           "linecolor": "white",
           "ticks": "",
           "title": {
            "standoff": 15
           },
           "zerolinecolor": "white",
           "zerolinewidth": 2
          },
          "yaxis": {
           "automargin": true,
           "gridcolor": "white",
           "linecolor": "white",
           "ticks": "",
           "title": {
            "standoff": 15
           },
           "zerolinecolor": "white",
           "zerolinewidth": 2
          }
         }
        },
        "title": {
         "text": "Validation Metrics Over Time (GD Model CV)"
        },
        "xaxis": {
         "anchor": "y",
         "domain": [
          0,
          1
         ],
         "title": {
          "text": "index"
         }
        },
        "yaxis": {
         "anchor": "x",
         "domain": [
          0,
          1
         ],
         "title": {
          "text": "value"
         }
        }
       }
      }
     },
     "metadata": {},
     "output_type": "display_data"
    }
   ],
   "source": [
    "import datetime\n",
    "import plotly.express as px\n",
    "\n",
    "time_range = [datetime.time(hour, minute) for hour in range(9, 16) for minute in range(0, 60, 5)]\n",
    "time_range = [x for x in time_range if x >= datetime.time(9,45)]\n",
    "df_val = pd.DataFrame()\n",
    "for t in time_range:\n",
    "    X_val = X_test.loc[X_test['time'] <= t].copy()\n",
    "    y_val = y_test.loc[X_val.index, 'green_day'].copy()\n",
    "\n",
    "    y_pred_val = gd_model_cv.predict_proba(X_val)[:,-1]\n",
    "\n",
    "    df_val.loc[t, [\n",
    "        'roc_auc',\n",
    "        'precision',\n",
    "        'recall'\n",
    "    ]] =  roc_auc_score(y_val, y_pred_val), precision_score(y_val, y_pred_val > 0.5), recall_score(y_val, y_pred_val > 0.5)\n",
    "\n",
    "\n",
    "fig = px.line(df_val, title='Validation Metrics Over Time (GD Model CV)')\n",
    "fig.show()"
   ]
  },
  {
   "cell_type": "code",
   "execution_count": 57,
   "metadata": {},
   "outputs": [],
   "source": [
    "df_results = X_test.copy()\n",
    "df_results['pred_hod'] = y_pred_hod\n",
    "df_results['pred_lod'] = y_pred_lod\n",
    "df_results['pred_gd'] = y_pred_gd\n",
    "\n",
    "df_results['pred_hod_cv'] = y_pred_hod_cv\n",
    "df_results['pred_lod_cv'] = y_pred_lod_cv\n",
    "df_results['pred_gd_cv'] = y_pred_gd_cv\n",
    "\n",
    "df_results['actual_hod'] = y_flags['hod_in']\n",
    "df_results['actual_lod'] = y_flags['lod_in']\n",
    "df_results['actual_gd'] = y_flags['green_day']"
   ]
  },
  {
   "cell_type": "code",
   "execution_count": 58,
   "metadata": {},
   "outputs": [
    {
     "data": {
      "text/plain": [
       "Index(['time', 'prev_close_pct', 'prev_close_pct_n1', 'prev_close_pct_n2',\n",
       "       'prev_close_pct_n3', 'day_open_pct', 'day_open_pct_n1',\n",
       "       'day_open_pct_n2', 'day_open_pct_n3', 'gap_open_pct',\n",
       "       'highest_high_mag', 'lowest_low_mag', 'open_slope', 'daily_slope',\n",
       "       'highest_high_slope', 'lowest_low_slope', 'pred_hod', 'pred_lod',\n",
       "       'pred_gd', 'pred_hod_cv', 'pred_lod_cv', 'pred_gd_cv', 'actual_hod',\n",
       "       'actual_lod', 'actual_gd'],\n",
       "      dtype='object')"
      ]
     },
     "execution_count": 58,
     "metadata": {},
     "output_type": "execute_result"
    }
   ],
   "source": [
    "df_results.columns"
   ]
  },
  {
   "cell_type": "code",
   "execution_count": 59,
   "metadata": {},
   "outputs": [
    {
     "data": {
      "text/html": [
       "<div>\n",
       "<style scoped>\n",
       "    .dataframe tbody tr th:only-of-type {\n",
       "        vertical-align: middle;\n",
       "    }\n",
       "\n",
       "    .dataframe tbody tr th {\n",
       "        vertical-align: top;\n",
       "    }\n",
       "\n",
       "    .dataframe thead th {\n",
       "        text-align: right;\n",
       "    }\n",
       "</style>\n",
       "<table border=\"1\" class=\"dataframe\">\n",
       "  <thead>\n",
       "    <tr style=\"text-align: right;\">\n",
       "      <th></th>\n",
       "      <th>pred_hod</th>\n",
       "      <th>actual_hod</th>\n",
       "    </tr>\n",
       "    <tr>\n",
       "      <th>Datetime</th>\n",
       "      <th></th>\n",
       "      <th></th>\n",
       "    </tr>\n",
       "  </thead>\n",
       "  <tbody>\n",
       "    <tr>\n",
       "      <th>2023-04-04 09:45:00</th>\n",
       "      <td>0.255874</td>\n",
       "      <td>0.0</td>\n",
       "    </tr>\n",
       "    <tr>\n",
       "      <th>2023-04-04 09:50:00</th>\n",
       "      <td>0.230494</td>\n",
       "      <td>0.0</td>\n",
       "    </tr>\n",
       "    <tr>\n",
       "      <th>2023-04-04 09:55:00</th>\n",
       "      <td>0.252908</td>\n",
       "      <td>0.0</td>\n",
       "    </tr>\n",
       "    <tr>\n",
       "      <th>2023-04-04 10:00:00</th>\n",
       "      <td>0.109901</td>\n",
       "      <td>1.0</td>\n",
       "    </tr>\n",
       "    <tr>\n",
       "      <th>2023-04-04 10:05:00</th>\n",
       "      <td>0.222452</td>\n",
       "      <td>1.0</td>\n",
       "    </tr>\n",
       "    <tr>\n",
       "      <th>...</th>\n",
       "      <td>...</td>\n",
       "      <td>...</td>\n",
       "    </tr>\n",
       "    <tr>\n",
       "      <th>2024-02-06 15:35:00</th>\n",
       "      <td>0.983984</td>\n",
       "      <td>1.0</td>\n",
       "    </tr>\n",
       "    <tr>\n",
       "      <th>2024-02-06 15:40:00</th>\n",
       "      <td>0.985127</td>\n",
       "      <td>1.0</td>\n",
       "    </tr>\n",
       "    <tr>\n",
       "      <th>2024-02-06 15:45:00</th>\n",
       "      <td>0.979685</td>\n",
       "      <td>1.0</td>\n",
       "    </tr>\n",
       "    <tr>\n",
       "      <th>2024-02-06 15:50:00</th>\n",
       "      <td>0.980123</td>\n",
       "      <td>1.0</td>\n",
       "    </tr>\n",
       "    <tr>\n",
       "      <th>2024-02-06 15:55:00</th>\n",
       "      <td>0.995604</td>\n",
       "      <td>1.0</td>\n",
       "    </tr>\n",
       "  </tbody>\n",
       "</table>\n",
       "<p>15839 rows × 2 columns</p>\n",
       "</div>"
      ],
      "text/plain": [
       "                     pred_hod  actual_hod\n",
       "Datetime                                 \n",
       "2023-04-04 09:45:00  0.255874         0.0\n",
       "2023-04-04 09:50:00  0.230494         0.0\n",
       "2023-04-04 09:55:00  0.252908         0.0\n",
       "2023-04-04 10:00:00  0.109901         1.0\n",
       "2023-04-04 10:05:00  0.222452         1.0\n",
       "...                       ...         ...\n",
       "2024-02-06 15:35:00  0.983984         1.0\n",
       "2024-02-06 15:40:00  0.985127         1.0\n",
       "2024-02-06 15:45:00  0.979685         1.0\n",
       "2024-02-06 15:50:00  0.980123         1.0\n",
       "2024-02-06 15:55:00  0.995604         1.0\n",
       "\n",
       "[15839 rows x 2 columns]"
      ]
     },
     "execution_count": 59,
     "metadata": {},
     "output_type": "execute_result"
    }
   ],
   "source": [
    "df_results.loc[:,['pred_hod','actual_hod']]"
   ]
  },
  {
   "cell_type": "code",
   "execution_count": 60,
   "metadata": {},
   "outputs": [
    {
     "data": {
      "text/plain": [
       "Timestamp('2023-04-04 09:45:00')"
      ]
     },
     "execution_count": 60,
     "metadata": {},
     "output_type": "execute_result"
    }
   ],
   "source": [
    "X_test.index[0]"
   ]
  },
  {
   "cell_type": "code",
   "execution_count": 61,
   "metadata": {},
   "outputs": [
    {
     "data": {
      "application/vnd.plotly.v1+json": {
       "config": {
        "plotlyServerURL": "https://plot.ly"
       },
       "data": [
        {
         "close": [
          4778.56,
          4780.01,
          4779.16,
          4779.29,
          4778.14,
          4772.34,
          4773.75,
          4775.01,
          4776.52,
          4774.67,
          4774.52,
          4772.13,
          4771.57,
          4772.33,
          4773.08,
          4771.46,
          4771.98,
          4772.58,
          4773.31,
          4772.75,
          4773.6,
          4774.86,
          4776.08,
          4777.61,
          4776.76,
          4776.9,
          4776.53,
          4775.83,
          4776.12,
          4777.54,
          4777.59,
          4777.83,
          4777.32,
          4777.96,
          4775.47,
          4773.07,
          4774.55,
          4773.96,
          4774.29,
          4777.71,
          4783.16,
          4781.59,
          4782.49,
          4781.44,
          4781.02,
          4781,
          4781.75,
          4783.16,
          4782.93,
          4782.15,
          4779.46,
          4770.06,
          4772.7,
          4770.19,
          4772.9,
          4775.53,
          4776.87,
          4774.67,
          4774.15,
          4771.84,
          4773.12,
          4771.12,
          4773.91,
          4775.22,
          4775.87,
          4775.89,
          4777.11,
          4775.34,
          4775.22,
          4777.06,
          4777.95,
          4773.27,
          4773.27,
          4774.35,
          4782.5
         ],
         "high": [
          4778.96,
          4780.25,
          4780.74,
          4780.47,
          4779.35,
          4778.53,
          4774.89,
          4775.52,
          4777.06,
          4776.57,
          4774.7,
          4774.64,
          4773.18,
          4772.37,
          4773.42,
          4772.91,
          4772.89,
          4772.72,
          4773.54,
          4773.61,
          4773.6,
          4775.16,
          4776.62,
          4777.9,
          4777.65,
          4777.49,
          4777.68,
          4777.36,
          4776.26,
          4777.78,
          4777.9,
          4778.97,
          4777.89,
          4778.4,
          4777.98,
          4775.57,
          4774.81,
          4774.79,
          4774.97,
          4778.07,
          4783.87,
          4785.39,
          4783.72,
          4782.83,
          4782.38,
          4782.75,
          4782.22,
          4783.27,
          4783.63,
          4783.39,
          4782.53,
          4779.44,
          4773.03,
          4772.69,
          4772.95,
          4775.62,
          4778.67,
          4776.96,
          4775.2,
          4774.06,
          4773.18,
          4773.38,
          4774.29,
          4775.82,
          4775.96,
          4777.4,
          4777.89,
          4777.56,
          4775.23,
          4777.35,
          4778.97,
          4778.28,
          4773.89,
          4775.26,
          4782.5
         ],
         "low": [
          4777.47,
          4778.41,
          4778.97,
          4778.32,
          4777.21,
          4771.9,
          4772.5,
          4771.16,
          4774.8,
          4774.67,
          4772.15,
          4771.6,
          4770.99,
          4769.97,
          4772.05,
          4770.93,
          4771.19,
          4771.17,
          4772.57,
          4772.69,
          4771.32,
          4773.27,
          4774.91,
          4775.6,
          4776.44,
          4776.2,
          4776.37,
          4774.84,
          4775.42,
          4776.07,
          4777.33,
          4777.13,
          4776.99,
          4777.19,
          4774.69,
          4772.08,
          4772.87,
          4773.95,
          4773.92,
          4774.28,
          4777.69,
          4781.59,
          4780.88,
          4781.27,
          4780.4,
          4780.55,
          4780.98,
          4781.77,
          4782.19,
          4781.62,
          4779.42,
          4769.21,
          4768.9,
          4769.15,
          4769.4,
          4772.87,
          4774.17,
          4774.06,
          4774.15,
          4771.07,
          4771.69,
          4771.12,
          4770.92,
          4773.14,
          4772.96,
          4775.49,
          4775.62,
          4775.31,
          4773.06,
          4774.2,
          4777.04,
          4773.06,
          4772.24,
          4771.24,
          4774.34
         ],
         "open": [
          4778.43,
          4778.56,
          4779.98,
          4778.87,
          4779.29,
          4778.13,
          4772.5,
          4773.73,
          4775.03,
          4776.48,
          4774.65,
          4774.48,
          4772.18,
          4771.52,
          4772.32,
          4772.88,
          4771.43,
          4771.96,
          4772.57,
          4773.31,
          4772.76,
          4773.58,
          4774.91,
          4776.05,
          4777.63,
          4776.78,
          4776.91,
          4776.54,
          4775.81,
          4776.15,
          4777.52,
          4777.6,
          4777.78,
          4777.33,
          4777.98,
          4775.46,
          4773.05,
          4774.55,
          4773.96,
          4774.28,
          4777.72,
          4783.19,
          4781.57,
          4782.41,
          4781.37,
          4781.13,
          4781.02,
          4781.77,
          4783.23,
          4782.88,
          4782.18,
          4779.44,
          4770.15,
          4772.59,
          4770.22,
          4772.87,
          4775.54,
          4776.85,
          4774.66,
          4774.06,
          4771.88,
          4773.09,
          4771.13,
          4773.9,
          4775.25,
          4775.89,
          4775.85,
          4777.09,
          4775.23,
          4775.24,
          4777.04,
          4777.89,
          4773.25,
          4773.2,
          4774.34
         ],
         "type": "candlestick",
         "x": [
          "2023-12-27T09:45:00",
          "2023-12-27T09:50:00",
          "2023-12-27T09:55:00",
          "2023-12-27T10:00:00",
          "2023-12-27T10:05:00",
          "2023-12-27T10:10:00",
          "2023-12-27T10:15:00",
          "2023-12-27T10:20:00",
          "2023-12-27T10:25:00",
          "2023-12-27T10:30:00",
          "2023-12-27T10:35:00",
          "2023-12-27T10:40:00",
          "2023-12-27T10:45:00",
          "2023-12-27T10:50:00",
          "2023-12-27T10:55:00",
          "2023-12-27T11:00:00",
          "2023-12-27T11:05:00",
          "2023-12-27T11:10:00",
          "2023-12-27T11:15:00",
          "2023-12-27T11:20:00",
          "2023-12-27T11:25:00",
          "2023-12-27T11:30:00",
          "2023-12-27T11:35:00",
          "2023-12-27T11:40:00",
          "2023-12-27T11:45:00",
          "2023-12-27T11:50:00",
          "2023-12-27T11:55:00",
          "2023-12-27T12:00:00",
          "2023-12-27T12:05:00",
          "2023-12-27T12:10:00",
          "2023-12-27T12:15:00",
          "2023-12-27T12:20:00",
          "2023-12-27T12:25:00",
          "2023-12-27T12:30:00",
          "2023-12-27T12:35:00",
          "2023-12-27T12:40:00",
          "2023-12-27T12:45:00",
          "2023-12-27T12:50:00",
          "2023-12-27T12:55:00",
          "2023-12-27T13:00:00",
          "2023-12-27T13:05:00",
          "2023-12-27T13:10:00",
          "2023-12-27T13:15:00",
          "2023-12-27T13:20:00",
          "2023-12-27T13:25:00",
          "2023-12-27T13:30:00",
          "2023-12-27T13:35:00",
          "2023-12-27T13:40:00",
          "2023-12-27T13:45:00",
          "2023-12-27T13:50:00",
          "2023-12-27T13:55:00",
          "2023-12-27T14:00:00",
          "2023-12-27T14:05:00",
          "2023-12-27T14:10:00",
          "2023-12-27T14:15:00",
          "2023-12-27T14:20:00",
          "2023-12-27T14:25:00",
          "2023-12-27T14:30:00",
          "2023-12-27T14:35:00",
          "2023-12-27T14:40:00",
          "2023-12-27T14:45:00",
          "2023-12-27T14:50:00",
          "2023-12-27T14:55:00",
          "2023-12-27T15:00:00",
          "2023-12-27T15:05:00",
          "2023-12-27T15:10:00",
          "2023-12-27T15:15:00",
          "2023-12-27T15:20:00",
          "2023-12-27T15:25:00",
          "2023-12-27T15:30:00",
          "2023-12-27T15:35:00",
          "2023-12-27T15:40:00",
          "2023-12-27T15:45:00",
          "2023-12-27T15:50:00",
          "2023-12-27T15:55:00"
         ]
        },
        {
         "line": {
          "color": "#ff5f5f"
         },
         "mode": "lines",
         "name": "pred_hod",
         "type": "scatter",
         "x": [
          "2023-12-27T09:45:00",
          "2023-12-27T09:50:00",
          "2023-12-27T09:55:00",
          "2023-12-27T10:00:00",
          "2023-12-27T10:05:00",
          "2023-12-27T10:10:00",
          "2023-12-27T10:15:00",
          "2023-12-27T10:20:00",
          "2023-12-27T10:25:00",
          "2023-12-27T10:30:00",
          "2023-12-27T10:35:00",
          "2023-12-27T10:40:00",
          "2023-12-27T10:45:00",
          "2023-12-27T10:50:00",
          "2023-12-27T10:55:00",
          "2023-12-27T11:00:00",
          "2023-12-27T11:05:00",
          "2023-12-27T11:10:00",
          "2023-12-27T11:15:00",
          "2023-12-27T11:20:00",
          "2023-12-27T11:25:00",
          "2023-12-27T11:30:00",
          "2023-12-27T11:35:00",
          "2023-12-27T11:40:00",
          "2023-12-27T11:45:00",
          "2023-12-27T11:50:00",
          "2023-12-27T11:55:00",
          "2023-12-27T12:00:00",
          "2023-12-27T12:05:00",
          "2023-12-27T12:10:00",
          "2023-12-27T12:15:00",
          "2023-12-27T12:20:00",
          "2023-12-27T12:25:00",
          "2023-12-27T12:30:00",
          "2023-12-27T12:35:00",
          "2023-12-27T12:40:00",
          "2023-12-27T12:45:00",
          "2023-12-27T12:50:00",
          "2023-12-27T12:55:00",
          "2023-12-27T13:00:00",
          "2023-12-27T13:05:00",
          "2023-12-27T13:10:00",
          "2023-12-27T13:15:00",
          "2023-12-27T13:20:00",
          "2023-12-27T13:25:00",
          "2023-12-27T13:30:00",
          "2023-12-27T13:35:00",
          "2023-12-27T13:40:00",
          "2023-12-27T13:45:00",
          "2023-12-27T13:50:00",
          "2023-12-27T13:55:00",
          "2023-12-27T14:00:00",
          "2023-12-27T14:05:00",
          "2023-12-27T14:10:00",
          "2023-12-27T14:15:00",
          "2023-12-27T14:20:00",
          "2023-12-27T14:25:00",
          "2023-12-27T14:30:00",
          "2023-12-27T14:35:00",
          "2023-12-27T14:40:00",
          "2023-12-27T14:45:00",
          "2023-12-27T14:50:00",
          "2023-12-27T14:55:00",
          "2023-12-27T15:00:00",
          "2023-12-27T15:05:00",
          "2023-12-27T15:10:00",
          "2023-12-27T15:15:00",
          "2023-12-27T15:20:00",
          "2023-12-27T15:25:00",
          "2023-12-27T15:30:00",
          "2023-12-27T15:35:00",
          "2023-12-27T15:40:00",
          "2023-12-27T15:45:00",
          "2023-12-27T15:50:00",
          "2023-12-27T15:55:00"
         ],
         "y": [
          0.052124241142783065,
          0.04713496834797518,
          0.08315564369942265,
          0.10606722653167941,
          0.12095005248548482,
          0.42710332300656717,
          0.375494429494157,
          0.30835643209928826,
          0.2169964690295928,
          0.3241232006087283,
          0.3736556678052694,
          0.5182150100316985,
          0.5230788051074966,
          0.5271342904691682,
          0.4502588020307962,
          0.5892461775473973,
          0.5707343795913685,
          0.5705779738151157,
          0.5100857083075341,
          0.5812627805299535,
          0.5147904134984111,
          0.4291298573360723,
          0.3613868824339261,
          0.267727127619939,
          0.3402689897740281,
          0.3406499007406893,
          0.3718171644821731,
          0.4506184616629301,
          0.42056917315202047,
          0.30580400094697935,
          0.321763353816905,
          0.2970574033984226,
          0.31426580908467394,
          0.29017291715577614,
          0.49022119078754356,
          0.6547052964860826,
          0.5422661526955975,
          0.6061921936813094,
          0.6102024672588076,
          0.3009491822818666,
          0.07146689027500899,
          0.22911454083217703,
          0.259222737760492,
          0.37244396660907686,
          0.4002648815061858,
          0.4405435647152822,
          0.3571538724626449,
          0.2332295759935533,
          0.23351493823051983,
          0.35091971519765586,
          0.542602942928312,
          0.9099347696180247,
          0.884451491631303,
          0.9045580280529021,
          0.918746792400369,
          0.8460333578262065,
          0.8298210294654181,
          0.8948484901274772,
          0.9153005100017669,
          0.9356605547952359,
          0.9429514114154994,
          0.9646670468091686,
          0.943083627523965,
          0.9190226695348147,
          0.9125295379069872,
          0.9164858289820312,
          0.9098612694461146,
          0.9251714226467522,
          0.9307580282182835,
          0.9370390244869676,
          0.937771769879656,
          0.9830319997960418,
          0.9800288025395344,
          0.9810445868927735,
          0.9964456878580481
         ],
         "yaxis": "y2"
        },
        {
         "line": {
          "color": "#3399cc"
         },
         "mode": "lines",
         "name": "pred_lod",
         "type": "scatter",
         "x": [
          "2023-12-27T09:45:00",
          "2023-12-27T09:50:00",
          "2023-12-27T09:55:00",
          "2023-12-27T10:00:00",
          "2023-12-27T10:05:00",
          "2023-12-27T10:10:00",
          "2023-12-27T10:15:00",
          "2023-12-27T10:20:00",
          "2023-12-27T10:25:00",
          "2023-12-27T10:30:00",
          "2023-12-27T10:35:00",
          "2023-12-27T10:40:00",
          "2023-12-27T10:45:00",
          "2023-12-27T10:50:00",
          "2023-12-27T10:55:00",
          "2023-12-27T11:00:00",
          "2023-12-27T11:05:00",
          "2023-12-27T11:10:00",
          "2023-12-27T11:15:00",
          "2023-12-27T11:20:00",
          "2023-12-27T11:25:00",
          "2023-12-27T11:30:00",
          "2023-12-27T11:35:00",
          "2023-12-27T11:40:00",
          "2023-12-27T11:45:00",
          "2023-12-27T11:50:00",
          "2023-12-27T11:55:00",
          "2023-12-27T12:00:00",
          "2023-12-27T12:05:00",
          "2023-12-27T12:10:00",
          "2023-12-27T12:15:00",
          "2023-12-27T12:20:00",
          "2023-12-27T12:25:00",
          "2023-12-27T12:30:00",
          "2023-12-27T12:35:00",
          "2023-12-27T12:40:00",
          "2023-12-27T12:45:00",
          "2023-12-27T12:50:00",
          "2023-12-27T12:55:00",
          "2023-12-27T13:00:00",
          "2023-12-27T13:05:00",
          "2023-12-27T13:10:00",
          "2023-12-27T13:15:00",
          "2023-12-27T13:20:00",
          "2023-12-27T13:25:00",
          "2023-12-27T13:30:00",
          "2023-12-27T13:35:00",
          "2023-12-27T13:40:00",
          "2023-12-27T13:45:00",
          "2023-12-27T13:50:00",
          "2023-12-27T13:55:00",
          "2023-12-27T14:00:00",
          "2023-12-27T14:05:00",
          "2023-12-27T14:10:00",
          "2023-12-27T14:15:00",
          "2023-12-27T14:20:00",
          "2023-12-27T14:25:00",
          "2023-12-27T14:30:00",
          "2023-12-27T14:35:00",
          "2023-12-27T14:40:00",
          "2023-12-27T14:45:00",
          "2023-12-27T14:50:00",
          "2023-12-27T14:55:00",
          "2023-12-27T15:00:00",
          "2023-12-27T15:05:00",
          "2023-12-27T15:10:00",
          "2023-12-27T15:15:00",
          "2023-12-27T15:20:00",
          "2023-12-27T15:25:00",
          "2023-12-27T15:30:00",
          "2023-12-27T15:35:00",
          "2023-12-27T15:40:00",
          "2023-12-27T15:45:00",
          "2023-12-27T15:50:00",
          "2023-12-27T15:55:00"
         ],
         "y": [
          0.4796735639987092,
          0.5119894653100936,
          0.373879369614086,
          0.3679698545100446,
          0.3549416893316767,
          0.06789494160161891,
          0.12146471681808278,
          0.19569068974094,
          0.35738805527187056,
          0.21606505707255205,
          0.18613651555738522,
          0.10456844758584985,
          0.09339311782353651,
          0.1081694784175722,
          0.20707029338468275,
          0.119101614381229,
          0.1441943279803698,
          0.20573576576461416,
          0.22745051969925537,
          0.21134835713744757,
          0.2721966418421099,
          0.35649271335522886,
          0.43195248883072546,
          0.5823876883089671,
          0.4943817011021477,
          0.502186974843629,
          0.4789117979716818,
          0.3983871610522121,
          0.4565820386610322,
          0.6176478870432873,
          0.6176478870432873,
          0.6288803092037789,
          0.5904729519332824,
          0.6631424455990425,
          0.42819519052680766,
          0.2336488426776215,
          0.3594781494301383,
          0.3293383073638011,
          0.37314220434054723,
          0.6678618759911195,
          0.8106982196304809,
          0.7879179332943266,
          0.7699885426451896,
          0.7634481016811004,
          0.7523697561497383,
          0.7587157847246833,
          0.772568532787558,
          0.8633416676933205,
          0.846408060588779,
          0.7747367161286725,
          0.6572017360728529,
          0.07902408276368304,
          0.19894583218323433,
          0.09631240911146091,
          0.3499359729088607,
          0.6190969498992543,
          0.7763435854140277,
          0.4595439817849863,
          0.35979409651847866,
          0.22891726691595,
          0.3268074443389721,
          0.2058807534023618,
          0.45670700786503077,
          0.6550387129872804,
          0.7337241380421643,
          0.7577935046383111,
          0.8256830799793763,
          0.7193419210245,
          0.6957910937035977,
          0.8604804743457406,
          0.9361196700194846,
          0.5477970142004995,
          0.6577851752356153,
          0.9145320775449637,
          0.9985782083618656
         ],
         "yaxis": "y2"
        },
        {
         "line": {
          "color": "#98ff98"
         },
         "mode": "lines",
         "name": "pred_lod",
         "type": "scatter",
         "x": [
          "2023-12-27T09:45:00",
          "2023-12-27T09:50:00",
          "2023-12-27T09:55:00",
          "2023-12-27T10:00:00",
          "2023-12-27T10:05:00",
          "2023-12-27T10:10:00",
          "2023-12-27T10:15:00",
          "2023-12-27T10:20:00",
          "2023-12-27T10:25:00",
          "2023-12-27T10:30:00",
          "2023-12-27T10:35:00",
          "2023-12-27T10:40:00",
          "2023-12-27T10:45:00",
          "2023-12-27T10:50:00",
          "2023-12-27T10:55:00",
          "2023-12-27T11:00:00",
          "2023-12-27T11:05:00",
          "2023-12-27T11:10:00",
          "2023-12-27T11:15:00",
          "2023-12-27T11:20:00",
          "2023-12-27T11:25:00",
          "2023-12-27T11:30:00",
          "2023-12-27T11:35:00",
          "2023-12-27T11:40:00",
          "2023-12-27T11:45:00",
          "2023-12-27T11:50:00",
          "2023-12-27T11:55:00",
          "2023-12-27T12:00:00",
          "2023-12-27T12:05:00",
          "2023-12-27T12:10:00",
          "2023-12-27T12:15:00",
          "2023-12-27T12:20:00",
          "2023-12-27T12:25:00",
          "2023-12-27T12:30:00",
          "2023-12-27T12:35:00",
          "2023-12-27T12:40:00",
          "2023-12-27T12:45:00",
          "2023-12-27T12:50:00",
          "2023-12-27T12:55:00",
          "2023-12-27T13:00:00",
          "2023-12-27T13:05:00",
          "2023-12-27T13:10:00",
          "2023-12-27T13:15:00",
          "2023-12-27T13:20:00",
          "2023-12-27T13:25:00",
          "2023-12-27T13:30:00",
          "2023-12-27T13:35:00",
          "2023-12-27T13:40:00",
          "2023-12-27T13:45:00",
          "2023-12-27T13:50:00",
          "2023-12-27T13:55:00",
          "2023-12-27T14:00:00",
          "2023-12-27T14:05:00",
          "2023-12-27T14:10:00",
          "2023-12-27T14:15:00",
          "2023-12-27T14:20:00",
          "2023-12-27T14:25:00",
          "2023-12-27T14:30:00",
          "2023-12-27T14:35:00",
          "2023-12-27T14:40:00",
          "2023-12-27T14:45:00",
          "2023-12-27T14:50:00",
          "2023-12-27T14:55:00",
          "2023-12-27T15:00:00",
          "2023-12-27T15:05:00",
          "2023-12-27T15:10:00",
          "2023-12-27T15:15:00",
          "2023-12-27T15:20:00",
          "2023-12-27T15:25:00",
          "2023-12-27T15:30:00",
          "2023-12-27T15:35:00",
          "2023-12-27T15:40:00",
          "2023-12-27T15:45:00",
          "2023-12-27T15:50:00",
          "2023-12-27T15:55:00"
         ],
         "y": [
          0.6716705681589337,
          0.6925846066088173,
          0.5986764589100958,
          0.5960714657528311,
          0.593641658291573,
          0.48018684527865846,
          0.5078265290918554,
          0.5380268882242504,
          0.549772607789063,
          0.5106584598943054,
          0.5037514847657564,
          0.45710947732133883,
          0.43249921692129295,
          0.4548316486320452,
          0.4540453060903222,
          0.40843365642040547,
          0.43046602617315244,
          0.4501234920880888,
          0.4601002531687988,
          0.43836462399987414,
          0.46855418800501336,
          0.4890800563117567,
          0.5360511078765334,
          0.5725698472133495,
          0.5870043882963856,
          0.5892287199443313,
          0.5877248744549631,
          0.5537945579333112,
          0.5695698540294101,
          0.5983604323874872,
          0.5983604323874872,
          0.604965325508042,
          0.6134667282906546,
          0.6426208245429076,
          0.5368137294567785,
          0.465097851147961,
          0.49285699846896847,
          0.47350895513719216,
          0.5003020113786212,
          0.6186619885425892,
          0.6690828356635466,
          0.6973781016706458,
          0.7011285127711354,
          0.7286465043579463,
          0.6623062935889746,
          0.6594765223887733,
          0.750322227522536,
          0.7929194625817196,
          0.7929194625817196,
          0.7742336922193326,
          0.660380316504032,
          0.41273285512844954,
          0.42799383603938773,
          0.33888358715665956,
          0.3589176702974075,
          0.5008523898885079,
          0.5503408738360671,
          0.46269673705733877,
          0.46369719040108326,
          0.43571373043396533,
          0.4320158137786816,
          0.36677913003409895,
          0.4143870981313493,
          0.4936233116536125,
          0.5075244387630109,
          0.526129658368752,
          0.5698479900141372,
          0.5026492866356983,
          0.4923356674995947,
          0.574356112145525,
          0.6085883859107913,
          0.30085823375071963,
          0.29703398874074083,
          0.3607220531765443,
          0.8231609497079884
         ],
         "yaxis": "y2"
        }
       ],
       "layout": {
        "legend": {
         "orientation": "h",
         "x": 1,
         "xanchor": "right",
         "y": 1.02,
         "yanchor": "bottom"
        },
        "shapes": [
         {
          "line": {
           "color": "Red",
           "dash": "dash",
           "width": 1.5
          },
          "type": "line",
          "x0": "2023-12-27T09:45:00",
          "x1": "2023-12-27T15:55:00",
          "y0": 0.5,
          "y1": 0.5,
          "yref": "y2"
         }
        ],
        "template": {
         "data": {
          "bar": [
           {
            "error_x": {
             "color": "#f2f5fa"
            },
            "error_y": {
             "color": "#f2f5fa"
            },
            "marker": {
             "line": {
              "color": "rgb(17,17,17)",
              "width": 0.5
             },
             "pattern": {
              "fillmode": "overlay",
              "size": 10,
              "solidity": 0.2
             }
            },
            "type": "bar"
           }
          ],
          "barpolar": [
           {
            "marker": {
             "line": {
              "color": "rgb(17,17,17)",
              "width": 0.5
             },
             "pattern": {
              "fillmode": "overlay",
              "size": 10,
              "solidity": 0.2
             }
            },
            "type": "barpolar"
           }
          ],
          "carpet": [
           {
            "aaxis": {
             "endlinecolor": "#A2B1C6",
             "gridcolor": "#506784",
             "linecolor": "#506784",
             "minorgridcolor": "#506784",
             "startlinecolor": "#A2B1C6"
            },
            "baxis": {
             "endlinecolor": "#A2B1C6",
             "gridcolor": "#506784",
             "linecolor": "#506784",
             "minorgridcolor": "#506784",
             "startlinecolor": "#A2B1C6"
            },
            "type": "carpet"
           }
          ],
          "choropleth": [
           {
            "colorbar": {
             "outlinewidth": 0,
             "ticks": ""
            },
            "type": "choropleth"
           }
          ],
          "contour": [
           {
            "colorbar": {
             "outlinewidth": 0,
             "ticks": ""
            },
            "colorscale": [
             [
              0,
              "#0d0887"
             ],
             [
              0.1111111111111111,
              "#46039f"
             ],
             [
              0.2222222222222222,
              "#7201a8"
             ],
             [
              0.3333333333333333,
              "#9c179e"
             ],
             [
              0.4444444444444444,
              "#bd3786"
             ],
             [
              0.5555555555555556,
              "#d8576b"
             ],
             [
              0.6666666666666666,
              "#ed7953"
             ],
             [
              0.7777777777777778,
              "#fb9f3a"
             ],
             [
              0.8888888888888888,
              "#fdca26"
             ],
             [
              1,
              "#f0f921"
             ]
            ],
            "type": "contour"
           }
          ],
          "contourcarpet": [
           {
            "colorbar": {
             "outlinewidth": 0,
             "ticks": ""
            },
            "type": "contourcarpet"
           }
          ],
          "heatmap": [
           {
            "colorbar": {
             "outlinewidth": 0,
             "ticks": ""
            },
            "colorscale": [
             [
              0,
              "#0d0887"
             ],
             [
              0.1111111111111111,
              "#46039f"
             ],
             [
              0.2222222222222222,
              "#7201a8"
             ],
             [
              0.3333333333333333,
              "#9c179e"
             ],
             [
              0.4444444444444444,
              "#bd3786"
             ],
             [
              0.5555555555555556,
              "#d8576b"
             ],
             [
              0.6666666666666666,
              "#ed7953"
             ],
             [
              0.7777777777777778,
              "#fb9f3a"
             ],
             [
              0.8888888888888888,
              "#fdca26"
             ],
             [
              1,
              "#f0f921"
             ]
            ],
            "type": "heatmap"
           }
          ],
          "heatmapgl": [
           {
            "colorbar": {
             "outlinewidth": 0,
             "ticks": ""
            },
            "colorscale": [
             [
              0,
              "#0d0887"
             ],
             [
              0.1111111111111111,
              "#46039f"
             ],
             [
              0.2222222222222222,
              "#7201a8"
             ],
             [
              0.3333333333333333,
              "#9c179e"
             ],
             [
              0.4444444444444444,
              "#bd3786"
             ],
             [
              0.5555555555555556,
              "#d8576b"
             ],
             [
              0.6666666666666666,
              "#ed7953"
             ],
             [
              0.7777777777777778,
              "#fb9f3a"
             ],
             [
              0.8888888888888888,
              "#fdca26"
             ],
             [
              1,
              "#f0f921"
             ]
            ],
            "type": "heatmapgl"
           }
          ],
          "histogram": [
           {
            "marker": {
             "pattern": {
              "fillmode": "overlay",
              "size": 10,
              "solidity": 0.2
             }
            },
            "type": "histogram"
           }
          ],
          "histogram2d": [
           {
            "colorbar": {
             "outlinewidth": 0,
             "ticks": ""
            },
            "colorscale": [
             [
              0,
              "#0d0887"
             ],
             [
              0.1111111111111111,
              "#46039f"
             ],
             [
              0.2222222222222222,
              "#7201a8"
             ],
             [
              0.3333333333333333,
              "#9c179e"
             ],
             [
              0.4444444444444444,
              "#bd3786"
             ],
             [
              0.5555555555555556,
              "#d8576b"
             ],
             [
              0.6666666666666666,
              "#ed7953"
             ],
             [
              0.7777777777777778,
              "#fb9f3a"
             ],
             [
              0.8888888888888888,
              "#fdca26"
             ],
             [
              1,
              "#f0f921"
             ]
            ],
            "type": "histogram2d"
           }
          ],
          "histogram2dcontour": [
           {
            "colorbar": {
             "outlinewidth": 0,
             "ticks": ""
            },
            "colorscale": [
             [
              0,
              "#0d0887"
             ],
             [
              0.1111111111111111,
              "#46039f"
             ],
             [
              0.2222222222222222,
              "#7201a8"
             ],
             [
              0.3333333333333333,
              "#9c179e"
             ],
             [
              0.4444444444444444,
              "#bd3786"
             ],
             [
              0.5555555555555556,
              "#d8576b"
             ],
             [
              0.6666666666666666,
              "#ed7953"
             ],
             [
              0.7777777777777778,
              "#fb9f3a"
             ],
             [
              0.8888888888888888,
              "#fdca26"
             ],
             [
              1,
              "#f0f921"
             ]
            ],
            "type": "histogram2dcontour"
           }
          ],
          "mesh3d": [
           {
            "colorbar": {
             "outlinewidth": 0,
             "ticks": ""
            },
            "type": "mesh3d"
           }
          ],
          "parcoords": [
           {
            "line": {
             "colorbar": {
              "outlinewidth": 0,
              "ticks": ""
             }
            },
            "type": "parcoords"
           }
          ],
          "pie": [
           {
            "automargin": true,
            "type": "pie"
           }
          ],
          "scatter": [
           {
            "marker": {
             "line": {
              "color": "#283442"
             }
            },
            "type": "scatter"
           }
          ],
          "scatter3d": [
           {
            "line": {
             "colorbar": {
              "outlinewidth": 0,
              "ticks": ""
             }
            },
            "marker": {
             "colorbar": {
              "outlinewidth": 0,
              "ticks": ""
             }
            },
            "type": "scatter3d"
           }
          ],
          "scattercarpet": [
           {
            "marker": {
             "colorbar": {
              "outlinewidth": 0,
              "ticks": ""
             }
            },
            "type": "scattercarpet"
           }
          ],
          "scattergeo": [
           {
            "marker": {
             "colorbar": {
              "outlinewidth": 0,
              "ticks": ""
             }
            },
            "type": "scattergeo"
           }
          ],
          "scattergl": [
           {
            "marker": {
             "line": {
              "color": "#283442"
             }
            },
            "type": "scattergl"
           }
          ],
          "scattermapbox": [
           {
            "marker": {
             "colorbar": {
              "outlinewidth": 0,
              "ticks": ""
             }
            },
            "type": "scattermapbox"
           }
          ],
          "scatterpolar": [
           {
            "marker": {
             "colorbar": {
              "outlinewidth": 0,
              "ticks": ""
             }
            },
            "type": "scatterpolar"
           }
          ],
          "scatterpolargl": [
           {
            "marker": {
             "colorbar": {
              "outlinewidth": 0,
              "ticks": ""
             }
            },
            "type": "scatterpolargl"
           }
          ],
          "scatterternary": [
           {
            "marker": {
             "colorbar": {
              "outlinewidth": 0,
              "ticks": ""
             }
            },
            "type": "scatterternary"
           }
          ],
          "surface": [
           {
            "colorbar": {
             "outlinewidth": 0,
             "ticks": ""
            },
            "colorscale": [
             [
              0,
              "#0d0887"
             ],
             [
              0.1111111111111111,
              "#46039f"
             ],
             [
              0.2222222222222222,
              "#7201a8"
             ],
             [
              0.3333333333333333,
              "#9c179e"
             ],
             [
              0.4444444444444444,
              "#bd3786"
             ],
             [
              0.5555555555555556,
              "#d8576b"
             ],
             [
              0.6666666666666666,
              "#ed7953"
             ],
             [
              0.7777777777777778,
              "#fb9f3a"
             ],
             [
              0.8888888888888888,
              "#fdca26"
             ],
             [
              1,
              "#f0f921"
             ]
            ],
            "type": "surface"
           }
          ],
          "table": [
           {
            "cells": {
             "fill": {
              "color": "#506784"
             },
             "line": {
              "color": "rgb(17,17,17)"
             }
            },
            "header": {
             "fill": {
              "color": "#2a3f5f"
             },
             "line": {
              "color": "rgb(17,17,17)"
             }
            },
            "type": "table"
           }
          ]
         },
         "layout": {
          "annotationdefaults": {
           "arrowcolor": "#f2f5fa",
           "arrowhead": 0,
           "arrowwidth": 1
          },
          "autotypenumbers": "strict",
          "coloraxis": {
           "colorbar": {
            "outlinewidth": 0,
            "ticks": ""
           }
          },
          "colorscale": {
           "diverging": [
            [
             0,
             "#8e0152"
            ],
            [
             0.1,
             "#c51b7d"
            ],
            [
             0.2,
             "#de77ae"
            ],
            [
             0.3,
             "#f1b6da"
            ],
            [
             0.4,
             "#fde0ef"
            ],
            [
             0.5,
             "#f7f7f7"
            ],
            [
             0.6,
             "#e6f5d0"
            ],
            [
             0.7,
             "#b8e186"
            ],
            [
             0.8,
             "#7fbc41"
            ],
            [
             0.9,
             "#4d9221"
            ],
            [
             1,
             "#276419"
            ]
           ],
           "sequential": [
            [
             0,
             "#0d0887"
            ],
            [
             0.1111111111111111,
             "#46039f"
            ],
            [
             0.2222222222222222,
             "#7201a8"
            ],
            [
             0.3333333333333333,
             "#9c179e"
            ],
            [
             0.4444444444444444,
             "#bd3786"
            ],
            [
             0.5555555555555556,
             "#d8576b"
            ],
            [
             0.6666666666666666,
             "#ed7953"
            ],
            [
             0.7777777777777778,
             "#fb9f3a"
            ],
            [
             0.8888888888888888,
             "#fdca26"
            ],
            [
             1,
             "#f0f921"
            ]
           ],
           "sequentialminus": [
            [
             0,
             "#0d0887"
            ],
            [
             0.1111111111111111,
             "#46039f"
            ],
            [
             0.2222222222222222,
             "#7201a8"
            ],
            [
             0.3333333333333333,
             "#9c179e"
            ],
            [
             0.4444444444444444,
             "#bd3786"
            ],
            [
             0.5555555555555556,
             "#d8576b"
            ],
            [
             0.6666666666666666,
             "#ed7953"
            ],
            [
             0.7777777777777778,
             "#fb9f3a"
            ],
            [
             0.8888888888888888,
             "#fdca26"
            ],
            [
             1,
             "#f0f921"
            ]
           ]
          },
          "colorway": [
           "#636efa",
           "#EF553B",
           "#00cc96",
           "#ab63fa",
           "#FFA15A",
           "#19d3f3",
           "#FF6692",
           "#B6E880",
           "#FF97FF",
           "#FECB52"
          ],
          "font": {
           "color": "#f2f5fa"
          },
          "geo": {
           "bgcolor": "rgb(17,17,17)",
           "lakecolor": "rgb(17,17,17)",
           "landcolor": "rgb(17,17,17)",
           "showlakes": true,
           "showland": true,
           "subunitcolor": "#506784"
          },
          "hoverlabel": {
           "align": "left"
          },
          "hovermode": "closest",
          "mapbox": {
           "style": "dark"
          },
          "paper_bgcolor": "rgb(17,17,17)",
          "plot_bgcolor": "rgb(17,17,17)",
          "polar": {
           "angularaxis": {
            "gridcolor": "#506784",
            "linecolor": "#506784",
            "ticks": ""
           },
           "bgcolor": "rgb(17,17,17)",
           "radialaxis": {
            "gridcolor": "#506784",
            "linecolor": "#506784",
            "ticks": ""
           }
          },
          "scene": {
           "xaxis": {
            "backgroundcolor": "rgb(17,17,17)",
            "gridcolor": "#506784",
            "gridwidth": 2,
            "linecolor": "#506784",
            "showbackground": true,
            "ticks": "",
            "zerolinecolor": "#C8D4E3"
           },
           "yaxis": {
            "backgroundcolor": "rgb(17,17,17)",
            "gridcolor": "#506784",
            "gridwidth": 2,
            "linecolor": "#506784",
            "showbackground": true,
            "ticks": "",
            "zerolinecolor": "#C8D4E3"
           },
           "zaxis": {
            "backgroundcolor": "rgb(17,17,17)",
            "gridcolor": "#506784",
            "gridwidth": 2,
            "linecolor": "#506784",
            "showbackground": true,
            "ticks": "",
            "zerolinecolor": "#C8D4E3"
           }
          },
          "shapedefaults": {
           "line": {
            "color": "#f2f5fa"
           }
          },
          "sliderdefaults": {
           "bgcolor": "#C8D4E3",
           "bordercolor": "rgb(17,17,17)",
           "borderwidth": 1,
           "tickwidth": 0
          },
          "ternary": {
           "aaxis": {
            "gridcolor": "#506784",
            "linecolor": "#506784",
            "ticks": ""
           },
           "baxis": {
            "gridcolor": "#506784",
            "linecolor": "#506784",
            "ticks": ""
           },
           "bgcolor": "rgb(17,17,17)",
           "caxis": {
            "gridcolor": "#506784",
            "linecolor": "#506784",
            "ticks": ""
           }
          },
          "title": {
           "x": 0.05
          },
          "updatemenudefaults": {
           "bgcolor": "#506784",
           "borderwidth": 0
          },
          "xaxis": {
           "automargin": true,
           "gridcolor": "#283442",
           "linecolor": "#506784",
           "ticks": "",
           "title": {
            "standoff": 15
           },
           "zerolinecolor": "#283442",
           "zerolinewidth": 2
          },
          "yaxis": {
           "automargin": true,
           "gridcolor": "#283442",
           "linecolor": "#506784",
           "ticks": "",
           "title": {
            "standoff": 15
           },
           "zerolinecolor": "#283442",
           "zerolinewidth": 2
          }
         }
        },
        "title": {
         "text": "OHLC vs Prediction Over Time"
        },
        "xaxis": {
         "rangeslider": {
          "visible": false
         }
        },
        "yaxis": {
         "tickformat": ".0f"
        },
        "yaxis2": {
         "overlaying": "y",
         "side": "right",
         "tickformat": ".0%"
        }
       }
      }
     },
     "metadata": {},
     "output_type": "display_data"
    }
   ],
   "source": [
    "import plotly.graph_objects as go\n",
    "\n",
    "# Pick a day in the test set\n",
    "test_day = '2023-12-27'\n",
    "# test_day = '2024-01-03'\n",
    "test_df = df_results.loc[test_day:test_day]\n",
    "X_prices = spx_data.loc[test_day:test_day, ['open','high','low','close']]\n",
    "\n",
    "df_viz = test_df.merge(X_prices, left_index=True, right_index=True)\n",
    "\n",
    "fig = go.Figure(data=[go.Candlestick(x=df_viz.index,\n",
    "                open=df_viz['open'],\n",
    "                high=df_viz['high'],\n",
    "                low=df_viz['low'],\n",
    "                close=df_viz['close'])])\n",
    "\n",
    "# fig.add_trace(go.Scatter(x=df_viz.index, y=df_viz['pred_hod'].ewm(2).mean(), mode='lines', name='pred_hod', yaxis='y2', line=dict(color='#ff5f5f')))\n",
    "fig.add_trace(go.Scatter(x=df_viz.index, y=df_viz['pred_hod'], mode='lines', name='pred_hod', yaxis='y2', line=dict(color='#ff5f5f')))\n",
    "fig.add_trace(go.Scatter(x=df_viz.index, y=df_viz['pred_lod'], mode='lines', name='pred_lod', yaxis='y2', line=dict(color='#3399cc')))\n",
    "fig.add_trace(go.Scatter(x=df_viz.index, y=df_viz['pred_gd'], mode='lines', name='pred_lod', yaxis='y2', line=dict(color='#98ff98')))\n",
    "\n",
    "fig.add_shape(\n",
    "    type=\"line\",\n",
    "    x0=df_viz.index.min(),\n",
    "    x1=df_viz.index.max(),\n",
    "    y0=0.5,\n",
    "    y1=0.5,\n",
    "    yref='y2',\n",
    "    line=dict(\n",
    "        color=\"Red\",\n",
    "        width=1.5,\n",
    "        dash=\"dash\",\n",
    "    )\n",
    ")\n",
    "\n",
    "fig.update_layout(\n",
    "    template='plotly_dark',\n",
    "    yaxis=dict(\n",
    "        tickformat='.0f'\n",
    "    ),\n",
    "    yaxis2=dict(\n",
    "        overlaying='y',\n",
    "        side='right',\n",
    "        tickformat=\".0%\"\n",
    "    ),\n",
    "    legend=dict(\n",
    "        orientation=\"h\",\n",
    "        yanchor=\"bottom\",\n",
    "        y=1.02,\n",
    "        xanchor=\"right\",\n",
    "        x=1\n",
    "    ),\n",
    "    title='OHLC vs Prediction Over Time',\n",
    "    xaxis_rangeslider_visible=False\n",
    ")\n",
    "\n",
    "fig.show()"
   ]
  },
  {
   "cell_type": "code",
   "execution_count": 62,
   "metadata": {},
   "outputs": [
    {
     "data": {
      "application/vnd.plotly.v1+json": {
       "config": {
        "plotlyServerURL": "https://plot.ly"
       },
       "data": [
        {
         "close": [
          4778.56,
          4780.01,
          4779.16,
          4779.29,
          4778.14,
          4772.34,
          4773.75,
          4775.01,
          4776.52,
          4774.67,
          4774.52,
          4772.13,
          4771.57,
          4772.33,
          4773.08,
          4771.46,
          4771.98,
          4772.58,
          4773.31,
          4772.75,
          4773.6,
          4774.86,
          4776.08,
          4777.61,
          4776.76,
          4776.9,
          4776.53,
          4775.83,
          4776.12,
          4777.54,
          4777.59,
          4777.83,
          4777.32,
          4777.96,
          4775.47,
          4773.07,
          4774.55,
          4773.96,
          4774.29,
          4777.71,
          4783.16,
          4781.59,
          4782.49,
          4781.44,
          4781.02,
          4781,
          4781.75,
          4783.16,
          4782.93,
          4782.15,
          4779.46,
          4770.06,
          4772.7,
          4770.19,
          4772.9,
          4775.53,
          4776.87,
          4774.67,
          4774.15,
          4771.84,
          4773.12,
          4771.12,
          4773.91,
          4775.22,
          4775.87,
          4775.89,
          4777.11,
          4775.34,
          4775.22,
          4777.06,
          4777.95,
          4773.27,
          4773.27,
          4774.35,
          4782.5
         ],
         "high": [
          4778.96,
          4780.25,
          4780.74,
          4780.47,
          4779.35,
          4778.53,
          4774.89,
          4775.52,
          4777.06,
          4776.57,
          4774.7,
          4774.64,
          4773.18,
          4772.37,
          4773.42,
          4772.91,
          4772.89,
          4772.72,
          4773.54,
          4773.61,
          4773.6,
          4775.16,
          4776.62,
          4777.9,
          4777.65,
          4777.49,
          4777.68,
          4777.36,
          4776.26,
          4777.78,
          4777.9,
          4778.97,
          4777.89,
          4778.4,
          4777.98,
          4775.57,
          4774.81,
          4774.79,
          4774.97,
          4778.07,
          4783.87,
          4785.39,
          4783.72,
          4782.83,
          4782.38,
          4782.75,
          4782.22,
          4783.27,
          4783.63,
          4783.39,
          4782.53,
          4779.44,
          4773.03,
          4772.69,
          4772.95,
          4775.62,
          4778.67,
          4776.96,
          4775.2,
          4774.06,
          4773.18,
          4773.38,
          4774.29,
          4775.82,
          4775.96,
          4777.4,
          4777.89,
          4777.56,
          4775.23,
          4777.35,
          4778.97,
          4778.28,
          4773.89,
          4775.26,
          4782.5
         ],
         "low": [
          4777.47,
          4778.41,
          4778.97,
          4778.32,
          4777.21,
          4771.9,
          4772.5,
          4771.16,
          4774.8,
          4774.67,
          4772.15,
          4771.6,
          4770.99,
          4769.97,
          4772.05,
          4770.93,
          4771.19,
          4771.17,
          4772.57,
          4772.69,
          4771.32,
          4773.27,
          4774.91,
          4775.6,
          4776.44,
          4776.2,
          4776.37,
          4774.84,
          4775.42,
          4776.07,
          4777.33,
          4777.13,
          4776.99,
          4777.19,
          4774.69,
          4772.08,
          4772.87,
          4773.95,
          4773.92,
          4774.28,
          4777.69,
          4781.59,
          4780.88,
          4781.27,
          4780.4,
          4780.55,
          4780.98,
          4781.77,
          4782.19,
          4781.62,
          4779.42,
          4769.21,
          4768.9,
          4769.15,
          4769.4,
          4772.87,
          4774.17,
          4774.06,
          4774.15,
          4771.07,
          4771.69,
          4771.12,
          4770.92,
          4773.14,
          4772.96,
          4775.49,
          4775.62,
          4775.31,
          4773.06,
          4774.2,
          4777.04,
          4773.06,
          4772.24,
          4771.24,
          4774.34
         ],
         "open": [
          4778.43,
          4778.56,
          4779.98,
          4778.87,
          4779.29,
          4778.13,
          4772.5,
          4773.73,
          4775.03,
          4776.48,
          4774.65,
          4774.48,
          4772.18,
          4771.52,
          4772.32,
          4772.88,
          4771.43,
          4771.96,
          4772.57,
          4773.31,
          4772.76,
          4773.58,
          4774.91,
          4776.05,
          4777.63,
          4776.78,
          4776.91,
          4776.54,
          4775.81,
          4776.15,
          4777.52,
          4777.6,
          4777.78,
          4777.33,
          4777.98,
          4775.46,
          4773.05,
          4774.55,
          4773.96,
          4774.28,
          4777.72,
          4783.19,
          4781.57,
          4782.41,
          4781.37,
          4781.13,
          4781.02,
          4781.77,
          4783.23,
          4782.88,
          4782.18,
          4779.44,
          4770.15,
          4772.59,
          4770.22,
          4772.87,
          4775.54,
          4776.85,
          4774.66,
          4774.06,
          4771.88,
          4773.09,
          4771.13,
          4773.9,
          4775.25,
          4775.89,
          4775.85,
          4777.09,
          4775.23,
          4775.24,
          4777.04,
          4777.89,
          4773.25,
          4773.2,
          4774.34
         ],
         "type": "candlestick",
         "x": [
          "2023-12-27T09:45:00",
          "2023-12-27T09:50:00",
          "2023-12-27T09:55:00",
          "2023-12-27T10:00:00",
          "2023-12-27T10:05:00",
          "2023-12-27T10:10:00",
          "2023-12-27T10:15:00",
          "2023-12-27T10:20:00",
          "2023-12-27T10:25:00",
          "2023-12-27T10:30:00",
          "2023-12-27T10:35:00",
          "2023-12-27T10:40:00",
          "2023-12-27T10:45:00",
          "2023-12-27T10:50:00",
          "2023-12-27T10:55:00",
          "2023-12-27T11:00:00",
          "2023-12-27T11:05:00",
          "2023-12-27T11:10:00",
          "2023-12-27T11:15:00",
          "2023-12-27T11:20:00",
          "2023-12-27T11:25:00",
          "2023-12-27T11:30:00",
          "2023-12-27T11:35:00",
          "2023-12-27T11:40:00",
          "2023-12-27T11:45:00",
          "2023-12-27T11:50:00",
          "2023-12-27T11:55:00",
          "2023-12-27T12:00:00",
          "2023-12-27T12:05:00",
          "2023-12-27T12:10:00",
          "2023-12-27T12:15:00",
          "2023-12-27T12:20:00",
          "2023-12-27T12:25:00",
          "2023-12-27T12:30:00",
          "2023-12-27T12:35:00",
          "2023-12-27T12:40:00",
          "2023-12-27T12:45:00",
          "2023-12-27T12:50:00",
          "2023-12-27T12:55:00",
          "2023-12-27T13:00:00",
          "2023-12-27T13:05:00",
          "2023-12-27T13:10:00",
          "2023-12-27T13:15:00",
          "2023-12-27T13:20:00",
          "2023-12-27T13:25:00",
          "2023-12-27T13:30:00",
          "2023-12-27T13:35:00",
          "2023-12-27T13:40:00",
          "2023-12-27T13:45:00",
          "2023-12-27T13:50:00",
          "2023-12-27T13:55:00",
          "2023-12-27T14:00:00",
          "2023-12-27T14:05:00",
          "2023-12-27T14:10:00",
          "2023-12-27T14:15:00",
          "2023-12-27T14:20:00",
          "2023-12-27T14:25:00",
          "2023-12-27T14:30:00",
          "2023-12-27T14:35:00",
          "2023-12-27T14:40:00",
          "2023-12-27T14:45:00",
          "2023-12-27T14:50:00",
          "2023-12-27T14:55:00",
          "2023-12-27T15:00:00",
          "2023-12-27T15:05:00",
          "2023-12-27T15:10:00",
          "2023-12-27T15:15:00",
          "2023-12-27T15:20:00",
          "2023-12-27T15:25:00",
          "2023-12-27T15:30:00",
          "2023-12-27T15:35:00",
          "2023-12-27T15:40:00",
          "2023-12-27T15:45:00",
          "2023-12-27T15:50:00",
          "2023-12-27T15:55:00"
         ]
        },
        {
         "line": {
          "color": "#ff5f5f"
         },
         "mode": "lines",
         "name": "pred_hod",
         "type": "scatter",
         "x": [
          "2023-12-27T09:45:00",
          "2023-12-27T09:50:00",
          "2023-12-27T09:55:00",
          "2023-12-27T10:00:00",
          "2023-12-27T10:05:00",
          "2023-12-27T10:10:00",
          "2023-12-27T10:15:00",
          "2023-12-27T10:20:00",
          "2023-12-27T10:25:00",
          "2023-12-27T10:30:00",
          "2023-12-27T10:35:00",
          "2023-12-27T10:40:00",
          "2023-12-27T10:45:00",
          "2023-12-27T10:50:00",
          "2023-12-27T10:55:00",
          "2023-12-27T11:00:00",
          "2023-12-27T11:05:00",
          "2023-12-27T11:10:00",
          "2023-12-27T11:15:00",
          "2023-12-27T11:20:00",
          "2023-12-27T11:25:00",
          "2023-12-27T11:30:00",
          "2023-12-27T11:35:00",
          "2023-12-27T11:40:00",
          "2023-12-27T11:45:00",
          "2023-12-27T11:50:00",
          "2023-12-27T11:55:00",
          "2023-12-27T12:00:00",
          "2023-12-27T12:05:00",
          "2023-12-27T12:10:00",
          "2023-12-27T12:15:00",
          "2023-12-27T12:20:00",
          "2023-12-27T12:25:00",
          "2023-12-27T12:30:00",
          "2023-12-27T12:35:00",
          "2023-12-27T12:40:00",
          "2023-12-27T12:45:00",
          "2023-12-27T12:50:00",
          "2023-12-27T12:55:00",
          "2023-12-27T13:00:00",
          "2023-12-27T13:05:00",
          "2023-12-27T13:10:00",
          "2023-12-27T13:15:00",
          "2023-12-27T13:20:00",
          "2023-12-27T13:25:00",
          "2023-12-27T13:30:00",
          "2023-12-27T13:35:00",
          "2023-12-27T13:40:00",
          "2023-12-27T13:45:00",
          "2023-12-27T13:50:00",
          "2023-12-27T13:55:00",
          "2023-12-27T14:00:00",
          "2023-12-27T14:05:00",
          "2023-12-27T14:10:00",
          "2023-12-27T14:15:00",
          "2023-12-27T14:20:00",
          "2023-12-27T14:25:00",
          "2023-12-27T14:30:00",
          "2023-12-27T14:35:00",
          "2023-12-27T14:40:00",
          "2023-12-27T14:45:00",
          "2023-12-27T14:50:00",
          "2023-12-27T14:55:00",
          "2023-12-27T15:00:00",
          "2023-12-27T15:05:00",
          "2023-12-27T15:10:00",
          "2023-12-27T15:15:00",
          "2023-12-27T15:20:00",
          "2023-12-27T15:25:00",
          "2023-12-27T15:30:00",
          "2023-12-27T15:35:00",
          "2023-12-27T15:40:00",
          "2023-12-27T15:45:00",
          "2023-12-27T15:50:00",
          "2023-12-27T15:55:00"
         ],
         "y": [
          0.12048245318326296,
          0.11931986362606498,
          0.1379680048195158,
          0.14597274873817562,
          0.16251861557142883,
          0.46000727774568134,
          0.3255515407000286,
          0.26524222033094713,
          0.21574234229533884,
          0.27187393417025446,
          0.30619615153023416,
          0.5512131049690223,
          0.5643175341002303,
          0.5114597435151099,
          0.41590061368722847,
          0.5443188088610542,
          0.5423999545035161,
          0.5039660763215579,
          0.4455039276834844,
          0.5139462857357898,
          0.45651880003713047,
          0.3889587280143266,
          0.31855292906601823,
          0.23529092515812872,
          0.2800927704584644,
          0.28871308350908376,
          0.31210982599310827,
          0.37679868105793995,
          0.3553403956536077,
          0.2541841940022558,
          0.2607826301617616,
          0.24275104318112722,
          0.2734314555340774,
          0.2539528413017612,
          0.42227686790345575,
          0.6136216262087019,
          0.49603651885305416,
          0.577562865044864,
          0.5806829854549572,
          0.26801747118650193,
          0.1283347428732154,
          0.20625779450355708,
          0.22282910238900047,
          0.35406127019718586,
          0.40378510065713424,
          0.4390245449462558,
          0.37079020816405583,
          0.21271675225182163,
          0.2269561626643966,
          0.32566227067209763,
          0.5241869049519041,
          0.8781851878342681,
          0.830248433018132,
          0.8896101361801826,
          0.8401214074748442,
          0.7868161314738901,
          0.7285580442758328,
          0.821749148384054,
          0.8480416640872495,
          0.9025500415823903,
          0.8989584556791794,
          0.9218956900885932,
          0.8963697661811638,
          0.8956073494614241,
          0.8915582078465485,
          0.8950062862581495,
          0.8884200677927867,
          0.9136749307067978,
          0.9224590814700588,
          0.9200218270418252,
          0.9198771678254433,
          0.9370364866134986,
          0.9373190295461976,
          0.9372577689508772,
          0.9397334027522479
         ],
         "yaxis": "y2"
        },
        {
         "line": {
          "color": "#3399cc"
         },
         "mode": "lines",
         "name": "pred_lod",
         "type": "scatter",
         "x": [
          "2023-12-27T09:45:00",
          "2023-12-27T09:50:00",
          "2023-12-27T09:55:00",
          "2023-12-27T10:00:00",
          "2023-12-27T10:05:00",
          "2023-12-27T10:10:00",
          "2023-12-27T10:15:00",
          "2023-12-27T10:20:00",
          "2023-12-27T10:25:00",
          "2023-12-27T10:30:00",
          "2023-12-27T10:35:00",
          "2023-12-27T10:40:00",
          "2023-12-27T10:45:00",
          "2023-12-27T10:50:00",
          "2023-12-27T10:55:00",
          "2023-12-27T11:00:00",
          "2023-12-27T11:05:00",
          "2023-12-27T11:10:00",
          "2023-12-27T11:15:00",
          "2023-12-27T11:20:00",
          "2023-12-27T11:25:00",
          "2023-12-27T11:30:00",
          "2023-12-27T11:35:00",
          "2023-12-27T11:40:00",
          "2023-12-27T11:45:00",
          "2023-12-27T11:50:00",
          "2023-12-27T11:55:00",
          "2023-12-27T12:00:00",
          "2023-12-27T12:05:00",
          "2023-12-27T12:10:00",
          "2023-12-27T12:15:00",
          "2023-12-27T12:20:00",
          "2023-12-27T12:25:00",
          "2023-12-27T12:30:00",
          "2023-12-27T12:35:00",
          "2023-12-27T12:40:00",
          "2023-12-27T12:45:00",
          "2023-12-27T12:50:00",
          "2023-12-27T12:55:00",
          "2023-12-27T13:00:00",
          "2023-12-27T13:05:00",
          "2023-12-27T13:10:00",
          "2023-12-27T13:15:00",
          "2023-12-27T13:20:00",
          "2023-12-27T13:25:00",
          "2023-12-27T13:30:00",
          "2023-12-27T13:35:00",
          "2023-12-27T13:40:00",
          "2023-12-27T13:45:00",
          "2023-12-27T13:50:00",
          "2023-12-27T13:55:00",
          "2023-12-27T14:00:00",
          "2023-12-27T14:05:00",
          "2023-12-27T14:10:00",
          "2023-12-27T14:15:00",
          "2023-12-27T14:20:00",
          "2023-12-27T14:25:00",
          "2023-12-27T14:30:00",
          "2023-12-27T14:35:00",
          "2023-12-27T14:40:00",
          "2023-12-27T14:45:00",
          "2023-12-27T14:50:00",
          "2023-12-27T14:55:00",
          "2023-12-27T15:00:00",
          "2023-12-27T15:05:00",
          "2023-12-27T15:10:00",
          "2023-12-27T15:15:00",
          "2023-12-27T15:20:00",
          "2023-12-27T15:25:00",
          "2023-12-27T15:30:00",
          "2023-12-27T15:35:00",
          "2023-12-27T15:40:00",
          "2023-12-27T15:45:00",
          "2023-12-27T15:50:00",
          "2023-12-27T15:55:00"
         ],
         "y": [
          0.46165773931424126,
          0.47934934438168886,
          0.35868170620805606,
          0.3545369311699085,
          0.2770004904558051,
          0.1410947664092937,
          0.15381658373537802,
          0.19271843936777042,
          0.28253433107374726,
          0.19738144843156086,
          0.19099945501983906,
          0.1492857601983945,
          0.14861050360363467,
          0.15169652177953646,
          0.19664516765783696,
          0.15483201405707503,
          0.16196124401350193,
          0.19027874564270597,
          0.21390600515937686,
          0.19801921773872302,
          0.2243056219854612,
          0.29780608110741796,
          0.37811161159980977,
          0.5246190960400068,
          0.4607569305649954,
          0.4693417483791829,
          0.4470592178106159,
          0.36683671000352847,
          0.42117148163947693,
          0.5557979124327213,
          0.584503350856225,
          0.5951654494577149,
          0.5528985272787983,
          0.5856047608285222,
          0.370134996053169,
          0.2154166055185752,
          0.30113306268665463,
          0.2703983245532853,
          0.3011837173482067,
          0.6112286444038232,
          0.8303703424982899,
          0.7683339880447385,
          0.767066857799381,
          0.7522006622523105,
          0.7346239239964507,
          0.7411373232116127,
          0.7670029698290797,
          0.8352515173878414,
          0.8217838501903211,
          0.7803478226866537,
          0.6457592953308202,
          0.14054822346894763,
          0.208523020991875,
          0.1485472632794424,
          0.2691432960983325,
          0.45802401289852507,
          0.6593010271323714,
          0.36379462887568226,
          0.3376694301362561,
          0.20287468169325296,
          0.2551321758216624,
          0.1818588506855748,
          0.38500104592123535,
          0.5167625432604727,
          0.6580846520950188,
          0.6756771481806234,
          0.8046296163689238,
          0.728388480270554,
          0.707035864974834,
          0.8622029618308688,
          0.9110622707987455,
          0.5878349073241906,
          0.7222343858491914,
          0.9036839314010325,
          0.9352931490629508
         ],
         "yaxis": "y2"
        },
        {
         "line": {
          "color": "#98ff98"
         },
         "mode": "lines",
         "name": "pred_lod",
         "type": "scatter",
         "x": [
          "2023-12-27T09:45:00",
          "2023-12-27T09:50:00",
          "2023-12-27T09:55:00",
          "2023-12-27T10:00:00",
          "2023-12-27T10:05:00",
          "2023-12-27T10:10:00",
          "2023-12-27T10:15:00",
          "2023-12-27T10:20:00",
          "2023-12-27T10:25:00",
          "2023-12-27T10:30:00",
          "2023-12-27T10:35:00",
          "2023-12-27T10:40:00",
          "2023-12-27T10:45:00",
          "2023-12-27T10:50:00",
          "2023-12-27T10:55:00",
          "2023-12-27T11:00:00",
          "2023-12-27T11:05:00",
          "2023-12-27T11:10:00",
          "2023-12-27T11:15:00",
          "2023-12-27T11:20:00",
          "2023-12-27T11:25:00",
          "2023-12-27T11:30:00",
          "2023-12-27T11:35:00",
          "2023-12-27T11:40:00",
          "2023-12-27T11:45:00",
          "2023-12-27T11:50:00",
          "2023-12-27T11:55:00",
          "2023-12-27T12:00:00",
          "2023-12-27T12:05:00",
          "2023-12-27T12:10:00",
          "2023-12-27T12:15:00",
          "2023-12-27T12:20:00",
          "2023-12-27T12:25:00",
          "2023-12-27T12:30:00",
          "2023-12-27T12:35:00",
          "2023-12-27T12:40:00",
          "2023-12-27T12:45:00",
          "2023-12-27T12:50:00",
          "2023-12-27T12:55:00",
          "2023-12-27T13:00:00",
          "2023-12-27T13:05:00",
          "2023-12-27T13:10:00",
          "2023-12-27T13:15:00",
          "2023-12-27T13:20:00",
          "2023-12-27T13:25:00",
          "2023-12-27T13:30:00",
          "2023-12-27T13:35:00",
          "2023-12-27T13:40:00",
          "2023-12-27T13:45:00",
          "2023-12-27T13:50:00",
          "2023-12-27T13:55:00",
          "2023-12-27T14:00:00",
          "2023-12-27T14:05:00",
          "2023-12-27T14:10:00",
          "2023-12-27T14:15:00",
          "2023-12-27T14:20:00",
          "2023-12-27T14:25:00",
          "2023-12-27T14:30:00",
          "2023-12-27T14:35:00",
          "2023-12-27T14:40:00",
          "2023-12-27T14:45:00",
          "2023-12-27T14:50:00",
          "2023-12-27T14:55:00",
          "2023-12-27T15:00:00",
          "2023-12-27T15:05:00",
          "2023-12-27T15:10:00",
          "2023-12-27T15:15:00",
          "2023-12-27T15:20:00",
          "2023-12-27T15:25:00",
          "2023-12-27T15:30:00",
          "2023-12-27T15:35:00",
          "2023-12-27T15:40:00",
          "2023-12-27T15:45:00",
          "2023-12-27T15:50:00",
          "2023-12-27T15:55:00"
         ],
         "y": [
          0.6480445660462066,
          0.6510703679935024,
          0.6031228526456036,
          0.5993007658773173,
          0.5839035921635618,
          0.400059275569019,
          0.44101126337687335,
          0.467507312341897,
          0.5247419360326623,
          0.459654749774604,
          0.4509742048090664,
          0.3694458330038316,
          0.33814318624655854,
          0.34760376518746783,
          0.3475273858937603,
          0.30260869126906115,
          0.30391139611153706,
          0.3436207080594253,
          0.3519568810920895,
          0.33638650784469615,
          0.3674133712656401,
          0.47997402577968185,
          0.5394482475451332,
          0.5697544197641148,
          0.593600152447642,
          0.5985292822061773,
          0.6020481615033446,
          0.5736336913704723,
          0.5826065479858558,
          0.5999282651838385,
          0.5939304854336204,
          0.6131384468883282,
          0.6006962077150504,
          0.6543747248015663,
          0.5440988589678789,
          0.41178812249542796,
          0.45696303546510375,
          0.43427594267164826,
          0.41118207710086113,
          0.5779092605643368,
          0.7075228092195007,
          0.6978396843171029,
          0.7425601011345132,
          0.7245621530760369,
          0.6783249052665175,
          0.6832729466466727,
          0.7576452893689172,
          0.7816903015859668,
          0.7836746284077303,
          0.773659400454924,
          0.6448223416645296,
          0.3231592036055446,
          0.380739135668583,
          0.3022492932807734,
          0.28535973401094505,
          0.47836934937812003,
          0.5130588447071691,
          0.41324850659722784,
          0.42651768307062277,
          0.33731784314119534,
          0.37311876756702456,
          0.3017394321619736,
          0.36187050595425874,
          0.46481522999038816,
          0.506319334850108,
          0.548950778918605,
          0.5864347846963046,
          0.5086419736695154,
          0.5149119017783976,
          0.6165000069314542,
          0.6462913022341523,
          0.30349235154084875,
          0.28294174051348436,
          0.32390590283504805,
          0.8309083202328301
         ],
         "yaxis": "y2"
        }
       ],
       "layout": {
        "legend": {
         "orientation": "h",
         "x": 1,
         "xanchor": "right",
         "y": 1.02,
         "yanchor": "bottom"
        },
        "shapes": [
         {
          "line": {
           "color": "Red",
           "dash": "dash",
           "width": 1.5
          },
          "type": "line",
          "x0": "2023-12-27T09:45:00",
          "x1": "2023-12-27T15:55:00",
          "y0": 0.5,
          "y1": 0.5,
          "yref": "y2"
         }
        ],
        "template": {
         "data": {
          "bar": [
           {
            "error_x": {
             "color": "#f2f5fa"
            },
            "error_y": {
             "color": "#f2f5fa"
            },
            "marker": {
             "line": {
              "color": "rgb(17,17,17)",
              "width": 0.5
             },
             "pattern": {
              "fillmode": "overlay",
              "size": 10,
              "solidity": 0.2
             }
            },
            "type": "bar"
           }
          ],
          "barpolar": [
           {
            "marker": {
             "line": {
              "color": "rgb(17,17,17)",
              "width": 0.5
             },
             "pattern": {
              "fillmode": "overlay",
              "size": 10,
              "solidity": 0.2
             }
            },
            "type": "barpolar"
           }
          ],
          "carpet": [
           {
            "aaxis": {
             "endlinecolor": "#A2B1C6",
             "gridcolor": "#506784",
             "linecolor": "#506784",
             "minorgridcolor": "#506784",
             "startlinecolor": "#A2B1C6"
            },
            "baxis": {
             "endlinecolor": "#A2B1C6",
             "gridcolor": "#506784",
             "linecolor": "#506784",
             "minorgridcolor": "#506784",
             "startlinecolor": "#A2B1C6"
            },
            "type": "carpet"
           }
          ],
          "choropleth": [
           {
            "colorbar": {
             "outlinewidth": 0,
             "ticks": ""
            },
            "type": "choropleth"
           }
          ],
          "contour": [
           {
            "colorbar": {
             "outlinewidth": 0,
             "ticks": ""
            },
            "colorscale": [
             [
              0,
              "#0d0887"
             ],
             [
              0.1111111111111111,
              "#46039f"
             ],
             [
              0.2222222222222222,
              "#7201a8"
             ],
             [
              0.3333333333333333,
              "#9c179e"
             ],
             [
              0.4444444444444444,
              "#bd3786"
             ],
             [
              0.5555555555555556,
              "#d8576b"
             ],
             [
              0.6666666666666666,
              "#ed7953"
             ],
             [
              0.7777777777777778,
              "#fb9f3a"
             ],
             [
              0.8888888888888888,
              "#fdca26"
             ],
             [
              1,
              "#f0f921"
             ]
            ],
            "type": "contour"
           }
          ],
          "contourcarpet": [
           {
            "colorbar": {
             "outlinewidth": 0,
             "ticks": ""
            },
            "type": "contourcarpet"
           }
          ],
          "heatmap": [
           {
            "colorbar": {
             "outlinewidth": 0,
             "ticks": ""
            },
            "colorscale": [
             [
              0,
              "#0d0887"
             ],
             [
              0.1111111111111111,
              "#46039f"
             ],
             [
              0.2222222222222222,
              "#7201a8"
             ],
             [
              0.3333333333333333,
              "#9c179e"
             ],
             [
              0.4444444444444444,
              "#bd3786"
             ],
             [
              0.5555555555555556,
              "#d8576b"
             ],
             [
              0.6666666666666666,
              "#ed7953"
             ],
             [
              0.7777777777777778,
              "#fb9f3a"
             ],
             [
              0.8888888888888888,
              "#fdca26"
             ],
             [
              1,
              "#f0f921"
             ]
            ],
            "type": "heatmap"
           }
          ],
          "heatmapgl": [
           {
            "colorbar": {
             "outlinewidth": 0,
             "ticks": ""
            },
            "colorscale": [
             [
              0,
              "#0d0887"
             ],
             [
              0.1111111111111111,
              "#46039f"
             ],
             [
              0.2222222222222222,
              "#7201a8"
             ],
             [
              0.3333333333333333,
              "#9c179e"
             ],
             [
              0.4444444444444444,
              "#bd3786"
             ],
             [
              0.5555555555555556,
              "#d8576b"
             ],
             [
              0.6666666666666666,
              "#ed7953"
             ],
             [
              0.7777777777777778,
              "#fb9f3a"
             ],
             [
              0.8888888888888888,
              "#fdca26"
             ],
             [
              1,
              "#f0f921"
             ]
            ],
            "type": "heatmapgl"
           }
          ],
          "histogram": [
           {
            "marker": {
             "pattern": {
              "fillmode": "overlay",
              "size": 10,
              "solidity": 0.2
             }
            },
            "type": "histogram"
           }
          ],
          "histogram2d": [
           {
            "colorbar": {
             "outlinewidth": 0,
             "ticks": ""
            },
            "colorscale": [
             [
              0,
              "#0d0887"
             ],
             [
              0.1111111111111111,
              "#46039f"
             ],
             [
              0.2222222222222222,
              "#7201a8"
             ],
             [
              0.3333333333333333,
              "#9c179e"
             ],
             [
              0.4444444444444444,
              "#bd3786"
             ],
             [
              0.5555555555555556,
              "#d8576b"
             ],
             [
              0.6666666666666666,
              "#ed7953"
             ],
             [
              0.7777777777777778,
              "#fb9f3a"
             ],
             [
              0.8888888888888888,
              "#fdca26"
             ],
             [
              1,
              "#f0f921"
             ]
            ],
            "type": "histogram2d"
           }
          ],
          "histogram2dcontour": [
           {
            "colorbar": {
             "outlinewidth": 0,
             "ticks": ""
            },
            "colorscale": [
             [
              0,
              "#0d0887"
             ],
             [
              0.1111111111111111,
              "#46039f"
             ],
             [
              0.2222222222222222,
              "#7201a8"
             ],
             [
              0.3333333333333333,
              "#9c179e"
             ],
             [
              0.4444444444444444,
              "#bd3786"
             ],
             [
              0.5555555555555556,
              "#d8576b"
             ],
             [
              0.6666666666666666,
              "#ed7953"
             ],
             [
              0.7777777777777778,
              "#fb9f3a"
             ],
             [
              0.8888888888888888,
              "#fdca26"
             ],
             [
              1,
              "#f0f921"
             ]
            ],
            "type": "histogram2dcontour"
           }
          ],
          "mesh3d": [
           {
            "colorbar": {
             "outlinewidth": 0,
             "ticks": ""
            },
            "type": "mesh3d"
           }
          ],
          "parcoords": [
           {
            "line": {
             "colorbar": {
              "outlinewidth": 0,
              "ticks": ""
             }
            },
            "type": "parcoords"
           }
          ],
          "pie": [
           {
            "automargin": true,
            "type": "pie"
           }
          ],
          "scatter": [
           {
            "marker": {
             "line": {
              "color": "#283442"
             }
            },
            "type": "scatter"
           }
          ],
          "scatter3d": [
           {
            "line": {
             "colorbar": {
              "outlinewidth": 0,
              "ticks": ""
             }
            },
            "marker": {
             "colorbar": {
              "outlinewidth": 0,
              "ticks": ""
             }
            },
            "type": "scatter3d"
           }
          ],
          "scattercarpet": [
           {
            "marker": {
             "colorbar": {
              "outlinewidth": 0,
              "ticks": ""
             }
            },
            "type": "scattercarpet"
           }
          ],
          "scattergeo": [
           {
            "marker": {
             "colorbar": {
              "outlinewidth": 0,
              "ticks": ""
             }
            },
            "type": "scattergeo"
           }
          ],
          "scattergl": [
           {
            "marker": {
             "line": {
              "color": "#283442"
             }
            },
            "type": "scattergl"
           }
          ],
          "scattermapbox": [
           {
            "marker": {
             "colorbar": {
              "outlinewidth": 0,
              "ticks": ""
             }
            },
            "type": "scattermapbox"
           }
          ],
          "scatterpolar": [
           {
            "marker": {
             "colorbar": {
              "outlinewidth": 0,
              "ticks": ""
             }
            },
            "type": "scatterpolar"
           }
          ],
          "scatterpolargl": [
           {
            "marker": {
             "colorbar": {
              "outlinewidth": 0,
              "ticks": ""
             }
            },
            "type": "scatterpolargl"
           }
          ],
          "scatterternary": [
           {
            "marker": {
             "colorbar": {
              "outlinewidth": 0,
              "ticks": ""
             }
            },
            "type": "scatterternary"
           }
          ],
          "surface": [
           {
            "colorbar": {
             "outlinewidth": 0,
             "ticks": ""
            },
            "colorscale": [
             [
              0,
              "#0d0887"
             ],
             [
              0.1111111111111111,
              "#46039f"
             ],
             [
              0.2222222222222222,
              "#7201a8"
             ],
             [
              0.3333333333333333,
              "#9c179e"
             ],
             [
              0.4444444444444444,
              "#bd3786"
             ],
             [
              0.5555555555555556,
              "#d8576b"
             ],
             [
              0.6666666666666666,
              "#ed7953"
             ],
             [
              0.7777777777777778,
              "#fb9f3a"
             ],
             [
              0.8888888888888888,
              "#fdca26"
             ],
             [
              1,
              "#f0f921"
             ]
            ],
            "type": "surface"
           }
          ],
          "table": [
           {
            "cells": {
             "fill": {
              "color": "#506784"
             },
             "line": {
              "color": "rgb(17,17,17)"
             }
            },
            "header": {
             "fill": {
              "color": "#2a3f5f"
             },
             "line": {
              "color": "rgb(17,17,17)"
             }
            },
            "type": "table"
           }
          ]
         },
         "layout": {
          "annotationdefaults": {
           "arrowcolor": "#f2f5fa",
           "arrowhead": 0,
           "arrowwidth": 1
          },
          "autotypenumbers": "strict",
          "coloraxis": {
           "colorbar": {
            "outlinewidth": 0,
            "ticks": ""
           }
          },
          "colorscale": {
           "diverging": [
            [
             0,
             "#8e0152"
            ],
            [
             0.1,
             "#c51b7d"
            ],
            [
             0.2,
             "#de77ae"
            ],
            [
             0.3,
             "#f1b6da"
            ],
            [
             0.4,
             "#fde0ef"
            ],
            [
             0.5,
             "#f7f7f7"
            ],
            [
             0.6,
             "#e6f5d0"
            ],
            [
             0.7,
             "#b8e186"
            ],
            [
             0.8,
             "#7fbc41"
            ],
            [
             0.9,
             "#4d9221"
            ],
            [
             1,
             "#276419"
            ]
           ],
           "sequential": [
            [
             0,
             "#0d0887"
            ],
            [
             0.1111111111111111,
             "#46039f"
            ],
            [
             0.2222222222222222,
             "#7201a8"
            ],
            [
             0.3333333333333333,
             "#9c179e"
            ],
            [
             0.4444444444444444,
             "#bd3786"
            ],
            [
             0.5555555555555556,
             "#d8576b"
            ],
            [
             0.6666666666666666,
             "#ed7953"
            ],
            [
             0.7777777777777778,
             "#fb9f3a"
            ],
            [
             0.8888888888888888,
             "#fdca26"
            ],
            [
             1,
             "#f0f921"
            ]
           ],
           "sequentialminus": [
            [
             0,
             "#0d0887"
            ],
            [
             0.1111111111111111,
             "#46039f"
            ],
            [
             0.2222222222222222,
             "#7201a8"
            ],
            [
             0.3333333333333333,
             "#9c179e"
            ],
            [
             0.4444444444444444,
             "#bd3786"
            ],
            [
             0.5555555555555556,
             "#d8576b"
            ],
            [
             0.6666666666666666,
             "#ed7953"
            ],
            [
             0.7777777777777778,
             "#fb9f3a"
            ],
            [
             0.8888888888888888,
             "#fdca26"
            ],
            [
             1,
             "#f0f921"
            ]
           ]
          },
          "colorway": [
           "#636efa",
           "#EF553B",
           "#00cc96",
           "#ab63fa",
           "#FFA15A",
           "#19d3f3",
           "#FF6692",
           "#B6E880",
           "#FF97FF",
           "#FECB52"
          ],
          "font": {
           "color": "#f2f5fa"
          },
          "geo": {
           "bgcolor": "rgb(17,17,17)",
           "lakecolor": "rgb(17,17,17)",
           "landcolor": "rgb(17,17,17)",
           "showlakes": true,
           "showland": true,
           "subunitcolor": "#506784"
          },
          "hoverlabel": {
           "align": "left"
          },
          "hovermode": "closest",
          "mapbox": {
           "style": "dark"
          },
          "paper_bgcolor": "rgb(17,17,17)",
          "plot_bgcolor": "rgb(17,17,17)",
          "polar": {
           "angularaxis": {
            "gridcolor": "#506784",
            "linecolor": "#506784",
            "ticks": ""
           },
           "bgcolor": "rgb(17,17,17)",
           "radialaxis": {
            "gridcolor": "#506784",
            "linecolor": "#506784",
            "ticks": ""
           }
          },
          "scene": {
           "xaxis": {
            "backgroundcolor": "rgb(17,17,17)",
            "gridcolor": "#506784",
            "gridwidth": 2,
            "linecolor": "#506784",
            "showbackground": true,
            "ticks": "",
            "zerolinecolor": "#C8D4E3"
           },
           "yaxis": {
            "backgroundcolor": "rgb(17,17,17)",
            "gridcolor": "#506784",
            "gridwidth": 2,
            "linecolor": "#506784",
            "showbackground": true,
            "ticks": "",
            "zerolinecolor": "#C8D4E3"
           },
           "zaxis": {
            "backgroundcolor": "rgb(17,17,17)",
            "gridcolor": "#506784",
            "gridwidth": 2,
            "linecolor": "#506784",
            "showbackground": true,
            "ticks": "",
            "zerolinecolor": "#C8D4E3"
           }
          },
          "shapedefaults": {
           "line": {
            "color": "#f2f5fa"
           }
          },
          "sliderdefaults": {
           "bgcolor": "#C8D4E3",
           "bordercolor": "rgb(17,17,17)",
           "borderwidth": 1,
           "tickwidth": 0
          },
          "ternary": {
           "aaxis": {
            "gridcolor": "#506784",
            "linecolor": "#506784",
            "ticks": ""
           },
           "baxis": {
            "gridcolor": "#506784",
            "linecolor": "#506784",
            "ticks": ""
           },
           "bgcolor": "rgb(17,17,17)",
           "caxis": {
            "gridcolor": "#506784",
            "linecolor": "#506784",
            "ticks": ""
           }
          },
          "title": {
           "x": 0.05
          },
          "updatemenudefaults": {
           "bgcolor": "#506784",
           "borderwidth": 0
          },
          "xaxis": {
           "automargin": true,
           "gridcolor": "#283442",
           "linecolor": "#506784",
           "ticks": "",
           "title": {
            "standoff": 15
           },
           "zerolinecolor": "#283442",
           "zerolinewidth": 2
          },
          "yaxis": {
           "automargin": true,
           "gridcolor": "#283442",
           "linecolor": "#506784",
           "ticks": "",
           "title": {
            "standoff": 15
           },
           "zerolinecolor": "#283442",
           "zerolinewidth": 2
          }
         }
        },
        "title": {
         "text": "OHLC vs Prediction Over Time"
        },
        "xaxis": {
         "rangeslider": {
          "visible": false
         }
        },
        "yaxis": {
         "tickformat": ".0f"
        },
        "yaxis2": {
         "overlaying": "y",
         "side": "right",
         "tickformat": ".0%"
        }
       }
      }
     },
     "metadata": {},
     "output_type": "display_data"
    }
   ],
   "source": [
    "test_df = df_results.loc[test_day:test_day]\n",
    "X_prices = spx_data.loc[test_day:test_day, ['open','high','low','close']]\n",
    "\n",
    "df_viz = test_df.merge(X_prices, left_index=True, right_index=True)\n",
    "\n",
    "fig = go.Figure(data=[go.Candlestick(x=df_viz.index,\n",
    "                open=df_viz['open'],\n",
    "                high=df_viz['high'],\n",
    "                low=df_viz['low'],\n",
    "                close=df_viz['close'])])\n",
    "\n",
    "# fig.add_trace(go.Scatter(x=df_viz.index, y=df_viz['pred_hod'].ewm(2).mean(), mode='lines', name='pred_hod', yaxis='y2', line=dict(color='#ff5f5f')))\n",
    "fig.add_trace(go.Scatter(x=df_viz.index, y=df_viz['pred_hod_cv'], mode='lines', name='pred_hod', yaxis='y2', line=dict(color='#ff5f5f')))\n",
    "fig.add_trace(go.Scatter(x=df_viz.index, y=df_viz['pred_lod_cv'], mode='lines', name='pred_lod', yaxis='y2', line=dict(color='#3399cc')))\n",
    "fig.add_trace(go.Scatter(x=df_viz.index, y=df_viz['pred_gd_cv'], mode='lines', name='pred_lod', yaxis='y2', line=dict(color='#98ff98')))\n",
    "\n",
    "fig.add_shape(\n",
    "    type=\"line\",\n",
    "    x0=df_viz.index.min(),\n",
    "    x1=df_viz.index.max(),\n",
    "    y0=0.5,\n",
    "    y1=0.5,\n",
    "    yref='y2',\n",
    "    line=dict(\n",
    "        color=\"Red\",\n",
    "        width=1.5,\n",
    "        dash=\"dash\",\n",
    "    )\n",
    ")\n",
    "\n",
    "fig.update_layout(\n",
    "    template='plotly_dark',\n",
    "    yaxis=dict(\n",
    "        tickformat='.0f'\n",
    "    ),\n",
    "    yaxis2=dict(\n",
    "        overlaying='y',\n",
    "        side='right',\n",
    "        tickformat=\".0%\"\n",
    "    ),\n",
    "    legend=dict(\n",
    "        orientation=\"h\",\n",
    "        yanchor=\"bottom\",\n",
    "        y=1.02,\n",
    "        xanchor=\"right\",\n",
    "        x=1\n",
    "    ),\n",
    "    title='OHLC vs Prediction Over Time',\n",
    "    xaxis_rangeslider_visible=False\n",
    ")\n",
    "\n",
    "fig.show()"
   ]
  },
  {
   "cell_type": "code",
   "execution_count": 63,
   "metadata": {},
   "outputs": [
    {
     "ename": "NameError",
     "evalue": "name 'XXX' is not defined",
     "output_type": "error",
     "traceback": [
      "\u001b[1;31m---------------------------------------------------------------------------\u001b[0m",
      "\u001b[1;31mNameError\u001b[0m                                 Traceback (most recent call last)",
      "Cell \u001b[1;32mIn[63], line 1\u001b[0m\n\u001b[1;32m----> 1\u001b[0m \u001b[43mXXX\u001b[49m\n",
      "\u001b[1;31mNameError\u001b[0m: name 'XXX' is not defined"
     ]
    }
   ],
   "source": [
    "XXX"
   ]
  },
  {
   "cell_type": "markdown",
   "metadata": {},
   "source": [
    "# Inference Pipeline"
   ]
  },
  {
   "cell_type": "code",
   "execution_count": null,
   "metadata": {},
   "outputs": [],
   "source": [
    "# Get data\n",
    "import yfinance as yf\n",
    "import numpy as np\n",
    "import pandas as pd\n",
    "import datetime\n",
    "\n",
    "# Create a list of times from 9:30 to 15:55 with 5 minute intervals\n",
    "times = pd.date_range(start=\"9:30\", end=\"15:55\", freq='5min').time\n",
    "\n",
    "# Create a dictionary that maps each time to a unique integer\n",
    "time_to_int = {time: i+1 for i, time in enumerate(times)}\n",
    "\n",
    "\n",
    "def create_features(ticker_str):\n",
    "    '''\n",
    "    Function to create dataframe of features for top/bottom model.\n",
    "    '''\n",
    "    ticker = yf.Ticker(ticker_str)\n",
    "    df = ticker.history(period='5d',interval='5m')\n",
    "    df = df.loc[\n",
    "        (df.index.time >= datetime.time(9,30)) &\\\n",
    "        (df.index.time < datetime.time(16,0)),\n",
    "    ['Open','High','Low','Close']]\n",
    "    df.columns = ['open','high','low','close']\n",
    "\n",
    "    df['time'] = df.index.time\n",
    "    df['eod_close'] = df.groupby(df.index.date)['close'].tail(1)\n",
    "    df['prev_close'] = df['eod_close'].shift(1)\n",
    "    df['prev_close'] = df['prev_close'].ffill()\n",
    "    df['eod_close'] = df['eod_close'].bfill()\n",
    "    df['green_day'] = df['eod_close'] > df['prev_close']\n",
    "\n",
    "    # Assume df is your DataFrame and 'time' is your column of times\n",
    "    df['bar_num'] = df['time'].map(time_to_int)\n",
    "\n",
    "    df['eod_close_pts'] = df['eod_close'] - df['prev_close']\n",
    "    df['eod_close_pct'] = df['eod_close_pts'] / df['prev_close']\n",
    "\n",
    "    for day in sorted(set(df.index.date)):\n",
    "        day_str = datetime.datetime.strftime(day, '%Y-%m-%d')\n",
    "        day_open = df.loc[day_str, 'open'].iloc[0]\n",
    "        df.loc[day_str, 'lod'] = df.loc[day_str, 'low'].min()\n",
    "        df.loc[day_str, 'label_lod'] = (df.loc[day_str, 'low'] == df.loc[day_str, 'lod']).astype(int)\n",
    "        \n",
    "        df.loc[day_str, 'hod'] = df.loc[day_str, 'high'].max()\n",
    "        df.loc[day_str, 'label'] = (df.loc[day_str, 'high'] == df.loc[day_str, 'hod']).astype(int)\n",
    "        df.loc[day_str, 'day_open'] = day_open\n",
    "        df.loc[day_str, 'day_open_pts'] = df.loc[day_str, 'close'] - df.loc[day_str, 'day_open']\n",
    "        df.loc[day_str, 'day_open_pct'] = df.loc[day_str, 'day_open_pts'] / df.loc[day_str, 'day_open']\n",
    "        df.loc[day_str, 'prev_close_pts'] = df.loc[day_str, 'close'] - df.loc[day_str, 'prev_close']\n",
    "        df.loc[day_str, 'prev_close_pct'] = df.loc[day_str, 'prev_close_pts'] / df.loc[day_str, 'prev_close']\n",
    "\n",
    "        # Lowest low\n",
    "        df.loc[day_str, 'lowest_low'] = df.loc[day_str, 'low'].expanding().min()\n",
    "        df.loc[day_str, 'lowest_low'] = df.loc[day_str, 'lowest_low'].shift(1)\n",
    "        df.loc[day_str, 'lowest_low'] = df.loc[day_str, 'lowest_low'].ffill()\n",
    "        df.loc[day_str, 'lowest_low_mag'] = (df.loc[day_str, 'close'] / df.loc[day_str, 'lowest_low']) - 1\n",
    "\n",
    "        # Highest high\n",
    "        df.loc[day_str, 'highest_high'] = df.loc[day_str, 'high'].expanding().max()\n",
    "        df.loc[day_str, 'highest_high'] = df.loc[day_str, 'highest_high'].shift(1)\n",
    "        df.loc[day_str, 'highest_high'] = df.loc[day_str, 'highest_high'].ffill()\n",
    "        df.loc[day_str, 'highest_high_mag'] = (df.loc[day_str, 'close'] / df.loc[day_str, 'highest_high']) - 1\n",
    "\n",
    "        # Shifted\n",
    "        df.loc[day_str, 'prev_close_pct_n1'] = df.loc[day_str, 'prev_close_pct'].shift(1)\n",
    "        df.loc[day_str, 'prev_close_pct_n2'] = df.loc[day_str, 'prev_close_pct'].shift(2)\n",
    "        df.loc[day_str, 'prev_close_pct_n3'] = df.loc[day_str, 'prev_close_pct'].shift(3)\n",
    "\n",
    "        df.loc[day_str, 'day_open_pct_n1'] = df.loc[day_str, 'day_open_pct'].shift(1)\n",
    "        df.loc[day_str, 'day_open_pct_n2'] = df.loc[day_str, 'day_open_pct'].shift(2)\n",
    "        df.loc[day_str, 'day_open_pct_n3'] = df.loc[day_str, 'day_open_pct'].shift(3)\n",
    "\n",
    "        # New Features\n",
    "        df.loc[day_str, 'open_slope'] = df.loc[day_str, 'day_open_pct'] / df.loc[day_str, 'bar_num']\n",
    "        df.loc[day_str, 'daily_slope'] = df.loc[day_str, 'prev_close_pct'] / df.loc[day_str, 'bar_num']\n",
    "\n",
    "        df.loc[day_str, 'highest_high_slope'] = (df.loc[day_str, 'close'] - df.loc[day_str, 'highest_high']) / df.loc[day_str, 'bar_num']\n",
    "        df.loc[day_str, 'lowest_low_slope'] = (df.loc[day_str, 'close'] - df.loc[day_str, 'lowest_low']) / df.loc[day_str, 'bar_num']\n",
    "    \n",
    "        \n",
    "    df['gap_open'] = df['day_open'] - df['prev_close']\n",
    "    df['gap_open_pct'] = df['gap_open'] / df['prev_close']\n",
    "    df = df.dropna(subset=[\n",
    "        'prev_close_pct',\n",
    "        'gap_open_pct',\n",
    "        'day_open_pct_n3',\n",
    "        'prev_close_pct_n3'\n",
    "    ])\n",
    "    df = df.loc[(df['time'] < datetime.time(16,0)) & (df['time'] >= datetime.time(9,45))]\n",
    "    return df"
   ]
  },
  {
   "cell_type": "code",
   "execution_count": null,
   "metadata": {},
   "outputs": [],
   "source": [
    "import joblib\n",
    "\n",
    "df_feats = create_features(tck)"
   ]
  },
  {
   "cell_type": "code",
   "execution_count": null,
   "metadata": {},
   "outputs": [],
   "source": [
    "\n",
    "hod_model1 = joblib.load(ticker_dict[tck]['hod_model'])\n",
    "lod_model1 = joblib.load(ticker_dict[tck]['lod_model'])\n",
    "gd_model1 = joblib.load(ticker_dict[tck]['gd_model'])\n",
    "\n",
    "def create_preds_df(df_feats):\n",
    "    predicted_proba_hod = hod_model1.predict_proba(df_feats)[:,-1]\n",
    "    predicted_proba_lod = lod_model1.predict_proba(df_feats)[:,-1]\n",
    "    predicted_proba_gd = gd_model1.predict_proba(df_feats)[:,-1]\n",
    "    df_viz = df_feats.copy()\n",
    "    df_viz['pred_hod'] = predicted_proba_hod\n",
    "    df_viz['pred_lod'] = predicted_proba_lod\n",
    "    df_viz['pred_gd'] = predicted_proba_gd\n",
    "    return df_viz\n",
    "\n",
    "df_viz = create_preds_df(df_feats)"
   ]
  },
  {
   "cell_type": "code",
   "execution_count": null,
   "metadata": {},
   "outputs": [],
   "source": [
    "# Create df for visual\n",
    "def create_viz(df_viz, date_str):\n",
    "\n",
    "    df_use = df_viz.loc[date_str:date_str]\n",
    "    \n",
    "    fig = go.Figure(data=[go.Candlestick(x=df_use.index,\n",
    "                open=df_use['open'],\n",
    "                high=df_use['high'],\n",
    "                low=df_use['low'],\n",
    "                close=df_use['close'])])\n",
    "\n",
    "    fig.add_trace(go.Scatter(x=df_use.index, y=df_use['pred_hod'], mode='lines', name='pred_hod', yaxis='y2', line=dict(color='#ff5f5f')))\n",
    "    fig.add_trace(go.Scatter(x=df_use.index, y=df_use['pred_lod'], mode='lines', name='pred_lod', yaxis='y2', line=dict(color='#3399cc')))\n",
    "    fig.add_trace(go.Scatter(x=df_use.index, y=df_use['pred_gd'], mode='lines', name='pred_gd', yaxis='y2', line=dict(color='#9400d3')))\n",
    "\n",
    "\n",
    "    fig.add_shape(\n",
    "        type=\"line\",\n",
    "        x0=df_use.index.min(),\n",
    "        x1=df_use.index.max(),\n",
    "        y0=0.5,\n",
    "        y1=0.5,\n",
    "        yref='y2',\n",
    "        line=dict(\n",
    "            color=\"Red\",\n",
    "            width=1.5,\n",
    "            dash=\"dash\",\n",
    "        )\n",
    "    )\n",
    "\n",
    "    max_high = df_use['high'].max()\n",
    "    max_high_time = df_use['high'].idxmax()\n",
    "\n",
    "    min_low = df_use['low'].min()\n",
    "    min_low_time = df_use['low'].idxmin()\n",
    "\n",
    "    fig.add_annotation(\n",
    "        x=max_high_time,\n",
    "        y=max_high,\n",
    "        text=f\"{str(int(max_high))}\",\n",
    "        showarrow=True,\n",
    "        font=dict(\n",
    "            family=\"Courier New, monospace\",\n",
    "            size=12,\n",
    "            color=\"#ffffff\"\n",
    "        ),\n",
    "        align=\"center\",\n",
    "        arrowhead=2,\n",
    "        arrowsize=1,\n",
    "        arrowwidth=2,\n",
    "        arrowcolor=\"#636363\",\n",
    "        ax=20,\n",
    "        ay=-30,\n",
    "        bordercolor=\"#c7c7c7\",\n",
    "        borderwidth=1,\n",
    "        borderpad=1,\n",
    "        bgcolor=\"#ff5f5f\",\n",
    "        opacity=0.8\n",
    "    )\n",
    "\n",
    "    fig.add_annotation(\n",
    "        x=min_low_time,\n",
    "        y=min_low,\n",
    "        text=f\"{str(int(min_low))}\",\n",
    "        showarrow=True,\n",
    "        font=dict(\n",
    "            family=\"Courier New, monospace\",\n",
    "            size=12,\n",
    "            color=\"#ffffff\"\n",
    "        ),\n",
    "        align=\"center\",\n",
    "        arrowhead=2,\n",
    "        arrowsize=1,\n",
    "        arrowwidth=2,\n",
    "        arrowcolor=\"#636363\",\n",
    "        ax=20,\n",
    "        ay=30,  # Adjust the y offset for the annotation\n",
    "        bordercolor=\"#c7c7c7\",\n",
    "        borderwidth=1,\n",
    "        borderpad=1,\n",
    "        bgcolor=\"#3399cc\",\n",
    "        opacity=0.8\n",
    "    )\n",
    "\n",
    "    fig.update_layout(\n",
    "        template='plotly_dark',\n",
    "        yaxis=dict(\n",
    "            tickformat='.0f'\n",
    "        ),\n",
    "        yaxis2=dict(\n",
    "            overlaying='y',\n",
    "            side='right',\n",
    "            tickformat=\".0%\"\n",
    "        ),\n",
    "        legend=dict(\n",
    "            orientation=\"h\",\n",
    "            yanchor=\"bottom\",\n",
    "            y=1.02,\n",
    "            xanchor=\"right\",\n",
    "            x=1\n",
    "        ),\n",
    "        title='OHLC vs Prediction Over Time',\n",
    "        xaxis_rangeslider_visible=False\n",
    "    )\n",
    "\n",
    "    fig.show()\n",
    "    "
   ]
  },
  {
   "cell_type": "code",
   "execution_count": null,
   "metadata": {},
   "outputs": [],
   "source": [
    "df_viz"
   ]
  },
  {
   "cell_type": "code",
   "execution_count": null,
   "metadata": {},
   "outputs": [],
   "source": [
    "create_viz(df_viz, '2024-01-10')"
   ]
  },
  {
   "cell_type": "code",
   "execution_count": null,
   "metadata": {},
   "outputs": [],
   "source": [
    "XXX"
   ]
  },
  {
   "cell_type": "code",
   "execution_count": null,
   "metadata": {},
   "outputs": [],
   "source": []
  },
  {
   "cell_type": "markdown",
   "metadata": {},
   "source": []
  }
 ],
 "metadata": {
  "kernelspec": {
   "display_name": ".venv",
   "language": "python",
   "name": "python3"
  },
  "language_info": {
   "codemirror_mode": {
    "name": "ipython",
    "version": 3
   },
   "file_extension": ".py",
   "mimetype": "text/x-python",
   "name": "python",
   "nbconvert_exporter": "python",
   "pygments_lexer": "ipython3",
   "version": "3.10.11"
  }
 },
 "nbformat": 4,
 "nbformat_minor": 2
}
