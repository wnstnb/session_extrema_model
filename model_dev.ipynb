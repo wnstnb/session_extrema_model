{
 "cells": [
  {
   "cell_type": "code",
   "execution_count": 1,
   "metadata": {},
   "outputs": [],
   "source": [
    "from dbConn import engine\n",
    "import pandas as pd\n",
    "import numpy as np\n",
    "from tqdm import tqdm"
   ]
  },
  {
   "cell_type": "code",
   "execution_count": 2,
   "metadata": {},
   "outputs": [],
   "source": [
    "base_query = '''\n",
    "SELECT \n",
    "    spx.Datetime,\n",
    "    spx.Open AS Open_SPX,\n",
    "    spx.High AS High_SPX,\n",
    "    spx.Low AS Low_SPX,\n",
    "    spx.Close AS Close_SPX,\n",
    "    ndx.Open AS Open_NDX,\n",
    "    ndx.High AS High_NDX,\n",
    "    ndx.Low AS Low_NDX,\n",
    "    ndx.Close AS Close_NDX,\n",
    "    rut.Open AS Open_RUT,\n",
    "    rut.High AS High_RUT,\n",
    "    rut.Low AS Low_RUT,\n",
    "    rut.Close AS Close_RUT\n",
    "    FROM (\n",
    "    SELECT * FROM SPX_full_5min\n",
    "    ) spx\n",
    "    JOIN (\n",
    "    SELECT * FROM NDX_full_5min\n",
    "    ) ndx ON spx.Datetime = ndx.Datetime\n",
    "    LEFT JOIN (\n",
    "    SELECT * FROM RUT_full_5min\n",
    "    ) rut ON spx.Datetime = rut.Datetime\n",
    "-- WHERE spx.Datetime >= '2018-01-01'\n",
    "'''\n",
    "\n",
    "# Initialize variables for pagination\n",
    "offset = 0\n",
    "limit = 50000\n",
    "data_frames = []\n",
    "\n",
    "while True:\n",
    "    # Construct the query with LIMIT and OFFSET\n",
    "    query = f\"{base_query} LIMIT {limit} OFFSET {offset}\"\n",
    "    \n",
    "    # Fetch the chunk of data\n",
    "    df_chunk = pd.read_sql_query(query, con = engine.connect())\n",
    "    \n",
    "    # Break the loop if no more data is returned\n",
    "    if df_chunk.empty:\n",
    "        break\n",
    "\n",
    "    # Append the chunk to the list of dataframes\n",
    "    data_frames.append(df_chunk)\n",
    "\n",
    "    # Update the offset for the next query\n",
    "    offset += limit\n",
    "\n",
    "# Concatenate all dataframes\n",
    "data = pd.concat(data_frames, ignore_index=True)"
   ]
  },
  {
   "cell_type": "code",
   "execution_count": 3,
   "metadata": {},
   "outputs": [
    {
     "data": {
      "text/plain": [
       "331276"
      ]
     },
     "execution_count": 3,
     "metadata": {},
     "output_type": "execute_result"
    }
   ],
   "source": [
    "len(data)"
   ]
  },
  {
   "cell_type": "code",
   "execution_count": 4,
   "metadata": {},
   "outputs": [
    {
     "data": {
      "text/html": [
       "<div>\n",
       "<style scoped>\n",
       "    .dataframe tbody tr th:only-of-type {\n",
       "        vertical-align: middle;\n",
       "    }\n",
       "\n",
       "    .dataframe tbody tr th {\n",
       "        vertical-align: top;\n",
       "    }\n",
       "\n",
       "    .dataframe thead th {\n",
       "        text-align: right;\n",
       "    }\n",
       "</style>\n",
       "<table border=\"1\" class=\"dataframe\">\n",
       "  <thead>\n",
       "    <tr style=\"text-align: right;\">\n",
       "      <th></th>\n",
       "      <th>Datetime</th>\n",
       "      <th>Open_SPX</th>\n",
       "      <th>High_SPX</th>\n",
       "      <th>Low_SPX</th>\n",
       "      <th>Close_SPX</th>\n",
       "      <th>Open_NDX</th>\n",
       "      <th>High_NDX</th>\n",
       "      <th>Low_NDX</th>\n",
       "      <th>Close_NDX</th>\n",
       "      <th>Open_RUT</th>\n",
       "      <th>High_RUT</th>\n",
       "      <th>Low_RUT</th>\n",
       "      <th>Close_RUT</th>\n",
       "    </tr>\n",
       "  </thead>\n",
       "  <tbody>\n",
       "    <tr>\n",
       "      <th>0</th>\n",
       "      <td>2007-04-27 12:20:00</td>\n",
       "      <td>1492.19</td>\n",
       "      <td>1492.40</td>\n",
       "      <td>1492.19</td>\n",
       "      <td>1492.38</td>\n",
       "      <td>1887.90</td>\n",
       "      <td>1887.91</td>\n",
       "      <td>1886.97</td>\n",
       "      <td>1887.65</td>\n",
       "      <td>829.54</td>\n",
       "      <td>829.55</td>\n",
       "      <td>829.35</td>\n",
       "      <td>829.41</td>\n",
       "    </tr>\n",
       "    <tr>\n",
       "      <th>1</th>\n",
       "      <td>2007-04-27 12:25:00</td>\n",
       "      <td>1492.39</td>\n",
       "      <td>1492.91</td>\n",
       "      <td>1492.39</td>\n",
       "      <td>1492.87</td>\n",
       "      <td>1887.72</td>\n",
       "      <td>1888.32</td>\n",
       "      <td>1887.72</td>\n",
       "      <td>1888.27</td>\n",
       "      <td>829.42</td>\n",
       "      <td>829.68</td>\n",
       "      <td>829.42</td>\n",
       "      <td>829.68</td>\n",
       "    </tr>\n",
       "    <tr>\n",
       "      <th>2</th>\n",
       "      <td>2007-04-27 12:30:00</td>\n",
       "      <td>1492.54</td>\n",
       "      <td>1492.80</td>\n",
       "      <td>1492.53</td>\n",
       "      <td>1492.58</td>\n",
       "      <td>1887.77</td>\n",
       "      <td>1888.68</td>\n",
       "      <td>1887.65</td>\n",
       "      <td>1888.13</td>\n",
       "      <td>829.65</td>\n",
       "      <td>829.84</td>\n",
       "      <td>829.65</td>\n",
       "      <td>829.73</td>\n",
       "    </tr>\n",
       "    <tr>\n",
       "      <th>3</th>\n",
       "      <td>2007-04-27 12:35:00</td>\n",
       "      <td>1492.70</td>\n",
       "      <td>1492.88</td>\n",
       "      <td>1492.30</td>\n",
       "      <td>1492.88</td>\n",
       "      <td>1888.09</td>\n",
       "      <td>1888.24</td>\n",
       "      <td>1887.27</td>\n",
       "      <td>1888.24</td>\n",
       "      <td>829.65</td>\n",
       "      <td>829.65</td>\n",
       "      <td>829.25</td>\n",
       "      <td>829.38</td>\n",
       "    </tr>\n",
       "    <tr>\n",
       "      <th>4</th>\n",
       "      <td>2007-04-27 12:40:00</td>\n",
       "      <td>1492.88</td>\n",
       "      <td>1494.46</td>\n",
       "      <td>1492.88</td>\n",
       "      <td>1493.94</td>\n",
       "      <td>1888.26</td>\n",
       "      <td>1890.01</td>\n",
       "      <td>1888.26</td>\n",
       "      <td>1889.31</td>\n",
       "      <td>829.39</td>\n",
       "      <td>830.08</td>\n",
       "      <td>829.39</td>\n",
       "      <td>830.03</td>\n",
       "    </tr>\n",
       "  </tbody>\n",
       "</table>\n",
       "</div>"
      ],
      "text/plain": [
       "             Datetime  Open_SPX  High_SPX  Low_SPX  Close_SPX  Open_NDX  \\\n",
       "0 2007-04-27 12:20:00   1492.19   1492.40  1492.19    1492.38   1887.90   \n",
       "1 2007-04-27 12:25:00   1492.39   1492.91  1492.39    1492.87   1887.72   \n",
       "2 2007-04-27 12:30:00   1492.54   1492.80  1492.53    1492.58   1887.77   \n",
       "3 2007-04-27 12:35:00   1492.70   1492.88  1492.30    1492.88   1888.09   \n",
       "4 2007-04-27 12:40:00   1492.88   1494.46  1492.88    1493.94   1888.26   \n",
       "\n",
       "   High_NDX  Low_NDX  Close_NDX  Open_RUT  High_RUT  Low_RUT  Close_RUT  \n",
       "0   1887.91  1886.97    1887.65    829.54    829.55   829.35     829.41  \n",
       "1   1888.32  1887.72    1888.27    829.42    829.68   829.42     829.68  \n",
       "2   1888.68  1887.65    1888.13    829.65    829.84   829.65     829.73  \n",
       "3   1888.24  1887.27    1888.24    829.65    829.65   829.25     829.38  \n",
       "4   1890.01  1888.26    1889.31    829.39    830.08   829.39     830.03  "
      ]
     },
     "execution_count": 4,
     "metadata": {},
     "output_type": "execute_result"
    }
   ],
   "source": [
    "data.head()"
   ]
  },
  {
   "cell_type": "code",
   "execution_count": 5,
   "metadata": {},
   "outputs": [],
   "source": [
    "data['Date'] = data['Datetime'].dt.date\n",
    "data['Time'] = data['Datetime'].dt.time"
   ]
  },
  {
   "cell_type": "code",
   "execution_count": 6,
   "metadata": {},
   "outputs": [
    {
     "data": {
      "text/plain": [
       "Timestamp('2007-04-27 12:20:00')"
      ]
     },
     "execution_count": 6,
     "metadata": {},
     "output_type": "execute_result"
    }
   ],
   "source": [
    "data['Datetime'].min()"
   ]
  },
  {
   "cell_type": "code",
   "execution_count": 7,
   "metadata": {},
   "outputs": [
    {
     "data": {
      "text/plain": [
       "Timestamp('2024-01-12 16:00:00')"
      ]
     },
     "execution_count": 7,
     "metadata": {},
     "output_type": "execute_result"
    }
   ],
   "source": [
    "data['Datetime'].max()"
   ]
  },
  {
   "cell_type": "code",
   "execution_count": 8,
   "metadata": {},
   "outputs": [],
   "source": [
    "import datetime"
   ]
  },
  {
   "cell_type": "markdown",
   "metadata": {},
   "source": [
    "# Start Run Models"
   ]
  },
  {
   "cell_type": "code",
   "execution_count": 115,
   "metadata": {},
   "outputs": [],
   "source": [
    "ticker_dict = {\n",
    "    \"^GSPC\":{\n",
    "        \"hod_model\":\"models/hod_model_spx.joblib\",\n",
    "        \"lod_model\":\"models/lod_model_spx.joblib\",\n",
    "        \"gd_model\":\"models/gd_model_spx.joblib\",\n",
    "        \"suffix\":\"SPX\"\n",
    "    },\n",
    "    \"^NDX\":{\n",
    "        \"hod_model\":\"models/hod_model_ndx.joblib\",\n",
    "        \"lod_model\":\"models/lod_model_ndx.joblib\",\n",
    "        \"gd_model\":\"models/gd_model_ndx.joblib\",\n",
    "        \"suffix\":\"NDX\"\n",
    "    },\n",
    "    \"^RUT\":{\n",
    "        \"hod_model\":\"models/hod_model_rut.joblib\",\n",
    "        \"lod_model\":\"models/lod_model_rut.joblib\",\n",
    "        \"gd_model\":\"models/gd_model_rut.joblib\",\n",
    "        \"suffix\":\"RUT\"\n",
    "    }\n",
    "}\n",
    "\n",
    "tck = '^RUT'\n",
    "\n",
    "spx_data = data.loc[:,[\n",
    "    'Datetime',\n",
    "    f'Open_{ticker_dict[tck][\"suffix\"]}',\n",
    "    f'High_{ticker_dict[tck][\"suffix\"]}',\n",
    "    f'Low_{ticker_dict[tck][\"suffix\"]}',\n",
    "    f'Close_{ticker_dict[tck][\"suffix\"]}'\n",
    "]]\n",
    "spx_data.columns = ['Datetime','open','high','low','close']\n",
    "spx_data['time'] = spx_data['Datetime'].dt.time\n",
    "spx_data = spx_data.loc[(spx_data['time'] < datetime.time(16,0)) & (spx_data['time'] >= datetime.time(9,30))]"
   ]
  },
  {
   "cell_type": "code",
   "execution_count": 116,
   "metadata": {},
   "outputs": [],
   "source": [
    "spx_data = spx_data.set_index('Datetime')"
   ]
  },
  {
   "cell_type": "code",
   "execution_count": 117,
   "metadata": {},
   "outputs": [],
   "source": [
    "# Create a list of times from 9:30 to 15:55 with 5 minute intervals\n",
    "times = pd.date_range(start=\"9:30\", end=\"15:55\", freq='5min').time\n",
    "\n",
    "# Create a dictionary that maps each time to a unique integer\n",
    "time_to_int = {time: i+1 for i, time in enumerate(times)}\n",
    "\n",
    "# Assume df is your DataFrame and 'time' is your column of times\n",
    "spx_data['bar_num'] = spx_data['time'].map(time_to_int)"
   ]
  },
  {
   "cell_type": "code",
   "execution_count": 118,
   "metadata": {},
   "outputs": [],
   "source": [
    "# Get the last bar of each date\n",
    "spx_data['eod_close'] = spx_data.groupby(spx_data.index.date)['close'].tail(1)\n",
    "spx_data['prev_close'] = spx_data['eod_close'].shift(1)\n",
    "spx_data['prev_close'] = spx_data['prev_close'].ffill()\n",
    "spx_data['eod_close'] = spx_data['eod_close'].bfill()\n",
    "spx_data['green_day'] = spx_data['eod_close'] > spx_data['prev_close']\n",
    "\n",
    "spx_data['eod_close_pts'] = spx_data['eod_close'] - spx_data['prev_close']\n",
    "spx_data['eod_close_pct'] = spx_data['eod_close_pts'] / spx_data['prev_close']"
   ]
  },
  {
   "cell_type": "code",
   "execution_count": 119,
   "metadata": {},
   "outputs": [
    {
     "data": {
      "text/html": [
       "<div>\n",
       "<style scoped>\n",
       "    .dataframe tbody tr th:only-of-type {\n",
       "        vertical-align: middle;\n",
       "    }\n",
       "\n",
       "    .dataframe tbody tr th {\n",
       "        vertical-align: top;\n",
       "    }\n",
       "\n",
       "    .dataframe thead th {\n",
       "        text-align: right;\n",
       "    }\n",
       "</style>\n",
       "<table border=\"1\" class=\"dataframe\">\n",
       "  <thead>\n",
       "    <tr style=\"text-align: right;\">\n",
       "      <th></th>\n",
       "      <th>open</th>\n",
       "      <th>high</th>\n",
       "      <th>low</th>\n",
       "      <th>close</th>\n",
       "      <th>time</th>\n",
       "      <th>bar_num</th>\n",
       "      <th>eod_close</th>\n",
       "      <th>prev_close</th>\n",
       "      <th>green_day</th>\n",
       "      <th>eod_close_pts</th>\n",
       "      <th>eod_close_pct</th>\n",
       "    </tr>\n",
       "    <tr>\n",
       "      <th>Datetime</th>\n",
       "      <th></th>\n",
       "      <th></th>\n",
       "      <th></th>\n",
       "      <th></th>\n",
       "      <th></th>\n",
       "      <th></th>\n",
       "      <th></th>\n",
       "      <th></th>\n",
       "      <th></th>\n",
       "      <th></th>\n",
       "      <th></th>\n",
       "    </tr>\n",
       "  </thead>\n",
       "  <tbody>\n",
       "    <tr>\n",
       "      <th>2007-04-27 12:20:00</th>\n",
       "      <td>829.54</td>\n",
       "      <td>829.55</td>\n",
       "      <td>829.35</td>\n",
       "      <td>829.41</td>\n",
       "      <td>12:20:00</td>\n",
       "      <td>35</td>\n",
       "      <td>829.8</td>\n",
       "      <td>NaN</td>\n",
       "      <td>False</td>\n",
       "      <td>NaN</td>\n",
       "      <td>NaN</td>\n",
       "    </tr>\n",
       "    <tr>\n",
       "      <th>2007-04-27 12:25:00</th>\n",
       "      <td>829.42</td>\n",
       "      <td>829.68</td>\n",
       "      <td>829.42</td>\n",
       "      <td>829.68</td>\n",
       "      <td>12:25:00</td>\n",
       "      <td>36</td>\n",
       "      <td>829.8</td>\n",
       "      <td>NaN</td>\n",
       "      <td>False</td>\n",
       "      <td>NaN</td>\n",
       "      <td>NaN</td>\n",
       "    </tr>\n",
       "    <tr>\n",
       "      <th>2007-04-27 12:30:00</th>\n",
       "      <td>829.65</td>\n",
       "      <td>829.84</td>\n",
       "      <td>829.65</td>\n",
       "      <td>829.73</td>\n",
       "      <td>12:30:00</td>\n",
       "      <td>37</td>\n",
       "      <td>829.8</td>\n",
       "      <td>NaN</td>\n",
       "      <td>False</td>\n",
       "      <td>NaN</td>\n",
       "      <td>NaN</td>\n",
       "    </tr>\n",
       "    <tr>\n",
       "      <th>2007-04-27 12:35:00</th>\n",
       "      <td>829.65</td>\n",
       "      <td>829.65</td>\n",
       "      <td>829.25</td>\n",
       "      <td>829.38</td>\n",
       "      <td>12:35:00</td>\n",
       "      <td>38</td>\n",
       "      <td>829.8</td>\n",
       "      <td>NaN</td>\n",
       "      <td>False</td>\n",
       "      <td>NaN</td>\n",
       "      <td>NaN</td>\n",
       "    </tr>\n",
       "    <tr>\n",
       "      <th>2007-04-27 12:40:00</th>\n",
       "      <td>829.39</td>\n",
       "      <td>830.08</td>\n",
       "      <td>829.39</td>\n",
       "      <td>830.03</td>\n",
       "      <td>12:40:00</td>\n",
       "      <td>39</td>\n",
       "      <td>829.8</td>\n",
       "      <td>NaN</td>\n",
       "      <td>False</td>\n",
       "      <td>NaN</td>\n",
       "      <td>NaN</td>\n",
       "    </tr>\n",
       "  </tbody>\n",
       "</table>\n",
       "</div>"
      ],
      "text/plain": [
       "                       open    high     low   close      time  bar_num  \\\n",
       "Datetime                                                                 \n",
       "2007-04-27 12:20:00  829.54  829.55  829.35  829.41  12:20:00       35   \n",
       "2007-04-27 12:25:00  829.42  829.68  829.42  829.68  12:25:00       36   \n",
       "2007-04-27 12:30:00  829.65  829.84  829.65  829.73  12:30:00       37   \n",
       "2007-04-27 12:35:00  829.65  829.65  829.25  829.38  12:35:00       38   \n",
       "2007-04-27 12:40:00  829.39  830.08  829.39  830.03  12:40:00       39   \n",
       "\n",
       "                     eod_close  prev_close  green_day  eod_close_pts  \\\n",
       "Datetime                                                               \n",
       "2007-04-27 12:20:00      829.8         NaN      False            NaN   \n",
       "2007-04-27 12:25:00      829.8         NaN      False            NaN   \n",
       "2007-04-27 12:30:00      829.8         NaN      False            NaN   \n",
       "2007-04-27 12:35:00      829.8         NaN      False            NaN   \n",
       "2007-04-27 12:40:00      829.8         NaN      False            NaN   \n",
       "\n",
       "                     eod_close_pct  \n",
       "Datetime                            \n",
       "2007-04-27 12:20:00            NaN  \n",
       "2007-04-27 12:25:00            NaN  \n",
       "2007-04-27 12:30:00            NaN  \n",
       "2007-04-27 12:35:00            NaN  \n",
       "2007-04-27 12:40:00            NaN  "
      ]
     },
     "execution_count": 119,
     "metadata": {},
     "output_type": "execute_result"
    }
   ],
   "source": [
    "spx_data.head()"
   ]
  },
  {
   "cell_type": "code",
   "execution_count": 120,
   "metadata": {},
   "outputs": [
    {
     "data": {
      "text/html": [
       "<div>\n",
       "<style scoped>\n",
       "    .dataframe tbody tr th:only-of-type {\n",
       "        vertical-align: middle;\n",
       "    }\n",
       "\n",
       "    .dataframe tbody tr th {\n",
       "        vertical-align: top;\n",
       "    }\n",
       "\n",
       "    .dataframe thead th {\n",
       "        text-align: right;\n",
       "    }\n",
       "</style>\n",
       "<table border=\"1\" class=\"dataframe\">\n",
       "  <thead>\n",
       "    <tr style=\"text-align: right;\">\n",
       "      <th></th>\n",
       "      <th>open</th>\n",
       "      <th>high</th>\n",
       "      <th>low</th>\n",
       "      <th>close</th>\n",
       "      <th>time</th>\n",
       "      <th>bar_num</th>\n",
       "      <th>eod_close</th>\n",
       "      <th>prev_close</th>\n",
       "      <th>green_day</th>\n",
       "      <th>eod_close_pts</th>\n",
       "      <th>eod_close_pct</th>\n",
       "    </tr>\n",
       "    <tr>\n",
       "      <th>Datetime</th>\n",
       "      <th></th>\n",
       "      <th></th>\n",
       "      <th></th>\n",
       "      <th></th>\n",
       "      <th></th>\n",
       "      <th></th>\n",
       "      <th></th>\n",
       "      <th></th>\n",
       "      <th></th>\n",
       "      <th></th>\n",
       "      <th></th>\n",
       "    </tr>\n",
       "  </thead>\n",
       "  <tbody>\n",
       "    <tr>\n",
       "      <th>2024-01-12 15:35:00</th>\n",
       "      <td>NaN</td>\n",
       "      <td>NaN</td>\n",
       "      <td>NaN</td>\n",
       "      <td>NaN</td>\n",
       "      <td>15:35:00</td>\n",
       "      <td>74</td>\n",
       "      <td>NaN</td>\n",
       "      <td>2027.75</td>\n",
       "      <td>False</td>\n",
       "      <td>NaN</td>\n",
       "      <td>NaN</td>\n",
       "    </tr>\n",
       "    <tr>\n",
       "      <th>2024-01-12 15:40:00</th>\n",
       "      <td>NaN</td>\n",
       "      <td>NaN</td>\n",
       "      <td>NaN</td>\n",
       "      <td>NaN</td>\n",
       "      <td>15:40:00</td>\n",
       "      <td>75</td>\n",
       "      <td>NaN</td>\n",
       "      <td>2027.75</td>\n",
       "      <td>False</td>\n",
       "      <td>NaN</td>\n",
       "      <td>NaN</td>\n",
       "    </tr>\n",
       "    <tr>\n",
       "      <th>2024-01-12 15:45:00</th>\n",
       "      <td>NaN</td>\n",
       "      <td>NaN</td>\n",
       "      <td>NaN</td>\n",
       "      <td>NaN</td>\n",
       "      <td>15:45:00</td>\n",
       "      <td>76</td>\n",
       "      <td>NaN</td>\n",
       "      <td>2027.75</td>\n",
       "      <td>False</td>\n",
       "      <td>NaN</td>\n",
       "      <td>NaN</td>\n",
       "    </tr>\n",
       "    <tr>\n",
       "      <th>2024-01-12 15:50:00</th>\n",
       "      <td>NaN</td>\n",
       "      <td>NaN</td>\n",
       "      <td>NaN</td>\n",
       "      <td>NaN</td>\n",
       "      <td>15:50:00</td>\n",
       "      <td>77</td>\n",
       "      <td>NaN</td>\n",
       "      <td>2027.75</td>\n",
       "      <td>False</td>\n",
       "      <td>NaN</td>\n",
       "      <td>NaN</td>\n",
       "    </tr>\n",
       "    <tr>\n",
       "      <th>2024-01-12 15:55:00</th>\n",
       "      <td>NaN</td>\n",
       "      <td>NaN</td>\n",
       "      <td>NaN</td>\n",
       "      <td>NaN</td>\n",
       "      <td>15:55:00</td>\n",
       "      <td>78</td>\n",
       "      <td>NaN</td>\n",
       "      <td>2027.75</td>\n",
       "      <td>False</td>\n",
       "      <td>NaN</td>\n",
       "      <td>NaN</td>\n",
       "    </tr>\n",
       "  </tbody>\n",
       "</table>\n",
       "</div>"
      ],
      "text/plain": [
       "                     open  high  low  close      time  bar_num  eod_close  \\\n",
       "Datetime                                                                    \n",
       "2024-01-12 15:35:00   NaN   NaN  NaN    NaN  15:35:00       74        NaN   \n",
       "2024-01-12 15:40:00   NaN   NaN  NaN    NaN  15:40:00       75        NaN   \n",
       "2024-01-12 15:45:00   NaN   NaN  NaN    NaN  15:45:00       76        NaN   \n",
       "2024-01-12 15:50:00   NaN   NaN  NaN    NaN  15:50:00       77        NaN   \n",
       "2024-01-12 15:55:00   NaN   NaN  NaN    NaN  15:55:00       78        NaN   \n",
       "\n",
       "                     prev_close  green_day  eod_close_pts  eod_close_pct  \n",
       "Datetime                                                                  \n",
       "2024-01-12 15:35:00     2027.75      False            NaN            NaN  \n",
       "2024-01-12 15:40:00     2027.75      False            NaN            NaN  \n",
       "2024-01-12 15:45:00     2027.75      False            NaN            NaN  \n",
       "2024-01-12 15:50:00     2027.75      False            NaN            NaN  \n",
       "2024-01-12 15:55:00     2027.75      False            NaN            NaN  "
      ]
     },
     "execution_count": 120,
     "metadata": {},
     "output_type": "execute_result"
    }
   ],
   "source": [
    "spx_data.tail()"
   ]
  },
  {
   "cell_type": "markdown",
   "metadata": {},
   "source": [
    "# Feature and Target Creation\n",
    "Target\n",
    "- Whether the current high or low of the **session** has been achieved, based on the close of the most recent 5 min bar. \n",
    "\n",
    "Features\n",
    "- Current and lagged features of each **session**."
   ]
  },
  {
   "cell_type": "code",
   "execution_count": 121,
   "metadata": {},
   "outputs": [
    {
     "name": "stderr",
     "output_type": "stream",
     "text": [
      "  0%|          | 0/4207 [00:00<?, ?it/s]"
     ]
    },
    {
     "name": "stderr",
     "output_type": "stream",
     "text": [
      "100%|██████████| 4207/4207 [02:07<00:00, 32.93it/s]\n"
     ]
    }
   ],
   "source": [
    "import numpy as np\n",
    "import pandas as pd\n",
    "import datetime\n",
    "from pandas.tseries.offsets import BDay\n",
    "from tqdm import tqdm\n",
    "\n",
    "spx_data['label'] = np.nan\n",
    "\n",
    "# Per date, run it.\n",
    "for day in tqdm(sorted(set(spx_data.index.date))):\n",
    "    day_str = datetime.datetime.strftime(day, '%Y-%m-%d')\n",
    "    day_open = spx_data.loc[day_str, 'open'].iloc[0]\n",
    "    spx_data.loc[day_str, 'lod'] = spx_data.loc[day_str, 'low'].min()\n",
    "    spx_data.loc[day_str, 'label_lod'] = (spx_data.loc[day_str, 'low'] == spx_data.loc[day_str, 'lod']).astype(int)\n",
    "    \n",
    "    spx_data.loc[day_str, 'hod'] = spx_data.loc[day_str, 'high'].max()\n",
    "    spx_data.loc[day_str, 'label'] = (spx_data.loc[day_str, 'high'] == spx_data.loc[day_str, 'hod']).astype(int)\n",
    "    spx_data.loc[day_str, 'day_open'] = day_open\n",
    "    spx_data.loc[day_str, 'day_open_pts'] = spx_data.loc[day_str, 'close'] - spx_data.loc[day_str, 'day_open']\n",
    "    spx_data.loc[day_str, 'day_open_pct'] = spx_data.loc[day_str, 'day_open_pts'] / spx_data.loc[day_str, 'day_open']\n",
    "    spx_data.loc[day_str, 'prev_close_pts'] = spx_data.loc[day_str, 'close'] - spx_data.loc[day_str, 'prev_close']\n",
    "    spx_data.loc[day_str, 'prev_close_pct'] = spx_data.loc[day_str, 'prev_close_pts'] / spx_data.loc[day_str, 'prev_close']\n",
    "\n",
    "    # Lowest low\n",
    "    spx_data.loc[day_str, 'lowest_low'] = spx_data.loc[day_str, 'low'].expanding().min()\n",
    "    spx_data.loc[day_str, 'lowest_low'] = spx_data.loc[day_str, 'lowest_low'].shift(1)\n",
    "    spx_data.loc[day_str, 'lowest_low'] = spx_data.loc[day_str, 'lowest_low'].ffill()\n",
    "    spx_data.loc[day_str, 'lowest_low_mag'] = (spx_data.loc[day_str, 'close'] / spx_data.loc[day_str, 'lowest_low']) - 1\n",
    "\n",
    "    # Highest high\n",
    "    spx_data.loc[day_str, 'highest_high'] = spx_data.loc[day_str, 'high'].expanding().max()\n",
    "    spx_data.loc[day_str, 'highest_high'] = spx_data.loc[day_str, 'highest_high'].shift(1)\n",
    "    spx_data.loc[day_str, 'highest_high'] = spx_data.loc[day_str, 'highest_high'].ffill()\n",
    "    spx_data.loc[day_str, 'highest_high_mag'] = (spx_data.loc[day_str, 'close'] / spx_data.loc[day_str, 'highest_high']) - 1\n",
    "\n",
    "    # Shifted\n",
    "    spx_data.loc[day_str, 'prev_close_pct_n1'] = spx_data.loc[day_str, 'prev_close_pct'].shift(1)\n",
    "    spx_data.loc[day_str, 'prev_close_pct_n2'] = spx_data.loc[day_str, 'prev_close_pct'].shift(2)\n",
    "    spx_data.loc[day_str, 'prev_close_pct_n3'] = spx_data.loc[day_str, 'prev_close_pct'].shift(3)\n",
    "\n",
    "    spx_data.loc[day_str, 'day_open_pct_n1'] = spx_data.loc[day_str, 'day_open_pct'].shift(1)\n",
    "    spx_data.loc[day_str, 'day_open_pct_n2'] = spx_data.loc[day_str, 'day_open_pct'].shift(2)\n",
    "    spx_data.loc[day_str, 'day_open_pct_n3'] = spx_data.loc[day_str, 'day_open_pct'].shift(3)\n",
    "\n",
    "    # New Features\n",
    "    spx_data.loc[day_str, 'open_slope'] = spx_data.loc[day_str, 'day_open_pct'] / spx_data.loc[day_str, 'bar_num']\n",
    "    spx_data.loc[day_str, 'daily_slope'] = spx_data.loc[day_str, 'prev_close_pct'] / spx_data.loc[day_str, 'bar_num']\n",
    "    spx_data.loc[day_str, 'highest_high_slope'] = (spx_data.loc[day_str, 'close'] - spx_data.loc[day_str, 'highest_high']) / spx_data.loc[day_str, 'bar_num']\n",
    "    spx_data.loc[day_str, 'lowest_low_slope'] = (spx_data.loc[day_str, 'close'] - spx_data.loc[day_str, 'lowest_low']) / spx_data.loc[day_str, 'bar_num']\n",
    "    \n",
    "\n",
    "    # Label the data: 1 if the current high is the HOD, 0 otherwise\n",
    "\n",
    "    # # Find the index of HOD\n",
    "    # hod_index = spx_data.loc[day_str][spx_data.loc[day_str, 'label'] == 1].index\n",
    "\n",
    "    # # If HOD is found within the first 5 bars, label the first 5 bars as 1\n",
    "    # if not hod_index.empty:\n",
    "    #     hod_index = hod_index[0]  # In case there are multiple, take the first\n",
    "    #     if hod_index <= spx_data.loc[day_str].index[4]:  # Check if HOD is within the first 5 bars\n",
    "    #         spx_data.loc[spx_data.loc[day_str].index[:5], 'label'] = 1\n",
    "    #     else:\n",
    "    #         start_time = spx_data.loc[day_str].index[0]\n",
    "    #         end_time = hod_index\n",
    "    #         # Calculate the start index using Timedelta\n",
    "    #         start_index = end_time - pd.Timedelta(minutes=5 * 4)\n",
    "    #         start_index = max(start_index, start_time)\n",
    "    #         spx_data.loc[start_index:end_time, 'label'] = 1\n",
    "\n",
    "# spx_data.head()\n"
   ]
  },
  {
   "cell_type": "code",
   "execution_count": 122,
   "metadata": {},
   "outputs": [
    {
     "data": {
      "text/plain": [
       "open                    803\n",
       "high                    803\n",
       "low                     803\n",
       "close                   803\n",
       "time                      0\n",
       "bar_num                   0\n",
       "eod_close               702\n",
       "prev_close               44\n",
       "green_day                 0\n",
       "eod_close_pts           746\n",
       "eod_close_pct           746\n",
       "label                     0\n",
       "lod                     702\n",
       "label_lod                 0\n",
       "hod                     702\n",
       "day_open               1373\n",
       "day_open_pts           1419\n",
       "day_open_pct           1419\n",
       "prev_close_pts          847\n",
       "prev_close_pct          847\n",
       "lowest_low             4955\n",
       "lowest_low_mag         5001\n",
       "highest_high           4955\n",
       "highest_high_mag       5001\n",
       "prev_close_pct_n1      5025\n",
       "prev_close_pct_n2      9213\n",
       "prev_close_pct_n3     13407\n",
       "day_open_pct_n1        5589\n",
       "day_open_pct_n2        9769\n",
       "day_open_pct_n3       13955\n",
       "open_slope             1419\n",
       "daily_slope             847\n",
       "highest_high_slope     5001\n",
       "lowest_low_slope       5001\n",
       "dtype: int64"
      ]
     },
     "execution_count": 122,
     "metadata": {},
     "output_type": "execute_result"
    }
   ],
   "source": [
    "spx_data.isnull().sum()"
   ]
  },
  {
   "cell_type": "code",
   "execution_count": 123,
   "metadata": {},
   "outputs": [],
   "source": [
    "spx_data['gap_open'] = spx_data['day_open'] - spx_data['prev_close']\n",
    "spx_data['gap_open_pct'] = spx_data['gap_open'] / spx_data['prev_close']"
   ]
  },
  {
   "cell_type": "code",
   "execution_count": 124,
   "metadata": {},
   "outputs": [
    {
     "name": "stderr",
     "output_type": "stream",
     "text": [
      "327034it [00:09, 34241.22it/s]\n"
     ]
    }
   ],
   "source": [
    "hod_in = []\n",
    "for num, row in tqdm(spx_data.iterrows()):\n",
    "    if row['hod'] == row['high']:\n",
    "        hod_in.append(1)\n",
    "    else:\n",
    "        hod_in.append(np.nan)\n",
    "spx_data['hod_in'] = hod_in"
   ]
  },
  {
   "cell_type": "code",
   "execution_count": 125,
   "metadata": {},
   "outputs": [
    {
     "name": "stderr",
     "output_type": "stream",
     "text": [
      "327034it [00:09, 33815.22it/s]\n"
     ]
    }
   ],
   "source": [
    "lod_in = []\n",
    "for num, row in tqdm(spx_data.iterrows()):\n",
    "    if row['lod'] == row['low']:\n",
    "        lod_in.append(1)\n",
    "    else:\n",
    "        lod_in.append(np.nan)\n",
    "spx_data['lod_in'] = lod_in"
   ]
  },
  {
   "cell_type": "code",
   "execution_count": 126,
   "metadata": {},
   "outputs": [
    {
     "name": "stderr",
     "output_type": "stream",
     "text": [
      "100%|██████████| 4207/4207 [00:14<00:00, 284.41it/s]\n"
     ]
    }
   ],
   "source": [
    "# Per day, ffill for the 1s, and then fillna 0\n",
    "for day in tqdm(sorted(set(spx_data.index.date))):\n",
    "    day_str = datetime.datetime.strftime(day, '%Y-%m-%d')\n",
    "    spx_data.loc[day_str, 'lod_in'] = spx_data.loc[day_str, 'lod_in'].ffill()\n",
    "    spx_data.loc[day_str, 'lod_in'] = spx_data.loc[day_str, 'lod_in'].fillna(0)\n",
    "    spx_data.loc[day_str, 'hod_in'] = spx_data.loc[day_str, 'hod_in'].ffill()\n",
    "    spx_data.loc[day_str, 'hod_in'] = spx_data.loc[day_str, 'hod_in'].fillna(0)"
   ]
  },
  {
   "cell_type": "code",
   "execution_count": 127,
   "metadata": {},
   "outputs": [],
   "source": [
    "def get_top_probability(time, prev_close_pct):\n",
    "    '''\n",
    "    Function that returns the historical probability that the top is in, given a time of day and magnitude.\n",
    "    '''\n",
    "    # Filter the data for the given time and magnitude\n",
    "    relevant_data = spx_data[(spx_data['time'] == time) & (spx_data['prev_close_pct'] >= prev_close_pct)]\n",
    "    \n",
    "    # Calculate the probability\n",
    "    top_probability = relevant_data['hod_in'].mean()\n",
    "    # bot_probability = relevant_data['lod_in'].mean()\n",
    "    \n",
    "    return top_probability\n",
    "\n",
    "def get_low_probability(time, prev_close_pct):\n",
    "    '''\n",
    "    Function that returns the historical probability that the low is in, given a time of day and magnitude.\n",
    "    '''\n",
    "    # Filter the data for the given time and magnitude\n",
    "    relevant_data = spx_data[(spx_data['time'] == time) & (spx_data['prev_close_pct'] <= prev_close_pct)]\n",
    "    \n",
    "    # Calculate the probability\n",
    "    probability = relevant_data['lod_in'].mean()\n",
    "    \n",
    "    return probability"
   ]
  },
  {
   "cell_type": "code",
   "execution_count": 128,
   "metadata": {},
   "outputs": [
    {
     "data": {
      "text/plain": [
       "0.6556857776369972"
      ]
     },
     "execution_count": 128,
     "metadata": {},
     "output_type": "execute_result"
    }
   ],
   "source": [
    "time = datetime.time(15,0)\n",
    "prev_close_pct = -0.007\n",
    "# spx_data.loc[(spx_data['time'] == time) & (spx_data['prev_close_pct'] >= prev_close_pct)]\n",
    "get_top_probability(time, prev_close_pct)"
   ]
  },
  {
   "cell_type": "code",
   "execution_count": 129,
   "metadata": {},
   "outputs": [
    {
     "data": {
      "text/plain": [
       "0.5388446215139442"
      ]
     },
     "execution_count": 129,
     "metadata": {},
     "output_type": "execute_result"
    }
   ],
   "source": [
    "get_low_probability(time, prev_close_pct)"
   ]
  },
  {
   "cell_type": "code",
   "execution_count": 130,
   "metadata": {},
   "outputs": [
    {
     "data": {
      "text/html": [
       "<div>\n",
       "<style scoped>\n",
       "    .dataframe tbody tr th:only-of-type {\n",
       "        vertical-align: middle;\n",
       "    }\n",
       "\n",
       "    .dataframe tbody tr th {\n",
       "        vertical-align: top;\n",
       "    }\n",
       "\n",
       "    .dataframe thead th {\n",
       "        text-align: right;\n",
       "    }\n",
       "</style>\n",
       "<table border=\"1\" class=\"dataframe\">\n",
       "  <thead>\n",
       "    <tr style=\"text-align: right;\">\n",
       "      <th></th>\n",
       "      <th>time</th>\n",
       "      <th>hod_in</th>\n",
       "      <th>lod_in</th>\n",
       "      <th>gap_open_pct</th>\n",
       "      <th>open</th>\n",
       "    </tr>\n",
       "    <tr>\n",
       "      <th>Datetime</th>\n",
       "      <th></th>\n",
       "      <th></th>\n",
       "      <th></th>\n",
       "      <th></th>\n",
       "      <th></th>\n",
       "    </tr>\n",
       "  </thead>\n",
       "  <tbody>\n",
       "    <tr>\n",
       "      <th>2007-04-27 12:20:00</th>\n",
       "      <td>12:20:00</td>\n",
       "      <td>0.0</td>\n",
       "      <td>0.0</td>\n",
       "      <td>NaN</td>\n",
       "      <td>829.54</td>\n",
       "    </tr>\n",
       "    <tr>\n",
       "      <th>2007-04-27 12:25:00</th>\n",
       "      <td>12:25:00</td>\n",
       "      <td>0.0</td>\n",
       "      <td>0.0</td>\n",
       "      <td>NaN</td>\n",
       "      <td>829.42</td>\n",
       "    </tr>\n",
       "    <tr>\n",
       "      <th>2007-04-27 12:30:00</th>\n",
       "      <td>12:30:00</td>\n",
       "      <td>0.0</td>\n",
       "      <td>0.0</td>\n",
       "      <td>NaN</td>\n",
       "      <td>829.65</td>\n",
       "    </tr>\n",
       "    <tr>\n",
       "      <th>2007-04-27 12:35:00</th>\n",
       "      <td>12:35:00</td>\n",
       "      <td>0.0</td>\n",
       "      <td>0.0</td>\n",
       "      <td>NaN</td>\n",
       "      <td>829.65</td>\n",
       "    </tr>\n",
       "    <tr>\n",
       "      <th>2007-04-27 12:40:00</th>\n",
       "      <td>12:40:00</td>\n",
       "      <td>0.0</td>\n",
       "      <td>0.0</td>\n",
       "      <td>NaN</td>\n",
       "      <td>829.39</td>\n",
       "    </tr>\n",
       "    <tr>\n",
       "      <th>...</th>\n",
       "      <td>...</td>\n",
       "      <td>...</td>\n",
       "      <td>...</td>\n",
       "      <td>...</td>\n",
       "      <td>...</td>\n",
       "    </tr>\n",
       "    <tr>\n",
       "      <th>2024-01-12 15:35:00</th>\n",
       "      <td>15:35:00</td>\n",
       "      <td>0.0</td>\n",
       "      <td>0.0</td>\n",
       "      <td>NaN</td>\n",
       "      <td>NaN</td>\n",
       "    </tr>\n",
       "    <tr>\n",
       "      <th>2024-01-12 15:40:00</th>\n",
       "      <td>15:40:00</td>\n",
       "      <td>0.0</td>\n",
       "      <td>0.0</td>\n",
       "      <td>NaN</td>\n",
       "      <td>NaN</td>\n",
       "    </tr>\n",
       "    <tr>\n",
       "      <th>2024-01-12 15:45:00</th>\n",
       "      <td>15:45:00</td>\n",
       "      <td>0.0</td>\n",
       "      <td>0.0</td>\n",
       "      <td>NaN</td>\n",
       "      <td>NaN</td>\n",
       "    </tr>\n",
       "    <tr>\n",
       "      <th>2024-01-12 15:50:00</th>\n",
       "      <td>15:50:00</td>\n",
       "      <td>0.0</td>\n",
       "      <td>0.0</td>\n",
       "      <td>NaN</td>\n",
       "      <td>NaN</td>\n",
       "    </tr>\n",
       "    <tr>\n",
       "      <th>2024-01-12 15:55:00</th>\n",
       "      <td>15:55:00</td>\n",
       "      <td>0.0</td>\n",
       "      <td>0.0</td>\n",
       "      <td>NaN</td>\n",
       "      <td>NaN</td>\n",
       "    </tr>\n",
       "  </tbody>\n",
       "</table>\n",
       "<p>327034 rows × 5 columns</p>\n",
       "</div>"
      ],
      "text/plain": [
       "                         time  hod_in  lod_in  gap_open_pct    open\n",
       "Datetime                                                           \n",
       "2007-04-27 12:20:00  12:20:00     0.0     0.0           NaN  829.54\n",
       "2007-04-27 12:25:00  12:25:00     0.0     0.0           NaN  829.42\n",
       "2007-04-27 12:30:00  12:30:00     0.0     0.0           NaN  829.65\n",
       "2007-04-27 12:35:00  12:35:00     0.0     0.0           NaN  829.65\n",
       "2007-04-27 12:40:00  12:40:00     0.0     0.0           NaN  829.39\n",
       "...                       ...     ...     ...           ...     ...\n",
       "2024-01-12 15:35:00  15:35:00     0.0     0.0           NaN     NaN\n",
       "2024-01-12 15:40:00  15:40:00     0.0     0.0           NaN     NaN\n",
       "2024-01-12 15:45:00  15:45:00     0.0     0.0           NaN     NaN\n",
       "2024-01-12 15:50:00  15:50:00     0.0     0.0           NaN     NaN\n",
       "2024-01-12 15:55:00  15:55:00     0.0     0.0           NaN     NaN\n",
       "\n",
       "[327034 rows x 5 columns]"
      ]
     },
     "execution_count": 130,
     "metadata": {},
     "output_type": "execute_result"
    }
   ],
   "source": [
    "spx_data[['time','hod_in','lod_in','gap_open_pct','open']]"
   ]
  },
  {
   "cell_type": "code",
   "execution_count": 131,
   "metadata": {},
   "outputs": [
    {
     "data": {
      "text/plain": [
       "Index(['open', 'high', 'low', 'close', 'time', 'bar_num', 'eod_close',\n",
       "       'prev_close', 'green_day', 'eod_close_pts', 'eod_close_pct', 'label',\n",
       "       'lod', 'label_lod', 'hod', 'day_open', 'day_open_pts', 'day_open_pct',\n",
       "       'prev_close_pts', 'prev_close_pct', 'lowest_low', 'lowest_low_mag',\n",
       "       'highest_high', 'highest_high_mag', 'prev_close_pct_n1',\n",
       "       'prev_close_pct_n2', 'prev_close_pct_n3', 'day_open_pct_n1',\n",
       "       'day_open_pct_n2', 'day_open_pct_n3', 'open_slope', 'daily_slope',\n",
       "       'highest_high_slope', 'lowest_low_slope', 'gap_open', 'gap_open_pct',\n",
       "       'hod_in', 'lod_in'],\n",
       "      dtype='object')"
      ]
     },
     "execution_count": 131,
     "metadata": {},
     "output_type": "execute_result"
    }
   ],
   "source": [
    "spx_data.columns"
   ]
  },
  {
   "cell_type": "markdown",
   "metadata": {},
   "source": [
    "# Pipeline"
   ]
  },
  {
   "cell_type": "code",
   "execution_count": 132,
   "metadata": {},
   "outputs": [],
   "source": [
    "from sklearn.pipeline import Pipeline, make_pipeline\n",
    "from sklearn.compose import ColumnTransformer\n",
    "from sklearn.linear_model import LogisticRegression\n",
    "from sklearn.calibration import CalibratedClassifierCV\n",
    "import lightgbm as lgb\n",
    "from sklearn.preprocessing import FunctionTransformer, StandardScaler, RobustScaler, StandardScaler\n",
    "import datetime\n",
    "\n",
    "# Function to convert time string to seconds past midnight\n",
    "def convert_time_to_seconds(time_series):\n",
    "    return time_series.apply(lambda x: x.hour * 3600 + x.minute * 60 + x.second)\n",
    "\n",
    "def apply_convert_time_to_seconds(x):\n",
    "    return x.apply(convert_time_to_seconds)\n",
    "\n",
    "time_to_seconds = FunctionTransformer(apply_convert_time_to_seconds, validate=False)\n",
    "\n",
    "# Create a column transformer\n",
    "preprocessor = ColumnTransformer(\n",
    "    transformers=[\n",
    "        ('time', make_pipeline(time_to_seconds, StandardScaler()), ['time']),\n",
    "        ('prev_close_pct', StandardScaler(), ['prev_close_pct']),\n",
    "        ('prev_close_pct_n1', StandardScaler(), ['prev_close_pct_n1']),\n",
    "        ('prev_close_pct_n2', StandardScaler(), ['prev_close_pct_n2']),\n",
    "        ('prev_close_pct_n3', StandardScaler(), ['prev_close_pct_n3']),\n",
    "        ('day_open_pct', StandardScaler(), ['day_open_pct']),\n",
    "        ('day_open_pct_n1', StandardScaler(), ['day_open_pct_n1']),\n",
    "        ('day_open_pct_n2', StandardScaler(), ['day_open_pct_n2']),\n",
    "        ('day_open_pct_n3', StandardScaler(), ['day_open_pct_n3']),\n",
    "        ('gap_open_pct', StandardScaler(), ['gap_open_pct']),\n",
    "        ('highest_high_mag', StandardScaler(), ['highest_high_mag']),\n",
    "        ('lowest_low_mag', StandardScaler(), ['lowest_low_mag']),\n",
    "        ('open_slope', StandardScaler(), ['open_slope']),\n",
    "        ('daily_slope', StandardScaler(), ['daily_slope']),\n",
    "        ('highest_high_slope', StandardScaler(), ['highest_high_slope']),\n",
    "        ('lowest_low_slope', StandardScaler(), ['lowest_low_slope'])\n",
    "    ])\n",
    "\n",
    "# Create the pipeline\n",
    "pipeline = Pipeline(steps=[\n",
    "    ('preprocessor', preprocessor),\n",
    "    # ('classifier', LogisticRegression())\n",
    "    ('classifier', lgb.LGBMClassifier())\n",
    "    # ('classifier', xgb.XGBClassifier())\n",
    "])\n",
    "\n",
    "df_use = spx_data.dropna(subset=[\n",
    "    'prev_close_pct',\n",
    "    'gap_open_pct',\n",
    "    'day_open_pct_n3',\n",
    "    'prev_close_pct_n3'\n",
    "    ])\n",
    "\n",
    "# Train the model\n",
    "X = df_use[[\n",
    "    'time',\n",
    "    'prev_close_pct',\n",
    "    'prev_close_pct_n1',\n",
    "    'prev_close_pct_n2',\n",
    "    'prev_close_pct_n3',\n",
    "    'day_open_pct',\n",
    "    'day_open_pct_n1',\n",
    "    'day_open_pct_n2',\n",
    "    'day_open_pct_n3',\n",
    "    'gap_open_pct',\n",
    "    'highest_high_mag',\n",
    "    'lowest_low_mag',\n",
    "    'open_slope',\n",
    "    'daily_slope',\n",
    "    'highest_high_slope',\n",
    "    'lowest_low_slope'\n",
    "]]\n",
    "y_flags = df_use[['lod_in','hod_in','green_day']]\n",
    "# pipeline.fit(X, y)"
   ]
  },
  {
   "cell_type": "code",
   "execution_count": 133,
   "metadata": {},
   "outputs": [
    {
     "data": {
      "text/plain": [
       "time                  0\n",
       "prev_close_pct        0\n",
       "prev_close_pct_n1     5\n",
       "prev_close_pct_n2     5\n",
       "prev_close_pct_n3     0\n",
       "day_open_pct          0\n",
       "day_open_pct_n1       5\n",
       "day_open_pct_n2       5\n",
       "day_open_pct_n3       0\n",
       "gap_open_pct          0\n",
       "highest_high_mag      0\n",
       "lowest_low_mag        0\n",
       "open_slope            0\n",
       "daily_slope           0\n",
       "highest_high_slope    0\n",
       "lowest_low_slope      0\n",
       "dtype: int64"
      ]
     },
     "execution_count": 133,
     "metadata": {},
     "output_type": "execute_result"
    }
   ],
   "source": [
    "X.isnull().sum()"
   ]
  },
  {
   "cell_type": "code",
   "execution_count": 134,
   "metadata": {},
   "outputs": [
    {
     "data": {
      "text/plain": [
       "datetime.time(9, 45)"
      ]
     },
     "execution_count": 134,
     "metadata": {},
     "output_type": "execute_result"
    }
   ],
   "source": [
    "X['time'].min()"
   ]
  },
  {
   "cell_type": "code",
   "execution_count": 135,
   "metadata": {},
   "outputs": [],
   "source": [
    "from sklearn.base import clone\n",
    "\n",
    "pipeline_lod = clone(pipeline)\n",
    "pipeline_gd = clone(pipeline)"
   ]
  },
  {
   "cell_type": "code",
   "execution_count": 136,
   "metadata": {},
   "outputs": [],
   "source": [
    "\n",
    "date_idx = int(np.floor(len(X.index.date) * .95))\n",
    "cutoff_date = X.index.date[date_idx]\n",
    "cutoff_date = '2023-05-31'\n",
    "\n",
    "X_train = X.loc[:cutoff_date]\n",
    "y_train = y_flags.loc[:cutoff_date]\n",
    "X_test = X.loc[cutoff_date:]\n",
    "y_test = y_flags.loc[cutoff_date:]"
   ]
  },
  {
   "cell_type": "code",
   "execution_count": 137,
   "metadata": {},
   "outputs": [
    {
     "name": "stdout",
     "output_type": "stream",
     "text": [
      "2023-05-31\n"
     ]
    }
   ],
   "source": [
    "print(cutoff_date)"
   ]
  },
  {
   "cell_type": "code",
   "execution_count": 138,
   "metadata": {},
   "outputs": [
    {
     "data": {
      "text/plain": [
       "302037"
      ]
     },
     "execution_count": 138,
     "metadata": {},
     "output_type": "execute_result"
    }
   ],
   "source": [
    "len(y_train)"
   ]
  },
  {
   "cell_type": "code",
   "execution_count": 139,
   "metadata": {},
   "outputs": [
    {
     "data": {
      "text/plain": [
       "11034"
      ]
     },
     "execution_count": 139,
     "metadata": {},
     "output_type": "execute_result"
    }
   ],
   "source": [
    "len(y_test)"
   ]
  },
  {
   "cell_type": "code",
   "execution_count": 140,
   "metadata": {},
   "outputs": [
    {
     "data": {
      "text/plain": [
       "lod_in       0.648245\n",
       "hod_in       0.587249\n",
       "green_day    0.528541\n",
       "dtype: float64"
      ]
     },
     "execution_count": 140,
     "metadata": {},
     "output_type": "execute_result"
    }
   ],
   "source": [
    "y_train.mean()"
   ]
  },
  {
   "cell_type": "code",
   "execution_count": 141,
   "metadata": {},
   "outputs": [
    {
     "data": {
      "text/plain": [
       "lod_in       0.650897\n",
       "hod_in       0.652166\n",
       "green_day    0.513685\n",
       "dtype: float64"
      ]
     },
     "execution_count": 141,
     "metadata": {},
     "output_type": "execute_result"
    }
   ],
   "source": [
    "y_test.mean()"
   ]
  },
  {
   "cell_type": "code",
   "execution_count": 142,
   "metadata": {},
   "outputs": [
    {
     "data": {
      "text/plain": [
       "time                   object\n",
       "prev_close_pct        float64\n",
       "prev_close_pct_n1     float64\n",
       "prev_close_pct_n2     float64\n",
       "prev_close_pct_n3     float64\n",
       "day_open_pct          float64\n",
       "day_open_pct_n1       float64\n",
       "day_open_pct_n2       float64\n",
       "day_open_pct_n3       float64\n",
       "gap_open_pct          float64\n",
       "highest_high_mag      float64\n",
       "lowest_low_mag        float64\n",
       "open_slope            float64\n",
       "daily_slope           float64\n",
       "highest_high_slope    float64\n",
       "lowest_low_slope      float64\n",
       "dtype: object"
      ]
     },
     "execution_count": 142,
     "metadata": {},
     "output_type": "execute_result"
    }
   ],
   "source": [
    "X.dtypes"
   ]
  },
  {
   "cell_type": "code",
   "execution_count": 143,
   "metadata": {},
   "outputs": [
    {
     "name": "stdout",
     "output_type": "stream",
     "text": [
      "[LightGBM] [Info] Number of positive: 177371, number of negative: 124666\n",
      "[LightGBM] [Info] Auto-choosing row-wise multi-threading, the overhead of testing was 0.001406 seconds.\n",
      "You can set `force_row_wise=true` to remove the overhead.\n",
      "And if memory is not enough, you can set `force_col_wise=true`.\n",
      "[LightGBM] [Info] Total Bins 3901\n",
      "[LightGBM] [Info] Number of data points in the train set: 302037, number of used features: 16\n",
      "[LightGBM] [Info] [binary:BoostFromScore]: pavg=0.587249 -> initscore=0.352605\n",
      "[LightGBM] [Info] Start training from score 0.352605\n",
      "[LightGBM] [Info] Number of positive: 195794, number of negative: 106243\n",
      "[LightGBM] [Info] Auto-choosing row-wise multi-threading, the overhead of testing was 0.001479 seconds.\n",
      "You can set `force_row_wise=true` to remove the overhead.\n",
      "And if memory is not enough, you can set `force_col_wise=true`.\n",
      "[LightGBM] [Info] Total Bins 3901\n",
      "[LightGBM] [Info] Number of data points in the train set: 302037, number of used features: 16\n",
      "[LightGBM] [Info] [binary:BoostFromScore]: pavg=0.648245 -> initscore=0.611334\n",
      "[LightGBM] [Info] Start training from score 0.611334\n",
      "[LightGBM] [Info] Number of positive: 159639, number of negative: 142398\n",
      "[LightGBM] [Info] Auto-choosing row-wise multi-threading, the overhead of testing was 0.001451 seconds.\n",
      "You can set `force_row_wise=true` to remove the overhead.\n",
      "And if memory is not enough, you can set `force_col_wise=true`.\n",
      "[LightGBM] [Info] Total Bins 3901\n",
      "[LightGBM] [Info] Number of data points in the train set: 302037, number of used features: 16\n",
      "[LightGBM] [Info] [binary:BoostFromScore]: pavg=0.528541 -> initscore=0.114289\n",
      "[LightGBM] [Info] Start training from score 0.114289\n"
     ]
    },
    {
     "data": {
      "text/plain": [
       "['models/gd_model_rut.joblib']"
      ]
     },
     "execution_count": 143,
     "metadata": {},
     "output_type": "execute_result"
    }
   ],
   "source": [
    "import joblib\n",
    "hod_model = pipeline.fit(X_train, y_train['hod_in'])\n",
    "lod_model = pipeline_lod.fit(X_train, y_train['lod_in'])\n",
    "gd_model = pipeline_gd.fit(X_train, y_train['green_day'])\n",
    "\n",
    "# Save models\n",
    "joblib.dump(hod_model, ticker_dict[tck][\"hod_model\"])\n",
    "joblib.dump(lod_model, ticker_dict[tck][\"lod_model\"])\n",
    "joblib.dump(gd_model, ticker_dict[tck][\"gd_model\"])"
   ]
  },
  {
   "cell_type": "markdown",
   "metadata": {},
   "source": [
    "# Performance"
   ]
  },
  {
   "cell_type": "code",
   "execution_count": 144,
   "metadata": {},
   "outputs": [
    {
     "data": {
      "image/png": "[encoded data removed]",
      "text/plain": [
       "<Figure size 2000x1000 with 1 Axes>"
      ]
     },
     "metadata": {},
     "output_type": "display_data"
    }
   ],
   "source": [
    "import mlflow\n",
    "import matplotlib.pyplot as plt\n",
    "\n",
    "booster = hod_model.named_steps['classifier'].booster_\n",
    "importance_gain = booster.feature_importance(importance_type='gain')\n",
    "feature_imp = pd.DataFrame(sorted(zip(importance_gain, X.columns)), columns=['Value','Feature'])\n",
    "feature_imp = feature_imp.sort_values(by=\"Value\", ascending=True)\n",
    "\n",
    "plt.figure(figsize=(20, 10))\n",
    "plt.barh(feature_imp['Feature'], feature_imp['Value'])\n",
    "plt.title('HOD Model Features (avg over folds)')\n",
    "plt.xlabel('Value')\n",
    "plt.ylabel('Feature')\n",
    "plt.tight_layout()\n",
    "plt.show()\n"
   ]
  },
  {
   "cell_type": "code",
   "execution_count": 145,
   "metadata": {},
   "outputs": [
    {
     "data": {
      "image/png": "[encoded data removed]",
      "text/plain": [
       "<Figure size 2000x1000 with 1 Axes>"
      ]
     },
     "metadata": {},
     "output_type": "display_data"
    }
   ],
   "source": [
    "booster = gd_model.named_steps['classifier'].booster_\n",
    "importance_gain = booster.feature_importance(importance_type='gain')\n",
    "feature_imp = pd.DataFrame(sorted(zip(importance_gain, X.columns)), columns=['Value','Feature'])\n",
    "feature_imp = feature_imp.sort_values(by=\"Value\", ascending=True)\n",
    "\n",
    "plt.figure(figsize=(20, 10))\n",
    "plt.barh(feature_imp['Feature'], feature_imp['Value'])\n",
    "plt.title('GD Model Features (avg over folds)')\n",
    "plt.xlabel('Value')\n",
    "plt.ylabel('Feature')\n",
    "plt.tight_layout()\n",
    "plt.show()\n"
   ]
  },
  {
   "cell_type": "code",
   "execution_count": 146,
   "metadata": {},
   "outputs": [
    {
     "data": {
      "image/png": "[encoded data removed]",
      "text/plain": [
       "<Figure size 2000x1000 with 1 Axes>"
      ]
     },
     "metadata": {},
     "output_type": "display_data"
    }
   ],
   "source": [
    "booster = lod_model.named_steps['classifier'].booster_\n",
    "importance_gain = booster.feature_importance(importance_type='gain')\n",
    "feature_imp = pd.DataFrame(sorted(zip(importance_gain, X.columns)), columns=['Value','Feature'])\n",
    "feature_imp = feature_imp.sort_values(by=\"Value\", ascending=True)\n",
    "\n",
    "plt.figure(figsize=(20, 10))\n",
    "plt.barh(feature_imp['Feature'], feature_imp['Value'])\n",
    "plt.title('LOD Model Features (avg over folds)')\n",
    "plt.xlabel('Value')\n",
    "plt.ylabel('Feature')\n",
    "plt.tight_layout()\n",
    "plt.show()\n"
   ]
  },
  {
   "cell_type": "markdown",
   "metadata": {},
   "source": [
    "### Train/Test"
   ]
  },
  {
   "cell_type": "code",
   "execution_count": 147,
   "metadata": {},
   "outputs": [
    {
     "name": "stdout",
     "output_type": "stream",
     "text": [
      "ROC AUC Score: 0.9026037603833524\n",
      "Precision Score: 0.8904747596153846\n",
      "Recall Score: 0.8236520289049472\n",
      "done.\n"
     ]
    }
   ],
   "source": [
    "from sklearn.metrics import roc_auc_score, precision_score, recall_score\n",
    "import mlflow\n",
    "\n",
    "# Metrics for HOD model\n",
    "y_pred_hod = hod_model.predict_proba(X_test)[:,-1]\n",
    "\n",
    "roc_auc_hod = roc_auc_score(y_test['hod_in'], y_pred_hod)\n",
    "precision_hod = precision_score(y_test['hod_in'], y_pred_hod > 0.5)\n",
    "recall_hod = recall_score(y_test['hod_in'], y_pred_hod > 0.5)\n",
    "\n",
    "print(f\"ROC AUC Score: {roc_auc_hod}\")\n",
    "print(f\"Precision Score: {precision_hod}\")\n",
    "print(f\"Recall Score: {recall_hod}\")\n",
    "\n",
    "train_start = X_train.index.date.min()\n",
    "train_end = X_train.index.date.max()\n",
    "test_start = X_test.index.date.min()\n",
    "test_end = X_test.index.date.max()\n",
    "train_size = len(X_train)\n",
    "test_size = len(X_test)\n",
    "\n",
    "# Start a new MLFlow run\n",
    "with mlflow.start_run():\n",
    "\n",
    "    ts = datetime.datetime.now()\n",
    "\n",
    "    mlflow.set_tag(f\"mlflow.runName\", f\"{tck} HOD Model {ts.hour:02}:{ts.minute:02}:{ts.second:02}\")\n",
    "\n",
    "    # Log the model\n",
    "    mlflow.log_param(\"model\", str(hod_model.named_steps))\n",
    "\n",
    "    # Log the features\n",
    "    mlflow.log_param(\"features\", hod_model.feature_names_in_)\n",
    "    mlflow.log_param(\"train_date_range\", f\"{train_start} to {train_end}\")\n",
    "    mlflow.log_param(\"test_date_range\", f\"{test_start} to {test_end}\")\n",
    "    mlflow.log_param(\"train_size\", train_size)\n",
    "    mlflow.log_param(\"test_size\", test_size)\n",
    "\n",
    "    # Assume y_test and y_pred are your test labels and model predictions\n",
    "    # Calculate scores\n",
    "\n",
    "    # Log the scores\n",
    "    mlflow.log_metric(\"roc_auc\", roc_auc_hod)\n",
    "    mlflow.log_metric(\"precision\", precision_hod)\n",
    "    mlflow.log_metric(\"recall\", recall_hod)\n",
    "\n",
    "    # Log the timestamp\n",
    "    mlflow.log_param(\"created_at\", ts)\n",
    "\n",
    "print('done.')"
   ]
  },
  {
   "cell_type": "code",
   "execution_count": 148,
   "metadata": {},
   "outputs": [
    {
     "name": "stdout",
     "output_type": "stream",
     "text": [
      "ROC AUC Score: 0.907658156872509\n",
      "Precision Score: 0.8761904761904762\n",
      "Recall Score: 0.8710665552770815\n",
      "done.\n"
     ]
    }
   ],
   "source": [
    "from sklearn.metrics import roc_auc_score, precision_score, recall_score\n",
    "import mlflow\n",
    "\n",
    "# Metrics for HOD model\n",
    "y_pred_lod = lod_model.predict_proba(X_test)[:,-1]\n",
    "roc_auc_lod = roc_auc_score(y_test['lod_in'], y_pred_lod)\n",
    "precision_lod = precision_score(y_test['lod_in'], y_pred_lod > 0.5)\n",
    "recall_lod = recall_score(y_test['lod_in'], y_pred_lod > 0.5)\n",
    "\n",
    "print(f\"ROC AUC Score: {roc_auc_lod}\")\n",
    "print(f\"Precision Score: {precision_lod}\")\n",
    "print(f\"Recall Score: {recall_lod}\")\n",
    "\n",
    "train_start = X_train.index.date.min()\n",
    "train_end = X_train.index.date.max()\n",
    "test_start = X_test.index.date.min()\n",
    "test_end = X_test.index.date.max()\n",
    "train_size = len(X_train)\n",
    "test_size = len(X_test)\n",
    "\n",
    "# Start a new MLFlow run\n",
    "with mlflow.start_run():\n",
    "\n",
    "    ts = datetime.datetime.now()\n",
    "\n",
    "    mlflow.set_tag(f\"mlflow.runName\", f\"{tck} LOD Model {ts.hour:02}:{ts.minute:02}:{ts.second:02}\")\n",
    "\n",
    "    # Log the model\n",
    "    mlflow.log_param(\"model\", str(lod_model.named_steps))\n",
    "\n",
    "    # Log the features\n",
    "    mlflow.log_param(\"features\", lod_model.feature_names_in_)\n",
    "    mlflow.log_param(\"train_date_range\", f\"{train_start} to {train_end}\")\n",
    "    mlflow.log_param(\"test_date_range\", f\"{test_start} to {test_end}\")\n",
    "    mlflow.log_param(\"train_size\", train_size)\n",
    "    mlflow.log_param(\"test_size\", test_size)\n",
    "\n",
    "    # Assume y_test and y_pred are your test labels and model predictions\n",
    "    # Calculate scores\n",
    "\n",
    "    # Log the scores\n",
    "    mlflow.log_metric(\"roc_auc\", roc_auc_lod)\n",
    "    mlflow.log_metric(\"precision\", precision_lod)\n",
    "    mlflow.log_metric(\"recall\", recall_lod)\n",
    "\n",
    "    # Log the timestamp\n",
    "    mlflow.log_param(\"created_at\", ts)\n",
    "\n",
    "print('done.')"
   ]
  },
  {
   "cell_type": "code",
   "execution_count": 149,
   "metadata": {},
   "outputs": [
    {
     "name": "stdout",
     "output_type": "stream",
     "text": [
      "ROC AUC Score: 0.9511792044633466\n",
      "Precision Score: 0.8529315427448412\n",
      "Recall Score: 0.9188426252646437\n",
      "done.\n"
     ]
    }
   ],
   "source": [
    "from sklearn.metrics import roc_auc_score, precision_score, recall_score\n",
    "import mlflow\n",
    "\n",
    "# Metrics for HOD model\n",
    "y_pred_gd = gd_model.predict_proba(X_test)[:,-1]\n",
    "\n",
    "roc_auc_gd = roc_auc_score(y_test['green_day'], y_pred_gd)\n",
    "precision_gd = precision_score(y_test['green_day'], y_pred_gd > 0.5)\n",
    "recall_gd = recall_score(y_test['green_day'], y_pred_gd > 0.5)\n",
    "\n",
    "print(f\"ROC AUC Score: {roc_auc_gd}\")\n",
    "print(f\"Precision Score: {precision_gd}\")\n",
    "print(f\"Recall Score: {recall_gd}\")\n",
    "\n",
    "train_start = X_train.index.date.min()\n",
    "train_end = X_train.index.date.max()\n",
    "test_start = X_test.index.date.min()\n",
    "test_end = X_test.index.date.max()\n",
    "train_size = len(X_train)\n",
    "test_size = len(X_test)\n",
    "\n",
    "# Start a new MLFlow run\n",
    "with mlflow.start_run():\n",
    "\n",
    "    ts = datetime.datetime.now()\n",
    "\n",
    "    mlflow.set_tag(f\"mlflow.runName\", f\"{tck} HOD Model {ts.hour:02}:{ts.minute:02}:{ts.second:02}\")\n",
    "\n",
    "    # Log the model\n",
    "    mlflow.log_param(\"model\", str(gd_model.named_steps))\n",
    "\n",
    "    # Log the features\n",
    "    mlflow.log_param(\"features\", gd_model.feature_names_in_)\n",
    "    mlflow.log_param(\"train_date_range\", f\"{train_start} to {train_end}\")\n",
    "    mlflow.log_param(\"test_date_range\", f\"{test_start} to {test_end}\")\n",
    "    mlflow.log_param(\"train_size\", train_size)\n",
    "    mlflow.log_param(\"test_size\", test_size)\n",
    "\n",
    "    # Assume y_test and y_pred are your test labels and model predictions\n",
    "    # Calculate scores\n",
    "\n",
    "    # Log the scores\n",
    "    mlflow.log_metric(\"roc_auc\", roc_auc_gd)\n",
    "    mlflow.log_metric(\"precision\", precision_gd)\n",
    "    mlflow.log_metric(\"recall\", recall_gd)\n",
    "\n",
    "    # Log the timestamp\n",
    "    mlflow.log_param(\"created_at\", ts)\n",
    "\n",
    "print('done.')"
   ]
  },
  {
   "cell_type": "markdown",
   "metadata": {},
   "source": [
    "### CV"
   ]
  },
  {
   "cell_type": "code",
   "execution_count": 150,
   "metadata": {},
   "outputs": [
    {
     "name": "stdout",
     "output_type": "stream",
     "text": [
      "Couldn't find program: 'false'\n"
     ]
    }
   ],
   "source": [
    "%%script false --no-raise-error\n",
    "\n",
    "from sklearn.metrics import roc_auc_score, precision_score, recall_score\n",
    "import mlflow\n",
    "from sklearn.model_selection import TimeSeriesSplit\n",
    "\n",
    "# Create 5 splits\n",
    "tscv = TimeSeriesSplit(n_splits=10)\n",
    "\n",
    "# Get the dates\n",
    "dates = X.index.date\n",
    "\n",
    "# Initialize lists to store scores for each split\n",
    "roc_auc_scores = []\n",
    "precision_scores = []\n",
    "recall_scores = []\n",
    "\n",
    "with mlflow.start_run():\n",
    "\n",
    "    # Loop over the splits\n",
    "    for train_index, test_index in tscv.split(dates):\n",
    "        # Find the end of the last complete day in the test set\n",
    "        last_day = np.unique(dates[test_index])[-2]  # -2 to get the second to last day\n",
    "        test_index = test_index[dates[test_index] <= last_day]  # only keep days in test set up to the last complete day\n",
    "\n",
    "        # Split the data\n",
    "        X_train, X_test = X.iloc[train_index], X.iloc[test_index]\n",
    "        y_train, y_test = y_flags.iloc[train_index], y_flags.iloc[test_index]\n",
    "\n",
    "        # Fit the model on the training data\n",
    "        model = pipeline.fit(X_train, y_train['hod_in'])\n",
    "\n",
    "        # Predict the test data\n",
    "        y_pred = model.predict_proba(X_test)[:,-1]\n",
    "\n",
    "        # Calculate the scores\n",
    "        roc_auc = roc_auc_score(y_test['hod_in'], y_pred)\n",
    "        precision = precision_score(y_test['hod_in'], y_pred > 0.5)\n",
    "        recall = recall_score(y_test['hod_in'], y_pred > 0.5)\n",
    "\n",
    "        # Store the scores\n",
    "        roc_auc_scores.append(roc_auc)\n",
    "        precision_scores.append(precision)\n",
    "        recall_scores.append(recall)\n",
    "\n",
    "\n",
    "    roc_auc_hod = np.mean(roc_auc_scores)\n",
    "    precision_hod = np.mean(precision_scores)\n",
    "    recall_hod = np.mean(recall_scores)\n",
    "\n",
    "    # Print the average scores\n",
    "    print(f\"Average ROC AUC Score: {roc_auc_hod:.03} (+/- {np.std(roc_auc_scores):.02})\")\n",
    "    print(f\"Average Precision Score: {precision_hod:.03} (+/- {np.std(precision_scores):.02})\")\n",
    "    print(f\"Average Recall Score: {recall_hod:.03} (+/- {np.std(recall_scores):.02})\")\n",
    "\n",
    "    ts = datetime.datetime.now()\n",
    "\n",
    "    mlflow.set_tag(f\"mlflow.runName\", f\"{tck} HOD Model CV {ts.hour:02}:{ts.minute:02}:{ts.second:02}\")\n",
    "\n",
    "    # Log the model\n",
    "    mlflow.log_param(\"model\", str(hod_model.named_steps))\n",
    "\n",
    "    # Log the features\n",
    "    mlflow.log_param(\"features\", hod_model.feature_names_in_)\n",
    "    mlflow.log_param(\"train_date_range\", f\"{train_start} to {train_end}\")\n",
    "    mlflow.log_param(\"test_date_range\", f\"{test_start} to {test_end}\")\n",
    "    mlflow.log_param(\"train_size\", train_size)\n",
    "    mlflow.log_param(\"test_size\", test_size)\n",
    "\n",
    "    # Assume y_test and y_pred are your test labels and model predictions\n",
    "    # Calculate scores\n",
    "\n",
    "    # Log the scores\n",
    "    mlflow.log_metric(\"roc_auc\", roc_auc_hod)\n",
    "    mlflow.log_metric(\"precision\", precision_hod)\n",
    "    mlflow.log_metric(\"recall\", recall_hod)\n",
    "\n",
    "    # Log the timestamp\n",
    "    mlflow.log_param(\"created_at\", ts)\n",
    "\n",
    "print('done.')"
   ]
  },
  {
   "cell_type": "code",
   "execution_count": 151,
   "metadata": {},
   "outputs": [
    {
     "name": "stdout",
     "output_type": "stream",
     "text": [
      "Couldn't find program: 'false'\n"
     ]
    }
   ],
   "source": [
    "%%script false --no-raise-error\n",
    "from sklearn.metrics import roc_auc_score, precision_score, recall_score\n",
    "\n",
    "# Initialize lists to store scores for each split\n",
    "roc_auc_scores = []\n",
    "precision_scores = []\n",
    "recall_scores = []\n",
    "\n",
    "with mlflow.start_run():\n",
    "\n",
    "    # Loop over the splits\n",
    "    for train_index, test_index in tscv.split(dates):\n",
    "        # Find the end of the last complete day in the test set\n",
    "        last_day = np.unique(dates[test_index])[-2]  # -2 to get the second to last day\n",
    "        test_index = test_index[dates[test_index] <= last_day]  # only keep days in test set up to the last complete day\n",
    "\n",
    "        # Split the data\n",
    "        X_train, X_test = X.iloc[train_index], X.iloc[test_index]\n",
    "        y_train, y_test = y_flags.iloc[train_index], y_flags.iloc[test_index]\n",
    "\n",
    "        # Fit the model on the training data\n",
    "        model = pipeline_lod.fit(X_train, y_train['lod_in'])\n",
    "\n",
    "        # Predict the test data\n",
    "        y_pred = model.predict_proba(X_test)[:,-1]\n",
    "\n",
    "        # Calculate the scores\n",
    "        roc_auc = roc_auc_score(y_test['lod_in'], y_pred)\n",
    "        precision = precision_score(y_test['lod_in'], y_pred > 0.5)\n",
    "        recall = recall_score(y_test['lod_in'], y_pred > 0.5)\n",
    "\n",
    "        # Store the scores\n",
    "        roc_auc_scores.append(roc_auc)\n",
    "        precision_scores.append(precision)\n",
    "        recall_scores.append(recall)\n",
    "\n",
    "\n",
    "    roc_auc_lod = np.mean(roc_auc_scores)\n",
    "    precision_lod = np.mean(precision_scores)\n",
    "    recall_lod = np.mean(recall_scores)\n",
    "\n",
    "    # Print the average scores\n",
    "    print(f\"Average ROC AUC Score: {roc_auc_hod:.03} (+/- {np.std(roc_auc_scores):.02})\")\n",
    "    print(f\"Average Precision Score: {precision_hod:.03} (+/- {np.std(precision_scores):.02})\")\n",
    "    print(f\"Average Recall Score: {recall_hod:.03} (+/- {np.std(recall_scores):.02})\")\n",
    "\n",
    "    ts = datetime.datetime.now()\n",
    "\n",
    "    mlflow.set_tag(f\"mlflow.runName\", f\"{tck} LOD Model CV {ts.hour:02}:{ts.minute:02}:{ts.second:02}\")\n",
    "\n",
    "    # Log the model\n",
    "    mlflow.log_param(\"model\", str(lod_model.named_steps))\n",
    "\n",
    "    # Log the features\n",
    "    mlflow.log_param(\"features\", lod_model.feature_names_in_)\n",
    "    mlflow.log_param(\"train_date_range\", f\"{train_start} to {train_end}\")\n",
    "    mlflow.log_param(\"test_date_range\", f\"{test_start} to {test_end}\")\n",
    "    mlflow.log_param(\"train_size\", train_size)\n",
    "    mlflow.log_param(\"test_size\", test_size)\n",
    "\n",
    "    # Assume y_test and y_pred are your test labels and model predictions\n",
    "    # Calculate scores\n",
    "\n",
    "    # Log the scores\n",
    "    mlflow.log_metric(\"roc_auc\", roc_auc_lod)\n",
    "    mlflow.log_metric(\"precision\", precision_lod)\n",
    "    mlflow.log_metric(\"recall\", recall_lod)\n",
    "\n",
    "    # Log the timestamp\n",
    "    mlflow.log_param(\"created_at\", ts)\n",
    "\n",
    "print('done.')"
   ]
  },
  {
   "cell_type": "code",
   "execution_count": 152,
   "metadata": {},
   "outputs": [
    {
     "name": "stdout",
     "output_type": "stream",
     "text": [
      "Couldn't find program: 'false'\n"
     ]
    }
   ],
   "source": [
    "%%script false --no-raise-error\n",
    "from sklearn.metrics import roc_auc_score, precision_score, recall_score\n",
    "\n",
    "# Initialize lists to store scores for each split\n",
    "roc_auc_scores = []\n",
    "precision_scores = []\n",
    "recall_scores = []\n",
    "\n",
    "with mlflow.start_run():\n",
    "\n",
    "    # Loop over the splits\n",
    "    for train_index, test_index in tscv.split(dates):\n",
    "        # Find the end of the last complete day in the test set\n",
    "        last_day = np.unique(dates[test_index])[-2]  # -2 to get the second to last day\n",
    "        test_index = test_index[dates[test_index] <= last_day]  # only keep days in test set up to the last complete day\n",
    "\n",
    "        # Split the data\n",
    "        X_train, X_test = X.iloc[train_index], X.iloc[test_index]\n",
    "        y_train, y_test = y_flags.iloc[train_index], y_flags.iloc[test_index]\n",
    "\n",
    "        # Fit the model on the training data\n",
    "        model = pipeline_gd.fit(X_train, y_train['green_day'])\n",
    "\n",
    "        # Predict the test data\n",
    "        y_pred = model.predict_proba(X_test)[:,-1]\n",
    "\n",
    "        # Calculate the scores\n",
    "        roc_auc = roc_auc_score(y_test['green_day'], y_pred)\n",
    "        precision = precision_score(y_test['green_day'], y_pred > 0.5)\n",
    "        recall = recall_score(y_test['green_day'], y_pred > 0.5)\n",
    "\n",
    "        # Store the scores\n",
    "        roc_auc_scores.append(roc_auc)\n",
    "        precision_scores.append(precision)\n",
    "        recall_scores.append(recall)\n",
    "\n",
    "\n",
    "    roc_auc_gd = np.mean(roc_auc_scores)\n",
    "    precision_gd = np.mean(precision_scores)\n",
    "    recall_gd = np.mean(recall_scores)\n",
    "\n",
    "    # Print the average scores\n",
    "    print(f\"Average ROC AUC Score: {roc_auc_hod:.03} (+/- {np.std(roc_auc_scores):.02})\")\n",
    "    print(f\"Average Precision Score: {precision_hod:.03} (+/- {np.std(precision_scores):.02})\")\n",
    "    print(f\"Average Recall Score: {recall_hod:.03} (+/- {np.std(recall_scores):.02})\")\n",
    "\n",
    "    ts = datetime.datetime.now()\n",
    "\n",
    "    mlflow.set_tag(f\"mlflow.runName\", f\"{tck} GD Model CV {ts.hour:02}:{ts.minute:02}:{ts.second:02}\")\n",
    "\n",
    "    # Log the model\n",
    "    mlflow.log_param(\"model\", str(gd_model.named_steps))\n",
    "\n",
    "    # Log the features\n",
    "    mlflow.log_param(\"features\", gd_model.feature_names_in_)\n",
    "    mlflow.log_param(\"train_date_range\", f\"{train_start} to {train_end}\")\n",
    "    mlflow.log_param(\"test_date_range\", f\"{test_start} to {test_end}\")\n",
    "    mlflow.log_param(\"train_size\", train_size)\n",
    "    mlflow.log_param(\"test_size\", test_size)\n",
    "\n",
    "    # Assume y_test and y_pred are your test labels and model predictions\n",
    "    # Calculate scores\n",
    "\n",
    "    # Log the scores\n",
    "    mlflow.log_metric(\"roc_auc\", roc_auc_gd)\n",
    "    mlflow.log_metric(\"precision\", precision_gd)\n",
    "    mlflow.log_metric(\"recall\", recall_gd)\n",
    "\n",
    "    # Log the timestamp\n",
    "    mlflow.log_param(\"created_at\", ts)\n",
    "\n",
    "print('done.')"
   ]
  },
  {
   "cell_type": "code",
   "execution_count": 153,
   "metadata": {},
   "outputs": [],
   "source": [
    "# feature_names = pipeline.feature_names_in_\n",
    "# coefficients = pipeline.named_steps['classifier'].feature_importances_\n",
    "# # coefficients = pipeline.named_steps['classifier'].coef_[0]\n",
    "# for feature, coef in zip(feature_names, coefficients):\n",
    "#     print(f\"{feature}: {coef}\")"
   ]
  },
  {
   "cell_type": "code",
   "execution_count": 154,
   "metadata": {},
   "outputs": [
    {
     "data": {
      "application/vnd.plotly.v1+json": {
       "config": {
        "plotlyServerURL": "https://plot.ly"
       },
       "data": [
        {
         "hovertemplate": "variable=roc_auc<br>index=%{x}<br>value=%{y}<extra></extra>",
         "legendgroup": "roc_auc",
         "line": {
          "color": "#636efa",
          "dash": "solid"
         },
         "marker": {
          "symbol": "circle"
         },
         "mode": "lines",
         "name": "roc_auc",
         "orientation": "v",
         "showlegend": true,
         "type": "scatter",
         "x": [
          "09:45:00",
          "09:50:00",
          "09:55:00",
          "10:00:00",
          "10:05:00",
          "10:10:00",
          "10:15:00",
          "10:20:00",
          "10:25:00",
          "10:30:00",
          "10:35:00",
          "10:40:00",
          "10:45:00",
          "10:50:00",
          "10:55:00",
          "11:00:00",
          "11:05:00",
          "11:10:00",
          "11:15:00",
          "11:20:00",
          "11:25:00",
          "11:30:00",
          "11:35:00",
          "11:40:00",
          "11:45:00",
          "11:50:00",
          "11:55:00",
          "12:00:00",
          "12:05:00",
          "12:10:00",
          "12:15:00",
          "12:20:00",
          "12:25:00",
          "12:30:00",
          "12:35:00",
          "12:40:00",
          "12:45:00",
          "12:50:00",
          "12:55:00",
          "13:00:00",
          "13:05:00",
          "13:10:00",
          "13:15:00",
          "13:20:00",
          "13:25:00",
          "13:30:00",
          "13:35:00",
          "13:40:00",
          "13:45:00",
          "13:50:00",
          "13:55:00",
          "14:00:00",
          "14:05:00",
          "14:10:00",
          "14:15:00",
          "14:20:00",
          "14:25:00",
          "14:30:00",
          "14:35:00",
          "14:40:00",
          "14:45:00",
          "14:50:00",
          "14:55:00",
          "15:00:00",
          "15:05:00",
          "15:10:00",
          "15:15:00",
          "15:20:00",
          "15:25:00",
          "15:30:00",
          "15:35:00",
          "15:40:00",
          "15:45:00",
          "15:50:00",
          "15:55:00"
         ],
         "xaxis": "x",
         "y": [
          0.8064829192546584,
          0.8215277777777777,
          0.8346654511533242,
          0.8420395359848485,
          0.8485585076314301,
          0.8605655685141835,
          0.8652011004147542,
          0.8659437365450632,
          0.8653619702176403,
          0.8643653430618045,
          0.8639693992738811,
          0.8631025226891123,
          0.8634827488687783,
          0.8625795553607929,
          0.8619273532087933,
          0.8613122374184321,
          0.8623217758896885,
          0.8632775230975386,
          0.864211375619998,
          0.8659768978992735,
          0.8685006139847716,
          0.8706061312674416,
          0.8727523505214714,
          0.8750275833556325,
          0.8770180467373588,
          0.8788442524320483,
          0.8800506218203153,
          0.8805899781342807,
          0.881017439174832,
          0.8817960093828028,
          0.8825914087249123,
          0.8828306415865934,
          0.8836471906692774,
          0.8844800641287445,
          0.8853480733258511,
          0.8859511222027026,
          0.886387604445526,
          0.8863742334059137,
          0.8856763114714856,
          0.8854569148485765,
          0.8850556945109073,
          0.8846645012849305,
          0.8837999595302511,
          0.8834313034124186,
          0.8830965505744157,
          0.8831378990059573,
          0.8828874083741823,
          0.8824107302359665,
          0.8817352763219459,
          0.881342962184874,
          0.8812783882815661,
          0.8818183630686315,
          0.882468198176987,
          0.8831230724625139,
          0.88392488533838,
          0.8844082104486022,
          0.8849057397635683,
          0.8857922654056222,
          0.8866649753155351,
          0.887285607356715,
          0.8878139446762299,
          0.8883956191888747,
          0.8889699942470244,
          0.8898178789085416,
          0.8906550622463159,
          0.8914670517126604,
          0.8923461318173178,
          0.8933541832993813,
          0.8942933806041062,
          0.8955352356019985,
          0.8967121804953037,
          0.8979935520011788,
          0.899112520336816,
          0.9005867602437736,
          0.9026037603833524
         ],
         "yaxis": "y"
        },
        {
         "hovertemplate": "variable=precision<br>index=%{x}<br>value=%{y}<extra></extra>",
         "legendgroup": "precision",
         "line": {
          "color": "#EF553B",
          "dash": "solid"
         },
         "marker": {
          "symbol": "circle"
         },
         "mode": "lines",
         "name": "precision",
         "orientation": "v",
         "showlegend": true,
         "type": "scatter",
         "x": [
          "09:45:00",
          "09:50:00",
          "09:55:00",
          "10:00:00",
          "10:05:00",
          "10:10:00",
          "10:15:00",
          "10:20:00",
          "10:25:00",
          "10:30:00",
          "10:35:00",
          "10:40:00",
          "10:45:00",
          "10:50:00",
          "10:55:00",
          "11:00:00",
          "11:05:00",
          "11:10:00",
          "11:15:00",
          "11:20:00",
          "11:25:00",
          "11:30:00",
          "11:35:00",
          "11:40:00",
          "11:45:00",
          "11:50:00",
          "11:55:00",
          "12:00:00",
          "12:05:00",
          "12:10:00",
          "12:15:00",
          "12:20:00",
          "12:25:00",
          "12:30:00",
          "12:35:00",
          "12:40:00",
          "12:45:00",
          "12:50:00",
          "12:55:00",
          "13:00:00",
          "13:05:00",
          "13:10:00",
          "13:15:00",
          "13:20:00",
          "13:25:00",
          "13:30:00",
          "13:35:00",
          "13:40:00",
          "13:45:00",
          "13:50:00",
          "13:55:00",
          "14:00:00",
          "14:05:00",
          "14:10:00",
          "14:15:00",
          "14:20:00",
          "14:25:00",
          "14:30:00",
          "14:35:00",
          "14:40:00",
          "14:45:00",
          "14:50:00",
          "14:55:00",
          "15:00:00",
          "15:05:00",
          "15:10:00",
          "15:15:00",
          "15:20:00",
          "15:25:00",
          "15:30:00",
          "15:35:00",
          "15:40:00",
          "15:45:00",
          "15:50:00",
          "15:55:00"
         ],
         "xaxis": "x",
         "y": [
          0.7741935483870968,
          0.8125,
          0.8269230769230769,
          0.821917808219178,
          0.8195876288659794,
          0.8244897959183674,
          0.8322147651006712,
          0.8390804597701149,
          0.8425,
          0.8414096916299559,
          0.8404669260700389,
          0.8393782383419689,
          0.8387596899224806,
          0.8359046283309958,
          0.8350383631713555,
          0.8341176470588235,
          0.8351528384279476,
          0.8356997971602435,
          0.8334901222953904,
          0.8326029798422436,
          0.8327868852459016,
          0.8338461538461538,
          0.8355072463768116,
          0.837431693989071,
          0.8390433096315449,
          0.8416206261510129,
          0.8420745920745921,
          0.8427464008859358,
          0.8424657534246576,
          0.8427135678391959,
          0.8436748436748437,
          0.8437067773167358,
          0.8439434129089302,
          0.8445199660152931,
          0.8460908718788375,
          0.8476716653512234,
          0.8488770460601447,
          0.8491537895511405,
          0.8494661921708185,
          0.8494141971054445,
          0.849799732977303,
          0.8500323206205559,
          0.8505963590709353,
          0.8503960999390615,
          0.8499556081680971,
          0.8503166378814048,
          0.8509803921568627,
          0.8518417462482947,
          0.8526203777600425,
          0.8537344398340249,
          0.8546511627906976,
          0.8560157790927022,
          0.8573833573833574,
          0.8593236261155472,
          0.8610729023383769,
          0.8624551971326165,
          0.8637757336837495,
          0.8650963597430407,
          0.866303436714166,
          0.8674871794871795,
          0.8690237042989152,
          0.8703776553894571,
          0.871868978805395,
          0.8737020955257693,
          0.8751849112426036,
          0.8764940239043825,
          0.8774388080879745,
          0.8788247566063978,
          0.8805181523777058,
          0.8817347789824854,
          0.8829005389514943,
          0.88432,
          0.885978670012547,
          0.8880184331797235,
          0.8904747596153846
         ],
         "yaxis": "y"
        },
        {
         "hovertemplate": "variable=recall<br>index=%{x}<br>value=%{y}<extra></extra>",
         "legendgroup": "recall",
         "line": {
          "color": "#00cc96",
          "dash": "solid"
         },
         "marker": {
          "symbol": "circle"
         },
         "mode": "lines",
         "name": "recall",
         "orientation": "v",
         "showlegend": true,
         "type": "scatter",
         "x": [
          "09:45:00",
          "09:50:00",
          "09:55:00",
          "10:00:00",
          "10:05:00",
          "10:10:00",
          "10:15:00",
          "10:20:00",
          "10:25:00",
          "10:30:00",
          "10:35:00",
          "10:40:00",
          "10:45:00",
          "10:50:00",
          "10:55:00",
          "11:00:00",
          "11:05:00",
          "11:10:00",
          "11:15:00",
          "11:20:00",
          "11:25:00",
          "11:30:00",
          "11:35:00",
          "11:40:00",
          "11:45:00",
          "11:50:00",
          "11:55:00",
          "12:00:00",
          "12:05:00",
          "12:10:00",
          "12:15:00",
          "12:20:00",
          "12:25:00",
          "12:30:00",
          "12:35:00",
          "12:40:00",
          "12:45:00",
          "12:50:00",
          "12:55:00",
          "13:00:00",
          "13:05:00",
          "13:10:00",
          "13:15:00",
          "13:20:00",
          "13:25:00",
          "13:30:00",
          "13:35:00",
          "13:40:00",
          "13:45:00",
          "13:50:00",
          "13:55:00",
          "14:00:00",
          "14:05:00",
          "14:10:00",
          "14:15:00",
          "14:20:00",
          "14:25:00",
          "14:30:00",
          "14:35:00",
          "14:40:00",
          "14:45:00",
          "14:50:00",
          "14:55:00",
          "15:00:00",
          "15:05:00",
          "15:10:00",
          "15:15:00",
          "15:20:00",
          "15:25:00",
          "15:30:00",
          "15:35:00",
          "15:40:00",
          "15:45:00",
          "15:50:00",
          "15:55:00"
         ],
         "xaxis": "x",
         "y": [
          0.42857142857142855,
          0.4482758620689655,
          0.48863636363636365,
          0.5,
          0.521311475409836,
          0.5444743935309974,
          0.5649202733485194,
          0.5725490196078431,
          0.5790378006872853,
          0.5823170731707317,
          0.5917808219178082,
          0.6022304832713755,
          0.6119909502262444,
          0.6188992731048806,
          0.62607861936721,
          0.6302222222222222,
          0.6338028169014085,
          0.6392552366175329,
          0.6462436177972283,
          0.653819683413627,
          0.6618892508143323,
          0.6699629171817059,
          0.6774383078730905,
          0.6864501679731243,
          0.6937466595403528,
          0.7005620848237097,
          0.7072931962799804,
          0.7145539906103286,
          0.7212449255751014,
          0.7278645833333334,
          0.7335842743621915,
          0.7379032258064516,
          0.7430906967691708,
          0.7476494922903347,
          0.7516363636363637,
          0.7558057705840957,
          0.7597955706984668,
          0.7619676460878178,
          0.7635956493921945,
          0.7645781637717122,
          0.7661751429431237,
          0.7683318726263512,
          0.7687943262411348,
          0.7699310344827586,
          0.7707997852925389,
          0.7718839822315129,
          0.7730279898218829,
          0.7737298636926889,
          0.7737807822308064,
          0.7745882352941177,
          0.7758145938503901,
          0.7774294670846394,
          0.7794053344993441,
          0.7813367499466154,
          0.7838063439065108,
          0.7853937168502652,
          0.7870684494112952,
          0.7889084163249366,
          0.7901376146788991,
          0.7913547904191617,
          0.7924528301886793,
          0.7938643702906351,
          0.7951150940080829,
          0.7966947839559304,
          0.7984143049932524,
          0.8002645502645502,
          0.8020428015564203,
          0.8037843854348863,
          0.8056768558951966,
          0.8088752869166029,
          0.8118336086499475,
          0.8145910095799558,
          0.8169197396963124,
          0.82,
          0.8236520289049472
         ],
         "yaxis": "y"
        }
       ],
       "layout": {
        "legend": {
         "title": {
          "text": "variable"
         },
         "tracegroupgap": 0
        },
        "template": {
         "data": {
          "bar": [
           {
            "error_x": {
             "color": "#2a3f5f"
            },
            "error_y": {
             "color": "#2a3f5f"
            },
            "marker": {
             "line": {
              "color": "#E5ECF6",
              "width": 0.5
             },
             "pattern": {
              "fillmode": "overlay",
              "size": 10,
              "solidity": 0.2
             }
            },
            "type": "bar"
           }
          ],
          "barpolar": [
           {
            "marker": {
             "line": {
              "color": "#E5ECF6",
              "width": 0.5
             },
             "pattern": {
              "fillmode": "overlay",
              "size": 10,
              "solidity": 0.2
             }
            },
            "type": "barpolar"
           }
          ],
          "carpet": [
           {
            "aaxis": {
             "endlinecolor": "#2a3f5f",
             "gridcolor": "white",
             "linecolor": "white",
             "minorgridcolor": "white",
             "startlinecolor": "#2a3f5f"
            },
            "baxis": {
             "endlinecolor": "#2a3f5f",
             "gridcolor": "white",
             "linecolor": "white",
             "minorgridcolor": "white",
             "startlinecolor": "#2a3f5f"
            },
            "type": "carpet"
           }
          ],
          "choropleth": [
           {
            "colorbar": {
             "outlinewidth": 0,
             "ticks": ""
            },
            "type": "choropleth"
           }
          ],
          "contour": [
           {
            "colorbar": {
             "outlinewidth": 0,
             "ticks": ""
            },
            "colorscale": [
             [
              0,
              "#0d0887"
             ],
             [
              0.1111111111111111,
              "#46039f"
             ],
             [
              0.2222222222222222,
              "#7201a8"
             ],
             [
              0.3333333333333333,
              "#9c179e"
             ],
             [
              0.4444444444444444,
              "#bd3786"
             ],
             [
              0.5555555555555556,
              "#d8576b"
             ],
             [
              0.6666666666666666,
              "#ed7953"
             ],
             [
              0.7777777777777778,
              "#fb9f3a"
             ],
             [
              0.8888888888888888,
              "#fdca26"
             ],
             [
              1,
              "#f0f921"
             ]
            ],
            "type": "contour"
           }
          ],
          "contourcarpet": [
           {
            "colorbar": {
             "outlinewidth": 0,
             "ticks": ""
            },
            "type": "contourcarpet"
           }
          ],
          "heatmap": [
           {
            "colorbar": {
             "outlinewidth": 0,
             "ticks": ""
            },
            "colorscale": [
             [
              0,
              "#0d0887"
             ],
             [
              0.1111111111111111,
              "#46039f"
             ],
             [
              0.2222222222222222,
              "#7201a8"
             ],
             [
              0.3333333333333333,
              "#9c179e"
             ],
             [
              0.4444444444444444,
              "#bd3786"
             ],
             [
              0.5555555555555556,
              "#d8576b"
             ],
             [
              0.6666666666666666,
              "#ed7953"
             ],
             [
              0.7777777777777778,
              "#fb9f3a"
             ],
             [
              0.8888888888888888,
              "#fdca26"
             ],
             [
              1,
              "#f0f921"
             ]
            ],
            "type": "heatmap"
           }
          ],
          "heatmapgl": [
           {
            "colorbar": {
             "outlinewidth": 0,
             "ticks": ""
            },
            "colorscale": [
             [
              0,
              "#0d0887"
             ],
             [
              0.1111111111111111,
              "#46039f"
             ],
             [
              0.2222222222222222,
              "#7201a8"
             ],
             [
              0.3333333333333333,
              "#9c179e"
             ],
             [
              0.4444444444444444,
              "#bd3786"
             ],
             [
              0.5555555555555556,
              "#d8576b"
             ],
             [
              0.6666666666666666,
              "#ed7953"
             ],
             [
              0.7777777777777778,
              "#fb9f3a"
             ],
             [
              0.8888888888888888,
              "#fdca26"
             ],
             [
              1,
              "#f0f921"
             ]
            ],
            "type": "heatmapgl"
           }
          ],
          "histogram": [
           {
            "marker": {
             "pattern": {
              "fillmode": "overlay",
              "size": 10,
              "solidity": 0.2
             }
            },
            "type": "histogram"
           }
          ],
          "histogram2d": [
           {
            "colorbar": {
             "outlinewidth": 0,
             "ticks": ""
            },
            "colorscale": [
             [
              0,
              "#0d0887"
             ],
             [
              0.1111111111111111,
              "#46039f"
             ],
             [
              0.2222222222222222,
              "#7201a8"
             ],
             [
              0.3333333333333333,
              "#9c179e"
             ],
             [
              0.4444444444444444,
              "#bd3786"
             ],
             [
              0.5555555555555556,
              "#d8576b"
             ],
             [
              0.6666666666666666,
              "#ed7953"
             ],
             [
              0.7777777777777778,
              "#fb9f3a"
             ],
             [
              0.8888888888888888,
              "#fdca26"
             ],
             [
              1,
              "#f0f921"
             ]
            ],
            "type": "histogram2d"
           }
          ],
          "histogram2dcontour": [
           {
            "colorbar": {
             "outlinewidth": 0,
             "ticks": ""
            },
            "colorscale": [
             [
              0,
              "#0d0887"
             ],
             [
              0.1111111111111111,
              "#46039f"
             ],
             [
              0.2222222222222222,
              "#7201a8"
             ],
             [
              0.3333333333333333,
              "#9c179e"
             ],
             [
              0.4444444444444444,
              "#bd3786"
             ],
             [
              0.5555555555555556,
              "#d8576b"
             ],
             [
              0.6666666666666666,
              "#ed7953"
             ],
             [
              0.7777777777777778,
              "#fb9f3a"
             ],
             [
              0.8888888888888888,
              "#fdca26"
             ],
             [
              1,
              "#f0f921"
             ]
            ],
            "type": "histogram2dcontour"
           }
          ],
          "mesh3d": [
           {
            "colorbar": {
             "outlinewidth": 0,
             "ticks": ""
            },
            "type": "mesh3d"
           }
          ],
          "parcoords": [
           {
            "line": {
             "colorbar": {
              "outlinewidth": 0,
              "ticks": ""
             }
            },
            "type": "parcoords"
           }
          ],
          "pie": [
           {
            "automargin": true,
            "type": "pie"
           }
          ],
          "scatter": [
           {
            "fillpattern": {
             "fillmode": "overlay",
             "size": 10,
             "solidity": 0.2
            },
            "type": "scatter"
           }
          ],
          "scatter3d": [
           {
            "line": {
             "colorbar": {
              "outlinewidth": 0,
              "ticks": ""
             }
            },
            "marker": {
             "colorbar": {
              "outlinewidth": 0,
              "ticks": ""
             }
            },
            "type": "scatter3d"
           }
          ],
          "scattercarpet": [
           {
            "marker": {
             "colorbar": {
              "outlinewidth": 0,
              "ticks": ""
             }
            },
            "type": "scattercarpet"
           }
          ],
          "scattergeo": [
           {
            "marker": {
             "colorbar": {
              "outlinewidth": 0,
              "ticks": ""
             }
            },
            "type": "scattergeo"
           }
          ],
          "scattergl": [
           {
            "marker": {
             "colorbar": {
              "outlinewidth": 0,
              "ticks": ""
             }
            },
            "type": "scattergl"
           }
          ],
          "scattermapbox": [
           {
            "marker": {
             "colorbar": {
              "outlinewidth": 0,
              "ticks": ""
             }
            },
            "type": "scattermapbox"
           }
          ],
          "scatterpolar": [
           {
            "marker": {
             "colorbar": {
              "outlinewidth": 0,
              "ticks": ""
             }
            },
            "type": "scatterpolar"
           }
          ],
          "scatterpolargl": [
           {
            "marker": {
             "colorbar": {
              "outlinewidth": 0,
              "ticks": ""
             }
            },
            "type": "scatterpolargl"
           }
          ],
          "scatterternary": [
           {
            "marker": {
             "colorbar": {
              "outlinewidth": 0,
              "ticks": ""
             }
            },
            "type": "scatterternary"
           }
          ],
          "surface": [
           {
            "colorbar": {
             "outlinewidth": 0,
             "ticks": ""
            },
            "colorscale": [
             [
              0,
              "#0d0887"
             ],
             [
              0.1111111111111111,
              "#46039f"
             ],
             [
              0.2222222222222222,
              "#7201a8"
             ],
             [
              0.3333333333333333,
              "#9c179e"
             ],
             [
              0.4444444444444444,
              "#bd3786"
             ],
             [
              0.5555555555555556,
              "#d8576b"
             ],
             [
              0.6666666666666666,
              "#ed7953"
             ],
             [
              0.7777777777777778,
              "#fb9f3a"
             ],
             [
              0.8888888888888888,
              "#fdca26"
             ],
             [
              1,
              "#f0f921"
             ]
            ],
            "type": "surface"
           }
          ],
          "table": [
           {
            "cells": {
             "fill": {
              "color": "#EBF0F8"
             },
             "line": {
              "color": "white"
             }
            },
            "header": {
             "fill": {
              "color": "#C8D4E3"
             },
             "line": {
              "color": "white"
             }
            },
            "type": "table"
           }
          ]
         },
         "layout": {
          "annotationdefaults": {
           "arrowcolor": "#2a3f5f",
           "arrowhead": 0,
           "arrowwidth": 1
          },
          "autotypenumbers": "strict",
          "coloraxis": {
           "colorbar": {
            "outlinewidth": 0,
            "ticks": ""
           }
          },
          "colorscale": {
           "diverging": [
            [
             0,
             "#8e0152"
            ],
            [
             0.1,
             "#c51b7d"
            ],
            [
             0.2,
             "#de77ae"
            ],
            [
             0.3,
             "#f1b6da"
            ],
            [
             0.4,
             "#fde0ef"
            ],
            [
             0.5,
             "#f7f7f7"
            ],
            [
             0.6,
             "#e6f5d0"
            ],
            [
             0.7,
             "#b8e186"
            ],
            [
             0.8,
             "#7fbc41"
            ],
            [
             0.9,
             "#4d9221"
            ],
            [
             1,
             "#276419"
            ]
           ],
           "sequential": [
            [
             0,
             "#0d0887"
            ],
            [
             0.1111111111111111,
             "#46039f"
            ],
            [
             0.2222222222222222,
             "#7201a8"
            ],
            [
             0.3333333333333333,
             "#9c179e"
            ],
            [
             0.4444444444444444,
             "#bd3786"
            ],
            [
             0.5555555555555556,
             "#d8576b"
            ],
            [
             0.6666666666666666,
             "#ed7953"
            ],
            [
             0.7777777777777778,
             "#fb9f3a"
            ],
            [
             0.8888888888888888,
             "#fdca26"
            ],
            [
             1,
             "#f0f921"
            ]
           ],
           "sequentialminus": [
            [
             0,
             "#0d0887"
            ],
            [
             0.1111111111111111,
             "#46039f"
            ],
            [
             0.2222222222222222,
             "#7201a8"
            ],
            [
             0.3333333333333333,
             "#9c179e"
            ],
            [
             0.4444444444444444,
             "#bd3786"
            ],
            [
             0.5555555555555556,
             "#d8576b"
            ],
            [
             0.6666666666666666,
             "#ed7953"
            ],
            [
             0.7777777777777778,
             "#fb9f3a"
            ],
            [
             0.8888888888888888,
             "#fdca26"
            ],
            [
             1,
             "#f0f921"
            ]
           ]
          },
          "colorway": [
           "#636efa",
           "#EF553B",
           "#00cc96",
           "#ab63fa",
           "#FFA15A",
           "#19d3f3",
           "#FF6692",
           "#B6E880",
           "#FF97FF",
           "#FECB52"
          ],
          "font": {
           "color": "#2a3f5f"
          },
          "geo": {
           "bgcolor": "white",
           "lakecolor": "white",
           "landcolor": "#E5ECF6",
           "showlakes": true,
           "showland": true,
           "subunitcolor": "white"
          },
          "hoverlabel": {
           "align": "left"
          },
          "hovermode": "closest",
          "mapbox": {
           "style": "light"
          },
          "paper_bgcolor": "white",
          "plot_bgcolor": "#E5ECF6",
          "polar": {
           "angularaxis": {
            "gridcolor": "white",
            "linecolor": "white",
            "ticks": ""
           },
           "bgcolor": "#E5ECF6",
           "radialaxis": {
            "gridcolor": "white",
            "linecolor": "white",
            "ticks": ""
           }
          },
          "scene": {
           "xaxis": {
            "backgroundcolor": "#E5ECF6",
            "gridcolor": "white",
            "gridwidth": 2,
            "linecolor": "white",
            "showbackground": true,
            "ticks": "",
            "zerolinecolor": "white"
           },
           "yaxis": {
            "backgroundcolor": "#E5ECF6",
            "gridcolor": "white",
            "gridwidth": 2,
            "linecolor": "white",
            "showbackground": true,
            "ticks": "",
            "zerolinecolor": "white"
           },
           "zaxis": {
            "backgroundcolor": "#E5ECF6",
            "gridcolor": "white",
            "gridwidth": 2,
            "linecolor": "white",
            "showbackground": true,
            "ticks": "",
            "zerolinecolor": "white"
           }
          },
          "shapedefaults": {
           "line": {
            "color": "#2a3f5f"
           }
          },
          "ternary": {
           "aaxis": {
            "gridcolor": "white",
            "linecolor": "white",
            "ticks": ""
           },
           "baxis": {
            "gridcolor": "white",
            "linecolor": "white",
            "ticks": ""
           },
           "bgcolor": "#E5ECF6",
           "caxis": {
            "gridcolor": "white",
            "linecolor": "white",
            "ticks": ""
           }
          },
          "title": {
           "x": 0.05
          },
          "xaxis": {
           "automargin": true,
           "gridcolor": "white",
           "linecolor": "white",
           "ticks": "",
           "title": {
            "standoff": 15
           },
           "zerolinecolor": "white",
           "zerolinewidth": 2
          },
          "yaxis": {
           "automargin": true,
           "gridcolor": "white",
           "linecolor": "white",
           "ticks": "",
           "title": {
            "standoff": 15
           },
           "zerolinecolor": "white",
           "zerolinewidth": 2
          }
         }
        },
        "title": {
         "text": "Validation Metrics Over Time (HOD Model)"
        },
        "xaxis": {
         "anchor": "y",
         "domain": [
          0,
          1
         ],
         "title": {
          "text": "index"
         }
        },
        "yaxis": {
         "anchor": "x",
         "domain": [
          0,
          1
         ],
         "title": {
          "text": "value"
         }
        }
       }
      }
     },
     "metadata": {},
     "output_type": "display_data"
    }
   ],
   "source": [
    "import datetime\n",
    "import plotly.express as px\n",
    "\n",
    "\n",
    "time_range = [datetime.time(hour, minute) for hour in range(9, 16) for minute in range(0, 60, 5)]\n",
    "time_range = [x for x in time_range if x >= datetime.time(9,45)]\n",
    "df_val = pd.DataFrame()\n",
    "for t in time_range:\n",
    "    X_val = X_test.loc[X_test['time'] <= t].copy()\n",
    "    y_val = y_test.loc[X_val.index, 'hod_in'].copy()\n",
    "\n",
    "    y_pred_val = pipeline.predict_proba(X_val)[:,-1]\n",
    "\n",
    "    df_val.loc[t, [\n",
    "        'roc_auc',\n",
    "        'precision',\n",
    "        'recall'\n",
    "    ]] =  roc_auc_score(y_val, y_pred_val), precision_score(y_val, y_pred_val > 0.5), recall_score(y_val, y_pred_val > 0.5)\n",
    "\n",
    "\n",
    "fig = px.line(df_val, title='Validation Metrics Over Time (HOD Model)')\n",
    "fig.show()"
   ]
  },
  {
   "cell_type": "code",
   "execution_count": 155,
   "metadata": {},
   "outputs": [
    {
     "data": {
      "application/vnd.plotly.v1+json": {
       "config": {
        "plotlyServerURL": "https://plot.ly"
       },
       "data": [
        {
         "hovertemplate": "variable=roc_auc<br>index=%{x}<br>value=%{y}<extra></extra>",
         "legendgroup": "roc_auc",
         "line": {
          "color": "#636efa",
          "dash": "solid"
         },
         "marker": {
          "symbol": "circle"
         },
         "mode": "lines",
         "name": "roc_auc",
         "orientation": "v",
         "showlegend": true,
         "type": "scatter",
         "x": [
          "09:45:00",
          "09:50:00",
          "09:55:00",
          "10:00:00",
          "10:05:00",
          "10:10:00",
          "10:15:00",
          "10:20:00",
          "10:25:00",
          "10:30:00",
          "10:35:00",
          "10:40:00",
          "10:45:00",
          "10:50:00",
          "10:55:00",
          "11:00:00",
          "11:05:00",
          "11:10:00",
          "11:15:00",
          "11:20:00",
          "11:25:00",
          "11:30:00",
          "11:35:00",
          "11:40:00",
          "11:45:00",
          "11:50:00",
          "11:55:00",
          "12:00:00",
          "12:05:00",
          "12:10:00",
          "12:15:00",
          "12:20:00",
          "12:25:00",
          "12:30:00",
          "12:35:00",
          "12:40:00",
          "12:45:00",
          "12:50:00",
          "12:55:00",
          "13:00:00",
          "13:05:00",
          "13:10:00",
          "13:15:00",
          "13:20:00",
          "13:25:00",
          "13:30:00",
          "13:35:00",
          "13:40:00",
          "13:45:00",
          "13:50:00",
          "13:55:00",
          "14:00:00",
          "14:05:00",
          "14:10:00",
          "14:15:00",
          "14:20:00",
          "14:25:00",
          "14:30:00",
          "14:35:00",
          "14:40:00",
          "14:45:00",
          "14:50:00",
          "14:55:00",
          "15:00:00",
          "15:05:00",
          "15:10:00",
          "15:15:00",
          "15:20:00",
          "15:25:00",
          "15:30:00",
          "15:35:00",
          "15:40:00",
          "15:45:00",
          "15:50:00",
          "15:55:00"
         ],
         "xaxis": "x",
         "y": [
          0.8246650906225375,
          0.8418044448805377,
          0.8430791845911065,
          0.843171806167401,
          0.8456934865900383,
          0.8536098944116466,
          0.8607949706570044,
          0.8631122516702802,
          0.8617903909867939,
          0.8592827588270946,
          0.8582243432490826,
          0.857470924870924,
          0.8560385679458734,
          0.8552766825417013,
          0.8551288823372847,
          0.8551080955853038,
          0.8558283007659245,
          0.8558120293220314,
          0.8560652643755138,
          0.8562641008140733,
          0.8570458333678859,
          0.8581148131533516,
          0.859734457649573,
          0.8611216371639463,
          0.8618055939066093,
          0.8623395533223925,
          0.8629542746686414,
          0.8642840784367448,
          0.8655211591936044,
          0.8665545685743039,
          0.8677075850323571,
          0.868999022610701,
          0.8705351501798609,
          0.8718799130901232,
          0.8732234198061185,
          0.8746279349363507,
          0.8754454152199173,
          0.8762638287645933,
          0.8772707364356306,
          0.8782369727811696,
          0.8791150936450076,
          0.8797298987499089,
          0.8800911423663603,
          0.8803594644080582,
          0.8807619628234619,
          0.8809945731978146,
          0.8815592205790717,
          0.8813388869871557,
          0.8814828519664679,
          0.8815578922278763,
          0.8816993943437902,
          0.8824138240819185,
          0.882934337959566,
          0.8838930854711798,
          0.8847183797854582,
          0.8854570913286237,
          0.8861933747750963,
          0.8869181811210798,
          0.8880738882675696,
          0.8894642443198872,
          0.8908726718330935,
          0.8926098868131797,
          0.8943320547832663,
          0.8957578897954089,
          0.8968387134242042,
          0.8976986658617501,
          0.8984222716159439,
          0.8993903473984347,
          0.9003461098754124,
          0.9012912504423947,
          0.9021706442451406,
          0.9031270630136232,
          0.9041249814656943,
          0.9057420242550256,
          0.907658156872509
         ],
         "yaxis": "y"
        },
        {
         "hovertemplate": "variable=precision<br>index=%{x}<br>value=%{y}<extra></extra>",
         "legendgroup": "precision",
         "line": {
          "color": "#EF553B",
          "dash": "solid"
         },
         "marker": {
          "symbol": "circle"
         },
         "mode": "lines",
         "name": "precision",
         "orientation": "v",
         "showlegend": true,
         "type": "scatter",
         "x": [
          "09:45:00",
          "09:50:00",
          "09:55:00",
          "10:00:00",
          "10:05:00",
          "10:10:00",
          "10:15:00",
          "10:20:00",
          "10:25:00",
          "10:30:00",
          "10:35:00",
          "10:40:00",
          "10:45:00",
          "10:50:00",
          "10:55:00",
          "11:00:00",
          "11:05:00",
          "11:10:00",
          "11:15:00",
          "11:20:00",
          "11:25:00",
          "11:30:00",
          "11:35:00",
          "11:40:00",
          "11:45:00",
          "11:50:00",
          "11:55:00",
          "12:00:00",
          "12:05:00",
          "12:10:00",
          "12:15:00",
          "12:20:00",
          "12:25:00",
          "12:30:00",
          "12:35:00",
          "12:40:00",
          "12:45:00",
          "12:50:00",
          "12:55:00",
          "13:00:00",
          "13:05:00",
          "13:10:00",
          "13:15:00",
          "13:20:00",
          "13:25:00",
          "13:30:00",
          "13:35:00",
          "13:40:00",
          "13:45:00",
          "13:50:00",
          "13:55:00",
          "14:00:00",
          "14:05:00",
          "14:10:00",
          "14:15:00",
          "14:20:00",
          "14:25:00",
          "14:30:00",
          "14:35:00",
          "14:40:00",
          "14:45:00",
          "14:50:00",
          "14:55:00",
          "15:00:00",
          "15:05:00",
          "15:10:00",
          "15:15:00",
          "15:20:00",
          "15:25:00",
          "15:30:00",
          "15:35:00",
          "15:40:00",
          "15:45:00",
          "15:50:00",
          "15:55:00"
         ],
         "xaxis": "x",
         "y": [
          0.7209302325581395,
          0.7613636363636364,
          0.7669172932330827,
          0.7606382978723404,
          0.7611336032388664,
          0.7712418300653595,
          0.772972972972973,
          0.774712643678161,
          0.7724550898203593,
          0.7701754385964912,
          0.7763779527559055,
          0.7792022792022792,
          0.7793548387096774,
          0.7804014167650531,
          0.7806731813246471,
          0.782,
          0.7833333333333333,
          0.7844827586206896,
          0.7860016090104586,
          0.7876039304610734,
          0.7900355871886121,
          0.7916666666666666,
          0.7928843710292249,
          0.7945783132530121,
          0.7959885386819484,
          0.7973784817039868,
          0.7991675338189386,
          0.8022908366533864,
          0.8055422838031534,
          0.8089990817263545,
          0.8112042346713718,
          0.8129770992366412,
          0.8143614851081191,
          0.8150765606595995,
          0.8164964055996973,
          0.8187134502923976,
          0.8202048746026139,
          0.8228454172366622,
          0.8251076515402451,
          0.8272318561335903,
          0.8291770573566085,
          0.8307086614173228,
          0.8323036187113857,
          0.8337625178826895,
          0.8346785416086836,
          0.8359501894964808,
          0.8369765604424546,
          0.8378655720882504,
          0.8386210342243318,
          0.8392509727626459,
          0.83984837716181,
          0.8403322565759114,
          0.8410164155610524,
          0.8425438596491228,
          0.8439974320564948,
          0.8448851774530272,
          0.8456991439054219,
          0.8469347133757962,
          0.8487264242659927,
          0.8504655139654189,
          0.8522304832713755,
          0.8542348237004725,
          0.8563300142247511,
          0.8580375782881002,
          0.8593324250681199,
          0.8607404936624417,
          0.8619506616565921,
          0.8634107285828663,
          0.8649709530538546,
          0.8666461348937481,
          0.8680870353581143,
          0.869623257193711,
          0.8714140090286879,
          0.8736059479553904,
          0.8761904761904762
         ],
         "yaxis": "y"
        },
        {
         "hovertemplate": "variable=recall<br>index=%{x}<br>value=%{y}<extra></extra>",
         "legendgroup": "recall",
         "line": {
          "color": "#00cc96",
          "dash": "solid"
         },
         "marker": {
          "symbol": "circle"
         },
         "mode": "lines",
         "name": "recall",
         "orientation": "v",
         "showlegend": true,
         "type": "scatter",
         "x": [
          "09:45:00",
          "09:50:00",
          "09:55:00",
          "10:00:00",
          "10:05:00",
          "10:10:00",
          "10:15:00",
          "10:20:00",
          "10:25:00",
          "10:30:00",
          "10:35:00",
          "10:40:00",
          "10:45:00",
          "10:50:00",
          "10:55:00",
          "11:00:00",
          "11:05:00",
          "11:10:00",
          "11:15:00",
          "11:20:00",
          "11:25:00",
          "11:30:00",
          "11:35:00",
          "11:40:00",
          "11:45:00",
          "11:50:00",
          "11:55:00",
          "12:00:00",
          "12:05:00",
          "12:10:00",
          "12:15:00",
          "12:20:00",
          "12:25:00",
          "12:30:00",
          "12:35:00",
          "12:40:00",
          "12:45:00",
          "12:50:00",
          "12:55:00",
          "13:00:00",
          "13:05:00",
          "13:10:00",
          "13:15:00",
          "13:20:00",
          "13:25:00",
          "13:30:00",
          "13:35:00",
          "13:40:00",
          "13:45:00",
          "13:50:00",
          "13:55:00",
          "14:00:00",
          "14:05:00",
          "14:10:00",
          "14:15:00",
          "14:20:00",
          "14:25:00",
          "14:30:00",
          "14:35:00",
          "14:40:00",
          "14:45:00",
          "14:50:00",
          "14:55:00",
          "15:00:00",
          "15:05:00",
          "15:10:00",
          "15:15:00",
          "15:20:00",
          "15:25:00",
          "15:30:00",
          "15:35:00",
          "15:40:00",
          "15:45:00",
          "15:50:00",
          "15:55:00"
         ],
         "xaxis": "x",
         "y": [
          0.5740740740740741,
          0.6146788990825688,
          0.6107784431137725,
          0.6299559471365639,
          0.6482758620689655,
          0.6666666666666666,
          0.6842105263157895,
          0.6948453608247422,
          0.6985559566787004,
          0.7012779552715654,
          0.7052932761087267,
          0.7076326002587322,
          0.7114252061248527,
          0.7130528586839266,
          0.7154228855721393,
          0.7207373271889401,
          0.7261802575107296,
          0.7297514033680834,
          0.7345864661654136,
          0.7369165487977369,
          0.7409879839786382,
          0.7446270543615676,
          0.7490996398559424,
          0.7532838378069674,
          0.7561241154055526,
          0.7584415584415585,
          0.76266137040715,
          0.7660485021398002,
          0.7691605839416058,
          0.7721297107800176,
          0.7752951096121417,
          0.7786352558895208,
          0.7821316614420063,
          0.7854710556186152,
          0.7890310786106033,
          0.7920792079207921,
          0.7943893260348956,
          0.7969526333222922,
          0.7996789727126806,
          0.8019925280199253,
          0.8038682381384104,
          0.805107132374523,
          0.8069024529378209,
          0.8083217753120666,
          0.8096652267818575,
          0.8115637319316689,
          0.8136200716845878,
          0.8142607828471703,
          0.815597667638484,
          0.8173851255329228,
          0.8188958188958189,
          0.821009918845807,
          0.8228822882288229,
          0.8255264288783842,
          0.8277019937040924,
          0.8299835931091059,
          0.8317963111467522,
          0.8338232412306487,
          0.8365274051360675,
          0.8391451068616423,
          0.8411300678774537,
          0.8441091954022989,
          0.847141600703606,
          0.8499052214371876,
          0.8520770010131712,
          0.8540460036405759,
          0.8557988645579886,
          0.857642754891045,
          0.8595724762053363,
          0.8617363344051447,
          0.8633904418394951,
          0.8650044260843907,
          0.8664929047205329,
          0.8683911313246162,
          0.8710665552770815
         ],
         "yaxis": "y"
        }
       ],
       "layout": {
        "legend": {
         "title": {
          "text": "variable"
         },
         "tracegroupgap": 0
        },
        "template": {
         "data": {
          "bar": [
           {
            "error_x": {
             "color": "#2a3f5f"
            },
            "error_y": {
             "color": "#2a3f5f"
            },
            "marker": {
             "line": {
              "color": "#E5ECF6",
              "width": 0.5
             },
             "pattern": {
              "fillmode": "overlay",
              "size": 10,
              "solidity": 0.2
             }
            },
            "type": "bar"
           }
          ],
          "barpolar": [
           {
            "marker": {
             "line": {
              "color": "#E5ECF6",
              "width": 0.5
             },
             "pattern": {
              "fillmode": "overlay",
              "size": 10,
              "solidity": 0.2
             }
            },
            "type": "barpolar"
           }
          ],
          "carpet": [
           {
            "aaxis": {
             "endlinecolor": "#2a3f5f",
             "gridcolor": "white",
             "linecolor": "white",
             "minorgridcolor": "white",
             "startlinecolor": "#2a3f5f"
            },
            "baxis": {
             "endlinecolor": "#2a3f5f",
             "gridcolor": "white",
             "linecolor": "white",
             "minorgridcolor": "white",
             "startlinecolor": "#2a3f5f"
            },
            "type": "carpet"
           }
          ],
          "choropleth": [
           {
            "colorbar": {
             "outlinewidth": 0,
             "ticks": ""
            },
            "type": "choropleth"
           }
          ],
          "contour": [
           {
            "colorbar": {
             "outlinewidth": 0,
             "ticks": ""
            },
            "colorscale": [
             [
              0,
              "#0d0887"
             ],
             [
              0.1111111111111111,
              "#46039f"
             ],
             [
              0.2222222222222222,
              "#7201a8"
             ],
             [
              0.3333333333333333,
              "#9c179e"
             ],
             [
              0.4444444444444444,
              "#bd3786"
             ],
             [
              0.5555555555555556,
              "#d8576b"
             ],
             [
              0.6666666666666666,
              "#ed7953"
             ],
             [
              0.7777777777777778,
              "#fb9f3a"
             ],
             [
              0.8888888888888888,
              "#fdca26"
             ],
             [
              1,
              "#f0f921"
             ]
            ],
            "type": "contour"
           }
          ],
          "contourcarpet": [
           {
            "colorbar": {
             "outlinewidth": 0,
             "ticks": ""
            },
            "type": "contourcarpet"
           }
          ],
          "heatmap": [
           {
            "colorbar": {
             "outlinewidth": 0,
             "ticks": ""
            },
            "colorscale": [
             [
              0,
              "#0d0887"
             ],
             [
              0.1111111111111111,
              "#46039f"
             ],
             [
              0.2222222222222222,
              "#7201a8"
             ],
             [
              0.3333333333333333,
              "#9c179e"
             ],
             [
              0.4444444444444444,
              "#bd3786"
             ],
             [
              0.5555555555555556,
              "#d8576b"
             ],
             [
              0.6666666666666666,
              "#ed7953"
             ],
             [
              0.7777777777777778,
              "#fb9f3a"
             ],
             [
              0.8888888888888888,
              "#fdca26"
             ],
             [
              1,
              "#f0f921"
             ]
            ],
            "type": "heatmap"
           }
          ],
          "heatmapgl": [
           {
            "colorbar": {
             "outlinewidth": 0,
             "ticks": ""
            },
            "colorscale": [
             [
              0,
              "#0d0887"
             ],
             [
              0.1111111111111111,
              "#46039f"
             ],
             [
              0.2222222222222222,
              "#7201a8"
             ],
             [
              0.3333333333333333,
              "#9c179e"
             ],
             [
              0.4444444444444444,
              "#bd3786"
             ],
             [
              0.5555555555555556,
              "#d8576b"
             ],
             [
              0.6666666666666666,
              "#ed7953"
             ],
             [
              0.7777777777777778,
              "#fb9f3a"
             ],
             [
              0.8888888888888888,
              "#fdca26"
             ],
             [
              1,
              "#f0f921"
             ]
            ],
            "type": "heatmapgl"
           }
          ],
          "histogram": [
           {
            "marker": {
             "pattern": {
              "fillmode": "overlay",
              "size": 10,
              "solidity": 0.2
             }
            },
            "type": "histogram"
           }
          ],
          "histogram2d": [
           {
            "colorbar": {
             "outlinewidth": 0,
             "ticks": ""
            },
            "colorscale": [
             [
              0,
              "#0d0887"
             ],
             [
              0.1111111111111111,
              "#46039f"
             ],
             [
              0.2222222222222222,
              "#7201a8"
             ],
             [
              0.3333333333333333,
              "#9c179e"
             ],
             [
              0.4444444444444444,
              "#bd3786"
             ],
             [
              0.5555555555555556,
              "#d8576b"
             ],
             [
              0.6666666666666666,
              "#ed7953"
             ],
             [
              0.7777777777777778,
              "#fb9f3a"
             ],
             [
              0.8888888888888888,
              "#fdca26"
             ],
             [
              1,
              "#f0f921"
             ]
            ],
            "type": "histogram2d"
           }
          ],
          "histogram2dcontour": [
           {
            "colorbar": {
             "outlinewidth": 0,
             "ticks": ""
            },
            "colorscale": [
             [
              0,
              "#0d0887"
             ],
             [
              0.1111111111111111,
              "#46039f"
             ],
             [
              0.2222222222222222,
              "#7201a8"
             ],
             [
              0.3333333333333333,
              "#9c179e"
             ],
             [
              0.4444444444444444,
              "#bd3786"
             ],
             [
              0.5555555555555556,
              "#d8576b"
             ],
             [
              0.6666666666666666,
              "#ed7953"
             ],
             [
              0.7777777777777778,
              "#fb9f3a"
             ],
             [
              0.8888888888888888,
              "#fdca26"
             ],
             [
              1,
              "#f0f921"
             ]
            ],
            "type": "histogram2dcontour"
           }
          ],
          "mesh3d": [
           {
            "colorbar": {
             "outlinewidth": 0,
             "ticks": ""
            },
            "type": "mesh3d"
           }
          ],
          "parcoords": [
           {
            "line": {
             "colorbar": {
              "outlinewidth": 0,
              "ticks": ""
             }
            },
            "type": "parcoords"
           }
          ],
          "pie": [
           {
            "automargin": true,
            "type": "pie"
           }
          ],
          "scatter": [
           {
            "fillpattern": {
             "fillmode": "overlay",
             "size": 10,
             "solidity": 0.2
            },
            "type": "scatter"
           }
          ],
          "scatter3d": [
           {
            "line": {
             "colorbar": {
              "outlinewidth": 0,
              "ticks": ""
             }
            },
            "marker": {
             "colorbar": {
              "outlinewidth": 0,
              "ticks": ""
             }
            },
            "type": "scatter3d"
           }
          ],
          "scattercarpet": [
           {
            "marker": {
             "colorbar": {
              "outlinewidth": 0,
              "ticks": ""
             }
            },
            "type": "scattercarpet"
           }
          ],
          "scattergeo": [
           {
            "marker": {
             "colorbar": {
              "outlinewidth": 0,
              "ticks": ""
             }
            },
            "type": "scattergeo"
           }
          ],
          "scattergl": [
           {
            "marker": {
             "colorbar": {
              "outlinewidth": 0,
              "ticks": ""
             }
            },
            "type": "scattergl"
           }
          ],
          "scattermapbox": [
           {
            "marker": {
             "colorbar": {
              "outlinewidth": 0,
              "ticks": ""
             }
            },
            "type": "scattermapbox"
           }
          ],
          "scatterpolar": [
           {
            "marker": {
             "colorbar": {
              "outlinewidth": 0,
              "ticks": ""
             }
            },
            "type": "scatterpolar"
           }
          ],
          "scatterpolargl": [
           {
            "marker": {
             "colorbar": {
              "outlinewidth": 0,
              "ticks": ""
             }
            },
            "type": "scatterpolargl"
           }
          ],
          "scatterternary": [
           {
            "marker": {
             "colorbar": {
              "outlinewidth": 0,
              "ticks": ""
             }
            },
            "type": "scatterternary"
           }
          ],
          "surface": [
           {
            "colorbar": {
             "outlinewidth": 0,
             "ticks": ""
            },
            "colorscale": [
             [
              0,
              "#0d0887"
             ],
             [
              0.1111111111111111,
              "#46039f"
             ],
             [
              0.2222222222222222,
              "#7201a8"
             ],
             [
              0.3333333333333333,
              "#9c179e"
             ],
             [
              0.4444444444444444,
              "#bd3786"
             ],
             [
              0.5555555555555556,
              "#d8576b"
             ],
             [
              0.6666666666666666,
              "#ed7953"
             ],
             [
              0.7777777777777778,
              "#fb9f3a"
             ],
             [
              0.8888888888888888,
              "#fdca26"
             ],
             [
              1,
              "#f0f921"
             ]
            ],
            "type": "surface"
           }
          ],
          "table": [
           {
            "cells": {
             "fill": {
              "color": "#EBF0F8"
             },
             "line": {
              "color": "white"
             }
            },
            "header": {
             "fill": {
              "color": "#C8D4E3"
             },
             "line": {
              "color": "white"
             }
            },
            "type": "table"
           }
          ]
         },
         "layout": {
          "annotationdefaults": {
           "arrowcolor": "#2a3f5f",
           "arrowhead": 0,
           "arrowwidth": 1
          },
          "autotypenumbers": "strict",
          "coloraxis": {
           "colorbar": {
            "outlinewidth": 0,
            "ticks": ""
           }
          },
          "colorscale": {
           "diverging": [
            [
             0,
             "#8e0152"
            ],
            [
             0.1,
             "#c51b7d"
            ],
            [
             0.2,
             "#de77ae"
            ],
            [
             0.3,
             "#f1b6da"
            ],
            [
             0.4,
             "#fde0ef"
            ],
            [
             0.5,
             "#f7f7f7"
            ],
            [
             0.6,
             "#e6f5d0"
            ],
            [
             0.7,
             "#b8e186"
            ],
            [
             0.8,
             "#7fbc41"
            ],
            [
             0.9,
             "#4d9221"
            ],
            [
             1,
             "#276419"
            ]
           ],
           "sequential": [
            [
             0,
             "#0d0887"
            ],
            [
             0.1111111111111111,
             "#46039f"
            ],
            [
             0.2222222222222222,
             "#7201a8"
            ],
            [
             0.3333333333333333,
             "#9c179e"
            ],
            [
             0.4444444444444444,
             "#bd3786"
            ],
            [
             0.5555555555555556,
             "#d8576b"
            ],
            [
             0.6666666666666666,
             "#ed7953"
            ],
            [
             0.7777777777777778,
             "#fb9f3a"
            ],
            [
             0.8888888888888888,
             "#fdca26"
            ],
            [
             1,
             "#f0f921"
            ]
           ],
           "sequentialminus": [
            [
             0,
             "#0d0887"
            ],
            [
             0.1111111111111111,
             "#46039f"
            ],
            [
             0.2222222222222222,
             "#7201a8"
            ],
            [
             0.3333333333333333,
             "#9c179e"
            ],
            [
             0.4444444444444444,
             "#bd3786"
            ],
            [
             0.5555555555555556,
             "#d8576b"
            ],
            [
             0.6666666666666666,
             "#ed7953"
            ],
            [
             0.7777777777777778,
             "#fb9f3a"
            ],
            [
             0.8888888888888888,
             "#fdca26"
            ],
            [
             1,
             "#f0f921"
            ]
           ]
          },
          "colorway": [
           "#636efa",
           "#EF553B",
           "#00cc96",
           "#ab63fa",
           "#FFA15A",
           "#19d3f3",
           "#FF6692",
           "#B6E880",
           "#FF97FF",
           "#FECB52"
          ],
          "font": {
           "color": "#2a3f5f"
          },
          "geo": {
           "bgcolor": "white",
           "lakecolor": "white",
           "landcolor": "#E5ECF6",
           "showlakes": true,
           "showland": true,
           "subunitcolor": "white"
          },
          "hoverlabel": {
           "align": "left"
          },
          "hovermode": "closest",
          "mapbox": {
           "style": "light"
          },
          "paper_bgcolor": "white",
          "plot_bgcolor": "#E5ECF6",
          "polar": {
           "angularaxis": {
            "gridcolor": "white",
            "linecolor": "white",
            "ticks": ""
           },
           "bgcolor": "#E5ECF6",
           "radialaxis": {
            "gridcolor": "white",
            "linecolor": "white",
            "ticks": ""
           }
          },
          "scene": {
           "xaxis": {
            "backgroundcolor": "#E5ECF6",
            "gridcolor": "white",
            "gridwidth": 2,
            "linecolor": "white",
            "showbackground": true,
            "ticks": "",
            "zerolinecolor": "white"
           },
           "yaxis": {
            "backgroundcolor": "#E5ECF6",
            "gridcolor": "white",
            "gridwidth": 2,
            "linecolor": "white",
            "showbackground": true,
            "ticks": "",
            "zerolinecolor": "white"
           },
           "zaxis": {
            "backgroundcolor": "#E5ECF6",
            "gridcolor": "white",
            "gridwidth": 2,
            "linecolor": "white",
            "showbackground": true,
            "ticks": "",
            "zerolinecolor": "white"
           }
          },
          "shapedefaults": {
           "line": {
            "color": "#2a3f5f"
           }
          },
          "ternary": {
           "aaxis": {
            "gridcolor": "white",
            "linecolor": "white",
            "ticks": ""
           },
           "baxis": {
            "gridcolor": "white",
            "linecolor": "white",
            "ticks": ""
           },
           "bgcolor": "#E5ECF6",
           "caxis": {
            "gridcolor": "white",
            "linecolor": "white",
            "ticks": ""
           }
          },
          "title": {
           "x": 0.05
          },
          "xaxis": {
           "automargin": true,
           "gridcolor": "white",
           "linecolor": "white",
           "ticks": "",
           "title": {
            "standoff": 15
           },
           "zerolinecolor": "white",
           "zerolinewidth": 2
          },
          "yaxis": {
           "automargin": true,
           "gridcolor": "white",
           "linecolor": "white",
           "ticks": "",
           "title": {
            "standoff": 15
           },
           "zerolinecolor": "white",
           "zerolinewidth": 2
          }
         }
        },
        "title": {
         "text": "Validation Metrics Over Time (LOD Model)"
        },
        "xaxis": {
         "anchor": "y",
         "domain": [
          0,
          1
         ],
         "title": {
          "text": "index"
         }
        },
        "yaxis": {
         "anchor": "x",
         "domain": [
          0,
          1
         ],
         "title": {
          "text": "value"
         }
        }
       }
      }
     },
     "metadata": {},
     "output_type": "display_data"
    }
   ],
   "source": [
    "import datetime\n",
    "import plotly.express as px\n",
    "\n",
    "time_range = [datetime.time(hour, minute) for hour in range(9, 16) for minute in range(0, 60, 5)]\n",
    "time_range = [x for x in time_range if x >= datetime.time(9,45)]\n",
    "df_val = pd.DataFrame()\n",
    "for t in time_range:\n",
    "    X_val = X_test.loc[X_test['time'] <= t].copy()\n",
    "    y_val = y_test.loc[X_val.index, 'lod_in'].copy()\n",
    "\n",
    "    y_pred_val = pipeline_lod.predict_proba(X_val)[:,-1]\n",
    "\n",
    "    df_val.loc[t, [\n",
    "        'roc_auc',\n",
    "        'precision',\n",
    "        'recall'\n",
    "    ]] =  roc_auc_score(y_val, y_pred_val), precision_score(y_val, y_pred_val > 0.5), recall_score(y_val, y_pred_val > 0.5)\n",
    "\n",
    "\n",
    "fig = px.line(df_val, title='Validation Metrics Over Time (LOD Model)')\n",
    "fig.show()"
   ]
  },
  {
   "cell_type": "code",
   "execution_count": 156,
   "metadata": {},
   "outputs": [
    {
     "data": {
      "application/vnd.plotly.v1+json": {
       "config": {
        "plotlyServerURL": "https://plot.ly"
       },
       "data": [
        {
         "hovertemplate": "variable=roc_auc<br>index=%{x}<br>value=%{y}<extra></extra>",
         "legendgroup": "roc_auc",
         "line": {
          "color": "#636efa",
          "dash": "solid"
         },
         "marker": {
          "symbol": "circle"
         },
         "mode": "lines",
         "name": "roc_auc",
         "orientation": "v",
         "showlegend": true,
         "type": "scatter",
         "x": [
          "09:45:00",
          "09:50:00",
          "09:55:00",
          "10:00:00",
          "10:05:00",
          "10:10:00",
          "10:15:00",
          "10:20:00",
          "10:25:00",
          "10:30:00",
          "10:35:00",
          "10:40:00",
          "10:45:00",
          "10:50:00",
          "10:55:00",
          "11:00:00",
          "11:05:00",
          "11:10:00",
          "11:15:00",
          "11:20:00",
          "11:25:00",
          "11:30:00",
          "11:35:00",
          "11:40:00",
          "11:45:00",
          "11:50:00",
          "11:55:00",
          "12:00:00",
          "12:05:00",
          "12:10:00",
          "12:15:00",
          "12:20:00",
          "12:25:00",
          "12:30:00",
          "12:35:00",
          "12:40:00",
          "12:45:00",
          "12:50:00",
          "12:55:00",
          "13:00:00",
          "13:05:00",
          "13:10:00",
          "13:15:00",
          "13:20:00",
          "13:25:00",
          "13:30:00",
          "13:35:00",
          "13:40:00",
          "13:45:00",
          "13:50:00",
          "13:55:00",
          "14:00:00",
          "14:05:00",
          "14:10:00",
          "14:15:00",
          "14:20:00",
          "14:25:00",
          "14:30:00",
          "14:35:00",
          "14:40:00",
          "14:45:00",
          "14:50:00",
          "14:55:00",
          "15:00:00",
          "15:05:00",
          "15:10:00",
          "15:15:00",
          "15:20:00",
          "15:25:00",
          "15:30:00",
          "15:35:00",
          "15:40:00",
          "15:45:00",
          "15:50:00",
          "15:55:00"
         ],
         "xaxis": "x",
         "y": [
          0.8188961988304093,
          0.833470394736842,
          0.8406534275503573,
          0.8432759959795322,
          0.8466228070175438,
          0.8522706505847952,
          0.8574505460078768,
          0.8621119449013157,
          0.8661660259187063,
          0.868968384502924,
          0.871776225170364,
          0.8744879233674464,
          0.8768972326032041,
          0.879173846073517,
          0.8811488791423002,
          0.8834117867096125,
          0.8858830232299317,
          0.8877627856291964,
          0.8894606741345515,
          0.8912036275584794,
          0.8931553006192731,
          0.8949730181600697,
          0.89681461352657,
          0.8986518170788661,
          0.9004915204678362,
          0.9024179578013081,
          0.9042367578754843,
          0.9059913781850459,
          0.9077994511894082,
          0.9094175397985704,
          0.9107445491112451,
          0.9118260612264713,
          0.9127926158179348,
          0.9138420477195006,
          0.9147479562000239,
          0.9155244177992563,
          0.9161972472116497,
          0.9168740305721599,
          0.9173262314920547,
          0.9179699492872806,
          0.9184536560144163,
          0.9189728309696198,
          0.919363566603095,
          0.9198666305352621,
          0.9204042671306324,
          0.9208889219963046,
          0.9214164118263592,
          0.9221119913127536,
          0.922854582843444,
          0.9235651990215324,
          0.9243482309781749,
          0.925537741463784,
          0.9266481665401123,
          0.9277340585576725,
          0.9288449276778543,
          0.9298747810966493,
          0.9308859522226116,
          0.9319387870125551,
          0.9330457961835597,
          0.9340990170497696,
          0.9351875066617481,
          0.9362540614960463,
          0.937350367648152,
          0.9385238472778056,
          0.9396742531118593,
          0.9407688428280236,
          0.9418662546187194,
          0.9429679616450717,
          0.9440414331890699,
          0.9451650917386623,
          0.9463998875960331,
          0.9476080619431578,
          0.948787349573469,
          0.950002203280203,
          0.9511792044633466
         ],
         "yaxis": "y"
        },
        {
         "hovertemplate": "variable=precision<br>index=%{x}<br>value=%{y}<extra></extra>",
         "legendgroup": "precision",
         "line": {
          "color": "#EF553B",
          "dash": "solid"
         },
         "marker": {
          "symbol": "circle"
         },
         "mode": "lines",
         "name": "precision",
         "orientation": "v",
         "showlegend": true,
         "type": "scatter",
         "x": [
          "09:45:00",
          "09:50:00",
          "09:55:00",
          "10:00:00",
          "10:05:00",
          "10:10:00",
          "10:15:00",
          "10:20:00",
          "10:25:00",
          "10:30:00",
          "10:35:00",
          "10:40:00",
          "10:45:00",
          "10:50:00",
          "10:55:00",
          "11:00:00",
          "11:05:00",
          "11:10:00",
          "11:15:00",
          "11:20:00",
          "11:25:00",
          "11:30:00",
          "11:35:00",
          "11:40:00",
          "11:45:00",
          "11:50:00",
          "11:55:00",
          "12:00:00",
          "12:05:00",
          "12:10:00",
          "12:15:00",
          "12:20:00",
          "12:25:00",
          "12:30:00",
          "12:35:00",
          "12:40:00",
          "12:45:00",
          "12:50:00",
          "12:55:00",
          "13:00:00",
          "13:05:00",
          "13:10:00",
          "13:15:00",
          "13:20:00",
          "13:25:00",
          "13:30:00",
          "13:35:00",
          "13:40:00",
          "13:45:00",
          "13:50:00",
          "13:55:00",
          "14:00:00",
          "14:05:00",
          "14:10:00",
          "14:15:00",
          "14:20:00",
          "14:25:00",
          "14:30:00",
          "14:35:00",
          "14:40:00",
          "14:45:00",
          "14:50:00",
          "14:55:00",
          "15:00:00",
          "15:05:00",
          "15:10:00",
          "15:15:00",
          "15:20:00",
          "15:25:00",
          "15:30:00",
          "15:35:00",
          "15:40:00",
          "15:45:00",
          "15:50:00",
          "15:55:00"
         ],
         "xaxis": "x",
         "y": [
          0.7160493827160493,
          0.7300613496932515,
          0.7439024390243902,
          0.7537993920972644,
          0.7602905569007264,
          0.7609561752988048,
          0.7614213197969543,
          0.7636632200886263,
          0.7675033025099075,
          0.7711561382598331,
          0.7728260869565218,
          0.7747747747747747,
          0.7775718257645968,
          0.7796024200518582,
          0.7818329278183292,
          0.783206106870229,
          0.7853025936599424,
          0.7866394001363326,
          0.7876049063912202,
          0.789086450030656,
          0.7905484247374562,
          0.7919911012235817,
          0.7933049946865037,
          0.7941026944585663,
          0.7944471505114467,
          0.795880149812734,
          0.7969383160738406,
          0.7972270363951474,
          0.7974947807933194,
          0.7980652962515115,
          0.7988304093567251,
          0.7999244998112496,
          0.8010241404535479,
          0.8017730496453901,
          0.8027538726333907,
          0.8040133779264214,
          0.8046163849154746,
          0.8059512503956948,
          0.8069093152375078,
          0.8084786530366807,
          0.8101525821596244,
          0.8115153251217416,
          0.8123601789709173,
          0.813457330415755,
          0.8147255689424364,
          0.8155136268343816,
          0.8166880616174583,
          0.8180216461112509,
          0.8189889025893958,
          0.820270924044509,
          0.8215472235405791,
          0.8226256983240223,
          0.8238519533927348,
          0.8252187570114426,
          0.8263552225650066,
          0.827451829400303,
          0.8284741434347733,
          0.8294979079497908,
          0.8306584362139918,
          0.8321182665046578,
          0.8335326953748007,
          0.8349038084020416,
          0.8363952813769097,
          0.8378429878048781,
          0.8392790086368757,
          0.840518038852914,
          0.8415679124886053,
          0.8425876010781671,
          0.8437278525868178,
          0.8448637316561844,
          0.8462599103757326,
          0.8477632250382718,
          0.8492276695768972,
          0.85110263637871,
          0.8529315427448412
         ],
         "yaxis": "y"
        },
        {
         "hovertemplate": "variable=recall<br>index=%{x}<br>value=%{y}<extra></extra>",
         "legendgroup": "recall",
         "line": {
          "color": "#00cc96",
          "dash": "solid"
         },
         "marker": {
          "symbol": "circle"
         },
         "mode": "lines",
         "name": "recall",
         "orientation": "v",
         "showlegend": true,
         "type": "scatter",
         "x": [
          "09:45:00",
          "09:50:00",
          "09:55:00",
          "10:00:00",
          "10:05:00",
          "10:10:00",
          "10:15:00",
          "10:20:00",
          "10:25:00",
          "10:30:00",
          "10:35:00",
          "10:40:00",
          "10:45:00",
          "10:50:00",
          "10:55:00",
          "11:00:00",
          "11:05:00",
          "11:10:00",
          "11:15:00",
          "11:20:00",
          "11:25:00",
          "11:30:00",
          "11:35:00",
          "11:40:00",
          "11:45:00",
          "11:50:00",
          "11:55:00",
          "12:00:00",
          "12:05:00",
          "12:10:00",
          "12:15:00",
          "12:20:00",
          "12:25:00",
          "12:30:00",
          "12:35:00",
          "12:40:00",
          "12:45:00",
          "12:50:00",
          "12:55:00",
          "13:00:00",
          "13:05:00",
          "13:10:00",
          "13:15:00",
          "13:20:00",
          "13:25:00",
          "13:30:00",
          "13:35:00",
          "13:40:00",
          "13:45:00",
          "13:50:00",
          "13:55:00",
          "14:00:00",
          "14:05:00",
          "14:10:00",
          "14:15:00",
          "14:20:00",
          "14:25:00",
          "14:30:00",
          "14:35:00",
          "14:40:00",
          "14:45:00",
          "14:50:00",
          "14:55:00",
          "15:00:00",
          "15:05:00",
          "15:10:00",
          "15:15:00",
          "15:20:00",
          "15:25:00",
          "15:30:00",
          "15:35:00",
          "15:40:00",
          "15:45:00",
          "15:50:00",
          "15:55:00"
         ],
         "xaxis": "x",
         "y": [
          0.7631578947368421,
          0.7828947368421053,
          0.8026315789473685,
          0.8157894736842105,
          0.8263157894736842,
          0.8377192982456141,
          0.8458646616541353,
          0.850328947368421,
          0.8494152046783626,
          0.8513157894736842,
          0.8504784688995215,
          0.8486842105263158,
          0.8491902834008097,
          0.8477443609022557,
          0.8456140350877193,
          0.84375,
          0.8436532507739938,
          0.8435672514619883,
          0.8448753462603878,
          0.8467105263157895,
          0.8489974937343359,
          0.8516746411483254,
          0.8541189931350115,
          0.856359649122807,
          0.858421052631579,
          0.8603238866396761,
          0.8625730994152047,
          0.8646616541353384,
          0.8666061705989111,
          0.868421052631579,
          0.8696943972835314,
          0.8712993421052632,
          0.8732057416267942,
          0.875,
          0.8766917293233083,
          0.8786549707602339,
          0.8801564722617354,
          0.881578947368421,
          0.8825910931174089,
          0.8845394736842105,
          0.8860718870346598,
          0.8875313283208021,
          0.8889228886168911,
          0.8896201017050553,
          0.890286717378584,
          0.8909247065559691,
          0.8915358744394619,
          0.8921218775734285,
          0.8932221624529317,
          0.8940152913261271,
          0.8950361944157187,
          0.8962718742074562,
          0.8974614235938277,
          0.8986073784510139,
          0.8997120921305183,
          0.9007777515908555,
          0.9015748031496063,
          0.9025722740723879,
          0.9035362578334826,
          0.9044684129429892,
          0.9053702901689042,
          0.9062433411463883,
          0.9070889261744967,
          0.9079083212884576,
          0.9089060593737291,
          0.9098738233526937,
          0.9108129439621152,
          0.9117246743146024,
          0.9126101954771944,
          0.9136595503495182,
          0.9146795827123696,
          0.9156715046849164,
          0.9166364624864081,
          0.9177543357768639,
          0.9188426252646437
         ],
         "yaxis": "y"
        }
       ],
       "layout": {
        "legend": {
         "title": {
          "text": "variable"
         },
         "tracegroupgap": 0
        },
        "template": {
         "data": {
          "bar": [
           {
            "error_x": {
             "color": "#2a3f5f"
            },
            "error_y": {
             "color": "#2a3f5f"
            },
            "marker": {
             "line": {
              "color": "#E5ECF6",
              "width": 0.5
             },
             "pattern": {
              "fillmode": "overlay",
              "size": 10,
              "solidity": 0.2
             }
            },
            "type": "bar"
           }
          ],
          "barpolar": [
           {
            "marker": {
             "line": {
              "color": "#E5ECF6",
              "width": 0.5
             },
             "pattern": {
              "fillmode": "overlay",
              "size": 10,
              "solidity": 0.2
             }
            },
            "type": "barpolar"
           }
          ],
          "carpet": [
           {
            "aaxis": {
             "endlinecolor": "#2a3f5f",
             "gridcolor": "white",
             "linecolor": "white",
             "minorgridcolor": "white",
             "startlinecolor": "#2a3f5f"
            },
            "baxis": {
             "endlinecolor": "#2a3f5f",
             "gridcolor": "white",
             "linecolor": "white",
             "minorgridcolor": "white",
             "startlinecolor": "#2a3f5f"
            },
            "type": "carpet"
           }
          ],
          "choropleth": [
           {
            "colorbar": {
             "outlinewidth": 0,
             "ticks": ""
            },
            "type": "choropleth"
           }
          ],
          "contour": [
           {
            "colorbar": {
             "outlinewidth": 0,
             "ticks": ""
            },
            "colorscale": [
             [
              0,
              "#0d0887"
             ],
             [
              0.1111111111111111,
              "#46039f"
             ],
             [
              0.2222222222222222,
              "#7201a8"
             ],
             [
              0.3333333333333333,
              "#9c179e"
             ],
             [
              0.4444444444444444,
              "#bd3786"
             ],
             [
              0.5555555555555556,
              "#d8576b"
             ],
             [
              0.6666666666666666,
              "#ed7953"
             ],
             [
              0.7777777777777778,
              "#fb9f3a"
             ],
             [
              0.8888888888888888,
              "#fdca26"
             ],
             [
              1,
              "#f0f921"
             ]
            ],
            "type": "contour"
           }
          ],
          "contourcarpet": [
           {
            "colorbar": {
             "outlinewidth": 0,
             "ticks": ""
            },
            "type": "contourcarpet"
           }
          ],
          "heatmap": [
           {
            "colorbar": {
             "outlinewidth": 0,
             "ticks": ""
            },
            "colorscale": [
             [
              0,
              "#0d0887"
             ],
             [
              0.1111111111111111,
              "#46039f"
             ],
             [
              0.2222222222222222,
              "#7201a8"
             ],
             [
              0.3333333333333333,
              "#9c179e"
             ],
             [
              0.4444444444444444,
              "#bd3786"
             ],
             [
              0.5555555555555556,
              "#d8576b"
             ],
             [
              0.6666666666666666,
              "#ed7953"
             ],
             [
              0.7777777777777778,
              "#fb9f3a"
             ],
             [
              0.8888888888888888,
              "#fdca26"
             ],
             [
              1,
              "#f0f921"
             ]
            ],
            "type": "heatmap"
           }
          ],
          "heatmapgl": [
           {
            "colorbar": {
             "outlinewidth": 0,
             "ticks": ""
            },
            "colorscale": [
             [
              0,
              "#0d0887"
             ],
             [
              0.1111111111111111,
              "#46039f"
             ],
             [
              0.2222222222222222,
              "#7201a8"
             ],
             [
              0.3333333333333333,
              "#9c179e"
             ],
             [
              0.4444444444444444,
              "#bd3786"
             ],
             [
              0.5555555555555556,
              "#d8576b"
             ],
             [
              0.6666666666666666,
              "#ed7953"
             ],
             [
              0.7777777777777778,
              "#fb9f3a"
             ],
             [
              0.8888888888888888,
              "#fdca26"
             ],
             [
              1,
              "#f0f921"
             ]
            ],
            "type": "heatmapgl"
           }
          ],
          "histogram": [
           {
            "marker": {
             "pattern": {
              "fillmode": "overlay",
              "size": 10,
              "solidity": 0.2
             }
            },
            "type": "histogram"
           }
          ],
          "histogram2d": [
           {
            "colorbar": {
             "outlinewidth": 0,
             "ticks": ""
            },
            "colorscale": [
             [
              0,
              "#0d0887"
             ],
             [
              0.1111111111111111,
              "#46039f"
             ],
             [
              0.2222222222222222,
              "#7201a8"
             ],
             [
              0.3333333333333333,
              "#9c179e"
             ],
             [
              0.4444444444444444,
              "#bd3786"
             ],
             [
              0.5555555555555556,
              "#d8576b"
             ],
             [
              0.6666666666666666,
              "#ed7953"
             ],
             [
              0.7777777777777778,
              "#fb9f3a"
             ],
             [
              0.8888888888888888,
              "#fdca26"
             ],
             [
              1,
              "#f0f921"
             ]
            ],
            "type": "histogram2d"
           }
          ],
          "histogram2dcontour": [
           {
            "colorbar": {
             "outlinewidth": 0,
             "ticks": ""
            },
            "colorscale": [
             [
              0,
              "#0d0887"
             ],
             [
              0.1111111111111111,
              "#46039f"
             ],
             [
              0.2222222222222222,
              "#7201a8"
             ],
             [
              0.3333333333333333,
              "#9c179e"
             ],
             [
              0.4444444444444444,
              "#bd3786"
             ],
             [
              0.5555555555555556,
              "#d8576b"
             ],
             [
              0.6666666666666666,
              "#ed7953"
             ],
             [
              0.7777777777777778,
              "#fb9f3a"
             ],
             [
              0.8888888888888888,
              "#fdca26"
             ],
             [
              1,
              "#f0f921"
             ]
            ],
            "type": "histogram2dcontour"
           }
          ],
          "mesh3d": [
           {
            "colorbar": {
             "outlinewidth": 0,
             "ticks": ""
            },
            "type": "mesh3d"
           }
          ],
          "parcoords": [
           {
            "line": {
             "colorbar": {
              "outlinewidth": 0,
              "ticks": ""
             }
            },
            "type": "parcoords"
           }
          ],
          "pie": [
           {
            "automargin": true,
            "type": "pie"
           }
          ],
          "scatter": [
           {
            "fillpattern": {
             "fillmode": "overlay",
             "size": 10,
             "solidity": 0.2
            },
            "type": "scatter"
           }
          ],
          "scatter3d": [
           {
            "line": {
             "colorbar": {
              "outlinewidth": 0,
              "ticks": ""
             }
            },
            "marker": {
             "colorbar": {
              "outlinewidth": 0,
              "ticks": ""
             }
            },
            "type": "scatter3d"
           }
          ],
          "scattercarpet": [
           {
            "marker": {
             "colorbar": {
              "outlinewidth": 0,
              "ticks": ""
             }
            },
            "type": "scattercarpet"
           }
          ],
          "scattergeo": [
           {
            "marker": {
             "colorbar": {
              "outlinewidth": 0,
              "ticks": ""
             }
            },
            "type": "scattergeo"
           }
          ],
          "scattergl": [
           {
            "marker": {
             "colorbar": {
              "outlinewidth": 0,
              "ticks": ""
             }
            },
            "type": "scattergl"
           }
          ],
          "scattermapbox": [
           {
            "marker": {
             "colorbar": {
              "outlinewidth": 0,
              "ticks": ""
             }
            },
            "type": "scattermapbox"
           }
          ],
          "scatterpolar": [
           {
            "marker": {
             "colorbar": {
              "outlinewidth": 0,
              "ticks": ""
             }
            },
            "type": "scatterpolar"
           }
          ],
          "scatterpolargl": [
           {
            "marker": {
             "colorbar": {
              "outlinewidth": 0,
              "ticks": ""
             }
            },
            "type": "scatterpolargl"
           }
          ],
          "scatterternary": [
           {
            "marker": {
             "colorbar": {
              "outlinewidth": 0,
              "ticks": ""
             }
            },
            "type": "scatterternary"
           }
          ],
          "surface": [
           {
            "colorbar": {
             "outlinewidth": 0,
             "ticks": ""
            },
            "colorscale": [
             [
              0,
              "#0d0887"
             ],
             [
              0.1111111111111111,
              "#46039f"
             ],
             [
              0.2222222222222222,
              "#7201a8"
             ],
             [
              0.3333333333333333,
              "#9c179e"
             ],
             [
              0.4444444444444444,
              "#bd3786"
             ],
             [
              0.5555555555555556,
              "#d8576b"
             ],
             [
              0.6666666666666666,
              "#ed7953"
             ],
             [
              0.7777777777777778,
              "#fb9f3a"
             ],
             [
              0.8888888888888888,
              "#fdca26"
             ],
             [
              1,
              "#f0f921"
             ]
            ],
            "type": "surface"
           }
          ],
          "table": [
           {
            "cells": {
             "fill": {
              "color": "#EBF0F8"
             },
             "line": {
              "color": "white"
             }
            },
            "header": {
             "fill": {
              "color": "#C8D4E3"
             },
             "line": {
              "color": "white"
             }
            },
            "type": "table"
           }
          ]
         },
         "layout": {
          "annotationdefaults": {
           "arrowcolor": "#2a3f5f",
           "arrowhead": 0,
           "arrowwidth": 1
          },
          "autotypenumbers": "strict",
          "coloraxis": {
           "colorbar": {
            "outlinewidth": 0,
            "ticks": ""
           }
          },
          "colorscale": {
           "diverging": [
            [
             0,
             "#8e0152"
            ],
            [
             0.1,
             "#c51b7d"
            ],
            [
             0.2,
             "#de77ae"
            ],
            [
             0.3,
             "#f1b6da"
            ],
            [
             0.4,
             "#fde0ef"
            ],
            [
             0.5,
             "#f7f7f7"
            ],
            [
             0.6,
             "#e6f5d0"
            ],
            [
             0.7,
             "#b8e186"
            ],
            [
             0.8,
             "#7fbc41"
            ],
            [
             0.9,
             "#4d9221"
            ],
            [
             1,
             "#276419"
            ]
           ],
           "sequential": [
            [
             0,
             "#0d0887"
            ],
            [
             0.1111111111111111,
             "#46039f"
            ],
            [
             0.2222222222222222,
             "#7201a8"
            ],
            [
             0.3333333333333333,
             "#9c179e"
            ],
            [
             0.4444444444444444,
             "#bd3786"
            ],
            [
             0.5555555555555556,
             "#d8576b"
            ],
            [
             0.6666666666666666,
             "#ed7953"
            ],
            [
             0.7777777777777778,
             "#fb9f3a"
            ],
            [
             0.8888888888888888,
             "#fdca26"
            ],
            [
             1,
             "#f0f921"
            ]
           ],
           "sequentialminus": [
            [
             0,
             "#0d0887"
            ],
            [
             0.1111111111111111,
             "#46039f"
            ],
            [
             0.2222222222222222,
             "#7201a8"
            ],
            [
             0.3333333333333333,
             "#9c179e"
            ],
            [
             0.4444444444444444,
             "#bd3786"
            ],
            [
             0.5555555555555556,
             "#d8576b"
            ],
            [
             0.6666666666666666,
             "#ed7953"
            ],
            [
             0.7777777777777778,
             "#fb9f3a"
            ],
            [
             0.8888888888888888,
             "#fdca26"
            ],
            [
             1,
             "#f0f921"
            ]
           ]
          },
          "colorway": [
           "#636efa",
           "#EF553B",
           "#00cc96",
           "#ab63fa",
           "#FFA15A",
           "#19d3f3",
           "#FF6692",
           "#B6E880",
           "#FF97FF",
           "#FECB52"
          ],
          "font": {
           "color": "#2a3f5f"
          },
          "geo": {
           "bgcolor": "white",
           "lakecolor": "white",
           "landcolor": "#E5ECF6",
           "showlakes": true,
           "showland": true,
           "subunitcolor": "white"
          },
          "hoverlabel": {
           "align": "left"
          },
          "hovermode": "closest",
          "mapbox": {
           "style": "light"
          },
          "paper_bgcolor": "white",
          "plot_bgcolor": "#E5ECF6",
          "polar": {
           "angularaxis": {
            "gridcolor": "white",
            "linecolor": "white",
            "ticks": ""
           },
           "bgcolor": "#E5ECF6",
           "radialaxis": {
            "gridcolor": "white",
            "linecolor": "white",
            "ticks": ""
           }
          },
          "scene": {
           "xaxis": {
            "backgroundcolor": "#E5ECF6",
            "gridcolor": "white",
            "gridwidth": 2,
            "linecolor": "white",
            "showbackground": true,
            "ticks": "",
            "zerolinecolor": "white"
           },
           "yaxis": {
            "backgroundcolor": "#E5ECF6",
            "gridcolor": "white",
            "gridwidth": 2,
            "linecolor": "white",
            "showbackground": true,
            "ticks": "",
            "zerolinecolor": "white"
           },
           "zaxis": {
            "backgroundcolor": "#E5ECF6",
            "gridcolor": "white",
            "gridwidth": 2,
            "linecolor": "white",
            "showbackground": true,
            "ticks": "",
            "zerolinecolor": "white"
           }
          },
          "shapedefaults": {
           "line": {
            "color": "#2a3f5f"
           }
          },
          "ternary": {
           "aaxis": {
            "gridcolor": "white",
            "linecolor": "white",
            "ticks": ""
           },
           "baxis": {
            "gridcolor": "white",
            "linecolor": "white",
            "ticks": ""
           },
           "bgcolor": "#E5ECF6",
           "caxis": {
            "gridcolor": "white",
            "linecolor": "white",
            "ticks": ""
           }
          },
          "title": {
           "x": 0.05
          },
          "xaxis": {
           "automargin": true,
           "gridcolor": "white",
           "linecolor": "white",
           "ticks": "",
           "title": {
            "standoff": 15
           },
           "zerolinecolor": "white",
           "zerolinewidth": 2
          },
          "yaxis": {
           "automargin": true,
           "gridcolor": "white",
           "linecolor": "white",
           "ticks": "",
           "title": {
            "standoff": 15
           },
           "zerolinecolor": "white",
           "zerolinewidth": 2
          }
         }
        },
        "title": {
         "text": "Validation Metrics Over Time (GD Model)"
        },
        "xaxis": {
         "anchor": "y",
         "domain": [
          0,
          1
         ],
         "title": {
          "text": "index"
         }
        },
        "yaxis": {
         "anchor": "x",
         "domain": [
          0,
          1
         ],
         "title": {
          "text": "value"
         }
        }
       }
      }
     },
     "metadata": {},
     "output_type": "display_data"
    }
   ],
   "source": [
    "import datetime\n",
    "import plotly.express as px\n",
    "\n",
    "time_range = [datetime.time(hour, minute) for hour in range(9, 16) for minute in range(0, 60, 5)]\n",
    "time_range = [x for x in time_range if x >= datetime.time(9,45)]\n",
    "df_val = pd.DataFrame()\n",
    "for t in time_range:\n",
    "    X_val = X_test.loc[X_test['time'] <= t].copy()\n",
    "    y_val = y_test.loc[X_val.index, 'green_day'].copy()\n",
    "\n",
    "    y_pred_val = pipeline_gd.predict_proba(X_val)[:,-1]\n",
    "\n",
    "    df_val.loc[t, [\n",
    "        'roc_auc',\n",
    "        'precision',\n",
    "        'recall'\n",
    "    ]] =  roc_auc_score(y_val, y_pred_val), precision_score(y_val, y_pred_val > 0.5), recall_score(y_val, y_pred_val > 0.5)\n",
    "\n",
    "\n",
    "fig = px.line(df_val, title='Validation Metrics Over Time (GD Model)')\n",
    "fig.show()"
   ]
  },
  {
   "cell_type": "code",
   "execution_count": 157,
   "metadata": {},
   "outputs": [],
   "source": [
    "df_results = X_test.copy()\n",
    "df_results['pred_hod'] = y_pred_hod\n",
    "df_results['pred_lod'] = y_pred_lod\n",
    "df_results['pred_gd'] = y_pred_gd"
   ]
  },
  {
   "cell_type": "code",
   "execution_count": 158,
   "metadata": {},
   "outputs": [
    {
     "data": {
      "text/plain": [
       "Timestamp('2023-05-31 09:45:00')"
      ]
     },
     "execution_count": 158,
     "metadata": {},
     "output_type": "execute_result"
    }
   ],
   "source": [
    "X_test.index[0]"
   ]
  },
  {
   "cell_type": "code",
   "execution_count": 159,
   "metadata": {},
   "outputs": [
    {
     "data": {
      "application/vnd.plotly.v1+json": {
       "config": {
        "plotlyServerURL": "https://plot.ly"
       },
       "data": [
        {
         "close": [
          2061.02,
          2062.2,
          2063.97,
          2065.12,
          2064.34,
          2065.36,
          2066.24,
          2067.58,
          2068.38,
          2067.93,
          2067.74,
          2066.76,
          2066.99,
          2065.52,
          2063.79,
          2062.13,
          2062.1,
          2063.17,
          2060.99,
          2060.86,
          2060.78,
          2060.15,
          2059.58,
          2060.42,
          2060.61,
          2059.77,
          2059.61,
          2060.95,
          2061.03,
          2061.48,
          2062.16,
          2061.57,
          2061.73,
          2062.53,
          2062.86,
          2062.45,
          2060.85,
          2060.47,
          2060.23,
          2055.55,
          2056.29,
          2056.02,
          2056.34,
          2056.98,
          2057.35,
          2057.5,
          2058.14,
          2056.56,
          2055.26,
          2055.36,
          2055.2,
          2055.85,
          2056.2,
          2056.12,
          2055.71,
          2056.85,
          2057.18,
          2056.86,
          2056.98,
          2056.02,
          2055.75,
          2055.78,
          2055.38,
          2055,
          2054.91,
          2054.6,
          2055.22,
          2055.83,
          2055.62,
          2056.73,
          2057.52,
          2058.64,
          2058.61,
          2057.61,
          2058.18
         ],
         "high": [
          2061.83,
          2062.22,
          2064.08,
          2065.23,
          2065.07,
          2065.83,
          2066.24,
          2067.72,
          2068.85,
          2068.56,
          2067.95,
          2067.85,
          2067.02,
          2067,
          2065.54,
          2063.89,
          2062.35,
          2063.17,
          2063.16,
          2061.04,
          2061,
          2060.78,
          2060.12,
          2060.43,
          2060.62,
          2060.61,
          2060.03,
          2060.96,
          2061.3,
          2061.68,
          2062.27,
          2062.17,
          2061.88,
          2062.53,
          2062.87,
          2063.02,
          2062.53,
          2060.83,
          2060.48,
          2060.28,
          2056.29,
          2056.79,
          2056.34,
          2056.98,
          2057.48,
          2057.59,
          2058.62,
          2058.11,
          2056.56,
          2055.6,
          2055.33,
          2055.85,
          2056.38,
          2056.49,
          2056.12,
          2056.85,
          2057.35,
          2057.71,
          2057.19,
          2057.01,
          2056.01,
          2055.91,
          2055.8,
          2055.38,
          2055.09,
          2054.91,
          2055.22,
          2055.85,
          2055.89,
          2056.75,
          2057.7,
          2058.75,
          2058.93,
          2058.78,
          2058.28
         ],
         "low": [
          2060.77,
          2060.73,
          2062.13,
          2063.54,
          2063.68,
          2064.38,
          2065.28,
          2066.23,
          2067.53,
          2067.93,
          2067.61,
          2066.74,
          2066.36,
          2065.46,
          2063.77,
          2062.1,
          2061.63,
          2062.1,
          2060.99,
          2060.56,
          2060.58,
          2060.15,
          2059.39,
          2059.57,
          2060.17,
          2059.75,
          2059.61,
          2059.59,
          2060.96,
          2061,
          2061.47,
          2061.42,
          2061.59,
          2061.66,
          2062.53,
          2062.45,
          2060.85,
          2060.42,
          2060.22,
          2055.45,
          2055.06,
          2055.99,
          2055.51,
          2056.37,
          2057.01,
          2057.34,
          2057.47,
          2056.56,
          2055.17,
          2055.22,
          2054.97,
          2055.2,
          2055.9,
          2056.1,
          2055.71,
          2055.7,
          2056.81,
          2056.86,
          2056.85,
          2056.02,
          2055.38,
          2055.77,
          2055.38,
          2054.63,
          2054.72,
          2053.64,
          2053.98,
          2055.21,
          2055.26,
          2055.61,
          2056.71,
          2057.52,
          2058.38,
          2057.3,
          2056.62
         ],
         "open": [
          2061.05,
          2061,
          2062.13,
          2063.97,
          2065.07,
          2064.38,
          2065.36,
          2066.23,
          2067.59,
          2068.34,
          2067.95,
          2067.73,
          2066.71,
          2067,
          2065.51,
          2063.78,
          2062.13,
          2062.1,
          2063.16,
          2060.93,
          2060.86,
          2060.78,
          2060.12,
          2059.57,
          2060.4,
          2060.61,
          2059.78,
          2059.61,
          2060.96,
          2061.03,
          2061.47,
          2062.16,
          2061.59,
          2061.71,
          2062.53,
          2062.86,
          2062.45,
          2060.83,
          2060.4,
          2060.22,
          2055.7,
          2056.33,
          2056,
          2056.37,
          2057.01,
          2057.34,
          2057.51,
          2058.11,
          2056.56,
          2055.28,
          2055.33,
          2055.2,
          2055.9,
          2056.2,
          2056.12,
          2055.7,
          2056.84,
          2057.16,
          2056.85,
          2056.97,
          2056.01,
          2055.77,
          2055.76,
          2055.37,
          2054.96,
          2054.9,
          2054.59,
          2055.21,
          2055.82,
          2055.61,
          2056.71,
          2057.52,
          2058.63,
          2058.61,
          2057.28
         ],
         "type": "candlestick",
         "x": [
          "2023-12-28T09:45:00",
          "2023-12-28T09:50:00",
          "2023-12-28T09:55:00",
          "2023-12-28T10:00:00",
          "2023-12-28T10:05:00",
          "2023-12-28T10:10:00",
          "2023-12-28T10:15:00",
          "2023-12-28T10:20:00",
          "2023-12-28T10:25:00",
          "2023-12-28T10:30:00",
          "2023-12-28T10:35:00",
          "2023-12-28T10:40:00",
          "2023-12-28T10:45:00",
          "2023-12-28T10:50:00",
          "2023-12-28T10:55:00",
          "2023-12-28T11:00:00",
          "2023-12-28T11:05:00",
          "2023-12-28T11:10:00",
          "2023-12-28T11:15:00",
          "2023-12-28T11:20:00",
          "2023-12-28T11:25:00",
          "2023-12-28T11:30:00",
          "2023-12-28T11:35:00",
          "2023-12-28T11:40:00",
          "2023-12-28T11:45:00",
          "2023-12-28T11:50:00",
          "2023-12-28T11:55:00",
          "2023-12-28T12:00:00",
          "2023-12-28T12:05:00",
          "2023-12-28T12:10:00",
          "2023-12-28T12:15:00",
          "2023-12-28T12:20:00",
          "2023-12-28T12:25:00",
          "2023-12-28T12:30:00",
          "2023-12-28T12:35:00",
          "2023-12-28T12:40:00",
          "2023-12-28T12:45:00",
          "2023-12-28T12:50:00",
          "2023-12-28T12:55:00",
          "2023-12-28T13:00:00",
          "2023-12-28T13:05:00",
          "2023-12-28T13:10:00",
          "2023-12-28T13:15:00",
          "2023-12-28T13:20:00",
          "2023-12-28T13:25:00",
          "2023-12-28T13:30:00",
          "2023-12-28T13:35:00",
          "2023-12-28T13:40:00",
          "2023-12-28T13:45:00",
          "2023-12-28T13:50:00",
          "2023-12-28T13:55:00",
          "2023-12-28T14:00:00",
          "2023-12-28T14:05:00",
          "2023-12-28T14:10:00",
          "2023-12-28T14:15:00",
          "2023-12-28T14:20:00",
          "2023-12-28T14:25:00",
          "2023-12-28T14:30:00",
          "2023-12-28T14:35:00",
          "2023-12-28T14:40:00",
          "2023-12-28T14:45:00",
          "2023-12-28T14:50:00",
          "2023-12-28T14:55:00",
          "2023-12-28T15:00:00",
          "2023-12-28T15:05:00",
          "2023-12-28T15:10:00",
          "2023-12-28T15:15:00",
          "2023-12-28T15:20:00",
          "2023-12-28T15:25:00",
          "2023-12-28T15:30:00",
          "2023-12-28T15:35:00",
          "2023-12-28T15:40:00",
          "2023-12-28T15:45:00",
          "2023-12-28T15:50:00",
          "2023-12-28T15:55:00"
         ]
        },
        {
         "line": {
          "color": "#ff5f5f"
         },
         "mode": "lines",
         "name": "pred_hod",
         "type": "scatter",
         "x": [
          "2023-12-28T09:45:00",
          "2023-12-28T09:50:00",
          "2023-12-28T09:55:00",
          "2023-12-28T10:00:00",
          "2023-12-28T10:05:00",
          "2023-12-28T10:10:00",
          "2023-12-28T10:15:00",
          "2023-12-28T10:20:00",
          "2023-12-28T10:25:00",
          "2023-12-28T10:30:00",
          "2023-12-28T10:35:00",
          "2023-12-28T10:40:00",
          "2023-12-28T10:45:00",
          "2023-12-28T10:50:00",
          "2023-12-28T10:55:00",
          "2023-12-28T11:00:00",
          "2023-12-28T11:05:00",
          "2023-12-28T11:10:00",
          "2023-12-28T11:15:00",
          "2023-12-28T11:20:00",
          "2023-12-28T11:25:00",
          "2023-12-28T11:30:00",
          "2023-12-28T11:35:00",
          "2023-12-28T11:40:00",
          "2023-12-28T11:45:00",
          "2023-12-28T11:50:00",
          "2023-12-28T11:55:00",
          "2023-12-28T12:00:00",
          "2023-12-28T12:05:00",
          "2023-12-28T12:10:00",
          "2023-12-28T12:15:00",
          "2023-12-28T12:20:00",
          "2023-12-28T12:25:00",
          "2023-12-28T12:30:00",
          "2023-12-28T12:35:00",
          "2023-12-28T12:40:00",
          "2023-12-28T12:45:00",
          "2023-12-28T12:50:00",
          "2023-12-28T12:55:00",
          "2023-12-28T13:00:00",
          "2023-12-28T13:05:00",
          "2023-12-28T13:10:00",
          "2023-12-28T13:15:00",
          "2023-12-28T13:20:00",
          "2023-12-28T13:25:00",
          "2023-12-28T13:30:00",
          "2023-12-28T13:35:00",
          "2023-12-28T13:40:00",
          "2023-12-28T13:45:00",
          "2023-12-28T13:50:00",
          "2023-12-28T13:55:00",
          "2023-12-28T14:00:00",
          "2023-12-28T14:05:00",
          "2023-12-28T14:10:00",
          "2023-12-28T14:15:00",
          "2023-12-28T14:20:00",
          "2023-12-28T14:25:00",
          "2023-12-28T14:30:00",
          "2023-12-28T14:35:00",
          "2023-12-28T14:40:00",
          "2023-12-28T14:45:00",
          "2023-12-28T14:50:00",
          "2023-12-28T14:55:00",
          "2023-12-28T15:00:00",
          "2023-12-28T15:05:00",
          "2023-12-28T15:10:00",
          "2023-12-28T15:15:00",
          "2023-12-28T15:20:00",
          "2023-12-28T15:25:00",
          "2023-12-28T15:30:00",
          "2023-12-28T15:35:00",
          "2023-12-28T15:40:00",
          "2023-12-28T15:45:00",
          "2023-12-28T15:50:00",
          "2023-12-28T15:55:00"
         ],
         "y": [
          0.1392088001766978,
          0.11333695019188357,
          0.07808903966343875,
          0.061845251383492804,
          0.08358897422687217,
          0.06872988631638396,
          0.05921203670479466,
          0.05217981880519951,
          0.048047067671663925,
          0.06954122419959793,
          0.09173791109386813,
          0.13181822256838552,
          0.15207146117038478,
          0.19145298659956797,
          0.23530390994889977,
          0.30976186126095195,
          0.3633473988721294,
          0.3820051762178382,
          0.4329344826102231,
          0.47518501583884676,
          0.4992910513740612,
          0.5478091781145591,
          0.618123028258155,
          0.6139747001913433,
          0.5995999645446166,
          0.653891113284276,
          0.6937515891427941,
          0.6685322451709379,
          0.6609163383753393,
          0.650118435650439,
          0.638236769822355,
          0.6449605130936629,
          0.6514891987673818,
          0.6438740336449057,
          0.6383436385315006,
          0.6413241882930936,
          0.6791363663352915,
          0.7038351342793772,
          0.7373289971737244,
          0.8011738121913498,
          0.8456146253316628,
          0.8759883028566954,
          0.8952243149510625,
          0.8992933999595104,
          0.9024091471746125,
          0.905074157861046,
          0.8998261290439661,
          0.9126519699517902,
          0.9237071932542652,
          0.9322366650965261,
          0.9398097736136215,
          0.9477583157514281,
          0.9542185041205473,
          0.9594844706792228,
          0.9638454949637284,
          0.9644874656044927,
          0.9636063502836948,
          0.9651169576811987,
          0.9664442542824493,
          0.9716692481700102,
          0.9758843033867499,
          0.9787717996332728,
          0.9815518974706015,
          0.9839354239839245,
          0.9857709851626877,
          0.9876007141159778,
          0.989195994384227,
          0.990447606253549,
          0.9915741104351927,
          0.9919841506738932,
          0.9922783218829202,
          0.9925231093160035,
          0.9927935821621512,
          0.9937332253279206,
          0.9955537526176907
         ],
         "yaxis": "y2"
        },
        {
         "line": {
          "color": "#ff5f5f"
         },
         "mode": "lines",
         "name": "pred_hod",
         "type": "scatter",
         "x": [
          "2023-12-28T09:45:00",
          "2023-12-28T09:50:00",
          "2023-12-28T09:55:00",
          "2023-12-28T10:00:00",
          "2023-12-28T10:05:00",
          "2023-12-28T10:10:00",
          "2023-12-28T10:15:00",
          "2023-12-28T10:20:00",
          "2023-12-28T10:25:00",
          "2023-12-28T10:30:00",
          "2023-12-28T10:35:00",
          "2023-12-28T10:40:00",
          "2023-12-28T10:45:00",
          "2023-12-28T10:50:00",
          "2023-12-28T10:55:00",
          "2023-12-28T11:00:00",
          "2023-12-28T11:05:00",
          "2023-12-28T11:10:00",
          "2023-12-28T11:15:00",
          "2023-12-28T11:20:00",
          "2023-12-28T11:25:00",
          "2023-12-28T11:30:00",
          "2023-12-28T11:35:00",
          "2023-12-28T11:40:00",
          "2023-12-28T11:45:00",
          "2023-12-28T11:50:00",
          "2023-12-28T11:55:00",
          "2023-12-28T12:00:00",
          "2023-12-28T12:05:00",
          "2023-12-28T12:10:00",
          "2023-12-28T12:15:00",
          "2023-12-28T12:20:00",
          "2023-12-28T12:25:00",
          "2023-12-28T12:30:00",
          "2023-12-28T12:35:00",
          "2023-12-28T12:40:00",
          "2023-12-28T12:45:00",
          "2023-12-28T12:50:00",
          "2023-12-28T12:55:00",
          "2023-12-28T13:00:00",
          "2023-12-28T13:05:00",
          "2023-12-28T13:10:00",
          "2023-12-28T13:15:00",
          "2023-12-28T13:20:00",
          "2023-12-28T13:25:00",
          "2023-12-28T13:30:00",
          "2023-12-28T13:35:00",
          "2023-12-28T13:40:00",
          "2023-12-28T13:45:00",
          "2023-12-28T13:50:00",
          "2023-12-28T13:55:00",
          "2023-12-28T14:00:00",
          "2023-12-28T14:05:00",
          "2023-12-28T14:10:00",
          "2023-12-28T14:15:00",
          "2023-12-28T14:20:00",
          "2023-12-28T14:25:00",
          "2023-12-28T14:30:00",
          "2023-12-28T14:35:00",
          "2023-12-28T14:40:00",
          "2023-12-28T14:45:00",
          "2023-12-28T14:50:00",
          "2023-12-28T14:55:00",
          "2023-12-28T15:00:00",
          "2023-12-28T15:05:00",
          "2023-12-28T15:10:00",
          "2023-12-28T15:15:00",
          "2023-12-28T15:20:00",
          "2023-12-28T15:25:00",
          "2023-12-28T15:30:00",
          "2023-12-28T15:35:00",
          "2023-12-28T15:40:00",
          "2023-12-28T15:45:00",
          "2023-12-28T15:50:00",
          "2023-12-28T15:55:00"
         ],
         "y": [
          0.1392088001766978,
          0.09608905020200742,
          0.0389246946318334,
          0.03898362343393926,
          0.11848630718538226,
          0.04292521513026863,
          0.04184750997857548,
          0.03893854157130245,
          0.04010407242796878,
          0.1114113125801317,
          0.13536143586278981,
          0.21105210695679197,
          0.1922657409138419,
          0.2698113347015721,
          0.32270533507754884,
          0.4583376908539058,
          0.4703553126870039,
          0.41928285714271496,
          0.5347241738357361,
          0.5596479644573904,
          0.5474886236929698,
          0.6448259772072459,
          0.7587319326431952,
          0.6056787833295063,
          0.5708522010615281,
          0.7624691106735467,
          0.7734704361136052,
          0.6180944449958378,
          0.6456847035136921,
          0.6285227991369059,
          0.6144735620942202,
          0.6584079528829984,
          0.6645465398501827,
          0.628643726934063,
          0.6272828596988774,
          0.6472852837224262,
          0.7547606877957571,
          0.7532326550900701,
          0.8043167093314291,
          0.9288634249046608,
          0.9344962435740363,
          0.936735654244192,
          0.9336963375934314,
          0.9074315697583325,
          0.9086406414934957,
          0.9104041791704348,
          0.8893300714931411,
          0.9383036516316613,
          0.9458176397811932,
          0.9492956087409168,
          0.9549559906240581,
          0.9636554000104205,
          0.9671388808497795,
          0.9700164037916795,
          0.9725675435300375,
          0.9657714068857561,
          0.9618441196423416,
          0.9681381724759293,
          0.9690988474847879,
          0.9821192359447055,
          0.98431441382,
          0.9845467921262137,
          0.9871120931451917,
          0.9887024770105322,
          0.9894421075201942,
          0.9912601720225448,
          0.9923865549207177,
          0.9929508299921886,
          0.9938271187984777,
          0.9928042311512935,
          0.9928666643009737,
          0.99301268418217,
          0.9933345278544464,
          0.9956125116594593,
          0.9991948071972304
         ],
         "yaxis": "y2"
        },
        {
         "line": {
          "color": "#3399cc"
         },
         "mode": "lines",
         "name": "pred_lod",
         "type": "scatter",
         "x": [
          "2023-12-28T09:45:00",
          "2023-12-28T09:50:00",
          "2023-12-28T09:55:00",
          "2023-12-28T10:00:00",
          "2023-12-28T10:05:00",
          "2023-12-28T10:10:00",
          "2023-12-28T10:15:00",
          "2023-12-28T10:20:00",
          "2023-12-28T10:25:00",
          "2023-12-28T10:30:00",
          "2023-12-28T10:35:00",
          "2023-12-28T10:40:00",
          "2023-12-28T10:45:00",
          "2023-12-28T10:50:00",
          "2023-12-28T10:55:00",
          "2023-12-28T11:00:00",
          "2023-12-28T11:05:00",
          "2023-12-28T11:10:00",
          "2023-12-28T11:15:00",
          "2023-12-28T11:20:00",
          "2023-12-28T11:25:00",
          "2023-12-28T11:30:00",
          "2023-12-28T11:35:00",
          "2023-12-28T11:40:00",
          "2023-12-28T11:45:00",
          "2023-12-28T11:50:00",
          "2023-12-28T11:55:00",
          "2023-12-28T12:00:00",
          "2023-12-28T12:05:00",
          "2023-12-28T12:10:00",
          "2023-12-28T12:15:00",
          "2023-12-28T12:20:00",
          "2023-12-28T12:25:00",
          "2023-12-28T12:30:00",
          "2023-12-28T12:35:00",
          "2023-12-28T12:40:00",
          "2023-12-28T12:45:00",
          "2023-12-28T12:50:00",
          "2023-12-28T12:55:00",
          "2023-12-28T13:00:00",
          "2023-12-28T13:05:00",
          "2023-12-28T13:10:00",
          "2023-12-28T13:15:00",
          "2023-12-28T13:20:00",
          "2023-12-28T13:25:00",
          "2023-12-28T13:30:00",
          "2023-12-28T13:35:00",
          "2023-12-28T13:40:00",
          "2023-12-28T13:45:00",
          "2023-12-28T13:50:00",
          "2023-12-28T13:55:00",
          "2023-12-28T14:00:00",
          "2023-12-28T14:05:00",
          "2023-12-28T14:10:00",
          "2023-12-28T14:15:00",
          "2023-12-28T14:20:00",
          "2023-12-28T14:25:00",
          "2023-12-28T14:30:00",
          "2023-12-28T14:35:00",
          "2023-12-28T14:40:00",
          "2023-12-28T14:45:00",
          "2023-12-28T14:50:00",
          "2023-12-28T14:55:00",
          "2023-12-28T15:00:00",
          "2023-12-28T15:05:00",
          "2023-12-28T15:10:00",
          "2023-12-28T15:15:00",
          "2023-12-28T15:20:00",
          "2023-12-28T15:25:00",
          "2023-12-28T15:30:00",
          "2023-12-28T15:35:00",
          "2023-12-28T15:40:00",
          "2023-12-28T15:45:00",
          "2023-12-28T15:50:00",
          "2023-12-28T15:55:00"
         ],
         "y": [
          0.21969392027769777,
          0.324251495280968,
          0.397175803962355,
          0.4502411045095038,
          0.46730896326760235,
          0.501086979550473,
          0.5369606953775583,
          0.5653374493061621,
          0.598253008245688,
          0.5984227658901139,
          0.6030697817670038,
          0.5885676128858282,
          0.5888947614661373,
          0.5608674990887481,
          0.532661179400507,
          0.4947036908921951,
          0.46640327434815976,
          0.4571281957288854,
          0.4248586908910104,
          0.39860692916253704,
          0.37593912640844934,
          0.35992109135274714,
          0.33255127136360413,
          0.32850105104235683,
          0.3306101464894749,
          0.31659480470753315,
          0.3018236900368272,
          0.3128126876069499,
          0.32582023503187996,
          0.33293936036224697,
          0.3438695484526024,
          0.3491902058406706,
          0.3564107256137627,
          0.36977641271311434,
          0.39416831808065045,
          0.406558591034144,
          0.3888784090647194,
          0.35811262924522075,
          0.34276656018370283,
          0.2688612718927033,
          0.23319443662430414,
          0.2088467943688851,
          0.20132159978487002,
          0.21046248063073333,
          0.2238140970489409,
          0.23546219565268203,
          0.24675595652260188,
          0.2360993206248618,
          0.2028805840052836,
          0.17693168193513978,
          0.15555167775941897,
          0.15866438044883882,
          0.17278308115738555,
          0.18337210521302166,
          0.1797137487482162,
          0.20726989800872847,
          0.2322591756373835,
          0.2479177316176163,
          0.2608399029181219,
          0.2598929222652111,
          0.24648272966318652,
          0.23683202707900328,
          0.21190489852838215,
          0.18471638733296106,
          0.16889153895343464,
          0.1505900976854215,
          0.21008540223710648,
          0.2755172313487548,
          0.31895190571521015,
          0.4055410804106494,
          0.5043761622031051,
          0.6132971991057974,
          0.6982817486879985,
          0.7663257053248262,
          0.8242494876708842
         ],
         "yaxis": "y2"
        },
        {
         "line": {
          "color": "#98ff98"
         },
         "mode": "lines",
         "name": "pred_lod",
         "type": "scatter",
         "x": [
          "2023-12-28T09:45:00",
          "2023-12-28T09:50:00",
          "2023-12-28T09:55:00",
          "2023-12-28T10:00:00",
          "2023-12-28T10:05:00",
          "2023-12-28T10:10:00",
          "2023-12-28T10:15:00",
          "2023-12-28T10:20:00",
          "2023-12-28T10:25:00",
          "2023-12-28T10:30:00",
          "2023-12-28T10:35:00",
          "2023-12-28T10:40:00",
          "2023-12-28T10:45:00",
          "2023-12-28T10:50:00",
          "2023-12-28T10:55:00",
          "2023-12-28T11:00:00",
          "2023-12-28T11:05:00",
          "2023-12-28T11:10:00",
          "2023-12-28T11:15:00",
          "2023-12-28T11:20:00",
          "2023-12-28T11:25:00",
          "2023-12-28T11:30:00",
          "2023-12-28T11:35:00",
          "2023-12-28T11:40:00",
          "2023-12-28T11:45:00",
          "2023-12-28T11:50:00",
          "2023-12-28T11:55:00",
          "2023-12-28T12:00:00",
          "2023-12-28T12:05:00",
          "2023-12-28T12:10:00",
          "2023-12-28T12:15:00",
          "2023-12-28T12:20:00",
          "2023-12-28T12:25:00",
          "2023-12-28T12:30:00",
          "2023-12-28T12:35:00",
          "2023-12-28T12:40:00",
          "2023-12-28T12:45:00",
          "2023-12-28T12:50:00",
          "2023-12-28T12:55:00",
          "2023-12-28T13:00:00",
          "2023-12-28T13:05:00",
          "2023-12-28T13:10:00",
          "2023-12-28T13:15:00",
          "2023-12-28T13:20:00",
          "2023-12-28T13:25:00",
          "2023-12-28T13:30:00",
          "2023-12-28T13:35:00",
          "2023-12-28T13:40:00",
          "2023-12-28T13:45:00",
          "2023-12-28T13:50:00",
          "2023-12-28T13:55:00",
          "2023-12-28T14:00:00",
          "2023-12-28T14:05:00",
          "2023-12-28T14:10:00",
          "2023-12-28T14:15:00",
          "2023-12-28T14:20:00",
          "2023-12-28T14:25:00",
          "2023-12-28T14:30:00",
          "2023-12-28T14:35:00",
          "2023-12-28T14:40:00",
          "2023-12-28T14:45:00",
          "2023-12-28T14:50:00",
          "2023-12-28T14:55:00",
          "2023-12-28T15:00:00",
          "2023-12-28T15:05:00",
          "2023-12-28T15:10:00",
          "2023-12-28T15:15:00",
          "2023-12-28T15:20:00",
          "2023-12-28T15:25:00",
          "2023-12-28T15:30:00",
          "2023-12-28T15:35:00",
          "2023-12-28T15:40:00",
          "2023-12-28T15:45:00",
          "2023-12-28T15:50:00",
          "2023-12-28T15:55:00"
         ],
         "y": [
          0.4119336708752344,
          0.4218231174687213,
          0.43766739099241214,
          0.47062035109539935,
          0.4741402207190993,
          0.4919144509383022,
          0.5135316001725306,
          0.5525037667095117,
          0.5660000522927382,
          0.5776969148534412,
          0.5862463889570294,
          0.5795343763116654,
          0.5745956482361845,
          0.5525466630736234,
          0.5293088206017637,
          0.5066653982853776,
          0.48701855333506155,
          0.4802967339088559,
          0.45238366284392545,
          0.43150065946788535,
          0.4096361874608629,
          0.3814050600064039,
          0.35191587659602297,
          0.3440014479947963,
          0.33664954856343443,
          0.3109335932852477,
          0.2906576275301045,
          0.300218965099858,
          0.3110735298205124,
          0.31847019031130547,
          0.3388350194749955,
          0.337585540140577,
          0.339042639478138,
          0.3508813112274014,
          0.36433805087283494,
          0.3661821039347737,
          0.3478160785196038,
          0.32721169473021,
          0.3114935452473821,
          0.2573246082925753,
          0.21170437956670307,
          0.17748935856155706,
          0.148546534601578,
          0.13646603002851113,
          0.12654797148913385,
          0.11910943793989301,
          0.11829677313176766,
          0.10883098568250564,
          0.09711198297801223,
          0.08796281742531793,
          0.08110094552764781,
          0.0739646241511501,
          0.06830070733153068,
          0.06366869497992185,
          0.05943077363746547,
          0.0592962898859721,
          0.06051960801407843,
          0.05940894928417716,
          0.06060410252107611,
          0.05620827745683323,
          0.052379133821203336,
          0.049247014458969555,
          0.046687026924501135,
          0.04519524985909171,
          0.043858796100357776,
          0.04140184416303686,
          0.03784617058805597,
          0.036185502914161026,
          0.03494000216105949,
          0.03544160321480102,
          0.03689868969423266,
          0.04092204693401445,
          0.04393956486207261,
          0.04327216092734449,
          0.043193281799829904
         ],
         "yaxis": "y2"
        }
       ],
       "layout": {
        "legend": {
         "orientation": "h",
         "x": 1,
         "xanchor": "right",
         "y": 1.02,
         "yanchor": "bottom"
        },
        "shapes": [
         {
          "line": {
           "color": "Red",
           "dash": "dash",
           "width": 1.5
          },
          "type": "line",
          "x0": "2023-12-28T09:45:00",
          "x1": "2023-12-28T15:55:00",
          "y0": 0.5,
          "y1": 0.5,
          "yref": "y2"
         }
        ],
        "template": {
         "data": {
          "bar": [
           {
            "error_x": {
             "color": "#f2f5fa"
            },
            "error_y": {
             "color": "#f2f5fa"
            },
            "marker": {
             "line": {
              "color": "rgb(17,17,17)",
              "width": 0.5
             },
             "pattern": {
              "fillmode": "overlay",
              "size": 10,
              "solidity": 0.2
             }
            },
            "type": "bar"
           }
          ],
          "barpolar": [
           {
            "marker": {
             "line": {
              "color": "rgb(17,17,17)",
              "width": 0.5
             },
             "pattern": {
              "fillmode": "overlay",
              "size": 10,
              "solidity": 0.2
             }
            },
            "type": "barpolar"
           }
          ],
          "carpet": [
           {
            "aaxis": {
             "endlinecolor": "#A2B1C6",
             "gridcolor": "#506784",
             "linecolor": "#506784",
             "minorgridcolor": "#506784",
             "startlinecolor": "#A2B1C6"
            },
            "baxis": {
             "endlinecolor": "#A2B1C6",
             "gridcolor": "#506784",
             "linecolor": "#506784",
             "minorgridcolor": "#506784",
             "startlinecolor": "#A2B1C6"
            },
            "type": "carpet"
           }
          ],
          "choropleth": [
           {
            "colorbar": {
             "outlinewidth": 0,
             "ticks": ""
            },
            "type": "choropleth"
           }
          ],
          "contour": [
           {
            "colorbar": {
             "outlinewidth": 0,
             "ticks": ""
            },
            "colorscale": [
             [
              0,
              "#0d0887"
             ],
             [
              0.1111111111111111,
              "#46039f"
             ],
             [
              0.2222222222222222,
              "#7201a8"
             ],
             [
              0.3333333333333333,
              "#9c179e"
             ],
             [
              0.4444444444444444,
              "#bd3786"
             ],
             [
              0.5555555555555556,
              "#d8576b"
             ],
             [
              0.6666666666666666,
              "#ed7953"
             ],
             [
              0.7777777777777778,
              "#fb9f3a"
             ],
             [
              0.8888888888888888,
              "#fdca26"
             ],
             [
              1,
              "#f0f921"
             ]
            ],
            "type": "contour"
           }
          ],
          "contourcarpet": [
           {
            "colorbar": {
             "outlinewidth": 0,
             "ticks": ""
            },
            "type": "contourcarpet"
           }
          ],
          "heatmap": [
           {
            "colorbar": {
             "outlinewidth": 0,
             "ticks": ""
            },
            "colorscale": [
             [
              0,
              "#0d0887"
             ],
             [
              0.1111111111111111,
              "#46039f"
             ],
             [
              0.2222222222222222,
              "#7201a8"
             ],
             [
              0.3333333333333333,
              "#9c179e"
             ],
             [
              0.4444444444444444,
              "#bd3786"
             ],
             [
              0.5555555555555556,
              "#d8576b"
             ],
             [
              0.6666666666666666,
              "#ed7953"
             ],
             [
              0.7777777777777778,
              "#fb9f3a"
             ],
             [
              0.8888888888888888,
              "#fdca26"
             ],
             [
              1,
              "#f0f921"
             ]
            ],
            "type": "heatmap"
           }
          ],
          "heatmapgl": [
           {
            "colorbar": {
             "outlinewidth": 0,
             "ticks": ""
            },
            "colorscale": [
             [
              0,
              "#0d0887"
             ],
             [
              0.1111111111111111,
              "#46039f"
             ],
             [
              0.2222222222222222,
              "#7201a8"
             ],
             [
              0.3333333333333333,
              "#9c179e"
             ],
             [
              0.4444444444444444,
              "#bd3786"
             ],
             [
              0.5555555555555556,
              "#d8576b"
             ],
             [
              0.6666666666666666,
              "#ed7953"
             ],
             [
              0.7777777777777778,
              "#fb9f3a"
             ],
             [
              0.8888888888888888,
              "#fdca26"
             ],
             [
              1,
              "#f0f921"
             ]
            ],
            "type": "heatmapgl"
           }
          ],
          "histogram": [
           {
            "marker": {
             "pattern": {
              "fillmode": "overlay",
              "size": 10,
              "solidity": 0.2
             }
            },
            "type": "histogram"
           }
          ],
          "histogram2d": [
           {
            "colorbar": {
             "outlinewidth": 0,
             "ticks": ""
            },
            "colorscale": [
             [
              0,
              "#0d0887"
             ],
             [
              0.1111111111111111,
              "#46039f"
             ],
             [
              0.2222222222222222,
              "#7201a8"
             ],
             [
              0.3333333333333333,
              "#9c179e"
             ],
             [
              0.4444444444444444,
              "#bd3786"
             ],
             [
              0.5555555555555556,
              "#d8576b"
             ],
             [
              0.6666666666666666,
              "#ed7953"
             ],
             [
              0.7777777777777778,
              "#fb9f3a"
             ],
             [
              0.8888888888888888,
              "#fdca26"
             ],
             [
              1,
              "#f0f921"
             ]
            ],
            "type": "histogram2d"
           }
          ],
          "histogram2dcontour": [
           {
            "colorbar": {
             "outlinewidth": 0,
             "ticks": ""
            },
            "colorscale": [
             [
              0,
              "#0d0887"
             ],
             [
              0.1111111111111111,
              "#46039f"
             ],
             [
              0.2222222222222222,
              "#7201a8"
             ],
             [
              0.3333333333333333,
              "#9c179e"
             ],
             [
              0.4444444444444444,
              "#bd3786"
             ],
             [
              0.5555555555555556,
              "#d8576b"
             ],
             [
              0.6666666666666666,
              "#ed7953"
             ],
             [
              0.7777777777777778,
              "#fb9f3a"
             ],
             [
              0.8888888888888888,
              "#fdca26"
             ],
             [
              1,
              "#f0f921"
             ]
            ],
            "type": "histogram2dcontour"
           }
          ],
          "mesh3d": [
           {
            "colorbar": {
             "outlinewidth": 0,
             "ticks": ""
            },
            "type": "mesh3d"
           }
          ],
          "parcoords": [
           {
            "line": {
             "colorbar": {
              "outlinewidth": 0,
              "ticks": ""
             }
            },
            "type": "parcoords"
           }
          ],
          "pie": [
           {
            "automargin": true,
            "type": "pie"
           }
          ],
          "scatter": [
           {
            "marker": {
             "line": {
              "color": "#283442"
             }
            },
            "type": "scatter"
           }
          ],
          "scatter3d": [
           {
            "line": {
             "colorbar": {
              "outlinewidth": 0,
              "ticks": ""
             }
            },
            "marker": {
             "colorbar": {
              "outlinewidth": 0,
              "ticks": ""
             }
            },
            "type": "scatter3d"
           }
          ],
          "scattercarpet": [
           {
            "marker": {
             "colorbar": {
              "outlinewidth": 0,
              "ticks": ""
             }
            },
            "type": "scattercarpet"
           }
          ],
          "scattergeo": [
           {
            "marker": {
             "colorbar": {
              "outlinewidth": 0,
              "ticks": ""
             }
            },
            "type": "scattergeo"
           }
          ],
          "scattergl": [
           {
            "marker": {
             "line": {
              "color": "#283442"
             }
            },
            "type": "scattergl"
           }
          ],
          "scattermapbox": [
           {
            "marker": {
             "colorbar": {
              "outlinewidth": 0,
              "ticks": ""
             }
            },
            "type": "scattermapbox"
           }
          ],
          "scatterpolar": [
           {
            "marker": {
             "colorbar": {
              "outlinewidth": 0,
              "ticks": ""
             }
            },
            "type": "scatterpolar"
           }
          ],
          "scatterpolargl": [
           {
            "marker": {
             "colorbar": {
              "outlinewidth": 0,
              "ticks": ""
             }
            },
            "type": "scatterpolargl"
           }
          ],
          "scatterternary": [
           {
            "marker": {
             "colorbar": {
              "outlinewidth": 0,
              "ticks": ""
             }
            },
            "type": "scatterternary"
           }
          ],
          "surface": [
           {
            "colorbar": {
             "outlinewidth": 0,
             "ticks": ""
            },
            "colorscale": [
             [
              0,
              "#0d0887"
             ],
             [
              0.1111111111111111,
              "#46039f"
             ],
             [
              0.2222222222222222,
              "#7201a8"
             ],
             [
              0.3333333333333333,
              "#9c179e"
             ],
             [
              0.4444444444444444,
              "#bd3786"
             ],
             [
              0.5555555555555556,
              "#d8576b"
             ],
             [
              0.6666666666666666,
              "#ed7953"
             ],
             [
              0.7777777777777778,
              "#fb9f3a"
             ],
             [
              0.8888888888888888,
              "#fdca26"
             ],
             [
              1,
              "#f0f921"
             ]
            ],
            "type": "surface"
           }
          ],
          "table": [
           {
            "cells": {
             "fill": {
              "color": "#506784"
             },
             "line": {
              "color": "rgb(17,17,17)"
             }
            },
            "header": {
             "fill": {
              "color": "#2a3f5f"
             },
             "line": {
              "color": "rgb(17,17,17)"
             }
            },
            "type": "table"
           }
          ]
         },
         "layout": {
          "annotationdefaults": {
           "arrowcolor": "#f2f5fa",
           "arrowhead": 0,
           "arrowwidth": 1
          },
          "autotypenumbers": "strict",
          "coloraxis": {
           "colorbar": {
            "outlinewidth": 0,
            "ticks": ""
           }
          },
          "colorscale": {
           "diverging": [
            [
             0,
             "#8e0152"
            ],
            [
             0.1,
             "#c51b7d"
            ],
            [
             0.2,
             "#de77ae"
            ],
            [
             0.3,
             "#f1b6da"
            ],
            [
             0.4,
             "#fde0ef"
            ],
            [
             0.5,
             "#f7f7f7"
            ],
            [
             0.6,
             "#e6f5d0"
            ],
            [
             0.7,
             "#b8e186"
            ],
            [
             0.8,
             "#7fbc41"
            ],
            [
             0.9,
             "#4d9221"
            ],
            [
             1,
             "#276419"
            ]
           ],
           "sequential": [
            [
             0,
             "#0d0887"
            ],
            [
             0.1111111111111111,
             "#46039f"
            ],
            [
             0.2222222222222222,
             "#7201a8"
            ],
            [
             0.3333333333333333,
             "#9c179e"
            ],
            [
             0.4444444444444444,
             "#bd3786"
            ],
            [
             0.5555555555555556,
             "#d8576b"
            ],
            [
             0.6666666666666666,
             "#ed7953"
            ],
            [
             0.7777777777777778,
             "#fb9f3a"
            ],
            [
             0.8888888888888888,
             "#fdca26"
            ],
            [
             1,
             "#f0f921"
            ]
           ],
           "sequentialminus": [
            [
             0,
             "#0d0887"
            ],
            [
             0.1111111111111111,
             "#46039f"
            ],
            [
             0.2222222222222222,
             "#7201a8"
            ],
            [
             0.3333333333333333,
             "#9c179e"
            ],
            [
             0.4444444444444444,
             "#bd3786"
            ],
            [
             0.5555555555555556,
             "#d8576b"
            ],
            [
             0.6666666666666666,
             "#ed7953"
            ],
            [
             0.7777777777777778,
             "#fb9f3a"
            ],
            [
             0.8888888888888888,
             "#fdca26"
            ],
            [
             1,
             "#f0f921"
            ]
           ]
          },
          "colorway": [
           "#636efa",
           "#EF553B",
           "#00cc96",
           "#ab63fa",
           "#FFA15A",
           "#19d3f3",
           "#FF6692",
           "#B6E880",
           "#FF97FF",
           "#FECB52"
          ],
          "font": {
           "color": "#f2f5fa"
          },
          "geo": {
           "bgcolor": "rgb(17,17,17)",
           "lakecolor": "rgb(17,17,17)",
           "landcolor": "rgb(17,17,17)",
           "showlakes": true,
           "showland": true,
           "subunitcolor": "#506784"
          },
          "hoverlabel": {
           "align": "left"
          },
          "hovermode": "closest",
          "mapbox": {
           "style": "dark"
          },
          "paper_bgcolor": "rgb(17,17,17)",
          "plot_bgcolor": "rgb(17,17,17)",
          "polar": {
           "angularaxis": {
            "gridcolor": "#506784",
            "linecolor": "#506784",
            "ticks": ""
           },
           "bgcolor": "rgb(17,17,17)",
           "radialaxis": {
            "gridcolor": "#506784",
            "linecolor": "#506784",
            "ticks": ""
           }
          },
          "scene": {
           "xaxis": {
            "backgroundcolor": "rgb(17,17,17)",
            "gridcolor": "#506784",
            "gridwidth": 2,
            "linecolor": "#506784",
            "showbackground": true,
            "ticks": "",
            "zerolinecolor": "#C8D4E3"
           },
           "yaxis": {
            "backgroundcolor": "rgb(17,17,17)",
            "gridcolor": "#506784",
            "gridwidth": 2,
            "linecolor": "#506784",
            "showbackground": true,
            "ticks": "",
            "zerolinecolor": "#C8D4E3"
           },
           "zaxis": {
            "backgroundcolor": "rgb(17,17,17)",
            "gridcolor": "#506784",
            "gridwidth": 2,
            "linecolor": "#506784",
            "showbackground": true,
            "ticks": "",
            "zerolinecolor": "#C8D4E3"
           }
          },
          "shapedefaults": {
           "line": {
            "color": "#f2f5fa"
           }
          },
          "sliderdefaults": {
           "bgcolor": "#C8D4E3",
           "bordercolor": "rgb(17,17,17)",
           "borderwidth": 1,
           "tickwidth": 0
          },
          "ternary": {
           "aaxis": {
            "gridcolor": "#506784",
            "linecolor": "#506784",
            "ticks": ""
           },
           "baxis": {
            "gridcolor": "#506784",
            "linecolor": "#506784",
            "ticks": ""
           },
           "bgcolor": "rgb(17,17,17)",
           "caxis": {
            "gridcolor": "#506784",
            "linecolor": "#506784",
            "ticks": ""
           }
          },
          "title": {
           "x": 0.05
          },
          "updatemenudefaults": {
           "bgcolor": "#506784",
           "borderwidth": 0
          },
          "xaxis": {
           "automargin": true,
           "gridcolor": "#283442",
           "linecolor": "#506784",
           "ticks": "",
           "title": {
            "standoff": 15
           },
           "zerolinecolor": "#283442",
           "zerolinewidth": 2
          },
          "yaxis": {
           "automargin": true,
           "gridcolor": "#283442",
           "linecolor": "#506784",
           "ticks": "",
           "title": {
            "standoff": 15
           },
           "zerolinecolor": "#283442",
           "zerolinewidth": 2
          }
         }
        },
        "title": {
         "text": "OHLC vs Prediction Over Time"
        },
        "xaxis": {
         "rangeslider": {
          "visible": false
         }
        },
        "yaxis": {
         "tickformat": ".0f"
        },
        "yaxis2": {
         "overlaying": "y",
         "side": "right",
         "tickformat": ".0%"
        }
       }
      }
     },
     "metadata": {},
     "output_type": "display_data"
    }
   ],
   "source": [
    "import plotly.graph_objects as go\n",
    "\n",
    "# Pick a day in the test set\n",
    "# test_day = '2023-12-21'\n",
    "test_day = '2023-12-28'\n",
    "test_df = df_results.loc[test_day:test_day]\n",
    "X_prices = spx_data.loc[test_day:test_day, ['open','high','low','close']]\n",
    "\n",
    "df_viz = test_df.merge(X_prices, left_index=True, right_index=True)\n",
    "\n",
    "fig = go.Figure(data=[go.Candlestick(x=df_viz.index,\n",
    "                open=df_viz['open'],\n",
    "                high=df_viz['high'],\n",
    "                low=df_viz['low'],\n",
    "                close=df_viz['close'])])\n",
    "\n",
    "fig.add_trace(go.Scatter(x=df_viz.index, y=df_viz['pred_hod'].ewm(2).mean(), mode='lines', name='pred_hod', yaxis='y2', line=dict(color='#ff5f5f')))\n",
    "fig.add_trace(go.Scatter(x=df_viz.index, y=df_viz['pred_hod'], mode='lines', name='pred_hod', yaxis='y2', line=dict(color='#ff5f5f')))\n",
    "fig.add_trace(go.Scatter(x=df_viz.index, y=df_viz['pred_lod'].ewm(3).mean(), mode='lines', name='pred_lod', yaxis='y2', line=dict(color='#3399cc')))\n",
    "fig.add_trace(go.Scatter(x=df_viz.index, y=df_viz['pred_gd'].ewm(3).mean(), mode='lines', name='pred_lod', yaxis='y2', line=dict(color='#98ff98')))\n",
    "\n",
    "fig.add_shape(\n",
    "    type=\"line\",\n",
    "    x0=df_viz.index.min(),\n",
    "    x1=df_viz.index.max(),\n",
    "    y0=0.5,\n",
    "    y1=0.5,\n",
    "    yref='y2',\n",
    "    line=dict(\n",
    "        color=\"Red\",\n",
    "        width=1.5,\n",
    "        dash=\"dash\",\n",
    "    )\n",
    ")\n",
    "\n",
    "fig.update_layout(\n",
    "    template='plotly_dark',\n",
    "    yaxis=dict(\n",
    "        tickformat='.0f'\n",
    "    ),\n",
    "    yaxis2=dict(\n",
    "        overlaying='y',\n",
    "        side='right',\n",
    "        tickformat=\".0%\"\n",
    "    ),\n",
    "    legend=dict(\n",
    "        orientation=\"h\",\n",
    "        yanchor=\"bottom\",\n",
    "        y=1.02,\n",
    "        xanchor=\"right\",\n",
    "        x=1\n",
    "    ),\n",
    "    title='OHLC vs Prediction Over Time',\n",
    "    xaxis_rangeslider_visible=False\n",
    ")\n",
    "\n",
    "fig.show()"
   ]
  },
  {
   "cell_type": "markdown",
   "metadata": {},
   "source": [
    "# Inference Pipeline"
   ]
  },
  {
   "cell_type": "code",
   "execution_count": 160,
   "metadata": {},
   "outputs": [],
   "source": [
    "# Get data\n",
    "import yfinance as yf\n",
    "import numpy as np\n",
    "import pandas as pd\n",
    "import datetime\n",
    "\n",
    "# Create a list of times from 9:30 to 15:55 with 5 minute intervals\n",
    "times = pd.date_range(start=\"9:30\", end=\"15:55\", freq='5min').time\n",
    "\n",
    "# Create a dictionary that maps each time to a unique integer\n",
    "time_to_int = {time: i+1 for i, time in enumerate(times)}\n",
    "\n",
    "\n",
    "def create_features(ticker_str):\n",
    "    '''\n",
    "    Function to create dataframe of features for top/bottom model.\n",
    "    '''\n",
    "    ticker = yf.Ticker(ticker_str)\n",
    "    df = ticker.history(period='5d',interval='5m')\n",
    "    df = df.loc[\n",
    "        (df.index.time >= datetime.time(9,30)) &\\\n",
    "        (df.index.time < datetime.time(16,0)),\n",
    "    ['Open','High','Low','Close']]\n",
    "    df.columns = ['open','high','low','close']\n",
    "\n",
    "    df['time'] = df.index.time\n",
    "    df['eod_close'] = df.groupby(df.index.date)['close'].tail(1)\n",
    "    df['prev_close'] = df['eod_close'].shift(1)\n",
    "    df['prev_close'] = df['prev_close'].ffill()\n",
    "    df['eod_close'] = df['eod_close'].bfill()\n",
    "    df['green_day'] = df['eod_close'] > df['prev_close']\n",
    "\n",
    "    # Assume df is your DataFrame and 'time' is your column of times\n",
    "    df['bar_num'] = df['time'].map(time_to_int)\n",
    "\n",
    "    df['eod_close_pts'] = df['eod_close'] - df['prev_close']\n",
    "    df['eod_close_pct'] = df['eod_close_pts'] / df['prev_close']\n",
    "\n",
    "    for day in sorted(set(df.index.date)):\n",
    "        day_str = datetime.datetime.strftime(day, '%Y-%m-%d')\n",
    "        day_open = df.loc[day_str, 'open'].iloc[0]\n",
    "        df.loc[day_str, 'lod'] = df.loc[day_str, 'low'].min()\n",
    "        df.loc[day_str, 'label_lod'] = (df.loc[day_str, 'low'] == df.loc[day_str, 'lod']).astype(int)\n",
    "        \n",
    "        df.loc[day_str, 'hod'] = df.loc[day_str, 'high'].max()\n",
    "        df.loc[day_str, 'label'] = (df.loc[day_str, 'high'] == df.loc[day_str, 'hod']).astype(int)\n",
    "        df.loc[day_str, 'day_open'] = day_open\n",
    "        df.loc[day_str, 'day_open_pts'] = df.loc[day_str, 'close'] - df.loc[day_str, 'day_open']\n",
    "        df.loc[day_str, 'day_open_pct'] = df.loc[day_str, 'day_open_pts'] / df.loc[day_str, 'day_open']\n",
    "        df.loc[day_str, 'prev_close_pts'] = df.loc[day_str, 'close'] - df.loc[day_str, 'prev_close']\n",
    "        df.loc[day_str, 'prev_close_pct'] = df.loc[day_str, 'prev_close_pts'] / df.loc[day_str, 'prev_close']\n",
    "\n",
    "        # Lowest low\n",
    "        df.loc[day_str, 'lowest_low'] = df.loc[day_str, 'low'].expanding().min()\n",
    "        df.loc[day_str, 'lowest_low'] = df.loc[day_str, 'lowest_low'].shift(1)\n",
    "        df.loc[day_str, 'lowest_low'] = df.loc[day_str, 'lowest_low'].ffill()\n",
    "        df.loc[day_str, 'lowest_low_mag'] = (df.loc[day_str, 'close'] / df.loc[day_str, 'lowest_low']) - 1\n",
    "\n",
    "        # Highest high\n",
    "        df.loc[day_str, 'highest_high'] = df.loc[day_str, 'high'].expanding().max()\n",
    "        df.loc[day_str, 'highest_high'] = df.loc[day_str, 'highest_high'].shift(1)\n",
    "        df.loc[day_str, 'highest_high'] = df.loc[day_str, 'highest_high'].ffill()\n",
    "        df.loc[day_str, 'highest_high_mag'] = (df.loc[day_str, 'close'] / df.loc[day_str, 'highest_high']) - 1\n",
    "\n",
    "        # Shifted\n",
    "        df.loc[day_str, 'prev_close_pct_n1'] = df.loc[day_str, 'prev_close_pct'].shift(1)\n",
    "        df.loc[day_str, 'prev_close_pct_n2'] = df.loc[day_str, 'prev_close_pct'].shift(2)\n",
    "        df.loc[day_str, 'prev_close_pct_n3'] = df.loc[day_str, 'prev_close_pct'].shift(3)\n",
    "\n",
    "        df.loc[day_str, 'day_open_pct_n1'] = df.loc[day_str, 'day_open_pct'].shift(1)\n",
    "        df.loc[day_str, 'day_open_pct_n2'] = df.loc[day_str, 'day_open_pct'].shift(2)\n",
    "        df.loc[day_str, 'day_open_pct_n3'] = df.loc[day_str, 'day_open_pct'].shift(3)\n",
    "\n",
    "        # New Features\n",
    "        df.loc[day_str, 'open_slope'] = df.loc[day_str, 'day_open_pct'] / df.loc[day_str, 'bar_num']\n",
    "        df.loc[day_str, 'daily_slope'] = df.loc[day_str, 'prev_close_pct'] / df.loc[day_str, 'bar_num']\n",
    "\n",
    "        df.loc[day_str, 'highest_high_slope'] = (df.loc[day_str, 'close'] - df.loc[day_str, 'highest_high']) / df.loc[day_str, 'bar_num']\n",
    "        df.loc[day_str, 'lowest_low_slope'] = (df.loc[day_str, 'close'] - df.loc[day_str, 'lowest_low']) / df.loc[day_str, 'bar_num']\n",
    "    \n",
    "        \n",
    "    df['gap_open'] = df['day_open'] - df['prev_close']\n",
    "    df['gap_open_pct'] = df['gap_open'] / df['prev_close']\n",
    "    df = df.dropna(subset=[\n",
    "        'prev_close_pct',\n",
    "        'gap_open_pct',\n",
    "        'day_open_pct_n3',\n",
    "        'prev_close_pct_n3'\n",
    "    ])\n",
    "    df = df.loc[(df['time'] < datetime.time(16,0)) & (df['time'] >= datetime.time(9,45))]\n",
    "    return df"
   ]
  },
  {
   "cell_type": "code",
   "execution_count": 161,
   "metadata": {},
   "outputs": [],
   "source": [
    "import joblib\n",
    "\n",
    "df_feats = create_features(tck)"
   ]
  },
  {
   "cell_type": "code",
   "execution_count": 162,
   "metadata": {},
   "outputs": [],
   "source": [
    "\n",
    "hod_model1 = joblib.load(ticker_dict[tck]['hod_model'])\n",
    "lod_model1 = joblib.load(ticker_dict[tck]['lod_model'])\n",
    "gd_model1 = joblib.load(ticker_dict[tck]['gd_model'])\n",
    "\n",
    "def create_preds_df(df_feats):\n",
    "    predicted_proba_hod = hod_model1.predict_proba(df_feats)[:,-1]\n",
    "    predicted_proba_lod = lod_model1.predict_proba(df_feats)[:,-1]\n",
    "    predicted_proba_gd = gd_model1.predict_proba(df_feats)[:,-1]\n",
    "    df_viz = df_feats.copy()\n",
    "    df_viz['pred_hod'] = predicted_proba_hod\n",
    "    df_viz['pred_lod'] = predicted_proba_lod\n",
    "    df_viz['pred_gd'] = predicted_proba_gd\n",
    "    return df_viz\n",
    "\n",
    "df_viz = create_preds_df(df_feats)"
   ]
  },
  {
   "cell_type": "code",
   "execution_count": 163,
   "metadata": {},
   "outputs": [],
   "source": [
    "# Create df for visual\n",
    "def create_viz(df_viz, date_str):\n",
    "\n",
    "    df_use = df_viz.loc[date_str:date_str]\n",
    "    \n",
    "    fig = go.Figure(data=[go.Candlestick(x=df_use.index,\n",
    "                open=df_use['open'],\n",
    "                high=df_use['high'],\n",
    "                low=df_use['low'],\n",
    "                close=df_use['close'])])\n",
    "\n",
    "    fig.add_trace(go.Scatter(x=df_use.index, y=df_use['pred_hod'], mode='lines', name='pred_hod', yaxis='y2', line=dict(color='#ff5f5f')))\n",
    "    fig.add_trace(go.Scatter(x=df_use.index, y=df_use['pred_lod'], mode='lines', name='pred_lod', yaxis='y2', line=dict(color='#3399cc')))\n",
    "    fig.add_trace(go.Scatter(x=df_use.index, y=df_use['pred_gd'], mode='lines', name='pred_gd', yaxis='y2', line=dict(color='#9400d3')))\n",
    "\n",
    "\n",
    "    fig.add_shape(\n",
    "        type=\"line\",\n",
    "        x0=df_use.index.min(),\n",
    "        x1=df_use.index.max(),\n",
    "        y0=0.5,\n",
    "        y1=0.5,\n",
    "        yref='y2',\n",
    "        line=dict(\n",
    "            color=\"Red\",\n",
    "            width=1.5,\n",
    "            dash=\"dash\",\n",
    "        )\n",
    "    )\n",
    "\n",
    "    max_high = df_use['high'].max()\n",
    "    max_high_time = df_use['high'].idxmax()\n",
    "\n",
    "    min_low = df_use['low'].min()\n",
    "    min_low_time = df_use['low'].idxmin()\n",
    "\n",
    "    fig.add_annotation(\n",
    "        x=max_high_time,\n",
    "        y=max_high,\n",
    "        text=f\"{str(int(max_high))}\",\n",
    "        showarrow=True,\n",
    "        font=dict(\n",
    "            family=\"Courier New, monospace\",\n",
    "            size=12,\n",
    "            color=\"#ffffff\"\n",
    "        ),\n",
    "        align=\"center\",\n",
    "        arrowhead=2,\n",
    "        arrowsize=1,\n",
    "        arrowwidth=2,\n",
    "        arrowcolor=\"#636363\",\n",
    "        ax=20,\n",
    "        ay=-30,\n",
    "        bordercolor=\"#c7c7c7\",\n",
    "        borderwidth=1,\n",
    "        borderpad=1,\n",
    "        bgcolor=\"#ff5f5f\",\n",
    "        opacity=0.8\n",
    "    )\n",
    "\n",
    "    fig.add_annotation(\n",
    "        x=min_low_time,\n",
    "        y=min_low,\n",
    "        text=f\"{str(int(min_low))}\",\n",
    "        showarrow=True,\n",
    "        font=dict(\n",
    "            family=\"Courier New, monospace\",\n",
    "            size=12,\n",
    "            color=\"#ffffff\"\n",
    "        ),\n",
    "        align=\"center\",\n",
    "        arrowhead=2,\n",
    "        arrowsize=1,\n",
    "        arrowwidth=2,\n",
    "        arrowcolor=\"#636363\",\n",
    "        ax=20,\n",
    "        ay=30,  # Adjust the y offset for the annotation\n",
    "        bordercolor=\"#c7c7c7\",\n",
    "        borderwidth=1,\n",
    "        borderpad=1,\n",
    "        bgcolor=\"#3399cc\",\n",
    "        opacity=0.8\n",
    "    )\n",
    "\n",
    "    fig.update_layout(\n",
    "        template='plotly_dark',\n",
    "        yaxis=dict(\n",
    "            tickformat='.0f'\n",
    "        ),\n",
    "        yaxis2=dict(\n",
    "            overlaying='y',\n",
    "            side='right',\n",
    "            tickformat=\".0%\"\n",
    "        ),\n",
    "        legend=dict(\n",
    "            orientation=\"h\",\n",
    "            yanchor=\"bottom\",\n",
    "            y=1.02,\n",
    "            xanchor=\"right\",\n",
    "            x=1\n",
    "        ),\n",
    "        title='OHLC vs Prediction Over Time',\n",
    "        xaxis_rangeslider_visible=False\n",
    "    )\n",
    "\n",
    "    fig.show()\n",
    "    "
   ]
  },
  {
   "cell_type": "code",
   "execution_count": 164,
   "metadata": {},
   "outputs": [
    {
     "data": {
      "text/html": [
       "<div>\n",
       "<style scoped>\n",
       "    .dataframe tbody tr th:only-of-type {\n",
       "        vertical-align: middle;\n",
       "    }\n",
       "\n",
       "    .dataframe tbody tr th {\n",
       "        vertical-align: top;\n",
       "    }\n",
       "\n",
       "    .dataframe thead th {\n",
       "        text-align: right;\n",
       "    }\n",
       "</style>\n",
       "<table border=\"1\" class=\"dataframe\">\n",
       "  <thead>\n",
       "    <tr style=\"text-align: right;\">\n",
       "      <th></th>\n",
       "      <th>open</th>\n",
       "      <th>high</th>\n",
       "      <th>low</th>\n",
       "      <th>close</th>\n",
       "      <th>time</th>\n",
       "      <th>eod_close</th>\n",
       "      <th>prev_close</th>\n",
       "      <th>green_day</th>\n",
       "      <th>bar_num</th>\n",
       "      <th>eod_close_pts</th>\n",
       "      <th>...</th>\n",
       "      <th>day_open_pct_n3</th>\n",
       "      <th>open_slope</th>\n",
       "      <th>daily_slope</th>\n",
       "      <th>highest_high_slope</th>\n",
       "      <th>lowest_low_slope</th>\n",
       "      <th>gap_open</th>\n",
       "      <th>gap_open_pct</th>\n",
       "      <th>pred_hod</th>\n",
       "      <th>pred_lod</th>\n",
       "      <th>pred_gd</th>\n",
       "    </tr>\n",
       "    <tr>\n",
       "      <th>Datetime</th>\n",
       "      <th></th>\n",
       "      <th></th>\n",
       "      <th></th>\n",
       "      <th></th>\n",
       "      <th></th>\n",
       "      <th></th>\n",
       "      <th></th>\n",
       "      <th></th>\n",
       "      <th></th>\n",
       "      <th></th>\n",
       "      <th></th>\n",
       "      <th></th>\n",
       "      <th></th>\n",
       "      <th></th>\n",
       "      <th></th>\n",
       "      <th></th>\n",
       "      <th></th>\n",
       "      <th></th>\n",
       "      <th></th>\n",
       "      <th></th>\n",
       "      <th></th>\n",
       "    </tr>\n",
       "  </thead>\n",
       "  <tbody>\n",
       "    <tr>\n",
       "      <th>2024-01-09 09:45:00-05:00</th>\n",
       "      <td>1959.977417</td>\n",
       "      <td>1960.147095</td>\n",
       "      <td>1957.631592</td>\n",
       "      <td>1958.394165</td>\n",
       "      <td>09:45:00</td>\n",
       "      <td>1967.885742</td>\n",
       "      <td>1988.681030</td>\n",
       "      <td>False</td>\n",
       "      <td>4</td>\n",
       "      <td>-20.795288</td>\n",
       "      <td>...</td>\n",
       "      <td>-0.000476</td>\n",
       "      <td>-0.000805</td>\n",
       "      <td>-0.003807</td>\n",
       "      <td>-1.626740</td>\n",
       "      <td>-0.383789</td>\n",
       "      <td>-23.956543</td>\n",
       "      <td>-0.012046</td>\n",
       "      <td>0.430295</td>\n",
       "      <td>0.054760</td>\n",
       "      <td>0.030998</td>\n",
       "    </tr>\n",
       "    <tr>\n",
       "      <th>2024-01-09 09:50:00-05:00</th>\n",
       "      <td>1958.395508</td>\n",
       "      <td>1959.431885</td>\n",
       "      <td>1957.414551</td>\n",
       "      <td>1959.431885</td>\n",
       "      <td>09:50:00</td>\n",
       "      <td>1967.885742</td>\n",
       "      <td>1988.681030</td>\n",
       "      <td>False</td>\n",
       "      <td>5</td>\n",
       "      <td>-20.795288</td>\n",
       "      <td>...</td>\n",
       "      <td>-0.001422</td>\n",
       "      <td>-0.000539</td>\n",
       "      <td>-0.002942</td>\n",
       "      <td>-1.093848</td>\n",
       "      <td>0.360059</td>\n",
       "      <td>-23.956543</td>\n",
       "      <td>-0.012046</td>\n",
       "      <td>0.305036</td>\n",
       "      <td>0.182564</td>\n",
       "      <td>0.043515</td>\n",
       "    </tr>\n",
       "    <tr>\n",
       "      <th>2024-01-09 09:55:00-05:00</th>\n",
       "      <td>1959.478027</td>\n",
       "      <td>1961.316650</td>\n",
       "      <td>1959.431641</td>\n",
       "      <td>1961.316650</td>\n",
       "      <td>09:55:00</td>\n",
       "      <td>1967.885742</td>\n",
       "      <td>1988.681030</td>\n",
       "      <td>False</td>\n",
       "      <td>6</td>\n",
       "      <td>-20.795288</td>\n",
       "      <td>...</td>\n",
       "      <td>-0.002441</td>\n",
       "      <td>-0.000289</td>\n",
       "      <td>-0.002293</td>\n",
       "      <td>-0.597412</td>\n",
       "      <td>0.650350</td>\n",
       "      <td>-23.956543</td>\n",
       "      <td>-0.012046</td>\n",
       "      <td>0.223328</td>\n",
       "      <td>0.352842</td>\n",
       "      <td>0.067413</td>\n",
       "    </tr>\n",
       "    <tr>\n",
       "      <th>2024-01-09 10:00:00-05:00</th>\n",
       "      <td>1961.418945</td>\n",
       "      <td>1961.805786</td>\n",
       "      <td>1960.467896</td>\n",
       "      <td>1960.467896</td>\n",
       "      <td>10:00:00</td>\n",
       "      <td>1967.885742</td>\n",
       "      <td>1988.681030</td>\n",
       "      <td>False</td>\n",
       "      <td>7</td>\n",
       "      <td>-20.795288</td>\n",
       "      <td>...</td>\n",
       "      <td>-0.003222</td>\n",
       "      <td>-0.000310</td>\n",
       "      <td>-0.002027</td>\n",
       "      <td>-0.633318</td>\n",
       "      <td>0.436192</td>\n",
       "      <td>-23.956543</td>\n",
       "      <td>-0.012046</td>\n",
       "      <td>0.242469</td>\n",
       "      <td>0.336713</td>\n",
       "      <td>0.043769</td>\n",
       "    </tr>\n",
       "    <tr>\n",
       "      <th>2024-01-09 10:05:00-05:00</th>\n",
       "      <td>1960.052856</td>\n",
       "      <td>1961.015259</td>\n",
       "      <td>1959.147339</td>\n",
       "      <td>1960.972534</td>\n",
       "      <td>10:05:00</td>\n",
       "      <td>1967.885742</td>\n",
       "      <td>1988.681030</td>\n",
       "      <td>False</td>\n",
       "      <td>8</td>\n",
       "      <td>-20.795288</td>\n",
       "      <td>...</td>\n",
       "      <td>-0.002694</td>\n",
       "      <td>-0.000239</td>\n",
       "      <td>-0.001742</td>\n",
       "      <td>-0.491074</td>\n",
       "      <td>0.444748</td>\n",
       "      <td>-23.956543</td>\n",
       "      <td>-0.012046</td>\n",
       "      <td>0.233572</td>\n",
       "      <td>0.370810</td>\n",
       "      <td>0.054705</td>\n",
       "    </tr>\n",
       "    <tr>\n",
       "      <th>...</th>\n",
       "      <td>...</td>\n",
       "      <td>...</td>\n",
       "      <td>...</td>\n",
       "      <td>...</td>\n",
       "      <td>...</td>\n",
       "      <td>...</td>\n",
       "      <td>...</td>\n",
       "      <td>...</td>\n",
       "      <td>...</td>\n",
       "      <td>...</td>\n",
       "      <td>...</td>\n",
       "      <td>...</td>\n",
       "      <td>...</td>\n",
       "      <td>...</td>\n",
       "      <td>...</td>\n",
       "      <td>...</td>\n",
       "      <td>...</td>\n",
       "      <td>...</td>\n",
       "      <td>...</td>\n",
       "      <td>...</td>\n",
       "      <td>...</td>\n",
       "    </tr>\n",
       "    <tr>\n",
       "      <th>2024-01-12 15:35:00-05:00</th>\n",
       "      <td>1949.224243</td>\n",
       "      <td>1949.542969</td>\n",
       "      <td>1949.118896</td>\n",
       "      <td>1949.401489</td>\n",
       "      <td>15:35:00</td>\n",
       "      <td>1950.992554</td>\n",
       "      <td>1955.437256</td>\n",
       "      <td>False</td>\n",
       "      <td>74</td>\n",
       "      <td>-4.444702</td>\n",
       "      <td>...</td>\n",
       "      <td>-0.015344</td>\n",
       "      <td>-0.000195</td>\n",
       "      <td>-0.000042</td>\n",
       "      <td>-0.465040</td>\n",
       "      <td>0.025757</td>\n",
       "      <td>22.442627</td>\n",
       "      <td>0.011477</td>\n",
       "      <td>0.996599</td>\n",
       "      <td>0.563796</td>\n",
       "      <td>0.075191</td>\n",
       "    </tr>\n",
       "    <tr>\n",
       "      <th>2024-01-12 15:40:00-05:00</th>\n",
       "      <td>1949.388184</td>\n",
       "      <td>1949.453003</td>\n",
       "      <td>1948.853394</td>\n",
       "      <td>1949.453003</td>\n",
       "      <td>15:40:00</td>\n",
       "      <td>1950.992554</td>\n",
       "      <td>1955.437256</td>\n",
       "      <td>False</td>\n",
       "      <td>75</td>\n",
       "      <td>-4.444702</td>\n",
       "      <td>...</td>\n",
       "      <td>-0.014833</td>\n",
       "      <td>-0.000192</td>\n",
       "      <td>-0.000041</td>\n",
       "      <td>-0.458153</td>\n",
       "      <td>0.026100</td>\n",
       "      <td>22.442627</td>\n",
       "      <td>0.011477</td>\n",
       "      <td>0.997402</td>\n",
       "      <td>0.625440</td>\n",
       "      <td>0.070455</td>\n",
       "    </tr>\n",
       "    <tr>\n",
       "      <th>2024-01-12 15:45:00-05:00</th>\n",
       "      <td>1949.470825</td>\n",
       "      <td>1950.212891</td>\n",
       "      <td>1949.470825</td>\n",
       "      <td>1950.212891</td>\n",
       "      <td>15:45:00</td>\n",
       "      <td>1950.992554</td>\n",
       "      <td>1955.437256</td>\n",
       "      <td>False</td>\n",
       "      <td>76</td>\n",
       "      <td>-4.444702</td>\n",
       "      <td>...</td>\n",
       "      <td>-0.014488</td>\n",
       "      <td>-0.000184</td>\n",
       "      <td>-0.000035</td>\n",
       "      <td>-0.442126</td>\n",
       "      <td>0.035755</td>\n",
       "      <td>22.442627</td>\n",
       "      <td>0.011477</td>\n",
       "      <td>0.997331</td>\n",
       "      <td>0.745244</td>\n",
       "      <td>0.079786</td>\n",
       "    </tr>\n",
       "    <tr>\n",
       "      <th>2024-01-12 15:50:00-05:00</th>\n",
       "      <td>1950.284912</td>\n",
       "      <td>1950.843628</td>\n",
       "      <td>1949.828125</td>\n",
       "      <td>1950.843628</td>\n",
       "      <td>15:50:00</td>\n",
       "      <td>1950.992554</td>\n",
       "      <td>1955.437256</td>\n",
       "      <td>False</td>\n",
       "      <td>77</td>\n",
       "      <td>-4.444702</td>\n",
       "      <td>...</td>\n",
       "      <td>-0.014398</td>\n",
       "      <td>-0.000178</td>\n",
       "      <td>-0.000031</td>\n",
       "      <td>-0.428193</td>\n",
       "      <td>0.043482</td>\n",
       "      <td>22.442627</td>\n",
       "      <td>0.011477</td>\n",
       "      <td>0.997517</td>\n",
       "      <td>0.936923</td>\n",
       "      <td>0.121231</td>\n",
       "    </tr>\n",
       "    <tr>\n",
       "      <th>2024-01-12 15:55:00-05:00</th>\n",
       "      <td>1950.846436</td>\n",
       "      <td>1951.723022</td>\n",
       "      <td>1950.846436</td>\n",
       "      <td>1950.992554</td>\n",
       "      <td>15:55:00</td>\n",
       "      <td>1950.992554</td>\n",
       "      <td>1955.437256</td>\n",
       "      <td>False</td>\n",
       "      <td>78</td>\n",
       "      <td>-4.444702</td>\n",
       "      <td>...</td>\n",
       "      <td>-0.014372</td>\n",
       "      <td>-0.000174</td>\n",
       "      <td>-0.000029</td>\n",
       "      <td>-0.420794</td>\n",
       "      <td>0.044834</td>\n",
       "      <td>22.442627</td>\n",
       "      <td>0.011477</td>\n",
       "      <td>0.999228</td>\n",
       "      <td>0.997118</td>\n",
       "      <td>0.119485</td>\n",
       "    </tr>\n",
       "  </tbody>\n",
       "</table>\n",
       "<p>300 rows × 39 columns</p>\n",
       "</div>"
      ],
      "text/plain": [
       "                                  open         high          low        close  \\\n",
       "Datetime                                                                        \n",
       "2024-01-09 09:45:00-05:00  1959.977417  1960.147095  1957.631592  1958.394165   \n",
       "2024-01-09 09:50:00-05:00  1958.395508  1959.431885  1957.414551  1959.431885   \n",
       "2024-01-09 09:55:00-05:00  1959.478027  1961.316650  1959.431641  1961.316650   \n",
       "2024-01-09 10:00:00-05:00  1961.418945  1961.805786  1960.467896  1960.467896   \n",
       "2024-01-09 10:05:00-05:00  1960.052856  1961.015259  1959.147339  1960.972534   \n",
       "...                                ...          ...          ...          ...   \n",
       "2024-01-12 15:35:00-05:00  1949.224243  1949.542969  1949.118896  1949.401489   \n",
       "2024-01-12 15:40:00-05:00  1949.388184  1949.453003  1948.853394  1949.453003   \n",
       "2024-01-12 15:45:00-05:00  1949.470825  1950.212891  1949.470825  1950.212891   \n",
       "2024-01-12 15:50:00-05:00  1950.284912  1950.843628  1949.828125  1950.843628   \n",
       "2024-01-12 15:55:00-05:00  1950.846436  1951.723022  1950.846436  1950.992554   \n",
       "\n",
       "                               time    eod_close   prev_close  green_day  \\\n",
       "Datetime                                                                   \n",
       "2024-01-09 09:45:00-05:00  09:45:00  1967.885742  1988.681030      False   \n",
       "2024-01-09 09:50:00-05:00  09:50:00  1967.885742  1988.681030      False   \n",
       "2024-01-09 09:55:00-05:00  09:55:00  1967.885742  1988.681030      False   \n",
       "2024-01-09 10:00:00-05:00  10:00:00  1967.885742  1988.681030      False   \n",
       "2024-01-09 10:05:00-05:00  10:05:00  1967.885742  1988.681030      False   \n",
       "...                             ...          ...          ...        ...   \n",
       "2024-01-12 15:35:00-05:00  15:35:00  1950.992554  1955.437256      False   \n",
       "2024-01-12 15:40:00-05:00  15:40:00  1950.992554  1955.437256      False   \n",
       "2024-01-12 15:45:00-05:00  15:45:00  1950.992554  1955.437256      False   \n",
       "2024-01-12 15:50:00-05:00  15:50:00  1950.992554  1955.437256      False   \n",
       "2024-01-12 15:55:00-05:00  15:55:00  1950.992554  1955.437256      False   \n",
       "\n",
       "                           bar_num  eod_close_pts  ...  day_open_pct_n3  \\\n",
       "Datetime                                           ...                    \n",
       "2024-01-09 09:45:00-05:00        4     -20.795288  ...        -0.000476   \n",
       "2024-01-09 09:50:00-05:00        5     -20.795288  ...        -0.001422   \n",
       "2024-01-09 09:55:00-05:00        6     -20.795288  ...        -0.002441   \n",
       "2024-01-09 10:00:00-05:00        7     -20.795288  ...        -0.003222   \n",
       "2024-01-09 10:05:00-05:00        8     -20.795288  ...        -0.002694   \n",
       "...                            ...            ...  ...              ...   \n",
       "2024-01-12 15:35:00-05:00       74      -4.444702  ...        -0.015344   \n",
       "2024-01-12 15:40:00-05:00       75      -4.444702  ...        -0.014833   \n",
       "2024-01-12 15:45:00-05:00       76      -4.444702  ...        -0.014488   \n",
       "2024-01-12 15:50:00-05:00       77      -4.444702  ...        -0.014398   \n",
       "2024-01-12 15:55:00-05:00       78      -4.444702  ...        -0.014372   \n",
       "\n",
       "                           open_slope  daily_slope  highest_high_slope  \\\n",
       "Datetime                                                                 \n",
       "2024-01-09 09:45:00-05:00   -0.000805    -0.003807           -1.626740   \n",
       "2024-01-09 09:50:00-05:00   -0.000539    -0.002942           -1.093848   \n",
       "2024-01-09 09:55:00-05:00   -0.000289    -0.002293           -0.597412   \n",
       "2024-01-09 10:00:00-05:00   -0.000310    -0.002027           -0.633318   \n",
       "2024-01-09 10:05:00-05:00   -0.000239    -0.001742           -0.491074   \n",
       "...                               ...          ...                 ...   \n",
       "2024-01-12 15:35:00-05:00   -0.000195    -0.000042           -0.465040   \n",
       "2024-01-12 15:40:00-05:00   -0.000192    -0.000041           -0.458153   \n",
       "2024-01-12 15:45:00-05:00   -0.000184    -0.000035           -0.442126   \n",
       "2024-01-12 15:50:00-05:00   -0.000178    -0.000031           -0.428193   \n",
       "2024-01-12 15:55:00-05:00   -0.000174    -0.000029           -0.420794   \n",
       "\n",
       "                           lowest_low_slope   gap_open  gap_open_pct  \\\n",
       "Datetime                                                               \n",
       "2024-01-09 09:45:00-05:00         -0.383789 -23.956543     -0.012046   \n",
       "2024-01-09 09:50:00-05:00          0.360059 -23.956543     -0.012046   \n",
       "2024-01-09 09:55:00-05:00          0.650350 -23.956543     -0.012046   \n",
       "2024-01-09 10:00:00-05:00          0.436192 -23.956543     -0.012046   \n",
       "2024-01-09 10:05:00-05:00          0.444748 -23.956543     -0.012046   \n",
       "...                                     ...        ...           ...   \n",
       "2024-01-12 15:35:00-05:00          0.025757  22.442627      0.011477   \n",
       "2024-01-12 15:40:00-05:00          0.026100  22.442627      0.011477   \n",
       "2024-01-12 15:45:00-05:00          0.035755  22.442627      0.011477   \n",
       "2024-01-12 15:50:00-05:00          0.043482  22.442627      0.011477   \n",
       "2024-01-12 15:55:00-05:00          0.044834  22.442627      0.011477   \n",
       "\n",
       "                           pred_hod  pred_lod   pred_gd  \n",
       "Datetime                                                 \n",
       "2024-01-09 09:45:00-05:00  0.430295  0.054760  0.030998  \n",
       "2024-01-09 09:50:00-05:00  0.305036  0.182564  0.043515  \n",
       "2024-01-09 09:55:00-05:00  0.223328  0.352842  0.067413  \n",
       "2024-01-09 10:00:00-05:00  0.242469  0.336713  0.043769  \n",
       "2024-01-09 10:05:00-05:00  0.233572  0.370810  0.054705  \n",
       "...                             ...       ...       ...  \n",
       "2024-01-12 15:35:00-05:00  0.996599  0.563796  0.075191  \n",
       "2024-01-12 15:40:00-05:00  0.997402  0.625440  0.070455  \n",
       "2024-01-12 15:45:00-05:00  0.997331  0.745244  0.079786  \n",
       "2024-01-12 15:50:00-05:00  0.997517  0.936923  0.121231  \n",
       "2024-01-12 15:55:00-05:00  0.999228  0.997118  0.119485  \n",
       "\n",
       "[300 rows x 39 columns]"
      ]
     },
     "execution_count": 164,
     "metadata": {},
     "output_type": "execute_result"
    }
   ],
   "source": [
    "df_viz"
   ]
  },
  {
   "cell_type": "code",
   "execution_count": 165,
   "metadata": {},
   "outputs": [
    {
     "data": {
      "application/vnd.plotly.v1+json": {
       "config": {
        "plotlyServerURL": "https://plot.ly"
       },
       "data": [
        {
         "close": [
          1964.0587158203125,
          1960.504638671875,
          1959.8599853515625,
          1954.7684326171875,
          1953.255615234375,
          1955.7178955078125,
          1955.1387939453125,
          1957.902587890625,
          1959.9434814453125,
          1961.427001953125,
          1962.15625,
          1963.883056640625,
          1962.810791015625,
          1961.7840576171875,
          1963.0340576171875,
          1963.3031005859375,
          1963.3133544921875,
          1961.6990966796875,
          1961.9261474609375,
          1962.6153564453125,
          1962.493408203125,
          1961.8387451171875,
          1963.03173828125,
          1963.864501953125,
          1964.6474609375,
          1963.84130859375,
          1964.208740234375,
          1963.31005859375,
          1963.9486083984375,
          1964.6097412109375,
          1964.71240234375,
          1964.8267822265625,
          1964.4976806640625,
          1963.6641845703125,
          1964.5567626953125,
          1964.822021484375,
          1964.3887939453125,
          1963.7904052734375,
          1963.4678955078125,
          1966.2650146484375,
          1964.728271484375,
          1963.7613525390625,
          1964.5543212890625,
          1963.9805908203125,
          1965.1883544921875,
          1966.420166015625,
          1965.4296875,
          1965.6881103515625,
          1965.9061279296875,
          1966.8006591796875,
          1967.3026123046875,
          1967.4949951171875,
          1967.0762939453125,
          1968.6231689453125,
          1968.88916015625,
          1969.0936279296875,
          1969.3101806640625,
          1969.0599365234375,
          1968.3470458984375,
          1969.797119140625,
          1970.2752685546875,
          1970.792724609375,
          1970.9212646484375,
          1970.543701171875,
          1971.1134033203125,
          1970.2222900390625,
          1969.2154541015625,
          1964.039794921875,
          1964.0023193359375,
          1965.4884033203125,
          1965.1591796875,
          1963.2191162109375,
          1962.6949462890625,
          1965.4298095703125,
          1970.4525146484375
         ],
         "high": [
          1966.098876953125,
          1964.8070068359375,
          1960.50048828125,
          1959.895263671875,
          1954.6573486328125,
          1955.919189453125,
          1955.7630615234375,
          1957.965576171875,
          1959.9434814453125,
          1961.799560546875,
          1962.15625,
          1963.9932861328125,
          1963.9002685546875,
          1962.998046875,
          1963.0340576171875,
          1963.897216796875,
          1963.3133544921875,
          1963.5888671875,
          1961.96875,
          1962.6376953125,
          1962.719482421875,
          1962.7529296875,
          1963.049072265625,
          1963.90771484375,
          1964.6907958984375,
          1964.66259765625,
          1964.6881103515625,
          1964.20361328125,
          1963.9486083984375,
          1964.6151123046875,
          1964.7315673828125,
          1965.1829833984375,
          1964.936767578125,
          1964.5194091796875,
          1964.5567626953125,
          1964.8780517578125,
          1964.8419189453125,
          1964.7318115234375,
          1963.9473876953125,
          1966.2650146484375,
          1966.406005859375,
          1964.8363037109375,
          1964.6278076171875,
          1964.585693359375,
          1965.213134765625,
          1966.420166015625,
          1966.4033203125,
          1965.8116455078125,
          1966.017578125,
          1966.8006591796875,
          1967.3026123046875,
          1967.5406494140625,
          1967.6160888671875,
          1968.8131103515625,
          1968.88916015625,
          1969.0936279296875,
          1969.8876953125,
          1969.4039306640625,
          1969.1229248046875,
          1969.797119140625,
          1970.38525390625,
          1971.0426025390625,
          1970.9326171875,
          1970.9290771484375,
          1971.1134033203125,
          1971.2459716796875,
          1970.7554931640625,
          1969.14111328125,
          1964.279541015625,
          1965.5843505859375,
          1965.56884765625,
          1965.1929931640625,
          1964.3873291015625,
          1965.4298095703125,
          1970.4525146484375
         ],
         "low": [
          1963.693115234375,
          1960.4833984375,
          1959.4677734375,
          1954.7684326171875,
          1953,
          1953.2247314453125,
          1955.0299072265625,
          1954.9696044921875,
          1957.68798828125,
          1959.97607421875,
          1961.3870849609375,
          1962.188720703125,
          1962.2889404296875,
          1961.7818603515625,
          1961.622802734375,
          1963.0340576171875,
          1962.394775390625,
          1961.6990966796875,
          1960.966552734375,
          1961.712158203125,
          1962.2559814453125,
          1961.8350830078125,
          1961.817138671875,
          1963.021484375,
          1963.872314453125,
          1963.572021484375,
          1963.8193359375,
          1963.188232421875,
          1963.0321044921875,
          1963.950927734375,
          1964.515869140625,
          1964.70361328125,
          1964.490234375,
          1963.6630859375,
          1963.66357421875,
          1964.5762939453125,
          1964.0986328125,
          1963.7598876953125,
          1963.4678955078125,
          1961.6177978515625,
          1964.728271484375,
          1962.9744873046875,
          1963.628662109375,
          1963.8017578125,
          1963.9764404296875,
          1965.1937255859375,
          1965.4122314453125,
          1965.4366455078125,
          1965.6787109375,
          1965.9700927734375,
          1966.800537109375,
          1967.267333984375,
          1967.0762939453125,
          1966.9814453125,
          1968.388916015625,
          1968.6767578125,
          1969.1473388671875,
          1969.0472412109375,
          1968.2398681640625,
          1968.33544921875,
          1969.81884765625,
          1970.2467041015625,
          1970.67919921875,
          1970.0250244140625,
          1970.4403076171875,
          1970.1947021484375,
          1969.2154541015625,
          1964.039794921875,
          1963.726806640625,
          1963.777099609375,
          1964.827880859375,
          1963.197998046875,
          1962.6949462890625,
          1962.1260986328125,
          1965.5830078125
         ],
         "open": [
          1965.7357177734375,
          1964.1278076171875,
          1960.50048828125,
          1959.895263671875,
          1954.6573486328125,
          1953.365478515625,
          1955.6834716796875,
          1955.1484375,
          1957.876220703125,
          1959.97607421875,
          1961.4368896484375,
          1962.188720703125,
          1963.864501953125,
          1962.846435546875,
          1961.7559814453125,
          1963.0340576171875,
          1963.2366943359375,
          1963.41552734375,
          1961.638916015625,
          1961.9393310546875,
          1962.6136474609375,
          1962.5008544921875,
          1961.848876953125,
          1963.021484375,
          1963.872314453125,
          1964.66259765625,
          1963.8193359375,
          1964.20361328125,
          1963.306640625,
          1963.950927734375,
          1964.60546875,
          1964.7391357421875,
          1964.848388671875,
          1964.4849853515625,
          1963.67529296875,
          1964.5762939453125,
          1964.837646484375,
          1964.3902587890625,
          1963.7777099609375,
          1963.4146728515625,
          1966.33740234375,
          1964.8363037109375,
          1963.7723388671875,
          1964.54833984375,
          1963.9764404296875,
          1965.1937255859375,
          1966.4033203125,
          1965.4366455078125,
          1965.6787109375,
          1965.9700927734375,
          1966.8267822265625,
          1967.30029296875,
          1967.491455078125,
          1967.06982421875,
          1968.5938720703125,
          1968.9005126953125,
          1969.1473388671875,
          1969.3101806640625,
          1969.08203125,
          1968.33544921875,
          1969.81884765625,
          1970.276611328125,
          1970.81396484375,
          1970.908447265625,
          1970.5498046875,
          1971.12744140625,
          1970.2811279296875,
          1969.1142578125,
          1964.017578125,
          1963.9964599609375,
          1965.45263671875,
          1965.1429443359375,
          1963.193359375,
          1962.5443115234375,
          1965.5830078125
         ],
         "type": "candlestick",
         "x": [
          "2024-01-10T09:45:00-05:00",
          "2024-01-10T09:50:00-05:00",
          "2024-01-10T09:55:00-05:00",
          "2024-01-10T10:00:00-05:00",
          "2024-01-10T10:05:00-05:00",
          "2024-01-10T10:10:00-05:00",
          "2024-01-10T10:15:00-05:00",
          "2024-01-10T10:20:00-05:00",
          "2024-01-10T10:25:00-05:00",
          "2024-01-10T10:30:00-05:00",
          "2024-01-10T10:35:00-05:00",
          "2024-01-10T10:40:00-05:00",
          "2024-01-10T10:45:00-05:00",
          "2024-01-10T10:50:00-05:00",
          "2024-01-10T10:55:00-05:00",
          "2024-01-10T11:00:00-05:00",
          "2024-01-10T11:05:00-05:00",
          "2024-01-10T11:10:00-05:00",
          "2024-01-10T11:15:00-05:00",
          "2024-01-10T11:20:00-05:00",
          "2024-01-10T11:25:00-05:00",
          "2024-01-10T11:30:00-05:00",
          "2024-01-10T11:35:00-05:00",
          "2024-01-10T11:40:00-05:00",
          "2024-01-10T11:45:00-05:00",
          "2024-01-10T11:50:00-05:00",
          "2024-01-10T11:55:00-05:00",
          "2024-01-10T12:00:00-05:00",
          "2024-01-10T12:05:00-05:00",
          "2024-01-10T12:10:00-05:00",
          "2024-01-10T12:15:00-05:00",
          "2024-01-10T12:20:00-05:00",
          "2024-01-10T12:25:00-05:00",
          "2024-01-10T12:30:00-05:00",
          "2024-01-10T12:35:00-05:00",
          "2024-01-10T12:40:00-05:00",
          "2024-01-10T12:45:00-05:00",
          "2024-01-10T12:50:00-05:00",
          "2024-01-10T12:55:00-05:00",
          "2024-01-10T13:00:00-05:00",
          "2024-01-10T13:05:00-05:00",
          "2024-01-10T13:10:00-05:00",
          "2024-01-10T13:15:00-05:00",
          "2024-01-10T13:20:00-05:00",
          "2024-01-10T13:25:00-05:00",
          "2024-01-10T13:30:00-05:00",
          "2024-01-10T13:35:00-05:00",
          "2024-01-10T13:40:00-05:00",
          "2024-01-10T13:45:00-05:00",
          "2024-01-10T13:50:00-05:00",
          "2024-01-10T13:55:00-05:00",
          "2024-01-10T14:00:00-05:00",
          "2024-01-10T14:05:00-05:00",
          "2024-01-10T14:10:00-05:00",
          "2024-01-10T14:15:00-05:00",
          "2024-01-10T14:20:00-05:00",
          "2024-01-10T14:25:00-05:00",
          "2024-01-10T14:30:00-05:00",
          "2024-01-10T14:35:00-05:00",
          "2024-01-10T14:40:00-05:00",
          "2024-01-10T14:45:00-05:00",
          "2024-01-10T14:50:00-05:00",
          "2024-01-10T14:55:00-05:00",
          "2024-01-10T15:00:00-05:00",
          "2024-01-10T15:05:00-05:00",
          "2024-01-10T15:10:00-05:00",
          "2024-01-10T15:15:00-05:00",
          "2024-01-10T15:20:00-05:00",
          "2024-01-10T15:25:00-05:00",
          "2024-01-10T15:30:00-05:00",
          "2024-01-10T15:35:00-05:00",
          "2024-01-10T15:40:00-05:00",
          "2024-01-10T15:45:00-05:00",
          "2024-01-10T15:50:00-05:00",
          "2024-01-10T15:55:00-05:00"
         ]
        },
        {
         "line": {
          "color": "#ff5f5f"
         },
         "mode": "lines",
         "name": "pred_hod",
         "type": "scatter",
         "x": [
          "2024-01-10T09:45:00-05:00",
          "2024-01-10T09:50:00-05:00",
          "2024-01-10T09:55:00-05:00",
          "2024-01-10T10:00:00-05:00",
          "2024-01-10T10:05:00-05:00",
          "2024-01-10T10:10:00-05:00",
          "2024-01-10T10:15:00-05:00",
          "2024-01-10T10:20:00-05:00",
          "2024-01-10T10:25:00-05:00",
          "2024-01-10T10:30:00-05:00",
          "2024-01-10T10:35:00-05:00",
          "2024-01-10T10:40:00-05:00",
          "2024-01-10T10:45:00-05:00",
          "2024-01-10T10:50:00-05:00",
          "2024-01-10T10:55:00-05:00",
          "2024-01-10T11:00:00-05:00",
          "2024-01-10T11:05:00-05:00",
          "2024-01-10T11:10:00-05:00",
          "2024-01-10T11:15:00-05:00",
          "2024-01-10T11:20:00-05:00",
          "2024-01-10T11:25:00-05:00",
          "2024-01-10T11:30:00-05:00",
          "2024-01-10T11:35:00-05:00",
          "2024-01-10T11:40:00-05:00",
          "2024-01-10T11:45:00-05:00",
          "2024-01-10T11:50:00-05:00",
          "2024-01-10T11:55:00-05:00",
          "2024-01-10T12:00:00-05:00",
          "2024-01-10T12:05:00-05:00",
          "2024-01-10T12:10:00-05:00",
          "2024-01-10T12:15:00-05:00",
          "2024-01-10T12:20:00-05:00",
          "2024-01-10T12:25:00-05:00",
          "2024-01-10T12:30:00-05:00",
          "2024-01-10T12:35:00-05:00",
          "2024-01-10T12:40:00-05:00",
          "2024-01-10T12:45:00-05:00",
          "2024-01-10T12:50:00-05:00",
          "2024-01-10T12:55:00-05:00",
          "2024-01-10T13:00:00-05:00",
          "2024-01-10T13:05:00-05:00",
          "2024-01-10T13:10:00-05:00",
          "2024-01-10T13:15:00-05:00",
          "2024-01-10T13:20:00-05:00",
          "2024-01-10T13:25:00-05:00",
          "2024-01-10T13:30:00-05:00",
          "2024-01-10T13:35:00-05:00",
          "2024-01-10T13:40:00-05:00",
          "2024-01-10T13:45:00-05:00",
          "2024-01-10T13:50:00-05:00",
          "2024-01-10T13:55:00-05:00",
          "2024-01-10T14:00:00-05:00",
          "2024-01-10T14:05:00-05:00",
          "2024-01-10T14:10:00-05:00",
          "2024-01-10T14:15:00-05:00",
          "2024-01-10T14:20:00-05:00",
          "2024-01-10T14:25:00-05:00",
          "2024-01-10T14:30:00-05:00",
          "2024-01-10T14:35:00-05:00",
          "2024-01-10T14:40:00-05:00",
          "2024-01-10T14:45:00-05:00",
          "2024-01-10T14:50:00-05:00",
          "2024-01-10T14:55:00-05:00",
          "2024-01-10T15:00:00-05:00",
          "2024-01-10T15:05:00-05:00",
          "2024-01-10T15:10:00-05:00",
          "2024-01-10T15:15:00-05:00",
          "2024-01-10T15:20:00-05:00",
          "2024-01-10T15:25:00-05:00",
          "2024-01-10T15:30:00-05:00",
          "2024-01-10T15:35:00-05:00",
          "2024-01-10T15:40:00-05:00",
          "2024-01-10T15:45:00-05:00",
          "2024-01-10T15:50:00-05:00",
          "2024-01-10T15:55:00-05:00"
         ],
         "y": [
          0.3639580959688881,
          0.4899396323990806,
          0.5322351552491338,
          0.6687691041213686,
          0.7315001490652412,
          0.6605958173181757,
          0.6854774051918953,
          0.5624096004101863,
          0.43087670898213043,
          0.3770410044458321,
          0.3614801755834843,
          0.2937947600544942,
          0.3769283601652863,
          0.4367745154036178,
          0.36303222232269505,
          0.35850566318020644,
          0.35850566318020644,
          0.47797770870538164,
          0.46538924319548775,
          0.4345482489617573,
          0.4525982242271523,
          0.492152912899921,
          0.37143695808158983,
          0.3401000150536312,
          0.28431272306390776,
          0.363530158210884,
          0.3468482908966244,
          0.4165604839633155,
          0.3954887544647813,
          0.3183577028489782,
          0.3183577028489782,
          0.31885326031173566,
          0.3574266887894435,
          0.4522243041571404,
          0.35332516882360204,
          0.34794907839688405,
          0.3923155245243562,
          0.5036763134008517,
          0.5688024608288128,
          0.27937811608599766,
          0.3994650977691008,
          0.5748219502992262,
          0.44910730035440355,
          0.5847404920515997,
          0.425559263104472,
          0.25067174371013407,
          0.4179550047772941,
          0.38465347149674395,
          0.3466656073720405,
          0.2308655835755856,
          0.14251403758417056,
          0.12034174854555592,
          0.18169596569841043,
          0.046416328665920215,
          0.06863418579595557,
          0.060355211118464536,
          0.06665101694585983,
          0.21007999997210017,
          0.3559782857667857,
          0.09624504711225565,
          0.05764254180107234,
          0.05875677093540615,
          0.10192868400874076,
          0.17626681386234874,
          0.09355398120902036,
          0.2901344278417036,
          0.6053233173035544,
          0.9531921537339135,
          0.9534346519180508,
          0.9416312582383319,
          0.9569540992634834,
          0.9833783346801364,
          0.9876061073820704,
          0.9802019154588836,
          0.9975645130885984
         ],
         "yaxis": "y2"
        },
        {
         "line": {
          "color": "#3399cc"
         },
         "mode": "lines",
         "name": "pred_lod",
         "type": "scatter",
         "x": [
          "2024-01-10T09:45:00-05:00",
          "2024-01-10T09:50:00-05:00",
          "2024-01-10T09:55:00-05:00",
          "2024-01-10T10:00:00-05:00",
          "2024-01-10T10:05:00-05:00",
          "2024-01-10T10:10:00-05:00",
          "2024-01-10T10:15:00-05:00",
          "2024-01-10T10:20:00-05:00",
          "2024-01-10T10:25:00-05:00",
          "2024-01-10T10:30:00-05:00",
          "2024-01-10T10:35:00-05:00",
          "2024-01-10T10:40:00-05:00",
          "2024-01-10T10:45:00-05:00",
          "2024-01-10T10:50:00-05:00",
          "2024-01-10T10:55:00-05:00",
          "2024-01-10T11:00:00-05:00",
          "2024-01-10T11:05:00-05:00",
          "2024-01-10T11:10:00-05:00",
          "2024-01-10T11:15:00-05:00",
          "2024-01-10T11:20:00-05:00",
          "2024-01-10T11:25:00-05:00",
          "2024-01-10T11:30:00-05:00",
          "2024-01-10T11:35:00-05:00",
          "2024-01-10T11:40:00-05:00",
          "2024-01-10T11:45:00-05:00",
          "2024-01-10T11:50:00-05:00",
          "2024-01-10T11:55:00-05:00",
          "2024-01-10T12:00:00-05:00",
          "2024-01-10T12:05:00-05:00",
          "2024-01-10T12:10:00-05:00",
          "2024-01-10T12:15:00-05:00",
          "2024-01-10T12:20:00-05:00",
          "2024-01-10T12:25:00-05:00",
          "2024-01-10T12:30:00-05:00",
          "2024-01-10T12:35:00-05:00",
          "2024-01-10T12:40:00-05:00",
          "2024-01-10T12:45:00-05:00",
          "2024-01-10T12:50:00-05:00",
          "2024-01-10T12:55:00-05:00",
          "2024-01-10T13:00:00-05:00",
          "2024-01-10T13:05:00-05:00",
          "2024-01-10T13:10:00-05:00",
          "2024-01-10T13:15:00-05:00",
          "2024-01-10T13:20:00-05:00",
          "2024-01-10T13:25:00-05:00",
          "2024-01-10T13:30:00-05:00",
          "2024-01-10T13:35:00-05:00",
          "2024-01-10T13:40:00-05:00",
          "2024-01-10T13:45:00-05:00",
          "2024-01-10T13:50:00-05:00",
          "2024-01-10T13:55:00-05:00",
          "2024-01-10T14:00:00-05:00",
          "2024-01-10T14:05:00-05:00",
          "2024-01-10T14:10:00-05:00",
          "2024-01-10T14:15:00-05:00",
          "2024-01-10T14:20:00-05:00",
          "2024-01-10T14:25:00-05:00",
          "2024-01-10T14:30:00-05:00",
          "2024-01-10T14:35:00-05:00",
          "2024-01-10T14:40:00-05:00",
          "2024-01-10T14:45:00-05:00",
          "2024-01-10T14:50:00-05:00",
          "2024-01-10T14:55:00-05:00",
          "2024-01-10T15:00:00-05:00",
          "2024-01-10T15:05:00-05:00",
          "2024-01-10T15:10:00-05:00",
          "2024-01-10T15:15:00-05:00",
          "2024-01-10T15:20:00-05:00",
          "2024-01-10T15:25:00-05:00",
          "2024-01-10T15:30:00-05:00",
          "2024-01-10T15:35:00-05:00",
          "2024-01-10T15:40:00-05:00",
          "2024-01-10T15:45:00-05:00",
          "2024-01-10T15:50:00-05:00",
          "2024-01-10T15:55:00-05:00"
         ],
         "y": [
          0.0514037392305986,
          0.04308817444937532,
          0.04871734879544849,
          0.04689057134282125,
          0.051307387304885474,
          0.21207133934663477,
          0.20504094148200344,
          0.3889489636383064,
          0.46568885899327594,
          0.5045519627952478,
          0.5274192329419471,
          0.5869373534094406,
          0.5472430161431735,
          0.5368125232228801,
          0.591619430139078,
          0.6170629038252842,
          0.634091903982121,
          0.5855744500761632,
          0.6167016936327643,
          0.666512523837578,
          0.6464277899530826,
          0.6419236687436436,
          0.6873363045646942,
          0.7579499101762179,
          0.8074289063313,
          0.7747299669413136,
          0.771792547524742,
          0.7814630522159827,
          0.8033484179297623,
          0.8314988407945194,
          0.8383456530559752,
          0.8511632171698,
          0.8546641785269844,
          0.840571515894128,
          0.8742352160172745,
          0.8877346671826797,
          0.8766899190921081,
          0.861560263344256,
          0.844940446947495,
          0.9507360821230287,
          0.9175820001148793,
          0.8652337540265331,
          0.9186920389950016,
          0.8838245843765216,
          0.9319935475407474,
          0.9705567778158062,
          0.9533435897725425,
          0.9588317143910049,
          0.9677356333035086,
          0.9730544826724623,
          0.9753288867255372,
          0.9785170833379578,
          0.9790667944284712,
          0.9838653159860334,
          0.9867981422512736,
          0.9898309999090964,
          0.9899648869156444,
          0.9899527455201015,
          0.989153804903034,
          0.9919528951170241,
          0.9936779905058746,
          0.9945440436355345,
          0.9946796673871668,
          0.9953695577501477,
          0.9958428703882685,
          0.9951125533988631,
          0.9949713851352889,
          0.9631905841018209,
          0.9726495236640901,
          0.9853305876463531,
          0.9888305417462837,
          0.9837874042528385,
          0.9869195970952523,
          0.994776581944496,
          0.9995274404431358
         ],
         "yaxis": "y2"
        },
        {
         "line": {
          "color": "#9400d3"
         },
         "mode": "lines",
         "name": "pred_gd",
         "type": "scatter",
         "x": [
          "2024-01-10T09:45:00-05:00",
          "2024-01-10T09:50:00-05:00",
          "2024-01-10T09:55:00-05:00",
          "2024-01-10T10:00:00-05:00",
          "2024-01-10T10:05:00-05:00",
          "2024-01-10T10:10:00-05:00",
          "2024-01-10T10:15:00-05:00",
          "2024-01-10T10:20:00-05:00",
          "2024-01-10T10:25:00-05:00",
          "2024-01-10T10:30:00-05:00",
          "2024-01-10T10:35:00-05:00",
          "2024-01-10T10:40:00-05:00",
          "2024-01-10T10:45:00-05:00",
          "2024-01-10T10:50:00-05:00",
          "2024-01-10T10:55:00-05:00",
          "2024-01-10T11:00:00-05:00",
          "2024-01-10T11:05:00-05:00",
          "2024-01-10T11:10:00-05:00",
          "2024-01-10T11:15:00-05:00",
          "2024-01-10T11:20:00-05:00",
          "2024-01-10T11:25:00-05:00",
          "2024-01-10T11:30:00-05:00",
          "2024-01-10T11:35:00-05:00",
          "2024-01-10T11:40:00-05:00",
          "2024-01-10T11:45:00-05:00",
          "2024-01-10T11:50:00-05:00",
          "2024-01-10T11:55:00-05:00",
          "2024-01-10T12:00:00-05:00",
          "2024-01-10T12:05:00-05:00",
          "2024-01-10T12:10:00-05:00",
          "2024-01-10T12:15:00-05:00",
          "2024-01-10T12:20:00-05:00",
          "2024-01-10T12:25:00-05:00",
          "2024-01-10T12:30:00-05:00",
          "2024-01-10T12:35:00-05:00",
          "2024-01-10T12:40:00-05:00",
          "2024-01-10T12:45:00-05:00",
          "2024-01-10T12:50:00-05:00",
          "2024-01-10T12:55:00-05:00",
          "2024-01-10T13:00:00-05:00",
          "2024-01-10T13:05:00-05:00",
          "2024-01-10T13:10:00-05:00",
          "2024-01-10T13:15:00-05:00",
          "2024-01-10T13:20:00-05:00",
          "2024-01-10T13:25:00-05:00",
          "2024-01-10T13:30:00-05:00",
          "2024-01-10T13:35:00-05:00",
          "2024-01-10T13:40:00-05:00",
          "2024-01-10T13:45:00-05:00",
          "2024-01-10T13:50:00-05:00",
          "2024-01-10T13:55:00-05:00",
          "2024-01-10T14:00:00-05:00",
          "2024-01-10T14:05:00-05:00",
          "2024-01-10T14:10:00-05:00",
          "2024-01-10T14:15:00-05:00",
          "2024-01-10T14:20:00-05:00",
          "2024-01-10T14:25:00-05:00",
          "2024-01-10T14:30:00-05:00",
          "2024-01-10T14:35:00-05:00",
          "2024-01-10T14:40:00-05:00",
          "2024-01-10T14:45:00-05:00",
          "2024-01-10T14:50:00-05:00",
          "2024-01-10T14:55:00-05:00",
          "2024-01-10T15:00:00-05:00",
          "2024-01-10T15:05:00-05:00",
          "2024-01-10T15:10:00-05:00",
          "2024-01-10T15:15:00-05:00",
          "2024-01-10T15:20:00-05:00",
          "2024-01-10T15:25:00-05:00",
          "2024-01-10T15:30:00-05:00",
          "2024-01-10T15:35:00-05:00",
          "2024-01-10T15:40:00-05:00",
          "2024-01-10T15:45:00-05:00",
          "2024-01-10T15:50:00-05:00",
          "2024-01-10T15:55:00-05:00"
         ],
         "y": [
          0.3083115927885054,
          0.22284325178736133,
          0.22997295462930267,
          0.20988956773924028,
          0.14461675782067399,
          0.2262005964544482,
          0.16958429058077817,
          0.21225812437932973,
          0.30993021207909,
          0.33340817328206307,
          0.35487143035558216,
          0.3722017447655811,
          0.3476771284195123,
          0.3516684358920491,
          0.3558085620751891,
          0.36234084918145204,
          0.36615167142230665,
          0.33536571673675236,
          0.33536571673675236,
          0.3378460237166104,
          0.3409023914348307,
          0.3286085948735387,
          0.35826957354467726,
          0.37152157089931787,
          0.3857933111696194,
          0.36792380174424916,
          0.36792380174424916,
          0.35178200863677395,
          0.3696907586103343,
          0.37939000220485286,
          0.37939000220485286,
          0.3826336773810245,
          0.36613669765526446,
          0.35747485492254405,
          0.3798154443173517,
          0.39654317656053567,
          0.38631193956857884,
          0.3447668304468096,
          0.32124827422754304,
          0.42964842788933144,
          0.3511580398627429,
          0.3170955917206618,
          0.31594659695447314,
          0.31625357481561106,
          0.35245570355587297,
          0.3878584866930246,
          0.3402259150060832,
          0.3611239191641239,
          0.3505670575436612,
          0.4139582933115559,
          0.4271871261090236,
          0.4685612882579697,
          0.4267179894790677,
          0.5442316921365424,
          0.553508708777434,
          0.6199403771899282,
          0.6393935875060115,
          0.6350254075917001,
          0.5073966465449326,
          0.662594888584122,
          0.6314735645738674,
          0.7160167255872192,
          0.7601439521224843,
          0.7871237207511953,
          0.8201768151709381,
          0.7462785974143797,
          0.6255424240588588,
          0.17328781394876397,
          0.16787562580271692,
          0.197085589204507,
          0.189206630002403,
          0.12207675569355986,
          0.09566098029595539,
          0.13870574136962632,
          0.7966993934174532
         ],
         "yaxis": "y2"
        }
       ],
       "layout": {
        "annotations": [
         {
          "align": "center",
          "arrowcolor": "#636363",
          "arrowhead": 2,
          "arrowsize": 1,
          "arrowwidth": 2,
          "ax": 20,
          "ay": -30,
          "bgcolor": "#ff5f5f",
          "bordercolor": "#c7c7c7",
          "borderpad": 1,
          "borderwidth": 1,
          "font": {
           "color": "#ffffff",
           "family": "Courier New, monospace",
           "size": 12
          },
          "opacity": 0.8,
          "showarrow": true,
          "text": "1971",
          "x": "2024-01-10T15:10:00-05:00",
          "y": 1971.2459716796875
         },
         {
          "align": "center",
          "arrowcolor": "#636363",
          "arrowhead": 2,
          "arrowsize": 1,
          "arrowwidth": 2,
          "ax": 20,
          "ay": 30,
          "bgcolor": "#3399cc",
          "bordercolor": "#c7c7c7",
          "borderpad": 1,
          "borderwidth": 1,
          "font": {
           "color": "#ffffff",
           "family": "Courier New, monospace",
           "size": 12
          },
          "opacity": 0.8,
          "showarrow": true,
          "text": "1953",
          "x": "2024-01-10T10:05:00-05:00",
          "y": 1953
         }
        ],
        "legend": {
         "orientation": "h",
         "x": 1,
         "xanchor": "right",
         "y": 1.02,
         "yanchor": "bottom"
        },
        "shapes": [
         {
          "line": {
           "color": "Red",
           "dash": "dash",
           "width": 1.5
          },
          "type": "line",
          "x0": "2024-01-10T09:45:00-05:00",
          "x1": "2024-01-10T15:55:00-05:00",
          "y0": 0.5,
          "y1": 0.5,
          "yref": "y2"
         }
        ],
        "template": {
         "data": {
          "bar": [
           {
            "error_x": {
             "color": "#f2f5fa"
            },
            "error_y": {
             "color": "#f2f5fa"
            },
            "marker": {
             "line": {
              "color": "rgb(17,17,17)",
              "width": 0.5
             },
             "pattern": {
              "fillmode": "overlay",
              "size": 10,
              "solidity": 0.2
             }
            },
            "type": "bar"
           }
          ],
          "barpolar": [
           {
            "marker": {
             "line": {
              "color": "rgb(17,17,17)",
              "width": 0.5
             },
             "pattern": {
              "fillmode": "overlay",
              "size": 10,
              "solidity": 0.2
             }
            },
            "type": "barpolar"
           }
          ],
          "carpet": [
           {
            "aaxis": {
             "endlinecolor": "#A2B1C6",
             "gridcolor": "#506784",
             "linecolor": "#506784",
             "minorgridcolor": "#506784",
             "startlinecolor": "#A2B1C6"
            },
            "baxis": {
             "endlinecolor": "#A2B1C6",
             "gridcolor": "#506784",
             "linecolor": "#506784",
             "minorgridcolor": "#506784",
             "startlinecolor": "#A2B1C6"
            },
            "type": "carpet"
           }
          ],
          "choropleth": [
           {
            "colorbar": {
             "outlinewidth": 0,
             "ticks": ""
            },
            "type": "choropleth"
           }
          ],
          "contour": [
           {
            "colorbar": {
             "outlinewidth": 0,
             "ticks": ""
            },
            "colorscale": [
             [
              0,
              "#0d0887"
             ],
             [
              0.1111111111111111,
              "#46039f"
             ],
             [
              0.2222222222222222,
              "#7201a8"
             ],
             [
              0.3333333333333333,
              "#9c179e"
             ],
             [
              0.4444444444444444,
              "#bd3786"
             ],
             [
              0.5555555555555556,
              "#d8576b"
             ],
             [
              0.6666666666666666,
              "#ed7953"
             ],
             [
              0.7777777777777778,
              "#fb9f3a"
             ],
             [
              0.8888888888888888,
              "#fdca26"
             ],
             [
              1,
              "#f0f921"
             ]
            ],
            "type": "contour"
           }
          ],
          "contourcarpet": [
           {
            "colorbar": {
             "outlinewidth": 0,
             "ticks": ""
            },
            "type": "contourcarpet"
           }
          ],
          "heatmap": [
           {
            "colorbar": {
             "outlinewidth": 0,
             "ticks": ""
            },
            "colorscale": [
             [
              0,
              "#0d0887"
             ],
             [
              0.1111111111111111,
              "#46039f"
             ],
             [
              0.2222222222222222,
              "#7201a8"
             ],
             [
              0.3333333333333333,
              "#9c179e"
             ],
             [
              0.4444444444444444,
              "#bd3786"
             ],
             [
              0.5555555555555556,
              "#d8576b"
             ],
             [
              0.6666666666666666,
              "#ed7953"
             ],
             [
              0.7777777777777778,
              "#fb9f3a"
             ],
             [
              0.8888888888888888,
              "#fdca26"
             ],
             [
              1,
              "#f0f921"
             ]
            ],
            "type": "heatmap"
           }
          ],
          "heatmapgl": [
           {
            "colorbar": {
             "outlinewidth": 0,
             "ticks": ""
            },
            "colorscale": [
             [
              0,
              "#0d0887"
             ],
             [
              0.1111111111111111,
              "#46039f"
             ],
             [
              0.2222222222222222,
              "#7201a8"
             ],
             [
              0.3333333333333333,
              "#9c179e"
             ],
             [
              0.4444444444444444,
              "#bd3786"
             ],
             [
              0.5555555555555556,
              "#d8576b"
             ],
             [
              0.6666666666666666,
              "#ed7953"
             ],
             [
              0.7777777777777778,
              "#fb9f3a"
             ],
             [
              0.8888888888888888,
              "#fdca26"
             ],
             [
              1,
              "#f0f921"
             ]
            ],
            "type": "heatmapgl"
           }
          ],
          "histogram": [
           {
            "marker": {
             "pattern": {
              "fillmode": "overlay",
              "size": 10,
              "solidity": 0.2
             }
            },
            "type": "histogram"
           }
          ],
          "histogram2d": [
           {
            "colorbar": {
             "outlinewidth": 0,
             "ticks": ""
            },
            "colorscale": [
             [
              0,
              "#0d0887"
             ],
             [
              0.1111111111111111,
              "#46039f"
             ],
             [
              0.2222222222222222,
              "#7201a8"
             ],
             [
              0.3333333333333333,
              "#9c179e"
             ],
             [
              0.4444444444444444,
              "#bd3786"
             ],
             [
              0.5555555555555556,
              "#d8576b"
             ],
             [
              0.6666666666666666,
              "#ed7953"
             ],
             [
              0.7777777777777778,
              "#fb9f3a"
             ],
             [
              0.8888888888888888,
              "#fdca26"
             ],
             [
              1,
              "#f0f921"
             ]
            ],
            "type": "histogram2d"
           }
          ],
          "histogram2dcontour": [
           {
            "colorbar": {
             "outlinewidth": 0,
             "ticks": ""
            },
            "colorscale": [
             [
              0,
              "#0d0887"
             ],
             [
              0.1111111111111111,
              "#46039f"
             ],
             [
              0.2222222222222222,
              "#7201a8"
             ],
             [
              0.3333333333333333,
              "#9c179e"
             ],
             [
              0.4444444444444444,
              "#bd3786"
             ],
             [
              0.5555555555555556,
              "#d8576b"
             ],
             [
              0.6666666666666666,
              "#ed7953"
             ],
             [
              0.7777777777777778,
              "#fb9f3a"
             ],
             [
              0.8888888888888888,
              "#fdca26"
             ],
             [
              1,
              "#f0f921"
             ]
            ],
            "type": "histogram2dcontour"
           }
          ],
          "mesh3d": [
           {
            "colorbar": {
             "outlinewidth": 0,
             "ticks": ""
            },
            "type": "mesh3d"
           }
          ],
          "parcoords": [
           {
            "line": {
             "colorbar": {
              "outlinewidth": 0,
              "ticks": ""
             }
            },
            "type": "parcoords"
           }
          ],
          "pie": [
           {
            "automargin": true,
            "type": "pie"
           }
          ],
          "scatter": [
           {
            "marker": {
             "line": {
              "color": "#283442"
             }
            },
            "type": "scatter"
           }
          ],
          "scatter3d": [
           {
            "line": {
             "colorbar": {
              "outlinewidth": 0,
              "ticks": ""
             }
            },
            "marker": {
             "colorbar": {
              "outlinewidth": 0,
              "ticks": ""
             }
            },
            "type": "scatter3d"
           }
          ],
          "scattercarpet": [
           {
            "marker": {
             "colorbar": {
              "outlinewidth": 0,
              "ticks": ""
             }
            },
            "type": "scattercarpet"
           }
          ],
          "scattergeo": [
           {
            "marker": {
             "colorbar": {
              "outlinewidth": 0,
              "ticks": ""
             }
            },
            "type": "scattergeo"
           }
          ],
          "scattergl": [
           {
            "marker": {
             "line": {
              "color": "#283442"
             }
            },
            "type": "scattergl"
           }
          ],
          "scattermapbox": [
           {
            "marker": {
             "colorbar": {
              "outlinewidth": 0,
              "ticks": ""
             }
            },
            "type": "scattermapbox"
           }
          ],
          "scatterpolar": [
           {
            "marker": {
             "colorbar": {
              "outlinewidth": 0,
              "ticks": ""
             }
            },
            "type": "scatterpolar"
           }
          ],
          "scatterpolargl": [
           {
            "marker": {
             "colorbar": {
              "outlinewidth": 0,
              "ticks": ""
             }
            },
            "type": "scatterpolargl"
           }
          ],
          "scatterternary": [
           {
            "marker": {
             "colorbar": {
              "outlinewidth": 0,
              "ticks": ""
             }
            },
            "type": "scatterternary"
           }
          ],
          "surface": [
           {
            "colorbar": {
             "outlinewidth": 0,
             "ticks": ""
            },
            "colorscale": [
             [
              0,
              "#0d0887"
             ],
             [
              0.1111111111111111,
              "#46039f"
             ],
             [
              0.2222222222222222,
              "#7201a8"
             ],
             [
              0.3333333333333333,
              "#9c179e"
             ],
             [
              0.4444444444444444,
              "#bd3786"
             ],
             [
              0.5555555555555556,
              "#d8576b"
             ],
             [
              0.6666666666666666,
              "#ed7953"
             ],
             [
              0.7777777777777778,
              "#fb9f3a"
             ],
             [
              0.8888888888888888,
              "#fdca26"
             ],
             [
              1,
              "#f0f921"
             ]
            ],
            "type": "surface"
           }
          ],
          "table": [
           {
            "cells": {
             "fill": {
              "color": "#506784"
             },
             "line": {
              "color": "rgb(17,17,17)"
             }
            },
            "header": {
             "fill": {
              "color": "#2a3f5f"
             },
             "line": {
              "color": "rgb(17,17,17)"
             }
            },
            "type": "table"
           }
          ]
         },
         "layout": {
          "annotationdefaults": {
           "arrowcolor": "#f2f5fa",
           "arrowhead": 0,
           "arrowwidth": 1
          },
          "autotypenumbers": "strict",
          "coloraxis": {
           "colorbar": {
            "outlinewidth": 0,
            "ticks": ""
           }
          },
          "colorscale": {
           "diverging": [
            [
             0,
             "#8e0152"
            ],
            [
             0.1,
             "#c51b7d"
            ],
            [
             0.2,
             "#de77ae"
            ],
            [
             0.3,
             "#f1b6da"
            ],
            [
             0.4,
             "#fde0ef"
            ],
            [
             0.5,
             "#f7f7f7"
            ],
            [
             0.6,
             "#e6f5d0"
            ],
            [
             0.7,
             "#b8e186"
            ],
            [
             0.8,
             "#7fbc41"
            ],
            [
             0.9,
             "#4d9221"
            ],
            [
             1,
             "#276419"
            ]
           ],
           "sequential": [
            [
             0,
             "#0d0887"
            ],
            [
             0.1111111111111111,
             "#46039f"
            ],
            [
             0.2222222222222222,
             "#7201a8"
            ],
            [
             0.3333333333333333,
             "#9c179e"
            ],
            [
             0.4444444444444444,
             "#bd3786"
            ],
            [
             0.5555555555555556,
             "#d8576b"
            ],
            [
             0.6666666666666666,
             "#ed7953"
            ],
            [
             0.7777777777777778,
             "#fb9f3a"
            ],
            [
             0.8888888888888888,
             "#fdca26"
            ],
            [
             1,
             "#f0f921"
            ]
           ],
           "sequentialminus": [
            [
             0,
             "#0d0887"
            ],
            [
             0.1111111111111111,
             "#46039f"
            ],
            [
             0.2222222222222222,
             "#7201a8"
            ],
            [
             0.3333333333333333,
             "#9c179e"
            ],
            [
             0.4444444444444444,
             "#bd3786"
            ],
            [
             0.5555555555555556,
             "#d8576b"
            ],
            [
             0.6666666666666666,
             "#ed7953"
            ],
            [
             0.7777777777777778,
             "#fb9f3a"
            ],
            [
             0.8888888888888888,
             "#fdca26"
            ],
            [
             1,
             "#f0f921"
            ]
           ]
          },
          "colorway": [
           "#636efa",
           "#EF553B",
           "#00cc96",
           "#ab63fa",
           "#FFA15A",
           "#19d3f3",
           "#FF6692",
           "#B6E880",
           "#FF97FF",
           "#FECB52"
          ],
          "font": {
           "color": "#f2f5fa"
          },
          "geo": {
           "bgcolor": "rgb(17,17,17)",
           "lakecolor": "rgb(17,17,17)",
           "landcolor": "rgb(17,17,17)",
           "showlakes": true,
           "showland": true,
           "subunitcolor": "#506784"
          },
          "hoverlabel": {
           "align": "left"
          },
          "hovermode": "closest",
          "mapbox": {
           "style": "dark"
          },
          "paper_bgcolor": "rgb(17,17,17)",
          "plot_bgcolor": "rgb(17,17,17)",
          "polar": {
           "angularaxis": {
            "gridcolor": "#506784",
            "linecolor": "#506784",
            "ticks": ""
           },
           "bgcolor": "rgb(17,17,17)",
           "radialaxis": {
            "gridcolor": "#506784",
            "linecolor": "#506784",
            "ticks": ""
           }
          },
          "scene": {
           "xaxis": {
            "backgroundcolor": "rgb(17,17,17)",
            "gridcolor": "#506784",
            "gridwidth": 2,
            "linecolor": "#506784",
            "showbackground": true,
            "ticks": "",
            "zerolinecolor": "#C8D4E3"
           },
           "yaxis": {
            "backgroundcolor": "rgb(17,17,17)",
            "gridcolor": "#506784",
            "gridwidth": 2,
            "linecolor": "#506784",
            "showbackground": true,
            "ticks": "",
            "zerolinecolor": "#C8D4E3"
           },
           "zaxis": {
            "backgroundcolor": "rgb(17,17,17)",
            "gridcolor": "#506784",
            "gridwidth": 2,
            "linecolor": "#506784",
            "showbackground": true,
            "ticks": "",
            "zerolinecolor": "#C8D4E3"
           }
          },
          "shapedefaults": {
           "line": {
            "color": "#f2f5fa"
           }
          },
          "sliderdefaults": {
           "bgcolor": "#C8D4E3",
           "bordercolor": "rgb(17,17,17)",
           "borderwidth": 1,
           "tickwidth": 0
          },
          "ternary": {
           "aaxis": {
            "gridcolor": "#506784",
            "linecolor": "#506784",
            "ticks": ""
           },
           "baxis": {
            "gridcolor": "#506784",
            "linecolor": "#506784",
            "ticks": ""
           },
           "bgcolor": "rgb(17,17,17)",
           "caxis": {
            "gridcolor": "#506784",
            "linecolor": "#506784",
            "ticks": ""
           }
          },
          "title": {
           "x": 0.05
          },
          "updatemenudefaults": {
           "bgcolor": "#506784",
           "borderwidth": 0
          },
          "xaxis": {
           "automargin": true,
           "gridcolor": "#283442",
           "linecolor": "#506784",
           "ticks": "",
           "title": {
            "standoff": 15
           },
           "zerolinecolor": "#283442",
           "zerolinewidth": 2
          },
          "yaxis": {
           "automargin": true,
           "gridcolor": "#283442",
           "linecolor": "#506784",
           "ticks": "",
           "title": {
            "standoff": 15
           },
           "zerolinecolor": "#283442",
           "zerolinewidth": 2
          }
         }
        },
        "title": {
         "text": "OHLC vs Prediction Over Time"
        },
        "xaxis": {
         "rangeslider": {
          "visible": false
         }
        },
        "yaxis": {
         "tickformat": ".0f"
        },
        "yaxis2": {
         "overlaying": "y",
         "side": "right",
         "tickformat": ".0%"
        }
       }
      }
     },
     "metadata": {},
     "output_type": "display_data"
    }
   ],
   "source": [
    "create_viz(df_viz, '2024-01-10')"
   ]
  },
  {
   "cell_type": "code",
   "execution_count": 166,
   "metadata": {},
   "outputs": [
    {
     "ename": "NameError",
     "evalue": "name 'XXX' is not defined",
     "output_type": "error",
     "traceback": [
      "\u001b[1;31m---------------------------------------------------------------------------\u001b[0m",
      "\u001b[1;31mNameError\u001b[0m                                 Traceback (most recent call last)",
      "\u001b[1;32md:\\Projects\\session-extrema-model\\model_dev.ipynb Cell 67\u001b[0m line \u001b[0;36m1\n\u001b[1;32m----> <a href='vscode-notebook-cell:/d%3A/Projects/session-extrema-model/model_dev.ipynb#Y112sZmlsZQ%3D%3D?line=0'>1</a>\u001b[0m XXX\n",
      "\u001b[1;31mNameError\u001b[0m: name 'XXX' is not defined"
     ]
    }
   ],
   "source": [
    "XXX"
   ]
  },
  {
   "cell_type": "markdown",
   "metadata": {},
   "source": []
  }
 ],
 "metadata": {
  "kernelspec": {
   "display_name": ".venv",
   "language": "python",
   "name": "python3"
  },
  "language_info": {
   "codemirror_mode": {
    "name": "ipython",
    "version": 3
   },
   "file_extension": ".py",
   "mimetype": "text/x-python",
   "name": "python",
   "nbconvert_exporter": "python",
   "pygments_lexer": "ipython3",
   "version": "3.10.11"
  }
 },
 "nbformat": 4,
 "nbformat_minor": 2
}
