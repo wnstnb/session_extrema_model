{
 "cells": [
  {
   "cell_type": "code",
   "execution_count": 1,
   "metadata": {},
   "outputs": [],
   "source": [
    "from dbConn import engine\n",
    "import pandas as pd\n",
    "import numpy as np\n",
    "from tqdm import tqdm"
   ]
  },
  {
   "cell_type": "code",
   "execution_count": 2,
   "metadata": {},
   "outputs": [],
   "source": [
    "base_query = '''\n",
    "SELECT \n",
    "    spx.Datetime,\n",
    "    spx.Open AS Open_SPX,\n",
    "    spx.High AS High_SPX,\n",
    "    spx.Low AS Low_SPX,\n",
    "    spx.Close AS Close_SPX,\n",
    "    ndx.Open AS Open_NDX,\n",
    "    ndx.High AS High_NDX,\n",
    "    ndx.Low AS Low_NDX,\n",
    "    ndx.Close AS Close_NDX,\n",
    "    rut.Open AS Open_RUT,\n",
    "    rut.High AS High_RUT,\n",
    "    rut.Low AS Low_RUT,\n",
    "    rut.Close AS Close_RUT\n",
    "    FROM (\n",
    "    SELECT * FROM SPX_full_5min\n",
    "    ) spx\n",
    "    JOIN (\n",
    "    SELECT * FROM NDX_full_5min\n",
    "    ) ndx ON spx.Datetime = ndx.Datetime\n",
    "    LEFT JOIN (\n",
    "    SELECT * FROM RUT_full_5min\n",
    "    ) rut ON spx.Datetime = rut.Datetime\n",
    "-- WHERE spx.Datetime >= '2018-01-01'\n",
    "'''\n",
    "\n",
    "# Initialize variables for pagination\n",
    "offset = 0\n",
    "limit = 50000\n",
    "data_frames = []\n",
    "\n",
    "while True:\n",
    "    # Construct the query with LIMIT and OFFSET\n",
    "    query = f\"{base_query} LIMIT {limit} OFFSET {offset}\"\n",
    "    \n",
    "    # Fetch the chunk of data\n",
    "    df_chunk = pd.read_sql_query(query, con = engine.connect())\n",
    "    \n",
    "    # Break the loop if no more data is returned\n",
    "    if df_chunk.empty:\n",
    "        break\n",
    "\n",
    "    # Append the chunk to the list of dataframes\n",
    "    data_frames.append(df_chunk)\n",
    "\n",
    "    # Update the offset for the next query\n",
    "    offset += limit\n",
    "\n",
    "# Concatenate all dataframes\n",
    "data = pd.concat(data_frames, ignore_index=True)"
   ]
  },
  {
   "cell_type": "code",
   "execution_count": 3,
   "metadata": {},
   "outputs": [
    {
     "data": {
      "text/plain": [
       "331276"
      ]
     },
     "execution_count": 3,
     "metadata": {},
     "output_type": "execute_result"
    }
   ],
   "source": [
    "len(data)"
   ]
  },
  {
   "cell_type": "code",
   "execution_count": 4,
   "metadata": {},
   "outputs": [
    {
     "data": {
      "text/html": [
       "<div>\n",
       "<style scoped>\n",
       "    .dataframe tbody tr th:only-of-type {\n",
       "        vertical-align: middle;\n",
       "    }\n",
       "\n",
       "    .dataframe tbody tr th {\n",
       "        vertical-align: top;\n",
       "    }\n",
       "\n",
       "    .dataframe thead th {\n",
       "        text-align: right;\n",
       "    }\n",
       "</style>\n",
       "<table border=\"1\" class=\"dataframe\">\n",
       "  <thead>\n",
       "    <tr style=\"text-align: right;\">\n",
       "      <th></th>\n",
       "      <th>Datetime</th>\n",
       "      <th>Open_SPX</th>\n",
       "      <th>High_SPX</th>\n",
       "      <th>Low_SPX</th>\n",
       "      <th>Close_SPX</th>\n",
       "      <th>Open_NDX</th>\n",
       "      <th>High_NDX</th>\n",
       "      <th>Low_NDX</th>\n",
       "      <th>Close_NDX</th>\n",
       "      <th>Open_RUT</th>\n",
       "      <th>High_RUT</th>\n",
       "      <th>Low_RUT</th>\n",
       "      <th>Close_RUT</th>\n",
       "    </tr>\n",
       "  </thead>\n",
       "  <tbody>\n",
       "    <tr>\n",
       "      <th>0</th>\n",
       "      <td>2007-04-27 12:20:00</td>\n",
       "      <td>1492.19</td>\n",
       "      <td>1492.40</td>\n",
       "      <td>1492.19</td>\n",
       "      <td>1492.38</td>\n",
       "      <td>1887.90</td>\n",
       "      <td>1887.91</td>\n",
       "      <td>1886.97</td>\n",
       "      <td>1887.65</td>\n",
       "      <td>829.54</td>\n",
       "      <td>829.55</td>\n",
       "      <td>829.35</td>\n",
       "      <td>829.41</td>\n",
       "    </tr>\n",
       "    <tr>\n",
       "      <th>1</th>\n",
       "      <td>2007-04-27 12:25:00</td>\n",
       "      <td>1492.39</td>\n",
       "      <td>1492.91</td>\n",
       "      <td>1492.39</td>\n",
       "      <td>1492.87</td>\n",
       "      <td>1887.72</td>\n",
       "      <td>1888.32</td>\n",
       "      <td>1887.72</td>\n",
       "      <td>1888.27</td>\n",
       "      <td>829.42</td>\n",
       "      <td>829.68</td>\n",
       "      <td>829.42</td>\n",
       "      <td>829.68</td>\n",
       "    </tr>\n",
       "    <tr>\n",
       "      <th>2</th>\n",
       "      <td>2007-04-27 12:30:00</td>\n",
       "      <td>1492.54</td>\n",
       "      <td>1492.80</td>\n",
       "      <td>1492.53</td>\n",
       "      <td>1492.58</td>\n",
       "      <td>1887.77</td>\n",
       "      <td>1888.68</td>\n",
       "      <td>1887.65</td>\n",
       "      <td>1888.13</td>\n",
       "      <td>829.65</td>\n",
       "      <td>829.84</td>\n",
       "      <td>829.65</td>\n",
       "      <td>829.73</td>\n",
       "    </tr>\n",
       "    <tr>\n",
       "      <th>3</th>\n",
       "      <td>2007-04-27 12:35:00</td>\n",
       "      <td>1492.70</td>\n",
       "      <td>1492.88</td>\n",
       "      <td>1492.30</td>\n",
       "      <td>1492.88</td>\n",
       "      <td>1888.09</td>\n",
       "      <td>1888.24</td>\n",
       "      <td>1887.27</td>\n",
       "      <td>1888.24</td>\n",
       "      <td>829.65</td>\n",
       "      <td>829.65</td>\n",
       "      <td>829.25</td>\n",
       "      <td>829.38</td>\n",
       "    </tr>\n",
       "    <tr>\n",
       "      <th>4</th>\n",
       "      <td>2007-04-27 12:40:00</td>\n",
       "      <td>1492.88</td>\n",
       "      <td>1494.46</td>\n",
       "      <td>1492.88</td>\n",
       "      <td>1493.94</td>\n",
       "      <td>1888.26</td>\n",
       "      <td>1890.01</td>\n",
       "      <td>1888.26</td>\n",
       "      <td>1889.31</td>\n",
       "      <td>829.39</td>\n",
       "      <td>830.08</td>\n",
       "      <td>829.39</td>\n",
       "      <td>830.03</td>\n",
       "    </tr>\n",
       "  </tbody>\n",
       "</table>\n",
       "</div>"
      ],
      "text/plain": [
       "             Datetime  Open_SPX  High_SPX  Low_SPX  Close_SPX  Open_NDX  \\\n",
       "0 2007-04-27 12:20:00   1492.19   1492.40  1492.19    1492.38   1887.90   \n",
       "1 2007-04-27 12:25:00   1492.39   1492.91  1492.39    1492.87   1887.72   \n",
       "2 2007-04-27 12:30:00   1492.54   1492.80  1492.53    1492.58   1887.77   \n",
       "3 2007-04-27 12:35:00   1492.70   1492.88  1492.30    1492.88   1888.09   \n",
       "4 2007-04-27 12:40:00   1492.88   1494.46  1492.88    1493.94   1888.26   \n",
       "\n",
       "   High_NDX  Low_NDX  Close_NDX  Open_RUT  High_RUT  Low_RUT  Close_RUT  \n",
       "0   1887.91  1886.97    1887.65    829.54    829.55   829.35     829.41  \n",
       "1   1888.32  1887.72    1888.27    829.42    829.68   829.42     829.68  \n",
       "2   1888.68  1887.65    1888.13    829.65    829.84   829.65     829.73  \n",
       "3   1888.24  1887.27    1888.24    829.65    829.65   829.25     829.38  \n",
       "4   1890.01  1888.26    1889.31    829.39    830.08   829.39     830.03  "
      ]
     },
     "execution_count": 4,
     "metadata": {},
     "output_type": "execute_result"
    }
   ],
   "source": [
    "data.head()"
   ]
  },
  {
   "cell_type": "code",
   "execution_count": 5,
   "metadata": {},
   "outputs": [],
   "source": [
    "data['Date'] = data['Datetime'].dt.date\n",
    "data['Time'] = data['Datetime'].dt.time"
   ]
  },
  {
   "cell_type": "code",
   "execution_count": 6,
   "metadata": {},
   "outputs": [
    {
     "data": {
      "text/plain": [
       "Timestamp('2007-04-27 12:20:00')"
      ]
     },
     "execution_count": 6,
     "metadata": {},
     "output_type": "execute_result"
    }
   ],
   "source": [
    "data['Datetime'].min()"
   ]
  },
  {
   "cell_type": "code",
   "execution_count": 7,
   "metadata": {},
   "outputs": [
    {
     "data": {
      "text/plain": [
       "Timestamp('2024-01-12 16:00:00')"
      ]
     },
     "execution_count": 7,
     "metadata": {},
     "output_type": "execute_result"
    }
   ],
   "source": [
    "data['Datetime'].max()"
   ]
  },
  {
   "cell_type": "code",
   "execution_count": 8,
   "metadata": {},
   "outputs": [],
   "source": [
    "import datetime"
   ]
  },
  {
   "cell_type": "markdown",
   "metadata": {},
   "source": [
    "# Start Run Models"
   ]
  },
  {
   "cell_type": "code",
   "execution_count": 9,
   "metadata": {},
   "outputs": [],
   "source": [
    "ticker_dict = {\n",
    "    \"^GSPC\":{\n",
    "        \"hod_model\":\"models/hod_model_spx.joblib\",\n",
    "        \"lod_model\":\"models/lod_model_spx.joblib\",\n",
    "        \"gd_model\":\"models/gd_model_spx.joblib\",\n",
    "        \"suffix\":\"SPX\"\n",
    "    },\n",
    "    \"^NDX\":{\n",
    "        \"hod_model\":\"models/hod_model_ndx.joblib\",\n",
    "        \"lod_model\":\"models/lod_model_ndx.joblib\",\n",
    "        \"gd_model\":\"models/gd_model_ndx.joblib\",\n",
    "        \"suffix\":\"NDX\"\n",
    "    },\n",
    "    \"^RUT\":{\n",
    "        \"hod_model\":\"models/hod_model_rut.joblib\",\n",
    "        \"lod_model\":\"models/lod_model_rut.joblib\",\n",
    "        \"gd_model\":\"models/gd_model_rut.joblib\",\n",
    "        \"suffix\":\"RUT\"\n",
    "    }\n",
    "}\n",
    "\n",
    "tck = '^NDX'\n",
    "\n",
    "spx_data = data.loc[:,[\n",
    "    'Datetime',\n",
    "    f'Open_{ticker_dict[tck][\"suffix\"]}',\n",
    "    f'High_{ticker_dict[tck][\"suffix\"]}',\n",
    "    f'Low_{ticker_dict[tck][\"suffix\"]}',\n",
    "    f'Close_{ticker_dict[tck][\"suffix\"]}'\n",
    "]]\n",
    "spx_data.columns = ['Datetime','open','high','low','close']\n",
    "spx_data['time'] = spx_data['Datetime'].dt.time\n",
    "spx_data = spx_data.loc[(spx_data['time'] < datetime.time(16,0)) & (spx_data['time'] >= datetime.time(9,30))]"
   ]
  },
  {
   "cell_type": "code",
   "execution_count": 10,
   "metadata": {},
   "outputs": [],
   "source": [
    "spx_data = spx_data.set_index('Datetime')"
   ]
  },
  {
   "cell_type": "code",
   "execution_count": 11,
   "metadata": {},
   "outputs": [],
   "source": [
    "# Create a list of times from 9:30 to 15:55 with 5 minute intervals\n",
    "times = pd.date_range(start=\"9:30\", end=\"15:55\", freq='5min').time\n",
    "\n",
    "# Create a dictionary that maps each time to a unique integer\n",
    "time_to_int = {time: i+1 for i, time in enumerate(times)}\n",
    "\n",
    "# Assume df is your DataFrame and 'time' is your column of times\n",
    "spx_data['bar_num'] = spx_data['time'].map(time_to_int)"
   ]
  },
  {
   "cell_type": "code",
   "execution_count": 12,
   "metadata": {},
   "outputs": [],
   "source": [
    "# Get the last bar of each date\n",
    "spx_data['eod_close'] = spx_data.groupby(spx_data.index.date)['close'].tail(1)\n",
    "spx_data['prev_close'] = spx_data['eod_close'].shift(1)\n",
    "spx_data['prev_close'] = spx_data['prev_close'].ffill()\n",
    "spx_data['eod_close'] = spx_data['eod_close'].bfill()\n",
    "spx_data['green_day'] = spx_data['eod_close'] > spx_data['prev_close']\n",
    "\n",
    "spx_data['eod_close_pts'] = spx_data['eod_close'] - spx_data['prev_close']\n",
    "spx_data['eod_close_pct'] = spx_data['eod_close_pts'] / spx_data['prev_close']"
   ]
  },
  {
   "cell_type": "code",
   "execution_count": 13,
   "metadata": {},
   "outputs": [
    {
     "data": {
      "text/html": [
       "<div>\n",
       "<style scoped>\n",
       "    .dataframe tbody tr th:only-of-type {\n",
       "        vertical-align: middle;\n",
       "    }\n",
       "\n",
       "    .dataframe tbody tr th {\n",
       "        vertical-align: top;\n",
       "    }\n",
       "\n",
       "    .dataframe thead th {\n",
       "        text-align: right;\n",
       "    }\n",
       "</style>\n",
       "<table border=\"1\" class=\"dataframe\">\n",
       "  <thead>\n",
       "    <tr style=\"text-align: right;\">\n",
       "      <th></th>\n",
       "      <th>open</th>\n",
       "      <th>high</th>\n",
       "      <th>low</th>\n",
       "      <th>close</th>\n",
       "      <th>time</th>\n",
       "      <th>bar_num</th>\n",
       "      <th>eod_close</th>\n",
       "      <th>prev_close</th>\n",
       "      <th>green_day</th>\n",
       "      <th>eod_close_pts</th>\n",
       "      <th>eod_close_pct</th>\n",
       "    </tr>\n",
       "    <tr>\n",
       "      <th>Datetime</th>\n",
       "      <th></th>\n",
       "      <th></th>\n",
       "      <th></th>\n",
       "      <th></th>\n",
       "      <th></th>\n",
       "      <th></th>\n",
       "      <th></th>\n",
       "      <th></th>\n",
       "      <th></th>\n",
       "      <th></th>\n",
       "      <th></th>\n",
       "    </tr>\n",
       "  </thead>\n",
       "  <tbody>\n",
       "    <tr>\n",
       "      <th>2007-04-27 12:20:00</th>\n",
       "      <td>1887.90</td>\n",
       "      <td>1887.91</td>\n",
       "      <td>1886.97</td>\n",
       "      <td>1887.65</td>\n",
       "      <td>12:20:00</td>\n",
       "      <td>35</td>\n",
       "      <td>1891.0</td>\n",
       "      <td>NaN</td>\n",
       "      <td>False</td>\n",
       "      <td>NaN</td>\n",
       "      <td>NaN</td>\n",
       "    </tr>\n",
       "    <tr>\n",
       "      <th>2007-04-27 12:25:00</th>\n",
       "      <td>1887.72</td>\n",
       "      <td>1888.32</td>\n",
       "      <td>1887.72</td>\n",
       "      <td>1888.27</td>\n",
       "      <td>12:25:00</td>\n",
       "      <td>36</td>\n",
       "      <td>1891.0</td>\n",
       "      <td>NaN</td>\n",
       "      <td>False</td>\n",
       "      <td>NaN</td>\n",
       "      <td>NaN</td>\n",
       "    </tr>\n",
       "    <tr>\n",
       "      <th>2007-04-27 12:30:00</th>\n",
       "      <td>1887.77</td>\n",
       "      <td>1888.68</td>\n",
       "      <td>1887.65</td>\n",
       "      <td>1888.13</td>\n",
       "      <td>12:30:00</td>\n",
       "      <td>37</td>\n",
       "      <td>1891.0</td>\n",
       "      <td>NaN</td>\n",
       "      <td>False</td>\n",
       "      <td>NaN</td>\n",
       "      <td>NaN</td>\n",
       "    </tr>\n",
       "    <tr>\n",
       "      <th>2007-04-27 12:35:00</th>\n",
       "      <td>1888.09</td>\n",
       "      <td>1888.24</td>\n",
       "      <td>1887.27</td>\n",
       "      <td>1888.24</td>\n",
       "      <td>12:35:00</td>\n",
       "      <td>38</td>\n",
       "      <td>1891.0</td>\n",
       "      <td>NaN</td>\n",
       "      <td>False</td>\n",
       "      <td>NaN</td>\n",
       "      <td>NaN</td>\n",
       "    </tr>\n",
       "    <tr>\n",
       "      <th>2007-04-27 12:40:00</th>\n",
       "      <td>1888.26</td>\n",
       "      <td>1890.01</td>\n",
       "      <td>1888.26</td>\n",
       "      <td>1889.31</td>\n",
       "      <td>12:40:00</td>\n",
       "      <td>39</td>\n",
       "      <td>1891.0</td>\n",
       "      <td>NaN</td>\n",
       "      <td>False</td>\n",
       "      <td>NaN</td>\n",
       "      <td>NaN</td>\n",
       "    </tr>\n",
       "  </tbody>\n",
       "</table>\n",
       "</div>"
      ],
      "text/plain": [
       "                        open     high      low    close      time  bar_num  \\\n",
       "Datetime                                                                     \n",
       "2007-04-27 12:20:00  1887.90  1887.91  1886.97  1887.65  12:20:00       35   \n",
       "2007-04-27 12:25:00  1887.72  1888.32  1887.72  1888.27  12:25:00       36   \n",
       "2007-04-27 12:30:00  1887.77  1888.68  1887.65  1888.13  12:30:00       37   \n",
       "2007-04-27 12:35:00  1888.09  1888.24  1887.27  1888.24  12:35:00       38   \n",
       "2007-04-27 12:40:00  1888.26  1890.01  1888.26  1889.31  12:40:00       39   \n",
       "\n",
       "                     eod_close  prev_close  green_day  eod_close_pts  \\\n",
       "Datetime                                                               \n",
       "2007-04-27 12:20:00     1891.0         NaN      False            NaN   \n",
       "2007-04-27 12:25:00     1891.0         NaN      False            NaN   \n",
       "2007-04-27 12:30:00     1891.0         NaN      False            NaN   \n",
       "2007-04-27 12:35:00     1891.0         NaN      False            NaN   \n",
       "2007-04-27 12:40:00     1891.0         NaN      False            NaN   \n",
       "\n",
       "                     eod_close_pct  \n",
       "Datetime                            \n",
       "2007-04-27 12:20:00            NaN  \n",
       "2007-04-27 12:25:00            NaN  \n",
       "2007-04-27 12:30:00            NaN  \n",
       "2007-04-27 12:35:00            NaN  \n",
       "2007-04-27 12:40:00            NaN  "
      ]
     },
     "execution_count": 13,
     "metadata": {},
     "output_type": "execute_result"
    }
   ],
   "source": [
    "spx_data.head()"
   ]
  },
  {
   "cell_type": "code",
   "execution_count": 14,
   "metadata": {},
   "outputs": [
    {
     "data": {
      "text/html": [
       "<div>\n",
       "<style scoped>\n",
       "    .dataframe tbody tr th:only-of-type {\n",
       "        vertical-align: middle;\n",
       "    }\n",
       "\n",
       "    .dataframe tbody tr th {\n",
       "        vertical-align: top;\n",
       "    }\n",
       "\n",
       "    .dataframe thead th {\n",
       "        text-align: right;\n",
       "    }\n",
       "</style>\n",
       "<table border=\"1\" class=\"dataframe\">\n",
       "  <thead>\n",
       "    <tr style=\"text-align: right;\">\n",
       "      <th></th>\n",
       "      <th>open</th>\n",
       "      <th>high</th>\n",
       "      <th>low</th>\n",
       "      <th>close</th>\n",
       "      <th>time</th>\n",
       "      <th>bar_num</th>\n",
       "      <th>eod_close</th>\n",
       "      <th>prev_close</th>\n",
       "      <th>green_day</th>\n",
       "      <th>eod_close_pts</th>\n",
       "      <th>eod_close_pct</th>\n",
       "    </tr>\n",
       "    <tr>\n",
       "      <th>Datetime</th>\n",
       "      <th></th>\n",
       "      <th></th>\n",
       "      <th></th>\n",
       "      <th></th>\n",
       "      <th></th>\n",
       "      <th></th>\n",
       "      <th></th>\n",
       "      <th></th>\n",
       "      <th></th>\n",
       "      <th></th>\n",
       "      <th></th>\n",
       "    </tr>\n",
       "  </thead>\n",
       "  <tbody>\n",
       "    <tr>\n",
       "      <th>2024-01-12 15:35:00</th>\n",
       "      <td>16822.02</td>\n",
       "      <td>16822.77</td>\n",
       "      <td>16817.09</td>\n",
       "      <td>16818.00</td>\n",
       "      <td>15:35:00</td>\n",
       "      <td>74</td>\n",
       "      <td>16830.64</td>\n",
       "      <td>16821.72</td>\n",
       "      <td>True</td>\n",
       "      <td>8.92</td>\n",
       "      <td>0.00053</td>\n",
       "    </tr>\n",
       "    <tr>\n",
       "      <th>2024-01-12 15:40:00</th>\n",
       "      <td>16818.02</td>\n",
       "      <td>16825.55</td>\n",
       "      <td>16812.23</td>\n",
       "      <td>16825.28</td>\n",
       "      <td>15:40:00</td>\n",
       "      <td>75</td>\n",
       "      <td>16830.64</td>\n",
       "      <td>16821.72</td>\n",
       "      <td>True</td>\n",
       "      <td>8.92</td>\n",
       "      <td>0.00053</td>\n",
       "    </tr>\n",
       "    <tr>\n",
       "      <th>2024-01-12 15:45:00</th>\n",
       "      <td>16824.95</td>\n",
       "      <td>16830.01</td>\n",
       "      <td>16823.24</td>\n",
       "      <td>16828.51</td>\n",
       "      <td>15:45:00</td>\n",
       "      <td>76</td>\n",
       "      <td>16830.64</td>\n",
       "      <td>16821.72</td>\n",
       "      <td>True</td>\n",
       "      <td>8.92</td>\n",
       "      <td>0.00053</td>\n",
       "    </tr>\n",
       "    <tr>\n",
       "      <th>2024-01-12 15:50:00</th>\n",
       "      <td>16832.26</td>\n",
       "      <td>16834.02</td>\n",
       "      <td>16821.36</td>\n",
       "      <td>16833.98</td>\n",
       "      <td>15:50:00</td>\n",
       "      <td>77</td>\n",
       "      <td>16830.64</td>\n",
       "      <td>16821.72</td>\n",
       "      <td>True</td>\n",
       "      <td>8.92</td>\n",
       "      <td>0.00053</td>\n",
       "    </tr>\n",
       "    <tr>\n",
       "      <th>2024-01-12 15:55:00</th>\n",
       "      <td>16835.06</td>\n",
       "      <td>16838.72</td>\n",
       "      <td>16825.91</td>\n",
       "      <td>16830.64</td>\n",
       "      <td>15:55:00</td>\n",
       "      <td>78</td>\n",
       "      <td>16830.64</td>\n",
       "      <td>16821.72</td>\n",
       "      <td>True</td>\n",
       "      <td>8.92</td>\n",
       "      <td>0.00053</td>\n",
       "    </tr>\n",
       "  </tbody>\n",
       "</table>\n",
       "</div>"
      ],
      "text/plain": [
       "                         open      high       low     close      time  \\\n",
       "Datetime                                                                \n",
       "2024-01-12 15:35:00  16822.02  16822.77  16817.09  16818.00  15:35:00   \n",
       "2024-01-12 15:40:00  16818.02  16825.55  16812.23  16825.28  15:40:00   \n",
       "2024-01-12 15:45:00  16824.95  16830.01  16823.24  16828.51  15:45:00   \n",
       "2024-01-12 15:50:00  16832.26  16834.02  16821.36  16833.98  15:50:00   \n",
       "2024-01-12 15:55:00  16835.06  16838.72  16825.91  16830.64  15:55:00   \n",
       "\n",
       "                     bar_num  eod_close  prev_close  green_day  eod_close_pts  \\\n",
       "Datetime                                                                        \n",
       "2024-01-12 15:35:00       74   16830.64    16821.72       True           8.92   \n",
       "2024-01-12 15:40:00       75   16830.64    16821.72       True           8.92   \n",
       "2024-01-12 15:45:00       76   16830.64    16821.72       True           8.92   \n",
       "2024-01-12 15:50:00       77   16830.64    16821.72       True           8.92   \n",
       "2024-01-12 15:55:00       78   16830.64    16821.72       True           8.92   \n",
       "\n",
       "                     eod_close_pct  \n",
       "Datetime                            \n",
       "2024-01-12 15:35:00        0.00053  \n",
       "2024-01-12 15:40:00        0.00053  \n",
       "2024-01-12 15:45:00        0.00053  \n",
       "2024-01-12 15:50:00        0.00053  \n",
       "2024-01-12 15:55:00        0.00053  "
      ]
     },
     "execution_count": 14,
     "metadata": {},
     "output_type": "execute_result"
    }
   ],
   "source": [
    "spx_data.tail()"
   ]
  },
  {
   "cell_type": "markdown",
   "metadata": {},
   "source": [
    "# Feature and Target Creation\n",
    "Target\n",
    "- Whether the current high or low of the **session** has been achieved, based on the close of the most recent 5 min bar. \n",
    "\n",
    "Features\n",
    "- Current and lagged features of each **session**."
   ]
  },
  {
   "cell_type": "code",
   "execution_count": 15,
   "metadata": {},
   "outputs": [
    {
     "name": "stderr",
     "output_type": "stream",
     "text": [
      "  0%|          | 0/4207 [00:00<?, ?it/s]"
     ]
    },
    {
     "name": "stderr",
     "output_type": "stream",
     "text": [
      "100%|██████████| 4207/4207 [01:59<00:00, 35.34it/s]\n"
     ]
    }
   ],
   "source": [
    "import numpy as np\n",
    "import pandas as pd\n",
    "import datetime\n",
    "from pandas.tseries.offsets import BDay\n",
    "from tqdm import tqdm\n",
    "\n",
    "spx_data['label'] = np.nan\n",
    "\n",
    "# Per date, run it.\n",
    "for day in tqdm(sorted(set(spx_data.index.date))):\n",
    "    day_str = datetime.datetime.strftime(day, '%Y-%m-%d')\n",
    "    day_open = spx_data.loc[day_str, 'open'].iloc[0]\n",
    "    spx_data.loc[day_str, 'lod'] = spx_data.loc[day_str, 'low'].min()\n",
    "    spx_data.loc[day_str, 'label_lod'] = (spx_data.loc[day_str, 'low'] == spx_data.loc[day_str, 'lod']).astype(int)\n",
    "    \n",
    "    spx_data.loc[day_str, 'hod'] = spx_data.loc[day_str, 'high'].max()\n",
    "    spx_data.loc[day_str, 'label'] = (spx_data.loc[day_str, 'high'] == spx_data.loc[day_str, 'hod']).astype(int)\n",
    "    spx_data.loc[day_str, 'day_open'] = day_open\n",
    "    spx_data.loc[day_str, 'day_open_pts'] = spx_data.loc[day_str, 'close'] - spx_data.loc[day_str, 'day_open']\n",
    "    spx_data.loc[day_str, 'day_open_pct'] = spx_data.loc[day_str, 'day_open_pts'] / spx_data.loc[day_str, 'day_open']\n",
    "    spx_data.loc[day_str, 'prev_close_pts'] = spx_data.loc[day_str, 'close'] - spx_data.loc[day_str, 'prev_close']\n",
    "    spx_data.loc[day_str, 'prev_close_pct'] = spx_data.loc[day_str, 'prev_close_pts'] / spx_data.loc[day_str, 'prev_close']\n",
    "\n",
    "    # Lowest low\n",
    "    spx_data.loc[day_str, 'lowest_low'] = spx_data.loc[day_str, 'low'].expanding().min()\n",
    "    spx_data.loc[day_str, 'lowest_low'] = spx_data.loc[day_str, 'lowest_low'].shift(1)\n",
    "    spx_data.loc[day_str, 'lowest_low'] = spx_data.loc[day_str, 'lowest_low'].ffill()\n",
    "    spx_data.loc[day_str, 'lowest_low_mag'] = (spx_data.loc[day_str, 'close'] / spx_data.loc[day_str, 'lowest_low']) - 1\n",
    "\n",
    "    # Highest high\n",
    "    spx_data.loc[day_str, 'highest_high'] = spx_data.loc[day_str, 'high'].expanding().max()\n",
    "    spx_data.loc[day_str, 'highest_high'] = spx_data.loc[day_str, 'highest_high'].shift(1)\n",
    "    spx_data.loc[day_str, 'highest_high'] = spx_data.loc[day_str, 'highest_high'].ffill()\n",
    "    spx_data.loc[day_str, 'highest_high_mag'] = (spx_data.loc[day_str, 'close'] / spx_data.loc[day_str, 'highest_high']) - 1\n",
    "\n",
    "    # Shifted\n",
    "    spx_data.loc[day_str, 'prev_close_pct_n1'] = spx_data.loc[day_str, 'prev_close_pct'].shift(1)\n",
    "    spx_data.loc[day_str, 'prev_close_pct_n2'] = spx_data.loc[day_str, 'prev_close_pct'].shift(2)\n",
    "    spx_data.loc[day_str, 'prev_close_pct_n3'] = spx_data.loc[day_str, 'prev_close_pct'].shift(3)\n",
    "\n",
    "    spx_data.loc[day_str, 'day_open_pct_n1'] = spx_data.loc[day_str, 'day_open_pct'].shift(1)\n",
    "    spx_data.loc[day_str, 'day_open_pct_n2'] = spx_data.loc[day_str, 'day_open_pct'].shift(2)\n",
    "    spx_data.loc[day_str, 'day_open_pct_n3'] = spx_data.loc[day_str, 'day_open_pct'].shift(3)\n",
    "\n",
    "    # New Features\n",
    "    spx_data.loc[day_str, 'open_slope'] = spx_data.loc[day_str, 'day_open_pct'] / spx_data.loc[day_str, 'bar_num']\n",
    "    spx_data.loc[day_str, 'daily_slope'] = spx_data.loc[day_str, 'prev_close_pct'] / spx_data.loc[day_str, 'bar_num']\n",
    "    spx_data.loc[day_str, 'highest_high_slope'] = (spx_data.loc[day_str, 'close'] - spx_data.loc[day_str, 'highest_high']) / spx_data.loc[day_str, 'bar_num']\n",
    "    spx_data.loc[day_str, 'lowest_low_slope'] = (spx_data.loc[day_str, 'close'] - spx_data.loc[day_str, 'lowest_low']) / spx_data.loc[day_str, 'bar_num']\n",
    "    \n",
    "\n",
    "    # Label the data: 1 if the current high is the HOD, 0 otherwise\n",
    "\n",
    "    # # Find the index of HOD\n",
    "    # hod_index = spx_data.loc[day_str][spx_data.loc[day_str, 'label'] == 1].index\n",
    "\n",
    "    # # If HOD is found within the first 5 bars, label the first 5 bars as 1\n",
    "    # if not hod_index.empty:\n",
    "    #     hod_index = hod_index[0]  # In case there are multiple, take the first\n",
    "    #     if hod_index <= spx_data.loc[day_str].index[4]:  # Check if HOD is within the first 5 bars\n",
    "    #         spx_data.loc[spx_data.loc[day_str].index[:5], 'label'] = 1\n",
    "    #     else:\n",
    "    #         start_time = spx_data.loc[day_str].index[0]\n",
    "    #         end_time = hod_index\n",
    "    #         # Calculate the start index using Timedelta\n",
    "    #         start_index = end_time - pd.Timedelta(minutes=5 * 4)\n",
    "    #         start_index = max(start_index, start_time)\n",
    "    #         spx_data.loc[start_index:end_time, 'label'] = 1\n",
    "\n",
    "# spx_data.head()\n"
   ]
  },
  {
   "cell_type": "code",
   "execution_count": 16,
   "metadata": {},
   "outputs": [
    {
     "data": {
      "text/plain": [
       "open                      0\n",
       "high                      0\n",
       "low                       0\n",
       "close                     0\n",
       "time                      0\n",
       "bar_num                   0\n",
       "eod_close                 0\n",
       "prev_close               44\n",
       "green_day                 0\n",
       "eod_close_pts            44\n",
       "eod_close_pct            44\n",
       "label                     0\n",
       "lod                       0\n",
       "label_lod                 0\n",
       "hod                       0\n",
       "day_open                  0\n",
       "day_open_pts              0\n",
       "day_open_pct              0\n",
       "prev_close_pts           44\n",
       "prev_close_pct           44\n",
       "lowest_low             4207\n",
       "lowest_low_mag         4207\n",
       "highest_high           4207\n",
       "highest_high_mag       4207\n",
       "prev_close_pct_n1      4250\n",
       "prev_close_pct_n2      8456\n",
       "prev_close_pct_n3     12662\n",
       "day_open_pct_n1        4207\n",
       "day_open_pct_n2        8414\n",
       "day_open_pct_n3       12621\n",
       "open_slope                0\n",
       "daily_slope              44\n",
       "highest_high_slope     4207\n",
       "lowest_low_slope       4207\n",
       "dtype: int64"
      ]
     },
     "execution_count": 16,
     "metadata": {},
     "output_type": "execute_result"
    }
   ],
   "source": [
    "spx_data.isnull().sum()"
   ]
  },
  {
   "cell_type": "code",
   "execution_count": 17,
   "metadata": {},
   "outputs": [],
   "source": [
    "spx_data['gap_open'] = spx_data['day_open'] - spx_data['prev_close']\n",
    "spx_data['gap_open_pct'] = spx_data['gap_open'] / spx_data['prev_close']"
   ]
  },
  {
   "cell_type": "code",
   "execution_count": 18,
   "metadata": {},
   "outputs": [
    {
     "name": "stderr",
     "output_type": "stream",
     "text": [
      "327034it [00:08, 36365.91it/s]\n"
     ]
    }
   ],
   "source": [
    "hod_in = []\n",
    "for num, row in tqdm(spx_data.iterrows()):\n",
    "    if row['hod'] == row['high']:\n",
    "        hod_in.append(1)\n",
    "    else:\n",
    "        hod_in.append(np.nan)\n",
    "spx_data['hod_in'] = hod_in"
   ]
  },
  {
   "cell_type": "code",
   "execution_count": 19,
   "metadata": {},
   "outputs": [
    {
     "name": "stderr",
     "output_type": "stream",
     "text": [
      "327034it [00:09, 36030.79it/s]\n"
     ]
    }
   ],
   "source": [
    "lod_in = []\n",
    "for num, row in tqdm(spx_data.iterrows()):\n",
    "    if row['lod'] == row['low']:\n",
    "        lod_in.append(1)\n",
    "    else:\n",
    "        lod_in.append(np.nan)\n",
    "spx_data['lod_in'] = lod_in"
   ]
  },
  {
   "cell_type": "code",
   "execution_count": 20,
   "metadata": {},
   "outputs": [
    {
     "name": "stderr",
     "output_type": "stream",
     "text": [
      "100%|██████████| 4207/4207 [00:14<00:00, 300.29it/s]\n"
     ]
    }
   ],
   "source": [
    "# Per day, ffill for the 1s, and then fillna 0\n",
    "for day in tqdm(sorted(set(spx_data.index.date))):\n",
    "    day_str = datetime.datetime.strftime(day, '%Y-%m-%d')\n",
    "    spx_data.loc[day_str, 'lod_in'] = spx_data.loc[day_str, 'lod_in'].ffill()\n",
    "    spx_data.loc[day_str, 'lod_in'] = spx_data.loc[day_str, 'lod_in'].fillna(0)\n",
    "    spx_data.loc[day_str, 'hod_in'] = spx_data.loc[day_str, 'hod_in'].ffill()\n",
    "    spx_data.loc[day_str, 'hod_in'] = spx_data.loc[day_str, 'hod_in'].fillna(0)"
   ]
  },
  {
   "cell_type": "markdown",
   "metadata": {},
   "source": [
    "# EDA"
   ]
  },
  {
   "cell_type": "code",
   "execution_count": 21,
   "metadata": {},
   "outputs": [
    {
     "data": {
      "image/png": "[encoded data removed]",
      "text/plain": [
       "<Figure size 1100x900 with 2 Axes>"
      ]
     },
     "metadata": {},
     "output_type": "display_data"
    }
   ],
   "source": [
    "# Correlations with HOD\n",
    "import seaborn as sns\n",
    "import matplotlib.pyplot as plt\n",
    "\n",
    "# Compute the correlation matrix\n",
    "\n",
    "num_cols = spx_data.select_dtypes(include='number').columns\n",
    "\n",
    "corr = spx_data[num_cols].corr()\n",
    "\n",
    "# Generate a mask for the upper triangle\n",
    "mask = np.triu(np.ones_like(corr, dtype=bool))\n",
    "\n",
    "# Set up the matplotlib figure\n",
    "f, ax = plt.subplots(figsize=(11, 9))\n",
    "\n",
    "# Generate a custom diverging colormap\n",
    "cmap = sns.diverging_palette(230, 20, as_cmap=True)\n",
    "\n",
    "# Draw the heatmap with the mask and correct aspect ratio\n",
    "sns.heatmap(corr, mask=mask, cmap=cmap, vmax=.3, center=0,\n",
    "            square=True, linewidths=.5, cbar_kws={\"shrink\": .5})\n",
    "plt.title('Correlation Heatmap of SPX Data')\n",
    "plt.show()\n"
   ]
  },
  {
   "cell_type": "code",
   "execution_count": 36,
   "metadata": {},
   "outputs": [
    {
     "name": "stdout",
     "output_type": "stream",
     "text": [
      "count    322827.000000\n",
      "mean          0.005865\n",
      "std           0.006154\n",
      "min          -0.055888\n",
      "25%           0.002093\n",
      "50%           0.004265\n",
      "75%           0.007849\n",
      "max           0.114669\n",
      "Name: lowest_low_mag, dtype: float64\n"
     ]
    },
    {
     "data": {
      "image/png": "[encoded data removed]",
      "text/plain": [
       "<Figure size 640x480 with 1 Axes>"
      ]
     },
     "metadata": {},
     "output_type": "display_data"
    }
   ],
   "source": [
    "import matplotlib.pyplot as plt\n",
    "\n",
    "col = 'lowest_low_mag'\n",
    "u = spx_data[col].quantile(0.005)\n",
    "l = spx_data[col].quantile(0.995)\n",
    "print(spx_data[col].describe())\n",
    "data = spx_data[col].clip(lower=u, upper=l)\n",
    "\n",
    "# Group the data\n",
    "grouped = data.groupby(spx_data['green_day'])\n",
    "\n",
    "# Create a new figure\n",
    "plt.figure()\n",
    "\n",
    "# Loop over the groups and plot each one\n",
    "for name, group in grouped:\n",
    "    # Calculate weights for each data point\n",
    "    weights = np.ones_like(group)/float(len(group))\n",
    "\n",
    "    # Plot the histogram with weights\n",
    "    plt.hist(group, weights=weights, bins=30, alpha=0.5, label=str(name))\n",
    "\n",
    "# Set y-axis label\n",
    "plt.ylabel('Percentage')\n",
    "\n",
    "# Add a legend\n",
    "plt.legend(title='Label')\n",
    "\n",
    "# Show the plot\n",
    "plt.show()"
   ]
  },
  {
   "cell_type": "code",
   "execution_count": 23,
   "metadata": {},
   "outputs": [],
   "source": [
    "def get_top_probability(time, prev_close_pct):\n",
    "    '''\n",
    "    Function that returns the historical probability that the top is in, given a time of day and magnitude.\n",
    "    '''\n",
    "    # Filter the data for the given time and magnitude\n",
    "    relevant_data = spx_data[(spx_data['time'] == time) & (spx_data['prev_close_pct'] >= prev_close_pct)]\n",
    "    \n",
    "    # Calculate the probability\n",
    "    top_probability = relevant_data['hod_in'].mean()\n",
    "    # bot_probability = relevant_data['lod_in'].mean()\n",
    "    \n",
    "    return top_probability\n",
    "\n",
    "def get_low_probability(time, prev_close_pct):\n",
    "    '''\n",
    "    Function that returns the historical probability that the low is in, given a time of day and magnitude.\n",
    "    '''\n",
    "    # Filter the data for the given time and magnitude\n",
    "    relevant_data = spx_data[(spx_data['time'] == time) & (spx_data['prev_close_pct'] <= prev_close_pct)]\n",
    "    \n",
    "    # Calculate the probability\n",
    "    probability = relevant_data['lod_in'].mean()\n",
    "    \n",
    "    return probability"
   ]
  },
  {
   "cell_type": "code",
   "execution_count": 24,
   "metadata": {},
   "outputs": [
    {
     "data": {
      "text/plain": [
       "0.6735860409145608"
      ]
     },
     "execution_count": 24,
     "metadata": {},
     "output_type": "execute_result"
    }
   ],
   "source": [
    "time = datetime.time(15,0)\n",
    "prev_close_pct = -0.007\n",
    "# spx_data.loc[(spx_data['time'] == time) & (spx_data['prev_close_pct'] >= prev_close_pct)]\n",
    "get_top_probability(time, prev_close_pct)"
   ]
  },
  {
   "cell_type": "code",
   "execution_count": 25,
   "metadata": {},
   "outputs": [
    {
     "data": {
      "text/plain": [
       "0.5271867612293144"
      ]
     },
     "execution_count": 25,
     "metadata": {},
     "output_type": "execute_result"
    }
   ],
   "source": [
    "get_low_probability(time, prev_close_pct)"
   ]
  },
  {
   "cell_type": "code",
   "execution_count": 26,
   "metadata": {},
   "outputs": [
    {
     "data": {
      "text/html": [
       "<div>\n",
       "<style scoped>\n",
       "    .dataframe tbody tr th:only-of-type {\n",
       "        vertical-align: middle;\n",
       "    }\n",
       "\n",
       "    .dataframe tbody tr th {\n",
       "        vertical-align: top;\n",
       "    }\n",
       "\n",
       "    .dataframe thead th {\n",
       "        text-align: right;\n",
       "    }\n",
       "</style>\n",
       "<table border=\"1\" class=\"dataframe\">\n",
       "  <thead>\n",
       "    <tr style=\"text-align: right;\">\n",
       "      <th></th>\n",
       "      <th>time</th>\n",
       "      <th>hod_in</th>\n",
       "      <th>lod_in</th>\n",
       "      <th>gap_open_pct</th>\n",
       "      <th>open</th>\n",
       "    </tr>\n",
       "    <tr>\n",
       "      <th>Datetime</th>\n",
       "      <th></th>\n",
       "      <th></th>\n",
       "      <th></th>\n",
       "      <th></th>\n",
       "      <th></th>\n",
       "    </tr>\n",
       "  </thead>\n",
       "  <tbody>\n",
       "    <tr>\n",
       "      <th>2007-04-27 12:20:00</th>\n",
       "      <td>12:20:00</td>\n",
       "      <td>0.0</td>\n",
       "      <td>0.0</td>\n",
       "      <td>NaN</td>\n",
       "      <td>1887.90</td>\n",
       "    </tr>\n",
       "    <tr>\n",
       "      <th>2007-04-27 12:25:00</th>\n",
       "      <td>12:25:00</td>\n",
       "      <td>0.0</td>\n",
       "      <td>0.0</td>\n",
       "      <td>NaN</td>\n",
       "      <td>1887.72</td>\n",
       "    </tr>\n",
       "    <tr>\n",
       "      <th>2007-04-27 12:30:00</th>\n",
       "      <td>12:30:00</td>\n",
       "      <td>0.0</td>\n",
       "      <td>0.0</td>\n",
       "      <td>NaN</td>\n",
       "      <td>1887.77</td>\n",
       "    </tr>\n",
       "    <tr>\n",
       "      <th>2007-04-27 12:35:00</th>\n",
       "      <td>12:35:00</td>\n",
       "      <td>0.0</td>\n",
       "      <td>0.0</td>\n",
       "      <td>NaN</td>\n",
       "      <td>1888.09</td>\n",
       "    </tr>\n",
       "    <tr>\n",
       "      <th>2007-04-27 12:40:00</th>\n",
       "      <td>12:40:00</td>\n",
       "      <td>0.0</td>\n",
       "      <td>0.0</td>\n",
       "      <td>NaN</td>\n",
       "      <td>1888.26</td>\n",
       "    </tr>\n",
       "    <tr>\n",
       "      <th>...</th>\n",
       "      <td>...</td>\n",
       "      <td>...</td>\n",
       "      <td>...</td>\n",
       "      <td>...</td>\n",
       "      <td>...</td>\n",
       "    </tr>\n",
       "    <tr>\n",
       "      <th>2024-01-12 15:35:00</th>\n",
       "      <td>15:35:00</td>\n",
       "      <td>1.0</td>\n",
       "      <td>1.0</td>\n",
       "      <td>0.001978</td>\n",
       "      <td>16822.02</td>\n",
       "    </tr>\n",
       "    <tr>\n",
       "      <th>2024-01-12 15:40:00</th>\n",
       "      <td>15:40:00</td>\n",
       "      <td>1.0</td>\n",
       "      <td>1.0</td>\n",
       "      <td>0.001978</td>\n",
       "      <td>16818.02</td>\n",
       "    </tr>\n",
       "    <tr>\n",
       "      <th>2024-01-12 15:45:00</th>\n",
       "      <td>15:45:00</td>\n",
       "      <td>1.0</td>\n",
       "      <td>1.0</td>\n",
       "      <td>0.001978</td>\n",
       "      <td>16824.95</td>\n",
       "    </tr>\n",
       "    <tr>\n",
       "      <th>2024-01-12 15:50:00</th>\n",
       "      <td>15:50:00</td>\n",
       "      <td>1.0</td>\n",
       "      <td>1.0</td>\n",
       "      <td>0.001978</td>\n",
       "      <td>16832.26</td>\n",
       "    </tr>\n",
       "    <tr>\n",
       "      <th>2024-01-12 15:55:00</th>\n",
       "      <td>15:55:00</td>\n",
       "      <td>1.0</td>\n",
       "      <td>1.0</td>\n",
       "      <td>0.001978</td>\n",
       "      <td>16835.06</td>\n",
       "    </tr>\n",
       "  </tbody>\n",
       "</table>\n",
       "<p>327034 rows × 5 columns</p>\n",
       "</div>"
      ],
      "text/plain": [
       "                         time  hod_in  lod_in  gap_open_pct      open\n",
       "Datetime                                                             \n",
       "2007-04-27 12:20:00  12:20:00     0.0     0.0           NaN   1887.90\n",
       "2007-04-27 12:25:00  12:25:00     0.0     0.0           NaN   1887.72\n",
       "2007-04-27 12:30:00  12:30:00     0.0     0.0           NaN   1887.77\n",
       "2007-04-27 12:35:00  12:35:00     0.0     0.0           NaN   1888.09\n",
       "2007-04-27 12:40:00  12:40:00     0.0     0.0           NaN   1888.26\n",
       "...                       ...     ...     ...           ...       ...\n",
       "2024-01-12 15:35:00  15:35:00     1.0     1.0      0.001978  16822.02\n",
       "2024-01-12 15:40:00  15:40:00     1.0     1.0      0.001978  16818.02\n",
       "2024-01-12 15:45:00  15:45:00     1.0     1.0      0.001978  16824.95\n",
       "2024-01-12 15:50:00  15:50:00     1.0     1.0      0.001978  16832.26\n",
       "2024-01-12 15:55:00  15:55:00     1.0     1.0      0.001978  16835.06\n",
       "\n",
       "[327034 rows x 5 columns]"
      ]
     },
     "execution_count": 26,
     "metadata": {},
     "output_type": "execute_result"
    }
   ],
   "source": [
    "spx_data[['time','hod_in','lod_in','gap_open_pct','open']]"
   ]
  },
  {
   "cell_type": "code",
   "execution_count": 27,
   "metadata": {},
   "outputs": [
    {
     "data": {
      "text/plain": [
       "Index(['open', 'high', 'low', 'close', 'time', 'bar_num', 'eod_close',\n",
       "       'prev_close', 'green_day', 'eod_close_pts', 'eod_close_pct', 'label',\n",
       "       'lod', 'label_lod', 'hod', 'day_open', 'day_open_pts', 'day_open_pct',\n",
       "       'prev_close_pts', 'prev_close_pct', 'lowest_low', 'lowest_low_mag',\n",
       "       'highest_high', 'highest_high_mag', 'prev_close_pct_n1',\n",
       "       'prev_close_pct_n2', 'prev_close_pct_n3', 'day_open_pct_n1',\n",
       "       'day_open_pct_n2', 'day_open_pct_n3', 'open_slope', 'daily_slope',\n",
       "       'highest_high_slope', 'lowest_low_slope', 'gap_open', 'gap_open_pct',\n",
       "       'hod_in', 'lod_in'],\n",
       "      dtype='object')"
      ]
     },
     "execution_count": 27,
     "metadata": {},
     "output_type": "execute_result"
    }
   ],
   "source": [
    "spx_data.columns"
   ]
  },
  {
   "cell_type": "markdown",
   "metadata": {},
   "source": [
    "# Pipeline"
   ]
  },
  {
   "cell_type": "code",
   "execution_count": 207,
   "metadata": {},
   "outputs": [],
   "source": [
    "from sklearn.pipeline import Pipeline, make_pipeline\n",
    "from sklearn.compose import ColumnTransformer\n",
    "from sklearn.linear_model import LogisticRegression\n",
    "from sklearn.calibration import CalibratedClassifierCV\n",
    "from catboost import CatBoostClassifier\n",
    "import lightgbm as lgb\n",
    "from sklearn.preprocessing import FunctionTransformer, StandardScaler, RobustScaler, StandardScaler\n",
    "import datetime\n",
    "\n",
    "# Function to convert time string to seconds past midnight\n",
    "def convert_time_to_seconds(time_series):\n",
    "    return time_series.apply(lambda x: x.hour * 3600 + x.minute * 60 + x.second)\n",
    "\n",
    "def apply_convert_time_to_seconds(x):\n",
    "    return x.apply(convert_time_to_seconds)\n",
    "\n",
    "time_to_seconds = FunctionTransformer(apply_convert_time_to_seconds, validate=False)\n",
    "\n",
    "# Create a column transformer\n",
    "preprocessor = ColumnTransformer(\n",
    "    transformers=[\n",
    "        ('time', make_pipeline(time_to_seconds, StandardScaler()), ['time']),\n",
    "        ('prev_close_pct', StandardScaler(), ['prev_close_pct']),\n",
    "        ('prev_close_pct_n1', StandardScaler(), ['prev_close_pct_n1']),\n",
    "        ('prev_close_pct_n2', StandardScaler(), ['prev_close_pct_n2']),\n",
    "        ('prev_close_pct_n3', StandardScaler(), ['prev_close_pct_n3']),\n",
    "        ('day_open_pct', StandardScaler(), ['day_open_pct']),\n",
    "        ('day_open_pct_n1', StandardScaler(), ['day_open_pct_n1']),\n",
    "        ('day_open_pct_n2', StandardScaler(), ['day_open_pct_n2']),\n",
    "        ('day_open_pct_n3', StandardScaler(), ['day_open_pct_n3']),\n",
    "        ('gap_open_pct', StandardScaler(), ['gap_open_pct']),\n",
    "        ('highest_high_mag', StandardScaler(), ['highest_high_mag']),\n",
    "        ('lowest_low_mag', StandardScaler(), ['lowest_low_mag']),\n",
    "        ('open_slope', StandardScaler(), ['open_slope']),\n",
    "        ('daily_slope', StandardScaler(), ['daily_slope']),\n",
    "        ('highest_high_slope', StandardScaler(), ['highest_high_slope']),\n",
    "        ('lowest_low_slope', StandardScaler(), ['lowest_low_slope'])\n",
    "    ])\n",
    "\n",
    "# Create the pipeline\n",
    "pipeline = Pipeline(steps=[\n",
    "    ('preprocessor', preprocessor),\n",
    "    # ('classifier', LogisticRegression())\n",
    "    ('classifier', lgb.LGBMClassifier())\n",
    "    # ('classifier', CatBoostClassifier())\n",
    "    # ('classifier', xgb.XGBClassifier())\n",
    "])\n",
    "\n",
    "df_use = spx_data.dropna(subset=[\n",
    "    'prev_close_pct',\n",
    "    'gap_open_pct',\n",
    "    'day_open_pct_n3',\n",
    "    'prev_close_pct_n3'\n",
    "    ])\n",
    "\n",
    "# Train the model\n",
    "X = df_use[[\n",
    "    'time',\n",
    "    'prev_close_pct',\n",
    "    'prev_close_pct_n1',\n",
    "    'prev_close_pct_n2',\n",
    "    'prev_close_pct_n3',\n",
    "    'day_open_pct',\n",
    "    'day_open_pct_n1',\n",
    "    'day_open_pct_n2',\n",
    "    'day_open_pct_n3',\n",
    "    'gap_open_pct',\n",
    "    'highest_high_mag',\n",
    "    'lowest_low_mag',\n",
    "    'open_slope',\n",
    "    'daily_slope',\n",
    "    'highest_high_slope',\n",
    "    'lowest_low_slope'\n",
    "]]\n",
    "y_flags = df_use[['lod_in','hod_in','green_day']]\n",
    "# pipeline.fit(X, y)"
   ]
  },
  {
   "cell_type": "code",
   "execution_count": 208,
   "metadata": {},
   "outputs": [
    {
     "data": {
      "text/plain": [
       "time                  0\n",
       "prev_close_pct        0\n",
       "prev_close_pct_n1     0\n",
       "prev_close_pct_n2     0\n",
       "prev_close_pct_n3     0\n",
       "day_open_pct          0\n",
       "day_open_pct_n1       0\n",
       "day_open_pct_n2       0\n",
       "day_open_pct_n3       0\n",
       "gap_open_pct          0\n",
       "highest_high_mag      0\n",
       "lowest_low_mag        0\n",
       "open_slope            0\n",
       "daily_slope           0\n",
       "highest_high_slope    0\n",
       "lowest_low_slope      0\n",
       "dtype: int64"
      ]
     },
     "execution_count": 208,
     "metadata": {},
     "output_type": "execute_result"
    }
   ],
   "source": [
    "X.isnull().sum()"
   ]
  },
  {
   "cell_type": "code",
   "execution_count": 209,
   "metadata": {},
   "outputs": [
    {
     "data": {
      "text/plain": [
       "datetime.time(9, 45)"
      ]
     },
     "execution_count": 209,
     "metadata": {},
     "output_type": "execute_result"
    }
   ],
   "source": [
    "X['time'].min()"
   ]
  },
  {
   "cell_type": "code",
   "execution_count": 210,
   "metadata": {},
   "outputs": [],
   "source": [
    "from sklearn.base import clone\n",
    "\n",
    "pipeline_lod = clone(pipeline)\n",
    "pipeline_gd = clone(pipeline)"
   ]
  },
  {
   "cell_type": "markdown",
   "metadata": {},
   "source": [
    "# Data Splits"
   ]
  },
  {
   "cell_type": "code",
   "execution_count": 277,
   "metadata": {},
   "outputs": [],
   "source": [
    "\n",
    "date_idx = int(np.floor(len(X.index.date) * .90))\n",
    "date_idx_test = int(np.floor(len(X.index.date) * .95))\n",
    "cutoff_date_val = X.index.date[date_idx]\n",
    "cutoff_date_test = X.index.date[date_idx_test]\n",
    "# cutoff_date = '2023-05-31'\n",
    "\n",
    "X_train = X.loc[:cutoff_date_val]\n",
    "y_train = y_flags.loc[:cutoff_date_val]\n",
    "X_val = X.loc[cutoff_date_val:cutoff_date_test]\n",
    "y_val = y_flags.loc[cutoff_date_val:cutoff_date_test]\n",
    "X_test = X.loc[cutoff_date_test:]\n",
    "y_test = y_flags.loc[cutoff_date_test:]"
   ]
  },
  {
   "cell_type": "code",
   "execution_count": 278,
   "metadata": {},
   "outputs": [
    {
     "name": "stdout",
     "output_type": "stream",
     "text": [
      "2023-03-14\n"
     ]
    }
   ],
   "source": [
    "print(cutoff_date_test)"
   ]
  },
  {
   "cell_type": "code",
   "execution_count": 279,
   "metadata": {},
   "outputs": [
    {
     "data": {
      "text/plain": [
       "282892"
      ]
     },
     "execution_count": 279,
     "metadata": {},
     "output_type": "execute_result"
    }
   ],
   "source": [
    "len(y_train)"
   ]
  },
  {
   "cell_type": "code",
   "execution_count": 280,
   "metadata": {},
   "outputs": [
    {
     "data": {
      "text/plain": [
       "15764"
      ]
     },
     "execution_count": 280,
     "metadata": {},
     "output_type": "execute_result"
    }
   ],
   "source": [
    "len(y_test)"
   ]
  },
  {
   "cell_type": "code",
   "execution_count": 281,
   "metadata": {},
   "outputs": [
    {
     "data": {
      "text/plain": [
       "lod_in       0.646388\n",
       "hod_in       0.563017\n",
       "green_day    0.557810\n",
       "dtype: float64"
      ]
     },
     "execution_count": 281,
     "metadata": {},
     "output_type": "execute_result"
    }
   ],
   "source": [
    "y_train.mean()"
   ]
  },
  {
   "cell_type": "code",
   "execution_count": 282,
   "metadata": {},
   "outputs": [
    {
     "data": {
      "text/plain": [
       "lod_in       0.627442\n",
       "hod_in       0.578597\n",
       "green_day    0.573712\n",
       "dtype: float64"
      ]
     },
     "execution_count": 282,
     "metadata": {},
     "output_type": "execute_result"
    }
   ],
   "source": [
    "y_test.mean()"
   ]
  },
  {
   "cell_type": "code",
   "execution_count": 283,
   "metadata": {},
   "outputs": [
    {
     "data": {
      "text/plain": [
       "time                   object\n",
       "prev_close_pct        float64\n",
       "prev_close_pct_n1     float64\n",
       "prev_close_pct_n2     float64\n",
       "prev_close_pct_n3     float64\n",
       "day_open_pct          float64\n",
       "day_open_pct_n1       float64\n",
       "day_open_pct_n2       float64\n",
       "day_open_pct_n3       float64\n",
       "gap_open_pct          float64\n",
       "highest_high_mag      float64\n",
       "lowest_low_mag        float64\n",
       "open_slope            float64\n",
       "daily_slope           float64\n",
       "highest_high_slope    float64\n",
       "lowest_low_slope      float64\n",
       "dtype: object"
      ]
     },
     "execution_count": 283,
     "metadata": {},
     "output_type": "execute_result"
    }
   ],
   "source": [
    "X.dtypes"
   ]
  },
  {
   "cell_type": "code",
   "execution_count": 284,
   "metadata": {},
   "outputs": [
    {
     "name": "stdout",
     "output_type": "stream",
     "text": [
      "[LightGBM] [Info] Number of positive: 159273, number of negative: 123619\n",
      "[LightGBM] [Info] Auto-choosing row-wise multi-threading, the overhead of testing was 0.001296 seconds.\n",
      "You can set `force_row_wise=true` to remove the overhead.\n",
      "And if memory is not enough, you can set `force_col_wise=true`.\n",
      "[LightGBM] [Info] Total Bins 3901\n",
      "[LightGBM] [Info] Number of data points in the train set: 282892, number of used features: 16\n",
      "[LightGBM] [Info] [binary:BoostFromScore]: pavg=0.563017 -> initscore=0.253415\n",
      "[LightGBM] [Info] Start training from score 0.253415\n",
      "[LightGBM] [Info] Number of positive: 182858, number of negative: 100034\n",
      "[LightGBM] [Info] Auto-choosing col-wise multi-threading, the overhead of testing was 0.005888 seconds.\n",
      "You can set `force_col_wise=true` to remove the overhead.\n",
      "[LightGBM] [Info] Total Bins 3901\n",
      "[LightGBM] [Info] Number of data points in the train set: 282892, number of used features: 16\n",
      "[LightGBM] [Info] [binary:BoostFromScore]: pavg=0.646388 -> initscore=0.603200\n",
      "[LightGBM] [Info] Start training from score 0.603200\n",
      "[LightGBM] [Info] Number of positive: 157800, number of negative: 125092\n",
      "[LightGBM] [Info] Auto-choosing col-wise multi-threading, the overhead of testing was 0.006901 seconds.\n",
      "You can set `force_col_wise=true` to remove the overhead.\n",
      "[LightGBM] [Info] Total Bins 3901\n",
      "[LightGBM] [Info] Number of data points in the train set: 282892, number of used features: 16\n",
      "[LightGBM] [Info] [binary:BoostFromScore]: pavg=0.557810 -> initscore=0.232279\n",
      "[LightGBM] [Info] Start training from score 0.232279\n"
     ]
    },
    {
     "data": {
      "text/plain": [
       "['models/gd_model_ndx.joblib']"
      ]
     },
     "execution_count": 284,
     "metadata": {},
     "output_type": "execute_result"
    }
   ],
   "source": [
    "import joblib\n",
    "hod_model = pipeline.fit(X_train, y_train['hod_in'])\n",
    "lod_model = pipeline_lod.fit(X_train, y_train['lod_in'])\n",
    "gd_model = pipeline_gd.fit(X_train, y_train['green_day'])\n",
    "\n",
    "# Save models\n",
    "joblib.dump(hod_model, ticker_dict[tck][\"hod_model\"])\n",
    "joblib.dump(lod_model, ticker_dict[tck][\"lod_model\"])\n",
    "joblib.dump(gd_model, ticker_dict[tck][\"gd_model\"])"
   ]
  },
  {
   "cell_type": "markdown",
   "metadata": {},
   "source": [
    "# Performance"
   ]
  },
  {
   "cell_type": "code",
   "execution_count": 285,
   "metadata": {},
   "outputs": [
    {
     "data": {
      "image/png": "[encoded data removed]",
      "text/plain": [
       "<Figure size 2000x1000 with 1 Axes>"
      ]
     },
     "metadata": {},
     "output_type": "display_data"
    }
   ],
   "source": [
    "import mlflow\n",
    "import matplotlib.pyplot as plt\n",
    "\n",
    "booster = hod_model.named_steps['classifier'].booster_\n",
    "importance_gain = booster.feature_importance(importance_type='gain')\n",
    "feature_imp = pd.DataFrame(sorted(zip(importance_gain, X.columns)), columns=['Value','Feature'])\n",
    "feature_imp = feature_imp.sort_values(by=\"Value\", ascending=True)\n",
    "\n",
    "plt.figure(figsize=(20, 10))\n",
    "plt.barh(feature_imp['Feature'], feature_imp['Value'])\n",
    "plt.title('HOD Model Features (avg over folds)')\n",
    "plt.xlabel('Value')\n",
    "plt.ylabel('Feature')\n",
    "plt.tight_layout()\n",
    "plt.show()\n"
   ]
  },
  {
   "cell_type": "code",
   "execution_count": 286,
   "metadata": {},
   "outputs": [
    {
     "data": {
      "image/png": "[encoded data removed]",
      "text/plain": [
       "<Figure size 2000x1000 with 1 Axes>"
      ]
     },
     "metadata": {},
     "output_type": "display_data"
    }
   ],
   "source": [
    "booster = gd_model.named_steps['classifier'].booster_\n",
    "importance_gain = booster.feature_importance(importance_type='gain')\n",
    "feature_imp = pd.DataFrame(sorted(zip(importance_gain, X.columns)), columns=['Value','Feature'])\n",
    "feature_imp = feature_imp.sort_values(by=\"Value\", ascending=True)\n",
    "\n",
    "plt.figure(figsize=(20, 10))\n",
    "plt.barh(feature_imp['Feature'], feature_imp['Value'])\n",
    "plt.title('GD Model Features (avg over folds)')\n",
    "plt.xlabel('Value')\n",
    "plt.ylabel('Feature')\n",
    "plt.tight_layout()\n",
    "plt.show()\n"
   ]
  },
  {
   "cell_type": "code",
   "execution_count": 287,
   "metadata": {},
   "outputs": [
    {
     "data": {
      "image/png": "[encoded data removed]",
      "text/plain": [
       "<Figure size 2000x1000 with 1 Axes>"
      ]
     },
     "metadata": {},
     "output_type": "display_data"
    }
   ],
   "source": [
    "booster = lod_model.named_steps['classifier'].booster_\n",
    "importance_gain = booster.feature_importance(importance_type='gain')\n",
    "feature_imp = pd.DataFrame(sorted(zip(importance_gain, X.columns)), columns=['Value','Feature'])\n",
    "feature_imp = feature_imp.sort_values(by=\"Value\", ascending=True)\n",
    "\n",
    "plt.figure(figsize=(20, 10))\n",
    "plt.barh(feature_imp['Feature'], feature_imp['Value'])\n",
    "plt.title('LOD Model Features (avg over folds)')\n",
    "plt.xlabel('Value')\n",
    "plt.ylabel('Feature')\n",
    "plt.tight_layout()\n",
    "plt.show()\n"
   ]
  },
  {
   "cell_type": "markdown",
   "metadata": {},
   "source": [
    "### Train/Test"
   ]
  },
  {
   "cell_type": "code",
   "execution_count": 288,
   "metadata": {},
   "outputs": [
    {
     "name": "stdout",
     "output_type": "stream",
     "text": [
      "ROC AUC Score: 0.8923717845429445\n",
      "Precision Score: 0.8579992946984836\n",
      "Recall Score: 0.8002412016226291\n",
      "Brier Score: 0.132863746213105\n",
      "done.\n"
     ]
    }
   ],
   "source": [
    "from sklearn.metrics import roc_auc_score, precision_score, recall_score, brier_score_loss\n",
    "import mlflow\n",
    "\n",
    "# Metrics for HOD model\n",
    "y_pred_hod = hod_model.predict_proba(X_test)[:,-1]\n",
    "\n",
    "roc_auc_hod = roc_auc_score(y_test['hod_in'], y_pred_hod)\n",
    "precision_hod = precision_score(y_test['hod_in'], y_pred_hod > 0.5)\n",
    "recall_hod = recall_score(y_test['hod_in'], y_pred_hod > 0.5)\n",
    "brier_score_hod = brier_score_loss(y_test['hod_in'], y_pred_hod)\n",
    "\n",
    "print(f\"ROC AUC Score: {roc_auc_hod}\")\n",
    "print(f\"Precision Score: {precision_hod}\")\n",
    "print(f\"Recall Score: {recall_hod}\")\n",
    "print(f\"Brier Score: {brier_score_hod}\")\n",
    "\n",
    "train_start = X_train.index.date.min()\n",
    "train_end = X_train.index.date.max()\n",
    "test_start = X_test.index.date.min()\n",
    "test_end = X_test.index.date.max()\n",
    "train_size = len(X_train)\n",
    "test_size = len(X_test)\n",
    "\n",
    "# Start a new MLFlow run\n",
    "with mlflow.start_run():\n",
    "\n",
    "    ts = datetime.datetime.now()\n",
    "\n",
    "    mlflow.set_tag(f\"mlflow.runName\", f\"{tck} HOD Model {ts.hour:02}:{ts.minute:02}:{ts.second:02}\")\n",
    "\n",
    "    # Log the model\n",
    "    mlflow.log_param(\"model\", str(hod_model.named_steps))\n",
    "\n",
    "    # Log the features\n",
    "    mlflow.log_param(\"features\", hod_model.feature_names_in_)\n",
    "    mlflow.log_param(\"train_date_range\", f\"{train_start} to {train_end}\")\n",
    "    mlflow.log_param(\"test_date_range\", f\"{test_start} to {test_end}\")\n",
    "    mlflow.log_param(\"train_size\", train_size)\n",
    "    mlflow.log_param(\"test_size\", test_size)\n",
    "\n",
    "    # Assume y_test and y_pred are your test labels and model predictions\n",
    "    # Calculate scores\n",
    "\n",
    "    # Log the scores\n",
    "    mlflow.log_metric(\"roc_auc\", roc_auc_hod)\n",
    "    mlflow.log_metric(\"precision\", precision_hod)\n",
    "    mlflow.log_metric(\"recall\", recall_hod)\n",
    "    mlflow.log_metric(\"brier_score\", brier_score_hod)\n",
    "\n",
    "    # Log the timestamp\n",
    "    mlflow.log_param(\"created_at\", ts)\n",
    "\n",
    "print('done.')"
   ]
  },
  {
   "cell_type": "code",
   "execution_count": 289,
   "metadata": {},
   "outputs": [
    {
     "name": "stdout",
     "output_type": "stream",
     "text": [
      "ROC AUC Score: 0.8679067870780783\n",
      "Precision Score: 0.8122516235339731\n",
      "Recall Score: 0.8472348599737135\n",
      "Brier Score: 0.14338950538384554\n",
      "done.\n"
     ]
    }
   ],
   "source": [
    "from sklearn.metrics import roc_auc_score, precision_score, recall_score\n",
    "import mlflow\n",
    "\n",
    "# Metrics for HOD model\n",
    "y_pred_lod = lod_model.predict_proba(X_test)[:,-1]\n",
    "roc_auc_lod = roc_auc_score(y_test['lod_in'], y_pred_lod)\n",
    "precision_lod = precision_score(y_test['lod_in'], y_pred_lod > 0.5)\n",
    "recall_lod = recall_score(y_test['lod_in'], y_pred_lod > 0.5)\n",
    "brier_score_lod = brier_score_loss(y_test['lod_in'], y_pred_lod)\n",
    "\n",
    "\n",
    "print(f\"ROC AUC Score: {roc_auc_lod}\")\n",
    "print(f\"Precision Score: {precision_lod}\")\n",
    "print(f\"Recall Score: {recall_lod}\")\n",
    "print(f\"Brier Score: {brier_score_lod}\")\n",
    "\n",
    "train_start = X_train.index.date.min()\n",
    "train_end = X_train.index.date.max()\n",
    "test_start = X_test.index.date.min()\n",
    "test_end = X_test.index.date.max()\n",
    "train_size = len(X_train)\n",
    "test_size = len(X_test)\n",
    "\n",
    "# Start a new MLFlow run\n",
    "with mlflow.start_run():\n",
    "\n",
    "    ts = datetime.datetime.now()\n",
    "\n",
    "    mlflow.set_tag(f\"mlflow.runName\", f\"{tck} LOD Model {ts.hour:02}:{ts.minute:02}:{ts.second:02}\")\n",
    "\n",
    "    # Log the model\n",
    "    mlflow.log_param(\"model\", str(lod_model.named_steps))\n",
    "\n",
    "    # Log the features\n",
    "    mlflow.log_param(\"features\", lod_model.feature_names_in_)\n",
    "    mlflow.log_param(\"train_date_range\", f\"{train_start} to {train_end}\")\n",
    "    mlflow.log_param(\"test_date_range\", f\"{test_start} to {test_end}\")\n",
    "    mlflow.log_param(\"train_size\", train_size)\n",
    "    mlflow.log_param(\"test_size\", test_size)\n",
    "\n",
    "    # Assume y_test and y_pred are your test labels and model predictions\n",
    "    # Calculate scores\n",
    "\n",
    "    # Log the scores\n",
    "    mlflow.log_metric(\"roc_auc\", roc_auc_lod)\n",
    "    mlflow.log_metric(\"precision\", precision_lod)\n",
    "    mlflow.log_metric(\"recall\", recall_lod)\n",
    "    mlflow.log_metric(\"brier_score\", brier_score_lod)\n",
    "\n",
    "\n",
    "    # Log the timestamp\n",
    "    mlflow.log_param(\"created_at\", ts)\n",
    "\n",
    "print('done.')"
   ]
  },
  {
   "cell_type": "code",
   "execution_count": 290,
   "metadata": {},
   "outputs": [
    {
     "name": "stdout",
     "output_type": "stream",
     "text": [
      "ROC AUC Score: 0.9207720012347043\n",
      "Precision Score: 0.843229389149936\n",
      "Recall Score: 0.8730650154798761\n",
      "Brier Score: 0.11174408871679298\n",
      "done.\n"
     ]
    }
   ],
   "source": [
    "from sklearn.metrics import roc_auc_score, precision_score, recall_score\n",
    "import mlflow\n",
    "\n",
    "# Metrics for HOD model\n",
    "y_pred_gd = gd_model.predict_proba(X_test)[:,-1]\n",
    "\n",
    "roc_auc_gd = roc_auc_score(y_test['green_day'], y_pred_gd)\n",
    "precision_gd = precision_score(y_test['green_day'], y_pred_gd > 0.5)\n",
    "recall_gd = recall_score(y_test['green_day'], y_pred_gd > 0.5)\n",
    "brier_score_gd = brier_score_loss(y_test['green_day'], y_pred_gd)\n",
    "\n",
    "print(f\"ROC AUC Score: {roc_auc_gd}\")\n",
    "print(f\"Precision Score: {precision_gd}\")\n",
    "print(f\"Recall Score: {recall_gd}\")\n",
    "print(f\"Brier Score: {brier_score_gd}\")\n",
    "\n",
    "train_start = X_train.index.date.min()\n",
    "train_end = X_train.index.date.max()\n",
    "test_start = X_test.index.date.min()\n",
    "test_end = X_test.index.date.max()\n",
    "train_size = len(X_train)\n",
    "test_size = len(X_test)\n",
    "\n",
    "# Start a new MLFlow run\n",
    "with mlflow.start_run():\n",
    "\n",
    "    ts = datetime.datetime.now()\n",
    "\n",
    "    mlflow.set_tag(f\"mlflow.runName\", f\"{tck} GD Model {ts.hour:02}:{ts.minute:02}:{ts.second:02}\")\n",
    "\n",
    "    # Log the model\n",
    "    mlflow.log_param(\"model\", str(gd_model.named_steps))\n",
    "\n",
    "    # Log the features\n",
    "    mlflow.log_param(\"features\", gd_model.feature_names_in_)\n",
    "    mlflow.log_param(\"train_date_range\", f\"{train_start} to {train_end}\")\n",
    "    mlflow.log_param(\"test_date_range\", f\"{test_start} to {test_end}\")\n",
    "    mlflow.log_param(\"train_size\", train_size)\n",
    "    mlflow.log_param(\"test_size\", test_size)\n",
    "\n",
    "    # Assume y_test and y_pred are your test labels and model predictions\n",
    "    # Calculate scores\n",
    "\n",
    "    # Log the scores\n",
    "    mlflow.log_metric(\"roc_auc\", roc_auc_gd)\n",
    "    mlflow.log_metric(\"precision\", precision_gd)\n",
    "    mlflow.log_metric(\"recall\", recall_gd)\n",
    "    mlflow.log_metric(\"brier_score\", brier_score_gd)\n",
    "\n",
    "    # Log the timestamp\n",
    "    mlflow.log_param(\"created_at\", ts)\n",
    "\n",
    "print('done.')"
   ]
  },
  {
   "cell_type": "markdown",
   "metadata": {},
   "source": [
    "### CV"
   ]
  },
  {
   "cell_type": "code",
   "execution_count": 291,
   "metadata": {},
   "outputs": [
    {
     "name": "stdout",
     "output_type": "stream",
     "text": [
      "Couldn't find program: 'false'\n"
     ]
    }
   ],
   "source": [
    "%%script false --no-raise-error\n",
    "\n",
    "from sklearn.metrics import roc_auc_score, precision_score, recall_score\n",
    "import mlflow\n",
    "from sklearn.model_selection import TimeSeriesSplit\n",
    "\n",
    "# Create 5 splits\n",
    "tscv = TimeSeriesSplit(n_splits=10)\n",
    "\n",
    "# Get the dates\n",
    "dates = X.index.date\n",
    "\n",
    "# Initialize lists to store scores for each split\n",
    "roc_auc_scores = []\n",
    "precision_scores = []\n",
    "recall_scores = []\n",
    "\n",
    "with mlflow.start_run():\n",
    "\n",
    "    # Loop over the splits\n",
    "    for train_index, test_index in tscv.split(dates):\n",
    "        # Find the end of the last complete day in the test set\n",
    "        last_day = np.unique(dates[test_index])[-2]  # -2 to get the second to last day\n",
    "        test_index = test_index[dates[test_index] <= last_day]  # only keep days in test set up to the last complete day\n",
    "\n",
    "        # Split the data\n",
    "        X_train, X_test = X.iloc[train_index], X.iloc[test_index]\n",
    "        y_train, y_test = y_flags.iloc[train_index], y_flags.iloc[test_index]\n",
    "\n",
    "        # Fit the model on the training data\n",
    "        model = pipeline.fit(X_train, y_train['hod_in'])\n",
    "\n",
    "        # Predict the test data\n",
    "        y_pred = model.predict_proba(X_test)[:,-1]\n",
    "\n",
    "        # Calculate the scores\n",
    "        roc_auc = roc_auc_score(y_test['hod_in'], y_pred)\n",
    "        precision = precision_score(y_test['hod_in'], y_pred > 0.5)\n",
    "        recall = recall_score(y_test['hod_in'], y_pred > 0.5)\n",
    "\n",
    "        # Store the scores\n",
    "        roc_auc_scores.append(roc_auc)\n",
    "        precision_scores.append(precision)\n",
    "        recall_scores.append(recall)\n",
    "\n",
    "\n",
    "    roc_auc_hod = np.mean(roc_auc_scores)\n",
    "    precision_hod = np.mean(precision_scores)\n",
    "    recall_hod = np.mean(recall_scores)\n",
    "\n",
    "    # Print the average scores\n",
    "    print(f\"Average ROC AUC Score: {roc_auc_hod:.03} (+/- {np.std(roc_auc_scores):.02})\")\n",
    "    print(f\"Average Precision Score: {precision_hod:.03} (+/- {np.std(precision_scores):.02})\")\n",
    "    print(f\"Average Recall Score: {recall_hod:.03} (+/- {np.std(recall_scores):.02})\")\n",
    "\n",
    "    ts = datetime.datetime.now()\n",
    "\n",
    "    mlflow.set_tag(f\"mlflow.runName\", f\"{tck} HOD Model CV {ts.hour:02}:{ts.minute:02}:{ts.second:02}\")\n",
    "\n",
    "    # Log the model\n",
    "    mlflow.log_param(\"model\", str(hod_model.named_steps))\n",
    "\n",
    "    # Log the features\n",
    "    mlflow.log_param(\"features\", hod_model.feature_names_in_)\n",
    "    mlflow.log_param(\"train_date_range\", f\"{train_start} to {train_end}\")\n",
    "    mlflow.log_param(\"test_date_range\", f\"{test_start} to {test_end}\")\n",
    "    mlflow.log_param(\"train_size\", train_size)\n",
    "    mlflow.log_param(\"test_size\", test_size)\n",
    "\n",
    "    # Assume y_test and y_pred are your test labels and model predictions\n",
    "    # Calculate scores\n",
    "\n",
    "    # Log the scores\n",
    "    mlflow.log_metric(\"roc_auc\", roc_auc_hod)\n",
    "    mlflow.log_metric(\"precision\", precision_hod)\n",
    "    mlflow.log_metric(\"recall\", recall_hod)\n",
    "\n",
    "    # Log the timestamp\n",
    "    mlflow.log_param(\"created_at\", ts)\n",
    "\n",
    "print('done.')"
   ]
  },
  {
   "cell_type": "code",
   "execution_count": 292,
   "metadata": {},
   "outputs": [
    {
     "name": "stdout",
     "output_type": "stream",
     "text": [
      "Couldn't find program: 'false'\n"
     ]
    }
   ],
   "source": [
    "%%script false --no-raise-error\n",
    "from sklearn.metrics import roc_auc_score, precision_score, recall_score\n",
    "\n",
    "# Initialize lists to store scores for each split\n",
    "roc_auc_scores = []\n",
    "precision_scores = []\n",
    "recall_scores = []\n",
    "\n",
    "with mlflow.start_run():\n",
    "\n",
    "    # Loop over the splits\n",
    "    for train_index, test_index in tscv.split(dates):\n",
    "        # Find the end of the last complete day in the test set\n",
    "        last_day = np.unique(dates[test_index])[-2]  # -2 to get the second to last day\n",
    "        test_index = test_index[dates[test_index] <= last_day]  # only keep days in test set up to the last complete day\n",
    "\n",
    "        # Split the data\n",
    "        X_train, X_test = X.iloc[train_index], X.iloc[test_index]\n",
    "        y_train, y_test = y_flags.iloc[train_index], y_flags.iloc[test_index]\n",
    "\n",
    "        # Fit the model on the training data\n",
    "        model = pipeline_lod.fit(X_train, y_train['lod_in'])\n",
    "\n",
    "        # Predict the test data\n",
    "        y_pred = model.predict_proba(X_test)[:,-1]\n",
    "\n",
    "        # Calculate the scores\n",
    "        roc_auc = roc_auc_score(y_test['lod_in'], y_pred)\n",
    "        precision = precision_score(y_test['lod_in'], y_pred > 0.5)\n",
    "        recall = recall_score(y_test['lod_in'], y_pred > 0.5)\n",
    "\n",
    "        # Store the scores\n",
    "        roc_auc_scores.append(roc_auc)\n",
    "        precision_scores.append(precision)\n",
    "        recall_scores.append(recall)\n",
    "\n",
    "\n",
    "    roc_auc_lod = np.mean(roc_auc_scores)\n",
    "    precision_lod = np.mean(precision_scores)\n",
    "    recall_lod = np.mean(recall_scores)\n",
    "\n",
    "    # Print the average scores\n",
    "    print(f\"Average ROC AUC Score: {roc_auc_hod:.03} (+/- {np.std(roc_auc_scores):.02})\")\n",
    "    print(f\"Average Precision Score: {precision_hod:.03} (+/- {np.std(precision_scores):.02})\")\n",
    "    print(f\"Average Recall Score: {recall_hod:.03} (+/- {np.std(recall_scores):.02})\")\n",
    "\n",
    "    ts = datetime.datetime.now()\n",
    "\n",
    "    mlflow.set_tag(f\"mlflow.runName\", f\"{tck} LOD Model CV {ts.hour:02}:{ts.minute:02}:{ts.second:02}\")\n",
    "\n",
    "    # Log the model\n",
    "    mlflow.log_param(\"model\", str(lod_model.named_steps))\n",
    "\n",
    "    # Log the features\n",
    "    mlflow.log_param(\"features\", lod_model.feature_names_in_)\n",
    "    mlflow.log_param(\"train_date_range\", f\"{train_start} to {train_end}\")\n",
    "    mlflow.log_param(\"test_date_range\", f\"{test_start} to {test_end}\")\n",
    "    mlflow.log_param(\"train_size\", train_size)\n",
    "    mlflow.log_param(\"test_size\", test_size)\n",
    "\n",
    "    # Assume y_test and y_pred are your test labels and model predictions\n",
    "    # Calculate scores\n",
    "\n",
    "    # Log the scores\n",
    "    mlflow.log_metric(\"roc_auc\", roc_auc_lod)\n",
    "    mlflow.log_metric(\"precision\", precision_lod)\n",
    "    mlflow.log_metric(\"recall\", recall_lod)\n",
    "\n",
    "    # Log the timestamp\n",
    "    mlflow.log_param(\"created_at\", ts)\n",
    "\n",
    "print('done.')"
   ]
  },
  {
   "cell_type": "code",
   "execution_count": 293,
   "metadata": {},
   "outputs": [
    {
     "name": "stdout",
     "output_type": "stream",
     "text": [
      "Couldn't find program: 'false'\n"
     ]
    }
   ],
   "source": [
    "%%script false --no-raise-error\n",
    "from sklearn.metrics import roc_auc_score, precision_score, recall_score\n",
    "\n",
    "# Initialize lists to store scores for each split\n",
    "roc_auc_scores = []\n",
    "precision_scores = []\n",
    "recall_scores = []\n",
    "\n",
    "with mlflow.start_run():\n",
    "\n",
    "    # Loop over the splits\n",
    "    for train_index, test_index in tscv.split(dates):\n",
    "        # Find the end of the last complete day in the test set\n",
    "        last_day = np.unique(dates[test_index])[-2]  # -2 to get the second to last day\n",
    "        test_index = test_index[dates[test_index] <= last_day]  # only keep days in test set up to the last complete day\n",
    "\n",
    "        # Split the data\n",
    "        X_train, X_test = X.iloc[train_index], X.iloc[test_index]\n",
    "        y_train, y_test = y_flags.iloc[train_index], y_flags.iloc[test_index]\n",
    "\n",
    "        # Fit the model on the training data\n",
    "        model = pipeline_gd.fit(X_train, y_train['green_day'])\n",
    "\n",
    "        # Predict the test data\n",
    "        y_pred = model.predict_proba(X_test)[:,-1]\n",
    "\n",
    "        # Calculate the scores\n",
    "        roc_auc = roc_auc_score(y_test['green_day'], y_pred)\n",
    "        precision = precision_score(y_test['green_day'], y_pred > 0.5)\n",
    "        recall = recall_score(y_test['green_day'], y_pred > 0.5)\n",
    "\n",
    "        # Store the scores\n",
    "        roc_auc_scores.append(roc_auc)\n",
    "        precision_scores.append(precision)\n",
    "        recall_scores.append(recall)\n",
    "\n",
    "\n",
    "    roc_auc_gd = np.mean(roc_auc_scores)\n",
    "    precision_gd = np.mean(precision_scores)\n",
    "    recall_gd = np.mean(recall_scores)\n",
    "\n",
    "    # Print the average scores\n",
    "    print(f\"Average ROC AUC Score: {roc_auc_hod:.03} (+/- {np.std(roc_auc_scores):.02})\")\n",
    "    print(f\"Average Precision Score: {precision_hod:.03} (+/- {np.std(precision_scores):.02})\")\n",
    "    print(f\"Average Recall Score: {recall_hod:.03} (+/- {np.std(recall_scores):.02})\")\n",
    "\n",
    "    ts = datetime.datetime.now()\n",
    "\n",
    "    mlflow.set_tag(f\"mlflow.runName\", f\"{tck} GD Model CV {ts.hour:02}:{ts.minute:02}:{ts.second:02}\")\n",
    "\n",
    "    # Log the model\n",
    "    mlflow.log_param(\"model\", str(gd_model.named_steps))\n",
    "\n",
    "    # Log the features\n",
    "    mlflow.log_param(\"features\", gd_model.feature_names_in_)\n",
    "    mlflow.log_param(\"train_date_range\", f\"{train_start} to {train_end}\")\n",
    "    mlflow.log_param(\"test_date_range\", f\"{test_start} to {test_end}\")\n",
    "    mlflow.log_param(\"train_size\", train_size)\n",
    "    mlflow.log_param(\"test_size\", test_size)\n",
    "\n",
    "    # Assume y_test and y_pred are your test labels and model predictions\n",
    "    # Calculate scores\n",
    "\n",
    "    # Log the scores\n",
    "    mlflow.log_metric(\"roc_auc\", roc_auc_gd)\n",
    "    mlflow.log_metric(\"precision\", precision_gd)\n",
    "    mlflow.log_metric(\"recall\", recall_gd)\n",
    "\n",
    "    # Log the timestamp\n",
    "    mlflow.log_param(\"created_at\", ts)\n",
    "\n",
    "print('done.')"
   ]
  },
  {
   "cell_type": "code",
   "execution_count": 294,
   "metadata": {},
   "outputs": [],
   "source": [
    "# feature_names = pipeline.feature_names_in_\n",
    "# coefficients = pipeline.named_steps['classifier'].feature_importances_\n",
    "# # coefficients = pipeline.named_steps['classifier'].coef_[0]\n",
    "# for feature, coef in zip(feature_names, coefficients):\n",
    "#     print(f\"{feature}: {coef}\")"
   ]
  },
  {
   "cell_type": "code",
   "execution_count": 295,
   "metadata": {},
   "outputs": [
    {
     "data": {
      "application/vnd.plotly.v1+json": {
       "config": {
        "plotlyServerURL": "https://plot.ly"
       },
       "data": [
        {
         "hovertemplate": "variable=roc_auc<br>index=%{x}<br>value=%{y}<extra></extra>",
         "legendgroup": "roc_auc",
         "line": {
          "color": "#636efa",
          "dash": "solid"
         },
         "marker": {
          "symbol": "circle"
         },
         "mode": "lines",
         "name": "roc_auc",
         "orientation": "v",
         "showlegend": true,
         "type": "scatter",
         "x": [
          "09:45:00",
          "09:50:00",
          "09:55:00",
          "10:00:00",
          "10:05:00",
          "10:10:00",
          "10:15:00",
          "10:20:00",
          "10:25:00",
          "10:30:00",
          "10:35:00",
          "10:40:00",
          "10:45:00",
          "10:50:00",
          "10:55:00",
          "11:00:00",
          "11:05:00",
          "11:10:00",
          "11:15:00",
          "11:20:00",
          "11:25:00",
          "11:30:00",
          "11:35:00",
          "11:40:00",
          "11:45:00",
          "11:50:00",
          "11:55:00",
          "12:00:00",
          "12:05:00",
          "12:10:00",
          "12:15:00",
          "12:20:00",
          "12:25:00",
          "12:30:00",
          "12:35:00",
          "12:40:00",
          "12:45:00",
          "12:50:00",
          "12:55:00",
          "13:00:00",
          "13:05:00",
          "13:10:00",
          "13:15:00",
          "13:20:00",
          "13:25:00",
          "13:30:00",
          "13:35:00",
          "13:40:00",
          "13:45:00",
          "13:50:00",
          "13:55:00",
          "14:00:00",
          "14:05:00",
          "14:10:00",
          "14:15:00",
          "14:20:00",
          "14:25:00",
          "14:30:00",
          "14:35:00",
          "14:40:00",
          "14:45:00",
          "14:50:00",
          "14:55:00",
          "15:00:00",
          "15:05:00",
          "15:10:00",
          "15:15:00",
          "15:20:00",
          "15:25:00",
          "15:30:00",
          "15:35:00",
          "15:40:00",
          "15:45:00",
          "15:50:00",
          "15:55:00"
         ],
         "xaxis": "x",
         "y": [
          0.7794291106393016,
          0.7717178869848462,
          0.7769791184425331,
          0.7852395569197919,
          0.7897429467084639,
          0.7976963099198257,
          0.8049260059860327,
          0.8054819091041647,
          0.8081517756258012,
          0.8118791227821596,
          0.8138073777898256,
          0.8173997251451744,
          0.8227611812496147,
          0.8257110782292584,
          0.8285950299442418,
          0.8311209612439452,
          0.8326339798725493,
          0.8345824551852407,
          0.8360896866002163,
          0.8372720728661325,
          0.8387895667043113,
          0.8409829230011511,
          0.843312896609429,
          0.845515333198233,
          0.8484201101666634,
          0.8507134417425524,
          0.8531015733104906,
          0.854871469460623,
          0.8558722718501904,
          0.8564873338953464,
          0.8573077036048625,
          0.8578262518100482,
          0.8581540822616287,
          0.8584324301091212,
          0.8589212182494887,
          0.8589897561707746,
          0.8594084532481191,
          0.8598838713557861,
          0.8604117585770634,
          0.8612165477413845,
          0.8619145998845248,
          0.8627296788494795,
          0.8631835429426961,
          0.8635638258743594,
          0.8642997133186241,
          0.86505958757704,
          0.8659992696436611,
          0.8670350731109486,
          0.8677859456751489,
          0.8683426449578217,
          0.8690385957872175,
          0.8699958230933912,
          0.8708509828709076,
          0.8714299915233812,
          0.8723604358259678,
          0.8730981282897897,
          0.8738428508253406,
          0.8748264290952991,
          0.8759544061023854,
          0.8771146771009664,
          0.8781537477982025,
          0.8792461544730212,
          0.8799402148436157,
          0.8807326056278104,
          0.8814190200308499,
          0.8819637542805935,
          0.8827443024640316,
          0.8834174982205931,
          0.8841478804026506,
          0.8847510178183053,
          0.8857369674256936,
          0.8869239364055069,
          0.8882692258870741,
          0.8898477386463418,
          0.8923717845429445
         ],
         "yaxis": "y"
        },
        {
         "hovertemplate": "variable=precision<br>index=%{x}<br>value=%{y}<extra></extra>",
         "legendgroup": "precision",
         "line": {
          "color": "#EF553B",
          "dash": "solid"
         },
         "marker": {
          "symbol": "circle"
         },
         "mode": "lines",
         "name": "precision",
         "orientation": "v",
         "showlegend": true,
         "type": "scatter",
         "x": [
          "09:45:00",
          "09:50:00",
          "09:55:00",
          "10:00:00",
          "10:05:00",
          "10:10:00",
          "10:15:00",
          "10:20:00",
          "10:25:00",
          "10:30:00",
          "10:35:00",
          "10:40:00",
          "10:45:00",
          "10:50:00",
          "10:55:00",
          "11:00:00",
          "11:05:00",
          "11:10:00",
          "11:15:00",
          "11:20:00",
          "11:25:00",
          "11:30:00",
          "11:35:00",
          "11:40:00",
          "11:45:00",
          "11:50:00",
          "11:55:00",
          "12:00:00",
          "12:05:00",
          "12:10:00",
          "12:15:00",
          "12:20:00",
          "12:25:00",
          "12:30:00",
          "12:35:00",
          "12:40:00",
          "12:45:00",
          "12:50:00",
          "12:55:00",
          "13:00:00",
          "13:05:00",
          "13:10:00",
          "13:15:00",
          "13:20:00",
          "13:25:00",
          "13:30:00",
          "13:35:00",
          "13:40:00",
          "13:45:00",
          "13:50:00",
          "13:55:00",
          "14:00:00",
          "14:05:00",
          "14:10:00",
          "14:15:00",
          "14:20:00",
          "14:25:00",
          "14:30:00",
          "14:35:00",
          "14:40:00",
          "14:45:00",
          "14:50:00",
          "14:55:00",
          "15:00:00",
          "15:05:00",
          "15:10:00",
          "15:15:00",
          "15:20:00",
          "15:25:00",
          "15:30:00",
          "15:35:00",
          "15:40:00",
          "15:45:00",
          "15:50:00",
          "15:55:00"
         ],
         "xaxis": "x",
         "y": [
          0.8333333333333334,
          0.7058823529411765,
          0.7368421052631579,
          0.7216494845360825,
          0.7183098591549296,
          0.7216494845360825,
          0.724,
          0.7427652733118971,
          0.7401574803149606,
          0.7450549450549451,
          0.7490566037735849,
          0.7495908346972177,
          0.7569141193595342,
          0.7545454545454545,
          0.7535046728971962,
          0.7555791710945803,
          0.7560738581146744,
          0.7555953446732319,
          0.7555739058629232,
          0.7576687116564417,
          0.7601713062098501,
          0.7620320855614974,
          0.7650753768844221,
          0.768141592920354,
          0.7711581291759465,
          0.7742105263157895,
          0.7760079641612743,
          0.778932451582428,
          0.7803780378037803,
          0.780968709815688,
          0.7811351572070233,
          0.7814569536423841,
          0.7820417287630402,
          0.7830593280914939,
          0.78360768175583,
          0.7850313221233103,
          0.7870988242770893,
          0.7888446215139442,
          0.7907664989641906,
          0.7925121463275222,
          0.7946946670350926,
          0.7964696442899171,
          0.7988595127008813,
          0.8003515821195379,
          0.8015099853872382,
          0.8028368794326242,
          0.8041331802525833,
          0.8063435336162609,
          0.8082191780821918,
          0.8096951735817104,
          0.8114179719703215,
          0.8132905039148766,
          0.814945226917058,
          0.8164665523156089,
          0.8176415970287837,
          0.8190717911530094,
          0.8205809422600071,
          0.822429906542056,
          0.8242946443656023,
          0.82596502804355,
          0.8277974846823605,
          0.8298912186662463,
          0.8318952234206471,
          0.8337098960686851,
          0.83532184415967,
          0.837272989334102,
          0.8396159819285614,
          0.8415745856353591,
          0.8433360367666937,
          0.8456144992723905,
          0.8475168132436627,
          0.8497343789526941,
          0.8520256916996047,
          0.8544227524704748,
          0.8579992946984836
         ],
         "yaxis": "y"
        },
        {
         "hovertemplate": "variable=recall<br>index=%{x}<br>value=%{y}<extra></extra>",
         "legendgroup": "recall",
         "line": {
          "color": "#00cc96",
          "dash": "solid"
         },
         "marker": {
          "symbol": "circle"
         },
         "mode": "lines",
         "name": "recall",
         "orientation": "v",
         "showlegend": true,
         "type": "scatter",
         "x": [
          "09:45:00",
          "09:50:00",
          "09:55:00",
          "10:00:00",
          "10:05:00",
          "10:10:00",
          "10:15:00",
          "10:20:00",
          "10:25:00",
          "10:30:00",
          "10:35:00",
          "10:40:00",
          "10:45:00",
          "10:50:00",
          "10:55:00",
          "11:00:00",
          "11:05:00",
          "11:10:00",
          "11:15:00",
          "11:20:00",
          "11:25:00",
          "11:30:00",
          "11:35:00",
          "11:40:00",
          "11:45:00",
          "11:50:00",
          "11:55:00",
          "12:00:00",
          "12:05:00",
          "12:10:00",
          "12:15:00",
          "12:20:00",
          "12:25:00",
          "12:30:00",
          "12:35:00",
          "12:40:00",
          "12:45:00",
          "12:50:00",
          "12:55:00",
          "13:00:00",
          "13:05:00",
          "13:10:00",
          "13:15:00",
          "13:20:00",
          "13:25:00",
          "13:30:00",
          "13:35:00",
          "13:40:00",
          "13:45:00",
          "13:50:00",
          "13:55:00",
          "14:00:00",
          "14:05:00",
          "14:10:00",
          "14:15:00",
          "14:20:00",
          "14:25:00",
          "14:30:00",
          "14:35:00",
          "14:40:00",
          "14:45:00",
          "14:50:00",
          "14:55:00",
          "15:00:00",
          "15:05:00",
          "15:10:00",
          "15:15:00",
          "15:20:00",
          "15:25:00",
          "15:30:00",
          "15:35:00",
          "15:40:00",
          "15:45:00",
          "15:50:00",
          "15:55:00"
         ],
         "xaxis": "x",
         "y": [
          0.18518518518518517,
          0.20869565217391303,
          0.23076923076923078,
          0.2755905511811024,
          0.3090909090909091,
          0.343980343980344,
          0.3731958762886598,
          0.404553415061296,
          0.4292237442922374,
          0.45564516129032256,
          0.4765906362545018,
          0.4967462039045553,
          0.5138339920948617,
          0.5267452402538532,
          0.5402010050251256,
          0.553307392996109,
          0.5645863570391872,
          0.5733695652173914,
          0.583918315252074,
          0.5941070354780517,
          0.6047700170357752,
          0.6125738850080602,
          0.6207951070336392,
          0.6305084745762712,
          0.6388376383763837,
          0.6474471830985915,
          0.6558687421119057,
          0.6638486312399355,
          0.6687234863092942,
          0.6743153219837158,
          0.680298719772404,
          0.686046511627907,
          0.6909150757077024,
          0.6944532488114105,
          0.6983496332518337,
          0.7023598820058997,
          0.7058991165574238,
          0.7092863047671535,
          0.7125333333333334,
          0.7161673553719008,
          0.7197197197197197,
          0.7226401358893473,
          0.7253471405036479,
          0.7279579716765646,
          0.7305216426193119,
          0.7330023742715304,
          0.7354052918941621,
          0.7379394930498774,
          0.7399960183157476,
          0.7419980601357905,
          0.7445158850226928,
          0.7470035035957957,
          0.7495501979129183,
          0.7522388059701492,
          0.7547137470003428,
          0.7564038171772979,
          0.7580170157068062,
          0.7600767754318618,
          0.7630591179230528,
          0.7657134118366723,
          0.7677583370719306,
          0.7699283311393886,
          0.772057772057772,
          0.7740176199132989,
          0.7756804814662837,
          0.777019796682718,
          0.7778940483976455,
          0.7794550339004733,
          0.7808510638297872,
          0.7825661116552399,
          0.7850724811309453,
          0.7875732708089097,
          0.7913272914993691,
          0.795556552962298,
          0.8002412016226291
         ],
         "yaxis": "y"
        }
       ],
       "layout": {
        "legend": {
         "title": {
          "text": "variable"
         },
         "tracegroupgap": 0
        },
        "template": {
         "data": {
          "bar": [
           {
            "error_x": {
             "color": "#2a3f5f"
            },
            "error_y": {
             "color": "#2a3f5f"
            },
            "marker": {
             "line": {
              "color": "#E5ECF6",
              "width": 0.5
             },
             "pattern": {
              "fillmode": "overlay",
              "size": 10,
              "solidity": 0.2
             }
            },
            "type": "bar"
           }
          ],
          "barpolar": [
           {
            "marker": {
             "line": {
              "color": "#E5ECF6",
              "width": 0.5
             },
             "pattern": {
              "fillmode": "overlay",
              "size": 10,
              "solidity": 0.2
             }
            },
            "type": "barpolar"
           }
          ],
          "carpet": [
           {
            "aaxis": {
             "endlinecolor": "#2a3f5f",
             "gridcolor": "white",
             "linecolor": "white",
             "minorgridcolor": "white",
             "startlinecolor": "#2a3f5f"
            },
            "baxis": {
             "endlinecolor": "#2a3f5f",
             "gridcolor": "white",
             "linecolor": "white",
             "minorgridcolor": "white",
             "startlinecolor": "#2a3f5f"
            },
            "type": "carpet"
           }
          ],
          "choropleth": [
           {
            "colorbar": {
             "outlinewidth": 0,
             "ticks": ""
            },
            "type": "choropleth"
           }
          ],
          "contour": [
           {
            "colorbar": {
             "outlinewidth": 0,
             "ticks": ""
            },
            "colorscale": [
             [
              0,
              "#0d0887"
             ],
             [
              0.1111111111111111,
              "#46039f"
             ],
             [
              0.2222222222222222,
              "#7201a8"
             ],
             [
              0.3333333333333333,
              "#9c179e"
             ],
             [
              0.4444444444444444,
              "#bd3786"
             ],
             [
              0.5555555555555556,
              "#d8576b"
             ],
             [
              0.6666666666666666,
              "#ed7953"
             ],
             [
              0.7777777777777778,
              "#fb9f3a"
             ],
             [
              0.8888888888888888,
              "#fdca26"
             ],
             [
              1,
              "#f0f921"
             ]
            ],
            "type": "contour"
           }
          ],
          "contourcarpet": [
           {
            "colorbar": {
             "outlinewidth": 0,
             "ticks": ""
            },
            "type": "contourcarpet"
           }
          ],
          "heatmap": [
           {
            "colorbar": {
             "outlinewidth": 0,
             "ticks": ""
            },
            "colorscale": [
             [
              0,
              "#0d0887"
             ],
             [
              0.1111111111111111,
              "#46039f"
             ],
             [
              0.2222222222222222,
              "#7201a8"
             ],
             [
              0.3333333333333333,
              "#9c179e"
             ],
             [
              0.4444444444444444,
              "#bd3786"
             ],
             [
              0.5555555555555556,
              "#d8576b"
             ],
             [
              0.6666666666666666,
              "#ed7953"
             ],
             [
              0.7777777777777778,
              "#fb9f3a"
             ],
             [
              0.8888888888888888,
              "#fdca26"
             ],
             [
              1,
              "#f0f921"
             ]
            ],
            "type": "heatmap"
           }
          ],
          "heatmapgl": [
           {
            "colorbar": {
             "outlinewidth": 0,
             "ticks": ""
            },
            "colorscale": [
             [
              0,
              "#0d0887"
             ],
             [
              0.1111111111111111,
              "#46039f"
             ],
             [
              0.2222222222222222,
              "#7201a8"
             ],
             [
              0.3333333333333333,
              "#9c179e"
             ],
             [
              0.4444444444444444,
              "#bd3786"
             ],
             [
              0.5555555555555556,
              "#d8576b"
             ],
             [
              0.6666666666666666,
              "#ed7953"
             ],
             [
              0.7777777777777778,
              "#fb9f3a"
             ],
             [
              0.8888888888888888,
              "#fdca26"
             ],
             [
              1,
              "#f0f921"
             ]
            ],
            "type": "heatmapgl"
           }
          ],
          "histogram": [
           {
            "marker": {
             "pattern": {
              "fillmode": "overlay",
              "size": 10,
              "solidity": 0.2
             }
            },
            "type": "histogram"
           }
          ],
          "histogram2d": [
           {
            "colorbar": {
             "outlinewidth": 0,
             "ticks": ""
            },
            "colorscale": [
             [
              0,
              "#0d0887"
             ],
             [
              0.1111111111111111,
              "#46039f"
             ],
             [
              0.2222222222222222,
              "#7201a8"
             ],
             [
              0.3333333333333333,
              "#9c179e"
             ],
             [
              0.4444444444444444,
              "#bd3786"
             ],
             [
              0.5555555555555556,
              "#d8576b"
             ],
             [
              0.6666666666666666,
              "#ed7953"
             ],
             [
              0.7777777777777778,
              "#fb9f3a"
             ],
             [
              0.8888888888888888,
              "#fdca26"
             ],
             [
              1,
              "#f0f921"
             ]
            ],
            "type": "histogram2d"
           }
          ],
          "histogram2dcontour": [
           {
            "colorbar": {
             "outlinewidth": 0,
             "ticks": ""
            },
            "colorscale": [
             [
              0,
              "#0d0887"
             ],
             [
              0.1111111111111111,
              "#46039f"
             ],
             [
              0.2222222222222222,
              "#7201a8"
             ],
             [
              0.3333333333333333,
              "#9c179e"
             ],
             [
              0.4444444444444444,
              "#bd3786"
             ],
             [
              0.5555555555555556,
              "#d8576b"
             ],
             [
              0.6666666666666666,
              "#ed7953"
             ],
             [
              0.7777777777777778,
              "#fb9f3a"
             ],
             [
              0.8888888888888888,
              "#fdca26"
             ],
             [
              1,
              "#f0f921"
             ]
            ],
            "type": "histogram2dcontour"
           }
          ],
          "mesh3d": [
           {
            "colorbar": {
             "outlinewidth": 0,
             "ticks": ""
            },
            "type": "mesh3d"
           }
          ],
          "parcoords": [
           {
            "line": {
             "colorbar": {
              "outlinewidth": 0,
              "ticks": ""
             }
            },
            "type": "parcoords"
           }
          ],
          "pie": [
           {
            "automargin": true,
            "type": "pie"
           }
          ],
          "scatter": [
           {
            "fillpattern": {
             "fillmode": "overlay",
             "size": 10,
             "solidity": 0.2
            },
            "type": "scatter"
           }
          ],
          "scatter3d": [
           {
            "line": {
             "colorbar": {
              "outlinewidth": 0,
              "ticks": ""
             }
            },
            "marker": {
             "colorbar": {
              "outlinewidth": 0,
              "ticks": ""
             }
            },
            "type": "scatter3d"
           }
          ],
          "scattercarpet": [
           {
            "marker": {
             "colorbar": {
              "outlinewidth": 0,
              "ticks": ""
             }
            },
            "type": "scattercarpet"
           }
          ],
          "scattergeo": [
           {
            "marker": {
             "colorbar": {
              "outlinewidth": 0,
              "ticks": ""
             }
            },
            "type": "scattergeo"
           }
          ],
          "scattergl": [
           {
            "marker": {
             "colorbar": {
              "outlinewidth": 0,
              "ticks": ""
             }
            },
            "type": "scattergl"
           }
          ],
          "scattermapbox": [
           {
            "marker": {
             "colorbar": {
              "outlinewidth": 0,
              "ticks": ""
             }
            },
            "type": "scattermapbox"
           }
          ],
          "scatterpolar": [
           {
            "marker": {
             "colorbar": {
              "outlinewidth": 0,
              "ticks": ""
             }
            },
            "type": "scatterpolar"
           }
          ],
          "scatterpolargl": [
           {
            "marker": {
             "colorbar": {
              "outlinewidth": 0,
              "ticks": ""
             }
            },
            "type": "scatterpolargl"
           }
          ],
          "scatterternary": [
           {
            "marker": {
             "colorbar": {
              "outlinewidth": 0,
              "ticks": ""
             }
            },
            "type": "scatterternary"
           }
          ],
          "surface": [
           {
            "colorbar": {
             "outlinewidth": 0,
             "ticks": ""
            },
            "colorscale": [
             [
              0,
              "#0d0887"
             ],
             [
              0.1111111111111111,
              "#46039f"
             ],
             [
              0.2222222222222222,
              "#7201a8"
             ],
             [
              0.3333333333333333,
              "#9c179e"
             ],
             [
              0.4444444444444444,
              "#bd3786"
             ],
             [
              0.5555555555555556,
              "#d8576b"
             ],
             [
              0.6666666666666666,
              "#ed7953"
             ],
             [
              0.7777777777777778,
              "#fb9f3a"
             ],
             [
              0.8888888888888888,
              "#fdca26"
             ],
             [
              1,
              "#f0f921"
             ]
            ],
            "type": "surface"
           }
          ],
          "table": [
           {
            "cells": {
             "fill": {
              "color": "#EBF0F8"
             },
             "line": {
              "color": "white"
             }
            },
            "header": {
             "fill": {
              "color": "#C8D4E3"
             },
             "line": {
              "color": "white"
             }
            },
            "type": "table"
           }
          ]
         },
         "layout": {
          "annotationdefaults": {
           "arrowcolor": "#2a3f5f",
           "arrowhead": 0,
           "arrowwidth": 1
          },
          "autotypenumbers": "strict",
          "coloraxis": {
           "colorbar": {
            "outlinewidth": 0,
            "ticks": ""
           }
          },
          "colorscale": {
           "diverging": [
            [
             0,
             "#8e0152"
            ],
            [
             0.1,
             "#c51b7d"
            ],
            [
             0.2,
             "#de77ae"
            ],
            [
             0.3,
             "#f1b6da"
            ],
            [
             0.4,
             "#fde0ef"
            ],
            [
             0.5,
             "#f7f7f7"
            ],
            [
             0.6,
             "#e6f5d0"
            ],
            [
             0.7,
             "#b8e186"
            ],
            [
             0.8,
             "#7fbc41"
            ],
            [
             0.9,
             "#4d9221"
            ],
            [
             1,
             "#276419"
            ]
           ],
           "sequential": [
            [
             0,
             "#0d0887"
            ],
            [
             0.1111111111111111,
             "#46039f"
            ],
            [
             0.2222222222222222,
             "#7201a8"
            ],
            [
             0.3333333333333333,
             "#9c179e"
            ],
            [
             0.4444444444444444,
             "#bd3786"
            ],
            [
             0.5555555555555556,
             "#d8576b"
            ],
            [
             0.6666666666666666,
             "#ed7953"
            ],
            [
             0.7777777777777778,
             "#fb9f3a"
            ],
            [
             0.8888888888888888,
             "#fdca26"
            ],
            [
             1,
             "#f0f921"
            ]
           ],
           "sequentialminus": [
            [
             0,
             "#0d0887"
            ],
            [
             0.1111111111111111,
             "#46039f"
            ],
            [
             0.2222222222222222,
             "#7201a8"
            ],
            [
             0.3333333333333333,
             "#9c179e"
            ],
            [
             0.4444444444444444,
             "#bd3786"
            ],
            [
             0.5555555555555556,
             "#d8576b"
            ],
            [
             0.6666666666666666,
             "#ed7953"
            ],
            [
             0.7777777777777778,
             "#fb9f3a"
            ],
            [
             0.8888888888888888,
             "#fdca26"
            ],
            [
             1,
             "#f0f921"
            ]
           ]
          },
          "colorway": [
           "#636efa",
           "#EF553B",
           "#00cc96",
           "#ab63fa",
           "#FFA15A",
           "#19d3f3",
           "#FF6692",
           "#B6E880",
           "#FF97FF",
           "#FECB52"
          ],
          "font": {
           "color": "#2a3f5f"
          },
          "geo": {
           "bgcolor": "white",
           "lakecolor": "white",
           "landcolor": "#E5ECF6",
           "showlakes": true,
           "showland": true,
           "subunitcolor": "white"
          },
          "hoverlabel": {
           "align": "left"
          },
          "hovermode": "closest",
          "mapbox": {
           "style": "light"
          },
          "paper_bgcolor": "white",
          "plot_bgcolor": "#E5ECF6",
          "polar": {
           "angularaxis": {
            "gridcolor": "white",
            "linecolor": "white",
            "ticks": ""
           },
           "bgcolor": "#E5ECF6",
           "radialaxis": {
            "gridcolor": "white",
            "linecolor": "white",
            "ticks": ""
           }
          },
          "scene": {
           "xaxis": {
            "backgroundcolor": "#E5ECF6",
            "gridcolor": "white",
            "gridwidth": 2,
            "linecolor": "white",
            "showbackground": true,
            "ticks": "",
            "zerolinecolor": "white"
           },
           "yaxis": {
            "backgroundcolor": "#E5ECF6",
            "gridcolor": "white",
            "gridwidth": 2,
            "linecolor": "white",
            "showbackground": true,
            "ticks": "",
            "zerolinecolor": "white"
           },
           "zaxis": {
            "backgroundcolor": "#E5ECF6",
            "gridcolor": "white",
            "gridwidth": 2,
            "linecolor": "white",
            "showbackground": true,
            "ticks": "",
            "zerolinecolor": "white"
           }
          },
          "shapedefaults": {
           "line": {
            "color": "#2a3f5f"
           }
          },
          "ternary": {
           "aaxis": {
            "gridcolor": "white",
            "linecolor": "white",
            "ticks": ""
           },
           "baxis": {
            "gridcolor": "white",
            "linecolor": "white",
            "ticks": ""
           },
           "bgcolor": "#E5ECF6",
           "caxis": {
            "gridcolor": "white",
            "linecolor": "white",
            "ticks": ""
           }
          },
          "title": {
           "x": 0.05
          },
          "xaxis": {
           "automargin": true,
           "gridcolor": "white",
           "linecolor": "white",
           "ticks": "",
           "title": {
            "standoff": 15
           },
           "zerolinecolor": "white",
           "zerolinewidth": 2
          },
          "yaxis": {
           "automargin": true,
           "gridcolor": "white",
           "linecolor": "white",
           "ticks": "",
           "title": {
            "standoff": 15
           },
           "zerolinecolor": "white",
           "zerolinewidth": 2
          }
         }
        },
        "title": {
         "text": "Validation Metrics Over Time (HOD Model)"
        },
        "xaxis": {
         "anchor": "y",
         "domain": [
          0,
          1
         ],
         "title": {
          "text": "index"
         }
        },
        "yaxis": {
         "anchor": "x",
         "domain": [
          0,
          1
         ],
         "title": {
          "text": "value"
         }
        }
       }
      }
     },
     "metadata": {},
     "output_type": "display_data"
    }
   ],
   "source": [
    "import datetime\n",
    "import plotly.express as px\n",
    "\n",
    "\n",
    "time_range = [datetime.time(hour, minute) for hour in range(9, 16) for minute in range(0, 60, 5)]\n",
    "time_range = [x for x in time_range if x >= datetime.time(9,45)]\n",
    "df_val = pd.DataFrame()\n",
    "for t in time_range:\n",
    "    X_val = X_test.loc[X_test['time'] <= t].copy()\n",
    "    y_val = y_test.loc[X_val.index, 'hod_in'].copy()\n",
    "\n",
    "    y_pred_val = pipeline.predict_proba(X_val)[:,-1]\n",
    "\n",
    "    df_val.loc[t, [\n",
    "        'roc_auc',\n",
    "        'precision',\n",
    "        'recall'\n",
    "    ]] =  roc_auc_score(y_val, y_pred_val), precision_score(y_val, y_pred_val > 0.5), recall_score(y_val, y_pred_val > 0.5)\n",
    "\n",
    "\n",
    "fig = px.line(df_val, title='Validation Metrics Over Time (HOD Model)')\n",
    "fig.show()"
   ]
  },
  {
   "cell_type": "code",
   "execution_count": 296,
   "metadata": {},
   "outputs": [
    {
     "data": {
      "application/vnd.plotly.v1+json": {
       "config": {
        "plotlyServerURL": "https://plot.ly"
       },
       "data": [
        {
         "hovertemplate": "variable=roc_auc<br>index=%{x}<br>value=%{y}<extra></extra>",
         "legendgroup": "roc_auc",
         "line": {
          "color": "#636efa",
          "dash": "solid"
         },
         "marker": {
          "symbol": "circle"
         },
         "mode": "lines",
         "name": "roc_auc",
         "orientation": "v",
         "showlegend": true,
         "type": "scatter",
         "x": [
          "09:45:00",
          "09:50:00",
          "09:55:00",
          "10:00:00",
          "10:05:00",
          "10:10:00",
          "10:15:00",
          "10:20:00",
          "10:25:00",
          "10:30:00",
          "10:35:00",
          "10:40:00",
          "10:45:00",
          "10:50:00",
          "10:55:00",
          "11:00:00",
          "11:05:00",
          "11:10:00",
          "11:15:00",
          "11:20:00",
          "11:25:00",
          "11:30:00",
          "11:35:00",
          "11:40:00",
          "11:45:00",
          "11:50:00",
          "11:55:00",
          "12:00:00",
          "12:05:00",
          "12:10:00",
          "12:15:00",
          "12:20:00",
          "12:25:00",
          "12:30:00",
          "12:35:00",
          "12:40:00",
          "12:45:00",
          "12:50:00",
          "12:55:00",
          "13:00:00",
          "13:05:00",
          "13:10:00",
          "13:15:00",
          "13:20:00",
          "13:25:00",
          "13:30:00",
          "13:35:00",
          "13:40:00",
          "13:45:00",
          "13:50:00",
          "13:55:00",
          "14:00:00",
          "14:05:00",
          "14:10:00",
          "14:15:00",
          "14:20:00",
          "14:25:00",
          "14:30:00",
          "14:35:00",
          "14:40:00",
          "14:45:00",
          "14:50:00",
          "14:55:00",
          "15:00:00",
          "15:05:00",
          "15:10:00",
          "15:15:00",
          "15:20:00",
          "15:25:00",
          "15:30:00",
          "15:35:00",
          "15:40:00",
          "15:45:00",
          "15:50:00",
          "15:55:00"
         ],
         "xaxis": "x",
         "y": [
          0.7684499641748269,
          0.7344568757966294,
          0.730950227350511,
          0.7298754208754208,
          0.7341647779843303,
          0.7395550330895158,
          0.7410224031562944,
          0.7451257182714982,
          0.7497862714624219,
          0.7547215831787261,
          0.7610958515637659,
          0.7676472276335203,
          0.7731066810123286,
          0.775246721776006,
          0.7773662106230248,
          0.7779638947088854,
          0.7801574076780905,
          0.7810463836951593,
          0.7828932252304605,
          0.7845220109403491,
          0.7872575588890192,
          0.788763716391954,
          0.7904752819292844,
          0.7920921697072569,
          0.7929624846103162,
          0.792922694544699,
          0.7927527782997092,
          0.7936010431024607,
          0.7943670016808022,
          0.7954239391843978,
          0.7968670214422363,
          0.797811757598302,
          0.7988576640725431,
          0.800005608848694,
          0.800991029333529,
          0.8012952146888398,
          0.8016070383394998,
          0.8021138988067239,
          0.8028783517836777,
          0.8041289480201212,
          0.8057108080323223,
          0.8070537762788732,
          0.8085595376282809,
          0.8097089081892641,
          0.8110068075234576,
          0.812300536949331,
          0.8136405004283469,
          0.8151073723813302,
          0.8164993553974244,
          0.8178975511671722,
          0.8189426906167483,
          0.8203729831111638,
          0.8217174873414745,
          0.8235685068933151,
          0.8254423853965347,
          0.8273840220383744,
          0.8292973121293243,
          0.8313237303955523,
          0.8334192565404869,
          0.8355811703737734,
          0.8379643706092221,
          0.8402928488116382,
          0.8428620972846974,
          0.8454776707766292,
          0.8480329437126766,
          0.8502113550033421,
          0.8522729575465504,
          0.854190807277236,
          0.8559239367969964,
          0.8577691931373401,
          0.8594290323057981,
          0.8610914710723259,
          0.862739757981804,
          0.8650561902203682,
          0.8679067870780783
         ],
         "yaxis": "y"
        },
        {
         "hovertemplate": "variable=precision<br>index=%{x}<br>value=%{y}<extra></extra>",
         "legendgroup": "precision",
         "line": {
          "color": "#EF553B",
          "dash": "solid"
         },
         "marker": {
          "symbol": "circle"
         },
         "mode": "lines",
         "name": "precision",
         "orientation": "v",
         "showlegend": true,
         "type": "scatter",
         "x": [
          "09:45:00",
          "09:50:00",
          "09:55:00",
          "10:00:00",
          "10:05:00",
          "10:10:00",
          "10:15:00",
          "10:20:00",
          "10:25:00",
          "10:30:00",
          "10:35:00",
          "10:40:00",
          "10:45:00",
          "10:50:00",
          "10:55:00",
          "11:00:00",
          "11:05:00",
          "11:10:00",
          "11:15:00",
          "11:20:00",
          "11:25:00",
          "11:30:00",
          "11:35:00",
          "11:40:00",
          "11:45:00",
          "11:50:00",
          "11:55:00",
          "12:00:00",
          "12:05:00",
          "12:10:00",
          "12:15:00",
          "12:20:00",
          "12:25:00",
          "12:30:00",
          "12:35:00",
          "12:40:00",
          "12:45:00",
          "12:50:00",
          "12:55:00",
          "13:00:00",
          "13:05:00",
          "13:10:00",
          "13:15:00",
          "13:20:00",
          "13:25:00",
          "13:30:00",
          "13:35:00",
          "13:40:00",
          "13:45:00",
          "13:50:00",
          "13:55:00",
          "14:00:00",
          "14:05:00",
          "14:10:00",
          "14:15:00",
          "14:20:00",
          "14:25:00",
          "14:30:00",
          "14:35:00",
          "14:40:00",
          "14:45:00",
          "14:50:00",
          "14:55:00",
          "15:00:00",
          "15:05:00",
          "15:10:00",
          "15:15:00",
          "15:20:00",
          "15:25:00",
          "15:30:00",
          "15:35:00",
          "15:40:00",
          "15:45:00",
          "15:50:00",
          "15:55:00"
         ],
         "xaxis": "x",
         "y": [
          0.48717948717948717,
          0.5256410256410257,
          0.5403225806451613,
          0.5402298850574713,
          0.5458515283842795,
          0.5454545454545454,
          0.5570652173913043,
          0.5595505617977528,
          0.5686653771760155,
          0.5754560530679934,
          0.5867052023121387,
          0.598978288633461,
          0.6111111111111112,
          0.6182741116751269,
          0.6274149034038639,
          0.6330275229357798,
          0.6410646387832699,
          0.6448467966573816,
          0.6511927788523533,
          0.6570915619389587,
          0.6623955431754874,
          0.6670135275754423,
          0.6707317073170732,
          0.6741727941176471,
          0.6774891774891775,
          0.6807031888798037,
          0.6822755417956656,
          0.684906353286816,
          0.6880894166957736,
          0.6916666666666667,
          0.6950015918497294,
          0.6982338611449452,
          0.7012835472578763,
          0.7043356643356643,
          0.7067204301075268,
          0.7081933316102352,
          0.7096613545816733,
          0.7117788461538461,
          0.7136226502668833,
          0.7161102397490478,
          0.7185265438786566,
          0.7206961627175509,
          0.7232269863848811,
          0.7251968503937007,
          0.727116704805492,
          0.7292746113989638,
          0.7313218390804598,
          0.7335428671206565,
          0.7360285374554102,
          0.7383903487026938,
          0.740824211204121,
          0.7438354012878907,
          0.7465889927947263,
          0.7495508982035928,
          0.7523016220955722,
          0.7553525549528975,
          0.758053270115744,
          0.7611777535441657,
          0.7639925373134329,
          0.766883963494133,
          0.7698098762281486,
          0.7729885057471264,
          0.776079246667482,
          0.7789750957854407,
          0.7822363017716767,
          0.7852788959171938,
          0.7880906732829593,
          0.7908185840707964,
          0.7935973955507325,
          0.7963357477631018,
          0.7991216145561016,
          0.8017453798767967,
          0.8049001814882033,
          0.808369608231104,
          0.8122516235339731
         ],
         "yaxis": "y"
        },
        {
         "hovertemplate": "variable=recall<br>index=%{x}<br>value=%{y}<extra></extra>",
         "legendgroup": "recall",
         "line": {
          "color": "#00cc96",
          "dash": "solid"
         },
         "marker": {
          "symbol": "circle"
         },
         "mode": "lines",
         "name": "recall",
         "orientation": "v",
         "showlegend": true,
         "type": "scatter",
         "x": [
          "09:45:00",
          "09:50:00",
          "09:55:00",
          "10:00:00",
          "10:05:00",
          "10:10:00",
          "10:15:00",
          "10:20:00",
          "10:25:00",
          "10:30:00",
          "10:35:00",
          "10:40:00",
          "10:45:00",
          "10:50:00",
          "10:55:00",
          "11:00:00",
          "11:05:00",
          "11:10:00",
          "11:15:00",
          "11:20:00",
          "11:25:00",
          "11:30:00",
          "11:35:00",
          "11:40:00",
          "11:45:00",
          "11:50:00",
          "11:55:00",
          "12:00:00",
          "12:05:00",
          "12:10:00",
          "12:15:00",
          "12:20:00",
          "12:25:00",
          "12:30:00",
          "12:35:00",
          "12:40:00",
          "12:45:00",
          "12:50:00",
          "12:55:00",
          "13:00:00",
          "13:05:00",
          "13:10:00",
          "13:15:00",
          "13:20:00",
          "13:25:00",
          "13:30:00",
          "13:35:00",
          "13:40:00",
          "13:45:00",
          "13:50:00",
          "13:55:00",
          "14:00:00",
          "14:05:00",
          "14:10:00",
          "14:15:00",
          "14:20:00",
          "14:25:00",
          "14:30:00",
          "14:35:00",
          "14:40:00",
          "14:45:00",
          "14:50:00",
          "14:55:00",
          "15:00:00",
          "15:05:00",
          "15:10:00",
          "15:15:00",
          "15:20:00",
          "15:25:00",
          "15:30:00",
          "15:35:00",
          "15:40:00",
          "15:45:00",
          "15:50:00",
          "15:55:00"
         ],
         "xaxis": "x",
         "y": [
          0.3584905660377358,
          0.3565217391304348,
          0.3701657458563536,
          0.376,
          0.3894080996884735,
          0.4090909090909091,
          0.42887029288702927,
          0.44385026737967914,
          0.4551083591331269,
          0.47210884353741495,
          0.4921212121212121,
          0.5114503816793893,
          0.533135509396637,
          0.5486486486486486,
          0.5631709331131296,
          0.5767477203647416,
          0.5928270042194093,
          0.605624591236102,
          0.617359413202934,
          0.6292263610315186,
          0.6409703504043127,
          0.6510919248349416,
          0.6597888675623801,
          0.6665152203543844,
          0.6739879414298019,
          0.6809815950920245,
          0.6859922178988327,
          0.6917655786350149,
          0.6975920679886686,
          0.7024373730534867,
          0.7078469520103762,
          0.7132192846034214,
          0.7184698147041243,
          0.7239792984473835,
          0.7282548476454294,
          0.7320331285065456,
          0.7349149045899949,
          0.7376681614349776,
          0.7407853529270055,
          0.7451620424341339,
          0.7490399819290716,
          0.7529025191675794,
          0.7565901360544217,
          0.7602146099876187,
          0.7647412755716004,
          0.7685257410296412,
          0.7723823975720789,
          0.7755215063688389,
          0.7787562904385334,
          0.7822128851540616,
          0.7849223946784922,
          0.7872340425531915,
          0.7893030794165316,
          0.7916205533596838,
          0.7941993211971614,
          0.7971079981924989,
          0.7998822836962919,
          0.8028756290438533,
          0.8058757379814451,
          0.8087446720747972,
          0.8117599569429494,
          0.8148294481759515,
          0.8183107672469374,
          0.8217759252242011,
          0.8251237623762376,
          0.8279374317933794,
          0.8303231939163498,
          0.8324406148113647,
          0.8345315531210773,
          0.8364287312597897,
          0.838306274681878,
          0.8398580339858034,
          0.8414672710024244,
          0.8439372030572195,
          0.8472348599737135
         ],
         "yaxis": "y"
        }
       ],
       "layout": {
        "legend": {
         "title": {
          "text": "variable"
         },
         "tracegroupgap": 0
        },
        "template": {
         "data": {
          "bar": [
           {
            "error_x": {
             "color": "#2a3f5f"
            },
            "error_y": {
             "color": "#2a3f5f"
            },
            "marker": {
             "line": {
              "color": "#E5ECF6",
              "width": 0.5
             },
             "pattern": {
              "fillmode": "overlay",
              "size": 10,
              "solidity": 0.2
             }
            },
            "type": "bar"
           }
          ],
          "barpolar": [
           {
            "marker": {
             "line": {
              "color": "#E5ECF6",
              "width": 0.5
             },
             "pattern": {
              "fillmode": "overlay",
              "size": 10,
              "solidity": 0.2
             }
            },
            "type": "barpolar"
           }
          ],
          "carpet": [
           {
            "aaxis": {
             "endlinecolor": "#2a3f5f",
             "gridcolor": "white",
             "linecolor": "white",
             "minorgridcolor": "white",
             "startlinecolor": "#2a3f5f"
            },
            "baxis": {
             "endlinecolor": "#2a3f5f",
             "gridcolor": "white",
             "linecolor": "white",
             "minorgridcolor": "white",
             "startlinecolor": "#2a3f5f"
            },
            "type": "carpet"
           }
          ],
          "choropleth": [
           {
            "colorbar": {
             "outlinewidth": 0,
             "ticks": ""
            },
            "type": "choropleth"
           }
          ],
          "contour": [
           {
            "colorbar": {
             "outlinewidth": 0,
             "ticks": ""
            },
            "colorscale": [
             [
              0,
              "#0d0887"
             ],
             [
              0.1111111111111111,
              "#46039f"
             ],
             [
              0.2222222222222222,
              "#7201a8"
             ],
             [
              0.3333333333333333,
              "#9c179e"
             ],
             [
              0.4444444444444444,
              "#bd3786"
             ],
             [
              0.5555555555555556,
              "#d8576b"
             ],
             [
              0.6666666666666666,
              "#ed7953"
             ],
             [
              0.7777777777777778,
              "#fb9f3a"
             ],
             [
              0.8888888888888888,
              "#fdca26"
             ],
             [
              1,
              "#f0f921"
             ]
            ],
            "type": "contour"
           }
          ],
          "contourcarpet": [
           {
            "colorbar": {
             "outlinewidth": 0,
             "ticks": ""
            },
            "type": "contourcarpet"
           }
          ],
          "heatmap": [
           {
            "colorbar": {
             "outlinewidth": 0,
             "ticks": ""
            },
            "colorscale": [
             [
              0,
              "#0d0887"
             ],
             [
              0.1111111111111111,
              "#46039f"
             ],
             [
              0.2222222222222222,
              "#7201a8"
             ],
             [
              0.3333333333333333,
              "#9c179e"
             ],
             [
              0.4444444444444444,
              "#bd3786"
             ],
             [
              0.5555555555555556,
              "#d8576b"
             ],
             [
              0.6666666666666666,
              "#ed7953"
             ],
             [
              0.7777777777777778,
              "#fb9f3a"
             ],
             [
              0.8888888888888888,
              "#fdca26"
             ],
             [
              1,
              "#f0f921"
             ]
            ],
            "type": "heatmap"
           }
          ],
          "heatmapgl": [
           {
            "colorbar": {
             "outlinewidth": 0,
             "ticks": ""
            },
            "colorscale": [
             [
              0,
              "#0d0887"
             ],
             [
              0.1111111111111111,
              "#46039f"
             ],
             [
              0.2222222222222222,
              "#7201a8"
             ],
             [
              0.3333333333333333,
              "#9c179e"
             ],
             [
              0.4444444444444444,
              "#bd3786"
             ],
             [
              0.5555555555555556,
              "#d8576b"
             ],
             [
              0.6666666666666666,
              "#ed7953"
             ],
             [
              0.7777777777777778,
              "#fb9f3a"
             ],
             [
              0.8888888888888888,
              "#fdca26"
             ],
             [
              1,
              "#f0f921"
             ]
            ],
            "type": "heatmapgl"
           }
          ],
          "histogram": [
           {
            "marker": {
             "pattern": {
              "fillmode": "overlay",
              "size": 10,
              "solidity": 0.2
             }
            },
            "type": "histogram"
           }
          ],
          "histogram2d": [
           {
            "colorbar": {
             "outlinewidth": 0,
             "ticks": ""
            },
            "colorscale": [
             [
              0,
              "#0d0887"
             ],
             [
              0.1111111111111111,
              "#46039f"
             ],
             [
              0.2222222222222222,
              "#7201a8"
             ],
             [
              0.3333333333333333,
              "#9c179e"
             ],
             [
              0.4444444444444444,
              "#bd3786"
             ],
             [
              0.5555555555555556,
              "#d8576b"
             ],
             [
              0.6666666666666666,
              "#ed7953"
             ],
             [
              0.7777777777777778,
              "#fb9f3a"
             ],
             [
              0.8888888888888888,
              "#fdca26"
             ],
             [
              1,
              "#f0f921"
             ]
            ],
            "type": "histogram2d"
           }
          ],
          "histogram2dcontour": [
           {
            "colorbar": {
             "outlinewidth": 0,
             "ticks": ""
            },
            "colorscale": [
             [
              0,
              "#0d0887"
             ],
             [
              0.1111111111111111,
              "#46039f"
             ],
             [
              0.2222222222222222,
              "#7201a8"
             ],
             [
              0.3333333333333333,
              "#9c179e"
             ],
             [
              0.4444444444444444,
              "#bd3786"
             ],
             [
              0.5555555555555556,
              "#d8576b"
             ],
             [
              0.6666666666666666,
              "#ed7953"
             ],
             [
              0.7777777777777778,
              "#fb9f3a"
             ],
             [
              0.8888888888888888,
              "#fdca26"
             ],
             [
              1,
              "#f0f921"
             ]
            ],
            "type": "histogram2dcontour"
           }
          ],
          "mesh3d": [
           {
            "colorbar": {
             "outlinewidth": 0,
             "ticks": ""
            },
            "type": "mesh3d"
           }
          ],
          "parcoords": [
           {
            "line": {
             "colorbar": {
              "outlinewidth": 0,
              "ticks": ""
             }
            },
            "type": "parcoords"
           }
          ],
          "pie": [
           {
            "automargin": true,
            "type": "pie"
           }
          ],
          "scatter": [
           {
            "fillpattern": {
             "fillmode": "overlay",
             "size": 10,
             "solidity": 0.2
            },
            "type": "scatter"
           }
          ],
          "scatter3d": [
           {
            "line": {
             "colorbar": {
              "outlinewidth": 0,
              "ticks": ""
             }
            },
            "marker": {
             "colorbar": {
              "outlinewidth": 0,
              "ticks": ""
             }
            },
            "type": "scatter3d"
           }
          ],
          "scattercarpet": [
           {
            "marker": {
             "colorbar": {
              "outlinewidth": 0,
              "ticks": ""
             }
            },
            "type": "scattercarpet"
           }
          ],
          "scattergeo": [
           {
            "marker": {
             "colorbar": {
              "outlinewidth": 0,
              "ticks": ""
             }
            },
            "type": "scattergeo"
           }
          ],
          "scattergl": [
           {
            "marker": {
             "colorbar": {
              "outlinewidth": 0,
              "ticks": ""
             }
            },
            "type": "scattergl"
           }
          ],
          "scattermapbox": [
           {
            "marker": {
             "colorbar": {
              "outlinewidth": 0,
              "ticks": ""
             }
            },
            "type": "scattermapbox"
           }
          ],
          "scatterpolar": [
           {
            "marker": {
             "colorbar": {
              "outlinewidth": 0,
              "ticks": ""
             }
            },
            "type": "scatterpolar"
           }
          ],
          "scatterpolargl": [
           {
            "marker": {
             "colorbar": {
              "outlinewidth": 0,
              "ticks": ""
             }
            },
            "type": "scatterpolargl"
           }
          ],
          "scatterternary": [
           {
            "marker": {
             "colorbar": {
              "outlinewidth": 0,
              "ticks": ""
             }
            },
            "type": "scatterternary"
           }
          ],
          "surface": [
           {
            "colorbar": {
             "outlinewidth": 0,
             "ticks": ""
            },
            "colorscale": [
             [
              0,
              "#0d0887"
             ],
             [
              0.1111111111111111,
              "#46039f"
             ],
             [
              0.2222222222222222,
              "#7201a8"
             ],
             [
              0.3333333333333333,
              "#9c179e"
             ],
             [
              0.4444444444444444,
              "#bd3786"
             ],
             [
              0.5555555555555556,
              "#d8576b"
             ],
             [
              0.6666666666666666,
              "#ed7953"
             ],
             [
              0.7777777777777778,
              "#fb9f3a"
             ],
             [
              0.8888888888888888,
              "#fdca26"
             ],
             [
              1,
              "#f0f921"
             ]
            ],
            "type": "surface"
           }
          ],
          "table": [
           {
            "cells": {
             "fill": {
              "color": "#EBF0F8"
             },
             "line": {
              "color": "white"
             }
            },
            "header": {
             "fill": {
              "color": "#C8D4E3"
             },
             "line": {
              "color": "white"
             }
            },
            "type": "table"
           }
          ]
         },
         "layout": {
          "annotationdefaults": {
           "arrowcolor": "#2a3f5f",
           "arrowhead": 0,
           "arrowwidth": 1
          },
          "autotypenumbers": "strict",
          "coloraxis": {
           "colorbar": {
            "outlinewidth": 0,
            "ticks": ""
           }
          },
          "colorscale": {
           "diverging": [
            [
             0,
             "#8e0152"
            ],
            [
             0.1,
             "#c51b7d"
            ],
            [
             0.2,
             "#de77ae"
            ],
            [
             0.3,
             "#f1b6da"
            ],
            [
             0.4,
             "#fde0ef"
            ],
            [
             0.5,
             "#f7f7f7"
            ],
            [
             0.6,
             "#e6f5d0"
            ],
            [
             0.7,
             "#b8e186"
            ],
            [
             0.8,
             "#7fbc41"
            ],
            [
             0.9,
             "#4d9221"
            ],
            [
             1,
             "#276419"
            ]
           ],
           "sequential": [
            [
             0,
             "#0d0887"
            ],
            [
             0.1111111111111111,
             "#46039f"
            ],
            [
             0.2222222222222222,
             "#7201a8"
            ],
            [
             0.3333333333333333,
             "#9c179e"
            ],
            [
             0.4444444444444444,
             "#bd3786"
            ],
            [
             0.5555555555555556,
             "#d8576b"
            ],
            [
             0.6666666666666666,
             "#ed7953"
            ],
            [
             0.7777777777777778,
             "#fb9f3a"
            ],
            [
             0.8888888888888888,
             "#fdca26"
            ],
            [
             1,
             "#f0f921"
            ]
           ],
           "sequentialminus": [
            [
             0,
             "#0d0887"
            ],
            [
             0.1111111111111111,
             "#46039f"
            ],
            [
             0.2222222222222222,
             "#7201a8"
            ],
            [
             0.3333333333333333,
             "#9c179e"
            ],
            [
             0.4444444444444444,
             "#bd3786"
            ],
            [
             0.5555555555555556,
             "#d8576b"
            ],
            [
             0.6666666666666666,
             "#ed7953"
            ],
            [
             0.7777777777777778,
             "#fb9f3a"
            ],
            [
             0.8888888888888888,
             "#fdca26"
            ],
            [
             1,
             "#f0f921"
            ]
           ]
          },
          "colorway": [
           "#636efa",
           "#EF553B",
           "#00cc96",
           "#ab63fa",
           "#FFA15A",
           "#19d3f3",
           "#FF6692",
           "#B6E880",
           "#FF97FF",
           "#FECB52"
          ],
          "font": {
           "color": "#2a3f5f"
          },
          "geo": {
           "bgcolor": "white",
           "lakecolor": "white",
           "landcolor": "#E5ECF6",
           "showlakes": true,
           "showland": true,
           "subunitcolor": "white"
          },
          "hoverlabel": {
           "align": "left"
          },
          "hovermode": "closest",
          "mapbox": {
           "style": "light"
          },
          "paper_bgcolor": "white",
          "plot_bgcolor": "#E5ECF6",
          "polar": {
           "angularaxis": {
            "gridcolor": "white",
            "linecolor": "white",
            "ticks": ""
           },
           "bgcolor": "#E5ECF6",
           "radialaxis": {
            "gridcolor": "white",
            "linecolor": "white",
            "ticks": ""
           }
          },
          "scene": {
           "xaxis": {
            "backgroundcolor": "#E5ECF6",
            "gridcolor": "white",
            "gridwidth": 2,
            "linecolor": "white",
            "showbackground": true,
            "ticks": "",
            "zerolinecolor": "white"
           },
           "yaxis": {
            "backgroundcolor": "#E5ECF6",
            "gridcolor": "white",
            "gridwidth": 2,
            "linecolor": "white",
            "showbackground": true,
            "ticks": "",
            "zerolinecolor": "white"
           },
           "zaxis": {
            "backgroundcolor": "#E5ECF6",
            "gridcolor": "white",
            "gridwidth": 2,
            "linecolor": "white",
            "showbackground": true,
            "ticks": "",
            "zerolinecolor": "white"
           }
          },
          "shapedefaults": {
           "line": {
            "color": "#2a3f5f"
           }
          },
          "ternary": {
           "aaxis": {
            "gridcolor": "white",
            "linecolor": "white",
            "ticks": ""
           },
           "baxis": {
            "gridcolor": "white",
            "linecolor": "white",
            "ticks": ""
           },
           "bgcolor": "#E5ECF6",
           "caxis": {
            "gridcolor": "white",
            "linecolor": "white",
            "ticks": ""
           }
          },
          "title": {
           "x": 0.05
          },
          "xaxis": {
           "automargin": true,
           "gridcolor": "white",
           "linecolor": "white",
           "ticks": "",
           "title": {
            "standoff": 15
           },
           "zerolinecolor": "white",
           "zerolinewidth": 2
          },
          "yaxis": {
           "automargin": true,
           "gridcolor": "white",
           "linecolor": "white",
           "ticks": "",
           "title": {
            "standoff": 15
           },
           "zerolinecolor": "white",
           "zerolinewidth": 2
          }
         }
        },
        "title": {
         "text": "Validation Metrics Over Time (LOD Model)"
        },
        "xaxis": {
         "anchor": "y",
         "domain": [
          0,
          1
         ],
         "title": {
          "text": "index"
         }
        },
        "yaxis": {
         "anchor": "x",
         "domain": [
          0,
          1
         ],
         "title": {
          "text": "value"
         }
        }
       }
      }
     },
     "metadata": {},
     "output_type": "display_data"
    }
   ],
   "source": [
    "import datetime\n",
    "import plotly.express as px\n",
    "\n",
    "time_range = [datetime.time(hour, minute) for hour in range(9, 16) for minute in range(0, 60, 5)]\n",
    "time_range = [x for x in time_range if x >= datetime.time(9,45)]\n",
    "df_val = pd.DataFrame()\n",
    "for t in time_range:\n",
    "    X_val = X_test.loc[X_test['time'] <= t].copy()\n",
    "    y_val = y_test.loc[X_val.index, 'lod_in'].copy()\n",
    "\n",
    "    y_pred_val = pipeline_lod.predict_proba(X_val)[:,-1]\n",
    "\n",
    "    df_val.loc[t, [\n",
    "        'roc_auc',\n",
    "        'precision',\n",
    "        'recall'\n",
    "    ]] =  roc_auc_score(y_val, y_pred_val), precision_score(y_val, y_pred_val > 0.5), recall_score(y_val, y_pred_val > 0.5)\n",
    "\n",
    "\n",
    "fig = px.line(df_val, title='Validation Metrics Over Time (LOD Model)')\n",
    "fig.show()"
   ]
  },
  {
   "cell_type": "code",
   "execution_count": 297,
   "metadata": {},
   "outputs": [
    {
     "data": {
      "application/vnd.plotly.v1+json": {
       "config": {
        "plotlyServerURL": "https://plot.ly"
       },
       "data": [
        {
         "hovertemplate": "variable=roc_auc<br>index=%{x}<br>value=%{y}<extra></extra>",
         "legendgroup": "roc_auc",
         "line": {
          "color": "#636efa",
          "dash": "solid"
         },
         "marker": {
          "symbol": "circle"
         },
         "mode": "lines",
         "name": "roc_auc",
         "orientation": "v",
         "showlegend": true,
         "type": "scatter",
         "x": [
          "09:45:00",
          "09:50:00",
          "09:55:00",
          "10:00:00",
          "10:05:00",
          "10:10:00",
          "10:15:00",
          "10:20:00",
          "10:25:00",
          "10:30:00",
          "10:35:00",
          "10:40:00",
          "10:45:00",
          "10:50:00",
          "10:55:00",
          "11:00:00",
          "11:05:00",
          "11:10:00",
          "11:15:00",
          "11:20:00",
          "11:25:00",
          "11:30:00",
          "11:35:00",
          "11:40:00",
          "11:45:00",
          "11:50:00",
          "11:55:00",
          "12:00:00",
          "12:05:00",
          "12:10:00",
          "12:15:00",
          "12:20:00",
          "12:25:00",
          "12:30:00",
          "12:35:00",
          "12:40:00",
          "12:45:00",
          "12:50:00",
          "12:55:00",
          "13:00:00",
          "13:05:00",
          "13:10:00",
          "13:15:00",
          "13:20:00",
          "13:25:00",
          "13:30:00",
          "13:35:00",
          "13:40:00",
          "13:45:00",
          "13:50:00",
          "13:55:00",
          "14:00:00",
          "14:05:00",
          "14:10:00",
          "14:15:00",
          "14:20:00",
          "14:25:00",
          "14:30:00",
          "14:35:00",
          "14:40:00",
          "14:45:00",
          "14:50:00",
          "14:55:00",
          "15:00:00",
          "15:05:00",
          "15:10:00",
          "15:15:00",
          "15:20:00",
          "15:25:00",
          "15:30:00",
          "15:35:00",
          "15:40:00",
          "15:45:00",
          "15:50:00",
          "15:55:00"
         ],
         "xaxis": "x",
         "y": [
          0.785307621671258,
          0.7809228650137741,
          0.7832466074890317,
          0.7875688705234158,
          0.7926666666666666,
          0.7974173553719008,
          0.8027388916999307,
          0.8083914428374656,
          0.8147961092405536,
          0.8202667584940312,
          0.8256809264698068,
          0.8306260203040505,
          0.8356015779092701,
          0.8391884990910965,
          0.8425885113763901,
          0.8459013071051423,
          0.8489028377515323,
          0.851770652654491,
          0.8547102859366773,
          0.8572359963269054,
          0.8597900255908915,
          0.8623475551912818,
          0.8644341681117759,
          0.8663304445974901,
          0.8680121946740129,
          0.8692239093462869,
          0.8704890909342835,
          0.8713968886452653,
          0.8721730874849456,
          0.8731226915620856,
          0.8738266689217404,
          0.8744818120839073,
          0.8753173693694607,
          0.8759881371119181,
          0.8767779089597272,
          0.8773021672958542,
          0.877938123515519,
          0.8784663876234009,
          0.879169647584566,
          0.8800271177685951,
          0.8809715509975096,
          0.8817002482045773,
          0.8822906532258024,
          0.8828790582382806,
          0.8835620418789738,
          0.8841791192708495,
          0.8849241796520375,
          0.8857686551219989,
          0.8865587835626602,
          0.887476871875936,
          0.8884167506442212,
          0.8894571237945033,
          0.8904190742212287,
          0.8915521911167015,
          0.8926268594598151,
          0.8937696987278633,
          0.8949474703788954,
          0.896361713030289,
          0.897634397937443,
          0.8990075736485021,
          0.9004033461624028,
          0.9018394733739845,
          0.9034309637196946,
          0.9048575096174221,
          0.9062276024851674,
          0.9076385952532299,
          0.9090666201455951,
          0.9104344364674236,
          0.9118302994018673,
          0.9131976027675182,
          0.914597489571624,
          0.9160062469917656,
          0.9173842164931283,
          0.9189754130136345,
          0.9207720012347043
         ],
         "yaxis": "y"
        },
        {
         "hovertemplate": "variable=precision<br>index=%{x}<br>value=%{y}<extra></extra>",
         "legendgroup": "precision",
         "line": {
          "color": "#EF553B",
          "dash": "solid"
         },
         "marker": {
          "symbol": "circle"
         },
         "mode": "lines",
         "name": "precision",
         "orientation": "v",
         "showlegend": true,
         "type": "scatter",
         "x": [
          "09:45:00",
          "09:50:00",
          "09:55:00",
          "10:00:00",
          "10:05:00",
          "10:10:00",
          "10:15:00",
          "10:20:00",
          "10:25:00",
          "10:30:00",
          "10:35:00",
          "10:40:00",
          "10:45:00",
          "10:50:00",
          "10:55:00",
          "11:00:00",
          "11:05:00",
          "11:10:00",
          "11:15:00",
          "11:20:00",
          "11:25:00",
          "11:30:00",
          "11:35:00",
          "11:40:00",
          "11:45:00",
          "11:50:00",
          "11:55:00",
          "12:00:00",
          "12:05:00",
          "12:10:00",
          "12:15:00",
          "12:20:00",
          "12:25:00",
          "12:30:00",
          "12:35:00",
          "12:40:00",
          "12:45:00",
          "12:50:00",
          "12:55:00",
          "13:00:00",
          "13:05:00",
          "13:10:00",
          "13:15:00",
          "13:20:00",
          "13:25:00",
          "13:30:00",
          "13:35:00",
          "13:40:00",
          "13:45:00",
          "13:50:00",
          "13:55:00",
          "14:00:00",
          "14:05:00",
          "14:10:00",
          "14:15:00",
          "14:20:00",
          "14:25:00",
          "14:30:00",
          "14:35:00",
          "14:40:00",
          "14:45:00",
          "14:50:00",
          "14:55:00",
          "15:00:00",
          "15:05:00",
          "15:10:00",
          "15:15:00",
          "15:20:00",
          "15:25:00",
          "15:30:00",
          "15:35:00",
          "15:40:00",
          "15:45:00",
          "15:50:00",
          "15:55:00"
         ],
         "xaxis": "x",
         "y": [
          0.7086614173228346,
          0.7137254901960784,
          0.7139107611548556,
          0.717391304347826,
          0.7231012658227848,
          0.7276315789473684,
          0.7317620650953984,
          0.7365328109696376,
          0.7406440382941688,
          0.746268656716418,
          0.7519713261648745,
          0.756578947368421,
          0.7609489051094891,
          0.7631430186546071,
          0.7653276955602537,
          0.7671300893743793,
          0.7692666978047641,
          0.7720458553791887,
          0.7745302713987474,
          0.7773809523809524,
          0.780045351473923,
          0.7835497835497836,
          0.7860352575181473,
          0.7882001988730527,
          0.7900095450206809,
          0.7916156670746634,
          0.7932253313696612,
          0.7946022727272727,
          0.7960526315789473,
          0.7974046610169492,
          0.7986680327868853,
          0.7997025285076846,
          0.7999040307101728,
          0.8005115089514067,
          0.8013992326788535,
          0.8021495942092565,
          0.8029430582213691,
          0.8034010783907093,
          0.8041590954976782,
          0.8053532769139933,
          0.805640828856485,
          0.8058779483339573,
          0.8061802889010788,
          0.8065034840092907,
          0.8068796926837786,
          0.8073441502988898,
          0.808123015209761,
          0.8091340644950074,
          0.8099743425272611,
          0.8106536769327467,
          0.8115562403697997,
          0.8125472411186697,
          0.8136221991393382,
          0.8143939393939394,
          0.8157216494845361,
          0.8168895144264603,
          0.8180686220254566,
          0.8194936019602505,
          0.8208115709120128,
          0.822266139657444,
          0.8235904082955282,
          0.8249330100803879,
          0.8264037181258636,
          0.8275776705037752,
          0.8287980475899939,
          0.8300252616383977,
          0.8313367334835725,
          0.8325924192793636,
          0.8338333717978306,
          0.8351172853564108,
          0.8365373805508712,
          0.8379937860630271,
          0.8395224011392266,
          0.8412852969814996,
          0.843229389149936
         ],
         "yaxis": "y"
        },
        {
         "hovertemplate": "variable=recall<br>index=%{x}<br>value=%{y}<extra></extra>",
         "legendgroup": "recall",
         "line": {
          "color": "#00cc96",
          "dash": "solid"
         },
         "marker": {
          "symbol": "circle"
         },
         "mode": "lines",
         "name": "recall",
         "orientation": "v",
         "showlegend": true,
         "type": "scatter",
         "x": [
          "09:45:00",
          "09:50:00",
          "09:55:00",
          "10:00:00",
          "10:05:00",
          "10:10:00",
          "10:15:00",
          "10:20:00",
          "10:25:00",
          "10:30:00",
          "10:35:00",
          "10:40:00",
          "10:45:00",
          "10:50:00",
          "10:55:00",
          "11:00:00",
          "11:05:00",
          "11:10:00",
          "11:15:00",
          "11:20:00",
          "11:25:00",
          "11:30:00",
          "11:35:00",
          "11:40:00",
          "11:45:00",
          "11:50:00",
          "11:55:00",
          "12:00:00",
          "12:05:00",
          "12:10:00",
          "12:15:00",
          "12:20:00",
          "12:25:00",
          "12:30:00",
          "12:35:00",
          "12:40:00",
          "12:45:00",
          "12:50:00",
          "12:55:00",
          "13:00:00",
          "13:05:00",
          "13:10:00",
          "13:15:00",
          "13:20:00",
          "13:25:00",
          "13:30:00",
          "13:35:00",
          "13:40:00",
          "13:45:00",
          "13:50:00",
          "13:55:00",
          "14:00:00",
          "14:05:00",
          "14:10:00",
          "14:15:00",
          "14:20:00",
          "14:25:00",
          "14:30:00",
          "14:35:00",
          "14:40:00",
          "14:45:00",
          "14:50:00",
          "14:55:00",
          "15:00:00",
          "15:05:00",
          "15:10:00",
          "15:15:00",
          "15:20:00",
          "15:25:00",
          "15:30:00",
          "15:35:00",
          "15:40:00",
          "15:45:00",
          "15:50:00",
          "15:55:00"
         ],
         "xaxis": "x",
         "y": [
          0.743801652892562,
          0.7520661157024794,
          0.7493112947658402,
          0.75,
          0.7553719008264462,
          0.7617079889807162,
          0.7697756788665879,
          0.7768595041322314,
          0.7814508723599632,
          0.7851239669421488,
          0.7881292261457551,
          0.7920110192837465,
          0.7952956134774316,
          0.7969303423848878,
          0.7977961432506887,
          0.7980371900826446,
          0.8006806028196403,
          0.8039485766758494,
          0.8068725532840365,
          0.8095041322314049,
          0.8122786304604487,
          0.8159278737791135,
          0.817103844771829,
          0.818870523415978,
          0.8208264462809918,
          0.8223140495867769,
          0.8243036424854606,
          0.8255608028335301,
          0.8275862068965517,
          0.8294765840220386,
          0.8312450013329779,
          0.8331611570247934,
          0.8349611820686201,
          0.8368983957219251,
          0.8384887839433294,
          0.8395316804407713,
          0.8409649318740228,
          0.8425402348847325,
          0.8440347531256622,
          0.8454545454545455,
          0.8464019350937311,
          0.8471074380165289,
          0.8473957332308284,
          0.8478587528174305,
          0.8488243938280676,
          0.849568655643422,
          0.8506333567909923,
          0.8516540317022743,
          0.8526333558406483,
          0.8535737921906023,
          0.8544776119402985,
          0.8553469127943985,
          0.8561836352279825,
          0.8568362967504598,
          0.8574653822998194,
          0.8580721466587817,
          0.8589482858803021,
          0.8595088520845231,
          0.8603312745648513,
          0.8615405853119823,
          0.862846279196089,
          0.8638428647781935,
          0.865202524986849,
          0.8656136716727084,
          0.8658847526772055,
          0.8663987945755901,
          0.8670212765957447,
          0.8675036567528035,
          0.8680922633349352,
          0.8685457129322596,
          0.8688696870621205,
          0.8696453247351451,
          0.870513402998637,
          0.871358135365307,
          0.8730650154798761
         ],
         "yaxis": "y"
        }
       ],
       "layout": {
        "legend": {
         "title": {
          "text": "variable"
         },
         "tracegroupgap": 0
        },
        "template": {
         "data": {
          "bar": [
           {
            "error_x": {
             "color": "#2a3f5f"
            },
            "error_y": {
             "color": "#2a3f5f"
            },
            "marker": {
             "line": {
              "color": "#E5ECF6",
              "width": 0.5
             },
             "pattern": {
              "fillmode": "overlay",
              "size": 10,
              "solidity": 0.2
             }
            },
            "type": "bar"
           }
          ],
          "barpolar": [
           {
            "marker": {
             "line": {
              "color": "#E5ECF6",
              "width": 0.5
             },
             "pattern": {
              "fillmode": "overlay",
              "size": 10,
              "solidity": 0.2
             }
            },
            "type": "barpolar"
           }
          ],
          "carpet": [
           {
            "aaxis": {
             "endlinecolor": "#2a3f5f",
             "gridcolor": "white",
             "linecolor": "white",
             "minorgridcolor": "white",
             "startlinecolor": "#2a3f5f"
            },
            "baxis": {
             "endlinecolor": "#2a3f5f",
             "gridcolor": "white",
             "linecolor": "white",
             "minorgridcolor": "white",
             "startlinecolor": "#2a3f5f"
            },
            "type": "carpet"
           }
          ],
          "choropleth": [
           {
            "colorbar": {
             "outlinewidth": 0,
             "ticks": ""
            },
            "type": "choropleth"
           }
          ],
          "contour": [
           {
            "colorbar": {
             "outlinewidth": 0,
             "ticks": ""
            },
            "colorscale": [
             [
              0,
              "#0d0887"
             ],
             [
              0.1111111111111111,
              "#46039f"
             ],
             [
              0.2222222222222222,
              "#7201a8"
             ],
             [
              0.3333333333333333,
              "#9c179e"
             ],
             [
              0.4444444444444444,
              "#bd3786"
             ],
             [
              0.5555555555555556,
              "#d8576b"
             ],
             [
              0.6666666666666666,
              "#ed7953"
             ],
             [
              0.7777777777777778,
              "#fb9f3a"
             ],
             [
              0.8888888888888888,
              "#fdca26"
             ],
             [
              1,
              "#f0f921"
             ]
            ],
            "type": "contour"
           }
          ],
          "contourcarpet": [
           {
            "colorbar": {
             "outlinewidth": 0,
             "ticks": ""
            },
            "type": "contourcarpet"
           }
          ],
          "heatmap": [
           {
            "colorbar": {
             "outlinewidth": 0,
             "ticks": ""
            },
            "colorscale": [
             [
              0,
              "#0d0887"
             ],
             [
              0.1111111111111111,
              "#46039f"
             ],
             [
              0.2222222222222222,
              "#7201a8"
             ],
             [
              0.3333333333333333,
              "#9c179e"
             ],
             [
              0.4444444444444444,
              "#bd3786"
             ],
             [
              0.5555555555555556,
              "#d8576b"
             ],
             [
              0.6666666666666666,
              "#ed7953"
             ],
             [
              0.7777777777777778,
              "#fb9f3a"
             ],
             [
              0.8888888888888888,
              "#fdca26"
             ],
             [
              1,
              "#f0f921"
             ]
            ],
            "type": "heatmap"
           }
          ],
          "heatmapgl": [
           {
            "colorbar": {
             "outlinewidth": 0,
             "ticks": ""
            },
            "colorscale": [
             [
              0,
              "#0d0887"
             ],
             [
              0.1111111111111111,
              "#46039f"
             ],
             [
              0.2222222222222222,
              "#7201a8"
             ],
             [
              0.3333333333333333,
              "#9c179e"
             ],
             [
              0.4444444444444444,
              "#bd3786"
             ],
             [
              0.5555555555555556,
              "#d8576b"
             ],
             [
              0.6666666666666666,
              "#ed7953"
             ],
             [
              0.7777777777777778,
              "#fb9f3a"
             ],
             [
              0.8888888888888888,
              "#fdca26"
             ],
             [
              1,
              "#f0f921"
             ]
            ],
            "type": "heatmapgl"
           }
          ],
          "histogram": [
           {
            "marker": {
             "pattern": {
              "fillmode": "overlay",
              "size": 10,
              "solidity": 0.2
             }
            },
            "type": "histogram"
           }
          ],
          "histogram2d": [
           {
            "colorbar": {
             "outlinewidth": 0,
             "ticks": ""
            },
            "colorscale": [
             [
              0,
              "#0d0887"
             ],
             [
              0.1111111111111111,
              "#46039f"
             ],
             [
              0.2222222222222222,
              "#7201a8"
             ],
             [
              0.3333333333333333,
              "#9c179e"
             ],
             [
              0.4444444444444444,
              "#bd3786"
             ],
             [
              0.5555555555555556,
              "#d8576b"
             ],
             [
              0.6666666666666666,
              "#ed7953"
             ],
             [
              0.7777777777777778,
              "#fb9f3a"
             ],
             [
              0.8888888888888888,
              "#fdca26"
             ],
             [
              1,
              "#f0f921"
             ]
            ],
            "type": "histogram2d"
           }
          ],
          "histogram2dcontour": [
           {
            "colorbar": {
             "outlinewidth": 0,
             "ticks": ""
            },
            "colorscale": [
             [
              0,
              "#0d0887"
             ],
             [
              0.1111111111111111,
              "#46039f"
             ],
             [
              0.2222222222222222,
              "#7201a8"
             ],
             [
              0.3333333333333333,
              "#9c179e"
             ],
             [
              0.4444444444444444,
              "#bd3786"
             ],
             [
              0.5555555555555556,
              "#d8576b"
             ],
             [
              0.6666666666666666,
              "#ed7953"
             ],
             [
              0.7777777777777778,
              "#fb9f3a"
             ],
             [
              0.8888888888888888,
              "#fdca26"
             ],
             [
              1,
              "#f0f921"
             ]
            ],
            "type": "histogram2dcontour"
           }
          ],
          "mesh3d": [
           {
            "colorbar": {
             "outlinewidth": 0,
             "ticks": ""
            },
            "type": "mesh3d"
           }
          ],
          "parcoords": [
           {
            "line": {
             "colorbar": {
              "outlinewidth": 0,
              "ticks": ""
             }
            },
            "type": "parcoords"
           }
          ],
          "pie": [
           {
            "automargin": true,
            "type": "pie"
           }
          ],
          "scatter": [
           {
            "fillpattern": {
             "fillmode": "overlay",
             "size": 10,
             "solidity": 0.2
            },
            "type": "scatter"
           }
          ],
          "scatter3d": [
           {
            "line": {
             "colorbar": {
              "outlinewidth": 0,
              "ticks": ""
             }
            },
            "marker": {
             "colorbar": {
              "outlinewidth": 0,
              "ticks": ""
             }
            },
            "type": "scatter3d"
           }
          ],
          "scattercarpet": [
           {
            "marker": {
             "colorbar": {
              "outlinewidth": 0,
              "ticks": ""
             }
            },
            "type": "scattercarpet"
           }
          ],
          "scattergeo": [
           {
            "marker": {
             "colorbar": {
              "outlinewidth": 0,
              "ticks": ""
             }
            },
            "type": "scattergeo"
           }
          ],
          "scattergl": [
           {
            "marker": {
             "colorbar": {
              "outlinewidth": 0,
              "ticks": ""
             }
            },
            "type": "scattergl"
           }
          ],
          "scattermapbox": [
           {
            "marker": {
             "colorbar": {
              "outlinewidth": 0,
              "ticks": ""
             }
            },
            "type": "scattermapbox"
           }
          ],
          "scatterpolar": [
           {
            "marker": {
             "colorbar": {
              "outlinewidth": 0,
              "ticks": ""
             }
            },
            "type": "scatterpolar"
           }
          ],
          "scatterpolargl": [
           {
            "marker": {
             "colorbar": {
              "outlinewidth": 0,
              "ticks": ""
             }
            },
            "type": "scatterpolargl"
           }
          ],
          "scatterternary": [
           {
            "marker": {
             "colorbar": {
              "outlinewidth": 0,
              "ticks": ""
             }
            },
            "type": "scatterternary"
           }
          ],
          "surface": [
           {
            "colorbar": {
             "outlinewidth": 0,
             "ticks": ""
            },
            "colorscale": [
             [
              0,
              "#0d0887"
             ],
             [
              0.1111111111111111,
              "#46039f"
             ],
             [
              0.2222222222222222,
              "#7201a8"
             ],
             [
              0.3333333333333333,
              "#9c179e"
             ],
             [
              0.4444444444444444,
              "#bd3786"
             ],
             [
              0.5555555555555556,
              "#d8576b"
             ],
             [
              0.6666666666666666,
              "#ed7953"
             ],
             [
              0.7777777777777778,
              "#fb9f3a"
             ],
             [
              0.8888888888888888,
              "#fdca26"
             ],
             [
              1,
              "#f0f921"
             ]
            ],
            "type": "surface"
           }
          ],
          "table": [
           {
            "cells": {
             "fill": {
              "color": "#EBF0F8"
             },
             "line": {
              "color": "white"
             }
            },
            "header": {
             "fill": {
              "color": "#C8D4E3"
             },
             "line": {
              "color": "white"
             }
            },
            "type": "table"
           }
          ]
         },
         "layout": {
          "annotationdefaults": {
           "arrowcolor": "#2a3f5f",
           "arrowhead": 0,
           "arrowwidth": 1
          },
          "autotypenumbers": "strict",
          "coloraxis": {
           "colorbar": {
            "outlinewidth": 0,
            "ticks": ""
           }
          },
          "colorscale": {
           "diverging": [
            [
             0,
             "#8e0152"
            ],
            [
             0.1,
             "#c51b7d"
            ],
            [
             0.2,
             "#de77ae"
            ],
            [
             0.3,
             "#f1b6da"
            ],
            [
             0.4,
             "#fde0ef"
            ],
            [
             0.5,
             "#f7f7f7"
            ],
            [
             0.6,
             "#e6f5d0"
            ],
            [
             0.7,
             "#b8e186"
            ],
            [
             0.8,
             "#7fbc41"
            ],
            [
             0.9,
             "#4d9221"
            ],
            [
             1,
             "#276419"
            ]
           ],
           "sequential": [
            [
             0,
             "#0d0887"
            ],
            [
             0.1111111111111111,
             "#46039f"
            ],
            [
             0.2222222222222222,
             "#7201a8"
            ],
            [
             0.3333333333333333,
             "#9c179e"
            ],
            [
             0.4444444444444444,
             "#bd3786"
            ],
            [
             0.5555555555555556,
             "#d8576b"
            ],
            [
             0.6666666666666666,
             "#ed7953"
            ],
            [
             0.7777777777777778,
             "#fb9f3a"
            ],
            [
             0.8888888888888888,
             "#fdca26"
            ],
            [
             1,
             "#f0f921"
            ]
           ],
           "sequentialminus": [
            [
             0,
             "#0d0887"
            ],
            [
             0.1111111111111111,
             "#46039f"
            ],
            [
             0.2222222222222222,
             "#7201a8"
            ],
            [
             0.3333333333333333,
             "#9c179e"
            ],
            [
             0.4444444444444444,
             "#bd3786"
            ],
            [
             0.5555555555555556,
             "#d8576b"
            ],
            [
             0.6666666666666666,
             "#ed7953"
            ],
            [
             0.7777777777777778,
             "#fb9f3a"
            ],
            [
             0.8888888888888888,
             "#fdca26"
            ],
            [
             1,
             "#f0f921"
            ]
           ]
          },
          "colorway": [
           "#636efa",
           "#EF553B",
           "#00cc96",
           "#ab63fa",
           "#FFA15A",
           "#19d3f3",
           "#FF6692",
           "#B6E880",
           "#FF97FF",
           "#FECB52"
          ],
          "font": {
           "color": "#2a3f5f"
          },
          "geo": {
           "bgcolor": "white",
           "lakecolor": "white",
           "landcolor": "#E5ECF6",
           "showlakes": true,
           "showland": true,
           "subunitcolor": "white"
          },
          "hoverlabel": {
           "align": "left"
          },
          "hovermode": "closest",
          "mapbox": {
           "style": "light"
          },
          "paper_bgcolor": "white",
          "plot_bgcolor": "#E5ECF6",
          "polar": {
           "angularaxis": {
            "gridcolor": "white",
            "linecolor": "white",
            "ticks": ""
           },
           "bgcolor": "#E5ECF6",
           "radialaxis": {
            "gridcolor": "white",
            "linecolor": "white",
            "ticks": ""
           }
          },
          "scene": {
           "xaxis": {
            "backgroundcolor": "#E5ECF6",
            "gridcolor": "white",
            "gridwidth": 2,
            "linecolor": "white",
            "showbackground": true,
            "ticks": "",
            "zerolinecolor": "white"
           },
           "yaxis": {
            "backgroundcolor": "#E5ECF6",
            "gridcolor": "white",
            "gridwidth": 2,
            "linecolor": "white",
            "showbackground": true,
            "ticks": "",
            "zerolinecolor": "white"
           },
           "zaxis": {
            "backgroundcolor": "#E5ECF6",
            "gridcolor": "white",
            "gridwidth": 2,
            "linecolor": "white",
            "showbackground": true,
            "ticks": "",
            "zerolinecolor": "white"
           }
          },
          "shapedefaults": {
           "line": {
            "color": "#2a3f5f"
           }
          },
          "ternary": {
           "aaxis": {
            "gridcolor": "white",
            "linecolor": "white",
            "ticks": ""
           },
           "baxis": {
            "gridcolor": "white",
            "linecolor": "white",
            "ticks": ""
           },
           "bgcolor": "#E5ECF6",
           "caxis": {
            "gridcolor": "white",
            "linecolor": "white",
            "ticks": ""
           }
          },
          "title": {
           "x": 0.05
          },
          "xaxis": {
           "automargin": true,
           "gridcolor": "white",
           "linecolor": "white",
           "ticks": "",
           "title": {
            "standoff": 15
           },
           "zerolinecolor": "white",
           "zerolinewidth": 2
          },
          "yaxis": {
           "automargin": true,
           "gridcolor": "white",
           "linecolor": "white",
           "ticks": "",
           "title": {
            "standoff": 15
           },
           "zerolinecolor": "white",
           "zerolinewidth": 2
          }
         }
        },
        "title": {
         "text": "Validation Metrics Over Time (GD Model)"
        },
        "xaxis": {
         "anchor": "y",
         "domain": [
          0,
          1
         ],
         "title": {
          "text": "index"
         }
        },
        "yaxis": {
         "anchor": "x",
         "domain": [
          0,
          1
         ],
         "title": {
          "text": "value"
         }
        }
       }
      }
     },
     "metadata": {},
     "output_type": "display_data"
    }
   ],
   "source": [
    "import datetime\n",
    "import plotly.express as px\n",
    "\n",
    "time_range = [datetime.time(hour, minute) for hour in range(9, 16) for minute in range(0, 60, 5)]\n",
    "time_range = [x for x in time_range if x >= datetime.time(9,45)]\n",
    "df_val = pd.DataFrame()\n",
    "for t in time_range:\n",
    "    X_val = X_test.loc[X_test['time'] <= t].copy()\n",
    "    y_val = y_test.loc[X_val.index, 'green_day'].copy()\n",
    "\n",
    "    y_pred_val = pipeline_gd.predict_proba(X_val)[:,-1]\n",
    "\n",
    "    df_val.loc[t, [\n",
    "        'roc_auc',\n",
    "        'precision',\n",
    "        'recall'\n",
    "    ]] =  roc_auc_score(y_val, y_pred_val), precision_score(y_val, y_pred_val > 0.5), recall_score(y_val, y_pred_val > 0.5)\n",
    "\n",
    "\n",
    "fig = px.line(df_val, title='Validation Metrics Over Time (GD Model)')\n",
    "fig.show()"
   ]
  },
  {
   "cell_type": "code",
   "execution_count": 298,
   "metadata": {},
   "outputs": [],
   "source": [
    "df_results = X_test.copy()\n",
    "df_results['pred_hod'] = y_pred_hod\n",
    "df_results['pred_lod'] = y_pred_lod\n",
    "df_results['pred_gd'] = y_pred_gd"
   ]
  },
  {
   "cell_type": "code",
   "execution_count": 299,
   "metadata": {},
   "outputs": [
    {
     "data": {
      "text/plain": [
       "Timestamp('2023-03-14 09:45:00')"
      ]
     },
     "execution_count": 299,
     "metadata": {},
     "output_type": "execute_result"
    }
   ],
   "source": [
    "X_test.index[0]"
   ]
  },
  {
   "cell_type": "code",
   "execution_count": 300,
   "metadata": {},
   "outputs": [
    {
     "data": {
      "application/vnd.plotly.v1+json": {
       "config": {
        "plotlyServerURL": "https://plot.ly"
       },
       "data": [
        {
         "close": [
          16700.22,
          16677.43,
          16689.02,
          16667.1,
          16674.26,
          16695.48,
          16695.8,
          16689.94,
          16708.75,
          16712.67,
          16711.91,
          16732.88,
          16736.52,
          16730.54,
          16739.3,
          16741.66,
          16736.21,
          16715.96,
          16714.47,
          16718.77,
          16716.49,
          16709.65,
          16715.4,
          16730.85,
          16724,
          16719.14,
          16727.62,
          16723.64,
          16730.78,
          16741.6,
          16738.99,
          16736.24,
          16736.94,
          16739.62,
          16751.56,
          16745.81,
          16750.81,
          16750.8,
          16758.86,
          16772.82,
          16754.25,
          16749.63,
          16755.17,
          16756.5,
          16753.34,
          16767.2,
          16765.75,
          16765.04,
          16767.25,
          16772.47,
          16772.22,
          16780.49,
          16783.01,
          16799.4,
          16805.68,
          16803.85,
          16798.56,
          16801.23,
          16796.67,
          16802.24,
          16807.55,
          16818.08,
          16825.99,
          16821.5,
          16826.61,
          16809.1,
          16803.11,
          16775.89,
          16786.54,
          16791.54,
          16786.79,
          16768.88,
          16755.73,
          16777.82,
          16790.26
         ],
         "high": [
          16714.45,
          16700.29,
          16689.02,
          16690.07,
          16674.26,
          16701.86,
          16707.67,
          16699.82,
          16711.44,
          16719.66,
          16718.38,
          16735.5,
          16736.82,
          16740.3,
          16740.06,
          16745.16,
          16742.68,
          16736.43,
          16718.56,
          16724.31,
          16723.57,
          16719.42,
          16716.9,
          16731.26,
          16732.45,
          16725.85,
          16733.56,
          16728.48,
          16730.78,
          16741.7,
          16742.12,
          16741.13,
          16737.13,
          16743.35,
          16752.6,
          16752.95,
          16751.08,
          16753.51,
          16760.39,
          16772.82,
          16775.68,
          16755.8,
          16757.04,
          16756.55,
          16759.61,
          16767.45,
          16767.39,
          16768.27,
          16769.04,
          16772.74,
          16773.69,
          16780.56,
          16784.05,
          16808.56,
          16806.54,
          16806.29,
          16810.51,
          16805.45,
          16802.25,
          16802.28,
          16811.15,
          16821.36,
          16826.52,
          16827.37,
          16826.77,
          16826.96,
          16815.21,
          16806.53,
          16793.26,
          16794.44,
          16792.22,
          16788.2,
          16776.63,
          16777.82,
          16798.88
         ],
         "low": [
          16694.92,
          16671.84,
          16666.44,
          16657.81,
          16654.74,
          16674.21,
          16692.14,
          16689.94,
          16688.06,
          16708.68,
          16705.37,
          16710.66,
          16726.55,
          16730.16,
          16729.93,
          16739.26,
          16731.44,
          16707.52,
          16706.16,
          16714.61,
          16714.15,
          16707.22,
          16709.97,
          16715.26,
          16723.4,
          16711.36,
          16717.18,
          16719.36,
          16719.33,
          16728.89,
          16734.37,
          16734.12,
          16728.3,
          16735.99,
          16739.48,
          16741.83,
          16742.58,
          16749.24,
          16750.98,
          16743.8,
          16753.24,
          16740.26,
          16745.14,
          16745.38,
          16752.71,
          16752.71,
          16757.06,
          16762.99,
          16762.94,
          16767.33,
          16770.43,
          16771.16,
          16778.92,
          16782.21,
          16798.74,
          16799.24,
          16798.55,
          16798.46,
          16792.99,
          16796.73,
          16802.04,
          16807.64,
          16818.08,
          16814.72,
          16816.24,
          16805.86,
          16800.6,
          16775.84,
          16773.67,
          16781.25,
          16782.24,
          16764.46,
          16755.11,
          16744.11,
          16774.57
         ],
         "open": [
          16705.99,
          16700.29,
          16677.01,
          16689.52,
          16666.94,
          16674.21,
          16695.8,
          16695.21,
          16689.88,
          16708.71,
          16712.8,
          16712.11,
          16732.96,
          16736.56,
          16730.22,
          16739.26,
          16741.65,
          16736.09,
          16715.75,
          16714.7,
          16718.4,
          16716.39,
          16709.98,
          16715.4,
          16731.12,
          16723.99,
          16719.14,
          16727.51,
          16723.6,
          16731.06,
          16741.47,
          16738.93,
          16736.3,
          16736.97,
          16739.52,
          16751.53,
          16745.82,
          16750.86,
          16750.98,
          16758.33,
          16772.62,
          16754.34,
          16749.13,
          16755.17,
          16756.48,
          16753.62,
          16767.23,
          16765.64,
          16765.06,
          16767.62,
          16772.48,
          16772.32,
          16780.56,
          16783.18,
          16799.56,
          16805.76,
          16803.81,
          16798.9,
          16801.38,
          16796.73,
          16802.3,
          16807.64,
          16818.08,
          16826.02,
          16821.78,
          16826.64,
          16810.03,
          16803.52,
          16776.02,
          16786.79,
          16791.68,
          16787.14,
          16769,
          16753.1,
          16782.81
         ],
         "type": "candlestick",
         "x": [
          "2024-01-10T09:45:00",
          "2024-01-10T09:50:00",
          "2024-01-10T09:55:00",
          "2024-01-10T10:00:00",
          "2024-01-10T10:05:00",
          "2024-01-10T10:10:00",
          "2024-01-10T10:15:00",
          "2024-01-10T10:20:00",
          "2024-01-10T10:25:00",
          "2024-01-10T10:30:00",
          "2024-01-10T10:35:00",
          "2024-01-10T10:40:00",
          "2024-01-10T10:45:00",
          "2024-01-10T10:50:00",
          "2024-01-10T10:55:00",
          "2024-01-10T11:00:00",
          "2024-01-10T11:05:00",
          "2024-01-10T11:10:00",
          "2024-01-10T11:15:00",
          "2024-01-10T11:20:00",
          "2024-01-10T11:25:00",
          "2024-01-10T11:30:00",
          "2024-01-10T11:35:00",
          "2024-01-10T11:40:00",
          "2024-01-10T11:45:00",
          "2024-01-10T11:50:00",
          "2024-01-10T11:55:00",
          "2024-01-10T12:00:00",
          "2024-01-10T12:05:00",
          "2024-01-10T12:10:00",
          "2024-01-10T12:15:00",
          "2024-01-10T12:20:00",
          "2024-01-10T12:25:00",
          "2024-01-10T12:30:00",
          "2024-01-10T12:35:00",
          "2024-01-10T12:40:00",
          "2024-01-10T12:45:00",
          "2024-01-10T12:50:00",
          "2024-01-10T12:55:00",
          "2024-01-10T13:00:00",
          "2024-01-10T13:05:00",
          "2024-01-10T13:10:00",
          "2024-01-10T13:15:00",
          "2024-01-10T13:20:00",
          "2024-01-10T13:25:00",
          "2024-01-10T13:30:00",
          "2024-01-10T13:35:00",
          "2024-01-10T13:40:00",
          "2024-01-10T13:45:00",
          "2024-01-10T13:50:00",
          "2024-01-10T13:55:00",
          "2024-01-10T14:00:00",
          "2024-01-10T14:05:00",
          "2024-01-10T14:10:00",
          "2024-01-10T14:15:00",
          "2024-01-10T14:20:00",
          "2024-01-10T14:25:00",
          "2024-01-10T14:30:00",
          "2024-01-10T14:35:00",
          "2024-01-10T14:40:00",
          "2024-01-10T14:45:00",
          "2024-01-10T14:50:00",
          "2024-01-10T14:55:00",
          "2024-01-10T15:00:00",
          "2024-01-10T15:05:00",
          "2024-01-10T15:10:00",
          "2024-01-10T15:15:00",
          "2024-01-10T15:20:00",
          "2024-01-10T15:25:00",
          "2024-01-10T15:30:00",
          "2024-01-10T15:35:00",
          "2024-01-10T15:40:00",
          "2024-01-10T15:45:00",
          "2024-01-10T15:50:00",
          "2024-01-10T15:55:00"
         ]
        },
        {
         "line": {
          "color": "#ff5f5f"
         },
         "mode": "lines",
         "name": "pred_hod",
         "type": "scatter",
         "x": [
          "2024-01-10T09:45:00",
          "2024-01-10T09:50:00",
          "2024-01-10T09:55:00",
          "2024-01-10T10:00:00",
          "2024-01-10T10:05:00",
          "2024-01-10T10:10:00",
          "2024-01-10T10:15:00",
          "2024-01-10T10:20:00",
          "2024-01-10T10:25:00",
          "2024-01-10T10:30:00",
          "2024-01-10T10:35:00",
          "2024-01-10T10:40:00",
          "2024-01-10T10:45:00",
          "2024-01-10T10:50:00",
          "2024-01-10T10:55:00",
          "2024-01-10T11:00:00",
          "2024-01-10T11:05:00",
          "2024-01-10T11:10:00",
          "2024-01-10T11:15:00",
          "2024-01-10T11:20:00",
          "2024-01-10T11:25:00",
          "2024-01-10T11:30:00",
          "2024-01-10T11:35:00",
          "2024-01-10T11:40:00",
          "2024-01-10T11:45:00",
          "2024-01-10T11:50:00",
          "2024-01-10T11:55:00",
          "2024-01-10T12:00:00",
          "2024-01-10T12:05:00",
          "2024-01-10T12:10:00",
          "2024-01-10T12:15:00",
          "2024-01-10T12:20:00",
          "2024-01-10T12:25:00",
          "2024-01-10T12:30:00",
          "2024-01-10T12:35:00",
          "2024-01-10T12:40:00",
          "2024-01-10T12:45:00",
          "2024-01-10T12:50:00",
          "2024-01-10T12:55:00",
          "2024-01-10T13:00:00",
          "2024-01-10T13:05:00",
          "2024-01-10T13:10:00",
          "2024-01-10T13:15:00",
          "2024-01-10T13:20:00",
          "2024-01-10T13:25:00",
          "2024-01-10T13:30:00",
          "2024-01-10T13:35:00",
          "2024-01-10T13:40:00",
          "2024-01-10T13:45:00",
          "2024-01-10T13:50:00",
          "2024-01-10T13:55:00",
          "2024-01-10T14:00:00",
          "2024-01-10T14:05:00",
          "2024-01-10T14:10:00",
          "2024-01-10T14:15:00",
          "2024-01-10T14:20:00",
          "2024-01-10T14:25:00",
          "2024-01-10T14:30:00",
          "2024-01-10T14:35:00",
          "2024-01-10T14:40:00",
          "2024-01-10T14:45:00",
          "2024-01-10T14:50:00",
          "2024-01-10T14:55:00",
          "2024-01-10T15:00:00",
          "2024-01-10T15:05:00",
          "2024-01-10T15:10:00",
          "2024-01-10T15:15:00",
          "2024-01-10T15:20:00",
          "2024-01-10T15:25:00",
          "2024-01-10T15:30:00",
          "2024-01-10T15:35:00",
          "2024-01-10T15:40:00",
          "2024-01-10T15:45:00",
          "2024-01-10T15:50:00",
          "2024-01-10T15:55:00"
         ],
         "y": [
          0.32767440071441595,
          0.4367032217820724,
          0.2718733462253268,
          0.554629827493742,
          0.40908576451660805,
          0.24936921761864725,
          0.26041144291884794,
          0.29099750393015633,
          0.22480898087015455,
          0.1969557230667015,
          0.21554443694119693,
          0.0461700125203278,
          0.04703273951462322,
          0.10356675090701639,
          0.06138468836258358,
          0.04606450644216795,
          0.1435548540785774,
          0.352055307973707,
          0.3800857506058498,
          0.38127778647696653,
          0.38828214360132224,
          0.44109138902747813,
          0.39040809674928323,
          0.2490442468596931,
          0.32744773516225345,
          0.37254808241493526,
          0.2944992573844746,
          0.35518674089548147,
          0.25521900465855857,
          0.08643773844892773,
          0.11711983336021406,
          0.1583801619169143,
          0.1527764250481901,
          0.11524366129561894,
          0.05229471940387777,
          0.12252522276173099,
          0.07515625683289519,
          0.0751927212291178,
          0.05159280035228666,
          0.05100524113881871,
          0.2639602025546497,
          0.31483244763245444,
          0.27984604156084325,
          0.2633702293886221,
          0.29123653357704976,
          0.1394160746708919,
          0.1546831943171383,
          0.164002730412783,
          0.1475767295008551,
          0.08316007261147682,
          0.08316007261147682,
          0.0535570908350283,
          0.0535570908350283,
          0.0535570908350283,
          0.07741972451933156,
          0.11253933745308947,
          0.18815694720692824,
          0.1649006292313717,
          0.2224569379024399,
          0.17216611942842167,
          0.08794543176757731,
          0.061903330635918914,
          0.0630850273281893,
          0.14067933841280508,
          0.08756124634975936,
          0.36855864244582526,
          0.5184997276203619,
          0.7925840878028776,
          0.7824599145218495,
          0.763667627086864,
          0.8529888195272244,
          0.9355392081732242,
          0.9581040202547705,
          0.966795438805676,
          0.9968558368292353
         ],
         "yaxis": "y2"
        },
        {
         "line": {
          "color": "#3399cc"
         },
         "mode": "lines",
         "name": "pred_lod",
         "type": "scatter",
         "x": [
          "2024-01-10T09:45:00",
          "2024-01-10T09:50:00",
          "2024-01-10T09:55:00",
          "2024-01-10T10:00:00",
          "2024-01-10T10:05:00",
          "2024-01-10T10:10:00",
          "2024-01-10T10:15:00",
          "2024-01-10T10:20:00",
          "2024-01-10T10:25:00",
          "2024-01-10T10:30:00",
          "2024-01-10T10:35:00",
          "2024-01-10T10:40:00",
          "2024-01-10T10:45:00",
          "2024-01-10T10:50:00",
          "2024-01-10T10:55:00",
          "2024-01-10T11:00:00",
          "2024-01-10T11:05:00",
          "2024-01-10T11:10:00",
          "2024-01-10T11:15:00",
          "2024-01-10T11:20:00",
          "2024-01-10T11:25:00",
          "2024-01-10T11:30:00",
          "2024-01-10T11:35:00",
          "2024-01-10T11:40:00",
          "2024-01-10T11:45:00",
          "2024-01-10T11:50:00",
          "2024-01-10T11:55:00",
          "2024-01-10T12:00:00",
          "2024-01-10T12:05:00",
          "2024-01-10T12:10:00",
          "2024-01-10T12:15:00",
          "2024-01-10T12:20:00",
          "2024-01-10T12:25:00",
          "2024-01-10T12:30:00",
          "2024-01-10T12:35:00",
          "2024-01-10T12:40:00",
          "2024-01-10T12:45:00",
          "2024-01-10T12:50:00",
          "2024-01-10T12:55:00",
          "2024-01-10T13:00:00",
          "2024-01-10T13:05:00",
          "2024-01-10T13:10:00",
          "2024-01-10T13:15:00",
          "2024-01-10T13:20:00",
          "2024-01-10T13:25:00",
          "2024-01-10T13:30:00",
          "2024-01-10T13:35:00",
          "2024-01-10T13:40:00",
          "2024-01-10T13:45:00",
          "2024-01-10T13:50:00",
          "2024-01-10T13:55:00",
          "2024-01-10T14:00:00",
          "2024-01-10T14:05:00",
          "2024-01-10T14:10:00",
          "2024-01-10T14:15:00",
          "2024-01-10T14:20:00",
          "2024-01-10T14:25:00",
          "2024-01-10T14:30:00",
          "2024-01-10T14:35:00",
          "2024-01-10T14:40:00",
          "2024-01-10T14:45:00",
          "2024-01-10T14:50:00",
          "2024-01-10T14:55:00",
          "2024-01-10T15:00:00",
          "2024-01-10T15:05:00",
          "2024-01-10T15:10:00",
          "2024-01-10T15:15:00",
          "2024-01-10T15:20:00",
          "2024-01-10T15:25:00",
          "2024-01-10T15:30:00",
          "2024-01-10T15:35:00",
          "2024-01-10T15:40:00",
          "2024-01-10T15:45:00",
          "2024-01-10T15:50:00",
          "2024-01-10T15:55:00"
         ],
         "y": [
          0.09145970551871614,
          0.06463840136772771,
          0.19691148383862694,
          0.09515439989422318,
          0.19840636219982039,
          0.44137279835621496,
          0.45688267167250546,
          0.46058499231194494,
          0.5207861334075903,
          0.5411495933092785,
          0.5492103582729585,
          0.6993500241738569,
          0.7165681831289351,
          0.6920377969145612,
          0.7614159861234705,
          0.7867113554088931,
          0.7438776514350264,
          0.6637624124105203,
          0.6607331620725688,
          0.6799339201516313,
          0.6793292600973488,
          0.6167215174048918,
          0.6850572942848785,
          0.8110273691101744,
          0.7747593230878618,
          0.7220457135021646,
          0.787517680813281,
          0.780846890013888,
          0.8347109650461366,
          0.9220591823513974,
          0.9067054855095296,
          0.9000316152390283,
          0.8989514407354277,
          0.906282257220451,
          0.9357952123199713,
          0.9164646040822567,
          0.9539055668995188,
          0.952201514019414,
          0.9560605463720246,
          0.9600212537117392,
          0.8775427388920035,
          0.8588807062577608,
          0.8788798340034785,
          0.883697622951651,
          0.884061498870665,
          0.953189027183896,
          0.947357563418833,
          0.9496646246824273,
          0.9606970585544706,
          0.9753639471131932,
          0.975842865229582,
          0.9777878957885403,
          0.9799284802125279,
          0.9834077869481405,
          0.9858065257679628,
          0.9859479096356196,
          0.9826402378889059,
          0.9826402378889059,
          0.9778574002254224,
          0.9892303361782541,
          0.9930789783329841,
          0.9948528413313771,
          0.9962139365877604,
          0.995127774906147,
          0.996404876283082,
          0.9918701304679273,
          0.9904782492320268,
          0.9728578984679969,
          0.981685020604495,
          0.9864873664165346,
          0.987664533037686,
          0.9834959290071901,
          0.9837239090344011,
          0.9915072354632453,
          0.9991116073931898
         ],
         "yaxis": "y2"
        },
        {
         "line": {
          "color": "#98ff98"
         },
         "mode": "lines",
         "name": "pred_lod",
         "type": "scatter",
         "x": [
          "2024-01-10T09:45:00",
          "2024-01-10T09:50:00",
          "2024-01-10T09:55:00",
          "2024-01-10T10:00:00",
          "2024-01-10T10:05:00",
          "2024-01-10T10:10:00",
          "2024-01-10T10:15:00",
          "2024-01-10T10:20:00",
          "2024-01-10T10:25:00",
          "2024-01-10T10:30:00",
          "2024-01-10T10:35:00",
          "2024-01-10T10:40:00",
          "2024-01-10T10:45:00",
          "2024-01-10T10:50:00",
          "2024-01-10T10:55:00",
          "2024-01-10T11:00:00",
          "2024-01-10T11:05:00",
          "2024-01-10T11:10:00",
          "2024-01-10T11:15:00",
          "2024-01-10T11:20:00",
          "2024-01-10T11:25:00",
          "2024-01-10T11:30:00",
          "2024-01-10T11:35:00",
          "2024-01-10T11:40:00",
          "2024-01-10T11:45:00",
          "2024-01-10T11:50:00",
          "2024-01-10T11:55:00",
          "2024-01-10T12:00:00",
          "2024-01-10T12:05:00",
          "2024-01-10T12:10:00",
          "2024-01-10T12:15:00",
          "2024-01-10T12:20:00",
          "2024-01-10T12:25:00",
          "2024-01-10T12:30:00",
          "2024-01-10T12:35:00",
          "2024-01-10T12:40:00",
          "2024-01-10T12:45:00",
          "2024-01-10T12:50:00",
          "2024-01-10T12:55:00",
          "2024-01-10T13:00:00",
          "2024-01-10T13:05:00",
          "2024-01-10T13:10:00",
          "2024-01-10T13:15:00",
          "2024-01-10T13:20:00",
          "2024-01-10T13:25:00",
          "2024-01-10T13:30:00",
          "2024-01-10T13:35:00",
          "2024-01-10T13:40:00",
          "2024-01-10T13:45:00",
          "2024-01-10T13:50:00",
          "2024-01-10T13:55:00",
          "2024-01-10T14:00:00",
          "2024-01-10T14:05:00",
          "2024-01-10T14:10:00",
          "2024-01-10T14:15:00",
          "2024-01-10T14:20:00",
          "2024-01-10T14:25:00",
          "2024-01-10T14:30:00",
          "2024-01-10T14:35:00",
          "2024-01-10T14:40:00",
          "2024-01-10T14:45:00",
          "2024-01-10T14:50:00",
          "2024-01-10T14:55:00",
          "2024-01-10T15:00:00",
          "2024-01-10T15:05:00",
          "2024-01-10T15:10:00",
          "2024-01-10T15:15:00",
          "2024-01-10T15:20:00",
          "2024-01-10T15:25:00",
          "2024-01-10T15:30:00",
          "2024-01-10T15:35:00",
          "2024-01-10T15:40:00",
          "2024-01-10T15:45:00",
          "2024-01-10T15:50:00",
          "2024-01-10T15:55:00"
         ],
         "y": [
          0.7470995980908506,
          0.6332979865311246,
          0.6902163261810182,
          0.5434016663088127,
          0.5831833411878832,
          0.7112111013661986,
          0.7385499484583905,
          0.6979814592388366,
          0.7650819675758677,
          0.7701298303330052,
          0.7620096337060233,
          0.825162734996129,
          0.8265415594044702,
          0.7831028810647434,
          0.8479260532976365,
          0.8480728488992056,
          0.8039938463207654,
          0.7870919194202212,
          0.7929728191191494,
          0.7769024235411354,
          0.7776672417854897,
          0.777827706940301,
          0.7776672417854897,
          0.8286595185695167,
          0.8224396017232265,
          0.7786027631001854,
          0.8223440989940669,
          0.8301096571565764,
          0.8458279434015022,
          0.898302923904586,
          0.8910071210601003,
          0.8779129589428942,
          0.8801055652565489,
          0.8960388687674825,
          0.9272784934128623,
          0.8841148575391264,
          0.9411981972006244,
          0.9439018104759301,
          0.9609471330392652,
          0.9711438092753626,
          0.9400992818590409,
          0.9003833687936442,
          0.9379180671185858,
          0.9320008287707621,
          0.9372871026597319,
          0.9725346895232898,
          0.9707757187218309,
          0.9676183734297197,
          0.9728533112373368,
          0.978953036524858,
          0.9783963124741734,
          0.9838324763454835,
          0.9838324763454835,
          0.9859185508223665,
          0.9862303093814568,
          0.9874830993580629,
          0.9846206027742574,
          0.9871284579889614,
          0.9861827957274596,
          0.9882449917403549,
          0.9899371639260491,
          0.991002167522396,
          0.9912733382071917,
          0.9919713798830295,
          0.9927478907649124,
          0.9898559649120603,
          0.9893508932264908,
          0.9755815860168613,
          0.9845025786383143,
          0.9883149638230947,
          0.9877469804665363,
          0.9845014624638717,
          0.9712615361394437,
          0.9885900359070996,
          0.9902024109464082
         ],
         "yaxis": "y2"
        }
       ],
       "layout": {
        "legend": {
         "orientation": "h",
         "x": 1,
         "xanchor": "right",
         "y": 1.02,
         "yanchor": "bottom"
        },
        "shapes": [
         {
          "line": {
           "color": "Red",
           "dash": "dash",
           "width": 1.5
          },
          "type": "line",
          "x0": "2024-01-10T09:45:00",
          "x1": "2024-01-10T15:55:00",
          "y0": 0.5,
          "y1": 0.5,
          "yref": "y2"
         }
        ],
        "template": {
         "data": {
          "bar": [
           {
            "error_x": {
             "color": "#f2f5fa"
            },
            "error_y": {
             "color": "#f2f5fa"
            },
            "marker": {
             "line": {
              "color": "rgb(17,17,17)",
              "width": 0.5
             },
             "pattern": {
              "fillmode": "overlay",
              "size": 10,
              "solidity": 0.2
             }
            },
            "type": "bar"
           }
          ],
          "barpolar": [
           {
            "marker": {
             "line": {
              "color": "rgb(17,17,17)",
              "width": 0.5
             },
             "pattern": {
              "fillmode": "overlay",
              "size": 10,
              "solidity": 0.2
             }
            },
            "type": "barpolar"
           }
          ],
          "carpet": [
           {
            "aaxis": {
             "endlinecolor": "#A2B1C6",
             "gridcolor": "#506784",
             "linecolor": "#506784",
             "minorgridcolor": "#506784",
             "startlinecolor": "#A2B1C6"
            },
            "baxis": {
             "endlinecolor": "#A2B1C6",
             "gridcolor": "#506784",
             "linecolor": "#506784",
             "minorgridcolor": "#506784",
             "startlinecolor": "#A2B1C6"
            },
            "type": "carpet"
           }
          ],
          "choropleth": [
           {
            "colorbar": {
             "outlinewidth": 0,
             "ticks": ""
            },
            "type": "choropleth"
           }
          ],
          "contour": [
           {
            "colorbar": {
             "outlinewidth": 0,
             "ticks": ""
            },
            "colorscale": [
             [
              0,
              "#0d0887"
             ],
             [
              0.1111111111111111,
              "#46039f"
             ],
             [
              0.2222222222222222,
              "#7201a8"
             ],
             [
              0.3333333333333333,
              "#9c179e"
             ],
             [
              0.4444444444444444,
              "#bd3786"
             ],
             [
              0.5555555555555556,
              "#d8576b"
             ],
             [
              0.6666666666666666,
              "#ed7953"
             ],
             [
              0.7777777777777778,
              "#fb9f3a"
             ],
             [
              0.8888888888888888,
              "#fdca26"
             ],
             [
              1,
              "#f0f921"
             ]
            ],
            "type": "contour"
           }
          ],
          "contourcarpet": [
           {
            "colorbar": {
             "outlinewidth": 0,
             "ticks": ""
            },
            "type": "contourcarpet"
           }
          ],
          "heatmap": [
           {
            "colorbar": {
             "outlinewidth": 0,
             "ticks": ""
            },
            "colorscale": [
             [
              0,
              "#0d0887"
             ],
             [
              0.1111111111111111,
              "#46039f"
             ],
             [
              0.2222222222222222,
              "#7201a8"
             ],
             [
              0.3333333333333333,
              "#9c179e"
             ],
             [
              0.4444444444444444,
              "#bd3786"
             ],
             [
              0.5555555555555556,
              "#d8576b"
             ],
             [
              0.6666666666666666,
              "#ed7953"
             ],
             [
              0.7777777777777778,
              "#fb9f3a"
             ],
             [
              0.8888888888888888,
              "#fdca26"
             ],
             [
              1,
              "#f0f921"
             ]
            ],
            "type": "heatmap"
           }
          ],
          "heatmapgl": [
           {
            "colorbar": {
             "outlinewidth": 0,
             "ticks": ""
            },
            "colorscale": [
             [
              0,
              "#0d0887"
             ],
             [
              0.1111111111111111,
              "#46039f"
             ],
             [
              0.2222222222222222,
              "#7201a8"
             ],
             [
              0.3333333333333333,
              "#9c179e"
             ],
             [
              0.4444444444444444,
              "#bd3786"
             ],
             [
              0.5555555555555556,
              "#d8576b"
             ],
             [
              0.6666666666666666,
              "#ed7953"
             ],
             [
              0.7777777777777778,
              "#fb9f3a"
             ],
             [
              0.8888888888888888,
              "#fdca26"
             ],
             [
              1,
              "#f0f921"
             ]
            ],
            "type": "heatmapgl"
           }
          ],
          "histogram": [
           {
            "marker": {
             "pattern": {
              "fillmode": "overlay",
              "size": 10,
              "solidity": 0.2
             }
            },
            "type": "histogram"
           }
          ],
          "histogram2d": [
           {
            "colorbar": {
             "outlinewidth": 0,
             "ticks": ""
            },
            "colorscale": [
             [
              0,
              "#0d0887"
             ],
             [
              0.1111111111111111,
              "#46039f"
             ],
             [
              0.2222222222222222,
              "#7201a8"
             ],
             [
              0.3333333333333333,
              "#9c179e"
             ],
             [
              0.4444444444444444,
              "#bd3786"
             ],
             [
              0.5555555555555556,
              "#d8576b"
             ],
             [
              0.6666666666666666,
              "#ed7953"
             ],
             [
              0.7777777777777778,
              "#fb9f3a"
             ],
             [
              0.8888888888888888,
              "#fdca26"
             ],
             [
              1,
              "#f0f921"
             ]
            ],
            "type": "histogram2d"
           }
          ],
          "histogram2dcontour": [
           {
            "colorbar": {
             "outlinewidth": 0,
             "ticks": ""
            },
            "colorscale": [
             [
              0,
              "#0d0887"
             ],
             [
              0.1111111111111111,
              "#46039f"
             ],
             [
              0.2222222222222222,
              "#7201a8"
             ],
             [
              0.3333333333333333,
              "#9c179e"
             ],
             [
              0.4444444444444444,
              "#bd3786"
             ],
             [
              0.5555555555555556,
              "#d8576b"
             ],
             [
              0.6666666666666666,
              "#ed7953"
             ],
             [
              0.7777777777777778,
              "#fb9f3a"
             ],
             [
              0.8888888888888888,
              "#fdca26"
             ],
             [
              1,
              "#f0f921"
             ]
            ],
            "type": "histogram2dcontour"
           }
          ],
          "mesh3d": [
           {
            "colorbar": {
             "outlinewidth": 0,
             "ticks": ""
            },
            "type": "mesh3d"
           }
          ],
          "parcoords": [
           {
            "line": {
             "colorbar": {
              "outlinewidth": 0,
              "ticks": ""
             }
            },
            "type": "parcoords"
           }
          ],
          "pie": [
           {
            "automargin": true,
            "type": "pie"
           }
          ],
          "scatter": [
           {
            "marker": {
             "line": {
              "color": "#283442"
             }
            },
            "type": "scatter"
           }
          ],
          "scatter3d": [
           {
            "line": {
             "colorbar": {
              "outlinewidth": 0,
              "ticks": ""
             }
            },
            "marker": {
             "colorbar": {
              "outlinewidth": 0,
              "ticks": ""
             }
            },
            "type": "scatter3d"
           }
          ],
          "scattercarpet": [
           {
            "marker": {
             "colorbar": {
              "outlinewidth": 0,
              "ticks": ""
             }
            },
            "type": "scattercarpet"
           }
          ],
          "scattergeo": [
           {
            "marker": {
             "colorbar": {
              "outlinewidth": 0,
              "ticks": ""
             }
            },
            "type": "scattergeo"
           }
          ],
          "scattergl": [
           {
            "marker": {
             "line": {
              "color": "#283442"
             }
            },
            "type": "scattergl"
           }
          ],
          "scattermapbox": [
           {
            "marker": {
             "colorbar": {
              "outlinewidth": 0,
              "ticks": ""
             }
            },
            "type": "scattermapbox"
           }
          ],
          "scatterpolar": [
           {
            "marker": {
             "colorbar": {
              "outlinewidth": 0,
              "ticks": ""
             }
            },
            "type": "scatterpolar"
           }
          ],
          "scatterpolargl": [
           {
            "marker": {
             "colorbar": {
              "outlinewidth": 0,
              "ticks": ""
             }
            },
            "type": "scatterpolargl"
           }
          ],
          "scatterternary": [
           {
            "marker": {
             "colorbar": {
              "outlinewidth": 0,
              "ticks": ""
             }
            },
            "type": "scatterternary"
           }
          ],
          "surface": [
           {
            "colorbar": {
             "outlinewidth": 0,
             "ticks": ""
            },
            "colorscale": [
             [
              0,
              "#0d0887"
             ],
             [
              0.1111111111111111,
              "#46039f"
             ],
             [
              0.2222222222222222,
              "#7201a8"
             ],
             [
              0.3333333333333333,
              "#9c179e"
             ],
             [
              0.4444444444444444,
              "#bd3786"
             ],
             [
              0.5555555555555556,
              "#d8576b"
             ],
             [
              0.6666666666666666,
              "#ed7953"
             ],
             [
              0.7777777777777778,
              "#fb9f3a"
             ],
             [
              0.8888888888888888,
              "#fdca26"
             ],
             [
              1,
              "#f0f921"
             ]
            ],
            "type": "surface"
           }
          ],
          "table": [
           {
            "cells": {
             "fill": {
              "color": "#506784"
             },
             "line": {
              "color": "rgb(17,17,17)"
             }
            },
            "header": {
             "fill": {
              "color": "#2a3f5f"
             },
             "line": {
              "color": "rgb(17,17,17)"
             }
            },
            "type": "table"
           }
          ]
         },
         "layout": {
          "annotationdefaults": {
           "arrowcolor": "#f2f5fa",
           "arrowhead": 0,
           "arrowwidth": 1
          },
          "autotypenumbers": "strict",
          "coloraxis": {
           "colorbar": {
            "outlinewidth": 0,
            "ticks": ""
           }
          },
          "colorscale": {
           "diverging": [
            [
             0,
             "#8e0152"
            ],
            [
             0.1,
             "#c51b7d"
            ],
            [
             0.2,
             "#de77ae"
            ],
            [
             0.3,
             "#f1b6da"
            ],
            [
             0.4,
             "#fde0ef"
            ],
            [
             0.5,
             "#f7f7f7"
            ],
            [
             0.6,
             "#e6f5d0"
            ],
            [
             0.7,
             "#b8e186"
            ],
            [
             0.8,
             "#7fbc41"
            ],
            [
             0.9,
             "#4d9221"
            ],
            [
             1,
             "#276419"
            ]
           ],
           "sequential": [
            [
             0,
             "#0d0887"
            ],
            [
             0.1111111111111111,
             "#46039f"
            ],
            [
             0.2222222222222222,
             "#7201a8"
            ],
            [
             0.3333333333333333,
             "#9c179e"
            ],
            [
             0.4444444444444444,
             "#bd3786"
            ],
            [
             0.5555555555555556,
             "#d8576b"
            ],
            [
             0.6666666666666666,
             "#ed7953"
            ],
            [
             0.7777777777777778,
             "#fb9f3a"
            ],
            [
             0.8888888888888888,
             "#fdca26"
            ],
            [
             1,
             "#f0f921"
            ]
           ],
           "sequentialminus": [
            [
             0,
             "#0d0887"
            ],
            [
             0.1111111111111111,
             "#46039f"
            ],
            [
             0.2222222222222222,
             "#7201a8"
            ],
            [
             0.3333333333333333,
             "#9c179e"
            ],
            [
             0.4444444444444444,
             "#bd3786"
            ],
            [
             0.5555555555555556,
             "#d8576b"
            ],
            [
             0.6666666666666666,
             "#ed7953"
            ],
            [
             0.7777777777777778,
             "#fb9f3a"
            ],
            [
             0.8888888888888888,
             "#fdca26"
            ],
            [
             1,
             "#f0f921"
            ]
           ]
          },
          "colorway": [
           "#636efa",
           "#EF553B",
           "#00cc96",
           "#ab63fa",
           "#FFA15A",
           "#19d3f3",
           "#FF6692",
           "#B6E880",
           "#FF97FF",
           "#FECB52"
          ],
          "font": {
           "color": "#f2f5fa"
          },
          "geo": {
           "bgcolor": "rgb(17,17,17)",
           "lakecolor": "rgb(17,17,17)",
           "landcolor": "rgb(17,17,17)",
           "showlakes": true,
           "showland": true,
           "subunitcolor": "#506784"
          },
          "hoverlabel": {
           "align": "left"
          },
          "hovermode": "closest",
          "mapbox": {
           "style": "dark"
          },
          "paper_bgcolor": "rgb(17,17,17)",
          "plot_bgcolor": "rgb(17,17,17)",
          "polar": {
           "angularaxis": {
            "gridcolor": "#506784",
            "linecolor": "#506784",
            "ticks": ""
           },
           "bgcolor": "rgb(17,17,17)",
           "radialaxis": {
            "gridcolor": "#506784",
            "linecolor": "#506784",
            "ticks": ""
           }
          },
          "scene": {
           "xaxis": {
            "backgroundcolor": "rgb(17,17,17)",
            "gridcolor": "#506784",
            "gridwidth": 2,
            "linecolor": "#506784",
            "showbackground": true,
            "ticks": "",
            "zerolinecolor": "#C8D4E3"
           },
           "yaxis": {
            "backgroundcolor": "rgb(17,17,17)",
            "gridcolor": "#506784",
            "gridwidth": 2,
            "linecolor": "#506784",
            "showbackground": true,
            "ticks": "",
            "zerolinecolor": "#C8D4E3"
           },
           "zaxis": {
            "backgroundcolor": "rgb(17,17,17)",
            "gridcolor": "#506784",
            "gridwidth": 2,
            "linecolor": "#506784",
            "showbackground": true,
            "ticks": "",
            "zerolinecolor": "#C8D4E3"
           }
          },
          "shapedefaults": {
           "line": {
            "color": "#f2f5fa"
           }
          },
          "sliderdefaults": {
           "bgcolor": "#C8D4E3",
           "bordercolor": "rgb(17,17,17)",
           "borderwidth": 1,
           "tickwidth": 0
          },
          "ternary": {
           "aaxis": {
            "gridcolor": "#506784",
            "linecolor": "#506784",
            "ticks": ""
           },
           "baxis": {
            "gridcolor": "#506784",
            "linecolor": "#506784",
            "ticks": ""
           },
           "bgcolor": "rgb(17,17,17)",
           "caxis": {
            "gridcolor": "#506784",
            "linecolor": "#506784",
            "ticks": ""
           }
          },
          "title": {
           "x": 0.05
          },
          "updatemenudefaults": {
           "bgcolor": "#506784",
           "borderwidth": 0
          },
          "xaxis": {
           "automargin": true,
           "gridcolor": "#283442",
           "linecolor": "#506784",
           "ticks": "",
           "title": {
            "standoff": 15
           },
           "zerolinecolor": "#283442",
           "zerolinewidth": 2
          },
          "yaxis": {
           "automargin": true,
           "gridcolor": "#283442",
           "linecolor": "#506784",
           "ticks": "",
           "title": {
            "standoff": 15
           },
           "zerolinecolor": "#283442",
           "zerolinewidth": 2
          }
         }
        },
        "title": {
         "text": "OHLC vs Prediction Over Time"
        },
        "xaxis": {
         "rangeslider": {
          "visible": false
         }
        },
        "yaxis": {
         "tickformat": ".0f"
        },
        "yaxis2": {
         "overlaying": "y",
         "side": "right",
         "tickformat": ".0%"
        }
       }
      }
     },
     "metadata": {},
     "output_type": "display_data"
    }
   ],
   "source": [
    "import plotly.graph_objects as go\n",
    "\n",
    "# Pick a day in the test set\n",
    "# test_day = '2023-12-21'\n",
    "test_day = '2024-01-10'\n",
    "test_df = df_results.loc[test_day:test_day]\n",
    "X_prices = spx_data.loc[test_day:test_day, ['open','high','low','close']]\n",
    "\n",
    "df_viz = test_df.merge(X_prices, left_index=True, right_index=True)\n",
    "\n",
    "fig = go.Figure(data=[go.Candlestick(x=df_viz.index,\n",
    "                open=df_viz['open'],\n",
    "                high=df_viz['high'],\n",
    "                low=df_viz['low'],\n",
    "                close=df_viz['close'])])\n",
    "\n",
    "# fig.add_trace(go.Scatter(x=df_viz.index, y=df_viz['pred_hod'].ewm(2).mean(), mode='lines', name='pred_hod', yaxis='y2', line=dict(color='#ff5f5f')))\n",
    "fig.add_trace(go.Scatter(x=df_viz.index, y=df_viz['pred_hod'], mode='lines', name='pred_hod', yaxis='y2', line=dict(color='#ff5f5f')))\n",
    "fig.add_trace(go.Scatter(x=df_viz.index, y=df_viz['pred_lod'], mode='lines', name='pred_lod', yaxis='y2', line=dict(color='#3399cc')))\n",
    "fig.add_trace(go.Scatter(x=df_viz.index, y=df_viz['pred_gd'], mode='lines', name='pred_lod', yaxis='y2', line=dict(color='#98ff98')))\n",
    "\n",
    "fig.add_shape(\n",
    "    type=\"line\",\n",
    "    x0=df_viz.index.min(),\n",
    "    x1=df_viz.index.max(),\n",
    "    y0=0.5,\n",
    "    y1=0.5,\n",
    "    yref='y2',\n",
    "    line=dict(\n",
    "        color=\"Red\",\n",
    "        width=1.5,\n",
    "        dash=\"dash\",\n",
    "    )\n",
    ")\n",
    "\n",
    "fig.update_layout(\n",
    "    template='plotly_dark',\n",
    "    yaxis=dict(\n",
    "        tickformat='.0f'\n",
    "    ),\n",
    "    yaxis2=dict(\n",
    "        overlaying='y',\n",
    "        side='right',\n",
    "        tickformat=\".0%\"\n",
    "    ),\n",
    "    legend=dict(\n",
    "        orientation=\"h\",\n",
    "        yanchor=\"bottom\",\n",
    "        y=1.02,\n",
    "        xanchor=\"right\",\n",
    "        x=1\n",
    "    ),\n",
    "    title='OHLC vs Prediction Over Time',\n",
    "    xaxis_rangeslider_visible=False\n",
    ")\n",
    "\n",
    "fig.show()"
   ]
  },
  {
   "cell_type": "markdown",
   "metadata": {},
   "source": [
    "# Inference Pipeline"
   ]
  },
  {
   "cell_type": "code",
   "execution_count": 301,
   "metadata": {},
   "outputs": [],
   "source": [
    "# Get data\n",
    "import yfinance as yf\n",
    "import numpy as np\n",
    "import pandas as pd\n",
    "import datetime\n",
    "\n",
    "# Create a list of times from 9:30 to 15:55 with 5 minute intervals\n",
    "times = pd.date_range(start=\"9:30\", end=\"15:55\", freq='5min').time\n",
    "\n",
    "# Create a dictionary that maps each time to a unique integer\n",
    "time_to_int = {time: i+1 for i, time in enumerate(times)}\n",
    "\n",
    "\n",
    "def create_features(ticker_str):\n",
    "    '''\n",
    "    Function to create dataframe of features for top/bottom model.\n",
    "    '''\n",
    "    ticker = yf.Ticker(ticker_str)\n",
    "    df = ticker.history(period='5d',interval='5m')\n",
    "    df = df.loc[\n",
    "        (df.index.time >= datetime.time(9,30)) &\\\n",
    "        (df.index.time < datetime.time(16,0)),\n",
    "    ['Open','High','Low','Close']]\n",
    "    df.columns = ['open','high','low','close']\n",
    "\n",
    "    df['time'] = df.index.time\n",
    "    df['eod_close'] = df.groupby(df.index.date)['close'].tail(1)\n",
    "    df['prev_close'] = df['eod_close'].shift(1)\n",
    "    df['prev_close'] = df['prev_close'].ffill()\n",
    "    df['eod_close'] = df['eod_close'].bfill()\n",
    "    df['green_day'] = df['eod_close'] > df['prev_close']\n",
    "\n",
    "    # Assume df is your DataFrame and 'time' is your column of times\n",
    "    df['bar_num'] = df['time'].map(time_to_int)\n",
    "\n",
    "    df['eod_close_pts'] = df['eod_close'] - df['prev_close']\n",
    "    df['eod_close_pct'] = df['eod_close_pts'] / df['prev_close']\n",
    "\n",
    "    for day in sorted(set(df.index.date)):\n",
    "        day_str = datetime.datetime.strftime(day, '%Y-%m-%d')\n",
    "        day_open = df.loc[day_str, 'open'].iloc[0]\n",
    "        df.loc[day_str, 'lod'] = df.loc[day_str, 'low'].min()\n",
    "        df.loc[day_str, 'label_lod'] = (df.loc[day_str, 'low'] == df.loc[day_str, 'lod']).astype(int)\n",
    "        \n",
    "        df.loc[day_str, 'hod'] = df.loc[day_str, 'high'].max()\n",
    "        df.loc[day_str, 'label'] = (df.loc[day_str, 'high'] == df.loc[day_str, 'hod']).astype(int)\n",
    "        df.loc[day_str, 'day_open'] = day_open\n",
    "        df.loc[day_str, 'day_open_pts'] = df.loc[day_str, 'close'] - df.loc[day_str, 'day_open']\n",
    "        df.loc[day_str, 'day_open_pct'] = df.loc[day_str, 'day_open_pts'] / df.loc[day_str, 'day_open']\n",
    "        df.loc[day_str, 'prev_close_pts'] = df.loc[day_str, 'close'] - df.loc[day_str, 'prev_close']\n",
    "        df.loc[day_str, 'prev_close_pct'] = df.loc[day_str, 'prev_close_pts'] / df.loc[day_str, 'prev_close']\n",
    "\n",
    "        # Lowest low\n",
    "        df.loc[day_str, 'lowest_low'] = df.loc[day_str, 'low'].expanding().min()\n",
    "        df.loc[day_str, 'lowest_low'] = df.loc[day_str, 'lowest_low'].shift(1)\n",
    "        df.loc[day_str, 'lowest_low'] = df.loc[day_str, 'lowest_low'].ffill()\n",
    "        df.loc[day_str, 'lowest_low_mag'] = (df.loc[day_str, 'close'] / df.loc[day_str, 'lowest_low']) - 1\n",
    "\n",
    "        # Highest high\n",
    "        df.loc[day_str, 'highest_high'] = df.loc[day_str, 'high'].expanding().max()\n",
    "        df.loc[day_str, 'highest_high'] = df.loc[day_str, 'highest_high'].shift(1)\n",
    "        df.loc[day_str, 'highest_high'] = df.loc[day_str, 'highest_high'].ffill()\n",
    "        df.loc[day_str, 'highest_high_mag'] = (df.loc[day_str, 'close'] / df.loc[day_str, 'highest_high']) - 1\n",
    "\n",
    "        # Shifted\n",
    "        df.loc[day_str, 'prev_close_pct_n1'] = df.loc[day_str, 'prev_close_pct'].shift(1)\n",
    "        df.loc[day_str, 'prev_close_pct_n2'] = df.loc[day_str, 'prev_close_pct'].shift(2)\n",
    "        df.loc[day_str, 'prev_close_pct_n3'] = df.loc[day_str, 'prev_close_pct'].shift(3)\n",
    "\n",
    "        df.loc[day_str, 'day_open_pct_n1'] = df.loc[day_str, 'day_open_pct'].shift(1)\n",
    "        df.loc[day_str, 'day_open_pct_n2'] = df.loc[day_str, 'day_open_pct'].shift(2)\n",
    "        df.loc[day_str, 'day_open_pct_n3'] = df.loc[day_str, 'day_open_pct'].shift(3)\n",
    "\n",
    "        # New Features\n",
    "        df.loc[day_str, 'open_slope'] = df.loc[day_str, 'day_open_pct'] / df.loc[day_str, 'bar_num']\n",
    "        df.loc[day_str, 'daily_slope'] = df.loc[day_str, 'prev_close_pct'] / df.loc[day_str, 'bar_num']\n",
    "\n",
    "        df.loc[day_str, 'highest_high_slope'] = (df.loc[day_str, 'close'] - df.loc[day_str, 'highest_high']) / df.loc[day_str, 'bar_num']\n",
    "        df.loc[day_str, 'lowest_low_slope'] = (df.loc[day_str, 'close'] - df.loc[day_str, 'lowest_low']) / df.loc[day_str, 'bar_num']\n",
    "    \n",
    "        \n",
    "    df['gap_open'] = df['day_open'] - df['prev_close']\n",
    "    df['gap_open_pct'] = df['gap_open'] / df['prev_close']\n",
    "    df = df.dropna(subset=[\n",
    "        'prev_close_pct',\n",
    "        'gap_open_pct',\n",
    "        'day_open_pct_n3',\n",
    "        'prev_close_pct_n3'\n",
    "    ])\n",
    "    df = df.loc[(df['time'] < datetime.time(16,0)) & (df['time'] >= datetime.time(9,45))]\n",
    "    return df"
   ]
  },
  {
   "cell_type": "code",
   "execution_count": 302,
   "metadata": {},
   "outputs": [],
   "source": [
    "import joblib\n",
    "\n",
    "df_feats = create_features(tck)"
   ]
  },
  {
   "cell_type": "code",
   "execution_count": 303,
   "metadata": {},
   "outputs": [],
   "source": [
    "\n",
    "hod_model1 = joblib.load(ticker_dict[tck]['hod_model'])\n",
    "lod_model1 = joblib.load(ticker_dict[tck]['lod_model'])\n",
    "gd_model1 = joblib.load(ticker_dict[tck]['gd_model'])\n",
    "\n",
    "def create_preds_df(df_feats):\n",
    "    predicted_proba_hod = hod_model1.predict_proba(df_feats)[:,-1]\n",
    "    predicted_proba_lod = lod_model1.predict_proba(df_feats)[:,-1]\n",
    "    predicted_proba_gd = gd_model1.predict_proba(df_feats)[:,-1]\n",
    "    df_viz = df_feats.copy()\n",
    "    df_viz['pred_hod'] = predicted_proba_hod\n",
    "    df_viz['pred_lod'] = predicted_proba_lod\n",
    "    df_viz['pred_gd'] = predicted_proba_gd\n",
    "    return df_viz\n",
    "\n",
    "df_viz = create_preds_df(df_feats)"
   ]
  },
  {
   "cell_type": "code",
   "execution_count": 304,
   "metadata": {},
   "outputs": [],
   "source": [
    "# Create df for visual\n",
    "def create_viz(df_viz, date_str):\n",
    "\n",
    "    df_use = df_viz.loc[date_str:date_str]\n",
    "    \n",
    "    fig = go.Figure(data=[go.Candlestick(x=df_use.index,\n",
    "                open=df_use['open'],\n",
    "                high=df_use['high'],\n",
    "                low=df_use['low'],\n",
    "                close=df_use['close'])])\n",
    "\n",
    "    fig.add_trace(go.Scatter(x=df_use.index, y=df_use['pred_hod'], mode='lines', name='pred_hod', yaxis='y2', line=dict(color='#ff5f5f')))\n",
    "    fig.add_trace(go.Scatter(x=df_use.index, y=df_use['pred_lod'], mode='lines', name='pred_lod', yaxis='y2', line=dict(color='#3399cc')))\n",
    "    fig.add_trace(go.Scatter(x=df_use.index, y=df_use['pred_gd'], mode='lines', name='pred_gd', yaxis='y2', line=dict(color='#9400d3')))\n",
    "\n",
    "\n",
    "    fig.add_shape(\n",
    "        type=\"line\",\n",
    "        x0=df_use.index.min(),\n",
    "        x1=df_use.index.max(),\n",
    "        y0=0.5,\n",
    "        y1=0.5,\n",
    "        yref='y2',\n",
    "        line=dict(\n",
    "            color=\"Red\",\n",
    "            width=1.5,\n",
    "            dash=\"dash\",\n",
    "        )\n",
    "    )\n",
    "\n",
    "    max_high = df_use['high'].max()\n",
    "    max_high_time = df_use['high'].idxmax()\n",
    "\n",
    "    min_low = df_use['low'].min()\n",
    "    min_low_time = df_use['low'].idxmin()\n",
    "\n",
    "    fig.add_annotation(\n",
    "        x=max_high_time,\n",
    "        y=max_high,\n",
    "        text=f\"{str(int(max_high))}\",\n",
    "        showarrow=True,\n",
    "        font=dict(\n",
    "            family=\"Courier New, monospace\",\n",
    "            size=12,\n",
    "            color=\"#ffffff\"\n",
    "        ),\n",
    "        align=\"center\",\n",
    "        arrowhead=2,\n",
    "        arrowsize=1,\n",
    "        arrowwidth=2,\n",
    "        arrowcolor=\"#636363\",\n",
    "        ax=20,\n",
    "        ay=-30,\n",
    "        bordercolor=\"#c7c7c7\",\n",
    "        borderwidth=1,\n",
    "        borderpad=1,\n",
    "        bgcolor=\"#ff5f5f\",\n",
    "        opacity=0.8\n",
    "    )\n",
    "\n",
    "    fig.add_annotation(\n",
    "        x=min_low_time,\n",
    "        y=min_low,\n",
    "        text=f\"{str(int(min_low))}\",\n",
    "        showarrow=True,\n",
    "        font=dict(\n",
    "            family=\"Courier New, monospace\",\n",
    "            size=12,\n",
    "            color=\"#ffffff\"\n",
    "        ),\n",
    "        align=\"center\",\n",
    "        arrowhead=2,\n",
    "        arrowsize=1,\n",
    "        arrowwidth=2,\n",
    "        arrowcolor=\"#636363\",\n",
    "        ax=20,\n",
    "        ay=30,  # Adjust the y offset for the annotation\n",
    "        bordercolor=\"#c7c7c7\",\n",
    "        borderwidth=1,\n",
    "        borderpad=1,\n",
    "        bgcolor=\"#3399cc\",\n",
    "        opacity=0.8\n",
    "    )\n",
    "\n",
    "    fig.update_layout(\n",
    "        template='plotly_dark',\n",
    "        yaxis=dict(\n",
    "            tickformat='.0f'\n",
    "        ),\n",
    "        yaxis2=dict(\n",
    "            overlaying='y',\n",
    "            side='right',\n",
    "            tickformat=\".0%\"\n",
    "        ),\n",
    "        legend=dict(\n",
    "            orientation=\"h\",\n",
    "            yanchor=\"bottom\",\n",
    "            y=1.02,\n",
    "            xanchor=\"right\",\n",
    "            x=1\n",
    "        ),\n",
    "        title='OHLC vs Prediction Over Time',\n",
    "        xaxis_rangeslider_visible=False\n",
    "    )\n",
    "\n",
    "    fig.show()\n",
    "    "
   ]
  },
  {
   "cell_type": "code",
   "execution_count": 305,
   "metadata": {},
   "outputs": [
    {
     "data": {
      "text/html": [
       "<div>\n",
       "<style scoped>\n",
       "    .dataframe tbody tr th:only-of-type {\n",
       "        vertical-align: middle;\n",
       "    }\n",
       "\n",
       "    .dataframe tbody tr th {\n",
       "        vertical-align: top;\n",
       "    }\n",
       "\n",
       "    .dataframe thead th {\n",
       "        text-align: right;\n",
       "    }\n",
       "</style>\n",
       "<table border=\"1\" class=\"dataframe\">\n",
       "  <thead>\n",
       "    <tr style=\"text-align: right;\">\n",
       "      <th></th>\n",
       "      <th>open</th>\n",
       "      <th>high</th>\n",
       "      <th>low</th>\n",
       "      <th>close</th>\n",
       "      <th>time</th>\n",
       "      <th>eod_close</th>\n",
       "      <th>prev_close</th>\n",
       "      <th>green_day</th>\n",
       "      <th>bar_num</th>\n",
       "      <th>eod_close_pts</th>\n",
       "      <th>eod_close_pct</th>\n",
       "      <th>lod</th>\n",
       "      <th>label_lod</th>\n",
       "      <th>hod</th>\n",
       "      <th>label</th>\n",
       "      <th>day_open</th>\n",
       "      <th>day_open_pts</th>\n",
       "      <th>day_open_pct</th>\n",
       "      <th>prev_close_pts</th>\n",
       "      <th>prev_close_pct</th>\n",
       "      <th>lowest_low</th>\n",
       "      <th>lowest_low_mag</th>\n",
       "      <th>highest_high</th>\n",
       "      <th>highest_high_mag</th>\n",
       "      <th>prev_close_pct_n1</th>\n",
       "      <th>prev_close_pct_n2</th>\n",
       "      <th>prev_close_pct_n3</th>\n",
       "      <th>day_open_pct_n1</th>\n",
       "      <th>day_open_pct_n2</th>\n",
       "      <th>day_open_pct_n3</th>\n",
       "      <th>open_slope</th>\n",
       "      <th>daily_slope</th>\n",
       "      <th>highest_high_slope</th>\n",
       "      <th>lowest_low_slope</th>\n",
       "      <th>gap_open</th>\n",
       "      <th>gap_open_pct</th>\n",
       "      <th>pred_hod</th>\n",
       "      <th>pred_lod</th>\n",
       "      <th>pred_gd</th>\n",
       "    </tr>\n",
       "    <tr>\n",
       "      <th>Datetime</th>\n",
       "      <th></th>\n",
       "      <th></th>\n",
       "      <th></th>\n",
       "      <th></th>\n",
       "      <th></th>\n",
       "      <th></th>\n",
       "      <th></th>\n",
       "      <th></th>\n",
       "      <th></th>\n",
       "      <th></th>\n",
       "      <th></th>\n",
       "      <th></th>\n",
       "      <th></th>\n",
       "      <th></th>\n",
       "      <th></th>\n",
       "      <th></th>\n",
       "      <th></th>\n",
       "      <th></th>\n",
       "      <th></th>\n",
       "      <th></th>\n",
       "      <th></th>\n",
       "      <th></th>\n",
       "      <th></th>\n",
       "      <th></th>\n",
       "      <th></th>\n",
       "      <th></th>\n",
       "      <th></th>\n",
       "      <th></th>\n",
       "      <th></th>\n",
       "      <th></th>\n",
       "      <th></th>\n",
       "      <th></th>\n",
       "      <th></th>\n",
       "      <th></th>\n",
       "      <th></th>\n",
       "      <th></th>\n",
       "      <th></th>\n",
       "      <th></th>\n",
       "      <th></th>\n",
       "    </tr>\n",
       "  </thead>\n",
       "  <tbody>\n",
       "    <tr>\n",
       "      <th>2024-01-09 09:45:00-05:00</th>\n",
       "      <td>16525.330078</td>\n",
       "      <td>16532.244141</td>\n",
       "      <td>16513.863281</td>\n",
       "      <td>16524.271484</td>\n",
       "      <td>09:45:00</td>\n",
       "      <td>16676.632812</td>\n",
       "      <td>16645.585938</td>\n",
       "      <td>True</td>\n",
       "      <td>4</td>\n",
       "      <td>31.046875</td>\n",
       "      <td>0.001865</td>\n",
       "      <td>16513.863281</td>\n",
       "      <td>1.0</td>\n",
       "      <td>16710.839844</td>\n",
       "      <td>0.0</td>\n",
       "      <td>16532.382812</td>\n",
       "      <td>-8.111328</td>\n",
       "      <td>-0.000491</td>\n",
       "      <td>-121.314453</td>\n",
       "      <td>-0.007288</td>\n",
       "      <td>16517.048828</td>\n",
       "      <td>0.000437</td>\n",
       "      <td>16560.845703</td>\n",
       "      <td>-0.002208</td>\n",
       "      <td>-0.007318</td>\n",
       "      <td>-0.006396</td>\n",
       "      <td>-0.005091</td>\n",
       "      <td>-0.000520</td>\n",
       "      <td>0.000407</td>\n",
       "      <td>0.001722</td>\n",
       "      <td>-0.000123</td>\n",
       "      <td>-1.822021e-03</td>\n",
       "      <td>-9.143555</td>\n",
       "      <td>1.805664</td>\n",
       "      <td>-113.203125</td>\n",
       "      <td>-0.006801</td>\n",
       "      <td>0.180260</td>\n",
       "      <td>0.095408</td>\n",
       "      <td>0.143441</td>\n",
       "    </tr>\n",
       "    <tr>\n",
       "      <th>2024-01-09 09:50:00-05:00</th>\n",
       "      <td>16524.144531</td>\n",
       "      <td>16539.574219</td>\n",
       "      <td>16520.878906</td>\n",
       "      <td>16528.304688</td>\n",
       "      <td>09:50:00</td>\n",
       "      <td>16676.632812</td>\n",
       "      <td>16645.585938</td>\n",
       "      <td>True</td>\n",
       "      <td>5</td>\n",
       "      <td>31.046875</td>\n",
       "      <td>0.001865</td>\n",
       "      <td>16513.863281</td>\n",
       "      <td>0.0</td>\n",
       "      <td>16710.839844</td>\n",
       "      <td>0.0</td>\n",
       "      <td>16532.382812</td>\n",
       "      <td>-4.078125</td>\n",
       "      <td>-0.000247</td>\n",
       "      <td>-117.281250</td>\n",
       "      <td>-0.007046</td>\n",
       "      <td>16513.863281</td>\n",
       "      <td>0.000875</td>\n",
       "      <td>16560.845703</td>\n",
       "      <td>-0.001965</td>\n",
       "      <td>-0.007288</td>\n",
       "      <td>-0.007318</td>\n",
       "      <td>-0.006396</td>\n",
       "      <td>-0.000491</td>\n",
       "      <td>-0.000520</td>\n",
       "      <td>0.000407</td>\n",
       "      <td>-0.000049</td>\n",
       "      <td>-1.409157e-03</td>\n",
       "      <td>-6.508203</td>\n",
       "      <td>2.888281</td>\n",
       "      <td>-113.203125</td>\n",
       "      <td>-0.006801</td>\n",
       "      <td>0.161647</td>\n",
       "      <td>0.159060</td>\n",
       "      <td>0.163196</td>\n",
       "    </tr>\n",
       "    <tr>\n",
       "      <th>2024-01-09 09:55:00-05:00</th>\n",
       "      <td>16527.341797</td>\n",
       "      <td>16553.730469</td>\n",
       "      <td>16525.419922</td>\n",
       "      <td>16553.730469</td>\n",
       "      <td>09:55:00</td>\n",
       "      <td>16676.632812</td>\n",
       "      <td>16645.585938</td>\n",
       "      <td>True</td>\n",
       "      <td>6</td>\n",
       "      <td>31.046875</td>\n",
       "      <td>0.001865</td>\n",
       "      <td>16513.863281</td>\n",
       "      <td>0.0</td>\n",
       "      <td>16710.839844</td>\n",
       "      <td>0.0</td>\n",
       "      <td>16532.382812</td>\n",
       "      <td>21.347656</td>\n",
       "      <td>0.001291</td>\n",
       "      <td>-91.855469</td>\n",
       "      <td>-0.005518</td>\n",
       "      <td>16513.863281</td>\n",
       "      <td>0.002414</td>\n",
       "      <td>16560.845703</td>\n",
       "      <td>-0.000430</td>\n",
       "      <td>-0.007046</td>\n",
       "      <td>-0.007288</td>\n",
       "      <td>-0.007318</td>\n",
       "      <td>-0.000247</td>\n",
       "      <td>-0.000491</td>\n",
       "      <td>-0.000520</td>\n",
       "      <td>0.000215</td>\n",
       "      <td>-9.197180e-04</td>\n",
       "      <td>-1.185872</td>\n",
       "      <td>6.644531</td>\n",
       "      <td>-113.203125</td>\n",
       "      <td>-0.006801</td>\n",
       "      <td>0.060016</td>\n",
       "      <td>0.308835</td>\n",
       "      <td>0.257890</td>\n",
       "    </tr>\n",
       "    <tr>\n",
       "      <th>2024-01-09 10:00:00-05:00</th>\n",
       "      <td>16552.703125</td>\n",
       "      <td>16558.777344</td>\n",
       "      <td>16545.365234</td>\n",
       "      <td>16545.365234</td>\n",
       "      <td>10:00:00</td>\n",
       "      <td>16676.632812</td>\n",
       "      <td>16645.585938</td>\n",
       "      <td>True</td>\n",
       "      <td>7</td>\n",
       "      <td>31.046875</td>\n",
       "      <td>0.001865</td>\n",
       "      <td>16513.863281</td>\n",
       "      <td>0.0</td>\n",
       "      <td>16710.839844</td>\n",
       "      <td>0.0</td>\n",
       "      <td>16532.382812</td>\n",
       "      <td>12.982422</td>\n",
       "      <td>0.000785</td>\n",
       "      <td>-100.220703</td>\n",
       "      <td>-0.006021</td>\n",
       "      <td>16513.863281</td>\n",
       "      <td>0.001908</td>\n",
       "      <td>16560.845703</td>\n",
       "      <td>-0.000935</td>\n",
       "      <td>-0.005518</td>\n",
       "      <td>-0.007046</td>\n",
       "      <td>-0.007288</td>\n",
       "      <td>0.001291</td>\n",
       "      <td>-0.000247</td>\n",
       "      <td>-0.000491</td>\n",
       "      <td>0.000112</td>\n",
       "      <td>-8.601225e-04</td>\n",
       "      <td>-2.211496</td>\n",
       "      <td>4.500279</td>\n",
       "      <td>-113.203125</td>\n",
       "      <td>-0.006801</td>\n",
       "      <td>0.108079</td>\n",
       "      <td>0.290996</td>\n",
       "      <td>0.219384</td>\n",
       "    </tr>\n",
       "    <tr>\n",
       "      <th>2024-01-09 10:05:00-05:00</th>\n",
       "      <td>16542.636719</td>\n",
       "      <td>16565.962891</td>\n",
       "      <td>16535.714844</td>\n",
       "      <td>16564.710938</td>\n",
       "      <td>10:05:00</td>\n",
       "      <td>16676.632812</td>\n",
       "      <td>16645.585938</td>\n",
       "      <td>True</td>\n",
       "      <td>8</td>\n",
       "      <td>31.046875</td>\n",
       "      <td>0.001865</td>\n",
       "      <td>16513.863281</td>\n",
       "      <td>0.0</td>\n",
       "      <td>16710.839844</td>\n",
       "      <td>0.0</td>\n",
       "      <td>16532.382812</td>\n",
       "      <td>32.328125</td>\n",
       "      <td>0.001955</td>\n",
       "      <td>-80.875000</td>\n",
       "      <td>-0.004859</td>\n",
       "      <td>16513.863281</td>\n",
       "      <td>0.003079</td>\n",
       "      <td>16560.845703</td>\n",
       "      <td>0.000233</td>\n",
       "      <td>-0.006021</td>\n",
       "      <td>-0.005518</td>\n",
       "      <td>-0.007046</td>\n",
       "      <td>0.000785</td>\n",
       "      <td>0.001291</td>\n",
       "      <td>-0.000247</td>\n",
       "      <td>0.000244</td>\n",
       "      <td>-6.073307e-04</td>\n",
       "      <td>0.483154</td>\n",
       "      <td>6.355957</td>\n",
       "      <td>-113.203125</td>\n",
       "      <td>-0.006801</td>\n",
       "      <td>0.037502</td>\n",
       "      <td>0.510007</td>\n",
       "      <td>0.327343</td>\n",
       "    </tr>\n",
       "    <tr>\n",
       "      <th>...</th>\n",
       "      <td>...</td>\n",
       "      <td>...</td>\n",
       "      <td>...</td>\n",
       "      <td>...</td>\n",
       "      <td>...</td>\n",
       "      <td>...</td>\n",
       "      <td>...</td>\n",
       "      <td>...</td>\n",
       "      <td>...</td>\n",
       "      <td>...</td>\n",
       "      <td>...</td>\n",
       "      <td>...</td>\n",
       "      <td>...</td>\n",
       "      <td>...</td>\n",
       "      <td>...</td>\n",
       "      <td>...</td>\n",
       "      <td>...</td>\n",
       "      <td>...</td>\n",
       "      <td>...</td>\n",
       "      <td>...</td>\n",
       "      <td>...</td>\n",
       "      <td>...</td>\n",
       "      <td>...</td>\n",
       "      <td>...</td>\n",
       "      <td>...</td>\n",
       "      <td>...</td>\n",
       "      <td>...</td>\n",
       "      <td>...</td>\n",
       "      <td>...</td>\n",
       "      <td>...</td>\n",
       "      <td>...</td>\n",
       "      <td>...</td>\n",
       "      <td>...</td>\n",
       "      <td>...</td>\n",
       "      <td>...</td>\n",
       "      <td>...</td>\n",
       "      <td>...</td>\n",
       "      <td>...</td>\n",
       "      <td>...</td>\n",
       "    </tr>\n",
       "    <tr>\n",
       "      <th>2024-01-12 15:35:00-05:00</th>\n",
       "      <td>16822.152344</td>\n",
       "      <td>16822.593750</td>\n",
       "      <td>16817.123047</td>\n",
       "      <td>16818.187500</td>\n",
       "      <td>15:35:00</td>\n",
       "      <td>16829.484375</td>\n",
       "      <td>16818.806641</td>\n",
       "      <td>True</td>\n",
       "      <td>74</td>\n",
       "      <td>10.677734</td>\n",
       "      <td>0.000635</td>\n",
       "      <td>16777.583984</td>\n",
       "      <td>0.0</td>\n",
       "      <td>16900.203125</td>\n",
       "      <td>0.0</td>\n",
       "      <td>16852.355469</td>\n",
       "      <td>-34.167969</td>\n",
       "      <td>-0.002027</td>\n",
       "      <td>-0.619141</td>\n",
       "      <td>-0.000037</td>\n",
       "      <td>16777.583984</td>\n",
       "      <td>0.002420</td>\n",
       "      <td>16900.203125</td>\n",
       "      <td>-0.004853</td>\n",
       "      <td>0.000192</td>\n",
       "      <td>-0.000308</td>\n",
       "      <td>-0.001180</td>\n",
       "      <td>-0.001799</td>\n",
       "      <td>-0.002298</td>\n",
       "      <td>-0.003168</td>\n",
       "      <td>-0.000027</td>\n",
       "      <td>-4.974649e-07</td>\n",
       "      <td>-1.108319</td>\n",
       "      <td>0.548696</td>\n",
       "      <td>33.548828</td>\n",
       "      <td>0.001995</td>\n",
       "      <td>0.990673</td>\n",
       "      <td>0.888729</td>\n",
       "      <td>0.558643</td>\n",
       "    </tr>\n",
       "    <tr>\n",
       "      <th>2024-01-12 15:40:00-05:00</th>\n",
       "      <td>16818.025391</td>\n",
       "      <td>16825.515625</td>\n",
       "      <td>16812.283203</td>\n",
       "      <td>16825.322266</td>\n",
       "      <td>15:40:00</td>\n",
       "      <td>16829.484375</td>\n",
       "      <td>16818.806641</td>\n",
       "      <td>True</td>\n",
       "      <td>75</td>\n",
       "      <td>10.677734</td>\n",
       "      <td>0.000635</td>\n",
       "      <td>16777.583984</td>\n",
       "      <td>0.0</td>\n",
       "      <td>16900.203125</td>\n",
       "      <td>0.0</td>\n",
       "      <td>16852.355469</td>\n",
       "      <td>-27.033203</td>\n",
       "      <td>-0.001604</td>\n",
       "      <td>6.515625</td>\n",
       "      <td>0.000387</td>\n",
       "      <td>16777.583984</td>\n",
       "      <td>0.002845</td>\n",
       "      <td>16900.203125</td>\n",
       "      <td>-0.004431</td>\n",
       "      <td>-0.000037</td>\n",
       "      <td>0.000192</td>\n",
       "      <td>-0.000308</td>\n",
       "      <td>-0.002027</td>\n",
       "      <td>-0.001799</td>\n",
       "      <td>-0.002298</td>\n",
       "      <td>-0.000021</td>\n",
       "      <td>5.165349e-06</td>\n",
       "      <td>-0.998411</td>\n",
       "      <td>0.636510</td>\n",
       "      <td>33.548828</td>\n",
       "      <td>0.001995</td>\n",
       "      <td>0.986549</td>\n",
       "      <td>0.936026</td>\n",
       "      <td>0.679387</td>\n",
       "    </tr>\n",
       "    <tr>\n",
       "      <th>2024-01-12 15:45:00-05:00</th>\n",
       "      <td>16824.951172</td>\n",
       "      <td>16829.976562</td>\n",
       "      <td>16823.416016</td>\n",
       "      <td>16828.507812</td>\n",
       "      <td>15:45:00</td>\n",
       "      <td>16829.484375</td>\n",
       "      <td>16818.806641</td>\n",
       "      <td>True</td>\n",
       "      <td>76</td>\n",
       "      <td>10.677734</td>\n",
       "      <td>0.000635</td>\n",
       "      <td>16777.583984</td>\n",
       "      <td>0.0</td>\n",
       "      <td>16900.203125</td>\n",
       "      <td>0.0</td>\n",
       "      <td>16852.355469</td>\n",
       "      <td>-23.847656</td>\n",
       "      <td>-0.001415</td>\n",
       "      <td>9.701172</td>\n",
       "      <td>0.000577</td>\n",
       "      <td>16777.583984</td>\n",
       "      <td>0.003035</td>\n",
       "      <td>16900.203125</td>\n",
       "      <td>-0.004242</td>\n",
       "      <td>0.000387</td>\n",
       "      <td>-0.000037</td>\n",
       "      <td>0.000192</td>\n",
       "      <td>-0.001604</td>\n",
       "      <td>-0.002027</td>\n",
       "      <td>-0.001799</td>\n",
       "      <td>-0.000019</td>\n",
       "      <td>7.589540e-06</td>\n",
       "      <td>-0.943359</td>\n",
       "      <td>0.670050</td>\n",
       "      <td>33.548828</td>\n",
       "      <td>0.001995</td>\n",
       "      <td>0.985804</td>\n",
       "      <td>0.953689</td>\n",
       "      <td>0.723385</td>\n",
       "    </tr>\n",
       "    <tr>\n",
       "      <th>2024-01-12 15:50:00-05:00</th>\n",
       "      <td>16831.748047</td>\n",
       "      <td>16833.976562</td>\n",
       "      <td>16821.523438</td>\n",
       "      <td>16833.976562</td>\n",
       "      <td>15:50:00</td>\n",
       "      <td>16829.484375</td>\n",
       "      <td>16818.806641</td>\n",
       "      <td>True</td>\n",
       "      <td>77</td>\n",
       "      <td>10.677734</td>\n",
       "      <td>0.000635</td>\n",
       "      <td>16777.583984</td>\n",
       "      <td>0.0</td>\n",
       "      <td>16900.203125</td>\n",
       "      <td>0.0</td>\n",
       "      <td>16852.355469</td>\n",
       "      <td>-18.378906</td>\n",
       "      <td>-0.001091</td>\n",
       "      <td>15.169922</td>\n",
       "      <td>0.000902</td>\n",
       "      <td>16777.583984</td>\n",
       "      <td>0.003361</td>\n",
       "      <td>16900.203125</td>\n",
       "      <td>-0.003919</td>\n",
       "      <td>0.000577</td>\n",
       "      <td>0.000387</td>\n",
       "      <td>-0.000037</td>\n",
       "      <td>-0.001415</td>\n",
       "      <td>-0.001604</td>\n",
       "      <td>-0.002027</td>\n",
       "      <td>-0.000014</td>\n",
       "      <td>1.171379e-05</td>\n",
       "      <td>-0.860085</td>\n",
       "      <td>0.732371</td>\n",
       "      <td>33.548828</td>\n",
       "      <td>0.001995</td>\n",
       "      <td>0.989362</td>\n",
       "      <td>0.975120</td>\n",
       "      <td>0.752607</td>\n",
       "    </tr>\n",
       "    <tr>\n",
       "      <th>2024-01-12 15:55:00-05:00</th>\n",
       "      <td>16835.128906</td>\n",
       "      <td>16838.628906</td>\n",
       "      <td>16826.535156</td>\n",
       "      <td>16829.484375</td>\n",
       "      <td>15:55:00</td>\n",
       "      <td>16829.484375</td>\n",
       "      <td>16818.806641</td>\n",
       "      <td>True</td>\n",
       "      <td>78</td>\n",
       "      <td>10.677734</td>\n",
       "      <td>0.000635</td>\n",
       "      <td>16777.583984</td>\n",
       "      <td>0.0</td>\n",
       "      <td>16900.203125</td>\n",
       "      <td>0.0</td>\n",
       "      <td>16852.355469</td>\n",
       "      <td>-22.871094</td>\n",
       "      <td>-0.001357</td>\n",
       "      <td>10.677734</td>\n",
       "      <td>0.000635</td>\n",
       "      <td>16777.583984</td>\n",
       "      <td>0.003093</td>\n",
       "      <td>16900.203125</td>\n",
       "      <td>-0.004184</td>\n",
       "      <td>0.000902</td>\n",
       "      <td>0.000577</td>\n",
       "      <td>0.000387</td>\n",
       "      <td>-0.001091</td>\n",
       "      <td>-0.001415</td>\n",
       "      <td>-0.001604</td>\n",
       "      <td>-0.000017</td>\n",
       "      <td>8.139343e-06</td>\n",
       "      <td>-0.906651</td>\n",
       "      <td>0.665390</td>\n",
       "      <td>33.548828</td>\n",
       "      <td>0.001995</td>\n",
       "      <td>0.999046</td>\n",
       "      <td>0.997945</td>\n",
       "      <td>0.740125</td>\n",
       "    </tr>\n",
       "  </tbody>\n",
       "</table>\n",
       "<p>300 rows × 39 columns</p>\n",
       "</div>"
      ],
      "text/plain": [
       "                                   open          high  ...  pred_lod   pred_gd\n",
       "Datetime                                               ...                    \n",
       "2024-01-09 09:45:00-05:00  16525.330078  16532.244141  ...  0.095408  0.143441\n",
       "2024-01-09 09:50:00-05:00  16524.144531  16539.574219  ...  0.159060  0.163196\n",
       "2024-01-09 09:55:00-05:00  16527.341797  16553.730469  ...  0.308835  0.257890\n",
       "2024-01-09 10:00:00-05:00  16552.703125  16558.777344  ...  0.290996  0.219384\n",
       "2024-01-09 10:05:00-05:00  16542.636719  16565.962891  ...  0.510007  0.327343\n",
       "...                                 ...           ...  ...       ...       ...\n",
       "2024-01-12 15:35:00-05:00  16822.152344  16822.593750  ...  0.888729  0.558643\n",
       "2024-01-12 15:40:00-05:00  16818.025391  16825.515625  ...  0.936026  0.679387\n",
       "2024-01-12 15:45:00-05:00  16824.951172  16829.976562  ...  0.953689  0.723385\n",
       "2024-01-12 15:50:00-05:00  16831.748047  16833.976562  ...  0.975120  0.752607\n",
       "2024-01-12 15:55:00-05:00  16835.128906  16838.628906  ...  0.997945  0.740125\n",
       "\n",
       "[300 rows x 39 columns]"
      ]
     },
     "execution_count": 305,
     "metadata": {},
     "output_type": "execute_result"
    }
   ],
   "source": [
    "df_viz"
   ]
  },
  {
   "cell_type": "code",
   "execution_count": 306,
   "metadata": {},
   "outputs": [
    {
     "data": {
      "application/vnd.plotly.v1+json": {
       "config": {
        "plotlyServerURL": "https://plot.ly"
       },
       "data": [
        {
         "close": [
          16699.966796875,
          16677.43359375,
          16687.455078125,
          16667.41796875,
          16674.2578125,
          16696.123046875,
          16695.74609375,
          16690.046875,
          16708.478515625,
          16713.107421875,
          16711.728515625,
          16733.359375,
          16735.6875,
          16731.056640625,
          16739.30078125,
          16741.658203125,
          16736.6953125,
          16715.818359375,
          16714.498046875,
          16718.712890625,
          16716.494140625,
          16709.5703125,
          16716.130859375,
          16730.849609375,
          16724.892578125,
          16719.08203125,
          16727.64453125,
          16724.205078125,
          16730.783203125,
          16741.6015625,
          16739.015625,
          16736.236328125,
          16736.935546875,
          16739.626953125,
          16751.494140625,
          16745.806640625,
          16750.806640625,
          16750.666015625,
          16758.865234375,
          16772.755859375,
          16753.544921875,
          16749.626953125,
          16755.17578125,
          16756.501953125,
          16753.3125,
          16767.130859375,
          16765.75390625,
          16765.0390625,
          16767.267578125,
          16772.47265625,
          16772.21875,
          16780.560546875,
          16783.01171875,
          16800.125,
          16805.68359375,
          16803.884765625,
          16798.564453125,
          16801.46484375,
          16796.666015625,
          16802.1484375,
          16807.5078125,
          16818.078125,
          16825.97265625,
          16821.53515625,
          16826.580078125,
          16808.642578125,
          16802.890625,
          16775.892578125,
          16786.509765625,
          16791.54296875,
          16786.24609375,
          16768.884765625,
          16756,
          16776.822265625,
          16792.169921875
         ],
         "high": [
          16714.453125,
          16699.359375,
          16687.455078125,
          16689.525390625,
          16674.2578125,
          16701.6875,
          16707.671875,
          16699.818359375,
          16711.439453125,
          16719.435546875,
          16718.140625,
          16735.1875,
          16736.82421875,
          16740.126953125,
          16740.0625,
          16745.001953125,
          16742.2734375,
          16736.40625,
          16718.560546875,
          16724.01953125,
          16723.443359375,
          16719.025390625,
          16716.7421875,
          16731.212890625,
          16732.193359375,
          16725.841796875,
          16733.521484375,
          16728.40625,
          16730.783203125,
          16741.6015625,
          16742.119140625,
          16740.732421875,
          16737.1328125,
          16743.28125,
          16752.546875,
          16752.78515625,
          16750.96484375,
          16753.4375,
          16760.31640625,
          16772.755859375,
          16775.494140625,
          16755.498046875,
          16756.900390625,
          16756.501953125,
          16759.361328125,
          16767.34765625,
          16767.357421875,
          16768.224609375,
          16768.845703125,
          16772.6796875,
          16773.6796875,
          16780.560546875,
          16783.96875,
          16808.244140625,
          16806.537109375,
          16805.98046875,
          16810.513671875,
          16805.2578125,
          16802.248046875,
          16802.2421875,
          16811.14453125,
          16821.287109375,
          16826.4375,
          16827.306640625,
          16826.76953125,
          16826.9609375,
          16814.794921875,
          16806.515625,
          16793.197265625,
          16794.443359375,
          16792.0234375,
          16788.08203125,
          16776.431640625,
          16776.822265625,
          16797.90625
         ],
         "low": [
          16695.228515625,
          16672.494140625,
          16666.79296875,
          16657.8125,
          16654.740234375,
          16674.861328125,
          16692.21875,
          16690.046875,
          16688.669921875,
          16708.70703125,
          16705.416015625,
          16710.662109375,
          16727.060546875,
          16730.15625,
          16729.974609375,
          16739.794921875,
          16731.744140625,
          16708.08984375,
          16706.431640625,
          16714.724609375,
          16714.228515625,
          16707.36328125,
          16709.970703125,
          16715.4140625,
          16723.736328125,
          16711.7578125,
          16717.251953125,
          16719.49609375,
          16719.3359375,
          16729.107421875,
          16734.53515625,
          16734.263671875,
          16728.30078125,
          16736.095703125,
          16739.474609375,
          16741.84375,
          16743.02734375,
          16749.2421875,
          16751.150390625,
          16743.796875,
          16753.435546875,
          16740.263671875,
          16745.271484375,
          16745.3828125,
          16752.736328125,
          16752.7578125,
          16757.07421875,
          16763.087890625,
          16763.037109375,
          16767.333984375,
          16770.564453125,
          16771.302734375,
          16779.123046875,
          16782.236328125,
          16798.8203125,
          16799.244140625,
          16798.560546875,
          16798.5546875,
          16793.12109375,
          16797.712890625,
          16802.044921875,
          16807.640625,
          16818.21875,
          16814.845703125,
          16816.234375,
          16805.912109375,
          16802.3515625,
          16775.892578125,
          16774.435546875,
          16781.72265625,
          16782.408203125,
          16764.4609375,
          16755.73046875,
          16744.46875,
          16775.19140625
         ],
         "open": [
          16705.98828125,
          16699.359375,
          16672.822265625,
          16689.525390625,
          16666.212890625,
          16674.861328125,
          16695.79296875,
          16695.40234375,
          16689.716796875,
          16708.70703125,
          16712.8046875,
          16712.001953125,
          16734.978515625,
          16736.556640625,
          16730.216796875,
          16739.794921875,
          16742.16015625,
          16736.40625,
          16715.2734375,
          16714.828125,
          16718.396484375,
          16716.275390625,
          16709.970703125,
          16715.4453125,
          16731.115234375,
          16723.978515625,
          16719.263671875,
          16726.671875,
          16723.447265625,
          16731.197265625,
          16740.576171875,
          16739.05078125,
          16735.94921875,
          16737.189453125,
          16739.474609375,
          16751.52734375,
          16745.607421875,
          16751.095703125,
          16751.150390625,
          16758.666015625,
          16772.984375,
          16754.33984375,
          16749.146484375,
          16755.37890625,
          16757.986328125,
          16753.63671875,
          16767.146484375,
          16765.638671875,
          16765.490234375,
          16767.619140625,
          16771.81640625,
          16772.220703125,
          16780.556640625,
          16783.328125,
          16799.486328125,
          16805.98046875,
          16803.884765625,
          16799.828125,
          16801.3828125,
          16797.712890625,
          16802.703125,
          16807.640625,
          16818.21875,
          16827.306640625,
          16822.150390625,
          16826.4296875,
          16806.880859375,
          16804.50390625,
          16775.859375,
          16786.67578125,
          16791.73046875,
          16787.134765625,
          16769.20703125,
          16753.09765625,
          16782.8125
         ],
         "type": "candlestick",
         "x": [
          "2024-01-10T09:45:00-05:00",
          "2024-01-10T09:50:00-05:00",
          "2024-01-10T09:55:00-05:00",
          "2024-01-10T10:00:00-05:00",
          "2024-01-10T10:05:00-05:00",
          "2024-01-10T10:10:00-05:00",
          "2024-01-10T10:15:00-05:00",
          "2024-01-10T10:20:00-05:00",
          "2024-01-10T10:25:00-05:00",
          "2024-01-10T10:30:00-05:00",
          "2024-01-10T10:35:00-05:00",
          "2024-01-10T10:40:00-05:00",
          "2024-01-10T10:45:00-05:00",
          "2024-01-10T10:50:00-05:00",
          "2024-01-10T10:55:00-05:00",
          "2024-01-10T11:00:00-05:00",
          "2024-01-10T11:05:00-05:00",
          "2024-01-10T11:10:00-05:00",
          "2024-01-10T11:15:00-05:00",
          "2024-01-10T11:20:00-05:00",
          "2024-01-10T11:25:00-05:00",
          "2024-01-10T11:30:00-05:00",
          "2024-01-10T11:35:00-05:00",
          "2024-01-10T11:40:00-05:00",
          "2024-01-10T11:45:00-05:00",
          "2024-01-10T11:50:00-05:00",
          "2024-01-10T11:55:00-05:00",
          "2024-01-10T12:00:00-05:00",
          "2024-01-10T12:05:00-05:00",
          "2024-01-10T12:10:00-05:00",
          "2024-01-10T12:15:00-05:00",
          "2024-01-10T12:20:00-05:00",
          "2024-01-10T12:25:00-05:00",
          "2024-01-10T12:30:00-05:00",
          "2024-01-10T12:35:00-05:00",
          "2024-01-10T12:40:00-05:00",
          "2024-01-10T12:45:00-05:00",
          "2024-01-10T12:50:00-05:00",
          "2024-01-10T12:55:00-05:00",
          "2024-01-10T13:00:00-05:00",
          "2024-01-10T13:05:00-05:00",
          "2024-01-10T13:10:00-05:00",
          "2024-01-10T13:15:00-05:00",
          "2024-01-10T13:20:00-05:00",
          "2024-01-10T13:25:00-05:00",
          "2024-01-10T13:30:00-05:00",
          "2024-01-10T13:35:00-05:00",
          "2024-01-10T13:40:00-05:00",
          "2024-01-10T13:45:00-05:00",
          "2024-01-10T13:50:00-05:00",
          "2024-01-10T13:55:00-05:00",
          "2024-01-10T14:00:00-05:00",
          "2024-01-10T14:05:00-05:00",
          "2024-01-10T14:10:00-05:00",
          "2024-01-10T14:15:00-05:00",
          "2024-01-10T14:20:00-05:00",
          "2024-01-10T14:25:00-05:00",
          "2024-01-10T14:30:00-05:00",
          "2024-01-10T14:35:00-05:00",
          "2024-01-10T14:40:00-05:00",
          "2024-01-10T14:45:00-05:00",
          "2024-01-10T14:50:00-05:00",
          "2024-01-10T14:55:00-05:00",
          "2024-01-10T15:00:00-05:00",
          "2024-01-10T15:05:00-05:00",
          "2024-01-10T15:10:00-05:00",
          "2024-01-10T15:15:00-05:00",
          "2024-01-10T15:20:00-05:00",
          "2024-01-10T15:25:00-05:00",
          "2024-01-10T15:30:00-05:00",
          "2024-01-10T15:35:00-05:00",
          "2024-01-10T15:40:00-05:00",
          "2024-01-10T15:45:00-05:00",
          "2024-01-10T15:50:00-05:00",
          "2024-01-10T15:55:00-05:00"
         ]
        },
        {
         "line": {
          "color": "#ff5f5f"
         },
         "mode": "lines",
         "name": "pred_hod",
         "type": "scatter",
         "x": [
          "2024-01-10T09:45:00-05:00",
          "2024-01-10T09:50:00-05:00",
          "2024-01-10T09:55:00-05:00",
          "2024-01-10T10:00:00-05:00",
          "2024-01-10T10:05:00-05:00",
          "2024-01-10T10:10:00-05:00",
          "2024-01-10T10:15:00-05:00",
          "2024-01-10T10:20:00-05:00",
          "2024-01-10T10:25:00-05:00",
          "2024-01-10T10:30:00-05:00",
          "2024-01-10T10:35:00-05:00",
          "2024-01-10T10:40:00-05:00",
          "2024-01-10T10:45:00-05:00",
          "2024-01-10T10:50:00-05:00",
          "2024-01-10T10:55:00-05:00",
          "2024-01-10T11:00:00-05:00",
          "2024-01-10T11:05:00-05:00",
          "2024-01-10T11:10:00-05:00",
          "2024-01-10T11:15:00-05:00",
          "2024-01-10T11:20:00-05:00",
          "2024-01-10T11:25:00-05:00",
          "2024-01-10T11:30:00-05:00",
          "2024-01-10T11:35:00-05:00",
          "2024-01-10T11:40:00-05:00",
          "2024-01-10T11:45:00-05:00",
          "2024-01-10T11:50:00-05:00",
          "2024-01-10T11:55:00-05:00",
          "2024-01-10T12:00:00-05:00",
          "2024-01-10T12:05:00-05:00",
          "2024-01-10T12:10:00-05:00",
          "2024-01-10T12:15:00-05:00",
          "2024-01-10T12:20:00-05:00",
          "2024-01-10T12:25:00-05:00",
          "2024-01-10T12:30:00-05:00",
          "2024-01-10T12:35:00-05:00",
          "2024-01-10T12:40:00-05:00",
          "2024-01-10T12:45:00-05:00",
          "2024-01-10T12:50:00-05:00",
          "2024-01-10T12:55:00-05:00",
          "2024-01-10T13:00:00-05:00",
          "2024-01-10T13:05:00-05:00",
          "2024-01-10T13:10:00-05:00",
          "2024-01-10T13:15:00-05:00",
          "2024-01-10T13:20:00-05:00",
          "2024-01-10T13:25:00-05:00",
          "2024-01-10T13:30:00-05:00",
          "2024-01-10T13:35:00-05:00",
          "2024-01-10T13:40:00-05:00",
          "2024-01-10T13:45:00-05:00",
          "2024-01-10T13:50:00-05:00",
          "2024-01-10T13:55:00-05:00",
          "2024-01-10T14:00:00-05:00",
          "2024-01-10T14:05:00-05:00",
          "2024-01-10T14:10:00-05:00",
          "2024-01-10T14:15:00-05:00",
          "2024-01-10T14:20:00-05:00",
          "2024-01-10T14:25:00-05:00",
          "2024-01-10T14:30:00-05:00",
          "2024-01-10T14:35:00-05:00",
          "2024-01-10T14:40:00-05:00",
          "2024-01-10T14:45:00-05:00",
          "2024-01-10T14:50:00-05:00",
          "2024-01-10T14:55:00-05:00",
          "2024-01-10T15:00:00-05:00",
          "2024-01-10T15:05:00-05:00",
          "2024-01-10T15:10:00-05:00",
          "2024-01-10T15:15:00-05:00",
          "2024-01-10T15:20:00-05:00",
          "2024-01-10T15:25:00-05:00",
          "2024-01-10T15:30:00-05:00",
          "2024-01-10T15:35:00-05:00",
          "2024-01-10T15:40:00-05:00",
          "2024-01-10T15:45:00-05:00",
          "2024-01-10T15:50:00-05:00",
          "2024-01-10T15:55:00-05:00"
         ],
         "y": [
          0.32767440071441595,
          0.4367032217820724,
          0.2848696149929669,
          0.5298006733959006,
          0.40908576451660805,
          0.2454975231028224,
          0.26041144291884794,
          0.29099750393015633,
          0.22480898087015455,
          0.19320545200736933,
          0.21554443694119693,
          0.046984983102158165,
          0.04703273951462322,
          0.10356675090701639,
          0.06138468836258358,
          0.04606450644216795,
          0.14005958814649302,
          0.352055307973707,
          0.3800857506058498,
          0.38127778647696653,
          0.38958765315471394,
          0.44109138902747813,
          0.39151486515952333,
          0.2490442468596931,
          0.3204159113550777,
          0.3738330193734917,
          0.2944992573844746,
          0.3425368966082679,
          0.25521900465855857,
          0.08643773844892773,
          0.11711983336021406,
          0.1583801619169143,
          0.151298494574413,
          0.11524366129561894,
          0.05229471940387777,
          0.12252522276173099,
          0.07515625683289519,
          0.0751927212291178,
          0.05159280035228666,
          0.05100524113881871,
          0.26704778682233105,
          0.31483244763245444,
          0.269359941499946,
          0.2633702293886221,
          0.29123653357704976,
          0.1394160746708919,
          0.15154159294871378,
          0.16109127875077264,
          0.13858545996725216,
          0.07619682529457983,
          0.08316007261147682,
          0.0535570908350283,
          0.0535570908350283,
          0.0535570908350283,
          0.07687141953851587,
          0.1056373562836747,
          0.17980017285999927,
          0.1649006292313717,
          0.2224569379024399,
          0.17216611942842167,
          0.08794543176757731,
          0.061903330635918914,
          0.0630850273281893,
          0.14067933841280508,
          0.08756124634975936,
          0.36532156334123134,
          0.5184997276203619,
          0.7925840878028776,
          0.7824599145218495,
          0.763667627086864,
          0.8529888195272244,
          0.9355392081732242,
          0.9581040202547705,
          0.9661661816832381,
          0.9962527425896686
         ],
         "yaxis": "y2"
        },
        {
         "line": {
          "color": "#3399cc"
         },
         "mode": "lines",
         "name": "pred_lod",
         "type": "scatter",
         "x": [
          "2024-01-10T09:45:00-05:00",
          "2024-01-10T09:50:00-05:00",
          "2024-01-10T09:55:00-05:00",
          "2024-01-10T10:00:00-05:00",
          "2024-01-10T10:05:00-05:00",
          "2024-01-10T10:10:00-05:00",
          "2024-01-10T10:15:00-05:00",
          "2024-01-10T10:20:00-05:00",
          "2024-01-10T10:25:00-05:00",
          "2024-01-10T10:30:00-05:00",
          "2024-01-10T10:35:00-05:00",
          "2024-01-10T10:40:00-05:00",
          "2024-01-10T10:45:00-05:00",
          "2024-01-10T10:50:00-05:00",
          "2024-01-10T10:55:00-05:00",
          "2024-01-10T11:00:00-05:00",
          "2024-01-10T11:05:00-05:00",
          "2024-01-10T11:10:00-05:00",
          "2024-01-10T11:15:00-05:00",
          "2024-01-10T11:20:00-05:00",
          "2024-01-10T11:25:00-05:00",
          "2024-01-10T11:30:00-05:00",
          "2024-01-10T11:35:00-05:00",
          "2024-01-10T11:40:00-05:00",
          "2024-01-10T11:45:00-05:00",
          "2024-01-10T11:50:00-05:00",
          "2024-01-10T11:55:00-05:00",
          "2024-01-10T12:00:00-05:00",
          "2024-01-10T12:05:00-05:00",
          "2024-01-10T12:10:00-05:00",
          "2024-01-10T12:15:00-05:00",
          "2024-01-10T12:20:00-05:00",
          "2024-01-10T12:25:00-05:00",
          "2024-01-10T12:30:00-05:00",
          "2024-01-10T12:35:00-05:00",
          "2024-01-10T12:40:00-05:00",
          "2024-01-10T12:45:00-05:00",
          "2024-01-10T12:50:00-05:00",
          "2024-01-10T12:55:00-05:00",
          "2024-01-10T13:00:00-05:00",
          "2024-01-10T13:05:00-05:00",
          "2024-01-10T13:10:00-05:00",
          "2024-01-10T13:15:00-05:00",
          "2024-01-10T13:20:00-05:00",
          "2024-01-10T13:25:00-05:00",
          "2024-01-10T13:30:00-05:00",
          "2024-01-10T13:35:00-05:00",
          "2024-01-10T13:40:00-05:00",
          "2024-01-10T13:45:00-05:00",
          "2024-01-10T13:50:00-05:00",
          "2024-01-10T13:55:00-05:00",
          "2024-01-10T14:00:00-05:00",
          "2024-01-10T14:05:00-05:00",
          "2024-01-10T14:10:00-05:00",
          "2024-01-10T14:15:00-05:00",
          "2024-01-10T14:20:00-05:00",
          "2024-01-10T14:25:00-05:00",
          "2024-01-10T14:30:00-05:00",
          "2024-01-10T14:35:00-05:00",
          "2024-01-10T14:40:00-05:00",
          "2024-01-10T14:45:00-05:00",
          "2024-01-10T14:50:00-05:00",
          "2024-01-10T14:55:00-05:00",
          "2024-01-10T15:00:00-05:00",
          "2024-01-10T15:05:00-05:00",
          "2024-01-10T15:10:00-05:00",
          "2024-01-10T15:15:00-05:00",
          "2024-01-10T15:20:00-05:00",
          "2024-01-10T15:25:00-05:00",
          "2024-01-10T15:30:00-05:00",
          "2024-01-10T15:35:00-05:00",
          "2024-01-10T15:40:00-05:00",
          "2024-01-10T15:45:00-05:00",
          "2024-01-10T15:50:00-05:00",
          "2024-01-10T15:55:00-05:00"
         ],
         "y": [
          0.08722000519243746,
          0.06495811955593529,
          0.17173909051976502,
          0.09515439989422318,
          0.19840636219982039,
          0.4539425814552432,
          0.45688267167250546,
          0.46058499231194494,
          0.5207861334075903,
          0.5388600521311973,
          0.5492103582729585,
          0.6993500241738569,
          0.7165681831289351,
          0.6974665288293121,
          0.7614159861234705,
          0.7867113554088931,
          0.7438776514350264,
          0.6637624124105203,
          0.6607331620725688,
          0.6799339201516313,
          0.6793292600973488,
          0.6167215174048918,
          0.6895048982111063,
          0.8110273691101744,
          0.7675506176055251,
          0.7220457135021646,
          0.787517680813281,
          0.780846890013888,
          0.8347109650461366,
          0.9220591823513974,
          0.9067054855095296,
          0.9000316152390283,
          0.8989514407354277,
          0.9170250344099214,
          0.9357952123199713,
          0.9164646040822567,
          0.9539055668995188,
          0.9561177377422917,
          0.9560605463720246,
          0.9600212537117392,
          0.8775427388920035,
          0.8588807062577608,
          0.8788798340034785,
          0.883697622951651,
          0.884061498870665,
          0.953189027183896,
          0.947357563418833,
          0.9496646246824273,
          0.9572392295233204,
          0.9753639471131932,
          0.975842865229582,
          0.9777878957885403,
          0.9799284802125279,
          0.9834077869481405,
          0.9858065257679628,
          0.9860294872759922,
          0.9826402378889059,
          0.983649704951631,
          0.9778574002254224,
          0.9892303361782541,
          0.9930789783329841,
          0.9948528413313771,
          0.9962139365877604,
          0.995127774906147,
          0.996404876283082,
          0.9918194437634584,
          0.9904782492320268,
          0.9728578984679969,
          0.981685020604495,
          0.9864873664165346,
          0.987664533037686,
          0.9834959290071901,
          0.9837239090344011,
          0.9915072354632453,
          0.9991116073931898
         ],
         "yaxis": "y2"
        },
        {
         "line": {
          "color": "#9400d3"
         },
         "mode": "lines",
         "name": "pred_gd",
         "type": "scatter",
         "x": [
          "2024-01-10T09:45:00-05:00",
          "2024-01-10T09:50:00-05:00",
          "2024-01-10T09:55:00-05:00",
          "2024-01-10T10:00:00-05:00",
          "2024-01-10T10:05:00-05:00",
          "2024-01-10T10:10:00-05:00",
          "2024-01-10T10:15:00-05:00",
          "2024-01-10T10:20:00-05:00",
          "2024-01-10T10:25:00-05:00",
          "2024-01-10T10:30:00-05:00",
          "2024-01-10T10:35:00-05:00",
          "2024-01-10T10:40:00-05:00",
          "2024-01-10T10:45:00-05:00",
          "2024-01-10T10:50:00-05:00",
          "2024-01-10T10:55:00-05:00",
          "2024-01-10T11:00:00-05:00",
          "2024-01-10T11:05:00-05:00",
          "2024-01-10T11:10:00-05:00",
          "2024-01-10T11:15:00-05:00",
          "2024-01-10T11:20:00-05:00",
          "2024-01-10T11:25:00-05:00",
          "2024-01-10T11:30:00-05:00",
          "2024-01-10T11:35:00-05:00",
          "2024-01-10T11:40:00-05:00",
          "2024-01-10T11:45:00-05:00",
          "2024-01-10T11:50:00-05:00",
          "2024-01-10T11:55:00-05:00",
          "2024-01-10T12:00:00-05:00",
          "2024-01-10T12:05:00-05:00",
          "2024-01-10T12:10:00-05:00",
          "2024-01-10T12:15:00-05:00",
          "2024-01-10T12:20:00-05:00",
          "2024-01-10T12:25:00-05:00",
          "2024-01-10T12:30:00-05:00",
          "2024-01-10T12:35:00-05:00",
          "2024-01-10T12:40:00-05:00",
          "2024-01-10T12:45:00-05:00",
          "2024-01-10T12:50:00-05:00",
          "2024-01-10T12:55:00-05:00",
          "2024-01-10T13:00:00-05:00",
          "2024-01-10T13:05:00-05:00",
          "2024-01-10T13:10:00-05:00",
          "2024-01-10T13:15:00-05:00",
          "2024-01-10T13:20:00-05:00",
          "2024-01-10T13:25:00-05:00",
          "2024-01-10T13:30:00-05:00",
          "2024-01-10T13:35:00-05:00",
          "2024-01-10T13:40:00-05:00",
          "2024-01-10T13:45:00-05:00",
          "2024-01-10T13:50:00-05:00",
          "2024-01-10T13:55:00-05:00",
          "2024-01-10T14:00:00-05:00",
          "2024-01-10T14:05:00-05:00",
          "2024-01-10T14:10:00-05:00",
          "2024-01-10T14:15:00-05:00",
          "2024-01-10T14:20:00-05:00",
          "2024-01-10T14:25:00-05:00",
          "2024-01-10T14:30:00-05:00",
          "2024-01-10T14:35:00-05:00",
          "2024-01-10T14:40:00-05:00",
          "2024-01-10T14:45:00-05:00",
          "2024-01-10T14:50:00-05:00",
          "2024-01-10T14:55:00-05:00",
          "2024-01-10T15:00:00-05:00",
          "2024-01-10T15:05:00-05:00",
          "2024-01-10T15:10:00-05:00",
          "2024-01-10T15:15:00-05:00",
          "2024-01-10T15:20:00-05:00",
          "2024-01-10T15:25:00-05:00",
          "2024-01-10T15:30:00-05:00",
          "2024-01-10T15:35:00-05:00",
          "2024-01-10T15:40:00-05:00",
          "2024-01-10T15:45:00-05:00",
          "2024-01-10T15:50:00-05:00",
          "2024-01-10T15:55:00-05:00"
         ],
         "y": [
          0.7470995980908506,
          0.6332979865311246,
          0.6902163261810182,
          0.5434016663088127,
          0.5831833411878832,
          0.7337220727715513,
          0.7377981530083261,
          0.6979814592388366,
          0.7650819675758677,
          0.7701298303330052,
          0.7620096337060233,
          0.8270555791385918,
          0.8265415594044702,
          0.7999408316991597,
          0.8479260532976365,
          0.8480728488992056,
          0.8039938463207654,
          0.7870919194202212,
          0.7929728191191494,
          0.7769024235411354,
          0.7776672417854897,
          0.777827706940301,
          0.7776672417854897,
          0.8286595185695167,
          0.8224396017232265,
          0.7786027631001854,
          0.8223440989940669,
          0.8301096571565764,
          0.8458279434015022,
          0.898302923904586,
          0.8910071210601003,
          0.8779129589428942,
          0.8801055652565489,
          0.8960388687674825,
          0.9297545195420137,
          0.8841148575391264,
          0.9411981972006244,
          0.9439018104759301,
          0.9609471330392652,
          0.9711438092753626,
          0.9400992818590409,
          0.9104648848229249,
          0.9379180671185858,
          0.9320008287707621,
          0.9372871026597319,
          0.9737468630295875,
          0.9707757187218309,
          0.9676183734297197,
          0.9728533112373368,
          0.978953036524858,
          0.9783963124741734,
          0.9838324763454835,
          0.9838324763454835,
          0.9859185508223665,
          0.9862303093814568,
          0.9874830993580629,
          0.9853091588086408,
          0.9871284579889614,
          0.9861827957274596,
          0.988788360541601,
          0.9899371639260491,
          0.991002167522396,
          0.9917694303608041,
          0.9919713798830295,
          0.9927478907649124,
          0.9898559649120603,
          0.9893508932264908,
          0.9755815860168613,
          0.9845025786383143,
          0.9883149638230947,
          0.9877469804665363,
          0.9845014624638717,
          0.9712615361394437,
          0.9885900359070996,
          0.9904739425005081
         ],
         "yaxis": "y2"
        }
       ],
       "layout": {
        "annotations": [
         {
          "align": "center",
          "arrowcolor": "#636363",
          "arrowhead": 2,
          "arrowsize": 1,
          "arrowwidth": 2,
          "ax": 20,
          "ay": -30,
          "bgcolor": "#ff5f5f",
          "bordercolor": "#c7c7c7",
          "borderpad": 1,
          "borderwidth": 1,
          "font": {
           "color": "#ffffff",
           "family": "Courier New, monospace",
           "size": 12
          },
          "opacity": 0.8,
          "showarrow": true,
          "text": "16827",
          "x": "2024-01-10T15:00:00-05:00",
          "y": 16827.306640625
         },
         {
          "align": "center",
          "arrowcolor": "#636363",
          "arrowhead": 2,
          "arrowsize": 1,
          "arrowwidth": 2,
          "ax": 20,
          "ay": 30,
          "bgcolor": "#3399cc",
          "bordercolor": "#c7c7c7",
          "borderpad": 1,
          "borderwidth": 1,
          "font": {
           "color": "#ffffff",
           "family": "Courier New, monospace",
           "size": 12
          },
          "opacity": 0.8,
          "showarrow": true,
          "text": "16654",
          "x": "2024-01-10T10:05:00-05:00",
          "y": 16654.740234375
         }
        ],
        "legend": {
         "orientation": "h",
         "x": 1,
         "xanchor": "right",
         "y": 1.02,
         "yanchor": "bottom"
        },
        "shapes": [
         {
          "line": {
           "color": "Red",
           "dash": "dash",
           "width": 1.5
          },
          "type": "line",
          "x0": "2024-01-10T09:45:00-05:00",
          "x1": "2024-01-10T15:55:00-05:00",
          "y0": 0.5,
          "y1": 0.5,
          "yref": "y2"
         }
        ],
        "template": {
         "data": {
          "bar": [
           {
            "error_x": {
             "color": "#f2f5fa"
            },
            "error_y": {
             "color": "#f2f5fa"
            },
            "marker": {
             "line": {
              "color": "rgb(17,17,17)",
              "width": 0.5
             },
             "pattern": {
              "fillmode": "overlay",
              "size": 10,
              "solidity": 0.2
             }
            },
            "type": "bar"
           }
          ],
          "barpolar": [
           {
            "marker": {
             "line": {
              "color": "rgb(17,17,17)",
              "width": 0.5
             },
             "pattern": {
              "fillmode": "overlay",
              "size": 10,
              "solidity": 0.2
             }
            },
            "type": "barpolar"
           }
          ],
          "carpet": [
           {
            "aaxis": {
             "endlinecolor": "#A2B1C6",
             "gridcolor": "#506784",
             "linecolor": "#506784",
             "minorgridcolor": "#506784",
             "startlinecolor": "#A2B1C6"
            },
            "baxis": {
             "endlinecolor": "#A2B1C6",
             "gridcolor": "#506784",
             "linecolor": "#506784",
             "minorgridcolor": "#506784",
             "startlinecolor": "#A2B1C6"
            },
            "type": "carpet"
           }
          ],
          "choropleth": [
           {
            "colorbar": {
             "outlinewidth": 0,
             "ticks": ""
            },
            "type": "choropleth"
           }
          ],
          "contour": [
           {
            "colorbar": {
             "outlinewidth": 0,
             "ticks": ""
            },
            "colorscale": [
             [
              0,
              "#0d0887"
             ],
             [
              0.1111111111111111,
              "#46039f"
             ],
             [
              0.2222222222222222,
              "#7201a8"
             ],
             [
              0.3333333333333333,
              "#9c179e"
             ],
             [
              0.4444444444444444,
              "#bd3786"
             ],
             [
              0.5555555555555556,
              "#d8576b"
             ],
             [
              0.6666666666666666,
              "#ed7953"
             ],
             [
              0.7777777777777778,
              "#fb9f3a"
             ],
             [
              0.8888888888888888,
              "#fdca26"
             ],
             [
              1,
              "#f0f921"
             ]
            ],
            "type": "contour"
           }
          ],
          "contourcarpet": [
           {
            "colorbar": {
             "outlinewidth": 0,
             "ticks": ""
            },
            "type": "contourcarpet"
           }
          ],
          "heatmap": [
           {
            "colorbar": {
             "outlinewidth": 0,
             "ticks": ""
            },
            "colorscale": [
             [
              0,
              "#0d0887"
             ],
             [
              0.1111111111111111,
              "#46039f"
             ],
             [
              0.2222222222222222,
              "#7201a8"
             ],
             [
              0.3333333333333333,
              "#9c179e"
             ],
             [
              0.4444444444444444,
              "#bd3786"
             ],
             [
              0.5555555555555556,
              "#d8576b"
             ],
             [
              0.6666666666666666,
              "#ed7953"
             ],
             [
              0.7777777777777778,
              "#fb9f3a"
             ],
             [
              0.8888888888888888,
              "#fdca26"
             ],
             [
              1,
              "#f0f921"
             ]
            ],
            "type": "heatmap"
           }
          ],
          "heatmapgl": [
           {
            "colorbar": {
             "outlinewidth": 0,
             "ticks": ""
            },
            "colorscale": [
             [
              0,
              "#0d0887"
             ],
             [
              0.1111111111111111,
              "#46039f"
             ],
             [
              0.2222222222222222,
              "#7201a8"
             ],
             [
              0.3333333333333333,
              "#9c179e"
             ],
             [
              0.4444444444444444,
              "#bd3786"
             ],
             [
              0.5555555555555556,
              "#d8576b"
             ],
             [
              0.6666666666666666,
              "#ed7953"
             ],
             [
              0.7777777777777778,
              "#fb9f3a"
             ],
             [
              0.8888888888888888,
              "#fdca26"
             ],
             [
              1,
              "#f0f921"
             ]
            ],
            "type": "heatmapgl"
           }
          ],
          "histogram": [
           {
            "marker": {
             "pattern": {
              "fillmode": "overlay",
              "size": 10,
              "solidity": 0.2
             }
            },
            "type": "histogram"
           }
          ],
          "histogram2d": [
           {
            "colorbar": {
             "outlinewidth": 0,
             "ticks": ""
            },
            "colorscale": [
             [
              0,
              "#0d0887"
             ],
             [
              0.1111111111111111,
              "#46039f"
             ],
             [
              0.2222222222222222,
              "#7201a8"
             ],
             [
              0.3333333333333333,
              "#9c179e"
             ],
             [
              0.4444444444444444,
              "#bd3786"
             ],
             [
              0.5555555555555556,
              "#d8576b"
             ],
             [
              0.6666666666666666,
              "#ed7953"
             ],
             [
              0.7777777777777778,
              "#fb9f3a"
             ],
             [
              0.8888888888888888,
              "#fdca26"
             ],
             [
              1,
              "#f0f921"
             ]
            ],
            "type": "histogram2d"
           }
          ],
          "histogram2dcontour": [
           {
            "colorbar": {
             "outlinewidth": 0,
             "ticks": ""
            },
            "colorscale": [
             [
              0,
              "#0d0887"
             ],
             [
              0.1111111111111111,
              "#46039f"
             ],
             [
              0.2222222222222222,
              "#7201a8"
             ],
             [
              0.3333333333333333,
              "#9c179e"
             ],
             [
              0.4444444444444444,
              "#bd3786"
             ],
             [
              0.5555555555555556,
              "#d8576b"
             ],
             [
              0.6666666666666666,
              "#ed7953"
             ],
             [
              0.7777777777777778,
              "#fb9f3a"
             ],
             [
              0.8888888888888888,
              "#fdca26"
             ],
             [
              1,
              "#f0f921"
             ]
            ],
            "type": "histogram2dcontour"
           }
          ],
          "mesh3d": [
           {
            "colorbar": {
             "outlinewidth": 0,
             "ticks": ""
            },
            "type": "mesh3d"
           }
          ],
          "parcoords": [
           {
            "line": {
             "colorbar": {
              "outlinewidth": 0,
              "ticks": ""
             }
            },
            "type": "parcoords"
           }
          ],
          "pie": [
           {
            "automargin": true,
            "type": "pie"
           }
          ],
          "scatter": [
           {
            "marker": {
             "line": {
              "color": "#283442"
             }
            },
            "type": "scatter"
           }
          ],
          "scatter3d": [
           {
            "line": {
             "colorbar": {
              "outlinewidth": 0,
              "ticks": ""
             }
            },
            "marker": {
             "colorbar": {
              "outlinewidth": 0,
              "ticks": ""
             }
            },
            "type": "scatter3d"
           }
          ],
          "scattercarpet": [
           {
            "marker": {
             "colorbar": {
              "outlinewidth": 0,
              "ticks": ""
             }
            },
            "type": "scattercarpet"
           }
          ],
          "scattergeo": [
           {
            "marker": {
             "colorbar": {
              "outlinewidth": 0,
              "ticks": ""
             }
            },
            "type": "scattergeo"
           }
          ],
          "scattergl": [
           {
            "marker": {
             "line": {
              "color": "#283442"
             }
            },
            "type": "scattergl"
           }
          ],
          "scattermapbox": [
           {
            "marker": {
             "colorbar": {
              "outlinewidth": 0,
              "ticks": ""
             }
            },
            "type": "scattermapbox"
           }
          ],
          "scatterpolar": [
           {
            "marker": {
             "colorbar": {
              "outlinewidth": 0,
              "ticks": ""
             }
            },
            "type": "scatterpolar"
           }
          ],
          "scatterpolargl": [
           {
            "marker": {
             "colorbar": {
              "outlinewidth": 0,
              "ticks": ""
             }
            },
            "type": "scatterpolargl"
           }
          ],
          "scatterternary": [
           {
            "marker": {
             "colorbar": {
              "outlinewidth": 0,
              "ticks": ""
             }
            },
            "type": "scatterternary"
           }
          ],
          "surface": [
           {
            "colorbar": {
             "outlinewidth": 0,
             "ticks": ""
            },
            "colorscale": [
             [
              0,
              "#0d0887"
             ],
             [
              0.1111111111111111,
              "#46039f"
             ],
             [
              0.2222222222222222,
              "#7201a8"
             ],
             [
              0.3333333333333333,
              "#9c179e"
             ],
             [
              0.4444444444444444,
              "#bd3786"
             ],
             [
              0.5555555555555556,
              "#d8576b"
             ],
             [
              0.6666666666666666,
              "#ed7953"
             ],
             [
              0.7777777777777778,
              "#fb9f3a"
             ],
             [
              0.8888888888888888,
              "#fdca26"
             ],
             [
              1,
              "#f0f921"
             ]
            ],
            "type": "surface"
           }
          ],
          "table": [
           {
            "cells": {
             "fill": {
              "color": "#506784"
             },
             "line": {
              "color": "rgb(17,17,17)"
             }
            },
            "header": {
             "fill": {
              "color": "#2a3f5f"
             },
             "line": {
              "color": "rgb(17,17,17)"
             }
            },
            "type": "table"
           }
          ]
         },
         "layout": {
          "annotationdefaults": {
           "arrowcolor": "#f2f5fa",
           "arrowhead": 0,
           "arrowwidth": 1
          },
          "autotypenumbers": "strict",
          "coloraxis": {
           "colorbar": {
            "outlinewidth": 0,
            "ticks": ""
           }
          },
          "colorscale": {
           "diverging": [
            [
             0,
             "#8e0152"
            ],
            [
             0.1,
             "#c51b7d"
            ],
            [
             0.2,
             "#de77ae"
            ],
            [
             0.3,
             "#f1b6da"
            ],
            [
             0.4,
             "#fde0ef"
            ],
            [
             0.5,
             "#f7f7f7"
            ],
            [
             0.6,
             "#e6f5d0"
            ],
            [
             0.7,
             "#b8e186"
            ],
            [
             0.8,
             "#7fbc41"
            ],
            [
             0.9,
             "#4d9221"
            ],
            [
             1,
             "#276419"
            ]
           ],
           "sequential": [
            [
             0,
             "#0d0887"
            ],
            [
             0.1111111111111111,
             "#46039f"
            ],
            [
             0.2222222222222222,
             "#7201a8"
            ],
            [
             0.3333333333333333,
             "#9c179e"
            ],
            [
             0.4444444444444444,
             "#bd3786"
            ],
            [
             0.5555555555555556,
             "#d8576b"
            ],
            [
             0.6666666666666666,
             "#ed7953"
            ],
            [
             0.7777777777777778,
             "#fb9f3a"
            ],
            [
             0.8888888888888888,
             "#fdca26"
            ],
            [
             1,
             "#f0f921"
            ]
           ],
           "sequentialminus": [
            [
             0,
             "#0d0887"
            ],
            [
             0.1111111111111111,
             "#46039f"
            ],
            [
             0.2222222222222222,
             "#7201a8"
            ],
            [
             0.3333333333333333,
             "#9c179e"
            ],
            [
             0.4444444444444444,
             "#bd3786"
            ],
            [
             0.5555555555555556,
             "#d8576b"
            ],
            [
             0.6666666666666666,
             "#ed7953"
            ],
            [
             0.7777777777777778,
             "#fb9f3a"
            ],
            [
             0.8888888888888888,
             "#fdca26"
            ],
            [
             1,
             "#f0f921"
            ]
           ]
          },
          "colorway": [
           "#636efa",
           "#EF553B",
           "#00cc96",
           "#ab63fa",
           "#FFA15A",
           "#19d3f3",
           "#FF6692",
           "#B6E880",
           "#FF97FF",
           "#FECB52"
          ],
          "font": {
           "color": "#f2f5fa"
          },
          "geo": {
           "bgcolor": "rgb(17,17,17)",
           "lakecolor": "rgb(17,17,17)",
           "landcolor": "rgb(17,17,17)",
           "showlakes": true,
           "showland": true,
           "subunitcolor": "#506784"
          },
          "hoverlabel": {
           "align": "left"
          },
          "hovermode": "closest",
          "mapbox": {
           "style": "dark"
          },
          "paper_bgcolor": "rgb(17,17,17)",
          "plot_bgcolor": "rgb(17,17,17)",
          "polar": {
           "angularaxis": {
            "gridcolor": "#506784",
            "linecolor": "#506784",
            "ticks": ""
           },
           "bgcolor": "rgb(17,17,17)",
           "radialaxis": {
            "gridcolor": "#506784",
            "linecolor": "#506784",
            "ticks": ""
           }
          },
          "scene": {
           "xaxis": {
            "backgroundcolor": "rgb(17,17,17)",
            "gridcolor": "#506784",
            "gridwidth": 2,
            "linecolor": "#506784",
            "showbackground": true,
            "ticks": "",
            "zerolinecolor": "#C8D4E3"
           },
           "yaxis": {
            "backgroundcolor": "rgb(17,17,17)",
            "gridcolor": "#506784",
            "gridwidth": 2,
            "linecolor": "#506784",
            "showbackground": true,
            "ticks": "",
            "zerolinecolor": "#C8D4E3"
           },
           "zaxis": {
            "backgroundcolor": "rgb(17,17,17)",
            "gridcolor": "#506784",
            "gridwidth": 2,
            "linecolor": "#506784",
            "showbackground": true,
            "ticks": "",
            "zerolinecolor": "#C8D4E3"
           }
          },
          "shapedefaults": {
           "line": {
            "color": "#f2f5fa"
           }
          },
          "sliderdefaults": {
           "bgcolor": "#C8D4E3",
           "bordercolor": "rgb(17,17,17)",
           "borderwidth": 1,
           "tickwidth": 0
          },
          "ternary": {
           "aaxis": {
            "gridcolor": "#506784",
            "linecolor": "#506784",
            "ticks": ""
           },
           "baxis": {
            "gridcolor": "#506784",
            "linecolor": "#506784",
            "ticks": ""
           },
           "bgcolor": "rgb(17,17,17)",
           "caxis": {
            "gridcolor": "#506784",
            "linecolor": "#506784",
            "ticks": ""
           }
          },
          "title": {
           "x": 0.05
          },
          "updatemenudefaults": {
           "bgcolor": "#506784",
           "borderwidth": 0
          },
          "xaxis": {
           "automargin": true,
           "gridcolor": "#283442",
           "linecolor": "#506784",
           "ticks": "",
           "title": {
            "standoff": 15
           },
           "zerolinecolor": "#283442",
           "zerolinewidth": 2
          },
          "yaxis": {
           "automargin": true,
           "gridcolor": "#283442",
           "linecolor": "#506784",
           "ticks": "",
           "title": {
            "standoff": 15
           },
           "zerolinecolor": "#283442",
           "zerolinewidth": 2
          }
         }
        },
        "title": {
         "text": "OHLC vs Prediction Over Time"
        },
        "xaxis": {
         "rangeslider": {
          "visible": false
         }
        },
        "yaxis": {
         "tickformat": ".0f"
        },
        "yaxis2": {
         "overlaying": "y",
         "side": "right",
         "tickformat": ".0%"
        }
       }
      }
     },
     "metadata": {},
     "output_type": "display_data"
    }
   ],
   "source": [
    "create_viz(df_viz, '2024-01-10')"
   ]
  },
  {
   "cell_type": "code",
   "execution_count": 261,
   "metadata": {},
   "outputs": [
    {
     "ename": "NameError",
     "evalue": "name 'XXX' is not defined",
     "output_type": "error",
     "traceback": [
      "\u001b[1;31m---------------------------------------------------------------------------\u001b[0m",
      "\u001b[1;31mNameError\u001b[0m                                 Traceback (most recent call last)",
      "\u001b[1;32md:\\Projects\\session-extrema-model\\model_dev.ipynb Cell 68\u001b[0m line \u001b[0;36m1\n\u001b[1;32m----> <a href='vscode-notebook-cell:/d%3A/Projects/session-extrema-model/model_dev.ipynb#Y123sZmlsZQ%3D%3D?line=0'>1</a>\u001b[0m XXX\n",
      "\u001b[1;31mNameError\u001b[0m: name 'XXX' is not defined"
     ]
    }
   ],
   "source": [
    "XXX"
   ]
  },
  {
   "cell_type": "markdown",
   "metadata": {},
   "source": []
  }
 ],
 "metadata": {
  "kernelspec": {
   "display_name": ".venv",
   "language": "python",
   "name": "python3"
  },
  "language_info": {
   "codemirror_mode": {
    "name": "ipython",
    "version": 3
   },
   "file_extension": ".py",
   "mimetype": "text/x-python",
   "name": "python",
   "nbconvert_exporter": "python",
   "pygments_lexer": "ipython3",
   "version": "3.10.11"
  }
 },
 "nbformat": 4,
 "nbformat_minor": 2
}
