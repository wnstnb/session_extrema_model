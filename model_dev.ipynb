{
 "cells": [
  {
   "cell_type": "code",
   "execution_count": 1,
   "metadata": {},
   "outputs": [],
   "source": [
    "from dbConn import engine\n",
    "import pandas as pd\n",
    "import numpy as np\n",
    "from tqdm import tqdm"
   ]
  },
  {
   "cell_type": "code",
   "execution_count": 2,
   "metadata": {},
   "outputs": [],
   "source": [
    "base_query = '''\n",
    "SELECT \n",
    "    spx.Datetime,\n",
    "    spx.Open AS Open_SPX,\n",
    "    spx.High AS High_SPX,\n",
    "    spx.Low AS Low_SPX,\n",
    "    spx.Close AS Close_SPX,\n",
    "    ndx.Open AS Open_NDX,\n",
    "    ndx.High AS High_NDX,\n",
    "    ndx.Low AS Low_NDX,\n",
    "    ndx.Close AS Close_NDX,\n",
    "    rut.Open AS Open_RUT,\n",
    "    rut.High AS High_RUT,\n",
    "    rut.Low AS Low_RUT,\n",
    "    rut.Close AS Close_RUT\n",
    "    FROM (\n",
    "    SELECT * FROM SPX_full_5min\n",
    "    ) spx\n",
    "    JOIN (\n",
    "    SELECT * FROM NDX_full_5min\n",
    "    ) ndx ON spx.Datetime = ndx.Datetime\n",
    "    LEFT JOIN (\n",
    "    SELECT * FROM RUT_full_5min\n",
    "    ) rut ON spx.Datetime = rut.Datetime\n",
    "-- WHERE spx.Datetime >= '2018-01-01'\n",
    "'''\n",
    "\n",
    "# Initialize variables for pagination\n",
    "offset = 0\n",
    "limit = 50000\n",
    "data_frames = []\n",
    "\n",
    "while True:\n",
    "    # Construct the query with LIMIT and OFFSET\n",
    "    query = f\"{base_query} LIMIT {limit} OFFSET {offset}\"\n",
    "    \n",
    "    # Fetch the chunk of data\n",
    "    df_chunk = pd.read_sql_query(query, con = engine.connect())\n",
    "    \n",
    "    # Break the loop if no more data is returned\n",
    "    if df_chunk.empty:\n",
    "        break\n",
    "\n",
    "    # Append the chunk to the list of dataframes\n",
    "    data_frames.append(df_chunk)\n",
    "\n",
    "    # Update the offset for the next query\n",
    "    offset += limit\n",
    "\n",
    "# Concatenate all dataframes\n",
    "data = pd.concat(data_frames, ignore_index=True)"
   ]
  },
  {
   "cell_type": "code",
   "execution_count": 3,
   "metadata": {},
   "outputs": [
    {
     "data": {
      "text/plain": [
       "331276"
      ]
     },
     "execution_count": 3,
     "metadata": {},
     "output_type": "execute_result"
    }
   ],
   "source": [
    "len(data)"
   ]
  },
  {
   "cell_type": "code",
   "execution_count": 4,
   "metadata": {},
   "outputs": [
    {
     "data": {
      "text/html": [
       "<div>\n",
       "<style scoped>\n",
       "    .dataframe tbody tr th:only-of-type {\n",
       "        vertical-align: middle;\n",
       "    }\n",
       "\n",
       "    .dataframe tbody tr th {\n",
       "        vertical-align: top;\n",
       "    }\n",
       "\n",
       "    .dataframe thead th {\n",
       "        text-align: right;\n",
       "    }\n",
       "</style>\n",
       "<table border=\"1\" class=\"dataframe\">\n",
       "  <thead>\n",
       "    <tr style=\"text-align: right;\">\n",
       "      <th></th>\n",
       "      <th>Datetime</th>\n",
       "      <th>Open_SPX</th>\n",
       "      <th>High_SPX</th>\n",
       "      <th>Low_SPX</th>\n",
       "      <th>Close_SPX</th>\n",
       "      <th>Open_NDX</th>\n",
       "      <th>High_NDX</th>\n",
       "      <th>Low_NDX</th>\n",
       "      <th>Close_NDX</th>\n",
       "      <th>Open_RUT</th>\n",
       "      <th>High_RUT</th>\n",
       "      <th>Low_RUT</th>\n",
       "      <th>Close_RUT</th>\n",
       "    </tr>\n",
       "  </thead>\n",
       "  <tbody>\n",
       "    <tr>\n",
       "      <th>0</th>\n",
       "      <td>2007-04-27 12:20:00</td>\n",
       "      <td>1492.19</td>\n",
       "      <td>1492.40</td>\n",
       "      <td>1492.19</td>\n",
       "      <td>1492.38</td>\n",
       "      <td>1887.90</td>\n",
       "      <td>1887.91</td>\n",
       "      <td>1886.97</td>\n",
       "      <td>1887.65</td>\n",
       "      <td>829.54</td>\n",
       "      <td>829.55</td>\n",
       "      <td>829.35</td>\n",
       "      <td>829.41</td>\n",
       "    </tr>\n",
       "    <tr>\n",
       "      <th>1</th>\n",
       "      <td>2007-04-27 12:25:00</td>\n",
       "      <td>1492.39</td>\n",
       "      <td>1492.91</td>\n",
       "      <td>1492.39</td>\n",
       "      <td>1492.87</td>\n",
       "      <td>1887.72</td>\n",
       "      <td>1888.32</td>\n",
       "      <td>1887.72</td>\n",
       "      <td>1888.27</td>\n",
       "      <td>829.42</td>\n",
       "      <td>829.68</td>\n",
       "      <td>829.42</td>\n",
       "      <td>829.68</td>\n",
       "    </tr>\n",
       "    <tr>\n",
       "      <th>2</th>\n",
       "      <td>2007-04-27 12:30:00</td>\n",
       "      <td>1492.54</td>\n",
       "      <td>1492.80</td>\n",
       "      <td>1492.53</td>\n",
       "      <td>1492.58</td>\n",
       "      <td>1887.77</td>\n",
       "      <td>1888.68</td>\n",
       "      <td>1887.65</td>\n",
       "      <td>1888.13</td>\n",
       "      <td>829.65</td>\n",
       "      <td>829.84</td>\n",
       "      <td>829.65</td>\n",
       "      <td>829.73</td>\n",
       "    </tr>\n",
       "    <tr>\n",
       "      <th>3</th>\n",
       "      <td>2007-04-27 12:35:00</td>\n",
       "      <td>1492.70</td>\n",
       "      <td>1492.88</td>\n",
       "      <td>1492.30</td>\n",
       "      <td>1492.88</td>\n",
       "      <td>1888.09</td>\n",
       "      <td>1888.24</td>\n",
       "      <td>1887.27</td>\n",
       "      <td>1888.24</td>\n",
       "      <td>829.65</td>\n",
       "      <td>829.65</td>\n",
       "      <td>829.25</td>\n",
       "      <td>829.38</td>\n",
       "    </tr>\n",
       "    <tr>\n",
       "      <th>4</th>\n",
       "      <td>2007-04-27 12:40:00</td>\n",
       "      <td>1492.88</td>\n",
       "      <td>1494.46</td>\n",
       "      <td>1492.88</td>\n",
       "      <td>1493.94</td>\n",
       "      <td>1888.26</td>\n",
       "      <td>1890.01</td>\n",
       "      <td>1888.26</td>\n",
       "      <td>1889.31</td>\n",
       "      <td>829.39</td>\n",
       "      <td>830.08</td>\n",
       "      <td>829.39</td>\n",
       "      <td>830.03</td>\n",
       "    </tr>\n",
       "  </tbody>\n",
       "</table>\n",
       "</div>"
      ],
      "text/plain": [
       "             Datetime  Open_SPX  High_SPX  Low_SPX  Close_SPX  Open_NDX  \\\n",
       "0 2007-04-27 12:20:00   1492.19   1492.40  1492.19    1492.38   1887.90   \n",
       "1 2007-04-27 12:25:00   1492.39   1492.91  1492.39    1492.87   1887.72   \n",
       "2 2007-04-27 12:30:00   1492.54   1492.80  1492.53    1492.58   1887.77   \n",
       "3 2007-04-27 12:35:00   1492.70   1492.88  1492.30    1492.88   1888.09   \n",
       "4 2007-04-27 12:40:00   1492.88   1494.46  1492.88    1493.94   1888.26   \n",
       "\n",
       "   High_NDX  Low_NDX  Close_NDX  Open_RUT  High_RUT  Low_RUT  Close_RUT  \n",
       "0   1887.91  1886.97    1887.65    829.54    829.55   829.35     829.41  \n",
       "1   1888.32  1887.72    1888.27    829.42    829.68   829.42     829.68  \n",
       "2   1888.68  1887.65    1888.13    829.65    829.84   829.65     829.73  \n",
       "3   1888.24  1887.27    1888.24    829.65    829.65   829.25     829.38  \n",
       "4   1890.01  1888.26    1889.31    829.39    830.08   829.39     830.03  "
      ]
     },
     "execution_count": 4,
     "metadata": {},
     "output_type": "execute_result"
    }
   ],
   "source": [
    "data.head()"
   ]
  },
  {
   "cell_type": "code",
   "execution_count": 5,
   "metadata": {},
   "outputs": [],
   "source": [
    "data['Date'] = data['Datetime'].dt.date\n",
    "data['Time'] = data['Datetime'].dt.time"
   ]
  },
  {
   "cell_type": "code",
   "execution_count": 6,
   "metadata": {},
   "outputs": [
    {
     "data": {
      "text/plain": [
       "Timestamp('2007-04-27 12:20:00')"
      ]
     },
     "execution_count": 6,
     "metadata": {},
     "output_type": "execute_result"
    }
   ],
   "source": [
    "data['Datetime'].min()"
   ]
  },
  {
   "cell_type": "code",
   "execution_count": 7,
   "metadata": {},
   "outputs": [
    {
     "data": {
      "text/plain": [
       "Timestamp('2024-01-12 16:00:00')"
      ]
     },
     "execution_count": 7,
     "metadata": {},
     "output_type": "execute_result"
    }
   ],
   "source": [
    "data['Datetime'].max()"
   ]
  },
  {
   "cell_type": "code",
   "execution_count": 8,
   "metadata": {},
   "outputs": [],
   "source": [
    "import datetime"
   ]
  },
  {
   "cell_type": "markdown",
   "metadata": {},
   "source": [
    "# Start Run Models"
   ]
  },
  {
   "cell_type": "code",
   "execution_count": 65,
   "metadata": {},
   "outputs": [],
   "source": [
    "ticker_dict = {\n",
    "    \"^GSPC\":{\n",
    "        \"hod_model\":\"models/hod_model_spx.joblib\",\n",
    "        \"lod_model\":\"models/lod_model_spx.joblib\",\n",
    "        \"gd_model\":\"models/gd_model_spx.joblib\",\n",
    "        \"hod_model_cv\":\"models/hod_model_cv_spx.joblib\",\n",
    "        \"lod_model_cv\":\"models/lod_model_cv_spx.joblib\",\n",
    "        \"gd_model_cv\":\"models/gd_model_cv_spx.joblib\",\n",
    "        \"suffix\":\"SPX\"\n",
    "    },\n",
    "    \"^NDX\":{\n",
    "        \"hod_model\":\"models/hod_model_ndx.joblib\",\n",
    "        \"lod_model\":\"models/lod_model_ndx.joblib\",\n",
    "        \"gd_model\":\"models/gd_model_ndx.joblib\",\n",
    "        \"hod_model_cv\":\"models/hod_model_cv_ndx.joblib\",\n",
    "        \"lod_model_cv\":\"models/lod_model_cv_ndx.joblib\",\n",
    "        \"gd_model_cv\":\"models/gd_model_cv_ndx.joblib\",\n",
    "        \"suffix\":\"NDX\"\n",
    "    },\n",
    "    \"^RUT\":{\n",
    "        \"hod_model\":\"models/hod_model_rut.joblib\",\n",
    "        \"lod_model\":\"models/lod_model_rut.joblib\",\n",
    "        \"gd_model\":\"models/gd_model_rut.joblib\",\n",
    "        \"suffix\":\"RUT\"\n",
    "    }\n",
    "}\n",
    "\n",
    "tck = '^GSPC'\n",
    "\n",
    "spx_data = data.loc[:,[\n",
    "    'Datetime',\n",
    "    f'Open_{ticker_dict[tck][\"suffix\"]}',\n",
    "    f'High_{ticker_dict[tck][\"suffix\"]}',\n",
    "    f'Low_{ticker_dict[tck][\"suffix\"]}',\n",
    "    f'Close_{ticker_dict[tck][\"suffix\"]}'\n",
    "]]\n",
    "spx_data.columns = ['Datetime','open','high','low','close']\n",
    "spx_data['time'] = spx_data['Datetime'].dt.time\n",
    "spx_data = spx_data.loc[(spx_data['time'] < datetime.time(16,0)) & (spx_data['time'] >= datetime.time(9,30))]"
   ]
  },
  {
   "cell_type": "code",
   "execution_count": 66,
   "metadata": {},
   "outputs": [],
   "source": [
    "spx_data = spx_data.set_index('Datetime')"
   ]
  },
  {
   "cell_type": "code",
   "execution_count": 67,
   "metadata": {},
   "outputs": [],
   "source": [
    "# Create a list of times from 9:30 to 15:55 with 5 minute intervals\n",
    "times = pd.date_range(start=\"9:30\", end=\"15:55\", freq='5min').time\n",
    "\n",
    "# Create a dictionary that maps each time to a unique integer\n",
    "time_to_int = {time: i+1 for i, time in enumerate(times)}\n",
    "\n",
    "# Assume df is your DataFrame and 'time' is your column of times\n",
    "spx_data['bar_num'] = spx_data['time'].map(time_to_int)"
   ]
  },
  {
   "cell_type": "code",
   "execution_count": 68,
   "metadata": {},
   "outputs": [],
   "source": [
    "# Get the last bar of each date\n",
    "spx_data['eod_close'] = spx_data.groupby(spx_data.index.date)['close'].tail(1)\n",
    "spx_data['prev_close'] = spx_data['eod_close'].shift(1)\n",
    "spx_data['prev_close'] = spx_data['prev_close'].ffill()\n",
    "spx_data['eod_close'] = spx_data['eod_close'].bfill()\n",
    "spx_data['green_day'] = spx_data['eod_close'] > spx_data['prev_close']\n",
    "\n",
    "spx_data['eod_close_pts'] = spx_data['eod_close'] - spx_data['prev_close']\n",
    "spx_data['eod_close_pct'] = spx_data['eod_close_pts'] / spx_data['prev_close']"
   ]
  },
  {
   "cell_type": "code",
   "execution_count": 69,
   "metadata": {},
   "outputs": [
    {
     "data": {
      "text/html": [
       "<div>\n",
       "<style scoped>\n",
       "    .dataframe tbody tr th:only-of-type {\n",
       "        vertical-align: middle;\n",
       "    }\n",
       "\n",
       "    .dataframe tbody tr th {\n",
       "        vertical-align: top;\n",
       "    }\n",
       "\n",
       "    .dataframe thead th {\n",
       "        text-align: right;\n",
       "    }\n",
       "</style>\n",
       "<table border=\"1\" class=\"dataframe\">\n",
       "  <thead>\n",
       "    <tr style=\"text-align: right;\">\n",
       "      <th></th>\n",
       "      <th>open</th>\n",
       "      <th>high</th>\n",
       "      <th>low</th>\n",
       "      <th>close</th>\n",
       "      <th>time</th>\n",
       "      <th>bar_num</th>\n",
       "      <th>eod_close</th>\n",
       "      <th>prev_close</th>\n",
       "      <th>green_day</th>\n",
       "      <th>eod_close_pts</th>\n",
       "      <th>eod_close_pct</th>\n",
       "    </tr>\n",
       "    <tr>\n",
       "      <th>Datetime</th>\n",
       "      <th></th>\n",
       "      <th></th>\n",
       "      <th></th>\n",
       "      <th></th>\n",
       "      <th></th>\n",
       "      <th></th>\n",
       "      <th></th>\n",
       "      <th></th>\n",
       "      <th></th>\n",
       "      <th></th>\n",
       "      <th></th>\n",
       "    </tr>\n",
       "  </thead>\n",
       "  <tbody>\n",
       "    <tr>\n",
       "      <th>2007-04-27 12:20:00</th>\n",
       "      <td>1492.19</td>\n",
       "      <td>1492.40</td>\n",
       "      <td>1492.19</td>\n",
       "      <td>1492.38</td>\n",
       "      <td>12:20:00</td>\n",
       "      <td>35</td>\n",
       "      <td>1494.24</td>\n",
       "      <td>NaN</td>\n",
       "      <td>False</td>\n",
       "      <td>NaN</td>\n",
       "      <td>NaN</td>\n",
       "    </tr>\n",
       "    <tr>\n",
       "      <th>2007-04-27 12:25:00</th>\n",
       "      <td>1492.39</td>\n",
       "      <td>1492.91</td>\n",
       "      <td>1492.39</td>\n",
       "      <td>1492.87</td>\n",
       "      <td>12:25:00</td>\n",
       "      <td>36</td>\n",
       "      <td>1494.24</td>\n",
       "      <td>NaN</td>\n",
       "      <td>False</td>\n",
       "      <td>NaN</td>\n",
       "      <td>NaN</td>\n",
       "    </tr>\n",
       "    <tr>\n",
       "      <th>2007-04-27 12:30:00</th>\n",
       "      <td>1492.54</td>\n",
       "      <td>1492.80</td>\n",
       "      <td>1492.53</td>\n",
       "      <td>1492.58</td>\n",
       "      <td>12:30:00</td>\n",
       "      <td>37</td>\n",
       "      <td>1494.24</td>\n",
       "      <td>NaN</td>\n",
       "      <td>False</td>\n",
       "      <td>NaN</td>\n",
       "      <td>NaN</td>\n",
       "    </tr>\n",
       "    <tr>\n",
       "      <th>2007-04-27 12:35:00</th>\n",
       "      <td>1492.70</td>\n",
       "      <td>1492.88</td>\n",
       "      <td>1492.30</td>\n",
       "      <td>1492.88</td>\n",
       "      <td>12:35:00</td>\n",
       "      <td>38</td>\n",
       "      <td>1494.24</td>\n",
       "      <td>NaN</td>\n",
       "      <td>False</td>\n",
       "      <td>NaN</td>\n",
       "      <td>NaN</td>\n",
       "    </tr>\n",
       "    <tr>\n",
       "      <th>2007-04-27 12:40:00</th>\n",
       "      <td>1492.88</td>\n",
       "      <td>1494.46</td>\n",
       "      <td>1492.88</td>\n",
       "      <td>1493.94</td>\n",
       "      <td>12:40:00</td>\n",
       "      <td>39</td>\n",
       "      <td>1494.24</td>\n",
       "      <td>NaN</td>\n",
       "      <td>False</td>\n",
       "      <td>NaN</td>\n",
       "      <td>NaN</td>\n",
       "    </tr>\n",
       "  </tbody>\n",
       "</table>\n",
       "</div>"
      ],
      "text/plain": [
       "                        open     high      low    close      time  bar_num  \\\n",
       "Datetime                                                                     \n",
       "2007-04-27 12:20:00  1492.19  1492.40  1492.19  1492.38  12:20:00       35   \n",
       "2007-04-27 12:25:00  1492.39  1492.91  1492.39  1492.87  12:25:00       36   \n",
       "2007-04-27 12:30:00  1492.54  1492.80  1492.53  1492.58  12:30:00       37   \n",
       "2007-04-27 12:35:00  1492.70  1492.88  1492.30  1492.88  12:35:00       38   \n",
       "2007-04-27 12:40:00  1492.88  1494.46  1492.88  1493.94  12:40:00       39   \n",
       "\n",
       "                     eod_close  prev_close  green_day  eod_close_pts  \\\n",
       "Datetime                                                               \n",
       "2007-04-27 12:20:00    1494.24         NaN      False            NaN   \n",
       "2007-04-27 12:25:00    1494.24         NaN      False            NaN   \n",
       "2007-04-27 12:30:00    1494.24         NaN      False            NaN   \n",
       "2007-04-27 12:35:00    1494.24         NaN      False            NaN   \n",
       "2007-04-27 12:40:00    1494.24         NaN      False            NaN   \n",
       "\n",
       "                     eod_close_pct  \n",
       "Datetime                            \n",
       "2007-04-27 12:20:00            NaN  \n",
       "2007-04-27 12:25:00            NaN  \n",
       "2007-04-27 12:30:00            NaN  \n",
       "2007-04-27 12:35:00            NaN  \n",
       "2007-04-27 12:40:00            NaN  "
      ]
     },
     "execution_count": 69,
     "metadata": {},
     "output_type": "execute_result"
    }
   ],
   "source": [
    "spx_data.head()"
   ]
  },
  {
   "cell_type": "code",
   "execution_count": 70,
   "metadata": {},
   "outputs": [
    {
     "data": {
      "text/html": [
       "<div>\n",
       "<style scoped>\n",
       "    .dataframe tbody tr th:only-of-type {\n",
       "        vertical-align: middle;\n",
       "    }\n",
       "\n",
       "    .dataframe tbody tr th {\n",
       "        vertical-align: top;\n",
       "    }\n",
       "\n",
       "    .dataframe thead th {\n",
       "        text-align: right;\n",
       "    }\n",
       "</style>\n",
       "<table border=\"1\" class=\"dataframe\">\n",
       "  <thead>\n",
       "    <tr style=\"text-align: right;\">\n",
       "      <th></th>\n",
       "      <th>open</th>\n",
       "      <th>high</th>\n",
       "      <th>low</th>\n",
       "      <th>close</th>\n",
       "      <th>time</th>\n",
       "      <th>bar_num</th>\n",
       "      <th>eod_close</th>\n",
       "      <th>prev_close</th>\n",
       "      <th>green_day</th>\n",
       "      <th>eod_close_pts</th>\n",
       "      <th>eod_close_pct</th>\n",
       "    </tr>\n",
       "    <tr>\n",
       "      <th>Datetime</th>\n",
       "      <th></th>\n",
       "      <th></th>\n",
       "      <th></th>\n",
       "      <th></th>\n",
       "      <th></th>\n",
       "      <th></th>\n",
       "      <th></th>\n",
       "      <th></th>\n",
       "      <th></th>\n",
       "      <th></th>\n",
       "      <th></th>\n",
       "    </tr>\n",
       "  </thead>\n",
       "  <tbody>\n",
       "    <tr>\n",
       "      <th>2024-01-12 15:35:00</th>\n",
       "      <td>4780.62</td>\n",
       "      <td>4781.00</td>\n",
       "      <td>4779.34</td>\n",
       "      <td>4779.49</td>\n",
       "      <td>15:35:00</td>\n",
       "      <td>74</td>\n",
       "      <td>4783.14</td>\n",
       "      <td>4780.29</td>\n",
       "      <td>True</td>\n",
       "      <td>2.85</td>\n",
       "      <td>0.000596</td>\n",
       "    </tr>\n",
       "    <tr>\n",
       "      <th>2024-01-12 15:40:00</th>\n",
       "      <td>4779.49</td>\n",
       "      <td>4781.14</td>\n",
       "      <td>4777.56</td>\n",
       "      <td>4781.09</td>\n",
       "      <td>15:40:00</td>\n",
       "      <td>75</td>\n",
       "      <td>4783.14</td>\n",
       "      <td>4780.29</td>\n",
       "      <td>True</td>\n",
       "      <td>2.85</td>\n",
       "      <td>0.000596</td>\n",
       "    </tr>\n",
       "    <tr>\n",
       "      <th>2024-01-12 15:45:00</th>\n",
       "      <td>4781.06</td>\n",
       "      <td>4782.92</td>\n",
       "      <td>4780.79</td>\n",
       "      <td>4782.85</td>\n",
       "      <td>15:45:00</td>\n",
       "      <td>76</td>\n",
       "      <td>4783.14</td>\n",
       "      <td>4780.29</td>\n",
       "      <td>True</td>\n",
       "      <td>2.85</td>\n",
       "      <td>0.000596</td>\n",
       "    </tr>\n",
       "    <tr>\n",
       "      <th>2024-01-12 15:50:00</th>\n",
       "      <td>4783.02</td>\n",
       "      <td>4783.95</td>\n",
       "      <td>4780.53</td>\n",
       "      <td>4783.55</td>\n",
       "      <td>15:50:00</td>\n",
       "      <td>77</td>\n",
       "      <td>4783.14</td>\n",
       "      <td>4780.29</td>\n",
       "      <td>True</td>\n",
       "      <td>2.85</td>\n",
       "      <td>0.000596</td>\n",
       "    </tr>\n",
       "    <tr>\n",
       "      <th>2024-01-12 15:55:00</th>\n",
       "      <td>4783.61</td>\n",
       "      <td>4785.36</td>\n",
       "      <td>4781.90</td>\n",
       "      <td>4783.14</td>\n",
       "      <td>15:55:00</td>\n",
       "      <td>78</td>\n",
       "      <td>4783.14</td>\n",
       "      <td>4780.29</td>\n",
       "      <td>True</td>\n",
       "      <td>2.85</td>\n",
       "      <td>0.000596</td>\n",
       "    </tr>\n",
       "  </tbody>\n",
       "</table>\n",
       "</div>"
      ],
      "text/plain": [
       "                        open     high      low    close      time  bar_num  \\\n",
       "Datetime                                                                     \n",
       "2024-01-12 15:35:00  4780.62  4781.00  4779.34  4779.49  15:35:00       74   \n",
       "2024-01-12 15:40:00  4779.49  4781.14  4777.56  4781.09  15:40:00       75   \n",
       "2024-01-12 15:45:00  4781.06  4782.92  4780.79  4782.85  15:45:00       76   \n",
       "2024-01-12 15:50:00  4783.02  4783.95  4780.53  4783.55  15:50:00       77   \n",
       "2024-01-12 15:55:00  4783.61  4785.36  4781.90  4783.14  15:55:00       78   \n",
       "\n",
       "                     eod_close  prev_close  green_day  eod_close_pts  \\\n",
       "Datetime                                                               \n",
       "2024-01-12 15:35:00    4783.14     4780.29       True           2.85   \n",
       "2024-01-12 15:40:00    4783.14     4780.29       True           2.85   \n",
       "2024-01-12 15:45:00    4783.14     4780.29       True           2.85   \n",
       "2024-01-12 15:50:00    4783.14     4780.29       True           2.85   \n",
       "2024-01-12 15:55:00    4783.14     4780.29       True           2.85   \n",
       "\n",
       "                     eod_close_pct  \n",
       "Datetime                            \n",
       "2024-01-12 15:35:00       0.000596  \n",
       "2024-01-12 15:40:00       0.000596  \n",
       "2024-01-12 15:45:00       0.000596  \n",
       "2024-01-12 15:50:00       0.000596  \n",
       "2024-01-12 15:55:00       0.000596  "
      ]
     },
     "execution_count": 70,
     "metadata": {},
     "output_type": "execute_result"
    }
   ],
   "source": [
    "spx_data.tail()"
   ]
  },
  {
   "cell_type": "markdown",
   "metadata": {},
   "source": [
    "# Feature and Target Creation\n",
    "Target\n",
    "- Whether the current high or low of the **session** has been achieved, based on the close of the most recent 5 min bar. \n",
    "\n",
    "Features\n",
    "- Current and lagged features of each **session**."
   ]
  },
  {
   "cell_type": "code",
   "execution_count": 71,
   "metadata": {},
   "outputs": [
    {
     "name": "stderr",
     "output_type": "stream",
     "text": [
      "  0%|          | 0/4207 [00:00<?, ?it/s]"
     ]
    },
    {
     "name": "stderr",
     "output_type": "stream",
     "text": [
      "100%|██████████| 4207/4207 [02:07<00:00, 33.00it/s]\n"
     ]
    }
   ],
   "source": [
    "import numpy as np\n",
    "import pandas as pd\n",
    "import datetime\n",
    "from pandas.tseries.offsets import BDay\n",
    "from tqdm import tqdm\n",
    "\n",
    "spx_data['label'] = np.nan\n",
    "\n",
    "# Per date, run it.\n",
    "for day in tqdm(sorted(set(spx_data.index.date))):\n",
    "    day_str = datetime.datetime.strftime(day, '%Y-%m-%d')\n",
    "    day_open = spx_data.loc[day_str, 'open'].iloc[0]\n",
    "    spx_data.loc[day_str, 'lod'] = spx_data.loc[day_str, 'low'].min()\n",
    "    spx_data.loc[day_str, 'label_lod'] = (spx_data.loc[day_str, 'low'] == spx_data.loc[day_str, 'lod']).astype(int)\n",
    "    \n",
    "    spx_data.loc[day_str, 'hod'] = spx_data.loc[day_str, 'high'].max()\n",
    "    spx_data.loc[day_str, 'label'] = (spx_data.loc[day_str, 'high'] == spx_data.loc[day_str, 'hod']).astype(int)\n",
    "    spx_data.loc[day_str, 'day_open'] = day_open\n",
    "    spx_data.loc[day_str, 'day_open_pts'] = spx_data.loc[day_str, 'close'] - spx_data.loc[day_str, 'day_open']\n",
    "    spx_data.loc[day_str, 'day_open_pct'] = spx_data.loc[day_str, 'day_open_pts'] / spx_data.loc[day_str, 'day_open']\n",
    "    spx_data.loc[day_str, 'prev_close_pts'] = spx_data.loc[day_str, 'close'] - spx_data.loc[day_str, 'prev_close']\n",
    "    spx_data.loc[day_str, 'prev_close_pct'] = spx_data.loc[day_str, 'prev_close_pts'] / spx_data.loc[day_str, 'prev_close']\n",
    "\n",
    "    # Lowest low\n",
    "    spx_data.loc[day_str, 'lowest_low'] = spx_data.loc[day_str, 'low'].expanding().min()\n",
    "    spx_data.loc[day_str, 'lowest_low'] = spx_data.loc[day_str, 'lowest_low'].shift(1)\n",
    "    spx_data.loc[day_str, 'lowest_low'] = spx_data.loc[day_str, 'lowest_low'].ffill()\n",
    "    spx_data.loc[day_str, 'lowest_low_mag'] = (spx_data.loc[day_str, 'close'] / spx_data.loc[day_str, 'lowest_low']) - 1\n",
    "\n",
    "    # Highest high\n",
    "    spx_data.loc[day_str, 'highest_high'] = spx_data.loc[day_str, 'high'].expanding().max()\n",
    "    spx_data.loc[day_str, 'highest_high'] = spx_data.loc[day_str, 'highest_high'].shift(1)\n",
    "    spx_data.loc[day_str, 'highest_high'] = spx_data.loc[day_str, 'highest_high'].ffill()\n",
    "    spx_data.loc[day_str, 'highest_high_mag'] = (spx_data.loc[day_str, 'close'] / spx_data.loc[day_str, 'highest_high']) - 1\n",
    "\n",
    "    # Shifted\n",
    "    spx_data.loc[day_str, 'prev_close_pct_n1'] = spx_data.loc[day_str, 'prev_close_pct'].shift(1)\n",
    "    spx_data.loc[day_str, 'prev_close_pct_n2'] = spx_data.loc[day_str, 'prev_close_pct'].shift(2)\n",
    "    spx_data.loc[day_str, 'prev_close_pct_n3'] = spx_data.loc[day_str, 'prev_close_pct'].shift(3)\n",
    "\n",
    "    spx_data.loc[day_str, 'day_open_pct_n1'] = spx_data.loc[day_str, 'day_open_pct'].shift(1)\n",
    "    spx_data.loc[day_str, 'day_open_pct_n2'] = spx_data.loc[day_str, 'day_open_pct'].shift(2)\n",
    "    spx_data.loc[day_str, 'day_open_pct_n3'] = spx_data.loc[day_str, 'day_open_pct'].shift(3)\n",
    "\n",
    "    # New Features\n",
    "    spx_data.loc[day_str, 'open_slope'] = spx_data.loc[day_str, 'day_open_pct'] / spx_data.loc[day_str, 'bar_num']\n",
    "    spx_data.loc[day_str, 'daily_slope'] = spx_data.loc[day_str, 'prev_close_pct'] / spx_data.loc[day_str, 'bar_num']\n",
    "    spx_data.loc[day_str, 'highest_high_slope'] = (spx_data.loc[day_str, 'close'] - spx_data.loc[day_str, 'highest_high']) / spx_data.loc[day_str, 'bar_num']\n",
    "    spx_data.loc[day_str, 'lowest_low_slope'] = (spx_data.loc[day_str, 'close'] - spx_data.loc[day_str, 'lowest_low']) / spx_data.loc[day_str, 'bar_num']\n",
    "    \n",
    "\n",
    "    # Label the data: 1 if the current high is the HOD, 0 otherwise\n",
    "\n",
    "    # # Find the index of HOD\n",
    "    # hod_index = spx_data.loc[day_str][spx_data.loc[day_str, 'label'] == 1].index\n",
    "\n",
    "    # # If HOD is found within the first 5 bars, label the first 5 bars as 1\n",
    "    # if not hod_index.empty:\n",
    "    #     hod_index = hod_index[0]  # In case there are multiple, take the first\n",
    "    #     if hod_index <= spx_data.loc[day_str].index[4]:  # Check if HOD is within the first 5 bars\n",
    "    #         spx_data.loc[spx_data.loc[day_str].index[:5], 'label'] = 1\n",
    "    #     else:\n",
    "    #         start_time = spx_data.loc[day_str].index[0]\n",
    "    #         end_time = hod_index\n",
    "    #         # Calculate the start index using Timedelta\n",
    "    #         start_index = end_time - pd.Timedelta(minutes=5 * 4)\n",
    "    #         start_index = max(start_index, start_time)\n",
    "    #         spx_data.loc[start_index:end_time, 'label'] = 1\n",
    "\n",
    "# spx_data.head()\n"
   ]
  },
  {
   "cell_type": "code",
   "execution_count": 72,
   "metadata": {},
   "outputs": [
    {
     "data": {
      "text/plain": [
       "open                      0\n",
       "high                      0\n",
       "low                       0\n",
       "close                     0\n",
       "time                      0\n",
       "bar_num                   0\n",
       "eod_close                 0\n",
       "prev_close               44\n",
       "green_day                 0\n",
       "eod_close_pts            44\n",
       "eod_close_pct            44\n",
       "label                     0\n",
       "lod                       0\n",
       "label_lod                 0\n",
       "hod                       0\n",
       "day_open                  0\n",
       "day_open_pts              0\n",
       "day_open_pct              0\n",
       "prev_close_pts           44\n",
       "prev_close_pct           44\n",
       "lowest_low             4207\n",
       "lowest_low_mag         4207\n",
       "highest_high           4207\n",
       "highest_high_mag       4207\n",
       "prev_close_pct_n1      4250\n",
       "prev_close_pct_n2      8456\n",
       "prev_close_pct_n3     12662\n",
       "day_open_pct_n1        4207\n",
       "day_open_pct_n2        8414\n",
       "day_open_pct_n3       12621\n",
       "open_slope                0\n",
       "daily_slope              44\n",
       "highest_high_slope     4207\n",
       "lowest_low_slope       4207\n",
       "dtype: int64"
      ]
     },
     "execution_count": 72,
     "metadata": {},
     "output_type": "execute_result"
    }
   ],
   "source": [
    "spx_data.isnull().sum()"
   ]
  },
  {
   "cell_type": "code",
   "execution_count": 73,
   "metadata": {},
   "outputs": [],
   "source": [
    "spx_data['gap_open'] = spx_data['day_open'] - spx_data['prev_close']\n",
    "spx_data['gap_open_pct'] = spx_data['gap_open'] / spx_data['prev_close']"
   ]
  },
  {
   "cell_type": "code",
   "execution_count": 74,
   "metadata": {},
   "outputs": [
    {
     "name": "stderr",
     "output_type": "stream",
     "text": [
      "327034it [00:09, 33271.81it/s]\n"
     ]
    }
   ],
   "source": [
    "hod_in = []\n",
    "for num, row in tqdm(spx_data.iterrows()):\n",
    "    if row['hod'] == row['high']:\n",
    "        hod_in.append(1)\n",
    "    else:\n",
    "        hod_in.append(np.nan)\n",
    "spx_data['hod_in'] = hod_in"
   ]
  },
  {
   "cell_type": "code",
   "execution_count": 75,
   "metadata": {},
   "outputs": [
    {
     "name": "stderr",
     "output_type": "stream",
     "text": [
      "327034it [00:09, 33464.67it/s]\n"
     ]
    }
   ],
   "source": [
    "lod_in = []\n",
    "for num, row in tqdm(spx_data.iterrows()):\n",
    "    if row['lod'] == row['low']:\n",
    "        lod_in.append(1)\n",
    "    else:\n",
    "        lod_in.append(np.nan)\n",
    "spx_data['lod_in'] = lod_in"
   ]
  },
  {
   "cell_type": "code",
   "execution_count": 76,
   "metadata": {},
   "outputs": [
    {
     "name": "stderr",
     "output_type": "stream",
     "text": [
      "100%|██████████| 4207/4207 [00:15<00:00, 280.21it/s]\n"
     ]
    }
   ],
   "source": [
    "# Per day, ffill for the 1s, and then fillna 0\n",
    "for day in tqdm(sorted(set(spx_data.index.date))):\n",
    "    day_str = datetime.datetime.strftime(day, '%Y-%m-%d')\n",
    "    spx_data.loc[day_str, 'lod_in'] = spx_data.loc[day_str, 'lod_in'].ffill()\n",
    "    spx_data.loc[day_str, 'lod_in'] = spx_data.loc[day_str, 'lod_in'].fillna(0)\n",
    "    spx_data.loc[day_str, 'hod_in'] = spx_data.loc[day_str, 'hod_in'].ffill()\n",
    "    spx_data.loc[day_str, 'hod_in'] = spx_data.loc[day_str, 'hod_in'].fillna(0)"
   ]
  },
  {
   "cell_type": "markdown",
   "metadata": {},
   "source": [
    "# EDA"
   ]
  },
  {
   "cell_type": "code",
   "execution_count": 77,
   "metadata": {},
   "outputs": [
    {
     "data": {
      "image/png": "[encoded data removed]",
      "text/plain": [
       "<Figure size 1100x900 with 2 Axes>"
      ]
     },
     "metadata": {},
     "output_type": "display_data"
    }
   ],
   "source": [
    "# Correlations with HOD\n",
    "import seaborn as sns\n",
    "import matplotlib.pyplot as plt\n",
    "\n",
    "# Compute the correlation matrix\n",
    "\n",
    "num_cols = spx_data.select_dtypes(include='number').columns\n",
    "\n",
    "corr = spx_data[num_cols].corr()\n",
    "\n",
    "# Generate a mask for the upper triangle\n",
    "mask = np.triu(np.ones_like(corr, dtype=bool))\n",
    "\n",
    "# Set up the matplotlib figure\n",
    "f, ax = plt.subplots(figsize=(11, 9))\n",
    "\n",
    "# Generate a custom diverging colormap\n",
    "cmap = sns.diverging_palette(230, 20, as_cmap=True)\n",
    "\n",
    "# Draw the heatmap with the mask and correct aspect ratio\n",
    "sns.heatmap(corr, mask=mask, cmap=cmap, vmax=.3, center=0,\n",
    "            square=True, linewidths=.5, cbar_kws={\"shrink\": .5})\n",
    "plt.title('Correlation Heatmap of SPX Data')\n",
    "plt.show()\n"
   ]
  },
  {
   "cell_type": "code",
   "execution_count": 78,
   "metadata": {},
   "outputs": [
    {
     "name": "stdout",
     "output_type": "stream",
     "text": [
      "count    322827.000000\n",
      "mean          0.005004\n",
      "std           0.005601\n",
      "min          -0.034931\n",
      "25%           0.001638\n",
      "50%           0.003446\n",
      "75%           0.006584\n",
      "max           0.115099\n",
      "Name: lowest_low_mag, dtype: float64\n"
     ]
    },
    {
     "data": {
      "image/png": "[encoded data removed]",
      "text/plain": [
       "<Figure size 640x480 with 1 Axes>"
      ]
     },
     "metadata": {},
     "output_type": "display_data"
    }
   ],
   "source": [
    "import matplotlib.pyplot as plt\n",
    "\n",
    "col = 'lowest_low_mag'\n",
    "u = spx_data[col].quantile(0.005)\n",
    "l = spx_data[col].quantile(0.995)\n",
    "print(spx_data[col].describe())\n",
    "datav = spx_data[col].clip(lower=u, upper=l)\n",
    "\n",
    "# Group the data\n",
    "grouped = datav.groupby(spx_data['green_day'])\n",
    "\n",
    "# Create a new figure\n",
    "plt.figure()\n",
    "\n",
    "# Loop over the groups and plot each one\n",
    "for name, group in grouped:\n",
    "    # Calculate weights for each data point\n",
    "    weights = np.ones_like(group)/float(len(group))\n",
    "\n",
    "    # Plot the histogram with weights\n",
    "    plt.hist(group, weights=weights, bins=30, alpha=0.5, label=str(name))\n",
    "\n",
    "# Set y-axis label\n",
    "plt.ylabel('Percentage')\n",
    "\n",
    "# Add a legend\n",
    "plt.legend(title='Label')\n",
    "\n",
    "# Show the plot\n",
    "plt.show()"
   ]
  },
  {
   "cell_type": "code",
   "execution_count": 79,
   "metadata": {},
   "outputs": [],
   "source": [
    "def get_top_probability(time, prev_close_pct):\n",
    "    '''\n",
    "    Function that returns the historical probability that the top is in, given a time of day and magnitude.\n",
    "    '''\n",
    "    # Filter the data for the given time and magnitude\n",
    "    relevant_data = spx_data[(spx_data['time'] == time) & (spx_data['prev_close_pct'] >= prev_close_pct)]\n",
    "    \n",
    "    # Calculate the probability\n",
    "    top_probability = relevant_data['hod_in'].mean()\n",
    "    # bot_probability = relevant_data['lod_in'].mean()\n",
    "    \n",
    "    return top_probability\n",
    "\n",
    "def get_low_probability(time, prev_close_pct):\n",
    "    '''\n",
    "    Function that returns the historical probability that the low is in, given a time of day and magnitude.\n",
    "    '''\n",
    "    # Filter the data for the given time and magnitude\n",
    "    relevant_data = spx_data[(spx_data['time'] == time) & (spx_data['prev_close_pct'] <= prev_close_pct)]\n",
    "    \n",
    "    # Calculate the probability\n",
    "    probability = relevant_data['lod_in'].mean()\n",
    "    \n",
    "    return probability"
   ]
  },
  {
   "cell_type": "code",
   "execution_count": 80,
   "metadata": {},
   "outputs": [
    {
     "data": {
      "text/plain": [
       "0.6660889659156557"
      ]
     },
     "execution_count": 80,
     "metadata": {},
     "output_type": "execute_result"
    }
   ],
   "source": [
    "time = datetime.time(15,0)\n",
    "prev_close_pct = -0.007\n",
    "# spx_data.loc[(spx_data['time'] == time) & (spx_data['prev_close_pct'] >= prev_close_pct)]\n",
    "get_top_probability(time, prev_close_pct)"
   ]
  },
  {
   "cell_type": "code",
   "execution_count": 81,
   "metadata": {},
   "outputs": [
    {
     "data": {
      "text/plain": [
       "0.4844632768361582"
      ]
     },
     "execution_count": 81,
     "metadata": {},
     "output_type": "execute_result"
    }
   ],
   "source": [
    "get_low_probability(time, prev_close_pct)"
   ]
  },
  {
   "cell_type": "code",
   "execution_count": 82,
   "metadata": {},
   "outputs": [
    {
     "data": {
      "text/html": [
       "<div>\n",
       "<style scoped>\n",
       "    .dataframe tbody tr th:only-of-type {\n",
       "        vertical-align: middle;\n",
       "    }\n",
       "\n",
       "    .dataframe tbody tr th {\n",
       "        vertical-align: top;\n",
       "    }\n",
       "\n",
       "    .dataframe thead th {\n",
       "        text-align: right;\n",
       "    }\n",
       "</style>\n",
       "<table border=\"1\" class=\"dataframe\">\n",
       "  <thead>\n",
       "    <tr style=\"text-align: right;\">\n",
       "      <th></th>\n",
       "      <th>time</th>\n",
       "      <th>hod_in</th>\n",
       "      <th>lod_in</th>\n",
       "      <th>gap_open_pct</th>\n",
       "      <th>open</th>\n",
       "    </tr>\n",
       "    <tr>\n",
       "      <th>Datetime</th>\n",
       "      <th></th>\n",
       "      <th></th>\n",
       "      <th></th>\n",
       "      <th></th>\n",
       "      <th></th>\n",
       "    </tr>\n",
       "  </thead>\n",
       "  <tbody>\n",
       "    <tr>\n",
       "      <th>2007-04-27 12:20:00</th>\n",
       "      <td>12:20:00</td>\n",
       "      <td>0.0</td>\n",
       "      <td>1.0</td>\n",
       "      <td>NaN</td>\n",
       "      <td>1492.19</td>\n",
       "    </tr>\n",
       "    <tr>\n",
       "      <th>2007-04-27 12:25:00</th>\n",
       "      <td>12:25:00</td>\n",
       "      <td>0.0</td>\n",
       "      <td>1.0</td>\n",
       "      <td>NaN</td>\n",
       "      <td>1492.39</td>\n",
       "    </tr>\n",
       "    <tr>\n",
       "      <th>2007-04-27 12:30:00</th>\n",
       "      <td>12:30:00</td>\n",
       "      <td>0.0</td>\n",
       "      <td>1.0</td>\n",
       "      <td>NaN</td>\n",
       "      <td>1492.54</td>\n",
       "    </tr>\n",
       "    <tr>\n",
       "      <th>2007-04-27 12:35:00</th>\n",
       "      <td>12:35:00</td>\n",
       "      <td>0.0</td>\n",
       "      <td>1.0</td>\n",
       "      <td>NaN</td>\n",
       "      <td>1492.70</td>\n",
       "    </tr>\n",
       "    <tr>\n",
       "      <th>2007-04-27 12:40:00</th>\n",
       "      <td>12:40:00</td>\n",
       "      <td>0.0</td>\n",
       "      <td>1.0</td>\n",
       "      <td>NaN</td>\n",
       "      <td>1492.88</td>\n",
       "    </tr>\n",
       "    <tr>\n",
       "      <th>...</th>\n",
       "      <td>...</td>\n",
       "      <td>...</td>\n",
       "      <td>...</td>\n",
       "      <td>...</td>\n",
       "      <td>...</td>\n",
       "    </tr>\n",
       "    <tr>\n",
       "      <th>2024-01-12 15:35:00</th>\n",
       "      <td>15:35:00</td>\n",
       "      <td>1.0</td>\n",
       "      <td>1.0</td>\n",
       "      <td>0.002278</td>\n",
       "      <td>4780.62</td>\n",
       "    </tr>\n",
       "    <tr>\n",
       "      <th>2024-01-12 15:40:00</th>\n",
       "      <td>15:40:00</td>\n",
       "      <td>1.0</td>\n",
       "      <td>1.0</td>\n",
       "      <td>0.002278</td>\n",
       "      <td>4779.49</td>\n",
       "    </tr>\n",
       "    <tr>\n",
       "      <th>2024-01-12 15:45:00</th>\n",
       "      <td>15:45:00</td>\n",
       "      <td>1.0</td>\n",
       "      <td>1.0</td>\n",
       "      <td>0.002278</td>\n",
       "      <td>4781.06</td>\n",
       "    </tr>\n",
       "    <tr>\n",
       "      <th>2024-01-12 15:50:00</th>\n",
       "      <td>15:50:00</td>\n",
       "      <td>1.0</td>\n",
       "      <td>1.0</td>\n",
       "      <td>0.002278</td>\n",
       "      <td>4783.02</td>\n",
       "    </tr>\n",
       "    <tr>\n",
       "      <th>2024-01-12 15:55:00</th>\n",
       "      <td>15:55:00</td>\n",
       "      <td>1.0</td>\n",
       "      <td>1.0</td>\n",
       "      <td>0.002278</td>\n",
       "      <td>4783.61</td>\n",
       "    </tr>\n",
       "  </tbody>\n",
       "</table>\n",
       "<p>327034 rows × 5 columns</p>\n",
       "</div>"
      ],
      "text/plain": [
       "                         time  hod_in  lod_in  gap_open_pct     open\n",
       "Datetime                                                            \n",
       "2007-04-27 12:20:00  12:20:00     0.0     1.0           NaN  1492.19\n",
       "2007-04-27 12:25:00  12:25:00     0.0     1.0           NaN  1492.39\n",
       "2007-04-27 12:30:00  12:30:00     0.0     1.0           NaN  1492.54\n",
       "2007-04-27 12:35:00  12:35:00     0.0     1.0           NaN  1492.70\n",
       "2007-04-27 12:40:00  12:40:00     0.0     1.0           NaN  1492.88\n",
       "...                       ...     ...     ...           ...      ...\n",
       "2024-01-12 15:35:00  15:35:00     1.0     1.0      0.002278  4780.62\n",
       "2024-01-12 15:40:00  15:40:00     1.0     1.0      0.002278  4779.49\n",
       "2024-01-12 15:45:00  15:45:00     1.0     1.0      0.002278  4781.06\n",
       "2024-01-12 15:50:00  15:50:00     1.0     1.0      0.002278  4783.02\n",
       "2024-01-12 15:55:00  15:55:00     1.0     1.0      0.002278  4783.61\n",
       "\n",
       "[327034 rows x 5 columns]"
      ]
     },
     "execution_count": 82,
     "metadata": {},
     "output_type": "execute_result"
    }
   ],
   "source": [
    "spx_data[['time','hod_in','lod_in','gap_open_pct','open']]"
   ]
  },
  {
   "cell_type": "code",
   "execution_count": 83,
   "metadata": {},
   "outputs": [
    {
     "data": {
      "text/plain": [
       "Index(['open', 'high', 'low', 'close', 'time', 'bar_num', 'eod_close',\n",
       "       'prev_close', 'green_day', 'eod_close_pts', 'eod_close_pct', 'label',\n",
       "       'lod', 'label_lod', 'hod', 'day_open', 'day_open_pts', 'day_open_pct',\n",
       "       'prev_close_pts', 'prev_close_pct', 'lowest_low', 'lowest_low_mag',\n",
       "       'highest_high', 'highest_high_mag', 'prev_close_pct_n1',\n",
       "       'prev_close_pct_n2', 'prev_close_pct_n3', 'day_open_pct_n1',\n",
       "       'day_open_pct_n2', 'day_open_pct_n3', 'open_slope', 'daily_slope',\n",
       "       'highest_high_slope', 'lowest_low_slope', 'gap_open', 'gap_open_pct',\n",
       "       'hod_in', 'lod_in'],\n",
       "      dtype='object')"
      ]
     },
     "execution_count": 83,
     "metadata": {},
     "output_type": "execute_result"
    }
   ],
   "source": [
    "spx_data.columns"
   ]
  },
  {
   "cell_type": "markdown",
   "metadata": {},
   "source": [
    "# Pipeline"
   ]
  },
  {
   "cell_type": "code",
   "execution_count": 84,
   "metadata": {},
   "outputs": [],
   "source": [
    "from sklearn.pipeline import Pipeline, make_pipeline\n",
    "from sklearn.compose import ColumnTransformer\n",
    "from sklearn.linear_model import LogisticRegression\n",
    "from sklearn.calibration import CalibratedClassifierCV\n",
    "from catboost import CatBoostClassifier\n",
    "import lightgbm as lgb\n",
    "from sklearn.preprocessing import FunctionTransformer, StandardScaler, RobustScaler, StandardScaler\n",
    "import datetime\n",
    "\n",
    "# Function to convert time string to seconds past midnight\n",
    "def convert_time_to_seconds(time_series):\n",
    "    return time_series.apply(lambda x: x.hour * 3600 + x.minute * 60 + x.second)\n",
    "\n",
    "def apply_convert_time_to_seconds(x):\n",
    "    return x.apply(convert_time_to_seconds)\n",
    "\n",
    "time_to_seconds = FunctionTransformer(apply_convert_time_to_seconds, validate=False)\n",
    "\n",
    "# Create a column transformer\n",
    "preprocessor = ColumnTransformer(\n",
    "    transformers=[\n",
    "        ('time', make_pipeline(time_to_seconds, StandardScaler()), ['time']),\n",
    "        ('prev_close_pct', StandardScaler(), ['prev_close_pct']),\n",
    "        ('prev_close_pct_n1', StandardScaler(), ['prev_close_pct_n1']),\n",
    "        ('prev_close_pct_n2', StandardScaler(), ['prev_close_pct_n2']),\n",
    "        ('prev_close_pct_n3', StandardScaler(), ['prev_close_pct_n3']),\n",
    "        ('day_open_pct', StandardScaler(), ['day_open_pct']),\n",
    "        ('day_open_pct_n1', StandardScaler(), ['day_open_pct_n1']),\n",
    "        ('day_open_pct_n2', StandardScaler(), ['day_open_pct_n2']),\n",
    "        ('day_open_pct_n3', StandardScaler(), ['day_open_pct_n3']),\n",
    "        ('gap_open_pct', StandardScaler(), ['gap_open_pct']),\n",
    "        ('highest_high_mag', StandardScaler(), ['highest_high_mag']),\n",
    "        ('lowest_low_mag', StandardScaler(), ['lowest_low_mag']),\n",
    "        ('open_slope', StandardScaler(), ['open_slope']),\n",
    "        ('daily_slope', StandardScaler(), ['daily_slope']),\n",
    "        ('highest_high_slope', StandardScaler(), ['highest_high_slope']),\n",
    "        ('lowest_low_slope', StandardScaler(), ['lowest_low_slope'])\n",
    "    ])\n",
    "\n",
    "# Create the pipeline\n",
    "pipeline = Pipeline(steps=[\n",
    "    ('preprocessor', preprocessor),\n",
    "    # ('classifier', LogisticRegression())\n",
    "    ('classifier', lgb.LGBMClassifier())\n",
    "    # ('classifier', CatBoostClassifier())\n",
    "    # ('classifier', xgb.XGBClassifier())\n",
    "])\n",
    "\n",
    "df_use = spx_data.dropna(subset=[\n",
    "    'prev_close_pct',\n",
    "    'gap_open_pct',\n",
    "    'day_open_pct_n3',\n",
    "    'prev_close_pct_n3'\n",
    "    ])\n",
    "\n",
    "# Train the model\n",
    "X = df_use[[\n",
    "    'time',\n",
    "    'prev_close_pct',\n",
    "    'prev_close_pct_n1',\n",
    "    'prev_close_pct_n2',\n",
    "    'prev_close_pct_n3',\n",
    "    'day_open_pct',\n",
    "    'day_open_pct_n1',\n",
    "    'day_open_pct_n2',\n",
    "    'day_open_pct_n3',\n",
    "    'gap_open_pct',\n",
    "    'highest_high_mag',\n",
    "    'lowest_low_mag',\n",
    "    'open_slope',\n",
    "    'daily_slope',\n",
    "    'highest_high_slope',\n",
    "    'lowest_low_slope'\n",
    "]]\n",
    "y_flags = df_use[['lod_in','hod_in','green_day']]\n",
    "# pipeline.fit(X, y)"
   ]
  },
  {
   "cell_type": "code",
   "execution_count": 85,
   "metadata": {},
   "outputs": [
    {
     "data": {
      "text/plain": [
       "datetime.time(9, 45)"
      ]
     },
     "execution_count": 85,
     "metadata": {},
     "output_type": "execute_result"
    }
   ],
   "source": [
    "X['time'].min()"
   ]
  },
  {
   "cell_type": "code",
   "execution_count": 86,
   "metadata": {},
   "outputs": [],
   "source": [
    "from sklearn.base import clone\n",
    "\n",
    "pipeline_lod = clone(pipeline)\n",
    "pipeline_gd = clone(pipeline)"
   ]
  },
  {
   "cell_type": "markdown",
   "metadata": {},
   "source": [
    "# Data Splits"
   ]
  },
  {
   "cell_type": "code",
   "execution_count": 87,
   "metadata": {},
   "outputs": [],
   "source": [
    "\n",
    "date_idx = int(np.floor(len(X.index.date) * .90))\n",
    "date_idx_test = int(np.floor(len(X.index.date) * .95))\n",
    "cutoff_date_val = X.index.date[date_idx]\n",
    "cutoff_date_test = X.index.date[date_idx_test]\n",
    "# cutoff_date = '2023-05-31'\n",
    "\n",
    "X_train = X.loc[:cutoff_date_test]\n",
    "y_train = y_flags.loc[:cutoff_date_test]\n",
    "# X_val = X.loc[cutoff_date_val:cutoff_date_test]\n",
    "# y_val = y_flags.loc[cutoff_date_val:cutoff_date_test]\n",
    "X_test = X.loc[cutoff_date_test:]\n",
    "y_test = y_flags.loc[cutoff_date_test:]"
   ]
  },
  {
   "cell_type": "code",
   "execution_count": 88,
   "metadata": {},
   "outputs": [
    {
     "name": "stdout",
     "output_type": "stream",
     "text": [
      "2023-03-14\n"
     ]
    }
   ],
   "source": [
    "print(cutoff_date_test)"
   ]
  },
  {
   "cell_type": "code",
   "execution_count": 89,
   "metadata": {},
   "outputs": [
    {
     "data": {
      "text/plain": [
       "298608"
      ]
     },
     "execution_count": 89,
     "metadata": {},
     "output_type": "execute_result"
    }
   ],
   "source": [
    "len(y_train)"
   ]
  },
  {
   "cell_type": "code",
   "execution_count": 90,
   "metadata": {},
   "outputs": [
    {
     "data": {
      "text/plain": [
       "15764"
      ]
     },
     "execution_count": 90,
     "metadata": {},
     "output_type": "execute_result"
    }
   ],
   "source": [
    "len(y_test)"
   ]
  },
  {
   "cell_type": "code",
   "execution_count": 91,
   "metadata": {},
   "outputs": [
    {
     "data": {
      "text/plain": [
       "lod_in       0.638081\n",
       "hod_in       0.557745\n",
       "green_day    0.540906\n",
       "dtype: float64"
      ]
     },
     "execution_count": 91,
     "metadata": {},
     "output_type": "execute_result"
    }
   ],
   "source": [
    "y_train.mean()"
   ]
  },
  {
   "cell_type": "code",
   "execution_count": 92,
   "metadata": {},
   "outputs": [
    {
     "data": {
      "text/plain": [
       "lod_in       0.602449\n",
       "hod_in       0.532098\n",
       "green_day    0.567052\n",
       "dtype: float64"
      ]
     },
     "execution_count": 92,
     "metadata": {},
     "output_type": "execute_result"
    }
   ],
   "source": [
    "y_test.mean()"
   ]
  },
  {
   "cell_type": "code",
   "execution_count": 93,
   "metadata": {},
   "outputs": [
    {
     "data": {
      "text/plain": [
       "time                   object\n",
       "prev_close_pct        float64\n",
       "prev_close_pct_n1     float64\n",
       "prev_close_pct_n2     float64\n",
       "prev_close_pct_n3     float64\n",
       "day_open_pct          float64\n",
       "day_open_pct_n1       float64\n",
       "day_open_pct_n2       float64\n",
       "day_open_pct_n3       float64\n",
       "gap_open_pct          float64\n",
       "highest_high_mag      float64\n",
       "lowest_low_mag        float64\n",
       "open_slope            float64\n",
       "daily_slope           float64\n",
       "highest_high_slope    float64\n",
       "lowest_low_slope      float64\n",
       "dtype: object"
      ]
     },
     "execution_count": 93,
     "metadata": {},
     "output_type": "execute_result"
    }
   ],
   "source": [
    "X.dtypes"
   ]
  },
  {
   "cell_type": "code",
   "execution_count": 94,
   "metadata": {},
   "outputs": [
    {
     "name": "stdout",
     "output_type": "stream",
     "text": [
      "[LightGBM] [Info] Number of positive: 166547, number of negative: 132061\n",
      "[LightGBM] [Info] Auto-choosing row-wise multi-threading, the overhead of testing was 0.001690 seconds.\n",
      "You can set `force_row_wise=true` to remove the overhead.\n",
      "And if memory is not enough, you can set `force_col_wise=true`.\n",
      "[LightGBM] [Info] Total Bins 3901\n",
      "[LightGBM] [Info] Number of data points in the train set: 298608, number of used features: 16\n",
      "[LightGBM] [Info] [binary:BoostFromScore]: pavg=0.557745 -> initscore=0.232014\n",
      "[LightGBM] [Info] Start training from score 0.232014\n",
      "[LightGBM] [Info] Number of positive: 190536, number of negative: 108072\n",
      "[LightGBM] [Info] Auto-choosing row-wise multi-threading, the overhead of testing was 0.001746 seconds.\n",
      "You can set `force_row_wise=true` to remove the overhead.\n",
      "And if memory is not enough, you can set `force_col_wise=true`.\n",
      "[LightGBM] [Info] Total Bins 3901\n",
      "[LightGBM] [Info] Number of data points in the train set: 298608, number of used features: 16\n",
      "[LightGBM] [Info] [binary:BoostFromScore]: pavg=0.638081 -> initscore=0.567043\n",
      "[LightGBM] [Info] Start training from score 0.567043\n",
      "[LightGBM] [Info] Number of positive: 161519, number of negative: 137089\n",
      "[LightGBM] [Info] Auto-choosing row-wise multi-threading, the overhead of testing was 0.001978 seconds.\n",
      "You can set `force_row_wise=true` to remove the overhead.\n",
      "And if memory is not enough, you can set `force_col_wise=true`.\n",
      "[LightGBM] [Info] Total Bins 3901\n",
      "[LightGBM] [Info] Number of data points in the train set: 298608, number of used features: 16\n",
      "[LightGBM] [Info] [binary:BoostFromScore]: pavg=0.540906 -> initscore=0.163992\n",
      "[LightGBM] [Info] Start training from score 0.163992\n",
      "[LightGBM] [Info] Number of positive: 27525, number of negative: 22243\n",
      "[LightGBM] [Info] Auto-choosing col-wise multi-threading, the overhead of testing was 0.001279 seconds.\n",
      "You can set `force_col_wise=true` to remove the overhead.\n",
      "[LightGBM] [Info] Total Bins 3901\n",
      "[LightGBM] [Info] Number of data points in the train set: 49768, number of used features: 16\n",
      "[LightGBM] [Info] [binary:BoostFromScore]: pavg=0.553066 -> initscore=0.213067\n",
      "[LightGBM] [Info] Start training from score 0.213067\n",
      "[LightGBM] [Info] Number of positive: 56528, number of negative: 43008\n",
      "[LightGBM] [Info] Auto-choosing col-wise multi-threading, the overhead of testing was 0.001895 seconds.\n",
      "You can set `force_col_wise=true` to remove the overhead.\n",
      "[LightGBM] [Info] Total Bins 3901\n",
      "[LightGBM] [Info] Number of data points in the train set: 99536, number of used features: 16\n",
      "[LightGBM] [Info] [binary:BoostFromScore]: pavg=0.567915 -> initscore=0.273350\n",
      "[LightGBM] [Info] Start training from score 0.273350\n",
      "[LightGBM] [Info] Number of positive: 84748, number of negative: 64556\n",
      "[LightGBM] [Info] Auto-choosing col-wise multi-threading, the overhead of testing was 0.003328 seconds.\n",
      "You can set `force_col_wise=true` to remove the overhead.\n",
      "[LightGBM] [Info] Total Bins 3901\n",
      "[LightGBM] [Info] Number of data points in the train set: 149304, number of used features: 16\n",
      "[LightGBM] [Info] [binary:BoostFromScore]: pavg=0.567620 -> initscore=0.272149\n",
      "[LightGBM] [Info] Start training from score 0.272149\n",
      "[LightGBM] [Info] Number of positive: 113619, number of negative: 85453\n",
      "[LightGBM] [Info] Auto-choosing row-wise multi-threading, the overhead of testing was 0.001311 seconds.\n",
      "You can set `force_row_wise=true` to remove the overhead.\n",
      "And if memory is not enough, you can set `force_col_wise=true`.\n",
      "[LightGBM] [Info] Total Bins 3901\n",
      "[LightGBM] [Info] Number of data points in the train set: 199072, number of used features: 16\n",
      "[LightGBM] [Info] [binary:BoostFromScore]: pavg=0.570743 -> initscore=0.284884\n",
      "[LightGBM] [Info] Start training from score 0.284884\n",
      "[LightGBM] [Info] Number of positive: 140409, number of negative: 108431\n",
      "[LightGBM] [Info] Auto-choosing row-wise multi-threading, the overhead of testing was 0.001607 seconds.\n",
      "You can set `force_row_wise=true` to remove the overhead.\n",
      "And if memory is not enough, you can set `force_col_wise=true`.\n",
      "[LightGBM] [Info] Total Bins 3901\n",
      "[LightGBM] [Info] Number of data points in the train set: 248840, number of used features: 16\n",
      "[LightGBM] [Info] [binary:BoostFromScore]: pavg=0.564254 -> initscore=0.258446\n",
      "[LightGBM] [Info] Start training from score 0.258446\n",
      "[LightGBM] [Info] Number of positive: 29217, number of negative: 20551\n",
      "[LightGBM] [Info] Auto-choosing col-wise multi-threading, the overhead of testing was 0.001111 seconds.\n",
      "You can set `force_col_wise=true` to remove the overhead.\n",
      "[LightGBM] [Info] Total Bins 3901\n",
      "[LightGBM] [Info] Number of data points in the train set: 49768, number of used features: 16\n",
      "[LightGBM] [Info] [binary:BoostFromScore]: pavg=0.587064 -> initscore=0.351841\n",
      "[LightGBM] [Info] Start training from score 0.351841\n",
      "[LightGBM] [Info] Number of positive: 62380, number of negative: 37156\n",
      "[LightGBM] [Info] Auto-choosing col-wise multi-threading, the overhead of testing was 0.002399 seconds.\n",
      "You can set `force_col_wise=true` to remove the overhead.\n",
      "[LightGBM] [Info] Total Bins 3901\n",
      "[LightGBM] [Info] Number of data points in the train set: 99536, number of used features: 16\n",
      "[LightGBM] [Info] [binary:BoostFromScore]: pavg=0.626708 -> initscore=0.518119\n",
      "[LightGBM] [Info] Start training from score 0.518119\n",
      "[LightGBM] [Info] Number of positive: 96127, number of negative: 53177\n",
      "[LightGBM] [Info] Auto-choosing col-wise multi-threading, the overhead of testing was 0.003267 seconds.\n",
      "You can set `force_col_wise=true` to remove the overhead.\n",
      "[LightGBM] [Info] Total Bins 3901\n",
      "[LightGBM] [Info] Number of data points in the train set: 149304, number of used features: 16\n",
      "[LightGBM] [Info] [binary:BoostFromScore]: pavg=0.643834 -> initscore=0.592044\n",
      "[LightGBM] [Info] Start training from score 0.592044\n",
      "[LightGBM] [Info] Number of positive: 128834, number of negative: 70238\n",
      "[LightGBM] [Info] Auto-choosing row-wise multi-threading, the overhead of testing was 0.001409 seconds.\n",
      "You can set `force_row_wise=true` to remove the overhead.\n",
      "And if memory is not enough, you can set `force_col_wise=true`.\n",
      "[LightGBM] [Info] Total Bins 3901\n",
      "[LightGBM] [Info] Number of data points in the train set: 199072, number of used features: 16\n",
      "[LightGBM] [Info] [binary:BoostFromScore]: pavg=0.647173 -> initscore=0.606635\n",
      "[LightGBM] [Info] Start training from score 0.606635\n",
      "[LightGBM] [Info] Number of positive: 160031, number of negative: 88809\n",
      "[LightGBM] [Info] Auto-choosing row-wise multi-threading, the overhead of testing was 0.001413 seconds.\n",
      "You can set `force_row_wise=true` to remove the overhead.\n",
      "And if memory is not enough, you can set `force_col_wise=true`.\n",
      "[LightGBM] [Info] Total Bins 3901\n",
      "[LightGBM] [Info] Number of data points in the train set: 248840, number of used features: 16\n",
      "[LightGBM] [Info] [binary:BoostFromScore]: pavg=0.643108 -> initscore=0.588880\n",
      "[LightGBM] [Info] Start training from score 0.588880\n",
      "[LightGBM] [Info] Number of positive: 26177, number of negative: 23591\n",
      "[LightGBM] [Info] Auto-choosing col-wise multi-threading, the overhead of testing was 0.001022 seconds.\n",
      "You can set `force_col_wise=true` to remove the overhead.\n",
      "[LightGBM] [Info] Total Bins 3901\n",
      "[LightGBM] [Info] Number of data points in the train set: 49768, number of used features: 16\n",
      "[LightGBM] [Info] [binary:BoostFromScore]: pavg=0.525981 -> initscore=0.104016\n",
      "[LightGBM] [Info] Start training from score 0.104016\n",
      "[LightGBM] [Info] Number of positive: 53949, number of negative: 45587\n",
      "[LightGBM] [Info] Auto-choosing col-wise multi-threading, the overhead of testing was 0.002046 seconds.\n",
      "You can set `force_col_wise=true` to remove the overhead.\n",
      "[LightGBM] [Info] Total Bins 3901\n",
      "[LightGBM] [Info] Number of data points in the train set: 99536, number of used features: 16\n",
      "[LightGBM] [Info] [binary:BoostFromScore]: pavg=0.542005 -> initscore=0.168417\n",
      "[LightGBM] [Info] Start training from score 0.168417\n",
      "[LightGBM] [Info] Number of positive: 81416, number of negative: 67888\n",
      "[LightGBM] [Info] Auto-choosing col-wise multi-threading, the overhead of testing was 0.002838 seconds.\n",
      "You can set `force_col_wise=true` to remove the overhead.\n",
      "[LightGBM] [Info] Total Bins 3901\n",
      "[LightGBM] [Info] Number of data points in the train set: 149304, number of used features: 16\n",
      "[LightGBM] [Info] [binary:BoostFromScore]: pavg=0.545304 -> initscore=0.181713\n",
      "[LightGBM] [Info] Start training from score 0.181713\n",
      "[LightGBM] [Info] Number of positive: 108116, number of negative: 90956\n",
      "[LightGBM] [Info] Auto-choosing row-wise multi-threading, the overhead of testing was 0.001347 seconds.\n",
      "You can set `force_row_wise=true` to remove the overhead.\n",
      "And if memory is not enough, you can set `force_col_wise=true`.\n",
      "[LightGBM] [Info] Total Bins 3901\n",
      "[LightGBM] [Info] Number of data points in the train set: 199072, number of used features: 16\n",
      "[LightGBM] [Info] [binary:BoostFromScore]: pavg=0.543100 -> initscore=0.172829\n",
      "[LightGBM] [Info] Start training from score 0.172829\n",
      "[LightGBM] [Info] Number of positive: 135988, number of negative: 112852\n",
      "[LightGBM] [Info] Auto-choosing row-wise multi-threading, the overhead of testing was 0.001426 seconds.\n",
      "You can set `force_row_wise=true` to remove the overhead.\n",
      "And if memory is not enough, you can set `force_col_wise=true`.\n",
      "[LightGBM] [Info] Total Bins 3901\n",
      "[LightGBM] [Info] Number of data points in the train set: 248840, number of used features: 16\n",
      "[LightGBM] [Info] [binary:BoostFromScore]: pavg=0.546488 -> initscore=0.186489\n",
      "[LightGBM] [Info] Start training from score 0.186489\n"
     ]
    },
    {
     "data": {
      "text/plain": [
       "['models/gd_model_cv_spx.joblib']"
      ]
     },
     "execution_count": 94,
     "metadata": {},
     "output_type": "execute_result"
    }
   ],
   "source": [
    "import joblib\n",
    "from sklearn.calibration import CalibratedClassifierCV\n",
    "from sklearn.model_selection import TimeSeriesSplit\n",
    "\n",
    "hod_model = pipeline.fit(X_train, y_train['hod_in'])\n",
    "lod_model = pipeline_lod.fit(X_train, y_train['lod_in'])\n",
    "gd_model = pipeline_gd.fit(X_train, y_train['green_day'])\n",
    "\n",
    "calibrator_hod = CalibratedClassifierCV(hod_model, cv=TimeSeriesSplit(n_splits=5))\n",
    "calibrator_lod = CalibratedClassifierCV(lod_model, cv=TimeSeriesSplit(n_splits=5))\n",
    "calibrator_gd = CalibratedClassifierCV(gd_model, cv=TimeSeriesSplit(n_splits=5))\n",
    "\n",
    "hod_model_cv = calibrator_hod.fit(X_train, y_train['hod_in'])\n",
    "lod_model_cv = calibrator_lod.fit(X_train, y_train['lod_in'])\n",
    "gd_model_cv = calibrator_gd.fit(X_train, y_train['green_day'])\n",
    "\n",
    "# Save models\n",
    "joblib.dump(hod_model, ticker_dict[tck][\"hod_model\"])\n",
    "joblib.dump(lod_model, ticker_dict[tck][\"lod_model\"])\n",
    "joblib.dump(gd_model, ticker_dict[tck][\"gd_model\"])\n",
    "\n",
    "joblib.dump(hod_model_cv, ticker_dict[tck][\"hod_model_cv\"])\n",
    "joblib.dump(lod_model_cv, ticker_dict[tck][\"lod_model_cv\"])\n",
    "joblib.dump(gd_model_cv, ticker_dict[tck][\"gd_model_cv\"])"
   ]
  },
  {
   "cell_type": "markdown",
   "metadata": {},
   "source": [
    "# Performance"
   ]
  },
  {
   "cell_type": "code",
   "execution_count": 95,
   "metadata": {},
   "outputs": [
    {
     "data": {
      "image/png": "[encoded data removed]",
      "text/plain": [
       "<Figure size 2000x1000 with 1 Axes>"
      ]
     },
     "metadata": {},
     "output_type": "display_data"
    }
   ],
   "source": [
    "import mlflow\n",
    "import matplotlib.pyplot as plt\n",
    "\n",
    "booster = hod_model.named_steps['classifier'].booster_\n",
    "importance_gain = booster.feature_importance(importance_type='gain')\n",
    "feature_imp = pd.DataFrame(sorted(zip(importance_gain, X.columns)), columns=['Value','Feature'])\n",
    "feature_imp = feature_imp.sort_values(by=\"Value\", ascending=True)\n",
    "\n",
    "plt.figure(figsize=(20, 10))\n",
    "plt.barh(feature_imp['Feature'], feature_imp['Value'])\n",
    "plt.title('HOD Model Features (avg over folds)')\n",
    "plt.xlabel('Value')\n",
    "plt.ylabel('Feature')\n",
    "plt.tight_layout()\n",
    "plt.show()\n"
   ]
  },
  {
   "cell_type": "code",
   "execution_count": 96,
   "metadata": {},
   "outputs": [
    {
     "data": {
      "image/png": "[encoded data removed]",
      "text/plain": [
       "<Figure size 2000x1000 with 1 Axes>"
      ]
     },
     "metadata": {},
     "output_type": "display_data"
    }
   ],
   "source": [
    "booster = gd_model.named_steps['classifier'].booster_\n",
    "importance_gain = booster.feature_importance(importance_type='gain')\n",
    "feature_imp = pd.DataFrame(sorted(zip(importance_gain, X.columns)), columns=['Value','Feature'])\n",
    "feature_imp = feature_imp.sort_values(by=\"Value\", ascending=True)\n",
    "\n",
    "plt.figure(figsize=(20, 10))\n",
    "plt.barh(feature_imp['Feature'], feature_imp['Value'])\n",
    "plt.title('GD Model Features (avg over folds)')\n",
    "plt.xlabel('Value')\n",
    "plt.ylabel('Feature')\n",
    "plt.tight_layout()\n",
    "plt.show()\n"
   ]
  },
  {
   "cell_type": "code",
   "execution_count": 97,
   "metadata": {},
   "outputs": [
    {
     "data": {
      "image/png": "[encoded data removed]",
      "text/plain": [
       "<Figure size 2000x1000 with 1 Axes>"
      ]
     },
     "metadata": {},
     "output_type": "display_data"
    }
   ],
   "source": [
    "booster = lod_model.named_steps['classifier'].booster_\n",
    "importance_gain = booster.feature_importance(importance_type='gain')\n",
    "feature_imp = pd.DataFrame(sorted(zip(importance_gain, X.columns)), columns=['Value','Feature'])\n",
    "feature_imp = feature_imp.sort_values(by=\"Value\", ascending=True)\n",
    "\n",
    "plt.figure(figsize=(20, 10))\n",
    "plt.barh(feature_imp['Feature'], feature_imp['Value'])\n",
    "plt.title('LOD Model Features (avg over folds)')\n",
    "plt.xlabel('Value')\n",
    "plt.ylabel('Feature')\n",
    "plt.tight_layout()\n",
    "plt.show()\n"
   ]
  },
  {
   "cell_type": "markdown",
   "metadata": {},
   "source": [
    "### Train/Test"
   ]
  },
  {
   "cell_type": "code",
   "execution_count": 98,
   "metadata": {},
   "outputs": [
    {
     "name": "stdout",
     "output_type": "stream",
     "text": [
      "ROC AUC Score: 0.8798495158096942\n",
      "Precision Score: 0.8210145830736633\n",
      "Recall Score: 0.7852885073915117\n",
      "Brier Score: 0.14105393598501026\n",
      "done.\n"
     ]
    }
   ],
   "source": [
    "from sklearn.metrics import roc_auc_score, precision_score, recall_score, brier_score_loss\n",
    "import mlflow\n",
    "\n",
    "# Metrics for HOD model\n",
    "y_pred_hod = hod_model.predict_proba(X_test)[:,-1]\n",
    "\n",
    "roc_auc_hod = roc_auc_score(y_test['hod_in'], y_pred_hod)\n",
    "precision_hod = precision_score(y_test['hod_in'], y_pred_hod > 0.5)\n",
    "recall_hod = recall_score(y_test['hod_in'], y_pred_hod > 0.5)\n",
    "brier_score_hod = brier_score_loss(y_test['hod_in'], y_pred_hod)\n",
    "\n",
    "print(f\"ROC AUC Score: {roc_auc_hod}\")\n",
    "print(f\"Precision Score: {precision_hod}\")\n",
    "print(f\"Recall Score: {recall_hod}\")\n",
    "print(f\"Brier Score: {brier_score_hod}\")\n",
    "\n",
    "train_start = X_train.index.date.min()\n",
    "train_end = X_train.index.date.max()\n",
    "test_start = X_test.index.date.min()\n",
    "test_end = X_test.index.date.max()\n",
    "train_size = len(X_train)\n",
    "test_size = len(X_test)\n",
    "\n",
    "# Start a new MLFlow run\n",
    "with mlflow.start_run():\n",
    "\n",
    "    ts = datetime.datetime.now()\n",
    "\n",
    "    mlflow.set_tag(f\"mlflow.runName\", f\"{tck} HOD Model {ts.hour:02}:{ts.minute:02}:{ts.second:02}\")\n",
    "\n",
    "    # Log the model\n",
    "    mlflow.log_param(\"model\", str(hod_model.named_steps))\n",
    "\n",
    "    # Log the features\n",
    "    mlflow.log_param(\"features\", hod_model.feature_names_in_)\n",
    "    mlflow.log_param(\"train_date_range\", f\"{train_start} to {train_end}\")\n",
    "    mlflow.log_param(\"test_date_range\", f\"{test_start} to {test_end}\")\n",
    "    mlflow.log_param(\"train_size\", train_size)\n",
    "    mlflow.log_param(\"test_size\", test_size)\n",
    "\n",
    "    # Assume y_test and y_pred are your test labels and model predictions\n",
    "    # Calculate scores\n",
    "\n",
    "    # Log the scores\n",
    "    mlflow.log_metric(\"roc_auc\", roc_auc_hod)\n",
    "    mlflow.log_metric(\"precision\", precision_hod)\n",
    "    mlflow.log_metric(\"recall\", recall_hod)\n",
    "    mlflow.log_metric(\"brier_score\", brier_score_hod)\n",
    "\n",
    "    # Log the timestamp\n",
    "    mlflow.log_param(\"created_at\", ts)\n",
    "\n",
    "print('done.')"
   ]
  },
  {
   "cell_type": "code",
   "execution_count": 99,
   "metadata": {},
   "outputs": [
    {
     "name": "stdout",
     "output_type": "stream",
     "text": [
      "ROC AUC Score: 0.8549776596706132\n",
      "Precision Score: 0.8057523968320134\n",
      "Recall Score: 0.8141518374223439\n",
      "Brier Score: 0.15202653839888355\n",
      "done.\n"
     ]
    }
   ],
   "source": [
    "from sklearn.metrics import roc_auc_score, precision_score, recall_score\n",
    "import mlflow\n",
    "\n",
    "# Metrics for HOD model\n",
    "y_pred_lod = lod_model.predict_proba(X_test)[:,-1]\n",
    "roc_auc_lod = roc_auc_score(y_test['lod_in'], y_pred_lod)\n",
    "precision_lod = precision_score(y_test['lod_in'], y_pred_lod > 0.5)\n",
    "recall_lod = recall_score(y_test['lod_in'], y_pred_lod > 0.5)\n",
    "brier_score_lod = brier_score_loss(y_test['lod_in'], y_pred_lod)\n",
    "\n",
    "\n",
    "print(f\"ROC AUC Score: {roc_auc_lod}\")\n",
    "print(f\"Precision Score: {precision_lod}\")\n",
    "print(f\"Recall Score: {recall_lod}\")\n",
    "print(f\"Brier Score: {brier_score_lod}\")\n",
    "\n",
    "train_start = X_train.index.date.min()\n",
    "train_end = X_train.index.date.max()\n",
    "test_start = X_test.index.date.min()\n",
    "test_end = X_test.index.date.max()\n",
    "train_size = len(X_train)\n",
    "test_size = len(X_test)\n",
    "\n",
    "# Start a new MLFlow run\n",
    "with mlflow.start_run():\n",
    "\n",
    "    ts = datetime.datetime.now()\n",
    "\n",
    "    mlflow.set_tag(f\"mlflow.runName\", f\"{tck} LOD Model {ts.hour:02}:{ts.minute:02}:{ts.second:02}\")\n",
    "\n",
    "    # Log the model\n",
    "    mlflow.log_param(\"model\", str(lod_model.named_steps))\n",
    "\n",
    "    # Log the features\n",
    "    mlflow.log_param(\"features\", lod_model.feature_names_in_)\n",
    "    mlflow.log_param(\"train_date_range\", f\"{train_start} to {train_end}\")\n",
    "    mlflow.log_param(\"test_date_range\", f\"{test_start} to {test_end}\")\n",
    "    mlflow.log_param(\"train_size\", train_size)\n",
    "    mlflow.log_param(\"test_size\", test_size)\n",
    "\n",
    "    # Assume y_test and y_pred are your test labels and model predictions\n",
    "    # Calculate scores\n",
    "\n",
    "    # Log the scores\n",
    "    mlflow.log_metric(\"roc_auc\", roc_auc_lod)\n",
    "    mlflow.log_metric(\"precision\", precision_lod)\n",
    "    mlflow.log_metric(\"recall\", recall_lod)\n",
    "    mlflow.log_metric(\"brier_score\", brier_score_lod)\n",
    "\n",
    "\n",
    "    # Log the timestamp\n",
    "    mlflow.log_param(\"created_at\", ts)\n",
    "\n",
    "print('done.')"
   ]
  },
  {
   "cell_type": "code",
   "execution_count": 100,
   "metadata": {},
   "outputs": [
    {
     "name": "stdout",
     "output_type": "stream",
     "text": [
      "ROC AUC Score: 0.9020552487002873\n",
      "Precision Score: 0.8454111899499825\n",
      "Recall Score: 0.8130663385166126\n",
      "Brier Score: 0.1273483133403538\n",
      "done.\n"
     ]
    }
   ],
   "source": [
    "from sklearn.metrics import roc_auc_score, precision_score, recall_score\n",
    "import mlflow\n",
    "\n",
    "# Metrics for HOD model\n",
    "y_pred_gd = gd_model.predict_proba(X_test)[:,-1]\n",
    "\n",
    "roc_auc_gd = roc_auc_score(y_test['green_day'], y_pred_gd)\n",
    "precision_gd = precision_score(y_test['green_day'], y_pred_gd > 0.5)\n",
    "recall_gd = recall_score(y_test['green_day'], y_pred_gd > 0.5)\n",
    "brier_score_gd = brier_score_loss(y_test['green_day'], y_pred_gd)\n",
    "\n",
    "print(f\"ROC AUC Score: {roc_auc_gd}\")\n",
    "print(f\"Precision Score: {precision_gd}\")\n",
    "print(f\"Recall Score: {recall_gd}\")\n",
    "print(f\"Brier Score: {brier_score_gd}\")\n",
    "\n",
    "train_start = X_train.index.date.min()\n",
    "train_end = X_train.index.date.max()\n",
    "test_start = X_test.index.date.min()\n",
    "test_end = X_test.index.date.max()\n",
    "train_size = len(X_train)\n",
    "test_size = len(X_test)\n",
    "\n",
    "# Start a new MLFlow run\n",
    "with mlflow.start_run():\n",
    "\n",
    "    ts = datetime.datetime.now()\n",
    "\n",
    "    mlflow.set_tag(f\"mlflow.runName\", f\"{tck} GD Model {ts.hour:02}:{ts.minute:02}:{ts.second:02}\")\n",
    "\n",
    "    # Log the model\n",
    "    mlflow.log_param(\"model\", str(gd_model.named_steps))\n",
    "\n",
    "    # Log the features\n",
    "    mlflow.log_param(\"features\", gd_model.feature_names_in_)\n",
    "    mlflow.log_param(\"train_date_range\", f\"{train_start} to {train_end}\")\n",
    "    mlflow.log_param(\"test_date_range\", f\"{test_start} to {test_end}\")\n",
    "    mlflow.log_param(\"train_size\", train_size)\n",
    "    mlflow.log_param(\"test_size\", test_size)\n",
    "\n",
    "    # Assume y_test and y_pred are your test labels and model predictions\n",
    "    # Calculate scores\n",
    "\n",
    "    # Log the scores\n",
    "    mlflow.log_metric(\"roc_auc\", roc_auc_gd)\n",
    "    mlflow.log_metric(\"precision\", precision_gd)\n",
    "    mlflow.log_metric(\"recall\", recall_gd)\n",
    "    mlflow.log_metric(\"brier_score\", brier_score_gd)\n",
    "\n",
    "    # Log the timestamp\n",
    "    mlflow.log_param(\"created_at\", ts)\n",
    "\n",
    "print('done.')"
   ]
  },
  {
   "cell_type": "markdown",
   "metadata": {},
   "source": [
    "### CV"
   ]
  },
  {
   "cell_type": "code",
   "execution_count": 101,
   "metadata": {},
   "outputs": [
    {
     "name": "stdout",
     "output_type": "stream",
     "text": [
      "ROC AUC Score: 0.8762560229622526\n",
      "Precision Score: 0.8152615384615385\n",
      "Recall Score: 0.7896995708154506\n",
      "Brier Score: 0.1447651329818078\n",
      "done.\n"
     ]
    }
   ],
   "source": [
    "from sklearn.metrics import roc_auc_score, precision_score, recall_score, brier_score_loss\n",
    "import mlflow\n",
    "\n",
    "# Metrics for HOD model\n",
    "y_pred_hod_cv = hod_model_cv.predict_proba(X_test)[:,-1]\n",
    "\n",
    "roc_auc_hod = roc_auc_score(y_test['hod_in'], y_pred_hod_cv)\n",
    "precision_hod = precision_score(y_test['hod_in'], y_pred_hod_cv > 0.5)\n",
    "recall_hod = recall_score(y_test['hod_in'], y_pred_hod_cv > 0.5)\n",
    "brier_score_hod = brier_score_loss(y_test['hod_in'], y_pred_hod_cv)\n",
    "\n",
    "print(f\"ROC AUC Score: {roc_auc_hod}\")\n",
    "print(f\"Precision Score: {precision_hod}\")\n",
    "print(f\"Recall Score: {recall_hod}\")\n",
    "print(f\"Brier Score: {brier_score_hod}\")\n",
    "\n",
    "train_start = X_train.index.date.min()\n",
    "train_end = X_train.index.date.max()\n",
    "test_start = X_test.index.date.min()\n",
    "test_end = X_test.index.date.max()\n",
    "train_size = len(X_train)\n",
    "test_size = len(X_test)\n",
    "\n",
    "# Start a new MLFlow run\n",
    "with mlflow.start_run():\n",
    "\n",
    "    ts = datetime.datetime.now()\n",
    "\n",
    "    mlflow.set_tag(f\"mlflow.runName\", f\"{tck} HOD Model CV {ts.hour:02}:{ts.minute:02}:{ts.second:02}\")\n",
    "\n",
    "    # Log the model\n",
    "    mlflow.log_param(\"model\", str(hod_model.named_steps))\n",
    "\n",
    "    # Log the features\n",
    "    mlflow.log_param(\"features\", hod_model.feature_names_in_)\n",
    "    mlflow.log_param(\"train_date_range\", f\"{train_start} to {train_end}\")\n",
    "    mlflow.log_param(\"test_date_range\", f\"{test_start} to {test_end}\")\n",
    "    mlflow.log_param(\"train_size\", train_size)\n",
    "    mlflow.log_param(\"test_size\", test_size)\n",
    "\n",
    "    # Assume y_test and y_pred are your test labels and model predictions\n",
    "    # Calculate scores\n",
    "\n",
    "    # Log the scores\n",
    "    mlflow.log_metric(\"roc_auc\", roc_auc_hod)\n",
    "    mlflow.log_metric(\"precision\", precision_hod)\n",
    "    mlflow.log_metric(\"recall\", recall_hod)\n",
    "    mlflow.log_metric(\"brier_score\", brier_score_hod)\n",
    "\n",
    "    # Log the timestamp\n",
    "    mlflow.log_param(\"created_at\", ts)\n",
    "\n",
    "print('done.')"
   ]
  },
  {
   "cell_type": "code",
   "execution_count": 102,
   "metadata": {},
   "outputs": [
    {
     "name": "stdout",
     "output_type": "stream",
     "text": [
      "ROC AUC Score: 0.8499159048470607\n",
      "Precision Score: 0.8113347457627119\n",
      "Recall Score: 0.8064651995366958\n",
      "Brier Score: 0.15507923589893272\n",
      "done.\n"
     ]
    }
   ],
   "source": [
    "from sklearn.metrics import roc_auc_score, precision_score, recall_score\n",
    "import mlflow\n",
    "\n",
    "# Metrics for HOD model\n",
    "y_pred_lod_cv = lod_model_cv.predict_proba(X_test)[:,-1]\n",
    "roc_auc_lod = roc_auc_score(y_test['lod_in'], y_pred_lod_cv)\n",
    "precision_lod = precision_score(y_test['lod_in'], y_pred_lod_cv > 0.5)\n",
    "recall_lod = recall_score(y_test['lod_in'], y_pred_lod_cv > 0.5)\n",
    "brier_score_lod = brier_score_loss(y_test['lod_in'], y_pred_lod_cv)\n",
    "\n",
    "\n",
    "print(f\"ROC AUC Score: {roc_auc_lod}\")\n",
    "print(f\"Precision Score: {precision_lod}\")\n",
    "print(f\"Recall Score: {recall_lod}\")\n",
    "print(f\"Brier Score: {brier_score_lod}\")\n",
    "\n",
    "train_start = X_train.index.date.min()\n",
    "train_end = X_train.index.date.max()\n",
    "test_start = X_test.index.date.min()\n",
    "test_end = X_test.index.date.max()\n",
    "train_size = len(X_train)\n",
    "test_size = len(X_test)\n",
    "\n",
    "# Start a new MLFlow run\n",
    "with mlflow.start_run():\n",
    "\n",
    "    ts = datetime.datetime.now()\n",
    "\n",
    "    mlflow.set_tag(f\"mlflow.runName\", f\"{tck} LOD Model CV {ts.hour:02}:{ts.minute:02}:{ts.second:02}\")\n",
    "\n",
    "    # Log the model\n",
    "    mlflow.log_param(\"model\", str(lod_model.named_steps))\n",
    "\n",
    "    # Log the features\n",
    "    mlflow.log_param(\"features\", lod_model.feature_names_in_)\n",
    "    mlflow.log_param(\"train_date_range\", f\"{train_start} to {train_end}\")\n",
    "    mlflow.log_param(\"test_date_range\", f\"{test_start} to {test_end}\")\n",
    "    mlflow.log_param(\"train_size\", train_size)\n",
    "    mlflow.log_param(\"test_size\", test_size)\n",
    "\n",
    "    # Assume y_test and y_pred are your test labels and model predictions\n",
    "    # Calculate scores\n",
    "\n",
    "    # Log the scores\n",
    "    mlflow.log_metric(\"roc_auc\", roc_auc_lod)\n",
    "    mlflow.log_metric(\"precision\", precision_lod)\n",
    "    mlflow.log_metric(\"recall\", recall_lod)\n",
    "    mlflow.log_metric(\"brier_score\", brier_score_lod)\n",
    "\n",
    "\n",
    "    # Log the timestamp\n",
    "    mlflow.log_param(\"created_at\", ts)\n",
    "\n",
    "print('done.')"
   ]
  },
  {
   "cell_type": "code",
   "execution_count": 103,
   "metadata": {},
   "outputs": [
    {
     "name": "stdout",
     "output_type": "stream",
     "text": [
      "ROC AUC Score: 0.8686465654269659\n",
      "Precision Score: 0.8041462084015275\n",
      "Recall Score: 0.8244770108513256\n",
      "Brier Score: 0.14600209391962032\n",
      "done.\n"
     ]
    }
   ],
   "source": [
    "from sklearn.metrics import roc_auc_score, precision_score, recall_score\n",
    "import mlflow\n",
    "\n",
    "# Metrics for HOD model\n",
    "y_pred_gd_cv = gd_model_cv.predict_proba(X_test)[:,-1]\n",
    "\n",
    "roc_auc_gd = roc_auc_score(y_test['green_day'], y_pred_gd_cv)\n",
    "precision_gd = precision_score(y_test['green_day'], y_pred_gd_cv > 0.5)\n",
    "recall_gd = recall_score(y_test['green_day'], y_pred_gd_cv > 0.5)\n",
    "brier_score_gd = brier_score_loss(y_test['green_day'], y_pred_gd_cv)\n",
    "\n",
    "print(f\"ROC AUC Score: {roc_auc_gd}\")\n",
    "print(f\"Precision Score: {precision_gd}\")\n",
    "print(f\"Recall Score: {recall_gd}\")\n",
    "print(f\"Brier Score: {brier_score_gd}\")\n",
    "\n",
    "train_start = X_train.index.date.min()\n",
    "train_end = X_train.index.date.max()\n",
    "test_start = X_test.index.date.min()\n",
    "test_end = X_test.index.date.max()\n",
    "train_size = len(X_train)\n",
    "test_size = len(X_test)\n",
    "\n",
    "# Start a new MLFlow run\n",
    "with mlflow.start_run():\n",
    "\n",
    "    ts = datetime.datetime.now()\n",
    "\n",
    "    mlflow.set_tag(f\"mlflow.runName\", f\"{tck} GD Model CV {ts.hour:02}:{ts.minute:02}:{ts.second:02}\")\n",
    "\n",
    "    # Log the model\n",
    "    mlflow.log_param(\"model\", str(gd_model.named_steps))\n",
    "\n",
    "    # Log the features\n",
    "    mlflow.log_param(\"features\", gd_model.feature_names_in_)\n",
    "    mlflow.log_param(\"train_date_range\", f\"{train_start} to {train_end}\")\n",
    "    mlflow.log_param(\"test_date_range\", f\"{test_start} to {test_end}\")\n",
    "    mlflow.log_param(\"train_size\", train_size)\n",
    "    mlflow.log_param(\"test_size\", test_size)\n",
    "\n",
    "    # Assume y_test and y_pred are your test labels and model predictions\n",
    "    # Calculate scores\n",
    "\n",
    "    # Log the scores\n",
    "    mlflow.log_metric(\"roc_auc\", roc_auc_gd)\n",
    "    mlflow.log_metric(\"precision\", precision_gd)\n",
    "    mlflow.log_metric(\"recall\", recall_gd)\n",
    "    mlflow.log_metric(\"brier_score\", brier_score_gd)\n",
    "\n",
    "    # Log the timestamp\n",
    "    mlflow.log_param(\"created_at\", ts)\n",
    "\n",
    "print('done.')"
   ]
  },
  {
   "cell_type": "code",
   "execution_count": 104,
   "metadata": {},
   "outputs": [
    {
     "name": "stdout",
     "output_type": "stream",
     "text": [
      "Couldn't find program: 'false'\n"
     ]
    }
   ],
   "source": [
    "%%script false --no-raise-error\n",
    "from sklearn.metrics import roc_auc_score, precision_score, recall_score\n",
    "\n",
    "# Initialize lists to store scores for each split\n",
    "roc_auc_scores = []\n",
    "precision_scores = []\n",
    "recall_scores = []\n",
    "\n",
    "with mlflow.start_run():\n",
    "\n",
    "    # Loop over the splits\n",
    "    for train_index, test_index in tscv.split(dates):\n",
    "        # Find the end of the last complete day in the test set\n",
    "        last_day = np.unique(dates[test_index])[-2]  # -2 to get the second to last day\n",
    "        test_index = test_index[dates[test_index] <= last_day]  # only keep days in test set up to the last complete day\n",
    "\n",
    "        # Split the data\n",
    "        X_train, X_test = X.iloc[train_index], X.iloc[test_index]\n",
    "        y_train, y_test = y_flags.iloc[train_index], y_flags.iloc[test_index]\n",
    "\n",
    "        # Fit the model on the training data\n",
    "        model = pipeline_gd.fit(X_train, y_train['green_day'])\n",
    "\n",
    "        # Predict the test data\n",
    "        y_pred = model.predict_proba(X_test)[:,-1]\n",
    "\n",
    "        # Calculate the scores\n",
    "        roc_auc = roc_auc_score(y_test['green_day'], y_pred)\n",
    "        precision = precision_score(y_test['green_day'], y_pred > 0.5)\n",
    "        recall = recall_score(y_test['green_day'], y_pred > 0.5)\n",
    "\n",
    "        # Store the scores\n",
    "        roc_auc_scores.append(roc_auc)\n",
    "        precision_scores.append(precision)\n",
    "        recall_scores.append(recall)\n",
    "\n",
    "\n",
    "    roc_auc_gd = np.mean(roc_auc_scores)\n",
    "    precision_gd = np.mean(precision_scores)\n",
    "    recall_gd = np.mean(recall_scores)\n",
    "\n",
    "    # Print the average scores\n",
    "    print(f\"Average ROC AUC Score: {roc_auc_hod:.03} (+/- {np.std(roc_auc_scores):.02})\")\n",
    "    print(f\"Average Precision Score: {precision_hod:.03} (+/- {np.std(precision_scores):.02})\")\n",
    "    print(f\"Average Recall Score: {recall_hod:.03} (+/- {np.std(recall_scores):.02})\")\n",
    "\n",
    "    ts = datetime.datetime.now()\n",
    "\n",
    "    mlflow.set_tag(f\"mlflow.runName\", f\"{tck} GD Model CV {ts.hour:02}:{ts.minute:02}:{ts.second:02}\")\n",
    "\n",
    "    # Log the model\n",
    "    mlflow.log_param(\"model\", str(gd_model.named_steps))\n",
    "\n",
    "    # Log the features\n",
    "    mlflow.log_param(\"features\", gd_model.feature_names_in_)\n",
    "    mlflow.log_param(\"train_date_range\", f\"{train_start} to {train_end}\")\n",
    "    mlflow.log_param(\"test_date_range\", f\"{test_start} to {test_end}\")\n",
    "    mlflow.log_param(\"train_size\", train_size)\n",
    "    mlflow.log_param(\"test_size\", test_size)\n",
    "\n",
    "    # Assume y_test and y_pred are your test labels and model predictions\n",
    "    # Calculate scores\n",
    "\n",
    "    # Log the scores\n",
    "    mlflow.log_metric(\"roc_auc\", roc_auc_gd)\n",
    "    mlflow.log_metric(\"precision\", precision_gd)\n",
    "    mlflow.log_metric(\"recall\", recall_gd)\n",
    "\n",
    "    # Log the timestamp\n",
    "    mlflow.log_param(\"created_at\", ts)\n",
    "\n",
    "print('done.')"
   ]
  },
  {
   "cell_type": "code",
   "execution_count": 105,
   "metadata": {},
   "outputs": [
    {
     "data": {
      "application/vnd.plotly.v1+json": {
       "config": {
        "plotlyServerURL": "https://plot.ly"
       },
       "data": [
        {
         "hovertemplate": "variable=roc_auc<br>index=%{x}<br>value=%{y}<extra></extra>",
         "legendgroup": "roc_auc",
         "line": {
          "color": "#636efa",
          "dash": "solid"
         },
         "marker": {
          "symbol": "circle"
         },
         "mode": "lines",
         "name": "roc_auc",
         "orientation": "v",
         "showlegend": true,
         "type": "scatter",
         "x": [
          "09:45:00",
          "09:50:00",
          "09:55:00",
          "10:00:00",
          "10:05:00",
          "10:10:00",
          "10:15:00",
          "10:20:00",
          "10:25:00",
          "10:30:00",
          "10:35:00",
          "10:40:00",
          "10:45:00",
          "10:50:00",
          "10:55:00",
          "11:00:00",
          "11:05:00",
          "11:10:00",
          "11:15:00",
          "11:20:00",
          "11:25:00",
          "11:30:00",
          "11:35:00",
          "11:40:00",
          "11:45:00",
          "11:50:00",
          "11:55:00",
          "12:00:00",
          "12:05:00",
          "12:10:00",
          "12:15:00",
          "12:20:00",
          "12:25:00",
          "12:30:00",
          "12:35:00",
          "12:40:00",
          "12:45:00",
          "12:50:00",
          "12:55:00",
          "13:00:00",
          "13:05:00",
          "13:10:00",
          "13:15:00",
          "13:20:00",
          "13:25:00",
          "13:30:00",
          "13:35:00",
          "13:40:00",
          "13:45:00",
          "13:50:00",
          "13:55:00",
          "14:00:00",
          "14:05:00",
          "14:10:00",
          "14:15:00",
          "14:20:00",
          "14:25:00",
          "14:30:00",
          "14:35:00",
          "14:40:00",
          "14:45:00",
          "14:50:00",
          "14:55:00",
          "15:00:00",
          "15:05:00",
          "15:10:00",
          "15:15:00",
          "15:20:00",
          "15:25:00",
          "15:30:00",
          "15:35:00",
          "15:40:00",
          "15:45:00",
          "15:50:00",
          "15:55:00"
         ],
         "xaxis": "x",
         "y": [
          0.7426633444075306,
          0.7477839381162643,
          0.7639970016721443,
          0.7643431365721934,
          0.7746260129815263,
          0.7901661010311969,
          0.7983413639296699,
          0.8039282432136973,
          0.8079951422623177,
          0.8095144423856089,
          0.8106439809335606,
          0.8112577728464555,
          0.8138280926742465,
          0.8133867604920847,
          0.8160386371619248,
          0.8178337476525994,
          0.8176836644948217,
          0.8192344745577332,
          0.8208131102366669,
          0.8229814114931863,
          0.825134136554293,
          0.8270664274905631,
          0.8295443665502985,
          0.8324478773341528,
          0.8347326690323806,
          0.836875731714551,
          0.8395670798339508,
          0.8418428796021538,
          0.8434757700679015,
          0.8442164717537851,
          0.8453400653358873,
          0.8464527826209111,
          0.8477806009320813,
          0.8490562879419118,
          0.8496395495411028,
          0.8500809725169557,
          0.8507577706588911,
          0.8511203632300456,
          0.851097211433288,
          0.8512056370400923,
          0.8515738578736918,
          0.8517706622149142,
          0.8518561922766075,
          0.8515440437021446,
          0.8523709379291716,
          0.8529082749168807,
          0.8536331002192175,
          0.853863427255116,
          0.8540364804437652,
          0.8540376883625999,
          0.8544612190188969,
          0.854877137676098,
          0.8553992625031624,
          0.855695679828484,
          0.8562136434092564,
          0.8566246369209352,
          0.8574073781368943,
          0.8582969313959065,
          0.8591593285994329,
          0.859993578782973,
          0.8609413250863911,
          0.8621910908992558,
          0.8633704650661096,
          0.8646995598411672,
          0.8654650239590196,
          0.8664491728895836,
          0.8675491551042309,
          0.8684978827179677,
          0.8694742443117428,
          0.8706009567264472,
          0.8718168896604122,
          0.8734233592857031,
          0.8748741146511831,
          0.8767793140679041,
          0.8798495158096942
         ],
         "yaxis": "y"
        },
        {
         "hovertemplate": "variable=precision<br>index=%{x}<br>value=%{y}<extra></extra>",
         "legendgroup": "precision",
         "line": {
          "color": "#EF553B",
          "dash": "solid"
         },
         "marker": {
          "symbol": "circle"
         },
         "mode": "lines",
         "name": "precision",
         "orientation": "v",
         "showlegend": true,
         "type": "scatter",
         "x": [
          "09:45:00",
          "09:50:00",
          "09:55:00",
          "10:00:00",
          "10:05:00",
          "10:10:00",
          "10:15:00",
          "10:20:00",
          "10:25:00",
          "10:30:00",
          "10:35:00",
          "10:40:00",
          "10:45:00",
          "10:50:00",
          "10:55:00",
          "11:00:00",
          "11:05:00",
          "11:10:00",
          "11:15:00",
          "11:20:00",
          "11:25:00",
          "11:30:00",
          "11:35:00",
          "11:40:00",
          "11:45:00",
          "11:50:00",
          "11:55:00",
          "12:00:00",
          "12:05:00",
          "12:10:00",
          "12:15:00",
          "12:20:00",
          "12:25:00",
          "12:30:00",
          "12:35:00",
          "12:40:00",
          "12:45:00",
          "12:50:00",
          "12:55:00",
          "13:00:00",
          "13:05:00",
          "13:10:00",
          "13:15:00",
          "13:20:00",
          "13:25:00",
          "13:30:00",
          "13:35:00",
          "13:40:00",
          "13:45:00",
          "13:50:00",
          "13:55:00",
          "14:00:00",
          "14:05:00",
          "14:10:00",
          "14:15:00",
          "14:20:00",
          "14:25:00",
          "14:30:00",
          "14:35:00",
          "14:40:00",
          "14:45:00",
          "14:50:00",
          "14:55:00",
          "15:00:00",
          "15:05:00",
          "15:10:00",
          "15:15:00",
          "15:20:00",
          "15:25:00",
          "15:30:00",
          "15:35:00",
          "15:40:00",
          "15:45:00",
          "15:50:00",
          "15:55:00"
         ],
         "xaxis": "x",
         "y": [
          0.47368421052631576,
          0.46153846153846156,
          0.5192307692307693,
          0.525,
          0.5446428571428571,
          0.6038961038961039,
          0.6326530612244898,
          0.6431535269709544,
          0.6506849315068494,
          0.6475644699140402,
          0.6507177033492823,
          0.6482617586912065,
          0.650088809946714,
          0.6489859594383776,
          0.6541143654114365,
          0.660759493670886,
          0.663981588032221,
          0.6702014846235419,
          0.6722113502935421,
          0.6753832281334535,
          0.680637049455155,
          0.6851996867658575,
          0.6919117647058823,
          0.6987620357634112,
          0.703751617076326,
          0.7087912087912088,
          0.7135416666666666,
          0.7173435784851812,
          0.7190600522193211,
          0.7204783258594918,
          0.721958174904943,
          0.7244666364049024,
          0.7281426707264028,
          0.7310574521232306,
          0.733174034249303,
          0.7340952380952381,
          0.7354767994154183,
          0.7370084269662921,
          0.7388362652232747,
          0.7407045009784736,
          0.7427672955974842,
          0.7451338199513382,
          0.747055359246172,
          0.7487881380096949,
          0.7508287292817679,
          0.7536813922356091,
          0.755711318795431,
          0.7568587968789328,
          0.7584269662921348,
          0.7602463871120587,
          0.7621895124195032,
          0.7642984807864165,
          0.7655232305688233,
          0.7669411019632679,
          0.7691517765454919,
          0.7708916433426629,
          0.7725856697819314,
          0.7745544178991278,
          0.7767313019390581,
          0.7789985590778098,
          0.7810578105781057,
          0.7834362139917695,
          0.7865036838580041,
          0.789181238764504,
          0.7914472634434339,
          0.7941726394515425,
          0.7971102661596958,
          0.7997327790973872,
          0.8025210084033614,
          0.804919423240034,
          0.8073053066850447,
          0.810337865123166,
          0.8128363302270639,
          0.8162272843614026,
          0.8210145830736633
         ],
         "yaxis": "y"
        },
        {
         "hovertemplate": "variable=recall<br>index=%{x}<br>value=%{y}<extra></extra>",
         "legendgroup": "recall",
         "line": {
          "color": "#00cc96",
          "dash": "solid"
         },
         "marker": {
          "symbol": "circle"
         },
         "mode": "lines",
         "name": "recall",
         "orientation": "v",
         "showlegend": true,
         "type": "scatter",
         "x": [
          "09:45:00",
          "09:50:00",
          "09:55:00",
          "10:00:00",
          "10:05:00",
          "10:10:00",
          "10:15:00",
          "10:20:00",
          "10:25:00",
          "10:30:00",
          "10:35:00",
          "10:40:00",
          "10:45:00",
          "10:50:00",
          "10:55:00",
          "11:00:00",
          "11:05:00",
          "11:10:00",
          "11:15:00",
          "11:20:00",
          "11:25:00",
          "11:30:00",
          "11:35:00",
          "11:40:00",
          "11:45:00",
          "11:50:00",
          "11:55:00",
          "12:00:00",
          "12:05:00",
          "12:10:00",
          "12:15:00",
          "12:20:00",
          "12:25:00",
          "12:30:00",
          "12:35:00",
          "12:40:00",
          "12:45:00",
          "12:50:00",
          "12:55:00",
          "13:00:00",
          "13:05:00",
          "13:10:00",
          "13:15:00",
          "13:20:00",
          "13:25:00",
          "13:30:00",
          "13:35:00",
          "13:40:00",
          "13:45:00",
          "13:50:00",
          "13:55:00",
          "14:00:00",
          "14:05:00",
          "14:10:00",
          "14:15:00",
          "14:20:00",
          "14:25:00",
          "14:30:00",
          "14:35:00",
          "14:40:00",
          "14:45:00",
          "14:50:00",
          "14:55:00",
          "15:00:00",
          "15:05:00",
          "15:10:00",
          "15:15:00",
          "15:20:00",
          "15:25:00",
          "15:30:00",
          "15:35:00",
          "15:40:00",
          "15:45:00",
          "15:50:00",
          "15:55:00"
         ],
         "xaxis": "x",
         "y": [
          0.20930232558139536,
          0.1978021978021978,
          0.19148936170212766,
          0.208955223880597,
          0.23193916349809887,
          0.2852760736196319,
          0.3171355498721228,
          0.33916849015317285,
          0.36259541984732824,
          0.37919463087248323,
          0.40657698056801195,
          0.4260752688172043,
          0.4468864468864469,
          0.463768115942029,
          0.48102564102564105,
          0.4952561669829222,
          0.5074758135444152,
          0.5180327868852459,
          0.526840490797546,
          0.5396253602305475,
          0.5508819538670285,
          0.560179257362356,
          0.5703030303030303,
          0.5835726593911545,
          0.5929155313351498,
          0.6018662519440124,
          0.6094908551655956,
          0.617091595845137,
          0.622232263895165,
          0.625974025974026,
          0.6308139534883721,
          0.6366174710809733,
          0.6421173762945915,
          0.647970479704797,
          0.654228855721393,
          0.6601575882151421,
          0.6652346331791144,
          0.6695374800637959,
          0.6726208808130582,
          0.6756917584052365,
          0.6793212539545586,
          0.6815020862308763,
          0.6830910070005385,
          0.6847457627118644,
          0.6874051593323217,
          0.6909671084928817,
          0.6940867906533142,
          0.6967099165894347,
          0.6993243243243243,
          0.7028033289531318,
          0.706308610400682,
          0.7094566569888013,
          0.7120355411954766,
          0.714594807238395,
          0.7178455050795476,
          0.720612969538404,
          0.7234275296262535,
          0.7266097474208467,
          0.7302083333333333,
          0.732802439850898,
          0.7351968243466754,
          0.7380067840413503,
          0.74096860703581,
          0.7440677966101695,
          0.7463135720734276,
          0.7491181657848325,
          0.7524766690595837,
          0.7555399719495092,
          0.7591831140350878,
          0.7628617363344051,
          0.767125081859856,
          0.7710040983606558,
          0.7752879318978467,
          0.7798019317765008,
          0.7852885073915117
         ],
         "yaxis": "y"
        }
       ],
       "layout": {
        "legend": {
         "title": {
          "text": "variable"
         },
         "tracegroupgap": 0
        },
        "template": {
         "data": {
          "bar": [
           {
            "error_x": {
             "color": "#2a3f5f"
            },
            "error_y": {
             "color": "#2a3f5f"
            },
            "marker": {
             "line": {
              "color": "#E5ECF6",
              "width": 0.5
             },
             "pattern": {
              "fillmode": "overlay",
              "size": 10,
              "solidity": 0.2
             }
            },
            "type": "bar"
           }
          ],
          "barpolar": [
           {
            "marker": {
             "line": {
              "color": "#E5ECF6",
              "width": 0.5
             },
             "pattern": {
              "fillmode": "overlay",
              "size": 10,
              "solidity": 0.2
             }
            },
            "type": "barpolar"
           }
          ],
          "carpet": [
           {
            "aaxis": {
             "endlinecolor": "#2a3f5f",
             "gridcolor": "white",
             "linecolor": "white",
             "minorgridcolor": "white",
             "startlinecolor": "#2a3f5f"
            },
            "baxis": {
             "endlinecolor": "#2a3f5f",
             "gridcolor": "white",
             "linecolor": "white",
             "minorgridcolor": "white",
             "startlinecolor": "#2a3f5f"
            },
            "type": "carpet"
           }
          ],
          "choropleth": [
           {
            "colorbar": {
             "outlinewidth": 0,
             "ticks": ""
            },
            "type": "choropleth"
           }
          ],
          "contour": [
           {
            "colorbar": {
             "outlinewidth": 0,
             "ticks": ""
            },
            "colorscale": [
             [
              0,
              "#0d0887"
             ],
             [
              0.1111111111111111,
              "#46039f"
             ],
             [
              0.2222222222222222,
              "#7201a8"
             ],
             [
              0.3333333333333333,
              "#9c179e"
             ],
             [
              0.4444444444444444,
              "#bd3786"
             ],
             [
              0.5555555555555556,
              "#d8576b"
             ],
             [
              0.6666666666666666,
              "#ed7953"
             ],
             [
              0.7777777777777778,
              "#fb9f3a"
             ],
             [
              0.8888888888888888,
              "#fdca26"
             ],
             [
              1,
              "#f0f921"
             ]
            ],
            "type": "contour"
           }
          ],
          "contourcarpet": [
           {
            "colorbar": {
             "outlinewidth": 0,
             "ticks": ""
            },
            "type": "contourcarpet"
           }
          ],
          "heatmap": [
           {
            "colorbar": {
             "outlinewidth": 0,
             "ticks": ""
            },
            "colorscale": [
             [
              0,
              "#0d0887"
             ],
             [
              0.1111111111111111,
              "#46039f"
             ],
             [
              0.2222222222222222,
              "#7201a8"
             ],
             [
              0.3333333333333333,
              "#9c179e"
             ],
             [
              0.4444444444444444,
              "#bd3786"
             ],
             [
              0.5555555555555556,
              "#d8576b"
             ],
             [
              0.6666666666666666,
              "#ed7953"
             ],
             [
              0.7777777777777778,
              "#fb9f3a"
             ],
             [
              0.8888888888888888,
              "#fdca26"
             ],
             [
              1,
              "#f0f921"
             ]
            ],
            "type": "heatmap"
           }
          ],
          "heatmapgl": [
           {
            "colorbar": {
             "outlinewidth": 0,
             "ticks": ""
            },
            "colorscale": [
             [
              0,
              "#0d0887"
             ],
             [
              0.1111111111111111,
              "#46039f"
             ],
             [
              0.2222222222222222,
              "#7201a8"
             ],
             [
              0.3333333333333333,
              "#9c179e"
             ],
             [
              0.4444444444444444,
              "#bd3786"
             ],
             [
              0.5555555555555556,
              "#d8576b"
             ],
             [
              0.6666666666666666,
              "#ed7953"
             ],
             [
              0.7777777777777778,
              "#fb9f3a"
             ],
             [
              0.8888888888888888,
              "#fdca26"
             ],
             [
              1,
              "#f0f921"
             ]
            ],
            "type": "heatmapgl"
           }
          ],
          "histogram": [
           {
            "marker": {
             "pattern": {
              "fillmode": "overlay",
              "size": 10,
              "solidity": 0.2
             }
            },
            "type": "histogram"
           }
          ],
          "histogram2d": [
           {
            "colorbar": {
             "outlinewidth": 0,
             "ticks": ""
            },
            "colorscale": [
             [
              0,
              "#0d0887"
             ],
             [
              0.1111111111111111,
              "#46039f"
             ],
             [
              0.2222222222222222,
              "#7201a8"
             ],
             [
              0.3333333333333333,
              "#9c179e"
             ],
             [
              0.4444444444444444,
              "#bd3786"
             ],
             [
              0.5555555555555556,
              "#d8576b"
             ],
             [
              0.6666666666666666,
              "#ed7953"
             ],
             [
              0.7777777777777778,
              "#fb9f3a"
             ],
             [
              0.8888888888888888,
              "#fdca26"
             ],
             [
              1,
              "#f0f921"
             ]
            ],
            "type": "histogram2d"
           }
          ],
          "histogram2dcontour": [
           {
            "colorbar": {
             "outlinewidth": 0,
             "ticks": ""
            },
            "colorscale": [
             [
              0,
              "#0d0887"
             ],
             [
              0.1111111111111111,
              "#46039f"
             ],
             [
              0.2222222222222222,
              "#7201a8"
             ],
             [
              0.3333333333333333,
              "#9c179e"
             ],
             [
              0.4444444444444444,
              "#bd3786"
             ],
             [
              0.5555555555555556,
              "#d8576b"
             ],
             [
              0.6666666666666666,
              "#ed7953"
             ],
             [
              0.7777777777777778,
              "#fb9f3a"
             ],
             [
              0.8888888888888888,
              "#fdca26"
             ],
             [
              1,
              "#f0f921"
             ]
            ],
            "type": "histogram2dcontour"
           }
          ],
          "mesh3d": [
           {
            "colorbar": {
             "outlinewidth": 0,
             "ticks": ""
            },
            "type": "mesh3d"
           }
          ],
          "parcoords": [
           {
            "line": {
             "colorbar": {
              "outlinewidth": 0,
              "ticks": ""
             }
            },
            "type": "parcoords"
           }
          ],
          "pie": [
           {
            "automargin": true,
            "type": "pie"
           }
          ],
          "scatter": [
           {
            "fillpattern": {
             "fillmode": "overlay",
             "size": 10,
             "solidity": 0.2
            },
            "type": "scatter"
           }
          ],
          "scatter3d": [
           {
            "line": {
             "colorbar": {
              "outlinewidth": 0,
              "ticks": ""
             }
            },
            "marker": {
             "colorbar": {
              "outlinewidth": 0,
              "ticks": ""
             }
            },
            "type": "scatter3d"
           }
          ],
          "scattercarpet": [
           {
            "marker": {
             "colorbar": {
              "outlinewidth": 0,
              "ticks": ""
             }
            },
            "type": "scattercarpet"
           }
          ],
          "scattergeo": [
           {
            "marker": {
             "colorbar": {
              "outlinewidth": 0,
              "ticks": ""
             }
            },
            "type": "scattergeo"
           }
          ],
          "scattergl": [
           {
            "marker": {
             "colorbar": {
              "outlinewidth": 0,
              "ticks": ""
             }
            },
            "type": "scattergl"
           }
          ],
          "scattermapbox": [
           {
            "marker": {
             "colorbar": {
              "outlinewidth": 0,
              "ticks": ""
             }
            },
            "type": "scattermapbox"
           }
          ],
          "scatterpolar": [
           {
            "marker": {
             "colorbar": {
              "outlinewidth": 0,
              "ticks": ""
             }
            },
            "type": "scatterpolar"
           }
          ],
          "scatterpolargl": [
           {
            "marker": {
             "colorbar": {
              "outlinewidth": 0,
              "ticks": ""
             }
            },
            "type": "scatterpolargl"
           }
          ],
          "scatterternary": [
           {
            "marker": {
             "colorbar": {
              "outlinewidth": 0,
              "ticks": ""
             }
            },
            "type": "scatterternary"
           }
          ],
          "surface": [
           {
            "colorbar": {
             "outlinewidth": 0,
             "ticks": ""
            },
            "colorscale": [
             [
              0,
              "#0d0887"
             ],
             [
              0.1111111111111111,
              "#46039f"
             ],
             [
              0.2222222222222222,
              "#7201a8"
             ],
             [
              0.3333333333333333,
              "#9c179e"
             ],
             [
              0.4444444444444444,
              "#bd3786"
             ],
             [
              0.5555555555555556,
              "#d8576b"
             ],
             [
              0.6666666666666666,
              "#ed7953"
             ],
             [
              0.7777777777777778,
              "#fb9f3a"
             ],
             [
              0.8888888888888888,
              "#fdca26"
             ],
             [
              1,
              "#f0f921"
             ]
            ],
            "type": "surface"
           }
          ],
          "table": [
           {
            "cells": {
             "fill": {
              "color": "#EBF0F8"
             },
             "line": {
              "color": "white"
             }
            },
            "header": {
             "fill": {
              "color": "#C8D4E3"
             },
             "line": {
              "color": "white"
             }
            },
            "type": "table"
           }
          ]
         },
         "layout": {
          "annotationdefaults": {
           "arrowcolor": "#2a3f5f",
           "arrowhead": 0,
           "arrowwidth": 1
          },
          "autotypenumbers": "strict",
          "coloraxis": {
           "colorbar": {
            "outlinewidth": 0,
            "ticks": ""
           }
          },
          "colorscale": {
           "diverging": [
            [
             0,
             "#8e0152"
            ],
            [
             0.1,
             "#c51b7d"
            ],
            [
             0.2,
             "#de77ae"
            ],
            [
             0.3,
             "#f1b6da"
            ],
            [
             0.4,
             "#fde0ef"
            ],
            [
             0.5,
             "#f7f7f7"
            ],
            [
             0.6,
             "#e6f5d0"
            ],
            [
             0.7,
             "#b8e186"
            ],
            [
             0.8,
             "#7fbc41"
            ],
            [
             0.9,
             "#4d9221"
            ],
            [
             1,
             "#276419"
            ]
           ],
           "sequential": [
            [
             0,
             "#0d0887"
            ],
            [
             0.1111111111111111,
             "#46039f"
            ],
            [
             0.2222222222222222,
             "#7201a8"
            ],
            [
             0.3333333333333333,
             "#9c179e"
            ],
            [
             0.4444444444444444,
             "#bd3786"
            ],
            [
             0.5555555555555556,
             "#d8576b"
            ],
            [
             0.6666666666666666,
             "#ed7953"
            ],
            [
             0.7777777777777778,
             "#fb9f3a"
            ],
            [
             0.8888888888888888,
             "#fdca26"
            ],
            [
             1,
             "#f0f921"
            ]
           ],
           "sequentialminus": [
            [
             0,
             "#0d0887"
            ],
            [
             0.1111111111111111,
             "#46039f"
            ],
            [
             0.2222222222222222,
             "#7201a8"
            ],
            [
             0.3333333333333333,
             "#9c179e"
            ],
            [
             0.4444444444444444,
             "#bd3786"
            ],
            [
             0.5555555555555556,
             "#d8576b"
            ],
            [
             0.6666666666666666,
             "#ed7953"
            ],
            [
             0.7777777777777778,
             "#fb9f3a"
            ],
            [
             0.8888888888888888,
             "#fdca26"
            ],
            [
             1,
             "#f0f921"
            ]
           ]
          },
          "colorway": [
           "#636efa",
           "#EF553B",
           "#00cc96",
           "#ab63fa",
           "#FFA15A",
           "#19d3f3",
           "#FF6692",
           "#B6E880",
           "#FF97FF",
           "#FECB52"
          ],
          "font": {
           "color": "#2a3f5f"
          },
          "geo": {
           "bgcolor": "white",
           "lakecolor": "white",
           "landcolor": "#E5ECF6",
           "showlakes": true,
           "showland": true,
           "subunitcolor": "white"
          },
          "hoverlabel": {
           "align": "left"
          },
          "hovermode": "closest",
          "mapbox": {
           "style": "light"
          },
          "paper_bgcolor": "white",
          "plot_bgcolor": "#E5ECF6",
          "polar": {
           "angularaxis": {
            "gridcolor": "white",
            "linecolor": "white",
            "ticks": ""
           },
           "bgcolor": "#E5ECF6",
           "radialaxis": {
            "gridcolor": "white",
            "linecolor": "white",
            "ticks": ""
           }
          },
          "scene": {
           "xaxis": {
            "backgroundcolor": "#E5ECF6",
            "gridcolor": "white",
            "gridwidth": 2,
            "linecolor": "white",
            "showbackground": true,
            "ticks": "",
            "zerolinecolor": "white"
           },
           "yaxis": {
            "backgroundcolor": "#E5ECF6",
            "gridcolor": "white",
            "gridwidth": 2,
            "linecolor": "white",
            "showbackground": true,
            "ticks": "",
            "zerolinecolor": "white"
           },
           "zaxis": {
            "backgroundcolor": "#E5ECF6",
            "gridcolor": "white",
            "gridwidth": 2,
            "linecolor": "white",
            "showbackground": true,
            "ticks": "",
            "zerolinecolor": "white"
           }
          },
          "shapedefaults": {
           "line": {
            "color": "#2a3f5f"
           }
          },
          "ternary": {
           "aaxis": {
            "gridcolor": "white",
            "linecolor": "white",
            "ticks": ""
           },
           "baxis": {
            "gridcolor": "white",
            "linecolor": "white",
            "ticks": ""
           },
           "bgcolor": "#E5ECF6",
           "caxis": {
            "gridcolor": "white",
            "linecolor": "white",
            "ticks": ""
           }
          },
          "title": {
           "x": 0.05
          },
          "xaxis": {
           "automargin": true,
           "gridcolor": "white",
           "linecolor": "white",
           "ticks": "",
           "title": {
            "standoff": 15
           },
           "zerolinecolor": "white",
           "zerolinewidth": 2
          },
          "yaxis": {
           "automargin": true,
           "gridcolor": "white",
           "linecolor": "white",
           "ticks": "",
           "title": {
            "standoff": 15
           },
           "zerolinecolor": "white",
           "zerolinewidth": 2
          }
         }
        },
        "title": {
         "text": "Validation Metrics Over Time (HOD Model)"
        },
        "xaxis": {
         "anchor": "y",
         "domain": [
          0,
          1
         ],
         "title": {
          "text": "index"
         }
        },
        "yaxis": {
         "anchor": "x",
         "domain": [
          0,
          1
         ],
         "title": {
          "text": "value"
         }
        }
       }
      }
     },
     "metadata": {},
     "output_type": "display_data"
    }
   ],
   "source": [
    "import datetime\n",
    "import plotly.express as px\n",
    "\n",
    "\n",
    "time_range = [datetime.time(hour, minute) for hour in range(9, 16) for minute in range(0, 60, 5)]\n",
    "time_range = [x for x in time_range if x >= datetime.time(9,45)]\n",
    "df_val = pd.DataFrame()\n",
    "for t in time_range:\n",
    "    X_val = X_test.loc[X_test['time'] <= t].copy()\n",
    "    y_val = y_test.loc[X_val.index, 'hod_in'].copy()\n",
    "\n",
    "    y_pred_val = pipeline.predict_proba(X_val)[:,-1]\n",
    "\n",
    "    df_val.loc[t, [\n",
    "        'roc_auc',\n",
    "        'precision',\n",
    "        'recall'\n",
    "    ]] =  roc_auc_score(y_val, y_pred_val), precision_score(y_val, y_pred_val > 0.5), recall_score(y_val, y_pred_val > 0.5)\n",
    "\n",
    "\n",
    "fig = px.line(df_val, title='Validation Metrics Over Time (HOD Model)')\n",
    "fig.show()"
   ]
  },
  {
   "cell_type": "code",
   "execution_count": 106,
   "metadata": {},
   "outputs": [
    {
     "data": {
      "application/vnd.plotly.v1+json": {
       "config": {
        "plotlyServerURL": "https://plot.ly"
       },
       "data": [
        {
         "hovertemplate": "variable=roc_auc<br>index=%{x}<br>value=%{y}<extra></extra>",
         "legendgroup": "roc_auc",
         "line": {
          "color": "#636efa",
          "dash": "solid"
         },
         "marker": {
          "symbol": "circle"
         },
         "mode": "lines",
         "name": "roc_auc",
         "orientation": "v",
         "showlegend": true,
         "type": "scatter",
         "x": [
          "09:45:00",
          "09:50:00",
          "09:55:00",
          "10:00:00",
          "10:05:00",
          "10:10:00",
          "10:15:00",
          "10:20:00",
          "10:25:00",
          "10:30:00",
          "10:35:00",
          "10:40:00",
          "10:45:00",
          "10:50:00",
          "10:55:00",
          "11:00:00",
          "11:05:00",
          "11:10:00",
          "11:15:00",
          "11:20:00",
          "11:25:00",
          "11:30:00",
          "11:35:00",
          "11:40:00",
          "11:45:00",
          "11:50:00",
          "11:55:00",
          "12:00:00",
          "12:05:00",
          "12:10:00",
          "12:15:00",
          "12:20:00",
          "12:25:00",
          "12:30:00",
          "12:35:00",
          "12:40:00",
          "12:45:00",
          "12:50:00",
          "12:55:00",
          "13:00:00",
          "13:05:00",
          "13:10:00",
          "13:15:00",
          "13:20:00",
          "13:25:00",
          "13:30:00",
          "13:35:00",
          "13:40:00",
          "13:45:00",
          "13:50:00",
          "13:55:00",
          "14:00:00",
          "14:05:00",
          "14:10:00",
          "14:15:00",
          "14:20:00",
          "14:25:00",
          "14:30:00",
          "14:35:00",
          "14:40:00",
          "14:45:00",
          "14:50:00",
          "14:55:00",
          "15:00:00",
          "15:05:00",
          "15:10:00",
          "15:15:00",
          "15:20:00",
          "15:25:00",
          "15:30:00",
          "15:35:00",
          "15:40:00",
          "15:45:00",
          "15:50:00",
          "15:55:00"
         ],
         "xaxis": "x",
         "y": [
          0.7398947951273532,
          0.7419408386175759,
          0.7588796632647179,
          0.7635539255510936,
          0.7727320735875869,
          0.7875081582038898,
          0.7952668936899766,
          0.8002033535561097,
          0.8031727966689799,
          0.8051009371148918,
          0.8061162444760529,
          0.806836496596185,
          0.8090795783103476,
          0.8096474555437587,
          0.8120838309331461,
          0.813753683518919,
          0.8139669376985622,
          0.815237062661359,
          0.8170959822187951,
          0.819742770966639,
          0.8220940674314657,
          0.8239577963649666,
          0.8263756516144902,
          0.8291964711513214,
          0.8313649325137825,
          0.8337556199831144,
          0.8365530207728165,
          0.8390521251441968,
          0.8408812470369544,
          0.8418675023152634,
          0.8431197162776228,
          0.8443647304625964,
          0.845790171478005,
          0.8470595431760769,
          0.8477462983547743,
          0.8483709138251572,
          0.8490268333302688,
          0.8492241905566328,
          0.8489905822958339,
          0.8489558518988204,
          0.8490795829993978,
          0.848977164611419,
          0.8489026909371831,
          0.848297798981333,
          0.8488318405844866,
          0.8492624802908804,
          0.849953735018308,
          0.8501502830491771,
          0.8502575040654511,
          0.8500570188988239,
          0.8503339310089454,
          0.850690617952145,
          0.8511887953420925,
          0.8514039806919429,
          0.8519043121731853,
          0.8522810761534967,
          0.8529513372850391,
          0.8538572016068305,
          0.8546616929429429,
          0.8554682126081228,
          0.8564936195878711,
          0.8577323257101296,
          0.858928288666854,
          0.8602869813498571,
          0.8611564875016935,
          0.8622274284365603,
          0.8634636229112046,
          0.8644196089008185,
          0.8654872850184097,
          0.8666334449464943,
          0.8679338792363177,
          0.869561050000112,
          0.8710725778801391,
          0.8730941947249172,
          0.8762560229622526
         ],
         "yaxis": "y"
        },
        {
         "hovertemplate": "variable=precision<br>index=%{x}<br>value=%{y}<extra></extra>",
         "legendgroup": "precision",
         "line": {
          "color": "#EF553B",
          "dash": "solid"
         },
         "marker": {
          "symbol": "circle"
         },
         "mode": "lines",
         "name": "precision",
         "orientation": "v",
         "showlegend": true,
         "type": "scatter",
         "x": [
          "09:45:00",
          "09:50:00",
          "09:55:00",
          "10:00:00",
          "10:05:00",
          "10:10:00",
          "10:15:00",
          "10:20:00",
          "10:25:00",
          "10:30:00",
          "10:35:00",
          "10:40:00",
          "10:45:00",
          "10:50:00",
          "10:55:00",
          "11:00:00",
          "11:05:00",
          "11:10:00",
          "11:15:00",
          "11:20:00",
          "11:25:00",
          "11:30:00",
          "11:35:00",
          "11:40:00",
          "11:45:00",
          "11:50:00",
          "11:55:00",
          "12:00:00",
          "12:05:00",
          "12:10:00",
          "12:15:00",
          "12:20:00",
          "12:25:00",
          "12:30:00",
          "12:35:00",
          "12:40:00",
          "12:45:00",
          "12:50:00",
          "12:55:00",
          "13:00:00",
          "13:05:00",
          "13:10:00",
          "13:15:00",
          "13:20:00",
          "13:25:00",
          "13:30:00",
          "13:35:00",
          "13:40:00",
          "13:45:00",
          "13:50:00",
          "13:55:00",
          "14:00:00",
          "14:05:00",
          "14:10:00",
          "14:15:00",
          "14:20:00",
          "14:25:00",
          "14:30:00",
          "14:35:00",
          "14:40:00",
          "14:45:00",
          "14:50:00",
          "14:55:00",
          "15:00:00",
          "15:05:00",
          "15:10:00",
          "15:15:00",
          "15:20:00",
          "15:25:00",
          "15:30:00",
          "15:35:00",
          "15:40:00",
          "15:45:00",
          "15:50:00",
          "15:55:00"
         ],
         "xaxis": "x",
         "y": [
          0.52,
          0.5416666666666666,
          0.5507246376811594,
          0.5445544554455446,
          0.5407407407407407,
          0.5810055865921788,
          0.6088888888888889,
          0.6181818181818182,
          0.6226993865030674,
          0.6321243523316062,
          0.6345733041575492,
          0.6346516007532956,
          0.636963696369637,
          0.6388888888888888,
          0.6434210526315789,
          0.6491017964071857,
          0.6535087719298246,
          0.6568825910931174,
          0.6597938144329897,
          0.6643356643356644,
          0.6688417618270799,
          0.672782874617737,
          0.6776740847092606,
          0.6850977747808497,
          0.6916719643992372,
          0.697352587244284,
          0.7016543069024529,
          0.7067099567099567,
          0.7097272259392692,
          0.7112745098039216,
          0.7132834424695977,
          0.7165847116674117,
          0.7199143468950749,
          0.7235438884331419,
          0.7265932336742722,
          0.7283018867924528,
          0.7299058653149891,
          0.7313848295059151,
          0.7328193094200469,
          0.734258960284146,
          0.7355320472930927,
          0.7376014427412083,
          0.7394713912285797,
          0.7405845980888139,
          0.7424530867555073,
          0.7446640316205534,
          0.7465508431272355,
          0.7480802576170423,
          0.7498197548666186,
          0.7515745276417075,
          0.7540203850509626,
          0.756881744109227,
          0.7586649550706034,
          0.7601913477537438,
          0.762193887876948,
          0.7636972802522665,
          0.7651573292402148,
          0.7673332087460287,
          0.7696230194864323,
          0.7724125687910527,
          0.774987008487788,
          0.7776275768840825,
          0.780656874071629,
          0.7835267569310123,
          0.7859279080749252,
          0.7886566246541654,
          0.7913852618940417,
          0.7940486660803283,
          0.7968235799112892,
          0.7990230286113049,
          0.8013335147639135,
          0.8042496679946879,
          0.8069153069153069,
          0.8103840323395655,
          0.8152615384615385
         ],
         "yaxis": "y"
        },
        {
         "hovertemplate": "variable=recall<br>index=%{x}<br>value=%{y}<extra></extra>",
         "legendgroup": "recall",
         "line": {
          "color": "#00cc96",
          "dash": "solid"
         },
         "marker": {
          "symbol": "circle"
         },
         "mode": "lines",
         "name": "recall",
         "orientation": "v",
         "showlegend": true,
         "type": "scatter",
         "x": [
          "09:45:00",
          "09:50:00",
          "09:55:00",
          "10:00:00",
          "10:05:00",
          "10:10:00",
          "10:15:00",
          "10:20:00",
          "10:25:00",
          "10:30:00",
          "10:35:00",
          "10:40:00",
          "10:45:00",
          "10:50:00",
          "10:55:00",
          "11:00:00",
          "11:05:00",
          "11:10:00",
          "11:15:00",
          "11:20:00",
          "11:25:00",
          "11:30:00",
          "11:35:00",
          "11:40:00",
          "11:45:00",
          "11:50:00",
          "11:55:00",
          "12:00:00",
          "12:05:00",
          "12:10:00",
          "12:15:00",
          "12:20:00",
          "12:25:00",
          "12:30:00",
          "12:35:00",
          "12:40:00",
          "12:45:00",
          "12:50:00",
          "12:55:00",
          "13:00:00",
          "13:05:00",
          "13:10:00",
          "13:15:00",
          "13:20:00",
          "13:25:00",
          "13:30:00",
          "13:35:00",
          "13:40:00",
          "13:45:00",
          "13:50:00",
          "13:55:00",
          "14:00:00",
          "14:05:00",
          "14:10:00",
          "14:15:00",
          "14:20:00",
          "14:25:00",
          "14:30:00",
          "14:35:00",
          "14:40:00",
          "14:45:00",
          "14:50:00",
          "14:55:00",
          "15:00:00",
          "15:05:00",
          "15:10:00",
          "15:15:00",
          "15:20:00",
          "15:25:00",
          "15:30:00",
          "15:35:00",
          "15:40:00",
          "15:45:00",
          "15:50:00",
          "15:55:00"
         ],
         "xaxis": "x",
         "y": [
          0.3023255813953488,
          0.2857142857142857,
          0.2695035460992908,
          0.2736318407960199,
          0.27756653992395436,
          0.31901840490797545,
          0.35038363171355497,
          0.37199124726477023,
          0.38740458015267176,
          0.40939597315436244,
          0.4334828101644245,
          0.4529569892473118,
          0.4713064713064713,
          0.48717948717948717,
          0.5015384615384615,
          0.5142314990512334,
          0.5241864555848724,
          0.5319672131147541,
          0.5398773006134969,
          0.547550432276657,
          0.5563093622795116,
          0.5633802816901409,
          0.5721212121212121,
          0.5835726593911545,
          0.5929155313351498,
          0.60082944530845,
          0.6080079090459714,
          0.6166194523135033,
          0.623136014460009,
          0.6281385281385281,
          0.6333056478405316,
          0.6394096529716793,
          0.6448024549290372,
          0.6509225092250922,
          0.65636105188344,
          0.6611853374443303,
          0.666226040978189,
          0.6704944178628389,
          0.673236834000616,
          0.6765843498958644,
          0.6798964624676446,
          0.6826147426981919,
          0.6855142703284868,
          0.6870925684485006,
          0.6904400606980273,
          0.6936671575846833,
          0.6967095851216023,
          0.6997219647822057,
          0.7027027027027027,
          0.7056504599211564,
          0.7095055413469735,
          0.7127747822480298,
          0.7160743134087237,
          0.7189221085759244,
          0.72187080697719,
          0.7241637077181835,
          0.727073837739289,
          0.7303450729277837,
          0.7336805555555556,
          0.7372077261945104,
          0.7399933840555739,
          0.7433371022451947,
          0.7461744754693169,
          0.7489984591679507,
          0.7512789647908517,
          0.7541152263374485,
          0.7570710696338837,
          0.7597475455820477,
          0.7632949561403509,
          0.7670150053590568,
          0.7713163064833006,
          0.7756147540983607,
          0.7800450676014021,
          0.7843257121897542,
          0.7896995708154506
         ],
         "yaxis": "y"
        }
       ],
       "layout": {
        "legend": {
         "title": {
          "text": "variable"
         },
         "tracegroupgap": 0
        },
        "template": {
         "data": {
          "bar": [
           {
            "error_x": {
             "color": "#2a3f5f"
            },
            "error_y": {
             "color": "#2a3f5f"
            },
            "marker": {
             "line": {
              "color": "#E5ECF6",
              "width": 0.5
             },
             "pattern": {
              "fillmode": "overlay",
              "size": 10,
              "solidity": 0.2
             }
            },
            "type": "bar"
           }
          ],
          "barpolar": [
           {
            "marker": {
             "line": {
              "color": "#E5ECF6",
              "width": 0.5
             },
             "pattern": {
              "fillmode": "overlay",
              "size": 10,
              "solidity": 0.2
             }
            },
            "type": "barpolar"
           }
          ],
          "carpet": [
           {
            "aaxis": {
             "endlinecolor": "#2a3f5f",
             "gridcolor": "white",
             "linecolor": "white",
             "minorgridcolor": "white",
             "startlinecolor": "#2a3f5f"
            },
            "baxis": {
             "endlinecolor": "#2a3f5f",
             "gridcolor": "white",
             "linecolor": "white",
             "minorgridcolor": "white",
             "startlinecolor": "#2a3f5f"
            },
            "type": "carpet"
           }
          ],
          "choropleth": [
           {
            "colorbar": {
             "outlinewidth": 0,
             "ticks": ""
            },
            "type": "choropleth"
           }
          ],
          "contour": [
           {
            "colorbar": {
             "outlinewidth": 0,
             "ticks": ""
            },
            "colorscale": [
             [
              0,
              "#0d0887"
             ],
             [
              0.1111111111111111,
              "#46039f"
             ],
             [
              0.2222222222222222,
              "#7201a8"
             ],
             [
              0.3333333333333333,
              "#9c179e"
             ],
             [
              0.4444444444444444,
              "#bd3786"
             ],
             [
              0.5555555555555556,
              "#d8576b"
             ],
             [
              0.6666666666666666,
              "#ed7953"
             ],
             [
              0.7777777777777778,
              "#fb9f3a"
             ],
             [
              0.8888888888888888,
              "#fdca26"
             ],
             [
              1,
              "#f0f921"
             ]
            ],
            "type": "contour"
           }
          ],
          "contourcarpet": [
           {
            "colorbar": {
             "outlinewidth": 0,
             "ticks": ""
            },
            "type": "contourcarpet"
           }
          ],
          "heatmap": [
           {
            "colorbar": {
             "outlinewidth": 0,
             "ticks": ""
            },
            "colorscale": [
             [
              0,
              "#0d0887"
             ],
             [
              0.1111111111111111,
              "#46039f"
             ],
             [
              0.2222222222222222,
              "#7201a8"
             ],
             [
              0.3333333333333333,
              "#9c179e"
             ],
             [
              0.4444444444444444,
              "#bd3786"
             ],
             [
              0.5555555555555556,
              "#d8576b"
             ],
             [
              0.6666666666666666,
              "#ed7953"
             ],
             [
              0.7777777777777778,
              "#fb9f3a"
             ],
             [
              0.8888888888888888,
              "#fdca26"
             ],
             [
              1,
              "#f0f921"
             ]
            ],
            "type": "heatmap"
           }
          ],
          "heatmapgl": [
           {
            "colorbar": {
             "outlinewidth": 0,
             "ticks": ""
            },
            "colorscale": [
             [
              0,
              "#0d0887"
             ],
             [
              0.1111111111111111,
              "#46039f"
             ],
             [
              0.2222222222222222,
              "#7201a8"
             ],
             [
              0.3333333333333333,
              "#9c179e"
             ],
             [
              0.4444444444444444,
              "#bd3786"
             ],
             [
              0.5555555555555556,
              "#d8576b"
             ],
             [
              0.6666666666666666,
              "#ed7953"
             ],
             [
              0.7777777777777778,
              "#fb9f3a"
             ],
             [
              0.8888888888888888,
              "#fdca26"
             ],
             [
              1,
              "#f0f921"
             ]
            ],
            "type": "heatmapgl"
           }
          ],
          "histogram": [
           {
            "marker": {
             "pattern": {
              "fillmode": "overlay",
              "size": 10,
              "solidity": 0.2
             }
            },
            "type": "histogram"
           }
          ],
          "histogram2d": [
           {
            "colorbar": {
             "outlinewidth": 0,
             "ticks": ""
            },
            "colorscale": [
             [
              0,
              "#0d0887"
             ],
             [
              0.1111111111111111,
              "#46039f"
             ],
             [
              0.2222222222222222,
              "#7201a8"
             ],
             [
              0.3333333333333333,
              "#9c179e"
             ],
             [
              0.4444444444444444,
              "#bd3786"
             ],
             [
              0.5555555555555556,
              "#d8576b"
             ],
             [
              0.6666666666666666,
              "#ed7953"
             ],
             [
              0.7777777777777778,
              "#fb9f3a"
             ],
             [
              0.8888888888888888,
              "#fdca26"
             ],
             [
              1,
              "#f0f921"
             ]
            ],
            "type": "histogram2d"
           }
          ],
          "histogram2dcontour": [
           {
            "colorbar": {
             "outlinewidth": 0,
             "ticks": ""
            },
            "colorscale": [
             [
              0,
              "#0d0887"
             ],
             [
              0.1111111111111111,
              "#46039f"
             ],
             [
              0.2222222222222222,
              "#7201a8"
             ],
             [
              0.3333333333333333,
              "#9c179e"
             ],
             [
              0.4444444444444444,
              "#bd3786"
             ],
             [
              0.5555555555555556,
              "#d8576b"
             ],
             [
              0.6666666666666666,
              "#ed7953"
             ],
             [
              0.7777777777777778,
              "#fb9f3a"
             ],
             [
              0.8888888888888888,
              "#fdca26"
             ],
             [
              1,
              "#f0f921"
             ]
            ],
            "type": "histogram2dcontour"
           }
          ],
          "mesh3d": [
           {
            "colorbar": {
             "outlinewidth": 0,
             "ticks": ""
            },
            "type": "mesh3d"
           }
          ],
          "parcoords": [
           {
            "line": {
             "colorbar": {
              "outlinewidth": 0,
              "ticks": ""
             }
            },
            "type": "parcoords"
           }
          ],
          "pie": [
           {
            "automargin": true,
            "type": "pie"
           }
          ],
          "scatter": [
           {
            "fillpattern": {
             "fillmode": "overlay",
             "size": 10,
             "solidity": 0.2
            },
            "type": "scatter"
           }
          ],
          "scatter3d": [
           {
            "line": {
             "colorbar": {
              "outlinewidth": 0,
              "ticks": ""
             }
            },
            "marker": {
             "colorbar": {
              "outlinewidth": 0,
              "ticks": ""
             }
            },
            "type": "scatter3d"
           }
          ],
          "scattercarpet": [
           {
            "marker": {
             "colorbar": {
              "outlinewidth": 0,
              "ticks": ""
             }
            },
            "type": "scattercarpet"
           }
          ],
          "scattergeo": [
           {
            "marker": {
             "colorbar": {
              "outlinewidth": 0,
              "ticks": ""
             }
            },
            "type": "scattergeo"
           }
          ],
          "scattergl": [
           {
            "marker": {
             "colorbar": {
              "outlinewidth": 0,
              "ticks": ""
             }
            },
            "type": "scattergl"
           }
          ],
          "scattermapbox": [
           {
            "marker": {
             "colorbar": {
              "outlinewidth": 0,
              "ticks": ""
             }
            },
            "type": "scattermapbox"
           }
          ],
          "scatterpolar": [
           {
            "marker": {
             "colorbar": {
              "outlinewidth": 0,
              "ticks": ""
             }
            },
            "type": "scatterpolar"
           }
          ],
          "scatterpolargl": [
           {
            "marker": {
             "colorbar": {
              "outlinewidth": 0,
              "ticks": ""
             }
            },
            "type": "scatterpolargl"
           }
          ],
          "scatterternary": [
           {
            "marker": {
             "colorbar": {
              "outlinewidth": 0,
              "ticks": ""
             }
            },
            "type": "scatterternary"
           }
          ],
          "surface": [
           {
            "colorbar": {
             "outlinewidth": 0,
             "ticks": ""
            },
            "colorscale": [
             [
              0,
              "#0d0887"
             ],
             [
              0.1111111111111111,
              "#46039f"
             ],
             [
              0.2222222222222222,
              "#7201a8"
             ],
             [
              0.3333333333333333,
              "#9c179e"
             ],
             [
              0.4444444444444444,
              "#bd3786"
             ],
             [
              0.5555555555555556,
              "#d8576b"
             ],
             [
              0.6666666666666666,
              "#ed7953"
             ],
             [
              0.7777777777777778,
              "#fb9f3a"
             ],
             [
              0.8888888888888888,
              "#fdca26"
             ],
             [
              1,
              "#f0f921"
             ]
            ],
            "type": "surface"
           }
          ],
          "table": [
           {
            "cells": {
             "fill": {
              "color": "#EBF0F8"
             },
             "line": {
              "color": "white"
             }
            },
            "header": {
             "fill": {
              "color": "#C8D4E3"
             },
             "line": {
              "color": "white"
             }
            },
            "type": "table"
           }
          ]
         },
         "layout": {
          "annotationdefaults": {
           "arrowcolor": "#2a3f5f",
           "arrowhead": 0,
           "arrowwidth": 1
          },
          "autotypenumbers": "strict",
          "coloraxis": {
           "colorbar": {
            "outlinewidth": 0,
            "ticks": ""
           }
          },
          "colorscale": {
           "diverging": [
            [
             0,
             "#8e0152"
            ],
            [
             0.1,
             "#c51b7d"
            ],
            [
             0.2,
             "#de77ae"
            ],
            [
             0.3,
             "#f1b6da"
            ],
            [
             0.4,
             "#fde0ef"
            ],
            [
             0.5,
             "#f7f7f7"
            ],
            [
             0.6,
             "#e6f5d0"
            ],
            [
             0.7,
             "#b8e186"
            ],
            [
             0.8,
             "#7fbc41"
            ],
            [
             0.9,
             "#4d9221"
            ],
            [
             1,
             "#276419"
            ]
           ],
           "sequential": [
            [
             0,
             "#0d0887"
            ],
            [
             0.1111111111111111,
             "#46039f"
            ],
            [
             0.2222222222222222,
             "#7201a8"
            ],
            [
             0.3333333333333333,
             "#9c179e"
            ],
            [
             0.4444444444444444,
             "#bd3786"
            ],
            [
             0.5555555555555556,
             "#d8576b"
            ],
            [
             0.6666666666666666,
             "#ed7953"
            ],
            [
             0.7777777777777778,
             "#fb9f3a"
            ],
            [
             0.8888888888888888,
             "#fdca26"
            ],
            [
             1,
             "#f0f921"
            ]
           ],
           "sequentialminus": [
            [
             0,
             "#0d0887"
            ],
            [
             0.1111111111111111,
             "#46039f"
            ],
            [
             0.2222222222222222,
             "#7201a8"
            ],
            [
             0.3333333333333333,
             "#9c179e"
            ],
            [
             0.4444444444444444,
             "#bd3786"
            ],
            [
             0.5555555555555556,
             "#d8576b"
            ],
            [
             0.6666666666666666,
             "#ed7953"
            ],
            [
             0.7777777777777778,
             "#fb9f3a"
            ],
            [
             0.8888888888888888,
             "#fdca26"
            ],
            [
             1,
             "#f0f921"
            ]
           ]
          },
          "colorway": [
           "#636efa",
           "#EF553B",
           "#00cc96",
           "#ab63fa",
           "#FFA15A",
           "#19d3f3",
           "#FF6692",
           "#B6E880",
           "#FF97FF",
           "#FECB52"
          ],
          "font": {
           "color": "#2a3f5f"
          },
          "geo": {
           "bgcolor": "white",
           "lakecolor": "white",
           "landcolor": "#E5ECF6",
           "showlakes": true,
           "showland": true,
           "subunitcolor": "white"
          },
          "hoverlabel": {
           "align": "left"
          },
          "hovermode": "closest",
          "mapbox": {
           "style": "light"
          },
          "paper_bgcolor": "white",
          "plot_bgcolor": "#E5ECF6",
          "polar": {
           "angularaxis": {
            "gridcolor": "white",
            "linecolor": "white",
            "ticks": ""
           },
           "bgcolor": "#E5ECF6",
           "radialaxis": {
            "gridcolor": "white",
            "linecolor": "white",
            "ticks": ""
           }
          },
          "scene": {
           "xaxis": {
            "backgroundcolor": "#E5ECF6",
            "gridcolor": "white",
            "gridwidth": 2,
            "linecolor": "white",
            "showbackground": true,
            "ticks": "",
            "zerolinecolor": "white"
           },
           "yaxis": {
            "backgroundcolor": "#E5ECF6",
            "gridcolor": "white",
            "gridwidth": 2,
            "linecolor": "white",
            "showbackground": true,
            "ticks": "",
            "zerolinecolor": "white"
           },
           "zaxis": {
            "backgroundcolor": "#E5ECF6",
            "gridcolor": "white",
            "gridwidth": 2,
            "linecolor": "white",
            "showbackground": true,
            "ticks": "",
            "zerolinecolor": "white"
           }
          },
          "shapedefaults": {
           "line": {
            "color": "#2a3f5f"
           }
          },
          "ternary": {
           "aaxis": {
            "gridcolor": "white",
            "linecolor": "white",
            "ticks": ""
           },
           "baxis": {
            "gridcolor": "white",
            "linecolor": "white",
            "ticks": ""
           },
           "bgcolor": "#E5ECF6",
           "caxis": {
            "gridcolor": "white",
            "linecolor": "white",
            "ticks": ""
           }
          },
          "title": {
           "x": 0.05
          },
          "xaxis": {
           "automargin": true,
           "gridcolor": "white",
           "linecolor": "white",
           "ticks": "",
           "title": {
            "standoff": 15
           },
           "zerolinecolor": "white",
           "zerolinewidth": 2
          },
          "yaxis": {
           "automargin": true,
           "gridcolor": "white",
           "linecolor": "white",
           "ticks": "",
           "title": {
            "standoff": 15
           },
           "zerolinecolor": "white",
           "zerolinewidth": 2
          }
         }
        },
        "title": {
         "text": "Validation Metrics Over Time (HOD Model CV)"
        },
        "xaxis": {
         "anchor": "y",
         "domain": [
          0,
          1
         ],
         "title": {
          "text": "index"
         }
        },
        "yaxis": {
         "anchor": "x",
         "domain": [
          0,
          1
         ],
         "title": {
          "text": "value"
         }
        }
       }
      }
     },
     "metadata": {},
     "output_type": "display_data"
    }
   ],
   "source": [
    "import datetime\n",
    "import plotly.express as px\n",
    "\n",
    "\n",
    "time_range = [datetime.time(hour, minute) for hour in range(9, 16) for minute in range(0, 60, 5)]\n",
    "time_range = [x for x in time_range if x >= datetime.time(9,45)]\n",
    "df_val = pd.DataFrame()\n",
    "for t in time_range:\n",
    "    X_val = X_test.loc[X_test['time'] <= t].copy()\n",
    "    y_val = y_test.loc[X_val.index, 'hod_in'].copy()\n",
    "\n",
    "    y_pred_val = hod_model_cv.predict_proba(X_val)[:,-1]\n",
    "\n",
    "    df_val.loc[t, [\n",
    "        'roc_auc',\n",
    "        'precision',\n",
    "        'recall'\n",
    "    ]] =  roc_auc_score(y_val, y_pred_val), precision_score(y_val, y_pred_val > 0.5), recall_score(y_val, y_pred_val > 0.5)\n",
    "\n",
    "\n",
    "fig = px.line(df_val, title='Validation Metrics Over Time (HOD Model CV)')\n",
    "fig.show()"
   ]
  },
  {
   "cell_type": "code",
   "execution_count": 107,
   "metadata": {},
   "outputs": [
    {
     "data": {
      "application/vnd.plotly.v1+json": {
       "config": {
        "plotlyServerURL": "https://plot.ly"
       },
       "data": [
        {
         "hovertemplate": "variable=roc_auc<br>index=%{x}<br>value=%{y}<extra></extra>",
         "legendgroup": "roc_auc",
         "line": {
          "color": "#636efa",
          "dash": "solid"
         },
         "marker": {
          "symbol": "circle"
         },
         "mode": "lines",
         "name": "roc_auc",
         "orientation": "v",
         "showlegend": true,
         "type": "scatter",
         "x": [
          "09:45:00",
          "09:50:00",
          "09:55:00",
          "10:00:00",
          "10:05:00",
          "10:10:00",
          "10:15:00",
          "10:20:00",
          "10:25:00",
          "10:30:00",
          "10:35:00",
          "10:40:00",
          "10:45:00",
          "10:50:00",
          "10:55:00",
          "11:00:00",
          "11:05:00",
          "11:10:00",
          "11:15:00",
          "11:20:00",
          "11:25:00",
          "11:30:00",
          "11:35:00",
          "11:40:00",
          "11:45:00",
          "11:50:00",
          "11:55:00",
          "12:00:00",
          "12:05:00",
          "12:10:00",
          "12:15:00",
          "12:20:00",
          "12:25:00",
          "12:30:00",
          "12:35:00",
          "12:40:00",
          "12:45:00",
          "12:50:00",
          "12:55:00",
          "13:00:00",
          "13:05:00",
          "13:10:00",
          "13:15:00",
          "13:20:00",
          "13:25:00",
          "13:30:00",
          "13:35:00",
          "13:40:00",
          "13:45:00",
          "13:50:00",
          "13:55:00",
          "14:00:00",
          "14:05:00",
          "14:10:00",
          "14:15:00",
          "14:20:00",
          "14:25:00",
          "14:30:00",
          "14:35:00",
          "14:40:00",
          "14:45:00",
          "14:50:00",
          "14:55:00",
          "15:00:00",
          "15:05:00",
          "15:10:00",
          "15:15:00",
          "15:20:00",
          "15:25:00",
          "15:30:00",
          "15:35:00",
          "15:40:00",
          "15:45:00",
          "15:50:00",
          "15:55:00"
         ],
         "xaxis": "x",
         "y": [
          0.6728184096605149,
          0.6859885105786745,
          0.6963995142683667,
          0.7191570984191397,
          0.7288843492530748,
          0.7424053755950308,
          0.7466497645780514,
          0.7495280050346129,
          0.754810375759992,
          0.7606804556354916,
          0.7686288479964621,
          0.7762790656362584,
          0.7810101266993434,
          0.7825403444620382,
          0.785368916313415,
          0.7876960685219709,
          0.7893285737088793,
          0.7903242516189753,
          0.7907266774407817,
          0.7922742115083665,
          0.7938294417797084,
          0.7944195218988189,
          0.7949765409416005,
          0.7962431203637235,
          0.7972077555550817,
          0.7976609434941319,
          0.7976354511013544,
          0.7980183493543301,
          0.7982482044313198,
          0.7988094145509863,
          0.7993854800446116,
          0.7995359176753365,
          0.799834654147838,
          0.8000668269173423,
          0.800399714080049,
          0.8003563870244406,
          0.8002922474550139,
          0.8003562161690758,
          0.8005303060937827,
          0.8010860975548219,
          0.8020038848248321,
          0.8024753440004244,
          0.8034723712035305,
          0.8044398718798486,
          0.8056965379392187,
          0.8062583816054872,
          0.8068804904266687,
          0.8075564342866998,
          0.8079106033260876,
          0.8085450681580916,
          0.8090788887890925,
          0.8101418285190348,
          0.8109932191406628,
          0.8124853432154147,
          0.8137503659476393,
          0.8151563756364618,
          0.8164178719210063,
          0.8177131637887509,
          0.819115572926947,
          0.8206747466602833,
          0.8225608573960277,
          0.824651461087369,
          0.8269827994507604,
          0.829400043533188,
          0.8318906847918467,
          0.834326773745909,
          0.8365568763014686,
          0.8389121466927403,
          0.8408999256872325,
          0.8428453806651685,
          0.8449231607549851,
          0.8468981034028744,
          0.8491730799605743,
          0.8517143447342608,
          0.8549776596706132
         ],
         "yaxis": "y"
        },
        {
         "hovertemplate": "variable=precision<br>index=%{x}<br>value=%{y}<extra></extra>",
         "legendgroup": "precision",
         "line": {
          "color": "#EF553B",
          "dash": "solid"
         },
         "marker": {
          "symbol": "circle"
         },
         "mode": "lines",
         "name": "precision",
         "orientation": "v",
         "showlegend": true,
         "type": "scatter",
         "x": [
          "09:45:00",
          "09:50:00",
          "09:55:00",
          "10:00:00",
          "10:05:00",
          "10:10:00",
          "10:15:00",
          "10:20:00",
          "10:25:00",
          "10:30:00",
          "10:35:00",
          "10:40:00",
          "10:45:00",
          "10:50:00",
          "10:55:00",
          "11:00:00",
          "11:05:00",
          "11:10:00",
          "11:15:00",
          "11:20:00",
          "11:25:00",
          "11:30:00",
          "11:35:00",
          "11:40:00",
          "11:45:00",
          "11:50:00",
          "11:55:00",
          "12:00:00",
          "12:05:00",
          "12:10:00",
          "12:15:00",
          "12:20:00",
          "12:25:00",
          "12:30:00",
          "12:35:00",
          "12:40:00",
          "12:45:00",
          "12:50:00",
          "12:55:00",
          "13:00:00",
          "13:05:00",
          "13:10:00",
          "13:15:00",
          "13:20:00",
          "13:25:00",
          "13:30:00",
          "13:35:00",
          "13:40:00",
          "13:45:00",
          "13:50:00",
          "13:55:00",
          "14:00:00",
          "14:05:00",
          "14:10:00",
          "14:15:00",
          "14:20:00",
          "14:25:00",
          "14:30:00",
          "14:35:00",
          "14:40:00",
          "14:45:00",
          "14:50:00",
          "14:55:00",
          "15:00:00",
          "15:05:00",
          "15:10:00",
          "15:15:00",
          "15:20:00",
          "15:25:00",
          "15:30:00",
          "15:35:00",
          "15:40:00",
          "15:45:00",
          "15:50:00",
          "15:55:00"
         ],
         "xaxis": "x",
         "y": [
          0.36363636363636365,
          0.4074074074074074,
          0.4588235294117647,
          0.5193798449612403,
          0.5314285714285715,
          0.5555555555555556,
          0.5749128919860628,
          0.5787965616045845,
          0.5927710843373494,
          0.6008230452674898,
          0.6105072463768116,
          0.6248012718600954,
          0.6364922206506365,
          0.6448717948717949,
          0.6539351851851852,
          0.6576200417536534,
          0.6610009442870632,
          0.6646447140381283,
          0.6645468998410174,
          0.6676449009537784,
          0.6705320600272852,
          0.6734563971992361,
          0.6769596199524941,
          0.679266259032796,
          0.6814389989572471,
          0.6841589014222658,
          0.6850138760407031,
          0.6877192982456141,
          0.6895547232625884,
          0.6913629160063391,
          0.6928301886792453,
          0.6932471264367817,
          0.6941015089163237,
          0.6956094364351245,
          0.696608040201005,
          0.6978915662650602,
          0.6992198786477897,
          0.7001665741254859,
          0.7021106064654021,
          0.703913491246138,
          0.7058385093167702,
          0.7076443805415769,
          0.7100208285119185,
          0.7118909253464462,
          0.713884690131721,
          0.7160468031759298,
          0.7185919482095893,
          0.7208937671501372,
          0.7231735159817352,
          0.7256931608133087,
          0.7281221922731357,
          0.7306885704299196,
          0.7335716717739189,
          0.7364842454394693,
          0.7393831745519135,
          0.7424433249370277,
          0.7452815712751266,
          0.7482025164769323,
          0.7514256470244188,
          0.7548221174453493,
          0.7584568073804865,
          0.7616835200874555,
          0.7648316408337787,
          0.7682655861978827,
          0.771878198567042,
          0.7752035065748278,
          0.7781590881235445,
          0.781700288184438,
          0.784966474532408,
          0.7880115273775216,
          0.7910262206148282,
          0.7944111776447106,
          0.7977821265492498,
          0.8014275061254927,
          0.8057523968320134
         ],
         "yaxis": "y"
        },
        {
         "hovertemplate": "variable=recall<br>index=%{x}<br>value=%{y}<extra></extra>",
         "legendgroup": "recall",
         "line": {
          "color": "#00cc96",
          "dash": "solid"
         },
         "marker": {
          "symbol": "circle"
         },
         "mode": "lines",
         "name": "recall",
         "orientation": "v",
         "showlegend": true,
         "type": "scatter",
         "x": [
          "09:45:00",
          "09:50:00",
          "09:55:00",
          "10:00:00",
          "10:05:00",
          "10:10:00",
          "10:15:00",
          "10:20:00",
          "10:25:00",
          "10:30:00",
          "10:35:00",
          "10:40:00",
          "10:45:00",
          "10:50:00",
          "10:55:00",
          "11:00:00",
          "11:05:00",
          "11:10:00",
          "11:15:00",
          "11:20:00",
          "11:25:00",
          "11:30:00",
          "11:35:00",
          "11:40:00",
          "11:45:00",
          "11:50:00",
          "11:55:00",
          "12:00:00",
          "12:05:00",
          "12:10:00",
          "12:15:00",
          "12:20:00",
          "12:25:00",
          "12:30:00",
          "12:35:00",
          "12:40:00",
          "12:45:00",
          "12:50:00",
          "12:55:00",
          "13:00:00",
          "13:05:00",
          "13:10:00",
          "13:15:00",
          "13:20:00",
          "13:25:00",
          "13:30:00",
          "13:35:00",
          "13:40:00",
          "13:45:00",
          "13:50:00",
          "13:55:00",
          "14:00:00",
          "14:05:00",
          "14:10:00",
          "14:15:00",
          "14:20:00",
          "14:25:00",
          "14:30:00",
          "14:35:00",
          "14:40:00",
          "14:45:00",
          "14:50:00",
          "14:55:00",
          "15:00:00",
          "15:05:00",
          "15:10:00",
          "15:15:00",
          "15:20:00",
          "15:25:00",
          "15:30:00",
          "15:35:00",
          "15:40:00",
          "15:45:00",
          "15:50:00",
          "15:55:00"
         ],
         "xaxis": "x",
         "y": [
          0.14035087719298245,
          0.18803418803418803,
          0.21311475409836064,
          0.26693227091633465,
          0.28792569659442724,
          0.31565656565656564,
          0.3488372093023256,
          0.36528028933092227,
          0.38740157480314963,
          0.40555555555555556,
          0.41811414392059554,
          0.4400895856662934,
          0.4577822990844354,
          0.4670380687093779,
          0.4824935952177626,
          0.4976303317535545,
          0.5131964809384164,
          0.5239071038251366,
          0.5345268542199488,
          0.546875,
          0.5569405099150142,
          0.5663811563169164,
          0.5778003041054233,
          0.5877825877825877,
          0.5976223136716964,
          0.607313887679582,
          0.6147779161477792,
          0.6214823622671423,
          0.627889352027283,
          0.6331640058055152,
          0.6388308977035491,
          0.644622578490314,
          0.6499678869621066,
          0.6560568603213844,
          0.6605122096486004,
          0.6656133295030163,
          0.6711037160288408,
          0.6755960353603,
          0.6804764370792336,
          0.6848697394789579,
          0.6892285298398836,
          0.6944967074317968,
          0.6999771845767739,
          0.7052701505757307,
          0.7114267269205939,
          0.7163461538461539,
          0.7215112736136502,
          0.726303317535545,
          0.7299788745918955,
          0.7335575485799701,
          0.7368612474995454,
          0.7402620396600567,
          0.7429310344827587,
          0.746135752688172,
          0.7496725605762934,
          0.7528735632183908,
          0.7563064465898474,
          0.7588878760255242,
          0.7622367250074162,
          0.7654303100550565,
          0.7683375814216936,
          0.7717015090682542,
          0.7751895991332611,
          0.7789557381394117,
          0.7824902723735409,
          0.7861315722631446,
          0.7895784106454421,
          0.7929354445797807,
          0.7960157461529286,
          0.7987847627950456,
          0.8014428031604259,
          0.8037697744867048,
          0.8066395515004947,
          0.8099698535745047,
          0.8141518374223439
         ],
         "yaxis": "y"
        }
       ],
       "layout": {
        "legend": {
         "title": {
          "text": "variable"
         },
         "tracegroupgap": 0
        },
        "template": {
         "data": {
          "bar": [
           {
            "error_x": {
             "color": "#2a3f5f"
            },
            "error_y": {
             "color": "#2a3f5f"
            },
            "marker": {
             "line": {
              "color": "#E5ECF6",
              "width": 0.5
             },
             "pattern": {
              "fillmode": "overlay",
              "size": 10,
              "solidity": 0.2
             }
            },
            "type": "bar"
           }
          ],
          "barpolar": [
           {
            "marker": {
             "line": {
              "color": "#E5ECF6",
              "width": 0.5
             },
             "pattern": {
              "fillmode": "overlay",
              "size": 10,
              "solidity": 0.2
             }
            },
            "type": "barpolar"
           }
          ],
          "carpet": [
           {
            "aaxis": {
             "endlinecolor": "#2a3f5f",
             "gridcolor": "white",
             "linecolor": "white",
             "minorgridcolor": "white",
             "startlinecolor": "#2a3f5f"
            },
            "baxis": {
             "endlinecolor": "#2a3f5f",
             "gridcolor": "white",
             "linecolor": "white",
             "minorgridcolor": "white",
             "startlinecolor": "#2a3f5f"
            },
            "type": "carpet"
           }
          ],
          "choropleth": [
           {
            "colorbar": {
             "outlinewidth": 0,
             "ticks": ""
            },
            "type": "choropleth"
           }
          ],
          "contour": [
           {
            "colorbar": {
             "outlinewidth": 0,
             "ticks": ""
            },
            "colorscale": [
             [
              0,
              "#0d0887"
             ],
             [
              0.1111111111111111,
              "#46039f"
             ],
             [
              0.2222222222222222,
              "#7201a8"
             ],
             [
              0.3333333333333333,
              "#9c179e"
             ],
             [
              0.4444444444444444,
              "#bd3786"
             ],
             [
              0.5555555555555556,
              "#d8576b"
             ],
             [
              0.6666666666666666,
              "#ed7953"
             ],
             [
              0.7777777777777778,
              "#fb9f3a"
             ],
             [
              0.8888888888888888,
              "#fdca26"
             ],
             [
              1,
              "#f0f921"
             ]
            ],
            "type": "contour"
           }
          ],
          "contourcarpet": [
           {
            "colorbar": {
             "outlinewidth": 0,
             "ticks": ""
            },
            "type": "contourcarpet"
           }
          ],
          "heatmap": [
           {
            "colorbar": {
             "outlinewidth": 0,
             "ticks": ""
            },
            "colorscale": [
             [
              0,
              "#0d0887"
             ],
             [
              0.1111111111111111,
              "#46039f"
             ],
             [
              0.2222222222222222,
              "#7201a8"
             ],
             [
              0.3333333333333333,
              "#9c179e"
             ],
             [
              0.4444444444444444,
              "#bd3786"
             ],
             [
              0.5555555555555556,
              "#d8576b"
             ],
             [
              0.6666666666666666,
              "#ed7953"
             ],
             [
              0.7777777777777778,
              "#fb9f3a"
             ],
             [
              0.8888888888888888,
              "#fdca26"
             ],
             [
              1,
              "#f0f921"
             ]
            ],
            "type": "heatmap"
           }
          ],
          "heatmapgl": [
           {
            "colorbar": {
             "outlinewidth": 0,
             "ticks": ""
            },
            "colorscale": [
             [
              0,
              "#0d0887"
             ],
             [
              0.1111111111111111,
              "#46039f"
             ],
             [
              0.2222222222222222,
              "#7201a8"
             ],
             [
              0.3333333333333333,
              "#9c179e"
             ],
             [
              0.4444444444444444,
              "#bd3786"
             ],
             [
              0.5555555555555556,
              "#d8576b"
             ],
             [
              0.6666666666666666,
              "#ed7953"
             ],
             [
              0.7777777777777778,
              "#fb9f3a"
             ],
             [
              0.8888888888888888,
              "#fdca26"
             ],
             [
              1,
              "#f0f921"
             ]
            ],
            "type": "heatmapgl"
           }
          ],
          "histogram": [
           {
            "marker": {
             "pattern": {
              "fillmode": "overlay",
              "size": 10,
              "solidity": 0.2
             }
            },
            "type": "histogram"
           }
          ],
          "histogram2d": [
           {
            "colorbar": {
             "outlinewidth": 0,
             "ticks": ""
            },
            "colorscale": [
             [
              0,
              "#0d0887"
             ],
             [
              0.1111111111111111,
              "#46039f"
             ],
             [
              0.2222222222222222,
              "#7201a8"
             ],
             [
              0.3333333333333333,
              "#9c179e"
             ],
             [
              0.4444444444444444,
              "#bd3786"
             ],
             [
              0.5555555555555556,
              "#d8576b"
             ],
             [
              0.6666666666666666,
              "#ed7953"
             ],
             [
              0.7777777777777778,
              "#fb9f3a"
             ],
             [
              0.8888888888888888,
              "#fdca26"
             ],
             [
              1,
              "#f0f921"
             ]
            ],
            "type": "histogram2d"
           }
          ],
          "histogram2dcontour": [
           {
            "colorbar": {
             "outlinewidth": 0,
             "ticks": ""
            },
            "colorscale": [
             [
              0,
              "#0d0887"
             ],
             [
              0.1111111111111111,
              "#46039f"
             ],
             [
              0.2222222222222222,
              "#7201a8"
             ],
             [
              0.3333333333333333,
              "#9c179e"
             ],
             [
              0.4444444444444444,
              "#bd3786"
             ],
             [
              0.5555555555555556,
              "#d8576b"
             ],
             [
              0.6666666666666666,
              "#ed7953"
             ],
             [
              0.7777777777777778,
              "#fb9f3a"
             ],
             [
              0.8888888888888888,
              "#fdca26"
             ],
             [
              1,
              "#f0f921"
             ]
            ],
            "type": "histogram2dcontour"
           }
          ],
          "mesh3d": [
           {
            "colorbar": {
             "outlinewidth": 0,
             "ticks": ""
            },
            "type": "mesh3d"
           }
          ],
          "parcoords": [
           {
            "line": {
             "colorbar": {
              "outlinewidth": 0,
              "ticks": ""
             }
            },
            "type": "parcoords"
           }
          ],
          "pie": [
           {
            "automargin": true,
            "type": "pie"
           }
          ],
          "scatter": [
           {
            "fillpattern": {
             "fillmode": "overlay",
             "size": 10,
             "solidity": 0.2
            },
            "type": "scatter"
           }
          ],
          "scatter3d": [
           {
            "line": {
             "colorbar": {
              "outlinewidth": 0,
              "ticks": ""
             }
            },
            "marker": {
             "colorbar": {
              "outlinewidth": 0,
              "ticks": ""
             }
            },
            "type": "scatter3d"
           }
          ],
          "scattercarpet": [
           {
            "marker": {
             "colorbar": {
              "outlinewidth": 0,
              "ticks": ""
             }
            },
            "type": "scattercarpet"
           }
          ],
          "scattergeo": [
           {
            "marker": {
             "colorbar": {
              "outlinewidth": 0,
              "ticks": ""
             }
            },
            "type": "scattergeo"
           }
          ],
          "scattergl": [
           {
            "marker": {
             "colorbar": {
              "outlinewidth": 0,
              "ticks": ""
             }
            },
            "type": "scattergl"
           }
          ],
          "scattermapbox": [
           {
            "marker": {
             "colorbar": {
              "outlinewidth": 0,
              "ticks": ""
             }
            },
            "type": "scattermapbox"
           }
          ],
          "scatterpolar": [
           {
            "marker": {
             "colorbar": {
              "outlinewidth": 0,
              "ticks": ""
             }
            },
            "type": "scatterpolar"
           }
          ],
          "scatterpolargl": [
           {
            "marker": {
             "colorbar": {
              "outlinewidth": 0,
              "ticks": ""
             }
            },
            "type": "scatterpolargl"
           }
          ],
          "scatterternary": [
           {
            "marker": {
             "colorbar": {
              "outlinewidth": 0,
              "ticks": ""
             }
            },
            "type": "scatterternary"
           }
          ],
          "surface": [
           {
            "colorbar": {
             "outlinewidth": 0,
             "ticks": ""
            },
            "colorscale": [
             [
              0,
              "#0d0887"
             ],
             [
              0.1111111111111111,
              "#46039f"
             ],
             [
              0.2222222222222222,
              "#7201a8"
             ],
             [
              0.3333333333333333,
              "#9c179e"
             ],
             [
              0.4444444444444444,
              "#bd3786"
             ],
             [
              0.5555555555555556,
              "#d8576b"
             ],
             [
              0.6666666666666666,
              "#ed7953"
             ],
             [
              0.7777777777777778,
              "#fb9f3a"
             ],
             [
              0.8888888888888888,
              "#fdca26"
             ],
             [
              1,
              "#f0f921"
             ]
            ],
            "type": "surface"
           }
          ],
          "table": [
           {
            "cells": {
             "fill": {
              "color": "#EBF0F8"
             },
             "line": {
              "color": "white"
             }
            },
            "header": {
             "fill": {
              "color": "#C8D4E3"
             },
             "line": {
              "color": "white"
             }
            },
            "type": "table"
           }
          ]
         },
         "layout": {
          "annotationdefaults": {
           "arrowcolor": "#2a3f5f",
           "arrowhead": 0,
           "arrowwidth": 1
          },
          "autotypenumbers": "strict",
          "coloraxis": {
           "colorbar": {
            "outlinewidth": 0,
            "ticks": ""
           }
          },
          "colorscale": {
           "diverging": [
            [
             0,
             "#8e0152"
            ],
            [
             0.1,
             "#c51b7d"
            ],
            [
             0.2,
             "#de77ae"
            ],
            [
             0.3,
             "#f1b6da"
            ],
            [
             0.4,
             "#fde0ef"
            ],
            [
             0.5,
             "#f7f7f7"
            ],
            [
             0.6,
             "#e6f5d0"
            ],
            [
             0.7,
             "#b8e186"
            ],
            [
             0.8,
             "#7fbc41"
            ],
            [
             0.9,
             "#4d9221"
            ],
            [
             1,
             "#276419"
            ]
           ],
           "sequential": [
            [
             0,
             "#0d0887"
            ],
            [
             0.1111111111111111,
             "#46039f"
            ],
            [
             0.2222222222222222,
             "#7201a8"
            ],
            [
             0.3333333333333333,
             "#9c179e"
            ],
            [
             0.4444444444444444,
             "#bd3786"
            ],
            [
             0.5555555555555556,
             "#d8576b"
            ],
            [
             0.6666666666666666,
             "#ed7953"
            ],
            [
             0.7777777777777778,
             "#fb9f3a"
            ],
            [
             0.8888888888888888,
             "#fdca26"
            ],
            [
             1,
             "#f0f921"
            ]
           ],
           "sequentialminus": [
            [
             0,
             "#0d0887"
            ],
            [
             0.1111111111111111,
             "#46039f"
            ],
            [
             0.2222222222222222,
             "#7201a8"
            ],
            [
             0.3333333333333333,
             "#9c179e"
            ],
            [
             0.4444444444444444,
             "#bd3786"
            ],
            [
             0.5555555555555556,
             "#d8576b"
            ],
            [
             0.6666666666666666,
             "#ed7953"
            ],
            [
             0.7777777777777778,
             "#fb9f3a"
            ],
            [
             0.8888888888888888,
             "#fdca26"
            ],
            [
             1,
             "#f0f921"
            ]
           ]
          },
          "colorway": [
           "#636efa",
           "#EF553B",
           "#00cc96",
           "#ab63fa",
           "#FFA15A",
           "#19d3f3",
           "#FF6692",
           "#B6E880",
           "#FF97FF",
           "#FECB52"
          ],
          "font": {
           "color": "#2a3f5f"
          },
          "geo": {
           "bgcolor": "white",
           "lakecolor": "white",
           "landcolor": "#E5ECF6",
           "showlakes": true,
           "showland": true,
           "subunitcolor": "white"
          },
          "hoverlabel": {
           "align": "left"
          },
          "hovermode": "closest",
          "mapbox": {
           "style": "light"
          },
          "paper_bgcolor": "white",
          "plot_bgcolor": "#E5ECF6",
          "polar": {
           "angularaxis": {
            "gridcolor": "white",
            "linecolor": "white",
            "ticks": ""
           },
           "bgcolor": "#E5ECF6",
           "radialaxis": {
            "gridcolor": "white",
            "linecolor": "white",
            "ticks": ""
           }
          },
          "scene": {
           "xaxis": {
            "backgroundcolor": "#E5ECF6",
            "gridcolor": "white",
            "gridwidth": 2,
            "linecolor": "white",
            "showbackground": true,
            "ticks": "",
            "zerolinecolor": "white"
           },
           "yaxis": {
            "backgroundcolor": "#E5ECF6",
            "gridcolor": "white",
            "gridwidth": 2,
            "linecolor": "white",
            "showbackground": true,
            "ticks": "",
            "zerolinecolor": "white"
           },
           "zaxis": {
            "backgroundcolor": "#E5ECF6",
            "gridcolor": "white",
            "gridwidth": 2,
            "linecolor": "white",
            "showbackground": true,
            "ticks": "",
            "zerolinecolor": "white"
           }
          },
          "shapedefaults": {
           "line": {
            "color": "#2a3f5f"
           }
          },
          "ternary": {
           "aaxis": {
            "gridcolor": "white",
            "linecolor": "white",
            "ticks": ""
           },
           "baxis": {
            "gridcolor": "white",
            "linecolor": "white",
            "ticks": ""
           },
           "bgcolor": "#E5ECF6",
           "caxis": {
            "gridcolor": "white",
            "linecolor": "white",
            "ticks": ""
           }
          },
          "title": {
           "x": 0.05
          },
          "xaxis": {
           "automargin": true,
           "gridcolor": "white",
           "linecolor": "white",
           "ticks": "",
           "title": {
            "standoff": 15
           },
           "zerolinecolor": "white",
           "zerolinewidth": 2
          },
          "yaxis": {
           "automargin": true,
           "gridcolor": "white",
           "linecolor": "white",
           "ticks": "",
           "title": {
            "standoff": 15
           },
           "zerolinecolor": "white",
           "zerolinewidth": 2
          }
         }
        },
        "title": {
         "text": "Validation Metrics Over Time (LOD Model)"
        },
        "xaxis": {
         "anchor": "y",
         "domain": [
          0,
          1
         ],
         "title": {
          "text": "index"
         }
        },
        "yaxis": {
         "anchor": "x",
         "domain": [
          0,
          1
         ],
         "title": {
          "text": "value"
         }
        }
       }
      }
     },
     "metadata": {},
     "output_type": "display_data"
    }
   ],
   "source": [
    "import datetime\n",
    "import plotly.express as px\n",
    "\n",
    "time_range = [datetime.time(hour, minute) for hour in range(9, 16) for minute in range(0, 60, 5)]\n",
    "time_range = [x for x in time_range if x >= datetime.time(9,45)]\n",
    "df_val = pd.DataFrame()\n",
    "for t in time_range:\n",
    "    X_val = X_test.loc[X_test['time'] <= t].copy()\n",
    "    y_val = y_test.loc[X_val.index, 'lod_in'].copy()\n",
    "\n",
    "    y_pred_val = pipeline_lod.predict_proba(X_val)[:,-1]\n",
    "\n",
    "    df_val.loc[t, [\n",
    "        'roc_auc',\n",
    "        'precision',\n",
    "        'recall'\n",
    "    ]] =  roc_auc_score(y_val, y_pred_val), precision_score(y_val, y_pred_val > 0.5), recall_score(y_val, y_pred_val > 0.5)\n",
    "\n",
    "\n",
    "fig = px.line(df_val, title='Validation Metrics Over Time (LOD Model)')\n",
    "fig.show()"
   ]
  },
  {
   "cell_type": "code",
   "execution_count": 108,
   "metadata": {},
   "outputs": [
    {
     "data": {
      "application/vnd.plotly.v1+json": {
       "config": {
        "plotlyServerURL": "https://plot.ly"
       },
       "data": [
        {
         "hovertemplate": "variable=roc_auc<br>index=%{x}<br>value=%{y}<extra></extra>",
         "legendgroup": "roc_auc",
         "line": {
          "color": "#636efa",
          "dash": "solid"
         },
         "marker": {
          "symbol": "circle"
         },
         "mode": "lines",
         "name": "roc_auc",
         "orientation": "v",
         "showlegend": true,
         "type": "scatter",
         "x": [
          "09:45:00",
          "09:50:00",
          "09:55:00",
          "10:00:00",
          "10:05:00",
          "10:10:00",
          "10:15:00",
          "10:20:00",
          "10:25:00",
          "10:30:00",
          "10:35:00",
          "10:40:00",
          "10:45:00",
          "10:50:00",
          "10:55:00",
          "11:00:00",
          "11:05:00",
          "11:10:00",
          "11:15:00",
          "11:20:00",
          "11:25:00",
          "11:30:00",
          "11:35:00",
          "11:40:00",
          "11:45:00",
          "11:50:00",
          "11:55:00",
          "12:00:00",
          "12:05:00",
          "12:10:00",
          "12:15:00",
          "12:20:00",
          "12:25:00",
          "12:30:00",
          "12:35:00",
          "12:40:00",
          "12:45:00",
          "12:50:00",
          "12:55:00",
          "13:00:00",
          "13:05:00",
          "13:10:00",
          "13:15:00",
          "13:20:00",
          "13:25:00",
          "13:30:00",
          "13:35:00",
          "13:40:00",
          "13:45:00",
          "13:50:00",
          "13:55:00",
          "14:00:00",
          "14:05:00",
          "14:10:00",
          "14:15:00",
          "14:20:00",
          "14:25:00",
          "14:30:00",
          "14:35:00",
          "14:40:00",
          "14:45:00",
          "14:50:00",
          "14:55:00",
          "15:00:00",
          "15:05:00",
          "15:10:00",
          "15:15:00",
          "15:20:00",
          "15:25:00",
          "15:30:00",
          "15:35:00",
          "15:40:00",
          "15:45:00",
          "15:50:00",
          "15:55:00"
         ],
         "xaxis": "x",
         "y": [
          0.6700843016632491,
          0.6766428471346505,
          0.6868245294474803,
          0.7076248127221301,
          0.7199749615117834,
          0.7350574712643678,
          0.74130960302553,
          0.7449586158000814,
          0.7495178411242898,
          0.7555535571542766,
          0.7630125543571727,
          0.7702741203872298,
          0.7749196568944788,
          0.7761110525745611,
          0.7790228071062034,
          0.7807899642865166,
          0.7823088531917055,
          0.7828407340291532,
          0.783656033765867,
          0.7857205331347057,
          0.7879513079402994,
          0.7887976684693754,
          0.7894824928197332,
          0.7911184912859954,
          0.792145976815426,
          0.7926155060938825,
          0.7924677229246772,
          0.7927199747551479,
          0.7925729442970822,
          0.7928461319170952,
          0.7932068806043254,
          0.7932775254251629,
          0.7935093284662349,
          0.7939770710537435,
          0.7944170920142523,
          0.7944206058020924,
          0.794316000878221,
          0.7942842246187384,
          0.7943417612224445,
          0.7947597082654518,
          0.7955712975488494,
          0.7957856249349546,
          0.7966108637413305,
          0.7974471639985496,
          0.7986073051270279,
          0.7990989944113562,
          0.7996706619551355,
          0.8002148058646789,
          0.8004833024837333,
          0.8010567069441298,
          0.8016273191578072,
          0.8026842867466073,
          0.8035687566282096,
          0.8051432237439662,
          0.8065115240020992,
          0.808075820814297,
          0.8095435270112037,
          0.8111599657091139,
          0.8129561718693592,
          0.814845589253566,
          0.8169393356899829,
          0.8191722764809606,
          0.8215768555474536,
          0.8239751532158206,
          0.8264537288582336,
          0.8289355611828215,
          0.8312650105821285,
          0.8335954227308877,
          0.8356704827541871,
          0.8375548056723158,
          0.839588872170139,
          0.8416744071583722,
          0.8440249065771157,
          0.8465388956852178,
          0.8499159048470607
         ],
         "yaxis": "y"
        },
        {
         "hovertemplate": "variable=precision<br>index=%{x}<br>value=%{y}<extra></extra>",
         "legendgroup": "precision",
         "line": {
          "color": "#EF553B",
          "dash": "solid"
         },
         "marker": {
          "symbol": "circle"
         },
         "mode": "lines",
         "name": "precision",
         "orientation": "v",
         "showlegend": true,
         "type": "scatter",
         "x": [
          "09:45:00",
          "09:50:00",
          "09:55:00",
          "10:00:00",
          "10:05:00",
          "10:10:00",
          "10:15:00",
          "10:20:00",
          "10:25:00",
          "10:30:00",
          "10:35:00",
          "10:40:00",
          "10:45:00",
          "10:50:00",
          "10:55:00",
          "11:00:00",
          "11:05:00",
          "11:10:00",
          "11:15:00",
          "11:20:00",
          "11:25:00",
          "11:30:00",
          "11:35:00",
          "11:40:00",
          "11:45:00",
          "11:50:00",
          "11:55:00",
          "12:00:00",
          "12:05:00",
          "12:10:00",
          "12:15:00",
          "12:20:00",
          "12:25:00",
          "12:30:00",
          "12:35:00",
          "12:40:00",
          "12:45:00",
          "12:50:00",
          "12:55:00",
          "13:00:00",
          "13:05:00",
          "13:10:00",
          "13:15:00",
          "13:20:00",
          "13:25:00",
          "13:30:00",
          "13:35:00",
          "13:40:00",
          "13:45:00",
          "13:50:00",
          "13:55:00",
          "14:00:00",
          "14:05:00",
          "14:10:00",
          "14:15:00",
          "14:20:00",
          "14:25:00",
          "14:30:00",
          "14:35:00",
          "14:40:00",
          "14:45:00",
          "14:50:00",
          "14:55:00",
          "15:00:00",
          "15:05:00",
          "15:10:00",
          "15:15:00",
          "15:20:00",
          "15:25:00",
          "15:30:00",
          "15:35:00",
          "15:40:00",
          "15:45:00",
          "15:50:00",
          "15:55:00"
         ],
         "xaxis": "x",
         "y": [
          0.32142857142857145,
          0.3684210526315789,
          0.4418604651162791,
          0.5,
          0.5271739130434783,
          0.5677966101694916,
          0.5743243243243243,
          0.5777777777777777,
          0.5905882352941176,
          0.6,
          0.6133093525179856,
          0.6220095693779905,
          0.6330014224751067,
          0.6425806451612903,
          0.6537102473498233,
          0.6595517609391676,
          0.6611650485436893,
          0.6637010676156584,
          0.6652994257588187,
          0.6676829268292683,
          0.6707056307911617,
          0.6748670212765957,
          0.6782608695652174,
          0.682798833819242,
          0.6871232876712329,
          0.6907216494845361,
          0.6928675400291121,
          0.6950939935809262,
          0.6970882225119513,
          0.6992574257425742,
          0.7003921568627451,
          0.701230883998508,
          0.7023090586145648,
          0.7037665422463523,
          0.7045454545454546,
          0.7062305295950155,
          0.7072732714756061,
          0.7079136690647482,
          0.7090356452058579,
          0.7106382978723405,
          0.7129677088672476,
          0.714320987654321,
          0.7164285714285714,
          0.7183260519659692,
          0.7203823071793732,
          0.7225806451612903,
          0.7252655696729848,
          0.7274561226548315,
          0.7300685602350636,
          0.7319391634980988,
          0.7340229035833026,
          0.736794825727632,
          0.7395487143606787,
          0.7422926247657979,
          0.745273631840796,
          0.7484256418537057,
          0.7514951211835065,
          0.7546822229045134,
          0.7580161821995804,
          0.7614101813926273,
          0.7652696323844943,
          0.7688006709533128,
          0.7720568150778476,
          0.7751668891855807,
          0.7787795635698419,
          0.7820971867007672,
          0.7850081341509197,
          0.7882871845135996,
          0.7914316572662906,
          0.7944738389182834,
          0.7974421016246112,
          0.8005646527385658,
          0.8038955289951306,
          0.8070631567544144,
          0.8113347457627119
         ],
         "yaxis": "y"
        },
        {
         "hovertemplate": "variable=recall<br>index=%{x}<br>value=%{y}<extra></extra>",
         "legendgroup": "recall",
         "line": {
          "color": "#00cc96",
          "dash": "solid"
         },
         "marker": {
          "symbol": "circle"
         },
         "mode": "lines",
         "name": "recall",
         "orientation": "v",
         "showlegend": true,
         "type": "scatter",
         "x": [
          "09:45:00",
          "09:50:00",
          "09:55:00",
          "10:00:00",
          "10:05:00",
          "10:10:00",
          "10:15:00",
          "10:20:00",
          "10:25:00",
          "10:30:00",
          "10:35:00",
          "10:40:00",
          "10:45:00",
          "10:50:00",
          "10:55:00",
          "11:00:00",
          "11:05:00",
          "11:10:00",
          "11:15:00",
          "11:20:00",
          "11:25:00",
          "11:30:00",
          "11:35:00",
          "11:40:00",
          "11:45:00",
          "11:50:00",
          "11:55:00",
          "12:00:00",
          "12:05:00",
          "12:10:00",
          "12:15:00",
          "12:20:00",
          "12:25:00",
          "12:30:00",
          "12:35:00",
          "12:40:00",
          "12:45:00",
          "12:50:00",
          "12:55:00",
          "13:00:00",
          "13:05:00",
          "13:10:00",
          "13:15:00",
          "13:20:00",
          "13:25:00",
          "13:30:00",
          "13:35:00",
          "13:40:00",
          "13:45:00",
          "13:50:00",
          "13:55:00",
          "14:00:00",
          "14:05:00",
          "14:10:00",
          "14:15:00",
          "14:20:00",
          "14:25:00",
          "14:30:00",
          "14:35:00",
          "14:40:00",
          "14:45:00",
          "14:50:00",
          "14:55:00",
          "15:00:00",
          "15:05:00",
          "15:10:00",
          "15:15:00",
          "15:20:00",
          "15:25:00",
          "15:30:00",
          "15:35:00",
          "15:40:00",
          "15:45:00",
          "15:50:00",
          "15:55:00"
         ],
         "xaxis": "x",
         "y": [
          0.15789473684210525,
          0.1794871794871795,
          0.20765027322404372,
          0.26693227091633465,
          0.30030959752321984,
          0.3383838383838384,
          0.3594080338266385,
          0.37613019891500904,
          0.3952755905511811,
          0.4083333333333333,
          0.4230769230769231,
          0.43673012318029114,
          0.4526958290946083,
          0.4623955431754875,
          0.4739538855678907,
          0.4881516587677725,
          0.499266862170088,
          0.5095628415300546,
          0.518542199488491,
          0.5264423076923077,
          0.5331444759206799,
          0.5433618843683083,
          0.5534718702483528,
          0.5632515632515632,
          0.5733882030178327,
          0.5833696125380932,
          0.5927770859277709,
          0.6008719778042013,
          0.6078059871163319,
          0.615021770682148,
          0.6214335421016005,
          0.6279225116900468,
          0.6348747591522158,
          0.6409147095179234,
          0.6462179868969625,
          0.6512496409077851,
          0.6552967276760954,
          0.658987409590142,
          0.6644225789746245,
          0.6693386773547094,
          0.6749150897622513,
          0.6803857008466604,
          0.6865160848733745,
          0.691762621789194,
          0.6974392080912417,
          0.7023411371237458,
          0.70729230144221,
          0.7120853080568721,
          0.7157672364125216,
          0.7193572496263079,
          0.7226768503364248,
          0.7260977337110481,
          0.7289655172413793,
          0.7321908602150538,
          0.7357563850687623,
          0.7399425287356322,
          0.743537838679539,
          0.7468854451534488,
          0.7503708098487096,
          0.7541292379020573,
          0.7575757575757576,
          0.7614564585352347,
          0.7655742145178764,
          0.7694142592101776,
          0.7730220492866408,
          0.7767335534671069,
          0.7801268498942917,
          0.7836784409257004,
          0.786711201240606,
          0.7895536340266417,
          0.7925111645482652,
          0.7953550992931673,
          0.7985050016488953,
          0.8021102497846684,
          0.8064651995366958
         ],
         "yaxis": "y"
        }
       ],
       "layout": {
        "legend": {
         "title": {
          "text": "variable"
         },
         "tracegroupgap": 0
        },
        "template": {
         "data": {
          "bar": [
           {
            "error_x": {
             "color": "#2a3f5f"
            },
            "error_y": {
             "color": "#2a3f5f"
            },
            "marker": {
             "line": {
              "color": "#E5ECF6",
              "width": 0.5
             },
             "pattern": {
              "fillmode": "overlay",
              "size": 10,
              "solidity": 0.2
             }
            },
            "type": "bar"
           }
          ],
          "barpolar": [
           {
            "marker": {
             "line": {
              "color": "#E5ECF6",
              "width": 0.5
             },
             "pattern": {
              "fillmode": "overlay",
              "size": 10,
              "solidity": 0.2
             }
            },
            "type": "barpolar"
           }
          ],
          "carpet": [
           {
            "aaxis": {
             "endlinecolor": "#2a3f5f",
             "gridcolor": "white",
             "linecolor": "white",
             "minorgridcolor": "white",
             "startlinecolor": "#2a3f5f"
            },
            "baxis": {
             "endlinecolor": "#2a3f5f",
             "gridcolor": "white",
             "linecolor": "white",
             "minorgridcolor": "white",
             "startlinecolor": "#2a3f5f"
            },
            "type": "carpet"
           }
          ],
          "choropleth": [
           {
            "colorbar": {
             "outlinewidth": 0,
             "ticks": ""
            },
            "type": "choropleth"
           }
          ],
          "contour": [
           {
            "colorbar": {
             "outlinewidth": 0,
             "ticks": ""
            },
            "colorscale": [
             [
              0,
              "#0d0887"
             ],
             [
              0.1111111111111111,
              "#46039f"
             ],
             [
              0.2222222222222222,
              "#7201a8"
             ],
             [
              0.3333333333333333,
              "#9c179e"
             ],
             [
              0.4444444444444444,
              "#bd3786"
             ],
             [
              0.5555555555555556,
              "#d8576b"
             ],
             [
              0.6666666666666666,
              "#ed7953"
             ],
             [
              0.7777777777777778,
              "#fb9f3a"
             ],
             [
              0.8888888888888888,
              "#fdca26"
             ],
             [
              1,
              "#f0f921"
             ]
            ],
            "type": "contour"
           }
          ],
          "contourcarpet": [
           {
            "colorbar": {
             "outlinewidth": 0,
             "ticks": ""
            },
            "type": "contourcarpet"
           }
          ],
          "heatmap": [
           {
            "colorbar": {
             "outlinewidth": 0,
             "ticks": ""
            },
            "colorscale": [
             [
              0,
              "#0d0887"
             ],
             [
              0.1111111111111111,
              "#46039f"
             ],
             [
              0.2222222222222222,
              "#7201a8"
             ],
             [
              0.3333333333333333,
              "#9c179e"
             ],
             [
              0.4444444444444444,
              "#bd3786"
             ],
             [
              0.5555555555555556,
              "#d8576b"
             ],
             [
              0.6666666666666666,
              "#ed7953"
             ],
             [
              0.7777777777777778,
              "#fb9f3a"
             ],
             [
              0.8888888888888888,
              "#fdca26"
             ],
             [
              1,
              "#f0f921"
             ]
            ],
            "type": "heatmap"
           }
          ],
          "heatmapgl": [
           {
            "colorbar": {
             "outlinewidth": 0,
             "ticks": ""
            },
            "colorscale": [
             [
              0,
              "#0d0887"
             ],
             [
              0.1111111111111111,
              "#46039f"
             ],
             [
              0.2222222222222222,
              "#7201a8"
             ],
             [
              0.3333333333333333,
              "#9c179e"
             ],
             [
              0.4444444444444444,
              "#bd3786"
             ],
             [
              0.5555555555555556,
              "#d8576b"
             ],
             [
              0.6666666666666666,
              "#ed7953"
             ],
             [
              0.7777777777777778,
              "#fb9f3a"
             ],
             [
              0.8888888888888888,
              "#fdca26"
             ],
             [
              1,
              "#f0f921"
             ]
            ],
            "type": "heatmapgl"
           }
          ],
          "histogram": [
           {
            "marker": {
             "pattern": {
              "fillmode": "overlay",
              "size": 10,
              "solidity": 0.2
             }
            },
            "type": "histogram"
           }
          ],
          "histogram2d": [
           {
            "colorbar": {
             "outlinewidth": 0,
             "ticks": ""
            },
            "colorscale": [
             [
              0,
              "#0d0887"
             ],
             [
              0.1111111111111111,
              "#46039f"
             ],
             [
              0.2222222222222222,
              "#7201a8"
             ],
             [
              0.3333333333333333,
              "#9c179e"
             ],
             [
              0.4444444444444444,
              "#bd3786"
             ],
             [
              0.5555555555555556,
              "#d8576b"
             ],
             [
              0.6666666666666666,
              "#ed7953"
             ],
             [
              0.7777777777777778,
              "#fb9f3a"
             ],
             [
              0.8888888888888888,
              "#fdca26"
             ],
             [
              1,
              "#f0f921"
             ]
            ],
            "type": "histogram2d"
           }
          ],
          "histogram2dcontour": [
           {
            "colorbar": {
             "outlinewidth": 0,
             "ticks": ""
            },
            "colorscale": [
             [
              0,
              "#0d0887"
             ],
             [
              0.1111111111111111,
              "#46039f"
             ],
             [
              0.2222222222222222,
              "#7201a8"
             ],
             [
              0.3333333333333333,
              "#9c179e"
             ],
             [
              0.4444444444444444,
              "#bd3786"
             ],
             [
              0.5555555555555556,
              "#d8576b"
             ],
             [
              0.6666666666666666,
              "#ed7953"
             ],
             [
              0.7777777777777778,
              "#fb9f3a"
             ],
             [
              0.8888888888888888,
              "#fdca26"
             ],
             [
              1,
              "#f0f921"
             ]
            ],
            "type": "histogram2dcontour"
           }
          ],
          "mesh3d": [
           {
            "colorbar": {
             "outlinewidth": 0,
             "ticks": ""
            },
            "type": "mesh3d"
           }
          ],
          "parcoords": [
           {
            "line": {
             "colorbar": {
              "outlinewidth": 0,
              "ticks": ""
             }
            },
            "type": "parcoords"
           }
          ],
          "pie": [
           {
            "automargin": true,
            "type": "pie"
           }
          ],
          "scatter": [
           {
            "fillpattern": {
             "fillmode": "overlay",
             "size": 10,
             "solidity": 0.2
            },
            "type": "scatter"
           }
          ],
          "scatter3d": [
           {
            "line": {
             "colorbar": {
              "outlinewidth": 0,
              "ticks": ""
             }
            },
            "marker": {
             "colorbar": {
              "outlinewidth": 0,
              "ticks": ""
             }
            },
            "type": "scatter3d"
           }
          ],
          "scattercarpet": [
           {
            "marker": {
             "colorbar": {
              "outlinewidth": 0,
              "ticks": ""
             }
            },
            "type": "scattercarpet"
           }
          ],
          "scattergeo": [
           {
            "marker": {
             "colorbar": {
              "outlinewidth": 0,
              "ticks": ""
             }
            },
            "type": "scattergeo"
           }
          ],
          "scattergl": [
           {
            "marker": {
             "colorbar": {
              "outlinewidth": 0,
              "ticks": ""
             }
            },
            "type": "scattergl"
           }
          ],
          "scattermapbox": [
           {
            "marker": {
             "colorbar": {
              "outlinewidth": 0,
              "ticks": ""
             }
            },
            "type": "scattermapbox"
           }
          ],
          "scatterpolar": [
           {
            "marker": {
             "colorbar": {
              "outlinewidth": 0,
              "ticks": ""
             }
            },
            "type": "scatterpolar"
           }
          ],
          "scatterpolargl": [
           {
            "marker": {
             "colorbar": {
              "outlinewidth": 0,
              "ticks": ""
             }
            },
            "type": "scatterpolargl"
           }
          ],
          "scatterternary": [
           {
            "marker": {
             "colorbar": {
              "outlinewidth": 0,
              "ticks": ""
             }
            },
            "type": "scatterternary"
           }
          ],
          "surface": [
           {
            "colorbar": {
             "outlinewidth": 0,
             "ticks": ""
            },
            "colorscale": [
             [
              0,
              "#0d0887"
             ],
             [
              0.1111111111111111,
              "#46039f"
             ],
             [
              0.2222222222222222,
              "#7201a8"
             ],
             [
              0.3333333333333333,
              "#9c179e"
             ],
             [
              0.4444444444444444,
              "#bd3786"
             ],
             [
              0.5555555555555556,
              "#d8576b"
             ],
             [
              0.6666666666666666,
              "#ed7953"
             ],
             [
              0.7777777777777778,
              "#fb9f3a"
             ],
             [
              0.8888888888888888,
              "#fdca26"
             ],
             [
              1,
              "#f0f921"
             ]
            ],
            "type": "surface"
           }
          ],
          "table": [
           {
            "cells": {
             "fill": {
              "color": "#EBF0F8"
             },
             "line": {
              "color": "white"
             }
            },
            "header": {
             "fill": {
              "color": "#C8D4E3"
             },
             "line": {
              "color": "white"
             }
            },
            "type": "table"
           }
          ]
         },
         "layout": {
          "annotationdefaults": {
           "arrowcolor": "#2a3f5f",
           "arrowhead": 0,
           "arrowwidth": 1
          },
          "autotypenumbers": "strict",
          "coloraxis": {
           "colorbar": {
            "outlinewidth": 0,
            "ticks": ""
           }
          },
          "colorscale": {
           "diverging": [
            [
             0,
             "#8e0152"
            ],
            [
             0.1,
             "#c51b7d"
            ],
            [
             0.2,
             "#de77ae"
            ],
            [
             0.3,
             "#f1b6da"
            ],
            [
             0.4,
             "#fde0ef"
            ],
            [
             0.5,
             "#f7f7f7"
            ],
            [
             0.6,
             "#e6f5d0"
            ],
            [
             0.7,
             "#b8e186"
            ],
            [
             0.8,
             "#7fbc41"
            ],
            [
             0.9,
             "#4d9221"
            ],
            [
             1,
             "#276419"
            ]
           ],
           "sequential": [
            [
             0,
             "#0d0887"
            ],
            [
             0.1111111111111111,
             "#46039f"
            ],
            [
             0.2222222222222222,
             "#7201a8"
            ],
            [
             0.3333333333333333,
             "#9c179e"
            ],
            [
             0.4444444444444444,
             "#bd3786"
            ],
            [
             0.5555555555555556,
             "#d8576b"
            ],
            [
             0.6666666666666666,
             "#ed7953"
            ],
            [
             0.7777777777777778,
             "#fb9f3a"
            ],
            [
             0.8888888888888888,
             "#fdca26"
            ],
            [
             1,
             "#f0f921"
            ]
           ],
           "sequentialminus": [
            [
             0,
             "#0d0887"
            ],
            [
             0.1111111111111111,
             "#46039f"
            ],
            [
             0.2222222222222222,
             "#7201a8"
            ],
            [
             0.3333333333333333,
             "#9c179e"
            ],
            [
             0.4444444444444444,
             "#bd3786"
            ],
            [
             0.5555555555555556,
             "#d8576b"
            ],
            [
             0.6666666666666666,
             "#ed7953"
            ],
            [
             0.7777777777777778,
             "#fb9f3a"
            ],
            [
             0.8888888888888888,
             "#fdca26"
            ],
            [
             1,
             "#f0f921"
            ]
           ]
          },
          "colorway": [
           "#636efa",
           "#EF553B",
           "#00cc96",
           "#ab63fa",
           "#FFA15A",
           "#19d3f3",
           "#FF6692",
           "#B6E880",
           "#FF97FF",
           "#FECB52"
          ],
          "font": {
           "color": "#2a3f5f"
          },
          "geo": {
           "bgcolor": "white",
           "lakecolor": "white",
           "landcolor": "#E5ECF6",
           "showlakes": true,
           "showland": true,
           "subunitcolor": "white"
          },
          "hoverlabel": {
           "align": "left"
          },
          "hovermode": "closest",
          "mapbox": {
           "style": "light"
          },
          "paper_bgcolor": "white",
          "plot_bgcolor": "#E5ECF6",
          "polar": {
           "angularaxis": {
            "gridcolor": "white",
            "linecolor": "white",
            "ticks": ""
           },
           "bgcolor": "#E5ECF6",
           "radialaxis": {
            "gridcolor": "white",
            "linecolor": "white",
            "ticks": ""
           }
          },
          "scene": {
           "xaxis": {
            "backgroundcolor": "#E5ECF6",
            "gridcolor": "white",
            "gridwidth": 2,
            "linecolor": "white",
            "showbackground": true,
            "ticks": "",
            "zerolinecolor": "white"
           },
           "yaxis": {
            "backgroundcolor": "#E5ECF6",
            "gridcolor": "white",
            "gridwidth": 2,
            "linecolor": "white",
            "showbackground": true,
            "ticks": "",
            "zerolinecolor": "white"
           },
           "zaxis": {
            "backgroundcolor": "#E5ECF6",
            "gridcolor": "white",
            "gridwidth": 2,
            "linecolor": "white",
            "showbackground": true,
            "ticks": "",
            "zerolinecolor": "white"
           }
          },
          "shapedefaults": {
           "line": {
            "color": "#2a3f5f"
           }
          },
          "ternary": {
           "aaxis": {
            "gridcolor": "white",
            "linecolor": "white",
            "ticks": ""
           },
           "baxis": {
            "gridcolor": "white",
            "linecolor": "white",
            "ticks": ""
           },
           "bgcolor": "#E5ECF6",
           "caxis": {
            "gridcolor": "white",
            "linecolor": "white",
            "ticks": ""
           }
          },
          "title": {
           "x": 0.05
          },
          "xaxis": {
           "automargin": true,
           "gridcolor": "white",
           "linecolor": "white",
           "ticks": "",
           "title": {
            "standoff": 15
           },
           "zerolinecolor": "white",
           "zerolinewidth": 2
          },
          "yaxis": {
           "automargin": true,
           "gridcolor": "white",
           "linecolor": "white",
           "ticks": "",
           "title": {
            "standoff": 15
           },
           "zerolinecolor": "white",
           "zerolinewidth": 2
          }
         }
        },
        "title": {
         "text": "Validation Metrics Over Time (LOD Model CV)"
        },
        "xaxis": {
         "anchor": "y",
         "domain": [
          0,
          1
         ],
         "title": {
          "text": "index"
         }
        },
        "yaxis": {
         "anchor": "x",
         "domain": [
          0,
          1
         ],
         "title": {
          "text": "value"
         }
        }
       }
      }
     },
     "metadata": {},
     "output_type": "display_data"
    }
   ],
   "source": [
    "import datetime\n",
    "import plotly.express as px\n",
    "\n",
    "time_range = [datetime.time(hour, minute) for hour in range(9, 16) for minute in range(0, 60, 5)]\n",
    "time_range = [x for x in time_range if x >= datetime.time(9,45)]\n",
    "df_val = pd.DataFrame()\n",
    "for t in time_range:\n",
    "    X_val = X_test.loc[X_test['time'] <= t].copy()\n",
    "    y_val = y_test.loc[X_val.index, 'lod_in'].copy()\n",
    "\n",
    "    y_pred_val = lod_model_cv.predict_proba(X_val)[:,-1]\n",
    "\n",
    "    df_val.loc[t, [\n",
    "        'roc_auc',\n",
    "        'precision',\n",
    "        'recall'\n",
    "    ]] =  roc_auc_score(y_val, y_pred_val), precision_score(y_val, y_pred_val > 0.5), recall_score(y_val, y_pred_val > 0.5)\n",
    "\n",
    "\n",
    "fig = px.line(df_val, title='Validation Metrics Over Time (LOD Model CV)')\n",
    "fig.show()"
   ]
  },
  {
   "cell_type": "code",
   "execution_count": 109,
   "metadata": {},
   "outputs": [
    {
     "data": {
      "application/vnd.plotly.v1+json": {
       "config": {
        "plotlyServerURL": "https://plot.ly"
       },
       "data": [
        {
         "hovertemplate": "variable=roc_auc<br>index=%{x}<br>value=%{y}<extra></extra>",
         "legendgroup": "roc_auc",
         "line": {
          "color": "#636efa",
          "dash": "solid"
         },
         "marker": {
          "symbol": "circle"
         },
         "mode": "lines",
         "name": "roc_auc",
         "orientation": "v",
         "showlegend": true,
         "type": "scatter",
         "x": [
          "09:45:00",
          "09:50:00",
          "09:55:00",
          "10:00:00",
          "10:05:00",
          "10:10:00",
          "10:15:00",
          "10:20:00",
          "10:25:00",
          "10:30:00",
          "10:35:00",
          "10:40:00",
          "10:45:00",
          "10:50:00",
          "10:55:00",
          "11:00:00",
          "11:05:00",
          "11:10:00",
          "11:15:00",
          "11:20:00",
          "11:25:00",
          "11:30:00",
          "11:35:00",
          "11:40:00",
          "11:45:00",
          "11:50:00",
          "11:55:00",
          "12:00:00",
          "12:05:00",
          "12:10:00",
          "12:15:00",
          "12:20:00",
          "12:25:00",
          "12:30:00",
          "12:35:00",
          "12:40:00",
          "12:45:00",
          "12:50:00",
          "12:55:00",
          "13:00:00",
          "13:05:00",
          "13:10:00",
          "13:15:00",
          "13:20:00",
          "13:25:00",
          "13:30:00",
          "13:35:00",
          "13:40:00",
          "13:45:00",
          "13:50:00",
          "13:55:00",
          "14:00:00",
          "14:05:00",
          "14:10:00",
          "14:15:00",
          "14:20:00",
          "14:25:00",
          "14:30:00",
          "14:35:00",
          "14:40:00",
          "14:45:00",
          "14:50:00",
          "14:55:00",
          "15:00:00",
          "15:05:00",
          "15:10:00",
          "15:15:00",
          "15:20:00",
          "15:25:00",
          "15:30:00",
          "15:35:00",
          "15:40:00",
          "15:45:00",
          "15:50:00",
          "15:55:00"
         ],
         "xaxis": "x",
         "y": [
          0.7766483516483516,
          0.7744734432234432,
          0.7762718762718762,
          0.7800652472527473,
          0.7839340659340659,
          0.7886357855107855,
          0.7929870299768259,
          0.7980561755952381,
          0.8025838873061095,
          0.8072999084249084,
          0.8107880755608029,
          0.814175379019129,
          0.8171784576370376,
          0.819209977947223,
          0.8210968660968662,
          0.8235315790979854,
          0.8260954155417822,
          0.8287339460950572,
          0.8312477803821294,
          0.8333526785714285,
          0.8358572549899079,
          0.8382459396663943,
          0.8401800861394433,
          0.8421928259818885,
          0.8439819047619047,
          0.8457905937750613,
          0.8469221850394691,
          0.847706359329446,
          0.8480856885880668,
          0.8485583536833537,
          0.8489533662660614,
          0.8492601108201695,
          0.8497587849860578,
          0.8503508926194911,
          0.8508657023248861,
          0.8513075947971781,
          0.8520477300882706,
          0.8525125757206782,
          0.8529554792128756,
          0.8534916723901099,
          0.8541583862300698,
          0.8547722095553728,
          0.8554073135265672,
          0.8561228307677172,
          0.8568083371899599,
          0.8577560453072797,
          0.8589616393470653,
          0.8601005598625991,
          0.8613334324125966,
          0.8624428527384439,
          0.8634773494169268,
          0.864630047812085,
          0.8655994419413494,
          0.8668448553510474,
          0.8680422328849141,
          0.8691950594574904,
          0.8705054724400595,
          0.8720140568086673,
          0.8735077952534787,
          0.8750636388765833,
          0.8767710354108319,
          0.8783648415795395,
          0.8801187260863303,
          0.8819244112695969,
          0.883772668981905,
          0.8854885223109167,
          0.8872296353828656,
          0.8889006555034571,
          0.8905926942432624,
          0.8923262414227969,
          0.8941063502692161,
          0.8959573001579407,
          0.8977736441789932,
          0.8997660445058699,
          0.9020552487002873
         ],
         "yaxis": "y"
        },
        {
         "hovertemplate": "variable=precision<br>index=%{x}<br>value=%{y}<extra></extra>",
         "legendgroup": "precision",
         "line": {
          "color": "#EF553B",
          "dash": "solid"
         },
         "marker": {
          "symbol": "circle"
         },
         "mode": "lines",
         "name": "precision",
         "orientation": "v",
         "showlegend": true,
         "type": "scatter",
         "x": [
          "09:45:00",
          "09:50:00",
          "09:55:00",
          "10:00:00",
          "10:05:00",
          "10:10:00",
          "10:15:00",
          "10:20:00",
          "10:25:00",
          "10:30:00",
          "10:35:00",
          "10:40:00",
          "10:45:00",
          "10:50:00",
          "10:55:00",
          "11:00:00",
          "11:05:00",
          "11:10:00",
          "11:15:00",
          "11:20:00",
          "11:25:00",
          "11:30:00",
          "11:35:00",
          "11:40:00",
          "11:45:00",
          "11:50:00",
          "11:55:00",
          "12:00:00",
          "12:05:00",
          "12:10:00",
          "12:15:00",
          "12:20:00",
          "12:25:00",
          "12:30:00",
          "12:35:00",
          "12:40:00",
          "12:45:00",
          "12:50:00",
          "12:55:00",
          "13:00:00",
          "13:05:00",
          "13:10:00",
          "13:15:00",
          "13:20:00",
          "13:25:00",
          "13:30:00",
          "13:35:00",
          "13:40:00",
          "13:45:00",
          "13:50:00",
          "13:55:00",
          "14:00:00",
          "14:05:00",
          "14:10:00",
          "14:15:00",
          "14:20:00",
          "14:25:00",
          "14:30:00",
          "14:35:00",
          "14:40:00",
          "14:45:00",
          "14:50:00",
          "14:55:00",
          "15:00:00",
          "15:05:00",
          "15:10:00",
          "15:15:00",
          "15:20:00",
          "15:25:00",
          "15:30:00",
          "15:35:00",
          "15:40:00",
          "15:45:00",
          "15:50:00",
          "15:55:00"
         ],
         "xaxis": "x",
         "y": [
          0.7807017543859649,
          0.771551724137931,
          0.7727272727272727,
          0.7693920335429769,
          0.7734899328859061,
          0.7736111111111111,
          0.7722419928825622,
          0.7724922440537746,
          0.7753222836095764,
          0.7785179017485429,
          0.7810831426392068,
          0.782608695652174,
          0.7844155844155845,
          0.7864488808227466,
          0.7867647058823529,
          0.7874933757286698,
          0.7889497262319562,
          0.7913533834586466,
          0.7933184855233854,
          0.7940803382663848,
          0.7953263497179693,
          0.7968449403616775,
          0.7974963181148749,
          0.7990109501942776,
          0.7993900372754998,
          0.8,
          0.8007518796992481,
          0.8006634499396864,
          0.8011065812463599,
          0.8015761328454827,
          0.8014685885232526,
          0.8016332982086407,
          0.8020434227330779,
          0.8023774145616642,
          0.80235633565761,
          0.8031367041198502,
          0.8038277511961722,
          0.8042609853528628,
          0.8044982698961938,
          0.8048523206751055,
          0.8055612770339856,
          0.8063543132917755,
          0.8066037735849056,
          0.8068422064193734,
          0.807294604248919,
          0.8079896907216495,
          0.8090515686981609,
          0.8098603993638452,
          0.8106703620301403,
          0.8115868161739721,
          0.8127397031849258,
          0.8137592137592138,
          0.8147134578235673,
          0.8157936382338977,
          0.8168093385214008,
          0.817694780345936,
          0.8188253012048192,
          0.8202163924707278,
          0.8213243873978997,
          0.8225667527993109,
          0.823911814584511,
          0.8250104326053693,
          0.8262595837897043,
          0.8275769023205612,
          0.8290768821495078,
          0.8302950819672131,
          0.8315013578171473,
          0.8326530612244898,
          0.8341936296109782,
          0.8357967954291392,
          0.8375229920294298,
          0.8394867449461324,
          0.841319154020791,
          0.8432783018867924,
          0.8454111899499825
         ],
         "yaxis": "y"
        },
        {
         "hovertemplate": "variable=recall<br>index=%{x}<br>value=%{y}<extra></extra>",
         "legendgroup": "recall",
         "line": {
          "color": "#00cc96",
          "dash": "solid"
         },
         "marker": {
          "symbol": "circle"
         },
         "mode": "lines",
         "name": "recall",
         "orientation": "v",
         "showlegend": true,
         "type": "scatter",
         "x": [
          "09:45:00",
          "09:50:00",
          "09:55:00",
          "10:00:00",
          "10:05:00",
          "10:10:00",
          "10:15:00",
          "10:20:00",
          "10:25:00",
          "10:30:00",
          "10:35:00",
          "10:40:00",
          "10:45:00",
          "10:50:00",
          "10:55:00",
          "11:00:00",
          "11:05:00",
          "11:10:00",
          "11:15:00",
          "11:20:00",
          "11:25:00",
          "11:30:00",
          "11:35:00",
          "11:40:00",
          "11:45:00",
          "11:50:00",
          "11:55:00",
          "12:00:00",
          "12:05:00",
          "12:10:00",
          "12:15:00",
          "12:20:00",
          "12:25:00",
          "12:30:00",
          "12:35:00",
          "12:40:00",
          "12:45:00",
          "12:50:00",
          "12:55:00",
          "13:00:00",
          "13:05:00",
          "13:10:00",
          "13:15:00",
          "13:20:00",
          "13:25:00",
          "13:30:00",
          "13:35:00",
          "13:40:00",
          "13:45:00",
          "13:50:00",
          "13:55:00",
          "14:00:00",
          "14:05:00",
          "14:10:00",
          "14:15:00",
          "14:20:00",
          "14:25:00",
          "14:30:00",
          "14:35:00",
          "14:40:00",
          "14:45:00",
          "14:50:00",
          "14:55:00",
          "15:00:00",
          "15:05:00",
          "15:10:00",
          "15:15:00",
          "15:20:00",
          "15:25:00",
          "15:30:00",
          "15:35:00",
          "15:40:00",
          "15:45:00",
          "15:50:00",
          "15:55:00"
         ],
         "xaxis": "x",
         "y": [
          0.7416666666666667,
          0.7458333333333333,
          0.7555555555555555,
          0.7645833333333333,
          0.7683333333333333,
          0.7736111111111111,
          0.775,
          0.778125,
          0.7796296296296297,
          0.7791666666666667,
          0.7757575757575758,
          0.775,
          0.7743589743589744,
          0.7738095238095238,
          0.7727777777777778,
          0.7739583333333333,
          0.7769607843137255,
          0.7796296296296297,
          0.781140350877193,
          0.7825,
          0.7833333333333333,
          0.7844696969696969,
          0.7847826086956522,
          0.7854166666666667,
          0.7863333333333333,
          0.7871794871794872,
          0.7888888888888889,
          0.7901785714285714,
          0.7905172413793103,
          0.7911111111111111,
          0.7922043010752688,
          0.7924479166666667,
          0.7929292929292929,
          0.7941176470588235,
          0.7945238095238095,
          0.794212962962963,
          0.7945945945945946,
          0.7947368421052632,
          0.7948717948717948,
          0.7947916666666667,
          0.7949186991869919,
          0.7956349206349206,
          0.7953488372093023,
          0.7950757575757575,
          0.7954798073360504,
          0.7956852791878173,
          0.7964146254881079,
          0.7967663421418637,
          0.797274275979557,
          0.7977621910487642,
          0.7982312479528333,
          0.7982005141388174,
          0.7980132450331126,
          0.7979876160990712,
          0.7976896184830521,
          0.7976705987755711,
          0.7977989728539985,
          0.7982114524736766,
          0.7986101262232308,
          0.7992746547635653,
          0.8000548922739125,
          0.800945307224848,
          0.8022065665293101,
          0.802774505954718,
          0.803325170769429,
          0.8037323854259236,
          0.8042526579111945,
          0.8046345371625786,
          0.8050054671364354,
          0.8059647862019403,
          0.8066611550726349,
          0.807804309842749,
          0.8090313684936229,
          0.8106790613309148,
          0.8130663385166126
         ],
         "yaxis": "y"
        }
       ],
       "layout": {
        "legend": {
         "title": {
          "text": "variable"
         },
         "tracegroupgap": 0
        },
        "template": {
         "data": {
          "bar": [
           {
            "error_x": {
             "color": "#2a3f5f"
            },
            "error_y": {
             "color": "#2a3f5f"
            },
            "marker": {
             "line": {
              "color": "#E5ECF6",
              "width": 0.5
             },
             "pattern": {
              "fillmode": "overlay",
              "size": 10,
              "solidity": 0.2
             }
            },
            "type": "bar"
           }
          ],
          "barpolar": [
           {
            "marker": {
             "line": {
              "color": "#E5ECF6",
              "width": 0.5
             },
             "pattern": {
              "fillmode": "overlay",
              "size": 10,
              "solidity": 0.2
             }
            },
            "type": "barpolar"
           }
          ],
          "carpet": [
           {
            "aaxis": {
             "endlinecolor": "#2a3f5f",
             "gridcolor": "white",
             "linecolor": "white",
             "minorgridcolor": "white",
             "startlinecolor": "#2a3f5f"
            },
            "baxis": {
             "endlinecolor": "#2a3f5f",
             "gridcolor": "white",
             "linecolor": "white",
             "minorgridcolor": "white",
             "startlinecolor": "#2a3f5f"
            },
            "type": "carpet"
           }
          ],
          "choropleth": [
           {
            "colorbar": {
             "outlinewidth": 0,
             "ticks": ""
            },
            "type": "choropleth"
           }
          ],
          "contour": [
           {
            "colorbar": {
             "outlinewidth": 0,
             "ticks": ""
            },
            "colorscale": [
             [
              0,
              "#0d0887"
             ],
             [
              0.1111111111111111,
              "#46039f"
             ],
             [
              0.2222222222222222,
              "#7201a8"
             ],
             [
              0.3333333333333333,
              "#9c179e"
             ],
             [
              0.4444444444444444,
              "#bd3786"
             ],
             [
              0.5555555555555556,
              "#d8576b"
             ],
             [
              0.6666666666666666,
              "#ed7953"
             ],
             [
              0.7777777777777778,
              "#fb9f3a"
             ],
             [
              0.8888888888888888,
              "#fdca26"
             ],
             [
              1,
              "#f0f921"
             ]
            ],
            "type": "contour"
           }
          ],
          "contourcarpet": [
           {
            "colorbar": {
             "outlinewidth": 0,
             "ticks": ""
            },
            "type": "contourcarpet"
           }
          ],
          "heatmap": [
           {
            "colorbar": {
             "outlinewidth": 0,
             "ticks": ""
            },
            "colorscale": [
             [
              0,
              "#0d0887"
             ],
             [
              0.1111111111111111,
              "#46039f"
             ],
             [
              0.2222222222222222,
              "#7201a8"
             ],
             [
              0.3333333333333333,
              "#9c179e"
             ],
             [
              0.4444444444444444,
              "#bd3786"
             ],
             [
              0.5555555555555556,
              "#d8576b"
             ],
             [
              0.6666666666666666,
              "#ed7953"
             ],
             [
              0.7777777777777778,
              "#fb9f3a"
             ],
             [
              0.8888888888888888,
              "#fdca26"
             ],
             [
              1,
              "#f0f921"
             ]
            ],
            "type": "heatmap"
           }
          ],
          "heatmapgl": [
           {
            "colorbar": {
             "outlinewidth": 0,
             "ticks": ""
            },
            "colorscale": [
             [
              0,
              "#0d0887"
             ],
             [
              0.1111111111111111,
              "#46039f"
             ],
             [
              0.2222222222222222,
              "#7201a8"
             ],
             [
              0.3333333333333333,
              "#9c179e"
             ],
             [
              0.4444444444444444,
              "#bd3786"
             ],
             [
              0.5555555555555556,
              "#d8576b"
             ],
             [
              0.6666666666666666,
              "#ed7953"
             ],
             [
              0.7777777777777778,
              "#fb9f3a"
             ],
             [
              0.8888888888888888,
              "#fdca26"
             ],
             [
              1,
              "#f0f921"
             ]
            ],
            "type": "heatmapgl"
           }
          ],
          "histogram": [
           {
            "marker": {
             "pattern": {
              "fillmode": "overlay",
              "size": 10,
              "solidity": 0.2
             }
            },
            "type": "histogram"
           }
          ],
          "histogram2d": [
           {
            "colorbar": {
             "outlinewidth": 0,
             "ticks": ""
            },
            "colorscale": [
             [
              0,
              "#0d0887"
             ],
             [
              0.1111111111111111,
              "#46039f"
             ],
             [
              0.2222222222222222,
              "#7201a8"
             ],
             [
              0.3333333333333333,
              "#9c179e"
             ],
             [
              0.4444444444444444,
              "#bd3786"
             ],
             [
              0.5555555555555556,
              "#d8576b"
             ],
             [
              0.6666666666666666,
              "#ed7953"
             ],
             [
              0.7777777777777778,
              "#fb9f3a"
             ],
             [
              0.8888888888888888,
              "#fdca26"
             ],
             [
              1,
              "#f0f921"
             ]
            ],
            "type": "histogram2d"
           }
          ],
          "histogram2dcontour": [
           {
            "colorbar": {
             "outlinewidth": 0,
             "ticks": ""
            },
            "colorscale": [
             [
              0,
              "#0d0887"
             ],
             [
              0.1111111111111111,
              "#46039f"
             ],
             [
              0.2222222222222222,
              "#7201a8"
             ],
             [
              0.3333333333333333,
              "#9c179e"
             ],
             [
              0.4444444444444444,
              "#bd3786"
             ],
             [
              0.5555555555555556,
              "#d8576b"
             ],
             [
              0.6666666666666666,
              "#ed7953"
             ],
             [
              0.7777777777777778,
              "#fb9f3a"
             ],
             [
              0.8888888888888888,
              "#fdca26"
             ],
             [
              1,
              "#f0f921"
             ]
            ],
            "type": "histogram2dcontour"
           }
          ],
          "mesh3d": [
           {
            "colorbar": {
             "outlinewidth": 0,
             "ticks": ""
            },
            "type": "mesh3d"
           }
          ],
          "parcoords": [
           {
            "line": {
             "colorbar": {
              "outlinewidth": 0,
              "ticks": ""
             }
            },
            "type": "parcoords"
           }
          ],
          "pie": [
           {
            "automargin": true,
            "type": "pie"
           }
          ],
          "scatter": [
           {
            "fillpattern": {
             "fillmode": "overlay",
             "size": 10,
             "solidity": 0.2
            },
            "type": "scatter"
           }
          ],
          "scatter3d": [
           {
            "line": {
             "colorbar": {
              "outlinewidth": 0,
              "ticks": ""
             }
            },
            "marker": {
             "colorbar": {
              "outlinewidth": 0,
              "ticks": ""
             }
            },
            "type": "scatter3d"
           }
          ],
          "scattercarpet": [
           {
            "marker": {
             "colorbar": {
              "outlinewidth": 0,
              "ticks": ""
             }
            },
            "type": "scattercarpet"
           }
          ],
          "scattergeo": [
           {
            "marker": {
             "colorbar": {
              "outlinewidth": 0,
              "ticks": ""
             }
            },
            "type": "scattergeo"
           }
          ],
          "scattergl": [
           {
            "marker": {
             "colorbar": {
              "outlinewidth": 0,
              "ticks": ""
             }
            },
            "type": "scattergl"
           }
          ],
          "scattermapbox": [
           {
            "marker": {
             "colorbar": {
              "outlinewidth": 0,
              "ticks": ""
             }
            },
            "type": "scattermapbox"
           }
          ],
          "scatterpolar": [
           {
            "marker": {
             "colorbar": {
              "outlinewidth": 0,
              "ticks": ""
             }
            },
            "type": "scatterpolar"
           }
          ],
          "scatterpolargl": [
           {
            "marker": {
             "colorbar": {
              "outlinewidth": 0,
              "ticks": ""
             }
            },
            "type": "scatterpolargl"
           }
          ],
          "scatterternary": [
           {
            "marker": {
             "colorbar": {
              "outlinewidth": 0,
              "ticks": ""
             }
            },
            "type": "scatterternary"
           }
          ],
          "surface": [
           {
            "colorbar": {
             "outlinewidth": 0,
             "ticks": ""
            },
            "colorscale": [
             [
              0,
              "#0d0887"
             ],
             [
              0.1111111111111111,
              "#46039f"
             ],
             [
              0.2222222222222222,
              "#7201a8"
             ],
             [
              0.3333333333333333,
              "#9c179e"
             ],
             [
              0.4444444444444444,
              "#bd3786"
             ],
             [
              0.5555555555555556,
              "#d8576b"
             ],
             [
              0.6666666666666666,
              "#ed7953"
             ],
             [
              0.7777777777777778,
              "#fb9f3a"
             ],
             [
              0.8888888888888888,
              "#fdca26"
             ],
             [
              1,
              "#f0f921"
             ]
            ],
            "type": "surface"
           }
          ],
          "table": [
           {
            "cells": {
             "fill": {
              "color": "#EBF0F8"
             },
             "line": {
              "color": "white"
             }
            },
            "header": {
             "fill": {
              "color": "#C8D4E3"
             },
             "line": {
              "color": "white"
             }
            },
            "type": "table"
           }
          ]
         },
         "layout": {
          "annotationdefaults": {
           "arrowcolor": "#2a3f5f",
           "arrowhead": 0,
           "arrowwidth": 1
          },
          "autotypenumbers": "strict",
          "coloraxis": {
           "colorbar": {
            "outlinewidth": 0,
            "ticks": ""
           }
          },
          "colorscale": {
           "diverging": [
            [
             0,
             "#8e0152"
            ],
            [
             0.1,
             "#c51b7d"
            ],
            [
             0.2,
             "#de77ae"
            ],
            [
             0.3,
             "#f1b6da"
            ],
            [
             0.4,
             "#fde0ef"
            ],
            [
             0.5,
             "#f7f7f7"
            ],
            [
             0.6,
             "#e6f5d0"
            ],
            [
             0.7,
             "#b8e186"
            ],
            [
             0.8,
             "#7fbc41"
            ],
            [
             0.9,
             "#4d9221"
            ],
            [
             1,
             "#276419"
            ]
           ],
           "sequential": [
            [
             0,
             "#0d0887"
            ],
            [
             0.1111111111111111,
             "#46039f"
            ],
            [
             0.2222222222222222,
             "#7201a8"
            ],
            [
             0.3333333333333333,
             "#9c179e"
            ],
            [
             0.4444444444444444,
             "#bd3786"
            ],
            [
             0.5555555555555556,
             "#d8576b"
            ],
            [
             0.6666666666666666,
             "#ed7953"
            ],
            [
             0.7777777777777778,
             "#fb9f3a"
            ],
            [
             0.8888888888888888,
             "#fdca26"
            ],
            [
             1,
             "#f0f921"
            ]
           ],
           "sequentialminus": [
            [
             0,
             "#0d0887"
            ],
            [
             0.1111111111111111,
             "#46039f"
            ],
            [
             0.2222222222222222,
             "#7201a8"
            ],
            [
             0.3333333333333333,
             "#9c179e"
            ],
            [
             0.4444444444444444,
             "#bd3786"
            ],
            [
             0.5555555555555556,
             "#d8576b"
            ],
            [
             0.6666666666666666,
             "#ed7953"
            ],
            [
             0.7777777777777778,
             "#fb9f3a"
            ],
            [
             0.8888888888888888,
             "#fdca26"
            ],
            [
             1,
             "#f0f921"
            ]
           ]
          },
          "colorway": [
           "#636efa",
           "#EF553B",
           "#00cc96",
           "#ab63fa",
           "#FFA15A",
           "#19d3f3",
           "#FF6692",
           "#B6E880",
           "#FF97FF",
           "#FECB52"
          ],
          "font": {
           "color": "#2a3f5f"
          },
          "geo": {
           "bgcolor": "white",
           "lakecolor": "white",
           "landcolor": "#E5ECF6",
           "showlakes": true,
           "showland": true,
           "subunitcolor": "white"
          },
          "hoverlabel": {
           "align": "left"
          },
          "hovermode": "closest",
          "mapbox": {
           "style": "light"
          },
          "paper_bgcolor": "white",
          "plot_bgcolor": "#E5ECF6",
          "polar": {
           "angularaxis": {
            "gridcolor": "white",
            "linecolor": "white",
            "ticks": ""
           },
           "bgcolor": "#E5ECF6",
           "radialaxis": {
            "gridcolor": "white",
            "linecolor": "white",
            "ticks": ""
           }
          },
          "scene": {
           "xaxis": {
            "backgroundcolor": "#E5ECF6",
            "gridcolor": "white",
            "gridwidth": 2,
            "linecolor": "white",
            "showbackground": true,
            "ticks": "",
            "zerolinecolor": "white"
           },
           "yaxis": {
            "backgroundcolor": "#E5ECF6",
            "gridcolor": "white",
            "gridwidth": 2,
            "linecolor": "white",
            "showbackground": true,
            "ticks": "",
            "zerolinecolor": "white"
           },
           "zaxis": {
            "backgroundcolor": "#E5ECF6",
            "gridcolor": "white",
            "gridwidth": 2,
            "linecolor": "white",
            "showbackground": true,
            "ticks": "",
            "zerolinecolor": "white"
           }
          },
          "shapedefaults": {
           "line": {
            "color": "#2a3f5f"
           }
          },
          "ternary": {
           "aaxis": {
            "gridcolor": "white",
            "linecolor": "white",
            "ticks": ""
           },
           "baxis": {
            "gridcolor": "white",
            "linecolor": "white",
            "ticks": ""
           },
           "bgcolor": "#E5ECF6",
           "caxis": {
            "gridcolor": "white",
            "linecolor": "white",
            "ticks": ""
           }
          },
          "title": {
           "x": 0.05
          },
          "xaxis": {
           "automargin": true,
           "gridcolor": "white",
           "linecolor": "white",
           "ticks": "",
           "title": {
            "standoff": 15
           },
           "zerolinecolor": "white",
           "zerolinewidth": 2
          },
          "yaxis": {
           "automargin": true,
           "gridcolor": "white",
           "linecolor": "white",
           "ticks": "",
           "title": {
            "standoff": 15
           },
           "zerolinecolor": "white",
           "zerolinewidth": 2
          }
         }
        },
        "title": {
         "text": "Validation Metrics Over Time (GD Model)"
        },
        "xaxis": {
         "anchor": "y",
         "domain": [
          0,
          1
         ],
         "title": {
          "text": "index"
         }
        },
        "yaxis": {
         "anchor": "x",
         "domain": [
          0,
          1
         ],
         "title": {
          "text": "value"
         }
        }
       }
      }
     },
     "metadata": {},
     "output_type": "display_data"
    }
   ],
   "source": [
    "import datetime\n",
    "import plotly.express as px\n",
    "\n",
    "time_range = [datetime.time(hour, minute) for hour in range(9, 16) for minute in range(0, 60, 5)]\n",
    "time_range = [x for x in time_range if x >= datetime.time(9,45)]\n",
    "df_val = pd.DataFrame()\n",
    "for t in time_range:\n",
    "    X_val = X_test.loc[X_test['time'] <= t].copy()\n",
    "    y_val = y_test.loc[X_val.index, 'green_day'].copy()\n",
    "\n",
    "    y_pred_val = pipeline_gd.predict_proba(X_val)[:,-1]\n",
    "\n",
    "    df_val.loc[t, [\n",
    "        'roc_auc',\n",
    "        'precision',\n",
    "        'recall'\n",
    "    ]] =  roc_auc_score(y_val, y_pred_val), precision_score(y_val, y_pred_val > 0.5), recall_score(y_val, y_pred_val > 0.5)\n",
    "\n",
    "\n",
    "fig = px.line(df_val, title='Validation Metrics Over Time (GD Model)')\n",
    "fig.show()"
   ]
  },
  {
   "cell_type": "code",
   "execution_count": 110,
   "metadata": {},
   "outputs": [
    {
     "data": {
      "application/vnd.plotly.v1+json": {
       "config": {
        "plotlyServerURL": "https://plot.ly"
       },
       "data": [
        {
         "hovertemplate": "variable=roc_auc<br>index=%{x}<br>value=%{y}<extra></extra>",
         "legendgroup": "roc_auc",
         "line": {
          "color": "#636efa",
          "dash": "solid"
         },
         "marker": {
          "symbol": "circle"
         },
         "mode": "lines",
         "name": "roc_auc",
         "orientation": "v",
         "showlegend": true,
         "type": "scatter",
         "x": [
          "09:45:00",
          "09:50:00",
          "09:55:00",
          "10:00:00",
          "10:05:00",
          "10:10:00",
          "10:15:00",
          "10:20:00",
          "10:25:00",
          "10:30:00",
          "10:35:00",
          "10:40:00",
          "10:45:00",
          "10:50:00",
          "10:55:00",
          "11:00:00",
          "11:05:00",
          "11:10:00",
          "11:15:00",
          "11:20:00",
          "11:25:00",
          "11:30:00",
          "11:35:00",
          "11:40:00",
          "11:45:00",
          "11:50:00",
          "11:55:00",
          "12:00:00",
          "12:05:00",
          "12:10:00",
          "12:15:00",
          "12:20:00",
          "12:25:00",
          "12:30:00",
          "12:35:00",
          "12:40:00",
          "12:45:00",
          "12:50:00",
          "12:55:00",
          "13:00:00",
          "13:05:00",
          "13:10:00",
          "13:15:00",
          "13:20:00",
          "13:25:00",
          "13:30:00",
          "13:35:00",
          "13:40:00",
          "13:45:00",
          "13:50:00",
          "13:55:00",
          "14:00:00",
          "14:05:00",
          "14:10:00",
          "14:15:00",
          "14:20:00",
          "14:25:00",
          "14:30:00",
          "14:35:00",
          "14:40:00",
          "14:45:00",
          "14:50:00",
          "14:55:00",
          "15:00:00",
          "15:05:00",
          "15:10:00",
          "15:15:00",
          "15:20:00",
          "15:25:00",
          "15:30:00",
          "15:35:00",
          "15:40:00",
          "15:45:00",
          "15:50:00",
          "15:55:00"
         ],
         "xaxis": "x",
         "y": [
          0.7254578754578755,
          0.7285943223443224,
          0.7315527065527064,
          0.7351591117216117,
          0.738007326007326,
          0.7430021367521367,
          0.7474209464005382,
          0.751871565934066,
          0.7562361506805951,
          0.760830586080586,
          0.763933793479248,
          0.7665439306064307,
          0.7692865812688298,
          0.771458006279435,
          0.7734403744403745,
          0.7755923763736264,
          0.7782124161881947,
          0.7808520440464884,
          0.7832196888983592,
          0.7854645146520146,
          0.7878794863488741,
          0.7899925831744014,
          0.7917923443915884,
          0.7934879934879935,
          0.7948700366300365,
          0.7964136701562737,
          0.7977577292392107,
          0.7988251756746655,
          0.7998138009434086,
          0.800765466015466,
          0.8017122922169747,
          0.8024266504979396,
          0.8033139419503056,
          0.8042919090713208,
          0.8051902519249458,
          0.8060493968480079,
          0.8069790387357956,
          0.8078923903889278,
          0.8086989112137042,
          0.809601762820513,
          0.8106224927164845,
          0.8115734511142676,
          0.8125508392815046,
          0.8134856620652077,
          0.814569227240587,
          0.8158538146596601,
          0.8173249457662481,
          0.8186937765236617,
          0.8200992728371652,
          0.8214196524917967,
          0.8226813615919799,
          0.8240583108062592,
          0.8252820943062102,
          0.8267507317816916,
          0.8281720711269274,
          0.8295736639264658,
          0.831112206839125,
          0.8328882952497152,
          0.8346226871306858,
          0.8365039085153467,
          0.8384745890971891,
          0.8403415734360389,
          0.8423530013511215,
          0.8444720706756926,
          0.8465602348517474,
          0.8485663335860111,
          0.8506281039394087,
          0.8526137872684085,
          0.8546757720401369,
          0.8567853565594955,
          0.8589438348070454,
          0.8612841633226025,
          0.8635309952191709,
          0.8659192479054174,
          0.8686465654269659
         ],
         "yaxis": "y"
        },
        {
         "hovertemplate": "variable=precision<br>index=%{x}<br>value=%{y}<extra></extra>",
         "legendgroup": "precision",
         "line": {
          "color": "#EF553B",
          "dash": "solid"
         },
         "marker": {
          "symbol": "circle"
         },
         "mode": "lines",
         "name": "precision",
         "orientation": "v",
         "showlegend": true,
         "type": "scatter",
         "x": [
          "09:45:00",
          "09:50:00",
          "09:55:00",
          "10:00:00",
          "10:05:00",
          "10:10:00",
          "10:15:00",
          "10:20:00",
          "10:25:00",
          "10:30:00",
          "10:35:00",
          "10:40:00",
          "10:45:00",
          "10:50:00",
          "10:55:00",
          "11:00:00",
          "11:05:00",
          "11:10:00",
          "11:15:00",
          "11:20:00",
          "11:25:00",
          "11:30:00",
          "11:35:00",
          "11:40:00",
          "11:45:00",
          "11:50:00",
          "11:55:00",
          "12:00:00",
          "12:05:00",
          "12:10:00",
          "12:15:00",
          "12:20:00",
          "12:25:00",
          "12:30:00",
          "12:35:00",
          "12:40:00",
          "12:45:00",
          "12:50:00",
          "12:55:00",
          "13:00:00",
          "13:05:00",
          "13:10:00",
          "13:15:00",
          "13:20:00",
          "13:25:00",
          "13:30:00",
          "13:35:00",
          "13:40:00",
          "13:45:00",
          "13:50:00",
          "13:55:00",
          "14:00:00",
          "14:05:00",
          "14:10:00",
          "14:15:00",
          "14:20:00",
          "14:25:00",
          "14:30:00",
          "14:35:00",
          "14:40:00",
          "14:45:00",
          "14:50:00",
          "14:55:00",
          "15:00:00",
          "15:05:00",
          "15:10:00",
          "15:15:00",
          "15:20:00",
          "15:25:00",
          "15:30:00",
          "15:35:00",
          "15:40:00",
          "15:45:00",
          "15:50:00",
          "15:55:00"
         ],
         "xaxis": "x",
         "y": [
          0.7073170731707317,
          0.7306122448979592,
          0.7297297297297297,
          0.7302231237322515,
          0.7330097087378641,
          0.7338709677419355,
          0.7350917431192661,
          0.7362637362637363,
          0.7382847038019452,
          0.7406523468575974,
          0.7409288824383164,
          0.7411607738492328,
          0.7416769420468557,
          0.7432510051694429,
          0.7443609022556391,
          0.7445843828715365,
          0.7461977186311787,
          0.7479747974797479,
          0.7497865072587532,
          0.7506092607636068,
          0.7511609907120743,
          0.7521209885651051,
          0.7529950669485553,
          0.7536280796490044,
          0.7539656846876012,
          0.7542003733665215,
          0.7541130720909363,
          0.7546136101499423,
          0.7552895322939867,
          0.7557108304219295,
          0.7559709241952233,
          0.7567227946720282,
          0.7574281539210911,
          0.7582131883715434,
          0.7593484744207387,
          0.760035682426405,
          0.76040763226366,
          0.7611310403038616,
          0.7615036976170912,
          0.7623246492985972,
          0.7632557229504989,
          0.7638517386320214,
          0.7644203845435878,
          0.7647273390479664,
          0.7653461812990721,
          0.766113537117904,
          0.7668774568449838,
          0.767659859390693,
          0.7683347005742411,
          0.7691069991954947,
          0.7699226763452738,
          0.7706365185070466,
          0.7712070538157495,
          0.7717910447761194,
          0.7726139862190294,
          0.7734735023041475,
          0.7744765138653085,
          0.7753824756606398,
          0.7767893800465308,
          0.778435859469646,
          0.7798092209856916,
          0.7812418471171406,
          0.7825863618851933,
          0.7840607210626186,
          0.785518444666002,
          0.787030213706706,
          0.7885686606926616,
          0.790064485311679,
          0.7916372202591284,
          0.7933999535207994,
          0.7952746874641587,
          0.7975300249263539,
          0.7995747538048343,
          0.8018127556095943,
          0.8041462084015275
         ],
         "yaxis": "y"
        },
        {
         "hovertemplate": "variable=recall<br>index=%{x}<br>value=%{y}<extra></extra>",
         "legendgroup": "recall",
         "line": {
          "color": "#00cc96",
          "dash": "solid"
         },
         "marker": {
          "symbol": "circle"
         },
         "mode": "lines",
         "name": "recall",
         "orientation": "v",
         "showlegend": true,
         "type": "scatter",
         "x": [
          "09:45:00",
          "09:50:00",
          "09:55:00",
          "10:00:00",
          "10:05:00",
          "10:10:00",
          "10:15:00",
          "10:20:00",
          "10:25:00",
          "10:30:00",
          "10:35:00",
          "10:40:00",
          "10:45:00",
          "10:50:00",
          "10:55:00",
          "11:00:00",
          "11:05:00",
          "11:10:00",
          "11:15:00",
          "11:20:00",
          "11:25:00",
          "11:30:00",
          "11:35:00",
          "11:40:00",
          "11:45:00",
          "11:50:00",
          "11:55:00",
          "12:00:00",
          "12:05:00",
          "12:10:00",
          "12:15:00",
          "12:20:00",
          "12:25:00",
          "12:30:00",
          "12:35:00",
          "12:40:00",
          "12:45:00",
          "12:50:00",
          "12:55:00",
          "13:00:00",
          "13:05:00",
          "13:10:00",
          "13:15:00",
          "13:20:00",
          "13:25:00",
          "13:30:00",
          "13:35:00",
          "13:40:00",
          "13:45:00",
          "13:50:00",
          "13:55:00",
          "14:00:00",
          "14:05:00",
          "14:10:00",
          "14:15:00",
          "14:20:00",
          "14:25:00",
          "14:30:00",
          "14:35:00",
          "14:40:00",
          "14:45:00",
          "14:50:00",
          "14:55:00",
          "15:00:00",
          "15:05:00",
          "15:10:00",
          "15:15:00",
          "15:20:00",
          "15:25:00",
          "15:30:00",
          "15:35:00",
          "15:40:00",
          "15:45:00",
          "15:50:00",
          "15:55:00"
         ],
         "xaxis": "x",
         "y": [
          0.725,
          0.7458333333333333,
          0.75,
          0.75,
          0.755,
          0.7583333333333333,
          0.763095238095238,
          0.7677083333333333,
          0.7731481481481481,
          0.7758333333333334,
          0.7734848484848484,
          0.7715277777777778,
          0.7711538461538462,
          0.7702380952380953,
          0.77,
          0.7697916666666667,
          0.7696078431372549,
          0.7694444444444445,
          0.7701754385964912,
          0.77,
          0.7702380952380953,
          0.7723484848484848,
          0.7742753623188405,
          0.7753472222222222,
          0.7763333333333333,
          0.7769230769230769,
          0.7780864197530865,
          0.7788690476190476,
          0.7795977011494253,
          0.7811111111111111,
          0.7827956989247312,
          0.7841145833333333,
          0.7853535353535354,
          0.7862745098039216,
          0.7880952380952381,
          0.7888888888888889,
          0.7898648648648648,
          0.7910087719298246,
          0.792094017094017,
          0.7925,
          0.7928861788617886,
          0.7932539682539682,
          0.7936046511627907,
          0.7941287878787879,
          0.7945535383475362,
          0.7951414068165337,
          0.7964146254881079,
          0.797287899860918,
          0.7977853492333902,
          0.7982631930527722,
          0.7990501146413364,
          0.7994858611825193,
          0.7999053926206244,
          0.8004643962848297,
          0.8010335917312662,
          0.8020008959235478,
          0.8032281731474689,
          0.8041251983268426,
          0.8049921996879875,
          0.8066675965964569,
          0.807739810621655,
          0.8087778528021607,
          0.8100491825069785,
          0.8111503729878288,
          0.8123469519267947,
          0.8135076805890568,
          0.8145090681676047,
          0.8154813262664858,
          0.8165471996112259,
          0.8178224937118218,
          0.8189441360576355,
          0.8199184624344787,
          0.8209812708261519,
          0.8223557419793674,
          0.8244770108513256
         ],
         "yaxis": "y"
        }
       ],
       "layout": {
        "legend": {
         "title": {
          "text": "variable"
         },
         "tracegroupgap": 0
        },
        "template": {
         "data": {
          "bar": [
           {
            "error_x": {
             "color": "#2a3f5f"
            },
            "error_y": {
             "color": "#2a3f5f"
            },
            "marker": {
             "line": {
              "color": "#E5ECF6",
              "width": 0.5
             },
             "pattern": {
              "fillmode": "overlay",
              "size": 10,
              "solidity": 0.2
             }
            },
            "type": "bar"
           }
          ],
          "barpolar": [
           {
            "marker": {
             "line": {
              "color": "#E5ECF6",
              "width": 0.5
             },
             "pattern": {
              "fillmode": "overlay",
              "size": 10,
              "solidity": 0.2
             }
            },
            "type": "barpolar"
           }
          ],
          "carpet": [
           {
            "aaxis": {
             "endlinecolor": "#2a3f5f",
             "gridcolor": "white",
             "linecolor": "white",
             "minorgridcolor": "white",
             "startlinecolor": "#2a3f5f"
            },
            "baxis": {
             "endlinecolor": "#2a3f5f",
             "gridcolor": "white",
             "linecolor": "white",
             "minorgridcolor": "white",
             "startlinecolor": "#2a3f5f"
            },
            "type": "carpet"
           }
          ],
          "choropleth": [
           {
            "colorbar": {
             "outlinewidth": 0,
             "ticks": ""
            },
            "type": "choropleth"
           }
          ],
          "contour": [
           {
            "colorbar": {
             "outlinewidth": 0,
             "ticks": ""
            },
            "colorscale": [
             [
              0,
              "#0d0887"
             ],
             [
              0.1111111111111111,
              "#46039f"
             ],
             [
              0.2222222222222222,
              "#7201a8"
             ],
             [
              0.3333333333333333,
              "#9c179e"
             ],
             [
              0.4444444444444444,
              "#bd3786"
             ],
             [
              0.5555555555555556,
              "#d8576b"
             ],
             [
              0.6666666666666666,
              "#ed7953"
             ],
             [
              0.7777777777777778,
              "#fb9f3a"
             ],
             [
              0.8888888888888888,
              "#fdca26"
             ],
             [
              1,
              "#f0f921"
             ]
            ],
            "type": "contour"
           }
          ],
          "contourcarpet": [
           {
            "colorbar": {
             "outlinewidth": 0,
             "ticks": ""
            },
            "type": "contourcarpet"
           }
          ],
          "heatmap": [
           {
            "colorbar": {
             "outlinewidth": 0,
             "ticks": ""
            },
            "colorscale": [
             [
              0,
              "#0d0887"
             ],
             [
              0.1111111111111111,
              "#46039f"
             ],
             [
              0.2222222222222222,
              "#7201a8"
             ],
             [
              0.3333333333333333,
              "#9c179e"
             ],
             [
              0.4444444444444444,
              "#bd3786"
             ],
             [
              0.5555555555555556,
              "#d8576b"
             ],
             [
              0.6666666666666666,
              "#ed7953"
             ],
             [
              0.7777777777777778,
              "#fb9f3a"
             ],
             [
              0.8888888888888888,
              "#fdca26"
             ],
             [
              1,
              "#f0f921"
             ]
            ],
            "type": "heatmap"
           }
          ],
          "heatmapgl": [
           {
            "colorbar": {
             "outlinewidth": 0,
             "ticks": ""
            },
            "colorscale": [
             [
              0,
              "#0d0887"
             ],
             [
              0.1111111111111111,
              "#46039f"
             ],
             [
              0.2222222222222222,
              "#7201a8"
             ],
             [
              0.3333333333333333,
              "#9c179e"
             ],
             [
              0.4444444444444444,
              "#bd3786"
             ],
             [
              0.5555555555555556,
              "#d8576b"
             ],
             [
              0.6666666666666666,
              "#ed7953"
             ],
             [
              0.7777777777777778,
              "#fb9f3a"
             ],
             [
              0.8888888888888888,
              "#fdca26"
             ],
             [
              1,
              "#f0f921"
             ]
            ],
            "type": "heatmapgl"
           }
          ],
          "histogram": [
           {
            "marker": {
             "pattern": {
              "fillmode": "overlay",
              "size": 10,
              "solidity": 0.2
             }
            },
            "type": "histogram"
           }
          ],
          "histogram2d": [
           {
            "colorbar": {
             "outlinewidth": 0,
             "ticks": ""
            },
            "colorscale": [
             [
              0,
              "#0d0887"
             ],
             [
              0.1111111111111111,
              "#46039f"
             ],
             [
              0.2222222222222222,
              "#7201a8"
             ],
             [
              0.3333333333333333,
              "#9c179e"
             ],
             [
              0.4444444444444444,
              "#bd3786"
             ],
             [
              0.5555555555555556,
              "#d8576b"
             ],
             [
              0.6666666666666666,
              "#ed7953"
             ],
             [
              0.7777777777777778,
              "#fb9f3a"
             ],
             [
              0.8888888888888888,
              "#fdca26"
             ],
             [
              1,
              "#f0f921"
             ]
            ],
            "type": "histogram2d"
           }
          ],
          "histogram2dcontour": [
           {
            "colorbar": {
             "outlinewidth": 0,
             "ticks": ""
            },
            "colorscale": [
             [
              0,
              "#0d0887"
             ],
             [
              0.1111111111111111,
              "#46039f"
             ],
             [
              0.2222222222222222,
              "#7201a8"
             ],
             [
              0.3333333333333333,
              "#9c179e"
             ],
             [
              0.4444444444444444,
              "#bd3786"
             ],
             [
              0.5555555555555556,
              "#d8576b"
             ],
             [
              0.6666666666666666,
              "#ed7953"
             ],
             [
              0.7777777777777778,
              "#fb9f3a"
             ],
             [
              0.8888888888888888,
              "#fdca26"
             ],
             [
              1,
              "#f0f921"
             ]
            ],
            "type": "histogram2dcontour"
           }
          ],
          "mesh3d": [
           {
            "colorbar": {
             "outlinewidth": 0,
             "ticks": ""
            },
            "type": "mesh3d"
           }
          ],
          "parcoords": [
           {
            "line": {
             "colorbar": {
              "outlinewidth": 0,
              "ticks": ""
             }
            },
            "type": "parcoords"
           }
          ],
          "pie": [
           {
            "automargin": true,
            "type": "pie"
           }
          ],
          "scatter": [
           {
            "fillpattern": {
             "fillmode": "overlay",
             "size": 10,
             "solidity": 0.2
            },
            "type": "scatter"
           }
          ],
          "scatter3d": [
           {
            "line": {
             "colorbar": {
              "outlinewidth": 0,
              "ticks": ""
             }
            },
            "marker": {
             "colorbar": {
              "outlinewidth": 0,
              "ticks": ""
             }
            },
            "type": "scatter3d"
           }
          ],
          "scattercarpet": [
           {
            "marker": {
             "colorbar": {
              "outlinewidth": 0,
              "ticks": ""
             }
            },
            "type": "scattercarpet"
           }
          ],
          "scattergeo": [
           {
            "marker": {
             "colorbar": {
              "outlinewidth": 0,
              "ticks": ""
             }
            },
            "type": "scattergeo"
           }
          ],
          "scattergl": [
           {
            "marker": {
             "colorbar": {
              "outlinewidth": 0,
              "ticks": ""
             }
            },
            "type": "scattergl"
           }
          ],
          "scattermapbox": [
           {
            "marker": {
             "colorbar": {
              "outlinewidth": 0,
              "ticks": ""
             }
            },
            "type": "scattermapbox"
           }
          ],
          "scatterpolar": [
           {
            "marker": {
             "colorbar": {
              "outlinewidth": 0,
              "ticks": ""
             }
            },
            "type": "scatterpolar"
           }
          ],
          "scatterpolargl": [
           {
            "marker": {
             "colorbar": {
              "outlinewidth": 0,
              "ticks": ""
             }
            },
            "type": "scatterpolargl"
           }
          ],
          "scatterternary": [
           {
            "marker": {
             "colorbar": {
              "outlinewidth": 0,
              "ticks": ""
             }
            },
            "type": "scatterternary"
           }
          ],
          "surface": [
           {
            "colorbar": {
             "outlinewidth": 0,
             "ticks": ""
            },
            "colorscale": [
             [
              0,
              "#0d0887"
             ],
             [
              0.1111111111111111,
              "#46039f"
             ],
             [
              0.2222222222222222,
              "#7201a8"
             ],
             [
              0.3333333333333333,
              "#9c179e"
             ],
             [
              0.4444444444444444,
              "#bd3786"
             ],
             [
              0.5555555555555556,
              "#d8576b"
             ],
             [
              0.6666666666666666,
              "#ed7953"
             ],
             [
              0.7777777777777778,
              "#fb9f3a"
             ],
             [
              0.8888888888888888,
              "#fdca26"
             ],
             [
              1,
              "#f0f921"
             ]
            ],
            "type": "surface"
           }
          ],
          "table": [
           {
            "cells": {
             "fill": {
              "color": "#EBF0F8"
             },
             "line": {
              "color": "white"
             }
            },
            "header": {
             "fill": {
              "color": "#C8D4E3"
             },
             "line": {
              "color": "white"
             }
            },
            "type": "table"
           }
          ]
         },
         "layout": {
          "annotationdefaults": {
           "arrowcolor": "#2a3f5f",
           "arrowhead": 0,
           "arrowwidth": 1
          },
          "autotypenumbers": "strict",
          "coloraxis": {
           "colorbar": {
            "outlinewidth": 0,
            "ticks": ""
           }
          },
          "colorscale": {
           "diverging": [
            [
             0,
             "#8e0152"
            ],
            [
             0.1,
             "#c51b7d"
            ],
            [
             0.2,
             "#de77ae"
            ],
            [
             0.3,
             "#f1b6da"
            ],
            [
             0.4,
             "#fde0ef"
            ],
            [
             0.5,
             "#f7f7f7"
            ],
            [
             0.6,
             "#e6f5d0"
            ],
            [
             0.7,
             "#b8e186"
            ],
            [
             0.8,
             "#7fbc41"
            ],
            [
             0.9,
             "#4d9221"
            ],
            [
             1,
             "#276419"
            ]
           ],
           "sequential": [
            [
             0,
             "#0d0887"
            ],
            [
             0.1111111111111111,
             "#46039f"
            ],
            [
             0.2222222222222222,
             "#7201a8"
            ],
            [
             0.3333333333333333,
             "#9c179e"
            ],
            [
             0.4444444444444444,
             "#bd3786"
            ],
            [
             0.5555555555555556,
             "#d8576b"
            ],
            [
             0.6666666666666666,
             "#ed7953"
            ],
            [
             0.7777777777777778,
             "#fb9f3a"
            ],
            [
             0.8888888888888888,
             "#fdca26"
            ],
            [
             1,
             "#f0f921"
            ]
           ],
           "sequentialminus": [
            [
             0,
             "#0d0887"
            ],
            [
             0.1111111111111111,
             "#46039f"
            ],
            [
             0.2222222222222222,
             "#7201a8"
            ],
            [
             0.3333333333333333,
             "#9c179e"
            ],
            [
             0.4444444444444444,
             "#bd3786"
            ],
            [
             0.5555555555555556,
             "#d8576b"
            ],
            [
             0.6666666666666666,
             "#ed7953"
            ],
            [
             0.7777777777777778,
             "#fb9f3a"
            ],
            [
             0.8888888888888888,
             "#fdca26"
            ],
            [
             1,
             "#f0f921"
            ]
           ]
          },
          "colorway": [
           "#636efa",
           "#EF553B",
           "#00cc96",
           "#ab63fa",
           "#FFA15A",
           "#19d3f3",
           "#FF6692",
           "#B6E880",
           "#FF97FF",
           "#FECB52"
          ],
          "font": {
           "color": "#2a3f5f"
          },
          "geo": {
           "bgcolor": "white",
           "lakecolor": "white",
           "landcolor": "#E5ECF6",
           "showlakes": true,
           "showland": true,
           "subunitcolor": "white"
          },
          "hoverlabel": {
           "align": "left"
          },
          "hovermode": "closest",
          "mapbox": {
           "style": "light"
          },
          "paper_bgcolor": "white",
          "plot_bgcolor": "#E5ECF6",
          "polar": {
           "angularaxis": {
            "gridcolor": "white",
            "linecolor": "white",
            "ticks": ""
           },
           "bgcolor": "#E5ECF6",
           "radialaxis": {
            "gridcolor": "white",
            "linecolor": "white",
            "ticks": ""
           }
          },
          "scene": {
           "xaxis": {
            "backgroundcolor": "#E5ECF6",
            "gridcolor": "white",
            "gridwidth": 2,
            "linecolor": "white",
            "showbackground": true,
            "ticks": "",
            "zerolinecolor": "white"
           },
           "yaxis": {
            "backgroundcolor": "#E5ECF6",
            "gridcolor": "white",
            "gridwidth": 2,
            "linecolor": "white",
            "showbackground": true,
            "ticks": "",
            "zerolinecolor": "white"
           },
           "zaxis": {
            "backgroundcolor": "#E5ECF6",
            "gridcolor": "white",
            "gridwidth": 2,
            "linecolor": "white",
            "showbackground": true,
            "ticks": "",
            "zerolinecolor": "white"
           }
          },
          "shapedefaults": {
           "line": {
            "color": "#2a3f5f"
           }
          },
          "ternary": {
           "aaxis": {
            "gridcolor": "white",
            "linecolor": "white",
            "ticks": ""
           },
           "baxis": {
            "gridcolor": "white",
            "linecolor": "white",
            "ticks": ""
           },
           "bgcolor": "#E5ECF6",
           "caxis": {
            "gridcolor": "white",
            "linecolor": "white",
            "ticks": ""
           }
          },
          "title": {
           "x": 0.05
          },
          "xaxis": {
           "automargin": true,
           "gridcolor": "white",
           "linecolor": "white",
           "ticks": "",
           "title": {
            "standoff": 15
           },
           "zerolinecolor": "white",
           "zerolinewidth": 2
          },
          "yaxis": {
           "automargin": true,
           "gridcolor": "white",
           "linecolor": "white",
           "ticks": "",
           "title": {
            "standoff": 15
           },
           "zerolinecolor": "white",
           "zerolinewidth": 2
          }
         }
        },
        "title": {
         "text": "Validation Metrics Over Time (GD Model CV)"
        },
        "xaxis": {
         "anchor": "y",
         "domain": [
          0,
          1
         ],
         "title": {
          "text": "index"
         }
        },
        "yaxis": {
         "anchor": "x",
         "domain": [
          0,
          1
         ],
         "title": {
          "text": "value"
         }
        }
       }
      }
     },
     "metadata": {},
     "output_type": "display_data"
    }
   ],
   "source": [
    "import datetime\n",
    "import plotly.express as px\n",
    "\n",
    "time_range = [datetime.time(hour, minute) for hour in range(9, 16) for minute in range(0, 60, 5)]\n",
    "time_range = [x for x in time_range if x >= datetime.time(9,45)]\n",
    "df_val = pd.DataFrame()\n",
    "for t in time_range:\n",
    "    X_val = X_test.loc[X_test['time'] <= t].copy()\n",
    "    y_val = y_test.loc[X_val.index, 'green_day'].copy()\n",
    "\n",
    "    y_pred_val = gd_model_cv.predict_proba(X_val)[:,-1]\n",
    "\n",
    "    df_val.loc[t, [\n",
    "        'roc_auc',\n",
    "        'precision',\n",
    "        'recall'\n",
    "    ]] =  roc_auc_score(y_val, y_pred_val), precision_score(y_val, y_pred_val > 0.5), recall_score(y_val, y_pred_val > 0.5)\n",
    "\n",
    "\n",
    "fig = px.line(df_val, title='Validation Metrics Over Time (GD Model CV)')\n",
    "fig.show()"
   ]
  },
  {
   "cell_type": "code",
   "execution_count": 111,
   "metadata": {},
   "outputs": [],
   "source": [
    "df_results = X_test.copy()\n",
    "df_results['pred_hod'] = y_pred_hod\n",
    "df_results['pred_lod'] = y_pred_lod\n",
    "df_results['pred_gd'] = y_pred_gd\n",
    "\n",
    "df_results['pred_hod_cv'] = y_pred_hod_cv\n",
    "df_results['pred_lod_cv'] = y_pred_lod_cv\n",
    "df_results['pred_gd_cv'] = y_pred_gd_cv"
   ]
  },
  {
   "cell_type": "code",
   "execution_count": 112,
   "metadata": {},
   "outputs": [
    {
     "data": {
      "text/plain": [
       "Timestamp('2023-03-14 09:45:00')"
      ]
     },
     "execution_count": 112,
     "metadata": {},
     "output_type": "execute_result"
    }
   ],
   "source": [
    "X_test.index[0]"
   ]
  },
  {
   "cell_type": "code",
   "execution_count": 113,
   "metadata": {},
   "outputs": [
    {
     "data": {
      "application/vnd.plotly.v1+json": {
       "config": {
        "plotlyServerURL": "https://plot.ly"
       },
       "data": [
        {
         "close": [
          4778.56,
          4780.01,
          4779.16,
          4779.29,
          4778.14,
          4772.34,
          4773.75,
          4775.01,
          4776.52,
          4774.67,
          4774.52,
          4772.13,
          4771.57,
          4772.33,
          4773.08,
          4771.46,
          4771.98,
          4772.58,
          4773.31,
          4772.75,
          4773.6,
          4774.86,
          4776.08,
          4777.61,
          4776.76,
          4776.9,
          4776.53,
          4775.83,
          4776.12,
          4777.54,
          4777.59,
          4777.83,
          4777.32,
          4777.96,
          4775.47,
          4773.07,
          4774.55,
          4773.96,
          4774.29,
          4777.71,
          4783.16,
          4781.59,
          4782.49,
          4781.44,
          4781.02,
          4781,
          4781.75,
          4783.16,
          4782.93,
          4782.15,
          4779.46,
          4770.06,
          4772.7,
          4770.19,
          4772.9,
          4775.53,
          4776.87,
          4774.67,
          4774.15,
          4771.84,
          4773.12,
          4771.12,
          4773.91,
          4775.22,
          4775.87,
          4775.89,
          4777.11,
          4775.34,
          4775.22,
          4777.06,
          4777.95,
          4773.27,
          4773.27,
          4774.35,
          4782.5
         ],
         "high": [
          4778.96,
          4780.25,
          4780.74,
          4780.47,
          4779.35,
          4778.53,
          4774.89,
          4775.52,
          4777.06,
          4776.57,
          4774.7,
          4774.64,
          4773.18,
          4772.37,
          4773.42,
          4772.91,
          4772.89,
          4772.72,
          4773.54,
          4773.61,
          4773.6,
          4775.16,
          4776.62,
          4777.9,
          4777.65,
          4777.49,
          4777.68,
          4777.36,
          4776.26,
          4777.78,
          4777.9,
          4778.97,
          4777.89,
          4778.4,
          4777.98,
          4775.57,
          4774.81,
          4774.79,
          4774.97,
          4778.07,
          4783.87,
          4785.39,
          4783.72,
          4782.83,
          4782.38,
          4782.75,
          4782.22,
          4783.27,
          4783.63,
          4783.39,
          4782.53,
          4779.44,
          4773.03,
          4772.69,
          4772.95,
          4775.62,
          4778.67,
          4776.96,
          4775.2,
          4774.06,
          4773.18,
          4773.38,
          4774.29,
          4775.82,
          4775.96,
          4777.4,
          4777.89,
          4777.56,
          4775.23,
          4777.35,
          4778.97,
          4778.28,
          4773.89,
          4775.26,
          4782.5
         ],
         "low": [
          4777.47,
          4778.41,
          4778.97,
          4778.32,
          4777.21,
          4771.9,
          4772.5,
          4771.16,
          4774.8,
          4774.67,
          4772.15,
          4771.6,
          4770.99,
          4769.97,
          4772.05,
          4770.93,
          4771.19,
          4771.17,
          4772.57,
          4772.69,
          4771.32,
          4773.27,
          4774.91,
          4775.6,
          4776.44,
          4776.2,
          4776.37,
          4774.84,
          4775.42,
          4776.07,
          4777.33,
          4777.13,
          4776.99,
          4777.19,
          4774.69,
          4772.08,
          4772.87,
          4773.95,
          4773.92,
          4774.28,
          4777.69,
          4781.59,
          4780.88,
          4781.27,
          4780.4,
          4780.55,
          4780.98,
          4781.77,
          4782.19,
          4781.62,
          4779.42,
          4769.21,
          4768.9,
          4769.15,
          4769.4,
          4772.87,
          4774.17,
          4774.06,
          4774.15,
          4771.07,
          4771.69,
          4771.12,
          4770.92,
          4773.14,
          4772.96,
          4775.49,
          4775.62,
          4775.31,
          4773.06,
          4774.2,
          4777.04,
          4773.06,
          4772.24,
          4771.24,
          4774.34
         ],
         "open": [
          4778.43,
          4778.56,
          4779.98,
          4778.87,
          4779.29,
          4778.13,
          4772.5,
          4773.73,
          4775.03,
          4776.48,
          4774.65,
          4774.48,
          4772.18,
          4771.52,
          4772.32,
          4772.88,
          4771.43,
          4771.96,
          4772.57,
          4773.31,
          4772.76,
          4773.58,
          4774.91,
          4776.05,
          4777.63,
          4776.78,
          4776.91,
          4776.54,
          4775.81,
          4776.15,
          4777.52,
          4777.6,
          4777.78,
          4777.33,
          4777.98,
          4775.46,
          4773.05,
          4774.55,
          4773.96,
          4774.28,
          4777.72,
          4783.19,
          4781.57,
          4782.41,
          4781.37,
          4781.13,
          4781.02,
          4781.77,
          4783.23,
          4782.88,
          4782.18,
          4779.44,
          4770.15,
          4772.59,
          4770.22,
          4772.87,
          4775.54,
          4776.85,
          4774.66,
          4774.06,
          4771.88,
          4773.09,
          4771.13,
          4773.9,
          4775.25,
          4775.89,
          4775.85,
          4777.09,
          4775.23,
          4775.24,
          4777.04,
          4777.89,
          4773.25,
          4773.2,
          4774.34
         ],
         "type": "candlestick",
         "x": [
          "2023-12-27T09:45:00",
          "2023-12-27T09:50:00",
          "2023-12-27T09:55:00",
          "2023-12-27T10:00:00",
          "2023-12-27T10:05:00",
          "2023-12-27T10:10:00",
          "2023-12-27T10:15:00",
          "2023-12-27T10:20:00",
          "2023-12-27T10:25:00",
          "2023-12-27T10:30:00",
          "2023-12-27T10:35:00",
          "2023-12-27T10:40:00",
          "2023-12-27T10:45:00",
          "2023-12-27T10:50:00",
          "2023-12-27T10:55:00",
          "2023-12-27T11:00:00",
          "2023-12-27T11:05:00",
          "2023-12-27T11:10:00",
          "2023-12-27T11:15:00",
          "2023-12-27T11:20:00",
          "2023-12-27T11:25:00",
          "2023-12-27T11:30:00",
          "2023-12-27T11:35:00",
          "2023-12-27T11:40:00",
          "2023-12-27T11:45:00",
          "2023-12-27T11:50:00",
          "2023-12-27T11:55:00",
          "2023-12-27T12:00:00",
          "2023-12-27T12:05:00",
          "2023-12-27T12:10:00",
          "2023-12-27T12:15:00",
          "2023-12-27T12:20:00",
          "2023-12-27T12:25:00",
          "2023-12-27T12:30:00",
          "2023-12-27T12:35:00",
          "2023-12-27T12:40:00",
          "2023-12-27T12:45:00",
          "2023-12-27T12:50:00",
          "2023-12-27T12:55:00",
          "2023-12-27T13:00:00",
          "2023-12-27T13:05:00",
          "2023-12-27T13:10:00",
          "2023-12-27T13:15:00",
          "2023-12-27T13:20:00",
          "2023-12-27T13:25:00",
          "2023-12-27T13:30:00",
          "2023-12-27T13:35:00",
          "2023-12-27T13:40:00",
          "2023-12-27T13:45:00",
          "2023-12-27T13:50:00",
          "2023-12-27T13:55:00",
          "2023-12-27T14:00:00",
          "2023-12-27T14:05:00",
          "2023-12-27T14:10:00",
          "2023-12-27T14:15:00",
          "2023-12-27T14:20:00",
          "2023-12-27T14:25:00",
          "2023-12-27T14:30:00",
          "2023-12-27T14:35:00",
          "2023-12-27T14:40:00",
          "2023-12-27T14:45:00",
          "2023-12-27T14:50:00",
          "2023-12-27T14:55:00",
          "2023-12-27T15:00:00",
          "2023-12-27T15:05:00",
          "2023-12-27T15:10:00",
          "2023-12-27T15:15:00",
          "2023-12-27T15:20:00",
          "2023-12-27T15:25:00",
          "2023-12-27T15:30:00",
          "2023-12-27T15:35:00",
          "2023-12-27T15:40:00",
          "2023-12-27T15:45:00",
          "2023-12-27T15:50:00",
          "2023-12-27T15:55:00"
         ]
        },
        {
         "line": {
          "color": "#ff5f5f"
         },
         "mode": "lines",
         "name": "pred_hod",
         "type": "scatter",
         "x": [
          "2023-12-27T09:45:00",
          "2023-12-27T09:50:00",
          "2023-12-27T09:55:00",
          "2023-12-27T10:00:00",
          "2023-12-27T10:05:00",
          "2023-12-27T10:10:00",
          "2023-12-27T10:15:00",
          "2023-12-27T10:20:00",
          "2023-12-27T10:25:00",
          "2023-12-27T10:30:00",
          "2023-12-27T10:35:00",
          "2023-12-27T10:40:00",
          "2023-12-27T10:45:00",
          "2023-12-27T10:50:00",
          "2023-12-27T10:55:00",
          "2023-12-27T11:00:00",
          "2023-12-27T11:05:00",
          "2023-12-27T11:10:00",
          "2023-12-27T11:15:00",
          "2023-12-27T11:20:00",
          "2023-12-27T11:25:00",
          "2023-12-27T11:30:00",
          "2023-12-27T11:35:00",
          "2023-12-27T11:40:00",
          "2023-12-27T11:45:00",
          "2023-12-27T11:50:00",
          "2023-12-27T11:55:00",
          "2023-12-27T12:00:00",
          "2023-12-27T12:05:00",
          "2023-12-27T12:10:00",
          "2023-12-27T12:15:00",
          "2023-12-27T12:20:00",
          "2023-12-27T12:25:00",
          "2023-12-27T12:30:00",
          "2023-12-27T12:35:00",
          "2023-12-27T12:40:00",
          "2023-12-27T12:45:00",
          "2023-12-27T12:50:00",
          "2023-12-27T12:55:00",
          "2023-12-27T13:00:00",
          "2023-12-27T13:05:00",
          "2023-12-27T13:10:00",
          "2023-12-27T13:15:00",
          "2023-12-27T13:20:00",
          "2023-12-27T13:25:00",
          "2023-12-27T13:30:00",
          "2023-12-27T13:35:00",
          "2023-12-27T13:40:00",
          "2023-12-27T13:45:00",
          "2023-12-27T13:50:00",
          "2023-12-27T13:55:00",
          "2023-12-27T14:00:00",
          "2023-12-27T14:05:00",
          "2023-12-27T14:10:00",
          "2023-12-27T14:15:00",
          "2023-12-27T14:20:00",
          "2023-12-27T14:25:00",
          "2023-12-27T14:30:00",
          "2023-12-27T14:35:00",
          "2023-12-27T14:40:00",
          "2023-12-27T14:45:00",
          "2023-12-27T14:50:00",
          "2023-12-27T14:55:00",
          "2023-12-27T15:00:00",
          "2023-12-27T15:05:00",
          "2023-12-27T15:10:00",
          "2023-12-27T15:15:00",
          "2023-12-27T15:20:00",
          "2023-12-27T15:25:00",
          "2023-12-27T15:30:00",
          "2023-12-27T15:35:00",
          "2023-12-27T15:40:00",
          "2023-12-27T15:45:00",
          "2023-12-27T15:50:00",
          "2023-12-27T15:55:00"
         ],
         "y": [
          0.04585460890009367,
          0.043287201863999286,
          0.08080466945113546,
          0.10098683453340296,
          0.12467548336743697,
          0.4492937827117914,
          0.3642665963122085,
          0.29981472355561944,
          0.21916812330365454,
          0.3293634677209635,
          0.36768719997309207,
          0.5200113169066305,
          0.5253168258151166,
          0.5155201136009125,
          0.4385688573166801,
          0.5707366410989072,
          0.5532311942711943,
          0.5304146798700421,
          0.5035573212009165,
          0.5431458243385733,
          0.5143726542234525,
          0.4374333590096466,
          0.3711815629397156,
          0.2651045883271227,
          0.3373111430916144,
          0.34982000378579764,
          0.35794253165124024,
          0.4166315866728005,
          0.39888345278586795,
          0.29751089797039515,
          0.29746550863633,
          0.28204612135106605,
          0.3056490965987697,
          0.2810103424639249,
          0.4917000498592903,
          0.6731320523348114,
          0.5420521116945554,
          0.6027198373609556,
          0.6029765413473619,
          0.2826729779520717,
          0.06946378361503226,
          0.241318213514337,
          0.2608549318050859,
          0.3886041348111235,
          0.40231735816547687,
          0.42499759780687946,
          0.3715927301680146,
          0.24973007609665857,
          0.2589304971657831,
          0.36379690083879374,
          0.5152905502392603,
          0.8924450112128931,
          0.8781300520429569,
          0.8985275331880939,
          0.9213865286827577,
          0.8294331971666907,
          0.8116124178751979,
          0.8942548607327442,
          0.9086242003685264,
          0.918536061564448,
          0.9313233226639192,
          0.9561009439320163,
          0.9409547712107613,
          0.9162117540454302,
          0.9280299326508847,
          0.9208014336727437,
          0.884274192178336,
          0.9084515971859783,
          0.9139605459027904,
          0.9311238619221456,
          0.9253485696165564,
          0.9823889465932598,
          0.9823887453174791,
          0.9834331501376021,
          0.997610348244826
         ],
         "yaxis": "y2"
        },
        {
         "line": {
          "color": "#3399cc"
         },
         "mode": "lines",
         "name": "pred_lod",
         "type": "scatter",
         "x": [
          "2023-12-27T09:45:00",
          "2023-12-27T09:50:00",
          "2023-12-27T09:55:00",
          "2023-12-27T10:00:00",
          "2023-12-27T10:05:00",
          "2023-12-27T10:10:00",
          "2023-12-27T10:15:00",
          "2023-12-27T10:20:00",
          "2023-12-27T10:25:00",
          "2023-12-27T10:30:00",
          "2023-12-27T10:35:00",
          "2023-12-27T10:40:00",
          "2023-12-27T10:45:00",
          "2023-12-27T10:50:00",
          "2023-12-27T10:55:00",
          "2023-12-27T11:00:00",
          "2023-12-27T11:05:00",
          "2023-12-27T11:10:00",
          "2023-12-27T11:15:00",
          "2023-12-27T11:20:00",
          "2023-12-27T11:25:00",
          "2023-12-27T11:30:00",
          "2023-12-27T11:35:00",
          "2023-12-27T11:40:00",
          "2023-12-27T11:45:00",
          "2023-12-27T11:50:00",
          "2023-12-27T11:55:00",
          "2023-12-27T12:00:00",
          "2023-12-27T12:05:00",
          "2023-12-27T12:10:00",
          "2023-12-27T12:15:00",
          "2023-12-27T12:20:00",
          "2023-12-27T12:25:00",
          "2023-12-27T12:30:00",
          "2023-12-27T12:35:00",
          "2023-12-27T12:40:00",
          "2023-12-27T12:45:00",
          "2023-12-27T12:50:00",
          "2023-12-27T12:55:00",
          "2023-12-27T13:00:00",
          "2023-12-27T13:05:00",
          "2023-12-27T13:10:00",
          "2023-12-27T13:15:00",
          "2023-12-27T13:20:00",
          "2023-12-27T13:25:00",
          "2023-12-27T13:30:00",
          "2023-12-27T13:35:00",
          "2023-12-27T13:40:00",
          "2023-12-27T13:45:00",
          "2023-12-27T13:50:00",
          "2023-12-27T13:55:00",
          "2023-12-27T14:00:00",
          "2023-12-27T14:05:00",
          "2023-12-27T14:10:00",
          "2023-12-27T14:15:00",
          "2023-12-27T14:20:00",
          "2023-12-27T14:25:00",
          "2023-12-27T14:30:00",
          "2023-12-27T14:35:00",
          "2023-12-27T14:40:00",
          "2023-12-27T14:45:00",
          "2023-12-27T14:50:00",
          "2023-12-27T14:55:00",
          "2023-12-27T15:00:00",
          "2023-12-27T15:05:00",
          "2023-12-27T15:10:00",
          "2023-12-27T15:15:00",
          "2023-12-27T15:20:00",
          "2023-12-27T15:25:00",
          "2023-12-27T15:30:00",
          "2023-12-27T15:35:00",
          "2023-12-27T15:40:00",
          "2023-12-27T15:45:00",
          "2023-12-27T15:50:00",
          "2023-12-27T15:55:00"
         ],
         "y": [
          0.47628334738743106,
          0.5090377025338623,
          0.3558468966737078,
          0.3483808737050529,
          0.30860220549650286,
          0.07638461485399754,
          0.1253181371551911,
          0.1995920909166361,
          0.33606843670634556,
          0.23447972355105517,
          0.21646715299877972,
          0.10370887596367563,
          0.09750311632357074,
          0.11146683488997287,
          0.22266149096184487,
          0.12108447772706298,
          0.14279946118159972,
          0.2077831263683329,
          0.23784847953607233,
          0.2137767241683109,
          0.2734274142564799,
          0.34741050006943436,
          0.44479718831012655,
          0.5942646496398764,
          0.5047347159214794,
          0.5022571460409899,
          0.46859834923795196,
          0.4113660602489783,
          0.4509234533828948,
          0.611447222891862,
          0.6220092325972287,
          0.6335504321032187,
          0.5968653878186811,
          0.6291873968963883,
          0.40452481418339464,
          0.1999537998367528,
          0.35329629621509384,
          0.32448719151995764,
          0.35003373659607423,
          0.6710269822355996,
          0.8441648925623408,
          0.7617124970735869,
          0.7675733272780279,
          0.7706537155898745,
          0.7141956570788702,
          0.7393995647692586,
          0.7754998848345022,
          0.8408833994014856,
          0.8403646456247718,
          0.7598136070421408,
          0.6741672961359071,
          0.0805825786845837,
          0.17816632393453732,
          0.09393443974262475,
          0.35249449604649374,
          0.6103890308840848,
          0.729165235157839,
          0.46790186629556063,
          0.4419148827144166,
          0.23192623526363632,
          0.3422812381733268,
          0.20833879598057456,
          0.41603082630806665,
          0.6028680869416932,
          0.6833678134620158,
          0.7212927463495503,
          0.8371324161070188,
          0.6997764712559863,
          0.6955981083795635,
          0.880139703924952,
          0.9356812352366808,
          0.5690665472838541,
          0.6470834652774097,
          0.9160389206405647,
          0.9987650958179136
         ],
         "yaxis": "y2"
        },
        {
         "line": {
          "color": "#98ff98"
         },
         "mode": "lines",
         "name": "pred_lod",
         "type": "scatter",
         "x": [
          "2023-12-27T09:45:00",
          "2023-12-27T09:50:00",
          "2023-12-27T09:55:00",
          "2023-12-27T10:00:00",
          "2023-12-27T10:05:00",
          "2023-12-27T10:10:00",
          "2023-12-27T10:15:00",
          "2023-12-27T10:20:00",
          "2023-12-27T10:25:00",
          "2023-12-27T10:30:00",
          "2023-12-27T10:35:00",
          "2023-12-27T10:40:00",
          "2023-12-27T10:45:00",
          "2023-12-27T10:50:00",
          "2023-12-27T10:55:00",
          "2023-12-27T11:00:00",
          "2023-12-27T11:05:00",
          "2023-12-27T11:10:00",
          "2023-12-27T11:15:00",
          "2023-12-27T11:20:00",
          "2023-12-27T11:25:00",
          "2023-12-27T11:30:00",
          "2023-12-27T11:35:00",
          "2023-12-27T11:40:00",
          "2023-12-27T11:45:00",
          "2023-12-27T11:50:00",
          "2023-12-27T11:55:00",
          "2023-12-27T12:00:00",
          "2023-12-27T12:05:00",
          "2023-12-27T12:10:00",
          "2023-12-27T12:15:00",
          "2023-12-27T12:20:00",
          "2023-12-27T12:25:00",
          "2023-12-27T12:30:00",
          "2023-12-27T12:35:00",
          "2023-12-27T12:40:00",
          "2023-12-27T12:45:00",
          "2023-12-27T12:50:00",
          "2023-12-27T12:55:00",
          "2023-12-27T13:00:00",
          "2023-12-27T13:05:00",
          "2023-12-27T13:10:00",
          "2023-12-27T13:15:00",
          "2023-12-27T13:20:00",
          "2023-12-27T13:25:00",
          "2023-12-27T13:30:00",
          "2023-12-27T13:35:00",
          "2023-12-27T13:40:00",
          "2023-12-27T13:45:00",
          "2023-12-27T13:50:00",
          "2023-12-27T13:55:00",
          "2023-12-27T14:00:00",
          "2023-12-27T14:05:00",
          "2023-12-27T14:10:00",
          "2023-12-27T14:15:00",
          "2023-12-27T14:20:00",
          "2023-12-27T14:25:00",
          "2023-12-27T14:30:00",
          "2023-12-27T14:35:00",
          "2023-12-27T14:40:00",
          "2023-12-27T14:45:00",
          "2023-12-27T14:50:00",
          "2023-12-27T14:55:00",
          "2023-12-27T15:00:00",
          "2023-12-27T15:05:00",
          "2023-12-27T15:10:00",
          "2023-12-27T15:15:00",
          "2023-12-27T15:20:00",
          "2023-12-27T15:25:00",
          "2023-12-27T15:30:00",
          "2023-12-27T15:35:00",
          "2023-12-27T15:40:00",
          "2023-12-27T15:45:00",
          "2023-12-27T15:50:00",
          "2023-12-27T15:55:00"
         ],
         "y": [
          0.7033437942667952,
          0.7076890819454665,
          0.6055684573583638,
          0.6050274943169706,
          0.6171786557570512,
          0.4619871867172207,
          0.4872827278352723,
          0.5180437354573818,
          0.5734339798381897,
          0.4939971941964938,
          0.4836016714653573,
          0.4419509764170382,
          0.4330009605243211,
          0.43081105035715345,
          0.436074227059319,
          0.41320785159906886,
          0.4178381067006995,
          0.4356265961945648,
          0.4395121468103025,
          0.4208063801307171,
          0.44739311457074005,
          0.4541642651366511,
          0.5036798596452833,
          0.5670582241465485,
          0.5591909621550928,
          0.5677534048364513,
          0.5735047689409538,
          0.5193184377301144,
          0.5347867637587883,
          0.5700383049338503,
          0.5700383049338503,
          0.5792463919569314,
          0.5770057025569776,
          0.6231008783060802,
          0.5070838903606057,
          0.44166361391709874,
          0.5029266400099783,
          0.46846687915024154,
          0.48812690993694324,
          0.5728327496606204,
          0.6628955320445906,
          0.7035057148141765,
          0.7086774185903556,
          0.7130516263116539,
          0.6486793667599676,
          0.6474420183449403,
          0.7408601557778172,
          0.8165114580558163,
          0.8131300958466212,
          0.7808012828565873,
          0.6092552746980118,
          0.3902392611495833,
          0.408629933662049,
          0.3566562413495349,
          0.33997584683041976,
          0.4818021438815051,
          0.48746875776364046,
          0.4479529241854052,
          0.4550851325302197,
          0.41298459055789705,
          0.41838288589372713,
          0.36695708253299997,
          0.41359871304694384,
          0.4639212926452176,
          0.46113416748304203,
          0.49492593144349795,
          0.5392534380992297,
          0.47447598596411816,
          0.47447598596411816,
          0.5680658073795217,
          0.5905803138767741,
          0.29844687571165945,
          0.29960865470539616,
          0.32778375899247425,
          0.8658093652162812
         ],
         "yaxis": "y2"
        }
       ],
       "layout": {
        "legend": {
         "orientation": "h",
         "x": 1,
         "xanchor": "right",
         "y": 1.02,
         "yanchor": "bottom"
        },
        "shapes": [
         {
          "line": {
           "color": "Red",
           "dash": "dash",
           "width": 1.5
          },
          "type": "line",
          "x0": "2023-12-27T09:45:00",
          "x1": "2023-12-27T15:55:00",
          "y0": 0.5,
          "y1": 0.5,
          "yref": "y2"
         }
        ],
        "template": {
         "data": {
          "bar": [
           {
            "error_x": {
             "color": "#f2f5fa"
            },
            "error_y": {
             "color": "#f2f5fa"
            },
            "marker": {
             "line": {
              "color": "rgb(17,17,17)",
              "width": 0.5
             },
             "pattern": {
              "fillmode": "overlay",
              "size": 10,
              "solidity": 0.2
             }
            },
            "type": "bar"
           }
          ],
          "barpolar": [
           {
            "marker": {
             "line": {
              "color": "rgb(17,17,17)",
              "width": 0.5
             },
             "pattern": {
              "fillmode": "overlay",
              "size": 10,
              "solidity": 0.2
             }
            },
            "type": "barpolar"
           }
          ],
          "carpet": [
           {
            "aaxis": {
             "endlinecolor": "#A2B1C6",
             "gridcolor": "#506784",
             "linecolor": "#506784",
             "minorgridcolor": "#506784",
             "startlinecolor": "#A2B1C6"
            },
            "baxis": {
             "endlinecolor": "#A2B1C6",
             "gridcolor": "#506784",
             "linecolor": "#506784",
             "minorgridcolor": "#506784",
             "startlinecolor": "#A2B1C6"
            },
            "type": "carpet"
           }
          ],
          "choropleth": [
           {
            "colorbar": {
             "outlinewidth": 0,
             "ticks": ""
            },
            "type": "choropleth"
           }
          ],
          "contour": [
           {
            "colorbar": {
             "outlinewidth": 0,
             "ticks": ""
            },
            "colorscale": [
             [
              0,
              "#0d0887"
             ],
             [
              0.1111111111111111,
              "#46039f"
             ],
             [
              0.2222222222222222,
              "#7201a8"
             ],
             [
              0.3333333333333333,
              "#9c179e"
             ],
             [
              0.4444444444444444,
              "#bd3786"
             ],
             [
              0.5555555555555556,
              "#d8576b"
             ],
             [
              0.6666666666666666,
              "#ed7953"
             ],
             [
              0.7777777777777778,
              "#fb9f3a"
             ],
             [
              0.8888888888888888,
              "#fdca26"
             ],
             [
              1,
              "#f0f921"
             ]
            ],
            "type": "contour"
           }
          ],
          "contourcarpet": [
           {
            "colorbar": {
             "outlinewidth": 0,
             "ticks": ""
            },
            "type": "contourcarpet"
           }
          ],
          "heatmap": [
           {
            "colorbar": {
             "outlinewidth": 0,
             "ticks": ""
            },
            "colorscale": [
             [
              0,
              "#0d0887"
             ],
             [
              0.1111111111111111,
              "#46039f"
             ],
             [
              0.2222222222222222,
              "#7201a8"
             ],
             [
              0.3333333333333333,
              "#9c179e"
             ],
             [
              0.4444444444444444,
              "#bd3786"
             ],
             [
              0.5555555555555556,
              "#d8576b"
             ],
             [
              0.6666666666666666,
              "#ed7953"
             ],
             [
              0.7777777777777778,
              "#fb9f3a"
             ],
             [
              0.8888888888888888,
              "#fdca26"
             ],
             [
              1,
              "#f0f921"
             ]
            ],
            "type": "heatmap"
           }
          ],
          "heatmapgl": [
           {
            "colorbar": {
             "outlinewidth": 0,
             "ticks": ""
            },
            "colorscale": [
             [
              0,
              "#0d0887"
             ],
             [
              0.1111111111111111,
              "#46039f"
             ],
             [
              0.2222222222222222,
              "#7201a8"
             ],
             [
              0.3333333333333333,
              "#9c179e"
             ],
             [
              0.4444444444444444,
              "#bd3786"
             ],
             [
              0.5555555555555556,
              "#d8576b"
             ],
             [
              0.6666666666666666,
              "#ed7953"
             ],
             [
              0.7777777777777778,
              "#fb9f3a"
             ],
             [
              0.8888888888888888,
              "#fdca26"
             ],
             [
              1,
              "#f0f921"
             ]
            ],
            "type": "heatmapgl"
           }
          ],
          "histogram": [
           {
            "marker": {
             "pattern": {
              "fillmode": "overlay",
              "size": 10,
              "solidity": 0.2
             }
            },
            "type": "histogram"
           }
          ],
          "histogram2d": [
           {
            "colorbar": {
             "outlinewidth": 0,
             "ticks": ""
            },
            "colorscale": [
             [
              0,
              "#0d0887"
             ],
             [
              0.1111111111111111,
              "#46039f"
             ],
             [
              0.2222222222222222,
              "#7201a8"
             ],
             [
              0.3333333333333333,
              "#9c179e"
             ],
             [
              0.4444444444444444,
              "#bd3786"
             ],
             [
              0.5555555555555556,
              "#d8576b"
             ],
             [
              0.6666666666666666,
              "#ed7953"
             ],
             [
              0.7777777777777778,
              "#fb9f3a"
             ],
             [
              0.8888888888888888,
              "#fdca26"
             ],
             [
              1,
              "#f0f921"
             ]
            ],
            "type": "histogram2d"
           }
          ],
          "histogram2dcontour": [
           {
            "colorbar": {
             "outlinewidth": 0,
             "ticks": ""
            },
            "colorscale": [
             [
              0,
              "#0d0887"
             ],
             [
              0.1111111111111111,
              "#46039f"
             ],
             [
              0.2222222222222222,
              "#7201a8"
             ],
             [
              0.3333333333333333,
              "#9c179e"
             ],
             [
              0.4444444444444444,
              "#bd3786"
             ],
             [
              0.5555555555555556,
              "#d8576b"
             ],
             [
              0.6666666666666666,
              "#ed7953"
             ],
             [
              0.7777777777777778,
              "#fb9f3a"
             ],
             [
              0.8888888888888888,
              "#fdca26"
             ],
             [
              1,
              "#f0f921"
             ]
            ],
            "type": "histogram2dcontour"
           }
          ],
          "mesh3d": [
           {
            "colorbar": {
             "outlinewidth": 0,
             "ticks": ""
            },
            "type": "mesh3d"
           }
          ],
          "parcoords": [
           {
            "line": {
             "colorbar": {
              "outlinewidth": 0,
              "ticks": ""
             }
            },
            "type": "parcoords"
           }
          ],
          "pie": [
           {
            "automargin": true,
            "type": "pie"
           }
          ],
          "scatter": [
           {
            "marker": {
             "line": {
              "color": "#283442"
             }
            },
            "type": "scatter"
           }
          ],
          "scatter3d": [
           {
            "line": {
             "colorbar": {
              "outlinewidth": 0,
              "ticks": ""
             }
            },
            "marker": {
             "colorbar": {
              "outlinewidth": 0,
              "ticks": ""
             }
            },
            "type": "scatter3d"
           }
          ],
          "scattercarpet": [
           {
            "marker": {
             "colorbar": {
              "outlinewidth": 0,
              "ticks": ""
             }
            },
            "type": "scattercarpet"
           }
          ],
          "scattergeo": [
           {
            "marker": {
             "colorbar": {
              "outlinewidth": 0,
              "ticks": ""
             }
            },
            "type": "scattergeo"
           }
          ],
          "scattergl": [
           {
            "marker": {
             "line": {
              "color": "#283442"
             }
            },
            "type": "scattergl"
           }
          ],
          "scattermapbox": [
           {
            "marker": {
             "colorbar": {
              "outlinewidth": 0,
              "ticks": ""
             }
            },
            "type": "scattermapbox"
           }
          ],
          "scatterpolar": [
           {
            "marker": {
             "colorbar": {
              "outlinewidth": 0,
              "ticks": ""
             }
            },
            "type": "scatterpolar"
           }
          ],
          "scatterpolargl": [
           {
            "marker": {
             "colorbar": {
              "outlinewidth": 0,
              "ticks": ""
             }
            },
            "type": "scatterpolargl"
           }
          ],
          "scatterternary": [
           {
            "marker": {
             "colorbar": {
              "outlinewidth": 0,
              "ticks": ""
             }
            },
            "type": "scatterternary"
           }
          ],
          "surface": [
           {
            "colorbar": {
             "outlinewidth": 0,
             "ticks": ""
            },
            "colorscale": [
             [
              0,
              "#0d0887"
             ],
             [
              0.1111111111111111,
              "#46039f"
             ],
             [
              0.2222222222222222,
              "#7201a8"
             ],
             [
              0.3333333333333333,
              "#9c179e"
             ],
             [
              0.4444444444444444,
              "#bd3786"
             ],
             [
              0.5555555555555556,
              "#d8576b"
             ],
             [
              0.6666666666666666,
              "#ed7953"
             ],
             [
              0.7777777777777778,
              "#fb9f3a"
             ],
             [
              0.8888888888888888,
              "#fdca26"
             ],
             [
              1,
              "#f0f921"
             ]
            ],
            "type": "surface"
           }
          ],
          "table": [
           {
            "cells": {
             "fill": {
              "color": "#506784"
             },
             "line": {
              "color": "rgb(17,17,17)"
             }
            },
            "header": {
             "fill": {
              "color": "#2a3f5f"
             },
             "line": {
              "color": "rgb(17,17,17)"
             }
            },
            "type": "table"
           }
          ]
         },
         "layout": {
          "annotationdefaults": {
           "arrowcolor": "#f2f5fa",
           "arrowhead": 0,
           "arrowwidth": 1
          },
          "autotypenumbers": "strict",
          "coloraxis": {
           "colorbar": {
            "outlinewidth": 0,
            "ticks": ""
           }
          },
          "colorscale": {
           "diverging": [
            [
             0,
             "#8e0152"
            ],
            [
             0.1,
             "#c51b7d"
            ],
            [
             0.2,
             "#de77ae"
            ],
            [
             0.3,
             "#f1b6da"
            ],
            [
             0.4,
             "#fde0ef"
            ],
            [
             0.5,
             "#f7f7f7"
            ],
            [
             0.6,
             "#e6f5d0"
            ],
            [
             0.7,
             "#b8e186"
            ],
            [
             0.8,
             "#7fbc41"
            ],
            [
             0.9,
             "#4d9221"
            ],
            [
             1,
             "#276419"
            ]
           ],
           "sequential": [
            [
             0,
             "#0d0887"
            ],
            [
             0.1111111111111111,
             "#46039f"
            ],
            [
             0.2222222222222222,
             "#7201a8"
            ],
            [
             0.3333333333333333,
             "#9c179e"
            ],
            [
             0.4444444444444444,
             "#bd3786"
            ],
            [
             0.5555555555555556,
             "#d8576b"
            ],
            [
             0.6666666666666666,
             "#ed7953"
            ],
            [
             0.7777777777777778,
             "#fb9f3a"
            ],
            [
             0.8888888888888888,
             "#fdca26"
            ],
            [
             1,
             "#f0f921"
            ]
           ],
           "sequentialminus": [
            [
             0,
             "#0d0887"
            ],
            [
             0.1111111111111111,
             "#46039f"
            ],
            [
             0.2222222222222222,
             "#7201a8"
            ],
            [
             0.3333333333333333,
             "#9c179e"
            ],
            [
             0.4444444444444444,
             "#bd3786"
            ],
            [
             0.5555555555555556,
             "#d8576b"
            ],
            [
             0.6666666666666666,
             "#ed7953"
            ],
            [
             0.7777777777777778,
             "#fb9f3a"
            ],
            [
             0.8888888888888888,
             "#fdca26"
            ],
            [
             1,
             "#f0f921"
            ]
           ]
          },
          "colorway": [
           "#636efa",
           "#EF553B",
           "#00cc96",
           "#ab63fa",
           "#FFA15A",
           "#19d3f3",
           "#FF6692",
           "#B6E880",
           "#FF97FF",
           "#FECB52"
          ],
          "font": {
           "color": "#f2f5fa"
          },
          "geo": {
           "bgcolor": "rgb(17,17,17)",
           "lakecolor": "rgb(17,17,17)",
           "landcolor": "rgb(17,17,17)",
           "showlakes": true,
           "showland": true,
           "subunitcolor": "#506784"
          },
          "hoverlabel": {
           "align": "left"
          },
          "hovermode": "closest",
          "mapbox": {
           "style": "dark"
          },
          "paper_bgcolor": "rgb(17,17,17)",
          "plot_bgcolor": "rgb(17,17,17)",
          "polar": {
           "angularaxis": {
            "gridcolor": "#506784",
            "linecolor": "#506784",
            "ticks": ""
           },
           "bgcolor": "rgb(17,17,17)",
           "radialaxis": {
            "gridcolor": "#506784",
            "linecolor": "#506784",
            "ticks": ""
           }
          },
          "scene": {
           "xaxis": {
            "backgroundcolor": "rgb(17,17,17)",
            "gridcolor": "#506784",
            "gridwidth": 2,
            "linecolor": "#506784",
            "showbackground": true,
            "ticks": "",
            "zerolinecolor": "#C8D4E3"
           },
           "yaxis": {
            "backgroundcolor": "rgb(17,17,17)",
            "gridcolor": "#506784",
            "gridwidth": 2,
            "linecolor": "#506784",
            "showbackground": true,
            "ticks": "",
            "zerolinecolor": "#C8D4E3"
           },
           "zaxis": {
            "backgroundcolor": "rgb(17,17,17)",
            "gridcolor": "#506784",
            "gridwidth": 2,
            "linecolor": "#506784",
            "showbackground": true,
            "ticks": "",
            "zerolinecolor": "#C8D4E3"
           }
          },
          "shapedefaults": {
           "line": {
            "color": "#f2f5fa"
           }
          },
          "sliderdefaults": {
           "bgcolor": "#C8D4E3",
           "bordercolor": "rgb(17,17,17)",
           "borderwidth": 1,
           "tickwidth": 0
          },
          "ternary": {
           "aaxis": {
            "gridcolor": "#506784",
            "linecolor": "#506784",
            "ticks": ""
           },
           "baxis": {
            "gridcolor": "#506784",
            "linecolor": "#506784",
            "ticks": ""
           },
           "bgcolor": "rgb(17,17,17)",
           "caxis": {
            "gridcolor": "#506784",
            "linecolor": "#506784",
            "ticks": ""
           }
          },
          "title": {
           "x": 0.05
          },
          "updatemenudefaults": {
           "bgcolor": "#506784",
           "borderwidth": 0
          },
          "xaxis": {
           "automargin": true,
           "gridcolor": "#283442",
           "linecolor": "#506784",
           "ticks": "",
           "title": {
            "standoff": 15
           },
           "zerolinecolor": "#283442",
           "zerolinewidth": 2
          },
          "yaxis": {
           "automargin": true,
           "gridcolor": "#283442",
           "linecolor": "#506784",
           "ticks": "",
           "title": {
            "standoff": 15
           },
           "zerolinecolor": "#283442",
           "zerolinewidth": 2
          }
         }
        },
        "title": {
         "text": "OHLC vs Prediction Over Time"
        },
        "xaxis": {
         "rangeslider": {
          "visible": false
         }
        },
        "yaxis": {
         "tickformat": ".0f"
        },
        "yaxis2": {
         "overlaying": "y",
         "side": "right",
         "tickformat": ".0%"
        }
       }
      }
     },
     "metadata": {},
     "output_type": "display_data"
    }
   ],
   "source": [
    "import plotly.graph_objects as go\n",
    "\n",
    "# Pick a day in the test set\n",
    "test_day = '2023-12-27'\n",
    "# test_day = '2024-01-03'\n",
    "test_df = df_results.loc[test_day:test_day]\n",
    "X_prices = spx_data.loc[test_day:test_day, ['open','high','low','close']]\n",
    "\n",
    "df_viz = test_df.merge(X_prices, left_index=True, right_index=True)\n",
    "\n",
    "fig = go.Figure(data=[go.Candlestick(x=df_viz.index,\n",
    "                open=df_viz['open'],\n",
    "                high=df_viz['high'],\n",
    "                low=df_viz['low'],\n",
    "                close=df_viz['close'])])\n",
    "\n",
    "# fig.add_trace(go.Scatter(x=df_viz.index, y=df_viz['pred_hod'].ewm(2).mean(), mode='lines', name='pred_hod', yaxis='y2', line=dict(color='#ff5f5f')))\n",
    "fig.add_trace(go.Scatter(x=df_viz.index, y=df_viz['pred_hod'], mode='lines', name='pred_hod', yaxis='y2', line=dict(color='#ff5f5f')))\n",
    "fig.add_trace(go.Scatter(x=df_viz.index, y=df_viz['pred_lod'], mode='lines', name='pred_lod', yaxis='y2', line=dict(color='#3399cc')))\n",
    "fig.add_trace(go.Scatter(x=df_viz.index, y=df_viz['pred_gd'], mode='lines', name='pred_lod', yaxis='y2', line=dict(color='#98ff98')))\n",
    "\n",
    "fig.add_shape(\n",
    "    type=\"line\",\n",
    "    x0=df_viz.index.min(),\n",
    "    x1=df_viz.index.max(),\n",
    "    y0=0.5,\n",
    "    y1=0.5,\n",
    "    yref='y2',\n",
    "    line=dict(\n",
    "        color=\"Red\",\n",
    "        width=1.5,\n",
    "        dash=\"dash\",\n",
    "    )\n",
    ")\n",
    "\n",
    "fig.update_layout(\n",
    "    template='plotly_dark',\n",
    "    yaxis=dict(\n",
    "        tickformat='.0f'\n",
    "    ),\n",
    "    yaxis2=dict(\n",
    "        overlaying='y',\n",
    "        side='right',\n",
    "        tickformat=\".0%\"\n",
    "    ),\n",
    "    legend=dict(\n",
    "        orientation=\"h\",\n",
    "        yanchor=\"bottom\",\n",
    "        y=1.02,\n",
    "        xanchor=\"right\",\n",
    "        x=1\n",
    "    ),\n",
    "    title='OHLC vs Prediction Over Time',\n",
    "    xaxis_rangeslider_visible=False\n",
    ")\n",
    "\n",
    "fig.show()"
   ]
  },
  {
   "cell_type": "code",
   "execution_count": 114,
   "metadata": {},
   "outputs": [
    {
     "data": {
      "application/vnd.plotly.v1+json": {
       "config": {
        "plotlyServerURL": "https://plot.ly"
       },
       "data": [
        {
         "close": [
          4778.56,
          4780.01,
          4779.16,
          4779.29,
          4778.14,
          4772.34,
          4773.75,
          4775.01,
          4776.52,
          4774.67,
          4774.52,
          4772.13,
          4771.57,
          4772.33,
          4773.08,
          4771.46,
          4771.98,
          4772.58,
          4773.31,
          4772.75,
          4773.6,
          4774.86,
          4776.08,
          4777.61,
          4776.76,
          4776.9,
          4776.53,
          4775.83,
          4776.12,
          4777.54,
          4777.59,
          4777.83,
          4777.32,
          4777.96,
          4775.47,
          4773.07,
          4774.55,
          4773.96,
          4774.29,
          4777.71,
          4783.16,
          4781.59,
          4782.49,
          4781.44,
          4781.02,
          4781,
          4781.75,
          4783.16,
          4782.93,
          4782.15,
          4779.46,
          4770.06,
          4772.7,
          4770.19,
          4772.9,
          4775.53,
          4776.87,
          4774.67,
          4774.15,
          4771.84,
          4773.12,
          4771.12,
          4773.91,
          4775.22,
          4775.87,
          4775.89,
          4777.11,
          4775.34,
          4775.22,
          4777.06,
          4777.95,
          4773.27,
          4773.27,
          4774.35,
          4782.5
         ],
         "high": [
          4778.96,
          4780.25,
          4780.74,
          4780.47,
          4779.35,
          4778.53,
          4774.89,
          4775.52,
          4777.06,
          4776.57,
          4774.7,
          4774.64,
          4773.18,
          4772.37,
          4773.42,
          4772.91,
          4772.89,
          4772.72,
          4773.54,
          4773.61,
          4773.6,
          4775.16,
          4776.62,
          4777.9,
          4777.65,
          4777.49,
          4777.68,
          4777.36,
          4776.26,
          4777.78,
          4777.9,
          4778.97,
          4777.89,
          4778.4,
          4777.98,
          4775.57,
          4774.81,
          4774.79,
          4774.97,
          4778.07,
          4783.87,
          4785.39,
          4783.72,
          4782.83,
          4782.38,
          4782.75,
          4782.22,
          4783.27,
          4783.63,
          4783.39,
          4782.53,
          4779.44,
          4773.03,
          4772.69,
          4772.95,
          4775.62,
          4778.67,
          4776.96,
          4775.2,
          4774.06,
          4773.18,
          4773.38,
          4774.29,
          4775.82,
          4775.96,
          4777.4,
          4777.89,
          4777.56,
          4775.23,
          4777.35,
          4778.97,
          4778.28,
          4773.89,
          4775.26,
          4782.5
         ],
         "low": [
          4777.47,
          4778.41,
          4778.97,
          4778.32,
          4777.21,
          4771.9,
          4772.5,
          4771.16,
          4774.8,
          4774.67,
          4772.15,
          4771.6,
          4770.99,
          4769.97,
          4772.05,
          4770.93,
          4771.19,
          4771.17,
          4772.57,
          4772.69,
          4771.32,
          4773.27,
          4774.91,
          4775.6,
          4776.44,
          4776.2,
          4776.37,
          4774.84,
          4775.42,
          4776.07,
          4777.33,
          4777.13,
          4776.99,
          4777.19,
          4774.69,
          4772.08,
          4772.87,
          4773.95,
          4773.92,
          4774.28,
          4777.69,
          4781.59,
          4780.88,
          4781.27,
          4780.4,
          4780.55,
          4780.98,
          4781.77,
          4782.19,
          4781.62,
          4779.42,
          4769.21,
          4768.9,
          4769.15,
          4769.4,
          4772.87,
          4774.17,
          4774.06,
          4774.15,
          4771.07,
          4771.69,
          4771.12,
          4770.92,
          4773.14,
          4772.96,
          4775.49,
          4775.62,
          4775.31,
          4773.06,
          4774.2,
          4777.04,
          4773.06,
          4772.24,
          4771.24,
          4774.34
         ],
         "open": [
          4778.43,
          4778.56,
          4779.98,
          4778.87,
          4779.29,
          4778.13,
          4772.5,
          4773.73,
          4775.03,
          4776.48,
          4774.65,
          4774.48,
          4772.18,
          4771.52,
          4772.32,
          4772.88,
          4771.43,
          4771.96,
          4772.57,
          4773.31,
          4772.76,
          4773.58,
          4774.91,
          4776.05,
          4777.63,
          4776.78,
          4776.91,
          4776.54,
          4775.81,
          4776.15,
          4777.52,
          4777.6,
          4777.78,
          4777.33,
          4777.98,
          4775.46,
          4773.05,
          4774.55,
          4773.96,
          4774.28,
          4777.72,
          4783.19,
          4781.57,
          4782.41,
          4781.37,
          4781.13,
          4781.02,
          4781.77,
          4783.23,
          4782.88,
          4782.18,
          4779.44,
          4770.15,
          4772.59,
          4770.22,
          4772.87,
          4775.54,
          4776.85,
          4774.66,
          4774.06,
          4771.88,
          4773.09,
          4771.13,
          4773.9,
          4775.25,
          4775.89,
          4775.85,
          4777.09,
          4775.23,
          4775.24,
          4777.04,
          4777.89,
          4773.25,
          4773.2,
          4774.34
         ],
         "type": "candlestick",
         "x": [
          "2023-12-27T09:45:00",
          "2023-12-27T09:50:00",
          "2023-12-27T09:55:00",
          "2023-12-27T10:00:00",
          "2023-12-27T10:05:00",
          "2023-12-27T10:10:00",
          "2023-12-27T10:15:00",
          "2023-12-27T10:20:00",
          "2023-12-27T10:25:00",
          "2023-12-27T10:30:00",
          "2023-12-27T10:35:00",
          "2023-12-27T10:40:00",
          "2023-12-27T10:45:00",
          "2023-12-27T10:50:00",
          "2023-12-27T10:55:00",
          "2023-12-27T11:00:00",
          "2023-12-27T11:05:00",
          "2023-12-27T11:10:00",
          "2023-12-27T11:15:00",
          "2023-12-27T11:20:00",
          "2023-12-27T11:25:00",
          "2023-12-27T11:30:00",
          "2023-12-27T11:35:00",
          "2023-12-27T11:40:00",
          "2023-12-27T11:45:00",
          "2023-12-27T11:50:00",
          "2023-12-27T11:55:00",
          "2023-12-27T12:00:00",
          "2023-12-27T12:05:00",
          "2023-12-27T12:10:00",
          "2023-12-27T12:15:00",
          "2023-12-27T12:20:00",
          "2023-12-27T12:25:00",
          "2023-12-27T12:30:00",
          "2023-12-27T12:35:00",
          "2023-12-27T12:40:00",
          "2023-12-27T12:45:00",
          "2023-12-27T12:50:00",
          "2023-12-27T12:55:00",
          "2023-12-27T13:00:00",
          "2023-12-27T13:05:00",
          "2023-12-27T13:10:00",
          "2023-12-27T13:15:00",
          "2023-12-27T13:20:00",
          "2023-12-27T13:25:00",
          "2023-12-27T13:30:00",
          "2023-12-27T13:35:00",
          "2023-12-27T13:40:00",
          "2023-12-27T13:45:00",
          "2023-12-27T13:50:00",
          "2023-12-27T13:55:00",
          "2023-12-27T14:00:00",
          "2023-12-27T14:05:00",
          "2023-12-27T14:10:00",
          "2023-12-27T14:15:00",
          "2023-12-27T14:20:00",
          "2023-12-27T14:25:00",
          "2023-12-27T14:30:00",
          "2023-12-27T14:35:00",
          "2023-12-27T14:40:00",
          "2023-12-27T14:45:00",
          "2023-12-27T14:50:00",
          "2023-12-27T14:55:00",
          "2023-12-27T15:00:00",
          "2023-12-27T15:05:00",
          "2023-12-27T15:10:00",
          "2023-12-27T15:15:00",
          "2023-12-27T15:20:00",
          "2023-12-27T15:25:00",
          "2023-12-27T15:30:00",
          "2023-12-27T15:35:00",
          "2023-12-27T15:40:00",
          "2023-12-27T15:45:00",
          "2023-12-27T15:50:00",
          "2023-12-27T15:55:00"
         ]
        },
        {
         "line": {
          "color": "#ff5f5f"
         },
         "mode": "lines",
         "name": "pred_hod",
         "type": "scatter",
         "x": [
          "2023-12-27T09:45:00",
          "2023-12-27T09:50:00",
          "2023-12-27T09:55:00",
          "2023-12-27T10:00:00",
          "2023-12-27T10:05:00",
          "2023-12-27T10:10:00",
          "2023-12-27T10:15:00",
          "2023-12-27T10:20:00",
          "2023-12-27T10:25:00",
          "2023-12-27T10:30:00",
          "2023-12-27T10:35:00",
          "2023-12-27T10:40:00",
          "2023-12-27T10:45:00",
          "2023-12-27T10:50:00",
          "2023-12-27T10:55:00",
          "2023-12-27T11:00:00",
          "2023-12-27T11:05:00",
          "2023-12-27T11:10:00",
          "2023-12-27T11:15:00",
          "2023-12-27T11:20:00",
          "2023-12-27T11:25:00",
          "2023-12-27T11:30:00",
          "2023-12-27T11:35:00",
          "2023-12-27T11:40:00",
          "2023-12-27T11:45:00",
          "2023-12-27T11:50:00",
          "2023-12-27T11:55:00",
          "2023-12-27T12:00:00",
          "2023-12-27T12:05:00",
          "2023-12-27T12:10:00",
          "2023-12-27T12:15:00",
          "2023-12-27T12:20:00",
          "2023-12-27T12:25:00",
          "2023-12-27T12:30:00",
          "2023-12-27T12:35:00",
          "2023-12-27T12:40:00",
          "2023-12-27T12:45:00",
          "2023-12-27T12:50:00",
          "2023-12-27T12:55:00",
          "2023-12-27T13:00:00",
          "2023-12-27T13:05:00",
          "2023-12-27T13:10:00",
          "2023-12-27T13:15:00",
          "2023-12-27T13:20:00",
          "2023-12-27T13:25:00",
          "2023-12-27T13:30:00",
          "2023-12-27T13:35:00",
          "2023-12-27T13:40:00",
          "2023-12-27T13:45:00",
          "2023-12-27T13:50:00",
          "2023-12-27T13:55:00",
          "2023-12-27T14:00:00",
          "2023-12-27T14:05:00",
          "2023-12-27T14:10:00",
          "2023-12-27T14:15:00",
          "2023-12-27T14:20:00",
          "2023-12-27T14:25:00",
          "2023-12-27T14:30:00",
          "2023-12-27T14:35:00",
          "2023-12-27T14:40:00",
          "2023-12-27T14:45:00",
          "2023-12-27T14:50:00",
          "2023-12-27T14:55:00",
          "2023-12-27T15:00:00",
          "2023-12-27T15:05:00",
          "2023-12-27T15:10:00",
          "2023-12-27T15:15:00",
          "2023-12-27T15:20:00",
          "2023-12-27T15:25:00",
          "2023-12-27T15:30:00",
          "2023-12-27T15:35:00",
          "2023-12-27T15:40:00",
          "2023-12-27T15:45:00",
          "2023-12-27T15:50:00",
          "2023-12-27T15:55:00"
         ],
         "y": [
          0.11826128813582208,
          0.11630999236419355,
          0.13215695231523764,
          0.14259796115465173,
          0.15474557034619102,
          0.4488486722010189,
          0.3163935677242646,
          0.2489539796053905,
          0.20938780461839185,
          0.2610923988482946,
          0.2966360920262365,
          0.5491182746734053,
          0.5447220606537736,
          0.5063845728746973,
          0.3949289898445022,
          0.5281320509081786,
          0.5290440052327589,
          0.5080597074348067,
          0.4291706110151606,
          0.49327457006513215,
          0.43986109557053377,
          0.36760316280911765,
          0.31061568497320097,
          0.22046567592504746,
          0.2758738702439932,
          0.2826444403815592,
          0.3018534573244924,
          0.36279744552821486,
          0.3305527991185813,
          0.2428331263916484,
          0.2498817547600896,
          0.23073698086157785,
          0.26331096780696717,
          0.2366484890245951,
          0.41769019296641374,
          0.6231711985163131,
          0.5158841964731342,
          0.5970790205120653,
          0.5856519284552968,
          0.2564417597267118,
          0.13193462344100299,
          0.20106737386769638,
          0.21764785506738496,
          0.32615128817709244,
          0.34153397314235134,
          0.3763604271253619,
          0.3358094170371973,
          0.21698203713716607,
          0.2273600696331286,
          0.2989942457160139,
          0.49134410014055224,
          0.8944407017105942,
          0.863424120830363,
          0.9004595799582583,
          0.8688367134594974,
          0.7890422463007936,
          0.753914712773495,
          0.8230364155944873,
          0.8493419436415449,
          0.9095276692119656,
          0.9037931291863588,
          0.9237727979525914,
          0.8987979483033506,
          0.8958658343251862,
          0.8965744816048591,
          0.8998299821177224,
          0.8844051753332286,
          0.9170553470609308,
          0.9251667386167839,
          0.9203429677079935,
          0.9149461821536962,
          0.9388959506988478,
          0.9390805272421995,
          0.9393310263462252,
          0.9410476270008855
         ],
         "yaxis": "y2"
        },
        {
         "line": {
          "color": "#3399cc"
         },
         "mode": "lines",
         "name": "pred_lod",
         "type": "scatter",
         "x": [
          "2023-12-27T09:45:00",
          "2023-12-27T09:50:00",
          "2023-12-27T09:55:00",
          "2023-12-27T10:00:00",
          "2023-12-27T10:05:00",
          "2023-12-27T10:10:00",
          "2023-12-27T10:15:00",
          "2023-12-27T10:20:00",
          "2023-12-27T10:25:00",
          "2023-12-27T10:30:00",
          "2023-12-27T10:35:00",
          "2023-12-27T10:40:00",
          "2023-12-27T10:45:00",
          "2023-12-27T10:50:00",
          "2023-12-27T10:55:00",
          "2023-12-27T11:00:00",
          "2023-12-27T11:05:00",
          "2023-12-27T11:10:00",
          "2023-12-27T11:15:00",
          "2023-12-27T11:20:00",
          "2023-12-27T11:25:00",
          "2023-12-27T11:30:00",
          "2023-12-27T11:35:00",
          "2023-12-27T11:40:00",
          "2023-12-27T11:45:00",
          "2023-12-27T11:50:00",
          "2023-12-27T11:55:00",
          "2023-12-27T12:00:00",
          "2023-12-27T12:05:00",
          "2023-12-27T12:10:00",
          "2023-12-27T12:15:00",
          "2023-12-27T12:20:00",
          "2023-12-27T12:25:00",
          "2023-12-27T12:30:00",
          "2023-12-27T12:35:00",
          "2023-12-27T12:40:00",
          "2023-12-27T12:45:00",
          "2023-12-27T12:50:00",
          "2023-12-27T12:55:00",
          "2023-12-27T13:00:00",
          "2023-12-27T13:05:00",
          "2023-12-27T13:10:00",
          "2023-12-27T13:15:00",
          "2023-12-27T13:20:00",
          "2023-12-27T13:25:00",
          "2023-12-27T13:30:00",
          "2023-12-27T13:35:00",
          "2023-12-27T13:40:00",
          "2023-12-27T13:45:00",
          "2023-12-27T13:50:00",
          "2023-12-27T13:55:00",
          "2023-12-27T14:00:00",
          "2023-12-27T14:05:00",
          "2023-12-27T14:10:00",
          "2023-12-27T14:15:00",
          "2023-12-27T14:20:00",
          "2023-12-27T14:25:00",
          "2023-12-27T14:30:00",
          "2023-12-27T14:35:00",
          "2023-12-27T14:40:00",
          "2023-12-27T14:45:00",
          "2023-12-27T14:50:00",
          "2023-12-27T14:55:00",
          "2023-12-27T15:00:00",
          "2023-12-27T15:05:00",
          "2023-12-27T15:10:00",
          "2023-12-27T15:15:00",
          "2023-12-27T15:20:00",
          "2023-12-27T15:25:00",
          "2023-12-27T15:30:00",
          "2023-12-27T15:35:00",
          "2023-12-27T15:40:00",
          "2023-12-27T15:45:00",
          "2023-12-27T15:50:00",
          "2023-12-27T15:55:00"
         ],
         "y": [
          0.464422080661568,
          0.47608638023672256,
          0.3425592468643429,
          0.3384733415360802,
          0.2779984301897957,
          0.14376841893223902,
          0.15670423689382035,
          0.19834119557322943,
          0.2737567593328838,
          0.20269829938507683,
          0.19842439083619592,
          0.1534712088150614,
          0.14924369065250934,
          0.15420038009187317,
          0.19747860279288262,
          0.15412369090764327,
          0.16357458104130093,
          0.1904914552516482,
          0.21840999126758676,
          0.19589379044417127,
          0.23404976763436575,
          0.3139102528444589,
          0.3865229119211825,
          0.5194323225018161,
          0.46767360077566345,
          0.48194147107642077,
          0.4516512835497342,
          0.38321131465015573,
          0.4204099365674798,
          0.559991004605941,
          0.5788065498906393,
          0.591585433441274,
          0.5381293876927696,
          0.5897381735418651,
          0.3933845407694406,
          0.2441284267468895,
          0.32702204851309835,
          0.2987713374413923,
          0.3255115421635472,
          0.5813316485463849,
          0.8207882558557758,
          0.768407408250728,
          0.7581774229030198,
          0.7486324456551378,
          0.7373898142456564,
          0.7362958091969469,
          0.7590964463384602,
          0.804936335222572,
          0.7955472132488379,
          0.784531384765115,
          0.6631582754280434,
          0.14867129701382417,
          0.23213396255151442,
          0.1555585759453438,
          0.2810627011869703,
          0.49002094633128246,
          0.664936743484723,
          0.4104395240786203,
          0.4022922014719759,
          0.232524519710987,
          0.2910650621522964,
          0.19723613184370567,
          0.4176669909673739,
          0.5498942617156964,
          0.6858561584802889,
          0.7209060747525206,
          0.826406907071364,
          0.7403914645808163,
          0.748584170381029,
          0.8779366142808904,
          0.9158300785150267,
          0.6401138778735936,
          0.7538868504650231,
          0.908374640828659,
          0.9359617589186616
         ],
         "yaxis": "y2"
        },
        {
         "line": {
          "color": "#98ff98"
         },
         "mode": "lines",
         "name": "pred_lod",
         "type": "scatter",
         "x": [
          "2023-12-27T09:45:00",
          "2023-12-27T09:50:00",
          "2023-12-27T09:55:00",
          "2023-12-27T10:00:00",
          "2023-12-27T10:05:00",
          "2023-12-27T10:10:00",
          "2023-12-27T10:15:00",
          "2023-12-27T10:20:00",
          "2023-12-27T10:25:00",
          "2023-12-27T10:30:00",
          "2023-12-27T10:35:00",
          "2023-12-27T10:40:00",
          "2023-12-27T10:45:00",
          "2023-12-27T10:50:00",
          "2023-12-27T10:55:00",
          "2023-12-27T11:00:00",
          "2023-12-27T11:05:00",
          "2023-12-27T11:10:00",
          "2023-12-27T11:15:00",
          "2023-12-27T11:20:00",
          "2023-12-27T11:25:00",
          "2023-12-27T11:30:00",
          "2023-12-27T11:35:00",
          "2023-12-27T11:40:00",
          "2023-12-27T11:45:00",
          "2023-12-27T11:50:00",
          "2023-12-27T11:55:00",
          "2023-12-27T12:00:00",
          "2023-12-27T12:05:00",
          "2023-12-27T12:10:00",
          "2023-12-27T12:15:00",
          "2023-12-27T12:20:00",
          "2023-12-27T12:25:00",
          "2023-12-27T12:30:00",
          "2023-12-27T12:35:00",
          "2023-12-27T12:40:00",
          "2023-12-27T12:45:00",
          "2023-12-27T12:50:00",
          "2023-12-27T12:55:00",
          "2023-12-27T13:00:00",
          "2023-12-27T13:05:00",
          "2023-12-27T13:10:00",
          "2023-12-27T13:15:00",
          "2023-12-27T13:20:00",
          "2023-12-27T13:25:00",
          "2023-12-27T13:30:00",
          "2023-12-27T13:35:00",
          "2023-12-27T13:40:00",
          "2023-12-27T13:45:00",
          "2023-12-27T13:50:00",
          "2023-12-27T13:55:00",
          "2023-12-27T14:00:00",
          "2023-12-27T14:05:00",
          "2023-12-27T14:10:00",
          "2023-12-27T14:15:00",
          "2023-12-27T14:20:00",
          "2023-12-27T14:25:00",
          "2023-12-27T14:30:00",
          "2023-12-27T14:35:00",
          "2023-12-27T14:40:00",
          "2023-12-27T14:45:00",
          "2023-12-27T14:50:00",
          "2023-12-27T14:55:00",
          "2023-12-27T15:00:00",
          "2023-12-27T15:05:00",
          "2023-12-27T15:10:00",
          "2023-12-27T15:15:00",
          "2023-12-27T15:20:00",
          "2023-12-27T15:25:00",
          "2023-12-27T15:30:00",
          "2023-12-27T15:35:00",
          "2023-12-27T15:40:00",
          "2023-12-27T15:45:00",
          "2023-12-27T15:50:00",
          "2023-12-27T15:55:00"
         ],
         "y": [
          0.6540429037543507,
          0.6970538815150619,
          0.597570048158086,
          0.5979539656592904,
          0.6086883589982117,
          0.4192843745937478,
          0.44771502697461385,
          0.4920695733068456,
          0.5286189721247005,
          0.4662042726976282,
          0.4577065300768674,
          0.3955446123268886,
          0.3628708001463614,
          0.37851406182026703,
          0.3841840615273342,
          0.3381911521546244,
          0.3479235699426685,
          0.384749478420635,
          0.3917787901651497,
          0.3779538223465415,
          0.4202026091254002,
          0.47358429400400504,
          0.5459792773532985,
          0.581206074737794,
          0.6024502429759946,
          0.5998658575829807,
          0.5975339140057353,
          0.5658750338760443,
          0.5806941383384878,
          0.6038054899919787,
          0.6042962158011148,
          0.6231921135546685,
          0.6015240910517552,
          0.6465067640487028,
          0.5314847230508903,
          0.4239380936099025,
          0.4755434297858141,
          0.4491493973944424,
          0.44764821739409666,
          0.5929079811560174,
          0.7409411367358227,
          0.7275162203995691,
          0.7685947619068645,
          0.7631758153348119,
          0.7176149577325499,
          0.7320087720310446,
          0.7834687261993242,
          0.8186633525285918,
          0.8221692024754577,
          0.8124376665101355,
          0.6676086703195793,
          0.3403545939592434,
          0.39174657430742876,
          0.29523215642650047,
          0.32785911395124756,
          0.46320555737624813,
          0.512556760485633,
          0.4310174266391173,
          0.4327802644143771,
          0.35373955684149966,
          0.3891394624730673,
          0.319996023071463,
          0.37334985594507597,
          0.48174143777725664,
          0.49910486088822603,
          0.5403299936756978,
          0.5809107514551233,
          0.5006366977318439,
          0.5117104023745325,
          0.6089992601776755,
          0.6382894928290564,
          0.31725870372804926,
          0.2975898556328909,
          0.3394609920120508,
          0.8466584535569256
         ],
         "yaxis": "y2"
        }
       ],
       "layout": {
        "legend": {
         "orientation": "h",
         "x": 1,
         "xanchor": "right",
         "y": 1.02,
         "yanchor": "bottom"
        },
        "shapes": [
         {
          "line": {
           "color": "Red",
           "dash": "dash",
           "width": 1.5
          },
          "type": "line",
          "x0": "2023-12-27T09:45:00",
          "x1": "2023-12-27T15:55:00",
          "y0": 0.5,
          "y1": 0.5,
          "yref": "y2"
         }
        ],
        "template": {
         "data": {
          "bar": [
           {
            "error_x": {
             "color": "#f2f5fa"
            },
            "error_y": {
             "color": "#f2f5fa"
            },
            "marker": {
             "line": {
              "color": "rgb(17,17,17)",
              "width": 0.5
             },
             "pattern": {
              "fillmode": "overlay",
              "size": 10,
              "solidity": 0.2
             }
            },
            "type": "bar"
           }
          ],
          "barpolar": [
           {
            "marker": {
             "line": {
              "color": "rgb(17,17,17)",
              "width": 0.5
             },
             "pattern": {
              "fillmode": "overlay",
              "size": 10,
              "solidity": 0.2
             }
            },
            "type": "barpolar"
           }
          ],
          "carpet": [
           {
            "aaxis": {
             "endlinecolor": "#A2B1C6",
             "gridcolor": "#506784",
             "linecolor": "#506784",
             "minorgridcolor": "#506784",
             "startlinecolor": "#A2B1C6"
            },
            "baxis": {
             "endlinecolor": "#A2B1C6",
             "gridcolor": "#506784",
             "linecolor": "#506784",
             "minorgridcolor": "#506784",
             "startlinecolor": "#A2B1C6"
            },
            "type": "carpet"
           }
          ],
          "choropleth": [
           {
            "colorbar": {
             "outlinewidth": 0,
             "ticks": ""
            },
            "type": "choropleth"
           }
          ],
          "contour": [
           {
            "colorbar": {
             "outlinewidth": 0,
             "ticks": ""
            },
            "colorscale": [
             [
              0,
              "#0d0887"
             ],
             [
              0.1111111111111111,
              "#46039f"
             ],
             [
              0.2222222222222222,
              "#7201a8"
             ],
             [
              0.3333333333333333,
              "#9c179e"
             ],
             [
              0.4444444444444444,
              "#bd3786"
             ],
             [
              0.5555555555555556,
              "#d8576b"
             ],
             [
              0.6666666666666666,
              "#ed7953"
             ],
             [
              0.7777777777777778,
              "#fb9f3a"
             ],
             [
              0.8888888888888888,
              "#fdca26"
             ],
             [
              1,
              "#f0f921"
             ]
            ],
            "type": "contour"
           }
          ],
          "contourcarpet": [
           {
            "colorbar": {
             "outlinewidth": 0,
             "ticks": ""
            },
            "type": "contourcarpet"
           }
          ],
          "heatmap": [
           {
            "colorbar": {
             "outlinewidth": 0,
             "ticks": ""
            },
            "colorscale": [
             [
              0,
              "#0d0887"
             ],
             [
              0.1111111111111111,
              "#46039f"
             ],
             [
              0.2222222222222222,
              "#7201a8"
             ],
             [
              0.3333333333333333,
              "#9c179e"
             ],
             [
              0.4444444444444444,
              "#bd3786"
             ],
             [
              0.5555555555555556,
              "#d8576b"
             ],
             [
              0.6666666666666666,
              "#ed7953"
             ],
             [
              0.7777777777777778,
              "#fb9f3a"
             ],
             [
              0.8888888888888888,
              "#fdca26"
             ],
             [
              1,
              "#f0f921"
             ]
            ],
            "type": "heatmap"
           }
          ],
          "heatmapgl": [
           {
            "colorbar": {
             "outlinewidth": 0,
             "ticks": ""
            },
            "colorscale": [
             [
              0,
              "#0d0887"
             ],
             [
              0.1111111111111111,
              "#46039f"
             ],
             [
              0.2222222222222222,
              "#7201a8"
             ],
             [
              0.3333333333333333,
              "#9c179e"
             ],
             [
              0.4444444444444444,
              "#bd3786"
             ],
             [
              0.5555555555555556,
              "#d8576b"
             ],
             [
              0.6666666666666666,
              "#ed7953"
             ],
             [
              0.7777777777777778,
              "#fb9f3a"
             ],
             [
              0.8888888888888888,
              "#fdca26"
             ],
             [
              1,
              "#f0f921"
             ]
            ],
            "type": "heatmapgl"
           }
          ],
          "histogram": [
           {
            "marker": {
             "pattern": {
              "fillmode": "overlay",
              "size": 10,
              "solidity": 0.2
             }
            },
            "type": "histogram"
           }
          ],
          "histogram2d": [
           {
            "colorbar": {
             "outlinewidth": 0,
             "ticks": ""
            },
            "colorscale": [
             [
              0,
              "#0d0887"
             ],
             [
              0.1111111111111111,
              "#46039f"
             ],
             [
              0.2222222222222222,
              "#7201a8"
             ],
             [
              0.3333333333333333,
              "#9c179e"
             ],
             [
              0.4444444444444444,
              "#bd3786"
             ],
             [
              0.5555555555555556,
              "#d8576b"
             ],
             [
              0.6666666666666666,
              "#ed7953"
             ],
             [
              0.7777777777777778,
              "#fb9f3a"
             ],
             [
              0.8888888888888888,
              "#fdca26"
             ],
             [
              1,
              "#f0f921"
             ]
            ],
            "type": "histogram2d"
           }
          ],
          "histogram2dcontour": [
           {
            "colorbar": {
             "outlinewidth": 0,
             "ticks": ""
            },
            "colorscale": [
             [
              0,
              "#0d0887"
             ],
             [
              0.1111111111111111,
              "#46039f"
             ],
             [
              0.2222222222222222,
              "#7201a8"
             ],
             [
              0.3333333333333333,
              "#9c179e"
             ],
             [
              0.4444444444444444,
              "#bd3786"
             ],
             [
              0.5555555555555556,
              "#d8576b"
             ],
             [
              0.6666666666666666,
              "#ed7953"
             ],
             [
              0.7777777777777778,
              "#fb9f3a"
             ],
             [
              0.8888888888888888,
              "#fdca26"
             ],
             [
              1,
              "#f0f921"
             ]
            ],
            "type": "histogram2dcontour"
           }
          ],
          "mesh3d": [
           {
            "colorbar": {
             "outlinewidth": 0,
             "ticks": ""
            },
            "type": "mesh3d"
           }
          ],
          "parcoords": [
           {
            "line": {
             "colorbar": {
              "outlinewidth": 0,
              "ticks": ""
             }
            },
            "type": "parcoords"
           }
          ],
          "pie": [
           {
            "automargin": true,
            "type": "pie"
           }
          ],
          "scatter": [
           {
            "marker": {
             "line": {
              "color": "#283442"
             }
            },
            "type": "scatter"
           }
          ],
          "scatter3d": [
           {
            "line": {
             "colorbar": {
              "outlinewidth": 0,
              "ticks": ""
             }
            },
            "marker": {
             "colorbar": {
              "outlinewidth": 0,
              "ticks": ""
             }
            },
            "type": "scatter3d"
           }
          ],
          "scattercarpet": [
           {
            "marker": {
             "colorbar": {
              "outlinewidth": 0,
              "ticks": ""
             }
            },
            "type": "scattercarpet"
           }
          ],
          "scattergeo": [
           {
            "marker": {
             "colorbar": {
              "outlinewidth": 0,
              "ticks": ""
             }
            },
            "type": "scattergeo"
           }
          ],
          "scattergl": [
           {
            "marker": {
             "line": {
              "color": "#283442"
             }
            },
            "type": "scattergl"
           }
          ],
          "scattermapbox": [
           {
            "marker": {
             "colorbar": {
              "outlinewidth": 0,
              "ticks": ""
             }
            },
            "type": "scattermapbox"
           }
          ],
          "scatterpolar": [
           {
            "marker": {
             "colorbar": {
              "outlinewidth": 0,
              "ticks": ""
             }
            },
            "type": "scatterpolar"
           }
          ],
          "scatterpolargl": [
           {
            "marker": {
             "colorbar": {
              "outlinewidth": 0,
              "ticks": ""
             }
            },
            "type": "scatterpolargl"
           }
          ],
          "scatterternary": [
           {
            "marker": {
             "colorbar": {
              "outlinewidth": 0,
              "ticks": ""
             }
            },
            "type": "scatterternary"
           }
          ],
          "surface": [
           {
            "colorbar": {
             "outlinewidth": 0,
             "ticks": ""
            },
            "colorscale": [
             [
              0,
              "#0d0887"
             ],
             [
              0.1111111111111111,
              "#46039f"
             ],
             [
              0.2222222222222222,
              "#7201a8"
             ],
             [
              0.3333333333333333,
              "#9c179e"
             ],
             [
              0.4444444444444444,
              "#bd3786"
             ],
             [
              0.5555555555555556,
              "#d8576b"
             ],
             [
              0.6666666666666666,
              "#ed7953"
             ],
             [
              0.7777777777777778,
              "#fb9f3a"
             ],
             [
              0.8888888888888888,
              "#fdca26"
             ],
             [
              1,
              "#f0f921"
             ]
            ],
            "type": "surface"
           }
          ],
          "table": [
           {
            "cells": {
             "fill": {
              "color": "#506784"
             },
             "line": {
              "color": "rgb(17,17,17)"
             }
            },
            "header": {
             "fill": {
              "color": "#2a3f5f"
             },
             "line": {
              "color": "rgb(17,17,17)"
             }
            },
            "type": "table"
           }
          ]
         },
         "layout": {
          "annotationdefaults": {
           "arrowcolor": "#f2f5fa",
           "arrowhead": 0,
           "arrowwidth": 1
          },
          "autotypenumbers": "strict",
          "coloraxis": {
           "colorbar": {
            "outlinewidth": 0,
            "ticks": ""
           }
          },
          "colorscale": {
           "diverging": [
            [
             0,
             "#8e0152"
            ],
            [
             0.1,
             "#c51b7d"
            ],
            [
             0.2,
             "#de77ae"
            ],
            [
             0.3,
             "#f1b6da"
            ],
            [
             0.4,
             "#fde0ef"
            ],
            [
             0.5,
             "#f7f7f7"
            ],
            [
             0.6,
             "#e6f5d0"
            ],
            [
             0.7,
             "#b8e186"
            ],
            [
             0.8,
             "#7fbc41"
            ],
            [
             0.9,
             "#4d9221"
            ],
            [
             1,
             "#276419"
            ]
           ],
           "sequential": [
            [
             0,
             "#0d0887"
            ],
            [
             0.1111111111111111,
             "#46039f"
            ],
            [
             0.2222222222222222,
             "#7201a8"
            ],
            [
             0.3333333333333333,
             "#9c179e"
            ],
            [
             0.4444444444444444,
             "#bd3786"
            ],
            [
             0.5555555555555556,
             "#d8576b"
            ],
            [
             0.6666666666666666,
             "#ed7953"
            ],
            [
             0.7777777777777778,
             "#fb9f3a"
            ],
            [
             0.8888888888888888,
             "#fdca26"
            ],
            [
             1,
             "#f0f921"
            ]
           ],
           "sequentialminus": [
            [
             0,
             "#0d0887"
            ],
            [
             0.1111111111111111,
             "#46039f"
            ],
            [
             0.2222222222222222,
             "#7201a8"
            ],
            [
             0.3333333333333333,
             "#9c179e"
            ],
            [
             0.4444444444444444,
             "#bd3786"
            ],
            [
             0.5555555555555556,
             "#d8576b"
            ],
            [
             0.6666666666666666,
             "#ed7953"
            ],
            [
             0.7777777777777778,
             "#fb9f3a"
            ],
            [
             0.8888888888888888,
             "#fdca26"
            ],
            [
             1,
             "#f0f921"
            ]
           ]
          },
          "colorway": [
           "#636efa",
           "#EF553B",
           "#00cc96",
           "#ab63fa",
           "#FFA15A",
           "#19d3f3",
           "#FF6692",
           "#B6E880",
           "#FF97FF",
           "#FECB52"
          ],
          "font": {
           "color": "#f2f5fa"
          },
          "geo": {
           "bgcolor": "rgb(17,17,17)",
           "lakecolor": "rgb(17,17,17)",
           "landcolor": "rgb(17,17,17)",
           "showlakes": true,
           "showland": true,
           "subunitcolor": "#506784"
          },
          "hoverlabel": {
           "align": "left"
          },
          "hovermode": "closest",
          "mapbox": {
           "style": "dark"
          },
          "paper_bgcolor": "rgb(17,17,17)",
          "plot_bgcolor": "rgb(17,17,17)",
          "polar": {
           "angularaxis": {
            "gridcolor": "#506784",
            "linecolor": "#506784",
            "ticks": ""
           },
           "bgcolor": "rgb(17,17,17)",
           "radialaxis": {
            "gridcolor": "#506784",
            "linecolor": "#506784",
            "ticks": ""
           }
          },
          "scene": {
           "xaxis": {
            "backgroundcolor": "rgb(17,17,17)",
            "gridcolor": "#506784",
            "gridwidth": 2,
            "linecolor": "#506784",
            "showbackground": true,
            "ticks": "",
            "zerolinecolor": "#C8D4E3"
           },
           "yaxis": {
            "backgroundcolor": "rgb(17,17,17)",
            "gridcolor": "#506784",
            "gridwidth": 2,
            "linecolor": "#506784",
            "showbackground": true,
            "ticks": "",
            "zerolinecolor": "#C8D4E3"
           },
           "zaxis": {
            "backgroundcolor": "rgb(17,17,17)",
            "gridcolor": "#506784",
            "gridwidth": 2,
            "linecolor": "#506784",
            "showbackground": true,
            "ticks": "",
            "zerolinecolor": "#C8D4E3"
           }
          },
          "shapedefaults": {
           "line": {
            "color": "#f2f5fa"
           }
          },
          "sliderdefaults": {
           "bgcolor": "#C8D4E3",
           "bordercolor": "rgb(17,17,17)",
           "borderwidth": 1,
           "tickwidth": 0
          },
          "ternary": {
           "aaxis": {
            "gridcolor": "#506784",
            "linecolor": "#506784",
            "ticks": ""
           },
           "baxis": {
            "gridcolor": "#506784",
            "linecolor": "#506784",
            "ticks": ""
           },
           "bgcolor": "rgb(17,17,17)",
           "caxis": {
            "gridcolor": "#506784",
            "linecolor": "#506784",
            "ticks": ""
           }
          },
          "title": {
           "x": 0.05
          },
          "updatemenudefaults": {
           "bgcolor": "#506784",
           "borderwidth": 0
          },
          "xaxis": {
           "automargin": true,
           "gridcolor": "#283442",
           "linecolor": "#506784",
           "ticks": "",
           "title": {
            "standoff": 15
           },
           "zerolinecolor": "#283442",
           "zerolinewidth": 2
          },
          "yaxis": {
           "automargin": true,
           "gridcolor": "#283442",
           "linecolor": "#506784",
           "ticks": "",
           "title": {
            "standoff": 15
           },
           "zerolinecolor": "#283442",
           "zerolinewidth": 2
          }
         }
        },
        "title": {
         "text": "OHLC vs Prediction Over Time"
        },
        "xaxis": {
         "rangeslider": {
          "visible": false
         }
        },
        "yaxis": {
         "tickformat": ".0f"
        },
        "yaxis2": {
         "overlaying": "y",
         "side": "right",
         "tickformat": ".0%"
        }
       }
      }
     },
     "metadata": {},
     "output_type": "display_data"
    }
   ],
   "source": [
    "test_df = df_results.loc[test_day:test_day]\n",
    "X_prices = spx_data.loc[test_day:test_day, ['open','high','low','close']]\n",
    "\n",
    "df_viz = test_df.merge(X_prices, left_index=True, right_index=True)\n",
    "\n",
    "fig = go.Figure(data=[go.Candlestick(x=df_viz.index,\n",
    "                open=df_viz['open'],\n",
    "                high=df_viz['high'],\n",
    "                low=df_viz['low'],\n",
    "                close=df_viz['close'])])\n",
    "\n",
    "# fig.add_trace(go.Scatter(x=df_viz.index, y=df_viz['pred_hod'].ewm(2).mean(), mode='lines', name='pred_hod', yaxis='y2', line=dict(color='#ff5f5f')))\n",
    "fig.add_trace(go.Scatter(x=df_viz.index, y=df_viz['pred_hod_cv'], mode='lines', name='pred_hod', yaxis='y2', line=dict(color='#ff5f5f')))\n",
    "fig.add_trace(go.Scatter(x=df_viz.index, y=df_viz['pred_lod_cv'], mode='lines', name='pred_lod', yaxis='y2', line=dict(color='#3399cc')))\n",
    "fig.add_trace(go.Scatter(x=df_viz.index, y=df_viz['pred_gd_cv'], mode='lines', name='pred_lod', yaxis='y2', line=dict(color='#98ff98')))\n",
    "\n",
    "fig.add_shape(\n",
    "    type=\"line\",\n",
    "    x0=df_viz.index.min(),\n",
    "    x1=df_viz.index.max(),\n",
    "    y0=0.5,\n",
    "    y1=0.5,\n",
    "    yref='y2',\n",
    "    line=dict(\n",
    "        color=\"Red\",\n",
    "        width=1.5,\n",
    "        dash=\"dash\",\n",
    "    )\n",
    ")\n",
    "\n",
    "fig.update_layout(\n",
    "    template='plotly_dark',\n",
    "    yaxis=dict(\n",
    "        tickformat='.0f'\n",
    "    ),\n",
    "    yaxis2=dict(\n",
    "        overlaying='y',\n",
    "        side='right',\n",
    "        tickformat=\".0%\"\n",
    "    ),\n",
    "    legend=dict(\n",
    "        orientation=\"h\",\n",
    "        yanchor=\"bottom\",\n",
    "        y=1.02,\n",
    "        xanchor=\"right\",\n",
    "        x=1\n",
    "    ),\n",
    "    title='OHLC vs Prediction Over Time',\n",
    "    xaxis_rangeslider_visible=False\n",
    ")\n",
    "\n",
    "fig.show()"
   ]
  },
  {
   "cell_type": "markdown",
   "metadata": {},
   "source": [
    "# Inference Pipeline"
   ]
  },
  {
   "cell_type": "code",
   "execution_count": 115,
   "metadata": {},
   "outputs": [],
   "source": [
    "# Get data\n",
    "import yfinance as yf\n",
    "import numpy as np\n",
    "import pandas as pd\n",
    "import datetime\n",
    "\n",
    "# Create a list of times from 9:30 to 15:55 with 5 minute intervals\n",
    "times = pd.date_range(start=\"9:30\", end=\"15:55\", freq='5min').time\n",
    "\n",
    "# Create a dictionary that maps each time to a unique integer\n",
    "time_to_int = {time: i+1 for i, time in enumerate(times)}\n",
    "\n",
    "\n",
    "def create_features(ticker_str):\n",
    "    '''\n",
    "    Function to create dataframe of features for top/bottom model.\n",
    "    '''\n",
    "    ticker = yf.Ticker(ticker_str)\n",
    "    df = ticker.history(period='5d',interval='5m')\n",
    "    df = df.loc[\n",
    "        (df.index.time >= datetime.time(9,30)) &\\\n",
    "        (df.index.time < datetime.time(16,0)),\n",
    "    ['Open','High','Low','Close']]\n",
    "    df.columns = ['open','high','low','close']\n",
    "\n",
    "    df['time'] = df.index.time\n",
    "    df['eod_close'] = df.groupby(df.index.date)['close'].tail(1)\n",
    "    df['prev_close'] = df['eod_close'].shift(1)\n",
    "    df['prev_close'] = df['prev_close'].ffill()\n",
    "    df['eod_close'] = df['eod_close'].bfill()\n",
    "    df['green_day'] = df['eod_close'] > df['prev_close']\n",
    "\n",
    "    # Assume df is your DataFrame and 'time' is your column of times\n",
    "    df['bar_num'] = df['time'].map(time_to_int)\n",
    "\n",
    "    df['eod_close_pts'] = df['eod_close'] - df['prev_close']\n",
    "    df['eod_close_pct'] = df['eod_close_pts'] / df['prev_close']\n",
    "\n",
    "    for day in sorted(set(df.index.date)):\n",
    "        day_str = datetime.datetime.strftime(day, '%Y-%m-%d')\n",
    "        day_open = df.loc[day_str, 'open'].iloc[0]\n",
    "        df.loc[day_str, 'lod'] = df.loc[day_str, 'low'].min()\n",
    "        df.loc[day_str, 'label_lod'] = (df.loc[day_str, 'low'] == df.loc[day_str, 'lod']).astype(int)\n",
    "        \n",
    "        df.loc[day_str, 'hod'] = df.loc[day_str, 'high'].max()\n",
    "        df.loc[day_str, 'label'] = (df.loc[day_str, 'high'] == df.loc[day_str, 'hod']).astype(int)\n",
    "        df.loc[day_str, 'day_open'] = day_open\n",
    "        df.loc[day_str, 'day_open_pts'] = df.loc[day_str, 'close'] - df.loc[day_str, 'day_open']\n",
    "        df.loc[day_str, 'day_open_pct'] = df.loc[day_str, 'day_open_pts'] / df.loc[day_str, 'day_open']\n",
    "        df.loc[day_str, 'prev_close_pts'] = df.loc[day_str, 'close'] - df.loc[day_str, 'prev_close']\n",
    "        df.loc[day_str, 'prev_close_pct'] = df.loc[day_str, 'prev_close_pts'] / df.loc[day_str, 'prev_close']\n",
    "\n",
    "        # Lowest low\n",
    "        df.loc[day_str, 'lowest_low'] = df.loc[day_str, 'low'].expanding().min()\n",
    "        df.loc[day_str, 'lowest_low'] = df.loc[day_str, 'lowest_low'].shift(1)\n",
    "        df.loc[day_str, 'lowest_low'] = df.loc[day_str, 'lowest_low'].ffill()\n",
    "        df.loc[day_str, 'lowest_low_mag'] = (df.loc[day_str, 'close'] / df.loc[day_str, 'lowest_low']) - 1\n",
    "\n",
    "        # Highest high\n",
    "        df.loc[day_str, 'highest_high'] = df.loc[day_str, 'high'].expanding().max()\n",
    "        df.loc[day_str, 'highest_high'] = df.loc[day_str, 'highest_high'].shift(1)\n",
    "        df.loc[day_str, 'highest_high'] = df.loc[day_str, 'highest_high'].ffill()\n",
    "        df.loc[day_str, 'highest_high_mag'] = (df.loc[day_str, 'close'] / df.loc[day_str, 'highest_high']) - 1\n",
    "\n",
    "        # Shifted\n",
    "        df.loc[day_str, 'prev_close_pct_n1'] = df.loc[day_str, 'prev_close_pct'].shift(1)\n",
    "        df.loc[day_str, 'prev_close_pct_n2'] = df.loc[day_str, 'prev_close_pct'].shift(2)\n",
    "        df.loc[day_str, 'prev_close_pct_n3'] = df.loc[day_str, 'prev_close_pct'].shift(3)\n",
    "\n",
    "        df.loc[day_str, 'day_open_pct_n1'] = df.loc[day_str, 'day_open_pct'].shift(1)\n",
    "        df.loc[day_str, 'day_open_pct_n2'] = df.loc[day_str, 'day_open_pct'].shift(2)\n",
    "        df.loc[day_str, 'day_open_pct_n3'] = df.loc[day_str, 'day_open_pct'].shift(3)\n",
    "\n",
    "        # New Features\n",
    "        df.loc[day_str, 'open_slope'] = df.loc[day_str, 'day_open_pct'] / df.loc[day_str, 'bar_num']\n",
    "        df.loc[day_str, 'daily_slope'] = df.loc[day_str, 'prev_close_pct'] / df.loc[day_str, 'bar_num']\n",
    "\n",
    "        df.loc[day_str, 'highest_high_slope'] = (df.loc[day_str, 'close'] - df.loc[day_str, 'highest_high']) / df.loc[day_str, 'bar_num']\n",
    "        df.loc[day_str, 'lowest_low_slope'] = (df.loc[day_str, 'close'] - df.loc[day_str, 'lowest_low']) / df.loc[day_str, 'bar_num']\n",
    "    \n",
    "        \n",
    "    df['gap_open'] = df['day_open'] - df['prev_close']\n",
    "    df['gap_open_pct'] = df['gap_open'] / df['prev_close']\n",
    "    df = df.dropna(subset=[\n",
    "        'prev_close_pct',\n",
    "        'gap_open_pct',\n",
    "        'day_open_pct_n3',\n",
    "        'prev_close_pct_n3'\n",
    "    ])\n",
    "    df = df.loc[(df['time'] < datetime.time(16,0)) & (df['time'] >= datetime.time(9,45))]\n",
    "    return df"
   ]
  },
  {
   "cell_type": "code",
   "execution_count": 116,
   "metadata": {},
   "outputs": [],
   "source": [
    "import joblib\n",
    "\n",
    "df_feats = create_features(tck)"
   ]
  },
  {
   "cell_type": "code",
   "execution_count": 117,
   "metadata": {},
   "outputs": [],
   "source": [
    "\n",
    "hod_model1 = joblib.load(ticker_dict[tck]['hod_model'])\n",
    "lod_model1 = joblib.load(ticker_dict[tck]['lod_model'])\n",
    "gd_model1 = joblib.load(ticker_dict[tck]['gd_model'])\n",
    "\n",
    "def create_preds_df(df_feats):\n",
    "    predicted_proba_hod = hod_model1.predict_proba(df_feats)[:,-1]\n",
    "    predicted_proba_lod = lod_model1.predict_proba(df_feats)[:,-1]\n",
    "    predicted_proba_gd = gd_model1.predict_proba(df_feats)[:,-1]\n",
    "    df_viz = df_feats.copy()\n",
    "    df_viz['pred_hod'] = predicted_proba_hod\n",
    "    df_viz['pred_lod'] = predicted_proba_lod\n",
    "    df_viz['pred_gd'] = predicted_proba_gd\n",
    "    return df_viz\n",
    "\n",
    "df_viz = create_preds_df(df_feats)"
   ]
  },
  {
   "cell_type": "code",
   "execution_count": 118,
   "metadata": {},
   "outputs": [],
   "source": [
    "# Create df for visual\n",
    "def create_viz(df_viz, date_str):\n",
    "\n",
    "    df_use = df_viz.loc[date_str:date_str]\n",
    "    \n",
    "    fig = go.Figure(data=[go.Candlestick(x=df_use.index,\n",
    "                open=df_use['open'],\n",
    "                high=df_use['high'],\n",
    "                low=df_use['low'],\n",
    "                close=df_use['close'])])\n",
    "\n",
    "    fig.add_trace(go.Scatter(x=df_use.index, y=df_use['pred_hod'], mode='lines', name='pred_hod', yaxis='y2', line=dict(color='#ff5f5f')))\n",
    "    fig.add_trace(go.Scatter(x=df_use.index, y=df_use['pred_lod'], mode='lines', name='pred_lod', yaxis='y2', line=dict(color='#3399cc')))\n",
    "    fig.add_trace(go.Scatter(x=df_use.index, y=df_use['pred_gd'], mode='lines', name='pred_gd', yaxis='y2', line=dict(color='#9400d3')))\n",
    "\n",
    "\n",
    "    fig.add_shape(\n",
    "        type=\"line\",\n",
    "        x0=df_use.index.min(),\n",
    "        x1=df_use.index.max(),\n",
    "        y0=0.5,\n",
    "        y1=0.5,\n",
    "        yref='y2',\n",
    "        line=dict(\n",
    "            color=\"Red\",\n",
    "            width=1.5,\n",
    "            dash=\"dash\",\n",
    "        )\n",
    "    )\n",
    "\n",
    "    max_high = df_use['high'].max()\n",
    "    max_high_time = df_use['high'].idxmax()\n",
    "\n",
    "    min_low = df_use['low'].min()\n",
    "    min_low_time = df_use['low'].idxmin()\n",
    "\n",
    "    fig.add_annotation(\n",
    "        x=max_high_time,\n",
    "        y=max_high,\n",
    "        text=f\"{str(int(max_high))}\",\n",
    "        showarrow=True,\n",
    "        font=dict(\n",
    "            family=\"Courier New, monospace\",\n",
    "            size=12,\n",
    "            color=\"#ffffff\"\n",
    "        ),\n",
    "        align=\"center\",\n",
    "        arrowhead=2,\n",
    "        arrowsize=1,\n",
    "        arrowwidth=2,\n",
    "        arrowcolor=\"#636363\",\n",
    "        ax=20,\n",
    "        ay=-30,\n",
    "        bordercolor=\"#c7c7c7\",\n",
    "        borderwidth=1,\n",
    "        borderpad=1,\n",
    "        bgcolor=\"#ff5f5f\",\n",
    "        opacity=0.8\n",
    "    )\n",
    "\n",
    "    fig.add_annotation(\n",
    "        x=min_low_time,\n",
    "        y=min_low,\n",
    "        text=f\"{str(int(min_low))}\",\n",
    "        showarrow=True,\n",
    "        font=dict(\n",
    "            family=\"Courier New, monospace\",\n",
    "            size=12,\n",
    "            color=\"#ffffff\"\n",
    "        ),\n",
    "        align=\"center\",\n",
    "        arrowhead=2,\n",
    "        arrowsize=1,\n",
    "        arrowwidth=2,\n",
    "        arrowcolor=\"#636363\",\n",
    "        ax=20,\n",
    "        ay=30,  # Adjust the y offset for the annotation\n",
    "        bordercolor=\"#c7c7c7\",\n",
    "        borderwidth=1,\n",
    "        borderpad=1,\n",
    "        bgcolor=\"#3399cc\",\n",
    "        opacity=0.8\n",
    "    )\n",
    "\n",
    "    fig.update_layout(\n",
    "        template='plotly_dark',\n",
    "        yaxis=dict(\n",
    "            tickformat='.0f'\n",
    "        ),\n",
    "        yaxis2=dict(\n",
    "            overlaying='y',\n",
    "            side='right',\n",
    "            tickformat=\".0%\"\n",
    "        ),\n",
    "        legend=dict(\n",
    "            orientation=\"h\",\n",
    "            yanchor=\"bottom\",\n",
    "            y=1.02,\n",
    "            xanchor=\"right\",\n",
    "            x=1\n",
    "        ),\n",
    "        title='OHLC vs Prediction Over Time',\n",
    "        xaxis_rangeslider_visible=False\n",
    "    )\n",
    "\n",
    "    fig.show()\n",
    "    "
   ]
  },
  {
   "cell_type": "code",
   "execution_count": 119,
   "metadata": {},
   "outputs": [
    {
     "data": {
      "text/html": [
       "<div>\n",
       "<style scoped>\n",
       "    .dataframe tbody tr th:only-of-type {\n",
       "        vertical-align: middle;\n",
       "    }\n",
       "\n",
       "    .dataframe tbody tr th {\n",
       "        vertical-align: top;\n",
       "    }\n",
       "\n",
       "    .dataframe thead th {\n",
       "        text-align: right;\n",
       "    }\n",
       "</style>\n",
       "<table border=\"1\" class=\"dataframe\">\n",
       "  <thead>\n",
       "    <tr style=\"text-align: right;\">\n",
       "      <th></th>\n",
       "      <th>open</th>\n",
       "      <th>high</th>\n",
       "      <th>low</th>\n",
       "      <th>close</th>\n",
       "      <th>time</th>\n",
       "      <th>eod_close</th>\n",
       "      <th>prev_close</th>\n",
       "      <th>green_day</th>\n",
       "      <th>bar_num</th>\n",
       "      <th>eod_close_pts</th>\n",
       "      <th>...</th>\n",
       "      <th>day_open_pct_n3</th>\n",
       "      <th>open_slope</th>\n",
       "      <th>daily_slope</th>\n",
       "      <th>highest_high_slope</th>\n",
       "      <th>lowest_low_slope</th>\n",
       "      <th>gap_open</th>\n",
       "      <th>gap_open_pct</th>\n",
       "      <th>pred_hod</th>\n",
       "      <th>pred_lod</th>\n",
       "      <th>pred_gd</th>\n",
       "    </tr>\n",
       "    <tr>\n",
       "      <th>Datetime</th>\n",
       "      <th></th>\n",
       "      <th></th>\n",
       "      <th></th>\n",
       "      <th></th>\n",
       "      <th></th>\n",
       "      <th></th>\n",
       "      <th></th>\n",
       "      <th></th>\n",
       "      <th></th>\n",
       "      <th></th>\n",
       "      <th></th>\n",
       "      <th></th>\n",
       "      <th></th>\n",
       "      <th></th>\n",
       "      <th></th>\n",
       "      <th></th>\n",
       "      <th></th>\n",
       "      <th></th>\n",
       "      <th></th>\n",
       "      <th></th>\n",
       "      <th></th>\n",
       "    </tr>\n",
       "  </thead>\n",
       "  <tbody>\n",
       "    <tr>\n",
       "      <th>2024-01-16 09:45:00-05:00</th>\n",
       "      <td>4757.890137</td>\n",
       "      <td>4758.089844</td>\n",
       "      <td>4754.439941</td>\n",
       "      <td>4755.049805</td>\n",
       "      <td>09:45:00</td>\n",
       "      <td>4765.180176</td>\n",
       "      <td>4783.140137</td>\n",
       "      <td>False</td>\n",
       "      <td>4</td>\n",
       "      <td>-17.959961</td>\n",
       "      <td>...</td>\n",
       "      <td>-0.000985</td>\n",
       "      <td>-0.000906</td>\n",
       "      <td>-0.001468</td>\n",
       "      <td>-4.325073</td>\n",
       "      <td>-0.435059</td>\n",
       "      <td>-10.790039</td>\n",
       "      <td>-0.002256</td>\n",
       "      <td>0.468567</td>\n",
       "      <td>0.053436</td>\n",
       "      <td>0.159101</td>\n",
       "    </tr>\n",
       "    <tr>\n",
       "      <th>2024-01-16 09:50:00-05:00</th>\n",
       "      <td>4755.069824</td>\n",
       "      <td>4756.089844</td>\n",
       "      <td>4751.879883</td>\n",
       "      <td>4755.319824</td>\n",
       "      <td>09:50:00</td>\n",
       "      <td>4765.180176</td>\n",
       "      <td>4783.140137</td>\n",
       "      <td>False</td>\n",
       "      <td>5</td>\n",
       "      <td>-17.959961</td>\n",
       "      <td>...</td>\n",
       "      <td>-0.001940</td>\n",
       "      <td>-0.000714</td>\n",
       "      <td>-0.001163</td>\n",
       "      <td>-3.406055</td>\n",
       "      <td>0.175977</td>\n",
       "      <td>-10.790039</td>\n",
       "      <td>-0.002256</td>\n",
       "      <td>0.422292</td>\n",
       "      <td>0.091620</td>\n",
       "      <td>0.165617</td>\n",
       "    </tr>\n",
       "    <tr>\n",
       "      <th>2024-01-16 09:55:00-05:00</th>\n",
       "      <td>4755.299805</td>\n",
       "      <td>4762.000000</td>\n",
       "      <td>4755.299805</td>\n",
       "      <td>4761.810059</td>\n",
       "      <td>09:55:00</td>\n",
       "      <td>4765.180176</td>\n",
       "      <td>4783.140137</td>\n",
       "      <td>False</td>\n",
       "      <td>6</td>\n",
       "      <td>-17.959961</td>\n",
       "      <td>...</td>\n",
       "      <td>-0.002944</td>\n",
       "      <td>-0.000368</td>\n",
       "      <td>-0.000743</td>\n",
       "      <td>-1.756673</td>\n",
       "      <td>1.655029</td>\n",
       "      <td>-10.790039</td>\n",
       "      <td>-0.002256</td>\n",
       "      <td>0.224960</td>\n",
       "      <td>0.213422</td>\n",
       "      <td>0.220280</td>\n",
       "    </tr>\n",
       "    <tr>\n",
       "      <th>2024-01-16 10:00:00-05:00</th>\n",
       "      <td>4762.189941</td>\n",
       "      <td>4764.600098</td>\n",
       "      <td>4759.430176</td>\n",
       "      <td>4759.430176</td>\n",
       "      <td>10:00:00</td>\n",
       "      <td>4765.180176</td>\n",
       "      <td>4783.140137</td>\n",
       "      <td>False</td>\n",
       "      <td>7</td>\n",
       "      <td>-17.959961</td>\n",
       "      <td>...</td>\n",
       "      <td>-0.003625</td>\n",
       "      <td>-0.000387</td>\n",
       "      <td>-0.000708</td>\n",
       "      <td>-1.845703</td>\n",
       "      <td>1.078613</td>\n",
       "      <td>-10.790039</td>\n",
       "      <td>-0.002256</td>\n",
       "      <td>0.292262</td>\n",
       "      <td>0.193655</td>\n",
       "      <td>0.208235</td>\n",
       "    </tr>\n",
       "    <tr>\n",
       "      <th>2024-01-16 10:05:00-05:00</th>\n",
       "      <td>4759.479980</td>\n",
       "      <td>4763.720215</td>\n",
       "      <td>4758.470215</td>\n",
       "      <td>4763.720215</td>\n",
       "      <td>10:05:00</td>\n",
       "      <td>4765.180176</td>\n",
       "      <td>4783.140137</td>\n",
       "      <td>False</td>\n",
       "      <td>8</td>\n",
       "      <td>-17.959961</td>\n",
       "      <td>...</td>\n",
       "      <td>-0.003569</td>\n",
       "      <td>-0.000226</td>\n",
       "      <td>-0.000508</td>\n",
       "      <td>-1.078735</td>\n",
       "      <td>1.480042</td>\n",
       "      <td>-10.790039</td>\n",
       "      <td>-0.002256</td>\n",
       "      <td>0.221761</td>\n",
       "      <td>0.317072</td>\n",
       "      <td>0.240472</td>\n",
       "    </tr>\n",
       "    <tr>\n",
       "      <th>...</th>\n",
       "      <td>...</td>\n",
       "      <td>...</td>\n",
       "      <td>...</td>\n",
       "      <td>...</td>\n",
       "      <td>...</td>\n",
       "      <td>...</td>\n",
       "      <td>...</td>\n",
       "      <td>...</td>\n",
       "      <td>...</td>\n",
       "      <td>...</td>\n",
       "      <td>...</td>\n",
       "      <td>...</td>\n",
       "      <td>...</td>\n",
       "      <td>...</td>\n",
       "      <td>...</td>\n",
       "      <td>...</td>\n",
       "      <td>...</td>\n",
       "      <td>...</td>\n",
       "      <td>...</td>\n",
       "      <td>...</td>\n",
       "      <td>...</td>\n",
       "    </tr>\n",
       "    <tr>\n",
       "      <th>2024-01-19 15:35:00-05:00</th>\n",
       "      <td>4838.100098</td>\n",
       "      <td>4839.359863</td>\n",
       "      <td>4836.589844</td>\n",
       "      <td>4836.700195</td>\n",
       "      <td>15:35:00</td>\n",
       "      <td>4838.959961</td>\n",
       "      <td>4780.529785</td>\n",
       "      <td>True</td>\n",
       "      <td>74</td>\n",
       "      <td>58.430176</td>\n",
       "      <td>...</td>\n",
       "      <td>0.008004</td>\n",
       "      <td>0.000114</td>\n",
       "      <td>0.000159</td>\n",
       "      <td>-0.072563</td>\n",
       "      <td>0.686893</td>\n",
       "      <td>15.750000</td>\n",
       "      <td>0.003295</td>\n",
       "      <td>0.605981</td>\n",
       "      <td>0.982132</td>\n",
       "      <td>0.986027</td>\n",
       "    </tr>\n",
       "    <tr>\n",
       "      <th>2024-01-19 15:40:00-05:00</th>\n",
       "      <td>4836.720215</td>\n",
       "      <td>4837.799805</td>\n",
       "      <td>4834.939941</td>\n",
       "      <td>4834.939941</td>\n",
       "      <td>15:40:00</td>\n",
       "      <td>4838.959961</td>\n",
       "      <td>4780.529785</td>\n",
       "      <td>True</td>\n",
       "      <td>75</td>\n",
       "      <td>58.430176</td>\n",
       "      <td>...</td>\n",
       "      <td>0.008486</td>\n",
       "      <td>0.000107</td>\n",
       "      <td>0.000152</td>\n",
       "      <td>-0.095065</td>\n",
       "      <td>0.654264</td>\n",
       "      <td>15.750000</td>\n",
       "      <td>0.003295</td>\n",
       "      <td>0.792368</td>\n",
       "      <td>0.979514</td>\n",
       "      <td>0.983834</td>\n",
       "    </tr>\n",
       "    <tr>\n",
       "      <th>2024-01-19 15:45:00-05:00</th>\n",
       "      <td>4834.890137</td>\n",
       "      <td>4837.660156</td>\n",
       "      <td>4834.609863</td>\n",
       "      <td>4837.060059</td>\n",
       "      <td>15:45:00</td>\n",
       "      <td>4838.959961</td>\n",
       "      <td>4780.529785</td>\n",
       "      <td>True</td>\n",
       "      <td>76</td>\n",
       "      <td>58.430176</td>\n",
       "      <td>...</td>\n",
       "      <td>0.008715</td>\n",
       "      <td>0.000112</td>\n",
       "      <td>0.000156</td>\n",
       "      <td>-0.065918</td>\n",
       "      <td>0.673552</td>\n",
       "      <td>15.750000</td>\n",
       "      <td>0.003295</td>\n",
       "      <td>0.699854</td>\n",
       "      <td>0.984745</td>\n",
       "      <td>0.987193</td>\n",
       "    </tr>\n",
       "    <tr>\n",
       "      <th>2024-01-19 15:50:00-05:00</th>\n",
       "      <td>4837.109863</td>\n",
       "      <td>4839.470215</td>\n",
       "      <td>4835.740234</td>\n",
       "      <td>4839.470215</td>\n",
       "      <td>15:50:00</td>\n",
       "      <td>4838.959961</td>\n",
       "      <td>4780.529785</td>\n",
       "      <td>True</td>\n",
       "      <td>77</td>\n",
       "      <td>58.430176</td>\n",
       "      <td>...</td>\n",
       "      <td>0.008427</td>\n",
       "      <td>0.000117</td>\n",
       "      <td>0.000160</td>\n",
       "      <td>-0.033761</td>\n",
       "      <td>0.696105</td>\n",
       "      <td>15.750000</td>\n",
       "      <td>0.003295</td>\n",
       "      <td>0.508051</td>\n",
       "      <td>0.996040</td>\n",
       "      <td>0.989705</td>\n",
       "    </tr>\n",
       "    <tr>\n",
       "      <th>2024-01-19 15:55:00-05:00</th>\n",
       "      <td>4839.419922</td>\n",
       "      <td>4840.109863</td>\n",
       "      <td>4836.750000</td>\n",
       "      <td>4838.959961</td>\n",
       "      <td>15:55:00</td>\n",
       "      <td>4838.959961</td>\n",
       "      <td>4780.529785</td>\n",
       "      <td>True</td>\n",
       "      <td>78</td>\n",
       "      <td>58.430176</td>\n",
       "      <td>...</td>\n",
       "      <td>0.008060</td>\n",
       "      <td>0.000114</td>\n",
       "      <td>0.000157</td>\n",
       "      <td>-0.039870</td>\n",
       "      <td>0.680639</td>\n",
       "      <td>15.750000</td>\n",
       "      <td>0.003295</td>\n",
       "      <td>0.991813</td>\n",
       "      <td>0.996416</td>\n",
       "      <td>0.990592</td>\n",
       "    </tr>\n",
       "  </tbody>\n",
       "</table>\n",
       "<p>300 rows × 39 columns</p>\n",
       "</div>"
      ],
      "text/plain": [
       "                                  open         high          low        close  \\\n",
       "Datetime                                                                        \n",
       "2024-01-16 09:45:00-05:00  4757.890137  4758.089844  4754.439941  4755.049805   \n",
       "2024-01-16 09:50:00-05:00  4755.069824  4756.089844  4751.879883  4755.319824   \n",
       "2024-01-16 09:55:00-05:00  4755.299805  4762.000000  4755.299805  4761.810059   \n",
       "2024-01-16 10:00:00-05:00  4762.189941  4764.600098  4759.430176  4759.430176   \n",
       "2024-01-16 10:05:00-05:00  4759.479980  4763.720215  4758.470215  4763.720215   \n",
       "...                                ...          ...          ...          ...   \n",
       "2024-01-19 15:35:00-05:00  4838.100098  4839.359863  4836.589844  4836.700195   \n",
       "2024-01-19 15:40:00-05:00  4836.720215  4837.799805  4834.939941  4834.939941   \n",
       "2024-01-19 15:45:00-05:00  4834.890137  4837.660156  4834.609863  4837.060059   \n",
       "2024-01-19 15:50:00-05:00  4837.109863  4839.470215  4835.740234  4839.470215   \n",
       "2024-01-19 15:55:00-05:00  4839.419922  4840.109863  4836.750000  4838.959961   \n",
       "\n",
       "                               time    eod_close   prev_close  green_day  \\\n",
       "Datetime                                                                   \n",
       "2024-01-16 09:45:00-05:00  09:45:00  4765.180176  4783.140137      False   \n",
       "2024-01-16 09:50:00-05:00  09:50:00  4765.180176  4783.140137      False   \n",
       "2024-01-16 09:55:00-05:00  09:55:00  4765.180176  4783.140137      False   \n",
       "2024-01-16 10:00:00-05:00  10:00:00  4765.180176  4783.140137      False   \n",
       "2024-01-16 10:05:00-05:00  10:05:00  4765.180176  4783.140137      False   \n",
       "...                             ...          ...          ...        ...   \n",
       "2024-01-19 15:35:00-05:00  15:35:00  4838.959961  4780.529785       True   \n",
       "2024-01-19 15:40:00-05:00  15:40:00  4838.959961  4780.529785       True   \n",
       "2024-01-19 15:45:00-05:00  15:45:00  4838.959961  4780.529785       True   \n",
       "2024-01-19 15:50:00-05:00  15:50:00  4838.959961  4780.529785       True   \n",
       "2024-01-19 15:55:00-05:00  15:55:00  4838.959961  4780.529785       True   \n",
       "\n",
       "                           bar_num  eod_close_pts  ...  day_open_pct_n3  \\\n",
       "Datetime                                           ...                    \n",
       "2024-01-16 09:45:00-05:00        4     -17.959961  ...        -0.000985   \n",
       "2024-01-16 09:50:00-05:00        5     -17.959961  ...        -0.001940   \n",
       "2024-01-16 09:55:00-05:00        6     -17.959961  ...        -0.002944   \n",
       "2024-01-16 10:00:00-05:00        7     -17.959961  ...        -0.003625   \n",
       "2024-01-16 10:05:00-05:00        8     -17.959961  ...        -0.003569   \n",
       "...                            ...            ...  ...              ...   \n",
       "2024-01-19 15:35:00-05:00       74      58.430176  ...         0.008004   \n",
       "2024-01-19 15:40:00-05:00       75      58.430176  ...         0.008486   \n",
       "2024-01-19 15:45:00-05:00       76      58.430176  ...         0.008715   \n",
       "2024-01-19 15:50:00-05:00       77      58.430176  ...         0.008427   \n",
       "2024-01-19 15:55:00-05:00       78      58.430176  ...         0.008060   \n",
       "\n",
       "                           open_slope  daily_slope  highest_high_slope  \\\n",
       "Datetime                                                                 \n",
       "2024-01-16 09:45:00-05:00   -0.000906    -0.001468           -4.325073   \n",
       "2024-01-16 09:50:00-05:00   -0.000714    -0.001163           -3.406055   \n",
       "2024-01-16 09:55:00-05:00   -0.000368    -0.000743           -1.756673   \n",
       "2024-01-16 10:00:00-05:00   -0.000387    -0.000708           -1.845703   \n",
       "2024-01-16 10:05:00-05:00   -0.000226    -0.000508           -1.078735   \n",
       "...                               ...          ...                 ...   \n",
       "2024-01-19 15:35:00-05:00    0.000114     0.000159           -0.072563   \n",
       "2024-01-19 15:40:00-05:00    0.000107     0.000152           -0.095065   \n",
       "2024-01-19 15:45:00-05:00    0.000112     0.000156           -0.065918   \n",
       "2024-01-19 15:50:00-05:00    0.000117     0.000160           -0.033761   \n",
       "2024-01-19 15:55:00-05:00    0.000114     0.000157           -0.039870   \n",
       "\n",
       "                           lowest_low_slope   gap_open  gap_open_pct  \\\n",
       "Datetime                                                               \n",
       "2024-01-16 09:45:00-05:00         -0.435059 -10.790039     -0.002256   \n",
       "2024-01-16 09:50:00-05:00          0.175977 -10.790039     -0.002256   \n",
       "2024-01-16 09:55:00-05:00          1.655029 -10.790039     -0.002256   \n",
       "2024-01-16 10:00:00-05:00          1.078613 -10.790039     -0.002256   \n",
       "2024-01-16 10:05:00-05:00          1.480042 -10.790039     -0.002256   \n",
       "...                                     ...        ...           ...   \n",
       "2024-01-19 15:35:00-05:00          0.686893  15.750000      0.003295   \n",
       "2024-01-19 15:40:00-05:00          0.654264  15.750000      0.003295   \n",
       "2024-01-19 15:45:00-05:00          0.673552  15.750000      0.003295   \n",
       "2024-01-19 15:50:00-05:00          0.696105  15.750000      0.003295   \n",
       "2024-01-19 15:55:00-05:00          0.680639  15.750000      0.003295   \n",
       "\n",
       "                           pred_hod  pred_lod   pred_gd  \n",
       "Datetime                                                 \n",
       "2024-01-16 09:45:00-05:00  0.468567  0.053436  0.159101  \n",
       "2024-01-16 09:50:00-05:00  0.422292  0.091620  0.165617  \n",
       "2024-01-16 09:55:00-05:00  0.224960  0.213422  0.220280  \n",
       "2024-01-16 10:00:00-05:00  0.292262  0.193655  0.208235  \n",
       "2024-01-16 10:05:00-05:00  0.221761  0.317072  0.240472  \n",
       "...                             ...       ...       ...  \n",
       "2024-01-19 15:35:00-05:00  0.605981  0.982132  0.986027  \n",
       "2024-01-19 15:40:00-05:00  0.792368  0.979514  0.983834  \n",
       "2024-01-19 15:45:00-05:00  0.699854  0.984745  0.987193  \n",
       "2024-01-19 15:50:00-05:00  0.508051  0.996040  0.989705  \n",
       "2024-01-19 15:55:00-05:00  0.991813  0.996416  0.990592  \n",
       "\n",
       "[300 rows x 39 columns]"
      ]
     },
     "execution_count": 119,
     "metadata": {},
     "output_type": "execute_result"
    }
   ],
   "source": [
    "df_viz"
   ]
  },
  {
   "cell_type": "code",
   "execution_count": 120,
   "metadata": {},
   "outputs": [
    {
     "ename": "ValueError",
     "evalue": "attempt to get argmax of an empty sequence",
     "output_type": "error",
     "traceback": [
      "\u001b[1;31m---------------------------------------------------------------------------\u001b[0m",
      "\u001b[1;31mValueError\u001b[0m                                Traceback (most recent call last)",
      "\u001b[1;32md:\\Projects\\session-extrema-model\\model_dev.ipynb Cell 73\u001b[0m line \u001b[0;36m1\n\u001b[1;32m----> <a href='vscode-notebook-cell:/d%3A/Projects/session-extrema-model/model_dev.ipynb#Y132sZmlsZQ%3D%3D?line=0'>1</a>\u001b[0m create_viz(df_viz, \u001b[39m'\u001b[39;49m\u001b[39m2024-01-10\u001b[39;49m\u001b[39m'\u001b[39;49m)\n",
      "\u001b[1;32md:\\Projects\\session-extrema-model\\model_dev.ipynb Cell 73\u001b[0m line \u001b[0;36m3\n\u001b[0;32m     <a href='vscode-notebook-cell:/d%3A/Projects/session-extrema-model/model_dev.ipynb#Y132sZmlsZQ%3D%3D?line=16'>17</a>\u001b[0m fig\u001b[39m.\u001b[39madd_shape(\n\u001b[0;32m     <a href='vscode-notebook-cell:/d%3A/Projects/session-extrema-model/model_dev.ipynb#Y132sZmlsZQ%3D%3D?line=17'>18</a>\u001b[0m     \u001b[39mtype\u001b[39m\u001b[39m=\u001b[39m\u001b[39m\"\u001b[39m\u001b[39mline\u001b[39m\u001b[39m\"\u001b[39m,\n\u001b[0;32m     <a href='vscode-notebook-cell:/d%3A/Projects/session-extrema-model/model_dev.ipynb#Y132sZmlsZQ%3D%3D?line=18'>19</a>\u001b[0m     x0\u001b[39m=\u001b[39mdf_use\u001b[39m.\u001b[39mindex\u001b[39m.\u001b[39mmin(),\n\u001b[1;32m   (...)\u001b[0m\n\u001b[0;32m     <a href='vscode-notebook-cell:/d%3A/Projects/session-extrema-model/model_dev.ipynb#Y132sZmlsZQ%3D%3D?line=27'>28</a>\u001b[0m     )\n\u001b[0;32m     <a href='vscode-notebook-cell:/d%3A/Projects/session-extrema-model/model_dev.ipynb#Y132sZmlsZQ%3D%3D?line=28'>29</a>\u001b[0m )\n\u001b[0;32m     <a href='vscode-notebook-cell:/d%3A/Projects/session-extrema-model/model_dev.ipynb#Y132sZmlsZQ%3D%3D?line=30'>31</a>\u001b[0m max_high \u001b[39m=\u001b[39m df_use[\u001b[39m'\u001b[39m\u001b[39mhigh\u001b[39m\u001b[39m'\u001b[39m]\u001b[39m.\u001b[39mmax()\n\u001b[1;32m---> <a href='vscode-notebook-cell:/d%3A/Projects/session-extrema-model/model_dev.ipynb#Y132sZmlsZQ%3D%3D?line=31'>32</a>\u001b[0m max_high_time \u001b[39m=\u001b[39m df_use[\u001b[39m'\u001b[39;49m\u001b[39mhigh\u001b[39;49m\u001b[39m'\u001b[39;49m]\u001b[39m.\u001b[39;49midxmax()\n\u001b[0;32m     <a href='vscode-notebook-cell:/d%3A/Projects/session-extrema-model/model_dev.ipynb#Y132sZmlsZQ%3D%3D?line=33'>34</a>\u001b[0m min_low \u001b[39m=\u001b[39m df_use[\u001b[39m'\u001b[39m\u001b[39mlow\u001b[39m\u001b[39m'\u001b[39m]\u001b[39m.\u001b[39mmin()\n\u001b[0;32m     <a href='vscode-notebook-cell:/d%3A/Projects/session-extrema-model/model_dev.ipynb#Y132sZmlsZQ%3D%3D?line=34'>35</a>\u001b[0m min_low_time \u001b[39m=\u001b[39m df_use[\u001b[39m'\u001b[39m\u001b[39mlow\u001b[39m\u001b[39m'\u001b[39m]\u001b[39m.\u001b[39midxmin()\n",
      "File \u001b[1;32md:\\Projects\\session-extrema-model\\.venv\\lib\\site-packages\\pandas\\core\\series.py:2645\u001b[0m, in \u001b[0;36mSeries.idxmax\u001b[1;34m(self, axis, skipna, *args, **kwargs)\u001b[0m\n\u001b[0;32m   2640\u001b[0m \u001b[39mwith\u001b[39;00m warnings\u001b[39m.\u001b[39mcatch_warnings():\n\u001b[0;32m   2641\u001b[0m     \u001b[39m# TODO(3.0): this catching/filtering can be removed\u001b[39;00m\n\u001b[0;32m   2642\u001b[0m     \u001b[39m# ignore warning produced by argmax since we will issue a different\u001b[39;00m\n\u001b[0;32m   2643\u001b[0m     \u001b[39m#  warning for argmax\u001b[39;00m\n\u001b[0;32m   2644\u001b[0m     warnings\u001b[39m.\u001b[39msimplefilter(\u001b[39m\"\u001b[39m\u001b[39mignore\u001b[39m\u001b[39m\"\u001b[39m)\n\u001b[1;32m-> 2645\u001b[0m     i \u001b[39m=\u001b[39m \u001b[39mself\u001b[39m\u001b[39m.\u001b[39margmax(axis, skipna, \u001b[39m*\u001b[39margs, \u001b[39m*\u001b[39m\u001b[39m*\u001b[39mkwargs)\n\u001b[0;32m   2647\u001b[0m \u001b[39mif\u001b[39;00m i \u001b[39m==\u001b[39m \u001b[39m-\u001b[39m\u001b[39m1\u001b[39m:\n\u001b[0;32m   2648\u001b[0m     \u001b[39m# GH#43587 give correct NA value for Index.\u001b[39;00m\n\u001b[0;32m   2649\u001b[0m     warnings\u001b[39m.\u001b[39mwarn(\n\u001b[0;32m   2650\u001b[0m         \u001b[39mf\u001b[39m\u001b[39m\"\u001b[39m\u001b[39mThe behavior of \u001b[39m\u001b[39m{\u001b[39;00m\u001b[39mtype\u001b[39m(\u001b[39mself\u001b[39m)\u001b[39m.\u001b[39m\u001b[39m__name__\u001b[39m\u001b[39m}\u001b[39;00m\u001b[39m.idxmax with all-NA \u001b[39m\u001b[39m\"\u001b[39m\n\u001b[0;32m   2651\u001b[0m         \u001b[39m\"\u001b[39m\u001b[39mvalues, or any-NA and skipna=False, is deprecated. In a future \u001b[39m\u001b[39m\"\u001b[39m\n\u001b[1;32m   (...)\u001b[0m\n\u001b[0;32m   2654\u001b[0m         stacklevel\u001b[39m=\u001b[39mfind_stack_level(),\n\u001b[0;32m   2655\u001b[0m     )\n",
      "File \u001b[1;32md:\\Projects\\session-extrema-model\\.venv\\lib\\site-packages\\pandas\\core\\base.py:751\u001b[0m, in \u001b[0;36mIndexOpsMixin.argmax\u001b[1;34m(self, axis, skipna, *args, **kwargs)\u001b[0m\n\u001b[0;32m    749\u001b[0m         \u001b[39mreturn\u001b[39;00m delegate\u001b[39m.\u001b[39margmax()\n\u001b[0;32m    750\u001b[0m \u001b[39melse\u001b[39;00m:\n\u001b[1;32m--> 751\u001b[0m     result \u001b[39m=\u001b[39m nanops\u001b[39m.\u001b[39;49mnanargmax(delegate, skipna\u001b[39m=\u001b[39;49mskipna)\n\u001b[0;32m    752\u001b[0m     \u001b[39mif\u001b[39;00m result \u001b[39m==\u001b[39m \u001b[39m-\u001b[39m\u001b[39m1\u001b[39m:\n\u001b[0;32m    753\u001b[0m         warnings\u001b[39m.\u001b[39mwarn(\n\u001b[0;32m    754\u001b[0m             \u001b[39mf\u001b[39m\u001b[39m\"\u001b[39m\u001b[39mThe behavior of \u001b[39m\u001b[39m{\u001b[39;00m\u001b[39mtype\u001b[39m(\u001b[39mself\u001b[39m)\u001b[39m.\u001b[39m\u001b[39m__name__\u001b[39m\u001b[39m}\u001b[39;00m\u001b[39m.argmax/argmin \u001b[39m\u001b[39m\"\u001b[39m\n\u001b[0;32m    755\u001b[0m             \u001b[39m\"\u001b[39m\u001b[39mwith skipna=False and NAs, or with all-NAs is deprecated. \u001b[39m\u001b[39m\"\u001b[39m\n\u001b[1;32m   (...)\u001b[0m\n\u001b[0;32m    758\u001b[0m             stacklevel\u001b[39m=\u001b[39mfind_stack_level(),\n\u001b[0;32m    759\u001b[0m         )\n",
      "File \u001b[1;32md:\\Projects\\session-extrema-model\\.venv\\lib\\site-packages\\pandas\\core\\nanops.py:1143\u001b[0m, in \u001b[0;36mnanargmax\u001b[1;34m(values, axis, skipna, mask)\u001b[0m\n\u001b[0;32m   1141\u001b[0m values, mask \u001b[39m=\u001b[39m _get_values(values, \u001b[39mTrue\u001b[39;00m, fill_value_typ\u001b[39m=\u001b[39m\u001b[39m\"\u001b[39m\u001b[39m-inf\u001b[39m\u001b[39m\"\u001b[39m, mask\u001b[39m=\u001b[39mmask)\n\u001b[0;32m   1142\u001b[0m \u001b[39m# error: Need type annotation for 'result'\u001b[39;00m\n\u001b[1;32m-> 1143\u001b[0m result \u001b[39m=\u001b[39m values\u001b[39m.\u001b[39;49margmax(axis)  \u001b[39m# type: ignore[var-annotated]\u001b[39;00m\n\u001b[0;32m   1144\u001b[0m result \u001b[39m=\u001b[39m _maybe_arg_null_out(result, axis, mask, skipna)\n\u001b[0;32m   1145\u001b[0m \u001b[39mreturn\u001b[39;00m result\n",
      "\u001b[1;31mValueError\u001b[0m: attempt to get argmax of an empty sequence"
     ]
    }
   ],
   "source": [
    "create_viz(df_viz, '2024-01-10')"
   ]
  },
  {
   "cell_type": "code",
   "execution_count": null,
   "metadata": {},
   "outputs": [],
   "source": [
    "XXX"
   ]
  },
  {
   "cell_type": "markdown",
   "metadata": {},
   "source": []
  }
 ],
 "metadata": {
  "kernelspec": {
   "display_name": ".venv",
   "language": "python",
   "name": "python3"
  },
  "language_info": {
   "codemirror_mode": {
    "name": "ipython",
    "version": 3
   },
   "file_extension": ".py",
   "mimetype": "text/x-python",
   "name": "python",
   "nbconvert_exporter": "python",
   "pygments_lexer": "ipython3",
   "version": "3.10.11"
  }
 },
 "nbformat": 4,
 "nbformat_minor": 2
}
